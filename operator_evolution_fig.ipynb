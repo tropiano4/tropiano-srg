{
 "cells": [
  {
   "cell_type": "markdown",
   "metadata": {},
   "source": [
    "__File: operator_evolution_fig.ipynb__\n",
    "\n",
    "__Author:   A. J. Tropiano (tropiano.4@osu.edu)__<br/>\n",
    "__Date:     January 7, 2020__\n",
    "\n",
    "This notebook creates figures for _Operator evolution from the similarity renormalization group and the Magnus expansion_. Each function creates and saves a figure to the __Figures/Operator_evolution__ folder or returns value(s) for a calculation. Below is an outline of each function:\n",
    "* potential_contours - Plots contours of an SRG-evolving potential in $\\lambda$.\n",
    "* potential_slices - Plots the diagonal or far off-diagonal matrix elements of an SRG-evolving potential in $\\lambda$.\n",
    "* potential_slices_high_cutoffs - Same as above function but specific to high cutoff non-local LO potentials from Wendt 2011 (kvnn = 900-902).\n",
    "\n",
    "__Revision history:<br/>__\n",
    "* January 7, 2020 - Created by combining several Jupyter notebooks: srg_potentials_fig.ipynb, srg_observables_fig.ipynb, srg_operators_fig.ipynb, and magnus_fig.ipynb."
   ]
  },
  {
   "cell_type": "code",
   "execution_count": null,
   "metadata": {},
   "outputs": [],
   "source": [
    "from os import chdir, getcwd\n",
    "import matplotlib.colors as colors\n",
    "from matplotlib.offsetbox import AnchoredText\n",
    "import matplotlib.pyplot as plt\n",
    "%matplotlib inline\n",
    "import numpy as np\n",
    "from scipy.linalg import expm\n",
    "# Scripts made by A.T.\n",
    "from Figures import figures_functions as ff\n",
    "from Potentials.vsrg_macos import load_save_potentials as lp\n",
    "from SRG_codes.srg_unitary_transformation import SRG_unitary_transformation\n",
    "import observables as ob\n",
    "import operators as op"
   ]
  },
  {
   "cell_type": "markdown",
   "metadata": {},
   "source": [
    "__Plotting functions__"
   ]
  },
  {
   "cell_type": "code",
   "execution_count": null,
   "metadata": {
    "code_folding": [
     0
    ]
   },
   "outputs": [],
   "source": [
    "def potential_slices():\n",
    "    \"\"\"\n",
    "    Description with units. Figure type and dimension (if sub-plots).\n",
    "    \n",
    "    Parameters\n",
    "    ----------\n",
    "    \n",
    "    Saves\n",
    "    -----\n",
    "    file_name : \n",
    "    \n",
    "    \"\"\"\n",
    "    \n",
    "    return None"
   ]
  },
  {
   "cell_type": "code",
   "execution_count": null,
   "metadata": {
    "code_folding": [
     0
    ]
   },
   "outputs": [],
   "source": [
    "def potential_slices_magnus():\n",
    "    \"\"\"\n",
    "    Description with units. Figure type and dimension (if sub-plots).\n",
    "    \n",
    "    Parameters\n",
    "    ----------\n",
    "    \n",
    "    Saves\n",
    "    -----\n",
    "    file_name : \n",
    "    \n",
    "    \"\"\"\n",
    "    \n",
    "    return None"
   ]
  },
  {
   "cell_type": "code",
   "execution_count": null,
   "metadata": {
    "code_folding": [
     0
    ]
   },
   "outputs": [],
   "source": [
    "def bound_states_error():\n",
    "    \"\"\"\n",
    "    Description with units. Figure type and dimension (if sub-plots).\n",
    "    \n",
    "    Parameters\n",
    "    ----------\n",
    "    \n",
    "    Saves\n",
    "    -----\n",
    "    file_name : \n",
    "    \n",
    "    \"\"\"\n",
    "    \n",
    "    return None"
   ]
  },
  {
   "cell_type": "code",
   "execution_count": null,
   "metadata": {
    "code_folding": [
     0
    ]
   },
   "outputs": [],
   "source": [
    "def eigenvalues_rms_error():\n",
    "    \"\"\"\n",
    "    Description with units. Figure type and dimension (if sub-plots).\n",
    "    \n",
    "    Parameters\n",
    "    ----------\n",
    "    \n",
    "    Saves\n",
    "    -----\n",
    "    file_name : \n",
    "    \n",
    "    \"\"\"\n",
    "    \n",
    "    return None"
   ]
  },
  {
   "cell_type": "code",
   "execution_count": null,
   "metadata": {
    "code_folding": [
     0
    ]
   },
   "outputs": [],
   "source": [
    "def potential_contours():\n",
    "    \"\"\"\n",
    "    Description with units. Figure type and dimension (if sub-plots).\n",
    "    \n",
    "    Parameters\n",
    "    ----------\n",
    "    \n",
    "    Saves\n",
    "    -----\n",
    "    file_name : \n",
    "    \n",
    "    \"\"\"\n",
    "    \n",
    "    return None"
   ]
  },
  {
   "cell_type": "code",
   "execution_count": null,
   "metadata": {
    "code_folding": [
     0
    ]
   },
   "outputs": [],
   "source": [
    "def potential_contours_generators():\n",
    "    \"\"\"\n",
    "    Description with units. Figure type and dimension (if sub-plots).\n",
    "    \n",
    "    Parameters\n",
    "    ----------\n",
    "    \n",
    "    Saves\n",
    "    -----\n",
    "    file_name : \n",
    "    \n",
    "    \"\"\"\n",
    "    \n",
    "    return None"
   ]
  },
  {
   "cell_type": "code",
   "execution_count": null,
   "metadata": {
    "code_folding": [
     0
    ]
   },
   "outputs": [],
   "source": [
    "def energies_from_truncated_hamiltonian():\n",
    "    \"\"\"\n",
    "    Description with units. Figure type and dimension (if sub-plots).\n",
    "    \n",
    "    Parameters\n",
    "    ----------\n",
    "    \n",
    "    Saves\n",
    "    -----\n",
    "    file_name : \n",
    "    \n",
    "    \"\"\"\n",
    "    \n",
    "    return None"
   ]
  },
  {
   "cell_type": "code",
   "execution_count": null,
   "metadata": {
    "code_folding": []
   },
   "outputs": [],
   "source": [
    "def phase_shifts():\n",
    "    \"\"\"\n",
    "    Description with units. Figure type and dimension (if sub-plots).\n",
    "    \n",
    "    Parameters\n",
    "    ----------\n",
    "    \n",
    "    Saves\n",
    "    -----\n",
    "    file_name : \n",
    "    \n",
    "    \"\"\"\n",
    "    \n",
    "    # Check that at least one potential was provided\n",
    "    if not potentials: \n",
    "        print('At least one potential must be specified.')\n",
    "        return None\n",
    "    \n",
    "    \n",
    "    # --- Set-up --- #\n",
    "    \n",
    "    # h-bar^2 / M [MeV fm^2]\n",
    "    hbar_sq_over_M = 41.47    \n",
    "\n",
    "    # Coupled-channel?\n",
    "    coupled_channel = lp.coupled_channel(channel) # This is a boolean variable\n",
    "    \n",
    "    # Relative momentum in fm^-1\n",
    "    k_max = 4.0\n",
    "    M = 200 # Number of points in array\n",
    "    k_points = np.linspace(0.01, k_max, M)\n",
    "    # We could also plot phase shifts w.r.t to E_lab but we choose k for comparison to potential matrix elements\n",
    "    # in momentum space\n",
    "    # Conversion to E_lab\n",
    "    e_array = 2.0 * hbar_sq_over_M * k_points**2\n",
    "    \n",
    "    # Figure size for 1 x 1 figure\n",
    "    width = 4\n",
    "    height = 4\n",
    "    figure_size = (width, height) # This gives a square figure\n",
    "    \n",
    "    # x-axis limits\n",
    "    xlim = [0.0, k_max]\n",
    "     \n",
    "    # Labels and fontsize\n",
    "    x_label = 'k [fm' + r'$^{-1}$' + ']'\n",
    "    x_label_size = 4.5*width\n",
    "    y_label = r'$\\delta$' + ' [deg]'\n",
    "    y_label_size = 5*height\n",
    "    legend_label_size = 3.5*width\n",
    "    channel_label = ff.channel_label_conversion(channel)\n",
    "    channel_label_size = 5.5*width\n",
    "    \n",
    "    # Things which depend on the channel: y-axis limits and some label locations\n",
    "    if channel == '1S0':\n",
    "        ylim = [-80.0, 70.0]\n",
    "        legend_label_location = 'lower left'\n",
    "        channel_label_location = 'upper right'\n",
    "    elif channel == '3S1':\n",
    "        ylim = [-40.0, 180.0]\n",
    "        legend_label_location = 'upper right'\n",
    "        channel_label_location = 'lower left'\n",
    "    elif channel == '1P1':\n",
    "        ylim = [-60.0, 10.0]\n",
    "        legend_label_location = 'lower left'\n",
    "        channel_label_location = 'upper center'\n",
    "    else:\n",
    "        ylim = [-40.0, 180.0]\n",
    "        legend_label_location = 'lower left'\n",
    "        channel_label_location = 'upper right'\n",
    "    \n",
    "    # Initialize file name of figure\n",
    "    file_name = 'phase_shifts_%s_' % channel + 'kvnns' # This reads 'phase_shifts_3S1_kvnns_'\n",
    "    \n",
    "    # Current working directory\n",
    "    cwd = getcwd()\n",
    "    \n",
    "    \n",
    "    # --- Load data and plot lines --- #\n",
    "    \n",
    "    # Initialize figure\n",
    "    plt.close('all')\n",
    "    f, ax = plt.subplots(figsize=(4, 4)) \n",
    "    \n",
    "    # Loop over specifications keeping track of the curve number i\n",
    "    i = 0\n",
    "    for potential in potentials:\n",
    "        \n",
    "        # Set kvnn, kmax, and kmid\n",
    "        kvnn = potential[0]\n",
    "        kmax = potential[1]\n",
    "        kmid = potential[2]\n",
    "        ntot = potential[3]\n",
    "        \n",
    "        # Update name of the file (based off kvnn)\n",
    "        file_name += '_' + str(kvnn)\n",
    "        \n",
    "        # Load momentum, weights, and potential\n",
    "        k_array, k_weights = lp.load_momentum(kvnn, channel, kmax, kmid, ntot)\n",
    "        V_matrix = lp.load_potential(kvnn, channel, kmax, kmid, ntot)\n",
    "    \n",
    "        # Calculate phase shifts\n",
    "        # If coupled-channel, use the Stapp convention\n",
    "        if coupled_channel:\n",
    "            phase_shifts_array = ob.coupled_channel_phase_shifts(e_array, V_matrix, k_array, k_weights,\n",
    "                                                                 convention='Stapp')\n",
    "            # Plot only delta_a_array (excludes delta_b and epsilon)\n",
    "            delta_array = phase_shifts_array[:, 0]\n",
    "        else:\n",
    "            delta_array = ob.phase_shifts(e_array, V_matrix, k_array, k_weights)\n",
    "        \n",
    "        # Curve labels and styles\n",
    "        curve_color = ff.xkcd_colors(i) # Color\n",
    "        curve_style = ff.line_styles(i) # Linestyle\n",
    "        curve_label = ff.kvnn_label_conversion(kvnn) # Legend label\n",
    "        \n",
    "        # Add to figure\n",
    "        ax.plot(k_points, delta_array, color=curve_color, linestyle=curve_style, label=curve_label)\n",
    "        \n",
    "        i += 1\n",
    "        \n",
    "        \n",
    "    # --- Set figure specifications and save --- #\n",
    "\n",
    "    # Specify axes limits\n",
    "    ax.set_xlim(xlim)\n",
    "    ax.set_ylim(ylim)\n",
    "    # Set axes labels\n",
    "    ax.set_xlabel(x_label, fontsize=x_label_size)\n",
    "    ax.set_ylabel(y_label, fontsize=y_label_size)\n",
    "    # Add legend\n",
    "    ax.legend(loc=legend_label_location, frameon=False, fontsize=legend_label_size)\n",
    "    # Add channel as anchored text\n",
    "    anchored_text = AnchoredText(channel_label, prop=dict(size=channel_label_size), loc=channel_label_location,\n",
    "                                 frameon=False)\n",
    "    ax.add_artist(anchored_text)\n",
    "    \n",
    "    # Save figure\n",
    "    chdir('Figures/SRG_observables')\n",
    "    f.savefig(file_name+'.pdf', bbox_inches='tight')\n",
    "    chdir(cwd)"
   ]
  },
  {
   "cell_type": "code",
   "execution_count": null,
   "metadata": {
    "code_folding": [
     0
    ]
   },
   "outputs": [],
   "source": [
    "def momentum_projection_contours():\n",
    "    \"\"\"\n",
    "    Description with units. Figure type and dimension (if sub-plots).\n",
    "    \n",
    "    Parameters\n",
    "    ----------\n",
    "    \n",
    "    Saves\n",
    "    -----\n",
    "    file_name : \n",
    "    \n",
    "    \"\"\"\n",
    "    \n",
    "    return None"
   ]
  },
  {
   "cell_type": "code",
   "execution_count": null,
   "metadata": {
    "code_folding": [
     0
    ]
   },
   "outputs": [],
   "source": [
    "def deuteron_momentum_distribution():\n",
    "    \"\"\"\n",
    "    Description with units. Figure type and dimension (if sub-plots).\n",
    "    \n",
    "    Parameters\n",
    "    ----------\n",
    "    \n",
    "    Saves\n",
    "    -----\n",
    "    file_name : \n",
    "    \n",
    "    \"\"\"\n",
    "    \n",
    "    return None"
   ]
  },
  {
   "cell_type": "code",
   "execution_count": null,
   "metadata": {
    "code_folding": [
     0
    ]
   },
   "outputs": [],
   "source": [
    "def continuum_state_momentum_distribution():\n",
    "    \"\"\"\n",
    "    Description with units. Figure type and dimension (if sub-plots).\n",
    "    \n",
    "    Parameters\n",
    "    ----------\n",
    "    \n",
    "    Saves\n",
    "    -----\n",
    "    file_name : \n",
    "    \n",
    "    \"\"\"\n",
    "    \n",
    "    return None"
   ]
  },
  {
   "cell_type": "code",
   "execution_count": null,
   "metadata": {
    "code_folding": [
     0
    ]
   },
   "outputs": [],
   "source": [
    "def momentum_projection_integrand_contours():\n",
    "    \"\"\"\n",
    "    Description with units. Figure type and dimension (if sub-plots).\n",
    "    \n",
    "    Parameters\n",
    "    ----------\n",
    "    \n",
    "    Saves\n",
    "    -----\n",
    "    file_name : \n",
    "    \n",
    "    \"\"\"\n",
    "    \n",
    "    return None"
   ]
  },
  {
   "cell_type": "code",
   "execution_count": null,
   "metadata": {
    "code_folding": [
     0
    ]
   },
   "outputs": [],
   "source": [
    "def momentum_projection_slices():\n",
    "    \"\"\"\n",
    "    Description with units. Figure type and dimension (if sub-plots).\n",
    "    \n",
    "    Parameters\n",
    "    ----------\n",
    "    \n",
    "    Saves\n",
    "    -----\n",
    "    file_name : \n",
    "    \n",
    "    \"\"\"\n",
    "    \n",
    "    return None"
   ]
  },
  {
   "cell_type": "code",
   "execution_count": null,
   "metadata": {
    "code_folding": [
     0
    ]
   },
   "outputs": [],
   "source": [
    "def r2_contours():\n",
    "    \"\"\"\n",
    "    Description with units. Figure type and dimension (if sub-plots).\n",
    "    \n",
    "    Parameters\n",
    "    ----------\n",
    "    \n",
    "    Saves\n",
    "    -----\n",
    "    file_name : \n",
    "    \n",
    "    \"\"\"\n",
    "    \n",
    "    return None"
   ]
  },
  {
   "cell_type": "code",
   "execution_count": null,
   "metadata": {
    "code_folding": [
     0
    ]
   },
   "outputs": [],
   "source": [
    "def unitary_transformation_contours():\n",
    "    \"\"\"\n",
    "    Description with units. Figure type and dimension (if sub-plots).\n",
    "    \n",
    "    Parameters\n",
    "    ----------\n",
    "    \n",
    "    Saves\n",
    "    -----\n",
    "    file_name : \n",
    "    \n",
    "    \"\"\"\n",
    "    \n",
    "    return None"
   ]
  },
  {
   "cell_type": "code",
   "execution_count": null,
   "metadata": {
    "code_folding": [
     0
    ]
   },
   "outputs": [],
   "source": [
    "def unitary_transformation_contours_logscale():\n",
    "    \"\"\"\n",
    "    Description with units. Figure type and dimension (if sub-plots).\n",
    "    \n",
    "    Parameters\n",
    "    ----------\n",
    "    \n",
    "    Saves\n",
    "    -----\n",
    "    file_name : \n",
    "    \n",
    "    \"\"\"\n",
    "    \n",
    "    return None"
   ]
  },
  {
   "cell_type": "markdown",
   "metadata": {},
   "source": [
    "__Generate figures/numbers by running functions in the cells below:__"
   ]
  },
  {
   "cell_type": "code",
   "execution_count": null,
   "metadata": {},
   "outputs": [],
   "source": []
  },
  {
   "cell_type": "code",
   "execution_count": null,
   "metadata": {},
   "outputs": [],
   "source": []
  }
 ],
 "metadata": {
  "kernelspec": {
   "display_name": "Python 3",
   "language": "python",
   "name": "python3"
  },
  "language_info": {
   "codemirror_mode": {
    "name": "ipython",
    "version": 3
   },
   "file_extension": ".py",
   "mimetype": "text/x-python",
   "name": "python",
   "nbconvert_exporter": "python",
   "pygments_lexer": "ipython3",
   "version": "3.7.4"
  }
 },
 "nbformat": 4,
 "nbformat_minor": 2
}

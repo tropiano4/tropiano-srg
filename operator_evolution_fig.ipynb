{
 "cells": [
  {
   "cell_type": "markdown",
   "metadata": {},
   "source": [
    "__File: operator_evolution_fig.ipynb__\n",
    "\n",
    "__Author:   A. J. Tropiano (tropiano.4@osu.edu)__<br/>\n",
    "__Date:     January 7, 2020__\n",
    "\n",
    "This notebook creates figures for _Operator evolution from the similarity renormalization group and the Magnus expansion_. Each function creates and saves a figure to the __Figures/Operator_evolution__ folder or returns value(s) for a calculation. Below is an outline of each function:\n",
    "* potential_contours - Plots contours of an SRG-evolving potential in $\\lambda$.\n",
    "* potential_slices - Plots the diagonal or far off-diagonal matrix elements of an SRG-evolving potential in $\\lambda$.\n",
    "* potential_slices_high_cutoffs - Same as above function but specific to high cutoff non-local LO potentials from Wendt 2011 (kvnn = 900-902).\n",
    "\n",
    "__Revision history:<br/>__\n",
    "* January 7, 2020 - Created by combining several Jupyter notebooks: srg_potentials_fig.ipynb, srg_observables_fig.ipynb, srg_operators_fig.ipynb, and magnus_fig.ipynb."
   ]
  },
  {
   "cell_type": "code",
   "execution_count": null,
   "metadata": {},
   "outputs": [],
   "source": [
    "from os import chdir, getcwd\n",
    "import matplotlib.colors as colors\n",
    "from matplotlib.offsetbox import AnchoredText\n",
    "import matplotlib.pyplot as plt\n",
    "%matplotlib inline\n",
    "import numpy as np\n",
    "from scipy.linalg import expm\n",
    "# Scripts made by A.T.\n",
    "from Figures import figures_functions as ff\n",
    "from Potentials.vsrg_macos import load_save_potentials as lp\n",
    "from SRG_codes.srg_unitary_transformation import SRG_unitary_transformation\n",
    "import observables as ob\n",
    "import operators as op"
   ]
  },
  {
   "cell_type": "markdown",
   "metadata": {},
   "source": [
    "__Plotting functions__"
   ]
  },
  {
   "cell_type": "code",
   "execution_count": null,
   "metadata": {
    "code_folding": [
     0
    ]
   },
   "outputs": [],
   "source": [
    "def potential_slices():\n",
    "    \"\"\"\n",
    "    Description with units. Figure type and dimension (if sub-plots).\n",
    "    \n",
    "    Parameters\n",
    "    ----------\n",
    "    \n",
    "    Saves\n",
    "    -----\n",
    "    file_name : \n",
    "    \n",
    "    \"\"\"\n",
    "    \n",
    "    return None"
   ]
  },
  {
   "cell_type": "code",
   "execution_count": null,
   "metadata": {
    "code_folding": [
     0
    ]
   },
   "outputs": [],
   "source": [
    "def potential_slices_magnus():\n",
    "    \"\"\"\n",
    "    Description with units. Figure type and dimension (if sub-plots).\n",
    "    \n",
    "    Parameters\n",
    "    ----------\n",
    "    \n",
    "    Saves\n",
    "    -----\n",
    "    file_name : \n",
    "    \n",
    "    \"\"\"\n",
    "    \n",
    "    return None"
   ]
  },
  {
   "cell_type": "code",
   "execution_count": null,
   "metadata": {
    "code_folding": [
     0
    ]
   },
   "outputs": [],
   "source": [
    "def bound_states_error():\n",
    "    \"\"\"\n",
    "    Description with units. Figure type and dimension (if sub-plots).\n",
    "    \n",
    "    Parameters\n",
    "    ----------\n",
    "    \n",
    "    Saves\n",
    "    -----\n",
    "    file_name : \n",
    "    \n",
    "    \"\"\"\n",
    "    \n",
    "    return None"
   ]
  },
  {
   "cell_type": "code",
   "execution_count": null,
   "metadata": {
    "code_folding": [
     0
    ]
   },
   "outputs": [],
   "source": [
    "def eigenvalues_rms_error():\n",
    "    \"\"\"\n",
    "    Description with units. Figure type and dimension (if sub-plots).\n",
    "    \n",
    "    Parameters\n",
    "    ----------\n",
    "    \n",
    "    Saves\n",
    "    -----\n",
    "    file_name : \n",
    "    \n",
    "    \"\"\"\n",
    "    \n",
    "    return None"
   ]
  },
  {
   "cell_type": "code",
   "execution_count": null,
   "metadata": {
    "code_folding": [
     0
    ]
   },
   "outputs": [],
   "source": [
    "def potential_contours():\n",
    "    \"\"\"\n",
    "    Description with units. Figure type and dimension (if sub-plots).\n",
    "    \n",
    "    Parameters\n",
    "    ----------\n",
    "    \n",
    "    Saves\n",
    "    -----\n",
    "    file_name : \n",
    "    \n",
    "    \"\"\"\n",
    "    \n",
    "    return None"
   ]
  },
  {
   "cell_type": "code",
   "execution_count": null,
   "metadata": {
    "code_folding": [
     0
    ]
   },
   "outputs": [],
   "source": [
    "def potential_contours_generators():\n",
    "    \"\"\"\n",
    "    Description with units. Figure type and dimension (if sub-plots).\n",
    "    \n",
    "    Parameters\n",
    "    ----------\n",
    "    \n",
    "    Saves\n",
    "    -----\n",
    "    file_name : \n",
    "    \n",
    "    \"\"\"\n",
    "    \n",
    "    return None"
   ]
  },
  {
   "cell_type": "code",
   "execution_count": null,
   "metadata": {
    "code_folding": [
     0
    ]
   },
   "outputs": [],
   "source": [
    "def energies_from_truncated_hamiltonian():\n",
    "    \"\"\"\n",
    "    Description with units. Figure type and dimension (if sub-plots).\n",
    "    \n",
    "    Parameters\n",
    "    ----------\n",
    "    \n",
    "    Saves\n",
    "    -----\n",
    "    file_name : \n",
    "    \n",
    "    \"\"\"\n",
    "    \n",
    "    return None"
   ]
  },
  {
   "cell_type": "code",
   "execution_count": null,
   "metadata": {
    "code_folding": [
     0
    ]
   },
   "outputs": [],
   "source": [
    "def phase_shifts():\n",
    "    \"\"\"\n",
    "    Description with units. Figure type and dimension (if sub-plots).\n",
    "    \n",
    "    Parameters\n",
    "    ----------\n",
    "    \n",
    "    Saves\n",
    "    -----\n",
    "    file_name : \n",
    "    \n",
    "    \"\"\"\n",
    "    \n",
    "    return None"
   ]
  },
  {
   "cell_type": "code",
   "execution_count": null,
   "metadata": {
    "code_folding": [
     0
    ]
   },
   "outputs": [],
   "source": [
    "def momentum_projection_contours():\n",
    "    \"\"\"\n",
    "    Description with units. Figure type and dimension (if sub-plots).\n",
    "    \n",
    "    Parameters\n",
    "    ----------\n",
    "    \n",
    "    Saves\n",
    "    -----\n",
    "    file_name : \n",
    "    \n",
    "    \"\"\"\n",
    "    \n",
    "    return None"
   ]
  },
  {
   "cell_type": "code",
   "execution_count": null,
   "metadata": {
    "code_folding": [
     0
    ]
   },
   "outputs": [],
   "source": [
    "def deuteron_momentum_distribution():\n",
    "    \"\"\"\n",
    "    Description with units. Figure type and dimension (if sub-plots).\n",
    "    \n",
    "    Parameters\n",
    "    ----------\n",
    "    \n",
    "    Saves\n",
    "    -----\n",
    "    file_name : \n",
    "    \n",
    "    \"\"\"\n",
    "    \n",
    "    return None"
   ]
  },
  {
   "cell_type": "code",
   "execution_count": null,
   "metadata": {
    "code_folding": [
     0
    ]
   },
   "outputs": [],
   "source": [
    "def continuum_state_momentum_distribution():\n",
    "    \"\"\"\n",
    "    Description with units. Figure type and dimension (if sub-plots).\n",
    "    \n",
    "    Parameters\n",
    "    ----------\n",
    "    \n",
    "    Saves\n",
    "    -----\n",
    "    file_name : \n",
    "    \n",
    "    \"\"\"\n",
    "    \n",
    "    return None"
   ]
  },
  {
   "cell_type": "code",
   "execution_count": null,
   "metadata": {
    "code_folding": [
     0
    ]
   },
   "outputs": [],
   "source": [
    "def momentum_projection_integrand_contours():\n",
    "    \"\"\"\n",
    "    Description with units. Figure type and dimension (if sub-plots).\n",
    "    \n",
    "    Parameters\n",
    "    ----------\n",
    "    \n",
    "    Saves\n",
    "    -----\n",
    "    file_name : \n",
    "    \n",
    "    \"\"\"\n",
    "    \n",
    "    return None"
   ]
  },
  {
   "cell_type": "code",
   "execution_count": null,
   "metadata": {
    "code_folding": [
     0
    ]
   },
   "outputs": [],
   "source": [
    "def momentum_projection_slices():\n",
    "    \"\"\"\n",
    "    Description with units. Figure type and dimension (if sub-plots).\n",
    "    \n",
    "    Parameters\n",
    "    ----------\n",
    "    \n",
    "    Saves\n",
    "    -----\n",
    "    file_name : \n",
    "    \n",
    "    \"\"\"\n",
    "    \n",
    "    return None"
   ]
  },
  {
   "cell_type": "code",
   "execution_count": null,
   "metadata": {
    "code_folding": [
     0
    ]
   },
   "outputs": [],
   "source": [
    "def r2_contours():\n",
    "    \"\"\"\n",
    "    Description with units. Figure type and dimension (if sub-plots).\n",
    "    \n",
    "    Parameters\n",
    "    ----------\n",
    "    \n",
    "    Saves\n",
    "    -----\n",
    "    file_name : \n",
    "    \n",
    "    \"\"\"\n",
    "    \n",
    "    return None"
   ]
  },
  {
   "cell_type": "code",
   "execution_count": null,
   "metadata": {
    "code_folding": [
     0
    ]
   },
   "outputs": [],
   "source": [
    "def unitary_transformation_contours():\n",
    "    \"\"\"\n",
    "    Description with units. Figure type and dimension (if sub-plots).\n",
    "    \n",
    "    Parameters\n",
    "    ----------\n",
    "    \n",
    "    Saves\n",
    "    -----\n",
    "    file_name : \n",
    "    \n",
    "    \"\"\"\n",
    "    \n",
    "    return None"
   ]
  },
  {
   "cell_type": "code",
   "execution_count": null,
   "metadata": {
    "code_folding": [
     0
    ]
   },
   "outputs": [],
   "source": [
    "def unitary_transformation_contours_logscale():\n",
    "    \"\"\"\n",
    "    Description with units. Figure type and dimension (if sub-plots).\n",
    "    \n",
    "    Parameters\n",
    "    ----------\n",
    "    \n",
    "    Saves\n",
    "    -----\n",
    "    file_name : \n",
    "    \n",
    "    \"\"\"\n",
    "    \n",
    "    return None"
   ]
  },
  {
   "cell_type": "markdown",
   "metadata": {},
   "source": [
    "__Generate figures/numbers by running functions in the cells below:__"
   ]
  },
  {
   "cell_type": "code",
   "execution_count": null,
   "metadata": {},
   "outputs": [],
   "source": []
  },
  {
   "cell_type": "code",
   "execution_count": null,
   "metadata": {},
   "outputs": [],
   "source": []
  }
 ],
 "metadata": {
  "kernelspec": {
   "display_name": "Python 3",
   "language": "python",
   "name": "python3"
  },
  "language_info": {
   "codemirror_mode": {
    "name": "ipython",
    "version": 3
   },
   "file_extension": ".py",
   "mimetype": "text/x-python",
   "name": "python",
   "nbconvert_exporter": "python",
   "pygments_lexer": "ipython3",
   "version": "3.7.4"
  }
 },
 "nbformat": 4,
 "nbformat_minor": 2
}

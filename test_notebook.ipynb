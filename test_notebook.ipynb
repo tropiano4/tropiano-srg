{
 "cells": [
  {
   "cell_type": "markdown",
   "id": "5aab025d",
   "metadata": {},
   "source": [
    "__File: test_notebook.ipynb__\n",
    "\n",
    "__Author:   A. J. Tropiano (tropiano.4@osu.edu)__<br/>\n",
    "__Date:     Jun 16, 2021__\n",
    "\n",
    "Jupyter notebook for testing out code or functions.\n",
    "\n",
    "__Revision history:<br/>__\n",
    "* Jun 16, 2021 - Comparing integration via looping vs using NumPy sum function."
   ]
  },
  {
   "cell_type": "code",
   "execution_count": 1,
   "id": "1958fc25",
   "metadata": {},
   "outputs": [],
   "source": [
    "import numpy as np\n",
    "from numpy.polynomial.legendre import leggauss\n",
    "import time\n",
    "# Scripts made by A.T.\n",
    "from Misc.integration import gaussian_quadrature_mesh"
   ]
  },
  {
   "cell_type": "code",
   "execution_count": 2,
   "id": "14619ac3",
   "metadata": {},
   "outputs": [],
   "source": [
    "def test_func_fast(a_array, b_array, c_array, d_array):\n",
    "    \n",
    "    # Create 4-D meshes for integration\n",
    "    a_mesh, b_mesh, c_mesh, d_mesh = np.meshgrid(a_array, b_array, c_array, d_array, indexing='ij')\n",
    "    \n",
    "    value = ( a_mesh**2 + b_mesh ) * c_mesh + a_mesh * d_mesh\n",
    "    \n",
    "    return value"
   ]
  },
  {
   "cell_type": "code",
   "execution_count": 3,
   "id": "4a7ee94f",
   "metadata": {},
   "outputs": [],
   "source": [
    "def test_func_slow(a, b, c, d):\n",
    "    \n",
    "    value = ( a**2 + b ) * c + a * d\n",
    "    \n",
    "    return value"
   ]
  },
  {
   "cell_type": "code",
   "execution_count": 4,
   "id": "2c3b8d14",
   "metadata": {},
   "outputs": [],
   "source": [
    "# Get four meshes\n",
    "atot = 100\n",
    "a_array, a_weights = gaussian_quadrature_mesh(100.0, atot)\n",
    "\n",
    "btot = 50\n",
    "b_array, b_weights = gaussian_quadrature_mesh(50.0, btot)\n",
    "\n",
    "ctot = 10\n",
    "c_array, c_weights = gaussian_quadrature_mesh(1.0, ctot)\n",
    "\n",
    "dtot = 8\n",
    "d_array, d_weights = leggauss(dtot)"
   ]
  },
  {
   "cell_type": "code",
   "execution_count": 5,
   "id": "5867a801",
   "metadata": {},
   "outputs": [
    {
     "name": "stdout",
     "output_type": "stream",
     "text": [
      "16791666.666666236\n",
      "0.53680 seconds elapsed.\n"
     ]
    }
   ],
   "source": [
    "# Integrate doing the slow way\n",
    "\n",
    "t0 = time.time()\n",
    "integrated_value = 0\n",
    "for ia, a in enumerate(a_array):\n",
    "    aw = a_weights[ia]\n",
    "    for ib, b in enumerate(b_array):\n",
    "        bw = b_weights[ib]\n",
    "        for ic, c in enumerate(c_array):\n",
    "            cw = c_weights[ic]\n",
    "            for i_d, d in enumerate(d_array):\n",
    "                dw = d_weights[i_d]\n",
    "                \n",
    "                integrated_value += test_func_slow(a, b, c, d) * dw * cw * bw * aw\n",
    "\n",
    "\n",
    "t1 = time.time()\n",
    "seconds = t1-t0\n",
    "\n",
    "print(integrated_value)\n",
    "print('%.5f seconds elapsed.' % seconds)"
   ]
  },
  {
   "cell_type": "code",
   "execution_count": 6,
   "id": "fb792830",
   "metadata": {},
   "outputs": [
    {
     "name": "stdout",
     "output_type": "stream",
     "text": [
      "16791666.666666623\n",
      "0.00138 seconds elapsed.\n"
     ]
    }
   ],
   "source": [
    "# Integrate doing the fast way\n",
    "\n",
    "# Get weights as 4-D meshes\n",
    "aw_mesh, bw_mesh, cw_mesh, dw_mesh = np.meshgrid(a_weights, b_weights, c_weights, d_weights, indexing='ij')\n",
    "weights_mesh = aw_mesh * bw_mesh * cw_mesh * dw_mesh\n",
    "full_integrand = test_func_fast(a_array, b_array, c_array, d_array) * weights_mesh\n",
    "\n",
    "t0 = time.time()\n",
    "integrated_value = np.sum( np.sum( np.sum( np.sum(full_integrand, axis=-1), axis=-1), axis=-1), axis=-1)\n",
    "t1 = time.time()\n",
    "seconds = t1-t0\n",
    "\n",
    "print(integrated_value)\n",
    "print('%.5f seconds elapsed.' % seconds)"
   ]
  },
  {
   "cell_type": "code",
   "execution_count": null,
   "id": "42592d5a",
   "metadata": {},
   "outputs": [],
   "source": []
  },
  {
   "cell_type": "code",
   "execution_count": null,
   "id": "4f6b0087",
   "metadata": {},
   "outputs": [],
   "source": []
  },
  {
   "cell_type": "code",
   "execution_count": null,
   "id": "d06a8d84",
   "metadata": {},
   "outputs": [],
   "source": []
  }
 ],
 "metadata": {
  "kernelspec": {
   "display_name": "Python 3",
   "language": "python",
   "name": "python3"
  },
  "language_info": {
   "codemirror_mode": {
    "name": "ipython",
    "version": 3
   },
   "file_extension": ".py",
   "mimetype": "text/x-python",
   "name": "python",
   "nbconvert_exporter": "python",
   "pygments_lexer": "ipython3",
   "version": "3.8.3"
  }
 },
 "nbformat": 4,
 "nbformat_minor": 5
}

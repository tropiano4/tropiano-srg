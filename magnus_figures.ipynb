{
 "cells": [
  {
   "cell_type": "markdown",
   "metadata": {},
   "source": [
    "__File: magnus_figures.ipynb__\n",
    "\n",
    "__Author:   A. J. Tropiano (tropiano.4@osu.edu)__<br/>\n",
    "__Date:     May 29, 2019__\n",
    "\n",
    "Description of notebook. Each function creates and saves a figure. Below is an outline of each function:\n",
    "* momentum_projection_contours - Plots contours of the momentum projection operator SRG-evolving in $\\lambda$.\n",
    "* deuteron_momentum_distribution - Plots a semi-log figure of deuteron momentum distributions comparing initial and SRG-evolved $|\\psi|^2$. Note this depicts $\\psi(s)^2$ not $\\psi^{\\dagger}(0) U^{\\dagger}(s) U(s) \\psi(0)$ which is the same as the initial momentum distribution.\n",
    "* continuum_state_distribution - Analog of the deuteron_momentum_distribution function but for some state $\\epsilon_k$ > 0 MeV.\n",
    "* r2_contours - Plots contours of the radius squared operator SRG-evolving in $\\lambda$.\n",
    "\n",
    "__Revision history:<br/>__\n",
    "* May 29, 2019 - Updated with changes to deuteron.py, operators.py, and observables.py."
   ]
  },
  {
   "cell_type": "code",
   "execution_count": null,
   "metadata": {
    "code_folding": []
   },
   "outputs": [],
   "source": [
    "# Created 05/16/19 by A.T. (tropiano.4@osu.edu)\n",
    "\n",
    "# This notebook makes figures for the Magnus paper where each function corresponds to a different figure. The \n",
    "# notebook is roughly split into three sections:\n",
    "# 1) Potential evolution\n",
    "# 2) Observables\n",
    "# 3) Operator evolution\n",
    "# The last section is for running the functions to plot figures.\n",
    "\n",
    "from os import chdir, getcwd\n",
    "from matplotlib.offsetbox import AnchoredText\n",
    "import matplotlib.pyplot as plt\n",
    "%matplotlib inline\n",
    "import numpy as np\n",
    "from scipy.linalg import expm\n",
    "# Scripts made by A.T.\n",
    "from deuteron import Deuteron\n",
    "from Figures import figures_functions as ff\n",
    "from Potentials.vsrg_macos import load_save_potentials as lp\n",
    "from SRG_codes.srg_unitary_transformation import SRG_unitary_transformation"
   ]
  },
  {
   "cell_type": "markdown",
   "metadata": {},
   "source": [
    "__Potential evolution__\n",
    "\n",
    "* Plotting functions for comparing potentials evolving in $\\lambda$ using the Magnus expansion and the typical SRG approach."
   ]
  },
  {
   "cell_type": "code",
   "execution_count": null,
   "metadata": {},
   "outputs": [],
   "source": []
  },
  {
   "cell_type": "code",
   "execution_count": null,
   "metadata": {},
   "outputs": [],
   "source": []
  },
  {
   "cell_type": "code",
   "execution_count": null,
   "metadata": {},
   "outputs": [],
   "source": []
  },
  {
   "cell_type": "markdown",
   "metadata": {},
   "source": [
    "__Observables__\n",
    "\n",
    "* Functions for calculation of deuteron (or spurious bound state) observables (i.e., energies, momentum distributions, radii, etc.)"
   ]
  },
  {
   "cell_type": "code",
   "execution_count": null,
   "metadata": {},
   "outputs": [],
   "source": []
  },
  {
   "cell_type": "code",
   "execution_count": null,
   "metadata": {},
   "outputs": [],
   "source": []
  },
  {
   "cell_type": "code",
   "execution_count": null,
   "metadata": {},
   "outputs": [],
   "source": []
  },
  {
   "cell_type": "markdown",
   "metadata": {},
   "source": [
    "__Operator evolution__\n",
    "\n",
    "* Plotting functions for operator evolution evolving in $\\lambda$."
   ]
  },
  {
   "cell_type": "code",
   "execution_count": null,
   "metadata": {},
   "outputs": [],
   "source": []
  },
  {
   "cell_type": "code",
   "execution_count": null,
   "metadata": {},
   "outputs": [],
   "source": []
  },
  {
   "cell_type": "code",
   "execution_count": null,
   "metadata": {},
   "outputs": [],
   "source": []
  },
  {
   "cell_type": "markdown",
   "metadata": {},
   "source": [
    "__Run functions in the cell(s) below:__"
   ]
  },
  {
   "cell_type": "code",
   "execution_count": null,
   "metadata": {},
   "outputs": [],
   "source": []
  },
  {
   "cell_type": "code",
   "execution_count": null,
   "metadata": {},
   "outputs": [],
   "source": []
  },
  {
   "cell_type": "code",
   "execution_count": null,
   "metadata": {},
   "outputs": [],
   "source": []
  }
 ],
 "metadata": {
  "kernelspec": {
   "display_name": "Python 3",
   "language": "python",
   "name": "python3"
  },
  "language_info": {
   "codemirror_mode": {
    "name": "ipython",
    "version": 3
   },
   "file_extension": ".py",
   "mimetype": "text/x-python",
   "name": "python",
   "nbconvert_exporter": "python",
   "pygments_lexer": "ipython3",
   "version": "3.7.1"
  }
 },
 "nbformat": 4,
 "nbformat_minor": 2
}

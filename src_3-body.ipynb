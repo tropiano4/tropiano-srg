{
 "cells": [
  {
   "cell_type": "markdown",
   "id": "b3f75892",
   "metadata": {},
   "source": [
    "__File: src_3-body.ipynb__\n",
    "\n",
    "__Author:   A. J. Tropiano (tropiano.4@osu.edu)__<br/>\n",
    "__Date:     Aug 9, 2021__\n",
    "\n",
    "Notes and code on 3-body effects for SRC physics at low RG resolution.\n",
    "\n",
    "__Revision history:<br/>__\n",
    "* ..."
   ]
  },
  {
   "cell_type": "markdown",
   "id": "f6af21c1",
   "metadata": {},
   "source": [
    "_Temporary notes_<br/>\n",
    "1. What is the cluster hierarchy of a potential? Read Bogner_2009bt.\n",
    "2. Neff results [1]:<br/>\n",
    "a. Pair distribution in $\\alpha$ particle shows $\\lambda$ dependence around $2$ fm$^{-1}$ in the $^{3}$S$_{1}$-$^{3}$D$_{1}$ channel when integrating over $Q$.<br/>\n",
    "b. Very little dependence at $Q=0$ fm$^{-1}$.<br/>\n",
    "c. Little dependence at $q>3$ fm$^{-1}$.<br/>\n",
    "d. Significant dependence in other channels.<br/>\n",
    "3. See Jurgenson [2] for direct test of 3-body in SRG flow.<br/>\n",
    "4. $\\lambda$ dependence indicates where 3-body terms are important.<br/>\n",
    "\n",
    "Open questions:<br/>\n",
    "1. What is the role of 3-body effects in the Hamiltonian and induced 3-body in projection operator?\n",
    "2. Maybe a better approximation for the wave function reduces the dependence on 3-body terms. Would the $\\lambda$ dependence be reduced if we used smooth cutoff functions (e.g., Fermi function) instead of $\\theta(k_F-q)$? Or next term in DME?"
   ]
  },
  {
   "cell_type": "code",
   "execution_count": 1,
   "id": "339c720d",
   "metadata": {},
   "outputs": [],
   "source": [
    "# \\lambda dependence plots\n",
    "\n",
    "# 1. Copy \\lambda dependence plots for single-nucleon distributions from other notebook.\n",
    "# 2. Brain storm other visualizations."
   ]
  },
  {
   "cell_type": "code",
   "execution_count": null,
   "id": "3e8a7915",
   "metadata": {},
   "outputs": [],
   "source": [
    "# Q dependence plots\n",
    "\n",
    "# 1. Show multi-plot Q+\\lambda dependence of He4 for fixed Q=0.0, 0.25, ..., 1.25, and \\lambda = 1.35, 2, 3, 6 fm^-1\n",
    "# (pn solid, pp dash-dotted). Two plots: S waves, S+P waves.\n",
    "# 2. Does this result depend on the potential? Try kvnn = 222.\n",
    "# 3. Other nuclei? Try C12, Ca48, Pb208."
   ]
  },
  {
   "cell_type": "code",
   "execution_count": null,
   "id": "0a06f289",
   "metadata": {},
   "outputs": [],
   "source": []
  },
  {
   "cell_type": "code",
   "execution_count": null,
   "id": "89e9d9b3",
   "metadata": {},
   "outputs": [],
   "source": []
  },
  {
   "cell_type": "code",
   "execution_count": null,
   "id": "8ff311dc",
   "metadata": {},
   "outputs": [],
   "source": []
  },
  {
   "cell_type": "code",
   "execution_count": null,
   "id": "511a533c",
   "metadata": {},
   "outputs": [],
   "source": []
  },
  {
   "cell_type": "markdown",
   "id": "a504409b",
   "metadata": {},
   "source": [
    "__References__\n",
    "\n",
    "[1] T. Neff, H. Feldmeier, and W. Horiuchi, Phys. Rev. C\n",
    "__92__, 024003 (2015), arXiv:1506.02237 [nucl-th].<br/>\n",
    "[2] E. D. Jurgenson, P. Navratil, and R. J. Furnstahl, Phys.\n",
    "Rev. Lett. __103__, 082501 (2009), arXiv:0905.1873 [nucl-th].<br/>"
   ]
  },
  {
   "cell_type": "code",
   "execution_count": null,
   "id": "b7588b57",
   "metadata": {},
   "outputs": [],
   "source": []
  }
 ],
 "metadata": {
  "kernelspec": {
   "display_name": "Python 3",
   "language": "python",
   "name": "python3"
  },
  "language_info": {
   "codemirror_mode": {
    "name": "ipython",
    "version": 3
   },
   "file_extension": ".py",
   "mimetype": "text/x-python",
   "name": "python",
   "nbconvert_exporter": "python",
   "pygments_lexer": "ipython3",
   "version": "3.8.5"
  }
 },
 "nbformat": 4,
 "nbformat_minor": 5
}

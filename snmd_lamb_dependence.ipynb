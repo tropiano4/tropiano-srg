{
 "cells": [
  {
   "cell_type": "markdown",
   "id": "6e0e2472",
   "metadata": {},
   "source": [
    "__File: snmd_lamb_dependence.ipynb__\n",
    "\n",
    "__Author:   A. J. Tropiano (tropiano.4@osu.edu)__<br/>\n",
    "__Date:     Jun 18, 2021__\n",
    "\n",
    "Testing $\\lambda$ dependence of proton momentum distribution."
   ]
  },
  {
   "cell_type": "code",
   "execution_count": 1,
   "id": "94a0395a",
   "metadata": {},
   "outputs": [],
   "source": [
    "from matplotlib.offsetbox import AnchoredText\n",
    "import matplotlib.pyplot as plt\n",
    "%matplotlib inline\n",
    "import matplotlib as mpl\n",
    "import numpy as np\n",
    "import time\n",
    "# Scripts made by A.T.\n",
    "from Figures import figures_functions as ff\n",
    "from densities import load_density\n",
    "from Potentials.vsrg_macos import vnn\n",
    "from snmd import single_nucleon_momentum_distributions"
   ]
  },
  {
   "cell_type": "markdown",
   "id": "bd9fe11c",
   "metadata": {},
   "source": [
    "__Set-up__"
   ]
  },
  {
   "cell_type": "code",
   "execution_count": 2,
   "id": "d2f5a44e",
   "metadata": {
    "code_folding": [
     0
    ]
   },
   "outputs": [],
   "source": [
    "def setup_rc_params(presentation=False):\n",
    "    \"\"\"\n",
    "    Set matplotlib's rc parameters for the plots\n",
    "    \n",
    "    Parameters\n",
    "    ----------\n",
    "    presentation : bool, optional\n",
    "        Option to enlarge font sizes for presentations.\n",
    "    \n",
    "    \"\"\"\n",
    "\n",
    "    if presentation:\n",
    "        fontsize = 14\n",
    "    else:\n",
    "        fontsize = 9\n",
    "    black = 'k'\n",
    "\n",
    "    mpl.rcdefaults()  # Set to defaults\n",
    "\n",
    "    mpl.rc('text', usetex=True)\n",
    "    mpl.rcParams['font.size'] = fontsize\n",
    "    mpl.rcParams['text.usetex'] = True\n",
    "    mpl.rcParams['font.family'] = 'serif'\n",
    "\n",
    "#     mpl.rcParams['axes.labelsize'] = fontsize\n",
    "    mpl.rcParams['axes.edgecolor'] = black\n",
    "    # mpl.rcParams['axes.xmargin'] = 0\n",
    "    mpl.rcParams['axes.labelcolor'] = black\n",
    "#     mpl.rcParams['axes.titlesize'] = fontsize\n",
    "\n",
    "    mpl.rcParams['ytick.direction'] = 'in'\n",
    "    mpl.rcParams['xtick.direction'] = 'in'\n",
    "    mpl.rcParams['xtick.labelsize'] = fontsize\n",
    "    mpl.rcParams['ytick.labelsize'] = fontsize\n",
    "    mpl.rcParams['xtick.color'] = black\n",
    "    mpl.rcParams['ytick.color'] = black\n",
    "    # Make the ticks thin enough to not be visible at the limits of the plot (over the axes border)\n",
    "    mpl.rcParams['xtick.major.width'] = mpl.rcParams['axes.linewidth'] * 0.95\n",
    "    mpl.rcParams['ytick.major.width'] = mpl.rcParams['axes.linewidth'] * 0.95\n",
    "    # The minor ticks are little too small, make them both bigger.\n",
    "    mpl.rcParams['xtick.minor.size'] = 2.4  # Default 2.0\n",
    "    mpl.rcParams['ytick.minor.size'] = 2.4\n",
    "    mpl.rcParams['xtick.major.size'] = 3.9  # Default 3.5\n",
    "    mpl.rcParams['ytick.major.size'] = 3.9\n",
    "    \n",
    "    # Added by A.T.\n",
    "    # Puts tick marks (not labels) on top and right axes\n",
    "    mpl.rcParams['xtick.top'] = True\n",
    "    mpl.rcParams['ytick.right'] = True\n",
    "    \n",
    "    ppi = 72  # points per inch\n",
    "    # dpi = 150\n",
    "#     mpl.rcParams['figure.titlesize'] = fontsize\n",
    "    mpl.rcParams['figure.dpi'] = 150  # To show up reasonably in notebooks\n",
    "    mpl.rcParams['figure.constrained_layout.use'] = False\n",
    "    # 0.02 and 3 points are the defaults:\n",
    "    # can be changed on a plot-by-plot basis using fig.set_constrained_layout_pads()\n",
    "    mpl.rcParams['figure.constrained_layout.wspace'] = 0.0\n",
    "    mpl.rcParams['figure.constrained_layout.hspace'] = 0.0\n",
    "    mpl.rcParams['figure.constrained_layout.h_pad'] = 3. / ppi  # 3 points\n",
    "    mpl.rcParams['figure.constrained_layout.w_pad'] = 3. / ppi\n",
    "\n",
    "#     mpl.rcParams['legend.title_fontsize'] = fontsize\n",
    "#     mpl.rcParams['legend.fontsize'] = fontsize\n",
    "    mpl.rcParams['legend.edgecolor'] = 'inherit'  # inherits from axes.edgecolor, to match\n",
    "    # Set facecolor with its own alpha, so edgecolor is unaffected\n",
    "    mpl.rcParams['legend.fancybox'] = True\n",
    "    mpl.rcParams['legend.facecolor'] = (1, 1, 1, 0.6)\n",
    "#     mpl.rcParams['legend.borderaxespad'] = 0.8\n",
    "    # Do not set overall alpha (affects edgecolor). Handled by facecolor above\n",
    "    mpl.rcParams['legend.framealpha'] = None\n",
    "    # This is for legend edgewidth, since it does not have its own option\n",
    "    mpl.rcParams['patch.linewidth'] = 0.8\n",
    "    mpl.rcParams['hatch.linewidth'] = 0.5\n",
    "\n",
    "    # bbox = 'tight' can distort the figure size when saved (that's its purpose).\n",
    "    # mpl.rc('savefig', transparent=False, bbox='tight', pad_inches=0.04, dpi=350, format='png')\n",
    "    # mpl.rc('savefig', transparent=False, bbox=None, dpi=400, format='png')\n",
    "    mpl.rc('savefig', bbox='tight', dpi=400)"
   ]
  },
  {
   "cell_type": "code",
   "execution_count": 3,
   "id": "0b1f7208",
   "metadata": {},
   "outputs": [],
   "source": [
    "# Run this cell to customize matplotlib graphics (see setup_rc_params for details)\n",
    "setup_rc_params(presentation=True)"
   ]
  },
  {
   "cell_type": "code",
   "execution_count": 4,
   "id": "25f8b979",
   "metadata": {},
   "outputs": [],
   "source": [
    "# Save figures in the following directory (you can change this in the Dropbox)\n",
    "figure_directory = 'Figures/SRC_physics'\n",
    "\n",
    "kvnn = 6\n",
    "channels = ('1S0', '3S1')\n",
    "# lambda_array = np.append( np.arange(8.0, 1.0, -0.5), 1.35 )\n",
    "lambda_array = np.array([4,3])\n",
    "m = len(lambda_array)\n",
    "kmax, kmid, ntot = 15.0, 3.0, 120\n",
    "\n",
    "# q values\n",
    "q_points = np.array([1.5, 2.0, 3.0, 4.0, 5.0])\n",
    "n = len(q_points)\n",
    "\n",
    "# Full momentum array\n",
    "q_array, _ = vnn.load_momentum(kvnn, '1S0', kmax, kmid, ntot)\n",
    "\n",
    "# Nucleus\n",
    "# nucleus = ('C12', 6, 6)\n",
    "nucleus = ('Pb208', 82, 126)\n",
    "\n",
    "nucleus_name = nucleus[0]\n",
    "Z = nucleus[1]\n",
    "N = nucleus[2]\n",
    "\n",
    "# Load densities\n",
    "r_array, rho_p_array = load_density(nucleus_name, 'proton', Z, N)\n",
    "r_array, rho_n_array = load_density(nucleus_name, 'neutron', Z, N)"
   ]
  },
  {
   "cell_type": "markdown",
   "id": "4c8535e5",
   "metadata": {},
   "source": [
    "__SRG-evolve AV18__"
   ]
  },
  {
   "cell_type": "code",
   "execution_count": 5,
   "id": "ab7b17c0",
   "metadata": {},
   "outputs": [],
   "source": [
    "# Already did 8, 7.5, ..., 1.5, 1.35\n",
    "# Add more?\n",
    "\n",
    "# from run_srg import run_srg\n",
    "\n",
    "# for channel in channels:\n",
    "#     d = run_srg(kvnn, channel, kmax, kmid, ntot, 'Wegner', lambda_array, save=True)"
   ]
  },
  {
   "cell_type": "markdown",
   "id": "63a542ea",
   "metadata": {},
   "source": [
    "__Calculate proton $n_{\\lambda}^A(q_i)$ for fixed $q_i$__"
   ]
  },
  {
   "cell_type": "code",
   "execution_count": 6,
   "id": "aa78e987",
   "metadata": {},
   "outputs": [
    {
     "name": "stdout",
     "output_type": "stream",
     "text": [
      "Done with \\lambda = 4.00 fm^-1.\n",
      "Done with \\lambda = 3.00 fm^-1.\n"
     ]
    }
   ],
   "source": [
    "# Calculate n_{\\lambda_i}^A(q_j) for ith \\lambda and jth q\n",
    "\n",
    "# Initialize array for data\n",
    "proton_snmd_array = np.zeros( (m, n) )\n",
    "\n",
    "# Do full momentum array?\n",
    "full = True\n",
    "# full = False\n",
    "if full:\n",
    "    n_p_array = np.zeros( (m, ntot) )\n",
    "\n",
    "# Loop over \\lambda values\n",
    "for i, lamb in enumerate(lambda_array):\n",
    "\n",
    "    # Initialize class\n",
    "    snmd = single_nucleon_momentum_distributions(kvnn, channels, lamb, kmax, kmid, ntot, interp=False)\n",
    "\n",
    "    # Evaluate momentum distribution at q_i\n",
    "    proton_snmd_array[i, :] = snmd.n_lambda(q_points, r_array, rho_p_array, rho_n_array)[:, 0]\n",
    "    \n",
    "    if full:\n",
    "        n_p_array[i, :] = snmd.n_lambda(q_array, r_array, rho_p_array, rho_n_array)[:, 0]\n",
    "    \n",
    "    print('Done with \\lambda = %.2f fm^-1.' % lamb)\n",
    "    \n",
    "# TESTING\n",
    "if not full:\n",
    "    n_p_array = proton_snmd_array\n",
    "    q_array = q_points"
   ]
  },
  {
   "cell_type": "markdown",
   "id": "92ee79ef",
   "metadata": {},
   "source": [
    "__Plot proton $n_{\\lambda}^A(q_i)$ for fixed $q_i$ with respect to $\\lambda$__"
   ]
  },
  {
   "cell_type": "code",
   "execution_count": 7,
   "id": "d6f0ab14",
   "metadata": {},
   "outputs": [
    {
     "data": {
      "image/png": "[encoded data removed]",
      "text/plain": [
       "<Figure size 288x288 with 1 Axes>"
      ]
     },
     "metadata": {
      "needs_background": "light"
     },
     "output_type": "display_data"
    }
   ],
   "source": [
    "# Figure size\n",
    "row_number = 1\n",
    "col_number = 1\n",
    "figure_size = (4*col_number, 4*row_number)\n",
    "\n",
    "# Axes labels and fontsize\n",
    "x_label = r'$\\lambda$' + ' [fm' + r'$^{-1}$' + ']'\n",
    "x_label_size = 16\n",
    "y_label = 'proton ' + r'$n_{\\lambda}^A(q_i)$' + ' [fm' + r'$^3$' + ']'\n",
    "y_label_size = 16\n",
    "\n",
    "# Axes limits\n",
    "xlim = (0.0, 9.0)\n",
    "if nucleus_name == 'C12':\n",
    "    ylim = (3e-5, 1e1)\n",
    "elif nucleus_name == 'Pb208':\n",
    "    ylim = (8e-4, 2e2)\n",
    "    \n",
    "# Curve width\n",
    "curve_width = 2.0\n",
    "\n",
    "# Initialize figure\n",
    "plt.close('all')\n",
    "f, ax = plt.subplots(figsize=figure_size)\n",
    "\n",
    "# Set y-axis to log scale\n",
    "ax.set_yscale('log')\n",
    "\n",
    "# Loop over q_i points\n",
    "for i, q_i in enumerate(q_points):\n",
    "    \n",
    "    # Legend label\n",
    "    curve_label = r'$q_{%d}$' % (i+1) + ' = %s fm' % ff.convert_number_to_string(q_i) + r'$^{-1}$'\n",
    "    curve_color = ff.xkcd_colors(i)\n",
    "    \n",
    "    # Add curve to figure\n",
    "    ax.plot(lambda_array, proton_snmd_array[:, i], color=curve_color, marker='.', label=curve_label,\n",
    "            linewidth=curve_width)\n",
    "\n",
    "# Specify axes limits\n",
    "ax.set_xlim(xlim)\n",
    "ax.set_ylim(ylim)\n",
    "        \n",
    "# Set axes labels\n",
    "ax.set_xlabel(x_label, fontsize=x_label_size)\n",
    "ax.set_ylabel(y_label, fontsize=y_label_size)\n",
    "\n",
    "# Add legend\n",
    "legend_size = 14\n",
    "legend_location = 'upper left'\n",
    "ax.legend(bbox_to_anchor=(1.05, 1), loc=legend_location, borderaxespad=0., fontsize=legend_size)\n",
    "\n",
    "# Add nucleus label as anchored text\n",
    "nuc_label = ff.nuclei_label_conversion(nucleus_name)\n",
    "nuc_label_location = 'lower left'\n",
    "nuc_label_size = 24\n",
    "anchored_text = AnchoredText(nuc_label, loc=nuc_label_location, prop=dict(size=nuc_label_size), frameon=False)\n",
    "ax.add_artist(anchored_text)\n",
    "\n",
    "# Set file_name \n",
    "file_name = 'snmd_lamb_dep_kvnn_%d_%s.png' % (kvnn, nucleus_name)\n",
    "\n",
    "# Save figure\n",
    "f.savefig(figure_directory + '/' + file_name)"
   ]
  },
  {
   "cell_type": "markdown",
   "id": "14a4b1e7",
   "metadata": {},
   "source": [
    "__Plot proton $n_{\\lambda_i}^A(q)$ for fixed $\\lambda_i$ with respect to $q$__"
   ]
  },
  {
   "cell_type": "code",
   "execution_count": 9,
   "id": "a12a31fe",
   "metadata": {
    "code_folding": []
   },
   "outputs": [
    {
     "data": {
      "image/png": "[encoded data removed]",
      "text/plain": [
       "<Figure size 288x288 with 1 Axes>"
      ]
     },
     "metadata": {
      "needs_background": "light"
     },
     "output_type": "display_data"
    }
   ],
   "source": [
    "# Plot single-nucleon momentum distributions comparing to AV18 data varying \\lambda values\n",
    "# Copied from src_physics_fig.ipynb\n",
    "\n",
    "# Figure size\n",
    "row_number = 1\n",
    "col_number = 1\n",
    "figure_size = (4*col_number, 4*row_number)\n",
    "\n",
    "# Axes labels and fontsize\n",
    "x_label = 'q [fm' + r'$^{-1}$' + ']'\n",
    "x_label_size = 16\n",
    "y_label = 'proton ' + r'$n_{\\lambda}^A(q)$' + ' [fm' + r'$^3$' + ']'\n",
    "y_label_size = 16\n",
    "\n",
    "xlim = (0.0, 6.0)\n",
    "if nucleus_name == 'C12':\n",
    "    ylim = (3e-5, 1e1)\n",
    "elif nucleus_name == 'Pb208':\n",
    "    ylim = (8e-4, 2e2)\n",
    "    \n",
    "# Curve width\n",
    "curve_width = 2.0\n",
    "\n",
    "# Initialize figure\n",
    "plt.close('all')\n",
    "f, ax = plt.subplots(figsize=figure_size)\n",
    "    \n",
    "# Set y-axis to log scale\n",
    "ax.set_yscale('log')\n",
    "\n",
    "# Plot each for each \\lambda value in lambda_array\n",
    "for i, lamb in enumerate(lambda_array):\n",
    "\n",
    "    # Legend label\n",
    "    curve_label = ff.lambda_label_conversion(lamb) # Labels \\lambda\n",
    "     \n",
    "    # Add curve to figure\n",
    "    ax.plot(q_array, n_p_array[i, :], label=curve_label, linewidth=curve_width)\n",
    "\n",
    "# Specify axes limits\n",
    "ax.set_xlim(xlim)\n",
    "ax.set_ylim(ylim)\n",
    "        \n",
    "# Set axes labels\n",
    "ax.set_xlabel(x_label, fontsize=x_label_size)\n",
    "ax.set_ylabel(y_label, fontsize=y_label_size)\n",
    "\n",
    "# Add legend\n",
    "legend_size = 14\n",
    "legend_location = 'upper left'\n",
    "ax.legend(bbox_to_anchor=(1.05, 1), loc=legend_location, borderaxespad=0., fontsize=legend_size)\n",
    "           \n",
    "# Add nucleus label\n",
    "nucleus_label = ff.nuclei_label_conversion(nucleus[0])\n",
    "nucleus_label_location = 'lower left'\n",
    "nucleus_label_size = 18\n",
    "anchored_text = AnchoredText(nuc_label, loc=nucleus_label_location, prop=dict(size=nucleus_label_size))\n",
    "ax.add_artist(anchored_text)\n",
    "           \n",
    "# Set file name\n",
    "file_name = 'snmd_with_AV18_vary_lambda_%s' % nuc_label\n",
    "# Add each channel to file name\n",
    "file_name += '_channels'\n",
    "for ichannel in channels:\n",
    "    file_name += '_%s' % ichannel\n",
    "file_name += '_kvnn_%d_lambdas' % 6\n",
    "# Add each \\lambda to file name\n",
    "for ilamb in lambda_array:\n",
    "    file_name += '_%s' % ff.convert_number_to_string(ilamb)\n",
    "file_name += '_kmax_%.1f' % kmax\n",
    "# Replace periods\n",
    "file_name = ff.replace_periods(file_name) + '.png'\n",
    "\n",
    "# Save figure\n",
    "f.savefig(figure_directory + '/' + file_name)"
   ]
  },
  {
   "cell_type": "code",
   "execution_count": null,
   "id": "a091bd11",
   "metadata": {},
   "outputs": [],
   "source": []
  }
 ],
 "metadata": {
  "kernelspec": {
   "display_name": "Python 3",
   "language": "python",
   "name": "python3"
  },
  "language_info": {
   "codemirror_mode": {
    "name": "ipython",
    "version": 3
   },
   "file_extension": ".py",
   "mimetype": "text/x-python",
   "name": "python",
   "nbconvert_exporter": "python",
   "pygments_lexer": "ipython3",
   "version": "3.8.5"
  }
 },
 "nbformat": 4,
 "nbformat_minor": 5
}

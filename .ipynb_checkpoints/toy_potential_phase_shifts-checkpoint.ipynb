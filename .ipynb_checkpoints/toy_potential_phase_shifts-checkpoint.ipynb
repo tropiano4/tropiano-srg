{
 "cells": [
  {
   "cell_type": "markdown",
   "metadata": {},
   "source": [
    "__File: toy_potential_phase_shifts.ipynb__\n",
    "\n",
    "__Author:   A. J. Tropiano (tropiano.4@osu.edu)__<br/>\n",
    "__Date:     Jun 17, 2020__\n",
    "\n",
    "This notebook tests Gauss-Legendre quadrature momentum mesh dependence by evaluating a toy potential's phase shifts at its eigenenergies."
   ]
  },
  {
   "cell_type": "code",
   "execution_count": 1,
   "metadata": {},
   "outputs": [],
   "source": [
    "from matplotlib.offsetbox import AnchoredText\n",
    "import matplotlib.pyplot as plt\n",
    "%matplotlib inline\n",
    "import numpy as np\n",
    "import numpy.linalg as la\n",
    "from numpy.polynomial.legendre import leggauss\n",
    "# Scripts made by A.T.\n",
    "from observables import phase_shifts"
   ]
  },
  {
   "cell_type": "code",
   "execution_count": 2,
   "metadata": {},
   "outputs": [],
   "source": [
    "# Construct Gauss-Legendre quadrature momentum mesh (units are fm^-1)\n",
    "\n",
    "# Minimum momentum value\n",
    "k_min = 0.0\n",
    "# Maximum momentum value\n",
    "k_max = 10.0\n",
    "# Number of nodes\n",
    "#ntot = 15\n",
    "ntot = 100 # Testing to make sure potential is correct\n",
    "x_array, k_weights = leggauss(ntot)\n",
    "# Convert from interval [-1, 1] to [k_min, k_max] (meaning x_array -> k_array)\n",
    "k_array = 0.5 * (x_array + 1) * (k_max - k_min) + k_min"
   ]
  },
  {
   "cell_type": "code",
   "execution_count": 3,
   "metadata": {},
   "outputs": [],
   "source": [
    "# Calculate relative kinetic energy\n",
    "\n",
    "# h-bar^2 / M [MeV fm^2]\n",
    "hbar_sq_over_M = 41.47\n",
    "# Relative kinetic energy in units MeV\n",
    "T_matrix = hbar_sq_over_M * np.diag( k_array**2 )"
   ]
  },
  {
   "cell_type": "markdown",
   "metadata": {},
   "source": [
    "__Details of toy NN potential__:\n",
    "\n",
    "Parameterized potential for proton-neutron scattering for the $^1$S$_0$ partial wave. Fits experimental phase shifts and is given in coordinate space by $V(r)=V_a e^{-a x} / x + V_b e^{-b x} / x + V_c e^{-c x} / x$, where $x = \\mu r$, $\\mu = 0.7$ fm$^{−1}$ (the inverse of the pion mass), $V_a = −10.463$ MeV and $a=1$, $V_b =−1650.6$ MeV and $b=4$ and $V_c = 6484.3$ MeV and $c=7$. In momentum space, $V_{\\eta} e^{-\\eta x} / x \\rightarrow V_{\\eta} / (4 \\mu k k') log[( (\\mu \\eta)^2 + (k+k')^2 ) / ( (\\mu \\eta)^2 + (k-k')^2 ) ]$. We skip to this step in what follows."
   ]
  },
  {
   "cell_type": "code",
   "execution_count": 4,
   "metadata": {},
   "outputs": [],
   "source": [
    "# Set up potential from PHY 989 project: 1S0 parameterization for NN scattering\n",
    "\n",
    "# Parameters\n",
    "mu = 0.7 # fm^-1\n",
    "V_a = -10.463 # MeV\n",
    "a = 1\n",
    "V_b = -1650.6 # MeV\n",
    "b = 4\n",
    "V_c = 6484.3 # MeV\n",
    "c = 7\n",
    "\n",
    "# Get rows and columns of momentum values\n",
    "row, col = np.meshgrid(k_array, k_array)\n",
    "\n",
    "# Construct momentum-space potential in units MeV fm^3\n",
    "V_matrix = V_a / (4 * mu * row * col) * np.log( ( (mu*a)**2 + (row+col)**2 ) / ( (mu*a)**2 + (row-col)**2 ) ) + \\\n",
    "           V_b / (4 * mu * row * col) * np.log( ( (mu*b)**2 + (row+col)**2 ) / ( (mu*b)**2 + (row-col)**2 ) ) + \\\n",
    "           V_c / (4 * mu * row * col) * np.log( ( (mu*c)**2 + (row+col)**2 ) / ( (mu*c)**2 + (row-col)**2 ) )"
   ]
  },
  {
   "cell_type": "code",
   "execution_count": 5,
   "metadata": {},
   "outputs": [],
   "source": [
    "# Obtain Hamiltonian in units MeV and calculate eigenenergies\n",
    "\n",
    "# Convert potential to units MeV\n",
    "factor_array = np.sqrt( (2*k_weights) / np.pi ) * k_array # fm^-3/2\n",
    "factor_row, factor_col = np.meshgrid(factor_array, factor_array)\n",
    "\n",
    "# Add to T_rel to get Hamiltonian in units MeV\n",
    "H_matrix = T_matrix + factor_row * factor_col * V_matrix\n",
    "\n",
    "# Get eigenvalues\n",
    "eigenvalues, eigenvectors = la.eigh(H_matrix)"
   ]
  },
  {
   "cell_type": "code",
   "execution_count": 6,
   "metadata": {},
   "outputs": [],
   "source": [
    "# Calculate phase shifts of V(k,k') at eigenenergies\n",
    "\n",
    "# First test with lab energies up to 100 MeV\n",
    "e_max = 100.0\n",
    "e_array = np.linspace(0.1, e_max, 100)\n",
    "delta_array = phase_shifts(e_array, V_matrix / hbar_sq_over_M, k_array, k_weights)"
   ]
  },
  {
   "cell_type": "code",
   "execution_count": 9,
   "metadata": {},
   "outputs": [
    {
     "data": {
      "text/plain": [
       "<matplotlib.legend.Legend at 0x7fac29984b90>"
      ]
     },
     "execution_count": 9,
     "metadata": {},
     "output_type": "execute_result"
    },
    {
     "data": {
      "image/png": "[encoded data removed]",
      "text/plain": [
       "<Figure size 288x288 with 1 Axes>"
      ]
     },
     "metadata": {
      "needs_background": "light"
     },
     "output_type": "display_data"
    }
   ],
   "source": [
    "# Plot phase shifts\n",
    "\n",
    "# Figure size\n",
    "width = 4\n",
    "height = 4\n",
    "figure_size = (width, height)\n",
    "    \n",
    "# x-axis limit\n",
    "xlim = [0.0, e_max]\n",
    "        \n",
    "# Axes labels and fontsize\n",
    "x_label = r'$E_{\\rm lab}$' + ' [MeV]'\n",
    "x_label_size = 18\n",
    "y_label = r'$\\delta$' + ' [deg]'\n",
    "y_label_size = 20\n",
    "axes_tick_size = 14\n",
    "    \n",
    "# Curve width\n",
    "curve_width = 2.0\n",
    "\n",
    "# Curve color, styles, and labels\n",
    "curve_color = 'xkcd:black'\n",
    "curve_label = r'$^1$' + 'S' + r'$_0$'\n",
    "\n",
    "# Initialize figure\n",
    "plt.close('all')\n",
    "f, ax = plt.subplots(figsize=figure_size) \n",
    "        \n",
    "# Add curve to figure\n",
    "ax.plot(e_array, delta_array, color=curve_color, label=curve_label, linewidth=curve_width)\n",
    "\n",
    "# Specify x-axis limit\n",
    "ax.set_xlim(xlim)\n",
    "    \n",
    "# Set axes labels\n",
    "ax.set_xlabel(x_label, fontsize=x_label_size)\n",
    "ax.set_ylabel(y_label, fontsize=y_label_size)\n",
    "    \n",
    "# Enlarge axes tick marks\n",
    "ax.tick_params(labelsize=axes_tick_size)\n",
    "\n",
    "# Add legend for channel\n",
    "legend_size = 16\n",
    "legend_location = 'upper right'\n",
    "ax.legend(loc=legend_location, frameon=False, fontsize=legend_size)"
   ]
  },
  {
   "cell_type": "code",
   "execution_count": null,
   "metadata": {},
   "outputs": [],
   "source": []
  }
 ],
 "metadata": {
  "kernelspec": {
   "display_name": "Python 3",
   "language": "python",
   "name": "python3"
  },
  "language_info": {
   "codemirror_mode": {
    "name": "ipython",
    "version": 3
   },
   "file_extension": ".py",
   "mimetype": "text/x-python",
   "name": "python",
   "nbconvert_exporter": "python",
   "pygments_lexer": "ipython3",
   "version": "3.7.4"
  }
 },
 "nbformat": 4,
 "nbformat_minor": 4
}

{
 "cells": [
  {
   "cell_type": "markdown",
   "metadata": {},
   "source": [
    "__File: src_physics_write_data.ipynb__\n",
    "\n",
    "__Author:   A. J. Tropiano (tropiano.4@osu.edu)__<br/>\n",
    "__Date:     Apr 09, 2021__\n",
    "\n",
    "Writes SRC physics data files for plotting purposes. Use these files with src_physics_fig.ipynb to generate figures relying only data files.\n",
    "\n",
    "__Revision history:<br/>__\n",
    "* Apr 13, 2021 - Finished the following functions: n_lambda_deuteron_decomposition, deuteron_partial_wave_contributions, srg_transformation_partial_wave_ratios, lda_pair_momentum_distributions, lda_single_nucleon_momentum_distributions, lda_deuteron_pair_momentum_distribution, lda_deuteron_single_nucleon_momentum_distribution, a2_scaling_factors, and deuteron_partial_wave_ratios.\n",
    "* Apr 16, 2021 - Adding Fe56 to LDA data files.\n",
    "* Apr 17, 2021 - Generating data for Gezerlis N2LO 1 and 1.2 fm potentials.\n",
    "* Apr 18, 2021 - Adding option to save directly to Dropbox directory in addition to LENT repository.\n",
    "* Apr 21, 2021 - Generating momentum distributions at $\\lambda=1.5$ and $2$ fm$^{-1}$."
   ]
  },
  {
   "cell_type": "code",
   "execution_count": 1,
   "metadata": {},
   "outputs": [],
   "source": [
    "from os import chdir, getcwd\n",
    "import numpy as np\n",
    "import shutil\n",
    "import time\n",
    "# Scripts made by A.T.\n",
    "from dmd import deuteron_momentum_distributions\n",
    "from Figures import figures_functions as ff\n",
    "from lda import load_density, LDA\n",
    "import observables as ob\n",
    "import operators as op\n",
    "from pmd import pair_momentum_distributions\n",
    "from Potentials.vsrg_macos import vnn\n",
    "from snmd import single_nucleon_momentum_distributions\n",
    "from SRG.srg_unitary_transformation import SRG_unitary_transformation"
   ]
  },
  {
   "cell_type": "code",
   "execution_count": 2,
   "metadata": {},
   "outputs": [],
   "source": [
    "# Current working directory\n",
    "cwd = getcwd()\n",
    "\n",
    "# Save data in the following directory\n",
    "data_directory = 'Figures/SRC_physics/Data'\n",
    "\n",
    "# Option to also save files to Dropbox directory\n",
    "dropbox_directory = '../../../Dropbox/SRG_projects/Operator_evolution/Figures/SRC_physics/Data'"
   ]
  },
  {
   "cell_type": "markdown",
   "metadata": {},
   "source": [
    "__Decomposition of $n^{\\lambda}_d(q)$__"
   ]
  },
  {
   "cell_type": "code",
   "execution_count": 3,
   "metadata": {
    "code_folding": [
     0
    ]
   },
   "outputs": [],
   "source": [
    "def n_lambda_deuteron_decomposition(kvnn, lamb, kmax=10.0, kmid=2.0, ntot=120, save_to_dropbox=False):\n",
    "    \"\"\"\n",
    "    SRG-evolved deuteron pair momentum distribution as calculated by our expansion of U(k, k') in second\n",
    "    quantization using deuteron wave function (not LDA). Gives each of the contributions from 1, \\delta U,\n",
    "    \\delta U \\delta U^\\dagger.\n",
    "    \n",
    "    Parameters\n",
    "    ----------\n",
    "    kvnn : int\n",
    "        This number specifies the potential.\n",
    "    lamb : float\n",
    "        SRG \\lambda parameter [fm^-1].\n",
    "    kmax : float, optional\n",
    "        Maximum value in the momentum mesh [fm^-1].\n",
    "    kmid : float, optional\n",
    "        Mid-point value in the momentum mesh [fm^-1].\n",
    "    ntot : int, optional\n",
    "        Number of momentum points in mesh.\n",
    "    save_to_dropbox : bool, optional\n",
    "        Option to save file to Dropbox directory.\n",
    "    \n",
    "    \"\"\"\n",
    "\n",
    "    # Make file name\n",
    "    file_name = 'n_lambda_deuteron_decomposition_kvnn_%d_lamb_%.2f_kmax_%.1f' % (kvnn, lamb, kmax)\n",
    "    file_name = ff.replace_periods(file_name) + '.dat'\n",
    "\n",
    "    # Load momentum\n",
    "    q_array, _ = vnn.load_momentum(kvnn, '3S1', kmax, kmid, ntot)\n",
    "    \n",
    "    # Initialize deuteron momentum distributions class for given potential\n",
    "    dmd = deuteron_momentum_distributions(kvnn, lamb, kmax, kmid, ntot)\n",
    "\n",
    "    # Open file and write header where we allocate roughly 18 centered spaces for each label\n",
    "    f = open(data_directory + '/' + file_name, 'w')\n",
    "    header = '#' + '{:^17s}{:^18s}{:^18s}{:^18s}{:^18s}'.format('q', 'total', '1 term', '\\delta U term',\n",
    "                                                                '\\delta U^2 term')\n",
    "    f.write(header + '\\n')\n",
    "    \n",
    "    # Loop over momenta q\n",
    "    for iq, q in enumerate(q_array):\n",
    "        \n",
    "        # Calculate each contribution to n_\\lambda(q) including total\n",
    "        total, term_1, term_deltaU, term_deltaU2 = dmd.n_lambda_pair_exact(q, 'q_contributions')\n",
    "\n",
    "        # Write to data file following the format from the header\n",
    "        line = '{:^18.6f}{:^18.6e}{:^18.6e}{:^18.6e}{:^18.6e}'.format(q, total, term_1, term_deltaU,\n",
    "                                                                      term_deltaU2)\n",
    "        f.write('\\n' + line)\n",
    "\n",
    "    # Close file\n",
    "    f.close()\n",
    "    \n",
    "    # Save to Dropbox?\n",
    "    if save_to_dropbox:\n",
    "        _ = shutil.copy(data_directory + '/' + file_name, dropbox_directory)"
   ]
  },
  {
   "cell_type": "code",
   "execution_count": 4,
   "metadata": {
    "code_folding": [
     0
    ]
   },
   "outputs": [],
   "source": [
    "# # Deuteron pair momentum distribution contributions for AV18 with \\lambda=1.35 fm^-1\n",
    "\n",
    "# kvnn = 6\n",
    "# lamb = 1.35\n",
    "\n",
    "# t0 = time.time() # Start time\n",
    "# n_lambda_deuteron_decomposition(kvnn, lamb, save_to_dropbox=True)\n",
    "# t1 = time.time() # Stop time\n",
    "# mins = round( (t1 - t0) / 60.0, 5) # Minutes elapsed\n",
    "# print('%.5f minutes elasped' % mins)"
   ]
  },
  {
   "cell_type": "markdown",
   "metadata": {},
   "source": [
    "__Deuteron partial wave contributions__"
   ]
  },
  {
   "cell_type": "code",
   "execution_count": 5,
   "metadata": {
    "code_folding": [
     0
    ]
   },
   "outputs": [],
   "source": [
    "def deuteron_partial_wave_contributions(kvnn, lamb, kmax=10.0, kmid=2.0, ntot=120, save_to_dropbox=False):\n",
    "    \"\"\"\n",
    "    Contributions of each partial wave coupled-channel to |\\psi_d(q)|^2 comparing unevolved and SRG-evolved\n",
    "    for various momenta q [fm^-1].\n",
    "    \n",
    "    Parameters\n",
    "    ----------\n",
    "    kvnn : int\n",
    "        This number specifies the potential.\n",
    "    lamb : float\n",
    "        SRG \\lambda parameter [fm^-1].\n",
    "    kmax : float, optional\n",
    "        Maximum value in the momentum mesh [fm^-1].\n",
    "    kmid : float, optional\n",
    "        Mid-point value in the momentum mesh [fm^-1].\n",
    "    ntot : int, optional\n",
    "        Number of momentum points in mesh.\n",
    "    save_to_dropbox : bool, optional\n",
    "        Option to save file to Dropbox directory.\n",
    "    \n",
    "    \"\"\"\n",
    "\n",
    "    # Make file name\n",
    "    file_name = 'deuteron_partial_wave_contributions_kvnn_%d_lamb_%.2f_kmax_%.1f' % (kvnn, lamb, kmax)\n",
    "    file_name = ff.replace_periods(file_name) + '.dat'\n",
    "\n",
    "    # Channel is 3S1-3D1 for deuteron\n",
    "    channel = '3S1'\n",
    "    \n",
    "    # Load momentum [fm^-1]\n",
    "    q_array, q_weights = vnn.load_momentum(kvnn, channel, kmax, kmid, ntot)\n",
    "    \n",
    "    # Load initial and evolved Hamiltonians [MeV]\n",
    "    H_initial = vnn.load_hamiltonian(kvnn, channel, kmax, kmid, ntot)\n",
    "    H_evolved = vnn.load_hamiltonian(kvnn, channel, kmax, kmid, ntot, method='srg', generator='Wegner',\n",
    "                                     lamb=lamb)\n",
    "    \n",
    "    # Calculate SRG transformation [unitless]\n",
    "    U_matrix = SRG_unitary_transformation(H_initial, H_evolved)\n",
    "\n",
    "    # Load initial and evolved wave functions [unitless]\n",
    "    psi_initial = ob.wave_function(H_initial)\n",
    "    psi_evolved = ob.wave_function(H_initial, U=U_matrix)\n",
    "\n",
    "    # Open file and write header where we allocate roughly 18 centered spaces for each label\n",
    "    f = open(data_directory + '/' + file_name, 'w')\n",
    "    header = '#' + '{:^17s}{:^18s}{:^18s}{:^18s}{:^18s}{:^18s}{:^18s}'.format('q', '3S1-3S1 init.',\n",
    "             '3S1-3D1 init.', '3D1-3D1 init.', '3S1-3S1 SRG', '3S1-3D1 SRG', '3D1-3D1 SRG')\n",
    "    f.write(header + '\\n')\n",
    "\n",
    "    # Loop over momenta q\n",
    "    for iq, q in enumerate(q_array):\n",
    "        \n",
    "        # Initial and evolved momentum projection operators\n",
    "        operator_initial = op.momentum_projection_operator(q, q_array, q_weights, channel, smeared=False)\n",
    "        operator_evolved = op.momentum_projection_operator(q, q_array, q_weights, channel, U_matrix,\n",
    "                                                           smeared=False)\n",
    "    \n",
    "        # Each contribution to |\\psi_d(q)|^2 for initial with total\n",
    "        psi2_3S1_3S1_initial = abs( psi_initial.T[:ntot] @ operator_initial[:ntot, :ntot] @ psi_initial[:ntot] )\n",
    "        psi2_3S1_3D1_initial = abs( psi_initial.T[:ntot] @ operator_initial[:ntot, ntot:] @ psi_initial[ntot:] )\n",
    "        psi2_3D1_3S1_initial = abs( psi_initial.T[ntot:] @ operator_initial[ntot:, :ntot] @ psi_initial[:ntot] )\n",
    "        psi2_3D1_3D1_initial = abs( psi_initial.T[ntot:] @ operator_initial[ntot:, ntot:] @ psi_initial[ntot:] )\n",
    "        psi2_initial = psi2_3S1_3S1_initial + psi2_3S1_3D1_initial + psi2_3D1_3S1_initial + psi2_3D1_3D1_initial\n",
    "\n",
    "        # Each contribution to |\\psi_d(q)|^2 for evolved with total\n",
    "        psi2_3S1_3S1_evolved = abs( psi_evolved.T[:ntot] @ operator_evolved[:ntot, :ntot] @ psi_evolved[:ntot] )\n",
    "        psi2_3S1_3D1_evolved = abs( psi_evolved.T[:ntot] @ operator_evolved[:ntot, ntot:] @ psi_evolved[ntot:] )\n",
    "        psi2_3D1_3S1_evolved = abs( psi_evolved.T[ntot:] @ operator_evolved[ntot:, :ntot] @ psi_evolved[:ntot] )\n",
    "        psi2_3D1_3D1_evolved = abs( psi_evolved.T[ntot:] @ operator_evolved[ntot:, ntot:] @ psi_evolved[ntot:] )\n",
    "        psi2_evolved = psi2_3S1_3S1_evolved + psi2_3S1_3D1_evolved + psi2_3D1_3S1_evolved + psi2_3D1_3D1_evolved\n",
    "        \n",
    "        # Calculate the percentage of each contribution\n",
    "        cont_3S1_3S1_initial = psi2_3S1_3S1_initial / psi2_initial * 100\n",
    "        cont_3S1_3D1_initial = psi2_3S1_3D1_initial / psi2_initial * 100 * 2 # Factor of 2 for 3D1-3S1\n",
    "        cont_3D1_3D1_initial = psi2_3D1_3D1_initial / psi2_initial * 100\n",
    "        cont_3S1_3S1_evolved = psi2_3S1_3S1_evolved / psi2_evolved * 100\n",
    "        cont_3S1_3D1_evolved = psi2_3S1_3D1_evolved / psi2_evolved * 100 * 2 # Factor of 2 for 3D1-3S1\n",
    "        cont_3D1_3D1_evolved = psi2_3D1_3D1_evolved / psi2_evolved * 100\n",
    "        \n",
    "        # Write to data file following the format from the header\n",
    "        line = '{:^18.6f}{:^18.6f}{:^18.6f}{:^18.6f}{:^18.6f}{:^18.6f}{:^18.6f}'.format(q, cont_3S1_3S1_initial,\n",
    "                cont_3S1_3D1_initial, cont_3D1_3D1_initial, cont_3S1_3S1_evolved, cont_3S1_3D1_evolved,\n",
    "                cont_3D1_3D1_evolved)\n",
    "        f.write('\\n' + line)\n",
    "\n",
    "    # Close file\n",
    "    f.close()\n",
    "    \n",
    "    # Save to Dropbox?\n",
    "    if save_to_dropbox:\n",
    "        _ = shutil.copy(data_directory + '/' + file_name, dropbox_directory)"
   ]
  },
  {
   "cell_type": "code",
   "execution_count": 6,
   "metadata": {
    "code_folding": []
   },
   "outputs": [],
   "source": [
    "# Deuteron partial wave contributions |\\psi_d(q)|^2 for AV18 and \\lambda=1.35 fm^-1\n",
    "\n",
    "kvnn = 6\n",
    "lamb = 1.35\n",
    "\n",
    "t0 = time.time() # Start time\n",
    "deuteron_partial_wave_contributions(kvnn, lamb)\n",
    "# deuteron_partial_wave_contributions(kvnn, lamb, save_to_dropbox=True)\n",
    "t1 = time.time() # Stop time\n",
    "mins = round( (t1 - t0) / 60.0, 5) # Minutes elapsed\n",
    "print('%.5f minutes elasped' % mins)"
   ]
  },
  {
   "cell_type": "code",
   "execution_count": 7,
   "metadata": {
    "code_folding": []
   },
   "outputs": [],
   "source": [
    "# Deuteron partial wave contributions |\\psi_d(q)|^2 for Gezerlis N2LO 1 fm and \\lambda=1.35 fm^-1\n",
    "\n",
    "kvnn = 222\n",
    "lamb = 1.35\n",
    "\n",
    "t0 = time.time() # Start time\n",
    "deuteron_partial_wave_contributions(kvnn, lamb)\n",
    "# deuteron_partial_wave_contributions(kvnn, lamb, save_to_dropbox=True)\n",
    "t1 = time.time() # Stop time\n",
    "mins = round( (t1 - t0) / 60.0, 5) # Minutes elapsed\n",
    "print('%.5f minutes elasped' % mins)"
   ]
  },
  {
   "cell_type": "markdown",
   "metadata": {},
   "source": [
    "__($^{3}S_1-^{3}D_1$) / $^{1}S_0$ SRG transformation ratio__"
   ]
  },
  {
   "cell_type": "code",
   "execution_count": 8,
   "metadata": {
    "code_folding": [
     0
    ]
   },
   "outputs": [],
   "source": [
    "def srg_transformation_partial_wave_ratios(k_0, kvnn, lamb, kmax=10.0, kmid=2.0, ntot=120,\n",
    "                                           save_to_dropbox=False):\n",
    "    \"\"\"\n",
    "    Ratio of |U(k_0, q)_{3S1-3D1}|^2 / |U(k_0, q)_{1S0}|^2 where k_0 < \\lambda.\n",
    "    \n",
    "    Parameters\n",
    "    ----------\n",
    "    k_0 : float\n",
    "        k_0 value in the ratio U(k_0, q)_{3S1} / U(k_0, q)_{1S0} [fm^-1].\n",
    "    kvnn : int\n",
    "        This number specifies the potential.\n",
    "    lamb : float\n",
    "        SRG \\lambda parameter [fm^-1].\n",
    "    kmax : float, optional\n",
    "        Maximum value in the momentum mesh [fm^-1].\n",
    "    kmid : float, optional\n",
    "        Mid-point value in the momentum mesh [fm^-1].\n",
    "    ntot : int, optional\n",
    "        Number of momentum points in mesh.\n",
    "    save_to_dropbox : bool, optional\n",
    "        Option to save file to Dropbox directory.\n",
    "\n",
    "    \"\"\"\n",
    "\n",
    "    # Make file name\n",
    "    file_name = 'srg_transformation_partial_wave_ratios_k_0_%.1f_kvnn_%d_lamb_%.2f_kmax_%.1f' % (k_0, kvnn,\n",
    "                                                                                                 lamb, kmax)\n",
    "    file_name = ff.replace_periods(file_name) + '.dat'\n",
    "\n",
    "    # Load momentum and weights (channel argument doesn't matter here)\n",
    "    k_array, k_weights = vnn.load_momentum(kvnn, '1S0')\n",
    "    \n",
    "    # Divide out integration factors with factor_array\n",
    "    factor_array = np.sqrt( (2*k_weights) / np.pi ) * k_array\n",
    "    row, col = np.meshgrid(factor_array, factor_array)\n",
    "    # Same thing but for coupled-channel\n",
    "    factor_array_cc = np.concatenate( (factor_array, factor_array) )\n",
    "    row_cc, col_cc = np.meshgrid(factor_array_cc, factor_array_cc)\n",
    "    \n",
    "    # Load initial and evolved Hamiltonians [MeV], and SRG transformations\n",
    "    # 1S0\n",
    "    H_initial_1s0 = vnn.load_hamiltonian(kvnn, '1S0')\n",
    "    H_evolved_1s0 = vnn.load_hamiltonian(kvnn, '1S0', method='srg', lamb=lamb)\n",
    "    # 3S1\n",
    "    H_initial_3s1 = vnn.load_hamiltonian(kvnn, '3S1')\n",
    "    H_evolved_3s1 = vnn.load_hamiltonian(kvnn, '3S1', method='srg', lamb=lamb)\n",
    "    \n",
    "    # Calculate SRG transformation with eigenvectors of initial and evolved Hamiltonians dividing out \n",
    "    # integration factors\n",
    "    U_matrix_1s0 = SRG_unitary_transformation(H_initial_1s0, H_evolved_1s0) / row / col\n",
    "    U_matrix_3s1 = SRG_unitary_transformation(H_initial_3s1, H_evolved_3s1) / row_cc / col_cc\n",
    "    \n",
    "    # Index of k_0 in k_array\n",
    "    k_0_index = op.find_q_index(k_0, k_array)\n",
    "        \n",
    "    # Calculate |U(k_0, q)_{3S1-3D1}|^2\n",
    "    numerator_array = U_matrix_3s1[k_0_index, :ntot] * U_matrix_3s1.T[:ntot, k_0_index] + \\\n",
    "                      U_matrix_3s1[k_0_index, ntot:] * U_matrix_3s1.T[ntot:, k_0_index]\n",
    "        \n",
    "    # Calculate |U(k, q_i)_{1S0}|^2\n",
    "    denominator_array = U_matrix_1s0[k_0_index, :ntot] * U_matrix_1s0.T[:ntot, k_0_index]\n",
    "        \n",
    "    # Take ratio of 3S1-3D1 / 1S0\n",
    "    ratio_array = numerator_array / denominator_array\n",
    "    \n",
    "    # Open file and write header where we allocate roughly 18 centered spaces for each label\n",
    "    f = open(data_directory + '/' + file_name, 'w')\n",
    "    header = '#' + '{:^17s}{:^18s}'.format('k', 'ratio')\n",
    "    f.write(header + '\\n')\n",
    "    \n",
    "    # Loop over momenta k\n",
    "    for ik, k in enumerate(k_array):\n",
    "\n",
    "        # Write to data file following the format from the header\n",
    "        line = '{:^18.6f}{:^18.6e}'.format(k, ratio_array[ik])\n",
    "        f.write('\\n' + line)\n",
    "\n",
    "    # Close file\n",
    "    f.close()\n",
    "    \n",
    "    # Save to Dropbox?\n",
    "    if save_to_dropbox:\n",
    "        _ = shutil.copy(data_directory + '/' + file_name, dropbox_directory)"
   ]
  },
  {
   "cell_type": "code",
   "execution_count": 9,
   "metadata": {
    "code_folding": [
     0
    ]
   },
   "outputs": [],
   "source": [
    "# # U_3S1-3D1 / U_1S0 ratios for AV18 with k_0=0.1 fm^-1 and \\lambda=1.35 fm^-1\n",
    "\n",
    "# k_0 = 0.1\n",
    "# kvnn = 6\n",
    "# lamb = 1.35\n",
    "\n",
    "# t0 = time.time() # Start time\n",
    "# srg_transformation_partial_wave_ratios(k_0, kvnn, lamb, save_to_dropbox=True)\n",
    "# t1 = time.time() # Stop time\n",
    "# mins = round( (t1 - t0) / 60.0, 5) # Minutes elapsed\n",
    "# print('%.5f minutes elasped' % mins)"
   ]
  },
  {
   "cell_type": "code",
   "execution_count": 10,
   "metadata": {
    "code_folding": [
     0
    ]
   },
   "outputs": [],
   "source": [
    "# # U_3S1-3D1 / U_1S0 ratios for Gezerlis N2LO 1 fm with k_0=0.1 fm^-1 and \\lambda=1.35 fm^-1\n",
    "\n",
    "# k_0 = 0.1\n",
    "# kvnn = 222\n",
    "# lamb = 1.35\n",
    "\n",
    "# t0 = time.time() # Start time\n",
    "# srg_transformation_partial_wave_ratios(k_0, kvnn, lamb, save_to_dropbox=True)\n",
    "# t1 = time.time() # Stop time\n",
    "# mins = round( (t1 - t0) / 60.0, 5) # Minutes elapsed\n",
    "# print('%.5f minutes elasped' % mins)"
   ]
  },
  {
   "cell_type": "code",
   "execution_count": 11,
   "metadata": {
    "code_folding": [
     0
    ]
   },
   "outputs": [],
   "source": [
    "# # U_3S1-3D1 / U_1S0 ratios for Gezerlis N2LO 1.2 fm with k_0=0.1 fm^-1 and \\lambda=1.35 fm^-1\n",
    "\n",
    "# k_0 = 0.1\n",
    "# kvnn = 224\n",
    "# lamb = 1.35\n",
    "\n",
    "# t0 = time.time() # Start time\n",
    "# srg_transformation_partial_wave_ratios(k_0, kvnn, lamb, save_to_dropbox=True)\n",
    "# t1 = time.time() # Stop time\n",
    "# mins = round( (t1 - t0) / 60.0, 5) # Minutes elapsed\n",
    "# print('%.5f minutes elasped' % mins)"
   ]
  },
  {
   "cell_type": "markdown",
   "metadata": {},
   "source": [
    "__Pair momentum distributions $n_{\\lambda}^A(q,Q=0)$ under LDA__"
   ]
  },
  {
   "cell_type": "code",
   "execution_count": 12,
   "metadata": {
    "code_folding": [
     0
    ]
   },
   "outputs": [],
   "source": [
    "def lda_pair_momentum_distributions(nucleus, channels, kvnn, lamb, kmax=10.0, kmid=2.0, ntot=120,\n",
    "                                    save_to_dropbox=False):\n",
    "    \"\"\"\n",
    "    Nuclear-averaged and SRG-evolved pair momentum distributions n_\\lambda^A(q,Q=0).\n",
    "    \n",
    "    Parameters\n",
    "    ----------\n",
    "    nucleus : tuple\n",
    "        Details for various nuclei formatted as a tuple: (name (str), Z (int), N (int)) (e.g., ('O16', 8, 8)).\n",
    "    channels : tuple\n",
    "        Partial wave channels to include in the calculation (e.g., ('1S0', '3S1')).\n",
    "    kvnn : int\n",
    "        This number specifies the potential.\n",
    "    lamb : float\n",
    "        SRG \\lambda parameter [fm^-1].\n",
    "    kmax : float, optional\n",
    "        Maximum value in the momentum mesh [fm^-1].\n",
    "    kmid : float, optional\n",
    "        Mid-point value in the momentum mesh [fm^-1].\n",
    "    ntot : int, optional\n",
    "        Number of momentum points in mesh.\n",
    "    save_to_dropbox : bool, optional\n",
    "        Option to save file to Dropbox directory.\n",
    "        \n",
    "    Notes\n",
    "    -----\n",
    "    Looks like there is a bug for first q-value with S-, P-, and D-waves (not there when we take only S).\n",
    "        \n",
    "    \"\"\"\n",
    "\n",
    "    # Name of nucleus, proton number, neutron number, and mass number\n",
    "    nucleus_name = nucleus[0]\n",
    "    Z = nucleus[1]\n",
    "    N = nucleus[2]\n",
    "    A = N + Z\n",
    "    \n",
    "    # Make file name\n",
    "    file_name = 'lda_pmd_%s_channels' % nucleus_name\n",
    "    # Add each channel to file name\n",
    "    for channel in channels:\n",
    "        file_name += '_%s' % channel\n",
    "    file_name += '_kvnn_%d_lamb_%.2f_kmax_%.1f' % (kvnn, lamb, kmax)\n",
    "    file_name = ff.replace_periods(file_name) + '.dat'\n",
    "\n",
    "    # Load momentum (channel argument doesn't matter here)\n",
    "    q_array, _ = vnn.load_momentum(kvnn, '3S1', kmax, kmid, ntot)\n",
    "    \n",
    "    # Initialize pair momentum distributions class for given potential\n",
    "    pmd = pair_momentum_distributions(kvnn, channels, lamb, kmax, kmid, ntot)\n",
    "    \n",
    "    # Load r values and nucleonic densities (the r_array's are the same)\n",
    "    r_array, rho_p_array = load_density(nucleus_name, 'proton', Z, N)\n",
    "    r_array, rho_n_array = load_density(nucleus_name, 'neutron', Z, N)\n",
    "    \n",
    "    # Call LDA class\n",
    "    lda = LDA(r_array, rho_p_array, rho_n_array)\n",
    "    \n",
    "    # Calculate nuclear-averaged momentum distributions\n",
    "    n_pp_array = lda.local_density_approximation(q_array, pmd.n_lambda_pp, 'pp')\n",
    "    n_pn_array = lda.local_density_approximation(q_array, pmd.n_lambda_pn, 'pn')\n",
    "    # np is the same as pn (make sure you still account for np in figures, that is,\n",
    "    # you will need to multiply pn by 2)\n",
    "    n_nn_array = lda.local_density_approximation(q_array, pmd.n_lambda_pp, 'nn')\n",
    "    \n",
    "    # Open file and write header where we allocate roughly 18 centered spaces for each label\n",
    "    f = open(data_directory + '/' + file_name, 'w')\n",
    "    header = '#' + '{:^17s}{:^18s}{:^18s}{:^18s}'.format('q', 'pp', 'pn', 'nn')\n",
    "    f.write(header + '\\n')\n",
    "    \n",
    "    # Loop over momenta q\n",
    "    for iq, q in enumerate(q_array):\n",
    "\n",
    "        # Write to data file following the format from the header\n",
    "        line = '{:^18.6f}{:^18.6e}{:^18.6e}{:^18.6e}'.format(q, n_pp_array[iq], n_pn_array[iq], n_nn_array[iq])\n",
    "        f.write('\\n' + line)\n",
    "\n",
    "    # Close file\n",
    "    f.close()\n",
    "    \n",
    "    # Save to Dropbox?\n",
    "    if save_to_dropbox:\n",
    "        _ = shutil.copy(data_directory + '/' + file_name, dropbox_directory)"
   ]
  },
  {
   "cell_type": "code",
   "execution_count": 13,
   "metadata": {
    "code_folding": []
   },
   "outputs": [],
   "source": [
    "# LDA pair momentum distributions for AV18 with \\lambda=1.35 fm^-1 and S-waves only\n",
    "\n",
    "nuclei = ( ('C12', 6, 6), ('O16', 8, 8), ('Ca40', 20, 20), ('Ca48', 20, 28), ('Fe56', 26, 30),\n",
    "           ('Pb208', 82, 126) )\n",
    "channels = ('1S0', '3S1')\n",
    "kvnn = 6\n",
    "lamb = 1.35\n",
    "\n",
    "t0 = time.time() # Start time\n",
    "# Loop over nuclei\n",
    "for nucleus in nuclei:\n",
    "    lda_pair_momentum_distributions(nucleus, channels, kvnn, lamb)\n",
    "#     lda_pair_momentum_distributions(nucleus, channels, kvnn, lamb, save_to_dropbox=True)\n",
    "t1 = time.time() # Stop time\n",
    "mins = round( (t1 - t0) / 60.0, 5) # Minutes elapsed\n",
    "print('%.5f minutes elasped' % mins)"
   ]
  },
  {
   "cell_type": "code",
   "execution_count": 14,
   "metadata": {
    "code_folding": []
   },
   "outputs": [],
   "source": [
    "# LDA pair momentum distributions for AV18 with \\lambda=1.35 fm^-1 and S-, P-, and D-waves\n",
    "\n",
    "nuclei = ( ('C12', 6, 6), ('O16', 8, 8), ('Ca40', 20, 20), ('Ca48', 20, 28), ('Fe56', 26, 30),\n",
    "           ('Pb208', 82, 126) )\n",
    "channels = ('1S0', '3S1', '3P0', '1P1', '3P1', '3P2', '1D2', '3D2', '3D3')\n",
    "kvnn = 6\n",
    "lamb = 1.35\n",
    "\n",
    "t0 = time.time() # Start time\n",
    "# Loop over nuclei\n",
    "for nucleus in nuclei:\n",
    "    lda_pair_momentum_distributions(nucleus, channels, kvnn, lamb)\n",
    "#     lda_pair_momentum_distributions(nucleus, channels, kvnn, lamb, save_to_dropbox=True)\n",
    "t1 = time.time() # Stop time\n",
    "mins = round( (t1 - t0) / 60.0, 5) # Minutes elapsed\n",
    "print('%.5f minutes elasped' % mins)"
   ]
  },
  {
   "cell_type": "code",
   "execution_count": 15,
   "metadata": {
    "code_folding": []
   },
   "outputs": [],
   "source": [
    "# LDA pair momentum distributions for Gezerlis N2LO 1 fm with \\lambda=1.35 fm^-1 and S-waves only\n",
    "\n",
    "nuclei = ( ('C12', 6, 6), ('O16', 8, 8), ('Ca40', 20, 20), ('Ca48', 20, 28), ('Fe56', 26, 30),\n",
    "           ('Pb208', 82, 126) )\n",
    "channels = ('1S0', '3S1')\n",
    "kvnn = 222\n",
    "lamb = 1.35\n",
    "\n",
    "t0 = time.time() # Start time\n",
    "# Loop over nuclei\n",
    "for nucleus in nuclei:\n",
    "    lda_pair_momentum_distributions(nucleus, channels, kvnn, lamb)\n",
    "#    lda_pair_momentum_distributions(nucleus, channels, kvnn, lamb, save_to_dropbox=True)\n",
    "t1 = time.time() # Stop time\n",
    "mins = round( (t1 - t0) / 60.0, 5) # Minutes elapsed\n",
    "print('%.5f minutes elasped' % mins)"
   ]
  },
  {
   "cell_type": "code",
   "execution_count": 16,
   "metadata": {
    "code_folding": []
   },
   "outputs": [],
   "source": [
    "# LDA pair momentum distributions for Gezerlis N2LO 1.2 fm with \\lambda=1.35 fm^-1 and S-waves only\n",
    "\n",
    "nuclei = ( ('C12', 6, 6), ('O16', 8, 8), ('Ca40', 20, 20), ('Ca48', 20, 28), ('Fe56', 26, 30),\n",
    "           ('Pb208', 82, 126) )\n",
    "channels = ('1S0', '3S1')\n",
    "kvnn = 224\n",
    "lamb = 1.35\n",
    "\n",
    "t0 = time.time() # Start time\n",
    "# Loop over nuclei\n",
    "for nucleus in nuclei:\n",
    "    lda_pair_momentum_distributions(nucleus, channels, kvnn, lamb)\n",
    "#     lda_pair_momentum_distributions(nucleus, channels, kvnn, lamb, save_to_dropbox=True)\n",
    "t1 = time.time() # Stop time\n",
    "mins = round( (t1 - t0) / 60.0, 5) # Minutes elapsed\n",
    "print('%.5f minutes elasped' % mins)"
   ]
  },
  {
   "cell_type": "code",
   "execution_count": 17,
   "metadata": {
    "code_folding": []
   },
   "outputs": [],
   "source": [
    "# LDA pair momentum distributions for AV18 with \\lambda=1.5 and 2 fm^-1 and S-waves only\n",
    "\n",
    "nuclei = ( ('C12', 6, 6), ('O16', 8, 8), ('Ca40', 20, 20), ('Ca48', 20, 28), ('Fe56', 26, 30),\n",
    "           ('Pb208', 82, 126) )\n",
    "channels = ('1S0', '3S1')\n",
    "kvnn = 6\n",
    "lambdas = (1.5, 2.0)\n",
    "\n",
    "# Loop over nuclei and \\lambda\n",
    "t0 = time.time() # Start time\n",
    "for nucleus in nuclei:\n",
    "    for lamb in lambdas:\n",
    "        lda_pair_momentum_distributions(nucleus, channels, kvnn, lamb)\n",
    "#         lda_pair_momentum_distributions(nucleus, channels, kvnn, lamb, save_to_dropbox=True)\n",
    "t1 = time.time() # Stop time\n",
    "mins = round( (t1 - t0) / 60.0, 5) # Minutes elapsed\n",
    "print('%.5f minutes elasped' % mins)"
   ]
  },
  {
   "cell_type": "markdown",
   "metadata": {},
   "source": [
    "__Single-nucleon momentum distributions $n_{\\lambda}^A(q)$ under LDA__"
   ]
  },
  {
   "cell_type": "code",
   "execution_count": 18,
   "metadata": {
    "code_folding": [
     0
    ]
   },
   "outputs": [],
   "source": [
    "def lda_single_nucleon_momentum_distributions(nucleus, channels, kvnn, lamb, kmax=10.0, kmid=2.0, ntot=120,\n",
    "                                              save_to_dropbox=False):\n",
    "    \"\"\"\n",
    "    Nuclear-averaged and SRG-evolved single-nucleon momentum distributions n_\\lambda^A(q).\n",
    "    \n",
    "    Parameters\n",
    "    ----------\n",
    "    nucleus : tuple\n",
    "        Details for various nuclei formatted as a tuple: (name (str), Z (int), N (int)) (e.g., ('O16', 8, 8)).\n",
    "    channels : tuple\n",
    "        Partial wave channels to include in the calculation (e.g., ('1S0', '3S1')).\n",
    "    kvnn : int\n",
    "        This number specifies the potential.\n",
    "    lamb : float\n",
    "        SRG \\lambda parameter [fm^-1].\n",
    "    kmax : float, optional\n",
    "        Maximum value in the momentum mesh [fm^-1].\n",
    "    kmid : float, optional\n",
    "        Mid-point value in the momentum mesh [fm^-1].\n",
    "    ntot : int, optional\n",
    "        Number of momentum points in mesh.\n",
    "    save_to_dropbox : bool, optional\n",
    "        Option to save file to Dropbox directory.\n",
    "        \n",
    "    Notes\n",
    "    -----\n",
    "    Looks like there is a bug for last q-value (always zero).\n",
    "\n",
    "    \"\"\"\n",
    "\n",
    "    # Name of nucleus, proton number, neutron number, and mass number\n",
    "    nucleus_name = nucleus[0]\n",
    "    Z = nucleus[1]\n",
    "    N = nucleus[2]\n",
    "    A = N + Z\n",
    "    \n",
    "    # Make file name\n",
    "    file_name = 'lda_snmd_%s_channels' % nucleus_name\n",
    "    # Add each channel to file name\n",
    "    for channel in channels:\n",
    "        file_name += '_%s' % channel\n",
    "    file_name += '_kvnn_%d_lamb_%.2f_kmax_%.1f' % (kvnn, lamb, kmax)\n",
    "    file_name = ff.replace_periods(file_name) + '.dat'\n",
    "\n",
    "    # Load momentum (channel argument doesn't matter here)\n",
    "    q_array, _ = vnn.load_momentum(kvnn, '3S1', kmax, kmid, ntot)\n",
    "    \n",
    "    # Initialize pair momentum distributions class for given potential\n",
    "    snmd = single_nucleon_momentum_distributions(kvnn, channels, lamb, kmax, kmid, ntot)\n",
    "    \n",
    "    # Load r values and nucleonic densities (the r_array's are the same)\n",
    "    r_array, rho_p_array = load_density(nucleus_name, 'proton', Z, N)\n",
    "    r_array, rho_n_array = load_density(nucleus_name, 'neutron', Z, N)\n",
    "    \n",
    "    # Call LDA class\n",
    "    lda = LDA(r_array, rho_p_array, rho_n_array)\n",
    "    \n",
    "    # Calculate nuclear-averaged momentum distributions\n",
    "    n_p_array = lda.local_density_approximation(q_array, snmd.n_lambda, 'p')\n",
    "    n_n_array = lda.local_density_approximation(q_array, snmd.n_lambda, 'n')\n",
    "    \n",
    "    # Open file and write header where we allocate roughly 18 centered spaces for each label\n",
    "    f = open(data_directory + '/' + file_name, 'w')\n",
    "    header = '#' + '{:^17s}{:^18s}{:^18s}'.format('q', 'proton', 'neutron')\n",
    "    f.write(header + '\\n')\n",
    "    \n",
    "    # Loop over momenta q\n",
    "    for iq, q in enumerate(q_array):\n",
    "\n",
    "        # Write to data file following the format from the header\n",
    "        line = '{:^18.6f}{:^18.6e}{:^18.6e}'.format(q, n_p_array[iq], n_n_array[iq])\n",
    "        f.write('\\n' + line)\n",
    "\n",
    "    # Close file\n",
    "    f.close()\n",
    "    \n",
    "    # Save to Dropbox?\n",
    "    if save_to_dropbox:\n",
    "        _ = shutil.copy(data_directory + '/' + file_name, dropbox_directory)"
   ]
  },
  {
   "cell_type": "code",
   "execution_count": 19,
   "metadata": {
    "code_folding": []
   },
   "outputs": [],
   "source": [
    "# LDA single-nucleon momentum distributions for AV18 with \\lambda=1.35 fm^-1 and S-waves only\n",
    "\n",
    "nuclei = ( ('C12', 6, 6), ('O16', 8, 8), ('Ca40', 20, 20), ('Ca48', 20, 28), ('Fe56', 26, 30),\n",
    "           ('Pb208', 82, 126) )\n",
    "channels = ('1S0', '3S1')\n",
    "kvnn = 6\n",
    "lamb = 1.35\n",
    "\n",
    "t0 = time.time() # Start time\n",
    "# Loop over nuclei\n",
    "for nucleus in nuclei:\n",
    "    lda_single_nucleon_momentum_distributions(nucleus, channels, kvnn, lamb)\n",
    "#     lda_single_nucleon_momentum_distributions(nucleus, channels, kvnn, lamb, save_to_dropbox=True)\n",
    "t1 = time.time() # Stop time\n",
    "mins = round( (t1 - t0) / 60.0, 5) # Minutes elapsed\n",
    "print('%.5f minutes elasped' % mins)"
   ]
  },
  {
   "cell_type": "code",
   "execution_count": 20,
   "metadata": {
    "code_folding": []
   },
   "outputs": [],
   "source": [
    "# LDA single-nucleon momentum distributions for AV18 with \\lambda=1.35 fm^-1 and S-, P-, and D-waves\n",
    "\n",
    "nuclei = ( ('C12', 6, 6), ('O16', 8, 8), ('Ca40', 20, 20), ('Ca48', 20, 28), ('Fe56', 26, 30),\n",
    "           ('Pb208', 82, 126) )\n",
    "channels = ('1S0', '3S1', '3P0', '1P1', '3P1', '3P2', '1D2', '3D2', '3D3')\n",
    "kvnn = 6\n",
    "lamb = 1.35\n",
    "\n",
    "t0 = time.time() # Start time\n",
    "# Loop over nuclei\n",
    "for nucleus in nuclei:\n",
    "    lda_single_nucleon_momentum_distributions(nucleus, channels, kvnn, lamb)\n",
    "#     lda_single_nucleon_momentum_distributions(nucleus, channels, kvnn, lamb, save_to_dropbox=True)\n",
    "t1 = time.time() # Stop time\n",
    "mins = round( (t1 - t0) / 60.0, 5) # Minutes elapsed\n",
    "print('%.5f minutes elasped' % mins)"
   ]
  },
  {
   "cell_type": "code",
   "execution_count": 21,
   "metadata": {
    "code_folding": []
   },
   "outputs": [],
   "source": [
    "# LDA single-nucleon momentum distributions for Gezerlis N2LO 1 fm with \\lambda=1.35 fm^-1 and S-waves only\n",
    "\n",
    "nuclei = ( ('C12', 6, 6), ('O16', 8, 8), ('Ca40', 20, 20), ('Ca48', 20, 28), ('Fe56', 26, 30),\n",
    "           ('Pb208', 82, 126) )\n",
    "channels = ('1S0', '3S1')\n",
    "kvnn = 222\n",
    "lamb = 1.35\n",
    "\n",
    "t0 = time.time() # Start time\n",
    "# Loop over nuclei\n",
    "for nucleus in nuclei:\n",
    "    lda_single_nucleon_momentum_distributions(nucleus, channels, kvnn, lamb)\n",
    "#     lda_single_nucleon_momentum_distributions(nucleus, channels, kvnn, lamb, save_to_dropbox=True)\n",
    "t1 = time.time() # Stop time\n",
    "mins = round( (t1 - t0) / 60.0, 5) # Minutes elapsed\n",
    "print('%.5f minutes elasped' % mins)"
   ]
  },
  {
   "cell_type": "code",
   "execution_count": 22,
   "metadata": {
    "code_folding": []
   },
   "outputs": [],
   "source": [
    "# LDA single-nucleon momentum distributions for Gezerlis N2LO 1.2 fm with \\lambda=1.35 fm^-1 and S-waves only\n",
    "\n",
    "nuclei = ( ('C12', 6, 6), ('O16', 8, 8), ('Ca40', 20, 20), ('Ca48', 20, 28), ('Fe56', 26, 30),\n",
    "           ('Pb208', 82, 126) )\n",
    "channels = ('1S0', '3S1')\n",
    "kvnn = 224\n",
    "lamb = 1.35\n",
    "\n",
    "t0 = time.time() # Start time\n",
    "# Loop over nuclei\n",
    "for nucleus in nuclei:\n",
    "    lda_single_nucleon_momentum_distributions(nucleus, channels, kvnn, lamb)\n",
    "#     lda_single_nucleon_momentum_distributions(nucleus, channels, kvnn, lamb, save_to_dropbox=True)\n",
    "t1 = time.time() # Stop time\n",
    "mins = round( (t1 - t0) / 60.0, 5) # Minutes elapsed\n",
    "print('%.5f minutes elasped' % mins)"
   ]
  },
  {
   "cell_type": "code",
   "execution_count": 23,
   "metadata": {
    "code_folding": []
   },
   "outputs": [],
   "source": [
    "# LDA single-nucleon momentum distributions for AV18 with \\lambda=1.5 and 2 fm^-1 and S-waves only\n",
    "\n",
    "nuclei = ( ('C12', 6, 6), ('O16', 8, 8), ('Ca40', 20, 20), ('Ca48', 20, 28), ('Fe56', 26, 30),\n",
    "           ('Pb208', 82, 126) )\n",
    "channels = ('1S0', '3S1')\n",
    "kvnn = 6\n",
    "lambdas = (1.5, 2.0)\n",
    "\n",
    "t0 = time.time() # Start time\n",
    "# Loop over nuclei and \\lambda\n",
    "for nucleus in nuclei:\n",
    "    for lamb in lambdas:\n",
    "        lda_single_nucleon_momentum_distributions(nucleus, channels, kvnn, lamb)\n",
    "#         lda_single_nucleon_momentum_distributions(nucleus, channels, kvnn, lamb, save_to_dropbox=True)\n",
    "t1 = time.time() # Stop time\n",
    "mins = round( (t1 - t0) / 60.0, 5) # Minutes elapsed\n",
    "print('%.5f minutes elasped' % mins)"
   ]
  },
  {
   "cell_type": "markdown",
   "metadata": {},
   "source": [
    "__Deuteron pair momentum distribution $n_{\\lambda}^d(q)$ under LDA__"
   ]
  },
  {
   "cell_type": "code",
   "execution_count": 24,
   "metadata": {
    "code_folding": [
     0
    ]
   },
   "outputs": [],
   "source": [
    "def lda_deuteron_pair_momentum_distribution(kvnn, lamb, kmax=10.0, kmid=2.0, ntot=120, save_to_dropbox=False):\n",
    "    \"\"\"\n",
    "    Deuteron-averaged and SRG-evolved pair momentum distributions n_\\lambda^A(q).\n",
    "    \n",
    "    Parameters\n",
    "    ----------\n",
    "    kvnn : int\n",
    "        This number specifies the potential.\n",
    "    lamb : float\n",
    "        SRG \\lambda parameter [fm^-1].\n",
    "    kmax : float, optional\n",
    "        Maximum value in the momentum mesh [fm^-1].\n",
    "    kmid : float, optional\n",
    "        Mid-point value in the momentum mesh [fm^-1].\n",
    "    ntot : int, optional\n",
    "        Number of momentum points in mesh.\n",
    "    save_to_dropbox : bool, optional\n",
    "        Option to save file to Dropbox directory.\n",
    "\n",
    "    \"\"\"\n",
    "\n",
    "    # Make file name\n",
    "    file_name = 'lda_pmd_H2_channels_3S1_kvnn_%d_lamb_%.2f_kmax_%.1f' % (kvnn, lamb, kmax)\n",
    "    file_name = ff.replace_periods(file_name) + '.dat'\n",
    "\n",
    "    # Load momentum (channel argument doesn't matter here)\n",
    "    q_array, _ = vnn.load_momentum(kvnn, '3S1', kmax, kmid, ntot)\n",
    "    \n",
    "    # Initialize deuteron momentum distributions class for given potential\n",
    "    dmd = deuteron_momentum_distributions(kvnn, lamb, kmax, kmid, ntot)\n",
    "    \n",
    "    # Calculate pn pair momentum distribution\n",
    "    n_d_array = dmd.local_density_approximation(q_array, 'pair')\n",
    "    \n",
    "    # Open file and write header where we allocate roughly 18 centered spaces for each label\n",
    "    f = open(data_directory + '/' + file_name, 'w')\n",
    "    header = '#' + '{:^17s}{:^18s}'.format('q', 'pn')\n",
    "    f.write(header + '\\n')\n",
    "    \n",
    "    # Loop over momenta q\n",
    "    for iq, q in enumerate(q_array):\n",
    "\n",
    "        # Write to data file following the format from the header\n",
    "        line = '{:^18.6f}{:^18.6e}'.format(q, n_d_array[iq])\n",
    "        f.write('\\n' + line)\n",
    "\n",
    "    # Close file\n",
    "    f.close()\n",
    "    \n",
    "    # Save to Dropbox?\n",
    "    if save_to_dropbox:\n",
    "        _ = shutil.copy(data_directory + '/' + file_name, dropbox_directory)"
   ]
  },
  {
   "cell_type": "code",
   "execution_count": 25,
   "metadata": {
    "code_folding": []
   },
   "outputs": [
    {
     "name": "stdout",
     "output_type": "stream",
     "text": [
      "0.01034 minutes elasped\n"
     ]
    }
   ],
   "source": [
    "# LDA deuteron pair momentum distribution for AV18 with \\lambda=1.35 fm^-1\n",
    "\n",
    "kvnn = 6\n",
    "lamb = 1.35\n",
    "\n",
    "t0 = time.time() # Start time\n",
    "lda_deuteron_pair_momentum_distribution(kvnn, lamb)\n",
    "# lda_deuteron_pair_momentum_distribution(kvnn, lamb, save_to_dropbox=True)\n",
    "t1 = time.time() # Stop time\n",
    "mins = round( (t1 - t0) / 60.0, 5) # Minutes elapsed\n",
    "print('%.5f minutes elasped' % mins)"
   ]
  },
  {
   "cell_type": "code",
   "execution_count": 26,
   "metadata": {
    "code_folding": []
   },
   "outputs": [
    {
     "name": "stdout",
     "output_type": "stream",
     "text": [
      "0.00971 minutes elasped\n"
     ]
    }
   ],
   "source": [
    "# LDA deuteron pair momentum distribution for Gezerlis N2LO 1 fm with \\lambda=1.35 fm^-1\n",
    "\n",
    "kvnn = 222\n",
    "lamb = 1.35\n",
    "\n",
    "t0 = time.time() # Start time\n",
    "lda_deuteron_pair_momentum_distribution(kvnn, lamb)\n",
    "# lda_deuteron_pair_momentum_distribution(kvnn, lamb, save_to_dropbox=True)\n",
    "t1 = time.time() # Stop time\n",
    "mins = round( (t1 - t0) / 60.0, 5) # Minutes elapsed\n",
    "print('%.5f minutes elasped' % mins)"
   ]
  },
  {
   "cell_type": "code",
   "execution_count": 27,
   "metadata": {
    "code_folding": []
   },
   "outputs": [
    {
     "name": "stdout",
     "output_type": "stream",
     "text": [
      "0.00991 minutes elasped\n"
     ]
    }
   ],
   "source": [
    "# LDA deuteron pair momentum distribution for Gezerlis N2LO 1.2 fm with \\lambda=1.35 fm^-1\n",
    "\n",
    "kvnn = 224\n",
    "lamb = 1.35\n",
    "\n",
    "t0 = time.time() # Start time\n",
    "lda_deuteron_pair_momentum_distribution(kvnn, lamb)\n",
    "# lda_deuteron_pair_momentum_distribution(kvnn, lamb, save_to_dropbox=True)\n",
    "t1 = time.time() # Stop time\n",
    "mins = round( (t1 - t0) / 60.0, 5) # Minutes elapsed\n",
    "print('%.5f minutes elasped' % mins)"
   ]
  },
  {
   "cell_type": "code",
   "execution_count": 28,
   "metadata": {
    "code_folding": []
   },
   "outputs": [
    {
     "name": "stdout",
     "output_type": "stream",
     "text": [
      "0.01914 minutes elasped\n"
     ]
    }
   ],
   "source": [
    "# LDA deuteron pair momentum distribution for AV18 with \\lambda=1.5 and 2 fm^-1\n",
    "\n",
    "kvnn = 6\n",
    "lambdas = (1.5, 2.0)\n",
    "\n",
    "t0 = time.time() # Start time\n",
    "for lamb in lambdas:\n",
    "    lda_deuteron_pair_momentum_distribution(kvnn, lamb)\n",
    "#     lda_deuteron_pair_momentum_distribution(kvnn, lamb, save_to_dropbox=True)\n",
    "t1 = time.time() # Stop time\n",
    "mins = round( (t1 - t0) / 60.0, 5) # Minutes elapsed\n",
    "print('%.5f minutes elasped' % mins)"
   ]
  },
  {
   "cell_type": "markdown",
   "metadata": {},
   "source": [
    "__Deuteron single-nucleon momentum distribution $n_{\\lambda}^d(q)$ under LDA__"
   ]
  },
  {
   "cell_type": "code",
   "execution_count": 29,
   "metadata": {
    "code_folding": [
     0
    ]
   },
   "outputs": [],
   "source": [
    "def lda_deuteron_single_nucleon_momentum_distribution(kvnn, lamb, kmax=10.0, kmid=2.0, ntot=120,\n",
    "                                                      save_to_dropbox=False):\n",
    "    \"\"\"\n",
    "    Deuteron-averaged and SRG-evolved single-nucleon momentum distributions n_\\lambda^A(q).\n",
    "    \n",
    "    Parameters\n",
    "    ----------\n",
    "    kvnn : int\n",
    "        This number specifies the potential.\n",
    "    lamb : float\n",
    "        SRG \\lambda parameter [fm^-1].\n",
    "    kmax : float, optional\n",
    "        Maximum value in the momentum mesh [fm^-1].\n",
    "    kmid : float, optional\n",
    "        Mid-point value in the momentum mesh [fm^-1].\n",
    "    ntot : int, optional\n",
    "        Number of momentum points in mesh.\n",
    "    save_to_dropbox : bool, optional\n",
    "        Option to save file to Dropbox directory.\n",
    "        \n",
    "    Notes\n",
    "    -----\n",
    "    Looks like there is a bug for last q-value (always zero).\n",
    "\n",
    "    \"\"\"\n",
    "\n",
    "    # Make file name\n",
    "    file_name = 'lda_snmd_H2_channels_3S1_kvnn_%d_lamb_%.2f_kmax_%.1f' % (kvnn, lamb, kmax)\n",
    "    file_name = ff.replace_periods(file_name) + '.dat'\n",
    "\n",
    "    # Load momentum (channel argument doesn't matter here)\n",
    "    q_array, _ = vnn.load_momentum(kvnn, '3S1', kmax, kmid, ntot)\n",
    "    \n",
    "    # Initialize deuteron momentum distributions class for given potential\n",
    "    dmd = deuteron_momentum_distributions(kvnn, lamb, kmax, kmid, ntot)\n",
    "    \n",
    "    # Calculate single-nucleon momentum distribution (proton and neutron give same result here)\n",
    "    n_d_array = dmd.local_density_approximation(q_array, 'single-nucleon')\n",
    "\n",
    "    # Open file and write header where we allocate roughly 18 centered spaces for each label\n",
    "    f = open(data_directory + '/' + file_name, 'w')\n",
    "    header = '#' + '{:^17s}{:^18s}'.format('q', 'single-nucleon')\n",
    "    f.write(header + '\\n')\n",
    "    \n",
    "    # Loop over momenta q\n",
    "    for iq, q in enumerate(q_array):\n",
    "\n",
    "        # Write to data file following the format from the header\n",
    "        line = '{:^18.6f}{:^18.6e}'.format(q, n_d_array[iq])\n",
    "        f.write('\\n' + line)\n",
    "\n",
    "    # Close file\n",
    "    f.close()\n",
    "    \n",
    "    # Save to Dropbox?\n",
    "    if save_to_dropbox:\n",
    "        _ = shutil.copy(data_directory + '/' + file_name, dropbox_directory)"
   ]
  },
  {
   "cell_type": "code",
   "execution_count": 30,
   "metadata": {
    "code_folding": []
   },
   "outputs": [
    {
     "name": "stdout",
     "output_type": "stream",
     "text": [
      "0.29070 minutes elasped\n"
     ]
    }
   ],
   "source": [
    "# LDA deuteron single-nucleon momentum distribution for AV18 with \\lambda=1.35 fm^-1\n",
    "\n",
    "kvnn = 6\n",
    "lamb = 1.35\n",
    "\n",
    "t0 = time.time() # Start time\n",
    "lda_deuteron_single_nucleon_momentum_distribution(kvnn, lamb)\n",
    "# lda_deuteron_single_nucleon_momentum_distribution(kvnn, lamb, save_to_dropbox=True)\n",
    "t1 = time.time() # Stop time\n",
    "mins = round( (t1 - t0) / 60.0, 5) # Minutes elapsed\n",
    "print('%.5f minutes elasped' % mins)"
   ]
  },
  {
   "cell_type": "code",
   "execution_count": 31,
   "metadata": {
    "code_folding": []
   },
   "outputs": [
    {
     "name": "stdout",
     "output_type": "stream",
     "text": [
      "0.29393 minutes elasped\n"
     ]
    }
   ],
   "source": [
    "# LDA deuteron single-nucleon momentum distribution for Gezerlis N2LO 1 fm with \\lambda=1.35 fm^-1\n",
    "\n",
    "kvnn = 222\n",
    "lamb = 1.35\n",
    "\n",
    "t0 = time.time() # Start time\n",
    "lda_deuteron_single_nucleon_momentum_distribution(kvnn, lamb)\n",
    "# lda_deuteron_single_nucleon_momentum_distribution(kvnn, lamb, save_to_dropbox=True)\n",
    "t1 = time.time() # Stop time\n",
    "mins = round( (t1 - t0) / 60.0, 5) # Minutes elapsed\n",
    "print('%.5f minutes elasped' % mins)"
   ]
  },
  {
   "cell_type": "code",
   "execution_count": 32,
   "metadata": {
    "code_folding": []
   },
   "outputs": [
    {
     "name": "stdout",
     "output_type": "stream",
     "text": [
      "0.29327 minutes elasped\n"
     ]
    }
   ],
   "source": [
    "# LDA deuteron single-nucleon momentum distribution for Gezerlis N2LO 1.2 fm with \\lambda=1.35 fm^-1\n",
    "\n",
    "kvnn = 224\n",
    "lamb = 1.35\n",
    "\n",
    "t0 = time.time() # Start time\n",
    "lda_deuteron_single_nucleon_momentum_distribution(kvnn, lamb)\n",
    "# lda_deuteron_single_nucleon_momentum_distribution(kvnn, lamb, save_to_dropbox=True)\n",
    "t1 = time.time() # Stop time\n",
    "mins = round( (t1 - t0) / 60.0, 5) # Minutes elapsed\n",
    "print('%.5f minutes elasped' % mins)"
   ]
  },
  {
   "cell_type": "code",
   "execution_count": 33,
   "metadata": {
    "code_folding": []
   },
   "outputs": [
    {
     "name": "stdout",
     "output_type": "stream",
     "text": [
      "0.58655 minutes elasped\n"
     ]
    }
   ],
   "source": [
    "# LDA deuteron single-nucleon momentum distribution for AV18 with \\lambda=1.5 and 2 fm^-1\n",
    "\n",
    "kvnn = 6\n",
    "lambdas = (1.5, 2.0)\n",
    "\n",
    "t0 = time.time() # Start time\n",
    "for lamb in lambdas:\n",
    "    lda_deuteron_single_nucleon_momentum_distribution(kvnn, lamb)\n",
    "#     lda_deuteron_single_nucleon_momentum_distribution(kvnn, lamb, save_to_dropbox=True)\n",
    "t1 = time.time() # Stop time\n",
    "mins = round( (t1 - t0) / 60.0, 5) # Minutes elapsed\n",
    "print('%.5f minutes elasped' % mins)"
   ]
  },
  {
   "cell_type": "markdown",
   "metadata": {},
   "source": [
    "__$a_2$ scaling factors__"
   ]
  },
  {
   "cell_type": "code",
   "execution_count": 34,
   "metadata": {
    "code_folding": [
     0
    ]
   },
   "outputs": [],
   "source": [
    "def a2_scaling_factors(nuclei, channels, kvnn, lamb, integration_limits=(2.0,), kmax=10.0, kmid=2.0,\n",
    "                       ntot=120, save_to_dropbox=False):\n",
    "    \"\"\"\n",
    "    a_2 scaling factors evaluated using LDA nuclear-averaged, SRG-evolved single-nucleon momentum\n",
    "    distributions. These factors are defined by\n",
    "        ( \\int_{q_start}^{q_stop} dq P^A(q) ) / ( \\int_{q_start}^{q_stop} dq P^d(q) ),\n",
    "    where P^A(q) is the single-nucleon probability distribution defined by P^A(q) = q^2 n^A(q) / A.\n",
    "    The integration limits are set to 2-\\infty fm^-1 by default. This function cannot be run without\n",
    "    first generating data with lda_single_nucleon_momentum_distributions and\n",
    "    lda_deuteron_single_nucleon_momentum_distribution.\n",
    "    \n",
    "    Parameters\n",
    "    ----------\n",
    "    nuclei : tuple\n",
    "        Tuple that contains the details for various nuclei formatted as another tuple:\n",
    "        (name (str), Z (int), N (int)) (e.g., nuclei[i] = ('O16', 8, 8)).\n",
    "    channels : tuple\n",
    "        Partial wave channels to include in the calculation (e.g., ('1S0', '3S1')).\n",
    "    kvnn : int\n",
    "        This number specifies the potential.\n",
    "    lamb : float\n",
    "        SRG \\lambda parameter [fm^-1].\n",
    "    integration_limits : tuple, optional\n",
    "        Integration limits for a_2 calculation [fm^-1]. If no maximum is specified, then the function\n",
    "        takes q to \\infty.\n",
    "    kmax : float, optional\n",
    "        Maximum value in the momentum mesh [fm^-1].\n",
    "    kmid : float, optional\n",
    "        Mid-point value in the momentum mesh [fm^-1].\n",
    "    ntot : int, optional\n",
    "        Number of momentum points in mesh.\n",
    "    save_to_dropbox : bool, optional\n",
    "        Option to save file to Dropbox directory.\n",
    "    \n",
    "    \"\"\"\n",
    "\n",
    "    # Make file name\n",
    "    file_name_1 = 'a2_scaling_factors_nuclei' # First part of name\n",
    "    # Add each nucleus to file name\n",
    "    for nucleus in nuclei:\n",
    "        file_name_1 += '_%s' % nucleus[0]\n",
    "    # Use this second part to load the snmd files easily which are common\n",
    "    file_name_2 = '_channels'\n",
    "    # Add each channel to file name\n",
    "    for channel in channels:\n",
    "        file_name_2 += '_%s' % channel\n",
    "    file_name_2 += '_kvnn_%d_lamb_%.2f_kmax_%.1f' % (kvnn, lamb, kmax)\n",
    "    # Add integration limits to file name\n",
    "    if len(integration_limits) == 1: # Assumes only minimum specified\n",
    "        file_name = file_name_1 + file_name_2 + '_limits_%.1f_%.1f' % (integration_limits[0], kmax)\n",
    "    elif len(integration_limits) == 2:\n",
    "        file_name = file_name_1 + file_name_2 + '_limits_%.1f_%.1f' % (integration_limits[0],\n",
    "                                                                       integration_limits[1])\n",
    "\n",
    "    # Replace periods\n",
    "    file_name = ff.replace_periods(file_name) + '.dat'\n",
    "\n",
    "    # Load momentum and weights\n",
    "    q_array, q_weights = vnn.load_momentum(kvnn, '3S1', kmax, kmid, ntot)\n",
    "    \n",
    "    # Set integration limits for extraction of a_2\n",
    "    if len(integration_limits) == 1:\n",
    "        q_min_index = op.find_q_index(integration_limits[0], q_array)\n",
    "        q_max_index = ntot # Corresponds to \\infty\n",
    "    elif len(integration_limits) == 2:\n",
    "        q_min_index = op.find_q_index(integration_limits[0], q_array)\n",
    "        q_max_index = op.find_q_index(integration_limits[1], q_array)\n",
    "                \n",
    "        \n",
    "    # Load deuteron single-nucleon momentum distribution\n",
    "    deuteron_file_name = 'lda_snmd_H2_channels_3S1_kvnn_%d_lamb_%.2f_kmax_%.1f' % (kvnn, lamb, kmax)\n",
    "    deuteron_file_name = ff.replace_periods(deuteron_file_name) + '.dat'   \n",
    "    deuteron_data = np.loadtxt(data_directory + '/' + deuteron_file_name)\n",
    "    \n",
    "    # Deuteron single-nucleon probability distribution (A=2 hence division by 2 here)\n",
    "    # Unclear about this factor of 2/\\pi\n",
    "    p_d_array = 2/np.pi * q_array**2 * deuteron_data[:, 1] / 2\n",
    "    \n",
    "    # Calculate deuteron denominator\n",
    "    denominator = np.sum( (q_weights * p_d_array)[q_min_index:q_max_index] )\n",
    "    \n",
    "    # Open file and write header where we allocate roughly 18 centered spaces for each label\n",
    "    f = open(data_directory + '/' + file_name, 'w')\n",
    "    header = '#' + '{:^17s}{:^18s}'.format('A', 'a_2')\n",
    "    f.write(header + '\\n') \n",
    "\n",
    "    # Loop over nuclei\n",
    "    for i, nucleus in enumerate(nuclei):\n",
    "\n",
    "        # Details of nucleus\n",
    "        nucleus_name = nucleus[0]\n",
    "        A = nucleus[1] + nucleus[2]\n",
    "        \n",
    "        # Load nuclear-averaged single-nucleon momentum distribution\n",
    "        nucleus_file_name = 'lda_snmd_%s' % nucleus_name + file_name_2\n",
    "        nucleus_file_name = ff.replace_periods(nucleus_file_name) + '.dat'   \n",
    "        nucleus_data = np.loadtxt(data_directory + '/' + nucleus_file_name)\n",
    "        \n",
    "        # Nuclear-averaged single-nucleon probability distribution for protons and neutrons\n",
    "        p_p_array = q_array**2 * nucleus_data[:, 1] / A # proton\n",
    "        p_n_array = q_array**2 * nucleus_data[:, 2] / A # neutron\n",
    "        # Combine proton and neutron for single-nucleon probability distribution\n",
    "        p_a_array = p_p_array + p_n_array\n",
    "        \n",
    "        # Calculate numerator\n",
    "        numerator = np.sum( (q_weights * p_a_array)[q_min_index:q_max_index] )\n",
    "        \n",
    "        # Compute a_2\n",
    "        a_2 = numerator / denominator\n",
    "\n",
    "        # Write to data file following the format from the header\n",
    "        line = '{:^18n}{:^18.6f}'.format(A, a_2)\n",
    "        f.write('\\n' + line)\n",
    "\n",
    "    # Close file\n",
    "    f.close()\n",
    "\n",
    "    # Save to Dropbox?\n",
    "    if save_to_dropbox:\n",
    "        _ = shutil.copy(data_directory + '/' + file_name, dropbox_directory)"
   ]
  },
  {
   "cell_type": "code",
   "execution_count": 35,
   "metadata": {
    "code_folding": []
   },
   "outputs": [],
   "source": [
    "# a_2 scaling factors for AV18 with \\lambda=1.35 fm^-1 and S-waves only\n",
    "# Integration from 2 to \\infty fm^-1\n",
    "\n",
    "nuclei = ( ('C12', 6, 6), ('O16', 8, 8), ('Ca40', 20, 20), ('Ca48', 20, 28), ('Fe56', 26, 30),\n",
    "           ('Pb208', 82, 126) )\n",
    "channels =  ('1S0', '3S1')\n",
    "kvnn = 6\n",
    "lamb = 1.35\n",
    "integration_limits = (2.0,)\n",
    "\n",
    "t0 = time.time() # Start time\n",
    "a2_scaling_factors(nuclei, channels, kvnn, lamb, integration_limits)\n",
    "# a2_scaling_factors(nuclei, channels, kvnn, lamb, integration_limits, save_to_dropbox=True)\n",
    "t1 = time.time() # Stop time\n",
    "mins = round( (t1 - t0) / 60.0, 5) # Minutes elapsed\n",
    "print('%.5f minutes elasped' % mins)"
   ]
  },
  {
   "cell_type": "code",
   "execution_count": 36,
   "metadata": {
    "code_folding": []
   },
   "outputs": [],
   "source": [
    "# a_2 scaling factors for AV18 with \\lambda=1.35 fm^-1 and S-waves only\n",
    "# Integration from 3.8 to 4.5 fm^-1\n",
    "\n",
    "nuclei = ( ('C12', 6, 6), ('O16', 8, 8), ('Ca40', 20, 20), ('Ca48', 20, 28), ('Fe56', 26, 30),\n",
    "           ('Pb208', 82, 126) )\n",
    "channels =  ('1S0', '3S1')\n",
    "kvnn = 6\n",
    "lamb = 1.35\n",
    "integration_limits = (3.8, 4.5)\n",
    "\n",
    "t0 = time.time() # Start time\n",
    "a2_scaling_factors(nuclei, channels, kvnn, lamb, integration_limits)\n",
    "# a2_scaling_factors(nuclei, channels, kvnn, lamb, integration_limits, save_to_dropbox=True)\n",
    "t1 = time.time() # Stop time\n",
    "mins = round( (t1 - t0) / 60.0, 5) # Minutes elapsed\n",
    "print('%.5f minutes elasped' % mins)"
   ]
  },
  {
   "cell_type": "code",
   "execution_count": 37,
   "metadata": {
    "code_folding": []
   },
   "outputs": [],
   "source": [
    "# a_2 scaling factors for AV18 with \\lambda=1.35 fm^-1 and S-, P-, and D-waves\n",
    "# Integration from 2 to \\infty fm^-1\n",
    "\n",
    "nuclei = ( ('C12', 6, 6), ('O16', 8, 8), ('Ca40', 20, 20), ('Ca48', 20, 28), ('Fe56', 26, 30),\n",
    "           ('Pb208', 82, 126) )\n",
    "channels = ('1S0', '3S1', '3P0', '1P1', '3P1', '3P2', '1D2', '3D2', '3D3')\n",
    "kvnn = 6\n",
    "lamb = 1.35\n",
    "integration_limits = (2.0,)\n",
    "\n",
    "t0 = time.time() # Start time\n",
    "a2_scaling_factors(nuclei, channels, kvnn, lamb, integration_limits)\n",
    "# a2_scaling_factors(nuclei, channels, kvnn, lamb, integration_limits, save_to_dropbox=True)\n",
    "t1 = time.time() # Stop time\n",
    "mins = round( (t1 - t0) / 60.0, 5) # Minutes elapsed\n",
    "print('%.5f minutes elasped' % mins)"
   ]
  },
  {
   "cell_type": "code",
   "execution_count": 38,
   "metadata": {
    "code_folding": []
   },
   "outputs": [],
   "source": [
    "# a_2 scaling factors for AV18 with \\lambda=1.35 fm^-1 and S-, P-, and D-waves\n",
    "# Integration from 3.8 to 4.5 fm^-1\n",
    "\n",
    "nuclei = ( ('C12', 6, 6), ('O16', 8, 8), ('Ca40', 20, 20), ('Ca48', 20, 28), ('Fe56', 26, 30),\n",
    "           ('Pb208', 82, 126) )\n",
    "channels = ('1S0', '3S1', '3P0', '1P1', '3P1', '3P2', '1D2', '3D2', '3D3')\n",
    "kvnn = 6\n",
    "lamb = 1.35\n",
    "integration_limits = (3.8, 4.5)\n",
    "\n",
    "t0 = time.time() # Start time\n",
    "a2_scaling_factors(nuclei, channels, kvnn, lamb, integration_limits)\n",
    "# a2_scaling_factors(nuclei, channels, kvnn, lamb, integration_limits, save_to_dropbox=True)\n",
    "t1 = time.time() # Stop time\n",
    "mins = round( (t1 - t0) / 60.0, 5) # Minutes elapsed\n",
    "print('%.5f minutes elasped' % mins)"
   ]
  },
  {
   "cell_type": "code",
   "execution_count": 39,
   "metadata": {
    "code_folding": []
   },
   "outputs": [],
   "source": [
    "# a_2 scaling factors for Gezerlis N2LO 1 fm with \\lambda=1.35 fm^-1 and S-waves only\n",
    "# Integration from 2 to \\infty fm^-1\n",
    "\n",
    "nuclei = ( ('C12', 6, 6), ('O16', 8, 8), ('Ca40', 20, 20), ('Ca48', 20, 28), ('Fe56', 26, 30),\n",
    "           ('Pb208', 82, 126) )\n",
    "channels =  ('1S0', '3S1')\n",
    "kvnn = 222\n",
    "lamb = 1.35\n",
    "integration_limits = (2.0,)\n",
    "\n",
    "t0 = time.time() # Start time\n",
    "a2_scaling_factors(nuclei, channels, kvnn, lamb, integration_limits)\n",
    "# a2_scaling_factors(nuclei, channels, kvnn, lamb, integration_limits, save_to_dropbox=True)\n",
    "t1 = time.time() # Stop time\n",
    "mins = round( (t1 - t0) / 60.0, 5) # Minutes elapsed\n",
    "print('%.5f minutes elasped' % mins)"
   ]
  },
  {
   "cell_type": "code",
   "execution_count": 40,
   "metadata": {
    "code_folding": []
   },
   "outputs": [],
   "source": [
    "# a_2 scaling factors for Gezerlis N2LO 1 fm with \\lambda=1.35 fm^-1 and S-waves only\n",
    "# Integration from 3.8 to 4.5 fm^-1\n",
    "\n",
    "nuclei = ( ('C12', 6, 6), ('O16', 8, 8), ('Ca40', 20, 20), ('Ca48', 20, 28), ('Fe56', 26, 30),\n",
    "           ('Pb208', 82, 126) )\n",
    "channels =  ('1S0', '3S1')\n",
    "kvnn = 222\n",
    "lamb = 1.35\n",
    "integration_limits = (3.8, 4.5)\n",
    "\n",
    "t0 = time.time() # Start time\n",
    "a2_scaling_factors(nuclei, channels, kvnn, lamb, integration_limits)\n",
    "# a2_scaling_factors(nuclei, channels, kvnn, lamb, integration_limits, save_to_dropbox=True)\n",
    "t1 = time.time() # Stop time\n",
    "mins = round( (t1 - t0) / 60.0, 5) # Minutes elapsed\n",
    "print('%.5f minutes elasped' % mins)"
   ]
  },
  {
   "cell_type": "code",
   "execution_count": 41,
   "metadata": {
    "code_folding": []
   },
   "outputs": [],
   "source": [
    "# a_2 scaling factors for Gezerlis N2LO 1.2 fm with \\lambda=1.35 fm^-1 and S-waves only\n",
    "# Integration from 2 to \\infty fm^-1\n",
    "\n",
    "nuclei = ( ('C12', 6, 6), ('O16', 8, 8), ('Ca40', 20, 20), ('Ca48', 20, 28), ('Fe56', 26, 30),\n",
    "           ('Pb208', 82, 126) )\n",
    "channels =  ('1S0', '3S1')\n",
    "kvnn = 224\n",
    "lamb = 1.35\n",
    "integration_limits = (2.0,)\n",
    "\n",
    "t0 = time.time() # Start time\n",
    "a2_scaling_factors(nuclei, channels, kvnn, lamb, integration_limits)\n",
    "# a2_scaling_factors(nuclei, channels, kvnn, lamb, integration_limits, save_to_dropbox=True)\n",
    "t1 = time.time() # Stop time\n",
    "mins = round( (t1 - t0) / 60.0, 5) # Minutes elapsed\n",
    "print('%.5f minutes elasped' % mins)"
   ]
  },
  {
   "cell_type": "code",
   "execution_count": 42,
   "metadata": {
    "code_folding": []
   },
   "outputs": [],
   "source": [
    "# a_2 scaling factors for Gezerlis N2LO 1.2 fm with \\lambda=1.35 fm^-1 and S-waves only\n",
    "# Integration from 3.8 to 4.5 fm^-1\n",
    "\n",
    "nuclei = ( ('C12', 6, 6), ('O16', 8, 8), ('Ca40', 20, 20), ('Ca48', 20, 28), ('Fe56', 26, 30),\n",
    "           ('Pb208', 82, 126) )\n",
    "channels =  ('1S0', '3S1')\n",
    "kvnn = 224\n",
    "lamb = 1.35\n",
    "integration_limits = (3.8, 4.5)\n",
    "\n",
    "t0 = time.time() # Start time\n",
    "a2_scaling_factors(nuclei, channels, kvnn, lamb, integration_limits)\n",
    "# a2_scaling_factors(nuclei, channels, kvnn, lamb, integration_limits, save_to_dropbox=True)\n",
    "t1 = time.time() # Stop time\n",
    "mins = round( (t1 - t0) / 60.0, 5) # Minutes elapsed\n",
    "print('%.5f minutes elasped' % mins)"
   ]
  },
  {
   "cell_type": "code",
   "execution_count": 43,
   "metadata": {
    "code_folding": []
   },
   "outputs": [],
   "source": [
    "# a_2 scaling factors for AV18 with \\lambda=1.5 and 2 fm^-1 and S-waves only\n",
    "# Doing both integration limits from before\n",
    "\n",
    "nuclei = ( ('C12', 6, 6), ('O16', 8, 8), ('Ca40', 20, 20), ('Ca48', 20, 28), ('Fe56', 26, 30),\n",
    "           ('Pb208', 82, 126) )\n",
    "channels =  ('1S0', '3S1')\n",
    "kvnn = 6\n",
    "lambdas = (1.5, 2.0)\n",
    "integration_limits_tuple = ( (2.0,), (3.8, 4.5) )\n",
    "\n",
    "t0 = time.time() # Start time\n",
    "for lamb in lambdas:\n",
    "    for integration_limits in integration_limits_tuple:\n",
    "        a2_scaling_factors(nuclei, channels, kvnn, lamb, integration_limits)\n",
    "#         a2_scaling_factors(nuclei, channels, kvnn, lamb, integration_limits, save_to_dropbox=True)\n",
    "t1 = time.time() # Stop time\n",
    "mins = round( (t1 - t0) / 60.0, 5) # Minutes elapsed\n",
    "print('%.5f minutes elasped' % mins)"
   ]
  },
  {
   "cell_type": "markdown",
   "metadata": {},
   "source": [
    "__Extras__"
   ]
  },
  {
   "cell_type": "code",
   "execution_count": 44,
   "metadata": {
    "code_folding": [
     0
    ]
   },
   "outputs": [],
   "source": [
    "def deuteron_partial_wave_ratios(kvnn, lamb, kmax=10.0, kmid=2.0, ntot=120, save_to_dropbox=False):\n",
    "    \"\"\"\n",
    "    3S1-only / 3S1-3D1 ratio of the \\delta U^2 SRG-evolved deuteron pair momentum distribution term\n",
    "    using deuteron wave function (not LDA).\n",
    "    \n",
    "    Parameters\n",
    "    ----------\n",
    "    kvnn : int\n",
    "        This number specifies the potential.\n",
    "    lamb : float\n",
    "        SRG \\lambda parameter [fm^-1].\n",
    "    kmax : float, optional\n",
    "        Maximum value in the momentum mesh [fm^-1].\n",
    "    kmid : float, optional\n",
    "        Mid-point value in the momentum mesh [fm^-1].\n",
    "    ntot : int, optional\n",
    "        Number of momentum points in mesh.\n",
    "    save_to_dropbox : bool, optional\n",
    "        Option to save file to Dropbox directory.\n",
    "\n",
    "    \"\"\"\n",
    "\n",
    "    # Load momentum\n",
    "    q_array, _ = vnn.load_momentum(kvnn, '3S1', kmax, kmid, ntot)\n",
    "    \n",
    "    # Initialize deuteron momentum distributions class for given potential\n",
    "    dmd = deuteron_momentum_distributions(kvnn, lamb, kmax, kmid, ntot)\n",
    "    \n",
    "    # Initialize file\n",
    "    file_name = 'deuteron_partial_wave_ratios_kvnn_%d_lamb_%.2f_kmax_%.1f' % (kvnn, lamb, kmax)\n",
    "    file_name = ff.replace_periods(file_name) + '.dat'\n",
    "    f = open(data_directory + '/' + file_name, 'w')\n",
    "    \n",
    "    # Write header where we allocate roughly 18 centered spaces for each label\n",
    "    header = '#' + '{:^17s}{:^18s}'.format('q', 'ratio')\n",
    "    f.write(header + '\\n')\n",
    "    \n",
    "    # Loop over momenta q\n",
    "    for iq, q in enumerate(q_array):\n",
    "        \n",
    "        # Calculate ratio (don't need total)\n",
    "        _, ratio = dmd.n_lambda_pair_exact(q, contributions='partial_wave_ratio')\n",
    "\n",
    "        # Write to data file following the format from the header\n",
    "        line = '{:^18.6f}{:^18.6e}'.format(q, ratio)\n",
    "        f.write('\\n' + line)\n",
    "\n",
    "    # Close file\n",
    "    f.close()\n",
    "    \n",
    "    # Save to Dropbox?\n",
    "    if save_to_dropbox:\n",
    "        _ = shutil.copy(data_directory + '/' + file_name, dropbox_directory)"
   ]
  },
  {
   "cell_type": "code",
   "execution_count": 45,
   "metadata": {
    "code_folding": [
     0
    ]
   },
   "outputs": [],
   "source": [
    "# # Deuteron pair momentum distribution 3S1 / 3S1-3D1 ratios for AV18 with \\lambda=1.35 fm^-1 and S-waves only\n",
    "\n",
    "# kvnn = 6\n",
    "# lamb = 1.35\n",
    "\n",
    "# t0 = time.time() # Start time\n",
    "# deuteron_partial_wave_ratios(kvnn, lamb, save_to_dropbox=True)\n",
    "# t1 = time.time() # Stop time\n",
    "# mins = round( (t1 - t0) / 60.0, 5) # Minutes elapsed\n",
    "# print('%.5f minutes elasped' % mins)"
   ]
  },
  {
   "cell_type": "code",
   "execution_count": 46,
   "metadata": {
    "code_folding": [
     0
    ]
   },
   "outputs": [],
   "source": [
    "# # Deuteron pair momentum distribution 3S1 / 3S1-3D1 ratios for Gezerlis N2LO 1 fm with \\lambda=1.35 fm^-1\n",
    "\n",
    "# kvnn = 222\n",
    "# lamb = 1.35\n",
    "\n",
    "# t0 = time.time() # Start time\n",
    "# deuteron_partial_wave_ratios(kvnn, lamb, save_to_dropbox=True)\n",
    "# t1 = time.time() # Stop time\n",
    "# mins = round( (t1 - t0) / 60.0, 5) # Minutes elapsed\n",
    "# print('%.5f minutes elasped' % mins)"
   ]
  },
  {
   "cell_type": "code",
   "execution_count": 47,
   "metadata": {},
   "outputs": [],
   "source": [
    "# factorization of \\delta U \\delta U^\\dagger\n",
    "# function"
   ]
  },
  {
   "cell_type": "code",
   "execution_count": 48,
   "metadata": {},
   "outputs": [],
   "source": [
    "# write av18"
   ]
  },
  {
   "cell_type": "code",
   "execution_count": 49,
   "metadata": {},
   "outputs": [],
   "source": [
    "# write N2LO"
   ]
  },
  {
   "cell_type": "code",
   "execution_count": 50,
   "metadata": {},
   "outputs": [],
   "source": [
    "# S-waves / all at high-q"
   ]
  },
  {
   "cell_type": "code",
   "execution_count": 51,
   "metadata": {},
   "outputs": [],
   "source": [
    "# write for av18"
   ]
  },
  {
   "cell_type": "code",
   "execution_count": 52,
   "metadata": {},
   "outputs": [],
   "source": [
    "# contacts\n",
    "# function"
   ]
  },
  {
   "cell_type": "code",
   "execution_count": 53,
   "metadata": {},
   "outputs": [],
   "source": [
    "# write for av18"
   ]
  },
  {
   "cell_type": "code",
   "execution_count": null,
   "metadata": {
    "code_folding": []
   },
   "outputs": [],
   "source": []
  },
  {
   "cell_type": "code",
   "execution_count": null,
   "metadata": {},
   "outputs": [],
   "source": []
  }
 ],
 "metadata": {
  "kernelspec": {
   "display_name": "Python 3",
   "language": "python",
   "name": "python3"
  },
  "language_info": {
   "codemirror_mode": {
    "name": "ipython",
    "version": 3
   },
   "file_extension": ".py",
   "mimetype": "text/x-python",
   "name": "python",
   "nbconvert_exporter": "python",
   "pygments_lexer": "ipython3",
   "version": "3.8.5"
  }
 },
 "nbformat": 4,
 "nbformat_minor": 5
}

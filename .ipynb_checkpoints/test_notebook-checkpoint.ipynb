{
 "cells": [
  {
   "cell_type": "markdown",
   "id": "5aab025d",
   "metadata": {},
   "source": [
    "__File: test_notebook.ipynb__\n",
    "\n",
    "__Author:   A. J. Tropiano (tropiano.4@osu.edu)__<br/>\n",
    "__Date:     Jun 16, 2021__\n",
    "\n",
    "Jupyter notebook for testing out code or functions.\n",
    "\n",
    "__Revision history:<br/>__\n",
    "* Jun 16, 2021 - Comparing integration via looping vs using NumPy sum function.\n",
    "* Jun 17, 2021 - Testing $^4$He momentum distributions."
   ]
  },
  {
   "cell_type": "code",
   "execution_count": 1,
   "id": "1958fc25",
   "metadata": {},
   "outputs": [],
   "source": [
    "from matplotlib.offsetbox import AnchoredText\n",
    "import matplotlib.pyplot as plt\n",
    "%matplotlib inline\n",
    "import matplotlib as mpl\n",
    "import numpy as np\n",
    "import time\n",
    "# Scripts made by A.T.\n",
    "from Figures import figures_functions as ff\n",
    "from densities import load_density\n",
    "from Misc.fourier_transform import hankel_transformation_k2r\n",
    "from Misc.integration import gaussian_quadrature_mesh\n",
    "import observables as ob\n",
    "from Potentials.vsrg_macos import vnn\n",
    "from SRG.srg_unitary_transformation import SRG_unitary_transformation\n",
    "\n",
    "# Older versions\n",
    "from dmd import deuteron_momentum_distributions\n",
    "# from pmd_v2 import pair_momentum_distributions\n",
    "# from snmd import single_nucleon_momentum_distributions\n",
    "\n",
    "# Newer versions\n",
    "# from dmd_v2 import deuteron_momentum_distributions\n",
    "from pmd import pair_momentum_distributions\n",
    "from snmd_v2 import single_nucleon_momentum_distributions"
   ]
  },
  {
   "cell_type": "markdown",
   "id": "776e1ac5",
   "metadata": {},
   "source": [
    "Add notes on AV18 QMC data here\n",
    "\n",
    "1. Which versions are you using? AV18, AV18+UX, etc.?\n",
    "\n",
    "Nucleus: Single-nucleon distribution, Pair distribution, Single-nucleon densities\n",
    "\n",
    "$^4$He: AV18+UX, AV18+UX, AV18<br/>\n",
    "$^8$He: AV18+UX, AV18+UX, AV18+UX<br/>\n",
    "$^{12}$C: AV18+UX, AV18+UX, n/a<br/>\n",
    "$^{16}$O: AV18, n/a, n/a<br/>\n",
    "$^{40}$Ca: AV18, n/a, n/a"
   ]
  },
  {
   "cell_type": "markdown",
   "id": "4e0abf85",
   "metadata": {},
   "source": [
    "__Set-up__"
   ]
  },
  {
   "cell_type": "code",
   "execution_count": 2,
   "id": "ce485f26",
   "metadata": {
    "code_folding": [
     0
    ]
   },
   "outputs": [],
   "source": [
    "def setup_rc_params(presentation=False):\n",
    "    \"\"\"\n",
    "    Set matplotlib's rc parameters for the plots\n",
    "    \n",
    "    Parameters\n",
    "    ----------\n",
    "    presentation : bool, optional\n",
    "        Option to enlarge font sizes for presentations.\n",
    "    \n",
    "    \"\"\"\n",
    "\n",
    "    if presentation:\n",
    "        fontsize = 14\n",
    "    else:\n",
    "        fontsize = 9\n",
    "    black = 'k'\n",
    "\n",
    "    mpl.rcdefaults()  # Set to defaults\n",
    "\n",
    "    mpl.rc('text', usetex=True)\n",
    "    mpl.rcParams['font.size'] = fontsize\n",
    "    mpl.rcParams['text.usetex'] = True\n",
    "    mpl.rcParams['font.family'] = 'serif'\n",
    "\n",
    "#     mpl.rcParams['axes.labelsize'] = fontsize\n",
    "    mpl.rcParams['axes.edgecolor'] = black\n",
    "    # mpl.rcParams['axes.xmargin'] = 0\n",
    "    mpl.rcParams['axes.labelcolor'] = black\n",
    "#     mpl.rcParams['axes.titlesize'] = fontsize\n",
    "\n",
    "    mpl.rcParams['ytick.direction'] = 'in'\n",
    "    mpl.rcParams['xtick.direction'] = 'in'\n",
    "    mpl.rcParams['xtick.labelsize'] = fontsize\n",
    "    mpl.rcParams['ytick.labelsize'] = fontsize\n",
    "    mpl.rcParams['xtick.color'] = black\n",
    "    mpl.rcParams['ytick.color'] = black\n",
    "    # Make the ticks thin enough to not be visible at the limits of the plot (over the axes border)\n",
    "    mpl.rcParams['xtick.major.width'] = mpl.rcParams['axes.linewidth'] * 0.95\n",
    "    mpl.rcParams['ytick.major.width'] = mpl.rcParams['axes.linewidth'] * 0.95\n",
    "    # The minor ticks are little too small, make them both bigger.\n",
    "    mpl.rcParams['xtick.minor.size'] = 2.4  # Default 2.0\n",
    "    mpl.rcParams['ytick.minor.size'] = 2.4\n",
    "    mpl.rcParams['xtick.major.size'] = 3.9  # Default 3.5\n",
    "    mpl.rcParams['ytick.major.size'] = 3.9\n",
    "    \n",
    "    # Added by A.T.\n",
    "    # Puts tick marks (not labels) on top and right axes\n",
    "    mpl.rcParams['xtick.top'] = True\n",
    "    mpl.rcParams['ytick.right'] = True\n",
    "    \n",
    "    ppi = 72  # points per inch\n",
    "    # dpi = 150\n",
    "#     mpl.rcParams['figure.titlesize'] = fontsize\n",
    "    mpl.rcParams['figure.dpi'] = 150  # To show up reasonably in notebooks\n",
    "    mpl.rcParams['figure.constrained_layout.use'] = False\n",
    "    # 0.02 and 3 points are the defaults:\n",
    "    # can be changed on a plot-by-plot basis using fig.set_constrained_layout_pads()\n",
    "    mpl.rcParams['figure.constrained_layout.wspace'] = 0.0\n",
    "    mpl.rcParams['figure.constrained_layout.hspace'] = 0.0\n",
    "    mpl.rcParams['figure.constrained_layout.h_pad'] = 3. / ppi  # 3 points\n",
    "    mpl.rcParams['figure.constrained_layout.w_pad'] = 3. / ppi\n",
    "\n",
    "#     mpl.rcParams['legend.title_fontsize'] = fontsize\n",
    "#     mpl.rcParams['legend.fontsize'] = fontsize\n",
    "    mpl.rcParams['legend.edgecolor'] = 'inherit'  # inherits from axes.edgecolor, to match\n",
    "    # Set facecolor with its own alpha, so edgecolor is unaffected\n",
    "    mpl.rcParams['legend.fancybox'] = True\n",
    "    mpl.rcParams['legend.facecolor'] = (1, 1, 1, 0.6)\n",
    "#     mpl.rcParams['legend.borderaxespad'] = 0.8\n",
    "    # Do not set overall alpha (affects edgecolor). Handled by facecolor above\n",
    "    mpl.rcParams['legend.framealpha'] = None\n",
    "    # This is for legend edgewidth, since it does not have its own option\n",
    "    mpl.rcParams['patch.linewidth'] = 0.8\n",
    "    mpl.rcParams['hatch.linewidth'] = 0.5\n",
    "\n",
    "    # bbox = 'tight' can distort the figure size when saved (that's its purpose).\n",
    "    # mpl.rc('savefig', transparent=False, bbox='tight', pad_inches=0.04, dpi=350, format='png')\n",
    "    # mpl.rc('savefig', transparent=False, bbox=None, dpi=400, format='png')\n",
    "    mpl.rc('savefig', bbox='tight', dpi=400)"
   ]
  },
  {
   "cell_type": "code",
   "execution_count": 3,
   "id": "8123d004",
   "metadata": {},
   "outputs": [],
   "source": [
    "# Run this cell to customize matplotlib graphics (see setup_rc_params for details)\n",
    "setup_rc_params(presentation=True)"
   ]
  },
  {
   "cell_type": "code",
   "execution_count": 4,
   "id": "8167116b",
   "metadata": {},
   "outputs": [],
   "source": [
    "kvnn = 6\n",
    "channels = ('1S0', '3S1')\n",
    "lamb = 1.35\n",
    "# lamb = 2.0\n",
    "kmax, kmid, ntot = 15.0, 3.0, 120\n",
    "\n",
    "# Get momentum and weights (channel argument doesn't matter here)\n",
    "q_array, q_weights = vnn.load_momentum(kvnn, '1S0', kmax, kmid, ntot)\n",
    "\n",
    "# nucleus, Z, N = 'He4', 2, 2\n",
    "# nucleus, Z, N = 'He8', 2, 6\n",
    "nucleus, Z, N = 'C12', 6, 6"
   ]
  },
  {
   "cell_type": "markdown",
   "id": "ae5984f7",
   "metadata": {},
   "source": [
    "__Densities__"
   ]
  },
  {
   "cell_type": "code",
   "execution_count": 5,
   "id": "fde68ab0",
   "metadata": {
    "code_folding": [
     0
    ]
   },
   "outputs": [],
   "source": [
    "# # Details of example nuclei (format is (nuclei, Z, N) )\n",
    "# nuclei_details = ( ('He4', 2, 2), ('C12', 6, 6), ('O16', 8, 8), ('Ca40', 20, 20),\n",
    "#                    ('Ca48', 20, 28), ('Fe56', 26, 30), ('Pb208', 82, 126) )\n",
    "\n",
    "# # Get deuteron density\n",
    "# # Load evolved deuteron wave function in momentum-space\n",
    "# channel = '3S1'\n",
    "# H_initial = vnn.load_hamiltonian(kvnn, channel, kmax, kmid, ntot)\n",
    "# H_evolved = vnn.load_hamiltonian(kvnn, channel, kmax, kmid, ntot, method='srg', generator='Wegner', lamb=lamb)\n",
    "# U_matrix = SRG_unitary_transformation(H_initial, H_evolved)\n",
    "# psi_k_unitless = ob.wave_function(H_initial, U=U_matrix)\n",
    "        \n",
    "# # Divide out momenta/weights\n",
    "# factor_array = np.concatenate( (np.sqrt(q_weights) * q_array, np.sqrt(q_weights) * q_array) ) * np.sqrt(2/np.pi)\n",
    "# psi_k = psi_k_unitless / factor_array\n",
    "\n",
    "# dr = 0.1\n",
    "# r_d_array = np.linspace(dr, 20.0, 200)\n",
    "# hank_trans_3S1 = hankel_transformation_k2r('3S1', q_array, q_weights, r_d_array)\n",
    "# hank_trans_3D1 = hankel_transformation_k2r('3D1', q_array, q_weights, r_d_array)\n",
    "    \n",
    "# psi_r_3S1 = hank_trans_3S1 @ psi_k[:ntot]\n",
    "# psi_r_3D1 = hank_trans_3D1 @ psi_k[ntot:]\n",
    "    \n",
    "# rho_d = psi_r_3S1**2 + psi_r_3D1**2\n",
    "    \n",
    "# # This is normalized to 1\n",
    "# normalization = np.sum(r_d_array**2 * rho_d) * dr\n",
    "# print(normalization)\n",
    "    \n",
    "# kF_pn_array = ( 3*np.pi**2 * rho_d )**(1/3)\n",
    "    \n",
    "# # Plot densities as a function of r\n",
    "# plt.clf()\n",
    "\n",
    "# # Deuteron first\n",
    "# plt.plot(r_d_array, rho_d, label='H2')\n",
    "\n",
    "# for i, nuclei_list in enumerate(nuclei_details):\n",
    "        \n",
    "#     # Plot density for some nuclei here\n",
    "#     nucleus = nuclei_list[0]\n",
    "#     nucleon = 'proton'\n",
    "#     Z = nuclei_list[1]\n",
    "#     N = nuclei_list[2]\n",
    "#     if nucleus == 'He4':\n",
    "#         r_array, rho_array = load_density(nucleus, nucleon, Z, N, 'AV18')\n",
    "#     else:\n",
    "#         r_array, rho_array = load_density(nucleus, nucleon, Z, N, 'SLY4')\n",
    "\n",
    "# #     plt.plot(r_array, rho_array, label=nucleus)\n",
    "#     plt.plot(r_array, 4*np.pi*rho_array, label=nucleus)\n",
    "    \n",
    "#     print( 4*np.pi*np.sum(0.1 * r_array**2 * rho_array) )\n",
    "    \n",
    "# #     if nucleus == 'He4':\n",
    "# #         norm = 4*np.pi*np.sum(0.1 * r_array**2 * rho_array)\n",
    "# #         r = 4*np.pi*np.sum(0.1*r_array**4*rho_array)\n",
    "# #         print('He4 radius = %.5f ' % (np.sqrt(r/norm)))\n",
    "        \n",
    "# plt.xlim( [0.0, 10.0] )\n",
    "# plt.legend(loc='upper right', frameon=False)\n",
    "# plt.xlabel('r [fm]')\n",
    "# plt.ylabel(r'$\\rho_p(r)$' + ' [fm' + r'$^{-3}$' + ']')\n",
    "# plt.show()\n",
    "    \n",
    "# # Plot proton k_F for some nuclei as function of r\n",
    "# plt.clf()\n",
    "\n",
    "# # Deuteron first\n",
    "# plt.plot(r_d_array, kF_pn_array, label='H2')\n",
    "\n",
    "# for j, nuclei_list in enumerate(nuclei_details):\n",
    "        \n",
    "#     # Plot density for some nuclei here\n",
    "#     nucleus = nuclei_list[0]\n",
    "#     nucleon = 'proton'\n",
    "#     Z = nuclei_list[1]\n",
    "#     N = nuclei_list[2]\n",
    "#     if nucleus == 'He4':\n",
    "#         r_array, rho_array = load_density(nucleus, nucleon, Z, N, 'AV18')\n",
    "#     else:\n",
    "#         r_array, rho_array = load_density(nucleus, nucleon, Z, N)\n",
    "#     kF_array = ( 3*np.pi**2 * rho_array )**(1/3)\n",
    "\n",
    "#     plt.plot(r_array, kF_array, label=nucleus)\n",
    "\n",
    "# plt.xlim( [0.0, 15.0] )\n",
    "# plt.legend(loc='upper right', frameon=False)\n",
    "# plt.xlabel('r [fm]')\n",
    "# plt.ylabel(r'$k_F(r)$' + ' [fm' + r'$^{-1}$' + ']')\n",
    "# plt.show()"
   ]
  },
  {
   "cell_type": "markdown",
   "id": "5d4f1c2b",
   "metadata": {},
   "source": [
    "__Write single-nucleon distribution files__"
   ]
  },
  {
   "cell_type": "code",
   "execution_count": 6,
   "id": "14619ac3",
   "metadata": {
    "code_folding": []
   },
   "outputs": [
    {
     "name": "stdout",
     "output_type": "stream",
     "text": [
      "4.72827 minutes elapsed.\n"
     ]
    }
   ],
   "source": [
    "snmd = single_nucleon_momentum_distributions(kvnn, channels, lamb, kmax, kmid, ntot, interp=False)\n",
    "\n",
    "t0 = time.time()\n",
    "if nucleus == 'He4' or nucleus == 'He8':\n",
    "    # snmd.write_files(nucleus, 'proton', Z, N, 'AV18')\n",
    "    snmd.write_file(nucleus, 'proton', Z, N, 'AV18')\n",
    "else:\n",
    "    # snmd.write_files(nucleus, 'proton', Z, N, 'SLY4')\n",
    "    snmd.write_file(nucleus, 'proton', Z, N, 'SLY4')\n",
    "t1 = time.time()\n",
    "\n",
    "mins = (t1-t0)/60\n",
    "print('%.5f minutes elapsed.' % mins)"
   ]
  },
  {
   "cell_type": "markdown",
   "id": "c70048aa",
   "metadata": {},
   "source": [
    "__Proton momentum distribution__"
   ]
  },
  {
   "cell_type": "code",
   "execution_count": 10,
   "id": "4a7ee94f",
   "metadata": {},
   "outputs": [
    {
     "data": {
      "text/plain": [
       "<matplotlib.legend.Legend at 0x7f9a6ba48700>"
      ]
     },
     "execution_count": 10,
     "metadata": {},
     "output_type": "execute_result"
    },
    {
     "data": {
      "image/png": "[encoded data removed]",
      "text/plain": [
       "<Figure size 600x600 with 1 Axes>"
      ]
     },
     "metadata": {},
     "output_type": "display_data"
    }
   ],
   "source": [
    "# Compare to AV18 QMC He4 momentum distribution\n",
    "# (copied from snmd_tails_with_AV18 in src_physics_fig.ipynb)\n",
    "\n",
    "# Figure size\n",
    "row_number = 1\n",
    "col_number = 1\n",
    "figure_size = (4*col_number, 4*row_number)\n",
    "\n",
    "# Axes labels and fontsize\n",
    "x_label = 'q [fm' + r'$^{-1}$' + ']'\n",
    "x_label_size = 16\n",
    "y_label = 'proton ' + r'$n_{\\lambda}^A(q)/Z$' + ' [fm' + r'$^3$' + ']'\n",
    "y_label_size = 16\n",
    "\n",
    "# Axes limits\n",
    "xlim = (0.0, 6)\n",
    "if nucleus == 'C12':\n",
    "    ylim = (4e-4, 1e2)\n",
    "else:\n",
    "    ylim = (4e-4, 1e2)\n",
    "    \n",
    "# Curve width\n",
    "curve_width = 2.0\n",
    "\n",
    "# Initialize figure\n",
    "plt.close('all')\n",
    "f, ax = plt.subplots(figsize=figure_size)\n",
    "\n",
    "# Use interpolated function for proton distribution\n",
    "snmd_interp = single_nucleon_momentum_distributions(kvnn, channels, lamb, kmax, kmid, ntot, interp=True)\n",
    "\n",
    "nucleon = 'proton'\n",
    "# Ignore 1, \\delta U, and \\delta U^2 isolated contributions (take total only)\n",
    "n_p_func, _, _, _ = snmd_interp.n_lambda_interp(nucleus, nucleon, Z, N)\n",
    "\n",
    "# Evaluate at all q values\n",
    "n_p_array = n_p_func(q_array)\n",
    "\n",
    "# Legend label\n",
    "curve_label = ff.nuclei_label_conversion(nucleus) # Labels the nucleus\n",
    "    \n",
    "# Set y-axis to log scale\n",
    "ax.set_yscale('log')\n",
    "    \n",
    "# Add curve to figure dividing by Z\n",
    "ax.plot(q_array, n_p_array/Z, color='xkcd:red', label=curve_label, linewidth=curve_width)\n",
    "        \n",
    "# Add AV18 data with error bars\n",
    "av18_data = np.loadtxt('Figures/SRC_physics/Data/AV18_%s_snmd.txt' % nucleus)\n",
    "q_array_p_av18 = av18_data[:, 0] # fm^-1\n",
    "n_p_array_av18 = av18_data[:, 1]\n",
    "error_bars_array_av18 = av18_data[:, 2]\n",
    "            \n",
    "# AV18 data with error bars\n",
    "ax.errorbar(q_array_p_av18, n_p_array_av18/Z, yerr=error_bars_array_av18/Z, color='xkcd:black', label='AV18',\n",
    "            linestyle='', marker='.')\n",
    "    \n",
    "# Shade gray from 0 to \\lambda value on plot\n",
    "ax.fill_betweenx(ylim, 0.0, lamb, edgecolor='xkcd:grey', facecolor='xkcd:grey', alpha=0.3)\n",
    "\n",
    "# Specify axes limits\n",
    "ax.set_xlim(xlim)\n",
    "ax.set_ylim(ylim)\n",
    "        \n",
    "# Set axes labels\n",
    "ax.set_xlabel(x_label, fontsize=x_label_size)\n",
    "ax.set_ylabel(y_label, fontsize=y_label_size)\n",
    "\n",
    "# Add legend\n",
    "legend_size = 16\n",
    "legend_location = 'upper right'\n",
    "ax.legend(loc=legend_location, frameon=False, fontsize=legend_size)"
   ]
  },
  {
   "cell_type": "code",
   "execution_count": 12,
   "id": "2c3b8d14",
   "metadata": {},
   "outputs": [
    {
     "name": "stdout",
     "output_type": "stream",
     "text": [
      "3.0047392606354 0.07410209045024647\n",
      "3.0 0.075765\n",
      "0.9995313599400087\n",
      "1.0000066735407518\n"
     ]
    }
   ],
   "source": [
    "print(q_array[60], n_p_array[60]/Z)\n",
    "print(q_array_p_av18[30], n_p_array_av18[30]/Z)\n",
    "print(np.sum(q_weights*q_array**2*n_p_array/Z)*4*np.pi/(2*np.pi)**3)\n",
    "print(np.sum(0.1*q_array_p_av18**2*n_p_array_av18/Z)*4*np.pi/(2*np.pi)**3)"
   ]
  },
  {
   "cell_type": "markdown",
   "id": "2fd2c228",
   "metadata": {},
   "source": [
    "__Pair momentum distributions__"
   ]
  },
  {
   "cell_type": "code",
   "execution_count": 13,
   "id": "f08acaab",
   "metadata": {},
   "outputs": [
    {
     "name": "stdout",
     "output_type": "stream",
     "text": [
      "7.92121 minutes elapsed.\n"
     ]
    }
   ],
   "source": [
    "# Initialize pair momentum distributions class\n",
    "# pmd = pair_momentum_distributions(kvnn, channels, lamb, kmax, kmid, ntot) # Q=0 1st version\n",
    "# pmd = pair_momentum_distributions(kvnn, channels, lamb, kmax, kmid, ntot) # Q>0 2nd version\n",
    "pmd = pair_momentum_distributions(kvnn, channels, lamb, kmax, kmid, ntot) # Q>0 3rd version\n",
    "\n",
    "# Get densities\n",
    "if nucleus == 'He4' or nucleus == 'He8':\n",
    "    R_array, rho_p_array = load_density(nucleus, 'proton', Z, N, 'AV18')\n",
    "    if Z == N:\n",
    "        rho_n_array = rho_p_array\n",
    "    else:\n",
    "        R_array, rho_n_array = load_density(nucleus, 'neutron', Z, N, 'AV18')\n",
    "else:\n",
    "    R_array, rho_p_array = load_density(nucleus, 'proton', Z, N, 'SLY4')\n",
    "    R_array, rho_n_array = load_density(nucleus, 'neutron', Z, N, 'SLY4')\n",
    "dR = R_array[2] -  R_array[1]\n",
    "\n",
    "# # Ignore 1, \\delta U, and \\delta U^2 isolated contributions (take total only)\n",
    "# n_pn_array = 2*pmd.n_lambda(q_array, r_array, rho_array, rho_array)[:, 0]\n",
    "# n_pp_array = pmd.n_lambda(q_array, r_array, rho_array)[:, 0]\n",
    "\n",
    "# # Ignore 1, \\delta U, and \\delta U^2 isolated contributions (take total only)\n",
    "# Ntot = 50\n",
    "# # Evaluate kF values at each point in R_array to set max value of Q\n",
    "# kFp_array = (3*np.pi**2 * rho_p_array)**(1/3)\n",
    "# kFn_array = (3*np.pi**2 * rho_n_array)**(1/3)\n",
    "# Q_max = max(kFp_array) + max(kFn_array)\n",
    "# Q_array, Q_weights = gaussian_quadrature_mesh(Q_max, Ntot)\n",
    "# # Get n_\\lambda(q, Q) for each q and Q\n",
    "# n_pn_array_2d = np.zeros( (ntot, Ntot) )\n",
    "# n_pp_array_2d = np.zeros( (ntot, Ntot) )\n",
    "\n",
    "# t0 = time.time()\n",
    "# for iQ, Q in enumerate(Q_array):\n",
    "#     n_pn_array_2d[:, iQ] = 2*pmd.n_lambda(q_array, Q, r_array, rho_p_array, rho_n_array)[:, 0]\n",
    "#     n_pp_array_2d[:, iQ] = pmd.n_lambda(q_array, Q, r_array, rho_p_array)[:, 0]\n",
    "# t1 = time.time()\n",
    "# print('%.5f minutes elapsed.' % ( (t1-t0)/60 ) )\n",
    "\n",
    "Ntot = 50\n",
    "# Evaluate kF values at each point in R_array to set max value of Q\n",
    "kFp_array = (3*np.pi**2 * rho_p_array)**(1/3)\n",
    "kFn_array = (3*np.pi**2 * rho_n_array)**(1/3)\n",
    "Q_max = max(kFp_array) + max(kFn_array)\n",
    "Q_array, Q_weights = gaussian_quadrature_mesh(Q_max, Ntot)\n",
    "\n",
    "t0 = time.time()\n",
    "n_pn_array_2d = 2*pmd.n_total(q_array, Q_array, R_array, dR, rho_p_array, rho_n_array)\n",
    "n_pp_array_2d = pmd.n_total(q_array, Q_array, R_array, dR, rho_p_array)\n",
    "t1 = time.time()\n",
    "print('%.5f minutes elapsed.' % ( (t1-t0)/60 ) )\n",
    "\n",
    "# Integrate out Q dependence\n",
    "factor = 4*np.pi/(2*np.pi)**3\n",
    "_, Q_grid = np.meshgrid(q_array, Q_array**2*Q_weights, indexing='ij')\n",
    "    \n",
    "n_pn_array = factor * np.sum(Q_grid * n_pn_array_2d, axis=-1)\n",
    "n_pp_array = factor * np.sum(Q_grid * n_pp_array_2d, axis=-1)"
   ]
  },
  {
   "cell_type": "code",
   "execution_count": 14,
   "id": "fb792830",
   "metadata": {},
   "outputs": [
    {
     "data": {
      "text/plain": [
       "<matplotlib.legend.Legend at 0x7f9a6ba0bcd0>"
      ]
     },
     "execution_count": 14,
     "metadata": {},
     "output_type": "execute_result"
    },
    {
     "data": {
      "image/png": "[encoded data removed]",
      "text/plain": [
       "<Figure size 600x600 with 1 Axes>"
      ]
     },
     "metadata": {},
     "output_type": "display_data"
    }
   ],
   "source": [
    "# Compare to AV18 QMC He4 pair momentum distribution\n",
    "\n",
    "# Figure size\n",
    "row_number = 1\n",
    "col_number = 1\n",
    "figure_size = (4*col_number, 4*row_number)\n",
    "\n",
    "# Axes labels and fontsize\n",
    "x_label = 'q [fm' + r'$^{-1}$' + ']'\n",
    "x_label_size = 16\n",
    "# y_label = r'$n_{\\lambda}^A(q,0)$' + ' [fm' + r'$^3$' + ']'\n",
    "y_label = r'$n_{\\lambda}^A(q)$' + ' [fm' + r'$^3$' + ']'\n",
    "y_label_size = 16\n",
    "\n",
    "# Axes limits\n",
    "xlim = (0.0, 5)\n",
    "if nucleus == 'C12':\n",
    "    ylim = (5e-4, 2e4)\n",
    "else:\n",
    "    ylim = (5e-4, 2e4)\n",
    "    \n",
    "# Curve width\n",
    "curve_width = 2.0\n",
    "\n",
    "# Initialize figure\n",
    "plt.close('all')\n",
    "f, ax = plt.subplots(figsize=figure_size)\n",
    "\n",
    "# Set y-axis to log scale\n",
    "ax.set_yscale('log')\n",
    "    \n",
    "# Add curve to figure\n",
    "ax.plot(q_array, n_pp_array, color='xkcd:red', label=ff.nuclei_label_conversion(nucleus) + ' pp',\n",
    "        linewidth=curve_width)\n",
    "ax.plot(q_array, n_pn_array, color='xkcd:blue', label=ff.nuclei_label_conversion(nucleus) + ' np',\n",
    "        linewidth=curve_width)\n",
    "        \n",
    "# Add AV18 data with error bars\n",
    "# av18_data = np.loadtxt('Figures/SRC_physics/Data/AV18_%s_pmd.txt' % nucleus)\n",
    "av18_data = np.loadtxt('Figures/SRC_physics/Data/AV18_%s_pmd_q.txt' % nucleus)\n",
    "q_array_NN_av18 = av18_data[:, 0] # fm^-1\n",
    "n_pn_array_av18 = av18_data[:, 1]\n",
    "pn_error_bars_array_av18 = av18_data[:, 2]\n",
    "n_pp_array_av18 = av18_data[:, 3]\n",
    "pp_error_bars_array_av18 = av18_data[:, 4]\n",
    "            \n",
    "# AV18 data with error bars\n",
    "ax.errorbar(q_array_NN_av18, n_pp_array_av18, yerr=pp_error_bars_array_av18, color='xkcd:red', label='AV18 pp',\n",
    "            linestyle='', marker='.')\n",
    "ax.errorbar(q_array_NN_av18, n_pn_array_av18, yerr=pn_error_bars_array_av18, color='xkcd:blue', label='AV18 np',\n",
    "            linestyle='', marker='.')\n",
    "\n",
    "# Shade gray from 0 to \\lambda value on plot\n",
    "ax.fill_betweenx(ylim, 0.0, lamb, edgecolor='xkcd:grey', facecolor='xkcd:grey', alpha=0.3)\n",
    "\n",
    "# Specify axes limits\n",
    "ax.set_xlim(xlim)\n",
    "ax.set_ylim(ylim)\n",
    "        \n",
    "# Set axes labels\n",
    "ax.set_xlabel(x_label, fontsize=x_label_size)\n",
    "ax.set_ylabel(y_label, fontsize=y_label_size)\n",
    "\n",
    "# Add legend\n",
    "legend_size = 16\n",
    "legend_location = 'upper right'\n",
    "ax.legend(loc=legend_location, frameon=False, fontsize=legend_size)"
   ]
  },
  {
   "cell_type": "code",
   "execution_count": 15,
   "id": "af04e6e0",
   "metadata": {},
   "outputs": [
    {
     "name": "stdout",
     "output_type": "stream",
     "text": [
      "35.99770063908862\n",
      "17.999375083302127\n",
      "35.98968539603212\n",
      "14.997902563238696\n"
     ]
    }
   ],
   "source": [
    "print(factor * np.sum(q_array**2*q_weights*n_pn_array))\n",
    "print(factor * np.sum(q_array**2*q_weights*n_pp_array))\n",
    "print(factor * np.sum(q_array_NN_av18**2*0.1*n_pn_array_av18))\n",
    "print(factor * np.sum(q_array_NN_av18**2*0.1*n_pp_array_av18))   "
   ]
  },
  {
   "cell_type": "code",
   "execution_count": 16,
   "id": "42592d5a",
   "metadata": {},
   "outputs": [
    {
     "name": "stdout",
     "output_type": "stream",
     "text": [
      "3.0047392606354 0.028613192660608966\n",
      "3.0 0.28052\n"
     ]
    }
   ],
   "source": [
    "print(q_array[60], n_pp_array[60])\n",
    "print(q_array_NN_av18[30], n_pp_array_av18[30])"
   ]
  },
  {
   "cell_type": "code",
   "execution_count": 17,
   "id": "4f6b0087",
   "metadata": {},
   "outputs": [
    {
     "name": "stdout",
     "output_type": "stream",
     "text": [
      "3.0047392606354 0.3600750306627034\n",
      "3.0 0.93013\n"
     ]
    }
   ],
   "source": [
    "print(q_array[60], n_pn_array[60])\n",
    "print(q_array_NN_av18[30], n_pn_array_av18[30])"
   ]
  },
  {
   "cell_type": "markdown",
   "id": "ccc17ff0",
   "metadata": {},
   "source": [
    "__Check asymptotic relation between single-nucleon and pair momentum distributions__"
   ]
  },
  {
   "cell_type": "code",
   "execution_count": 18,
   "id": "8a183e31",
   "metadata": {},
   "outputs": [
    {
     "name": "stdout",
     "output_type": "stream",
     "text": [
      "        q                 p               2pp+pn              pp                pn        \n",
      "\n",
      "     0.001185        1.535588e+04      2.881030e+04      7.315525e+03      1.417925e+04   \n",
      "     0.006239        7.719944e+03      2.861941e+04      7.306355e+03      1.400670e+04   \n",
      "     0.015318        5.009929e+03      2.800393e+04      7.137416e+03      1.372909e+04   \n",
      "     0.028399        3.560765e+03      2.765170e+04      7.041786e+03      1.356813e+04   \n",
      "     0.045447        2.648075e+03      2.754778e+04      7.012654e+03      1.352248e+04   \n",
      "     0.066417        2.100481e+03      2.704511e+04      6.883007e+03      1.327909e+04   \n",
      "     0.091251        1.632692e+03      2.650659e+04      6.742362e+03      1.302187e+04   \n",
      "     0.119882        1.387755e+03      2.559211e+04      6.505114e+03      1.258189e+04   \n",
      "     0.152235        1.167989e+03      2.452892e+04      6.232391e+03      1.206413e+04   \n",
      "     0.188220        9.720494e+02      2.320476e+04      5.892460e+03      1.141984e+04   \n",
      "     0.227742        7.986397e+02      2.163315e+04      5.489393e+03      1.065436e+04   \n",
      "     0.270694        6.949789e+02      1.982286e+04      5.026676e+03      9.769506e+03   \n",
      "     0.316959        6.004185e+02      1.779113e+04      4.508355e+03      8.774416e+03   \n",
      "     0.366414        5.146128e+02      1.558964e+04      3.947330e+03      7.694980e+03   \n",
      "     0.418925        4.750609e+02      1.329337e+04      3.363294e+03      6.566782e+03   \n",
      "     0.474351        4.017898e+02      1.097027e+04      2.773131e+03      5.424004e+03   \n",
      "     0.532541        3.364502e+02      8.671674e+03      2.190233e+03      4.291207e+03   \n",
      "     0.593339        3.069203e+02      6.549609e+03      1.652386e+03      3.244837e+03   \n",
      "     0.656582        2.528893e+02      4.678366e+03      1.178788e+03      2.320790e+03   \n",
      "     0.722098        2.288660e+02      3.164712e+03      7.964995e+02      1.571713e+03   \n",
      "     0.789711        1.852810e+02      2.027263e+03      5.095828e+02      1.008097e+03   \n",
      "     0.859239        1.662604e+02      1.216475e+03      3.052226e+02      6.060293e+02   \n",
      "     0.930495        1.320392e+02      6.712970e+02      1.679868e+02      3.353234e+02   \n",
      "     1.003286        1.033676e+02      3.314898e+02      8.250477e+01      1.664803e+02   \n",
      "     1.077416        7.965338e+01      1.403120e+02      3.446480e+01      7.138241e+01   \n",
      "     1.152685        6.029999e+01      4.803251e+01      1.128927e+01      2.545397e+01   \n",
      "     1.228890        3.804023e+01      1.321683e+01      2.526353e+00      8.164128e+00   \n",
      "     1.305826        1.880784e+01      4.966538e+00      4.029054e-01      4.160727e+00   \n",
      "     1.383286        5.670994e+00      4.380843e+00      1.935194e-01      3.993804e+00   \n",
      "     1.461060        2.975159e+00      4.324550e+00      1.494400e-01      4.025670e+00   \n",
      "     1.538940        2.901485e+00      4.087349e+00      1.045165e-01      3.878316e+00   \n",
      "     1.616714        2.793335e+00      3.725689e+00      6.503730e-02      3.595614e+00   \n",
      "     1.694174        2.655252e+00      3.302829e+00      3.485399e-02      3.233121e+00   \n",
      "     1.771110        2.493764e+00      2.873206e+00      1.495859e-02      2.843289e+00   \n",
      "     1.847315        2.316521e+00      2.474388e+00      4.172457e-03      2.466043e+00   \n",
      "     1.922584        2.131384e+00      2.126120e+00      2.348216e-04      2.125650e+00   \n",
      "     1.996714        1.945658e+00      1.833995e+00      7.517863e-04      1.832492e+00   \n",
      "     2.069505        1.765524e+00      1.594707e+00      3.745750e-03      1.587215e+00   \n",
      "     2.140761        1.595709e+00      1.400712e+00      7.823899e-03      1.385064e+00   \n",
      "     2.210289        1.439387e+00      1.243427e+00      1.211793e-02      1.219191e+00   \n",
      "     2.277902        1.298279e+00      1.114968e+00      1.614337e-02      1.082681e+00   \n",
      "     2.343418        1.172883e+00      1.008836e+00      1.966494e-02      9.695062e-01   \n",
      "     2.406661        1.062784e+00      9.200046e-01      2.259734e-02      8.748099e-01   \n",
      "     2.467459        9.669530e-01      8.447194e-01      2.494074e-02      7.948379e-01   \n",
      "     2.525649        8.840348e-01      7.802246e-01      2.674110e-02      7.267424e-01   \n",
      "     2.581075        8.125500e-01      7.245024e-01      2.806610e-02      6.683702e-01   \n",
      "     2.633586        7.510396e-01      6.760647e-01      2.899081e-02      6.180831e-01   \n",
      "     2.683041        6.981598e-01      6.337979e-01      2.958926e-02      5.746194e-01   \n",
      "     2.729306        6.527222e-01      5.968539e-01      2.992992e-02      5.369940e-01   \n",
      "     2.772258        6.137105e-01      5.645739e-01      3.007352e-02      5.044269e-01   \n",
      "     2.811780        5.802694e-01      5.364370e-01      3.007232e-02      4.762924e-01   \n",
      "     2.847765        5.516935e-01      5.120242e-01      2.997035e-02      4.520835e-01   \n",
      "     2.880118        5.274082e-01      4.909948e-01      2.980401e-02      4.313868e-01   \n",
      "     2.908749        5.069445e-01      4.730698e-01      2.960293e-02      4.138639e-01   \n",
      "     2.933583        4.899290e-01      4.580200e-01      2.939088e-02      3.992383e-01   \n",
      "     2.954553        4.760634e-01      4.456586e-01      2.918661e-02      3.872853e-01   \n",
      "     2.971601        4.651129e-01      4.358351e-01      2.900463e-02      3.778258e-01   \n",
      "     2.984682        4.568995e-01      4.284318e-01      2.885586e-02      3.707201e-01   \n",
      "     2.993761        4.512926e-01      4.233608e-01      2.874814e-02      3.658645e-01   \n",
      "     2.998815        4.482036e-01      4.205613e-01      2.868664e-02      3.631880e-01   \n",
      "     3.004739        4.446125e-01      4.173014e-01      2.861319e-02      3.600750e-01   \n",
      "     3.024957        4.325899e-01      4.063466e-01      2.835184e-02      3.496429e-01   \n",
      "     3.061273        4.118579e-01      3.873134e-01      2.784397e-02      3.316255e-01   \n",
      "     3.113597        3.837971e-01      3.612803e-01      2.703688e-02      3.072066e-01   \n",
      "     3.181789        3.501193e-01      3.296646e-01      2.587836e-02      2.779079e-01   \n",
      "     3.265666        3.126554e-01      2.940981e-01      2.433578e-02      2.454266e-01   \n",
      "     3.365002        2.731971e-01      2.563062e-01      2.241184e-02      2.114825e-01   \n",
      "     3.479529        2.334018e-01      2.179920e-01      2.015285e-02      1.776863e-01   \n",
      "     3.608938        1.947424e-01      1.807291e-01      1.764683e-02      1.454354e-01   \n",
      "     3.752880        1.584689e-01      1.458632e-01      1.501242e-02      1.158384e-01   \n",
      "     3.910968        1.255681e-01      1.144340e-01      1.238154e-02      8.967095e-02   \n",
      "     4.082775        9.672428e-02      8.712563e-02      9.880403e-03      6.736482e-02   \n",
      "     4.267838        7.229882e-02      6.425612e-02      7.613304e-03      4.902951e-02   \n",
      "     4.465657        5.233738e-02      4.580629e-02      5.652027e-03      3.450224e-02   \n",
      "     4.675701        3.661124e-02      3.148115e-02      4.032064e-03      2.341702e-02   \n",
      "     4.897402        2.468307e-02      2.079146e-02      2.754990e-03      1.528148e-02   \n",
      "     5.130163        1.598707e-02      1.314053e-02      1.795256e-03      9.550019e-03   \n",
      "     5.373356        9.906965e-03      7.903156e-03      1.109242e-03      5.684672e-03   \n",
      "     5.626327        5.841976e-03      4.487922e-03      6.445316e-04      3.198859e-03   \n",
      "     5.888392        3.253869e-03      2.378690e-03      3.478797e-04      1.682930e-03   \n",
      "     6.158845        1.693877e-03      1.155582e-03      1.710000e-04      8.135817e-04   \n",
      "     6.436958        8.114475e-04      4.987664e-04      7.392317e-05      3.509201e-04   \n",
      "     6.721980        3.494404e-04      1.799718e-04      2.617156e-05      1.276287e-04   \n",
      "     7.013143        1.308631e-04      4.695326e-05      6.295555e-06      3.436215e-05   \n",
      "     7.309662        4.181643e-05      5.461154e-06      4.188306e-07      4.623493e-06   \n",
      "     7.610739        1.431166e-05      2.040574e-06      3.860258e-07      1.268523e-06   \n",
      "     7.915560        1.125941e-05      9.630119e-06      1.955188e-06      5.719743e-06   \n",
      "     8.223305        1.471270e-05      1.671930e-05      3.294866e-06      1.012956e-05   \n",
      "     8.533144        1.750264e-05      1.995358e-05      3.883437e-06      1.218670e-05   \n",
      "     8.844241        1.782522e-05      1.958234e-05      3.793733e-06      1.199488e-05   \n",
      "     9.155759        1.607905e-05      1.697388e-05      3.285155e-06      1.040357e-05   \n",
      "     9.466856        1.323658e-05      1.346641e-05      2.608074e-06      8.250260e-06   \n",
      "     9.776695        1.014844e-05      9.980266e-06      1.935525e-06      6.109217e-06   \n",
      "    10.084440        7.346482e-06      6.998638e-06      1.359299e-06      4.280040e-06   \n",
      "    10.389261        5.069273e-06      4.683401e-06      9.107895e-07      2.861822e-06   \n",
      "    10.690338        3.357007e-06      3.008247e-06      5.855082e-07      1.837231e-06   \n",
      "    10.986857        2.144120e-06      1.862036e-06      3.624835e-07      1.137069e-06   \n",
      "    11.278020        1.325585e-06      1.113481e-06      2.166065e-07      6.802679e-07   \n",
      "    11.563042        7.953434e-07      6.441272e-07      1.250476e-07      3.940320e-07   \n",
      "    11.841155        4.639404e-07      3.605107e-07      6.970067e-08      2.211094e-07   \n",
      "    12.111608        2.634054e-07      1.950121e-07      3.741598e-08      1.201802e-07   \n",
      "    12.373673        1.456765e-07      1.017289e-07      1.924146e-08      6.324601e-08   \n",
      "    12.626644        7.856510e-08      5.103453e-08      9.387907e-09      3.225872e-08   \n",
      "    12.869837        4.143938e-08      2.460249e-08      4.270422e-09      1.606165e-08   \n",
      "    13.102598        2.155675e-08      1.150941e-08      1.752378e-09      8.004656e-09   \n",
      "    13.324299        1.129933e-08      5.465821e-09      6.048310e-10      4.256159e-09   \n",
      "    13.534343        6.248242e-09      2.974905e-09      1.455790e-10      2.683747e-09   \n",
      "    13.732162        3.914025e-09      2.163819e-09      9.986167e-12      2.143847e-09   \n",
      "    13.917225        2.935906e-09      2.072074e-09      1.149838e-11      2.049077e-09   \n",
      "    14.089032        2.594788e-09      2.233870e-09      5.991721e-11      2.114036e-09   \n",
      "    14.247120        2.526479e-09      2.440859e-09      1.151340e-10      2.210591e-09   \n",
      "    14.391062        2.557120e-09      2.612418e-09      1.618347e-10      2.288749e-09   \n",
      "    14.520471        2.610375e-09      2.727626e-09      1.961896e-10      2.335247e-09   \n",
      "    14.634998        2.657978e-09      2.790856e-09      2.191398e-10      2.352576e-09   \n",
      "    14.734334        2.693439e-09      2.815024e-09      2.331844e-10      2.348655e-09   \n",
      "    14.818211        2.717346e-09      2.813997e-09      2.409612e-10      2.332075e-09   \n",
      "    14.886403        2.731790e-09      2.799622e-09      2.447082e-10      2.310206e-09   \n",
      "    14.938727        2.739256e-09      2.780954e-09      2.461306e-10      2.288692e-09   \n",
      "    14.975043        2.742682e-09      2.764284e-09      2.464111e-10      2.271462e-09   \n",
      "    14.995261        2.745135e-09      2.753870e-09      2.463515e-10      2.261167e-09   \n"
     ]
    }
   ],
   "source": [
    "header = '{:^18s}{:^18s}{:^18s}{:^18s}{:^18s}'.format('q', 'p', '2pp+pn', 'pp', 'pn')\n",
    "print(header + '\\n')\n",
    "\n",
    "# Just loop for now\n",
    "for iq, n_snmd, n_pp, n_pn in zip(q_array, n_p_array, n_pp_array, n_pn_array):\n",
    "    \n",
    "    # 2*F_pp(q) + F_pn(q) where F_pn means np+pn\n",
    "    n_pmd = 2*n_pp + n_pn\n",
    "    \n",
    "    # Write to data file following the format from the header\n",
    "    line = '{:^18.6f}{:^18.6e}{:^18.6e}{:^18.6e}{:^18.6e}'.format(iq, n_snmd, n_pmd, n_pp, n_pn)\n",
    "    print(line)"
   ]
  },
  {
   "cell_type": "code",
   "execution_count": 23,
   "id": "7d0a4be8",
   "metadata": {},
   "outputs": [
    {
     "data": {
      "text/plain": [
       "<matplotlib.legend.Legend at 0x7f966c097cd0>"
      ]
     },
     "execution_count": 23,
     "metadata": {},
     "output_type": "execute_result"
    },
    {
     "data": {
      "image/png": "[encoded data removed]",
      "text/plain": [
       "<Figure size 600x600 with 1 Axes>"
      ]
     },
     "metadata": {},
     "output_type": "display_data"
    }
   ],
   "source": [
    "# Put pair and single-nucleon momentum distributions on same plot\n",
    "\n",
    "# Figure size\n",
    "row_number = 1\n",
    "col_number = 1\n",
    "figure_size = (4*col_number, 4*row_number)\n",
    "\n",
    "# Axes labels and fontsize\n",
    "x_label = 'q [fm' + r'$^{-1}$' + ']'\n",
    "x_label_size = 16\n",
    "# y_label = r'$n_{\\lambda}^A(q,0)$' + ' [fm' + r'$^3$' + ']'\n",
    "y_label = r'$n_{\\lambda}^A(q)$' + ' [fm' + r'$^3$' + ']'\n",
    "y_label_size = 16\n",
    "\n",
    "# Axes limits\n",
    "xlim = (0.0, 5)\n",
    "if nucleus == 'C12':\n",
    "    ylim = (1e-3, 4e4)\n",
    "else:\n",
    "    ylim = (5e-4, 2e4)\n",
    "    \n",
    "# Curve width\n",
    "curve_width = 2.0\n",
    "\n",
    "# Initialize figure\n",
    "plt.close('all')\n",
    "f, ax = plt.subplots(figsize=figure_size)\n",
    "\n",
    "# Set y-axis to log scale\n",
    "ax.set_yscale('log')\n",
    "    \n",
    "# Add curves to figure\n",
    "ax.plot(q_array, n_p_array, color='xkcd:red', label='p', linewidth=curve_width)\n",
    "ax.plot(q_array, 2*n_pp_array+n_pn_array, color='xkcd:blue', label='2*pp + np', linewidth=curve_width)\n",
    "        \n",
    "# AV18 data with error bars\n",
    "ax.plot(q_array_p_av18, n_p_array_av18, color='xkcd:red', label='AV18 p', linestyle='', marker='.')\n",
    "ax.plot(q_array_NN_av18, 2*n_pp_array_av18+n_pn_array_av18, color='xkcd:blue', label='AV18 np',\n",
    "        linestyle='', marker='.')\n",
    "\n",
    "# Shade gray from 0 to \\lambda value on plot\n",
    "ax.fill_betweenx(ylim, 0.0, lamb, edgecolor='xkcd:grey', facecolor='xkcd:grey', alpha=0.3)\n",
    "\n",
    "# Specify axes limits\n",
    "ax.set_xlim(xlim)\n",
    "ax.set_ylim(ylim)\n",
    "        \n",
    "# Set axes labels\n",
    "ax.set_xlabel(x_label, fontsize=x_label_size)\n",
    "ax.set_ylabel(y_label, fontsize=y_label_size)\n",
    "\n",
    "# Add legend\n",
    "legend_size = 14\n",
    "legend_location = 'upper right'\n",
    "ax.legend(loc=legend_location, frameon=False, fontsize=legend_size)"
   ]
  },
  {
   "cell_type": "markdown",
   "id": "6a20c1e3",
   "metadata": {},
   "source": [
    "__Deuteron momentum distribution__"
   ]
  },
  {
   "cell_type": "code",
   "execution_count": null,
   "id": "6440de3e",
   "metadata": {
    "code_folding": [
     0
    ]
   },
   "outputs": [],
   "source": [
    "# # Compare deuteron LDA to AV18 deuteron\n",
    "\n",
    "# channel = '3S1'\n",
    "# factor_array = q_array**2 * q_weights\n",
    "    \n",
    "# # Load hamiltonian\n",
    "# H_matrix = vnn.load_hamiltonian(kvnn, channel, kmax, kmid, ntot)\n",
    "    \n",
    "# # Load exact wave function [unitless]\n",
    "# psi_exact_unitless = ob.wave_function(H_matrix)\n",
    "# psi_squared_exact = ( psi_exact_unitless[:ntot]**2 + psi_exact_unitless[ntot:]**2 ) / factor_array\n",
    "        \n",
    "# # Calculate using LDA\n",
    "# dmd = deuteron_momentum_distributions(kvnn, lamb, kmax, kmid, ntot, interp=True)\n",
    "\n",
    "# # Ignore 1, \\delta U, and \\delta U^2 isolated contributions (take total only)\n",
    "# n_d_func, _, _, _ = dmd.n_lambda_interp()\n",
    "\n",
    "# # Evaluate at all q values\n",
    "# n_d_array = n_d_func(q_array)\n",
    "    \n",
    "# # Normalization of wave function\n",
    "# norm = np.sum(factor_array * psi_squared_exact)\n",
    "# print('Normalization of exact: \\dq q^2 n_d(q) = %.5f' % norm)\n",
    "    \n",
    "# # Normalization of LDA deuteron momentum distribution\n",
    "# lda_factor = 4*np.pi * 1/(2*np.pi)**3\n",
    "# norm_lda = lda_factor * np.sum(factor_array * n_d_array)\n",
    "# print('Normalization of LDA: 4\\pi/(2\\pi)^3 \\dq q^2 <n_d^N(q)> = %.5f' % norm_lda) \n",
    "    \n",
    "# # Plot pair momentum distributions\n",
    "# plt.semilogy(q_array, psi_squared_exact, label='AV18 wave function')\n",
    "# plt.semilogy(q_array, n_d_array * lda_factor, label='LDA')\n",
    "# plt.xlim( (0.0, 5.0) )\n",
    "# plt.ylim( (1e-5, 5e2) )\n",
    "# plt.xlabel(r'$q$' + ' [fm' + r'$^{-1}$' + ']')\n",
    "# plt.ylabel(r'$n_d(q)$' + ' [fm' + r'$^3$' + ']')\n",
    "# plt.legend(loc=0)"
   ]
  },
  {
   "cell_type": "code",
   "execution_count": null,
   "id": "d06a8d84",
   "metadata": {},
   "outputs": [],
   "source": []
  }
 ],
 "metadata": {
  "kernelspec": {
   "display_name": "Python 3",
   "language": "python",
   "name": "python3"
  },
  "language_info": {
   "codemirror_mode": {
    "name": "ipython",
    "version": 3
   },
   "file_extension": ".py",
   "mimetype": "text/x-python",
   "name": "python",
   "nbconvert_exporter": "python",
   "pygments_lexer": "ipython3",
   "version": "3.8.3"
  }
 },
 "nbformat": 4,
 "nbformat_minor": 5
}

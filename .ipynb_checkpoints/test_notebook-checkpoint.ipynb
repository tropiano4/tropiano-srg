{
 "cells": [
  {
   "cell_type": "markdown",
   "id": "5aab025d",
   "metadata": {},
   "source": [
    "__File: test_notebook.ipynb__\n",
    "\n",
    "__Author:   A. J. Tropiano (tropiano.4@osu.edu)__<br/>\n",
    "__Date:     Jun 16, 2021__\n",
    "\n",
    "Jupyter notebook for testing out code or functions.\n",
    "\n",
    "__Revision history:<br/>__\n",
    "* Jun 16, 2021 - Comparing integration via looping vs using NumPy sum function.\n",
    "* Jun 17, 2021 - Testing $^4$He momentum distributions."
   ]
  },
  {
   "cell_type": "code",
   "execution_count": 1,
   "id": "1958fc25",
   "metadata": {},
   "outputs": [],
   "source": [
    "from matplotlib.offsetbox import AnchoredText\n",
    "import matplotlib.pyplot as plt\n",
    "%matplotlib inline\n",
    "import matplotlib as mpl\n",
    "import numpy as np\n",
    "import time\n",
    "# Scripts made by A.T.\n",
    "from Figures import figures_functions as ff\n",
    "from densities import load_density\n",
    "from dmd import deuteron_momentum_distributions\n",
    "from Misc.fourier_transform import hankel_transformation_k2r\n",
    "from Misc.integration import gaussian_quadrature_mesh\n",
    "import observables as ob\n",
    "from Potentials.vsrg_macos import vnn\n",
    "from pmd_v2 import pair_momentum_distributions\n",
    "from snmd import single_nucleon_momentum_distributions\n",
    "from SRG.srg_unitary_transformation import SRG_unitary_transformation"
   ]
  },
  {
   "cell_type": "markdown",
   "id": "4e0abf85",
   "metadata": {},
   "source": [
    "__Set-up__"
   ]
  },
  {
   "cell_type": "code",
   "execution_count": 2,
   "id": "ce485f26",
   "metadata": {
    "code_folding": [
     0
    ]
   },
   "outputs": [],
   "source": [
    "def setup_rc_params(presentation=False):\n",
    "    \"\"\"\n",
    "    Set matplotlib's rc parameters for the plots\n",
    "    \n",
    "    Parameters\n",
    "    ----------\n",
    "    presentation : bool, optional\n",
    "        Option to enlarge font sizes for presentations.\n",
    "    \n",
    "    \"\"\"\n",
    "\n",
    "    if presentation:\n",
    "        fontsize = 14\n",
    "    else:\n",
    "        fontsize = 9\n",
    "    black = 'k'\n",
    "\n",
    "    mpl.rcdefaults()  # Set to defaults\n",
    "\n",
    "    mpl.rc('text', usetex=True)\n",
    "    mpl.rcParams['font.size'] = fontsize\n",
    "    mpl.rcParams['text.usetex'] = True\n",
    "    mpl.rcParams['font.family'] = 'serif'\n",
    "\n",
    "#     mpl.rcParams['axes.labelsize'] = fontsize\n",
    "    mpl.rcParams['axes.edgecolor'] = black\n",
    "    # mpl.rcParams['axes.xmargin'] = 0\n",
    "    mpl.rcParams['axes.labelcolor'] = black\n",
    "#     mpl.rcParams['axes.titlesize'] = fontsize\n",
    "\n",
    "    mpl.rcParams['ytick.direction'] = 'in'\n",
    "    mpl.rcParams['xtick.direction'] = 'in'\n",
    "    mpl.rcParams['xtick.labelsize'] = fontsize\n",
    "    mpl.rcParams['ytick.labelsize'] = fontsize\n",
    "    mpl.rcParams['xtick.color'] = black\n",
    "    mpl.rcParams['ytick.color'] = black\n",
    "    # Make the ticks thin enough to not be visible at the limits of the plot (over the axes border)\n",
    "    mpl.rcParams['xtick.major.width'] = mpl.rcParams['axes.linewidth'] * 0.95\n",
    "    mpl.rcParams['ytick.major.width'] = mpl.rcParams['axes.linewidth'] * 0.95\n",
    "    # The minor ticks are little too small, make them both bigger.\n",
    "    mpl.rcParams['xtick.minor.size'] = 2.4  # Default 2.0\n",
    "    mpl.rcParams['ytick.minor.size'] = 2.4\n",
    "    mpl.rcParams['xtick.major.size'] = 3.9  # Default 3.5\n",
    "    mpl.rcParams['ytick.major.size'] = 3.9\n",
    "    \n",
    "    # Added by A.T.\n",
    "    # Puts tick marks (not labels) on top and right axes\n",
    "    mpl.rcParams['xtick.top'] = True\n",
    "    mpl.rcParams['ytick.right'] = True\n",
    "    \n",
    "    ppi = 72  # points per inch\n",
    "    # dpi = 150\n",
    "#     mpl.rcParams['figure.titlesize'] = fontsize\n",
    "    mpl.rcParams['figure.dpi'] = 150  # To show up reasonably in notebooks\n",
    "    mpl.rcParams['figure.constrained_layout.use'] = False\n",
    "    # 0.02 and 3 points are the defaults:\n",
    "    # can be changed on a plot-by-plot basis using fig.set_constrained_layout_pads()\n",
    "    mpl.rcParams['figure.constrained_layout.wspace'] = 0.0\n",
    "    mpl.rcParams['figure.constrained_layout.hspace'] = 0.0\n",
    "    mpl.rcParams['figure.constrained_layout.h_pad'] = 3. / ppi  # 3 points\n",
    "    mpl.rcParams['figure.constrained_layout.w_pad'] = 3. / ppi\n",
    "\n",
    "#     mpl.rcParams['legend.title_fontsize'] = fontsize\n",
    "#     mpl.rcParams['legend.fontsize'] = fontsize\n",
    "    mpl.rcParams['legend.edgecolor'] = 'inherit'  # inherits from axes.edgecolor, to match\n",
    "    # Set facecolor with its own alpha, so edgecolor is unaffected\n",
    "    mpl.rcParams['legend.fancybox'] = True\n",
    "    mpl.rcParams['legend.facecolor'] = (1, 1, 1, 0.6)\n",
    "#     mpl.rcParams['legend.borderaxespad'] = 0.8\n",
    "    # Do not set overall alpha (affects edgecolor). Handled by facecolor above\n",
    "    mpl.rcParams['legend.framealpha'] = None\n",
    "    # This is for legend edgewidth, since it does not have its own option\n",
    "    mpl.rcParams['patch.linewidth'] = 0.8\n",
    "    mpl.rcParams['hatch.linewidth'] = 0.5\n",
    "\n",
    "    # bbox = 'tight' can distort the figure size when saved (that's its purpose).\n",
    "    # mpl.rc('savefig', transparent=False, bbox='tight', pad_inches=0.04, dpi=350, format='png')\n",
    "    # mpl.rc('savefig', transparent=False, bbox=None, dpi=400, format='png')\n",
    "    mpl.rc('savefig', bbox='tight', dpi=400)"
   ]
  },
  {
   "cell_type": "code",
   "execution_count": 3,
   "id": "8123d004",
   "metadata": {},
   "outputs": [],
   "source": [
    "# # Run this cell to customize matplotlib graphics (see setup_rc_params for details)\n",
    "# setup_rc_params(presentation=True)"
   ]
  },
  {
   "cell_type": "code",
   "execution_count": 4,
   "id": "8167116b",
   "metadata": {},
   "outputs": [],
   "source": [
    "kvnn = 6\n",
    "channels = ('1S0', '3S1')\n",
    "lamb = 1.35\n",
    "# lamb = 2.0\n",
    "kmax, kmid, ntot = 15.0, 3.0, 120\n",
    "\n",
    "# Get momentum and weights (channel argument doesn't matter here)\n",
    "q_array, q_weights = vnn.load_momentum(kvnn, '1S0', kmax, kmid, ntot)"
   ]
  },
  {
   "cell_type": "markdown",
   "id": "ae5984f7",
   "metadata": {},
   "source": [
    "__Densities__"
   ]
  },
  {
   "cell_type": "code",
   "execution_count": 5,
   "id": "fde68ab0",
   "metadata": {
    "code_folding": [
     0
    ]
   },
   "outputs": [],
   "source": [
    "# # Details of example nuclei (format is (nuclei, Z, N) )\n",
    "# nuclei_details = ( ('He4', 2, 2), ('C12', 6, 6), ('O16', 8, 8), ('Ca40', 20, 20),\n",
    "#                    ('Ca48', 20, 28), ('Fe56', 26, 30), ('Pb208', 82, 126) )\n",
    "\n",
    "# # Get deuteron density\n",
    "# # Load evolved deuteron wave function in momentum-space\n",
    "# channel = '3S1'\n",
    "# H_initial = vnn.load_hamiltonian(kvnn, channel, kmax, kmid, ntot)\n",
    "# H_evolved = vnn.load_hamiltonian(kvnn, channel, kmax, kmid, ntot, method='srg', generator='Wegner', lamb=lamb)\n",
    "# U_matrix = SRG_unitary_transformation(H_initial, H_evolved)\n",
    "# psi_k_unitless = ob.wave_function(H_initial, U=U_matrix)\n",
    "        \n",
    "# # Divide out momenta/weights\n",
    "# factor_array = np.concatenate( (np.sqrt(q_weights) * q_array, np.sqrt(q_weights) * q_array) ) * np.sqrt(2/np.pi)\n",
    "# psi_k = psi_k_unitless / factor_array\n",
    "\n",
    "# dr = 0.1\n",
    "# r_d_array = np.linspace(dr, 20.0, 200)\n",
    "# hank_trans_3S1 = hankel_transformation_k2r('3S1', q_array, q_weights, r_d_array)\n",
    "# hank_trans_3D1 = hankel_transformation_k2r('3D1', q_array, q_weights, r_d_array)\n",
    "    \n",
    "# psi_r_3S1 = hank_trans_3S1 @ psi_k[:ntot]\n",
    "# psi_r_3D1 = hank_trans_3D1 @ psi_k[ntot:]\n",
    "    \n",
    "# rho_d = psi_r_3S1**2 + psi_r_3D1**2\n",
    "    \n",
    "# # This is normalized to 1\n",
    "# normalization = np.sum(r_d_array**2 * rho_d) * dr\n",
    "# print(normalization)\n",
    "    \n",
    "# kF_pn_array = ( 3*np.pi**2 * rho_d )**(1/3)\n",
    "    \n",
    "# # Plot densities as a function of r\n",
    "# plt.clf()\n",
    "\n",
    "# # Deuteron first\n",
    "# plt.plot(r_d_array, rho_d, label='H2')\n",
    "\n",
    "# for i, nuclei_list in enumerate(nuclei_details):\n",
    "        \n",
    "#     # Plot density for some nuclei here\n",
    "#     nucleus = nuclei_list[0]\n",
    "#     nucleon = 'proton'\n",
    "#     Z = nuclei_list[1]\n",
    "#     N = nuclei_list[2]\n",
    "#     if nucleus == 'He4':\n",
    "#         r_array, rho_array = load_density(nucleus, nucleon, Z, N, 'AV18')\n",
    "#     else:\n",
    "#         r_array, rho_array = load_density(nucleus, nucleon, Z, N, 'SLY4')\n",
    "\n",
    "# #     plt.plot(r_array, rho_array, label=nucleus)\n",
    "#     plt.plot(r_array, 4*np.pi*rho_array, label=nucleus)\n",
    "    \n",
    "#     print( 4*np.pi*np.sum(0.1 * r_array**2 * rho_array) )\n",
    "    \n",
    "# #     if nucleus == 'He4':\n",
    "# #         norm = 4*np.pi*np.sum(0.1 * r_array**2 * rho_array)\n",
    "# #         r = 4*np.pi*np.sum(0.1*r_array**4*rho_array)\n",
    "# #         print('He4 radius = %.5f ' % (np.sqrt(r/norm)))\n",
    "        \n",
    "# plt.xlim( [0.0, 10.0] )\n",
    "# plt.legend(loc='upper right', frameon=False)\n",
    "# plt.xlabel('r [fm]')\n",
    "# plt.ylabel(r'$\\rho_p(r)$' + ' [fm' + r'$^{-3}$' + ']')\n",
    "# plt.show()\n",
    "    \n",
    "# # Plot proton k_F for some nuclei as function of r\n",
    "# plt.clf()\n",
    "\n",
    "# # Deuteron first\n",
    "# plt.plot(r_d_array, kF_pn_array, label='H2')\n",
    "\n",
    "# for j, nuclei_list in enumerate(nuclei_details):\n",
    "        \n",
    "#     # Plot density for some nuclei here\n",
    "#     nucleus = nuclei_list[0]\n",
    "#     nucleon = 'proton'\n",
    "#     Z = nuclei_list[1]\n",
    "#     N = nuclei_list[2]\n",
    "#     if nucleus == 'He4':\n",
    "#         r_array, rho_array = load_density(nucleus, nucleon, Z, N, 'AV18')\n",
    "#     else:\n",
    "#         r_array, rho_array = load_density(nucleus, nucleon, Z, N)\n",
    "#     kF_array = ( 3*np.pi**2 * rho_array )**(1/3)\n",
    "\n",
    "#     plt.plot(r_array, kF_array, label=nucleus)\n",
    "\n",
    "# plt.xlim( [0.0, 15.0] )\n",
    "# plt.legend(loc='upper right', frameon=False)\n",
    "# plt.xlabel('r [fm]')\n",
    "# plt.ylabel(r'$k_F(r)$' + ' [fm' + r'$^{-1}$' + ']')\n",
    "# plt.show()"
   ]
  },
  {
   "cell_type": "markdown",
   "id": "5d4f1c2b",
   "metadata": {},
   "source": [
    "__Write single-nucleon distribution files__"
   ]
  },
  {
   "cell_type": "code",
   "execution_count": 6,
   "id": "14619ac3",
   "metadata": {
    "code_folding": [
     0
    ]
   },
   "outputs": [],
   "source": [
    "# snmd = single_nucleon_momentum_distributions(kvnn, channels, lamb, kmax, kmid, ntot, interp=False)\n",
    "\n",
    "# nucleus, Z, N = 'He4', 2, 2\n",
    "\n",
    "# t0 = time.time()\n",
    "# snmd.write_files(nucleus, 'proton', Z, N, 'AV18')\n",
    "# t1 = time.time()\n",
    "\n",
    "# mins = (t1-t0)/60\n",
    "# print('%.5f minutes elapsed.' % mins)"
   ]
  },
  {
   "cell_type": "markdown",
   "id": "c70048aa",
   "metadata": {},
   "source": [
    "__Proton momentum distribution__"
   ]
  },
  {
   "cell_type": "code",
   "execution_count": 7,
   "id": "4a7ee94f",
   "metadata": {},
   "outputs": [
    {
     "data": {
      "text/plain": [
       "<matplotlib.legend.Legend at 0x28555ff59a0>"
      ]
     },
     "execution_count": 7,
     "metadata": {},
     "output_type": "execute_result"
    },
    {
     "data": {
      "image/png": "[encoded data removed]",
      "text/plain": [
       "<Figure size 288x288 with 1 Axes>"
      ]
     },
     "metadata": {
      "needs_background": "light"
     },
     "output_type": "display_data"
    }
   ],
   "source": [
    "# Compare to AV18 QMC He4 momentum distribution\n",
    "# (copied from snmd_tails_with_AV18 in src_physics_fig.ipynb)\n",
    "\n",
    "# Figure size\n",
    "row_number = 1\n",
    "col_number = 1\n",
    "figure_size = (4*col_number, 4*row_number)\n",
    "\n",
    "# Axes labels and fontsize\n",
    "x_label = 'q [fm' + r'$^{-1}$' + ']'\n",
    "x_label_size = 16\n",
    "y_label = 'proton ' + r'$n_{\\lambda}^A(q)/Z$' + ' [fm' + r'$^3$' + ']'\n",
    "y_label_size = 16\n",
    "\n",
    "# Axes limits\n",
    "xlim = (0.0, 6)\n",
    "ylim = (4e-4, 5e2)\n",
    "    \n",
    "# Curve width\n",
    "curve_width = 2.0\n",
    "\n",
    "# Initialize figure\n",
    "plt.close('all')\n",
    "f, ax = plt.subplots(figsize=figure_size)\n",
    "\n",
    "# Use interpolated function for proton distribution\n",
    "snmd_interp = single_nucleon_momentum_distributions(kvnn, channels, lamb, kmax, kmid, ntot, interp=True)\n",
    "\n",
    "nucleon = 'proton'\n",
    "# nucleus_name = 'He4'\n",
    "# Z = 2\n",
    "# N = 2\n",
    "nucleus_name = 'C12'\n",
    "Z = 6\n",
    "N = 6\n",
    "\n",
    "# Ignore 1, \\delta U, and \\delta U^2 isolated contributions (take total only)\n",
    "n_p_func, _, _, _ = snmd_interp.n_lambda_interp(nucleus_name, nucleon, Z, N)\n",
    "\n",
    "# Evaluate at all q values and divide by Z\n",
    "n_p_array = n_p_func(q_array) / Z\n",
    "\n",
    "# Legend label\n",
    "curve_label = ff.nuclei_label_conversion(nucleus_name) # Labels the nucleus\n",
    "    \n",
    "# Set y-axis to log scale\n",
    "ax.set_yscale('log')\n",
    "    \n",
    "# Add curve to figure\n",
    "ax.plot(q_array, n_p_array, color='xkcd:red', label=curve_label, linewidth=curve_width)\n",
    "        \n",
    "# Add AV18 data with error bars\n",
    "av18_data = np.loadtxt('Figures/SRC_physics/Data/AV18_%s_snmd.txt' % nucleus_name)\n",
    "q_array_av18 = av18_data[:, 0] # fm^-1\n",
    "n_p_array_av18 = av18_data[:, 1] / Z\n",
    "error_bars_array_av18 = av18_data[:, 2] / Z\n",
    "            \n",
    "# AV18 data with error bars\n",
    "ax.errorbar(q_array_av18, n_p_array_av18, yerr=error_bars_array_av18, color='xkcd:black', label='AV18',\n",
    "            linestyle='', marker='.')\n",
    "    \n",
    "# Shade gray from 0 to \\lambda value on plot\n",
    "ax.fill_betweenx(ylim, 0.0, lamb, edgecolor='xkcd:grey', facecolor='xkcd:grey', alpha=0.3)\n",
    "\n",
    "# Specify axes limits\n",
    "ax.set_xlim(xlim)\n",
    "ax.set_ylim(ylim)\n",
    "        \n",
    "# Set axes labels\n",
    "ax.set_xlabel(x_label, fontsize=x_label_size)\n",
    "ax.set_ylabel(y_label, fontsize=y_label_size)\n",
    "\n",
    "# Add legend\n",
    "legend_size = 16\n",
    "legend_location = 'upper right'\n",
    "ax.legend(loc=legend_location, frameon=False, fontsize=legend_size)"
   ]
  },
  {
   "cell_type": "code",
   "execution_count": 8,
   "id": "2c3b8d14",
   "metadata": {},
   "outputs": [
    {
     "name": "stdout",
     "output_type": "stream",
     "text": [
      "3.0047392606354 0.07418377416527976\n",
      "3.0 0.075765\n",
      "0.9996613209929914\n",
      "1.000006673540752\n"
     ]
    }
   ],
   "source": [
    "print(q_array[60], n_p_array[60])\n",
    "print(q_array_av18[30], n_p_array_av18[30])\n",
    "print(np.sum(q_weights*q_array**2*n_p_array)*4*np.pi/(2*np.pi)**3)\n",
    "print(np.sum(0.1*q_array_av18**2*n_p_array_av18)*4*np.pi/(2*np.pi)**3)"
   ]
  },
  {
   "cell_type": "code",
   "execution_count": null,
   "id": "5ecfc419",
   "metadata": {},
   "outputs": [],
   "source": []
  },
  {
   "cell_type": "markdown",
   "id": "2fd2c228",
   "metadata": {},
   "source": [
    "__Pair momentum distributions__"
   ]
  },
  {
   "cell_type": "code",
   "execution_count": 9,
   "id": "fb792830",
   "metadata": {},
   "outputs": [
    {
     "name": "stdout",
     "output_type": "stream",
     "text": [
      "41.51546 minutes elapsed.\n"
     ]
    },
    {
     "data": {
      "text/plain": [
       "<matplotlib.legend.Legend at 0x285560979d0>"
      ]
     },
     "execution_count": 9,
     "metadata": {},
     "output_type": "execute_result"
    },
    {
     "data": {
      "image/png": "[encoded data removed]",
      "text/plain": [
       "<Figure size 288x288 with 1 Axes>"
      ]
     },
     "metadata": {
      "needs_background": "light"
     },
     "output_type": "display_data"
    }
   ],
   "source": [
    "# Compare to AV18 QMC He4 pair momentum distribution\n",
    "\n",
    "# Figure size\n",
    "row_number = 1\n",
    "col_number = 1\n",
    "figure_size = (4*col_number, 4*row_number)\n",
    "\n",
    "# Axes labels and fontsize\n",
    "x_label = 'q [fm' + r'$^{-1}$' + ']'\n",
    "x_label_size = 16\n",
    "# y_label = r'$n_{\\lambda}^A(q,0)$' + ' [fm' + r'$^3$' + ']'\n",
    "y_label = r'$n_{\\lambda}^A(q)$' + ' [fm' + r'$^3$' + ']'\n",
    "y_label_size = 16\n",
    "\n",
    "# Axes limits\n",
    "xlim = (0.0, 5)\n",
    "ylim = (5e-4, 2e4)\n",
    "    \n",
    "# Curve width\n",
    "curve_width = 2.0\n",
    "\n",
    "# Initialize figure\n",
    "plt.close('all')\n",
    "f, ax = plt.subplots(figsize=figure_size)\n",
    "\n",
    "# Initialize pair momentum distributions class\n",
    "# pmd = pair_momentum_distributions(kvnn, channels, lamb, kmax, kmid, ntot)\n",
    "pmd_2 = pair_momentum_distributions(kvnn, channels, lamb, kmax, kmid, ntot)\n",
    "\n",
    "nucleon = 'proton'\n",
    "# nucleus_name = 'He4'\n",
    "# Z = 2\n",
    "# N = 2\n",
    "nucleus_name = 'C12'\n",
    "Z = 6\n",
    "N = 6\n",
    "\n",
    "# Get densities\n",
    "if nucleus_name == 'He4':\n",
    "    r_array, rho_p_array = load_density(nucleus_name, 'proton', Z, N, 'AV18')\n",
    "    rho_p_array = rho_n_array\n",
    "else:\n",
    "    r_array, rho_p_array = load_density(nucleus_name, 'proton', Z, N, 'SLY4')\n",
    "    r_array, rho_n_array = load_density(nucleus_name, 'neutron', Z, N, 'SLY4')\n",
    "\n",
    "# # Ignore 1, \\delta U, and \\delta U^2 isolated contributions (take total only)\n",
    "# n_pn_array = 2*pmd.n_lambda(q_array, r_array, rho_array, rho_array)[:, 0]\n",
    "# n_pp_array = pmd.n_lambda(q_array, r_array, rho_array)[:, 0]\n",
    "\n",
    "# Ignore 1, \\delta U, and \\delta U^2 isolated contributions (take total only)\n",
    "Ntot = 50\n",
    "# Evaluate kF values at each point in R_array to set max value of Q\n",
    "kFp_array = (3*np.pi**2 * rho_p_array)**(1/3)\n",
    "kFn_array = (3*np.pi**2 * rho_n_array)**(1/3)\n",
    "Q_max = max(kFp_array) + max(kFn_array)\n",
    "Q_array, Q_weights = gaussian_quadrature_mesh(Q_max, Ntot)\n",
    "# Get n_\\lambda(q, Q) for each q and Q\n",
    "n_pn_array_2d = np.zeros( (ntot, Ntot) )\n",
    "n_pp_array_2d = np.zeros( (ntot, Ntot) )\n",
    "\n",
    "t0 = time.time()\n",
    "for iQ, Q in enumerate(Q_array):\n",
    "    n_pn_array_2d[:, iQ] = 2*pmd_2.n_lambda(q_array, Q, r_array, rho_p_array, rho_n_array)[:, 0]\n",
    "    n_pp_array_2d[:, iQ] = pmd_2.n_lambda(q_array, Q, r_array, rho_p_array)[:, 0]\n",
    "t1 = time.time()\n",
    "print('%.5f minutes elapsed.' % ( (t1-t0)/60 ) )\n",
    "\n",
    "# Integrate out Q dependence\n",
    "factor = 4*np.pi/(2*np.pi)**3\n",
    "_, Q_grid = np.meshgrid(q_array, Q_array**2*Q_weights, indexing='ij')\n",
    "    \n",
    "n_pn_array = factor * np.sum(Q_grid * n_pn_array_2d, axis=-1)\n",
    "n_pp_array = factor * np.sum(Q_grid * n_pp_array_2d, axis=-1)\n",
    "\n",
    "# Set y-axis to log scale\n",
    "ax.set_yscale('log')\n",
    "    \n",
    "# Add curve to figure\n",
    "ax.plot(q_array, n_pp_array, color='xkcd:red', label=ff.nuclei_label_conversion(nucleus_name) + ' pp',\n",
    "        linewidth=curve_width)\n",
    "ax.plot(q_array, n_pn_array, color='xkcd:blue', label=ff.nuclei_label_conversion(nucleus_name) + ' np',\n",
    "        linewidth=curve_width)\n",
    "        \n",
    "# Add AV18 data with error bars\n",
    "# av18_data = np.loadtxt('Figures/SRC_physics/Data/AV18_%s_pmd.txt' % nucleus_name)\n",
    "av18_data = np.loadtxt('Figures/SRC_physics/Data/AV18_%s_pmd_q.txt' % nucleus_name)\n",
    "q_array_av18 = av18_data[:, 0] # fm^-1\n",
    "n_pn_array_av18 = av18_data[:, 1]\n",
    "pn_error_bars_array_av18 = av18_data[:, 2]\n",
    "n_pp_array_av18 = av18_data[:, 3]\n",
    "pp_error_bars_array_av18 = av18_data[:, 4]\n",
    "            \n",
    "# AV18 data with error bars\n",
    "ax.errorbar(q_array_av18, n_pp_array_av18, yerr=pp_error_bars_array_av18, color='xkcd:red', label='AV18 pp',\n",
    "            linestyle='', marker='.')\n",
    "ax.errorbar(q_array_av18, n_pn_array_av18, yerr=pn_error_bars_array_av18, color='xkcd:blue', label='AV18 np',\n",
    "            linestyle='', marker='.')\n",
    "\n",
    "# Shade gray from 0 to \\lambda value on plot\n",
    "ax.fill_betweenx(ylim, 0.0, lamb, edgecolor='xkcd:grey', facecolor='xkcd:grey', alpha=0.3)\n",
    "\n",
    "# Specify axes limits\n",
    "ax.set_xlim(xlim)\n",
    "ax.set_ylim(ylim)\n",
    "        \n",
    "# Set axes labels\n",
    "ax.set_xlabel(x_label, fontsize=x_label_size)\n",
    "ax.set_ylabel(y_label, fontsize=y_label_size)\n",
    "\n",
    "# Add legend\n",
    "legend_size = 16\n",
    "legend_location = 'upper right'\n",
    "ax.legend(loc=legend_location, frameon=False, fontsize=legend_size)"
   ]
  },
  {
   "cell_type": "code",
   "execution_count": 10,
   "id": "af04e6e0",
   "metadata": {},
   "outputs": [
    {
     "name": "stdout",
     "output_type": "stream",
     "text": [
      "35.99811292016733\n",
      "17.9985729717337\n",
      "35.98968539603212\n",
      "14.997902563238696\n"
     ]
    }
   ],
   "source": [
    "print(factor * np.sum(q_array**2*q_weights*n_pn_array))\n",
    "print(factor * np.sum(q_array**2*q_weights*n_pp_array))\n",
    "print(factor * np.sum(q_array_av18**2*0.1*n_pn_array_av18))\n",
    "print(factor * np.sum(q_array_av18**2*0.1*n_pp_array_av18))   "
   ]
  },
  {
   "cell_type": "code",
   "execution_count": 11,
   "id": "42592d5a",
   "metadata": {},
   "outputs": [
    {
     "name": "stdout",
     "output_type": "stream",
     "text": [
      "3.0047392606354 0.028614102368717018\n",
      "3.0 0.28052\n"
     ]
    }
   ],
   "source": [
    "print(q_array[60], n_pp_array[60])\n",
    "print(q_array_av18[30], n_pp_array_av18[30])"
   ]
  },
  {
   "cell_type": "code",
   "execution_count": 12,
   "id": "4f6b0087",
   "metadata": {},
   "outputs": [
    {
     "name": "stdout",
     "output_type": "stream",
     "text": [
      "3.0047392606354 0.3600830896629845\n",
      "3.0 0.93013\n"
     ]
    }
   ],
   "source": [
    "print(q_array[60], n_pn_array[60])\n",
    "print(q_array_av18[30], n_pn_array_av18[30])"
   ]
  },
  {
   "cell_type": "code",
   "execution_count": null,
   "id": "994fa9f6",
   "metadata": {},
   "outputs": [],
   "source": []
  },
  {
   "cell_type": "code",
   "execution_count": null,
   "id": "1d6fcaa0",
   "metadata": {},
   "outputs": [],
   "source": []
  },
  {
   "cell_type": "markdown",
   "id": "ccc17ff0",
   "metadata": {},
   "source": [
    "__Check asymptotic relation between single-nucleon and pair momentum distributions__"
   ]
  },
  {
   "cell_type": "code",
   "execution_count": 13,
   "id": "8a183e31",
   "metadata": {},
   "outputs": [
    {
     "name": "stdout",
     "output_type": "stream",
     "text": [
      "        q                 p               2pp+pn              pp                pn        \n",
      "\n",
      "     0.001185        1.535563e+04      2.757915e+04      7.016763e+03      1.354563e+04   \n",
      "     0.006239        7.720107e+03      2.781609e+04      7.083913e+03      1.364826e+04   \n",
      "     0.015318        5.009987e+03      2.789102e+04      7.107432e+03      1.367616e+04   \n",
      "     0.028399        3.560837e+03      2.772995e+04      7.063285e+03      1.360338e+04   \n",
      "     0.045447        2.648091e+03      2.748113e+04      6.997521e+03      1.348609e+04   \n",
      "     0.066417        2.100493e+03      2.707461e+04      6.890802e+03      1.329300e+04   \n",
      "     0.091251        1.632721e+03      2.645983e+04      6.730388e+03      1.299905e+04   \n",
      "     0.119882        1.387791e+03      2.562048e+04      6.513265e+03      1.259395e+04   \n",
      "     0.152235        1.168009e+03      2.454860e+04      6.237241e+03      1.207412e+04   \n",
      "     0.188220        9.720761e+02      2.321330e+04      5.893940e+03      1.142542e+04   \n",
      "     0.227742        7.986490e+02      2.163788e+04      5.490484e+03      1.065691e+04   \n",
      "     0.270694        6.949895e+02      1.981898e+04      5.025365e+03      9.768249e+03   \n",
      "     0.316959        6.004316e+02      1.779179e+04      4.508720e+03      8.774351e+03   \n",
      "     0.366414        5.146234e+02      1.559237e+04      3.948156e+03      7.696055e+03   \n",
      "     0.418925        4.750705e+02      1.329282e+04      3.363024e+03      6.566770e+03   \n",
      "     0.474351        4.018014e+02      1.095996e+04      2.770387e+03      5.419188e+03   \n",
      "     0.532541        3.364605e+02      8.677053e+03      2.191256e+03      4.294541e+03   \n",
      "     0.593339        3.069294e+02      6.544156e+03      1.650829e+03      3.242497e+03   \n",
      "     0.656582        2.528973e+02      4.681304e+03      1.179695e+03      2.321913e+03   \n",
      "     0.722098        2.288725e+02      3.165416e+03      7.966448e+02      1.572126e+03   \n",
      "     0.789711        1.852855e+02      2.026977e+03      5.095158e+02      1.007945e+03   \n",
      "     0.859239        1.662635e+02      1.216340e+03      3.051875e+02      6.059649e+02   \n",
      "     0.930495        1.320409e+02      6.713416e+02      1.679901e+02      3.353613e+02   \n",
      "     1.003286        1.033681e+02      3.315290e+02      8.250834e+01      1.665124e+02   \n",
      "     1.077416        7.965306e+01      1.403048e+02      3.446308e+01      7.137863e+01   \n",
      "     1.152685        6.029912e+01      4.803573e+01      1.129044e+01      2.545486e+01   \n",
      "     1.228890        3.803951e+01      1.321778e+01      2.526613e+00      8.164549e+00   \n",
      "     1.305826        1.880785e+01      4.966809e+00      4.029928e-01      4.160823e+00   \n",
      "     1.383286        5.671858e+00      4.380974e+00      1.935266e-01      3.993921e+00   \n",
      "     1.461060        2.976250e+00      4.324675e+00      1.494456e-01      4.025783e+00   \n",
      "     1.538940        2.902591e+00      4.087461e+00      1.045203e-01      3.878420e+00   \n",
      "     1.616714        2.794440e+00      3.725786e+00      6.503961e-02      3.595707e+00   \n",
      "     1.694174        2.656320e+00      3.302912e+00      3.485520e-02      3.233202e+00   \n",
      "     1.771110        2.494761e+00      2.873275e+00      1.495910e-02      2.843357e+00   \n",
      "     1.847315        2.317425e+00      2.474446e+00      4.172604e-03      2.466101e+00   \n",
      "     1.922584        2.132203e+00      2.126169e+00      2.348308e-04      2.125700e+00   \n",
      "     1.996714        1.946424e+00      1.834038e+00      7.518045e-04      1.832534e+00   \n",
      "     2.069505        1.766273e+00      1.594743e+00      3.745857e-03      1.587252e+00   \n",
      "     2.140761        1.596462e+00      1.400744e+00      7.824131e-03      1.385096e+00   \n",
      "     2.210289        1.440142e+00      1.243456e+00      1.211830e-02      1.219219e+00   \n",
      "     2.277902        1.299018e+00      1.114993e+00      1.614387e-02      1.082706e+00   \n",
      "     2.343418        1.173588e+00      1.008859e+00      1.966555e-02      9.695282e-01   \n",
      "     2.406661        1.063443e+00      9.200257e-01      2.259804e-02      8.748297e-01   \n",
      "     2.467459        9.675657e-01      8.447389e-01      2.494152e-02      7.948559e-01   \n",
      "     2.525649        8.846068e-01      7.802427e-01      2.674194e-02      7.267588e-01   \n",
      "     2.581075        8.130911e-01      7.245193e-01      2.806698e-02      6.683853e-01   \n",
      "     2.633586        7.515599e-01      6.760804e-01      2.899172e-02      6.180970e-01   \n",
      "     2.683041        6.986675e-01      6.338127e-01      2.959019e-02      5.746323e-01   \n",
      "     2.729306        6.532229e-01      5.968678e-01      2.993087e-02      5.370061e-01   \n",
      "     2.772258        6.142077e-01      5.645872e-01      3.007447e-02      5.044382e-01   \n",
      "     2.811780        5.807650e-01      5.364496e-01      3.007327e-02      4.763030e-01   \n",
      "     2.847765        5.521885e-01      5.120362e-01      2.997130e-02      4.520936e-01   \n",
      "     2.880118        5.279026e-01      4.910064e-01      2.980495e-02      4.313965e-01   \n",
      "     2.908749        5.074384e-01      4.730810e-01      2.960387e-02      4.138732e-01   \n",
      "     2.933583        4.904224e-01      4.580308e-01      2.939181e-02      3.992472e-01   \n",
      "     2.954553        4.765561e-01      4.456691e-01      2.918754e-02      3.872940e-01   \n",
      "     2.971601        4.656048e-01      4.358454e-01      2.900555e-02      3.778343e-01   \n",
      "     2.984682        4.573908e-01      4.284419e-01      2.885678e-02      3.707284e-01   \n",
      "     2.993761        4.517834e-01      4.233708e-01      2.874906e-02      3.658727e-01   \n",
      "     2.998815        4.486941e-01      4.205713e-01      2.868755e-02      3.631962e-01   \n",
      "     3.004739        4.451026e-01      4.173113e-01      2.861410e-02      3.600831e-01   \n",
      "     3.024957        4.330786e-01      4.063562e-01      2.835275e-02      3.496507e-01   \n",
      "     3.061273        4.123433e-01      3.873226e-01      2.784486e-02      3.316329e-01   \n",
      "     3.113597        3.842764e-01      3.612889e-01      2.703774e-02      3.072134e-01   \n",
      "     3.181789        3.505880e-01      3.296725e-01      2.587919e-02      2.779141e-01   \n",
      "     3.265666        3.131076e-01      2.941052e-01      2.433655e-02      2.454321e-01   \n",
      "     3.365002        2.736255e-01      2.563123e-01      2.241256e-02      2.114872e-01   \n",
      "     3.479529        2.337991e-01      2.179973e-01      2.015349e-02      1.776903e-01   \n",
      "     3.608938        1.951017e-01      1.807334e-01      1.764739e-02      1.454387e-01   \n",
      "     3.752880        1.587848e-01      1.458668e-01      1.501290e-02      1.158410e-01   \n",
      "     3.910968        1.258375e-01      1.144368e-01      1.238194e-02      8.967295e-02   \n",
      "     4.082775        9.694665e-02      8.712777e-02      9.880722e-03      6.736632e-02   \n",
      "     4.267838        7.247615e-02      6.425771e-02      7.613550e-03      4.903061e-02   \n",
      "     4.465657        5.247378e-02      4.580743e-02      5.652209e-03      3.450301e-02   \n",
      "     4.675701        3.671228e-02      3.148193e-02      4.032195e-03      2.341754e-02   \n",
      "     4.897402        2.475501e-02      2.079198e-02      2.755079e-03      1.528182e-02   \n",
      "     5.130163        1.603619e-02      1.314086e-02      1.795314e-03      9.550231e-03   \n",
      "     5.373356        9.939009e-03      7.903354e-03      1.109278e-03      5.684798e-03   \n",
      "     5.626327        5.861870e-03      4.488035e-03      6.445524e-04      3.198930e-03   \n",
      "     5.888392        3.265550e-03      2.378749e-03      3.478909e-04      1.682968e-03   \n",
      "     6.158845        1.700310e-03      1.155611e-03      1.710055e-04      8.135997e-04   \n",
      "     6.436958        8.147327e-04      4.987788e-04      7.392553e-05      3.509278e-04   \n",
      "     6.721980        3.509694e-04      1.799762e-04      2.617238e-05      1.276314e-04   \n",
      "     7.013143        1.314979e-04      4.695437e-05      6.295748e-06      3.436288e-05   \n",
      "     7.309662        4.204900e-05      5.461268e-06      4.188415e-07      4.623586e-06   \n",
      "     7.610739        1.439584e-05      2.040636e-06      3.860405e-07      1.268555e-06   \n",
      "     7.915560        1.130855e-05      9.630391e-06      1.955256e-06      5.719880e-06   \n",
      "     8.223305        1.476584e-05      1.671975e-05      3.294977e-06      1.012980e-05   \n",
      "     8.533144        1.756505e-05      1.995412e-05      3.883566e-06      1.218698e-05   \n",
      "     8.844241        1.789064e-05      1.958287e-05      3.793859e-06      1.199515e-05   \n",
      "     9.155759        1.614010e-05      1.697434e-05      3.285264e-06      1.040381e-05   \n",
      "     9.466856        1.328849e-05      1.346677e-05      2.608160e-06      8.250447e-06   \n",
      "     9.776695        1.018945e-05      9.980531e-06      1.935588e-06      6.109355e-06   \n",
      "    10.084440        7.376990e-06      6.998823e-06      1.359344e-06      4.280136e-06   \n",
      "    10.389261        5.090872e-06      4.683525e-06      9.108192e-07      2.861886e-06   \n",
      "    10.690338        3.371667e-06      3.008326e-06      5.855272e-07      1.837272e-06   \n",
      "    10.986857        2.153710e-06      1.862085e-06      3.624952e-07      1.137094e-06   \n",
      "    11.278020        1.331657e-06      1.113510e-06      2.166135e-07      6.802831e-07   \n",
      "    11.563042        7.990766e-07      6.441440e-07      1.250516e-07      3.940408e-07   \n",
      "    11.841155        4.661733e-07      3.605201e-07      6.970291e-08      2.211143e-07   \n",
      "    12.111608        2.647068e-07      1.950172e-07      3.741718e-08      1.201828e-07   \n",
      "    12.373673        1.464159e-07      1.017316e-07      1.924207e-08      6.324740e-08   \n",
      "    12.626644        7.897464e-08      5.103583e-08      9.388205e-09      3.225942e-08   \n",
      "    12.869837        4.166030e-08      2.460311e-08      4.270556e-09      1.606200e-08   \n",
      "    13.102598        2.167271e-08      1.150969e-08      1.752433e-09      8.004830e-09   \n",
      "    13.324299        1.135854e-08      5.465950e-09      6.048492e-10      4.256251e-09   \n",
      "    13.534343        6.277757e-09      2.974972e-09      1.455831e-10      2.683806e-09   \n",
      "    13.732162        3.928640e-09      2.163867e-09      9.986353e-12      2.143895e-09   \n",
      "    13.917225        2.943460e-09      2.072121e-09      1.149887e-11      2.049123e-09   \n",
      "    14.089032        2.599298e-09      2.233922e-09      5.991942e-11      2.114083e-09   \n",
      "    14.247120        2.529891e-09      2.440917e-09      1.151380e-10      2.210641e-09   \n",
      "    14.391062        2.560205e-09      2.612481e-09      1.618403e-10      2.288801e-09   \n",
      "    14.520471        2.613791e-09      2.727693e-09      1.961963e-10      2.335300e-09   \n",
      "    14.634998        2.661735e-09      2.790924e-09      2.191472e-10      2.352630e-09   \n",
      "    14.734334        2.697038e-09      2.815093e-09      2.331923e-10      2.348709e-09   \n",
      "    14.818211        2.720919e-09      2.814066e-09      2.409693e-10      2.332127e-09   \n",
      "    14.886403        2.735802e-09      2.799691e-09      2.447164e-10      2.310258e-09   \n",
      "    14.938727        2.743937e-09      2.781022e-09      2.461388e-10      2.288744e-09   \n",
      "    14.975043        2.747885e-09      2.764352e-09      2.464193e-10      2.271513e-09   \n",
      "    14.995261        2.750378e-09      2.753937e-09      2.463597e-10      2.261218e-09   \n"
     ]
    }
   ],
   "source": [
    "header = '{:^18s}{:^18s}{:^18s}{:^18s}{:^18s}'.format('q', 'p', '2pp+pn', 'pp', 'pn')\n",
    "print(header + '\\n')\n",
    "\n",
    "# Just loop for now\n",
    "for iq, n_snmd, n_pp, n_pn in zip(q_array, n_p_array*Z, n_pp_array, n_pn_array):\n",
    "    \n",
    "    # 2*F_pp(q) + F_pn(q) where F_pn means np+pn\n",
    "    n_pmd = 2*n_pp + n_pn\n",
    "    \n",
    "    # Write to data file following the format from the header\n",
    "    line = '{:^18.6f}{:^18.6e}{:^18.6e}{:^18.6e}{:^18.6e}'.format(iq, n_snmd, n_pmd, n_pp, n_pn)\n",
    "    print(line)"
   ]
  },
  {
   "cell_type": "code",
   "execution_count": null,
   "id": "7d0a4be8",
   "metadata": {},
   "outputs": [],
   "source": []
  },
  {
   "cell_type": "markdown",
   "id": "6a20c1e3",
   "metadata": {},
   "source": [
    "__Deuteron momentum distribution__"
   ]
  },
  {
   "cell_type": "code",
   "execution_count": 14,
   "id": "6440de3e",
   "metadata": {
    "code_folding": [
     0
    ]
   },
   "outputs": [],
   "source": [
    "# # Compare deuteron LDA to AV18 deuteron\n",
    "\n",
    "# channel = '3S1'\n",
    "# factor_array = q_array**2 * q_weights\n",
    "    \n",
    "# # Load hamiltonian\n",
    "# H_matrix = vnn.load_hamiltonian(kvnn, channel, kmax, kmid, ntot)\n",
    "    \n",
    "# # Load exact wave function [unitless]\n",
    "# psi_exact_unitless = ob.wave_function(H_matrix)\n",
    "# psi_squared_exact = ( psi_exact_unitless[:ntot]**2 + psi_exact_unitless[ntot:]**2 ) / factor_array\n",
    "        \n",
    "# # Calculate using LDA\n",
    "# dmd = deuteron_momentum_distributions(kvnn, lamb, kmax, kmid, ntot, interp=True)\n",
    "\n",
    "# # Ignore 1, \\delta U, and \\delta U^2 isolated contributions (take total only)\n",
    "# n_d_func, _, _, _ = dmd.n_lambda_interp()\n",
    "\n",
    "# # Evaluate at all q values\n",
    "# n_d_array = n_d_func(q_array)\n",
    "    \n",
    "# # Normalization of wave function\n",
    "# norm = np.sum(factor_array * psi_squared_exact)\n",
    "# print('Normalization of exact: \\dq q^2 n_d(q) = %.5f' % norm)\n",
    "    \n",
    "# # Normalization of LDA deuteron momentum distribution\n",
    "# lda_factor = 4*np.pi * 1/(2*np.pi)**3\n",
    "# norm_lda = lda_factor * np.sum(factor_array * n_d_array)\n",
    "# print('Normalization of LDA: 4\\pi/(2\\pi)^3 \\dq q^2 <n_d^N(q)> = %.5f' % norm_lda) \n",
    "    \n",
    "# # Plot pair momentum distributions\n",
    "# plt.semilogy(q_array, psi_squared_exact, label='AV18 wave function')\n",
    "# plt.semilogy(q_array, n_d_array * lda_factor, label='LDA')\n",
    "# plt.xlim( (0.0, 5.0) )\n",
    "# plt.ylim( (1e-5, 5e2) )\n",
    "# plt.xlabel(r'$q$' + ' [fm' + r'$^{-1}$' + ']')\n",
    "# plt.ylabel(r'$n_d(q)$' + ' [fm' + r'$^3$' + ']')\n",
    "# plt.legend(loc=0)"
   ]
  },
  {
   "cell_type": "code",
   "execution_count": null,
   "id": "d06a8d84",
   "metadata": {},
   "outputs": [],
   "source": []
  }
 ],
 "metadata": {
  "kernelspec": {
   "display_name": "Python 3",
   "language": "python",
   "name": "python3"
  },
  "language_info": {
   "codemirror_mode": {
    "name": "ipython",
    "version": 3
   },
   "file_extension": ".py",
   "mimetype": "text/x-python",
   "name": "python",
   "nbconvert_exporter": "python",
   "pygments_lexer": "ipython3",
   "version": "3.8.5"
  }
 },
 "nbformat": 4,
 "nbformat_minor": 5
}

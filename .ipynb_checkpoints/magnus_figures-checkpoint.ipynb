{
 "cells": [
  {
   "cell_type": "markdown",
   "metadata": {},
   "source": [
    "File: magnus_figures.ipynb\n",
    "\n",
    "Author:   A. J. Tropiano (tropiano.4@osu.edu)<br/>\n",
    "Date:     May 28, 2019\n",
    "\n",
    "Description of notebook here. Outline each function:\n",
    "* func_1 - Plots...\n",
    "* func_2 - Returns...\n",
    "\n",
    "Revision history:<br/>\n",
    "* Month Day, Year - Description of update."
   ]
  },
  {
   "cell_type": "code",
   "execution_count": null,
   "metadata": {
    "code_folding": []
   },
   "outputs": [],
   "source": [
    "# Created 05/16/19 by A.T. (tropiano.4@osu.edu)\n",
    "\n",
    "# This notebook makes figures for the Magnus paper where each function corresponds to a different figure. The \n",
    "# notebook is roughly split into three sections:\n",
    "# 1) Potential evolution\n",
    "# 2) Observables\n",
    "# 3) Operator evolution\n",
    "# The last section is for running the functions to plot figures.\n",
    "\n",
    "from os import chdir, getcwd\n",
    "from matplotlib.offsetbox import AnchoredText\n",
    "import matplotlib.pyplot as plt\n",
    "%matplotlib inline\n",
    "import numpy as np\n",
    "from scipy.linalg import expm\n",
    "# Scripts made by A.T.\n",
    "from deuteron import Deuteron\n",
    "from Figures import figures_functions as ff\n",
    "from Potentials.vsrg_macos import load_save_potentials as lp\n",
    "from SRG_codes.srg_unitary_transformation import SRG_unitary_transformation"
   ]
  },
  {
   "cell_type": "markdown",
   "metadata": {},
   "source": [
    "__Potential evolution__\n",
    "\n",
    "* Plotting functions for comparing potentials evolving in $\\lambda$ using the Magnus expansion and the typical SRG approach."
   ]
  },
  {
   "cell_type": "code",
   "execution_count": null,
   "metadata": {},
   "outputs": [],
   "source": []
  },
  {
   "cell_type": "code",
   "execution_count": null,
   "metadata": {},
   "outputs": [],
   "source": []
  },
  {
   "cell_type": "code",
   "execution_count": null,
   "metadata": {},
   "outputs": [],
   "source": []
  },
  {
   "cell_type": "markdown",
   "metadata": {},
   "source": [
    "__Observables__\n",
    "\n",
    "* Functions for calculation of deuteron (or spurious bound state) observables (i.e., energies, momentum distributions, radii, etc.)"
   ]
  },
  {
   "cell_type": "code",
   "execution_count": null,
   "metadata": {},
   "outputs": [],
   "source": []
  },
  {
   "cell_type": "code",
   "execution_count": null,
   "metadata": {},
   "outputs": [],
   "source": []
  },
  {
   "cell_type": "code",
   "execution_count": null,
   "metadata": {},
   "outputs": [],
   "source": []
  },
  {
   "cell_type": "markdown",
   "metadata": {},
   "source": [
    "__Operator evolution__\n",
    "\n",
    "* Plotting functions for operator evolution evolving in $\\lambda$."
   ]
  },
  {
   "cell_type": "code",
   "execution_count": null,
   "metadata": {},
   "outputs": [],
   "source": []
  },
  {
   "cell_type": "code",
   "execution_count": null,
   "metadata": {},
   "outputs": [],
   "source": []
  },
  {
   "cell_type": "code",
   "execution_count": null,
   "metadata": {},
   "outputs": [],
   "source": []
  },
  {
   "cell_type": "markdown",
   "metadata": {},
   "source": [
    "__Run functions in the cell(s) below:__"
   ]
  },
  {
   "cell_type": "code",
   "execution_count": null,
   "metadata": {},
   "outputs": [],
   "source": []
  },
  {
   "cell_type": "code",
   "execution_count": null,
   "metadata": {},
   "outputs": [],
   "source": []
  },
  {
   "cell_type": "code",
   "execution_count": null,
   "metadata": {},
   "outputs": [],
   "source": []
  }
 ],
 "metadata": {
  "kernelspec": {
   "display_name": "Python 3",
   "language": "python",
   "name": "python3"
  },
  "language_info": {
   "codemirror_mode": {
    "name": "ipython",
    "version": 3
   },
   "file_extension": ".py",
   "mimetype": "text/x-python",
   "name": "python",
   "nbconvert_exporter": "python",
   "pygments_lexer": "ipython3",
   "version": "3.7.1"
  }
 },
 "nbformat": 4,
 "nbformat_minor": 2
}

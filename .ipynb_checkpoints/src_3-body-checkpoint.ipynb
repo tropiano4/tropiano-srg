{
 "cells": [
  {
   "cell_type": "markdown",
   "id": "e54bfc7b",
   "metadata": {},
   "source": [
    "__File: src_3-body.ipynb__\n",
    "\n",
    "__Author:   A. J. Tropiano (tropiano.4@osu.edu)__<br/>\n",
    "__Date:     Aug 9, 2021__\n",
    "\n",
    "Notes and code on 3-body effects for SRC physics at low RG resolution.\n",
    "\n",
    "__Revision history:<br/>__\n",
    "* ..."
   ]
  },
  {
   "cell_type": "markdown",
   "id": "1c59db1b",
   "metadata": {},
   "source": [
    "_Temporary notes_<br/>\n",
    "1. What is the cluster hierarchy of a potential?\n",
    "2. Neff results:<br/>\n",
    "a. Pair distribution in $\\alpha$ particle shows $\\lambda$ dependence around $2$ fm$^{-1}$ in the $^{3}$S$_{1}$-$^{3}$D$_{1}$ channel when integrating over $Q$.<br/>\n",
    "b. Very little dependence at $Q=0$ fm$^{-1}$.<br/>\n",
    "c. Little dependence at $q>3$ fm$^{-1}$.<br/>\n",
    "d. Significant dependence in other channels.<br/>\n",
    "3. See Jurgenson:2009qs paper for direct test of 3-body in SRG flow.<br/>\n",
    "4. $\\lambda$ dependence indicates where 3-body terms are important.<br/>\n",
    "\n",
    "Open questions:<br/>\n",
    "1. What is the role of 3-body effects in the Hamiltonian and induced 3-body in projection operator?"
   ]
  },
  {
   "cell_type": "code",
   "execution_count": null,
   "id": "c1c054c2",
   "metadata": {},
   "outputs": [],
   "source": [
    "# Q dependence plots\n",
    "\n",
    "# 1. Show multi-plot Q+\\lambda dependence of He4 for fixed Q=0.0, 0.25, ..., 1.25, and \\lambda = 1.35, 2, 3, 6 fm^-1\n",
    "# (pn solid, pp dash-dotted). Two plots: S waves, S+P waves.\n",
    "# 2. Does this result depend on the potential? Try kvnn = 222.\n",
    "# 3. Other nuclei? Try C12, Ca48, Pb208."
   ]
  },
  {
   "cell_type": "code",
   "execution_count": null,
   "id": "0747c77b",
   "metadata": {},
   "outputs": [],
   "source": [
    "# \\lambda dependence plots\n",
    "\n",
    "# 1. Copy \\lambda dependence plots for single-nucleon distributions from other notebook."
   ]
  },
  {
   "cell_type": "code",
   "execution_count": null,
   "id": "505fe2f0",
   "metadata": {},
   "outputs": [],
   "source": []
  },
  {
   "cell_type": "code",
   "execution_count": null,
   "id": "6e9a7f59",
   "metadata": {},
   "outputs": [],
   "source": []
  },
  {
   "cell_type": "code",
   "execution_count": null,
   "id": "4a147915",
   "metadata": {},
   "outputs": [],
   "source": []
  }
 ],
 "metadata": {
  "kernelspec": {
   "display_name": "Python 3",
   "language": "python",
   "name": "python3"
  },
  "language_info": {
   "codemirror_mode": {
    "name": "ipython",
    "version": 3
   },
   "file_extension": ".py",
   "mimetype": "text/x-python",
   "name": "python",
   "nbconvert_exporter": "python",
   "pygments_lexer": "ipython3",
   "version": "3.8.5"
  }
 },
 "nbformat": 4,
 "nbformat_minor": 5
}

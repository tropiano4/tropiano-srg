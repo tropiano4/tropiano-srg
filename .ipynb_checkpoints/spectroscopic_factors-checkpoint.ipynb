{
 "cells": [
  {
   "cell_type": "markdown",
   "id": "bef13231",
   "metadata": {},
   "source": [
    "__File: spectroscopic_factors.ipynb__\n",
    "\n",
    "__Author:   A. J. Tropiano (tropiano.4@osu.edu)__<br/>\n",
    "__Date:     Oct 8, 2021__\n",
    "\n",
    "SRG-evolving spectroscopic factors using similar analysis to momentum distribution calculations with s.p. wave functions from HFBRAD code.\n",
    "\n",
    "__Revision history:<br/>__\n",
    "* xxx xx, xxxx - ..."
   ]
  },
  {
   "cell_type": "code",
   "execution_count": 1,
   "id": "9e6ab8d3",
   "metadata": {},
   "outputs": [],
   "source": [
    "from matplotlib.offsetbox import AnchoredText\n",
    "import matplotlib.pyplot as plt\n",
    "%matplotlib inline\n",
    "import matplotlib as mpl\n",
    "import numpy as np\n",
    "from scipy.special import spherical_jn\n",
    "# Scripts made by A.T.\n",
    "from figures import figures_functions as ff\n",
    "from potentials.vsrg_macos import vnn"
   ]
  },
  {
   "cell_type": "markdown",
   "id": "8c66dfa2",
   "metadata": {},
   "source": [
    "# Set-up"
   ]
  },
  {
   "cell_type": "code",
   "execution_count": 2,
   "id": "56e88b18",
   "metadata": {
    "code_folding": [
     0
    ]
   },
   "outputs": [],
   "source": [
    "def setup_rc_params(presentation=False):\n",
    "    \"\"\"\n",
    "    Set matplotlib's rc parameters for the plots\n",
    "    \n",
    "    Parameters\n",
    "    ----------\n",
    "    presentation : bool, optional\n",
    "        Option to enlarge font sizes for presentations.\n",
    "    \n",
    "    \"\"\"\n",
    "\n",
    "    if presentation:\n",
    "        fontsize = 14\n",
    "    else:\n",
    "        fontsize = 9\n",
    "    black = 'k'\n",
    "\n",
    "    mpl.rcdefaults()  # Set to defaults\n",
    "\n",
    "    mpl.rc('text', usetex=True)\n",
    "    mpl.rcParams['font.size'] = fontsize\n",
    "    mpl.rcParams['text.usetex'] = True\n",
    "    mpl.rcParams['font.family'] = 'serif'\n",
    "\n",
    "#     mpl.rcParams['axes.labelsize'] = fontsize\n",
    "    mpl.rcParams['axes.edgecolor'] = black\n",
    "    # mpl.rcParams['axes.xmargin'] = 0\n",
    "    mpl.rcParams['axes.labelcolor'] = black\n",
    "#     mpl.rcParams['axes.titlesize'] = fontsize\n",
    "\n",
    "    mpl.rcParams['ytick.direction'] = 'in'\n",
    "    mpl.rcParams['xtick.direction'] = 'in'\n",
    "    mpl.rcParams['xtick.labelsize'] = fontsize\n",
    "    mpl.rcParams['ytick.labelsize'] = fontsize\n",
    "    mpl.rcParams['xtick.color'] = black\n",
    "    mpl.rcParams['ytick.color'] = black\n",
    "    # Make the ticks thin enough to not be visible at the limits of the plot (over the axes border)\n",
    "    mpl.rcParams['xtick.major.width'] = mpl.rcParams['axes.linewidth'] * 0.95\n",
    "    mpl.rcParams['ytick.major.width'] = mpl.rcParams['axes.linewidth'] * 0.95\n",
    "    # The minor ticks are little too small, make them both bigger.\n",
    "    mpl.rcParams['xtick.minor.size'] = 2.4  # Default 2.0\n",
    "    mpl.rcParams['ytick.minor.size'] = 2.4\n",
    "    mpl.rcParams['xtick.major.size'] = 3.9  # Default 3.5\n",
    "    mpl.rcParams['ytick.major.size'] = 3.9\n",
    "    \n",
    "    # Added by A.T.\n",
    "    # Puts tick marks (not labels) on top and right axes\n",
    "    mpl.rcParams['xtick.top'] = True\n",
    "    mpl.rcParams['ytick.right'] = True\n",
    "    \n",
    "    ppi = 72  # points per inch\n",
    "    # dpi = 150\n",
    "#     mpl.rcParams['figure.titlesize'] = fontsize\n",
    "    mpl.rcParams['figure.dpi'] = 150  # To show up reasonably in notebooks\n",
    "    mpl.rcParams['figure.constrained_layout.use'] = False\n",
    "    # 0.02 and 3 points are the defaults:\n",
    "    # can be changed on a plot-by-plot basis using fig.set_constrained_layout_pads()\n",
    "    mpl.rcParams['figure.constrained_layout.wspace'] = 0.0\n",
    "    mpl.rcParams['figure.constrained_layout.hspace'] = 0.0\n",
    "    mpl.rcParams['figure.constrained_layout.h_pad'] = 3. / ppi  # 3 points\n",
    "    mpl.rcParams['figure.constrained_layout.w_pad'] = 3. / ppi\n",
    "\n",
    "#     mpl.rcParams['legend.title_fontsize'] = fontsize\n",
    "#     mpl.rcParams['legend.fontsize'] = fontsize\n",
    "    mpl.rcParams['legend.edgecolor'] = 'inherit'  # inherits from axes.edgecolor, to match\n",
    "    # Set facecolor with its own alpha, so edgecolor is unaffected\n",
    "    mpl.rcParams['legend.fancybox'] = True\n",
    "    mpl.rcParams['legend.facecolor'] = (1, 1, 1, 0.6)\n",
    "#     mpl.rcParams['legend.borderaxespad'] = 0.8\n",
    "    # Do not set overall alpha (affects edgecolor). Handled by facecolor above\n",
    "    mpl.rcParams['legend.framealpha'] = None\n",
    "    # This is for legend edgewidth, since it does not have its own option\n",
    "    mpl.rcParams['patch.linewidth'] = 0.8\n",
    "    mpl.rcParams['hatch.linewidth'] = 0.5\n",
    "\n",
    "    # bbox = 'tight' can distort the figure size when saved (that's its purpose).\n",
    "    # mpl.rc('savefig', transparent=False, bbox='tight', pad_inches=0.04, dpi=350, format='png')\n",
    "    # mpl.rc('savefig', transparent=False, bbox=None, dpi=400, format='png')\n",
    "    mpl.rc('savefig', bbox='tight', dpi=400)"
   ]
  },
  {
   "cell_type": "code",
   "execution_count": 3,
   "id": "348263b8",
   "metadata": {},
   "outputs": [],
   "source": [
    "# Run this cell to customize matplotlib graphics (see setup_rc_params for details)\n",
    "setup_rc_params(presentation=True)"
   ]
  },
  {
   "cell_type": "code",
   "execution_count": null,
   "id": "77f6ed0e",
   "metadata": {},
   "outputs": [],
   "source": [
    "def occupied_states(nucleus):\n",
    "    \"\"\"\n",
    "    Return all the occupied states of the given nucleus.\n",
    "    \n",
    "    Parameters\n",
    "    ----------\n",
    "    nucleus : tuple\n",
    "        Details for various nuclei formatted as a tuple: (name (str), Z (int), N (int)) (e.g., ('O16', 8, 8)).\n",
    "    \n",
    "    Returns\n",
    "    -------\n",
    "    FINISH THIS\n",
    "    \n",
    "    \"\"\"\n",
    "    \n",
    "    # Goal: return (it, n, l, j) where n is # of nodes\n",
    "    \n",
    "    return None"
   ]
  },
  {
   "cell_type": "code",
   "execution_count": 4,
   "id": "2a409052",
   "metadata": {
    "code_folding": [
     0
    ]
   },
   "outputs": [],
   "source": [
    "def j_values(l):\n",
    "    '''\n",
    "    Return possible j values given orbital angular momentum l and assuming spin is 1/2.\n",
    "    \n",
    "    Parameters\n",
    "    ----------\n",
    "    l : int\n",
    "        Orbital angular momentum.\n",
    "        \n",
    "    Returns\n",
    "    -------\n",
    "    j_array : 1-D ndarray\n",
    "        Array of possible j values.\n",
    "    \n",
    "    '''\n",
    "    \n",
    "    s = 1/2 # Spin\n",
    "    j_array = np.arange( abs(l-s), l+s+1, 1)\n",
    "    \n",
    "    return j_array"
   ]
  },
  {
   "cell_type": "code",
   "execution_count": 5,
   "id": "a0527cc1",
   "metadata": {
    "code_folding": [
     0
    ]
   },
   "outputs": [],
   "source": [
    "def orbital_angular_momentum_label(l):\n",
    "    '''\n",
    "    Return spectroscopic notation label for orbital angular momentum (int).\n",
    "    \n",
    "    Parameters\n",
    "    ----------\n",
    "    l : int\n",
    "        Orbital angular momentum.\n",
    "        \n",
    "    Returns\n",
    "    -------\n",
    "    l_str : str\n",
    "        Spectroscopic label of l values (e.g., l = 0 returns 's')\n",
    "    \n",
    "    '''\n",
    "    \n",
    "    if l == 0:\n",
    "        return 's'\n",
    "    elif l == 1:\n",
    "        return 'p'\n",
    "    elif l == 2:\n",
    "        return 'd'\n",
    "    elif l == 3:\n",
    "        return 'f'"
   ]
  },
  {
   "cell_type": "code",
   "execution_count": 6,
   "id": "40bc5cbe",
   "metadata": {},
   "outputs": [],
   "source": [
    "# Save figures in the following directory\n",
    "figure_directory = 'figures/knockout_reactions'\n",
    "\n",
    "# Load s.p. wave functions from the following directory\n",
    "hfbrad_directory = 'densities/HFBRAD_SLY4'\n",
    "\n",
    "# Nucleus formatted as (Name, Z, N)\n",
    "nucleus = ('O16', 8, 8)\n",
    "nucleus_name = nucleus[0]\n",
    "Z = nucleus[1]\n",
    "N = nucleus[2]\n",
    "n_values = [1]\n",
    "l_array = np.array( [0, 1] )\n",
    "\n",
    "# Nucleons to consider\n",
    "# nucleon_list = ['proton', 'neutron']\n",
    "nucleon_list = ['proton']\n",
    "\n",
    "# Consider 1s_{1/2}, 1p_{1/2}, and 1p_{3/2} states\n",
    "\n",
    "# Store things in dictionary\n",
    "d = {}\n",
    "d['proton'] = {}\n",
    "d['neutron'] = {}\n",
    "\n",
    "# Momentum array and weights\n",
    "p_array, p_weights = vnn.load_momentum(6, '1S0', 15.0, 3.0, 120)"
   ]
  },
  {
   "cell_type": "markdown",
   "id": "216afe20",
   "metadata": {},
   "source": [
    "# Load coordinate-space single-particle wave functions"
   ]
  },
  {
   "cell_type": "code",
   "execution_count": 7,
   "id": "cd4a8714",
   "metadata": {},
   "outputs": [],
   "source": [
    "# Keys for dictionary\n",
    "keys = []\n",
    "\n",
    "\n",
    "# Loop over isospin\n",
    "for nucleon in nucleon_list:\n",
    "    \n",
    "    # Loop over l and j and add \\phi_{\\alpha}(r) to dictionary\n",
    "    for l in l_array:\n",
    "    \n",
    "        # Get j values\n",
    "        j_array = j_values(l)\n",
    "        \n",
    "        # Get string of l in spectroscopic notation\n",
    "        l_str = orbital_angular_momentum_label(l)\n",
    "    \n",
    "        # Loop over j\n",
    "        for j in j_array:\n",
    "            \n",
    "            key = '1%s%.1f' % (l_str, j)\n",
    "        \n",
    "            if nucleon == 'neutron':\n",
    "                if l == 0 and j == 1/2:\n",
    "                    file_name = 'qp0006_%d_%d.gfx' % (Z, N)\n",
    "                elif l == 1 and j == 1/2:\n",
    "                    file_name = 'qp0012_%d_%d.gfx' % (Z, N)\n",
    "                elif l == 1 and j == 3/2:\n",
    "                    file_name = 'qp0023_%d_%d.gfx' % (Z, N)\n",
    "            else:\n",
    "                if l == 0 and j == 1/2:\n",
    "                    file_name = 'qp0197_%d_%d.gfx' % (Z, N)\n",
    "                elif l == 1 and j == 1/2:\n",
    "                    file_name = 'qp0203_%d_%d.gfx' % (Z, N)\n",
    "                elif l == 1 and j == 3/2:\n",
    "                    file_name = 'qp0214_%d_%d.gfx' % (Z, N)\n",
    "                \n",
    "            d[nucleon][key] = np.loadtxt( hfbrad_directory + '/%s/wfs/%s' % (nucleus_name, file_name) )\n",
    "            if not key in keys:\n",
    "                keys.append(key)"
   ]
  },
  {
   "cell_type": "markdown",
   "id": "2bc93402",
   "metadata": {},
   "source": [
    "# Plot coordinate-space single-particle wave functions"
   ]
  },
  {
   "cell_type": "code",
   "execution_count": 8,
   "id": "dad5d76c",
   "metadata": {},
   "outputs": [
    {
     "data": {
      "text/plain": [
       "<matplotlib.legend.Legend at 0x7ffaae4fcfa0>"
      ]
     },
     "execution_count": 8,
     "metadata": {},
     "output_type": "execute_result"
    },
    {
     "data": {
      "image/png": "[encoded data removed]",
      "text/plain": [
       "<Figure size 600x600 with 1 Axes>"
      ]
     },
     "metadata": {},
     "output_type": "display_data"
    }
   ],
   "source": [
    "# Figure size\n",
    "row_number = 1\n",
    "col_number = 1\n",
    "figure_size = (4*col_number, 4*row_number)\n",
    "\n",
    "# Axes labels and fontsize\n",
    "x_label = 'r [fm]'\n",
    "x_label_size = 16\n",
    "y_label = r'$\\phi(r)$' + ' [fm' + r'$^{-1/2}$' + ']'\n",
    "y_label_size = 16\n",
    "\n",
    "xlim = (0.0, 10.0)\n",
    "ylim = (0.0, 0.8)\n",
    "\n",
    "# Curve width\n",
    "curve_width = 2.0\n",
    "\n",
    "# Initialize figure\n",
    "plt.close('all')\n",
    "f, ax = plt.subplots(figsize=figure_size)\n",
    "\n",
    "# Loop over isospin\n",
    "for nucleon in nucleon_list:\n",
    "    for ikey, key in enumerate(keys):\n",
    "        \n",
    "        phi_data = d[nucleon][key]\n",
    "        r_array = phi_data[:, 0]\n",
    "        dr = r_array[1] - r_array[0]\n",
    "        phi_r_array = phi_data[:, 2]\n",
    "        \n",
    "        # Curve style, color, and label\n",
    "        curve_color = ff.xkcd_colors(ikey)\n",
    "        if nucleon == 'proton':\n",
    "            curve_style = 'solid'\n",
    "        else:\n",
    "            curve_style = 'dashdot'\n",
    "        \n",
    "        # Curve label\n",
    "        j = float(key[2:])\n",
    "        if j == 0.5:\n",
    "            j_str = '1/2'\n",
    "        elif j == 1.5:\n",
    "            j_str = '3/2'\n",
    "        elif j == 2.5:\n",
    "            j_str = '5/2'\n",
    "        curve_label = key[:2] + r'$_{%s}$' % j_str\n",
    "        \n",
    "        ax.plot(r_array, phi_r_array, label=curve_label, linewidth=curve_width, color=curve_color,\n",
    "                linestyle=curve_style)\n",
    "        \n",
    "#         # Print out normalizations\n",
    "#         print( np.sum(dr*phi_r_array**2) )\n",
    "        \n",
    "# Specify axes limits\n",
    "ax.set_xlim(xlim)\n",
    "ax.set_ylim(ylim)\n",
    "\n",
    "# Set axes labels\n",
    "ax.set_xlabel(x_label, fontsize=x_label_size)\n",
    "ax.set_ylabel(y_label, fontsize=y_label_size)\n",
    "\n",
    "# Set legend\n",
    "legend_size = 14\n",
    "legend_location = 'upper right'\n",
    "ax.legend(loc=legend_location, frameon=False, fontsize=legend_size)"
   ]
  },
  {
   "cell_type": "markdown",
   "id": "2cfb6fe9",
   "metadata": {},
   "source": [
    "_Question: Source for comparison?_"
   ]
  },
  {
   "cell_type": "markdown",
   "id": "7b274766",
   "metadata": {},
   "source": [
    "# Transform to momentum-space and plot"
   ]
  },
  {
   "cell_type": "code",
   "execution_count": 9,
   "id": "7edee60d",
   "metadata": {
    "code_folding": [
     0
    ]
   },
   "outputs": [],
   "source": [
    "def hankel_transformation(L, k_array, r_array, dr):\n",
    "    \"\"\"\n",
    "    <k|r> transformation matrix for given orbital angular momentum L. If\n",
    "    len(r_array) = m and len(k_array) = n, then this function returns an \n",
    "    n x m matrix.\n",
    "    \n",
    "    Parameters\n",
    "    ----------\n",
    "    L : int\n",
    "        Orbital angular momentum.\n",
    "    k_array : 1-D ndarray\n",
    "        Momentum array [fm^-1].\n",
    "    r_array : 1-D ndarray\n",
    "        Coordinates array [fm].\n",
    "    dr : float\n",
    "        Coordinates step-size (weight) [fm].\n",
    "        \n",
    "    Returns\n",
    "    -------\n",
    "    M : 2-D ndarray\n",
    "        Hankel transformation matrix [fm^3\\2].\n",
    "\n",
    "    \"\"\"\n",
    "\n",
    "    # r_array column vectors and k_array row vectors where both grids are\n",
    "    # n x m matrices\n",
    "    r_cols, k_rows = np.meshgrid(r_array, k_array)\n",
    "        \n",
    "    # M = dr * r_cols**2 * spherical_jn(L, k_rows * r_cols)\n",
    "    M = dr * r_cols * spherical_jn(L, k_rows * r_cols)\n",
    "\n",
    "    return M"
   ]
  },
  {
   "cell_type": "code",
   "execution_count": 14,
   "id": "80b4e8b1",
   "metadata": {},
   "outputs": [
    {
     "name": "stdout",
     "output_type": "stream",
     "text": [
      "0.9999999989989599\n",
      "1.0000000010753913\n",
      "1.000000000784215\n"
     ]
    },
    {
     "data": {
      "text/plain": [
       "<matplotlib.legend.Legend at 0x7ffaaf5cdb80>"
      ]
     },
     "execution_count": 14,
     "metadata": {},
     "output_type": "execute_result"
    },
    {
     "data": {
      "image/png": "[encoded data removed]",
      "text/plain": [
       "<Figure size 600x600 with 1 Axes>"
      ]
     },
     "metadata": {},
     "output_type": "display_data"
    }
   ],
   "source": [
    "# Figure size\n",
    "row_number = 1\n",
    "col_number = 1\n",
    "figure_size = (4*col_number, 4*row_number)\n",
    "\n",
    "# Axes labels and fontsize\n",
    "x_label = 'p [fm' + r'$^{-1}$' + ']'\n",
    "x_label_size = 16\n",
    "y_label = r'$|\\phi(p)|^2$' + ' [fm' + r'$^{3}$' + ']'\n",
    "y_label_size = 16\n",
    "\n",
    "# xlim = (0.0, 10.0)\n",
    "xlim = (0.0, 300.0)\n",
    "ylim = (1e-2, 1e3)\n",
    "\n",
    "# Curve width\n",
    "curve_width = 2.0\n",
    "\n",
    "# Initialize figure\n",
    "plt.close('all')\n",
    "f, ax = plt.subplots(figsize=figure_size)\n",
    "\n",
    "# Loop over isospin\n",
    "for nucleon in nucleon_list:\n",
    "    for ikey, key in enumerate(keys):\n",
    "        \n",
    "        phi_data = d[nucleon][key]\n",
    "        r_array = phi_data[:, 0]\n",
    "        dr = r_array[1] - r_array[0]\n",
    "        phi_r_array = phi_data[:, 2]\n",
    "        \n",
    "        # Transform to momentum-space\n",
    "        if key[1] == 's':\n",
    "            l = 0\n",
    "        elif key[1] == 'p':\n",
    "            l = 1\n",
    "        elif key[1] == 'd':\n",
    "            l = 2\n",
    "        elif key[1] == 'f':\n",
    "            l = 3\n",
    "        ft_matrix = hankel_transformation(l, p_array, r_array, dr)\n",
    "        phi_p_array = ft_matrix @ phi_r_array\n",
    "        \n",
    "        # Curve style, color, and label\n",
    "        curve_color = ff.xkcd_colors(ikey)\n",
    "        if nucleon == 'proton':\n",
    "            curve_style = 'solid'\n",
    "        else:\n",
    "            curve_style = 'dashdot'\n",
    "        \n",
    "        # Curve label\n",
    "        fac = 1 \n",
    "        j = float(key[2:])\n",
    "        if j == 0.5:\n",
    "            j_str = '1/2'\n",
    "        elif j == 1.5:\n",
    "            j_str = '3/2'\n",
    "            fac = 0.1\n",
    "        elif j == 2.5:\n",
    "            j_str = '5/2'\n",
    "        curve_label = key[:2] + r'$_{%s}$' % j_str\n",
    "        \n",
    "        ax.semilogy(p_array*197, phi_p_array**2*fac, label=curve_label, linewidth=curve_width, color=curve_color,\n",
    "                    linestyle=curve_style)\n",
    "        \n",
    "        # Print out normalizations\n",
    "        print( 2/np.pi*np.sum(p_weights*p_array**2*phi_p_array**2) )\n",
    "        \n",
    "# Specify axes limits\n",
    "ax.set_xlim(xlim)\n",
    "ax.set_ylim(ylim)\n",
    "\n",
    "# Set axes labels\n",
    "# ax.set_xlabel(x_label, fontsize=x_label_size)\n",
    "ax.set_xlabel('E [MeV]', fontsize=x_label_size)\n",
    "ax.set_ylabel(y_label, fontsize=y_label_size)\n",
    "\n",
    "# Set legend\n",
    "legend_size = 14\n",
    "legend_location = 'upper right'\n",
    "ax.legend(loc=legend_location, frameon=False, fontsize=legend_size)"
   ]
  },
  {
   "cell_type": "markdown",
   "id": "74f85af7",
   "metadata": {},
   "source": [
    "_Questions_:\n",
    "\n",
    "1. What should I compare to for sanity checks?\n",
    "2. Other sanity checks?\n",
    "3. In many cross section plots, they take $p_{\\rm missing}$ to negative values. How can I reflect that (or should that be reflected in the definition of the spectroscopic factor)?"
   ]
  },
  {
   "cell_type": "markdown",
   "id": "20c588dc",
   "metadata": {},
   "source": [
    "# Spectroscopic factors"
   ]
  },
  {
   "cell_type": "markdown",
   "id": "b596355f",
   "metadata": {},
   "source": [
    "Definition of spectroscopic factor for a particular state $\\alpha$ from Dickhoff (7.6):\n",
    "\n",
    "</br>\n",
    "<div align=\"center\">\n",
    "$S_{\\alpha} = \\int d\\mathbf{p} \\lvert \\langle \\Psi_{\\alpha}^{A-1} \\lvert a_{\\mathbf{p}} \\rvert \\Psi_0^A \\rangle \\rvert^2$.\n",
    "</div>\n",
    "\n",
    "\n",
    "If we SRG-evolve the matrix element, and truncate the evolved operator to 2-body level, we arrive at the following:\n",
    "\n",
    "</br>\n",
    "<div align=\"left\">\n",
    "$S_{\\alpha}(\\lambda) = \\int d\\mathbf{p} \\lvert \\phi_{\\alpha}(p) \\rvert^2$\n",
    "    </br>$\\quad\\quad\\times\\,\n",
    "    \\Bigl| 4\\pi \\int_0^{\\infty} dR R^2 \\theta(k_{\\rm F}^{\\tau}(R)-p)\n",
    "    \\Bigl[ 2 + 16 \\sum_{L,S,T}' \\sum_{J} \\frac{2}{\\pi} \\int_0^{\\infty} dk k^2\n",
    "                (k (L S) J T \\lvert \\delta U^{\\dagger} \\rvert k (L S) J T)\n",
    "                \\sum_{\\tau'} \\lvert \\langle \\tau \\tau'| T \\, \\tau+\\tau' \\rangle \\rvert^2\n",
    "                \\int_{-1}^1 \\frac{dx}{2}\n",
    "                \\theta( k_{\\rm F}^{\\tau'}(R) - \\lvert \\mathbf{p}-2\\mathbf{k} \\rvert )\n",
    "    \\Bigr]\n",
    "    \\Bigr|^2$\n",
    "</div>\n",
    "    \n"
   ]
  },
  {
   "cell_type": "code",
   "execution_count": null,
   "id": "36e71d63",
   "metadata": {},
   "outputs": [],
   "source": []
  },
  {
   "cell_type": "code",
   "execution_count": null,
   "id": "f522409b",
   "metadata": {},
   "outputs": [],
   "source": []
  },
  {
   "cell_type": "code",
   "execution_count": null,
   "id": "488774aa",
   "metadata": {},
   "outputs": [],
   "source": []
  }
 ],
 "metadata": {
  "kernelspec": {
   "display_name": "Python 3",
   "language": "python",
   "name": "python3"
  },
  "language_info": {
   "codemirror_mode": {
    "name": "ipython",
    "version": 3
   },
   "file_extension": ".py",
   "mimetype": "text/x-python",
   "name": "python",
   "nbconvert_exporter": "python",
   "pygments_lexer": "ipython3",
   "version": "3.8.3"
  }
 },
 "nbformat": 4,
 "nbformat_minor": 5
}

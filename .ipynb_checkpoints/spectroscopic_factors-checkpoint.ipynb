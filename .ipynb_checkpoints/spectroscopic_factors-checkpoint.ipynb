{
 "cells": [
  {
   "cell_type": "markdown",
   "id": "ca63f0be",
   "metadata": {},
   "source": [
    "__File: spectroscopic_factors.ipynb__\n",
    "\n",
    "__Author:   A. J. Tropiano (tropiano.4@osu.edu)__<br/>\n",
    "__Date:     Oct 8, 2021__\n",
    "\n",
    "Brief description here.\n",
    "\n",
    "__Revision history:<br/>__\n",
    "* xxx xx, xxxx - ..."
   ]
  },
  {
   "cell_type": "code",
   "execution_count": 1,
   "id": "170c32c3",
   "metadata": {},
   "outputs": [],
   "source": [
    "# Imports"
   ]
  },
  {
   "cell_type": "markdown",
   "id": "bb1b8c84",
   "metadata": {},
   "source": [
    "# Set-up"
   ]
  },
  {
   "cell_type": "code",
   "execution_count": null,
   "id": "64428edd",
   "metadata": {},
   "outputs": [],
   "source": [
    "# Graphics function"
   ]
  },
  {
   "cell_type": "code",
   "execution_count": null,
   "id": "ac9322ff",
   "metadata": {},
   "outputs": [],
   "source": [
    "# Run graphics function"
   ]
  },
  {
   "cell_type": "code",
   "execution_count": 2,
   "id": "023f2560",
   "metadata": {},
   "outputs": [],
   "source": [
    "# Directories for figures/data/etc.\n",
    "# Specify nucleus"
   ]
  },
  {
   "cell_type": "markdown",
   "id": "3b06e8b0",
   "metadata": {},
   "source": [
    "# Load coordinate-space single-particle wave functions"
   ]
  },
  {
   "cell_type": "code",
   "execution_count": null,
   "id": "617354c5",
   "metadata": {},
   "outputs": [],
   "source": []
  },
  {
   "cell_type": "markdown",
   "id": "db297d48",
   "metadata": {},
   "source": [
    "# Plot coordinate-space single-particle wave functions"
   ]
  },
  {
   "cell_type": "code",
   "execution_count": 3,
   "id": "10642387",
   "metadata": {},
   "outputs": [],
   "source": [
    "# Print normalizations too\n",
    "# Questions:\n",
    "# 1. What should I compare too?"
   ]
  },
  {
   "cell_type": "markdown",
   "id": "d2ae8a8c",
   "metadata": {},
   "source": [
    "# Transform to momentum-space"
   ]
  },
  {
   "cell_type": "code",
   "execution_count": 4,
   "id": "3e89d3cc",
   "metadata": {},
   "outputs": [],
   "source": [
    "# Hankel transformation function"
   ]
  },
  {
   "cell_type": "code",
   "execution_count": 5,
   "id": "9b154068",
   "metadata": {},
   "outputs": [],
   "source": [
    "# Apply to wave functions"
   ]
  },
  {
   "cell_type": "markdown",
   "id": "1e7137ae",
   "metadata": {},
   "source": [
    "# Plot momentum-space wave functions"
   ]
  },
  {
   "cell_type": "code",
   "execution_count": 6,
   "id": "faba327e",
   "metadata": {},
   "outputs": [],
   "source": [
    "# Print normalizations too\n",
    "# Questions:\n",
    "# 1. What should I compare too?\n",
    "# 2. Think of other sanity checks.\n",
    "# 3. Shouldn't p be able to go negative? I'm using p the same as in k, k' for U(k,k')."
   ]
  },
  {
   "cell_type": "markdown",
   "id": "09b3d793",
   "metadata": {},
   "source": [
    "# Spectroscopic factors"
   ]
  },
  {
   "cell_type": "code",
   "execution_count": 7,
   "id": "09e50378",
   "metadata": {},
   "outputs": [],
   "source": [
    "# Add formulas here: initial and evolved"
   ]
  },
  {
   "cell_type": "code",
   "execution_count": null,
   "id": "c998731a",
   "metadata": {},
   "outputs": [],
   "source": []
  },
  {
   "cell_type": "code",
   "execution_count": null,
   "id": "25597db4",
   "metadata": {},
   "outputs": [],
   "source": []
  }
 ],
 "metadata": {
  "kernelspec": {
   "display_name": "Python 3",
   "language": "python",
   "name": "python3"
  },
  "language_info": {
   "codemirror_mode": {
    "name": "ipython",
    "version": 3
   },
   "file_extension": ".py",
   "mimetype": "text/x-python",
   "name": "python",
   "nbconvert_exporter": "python",
   "pygments_lexer": "ipython3",
   "version": "3.8.3"
  }
 },
 "nbformat": 4,
 "nbformat_minor": 5
}

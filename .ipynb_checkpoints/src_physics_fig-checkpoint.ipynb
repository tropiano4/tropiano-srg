{
 "cells": [
  {
   "cell_type": "markdown",
   "id": "7595636a",
   "metadata": {},
   "source": [
    "__File: src_physics_fig.ipynb__\n",
    "\n",
    "__Author:   A. J. Tropiano (tropiano.4@osu.edu)__<br/>\n",
    "__Date:     Apr 09, 2021__\n",
    "\n",
    "...\n",
    "\n",
    "__Revision history:<br/>__\n",
    "* XXX XX, XXXX - ..."
   ]
  },
  {
   "cell_type": "code",
   "execution_count": null,
   "id": "242960ac",
   "metadata": {},
   "outputs": [],
   "source": [
    "# imports should NOT include things in your directories (anybody should be able to use this with the data)"
   ]
  },
  {
   "cell_type": "code",
   "execution_count": null,
   "id": "696d217a",
   "metadata": {},
   "outputs": [],
   "source": [
    "# Write the data using separate notebook: write_src_physics_data.ipynb\n",
    "# The data will be in a subdirectory call SRC_data\n",
    "# Load data from this subdirectory and plot"
   ]
  },
  {
   "cell_type": "code",
   "execution_count": null,
   "id": "754452d8",
   "metadata": {
    "code_folding": [
     2
    ]
   },
   "outputs": [],
   "source": [
    "# Set matplotlib's rc parameters (starting with DF's version)\n",
    "# Just set default tick marks direction, font style, tick major/minor size, savefig defaults with bbox='tight'\n",
    "def setup_rc_params(presentation=False):\n",
    "    \"\"\"Set matplotlib's rc parameters for the plots\n",
    "        Parameters\n",
    "        ----------\n",
    "        presentation : boolean\n",
    "            increases font size (more readable) for talks if enabled\n",
    "    \"\"\"\n",
    "    if presentation:\n",
    "        fontsize = 11\n",
    "    else:\n",
    "        fontsize = 9\n",
    "    black = 'k'\n",
    "\n",
    "    mpl.rcdefaults()  # Set to defaults\n",
    "\n",
    "    mpl.rc('text', usetex=True)\n",
    "    mpl.rcParams['font.size'] = fontsize\n",
    "    mpl.rcParams['text.usetex'] = False\n",
    "    mpl.rcParams['font.family'] = 'serif'\n",
    "\n",
    "    mpl.rcParams['axes.labelsize'] = fontsize\n",
    "    mpl.rcParams['axes.edgecolor'] = black\n",
    "    # mpl.rcParams['axes.xmargin'] = 0\n",
    "    mpl.rcParams['axes.labelcolor'] = black\n",
    "    mpl.rcParams['axes.titlesize'] = fontsize\n",
    "\n",
    "    mpl.rcParams['ytick.direction'] = 'in'\n",
    "    mpl.rcParams['xtick.direction'] = 'in'\n",
    "    mpl.rcParams['xtick.labelsize'] = fontsize\n",
    "    mpl.rcParams['ytick.labelsize'] = fontsize\n",
    "    mpl.rcParams['xtick.color'] = black\n",
    "    mpl.rcParams['ytick.color'] = black\n",
    "    # Make the ticks thin enough to not be visible at the limits of the plot (over the axes border)\n",
    "    mpl.rcParams['xtick.major.width'] = mpl.rcParams['axes.linewidth'] * 0.95\n",
    "    mpl.rcParams['ytick.major.width'] = mpl.rcParams['axes.linewidth'] * 0.95\n",
    "    # The minor ticks are little too small, make them both bigger.\n",
    "    mpl.rcParams['xtick.minor.size'] = 2.4  # Default 2.0\n",
    "    mpl.rcParams['ytick.minor.size'] = 2.4\n",
    "    mpl.rcParams['xtick.major.size'] = 3.9  # Default 3.5\n",
    "    mpl.rcParams['ytick.major.size'] = 3.9\n",
    "\n",
    "    ppi = 72  # points per inch\n",
    "    # dpi = 150\n",
    "    mpl.rcParams['figure.titlesize'] = fontsize\n",
    "    mpl.rcParams['figure.dpi'] = 150  # To show up reasonably in notebooks\n",
    "    mpl.rcParams['figure.constrained_layout.use'] = False\n",
    "    # 0.02 and 3 points are the defaults:\n",
    "    # can be changed on a plot-by-plot basis using fig.set_constrained_layout_pads()\n",
    "    mpl.rcParams['figure.constrained_layout.wspace'] = 0.0\n",
    "    mpl.rcParams['figure.constrained_layout.hspace'] = 0.0\n",
    "    mpl.rcParams['figure.constrained_layout.h_pad'] = 3. / ppi  # 3 points\n",
    "    mpl.rcParams['figure.constrained_layout.w_pad'] = 3. / ppi\n",
    "\n",
    "    mpl.rcParams['legend.title_fontsize'] = fontsize\n",
    "    mpl.rcParams['legend.fontsize'] = fontsize\n",
    "    mpl.rcParams['legend.edgecolor'] = 'inherit'  # inherits from axes.edgecolor, to match\n",
    "    mpl.rcParams['legend.facecolor'] = (1, 1, 1, 0.6)  # Set facecolor with its own alpha, so edgecolor is unaffected\n",
    "    mpl.rcParams['legend.fancybox'] = True\n",
    "    mpl.rcParams['legend.borderaxespad'] = 0.8\n",
    "    mpl.rcParams['legend.framealpha'] = None  # Do not set overall alpha (affects edgecolor). Handled by facecolor above\n",
    "    mpl.rcParams['patch.linewidth'] = 0.8  # This is for legend edgewidth, since it does not have its own option\n",
    "\n",
    "    mpl.rcParams['hatch.linewidth'] = 0.5\n",
    "\n",
    "    # bbox = 'tight' can distort the figure size when saved (that's its purpose).\n",
    "    # mpl.rc('savefig', transparent=False, bbox='tight', pad_inches=0.04, dpi=350, format='png')\n",
    "    mpl.rc('savefig', transparent=False, bbox=None, dpi=400, format='png')"
   ]
  },
  {
   "cell_type": "code",
   "execution_count": null,
   "id": "8226708b",
   "metadata": {},
   "outputs": [],
   "source": [
    "setup_rc_params(presentation=True)"
   ]
  },
  {
   "cell_type": "code",
   "execution_count": null,
   "id": "0f256916",
   "metadata": {},
   "outputs": [],
   "source": []
  }
 ],
 "metadata": {
  "kernelspec": {
   "display_name": "Python 3",
   "language": "python",
   "name": "python3"
  },
  "language_info": {
   "codemirror_mode": {
    "name": "ipython",
    "version": 3
   },
   "file_extension": ".py",
   "mimetype": "text/x-python",
   "name": "python",
   "nbconvert_exporter": "python",
   "pygments_lexer": "ipython3",
   "version": "3.8.3"
  }
 },
 "nbformat": 4,
 "nbformat_minor": 5
}

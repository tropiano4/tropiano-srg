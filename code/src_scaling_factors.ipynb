{
 "cells": [
  {
   "cell_type": "markdown",
   "id": "8a19c919",
   "metadata": {},
   "source": [
    "# SRC scaling factors $a_2$\n",
    "\n",
    "__Author:__ A. J. Tropiano [atropiano@anl.gov]<br/>\n",
    "__Date:__ July 24, 2023\n",
    "\n",
    "We calculate the SRC scaling factor $a_2$ using the ratio of single-nucleon momentum distributions at high momentum.\n",
    "\n",
    "_Last update:_ July 26, 2023"
   ]
  },
  {
   "cell_type": "code",
   "execution_count": 1,
   "id": "7f4254cc",
   "metadata": {},
   "outputs": [],
   "source": [
    "# Python imports\n",
    "from matplotlib.offsetbox import AnchoredText\n",
    "import matplotlib.pyplot as plt\n",
    "%matplotlib inline\n",
    "import numpy as np\n",
    "from scipy.interpolate import InterpolatedUnivariateSpline"
   ]
  },
  {
   "cell_type": "code",
   "execution_count": 2,
   "id": "528f3cf9",
   "metadata": {},
   "outputs": [],
   "source": [
    "# Imports from scripts\n",
    "from scripts.figures import set_rc_parameters, label_lambda\n",
    "from scripts.integration import (\n",
    "    gaussian_quadrature_mesh, unattach_weights_from_vector\n",
    ")\n",
    "from scripts.momentum_distributions import MomentumDistribution\n",
    "from scripts.potentials import Potential\n",
    "from scripts.src_scaling_factor import compute_a2\n",
    "from scripts.wave_function import wave_function\n",
    "\n",
    "from test_momentum_distribution_script import load_momentum_distribution"
   ]
  },
  {
   "cell_type": "markdown",
   "id": "92db568d",
   "metadata": {},
   "source": [
    "## Set-up"
   ]
  },
  {
   "cell_type": "code",
   "execution_count": 3,
   "id": "f16010a7",
   "metadata": {},
   "outputs": [],
   "source": [
    "# Run this cell to turn on customized matplotlib graphics\n",
    "set_rc_parameters()"
   ]
  },
  {
   "cell_type": "markdown",
   "id": "072464ac",
   "metadata": {},
   "source": [
    "## Extraction procedure"
   ]
  },
  {
   "cell_type": "markdown",
   "id": "30b7b4bf",
   "metadata": {},
   "source": [
    "$a_2$ is extracted from integrating single-nucleon probability distributions over a high momentum range\n",
    "\n",
    "$$\n",
    "a_2(A) = \\lim_{q\\to\\infty} \\frac{P^A(q)}{P^d(q)} \\approx \\frac{2}{A}\n",
    "    \\frac{\\int_{\\Delta q^{\\rm{high}}} dq \\, q^2 n^A(q)}{\\int_{\\Delta q^{\\rm{high}}} dq \\, q^2 n^d(q)}\n",
    "$$\n",
    "\n",
    "where\n",
    "\n",
    "$$\n",
    "n^A(q) = \\frac{1}{A} \\bigl( n^A_p(q) + n^A_n(q) \\bigr).\n",
    "$$\n",
    "\n",
    "We vary $\\Delta q^{\\rm{high}}$ from $[2,\\infty)$ fm$^{-1}$ to $[3.8,4.5]$ fm$^{-1}$ to establish error bars.\n",
    "\n",
    "See the following references for details.\n",
    "\n",
    "_A. J. Tropiano, S. K. Bogner, and R. J. Furnstahl, [Phys. Rev. C __104__, 034311 (2021)](https://journals.aps.org/prc/abstract/10.1103/PhysRevC.104.034311)_\n",
    "\n",
    "_J. Ryckebusch, W. Cosyn, T. Vieijra, and C. Casert, [Phys. Rev. C __100__, 054620 (2019)](https://journals.aps.org/prc/abstract/10.1103/PhysRevC.100.054620)_"
   ]
  },
  {
   "cell_type": "code",
   "execution_count": 4,
   "id": "2d018012",
   "metadata": {
    "code_folding": [
     0
    ]
   },
   "outputs": [],
   "source": [
    "def get_deuteron_func(kvnn, kmax, kmid, ntot):\n",
    "    \"\"\"Get deuteron momentum distribution from Hamiltonian.\"\"\"\n",
    "    \n",
    "    potential = Potential(kvnn, '3S1', kmax, kmid, ntot)\n",
    "    \n",
    "    # Momentum array and weights in fm^-1\n",
    "    q_array, q_weights = potential.load_mesh()\n",
    "    \n",
    "    # Hamiltonian with integration weights [MeV]\n",
    "    H_matrix = potential.load_hamiltonian()\n",
    "    \n",
    "    # Deuteron wave function with integration weights [unitless]\n",
    "    psi_d_unitless = wave_function(H_matrix, eps=-2.22)\n",
    "    \n",
    "    # Deuteron wave function without integration weights [fm^3/2]\n",
    "    psi_d = unattach_weights_from_vector(q_array, q_weights, psi_d_unitless,\n",
    "                                         coupled_channel=True)\n",
    "    \n",
    "    # Deuteron momentum distribution normalized as \\int dq q^2 n(q) = 1\n",
    "    n_d_array = 2/np.pi * (psi_d[:ntot] ** 2 + psi_d[ntot:] ** 2)  # fm^3\n",
    "\n",
    "    # Interpolate momentum distribution\n",
    "    n_d_func = InterpolatedUnivariateSpline(q_array, n_d_array)\n",
    "    \n",
    "    return n_d_func"
   ]
  },
  {
   "cell_type": "code",
   "execution_count": 5,
   "id": "e537ae06",
   "metadata": {
    "code_folding": [
     0
    ]
   },
   "outputs": [],
   "source": [
    "def a2_with_errorbar(A, n_p_func, n_n_func, n_d_func, kmax):\n",
    "    \"\"\"Get average a_2 using two different high momentum intervals.\"\"\"\n",
    "    \n",
    "    a2_array = np.zeros(2)\n",
    "    i = 0\n",
    "    for q_min, q_max, ntot_q in [(2.0, kmax, 40), (3.8, 4.5, 80)]:\n",
    "        \n",
    "        # Create momentum mesh for integration\n",
    "        q_array, q_weights = gaussian_quadrature_mesh(q_max, ntot_q, xmin=q_min)\n",
    "                \n",
    "        # Get arrays of the momentum distributions on the momentum mesh\n",
    "        n_p_array = n_p_func(q_array)\n",
    "        n_n_array = n_n_func(q_array)\n",
    "        n_d_array = n_d_func(q_array)\n",
    "    \n",
    "        a2_array[i] = compute_a2(A, n_p_array, n_n_array, n_d_array, q_array,\n",
    "                                 q_weights)\n",
    "        \n",
    "        if a2_array[i] < 0:\n",
    "            print(A, q_min, q_max)\n",
    "        \n",
    "        i += 1\n",
    "\n",
    "    # Central value\n",
    "    a2_average = np.average(a2_array)\n",
    "    a2_error = np.abs(a2_array[0] - a2_array[1]) / 2\n",
    "    \n",
    "    return a2_average, a2_error"
   ]
  },
  {
   "cell_type": "markdown",
   "id": "4f3b7067",
   "metadata": {},
   "source": [
    "## Comparison of LDA to Woods-Saxon s.p. states"
   ]
  },
  {
   "cell_type": "code",
   "execution_count": 6,
   "id": "6ae875b4",
   "metadata": {
    "code_folding": [
     4
    ]
   },
   "outputs": [],
   "source": [
    "def compare_to_lda(\n",
    "        nuclei, kvnn, lamb, kmax=15.0, kmid=3.0, ntot=120, density='Gogny',\n",
    "        x_limits=(3e0,3e2), y_limits=(0.0, 6.5), xlabel_size=16, ylabel_size=16,\n",
    "        lambda_label=True\n",
    "):\n",
    "    \"\"\"Plot a_2 for various nuclei comparing LDA to new s.p. state approach.\"\"\"\n",
    "    \n",
    "    # --- Figure set-up --- #\n",
    "    plt.close('all')\n",
    "    f, ax = plt.subplots(figsize=(4,4))\n",
    "    \n",
    "    # Set log-scale on x-axis\n",
    "    ax.set_xscale('log')\n",
    "    \n",
    "    # --- Get data --- #\n",
    "    # Initialize momentum distribution object and get deuteron distribution\n",
    "    md = MomentumDistribution(kvnn, kmax, kmid, ntot)\n",
    "    n_d_lda_func = md.get_deuteron_momentum_distribution('Wegner', lamb,\n",
    "                                                         interpolate=True)\n",
    "    n_d_psi_func = get_deuteron_func(kvnn, kmax, kmid, ntot)\n",
    "\n",
    "    # Initialize array for A and a2\n",
    "    N = len(nuclei)\n",
    "    A_array = np.zeros(N)\n",
    "    a2_lda_array = np.zeros(N)\n",
    "    a2_lda_errors = np.zeros(N)\n",
    "    a2_ws_array = np.zeros(N)\n",
    "    a2_ws_errors = np.zeros(N)\n",
    "        \n",
    "    # Loop over nuclei and add each value of a_2 to array\n",
    "    for i, nucleus in enumerate(nuclei):\n",
    "            \n",
    "        # Unpack nucleus information\n",
    "        nucleus_name, Z, N = nucleus\n",
    "        A = Z + N\n",
    "        A_array[i] = A\n",
    "        \n",
    "        # -- LDA -- #\n",
    "\n",
    "        # Get interpolated functions of the momentum distributions\n",
    "        n_p_lda_func = md.get_single_nucleon_momentum_distribution(\n",
    "            'proton', nucleus_name, density, ('1S0', '3S1'), 'Wegner', lamb,\n",
    "            interpolate=True\n",
    "        )\n",
    "        n_n_lda_func = md.get_single_nucleon_momentum_distribution(\n",
    "            'neutron', nucleus_name, density, ('1S0', '3S1'), 'Wegner', lamb,\n",
    "            interpolate=True\n",
    "        )\n",
    "\n",
    "        a2_avg, a2_error = a2_with_errorbar(A, n_p_lda_func, n_n_lda_func,\n",
    "                                            n_d_lda_func, 10.0)\n",
    "        a2_lda_array[i] = a2_avg\n",
    "        a2_lda_errors[i] = a2_error\n",
    "        \n",
    "        # -- Woods-Saxon s.p. states -- #\n",
    "\n",
    "        # Get interpolated functions of the momentum distributions\n",
    "        k_array, k_weights, n_p_array, _, _, _, _, _, _ = (\n",
    "            load_momentum_distribution(nucleus_name, 'proton', kvnn, lamb)\n",
    "        )\n",
    "        n_p_array *= 4*np.pi  # Normalization factor\n",
    "        n_p_ws_func = InterpolatedUnivariateSpline(k_array, n_p_array)\n",
    "        k_array, _, n_n_array, _, _, _, _, _, _ = (\n",
    "            load_momentum_distribution(nucleus_name, 'neutron', kvnn, lamb)\n",
    "        )\n",
    "        n_n_array *= 4*np.pi  # Normalization factor\n",
    "        n_n_ws_func = InterpolatedUnivariateSpline(k_array, n_n_array)\n",
    "        \n",
    "        a2_avg, a2_error = a2_with_errorbar(A, n_p_ws_func, n_n_ws_func,\n",
    "                                            n_d_psi_func, 10.0)\n",
    "        a2_ws_array[i] = a2_avg\n",
    "        a2_ws_errors[i] = a2_error\n",
    "        \n",
    "\n",
    "    # Off-set x-axis locations slightly so the points are more visible\n",
    "    ax.errorbar(\n",
    "        1.02*A_array, a2_lda_array, yerr=a2_lda_errors, color='red',\n",
    "        label=f\"LDA ({density})\", linestyle='', marker='o', markersize=6\n",
    "    )\n",
    "    ax.errorbar(\n",
    "        0.98*A_array, a2_ws_array, yerr=a2_ws_errors, color='blue',\n",
    "        label=f\"Woods-Saxon\", linestyle='', marker='o', markersize=6\n",
    "    )\n",
    "\n",
    "    # --- Axes limits --- #\n",
    "    ax.set_xlim(x_limits)\n",
    "    ax.set_ylim(y_limits)\n",
    "\n",
    "    # --- Axes labels --- #\n",
    "    ax.set_xlabel(\"Mass number A\", fontsize=xlabel_size)\n",
    "    ax.set_ylabel(r\"$a_2$\", fontsize=ylabel_size)\n",
    "    \n",
    "    # --- Legend --- #\n",
    "    ax.legend(loc='lower right', fontsize=16, frameon=False)\n",
    "    \n",
    "    # --- Additional labels --- #\n",
    "    if lambda_label:  # Label \\lambda\n",
    "        ax.add_artist(\n",
    "            AnchoredText(label_lambda(lamb), loc='upper left',\n",
    "                         prop=dict(size=18), frameon=False)\n",
    "        )\n",
    "        \n",
    "    plt.show()\n",
    "    \n",
    "    return A_array, a2_lda_array, a2_ws_array"
   ]
  },
  {
   "cell_type": "code",
   "execution_count": 7,
   "id": "fce1461b",
   "metadata": {
    "code_folding": []
   },
   "outputs": [
    {
     "data": {
      "image/png": "[encoded data removed]",
      "text/plain": [
       "<Figure size 600x600 with 1 Axes>"
      ]
     },
     "metadata": {},
     "output_type": "display_data"
    }
   ],
   "source": [
    "# Compare a2 for He4, C12, O16, Ca40, Ca48, and Pb208 using AV18,\n",
    "# \\lambda = 1.35 (or 1.5?), SLy4\n",
    "\n",
    "nuclei = (('He4', 2, 2), ('C12', 6, 6), ('O16', 8, 8), ('Ca40', 20, 20),\n",
    "          ('Ca48', 20, 28))\n",
    "kvnn = 6\n",
    "lamb = 1.5\n",
    "\n",
    "A_array, a2_lda_array, a2_ws_array = compare_to_lda(nuclei, kvnn, lamb)"
   ]
  },
  {
   "cell_type": "code",
   "execution_count": 25,
   "id": "b1e81dd3",
   "metadata": {},
   "outputs": [
    {
     "name": "stdout",
     "output_type": "stream",
     "text": [
      "   A       LDA    Woods-Saxon\n",
      "-----------------------------\n",
      "   4     2.85490   3.14224  \n",
      "   12    3.82819   3.65751  \n",
      "   16    3.73270   4.10522  \n",
      "   40    4.31273   4.57776  \n",
      "   48    4.48522   4.37780  \n"
     ]
    }
   ],
   "source": [
    "print(f\"{'A':^8s}{'LDA':^10s}{'Woods-Saxon':^10s}\")\n",
    "print('-'*29)\n",
    "for A, a2_lda, a2_ws in zip(A_array, a2_lda_array, a2_ws_array):\n",
    "    line = f\"{int(A):^8d}{a2_lda:^10.5f}{a2_ws:^10.5f}\"\n",
    "    print(line)"
   ]
  },
  {
   "cell_type": "code",
   "execution_count": 22,
   "id": "5676aac0",
   "metadata": {},
   "outputs": [
    {
     "name": "stdout",
     "output_type": "stream",
     "text": [
      "LDA Ca48/Ca40: 1.0399957609745645\n",
      "WS Ca48/Ca40: 0.9563181480251176\n"
     ]
    }
   ],
   "source": [
    "print(f\"LDA Ca48/Ca40: {a2_lda_array[-1]/a2_lda_array[-2]}\")\n",
    "print(f\"WS Ca48/Ca40: {a2_ws_array[-1]/a2_ws_array[-2]}\")"
   ]
  },
  {
   "cell_type": "code",
   "execution_count": 10,
   "id": "925431a8",
   "metadata": {},
   "outputs": [],
   "source": [
    "# Plot ratio of A/d momentum distributions?\n",
    "\n",
    "# Copy/paste function from above\n",
    "# Replace A_array with q_array\n",
    "# Replace a2_array with A/d ratio (scaled by 2/A)\n",
    "# Get rid of errorbars"
   ]
  },
  {
   "cell_type": "markdown",
   "id": "d762adc7",
   "metadata": {},
   "source": [
    "## Compare using LDA for deuteron to $\\psi_d$"
   ]
  },
  {
   "cell_type": "code",
   "execution_count": 11,
   "id": "d65855e2",
   "metadata": {},
   "outputs": [],
   "source": [
    "# First compare a_2 for several nuclei."
   ]
  },
  {
   "cell_type": "code",
   "execution_count": 12,
   "id": "3a9a13e6",
   "metadata": {},
   "outputs": [],
   "source": [
    "# If necessary, plot the ratio of momentum distributions."
   ]
  },
  {
   "cell_type": "markdown",
   "id": "ad0ed0a4",
   "metadata": {},
   "source": [
    "## Test $\\lambda$ dependence of $a_2$"
   ]
  },
  {
   "cell_type": "code",
   "execution_count": 13,
   "id": "ee0a8194",
   "metadata": {},
   "outputs": [],
   "source": [
    "# Do this for several nuclei. Should look a bit like Levinger plot."
   ]
  },
  {
   "cell_type": "markdown",
   "id": "60903243",
   "metadata": {},
   "source": [
    "## Compute $\\frac{^{48}\\rm{Ca}}{^{40}\\rm{Ca}}$"
   ]
  },
  {
   "cell_type": "code",
   "execution_count": 18,
   "id": "18d7ed05",
   "metadata": {},
   "outputs": [],
   "source": [
    "# Ca48 / Ca40 ratio\n",
    "\n",
    "density = 'SLy4'\n",
    "# density = 'Gogny'\n",
    "channels = ('1S0', '3S1')\n",
    "kvnn = 6\n",
    "kmax, kmid, ntot = 15.0, 3.0, 120\n",
    "generator = 'Wegner'\n",
    "# lamb = 1.35\n",
    "lamb = 1.5\n",
    "\n",
    "md = MomentumDistribution(kvnn, kmax, kmid, ntot)\n",
    "n_d_func = md.get_deuteron_momentum_distribution(generator, lamb,\n",
    "                                                 interpolate=True)"
   ]
  },
  {
   "cell_type": "code",
   "execution_count": 19,
   "id": "c919f036",
   "metadata": {},
   "outputs": [],
   "source": [
    "# Ca48\n",
    "\n",
    "nucleus_name, A = 'Ca48', 48\n",
    "\n",
    "# Get interpolated functions of the momentum distributions\n",
    "n_p_func = md.get_single_nucleon_momentum_distribution(\n",
    "    'proton', nucleus_name, density, channels, generator, lamb,\n",
    "    interpolate=True\n",
    ")\n",
    "n_n_func = md.get_single_nucleon_momentum_distribution(\n",
    "    'neutron', nucleus_name, density, channels, generator, lamb,\n",
    "    interpolate=True\n",
    ")\n",
    "\n",
    "a2_ca48_average = 0\n",
    "for q_min, q_max, ntot_q in ((2.0, kmax, 40), (3.8, 4.5, 80)):\n",
    "            \n",
    "    # Create momentum mesh for integration\n",
    "    q_array, q_weights = gaussian_quadrature_mesh(q_max, ntot_q, xmin=q_min)\n",
    "                \n",
    "    # Get arrays of the momentum distributions on the momentum mesh\n",
    "    n_p_array = n_p_func(q_array)\n",
    "    n_n_array = n_n_func(q_array)\n",
    "    n_d_array = n_d_func(q_array)\n",
    "    \n",
    "    a2 = compute_a2(A, n_p_array, n_n_array, n_d_array, q_array, q_weights)\n",
    "    a2_ca48_average += 1/2 * a2"
   ]
  },
  {
   "cell_type": "code",
   "execution_count": 20,
   "id": "47c10daa",
   "metadata": {},
   "outputs": [],
   "source": [
    "# Ca40\n",
    "\n",
    "nucleus_name, A = 'Ca40', 40\n",
    "\n",
    "# Get interpolated functions of the momentum distributions\n",
    "n_p_func = md.get_single_nucleon_momentum_distribution(\n",
    "    'proton', nucleus_name, density, channels, generator, lamb,\n",
    "    interpolate=True\n",
    ")\n",
    "n_n_func = md.get_single_nucleon_momentum_distribution(\n",
    "    'neutron', nucleus_name, density, channels, generator, lamb,\n",
    "    interpolate=True\n",
    ")\n",
    "\n",
    "a2_ca40_average = 0\n",
    "for q_min, q_max, ntot_q in ((2.0, kmax, 40), (3.8, 4.5, 80)):\n",
    "            \n",
    "    # Create momentum mesh for integration\n",
    "    q_array, q_weights = gaussian_quadrature_mesh(q_max, ntot_q, xmin=q_min)\n",
    "                \n",
    "    # Get arrays of the momentum distributions on the momentum mesh\n",
    "    n_p_array = n_p_func(q_array)\n",
    "    n_n_array = n_n_func(q_array)\n",
    "    n_d_array = n_d_func(q_array)\n",
    "    \n",
    "    a2 = compute_a2(A, n_p_array, n_n_array, n_d_array, q_array, q_weights)\n",
    "    a2_ca40_average += 1/2 * a2"
   ]
  },
  {
   "cell_type": "code",
   "execution_count": 21,
   "id": "ecad8e4b",
   "metadata": {},
   "outputs": [
    {
     "name": "stdout",
     "output_type": "stream",
     "text": [
      "Ca48 / Ca40 = 1.03222.\n"
     ]
    }
   ],
   "source": [
    "# Ratio of Ca48 a2 over Ca40 a2\n",
    "# Insensitive to \\lambda = 1.35 vs 1.5 fm^-1\n",
    "\n",
    "ratio = a2_ca48_average / a2_ca40_average\n",
    "print(f\"Ca48 / Ca40 = {ratio:.5f}.\")"
   ]
  },
  {
   "cell_type": "code",
   "execution_count": null,
   "id": "e6259c17",
   "metadata": {},
   "outputs": [],
   "source": [
    "# Show ratios of Ca48/Ca40"
   ]
  },
  {
   "cell_type": "markdown",
   "id": "6d4273fd",
   "metadata": {},
   "source": [
    "## Other nuclei?"
   ]
  },
  {
   "cell_type": "code",
   "execution_count": null,
   "id": "b57871a1",
   "metadata": {},
   "outputs": [],
   "source": []
  },
  {
   "cell_type": "code",
   "execution_count": null,
   "id": "c8329ec0",
   "metadata": {},
   "outputs": [],
   "source": []
  },
  {
   "cell_type": "code",
   "execution_count": null,
   "id": "8a4448e6",
   "metadata": {},
   "outputs": [],
   "source": []
  },
  {
   "cell_type": "code",
   "execution_count": null,
   "id": "14481318",
   "metadata": {},
   "outputs": [],
   "source": []
  }
 ],
 "metadata": {
  "kernelspec": {
   "display_name": "Python 3 (ipykernel)",
   "language": "python",
   "name": "python3"
  },
  "language_info": {
   "codemirror_mode": {
    "name": "ipython",
    "version": 3
   },
   "file_extension": ".py",
   "mimetype": "text/x-python",
   "name": "python",
   "nbconvert_exporter": "python",
   "pygments_lexer": "ipython3",
   "version": "3.9.13"
  }
 },
 "nbformat": 4,
 "nbformat_minor": 5
}

{
 "cells": [
  {
   "cell_type": "markdown",
   "id": "8a19c919",
   "metadata": {},
   "source": [
    "# SRC scaling factors $a_2$\n",
    "\n",
    "__Author:__ A. J. Tropiano [atropiano@anl.gov]<br/>\n",
    "__Date:__ July 24, 2023\n",
    "\n",
    "We calculate the SRC scaling factor $a_2$ using the ratio of single-nucleon momentum distributions at high momentum.\n",
    "\n",
    "_Last update:_ July 24, 2023"
   ]
  },
  {
   "cell_type": "code",
   "execution_count": null,
   "id": "7f4254cc",
   "metadata": {},
   "outputs": [],
   "source": [
    "# Python imports\n",
    "from matplotlib.offsetbox import AnchoredText\n",
    "import matplotlib.pyplot as plt\n",
    "%matplotlib inline\n",
    "import numpy as np"
   ]
  },
  {
   "cell_type": "code",
   "execution_count": null,
   "id": "528f3cf9",
   "metadata": {},
   "outputs": [],
   "source": [
    "# Imports from scripts\n",
    "from scripts.figures import set_rc_parameters\n",
    "from scripts.src_scaling_factor import compute_a2\n",
    "\n",
    "from test_momentum_distribution_script import load_momentum_distribution"
   ]
  },
  {
   "cell_type": "markdown",
   "id": "92db568d",
   "metadata": {},
   "source": [
    "## Set-up"
   ]
  },
  {
   "cell_type": "code",
   "execution_count": null,
   "id": "f16010a7",
   "metadata": {},
   "outputs": [],
   "source": [
    "# Run this cell to turn on customized matplotlib graphics\n",
    "set_rc_parameters()"
   ]
  },
  {
   "cell_type": "code",
   "execution_count": null,
   "id": "0e5e0d26",
   "metadata": {},
   "outputs": [],
   "source": [
    "# LIST OF NUCLEI YOU STILL NEED DISTRIBUTIONS FOR:\n",
    "# ..."
   ]
  },
  {
   "cell_type": "markdown",
   "id": "072464ac",
   "metadata": {},
   "source": [
    "## Extraction procedure"
   ]
  },
  {
   "cell_type": "markdown",
   "id": "30b7b4bf",
   "metadata": {},
   "source": [
    "$a_2$ is extracted from integrating single-nucleon probability distributions over a high momentum range\n",
    "\n",
    "$$\n",
    "a_2(A) = \\lim_{q\\to\\infty} \\frac{P^A(q)}{P^d(q)} \\approx \\frac{2}{A}\n",
    "    \\frac{\\int_{\\Delta q^{\\rm{high}}} dq \\, q^2 n^A(q)}{\\int_{\\Delta q^{\\rm{high}}} dq \\, q^2 n^d(q)}\n",
    "$$\n",
    "\n",
    "where\n",
    "\n",
    "$$\n",
    "n^A(q) = \\frac{1}{A} \\bigl( n^A_p(q) + n^A_n(q) \\bigr).\n",
    "$$\n",
    "\n",
    "We vary $\\Delta q^{\\rm{high}}$ from $2-\\infty$ fm$^{-1}$ to $3.8-4.5$ fm$^{-1}$ to establish error bars.\n",
    "\n",
    "See the following references for details.\n",
    "\n",
    "A. J. Tropiano, S. K. Bogner, and R. J. Furnstahl, [Phys. Rev. C __104__, 034311 (2021)](https://journals.aps.org/prc/abstract/10.1103/PhysRevC.104.034311)\n",
    "\n",
    "J. Ryckebusch, W. Cosyn, T. Vieijra, and C. Casert, [Phys. Rev. C __100__, 054620 (2019)](https://journals.aps.org/prc/abstract/10.1103/PhysRevC.100.054620)"
   ]
  },
  {
   "cell_type": "markdown",
   "id": "4f3b7067",
   "metadata": {},
   "source": [
    "## Comparison of LDA to Woods-Saxon s.p. states"
   ]
  },
  {
   "cell_type": "code",
   "execution_count": null,
   "id": "fce1461b",
   "metadata": {},
   "outputs": [],
   "source": [
    "# Compare a2 for He4, C12, O16, Ca40, Ca48, and Pb208 using AV18,\n",
    "# \\lambda = 1.5 (or 1.35?), SLy4.\n",
    "\n",
    "# Code LDA calculation first.\n",
    "\n",
    "# Add Woods-Saxon s.p. state method second."
   ]
  },
  {
   "cell_type": "markdown",
   "id": "d762adc7",
   "metadata": {},
   "source": [
    "## Compare using LDA for deuteron to $\\psi_d$"
   ]
  },
  {
   "cell_type": "code",
   "execution_count": null,
   "id": "d65855e2",
   "metadata": {},
   "outputs": [],
   "source": [
    "# First compare a_2 for several nuclei."
   ]
  },
  {
   "cell_type": "code",
   "execution_count": null,
   "id": "3a9a13e6",
   "metadata": {},
   "outputs": [],
   "source": [
    "# If necessary, plot the ratio of momentum distributions."
   ]
  },
  {
   "cell_type": "markdown",
   "id": "ad0ed0a4",
   "metadata": {},
   "source": [
    "## Test $\\lambda$ dependence of $a_2$"
   ]
  },
  {
   "cell_type": "code",
   "execution_count": null,
   "id": "ee0a8194",
   "metadata": {},
   "outputs": [],
   "source": [
    "# Do this for several nuclei. Should look a bit like Levinger plot."
   ]
  },
  {
   "cell_type": "markdown",
   "id": "60903243",
   "metadata": {},
   "source": [
    "## Compute $\\frac{^{48}\\rm{Ca}}{^{40}\\rm{Ca}}$"
   ]
  },
  {
   "cell_type": "code",
   "execution_count": null,
   "id": "18d7ed05",
   "metadata": {},
   "outputs": [],
   "source": [
    "# Cut/paste cell from momentum_distributions.ipynb. Any changes?"
   ]
  },
  {
   "cell_type": "markdown",
   "id": "6d4273fd",
   "metadata": {},
   "source": [
    "## Other nuclei?"
   ]
  },
  {
   "cell_type": "code",
   "execution_count": null,
   "id": "b57871a1",
   "metadata": {},
   "outputs": [],
   "source": []
  },
  {
   "cell_type": "code",
   "execution_count": null,
   "id": "c8329ec0",
   "metadata": {},
   "outputs": [],
   "source": []
  },
  {
   "cell_type": "code",
   "execution_count": null,
   "id": "8a4448e6",
   "metadata": {},
   "outputs": [],
   "source": []
  },
  {
   "cell_type": "code",
   "execution_count": null,
   "id": "14481318",
   "metadata": {},
   "outputs": [],
   "source": []
  }
 ],
 "metadata": {
  "kernelspec": {
   "display_name": "Python 3 (ipykernel)",
   "language": "python",
   "name": "python3"
  },
  "language_info": {
   "codemirror_mode": {
    "name": "ipython",
    "version": 3
   },
   "file_extension": ".py",
   "mimetype": "text/x-python",
   "name": "python",
   "nbconvert_exporter": "python",
   "pygments_lexer": "ipython3",
   "version": "3.9.13"
  }
 },
 "nbformat": 4,
 "nbformat_minor": 5
}

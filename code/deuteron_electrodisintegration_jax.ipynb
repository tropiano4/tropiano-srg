{
 "cells": [
  {
   "cell_type": "markdown",
   "id": "eec50298",
   "metadata": {},
   "source": [
    "# Deuteron electrodisintegration\n",
    "\n",
    "_Last update:_ January 31, 2025"
   ]
  },
  {
   "cell_type": "code",
   "execution_count": 1,
   "id": "3e5905e8",
   "metadata": {},
   "outputs": [],
   "source": [
    "# Python imports\n",
    "from functools import partial\n",
    "from matplotlib.offsetbox import AnchoredText\n",
    "import matplotlib.pyplot as plt\n",
    "%matplotlib inline\n",
    "import numpy as np\n",
    "from sympy.physics.quantum.cg import CG"
   ]
  },
  {
   "cell_type": "code",
   "execution_count": 2,
   "id": "a5e45611",
   "metadata": {},
   "outputs": [],
   "source": [
    "# JAX imports\n",
    "from jax import config, jit\n",
    "import jax.numpy as jnp\n",
    "from jax.numpy.linalg import solve\n",
    "from jax.scipy.special import sph_harm\n",
    "from jaxinterp2d import interp2d"
   ]
  },
  {
   "cell_type": "code",
   "execution_count": 3,
   "id": "1bf650e0",
   "metadata": {},
   "outputs": [],
   "source": [
    "# Imports from scripts\n",
    "from scripts.figures import set_rc_parameters\n",
    "from scripts.tools import channel_L_value, coupled_channel"
   ]
  },
  {
   "cell_type": "markdown",
   "id": "7d9454d2",
   "metadata": {},
   "source": [
    "### Set-up"
   ]
  },
  {
   "cell_type": "code",
   "execution_count": 4,
   "id": "193c0d87",
   "metadata": {},
   "outputs": [],
   "source": [
    "# Enable double precision\n",
    "config.update(\"jax_enable_x64\", True)"
   ]
  },
  {
   "cell_type": "code",
   "execution_count": 5,
   "id": "7e2a748f",
   "metadata": {},
   "outputs": [],
   "source": [
    "# Run this cell to turn on customized matplotlib graphics\n",
    "set_rc_parameters()"
   ]
  },
  {
   "cell_type": "markdown",
   "id": "379dcb06",
   "metadata": {},
   "source": [
    "## Classes"
   ]
  },
  {
   "cell_type": "code",
   "execution_count": 6,
   "id": "3d4b34a7",
   "metadata": {
    "code_folding": [
     1
    ]
   },
   "outputs": [],
   "source": [
    "# TODO: Convert to JAX\n",
    "class ClebschGordan:\n",
    "    \"\"\"Class for evaluating Clebsch-Gordan coefficients.\"\"\"\n",
    "    \n",
    "    def __init__(self):\n",
    "        pass"
   ]
  },
  {
   "cell_type": "code",
   "execution_count": 7,
   "id": "5712b115",
   "metadata": {
    "code_folding": [
     1
    ]
   },
   "outputs": [],
   "source": [
    "# TODO: Convert to JAX\n",
    "class FormFactors:\n",
    "    \"\"\"Form factors from Sushant's data files.\"\"\"\n",
    "    \n",
    "    def __init__(self):\n",
    "        pass"
   ]
  },
  {
   "cell_type": "code",
   "execution_count": 8,
   "id": "00096be4",
   "metadata": {
    "code_folding": [
     0
    ]
   },
   "outputs": [],
   "source": [
    "class Potential:\n",
    "    \"\"\"Class that loads potentials as JAX arrays.\"\"\"\n",
    "    \n",
    "    # Define class attribute for h-bar^2 / M [MeV fm^2]\n",
    "    hbar_sq_over_m = 41.47\n",
    "    \n",
    "    def __init__(self, kvnn, kmax, kmid, ntot, L_max=2):\n",
    "        \n",
    "        # Need kvnn as string (can cause error if kvnn < 10)\n",
    "        if kvnn < 10:\n",
    "            kvnn_str = '0' + str(kvnn)\n",
    "        else:\n",
    "            kvnn_str = str(kvnn)\n",
    "        self.kvnn_str = kvnn_str\n",
    "        \n",
    "        # Get potential directory\n",
    "        kmax_int = int(kmax)\n",
    "        kmid_int = int(kmid)\n",
    "        self.directory = (\n",
    "            f'../data/potentials/vsrg_kvnn_{kvnn_str}_lam12.0_kmax{kmax_int:d}'\n",
    "            f'_kmid{kmid_int:d}_ntot{ntot:d}/'\n",
    "        )\n",
    "\n",
    "        # Set momentum mesh in units fm^-1\n",
    "        self.k_array, self.k_weights = self.get_momentum_mesh()\n",
    "        \n",
    "        # Set momentum mesh specifications as attributes\n",
    "        self.kmax, self.kmid, self.ntot = kmax, kmid, ntot\n",
    "        \n",
    "        # Set potentials up to L_max in a big JAX arrays distinguishing\n",
    "        # uncoupled- or coupled-channel\n",
    "        self.uncoupled_potentials, self.coupled_potentials = (\n",
    "            self.get_potentials(L_max)\n",
    "        )\n",
    "        \n",
    "    def get_momentum_mesh(self):\n",
    "        \"\"\"Momentum mesh in units [fm^-1] as JAX arrays.\"\"\"\n",
    "        \n",
    "        filename = f'vsrg_1S0_kvnn_{self.kvnn_str}_lam12.0_reg_0_3_0_mesh.out'\n",
    "        momentum_mesh = np.loadtxt(self.directory + filename)\n",
    "        k_array = jnp.asarray(momentum_mesh[:, 0])\n",
    "        k_weights = jnp.asarray(momentum_mesh[:, 1])\n",
    "        \n",
    "        return k_array, k_weights\n",
    "    \n",
    "    def get_potentials(self, L_max):\n",
    "        \"\"\"JAX arrays of potentials up to L_max returning uncoupled- and\n",
    "        coupled-channel potentials separately.\"\"\"\n",
    "        \n",
    "        # Initialize potentials as lists later to be converted to JAX arrays\n",
    "        uncoupled_potentials_list = []\n",
    "        coupled_potentials_list = []\n",
    "        \n",
    "        # Possible partial wave channels up to L = 5\n",
    "        channels = [\n",
    "            '1S0', '3S1', '3P0', '1P1', '3P1', '3P2', '1D2', '3D2', '3D3',\n",
    "            '1F3', '3F3', '3F4', '1G4', '3G4', '3G5', '1H5', '3H5', '3H6'\n",
    "        ]\n",
    "        \n",
    "        # Loop over channels\n",
    "        for channel in channels:\n",
    "\n",
    "            # Check that channel is within L_max\n",
    "            L = channel_L_value(channel)\n",
    "            if L <= L_max:\n",
    "                \n",
    "                # Load potential [fm]\n",
    "                V_matrix = self.load_potential(channel)\n",
    "\n",
    "                # Coupled-channel\n",
    "                if coupled_channel(channel):\n",
    "                    coupled_potentials_list.append(V_matrix)\n",
    "                # Uncoupled-channel\n",
    "                else:\n",
    "                    uncoupled_potentials_list.append(V_matrix)\n",
    "                    \n",
    "        # Convert lists to JAX arrays with shape (# of channels, ntot, ntot)\n",
    "        uncoupled_potentials = jnp.asarray(uncoupled_potentials_list)\n",
    "        coupled_potentials = jnp.asarray(coupled_potentials_list)\n",
    "\n",
    "        return uncoupled_potentials, coupled_potentials\n",
    "            \n",
    "    def load_potential(self, channel):\n",
    "        \"\"\"Load the potential in the given partial wave channel.\"\"\"\n",
    "        \n",
    "        filename = f'vnn_{channel}_kvnn_{self.kvnn_str}_lam12.0_reg_0_3_0.out'\n",
    "        data = np.loadtxt(self.directory + filename)\n",
    "        \n",
    "        # Coupled-channel potential?\n",
    "        if coupled_channel(channel):\n",
    "        \n",
    "            V11 = jnp.reshape(data[:, 2], (self.ntot, self.ntot))\n",
    "            V12 = jnp.reshape(data[:, 3], (self.ntot, self.ntot))\n",
    "            V21 = jnp.reshape(data[:, 4], (self.ntot, self.ntot))\n",
    "            V22 = jnp.reshape(data[:, 5], (self.ntot, self.ntot))\n",
    "            V_matrix = jnp.vstack(\n",
    "                (jnp.hstack((V11, V12)), jnp.hstack((V21, V22)))\n",
    "            )\n",
    "        \n",
    "        else:\n",
    "        \n",
    "            V_matrix = jnp.reshape(data[:, 2], (self.ntot, self.ntot))\n",
    "\n",
    "        # Potential in units [fm] where the shape can vary\n",
    "        return V_matrix\n",
    "\n",
    "    @partial(jit, static_argnums=(0,))\n",
    "    def coupled_channel_mapping(self, J):\n",
    "        \"\"\"Map the J value onto the index for looking-up coupled-channel\n",
    "        potentials.\n",
    "        \"\"\"\n",
    "        \n",
    "        return J - 1\n",
    "    \n",
    "    @partial(jit, static_argnums=(0,))\n",
    "    def get_uncoupled_potential(self, L, S, J):\n",
    "        \n",
    "        # Map L, S, and J onto index (special case for 3P0)\n",
    "        cond = jnp.logical_and(L == 1, jnp.logical_and(S == 1, J == 0))\n",
    "        index = jnp.where(cond, 1, L + S + J)\n",
    "        \n",
    "        # Units are [fm] and shape is (ntot, ntot)\n",
    "        return self.uncoupled_potentials[index]\n",
    "    \n",
    "    @partial(jit, static_argnums=(0,))\n",
    "    def get_coupled_potential(self, J):\n",
    "        \n",
    "        # Map J onto index\n",
    "        index = J - 1\n",
    "        \n",
    "        # Units are [fm] and shape is (2*ntot, 2*ntot)\n",
    "        return self.coupled_potentials[index]\n",
    "    \n",
    "    @partial(jit, static_argnums=(0,))\n",
    "    def is_coupled(self, L, J):\n",
    "        \"\"\"Boolean value on whether the channel is coupled or not.\"\"\"\n",
    "        \n",
    "        return jnp.logical_and(J > 0, J != L)"
   ]
  },
  {
   "cell_type": "code",
   "execution_count": 9,
   "id": "ead098a7",
   "metadata": {
    "code_folding": [
     0
    ]
   },
   "outputs": [],
   "source": [
    "class TMatrix(Potential):\n",
    "    \"\"\"Class that computes the half off-shell T-matrix.\"\"\"\n",
    "    \n",
    "    def __init__(self, kvnn, kmax, kmid, ntot, L_max=2):\n",
    "        \n",
    "        # Initializes potentials up to L_max\n",
    "        super().__init__(kvnn, kmax, kmid, ntot, L_max)\n",
    "\n",
    "        # Maximum momentum [fm^-1]\n",
    "        self.lamb = kmax\n",
    "    \n",
    "    @partial(jit, static_argnums=(0,))\n",
    "    def compute(self, pp, L, Lp, S, J):\n",
    "        \"\"\"Compute the half off-shell T-matrix for given momentum p' with\n",
    "        energy E' = p'^2 / M for a particular partial wave channel.\n",
    "        \"\"\"\n",
    "        \n",
    "        # Condition on whether the channel is coupled or not\n",
    "        cond = self.is_coupled(L, J)\n",
    "        T_matrix = jnp.where(\n",
    "            cond, self.compute_coupled(pp, L, Lp, J),\n",
    "            self.compute_uncoupled(pp, L, S, J)\n",
    "        )\n",
    "        \n",
    "        # Half off-shell T-matrix in units [fm] with shape (ntot+1, ntot+1)\n",
    "        return T_matrix\n",
    "    \n",
    "    @partial(jit, static_argnums=(0,))\n",
    "    def compute_uncoupled(self, pp, L, S, J):\n",
    "        \"\"\"Compute the half off-shell T-matrix in a uncoupled-channel.\"\"\"\n",
    "\n",
    "        # Evaluate D-vector for solving matrix inversion problem\n",
    "        D_vector = self.D_vector(pp)\n",
    "        \n",
    "        # Append p' to end of mesh (ntot+1,)\n",
    "        k_full = jnp.append(self.k_array, pp)\n",
    "        \n",
    "        # Create meshes for interpolation (ntot+1, ntot+1)\n",
    "        k_grid, kp_grid = jnp.meshgrid(k_full, k_full, indexing='ij')\n",
    "        \n",
    "        # Load potential in units [fm] with shape (ntot, ntot)\n",
    "        V_matrix = self.get_uncoupled_potential(L, S, J)\n",
    "\n",
    "        # Append p' points by linear interpolation (ntot+1, ntot+1)\n",
    "        V_interpolated = interp2d(k_grid, kp_grid, self.k_array, self.k_array,\n",
    "                                  V_matrix)\n",
    "        \n",
    "        # Build F-matrix [unitless] where F_ij = \\delta_ij + D_j V_ij\n",
    "        F_matrix = (jnp.identity(self.ntot + 1)\n",
    "                    + jnp.tile(D_vector, (self.ntot + 1, 1)) * V_interpolated)\n",
    "\n",
    "        # Solve for T-matrix by matrix inversion\n",
    "        T_matrix = solve(F_matrix, V_interpolated)\n",
    "\n",
    "        # Units are [fm] and shape is (ntot+1, ntot+1)\n",
    "        return T_matrix\n",
    "    \n",
    "    @partial(jit, static_argnums=(0,))\n",
    "    def compute_coupled(self, pp, L, Lp, J):\n",
    "        \"\"\"Compute the half off-shell T-matrix in a coupled-channel.\"\"\"\n",
    "        \n",
    "        # Evaluate D-vector for solving matrix inversion problem\n",
    "        D_vector = self.D_vector(pp)\n",
    "        \n",
    "        # Append p' to end of mesh (ntot+1,)\n",
    "        k_full = jnp.append(self.k_array, pp)\n",
    "        \n",
    "        # Create meshes for interpolation (ntot+1, ntot+1)\n",
    "        k_grid, kp_grid = jnp.meshgrid(k_full, k_full, indexing='ij')\n",
    "        \n",
    "        # Load potential in units [fm] with shape (2*ntot, 2*ntot)\n",
    "        V_matrix = self.get_coupled_potential(J)\n",
    "\n",
    "        # Append p' points by linear interpolation (2*ntot+2, 2*ntot+2)\n",
    "        V_interpolated = self.interpolate_coupled_potential(k_grid, kp_grid,\n",
    "                                                            V_matrix)\n",
    "        \n",
    "        # Build F-matrix [unitless] where F_ij = \\delta_ij + D_j V_ij\n",
    "        F_matrix = (\n",
    "            jnp.identity(2 * (self.ntot + 1))\n",
    "            + jnp.tile(D_vector, (2 * (self.ntot + 1), 2)) * V_interpolated\n",
    "        )\n",
    "\n",
    "        # Solve for T-matrix by matrix inversion\n",
    "        T_matrix = solve(F_matrix, V_interpolated)\n",
    "        \n",
    "        # Select particular sub-block of coupled-channel matrix\n",
    "        T_subblock = self.select_subblock(L, Lp, J, T_matrix)\n",
    "\n",
    "        # Units are [fm] and shape is (ntot+1, ntot+1)\n",
    "        return T_subblock\n",
    "    \n",
    "    @partial(jit, static_argnums=(0,))\n",
    "    def D_vector(self, pp):\n",
    "        \"\"\"Compute D-vector used for solving matrix inversion problem:\n",
    "            T = F^-1 V\n",
    "        where F_ij = \\delta_ij + D_j V_ij.\n",
    "        \"\"\"\n",
    "        \n",
    "        # First ntot elements of D_vector [fm^-1]\n",
    "        D_vector = (2.0 / jnp.pi * (self.k_weights * self.k_array ** 2)\n",
    "                    / (self.k_array ** 2 - pp ** 2))\n",
    "        \n",
    "        # ntot + 1 element of D_vector [fm^-1]\n",
    "        D_last = (\n",
    "            -2.0 / jnp.pi * pp ** 2 * (\n",
    "                jnp.sum(self.k_weights / (self.k_array ** 2 - pp ** 2))\n",
    "                + jnp.log((self.lamb + pp) / (self.lamb - pp)) / (2.0 * pp))\n",
    "        ) + 1j * pp\n",
    "        \n",
    "        # Append ntot + 1 element to D_vector\n",
    "        return jnp.append(D_vector, D_last)\n",
    "\n",
    "    @partial(jit, static_argnums=(0,))\n",
    "    def interpolate_coupled_potential(self, k_grid, kp_grid, V_matrix):\n",
    "        \"\"\"Interpolate half off-shell T-matrix matrix in a coupled-channel.\"\"\"\n",
    "        \n",
    "        # Get each sub-block separately with shapes (ntot, ntot)\n",
    "        V11, V12, V21, V22 = self.get_subblocks(V_matrix)\n",
    "        \n",
    "        # Append p' points by linear interpolation (ntot+1, ntot+1)\n",
    "        V11_interpolated = interp2d(k_grid, kp_grid, self.k_array, self.k_array,\n",
    "                                    V11)\n",
    "        V12_interpolated = interp2d(k_grid, kp_grid, self.k_array, self.k_array,\n",
    "                                    V12)\n",
    "        V21_interpolated = interp2d(k_grid, kp_grid, self.k_array, self.k_array,\n",
    "                                    V21)\n",
    "        V22_interpolated = interp2d(k_grid, kp_grid, self.k_array, self.k_array,\n",
    "                                    V22)\n",
    "        \n",
    "        # Recombine sub-blocks for coupled-channel matrix\n",
    "        V_interpolated = jnp.vstack((\n",
    "            jnp.hstack((V11_interpolated, V12_interpolated)),\n",
    "            jnp.hstack((V21_interpolated, V22_interpolated))\n",
    "        ))\n",
    "\n",
    "        # Shape is (2*ntot+2, 2*ntot+2)\n",
    "        return V_interpolated\n",
    "    \n",
    "    @partial(jit, static_argnums=(0,))\n",
    "    def select_subblock(self, L, Lp, J, T_matrix):\n",
    "        \"\"\"Select a particular sub-block (L and L') of a coupled-channel T-\n",
    "        matrix.\n",
    "        \"\"\"\n",
    "        \n",
    "        # List of conditions for each sub-block\n",
    "        condlist = [\n",
    "            jnp.logical_and(L == Lp, J > L),   # 0-0 sub-block\n",
    "            jnp.logical_and(L != Lp, J > L),   # 0-2 sub-block\n",
    "            jnp.logical_and(L != Lp, J > Lp),  # 2-0 sub-block\n",
    "            jnp.logical_and(L == Lp, J < L)    # 2-2 sub-block\n",
    "        ]\n",
    "        \n",
    "        # List of the T-matrix in each sub-block\n",
    "        choicelist = [\n",
    "            T_matrix[:self.ntot+1, :self.ntot+1],\n",
    "            T_matrix[:self.ntot+1, self.ntot+1:],\n",
    "            T_matrix[self.ntot+1:, :self.ntot+1],\n",
    "            T_matrix[self.ntot+1:, self.ntot+1:]\n",
    "        ]\n",
    "        \n",
    "        # Get particular sub-block with shape (ntot+1, ntot+1)\n",
    "        T_subblock = jnp.select(condlist, choicelist)\n",
    "        \n",
    "        # Units remain [fm]\n",
    "        return T_subblock\n",
    "    \n",
    "    @partial(jit, static_argnums=(0,))\n",
    "    def get_subblocks(self, V_matrix):\n",
    "        \"\"\"Gets each sub-block (L and L') from a coupled-channel potential.\"\"\"\n",
    "        \n",
    "        V11 = V_matrix[:self.ntot, :self.ntot]\n",
    "        V12 = V_matrix[:self.ntot, self.ntot:]\n",
    "        V21 = V_matrix[self.ntot:, :self.ntot]\n",
    "        V22 = V_matrix[self.ntot:, self.ntot:]\n",
    "\n",
    "        return V11, V12, V21, V22"
   ]
  },
  {
   "cell_type": "code",
   "execution_count": 10,
   "id": "4a2596fc",
   "metadata": {
    "code_folding": [
     0
    ]
   },
   "outputs": [],
   "source": [
    "# TODO: Convert to JAX\n",
    "class DeuteronElectrodisintegration:\n",
    "    \"\"\"Class that calculates the longitudinal structure function for deuteron\n",
    "    electrodisintegration.\n",
    "    \"\"\"\n",
    "    \n",
    "    def __init__(self):\n",
    "        pass"
   ]
  },
  {
   "cell_type": "markdown",
   "id": "a8208de5",
   "metadata": {},
   "source": [
    "## Functions"
   ]
  },
  {
   "cell_type": "code",
   "execution_count": 11,
   "id": "c26072a4",
   "metadata": {},
   "outputs": [],
   "source": [
    "kvnn, kmax, kmid, ntot = 6, 30.0, 4.0, 120\n",
    "potential = Potential(kvnn, kmax, kmid, ntot)"
   ]
  },
  {
   "cell_type": "code",
   "execution_count": 12,
   "id": "c3fb9571",
   "metadata": {},
   "outputs": [
    {
     "name": "stdout",
     "output_type": "stream",
     "text": [
      "(6, 120, 120)\n",
      "(3, 240, 240)\n"
     ]
    }
   ],
   "source": [
    "print(potential.uncoupled_potentials.shape)\n",
    "print(potential.coupled_potentials.shape)"
   ]
  },
  {
   "cell_type": "code",
   "execution_count": 13,
   "id": "37238881",
   "metadata": {},
   "outputs": [
    {
     "name": "stdout",
     "output_type": "stream",
     "text": [
      "(120, 120)\n"
     ]
    }
   ],
   "source": [
    "L, S, J = 0, 0, 0\n",
    "V_1S0 = potential.get_uncoupled_potential(L, S, J)\n",
    "print(V_1S0.shape)"
   ]
  },
  {
   "cell_type": "code",
   "execution_count": 14,
   "id": "49ab88d5",
   "metadata": {},
   "outputs": [
    {
     "name": "stdout",
     "output_type": "stream",
     "text": [
      "(240, 240)\n"
     ]
    }
   ],
   "source": [
    "L, S, J = 0, 1, 1\n",
    "V_3S1 = potential.get_coupled_potential(J)\n",
    "print(V_3S1.shape)"
   ]
  },
  {
   "cell_type": "code",
   "execution_count": 15,
   "id": "d02e31e0",
   "metadata": {},
   "outputs": [],
   "source": [
    "tmatrix = TMatrix(kvnn, kmax, kmid, ntot)\n",
    "pp = 0.5"
   ]
  },
  {
   "cell_type": "code",
   "execution_count": 17,
   "id": "a2c0878e",
   "metadata": {},
   "outputs": [
    {
     "name": "stdout",
     "output_type": "stream",
     "text": [
      "(121, 121)\n"
     ]
    }
   ],
   "source": [
    "L, Lp, S, J = 0, 0, 0, 0\n",
    "T_1S0 = tmatrix.compute(pp, L, Lp, S, J)\n",
    "print(T_1S0.shape)"
   ]
  },
  {
   "cell_type": "code",
   "execution_count": 18,
   "id": "e04549d9",
   "metadata": {},
   "outputs": [
    {
     "name": "stdout",
     "output_type": "stream",
     "text": [
      "(121, 121)\n"
     ]
    }
   ],
   "source": [
    "L, Lp, S, J = 0, 2, 1, 1\n",
    "T_3S1_3D1 = tmatrix.compute(pp, L, Lp, S, J)\n",
    "print(T_3S1_3D1.shape)"
   ]
  },
  {
   "cell_type": "code",
   "execution_count": null,
   "id": "604dc0b8",
   "metadata": {},
   "outputs": [],
   "source": []
  }
 ],
 "metadata": {
  "kernelspec": {
   "display_name": "Python 3 (ipykernel)",
   "language": "python",
   "name": "python3"
  },
  "language_info": {
   "codemirror_mode": {
    "name": "ipython",
    "version": 3
   },
   "file_extension": ".py",
   "mimetype": "text/x-python",
   "name": "python",
   "nbconvert_exporter": "python",
   "pygments_lexer": "ipython3",
   "version": "3.9.16"
  }
 },
 "nbformat": 4,
 "nbformat_minor": 5
}

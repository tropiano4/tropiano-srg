{
 "cells": [
  {
   "cell_type": "markdown",
   "id": "6b71e7fb",
   "metadata": {},
   "source": [
    "# Similarity renormalization group\n",
    "\n",
    "__A. J. Tropiano [tropiano.4@osu.edu]__<br/>\n",
    "__March 25, 2022__\n",
    "\n",
    "This notebook illustrates SRG evolution by plotting contours of evolving potentials.\n",
    "\n",
    "_Last update: March 26, 2022_"
   ]
  },
  {
   "cell_type": "code",
   "execution_count": 1,
   "id": "0566c1ff",
   "metadata": {},
   "outputs": [],
   "source": [
    "# Python imports\n",
    "from matplotlib.offsetbox import AnchoredText\n",
    "import matplotlib.pyplot as plt\n",
    "%matplotlib inline\n",
    "import numpy as np"
   ]
  },
  {
   "cell_type": "code",
   "execution_count": 2,
   "id": "2e31ec38",
   "metadata": {},
   "outputs": [
    {
     "ename": "ModuleNotFoundError",
     "evalue": "No module named 'scripts.figures'",
     "output_type": "error",
     "traceback": [
      "\u001b[1;31m---------------------------------------------------------------------------\u001b[0m",
      "\u001b[1;31mModuleNotFoundError\u001b[0m                       Traceback (most recent call last)",
      "\u001b[1;32m<ipython-input-2-f760a9637ed6>\u001b[0m in \u001b[0;36m<module>\u001b[1;34m\u001b[0m\n\u001b[0;32m      1\u001b[0m \u001b[1;31m# Imports from A.T. codes\u001b[0m\u001b[1;33m\u001b[0m\u001b[1;33m\u001b[0m\u001b[1;33m\u001b[0m\u001b[0m\n\u001b[1;32m----> 2\u001b[1;33m \u001b[1;32mimport\u001b[0m \u001b[0mscripts\u001b[0m\u001b[1;33m.\u001b[0m\u001b[0mfigures\u001b[0m \u001b[1;32mas\u001b[0m \u001b[0mfg\u001b[0m\u001b[1;33m\u001b[0m\u001b[1;33m\u001b[0m\u001b[0m\n\u001b[0m\u001b[0;32m      3\u001b[0m \u001b[1;32mimport\u001b[0m \u001b[0mscripts\u001b[0m\u001b[1;33m.\u001b[0m\u001b[0mlabels\u001b[0m \u001b[1;32mas\u001b[0m \u001b[0mlb\u001b[0m\u001b[1;33m\u001b[0m\u001b[1;33m\u001b[0m\u001b[0m\n\u001b[0;32m      4\u001b[0m \u001b[1;32mfrom\u001b[0m \u001b[0mscripts\u001b[0m\u001b[1;33m.\u001b[0m\u001b[0mtools\u001b[0m \u001b[1;32mimport\u001b[0m \u001b[0mconvert_number_to_string\u001b[0m\u001b[1;33m\u001b[0m\u001b[1;33m\u001b[0m\u001b[0m\n\u001b[0;32m      5\u001b[0m \u001b[1;32mfrom\u001b[0m \u001b[0mpotentials\u001b[0m \u001b[1;32mimport\u001b[0m \u001b[0mPotential\u001b[0m\u001b[1;33m\u001b[0m\u001b[1;33m\u001b[0m\u001b[0m\n",
      "\u001b[1;31mModuleNotFoundError\u001b[0m: No module named 'scripts.figures'"
     ]
    }
   ],
   "source": [
    "# Imports from A.T. codes\n",
    "import scripts.figures as fg\n",
    "import scripts.labels as lb\n",
    "from scripts.tools import convert_number_to_string\n",
    "from potentials import Potential"
   ]
  },
  {
   "cell_type": "code",
   "execution_count": null,
   "id": "e8b700d6",
   "metadata": {},
   "outputs": [],
   "source": [
    "# Run this cell for fancy-looking plots\n",
    "fg.set_rc_parameters()"
   ]
  },
  {
   "cell_type": "code",
   "execution_count": null,
   "id": "73d96480",
   "metadata": {},
   "outputs": [],
   "source": [
    "# Save figures in the following directory\n",
    "figures_directory = '../figures/srg/'"
   ]
  },
  {
   "cell_type": "markdown",
   "id": "27950362",
   "metadata": {},
   "source": [
    "_To-do:_\n",
    "\n",
    "* Auto-adjust fontsize for multiplot figures?\n",
    "* Add docstring to `potential_contours` function.\n",
    "* Make a function for saving figures?"
   ]
  },
  {
   "cell_type": "markdown",
   "id": "9362012e",
   "metadata": {},
   "source": [
    "## Contours of $V(k,k')$"
   ]
  },
  {
   "cell_type": "code",
   "execution_count": null,
   "id": "c577a0ad",
   "metadata": {
    "code_folding": []
   },
   "outputs": [],
   "source": [
    "def potential_contours(\n",
    "        kvnn, channel, kmax, kmid, ntot, generator, lambda_array,\n",
    "        axes_limits=(0.0,4.0), colorbar_limits=(-1.0,1.0),\n",
    "        lambda_labels=False, kvnn_label=False, generator_label=False,\n",
    "        save=False):\n",
    "    \"\"\"\n",
    "    \"\"\"\n",
    "\n",
    "    # Initialize Potential class and get momentum values\n",
    "    potential = Potential(kvnn, channel, kmax, kmid, ntot)\n",
    "    k_array, _ = potential.load_mesh()\n",
    "    \n",
    "    # Store each potential in a dictionary with \\lambda as the key\n",
    "    d = {}\n",
    "    for lamb in lambda_array:\n",
    "        # Case for initial potential\n",
    "        if lamb == np.inf:\n",
    "            d[lamb] = potential.load_potential('initial')\n",
    "        else:\n",
    "            # Case for block-diagonal (assumes \\lambda=1, \\Lambda_BD=lamb)\n",
    "            if generator == 'Block-diag':\n",
    "                d[lamb] = potential.load_potential('srg', generator, 1.0,\n",
    "                                                   lambda_bd=lamb)\n",
    "            # Case for band-diagonal generators\n",
    "            else:\n",
    "                d[lamb] = potential.load_potential('srg', generator, lamb)\n",
    "                \n",
    "    # Set contour color style\n",
    "    color_style = 'turbo'\n",
    "    \n",
    "    # Set limit on interpolation with axes_max\n",
    "    axes_max = axes_limits[1]\n",
    "                \n",
    "    # Add potentials to figure\n",
    "    f, ax, ax_cbar = fg.plot_contours(k_array, d, axes_max, colorbar_limits,\n",
    "                                      color_style)\n",
    "\n",
    "    # Set x- and y-axes\n",
    "    x_label = \"k' [fm\" + r'$^{-1}$' + ']'\n",
    "    y_label = 'k [fm' + r'$^{-1}$' + ']'\n",
    "    axes_label_size = 16\n",
    "    f, ax = fg.adjust_axes(f, ax, axes_limits, x_label, y_label,\n",
    "                           label_size=axes_label_size, invert_y=True)\n",
    "\n",
    "    # Set colorbar\n",
    "    colorbar_label = '[fm]'\n",
    "    colorbar_label_size = 16\n",
    "    colorbar_tick_size = 14\n",
    "    f, ax_cbar = fg.add_colorbar(\n",
    "        f, ax_cbar, colorbar_limits, label=colorbar_label,\n",
    "        label_size=colorbar_label_size, tick_size=colorbar_tick_size)\n",
    "    \n",
    "    # Add \\lambda label to each sub-plot?\n",
    "    if lambda_labels:\n",
    "        lambda_label_size = 18\n",
    "        lambda_label_location = 'lower left'\n",
    "        for i, ilamb in enumerate(lambda_array):\n",
    "            lambda_label = lb.label_lambda(ilamb, generator)\n",
    "            anchored_text = AnchoredText(\n",
    "                lambda_label, loc=lambda_label_location,\n",
    "                prop=dict(size=lambda_label_size))\n",
    "            ax[i].add_artist(anchored_text)\n",
    "\n",
    "    # Add potential label to first sub-plot?\n",
    "    if kvnn_label:\n",
    "        kvnn_label = lb.label_kvnn(kvnn)\n",
    "        kvnn_label_size = 20\n",
    "        kvnn_label_location = 'upper right'\n",
    "        anchored_text = AnchoredText(kvnn_label, loc=kvnn_label_location,\n",
    "                                     prop=dict(size=kvnn_label_size))\n",
    "        ax[0].add_artist(anchored_text)\n",
    "        \n",
    "    # Add generator label to last sub-plot?\n",
    "    if generator_label:\n",
    "        generator_label = lb.label_generator(generator)\n",
    "        generator_label_size = 20\n",
    "        generator_label_location = 'upper right'\n",
    "        anchored_text = AnchoredText(\n",
    "            generator_label, loc=generator_label_location,\n",
    "            prop=dict(size=generator_label_size))\n",
    "        ax[-1].add_artist(anchored_text)\n",
    "\n",
    "    # Save figure?\n",
    "    if save:\n",
    "        file_name = (f'potential_contours_kvnn_{kvnn:d}_{channel}'\n",
    "                     f'_{generator}_lambdas')\n",
    "        for ilamb in lambda_array:\n",
    "            if ilamb == np.inf:\n",
    "                lamb_str = 'inf'\n",
    "            else:\n",
    "                lamb_str = convert_number_to_string(ilamb)\n",
    "            file_name += f'_{lamb_str}'\n",
    "        file_name = lb.replace_periods(file_name) + '.png'\n",
    "        f.savefig(figures_directory + file_name)\n",
    "        \n",
    "    # TESTING\n",
    "    print(f'Shape = {ax.shape}')\n",
    "    print(f'Dimensions = {ax.ndim}')\n",
    "    print(f'Length = {len(ax)}')\n",
    "    print(f'Size = {ax.size}')"
   ]
  },
  {
   "cell_type": "code",
   "execution_count": null,
   "id": "29836cbe",
   "metadata": {},
   "outputs": [],
   "source": [
    "# Test RKE N4LO 450 MeV in 1P1 channel\n",
    "kvnn = 111\n",
    "channel = '1P1'\n",
    "kmax, kmid, ntot = 10.0, 2.0, 120\n",
    "lambda_array = np.array([np.inf, 3.0, 2.0, 1.5])\n",
    "clim = (-0.4, 0.4)"
   ]
  },
  {
   "cell_type": "code",
   "execution_count": null,
   "id": "24924f87",
   "metadata": {},
   "outputs": [],
   "source": [
    "# Band-diagonal generator\n",
    "potential_contours(\n",
    "    kvnn, channel, kmax, kmid, ntot, 'Wegner', lambda_array,\n",
    "    colorbar_limits=clim, lambda_labels=True, generator_label=True,\n",
    "    save=False)"
   ]
  },
  {
   "cell_type": "code",
   "execution_count": null,
   "id": "31bdef1d",
   "metadata": {},
   "outputs": [],
   "source": [
    "# Block-diagonal generator\n",
    "potential_contours(\n",
    "    kvnn, channel, kmax, kmid, ntot, 'Block-diag', lambda_array,\n",
    "    colorbar_limits=clim, lambda_labels=True, generator_label=True,\n",
    "    save=False)"
   ]
  },
  {
   "cell_type": "code",
   "execution_count": null,
   "id": "f86de061",
   "metadata": {},
   "outputs": [],
   "source": []
  },
  {
   "cell_type": "code",
   "execution_count": null,
   "id": "47c577d2",
   "metadata": {},
   "outputs": [],
   "source": []
  },
  {
   "cell_type": "code",
   "execution_count": null,
   "id": "49452333",
   "metadata": {},
   "outputs": [],
   "source": []
  },
  {
   "cell_type": "code",
   "execution_count": null,
   "id": "284410f0",
   "metadata": {},
   "outputs": [],
   "source": []
  },
  {
   "cell_type": "code",
   "execution_count": null,
   "id": "a01b9b2c",
   "metadata": {},
   "outputs": [],
   "source": []
  }
 ],
 "metadata": {
  "kernelspec": {
   "display_name": "Python 3",
   "language": "python",
   "name": "python3"
  },
  "language_info": {
   "codemirror_mode": {
    "name": "ipython",
    "version": 3
   },
   "file_extension": ".py",
   "mimetype": "text/x-python",
   "name": "python",
   "nbconvert_exporter": "python",
   "pygments_lexer": "ipython3",
   "version": "3.8.5"
  }
 },
 "nbformat": 4,
 "nbformat_minor": 5
}

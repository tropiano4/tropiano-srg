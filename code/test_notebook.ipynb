{
 "cells": [
  {
   "cell_type": "markdown",
   "id": "dc98d802",
   "metadata": {},
   "source": [
    "# Test notebook\n",
    "\n",
    "__A. J. Tropiano [tropiano.4@osu.edu]__<br/>\n",
    "__March 17, 2022__\n",
    "\n",
    "The purpose of this notebook is for testing out code and/or scripts.\n",
    "\n",
    "_Last update: April 15, 2022_"
   ]
  },
  {
   "cell_type": "code",
   "execution_count": 1,
   "id": "b4cd323a",
   "metadata": {},
   "outputs": [],
   "source": [
    "# Python imports\n",
    "from matplotlib.offsetbox import AnchoredText\n",
    "import matplotlib.pyplot as plt\n",
    "%matplotlib inline\n",
    "import numpy as np\n",
    "import time"
   ]
  },
  {
   "cell_type": "code",
   "execution_count": 2,
   "id": "f7d111bc",
   "metadata": {},
   "outputs": [],
   "source": [
    "# Imports from A.T. codes\n",
    "import densities\n",
    "from dmd import Deuteron\n",
    "from momentum_distributions import MomentumDistribution\n",
    "from potentials import Potential\n",
    "# You could import modules but I want a list of scripts here\n",
    "# Check these off the list as you go through Jupyter notebooks generating\n",
    "# figures\n",
    "# import dmd, snmd, pmd\n",
    "import modules.a2\n",
    "import modules.figures\n",
    "import modules.fourier_transform\n",
    "from modules.integration import gaussian_quadrature_mesh\n",
    "import modules.labels\n",
    "import modules.long_distance_operators\n",
    "from magnus import Magnus, MagnusSplit\n",
    "import modules.momentum_projection_operator\n",
    "import modules.phase_shifts\n",
    "import modules.sdt\n",
    "from pmd import Pair\n",
    "from snmd import SingleNucleon\n",
    "from srg import SRG, get_transformation\n",
    "import modules.tools\n",
    "import modules.wave_function\n",
    "# add missing ones"
   ]
  },
  {
   "cell_type": "markdown",
   "id": "7c626522",
   "metadata": {},
   "source": [
    "For now let's illustrate the overhaul by testing scripts and showing how to use them."
   ]
  },
  {
   "cell_type": "markdown",
   "id": "20e60b5a",
   "metadata": {},
   "source": [
    "### Test `vnn.py`"
   ]
  },
  {
   "cell_type": "code",
   "execution_count": 3,
   "id": "78f20e3e",
   "metadata": {
    "code_folding": [
     0
    ]
   },
   "outputs": [],
   "source": [
    "# kvnn = 900\n",
    "# channel = '3S1'\n",
    "# kmax, kmid, ntot = 30.0, 4.0, 120"
   ]
  },
  {
   "cell_type": "code",
   "execution_count": 4,
   "id": "883584d1",
   "metadata": {
    "code_folding": [
     0
    ]
   },
   "outputs": [],
   "source": [
    "# # __init__ (check)\n",
    "\n",
    "# potential = Potential(kvnn, channel, kmax, kmid, ntot)\n",
    "# print(potential.kvnn, potential.coupled_channel_bool, \n",
    "#       potential.potential_directory)"
   ]
  },
  {
   "cell_type": "code",
   "execution_count": 5,
   "id": "5fd02f11",
   "metadata": {
    "code_folding": [
     0
    ],
    "scrolled": true
   },
   "outputs": [],
   "source": [
    "# # load_mesh (check)\n",
    "\n",
    "# k_array, k_weights = potential.load_mesh()"
   ]
  },
  {
   "cell_type": "code",
   "execution_count": 6,
   "id": "f7837d4b",
   "metadata": {
    "code_folding": [
     0
    ]
   },
   "outputs": [],
   "source": [
    "# # load_potential (check)\n",
    "\n",
    "# V_matrix = potential.load_potential()"
   ]
  },
  {
   "cell_type": "code",
   "execution_count": 7,
   "id": "e3ff7df9",
   "metadata": {
    "code_folding": [
     0
    ]
   },
   "outputs": [],
   "source": [
    "# # load_hamiltonian (check)\n",
    "\n",
    "# H_matrix = potential.load_hamiltonian()"
   ]
  },
  {
   "cell_type": "markdown",
   "id": "70e9d728",
   "metadata": {},
   "source": [
    "### Test `srg.py`"
   ]
  },
  {
   "cell_type": "code",
   "execution_count": 8,
   "id": "898a5861",
   "metadata": {
    "code_folding": [
     0
    ]
   },
   "outputs": [],
   "source": [
    "# # run_srg for Wegner (check)\n",
    "\n",
    "# generator = 'Wegner'\n",
    "# srg = SRG(kvnn, channel, kmax, kmid, ntot, generator)\n",
    "# lambda_array = np.array([3.0])\n",
    "# d = srg.srg_evolve(lambda_array, save=True)"
   ]
  },
  {
   "cell_type": "code",
   "execution_count": 9,
   "id": "969c8c42",
   "metadata": {
    "code_folding": [
     0
    ]
   },
   "outputs": [],
   "source": [
    "# # run_srg for T (check)\n",
    "\n",
    "# generator = 'T'\n",
    "# srg = SRG(kvnn, channel, kmax, kmid, ntot, generator)\n",
    "# d = srg.srg_evolve(lambda_array, save=True)"
   ]
  },
  {
   "cell_type": "code",
   "execution_count": 10,
   "id": "f2c65186",
   "metadata": {
    "code_folding": [
     0
    ]
   },
   "outputs": [],
   "source": [
    "# # run_srg for Block-diag (check)\n",
    "\n",
    "# generator = 'Block-diag'\n",
    "# lambda_bd_array = np.array([3.0])\n",
    "# lambda_array = np.array([1.0])\n",
    "# srg = SRG(kvnn, channel, kmax, kmid, ntot, generator)\n",
    "# d = srg.srg_evolve(lambda_array, lambda_bd_array, save=True)"
   ]
  },
  {
   "cell_type": "code",
   "execution_count": 11,
   "id": "2151b92d",
   "metadata": {
    "code_folding": [
     0
    ]
   },
   "outputs": [],
   "source": [
    "# # compare evolved Hamiltonian using get_transformation (check)\n",
    "\n",
    "# H_initial = potential.load_hamiltonian()\n",
    "# H_evolved = potential.load_hamiltonian('srg', 'Wegner', 3.0)\n",
    "# U_matrix = get_transformation(H_initial, H_evolved)"
   ]
  },
  {
   "cell_type": "markdown",
   "id": "90963b23",
   "metadata": {},
   "source": [
    "### Test `magnus.py`"
   ]
  },
  {
   "cell_type": "code",
   "execution_count": 12,
   "id": "56df3791",
   "metadata": {
    "code_folding": [
     0
    ]
   },
   "outputs": [],
   "source": [
    "# # Might be smart to test a really soft potential here for speed\n",
    "# kvnn = 111\n",
    "# channel = '1S0'\n",
    "# kmax, kmid, ntot = 10.0, 2.0, 120"
   ]
  },
  {
   "cell_type": "code",
   "execution_count": 13,
   "id": "f8ea1e1d",
   "metadata": {
    "code_folding": [
     0
    ]
   },
   "outputs": [],
   "source": [
    "# # Do default Magnus arguments\n",
    "# k_max = 2\n",
    "# ds = 1e-5"
   ]
  },
  {
   "cell_type": "code",
   "execution_count": 14,
   "id": "a70e4a77",
   "metadata": {
    "code_folding": [
     0
    ]
   },
   "outputs": [],
   "source": [
    "# # run_magnus for Wegner (check)\n",
    "\n",
    "# generator = 'Wegner'\n",
    "# lambda_array = np.array([3.0])\n",
    "# magnus = Magnus(kvnn, channel, kmax, kmid, ntot, generator)\n",
    "# d = magnus.magnus_evolve(lambda_array, k_max=k_max, ds=ds)\n",
    "# print(d[3.0])\n",
    "\n",
    "# # run_srg for Wegner\n",
    "# srg = SRG(kvnn, channel, kmax, kmid, ntot, generator)\n",
    "# d = srg.srg_evolve(lambda_array)\n",
    "# print(d[3.0])"
   ]
  },
  {
   "cell_type": "code",
   "execution_count": 15,
   "id": "9ca21eb8",
   "metadata": {
    "code_folding": [
     0
    ]
   },
   "outputs": [],
   "source": [
    "# # run_magnus for T (check)\n",
    "\n",
    "# generator = 'T'\n",
    "# lambda_array = np.array([6.0, 3.0])\n",
    "\n",
    "# d = potential.run_magnus(generator, lambda_array, k_max=k_max, ds=ds,\n",
    "#                          save=False)\n",
    "# print(d[3.0])\n",
    "\n",
    "# # run_srg for Wegner\n",
    "# d = potential.run_srg(generator, lambda_array, save=False)\n",
    "# print(d[3.0])"
   ]
  },
  {
   "cell_type": "code",
   "execution_count": 16,
   "id": "e901eb7a",
   "metadata": {
    "code_folding": [
     0
    ]
   },
   "outputs": [],
   "source": [
    "# # run_magnus for Block-diag\n",
    "\n",
    "# generator = 'Block-diag'\n",
    "# lambda_bd_array = np.array([6.0, 3.0])\n",
    "# lambda_array = np.array([3.0])\n",
    "\n",
    "# d = potential.run_magnus(generator, lambda_array, lambda_bd_array, \n",
    "#                          k_max=k_max, ds=ds, save=False)\n",
    "# print(d[3.0][3.0])\n",
    "\n",
    "# # run_srg for Block-diag (check)\n",
    "# d = potential.run_srg(generator, lambda_array, lambda_bd_array, save=False)\n",
    "# print(d[3.0][3.0])"
   ]
  },
  {
   "cell_type": "code",
   "execution_count": 17,
   "id": "a7eb375e",
   "metadata": {
    "code_folding": [
     0
    ]
   },
   "outputs": [],
   "source": [
    "# # Test that Magnus_split at least works (check)\n",
    "\n",
    "# magnus_split = MagnusSplit(kvnn, channel, kmax, kmid, ntot, generator)\n",
    "# d = magnus_split.magnus_split_evolve(lambda_array, k_max=k_max, ds=ds)\n",
    "# print(d[3.0])"
   ]
  },
  {
   "cell_type": "markdown",
   "id": "1404e7e5",
   "metadata": {},
   "source": [
    "### Testing momentum distributions code"
   ]
  },
  {
   "cell_type": "code",
   "execution_count": 18,
   "id": "840d418e",
   "metadata": {
    "code_folding": []
   },
   "outputs": [],
   "source": [
    "kvnn = 6\n",
    "kmax, kmid, ntot = 15.0, 3.0, 120\n",
    "channels = ('1S0', '3S1')\n",
    "generator = 'Wegner'\n",
    "lamb = 1.35"
   ]
  },
  {
   "cell_type": "code",
   "execution_count": 19,
   "id": "aefe0f04",
   "metadata": {
    "code_folding": [
     0
    ]
   },
   "outputs": [],
   "source": [
    "# # This works comparing to old snmd.py and pmd.py\n",
    "# md = MomentumDistributions(kvnn, kmax, kmid, ntot)\n",
    "# md.save_deltaU_funcs(channels, generator, lamb)"
   ]
  },
  {
   "cell_type": "code",
   "execution_count": 20,
   "id": "1cf5f721",
   "metadata": {
    "code_folding": [
     0
    ]
   },
   "outputs": [],
   "source": [
    "# chdir(old_code_dir)\n",
    "# snmd = single_nucleon_momentum_distributions(kvnn, channels, lamb, kmax, kmid,\n",
    "#                                              ntot)\n",
    "# chdir(cwd)"
   ]
  },
  {
   "cell_type": "code",
   "execution_count": 21,
   "id": "8abf074f",
   "metadata": {
    "code_folding": []
   },
   "outputs": [],
   "source": [
    "# md.save_deuteron_deltaU_funcs(generator, lamb)"
   ]
  },
  {
   "cell_type": "code",
   "execution_count": 22,
   "id": "af779295",
   "metadata": {
    "code_folding": [
     0
    ]
   },
   "outputs": [],
   "source": [
    "# chdir(old_code_dir)\n",
    "# dmd = deuteron_momentum_distributions(kvnn, lamb, kmax, kmid, ntot)\n",
    "# chdir(cwd)"
   ]
  },
  {
   "cell_type": "code",
   "execution_count": 23,
   "id": "87bae9e1",
   "metadata": {},
   "outputs": [],
   "source": [
    "potential = Potential(kvnn, '1S0', kmax, kmid, ntot)\n",
    "channels = ('1S0', '3S1')\n",
    "q_array, q_weights = potential.load_mesh()\n",
    "\n",
    "nucleus_name, Z, N = 'Ca48', 20, 28"
   ]
  },
  {
   "cell_type": "code",
   "execution_count": 24,
   "id": "bd124244",
   "metadata": {
    "code_folding": [
     0
    ]
   },
   "outputs": [],
   "source": [
    "# # Compute deuteron momentum distribution and compare to file [check]\n",
    "\n",
    "# dmd = Deuteron(kvnn, kmax, kmid, ntot, generator, lamb)\n",
    "# n_d_array = dmd.compute_momentum_distribution(q_array)\n",
    "# for iq, q in enumerate(q_array):\n",
    "#     print(q, n_d_array[iq])"
   ]
  },
  {
   "cell_type": "code",
   "execution_count": 25,
   "id": "7f5f28c2",
   "metadata": {
    "code_folding": [
     0
    ]
   },
   "outputs": [],
   "source": [
    "# # Compute Ca48 proton and neutron momentum distributions and compare (check)\n",
    "\n",
    "# snmd = SingleNucleon(kvnn, kmax, kmid, ntot, channels, generator, lamb)\n",
    "\n",
    "# n_p_array = snmd.compute_momentum_distribution(q_array, 'proton',\n",
    "#                                                nucleus_name, Z, N)\n",
    "# n_n_array = snmd.compute_momentum_distribution(q_array, 'neutron',\n",
    "#                                                nucleus_name, Z, N)\n",
    "# for iq, q in enumerate(q_array):\n",
    "#     print(q, n_p_array[iq], n_n_array[iq])"
   ]
  },
  {
   "cell_type": "code",
   "execution_count": 26,
   "id": "134cb837",
   "metadata": {
    "code_folding": [
     0
    ]
   },
   "outputs": [],
   "source": [
    "# # Compute Ca48 np, pp, and nn momentum distributions and compare\n",
    "\n",
    "# pmd = Pair(kvnn, kmax, kmid, ntot, channels, generator, lamb)\n",
    "\n",
    "# # Set C.o.M. momentum values\n",
    "# Q_max = 2.0 # Starts to get wonky at Q_max > 2.3 fm^-1\n",
    "# ntot_Q = 40\n",
    "# Q_array, Q_weights = gaussian_quadrature_mesh(Q_max, ntot_Q)\n",
    "\n",
    "# n_pn_array = pmd.compute_momentum_distribution(q_array, Q_array, 'pn',\n",
    "#                                                nucleus_name, Z, N)\n",
    "# n_pp_array = pmd.compute_momentum_distribution(q_array, Q_array, 'pp',\n",
    "#                                                nucleus_name, Z, N)\n",
    "# n_nn_array = pmd.compute_momentum_distribution(q_array, Q_array, 'nn',\n",
    "#                                                nucleus_name, Z, N)"
   ]
  },
  {
   "cell_type": "code",
   "execution_count": 27,
   "id": "94c5b782",
   "metadata": {
    "code_folding": []
   },
   "outputs": [],
   "source": [
    "# print(n_pn_array) # CHECK"
   ]
  },
  {
   "cell_type": "code",
   "execution_count": 28,
   "id": "8c40ea3f",
   "metadata": {},
   "outputs": [
    {
     "name": "stdout",
     "output_type": "stream",
     "text": [
      "[[1.68545285e+08 6.90931869e+07 3.46344547e+07 ... 1.33038815e+05\n",
      "  1.33038668e+05 1.33038237e+05]\n",
      " [5.55287855e+07 5.15796637e+07 3.32389459e+07 ... 1.33032272e+05\n",
      "  1.33032096e+05 1.33031969e+05]\n",
      " [2.72359223e+07 2.67656306e+07 2.49627292e+07 ... 1.33030877e+05\n",
      "  1.29709058e+05 1.27273758e+05]\n",
      " ...\n",
      " [3.29706238e-08 3.27949277e-08 3.24876444e-08 ... 1.43254385e-09\n",
      "  1.35941760e-09 1.31957481e-09]\n",
      " [3.30538728e-08 3.28774461e-08 3.25689214e-08 ... 1.43280889e-09\n",
      "  1.35963967e-09 1.31977438e-09]\n",
      " [3.30695718e-08 3.28928942e-08 3.25839493e-08 ... 1.43182711e-09\n",
      "  1.35869822e-09 1.31885523e-09]]\n"
     ]
    }
   ],
   "source": [
    "# print(n_pp_array)  # CHECK"
   ]
  },
  {
   "cell_type": "code",
   "execution_count": 29,
   "id": "6ecd4644",
   "metadata": {},
   "outputs": [
    {
     "name": "stdout",
     "output_type": "stream",
     "text": [
      "[[4.54704290e+08 1.66800906e+08 7.64244139e+07 ... 2.37426048e+05\n",
      "  2.06485112e+05 2.06484830e+05]\n",
      " [1.30469672e+08 1.20008869e+08 7.27899311e+07 ... 2.26419633e+05\n",
      "  2.09987324e+05 2.06475211e+05]\n",
      " [5.78508583e+07 5.69664168e+07 5.26854512e+07 ... 2.23348927e+05\n",
      "  2.16663292e+05 2.13024726e+05]\n",
      " ...\n",
      " [4.40564830e-08 4.38338468e-08 4.34502717e-08 ... 3.19885455e-09\n",
      "  3.07535821e-09 3.00765527e-09]\n",
      " [4.41898476e-08 4.39661150e-08 4.35807295e-08 ... 3.20060518e-09\n",
      "  3.07697510e-09 3.00920034e-09]\n",
      " [4.42225977e-08 4.39984503e-08 4.36123904e-08 ... 3.19886757e-09\n",
      "  3.07527612e-09 3.00752324e-09]]\n"
     ]
    }
   ],
   "source": [
    "# print(n_nn_array)  # CHECK"
   ]
  },
  {
   "cell_type": "code",
   "execution_count": 30,
   "id": "163764d0",
   "metadata": {},
   "outputs": [],
   "source": [
    "# # Compute Ca48 np at Q=0 and compare [check]\n",
    "\n",
    "# n_Q0_pn_array = pmd.compute_momentum_distribution_Q0(q_array, 'pn',\n",
    "#                                                      nucleus_name, Z, N)\n",
    "# for iq, q in enumerate(q_array):\n",
    "#     print(q, n_Q0_pn_array[iq])"
   ]
  },
  {
   "cell_type": "code",
   "execution_count": 42,
   "id": "8a10714d",
   "metadata": {},
   "outputs": [
    {
     "name": "stdout",
     "output_type": "stream",
     "text": [
      "0.0011848151588461 [2.99951063e+08]\n",
      "0.0062392123217427 [86450305.42136355]\n",
      "0.015318157166667 [39007871.40016359]\n",
      "0.028399197371103 [22442532.42058421]\n",
      "0.045447316852421 [14061409.00414742]\n",
      "0.066416616240006 [9463164.60410758]\n",
      "0.091250585825365 [6705979.2956027]\n",
      "0.11988228573356 [5058373.02204327]\n",
      "0.15223453378493 [3762195.13688404]\n",
      "0.18822011602965 [2879503.68197245]\n",
      "0.22774202282111 [2286229.77661955]\n",
      "0.27069371075678 [1885992.71269998]\n",
      "0.3169593901016 [1545929.51034093]\n",
      "0.36641433704012 [1258576.47544701]\n",
      "0.4189252299664 [1075282.59001865]\n",
      "0.47435050892797 [864107.97001986]\n",
      "0.53254075726578 [730409.00343803]\n",
      "0.59333910442723 [612878.66224736]\n",
      "0.65658164886908 [481858.2640961]\n",
      "0.72209789991215 [425746.06007739]\n",
      "0.78971123735744 [329632.21928663]\n",
      "0.85923938762538 [288891.92068546]\n",
      "0.9304949151348 [219811.37536032]\n",
      "1.0032857275973 [165090.94986385]\n",
      "1.0774155938651 [112724.05972973]\n",
      "1.152684672936 [74890.42820215]\n",
      "1.2288900526899 [36197.15751716]\n",
      "1.3058262969046 [3103.43477609]\n",
      "1.3832859990757 [190.0671475]\n",
      "1.4610603415481 [201.11220661]\n",
      "1.5389396584519 [203.25477188]\n",
      "1.6167140009243 [197.2851919]\n",
      "1.6941737030954 [185.11285316]\n",
      "1.7711099473101 [169.10520005]\n",
      "1.847315327064 [151.50325289]\n",
      "1.9225844061349 [134.05649756]\n",
      "1.9967142724027 [117.89804752]\n",
      "2.0695050848652 [103.59769184]\n",
      "2.1407606123746 [91.30535296]\n",
      "2.2102887626426 [80.91176231]\n",
      "2.2779021000879 [72.18258487]\n",
      "2.3434183511309 [64.849766]\n",
      "2.4066608955728 [58.66239166]\n",
      "2.4674592427342 [53.40792774]\n",
      "2.525649491072 [48.9158418]\n",
      "2.5810747700336 [45.05291384]\n",
      "2.6335856629599 [41.71596608]\n",
      "2.6830406098984 [38.824843]\n",
      "2.7293062892432 [36.31666845]\n",
      "2.7722579771789 [34.14150631]\n",
      "2.8117798839703 [32.25920769]\n",
      "2.8477654662151 [30.637157]\n",
      "2.8801177142664 [29.24866587]\n",
      "2.9087494141746 [28.0718234]\n",
      "2.93358338376 [27.08866685]\n",
      "2.9545526831476 [26.28457835]\n",
      "2.9716008026289 [25.64784344]\n",
      "2.9846818428333 [25.16932743]\n",
      "2.9937607876783 [24.84223665]\n",
      "2.9988151848412 [24.66189866]\n",
      "3.0047392606354 [24.45211634]\n",
      "3.024956849287 [23.74884624]\n",
      "3.0612726286667 [22.53329337]\n",
      "3.1135967894844 [20.88401942]\n",
      "3.1817892674097 [18.90245887]\n",
      "3.26566646496 [16.70238398]\n",
      "3.3650023433015 [14.39982494]\n",
      "3.4795291429342 [12.10418811]\n",
      "3.6089381351397 [9.91098885]\n",
      "3.7528804641186 [7.89644434]\n",
      "3.9109680912844 [6.11418059]\n",
      "4.0827748430271 [4.59427258]\n",
      "4.2678375604064 [3.34462888]\n",
      "4.4656573481605 [2.35439236]\n",
      "4.6757009198656 [1.59870561]\n",
      "4.8974020357119 [1.04401556]\n",
      "5.1301630290631 [0.65311985]\n",
      "5.3733564177089 [0.38935002]\n",
      "5.6263265954763 [0.2195609]\n",
      "5.8883915996486 [0.11586609]\n",
      "6.1588449494298 [0.05626653]\n",
      "6.4369575505015 [0.02443975]\n",
      "6.7219796605392 [0.00899594]\n",
      "7.0131429103893 [0.00248274]\n",
      "7.3096623754604 [0.00035849]\n",
      "7.6107386917438 [7.73294906e-05]\n",
      "7.9155602107594 [0.00035846]\n",
      "8.2233051876183 [0.00065461]\n",
      "8.5331439963028 [0.00079922]\n",
      "8.8442413661925 [0.0007936]\n",
      "9.1557586338075 [0.00069255]\n",
      "9.4668560036972 [0.0005518]\n",
      "9.7766948123817 [0.00041021]\n",
      "10.084439789241 [0.00028837]\n",
      "10.389261308256 [0.00019343]\n",
      "10.69033762454 [0.00012455]\n",
      "10.986857089611 [7.73174267e-05]\n",
      "11.278020339461 [4.63999201e-05]\n",
      "11.563042449498 [2.69652591e-05]\n",
      "11.84115505057 [1.51862013e-05]\n",
      "12.111608400351 [8.28771474e-06]\n",
      "12.373673404524 [4.38195493e-06]\n",
      "12.626643582291 [2.24720403e-06]\n",
      "12.869836970937 [1.12551076e-06]\n",
      "13.102597964288 [5.63593236e-07]\n",
      "13.324299080134 [2.99448635e-07]\n",
      "13.53434265184 [1.8673787e-07]\n",
      "13.732162439594 [1.46586654e-07]\n",
      "13.917225156973 [1.38196545e-07]\n",
      "14.089031908716 [1.41567511e-07]\n",
      "14.247119535881 [1.47611929e-07]\n",
      "14.39106186486 [1.52705235e-07]\n",
      "14.520470857066 [1.55815133e-07]\n",
      "14.634997656699 [1.5703603e-07]\n",
      "14.73433353504 [1.56861251e-07]\n",
      "14.81821073259 [1.55844983e-07]\n",
      "14.886403210516 [1.5446759e-07]\n",
      "14.938727371333 [1.53098602e-07]\n",
      "14.975043150713 [1.51997326e-07]\n",
      "14.995260739365 [1.51336344e-07]\n"
     ]
    }
   ],
   "source": []
  },
  {
   "cell_type": "code",
   "execution_count": 44,
   "id": "81e9192b",
   "metadata": {},
   "outputs": [
    {
     "data": {
      "text/plain": [
       "2.7959539953244024"
      ]
     },
     "execution_count": 44,
     "metadata": {},
     "output_type": "execute_result"
    }
   ],
   "source": []
  },
  {
   "cell_type": "code",
   "execution_count": null,
   "id": "842db164",
   "metadata": {},
   "outputs": [],
   "source": []
  },
  {
   "cell_type": "code",
   "execution_count": null,
   "id": "40087a4c",
   "metadata": {},
   "outputs": [],
   "source": []
  },
  {
   "cell_type": "code",
   "execution_count": null,
   "id": "acfd5fdd",
   "metadata": {},
   "outputs": [],
   "source": []
  },
  {
   "cell_type": "code",
   "execution_count": null,
   "id": "7b7512d7",
   "metadata": {},
   "outputs": [],
   "source": []
  },
  {
   "cell_type": "code",
   "execution_count": 31,
   "id": "c6413914",
   "metadata": {},
   "outputs": [],
   "source": [
    "# Test figure_graphics.py"
   ]
  },
  {
   "cell_type": "code",
   "execution_count": 32,
   "id": "e1be1eb0",
   "metadata": {},
   "outputs": [],
   "source": [
    "# Test figure_labels.py"
   ]
  },
  {
   "cell_type": "code",
   "execution_count": 33,
   "id": "5d1ae9c9",
   "metadata": {},
   "outputs": [],
   "source": [
    "# Test fourier_transform.py"
   ]
  },
  {
   "cell_type": "code",
   "execution_count": 34,
   "id": "075edcd9",
   "metadata": {},
   "outputs": [],
   "source": [
    "# Test integration.py"
   ]
  },
  {
   "cell_type": "code",
   "execution_count": 35,
   "id": "b29dcbe5",
   "metadata": {},
   "outputs": [],
   "source": [
    "# Test long_distance_operators.py"
   ]
  },
  {
   "cell_type": "code",
   "execution_count": 36,
   "id": "cb1f9dbe",
   "metadata": {},
   "outputs": [],
   "source": [
    "# Test momentum_projection_operator.py"
   ]
  },
  {
   "cell_type": "code",
   "execution_count": 37,
   "id": "70934e18",
   "metadata": {},
   "outputs": [],
   "source": [
    "# Test phase_shifts.py"
   ]
  },
  {
   "cell_type": "code",
   "execution_count": 38,
   "id": "6d25d9f5",
   "metadata": {},
   "outputs": [],
   "source": [
    "# Test sdt.py"
   ]
  },
  {
   "cell_type": "code",
   "execution_count": 39,
   "id": "a93c567b",
   "metadata": {},
   "outputs": [],
   "source": [
    "# Test srg.py"
   ]
  },
  {
   "cell_type": "code",
   "execution_count": 40,
   "id": "923c45f2",
   "metadata": {},
   "outputs": [],
   "source": [
    "# Test tools.py"
   ]
  },
  {
   "cell_type": "code",
   "execution_count": 41,
   "id": "40b1b913",
   "metadata": {},
   "outputs": [],
   "source": [
    "# Test wave_function.py"
   ]
  }
 ],
 "metadata": {
  "kernelspec": {
   "display_name": "Python 3 (ipykernel)",
   "language": "python",
   "name": "python3"
  },
  "language_info": {
   "codemirror_mode": {
    "name": "ipython",
    "version": 3
   },
   "file_extension": ".py",
   "mimetype": "text/x-python",
   "name": "python",
   "nbconvert_exporter": "python",
   "pygments_lexer": "ipython3",
   "version": "3.9.7"
  }
 },
 "nbformat": 4,
 "nbformat_minor": 5
}

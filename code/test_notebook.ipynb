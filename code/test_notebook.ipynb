{
 "cells": [
  {
   "cell_type": "markdown",
   "id": "dc98d802",
   "metadata": {},
   "source": [
    "# Test notebook\n",
    "\n",
    "__A. J. Tropiano [tropiano.4@osu.edu]__<br/>\n",
    "__March 17, 2022__\n",
    "\n",
    "The purpose of this notebook is for testing out code and/or scripts.\n",
    "\n",
    "_Last update: April 20, 2022_"
   ]
  },
  {
   "cell_type": "code",
   "execution_count": 1,
   "id": "b4cd323a",
   "metadata": {},
   "outputs": [],
   "source": [
    "# Python imports\n",
    "from matplotlib.offsetbox import AnchoredText\n",
    "import matplotlib.pyplot as plt\n",
    "%matplotlib inline\n",
    "import numpy as np\n",
    "import time"
   ]
  },
  {
   "cell_type": "code",
   "execution_count": 2,
   "id": "f7d111bc",
   "metadata": {},
   "outputs": [],
   "source": [
    "# Imports from A.T. codes\n",
    "import densities\n",
    "from dmd import Deuteron\n",
    "from momentum_distributions import MomentumDistribution\n",
    "from potentials import Potential\n",
    "# You could import modules but I want a list of scripts here\n",
    "# Check these off the list as you go through Jupyter notebooks generating\n",
    "# figures\n",
    "import modules.a2\n",
    "import modules.figures\n",
    "import modules.fourier_transform\n",
    "from modules.integration import gaussian_quadrature_mesh\n",
    "import modules.labels\n",
    "import modules.long_distance_operators\n",
    "from magnus import Magnus, MagnusSplit\n",
    "import modules.momentum_projection_operator\n",
    "import modules.phase_shifts\n",
    "import modules.sdt\n",
    "from pmd import Pair\n",
    "from snmd import SingleNucleon\n",
    "from srg import SRG, get_transformation\n",
    "import modules.tools\n",
    "import modules.wave_function\n",
    "# add missing ones"
   ]
  },
  {
   "cell_type": "markdown",
   "id": "7c626522",
   "metadata": {},
   "source": [
    "For now let's illustrate the overhaul by testing scripts and showing how to use them."
   ]
  },
  {
   "cell_type": "markdown",
   "id": "1404e7e5",
   "metadata": {},
   "source": [
    "### Testing momentum distributions code"
   ]
  },
  {
   "cell_type": "code",
   "execution_count": 3,
   "id": "840d418e",
   "metadata": {
    "code_folding": [
     0
    ]
   },
   "outputs": [],
   "source": [
    "# # Test default interaction and SRG evolution\n",
    "\n",
    "# kvnn = 6\n",
    "# kmax, kmid, ntot = 15.0, 3.0, 120\n",
    "# channels = ('1S0', '3S1')\n",
    "# generator = 'Wegner'\n",
    "# lamb = 1.35"
   ]
  },
  {
   "cell_type": "code",
   "execution_count": 4,
   "id": "0c4015bb",
   "metadata": {
    "code_folding": [
     0
    ]
   },
   "outputs": [],
   "source": [
    "# # Get momentum values (channel argument doesn't matter here)\n",
    "# potential = Potential(kvnn, '1S0', kmax, kmid, ntot)\n",
    "# q_array, _ = potential.load_mesh()\n",
    "\n",
    "# # Set C.o.M. momentum too\n",
    "# Q_max = 2.0\n",
    "# ntot_Q = 40\n",
    "# Q_array, _ = gaussian_quadrature_mesh(Q_max, ntot_Q)"
   ]
  },
  {
   "cell_type": "code",
   "execution_count": 5,
   "id": "81e9192b",
   "metadata": {
    "code_folding": [
     0
    ]
   },
   "outputs": [],
   "source": [
    "# # Do Ca48 with SLy4 densities\n",
    "\n",
    "# nucleus_name = 'Ca48'\n",
    "# Z, N = 20, 28\n",
    "# density = 'SLY4'"
   ]
  },
  {
   "cell_type": "code",
   "execution_count": 6,
   "id": "842db164",
   "metadata": {
    "code_folding": [
     0
    ]
   },
   "outputs": [],
   "source": [
    "# # Generate new files and compare to old ones\n",
    "# # Single-nucleon matches old data exactly\n",
    "\n",
    "# snmd = SingleNucleon(kvnn, kmax, kmid, ntot, channels, generator, lamb)\n",
    "\n",
    "# for nucleon in ('proton', 'neutron'):\n",
    "    \n",
    "#     t0 = time.time()\n",
    "    \n",
    "#     n_array = snmd.compute_momentum_distribution(\n",
    "#         q_array, nucleon, nucleus_name, Z, N, density, save=True)\n",
    "    \n",
    "#     t1 = time.time()\n",
    "#     mins = (t1-t0)/60\n",
    "#     print(f'Done with {nucleon} after {mins:.2f} minutes.')"
   ]
  },
  {
   "cell_type": "code",
   "execution_count": 7,
   "id": "63b77892",
   "metadata": {
    "code_folding": [
     0
    ]
   },
   "outputs": [],
   "source": [
    "# # Pair matches old data exactly\n",
    "\n",
    "# pmd = Pair(kvnn, kmax, kmid, ntot, channels, generator, lamb)\n",
    "\n",
    "# for pair in ('pn', 'pp', 'nn'):\n",
    "    \n",
    "#     t0 = time.time()\n",
    "            \n",
    "#     # Q > 0\n",
    "#     n_array = pmd.compute_momentum_distribution(\n",
    "#         q_array, Q_array, pair, nucleus_name, Z, N, density, save=True)\n",
    "    \n",
    "#     # Q = 0\n",
    "#     n_Q0_array = pmd.compute_momentum_distribution_Q0(\n",
    "#         q_array, pair, nucleus_name, Z, N, density, save=True)\n",
    "\n",
    "#     t1 = time.time()\n",
    "#     mins = (t1-t0)/60\n",
    "#     print(f'Done with {pair} after {mins:.2f} minutes.')"
   ]
  },
  {
   "cell_type": "code",
   "execution_count": 8,
   "id": "69008c94",
   "metadata": {
    "code_folding": [
     0
    ]
   },
   "outputs": [],
   "source": [
    "# # Deuteron matches old data exactly\n",
    "\n",
    "# dmd = Deuteron(kvnn, kmax, kmid, ntot, generator, lamb)\n",
    "    \n",
    "# t0 = time.time()\n",
    "        \n",
    "# n_array = dmd.compute_momentum_distribution(q_array, save=True)\n",
    "            \n",
    "# t1 = time.time()\n",
    "# mins = (t1-t0)/60\n",
    "        \n",
    "# print(f'Done after {mins:.2f} minutes.')"
   ]
  },
  {
   "cell_type": "markdown",
   "id": "0cece211",
   "metadata": {},
   "source": [
    "### Generate momentum distribution data"
   ]
  },
  {
   "cell_type": "code",
   "execution_count": null,
   "id": "7b7512d7",
   "metadata": {},
   "outputs": [
    {
     "name": "stdout",
     "output_type": "stream",
     "text": [
      "Starting kvnn = 3.\n",
      "Done with deuteron after 0.85 minutes.\n"
     ]
    }
   ],
   "source": [
    "# kvnns = (2, 3, 4, 5, 6, 7, 79, 110, 111, 112, 113, 222, 224)\n",
    "# Note: Each kvnn + Gogny run takes about 2.7 hours\n",
    "kvnns = (3, 4, 5)\n",
    "# kvnns = (6, 7, 79)\n",
    "# kvnns = (110, 111, 112)\n",
    "# kvnns = (113, 222, 224)\n",
    "kmax, kmid, ntot = 15.0, 3.0, 120\n",
    "channels = ('1S0', '3S1')\n",
    "generator = 'Wegner'\n",
    "lamb = 1.35\n",
    "density = 'Gogny'\n",
    "nuclei_gogny = (\n",
    "    ('He4', 2, 2), ('Li7', 3, 4), ('Be9', 4, 5), ('C12', 6, 6), ('O16', 8, 8),\n",
    "    ('Al27', 13, 14), ('Ca40', 20, 20), ('Ca48', 20, 28), ('Ti48', 22, 26),\n",
    "    ('Fe56', 26, 30), ('Cu63', 29, 34), ('Ag107', 47, 60), ('Sn118', 50, 68),\n",
    "    ('Ce140', 58, 82), ('Ta181', 73, 108), ('Au197', 79, 118),\n",
    "    ('Pb208', 82, 126), ('U238', 92, 146)\n",
    ")\n",
    "\n",
    "potential = Potential(6, '1S0', kmax, kmid, ntot)\n",
    "q_array, _ = potential.load_mesh()  # This will be the same in every case\n",
    "\n",
    "# Set C.o.M. momentum too\n",
    "Q_max = 2.0\n",
    "ntot_Q = 40\n",
    "Q_array, _ = gaussian_quadrature_mesh(Q_max, ntot_Q)\n",
    "\n",
    "# Generate files\n",
    "for kvnn in kvnns:\n",
    "    \n",
    "    print(f'Starting kvnn = {kvnn}.')\n",
    "    t0_kvnn = time.time()\n",
    "\n",
    "    dmd = Deuteron(kvnn, kmax, kmid, ntot, generator, lamb)\n",
    "    snmd = SingleNucleon(kvnn, kmax, kmid, ntot, channels, generator, lamb)\n",
    "    pmd = Pair(kvnn, kmax, kmid, ntot, channels, generator, lamb)\n",
    "\n",
    "    # Deuteron first\n",
    "    t0_d = time.time()\n",
    "    n_array = dmd.compute_momentum_distribution(q_array, save=True)   \n",
    "    t1_d = time.time()\n",
    "    mins = (t1_d-t0_d)/60\n",
    "    print(f'Done with deuteron after {mins:.2f} minutes.')\n",
    "    \n",
    "    for nucleus in nuclei_gogny:\n",
    "        \n",
    "        nucleus_name = nucleus[0]\n",
    "        Z = nucleus[1]\n",
    "        N = nucleus[2]\n",
    "        \n",
    "        t0_nucleus = time.time()\n",
    "        \n",
    "        # Single-nucleon\n",
    "        for nucleon in ('proton', 'neutron'):\n",
    "            \n",
    "            n_array = snmd.compute_momentum_distribution(\n",
    "                q_array, nucleon, nucleus_name, Z, N, density, save=True)\n",
    "        \n",
    "        # Pair\n",
    "        for pair in ('pn', 'pp', 'nn'):\n",
    "        \n",
    "            # Q > 0\n",
    "            n_array = pmd.compute_momentum_distribution(\n",
    "                q_array, Q_array, pair, nucleus_name, Z, N, density,\n",
    "                save=True)\n",
    "            # Q = 0\n",
    "            n_Q0_array = pmd.compute_momentum_distribution_Q0(\n",
    "                    q_array, pair, nucleus_name, Z, N, density, save=True)\n",
    "\n",
    "        t1_nucleus = time.time()\n",
    "        mins = (t1_nucleus-t0_nucleus)/60\n",
    "        print(f'Done with {nucleus_name} after {mins:.2f} minutes.')\n",
    "        \n",
    "    t1_kvnn = time.time()\n",
    "    mins = (t1_kvnn-t0_kvnn)/60\n",
    "    print(f'Done with kvnn = {kvnn} after {mins:.2f} minutes.\\n')"
   ]
  },
  {
   "cell_type": "code",
   "execution_count": null,
   "id": "c6413914",
   "metadata": {},
   "outputs": [],
   "source": [
    "# Do additional two densities (SLy4 and VMC) for AV18"
   ]
  },
  {
   "cell_type": "code",
   "execution_count": null,
   "id": "476bd13f",
   "metadata": {},
   "outputs": [],
   "source": [
    "# Do other iterations of channels with AV18 and SLY4"
   ]
  },
  {
   "cell_type": "code",
   "execution_count": null,
   "id": "9f43e6f9",
   "metadata": {},
   "outputs": [],
   "source": [
    "# Do inverse-SRG with \\delta \\lambda = (6, 5.5, ..., 3.5, 3.0) for kvnn and\n",
    "# kvnn_inv pairs of (111, 6), (111, 113), (113, 6), (222, 6)"
   ]
  },
  {
   "cell_type": "code",
   "execution_count": null,
   "id": "e1be1eb0",
   "metadata": {},
   "outputs": [],
   "source": [
    "# Do block-diagonal and \\lambda dependence for AV18 with Gogny density\n",
    "# Don't repeat \\lambda = 1.35 for band-diagonal"
   ]
  },
  {
   "cell_type": "code",
   "execution_count": null,
   "id": "5d1ae9c9",
   "metadata": {},
   "outputs": [],
   "source": []
  },
  {
   "cell_type": "code",
   "execution_count": null,
   "id": "075edcd9",
   "metadata": {},
   "outputs": [],
   "source": []
  },
  {
   "cell_type": "code",
   "execution_count": null,
   "id": "b29dcbe5",
   "metadata": {},
   "outputs": [],
   "source": []
  },
  {
   "cell_type": "code",
   "execution_count": null,
   "id": "cb1f9dbe",
   "metadata": {},
   "outputs": [],
   "source": []
  },
  {
   "cell_type": "code",
   "execution_count": null,
   "id": "70934e18",
   "metadata": {},
   "outputs": [],
   "source": []
  },
  {
   "cell_type": "code",
   "execution_count": null,
   "id": "6d25d9f5",
   "metadata": {},
   "outputs": [],
   "source": []
  },
  {
   "cell_type": "code",
   "execution_count": null,
   "id": "a93c567b",
   "metadata": {},
   "outputs": [],
   "source": []
  },
  {
   "cell_type": "code",
   "execution_count": null,
   "id": "923c45f2",
   "metadata": {},
   "outputs": [],
   "source": []
  },
  {
   "cell_type": "code",
   "execution_count": null,
   "id": "40b1b913",
   "metadata": {},
   "outputs": [],
   "source": []
  }
 ],
 "metadata": {
  "kernelspec": {
   "display_name": "Python 3 (ipykernel)",
   "language": "python",
   "name": "python3"
  },
  "language_info": {
   "codemirror_mode": {
    "name": "ipython",
    "version": 3
   },
   "file_extension": ".py",
   "mimetype": "text/x-python",
   "name": "python",
   "nbconvert_exporter": "python",
   "pygments_lexer": "ipython3",
   "version": "3.9.7"
  }
 },
 "nbformat": 4,
 "nbformat_minor": 5
}

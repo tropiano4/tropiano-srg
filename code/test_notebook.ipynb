{
 "cells": [
  {
   "cell_type": "markdown",
   "id": "dc98d802",
   "metadata": {},
   "source": [
    "# Test notebook\n",
    "\n",
    "__A. J. Tropiano [tropiano.4@osu.edu]__<br/>\n",
    "__March 17, 2022__\n",
    "\n",
    "The purpose of this notebook is for testing out code and/or scripts.\n",
    "\n",
    "_Last update: March 25, 2022_"
   ]
  },
  {
   "cell_type": "code",
   "execution_count": 1,
   "id": "b4cd323a",
   "metadata": {},
   "outputs": [],
   "source": [
    "# Python imports\n",
    "from matplotlib.offsetbox import AnchoredText\n",
    "import matplotlib.pyplot as plt\n",
    "%matplotlib inline\n",
    "import numpy as np\n",
    "import time"
   ]
  },
  {
   "cell_type": "code",
   "execution_count": 2,
   "id": "f7d111bc",
   "metadata": {},
   "outputs": [],
   "source": [
    "# Imports from A.T. codes\n",
    "import densities\n",
    "import momentum_distributions\n",
    "from vnn import Potential\n",
    "# You could import modules but I want a list of scripts here\n",
    "# Check these off the list as you go through Jupyter notebooks generating\n",
    "# figures\n",
    "# import dmd, snmd, pmd\n",
    "import modules.a2\n",
    "import modules.figure_graphics\n",
    "import modules.figure_labels\n",
    "import modules.fourier_transform\n",
    "import modules.integration\n",
    "import modules.long_distance_operators\n",
    "from modules.magnus import Magnus_split\n",
    "import modules.momentum_projection_operator\n",
    "import modules.phase_shifts\n",
    "import modules.sdt\n",
    "from modules.srg import get_transformation\n",
    "import modules.tools\n",
    "import modules.wave_function\n",
    "# add missing ones"
   ]
  },
  {
   "cell_type": "markdown",
   "id": "7c626522",
   "metadata": {},
   "source": [
    "For now let's illustrate the overhaul by testing scripts and showing how to use them."
   ]
  },
  {
   "cell_type": "markdown",
   "id": "20e60b5a",
   "metadata": {},
   "source": [
    "### Test `vnn.py`"
   ]
  },
  {
   "cell_type": "code",
   "execution_count": 3,
   "id": "78f20e3e",
   "metadata": {
    "code_folding": [
     0
    ]
   },
   "outputs": [],
   "source": [
    "# kvnn = 900\n",
    "# channel = '3S1'\n",
    "# kmax, kmid, ntot = 30.0, 4.0, 120"
   ]
  },
  {
   "cell_type": "code",
   "execution_count": 4,
   "id": "9461e005",
   "metadata": {
    "code_folding": [
     0
    ]
   },
   "outputs": [],
   "source": [
    "# # For comparing to old code\n",
    "# from os import getcwd, chdir\n",
    "\n",
    "# cwd = getcwd()\n",
    "# old_code_dir = '../../../tropiano-srg-old'\n",
    "\n",
    "# chdir(old_code_dir)\n",
    "\n",
    "# from run_srg import run_srg as rs_old\n",
    "# from potentials.vsrg_macos import vnn as vnn_old\n",
    "\n",
    "# chdir(cwd)"
   ]
  },
  {
   "cell_type": "code",
   "execution_count": 5,
   "id": "883584d1",
   "metadata": {
    "code_folding": [
     0
    ]
   },
   "outputs": [],
   "source": [
    "# # __init__ (check)\n",
    "\n",
    "# potential = Potential(kvnn, channel, kmax, kmid, ntot)\n",
    "# print(potential.kvnn, potential.coupled_channel_bool, \n",
    "#       potential.potential_directory)"
   ]
  },
  {
   "cell_type": "code",
   "execution_count": 6,
   "id": "5fd02f11",
   "metadata": {
    "code_folding": [
     0
    ],
    "scrolled": true
   },
   "outputs": [],
   "source": [
    "# # load_mesh (check)\n",
    "\n",
    "# k_array, k_weights = potential.load_mesh()\n",
    "# for ik, iw in zip(k_array, k_weights):\n",
    "#     print(ik, iw)"
   ]
  },
  {
   "cell_type": "code",
   "execution_count": 7,
   "id": "f7837d4b",
   "metadata": {
    "code_folding": [
     0
    ]
   },
   "outputs": [],
   "source": [
    "# # load_potential (check)\n",
    "\n",
    "# V_matrix = potential.load_potential()\n",
    "# print(V_matrix)"
   ]
  },
  {
   "cell_type": "code",
   "execution_count": 8,
   "id": "e3ff7df9",
   "metadata": {
    "code_folding": [
     0
    ]
   },
   "outputs": [],
   "source": [
    "# # load_hamiltonian (check)\n",
    "\n",
    "# H_matrix = potential.load_hamiltonian()\n",
    "# print(H_matrix)"
   ]
  },
  {
   "cell_type": "code",
   "execution_count": 9,
   "id": "09af4339",
   "metadata": {
    "code_folding": [
     0
    ]
   },
   "outputs": [],
   "source": [
    "# # Compare to Hamiltonian using vnn.py from tropiano-srg-old (check)\n",
    "\n",
    "# chdir(old_code_dir)\n",
    "\n",
    "# H_matrix_old = vnn_old.load_hamiltonian(kvnn, channel, kmax, kmid, ntot)\n",
    "# print(H_matrix_old)\n",
    "\n",
    "# chdir(cwd)"
   ]
  },
  {
   "cell_type": "markdown",
   "id": "70e9d728",
   "metadata": {},
   "source": [
    "### Test `srg.py`"
   ]
  },
  {
   "cell_type": "code",
   "execution_count": 10,
   "id": "898a5861",
   "metadata": {
    "code_folding": [
     0
    ]
   },
   "outputs": [],
   "source": [
    "# # run_srg for Wegner (check)\n",
    "\n",
    "# generator = 'Wegner'\n",
    "# lambda_array = np.array([6.0, 3.0])\n",
    "\n",
    "# d = potential.run_srg(generator, lambda_array, save=False)\n",
    "# print(d[3.0])"
   ]
  },
  {
   "cell_type": "code",
   "execution_count": 11,
   "id": "b2e02d91",
   "metadata": {
    "code_folding": [
     0
    ]
   },
   "outputs": [],
   "source": [
    "# chdir(old_code_dir)\n",
    "\n",
    "# d_old = rs_old(kvnn, channel, kmax, kmid, ntot, generator, lambda_array,\n",
    "#                save=False)\n",
    "# print(d_old[3.0])\n",
    "\n",
    "# chdir(cwd)"
   ]
  },
  {
   "cell_type": "code",
   "execution_count": 12,
   "id": "969c8c42",
   "metadata": {
    "code_folding": [
     0
    ]
   },
   "outputs": [],
   "source": [
    "# # run_srg for T (check)\n",
    "\n",
    "# generator = 'T'\n",
    "\n",
    "# d = potential.run_srg(generator, lambda_array, save=False)\n",
    "# print(d[3.0])"
   ]
  },
  {
   "cell_type": "code",
   "execution_count": 13,
   "id": "653f190d",
   "metadata": {
    "code_folding": [
     0
    ]
   },
   "outputs": [],
   "source": [
    "# chdir(old_code_dir)\n",
    "\n",
    "# d_old = rs_old(kvnn, channel, kmax, kmid, ntot, generator, lambda_array,\n",
    "#                save=False)\n",
    "# print(d_old[3.0])\n",
    "\n",
    "# chdir(cwd)"
   ]
  },
  {
   "cell_type": "code",
   "execution_count": 14,
   "id": "f2c65186",
   "metadata": {
    "code_folding": [
     0
    ]
   },
   "outputs": [],
   "source": [
    "# # run_srg for Block-diag (check)\n",
    "\n",
    "# generator = 'Block-diag'\n",
    "# lambda_bd_array = np.array([6.0, 3.0])\n",
    "# lambda_array = np.array([1.0])\n",
    "\n",
    "# d = potential.run_srg(generator, lambda_array, lambda_bd_array, save=False)\n",
    "# print(d[3.0][1.0])"
   ]
  },
  {
   "cell_type": "code",
   "execution_count": 15,
   "id": "bba5f45a",
   "metadata": {
    "code_folding": [
     0
    ]
   },
   "outputs": [],
   "source": [
    "# chdir(old_code_dir)\n",
    "\n",
    "# d_old = rs_old(kvnn, channel, kmax, kmid, ntot, generator, lambda_array,\n",
    "#                lambda_bd=lambda_bd_array[-1], save=False)\n",
    "# print(d_old[1.0])\n",
    "\n",
    "# chdir(cwd)"
   ]
  },
  {
   "cell_type": "code",
   "execution_count": 16,
   "id": "2151b92d",
   "metadata": {
    "code_folding": [
     0
    ]
   },
   "outputs": [],
   "source": [
    "# # compare evolved Hamiltonian using get_transformation (check)\n",
    "\n",
    "# H_initial = potential.load_hamiltonian()\n",
    "# H_evolved = potential.load_hamiltonian('srg', 'Wegner', 3.0)\n",
    "# U_matrix = get_transformation(H_initial, H_evolved)\n",
    "# print(U_matrix @ H_initial @ U_matrix.T / potential.hbar_sq_over_m)"
   ]
  },
  {
   "cell_type": "markdown",
   "id": "90963b23",
   "metadata": {},
   "source": [
    "### Test `magnus.py`"
   ]
  },
  {
   "cell_type": "code",
   "execution_count": 17,
   "id": "56df3791",
   "metadata": {},
   "outputs": [],
   "source": [
    "# Might be smart to test a really soft potential here for speed\n",
    "kvnn = 111\n",
    "channel = '1S0'\n",
    "kmax, kmid, ntot = 10.0, 2.0, 120\n",
    "\n",
    "potential = Potential(kvnn, channel, kmax, kmid, ntot)"
   ]
  },
  {
   "cell_type": "code",
   "execution_count": 18,
   "id": "f8ea1e1d",
   "metadata": {},
   "outputs": [],
   "source": [
    "# Do default Magnus arguments\n",
    "k_max = 6\n",
    "ds = 1e-5"
   ]
  },
  {
   "cell_type": "code",
   "execution_count": 19,
   "id": "a70e4a77",
   "metadata": {},
   "outputs": [
    {
     "name": "stdout",
     "output_type": "stream",
     "text": [
      "_____________________________________________________________________________________\n",
      "Done evolving to final \\lambda = 3 fm^-1 after 0.2598 minutes.\n",
      "_____________________________________________________________________________________\n",
      "\n",
      "Specifications:\n",
      "\n",
      "kvnn = 111, channel = 1S0\n",
      "kmax = 10.0, kmid = 2.0, ntot = 120\n",
      "method = Magnus, generator = Wegner\n",
      "k_max = 6, ds = 1.0e-05\n",
      "[[ 6.22375956e-07 -1.22804364e-08 -3.77515109e-08 ...  1.39857228e-17\n",
      "   1.06096159e-17  6.76337279e-18]\n",
      " [-1.22804364e-08  1.72026227e-05 -3.03134970e-07 ...  1.12299839e-16\n",
      "   8.51909433e-17  5.43071523e-17]\n",
      " [-3.77515109e-08 -3.03134970e-07  1.03355206e-04 ...  3.45195338e-16\n",
      "   2.61863961e-16  1.66931291e-16]\n",
      " ...\n",
      " [ 1.39857390e-17  1.12299945e-16  3.45195104e-16 ...  9.91800753e+01\n",
      "  -3.67710342e-03 -2.39840883e-03]\n",
      " [ 1.06096101e-17  8.51909887e-17  2.61864126e-16 ... -3.67710342e-03\n",
      "   9.96645753e+01 -1.92724981e-03]\n",
      " [ 6.76338024e-18  5.43071535e-17  1.66931162e-16 ... -2.39840883e-03\n",
      "  -1.92724981e-03  9.99355553e+01]]\n",
      "_____________________________________________________________________________________\n",
      "Done evolving to final \\lambda = 3 fm^-1 after 0.0146 minutes.\n",
      "_____________________________________________________________________________________\n",
      "\n",
      "Specifications:\n",
      "\n",
      "kvnn = 111, channel = 1S0\n",
      "kmax = 10.0, kmid = 2.0, ntot = 120\n",
      "method = SRG, generator = Wegner\n",
      "[[ 6.22375986e-07 -1.22801978e-08 -3.77507774e-08 ...  3.13297849e-11\n",
      "   2.36357843e-10  5.29613138e-10]\n",
      " [-1.22801978e-08  1.72026246e-05 -3.03129080e-07 ...  2.51556800e-10\n",
      "   1.89779330e-09  4.25243583e-09]\n",
      " [-3.77507774e-08 -3.03129080e-07  1.03355225e-04 ...  7.73108131e-10\n",
      "   5.83249466e-09  1.30690456e-08]\n",
      " ...\n",
      " [ 3.13297849e-11  2.51556800e-10  7.73108131e-10 ...  9.91800752e+01\n",
      "  -3.67715765e-03 -2.39845848e-03]\n",
      " [ 2.36357843e-10  1.89779330e-09  5.83249466e-09 ... -3.67715765e-03\n",
      "   9.96645753e+01 -1.92727267e-03]\n",
      " [ 5.29613138e-10  4.25243583e-09  1.30690456e-08 ... -2.39845848e-03\n",
      "  -1.92727267e-03  9.99355553e+01]]\n"
     ]
    }
   ],
   "source": [
    "# run_magnus for Wegner (check)\n",
    "\n",
    "generator = 'Wegner'\n",
    "lambda_array = np.array([6.0, 3.0])\n",
    "\n",
    "d = potential.run_magnus(generator, lambda_array, k_max=k_max, ds=ds,\n",
    "                         save=False)\n",
    "print(d[3.0])\n",
    "\n",
    "# run_srg for Wegner\n",
    "d = potential.run_srg(generator, lambda_array, save=False)\n",
    "print(d[3.0])"
   ]
  },
  {
   "cell_type": "code",
   "execution_count": 20,
   "id": "9ca21eb8",
   "metadata": {
    "code_folding": [
     0
    ]
   },
   "outputs": [],
   "source": [
    "# # run_magnus for T (check)\n",
    "\n",
    "# generator = 'T'\n",
    "# lambda_array = np.array([6.0, 3.0])\n",
    "\n",
    "# d = potential.run_magnus(generator, lambda_array, k_max=k_max, ds=ds,\n",
    "#                          save=False)\n",
    "# print(d[3.0])\n",
    "\n",
    "# # run_srg for Wegner\n",
    "# d = potential.run_srg(generator, lambda_array, save=False)\n",
    "# print(d[3.0])"
   ]
  },
  {
   "cell_type": "code",
   "execution_count": 21,
   "id": "e901eb7a",
   "metadata": {
    "code_folding": [
     0
    ]
   },
   "outputs": [],
   "source": [
    "# # run_magnus for Block-diag\n",
    "\n",
    "# generator = 'Block-diag'\n",
    "# lambda_bd_array = np.array([6.0, 3.0])\n",
    "# lambda_array = np.array([3.0])\n",
    "\n",
    "# d = potential.run_magnus(generator, lambda_array, lambda_bd_array, \n",
    "#                          k_max=k_max, ds=ds, save=False)\n",
    "# print(d[3.0][3.0])\n",
    "\n",
    "# # run_srg for Block-diag (check)\n",
    "# d = potential.run_srg(generator, lambda_array, lambda_bd_array, save=False)\n",
    "# print(d[3.0][3.0])"
   ]
  },
  {
   "cell_type": "code",
   "execution_count": 22,
   "id": "a7eb375e",
   "metadata": {},
   "outputs": [
    {
     "name": "stdout",
     "output_type": "stream",
     "text": [
      "[[ 6.22375956e-07 -1.22804364e-08 -3.77515109e-08 ...  9.54046070e-30\n",
      "   5.61972023e-30  3.10939731e-30]\n",
      " [-1.22804364e-08  1.72026227e-05 -3.03134970e-07 ...  7.66101049e-29\n",
      "   4.51264747e-29  2.49685275e-29]\n",
      " [-3.77515109e-08 -3.03134970e-07  1.03355206e-04 ...  2.35552883e-28\n",
      "   1.38750253e-28  7.67706665e-29]\n",
      " ...\n",
      " [ 9.54046070e-30  7.66101049e-29  2.35552883e-28 ...  9.91800753e+01\n",
      "  -3.67710342e-03 -2.39840883e-03]\n",
      " [ 5.61972023e-30  4.51264747e-29  1.38750253e-28 ... -3.67710342e-03\n",
      "   9.96645753e+01 -1.92724981e-03]\n",
      " [ 3.10939731e-30  2.49685275e-29  7.67706665e-29 ... -2.39840883e-03\n",
      "  -1.92724981e-03  9.99355553e+01]]\n"
     ]
    }
   ],
   "source": [
    "# Test that Magnus_split at least works (check)\n",
    "\n",
    "generator = 'Wegner'\n",
    "lambda_array = np.array([6.0, 3.0])\n",
    "k_max = 6\n",
    "ds = 1e-5\n",
    "\n",
    "magnus_split = Magnus_split(potential, generator)\n",
    "d = magnus_split.magnus_split_evolve(lambda_array, k_max=k_max, ds=ds)\n",
    "print(d[3.0])"
   ]
  },
  {
   "cell_type": "code",
   "execution_count": 23,
   "id": "c6413914",
   "metadata": {},
   "outputs": [],
   "source": [
    "# Test figure_graphics.py"
   ]
  },
  {
   "cell_type": "code",
   "execution_count": 24,
   "id": "e1be1eb0",
   "metadata": {},
   "outputs": [],
   "source": [
    "# Test figure_labels.py"
   ]
  },
  {
   "cell_type": "code",
   "execution_count": 25,
   "id": "5d1ae9c9",
   "metadata": {},
   "outputs": [],
   "source": [
    "# Test fourier_transform.py"
   ]
  },
  {
   "cell_type": "code",
   "execution_count": 26,
   "id": "075edcd9",
   "metadata": {},
   "outputs": [],
   "source": [
    "# Test integration.py"
   ]
  },
  {
   "cell_type": "code",
   "execution_count": 27,
   "id": "b29dcbe5",
   "metadata": {},
   "outputs": [],
   "source": [
    "# Test long_distance_operators.py"
   ]
  },
  {
   "cell_type": "code",
   "execution_count": 28,
   "id": "cb1f9dbe",
   "metadata": {},
   "outputs": [],
   "source": [
    "# Test momentum_projection_operator.py"
   ]
  },
  {
   "cell_type": "code",
   "execution_count": 29,
   "id": "70934e18",
   "metadata": {},
   "outputs": [],
   "source": [
    "# Test phase_shifts.py"
   ]
  },
  {
   "cell_type": "code",
   "execution_count": 30,
   "id": "6d25d9f5",
   "metadata": {},
   "outputs": [],
   "source": [
    "# Test sdt.py"
   ]
  },
  {
   "cell_type": "code",
   "execution_count": 31,
   "id": "a93c567b",
   "metadata": {},
   "outputs": [],
   "source": [
    "# Test srg.py"
   ]
  },
  {
   "cell_type": "code",
   "execution_count": 32,
   "id": "923c45f2",
   "metadata": {},
   "outputs": [],
   "source": [
    "# Test tools.py"
   ]
  },
  {
   "cell_type": "code",
   "execution_count": 33,
   "id": "40b1b913",
   "metadata": {},
   "outputs": [],
   "source": [
    "# Test wave_function.py"
   ]
  }
 ],
 "metadata": {
  "kernelspec": {
   "display_name": "Python 3 (ipykernel)",
   "language": "python",
   "name": "python3"
  },
  "language_info": {
   "codemirror_mode": {
    "name": "ipython",
    "version": 3
   },
   "file_extension": ".py",
   "mimetype": "text/x-python",
   "name": "python",
   "nbconvert_exporter": "python",
   "pygments_lexer": "ipython3",
   "version": "3.9.7"
  }
 },
 "nbformat": 4,
 "nbformat_minor": 5
}

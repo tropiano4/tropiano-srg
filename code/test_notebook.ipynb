{
 "cells": [
  {
   "cell_type": "markdown",
   "id": "dc98d802",
   "metadata": {},
   "source": [
    "# Test notebook\n",
    "\n",
    "__A. J. Tropiano [tropiano.4@osu.edu]__<br/>\n",
    "__March 17, 2022__\n",
    "\n",
    "The purpose of this notebook is for testing out code and/or scripts.\n",
    "\n",
    "_Last update: April 1, 2022_"
   ]
  },
  {
   "cell_type": "code",
   "execution_count": 1,
   "id": "b4cd323a",
   "metadata": {},
   "outputs": [],
   "source": [
    "# Python imports\n",
    "from matplotlib.offsetbox import AnchoredText\n",
    "import matplotlib.pyplot as plt\n",
    "%matplotlib inline\n",
    "import numpy as np\n",
    "import time"
   ]
  },
  {
   "cell_type": "code",
   "execution_count": 2,
   "id": "f7d111bc",
   "metadata": {},
   "outputs": [],
   "source": [
    "# Imports from A.T. codes\n",
    "import densities\n",
    "from momentum_distributions import MomentumDistributions\n",
    "from vnn import Potential\n",
    "# You could import modules but I want a list of scripts here\n",
    "# Check these off the list as you go through Jupyter notebooks generating\n",
    "# figures\n",
    "# import dmd, snmd, pmd\n",
    "import modules.a2\n",
    "import modules.figures\n",
    "import modules.fourier_transform\n",
    "import modules.integration\n",
    "import modules.labels\n",
    "import modules.long_distance_operators\n",
    "from modules.magnus import Magnus_split\n",
    "import modules.momentum_projection_operator\n",
    "import modules.phase_shifts\n",
    "import modules.sdt\n",
    "from modules.srg import get_transformation\n",
    "import modules.tools\n",
    "import modules.wave_function\n",
    "# add missing ones"
   ]
  },
  {
   "cell_type": "markdown",
   "id": "7c626522",
   "metadata": {},
   "source": [
    "For now let's illustrate the overhaul by testing scripts and showing how to use them."
   ]
  },
  {
   "cell_type": "markdown",
   "id": "20e60b5a",
   "metadata": {},
   "source": [
    "### Test `vnn.py`"
   ]
  },
  {
   "cell_type": "code",
   "execution_count": null,
   "id": "78f20e3e",
   "metadata": {
    "code_folding": [
     0
    ]
   },
   "outputs": [],
   "source": [
    "# kvnn = 900\n",
    "# channel = '3S1'\n",
    "# kmax, kmid, ntot = 30.0, 4.0, 120"
   ]
  },
  {
   "cell_type": "code",
   "execution_count": 3,
   "id": "9461e005",
   "metadata": {
    "code_folding": []
   },
   "outputs": [],
   "source": [
    "# For comparing to old code\n",
    "from os import getcwd, chdir\n",
    "\n",
    "cwd = getcwd()\n",
    "old_code_dir = '../../../tropiano-srg-old'\n",
    "\n",
    "chdir(old_code_dir)\n",
    "\n",
    "from run_srg import run_srg as rs_old\n",
    "from potentials.vsrg_macos import vnn as vnn_old\n",
    "from snmd import single_nucleon_momentum_distributions\n",
    "from pmd import pair_momentum_distributions\n",
    "from dmd import deuteron_momentum_distributions\n",
    "\n",
    "chdir(cwd)"
   ]
  },
  {
   "cell_type": "code",
   "execution_count": null,
   "id": "883584d1",
   "metadata": {
    "code_folding": [
     0
    ]
   },
   "outputs": [],
   "source": [
    "# # __init__ (check)\n",
    "\n",
    "# potential = Potential(kvnn, channel, kmax, kmid, ntot)\n",
    "# print(potential.kvnn, potential.coupled_channel_bool, \n",
    "#       potential.potential_directory)"
   ]
  },
  {
   "cell_type": "code",
   "execution_count": null,
   "id": "5fd02f11",
   "metadata": {
    "code_folding": [
     0
    ],
    "scrolled": true
   },
   "outputs": [],
   "source": [
    "# # load_mesh (check)\n",
    "\n",
    "# k_array, k_weights = potential.load_mesh()\n",
    "# for ik, iw in zip(k_array, k_weights):\n",
    "#     print(ik, iw)"
   ]
  },
  {
   "cell_type": "code",
   "execution_count": null,
   "id": "f7837d4b",
   "metadata": {
    "code_folding": [
     0
    ]
   },
   "outputs": [],
   "source": [
    "# # load_potential (check)\n",
    "\n",
    "# V_matrix = potential.load_potential()\n",
    "# print(V_matrix)"
   ]
  },
  {
   "cell_type": "code",
   "execution_count": null,
   "id": "e3ff7df9",
   "metadata": {
    "code_folding": [
     0
    ]
   },
   "outputs": [],
   "source": [
    "# # load_hamiltonian (check)\n",
    "\n",
    "# H_matrix = potential.load_hamiltonian()\n",
    "# print(H_matrix)"
   ]
  },
  {
   "cell_type": "code",
   "execution_count": null,
   "id": "09af4339",
   "metadata": {
    "code_folding": [
     0
    ]
   },
   "outputs": [],
   "source": [
    "# # Compare to Hamiltonian using vnn.py from tropiano-srg-old (check)\n",
    "\n",
    "# chdir(old_code_dir)\n",
    "\n",
    "# H_matrix_old = vnn_old.load_hamiltonian(kvnn, channel, kmax, kmid, ntot)\n",
    "# print(H_matrix_old)\n",
    "\n",
    "# chdir(cwd)"
   ]
  },
  {
   "cell_type": "markdown",
   "id": "70e9d728",
   "metadata": {},
   "source": [
    "### Test `srg.py`"
   ]
  },
  {
   "cell_type": "code",
   "execution_count": null,
   "id": "898a5861",
   "metadata": {
    "code_folding": [
     0
    ]
   },
   "outputs": [],
   "source": [
    "# # run_srg for Wegner (check)\n",
    "\n",
    "# generator = 'Wegner'\n",
    "# lambda_array = np.array([6.0, 3.0])\n",
    "\n",
    "# d = potential.run_srg(generator, lambda_array, save=False)\n",
    "# print(d[3.0])"
   ]
  },
  {
   "cell_type": "code",
   "execution_count": null,
   "id": "b2e02d91",
   "metadata": {
    "code_folding": [
     0
    ]
   },
   "outputs": [],
   "source": [
    "# chdir(old_code_dir)\n",
    "\n",
    "# d_old = rs_old(kvnn, channel, kmax, kmid, ntot, generator, lambda_array,\n",
    "#                save=False)\n",
    "# print(d_old[3.0])\n",
    "\n",
    "# chdir(cwd)"
   ]
  },
  {
   "cell_type": "code",
   "execution_count": null,
   "id": "969c8c42",
   "metadata": {
    "code_folding": [
     0
    ]
   },
   "outputs": [],
   "source": [
    "# # run_srg for T (check)\n",
    "\n",
    "# generator = 'T'\n",
    "\n",
    "# d = potential.run_srg(generator, lambda_array, save=False)\n",
    "# print(d[3.0])"
   ]
  },
  {
   "cell_type": "code",
   "execution_count": null,
   "id": "653f190d",
   "metadata": {
    "code_folding": [
     0
    ]
   },
   "outputs": [],
   "source": [
    "# chdir(old_code_dir)\n",
    "\n",
    "# d_old = rs_old(kvnn, channel, kmax, kmid, ntot, generator, lambda_array,\n",
    "#                save=False)\n",
    "# print(d_old[3.0])\n",
    "\n",
    "# chdir(cwd)"
   ]
  },
  {
   "cell_type": "code",
   "execution_count": null,
   "id": "f2c65186",
   "metadata": {
    "code_folding": [
     0
    ]
   },
   "outputs": [],
   "source": [
    "# # run_srg for Block-diag (check)\n",
    "\n",
    "# generator = 'Block-diag'\n",
    "# lambda_bd_array = np.array([6.0, 3.0])\n",
    "# lambda_array = np.array([1.0])\n",
    "\n",
    "# d = potential.run_srg(generator, lambda_array, lambda_bd_array, save=False)\n",
    "# print(d[3.0][1.0])"
   ]
  },
  {
   "cell_type": "code",
   "execution_count": null,
   "id": "bba5f45a",
   "metadata": {
    "code_folding": [
     0
    ]
   },
   "outputs": [],
   "source": [
    "# chdir(old_code_dir)\n",
    "\n",
    "# d_old = rs_old(kvnn, channel, kmax, kmid, ntot, generator, lambda_array,\n",
    "#                lambda_bd=lambda_bd_array[-1], save=False)\n",
    "# print(d_old[1.0])\n",
    "\n",
    "# chdir(cwd)"
   ]
  },
  {
   "cell_type": "code",
   "execution_count": null,
   "id": "2151b92d",
   "metadata": {
    "code_folding": [
     0
    ]
   },
   "outputs": [],
   "source": [
    "# # compare evolved Hamiltonian using get_transformation (check)\n",
    "\n",
    "# H_initial = potential.load_hamiltonian()\n",
    "# H_evolved = potential.load_hamiltonian('srg', 'Wegner', 3.0)\n",
    "# U_matrix = get_transformation(H_initial, H_evolved)\n",
    "# print(U_matrix @ H_initial @ U_matrix.T / potential.hbar_sq_over_m)"
   ]
  },
  {
   "cell_type": "markdown",
   "id": "90963b23",
   "metadata": {},
   "source": [
    "### Test `magnus.py`"
   ]
  },
  {
   "cell_type": "code",
   "execution_count": null,
   "id": "56df3791",
   "metadata": {
    "code_folding": [
     0
    ]
   },
   "outputs": [],
   "source": [
    "# # Might be smart to test a really soft potential here for speed\n",
    "# kvnn = 111\n",
    "# channel = '1S0'\n",
    "# kmax, kmid, ntot = 10.0, 2.0, 120\n",
    "\n",
    "# potential = Potential(kvnn, channel, kmax, kmid, ntot)"
   ]
  },
  {
   "cell_type": "code",
   "execution_count": null,
   "id": "f8ea1e1d",
   "metadata": {
    "code_folding": [
     0
    ]
   },
   "outputs": [],
   "source": [
    "# # Do default Magnus arguments\n",
    "# k_max = 6\n",
    "# ds = 1e-5"
   ]
  },
  {
   "cell_type": "code",
   "execution_count": null,
   "id": "a70e4a77",
   "metadata": {
    "code_folding": [
     0
    ]
   },
   "outputs": [],
   "source": [
    "# # run_magnus for Wegner (check)\n",
    "\n",
    "# generator = 'Wegner'\n",
    "# lambda_array = np.array([6.0, 3.0])\n",
    "\n",
    "# d = potential.run_magnus(generator, lambda_array, k_max=k_max, ds=ds,\n",
    "#                          save=False)\n",
    "# print(d[3.0])\n",
    "\n",
    "# # run_srg for Wegner\n",
    "# d = potential.run_srg(generator, lambda_array, save=False)\n",
    "# print(d[3.0])"
   ]
  },
  {
   "cell_type": "code",
   "execution_count": null,
   "id": "9ca21eb8",
   "metadata": {
    "code_folding": [
     0
    ]
   },
   "outputs": [],
   "source": [
    "# # run_magnus for T (check)\n",
    "\n",
    "# generator = 'T'\n",
    "# lambda_array = np.array([6.0, 3.0])\n",
    "\n",
    "# d = potential.run_magnus(generator, lambda_array, k_max=k_max, ds=ds,\n",
    "#                          save=False)\n",
    "# print(d[3.0])\n",
    "\n",
    "# # run_srg for Wegner\n",
    "# d = potential.run_srg(generator, lambda_array, save=False)\n",
    "# print(d[3.0])"
   ]
  },
  {
   "cell_type": "code",
   "execution_count": null,
   "id": "e901eb7a",
   "metadata": {
    "code_folding": [
     0
    ]
   },
   "outputs": [],
   "source": [
    "# # run_magnus for Block-diag\n",
    "\n",
    "# generator = 'Block-diag'\n",
    "# lambda_bd_array = np.array([6.0, 3.0])\n",
    "# lambda_array = np.array([3.0])\n",
    "\n",
    "# d = potential.run_magnus(generator, lambda_array, lambda_bd_array, \n",
    "#                          k_max=k_max, ds=ds, save=False)\n",
    "# print(d[3.0][3.0])\n",
    "\n",
    "# # run_srg for Block-diag (check)\n",
    "# d = potential.run_srg(generator, lambda_array, lambda_bd_array, save=False)\n",
    "# print(d[3.0][3.0])"
   ]
  },
  {
   "cell_type": "code",
   "execution_count": null,
   "id": "a7eb375e",
   "metadata": {
    "code_folding": [
     0
    ]
   },
   "outputs": [],
   "source": [
    "# # Test that Magnus_split at least works (check)\n",
    "\n",
    "# generator = 'Wegner'\n",
    "# lambda_array = np.array([6.0, 3.0])\n",
    "# k_max = 6\n",
    "# ds = 1e-5\n",
    "\n",
    "# magnus_split = Magnus_split(potential, generator)\n",
    "# d = magnus_split.magnus_split_evolve(lambda_array, k_max=k_max, ds=ds)\n",
    "# print(d[3.0])"
   ]
  },
  {
   "cell_type": "markdown",
   "id": "1404e7e5",
   "metadata": {},
   "source": [
    "### Testing momentum distributions code"
   ]
  },
  {
   "cell_type": "code",
   "execution_count": 4,
   "id": "840d418e",
   "metadata": {},
   "outputs": [],
   "source": [
    "# kvnn = 6\n",
    "# kmax, kmid, ntot = 15.0, 3.0, 120\n",
    "kvnn = 111\n",
    "kmax, kmid, ntot = 10.0, 2.0, 120\n",
    "channels = ('1S0', '3S1')\n",
    "generator = 'Wegner'\n",
    "lamb = 1.5"
   ]
  },
  {
   "cell_type": "code",
   "execution_count": 5,
   "id": "aefe0f04",
   "metadata": {},
   "outputs": [
    {
     "name": "stdout",
     "output_type": "stream",
     "text": [
      "[[-1.71605041e-02  3.56553624e+02  5.61839838e+01 ...  2.43823509e-06\n",
      "   2.31015997e-06  5.65828738e-07]\n",
      " [-3.56581559e+02 -1.41440188e-02  6.48341599e+01 ...  2.43787829e-06\n",
      "   2.30981982e-06  5.67278256e-07]\n",
      " [-5.62090640e+01 -6.48604344e+01 -1.33295764e-02 ...  2.43740163e-06\n",
      "   2.30935453e-06  5.76054818e-07]\n",
      " ...\n",
      " [-2.99155373e-06 -2.99156423e-06 -2.99161875e-06 ... -3.65329715e-06\n",
      "   2.25681072e-04  3.41614727e-04]\n",
      " [-2.88302365e-06 -2.88303105e-06 -2.88306998e-06 ... -2.32730761e-04\n",
      "  -3.55246981e-06  1.25995888e-04]\n",
      " [-1.14992723e-06 -1.15167084e-06 -1.16087990e-06 ... -3.48444236e-04\n",
      "  -1.33034690e-04 -3.52572419e-06]]\n",
      "[[-1.89494541e-01  3.68085747e+02  5.84289711e+01 ...  5.87256028e-06\n",
      "   5.64686128e-06  1.29319167e-05]\n",
      " [-3.68444746e+02 -1.79641270e-01  6.88255034e+01 ...  5.87239262e-06\n",
      "   5.64668278e-06  1.29232128e-05]\n",
      " [-5.87859774e+01 -6.91833639e+01 -1.79076147e-01 ...  5.87203597e-06\n",
      "   5.64624315e-06  1.28785738e-05]\n",
      " ...\n",
      " [-4.93303689e-06 -4.93304821e-06 -4.93310695e-06 ... -1.65097920e-05\n",
      "   3.70313034e-04  5.65919024e-04]\n",
      " [-4.76223974e-06 -4.76223001e-06 -4.76218138e-06 ... -4.02177301e-04\n",
      "  -1.60629108e-05  2.02056342e-04]\n",
      " [-1.20730735e-05 -1.20645303e-05 -1.20202741e-05 ... -5.96782210e-04\n",
      "  -2.33882712e-04 -1.59436055e-05]]\n"
     ]
    }
   ],
   "source": [
    "# This works comparing to old snmd.py and pmd.py\n",
    "md = MomentumDistributions(kvnn, kmax, kmid, ntot)\n",
    "md.save_deltaU_funcs(channels, generator, lamb)"
   ]
  },
  {
   "cell_type": "code",
   "execution_count": 6,
   "id": "1cf5f721",
   "metadata": {
    "code_folding": []
   },
   "outputs": [
    {
     "name": "stdout",
     "output_type": "stream",
     "text": [
      "[[-1.71602283e-02  3.56553563e+02  5.61839746e+01 ...  2.43823506e-06\n",
      "   2.31016000e-06  5.65828753e-07]\n",
      " [-3.56581498e+02 -1.41440231e-02  6.48337920e+01 ...  2.43787896e-06\n",
      "   2.30981962e-06  5.67277204e-07]\n",
      " [-5.62090549e+01 -6.48600664e+01 -1.33295762e-02 ...  2.43740180e-06\n",
      "   2.30935449e-06  5.76054800e-07]\n",
      " ...\n",
      " [-2.99155372e-06 -2.99156397e-06 -2.99161882e-06 ... -3.65329715e-06\n",
      "   2.25681072e-04  3.41614727e-04]\n",
      " [-2.88302362e-06 -2.88303146e-06 -2.88307013e-06 ... -2.32730761e-04\n",
      "  -3.55246981e-06  1.25995888e-04]\n",
      " [-1.14992725e-06 -1.15167122e-06 -1.16088001e-06 ... -3.48444236e-04\n",
      "  -1.33034690e-04 -3.52572420e-06]]\n",
      "[[-1.89565979e-01  3.68085793e+02  5.84289667e+01 ...  5.87256026e-06\n",
      "   5.64686129e-06  1.29319167e-05]\n",
      " [-3.68444793e+02 -1.79641276e-01  6.88252409e+01 ...  5.87239243e-06\n",
      "   5.64668255e-06  1.29232127e-05]\n",
      " [-5.87859730e+01 -6.91831014e+01 -1.79076148e-01 ...  5.87203594e-06\n",
      "   5.64624309e-06  1.28785739e-05]\n",
      " ...\n",
      " [-4.93303687e-06 -4.93304780e-06 -4.93310697e-06 ... -1.65097920e-05\n",
      "   3.70313034e-04  5.65919024e-04]\n",
      " [-4.76223974e-06 -4.76223088e-06 -4.76218156e-06 ... -4.02177301e-04\n",
      "  -1.60629108e-05  2.02056342e-04]\n",
      " [-1.20730736e-05 -1.20645312e-05 -1.20202743e-05 ... -5.96782209e-04\n",
      "  -2.33882712e-04 -1.59436055e-05]]\n"
     ]
    }
   ],
   "source": [
    "chdir(old_code_dir)\n",
    "snmd = single_nucleon_momentum_distributions(kvnn, channels, lamb, kmax, kmid,\n",
    "                                             ntot)\n",
    "chdir(cwd)"
   ]
  },
  {
   "cell_type": "code",
   "execution_count": 7,
   "id": "8abf074f",
   "metadata": {},
   "outputs": [
    {
     "name": "stdout",
     "output_type": "stream",
     "text": [
      "[[-6.29080344e-02  6.32618375e+01  1.01126214e+01 ...  1.55116836e-06\n",
      "   1.49728071e-06  4.21635510e-06]\n",
      " [-6.33768482e+01 -5.75230870e-02  1.21360100e+01 ...  1.55115079e-06\n",
      "   1.49725732e-06  4.21321829e-06]\n",
      " [-1.02274434e+01 -1.22509178e+01 -5.74704551e-02 ...  1.55110877e-06\n",
      "   1.49718598e-06  4.19701008e-06]\n",
      " ...\n",
      " [-1.14575335e-06 -1.14575539e-06 -1.14576579e-06 ... -7.93162990e-06\n",
      "   4.68792278e-05  7.48166088e-05]\n",
      " [-1.10690933e-06 -1.10690491e-06 -1.10688245e-06 ... -6.21480030e-05\n",
      "  -7.70756617e-06  2.30456466e-05]\n",
      " [-3.83271130e-06 -3.82959237e-06 -3.81344213e-06 ... -8.95698209e-05\n",
      "  -3.83103360e-05 -7.65048185e-06]]\n"
     ]
    }
   ],
   "source": [
    "md.save_deuteron_deltaU_funcs(generator, lamb)"
   ]
  },
  {
   "cell_type": "code",
   "execution_count": 8,
   "id": "af779295",
   "metadata": {},
   "outputs": [
    {
     "name": "stdout",
     "output_type": "stream",
     "text": [
      "[[-6.29549930e-02  6.32691774e+01  1.01121699e+01 ...  1.55116845e-06\n",
      "   1.49728080e-06  4.21635520e-06]\n",
      " [-6.33841882e+01 -5.75230838e-02  1.21361208e+01 ...  1.55115061e-06\n",
      "   1.49725727e-06  4.21321840e-06]\n",
      " [-1.02269920e+01 -1.22510286e+01 -5.74704549e-02 ...  1.55110874e-06\n",
      "   1.49718597e-06  4.19701013e-06]\n",
      " ...\n",
      " [-1.14575335e-06 -1.14575530e-06 -1.14576579e-06 ... -7.93162990e-06\n",
      "   4.68792278e-05  7.48166088e-05]\n",
      " [-1.10690933e-06 -1.10690514e-06 -1.10688249e-06 ... -6.21480030e-05\n",
      "  -7.70756617e-06  2.30456467e-05]\n",
      " [-3.83271136e-06 -3.82959260e-06 -3.81344218e-06 ... -8.95698209e-05\n",
      "  -3.83103361e-05 -7.65048185e-06]]\n"
     ]
    }
   ],
   "source": [
    "chdir(old_code_dir)\n",
    "dmd = deuteron_momentum_distributions(kvnn, lamb, kmax, kmid, ntot)\n",
    "chdir(cwd)"
   ]
  },
  {
   "cell_type": "code",
   "execution_count": null,
   "id": "bd124244",
   "metadata": {},
   "outputs": [],
   "source": []
  },
  {
   "cell_type": "code",
   "execution_count": null,
   "id": "7f5f28c2",
   "metadata": {},
   "outputs": [],
   "source": []
  },
  {
   "cell_type": "code",
   "execution_count": null,
   "id": "134cb837",
   "metadata": {},
   "outputs": [],
   "source": []
  },
  {
   "cell_type": "code",
   "execution_count": null,
   "id": "c6413914",
   "metadata": {},
   "outputs": [],
   "source": [
    "# Test figure_graphics.py"
   ]
  },
  {
   "cell_type": "code",
   "execution_count": null,
   "id": "e1be1eb0",
   "metadata": {},
   "outputs": [],
   "source": [
    "# Test figure_labels.py"
   ]
  },
  {
   "cell_type": "code",
   "execution_count": null,
   "id": "5d1ae9c9",
   "metadata": {},
   "outputs": [],
   "source": [
    "# Test fourier_transform.py"
   ]
  },
  {
   "cell_type": "code",
   "execution_count": null,
   "id": "075edcd9",
   "metadata": {},
   "outputs": [],
   "source": [
    "# Test integration.py"
   ]
  },
  {
   "cell_type": "code",
   "execution_count": null,
   "id": "b29dcbe5",
   "metadata": {},
   "outputs": [],
   "source": [
    "# Test long_distance_operators.py"
   ]
  },
  {
   "cell_type": "code",
   "execution_count": null,
   "id": "cb1f9dbe",
   "metadata": {},
   "outputs": [],
   "source": [
    "# Test momentum_projection_operator.py"
   ]
  },
  {
   "cell_type": "code",
   "execution_count": null,
   "id": "70934e18",
   "metadata": {},
   "outputs": [],
   "source": [
    "# Test phase_shifts.py"
   ]
  },
  {
   "cell_type": "code",
   "execution_count": null,
   "id": "6d25d9f5",
   "metadata": {},
   "outputs": [],
   "source": [
    "# Test sdt.py"
   ]
  },
  {
   "cell_type": "code",
   "execution_count": null,
   "id": "a93c567b",
   "metadata": {},
   "outputs": [],
   "source": [
    "# Test srg.py"
   ]
  },
  {
   "cell_type": "code",
   "execution_count": null,
   "id": "923c45f2",
   "metadata": {},
   "outputs": [],
   "source": [
    "# Test tools.py"
   ]
  },
  {
   "cell_type": "code",
   "execution_count": null,
   "id": "40b1b913",
   "metadata": {},
   "outputs": [],
   "source": [
    "# Test wave_function.py"
   ]
  }
 ],
 "metadata": {
  "kernelspec": {
   "display_name": "Python 3 (ipykernel)",
   "language": "python",
   "name": "python3"
  },
  "language_info": {
   "codemirror_mode": {
    "name": "ipython",
    "version": 3
   },
   "file_extension": ".py",
   "mimetype": "text/x-python",
   "name": "python",
   "nbconvert_exporter": "python",
   "pygments_lexer": "ipython3",
   "version": "3.9.7"
  }
 },
 "nbformat": 4,
 "nbformat_minor": 5
}

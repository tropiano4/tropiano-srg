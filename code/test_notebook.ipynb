{
 "cells": [
  {
   "cell_type": "markdown",
   "id": "dc98d802",
   "metadata": {},
   "source": [
    "# Test notebook\n",
    "\n",
    "__A. J. Tropiano [tropiano.4@osu.edu]__<br/>\n",
    "__March 17, 2022__\n",
    "\n",
    "The purpose of this notebook is for testing out code and/or scripts.\n",
    "\n",
    "_Last update: April 8, 2022_"
   ]
  },
  {
   "cell_type": "code",
   "execution_count": 1,
   "id": "b4cd323a",
   "metadata": {},
   "outputs": [],
   "source": [
    "# Python imports\n",
    "from matplotlib.offsetbox import AnchoredText\n",
    "import matplotlib.pyplot as plt\n",
    "%matplotlib inline\n",
    "import numpy as np\n",
    "import time"
   ]
  },
  {
   "cell_type": "code",
   "execution_count": 2,
   "id": "f7d111bc",
   "metadata": {},
   "outputs": [],
   "source": [
    "# Imports from A.T. codes\n",
    "import densities\n",
    "from momentum_distributions import MomentumDistribution\n",
    "from potentials import Potential\n",
    "# You could import modules but I want a list of scripts here\n",
    "# Check these off the list as you go through Jupyter notebooks generating\n",
    "# figures\n",
    "# import dmd, snmd, pmd\n",
    "import modules.a2\n",
    "import modules.figures\n",
    "import modules.fourier_transform\n",
    "import modules.integration\n",
    "import modules.labels\n",
    "import modules.long_distance_operators\n",
    "from magnus import Magnus, MagnusSplit\n",
    "import modules.momentum_projection_operator\n",
    "import modules.phase_shifts\n",
    "import modules.sdt\n",
    "from srg import SRG, get_transformation\n",
    "import modules.tools\n",
    "import modules.wave_function\n",
    "# add missing ones"
   ]
  },
  {
   "cell_type": "markdown",
   "id": "7c626522",
   "metadata": {},
   "source": [
    "For now let's illustrate the overhaul by testing scripts and showing how to use them."
   ]
  },
  {
   "cell_type": "markdown",
   "id": "20e60b5a",
   "metadata": {},
   "source": [
    "### Test `vnn.py`"
   ]
  },
  {
   "cell_type": "code",
   "execution_count": 3,
   "id": "78f20e3e",
   "metadata": {
    "code_folding": []
   },
   "outputs": [],
   "source": [
    "kvnn = 900\n",
    "channel = '3S1'\n",
    "kmax, kmid, ntot = 30.0, 4.0, 120"
   ]
  },
  {
   "cell_type": "code",
   "execution_count": 4,
   "id": "883584d1",
   "metadata": {
    "code_folding": []
   },
   "outputs": [
    {
     "name": "stdout",
     "output_type": "stream",
     "text": [
      "900 True ../potentials/vsrg_macos/vsrg_kvnn_900_lam12.0_kmax30_kmid4_ntot120/\n"
     ]
    }
   ],
   "source": [
    "# __init__ (check)\n",
    "\n",
    "potential = Potential(kvnn, channel, kmax, kmid, ntot)\n",
    "print(potential.kvnn, potential.coupled_channel_bool, \n",
    "      potential.potential_directory)"
   ]
  },
  {
   "cell_type": "code",
   "execution_count": 5,
   "id": "5fd02f11",
   "metadata": {
    "code_folding": [],
    "scrolled": true
   },
   "outputs": [],
   "source": [
    "# load_mesh (check)\n",
    "\n",
    "k_array, k_weights = potential.load_mesh()"
   ]
  },
  {
   "cell_type": "code",
   "execution_count": 6,
   "id": "f7837d4b",
   "metadata": {
    "code_folding": []
   },
   "outputs": [],
   "source": [
    "# load_potential (check)\n",
    "\n",
    "V_matrix = potential.load_potential()"
   ]
  },
  {
   "cell_type": "code",
   "execution_count": 7,
   "id": "e3ff7df9",
   "metadata": {
    "code_folding": []
   },
   "outputs": [],
   "source": [
    "# load_hamiltonian (check)\n",
    "\n",
    "H_matrix = potential.load_hamiltonian()"
   ]
  },
  {
   "cell_type": "markdown",
   "id": "70e9d728",
   "metadata": {},
   "source": [
    "### Test `srg.py`"
   ]
  },
  {
   "cell_type": "code",
   "execution_count": 8,
   "id": "898a5861",
   "metadata": {
    "code_folding": []
   },
   "outputs": [
    {
     "name": "stdout",
     "output_type": "stream",
     "text": [
      "_____________________________________________________________________________________\n",
      "Done evolving to final \\lambda = 3 fm^-1 after 0.0035 minutes.\n",
      "_____________________________________________________________________________________\n",
      "\n",
      "Specifications:\n",
      "\n",
      "kvnn = 900, channel = 3S1\n",
      "kmax = 30.0, kmid = 4.0, ntot = 120\n",
      "method = SRG, generator = Wegner\n"
     ]
    }
   ],
   "source": [
    "# run_srg for Wegner (check)\n",
    "\n",
    "generator = 'Wegner'\n",
    "srg = SRG(kvnn, channel, kmax, kmid, ntot, generator)\n",
    "lambda_array = np.array([3.0])\n",
    "d = srg.srg_evolve(lambda_array, save=True)"
   ]
  },
  {
   "cell_type": "code",
   "execution_count": 9,
   "id": "969c8c42",
   "metadata": {
    "code_folding": []
   },
   "outputs": [
    {
     "name": "stdout",
     "output_type": "stream",
     "text": [
      "_____________________________________________________________________________________\n",
      "Done evolving to final \\lambda = 3 fm^-1 after 0.0033 minutes.\n",
      "_____________________________________________________________________________________\n",
      "\n",
      "Specifications:\n",
      "\n",
      "kvnn = 900, channel = 3S1\n",
      "kmax = 30.0, kmid = 4.0, ntot = 120\n",
      "method = SRG, generator = T\n"
     ]
    }
   ],
   "source": [
    "# run_srg for T (check)\n",
    "\n",
    "generator = 'T'\n",
    "srg = SRG(kvnn, channel, kmax, kmid, ntot, generator)\n",
    "d = srg.srg_evolve(lambda_array, save=True)"
   ]
  },
  {
   "cell_type": "code",
   "execution_count": 10,
   "id": "f2c65186",
   "metadata": {
    "code_folding": []
   },
   "outputs": [
    {
     "name": "stdout",
     "output_type": "stream",
     "text": [
      "_____________________________________________________________________________________\n",
      "Done evolving to final \\lambda = 1 fm^-1 after 0.3994 minutes.\n",
      "_____________________________________________________________________________________\n",
      "\n",
      "Specifications:\n",
      "\n",
      "kvnn = 900, channel = 3S1\n",
      "kmax = 30.0, kmid = 4.0, ntot = 120\n",
      "method = SRG, generator = Block-diag\n",
      "Final \\Lambda_BD = 3 fm^-1\n"
     ]
    }
   ],
   "source": [
    "# run_srg for Block-diag (check)\n",
    "\n",
    "generator = 'Block-diag'\n",
    "lambda_bd_array = np.array([3.0])\n",
    "lambda_array = np.array([1.0])\n",
    "srg = SRG(kvnn, channel, kmax, kmid, ntot, generator)\n",
    "d = srg.srg_evolve(lambda_array, lambda_bd_array, save=True)"
   ]
  },
  {
   "cell_type": "code",
   "execution_count": 11,
   "id": "2151b92d",
   "metadata": {
    "code_folding": []
   },
   "outputs": [],
   "source": [
    "# compare evolved Hamiltonian using get_transformation (check)\n",
    "\n",
    "H_initial = potential.load_hamiltonian()\n",
    "H_evolved = potential.load_hamiltonian('srg', 'Wegner', 3.0)\n",
    "U_matrix = get_transformation(H_initial, H_evolved)"
   ]
  },
  {
   "cell_type": "markdown",
   "id": "90963b23",
   "metadata": {},
   "source": [
    "### Test `magnus.py`"
   ]
  },
  {
   "cell_type": "code",
   "execution_count": 12,
   "id": "56df3791",
   "metadata": {
    "code_folding": []
   },
   "outputs": [],
   "source": [
    "# Might be smart to test a really soft potential here for speed\n",
    "kvnn = 111\n",
    "channel = '1S0'\n",
    "kmax, kmid, ntot = 10.0, 2.0, 120"
   ]
  },
  {
   "cell_type": "code",
   "execution_count": 13,
   "id": "f8ea1e1d",
   "metadata": {
    "code_folding": []
   },
   "outputs": [],
   "source": [
    "# Do default Magnus arguments\n",
    "k_max = 2\n",
    "ds = 1e-5"
   ]
  },
  {
   "cell_type": "code",
   "execution_count": 14,
   "id": "a70e4a77",
   "metadata": {
    "code_folding": []
   },
   "outputs": [
    {
     "name": "stdout",
     "output_type": "stream",
     "text": [
      "_____________________________________________________________________________________\n",
      "Done evolving to final \\lambda = 3 fm^-1 after 0.0444 minutes.\n",
      "_____________________________________________________________________________________\n",
      "\n",
      "Specifications:\n",
      "\n",
      "kvnn = 111, channel = 1S0\n",
      "kmax = 10.0, kmid = 2.0, ntot = 120\n",
      "method = Magnus, generator = Wegner\n",
      "k_max = 2, ds = 1.0e-05\n",
      "[[ 6.22375968e-07 -1.22803393e-08 -3.77512123e-08 ...  3.02466439e-17\n",
      "   2.32844608e-17  1.49598933e-17]\n",
      " [-1.22803393e-08  1.72026235e-05 -3.03132572e-07 ...  2.42873836e-16\n",
      "   1.86968933e-16  1.20124513e-16]\n",
      " [-3.77512123e-08 -3.03132572e-07  1.03355214e-04 ...  7.46645308e-16\n",
      "   5.74780087e-16  3.69286283e-16]\n",
      " ...\n",
      " [ 3.02466474e-17  2.42873849e-16  7.46645255e-16 ...  9.91800753e+01\n",
      "  -3.67712230e-03 -2.39842920e-03]\n",
      " [ 2.32844606e-17  1.86968931e-16  5.74780087e-16 ... -3.67712230e-03\n",
      "   9.96645753e+01 -1.92725662e-03]\n",
      " [ 1.49598943e-17  1.20124513e-16  3.69286286e-16 ... -2.39842920e-03\n",
      "  -1.92725662e-03  9.99355553e+01]]\n",
      "_____________________________________________________________________________________\n",
      "Done evolving to final \\lambda = 3 fm^-1 after 0.0031 minutes.\n",
      "_____________________________________________________________________________________\n",
      "\n",
      "Specifications:\n",
      "\n",
      "kvnn = 111, channel = 1S0\n",
      "kmax = 10.0, kmid = 2.0, ntot = 120\n",
      "method = SRG, generator = Wegner\n",
      "[[ 6.22375986e-07 -1.22801978e-08 -3.77507774e-08 ...  3.13297849e-11\n",
      "   2.36357843e-10  5.29613138e-10]\n",
      " [-1.22801978e-08  1.72026246e-05 -3.03129080e-07 ...  2.51556800e-10\n",
      "   1.89779330e-09  4.25243583e-09]\n",
      " [-3.77507774e-08 -3.03129080e-07  1.03355225e-04 ...  7.73108131e-10\n",
      "   5.83249466e-09  1.30690456e-08]\n",
      " ...\n",
      " [ 3.13297849e-11  2.51556800e-10  7.73108131e-10 ...  9.91800752e+01\n",
      "  -3.67715765e-03 -2.39845848e-03]\n",
      " [ 2.36357843e-10  1.89779330e-09  5.83249466e-09 ... -3.67715765e-03\n",
      "   9.96645753e+01 -1.92727267e-03]\n",
      " [ 5.29613138e-10  4.25243583e-09  1.30690456e-08 ... -2.39845848e-03\n",
      "  -1.92727267e-03  9.99355553e+01]]\n"
     ]
    }
   ],
   "source": [
    "# run_magnus for Wegner (check)\n",
    "\n",
    "generator = 'Wegner'\n",
    "lambda_array = np.array([3.0])\n",
    "magnus = Magnus(kvnn, channel, kmax, kmid, ntot, generator)\n",
    "d = magnus.magnus_evolve(lambda_array, k_max=k_max, ds=ds)\n",
    "print(d[3.0])\n",
    "\n",
    "# run_srg for Wegner\n",
    "srg = SRG(kvnn, channel, kmax, kmid, ntot, generator)\n",
    "d = srg.srg_evolve(lambda_array)\n",
    "print(d[3.0])"
   ]
  },
  {
   "cell_type": "code",
   "execution_count": 15,
   "id": "9ca21eb8",
   "metadata": {
    "code_folding": [
     0
    ]
   },
   "outputs": [],
   "source": [
    "# # run_magnus for T (check)\n",
    "\n",
    "# generator = 'T'\n",
    "# lambda_array = np.array([6.0, 3.0])\n",
    "\n",
    "# d = potential.run_magnus(generator, lambda_array, k_max=k_max, ds=ds,\n",
    "#                          save=False)\n",
    "# print(d[3.0])\n",
    "\n",
    "# # run_srg for Wegner\n",
    "# d = potential.run_srg(generator, lambda_array, save=False)\n",
    "# print(d[3.0])"
   ]
  },
  {
   "cell_type": "code",
   "execution_count": 16,
   "id": "e901eb7a",
   "metadata": {
    "code_folding": [
     0
    ]
   },
   "outputs": [],
   "source": [
    "# # run_magnus for Block-diag\n",
    "\n",
    "# generator = 'Block-diag'\n",
    "# lambda_bd_array = np.array([6.0, 3.0])\n",
    "# lambda_array = np.array([3.0])\n",
    "\n",
    "# d = potential.run_magnus(generator, lambda_array, lambda_bd_array, \n",
    "#                          k_max=k_max, ds=ds, save=False)\n",
    "# print(d[3.0][3.0])\n",
    "\n",
    "# # run_srg for Block-diag (check)\n",
    "# d = potential.run_srg(generator, lambda_array, lambda_bd_array, save=False)\n",
    "# print(d[3.0][3.0])"
   ]
  },
  {
   "cell_type": "code",
   "execution_count": 18,
   "id": "a7eb375e",
   "metadata": {
    "code_folding": []
   },
   "outputs": [
    {
     "name": "stdout",
     "output_type": "stream",
     "text": [
      "[[ 6.22375968e-07 -1.22803393e-08 -3.77512123e-08 ...  9.74524521e-30\n",
      "   5.74103218e-30  3.17673282e-30]\n",
      " [-1.22803393e-08  1.72026235e-05 -3.03132573e-07 ...  7.82545284e-29\n",
      "   4.61006119e-29  2.55092330e-29]\n",
      " [-3.77512123e-08 -3.03132573e-07  1.03355214e-04 ...  2.40608978e-28\n",
      "   1.41745424e-28  7.84331691e-29]\n",
      " ...\n",
      " [ 9.74524521e-30  7.82545284e-29  2.40608978e-28 ...  9.91800753e+01\n",
      "  -3.67712230e-03 -2.39842920e-03]\n",
      " [ 5.74103218e-30  4.61006119e-29  1.41745424e-28 ... -3.67712230e-03\n",
      "   9.96645753e+01 -1.92725662e-03]\n",
      " [ 3.17673282e-30  2.55092330e-29  7.84331691e-29 ... -2.39842920e-03\n",
      "  -1.92725662e-03  9.99355553e+01]]\n"
     ]
    }
   ],
   "source": [
    "# Test that Magnus_split at least works (check)\n",
    "\n",
    "magnus_split = MagnusSplit(kvnn, channel, kmax, kmid, ntot, generator)\n",
    "d = magnus_split.magnus_split_evolve(lambda_array, k_max=k_max, ds=ds)\n",
    "print(d[3.0])"
   ]
  },
  {
   "cell_type": "markdown",
   "id": "1404e7e5",
   "metadata": {},
   "source": [
    "### Testing momentum distributions code"
   ]
  },
  {
   "cell_type": "code",
   "execution_count": null,
   "id": "840d418e",
   "metadata": {
    "code_folding": [
     0
    ]
   },
   "outputs": [],
   "source": [
    "# # kvnn = 6\n",
    "# # kmax, kmid, ntot = 15.0, 3.0, 120\n",
    "# kvnn = 111\n",
    "# kmax, kmid, ntot = 10.0, 2.0, 120\n",
    "# channels = ('1S0', '3S1')\n",
    "# generator = 'Wegner'\n",
    "# lamb = 1.5"
   ]
  },
  {
   "cell_type": "code",
   "execution_count": null,
   "id": "aefe0f04",
   "metadata": {
    "code_folding": [
     0
    ]
   },
   "outputs": [],
   "source": [
    "# # This works comparing to old snmd.py and pmd.py\n",
    "# md = MomentumDistributions(kvnn, kmax, kmid, ntot)\n",
    "# md.save_deltaU_funcs(channels, generator, lamb)"
   ]
  },
  {
   "cell_type": "code",
   "execution_count": null,
   "id": "1cf5f721",
   "metadata": {
    "code_folding": [
     0
    ]
   },
   "outputs": [],
   "source": [
    "# chdir(old_code_dir)\n",
    "# snmd = single_nucleon_momentum_distributions(kvnn, channels, lamb, kmax, kmid,\n",
    "#                                              ntot)\n",
    "# chdir(cwd)"
   ]
  },
  {
   "cell_type": "code",
   "execution_count": null,
   "id": "8abf074f",
   "metadata": {
    "code_folding": []
   },
   "outputs": [],
   "source": [
    "# md.save_deuteron_deltaU_funcs(generator, lamb)"
   ]
  },
  {
   "cell_type": "code",
   "execution_count": null,
   "id": "af779295",
   "metadata": {
    "code_folding": [
     0
    ]
   },
   "outputs": [],
   "source": [
    "# chdir(old_code_dir)\n",
    "# dmd = deuteron_momentum_distributions(kvnn, lamb, kmax, kmid, ntot)\n",
    "# chdir(cwd)"
   ]
  },
  {
   "cell_type": "code",
   "execution_count": null,
   "id": "bd124244",
   "metadata": {},
   "outputs": [],
   "source": []
  },
  {
   "cell_type": "code",
   "execution_count": null,
   "id": "7f5f28c2",
   "metadata": {},
   "outputs": [],
   "source": []
  },
  {
   "cell_type": "code",
   "execution_count": null,
   "id": "134cb837",
   "metadata": {},
   "outputs": [],
   "source": []
  },
  {
   "cell_type": "code",
   "execution_count": null,
   "id": "c6413914",
   "metadata": {},
   "outputs": [],
   "source": [
    "# Test figure_graphics.py"
   ]
  },
  {
   "cell_type": "code",
   "execution_count": null,
   "id": "e1be1eb0",
   "metadata": {},
   "outputs": [],
   "source": [
    "# Test figure_labels.py"
   ]
  },
  {
   "cell_type": "code",
   "execution_count": null,
   "id": "5d1ae9c9",
   "metadata": {},
   "outputs": [],
   "source": [
    "# Test fourier_transform.py"
   ]
  },
  {
   "cell_type": "code",
   "execution_count": null,
   "id": "075edcd9",
   "metadata": {},
   "outputs": [],
   "source": [
    "# Test integration.py"
   ]
  },
  {
   "cell_type": "code",
   "execution_count": null,
   "id": "b29dcbe5",
   "metadata": {},
   "outputs": [],
   "source": [
    "# Test long_distance_operators.py"
   ]
  },
  {
   "cell_type": "code",
   "execution_count": null,
   "id": "cb1f9dbe",
   "metadata": {},
   "outputs": [],
   "source": [
    "# Test momentum_projection_operator.py"
   ]
  },
  {
   "cell_type": "code",
   "execution_count": null,
   "id": "70934e18",
   "metadata": {},
   "outputs": [],
   "source": [
    "# Test phase_shifts.py"
   ]
  },
  {
   "cell_type": "code",
   "execution_count": null,
   "id": "6d25d9f5",
   "metadata": {},
   "outputs": [],
   "source": [
    "# Test sdt.py"
   ]
  },
  {
   "cell_type": "code",
   "execution_count": null,
   "id": "a93c567b",
   "metadata": {},
   "outputs": [],
   "source": [
    "# Test srg.py"
   ]
  },
  {
   "cell_type": "code",
   "execution_count": null,
   "id": "923c45f2",
   "metadata": {},
   "outputs": [],
   "source": [
    "# Test tools.py"
   ]
  },
  {
   "cell_type": "code",
   "execution_count": null,
   "id": "40b1b913",
   "metadata": {},
   "outputs": [],
   "source": [
    "# Test wave_function.py"
   ]
  }
 ],
 "metadata": {
  "kernelspec": {
   "display_name": "Python 3",
   "language": "python",
   "name": "python3"
  },
  "language_info": {
   "codemirror_mode": {
    "name": "ipython",
    "version": 3
   },
   "file_extension": ".py",
   "mimetype": "text/x-python",
   "name": "python",
   "nbconvert_exporter": "python",
   "pygments_lexer": "ipython3",
   "version": "3.8.5"
  }
 },
 "nbformat": 4,
 "nbformat_minor": 5
}

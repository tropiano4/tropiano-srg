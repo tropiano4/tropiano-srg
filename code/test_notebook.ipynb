{
 "cells": [
  {
   "cell_type": "markdown",
   "id": "dc98d802",
   "metadata": {},
   "source": [
    "# Test notebook\n",
    "\n",
    "__A. J. Tropiano [tropiano.4@osu.edu]__<br/>\n",
    "__March 17, 2022__\n",
    "\n",
    "The purpose of this notebook is for testing out code and/or scripts.\n",
    "\n",
    "_Last update: April 20, 2022_"
   ]
  },
  {
   "cell_type": "code",
   "execution_count": 1,
   "id": "b4cd323a",
   "metadata": {},
   "outputs": [],
   "source": [
    "# Python imports\n",
    "from matplotlib.offsetbox import AnchoredText\n",
    "import matplotlib.pyplot as plt\n",
    "%matplotlib inline\n",
    "import numpy as np\n",
    "import time"
   ]
  },
  {
   "cell_type": "code",
   "execution_count": 2,
   "id": "f7d111bc",
   "metadata": {},
   "outputs": [],
   "source": [
    "# Imports from A.T. codes\n",
    "import densities\n",
    "from dmd import Deuteron\n",
    "from momentum_distributions import MomentumDistribution\n",
    "from potentials import Potential\n",
    "# You could import modules but I want a list of scripts here\n",
    "# Check these off the list as you go through Jupyter notebooks generating\n",
    "# figures\n",
    "import modules.a2\n",
    "import modules.figures\n",
    "import modules.fourier_transform\n",
    "from modules.integration import gaussian_quadrature_mesh\n",
    "import modules.labels\n",
    "import modules.long_distance_operators\n",
    "from magnus import Magnus, MagnusSplit\n",
    "import modules.momentum_projection_operator\n",
    "import modules.phase_shifts\n",
    "import modules.sdt\n",
    "from pmd import Pair\n",
    "from snmd import SingleNucleon\n",
    "from srg import SRG, get_transformation\n",
    "import modules.tools\n",
    "import modules.wave_function\n",
    "# add missing ones"
   ]
  },
  {
   "cell_type": "markdown",
   "id": "7c626522",
   "metadata": {},
   "source": [
    "For now let's illustrate the overhaul by testing scripts and showing how to use them."
   ]
  },
  {
   "cell_type": "markdown",
   "id": "1404e7e5",
   "metadata": {},
   "source": [
    "### Testing momentum distributions code"
   ]
  },
  {
   "cell_type": "code",
   "execution_count": 3,
   "id": "840d418e",
   "metadata": {
    "code_folding": []
   },
   "outputs": [],
   "source": [
    "# Test default interaction and SRG evolution\n",
    "\n",
    "kvnn = 6\n",
    "kmax, kmid, ntot = 15.0, 3.0, 120\n",
    "channels = ('1S0', '3S1')\n",
    "generator = 'Wegner'\n",
    "lamb = 1.35"
   ]
  },
  {
   "cell_type": "code",
   "execution_count": 4,
   "id": "0c4015bb",
   "metadata": {
    "code_folding": [
     0
    ]
   },
   "outputs": [],
   "source": [
    "# # Get momentum values (channel argument doesn't matter here)\n",
    "# potential = Potential(kvnn, '1S0', kmax, kmid, ntot)\n",
    "# q_array, _ = potential.load_mesh()\n",
    "\n",
    "# # Set C.o.M. momentum too\n",
    "# Q_max = 2.0\n",
    "# ntot_Q = 40\n",
    "# Q_array, _ = gaussian_quadrature_mesh(Q_max, ntot_Q)"
   ]
  },
  {
   "cell_type": "code",
   "execution_count": 5,
   "id": "81e9192b",
   "metadata": {},
   "outputs": [],
   "source": [
    "# Do Ca48 with SLy4 densities\n",
    "\n",
    "nucleus_name = 'Ca48'\n",
    "Z, N = 20, 28\n",
    "density = 'SLY4'"
   ]
  },
  {
   "cell_type": "code",
   "execution_count": 6,
   "id": "842db164",
   "metadata": {
    "code_folding": [
     0
    ]
   },
   "outputs": [],
   "source": [
    "# # Generate new files and compare to old ones\n",
    "# # Single-nucleon matches old data exactly\n",
    "\n",
    "# snmd = SingleNucleon(kvnn, kmax, kmid, ntot, channels, generator, lamb)\n",
    "\n",
    "# for nucleon in ('proton', 'neutron'):\n",
    "    \n",
    "#     t0 = time.time()\n",
    "    \n",
    "#     n_array = snmd.compute_momentum_distribution(\n",
    "#         q_array, nucleon, nucleus_name, Z, N, density, save=True)\n",
    "    \n",
    "#     t1 = time.time()\n",
    "#     mins = (t1-t0)/60\n",
    "#     print(f'Done with {nucleon} after {mins:.2f} minutes.')"
   ]
  },
  {
   "cell_type": "code",
   "execution_count": 7,
   "id": "63b77892",
   "metadata": {
    "code_folding": [
     0
    ]
   },
   "outputs": [],
   "source": [
    "# # Pair matches old data exactly\n",
    "\n",
    "# pmd = Pair(kvnn, kmax, kmid, ntot, channels, generator, lamb)\n",
    "\n",
    "# for pair in ('pn', 'pp', 'nn'):\n",
    "    \n",
    "#     t0 = time.time()\n",
    "            \n",
    "#     # Q > 0\n",
    "#     n_array = pmd.compute_momentum_distribution(\n",
    "#         q_array, Q_array, pair, nucleus_name, Z, N, density, save=True)\n",
    "    \n",
    "#     # Q = 0\n",
    "#     n_Q0_array = pmd.compute_momentum_distribution_Q0(\n",
    "#         q_array, pair, nucleus_name, Z, N, density, save=True)\n",
    "\n",
    "#     t1 = time.time()\n",
    "#     mins = (t1-t0)/60\n",
    "#     print(f'Done with {pair} after {mins:.2f} minutes.')"
   ]
  },
  {
   "cell_type": "code",
   "execution_count": 8,
   "id": "69008c94",
   "metadata": {
    "code_folding": [
     0
    ]
   },
   "outputs": [],
   "source": [
    "# # Deuteron matches old data exactly\n",
    "\n",
    "# dmd = Deuteron(kvnn, kmax, kmid, ntot, generator, lamb)\n",
    "    \n",
    "# t0 = time.time()\n",
    "        \n",
    "# n_array = dmd.compute_momentum_distribution(q_array, save=True)\n",
    "            \n",
    "# t1 = time.time()\n",
    "# mins = (t1-t0)/60\n",
    "        \n",
    "# print(f'Done after {mins:.2f} minutes.')"
   ]
  },
  {
   "cell_type": "code",
   "execution_count": 9,
   "id": "40087a4c",
   "metadata": {},
   "outputs": [],
   "source": [
    "# Load old data files doing all cases of contributions and interpolate\n",
    "# (check!)\n",
    "\n",
    "md = MomentumDistribution(kvnn, kmax, kmid, ntot)\n",
    "\n",
    "# Single-nucleon distributions\n",
    "q_array, n_p_array = md.get_single_nucleon_momentum_distribution(\n",
    "    'proton', nucleus_name, density, channels, generator, lamb)\n",
    "q_array, n_n_array = md.get_single_nucleon_momentum_distribution(\n",
    "    'proton', nucleus_name, density, channels, generator, lamb)\n",
    "\n",
    "# Pair momentum distributions at Q > 0\n",
    "q_array, Q_array, n_pn_array = md.get_pair_momentum_distribution(\n",
    "    'pn', nucleus_name, density, channels, generator, lamb)\n",
    "q_array, Q_array, n_pp_array = md.get_pair_momentum_distribution(\n",
    "    'pp', nucleus_name, density, channels, generator, lamb)\n",
    "q_array, Q_array, n_nn_array = md.get_pair_momentum_distribution(\n",
    "    'nn', nucleus_name, density, channels, generator, lamb)\n",
    "\n",
    "# Pair momentum distributions at Q = 0\n",
    "q_array, n_pn_Q0_array = md.get_pair_momentum_distribution(\n",
    "    'pn', nucleus_name, density, channels, generator, lamb,\n",
    "    Q_equals_zero=True)\n",
    "q_array, n_pp_Q0_array = md.get_pair_momentum_distribution(\n",
    "    'pp', nucleus_name, density, channels, generator, lamb,\n",
    "    Q_equals_zero=True)\n",
    "q_array, n_nn_Q0_array = md.get_pair_momentum_distribution(\n",
    "    'nn', nucleus_name, density, channels, generator, lamb,\n",
    "    Q_equals_zero=True)\n",
    "\n",
    "# Deuteron momentum distribution\n",
    "q_array, n_d_array = md.get_deuteron_momentum_distribution(generator, lamb)"
   ]
  },
  {
   "cell_type": "code",
   "execution_count": 10,
   "id": "7b7512d7",
   "metadata": {},
   "outputs": [],
   "source": [
    "# Check interpolation (check!)\n",
    "\n",
    "# Single-nucleon distributions\n",
    "n_p_func = md.get_single_nucleon_momentum_distribution(\n",
    "    'proton', nucleus_name, density, channels, generator, lamb,\n",
    "    interpolate=True)\n",
    "n_n_func = md.get_single_nucleon_momentum_distribution(\n",
    "    'proton', nucleus_name, density, channels, generator, lamb,\n",
    "    interpolate=True)\n",
    "\n",
    "# Pair momentum distributions at Q > 0\n",
    "n_pn_func = md.get_pair_momentum_distribution(\n",
    "    'pn', nucleus_name, density, channels, generator, lamb, interpolate=True)\n",
    "n_pp_func = md.get_pair_momentum_distribution(\n",
    "    'pp', nucleus_name, density, channels, generator, lamb, interpolate=True)\n",
    "n_nn_func = md.get_pair_momentum_distribution(\n",
    "    'nn', nucleus_name, density, channels, generator, lamb, interpolate=True)\n",
    "\n",
    "# Pair momentum distributions at Q = 0\n",
    "n_pn_Q0_func = md.get_pair_momentum_distribution(\n",
    "    'pn', nucleus_name, density, channels, generator, lamb,\n",
    "    Q_equals_zero=True, interpolate=True)\n",
    "n_pp_Q0_func = md.get_pair_momentum_distribution(\n",
    "    'pp', nucleus_name, density, channels, generator, lamb,\n",
    "    Q_equals_zero=True, interpolate=True)\n",
    "n_nn_Q0_func = md.get_pair_momentum_distribution(\n",
    "    'nn', nucleus_name, density, channels, generator, lamb,\n",
    "    Q_equals_zero=True, interpolate=True)\n",
    "\n",
    "# Deuteron momentum distribution\n",
    "n_d_func = md.get_deuteron_momentum_distribution(generator, lamb,\n",
    "                                                 interpolate=True)"
   ]
  },
  {
   "cell_type": "code",
   "execution_count": 11,
   "id": "c6413914",
   "metadata": {},
   "outputs": [
    {
     "data": {
      "text/plain": [
       "array([1.885527e+04, 1.050575e+04, 7.101953e+03, 5.417651e+03,\n",
       "       4.340488e+03, 3.556216e+03, 2.998424e+03, 2.618664e+03,\n",
       "       2.270721e+03, 1.953222e+03, 1.758077e+03, 1.575778e+03,\n",
       "       1.406126e+03, 1.248785e+03, 1.175392e+03, 1.036351e+03,\n",
       "       9.723203e+02, 8.513007e+02, 7.418863e+02, 6.927788e+02,\n",
       "       6.001593e+02, 5.593068e+02, 4.820521e+02, 4.139923e+02,\n",
       "       3.258109e+02, 2.536596e+02, 1.609894e+02, 2.904177e+01,\n",
       "       1.328124e+01, 1.314863e+01, 1.287999e+01, 1.247530e+01,\n",
       "       1.194385e+01, 1.130276e+01, 1.057791e+01, 9.802419e+00,\n",
       "       9.007574e+00, 8.220680e+00, 7.464475e+00, 6.756182e+00,\n",
       "       6.107289e+00, 5.523329e+00, 5.006415e+00, 4.553357e+00,\n",
       "       4.159018e+00, 3.817587e+00, 3.523007e+00, 3.269686e+00,\n",
       "       3.052055e+00, 2.865172e+00, 2.705130e+00, 2.568626e+00,\n",
       "       2.452696e+00, 2.355171e+00, 2.274159e+00, 2.208259e+00,\n",
       "       2.156240e+00, 2.117257e+00, 2.090676e+00, 2.076041e+00,\n",
       "       2.059021e+00, 2.002055e+00, 1.904010e+00, 1.771590e+00,\n",
       "       1.613167e+00, 1.437640e+00, 1.253574e+00, 1.068756e+00,\n",
       "       8.899751e-01, 7.229423e-01, 5.720228e-01, 4.401334e-01,\n",
       "       3.287144e-01, 2.378439e-01, 1.663644e-01, 1.122148e-01,\n",
       "       7.276016e-02, 4.517588e-02, 2.672096e-02, 1.495241e-02,\n",
       "       7.837801e-03, 3.794490e-03, 1.661465e-03, 6.396391e-04,\n",
       "       2.132532e-04, 7.368092e-05, 5.126548e-05, 6.279202e-05,\n",
       "       7.412211e-05, 7.580227e-05, 6.877165e-05, 5.692416e-05,\n",
       "       4.385827e-05, 3.189006e-05, 2.209506e-05, 1.468858e-05,\n",
       "       9.417033e-06, 5.844140e-06, 3.520254e-06, 2.062167e-06,\n",
       "       1.176379e-06, 6.542012e-07, 3.551994e-07, 1.889398e-07,\n",
       "       9.935926e-08, 5.276134e-08, 2.955946e-08, 1.865147e-08,\n",
       "       1.394207e-08, 1.218825e-08, 1.172990e-08, 1.176715e-08,\n",
       "       1.194192e-08, 1.211630e-08, 1.225256e-08, 1.234634e-08,\n",
       "       1.240273e-08, 1.243098e-08, 1.244344e-08, 1.245347e-08])"
      ]
     },
     "execution_count": 11,
     "metadata": {},
     "output_type": "execute_result"
    }
   ],
   "source": []
  },
  {
   "cell_type": "code",
   "execution_count": 12,
   "id": "e1be1eb0",
   "metadata": {},
   "outputs": [
    {
     "data": {
      "text/plain": [
       "array(18855.27)"
      ]
     },
     "execution_count": 12,
     "metadata": {},
     "output_type": "execute_result"
    }
   ],
   "source": []
  },
  {
   "cell_type": "code",
   "execution_count": null,
   "id": "5d1ae9c9",
   "metadata": {},
   "outputs": [],
   "source": []
  },
  {
   "cell_type": "code",
   "execution_count": null,
   "id": "075edcd9",
   "metadata": {},
   "outputs": [],
   "source": []
  },
  {
   "cell_type": "code",
   "execution_count": null,
   "id": "b29dcbe5",
   "metadata": {},
   "outputs": [],
   "source": []
  },
  {
   "cell_type": "code",
   "execution_count": null,
   "id": "cb1f9dbe",
   "metadata": {},
   "outputs": [],
   "source": []
  },
  {
   "cell_type": "code",
   "execution_count": null,
   "id": "70934e18",
   "metadata": {},
   "outputs": [],
   "source": []
  },
  {
   "cell_type": "code",
   "execution_count": null,
   "id": "6d25d9f5",
   "metadata": {},
   "outputs": [],
   "source": []
  },
  {
   "cell_type": "code",
   "execution_count": null,
   "id": "a93c567b",
   "metadata": {},
   "outputs": [],
   "source": []
  },
  {
   "cell_type": "code",
   "execution_count": null,
   "id": "923c45f2",
   "metadata": {},
   "outputs": [],
   "source": []
  },
  {
   "cell_type": "code",
   "execution_count": null,
   "id": "40b1b913",
   "metadata": {},
   "outputs": [],
   "source": []
  }
 ],
 "metadata": {
  "kernelspec": {
   "display_name": "Python 3 (ipykernel)",
   "language": "python",
   "name": "python3"
  },
  "language_info": {
   "codemirror_mode": {
    "name": "ipython",
    "version": 3
   },
   "file_extension": ".py",
   "mimetype": "text/x-python",
   "name": "python",
   "nbconvert_exporter": "python",
   "pygments_lexer": "ipython3",
   "version": "3.9.7"
  }
 },
 "nbformat": 4,
 "nbformat_minor": 5
}

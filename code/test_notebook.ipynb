{
 "cells": [
  {
   "cell_type": "markdown",
   "id": "dc98d802",
   "metadata": {},
   "source": [
    "# Test notebook\n",
    "\n",
    "__A. J. Tropiano [tropiano.4@osu.edu]__<br/>\n",
    "__March 17, 2022__\n",
    "\n",
    "The purpose of this notebook is for testing out code and/or scripts.\n",
    "\n",
    "_Last update: March 17, 2022_"
   ]
  },
  {
   "cell_type": "code",
   "execution_count": 1,
   "id": "b4cd323a",
   "metadata": {},
   "outputs": [],
   "source": [
    "# Python imports\n",
    "from matplotlib.offsetbox import AnchoredText\n",
    "import matplotlib.pyplot as plt\n",
    "%matplotlib inline\n",
    "import numpy as np\n",
    "import time"
   ]
  },
  {
   "cell_type": "code",
   "execution_count": 2,
   "id": "f7d111bc",
   "metadata": {},
   "outputs": [],
   "source": [
    "# Imports from A.T. codes\n",
    "import densities\n",
    "import momentum_distributions\n",
    "from vnn import Potential\n",
    "# You could import modules but I want a list of scripts here\n",
    "# Check these off the list as you go through Jupyter notebooks generating\n",
    "# figures\n",
    "# import dmd, snmd, pmd\n",
    "import modules.a2\n",
    "import modules.figure_graphics\n",
    "import modules.figure_labels\n",
    "import modules.fourier_transform\n",
    "import modules.integration\n",
    "import modules.long_distance_operators\n",
    "import modules.magnus\n",
    "import modules.momentum_projection_operator\n",
    "import modules.phase_shifts\n",
    "import modules.sdt\n",
    "import modules.srg\n",
    "import modules.tools\n",
    "import modules.wave_function\n",
    "# add missing ones"
   ]
  },
  {
   "cell_type": "markdown",
   "id": "7c626522",
   "metadata": {},
   "source": [
    "For now let's illustrate the overhaul by testing scripts and showing how to use them."
   ]
  },
  {
   "cell_type": "markdown",
   "id": "20e60b5a",
   "metadata": {},
   "source": [
    "### Test `vnn.py`"
   ]
  },
  {
   "cell_type": "code",
   "execution_count": 3,
   "id": "78f20e3e",
   "metadata": {},
   "outputs": [],
   "source": [
    "kvnn = 111\n",
    "channel = '1S0'\n",
    "kmax, kmid, ntot = 15.0, 3.0, 120"
   ]
  },
  {
   "cell_type": "code",
   "execution_count": 4,
   "id": "883584d1",
   "metadata": {},
   "outputs": [
    {
     "name": "stdout",
     "output_type": "stream",
     "text": [
      "111 False ../potentials/vsrg_macos/vsrg_kvnn_111_lam12.0_kmax15_kmid3_ntot120/\n"
     ]
    }
   ],
   "source": [
    "# __init__ CHECK\n",
    "\n",
    "potential = Potential(kvnn, channel, kmax, kmid, ntot)\n",
    "print(potential.kvnn, potential.coupled_channel_bool, \n",
    "      potential.potential_directory)"
   ]
  },
  {
   "cell_type": "code",
   "execution_count": 5,
   "id": "5fd02f11",
   "metadata": {},
   "outputs": [
    {
     "name": "stdout",
     "output_type": "stream",
     "text": [
      "0.0011848151588461 0.0030402179533101\n",
      "0.0062392123217427 0.00706909489043\n",
      "0.015318157166667 0.011084896745019\n",
      "0.028399197371103 0.0150713357734\n",
      "0.045447316852421 0.019017249715218\n",
      "0.066416616240006 0.022911927895176\n",
      "0.091250585825365 0.026744851521311\n",
      "0.11988228573356 0.030505681094186\n",
      "0.15223453378493 0.034184275415997\n",
      "0.18822011602965 0.037770716432282\n",
      "0.22774202282111 0.041255335124887\n",
      "0.27069371075678 0.044628737251183\n",
      "0.3169593901016 0.047881828528944\n",
      "0.36641433704012 0.05100583908742\n",
      "0.4189252299664 0.053992347076627\n",
      "0.47435050892797 0.056833301353865\n",
      "0.53254075726578 0.059521043178571\n",
      "0.59333910442723 0.062048326853377\n",
      "0.65658164886908 0.064408339253903\n",
      "0.72209789991215 0.066594718193681\n",
      "0.78971123735744 0.068601569574172\n",
      "0.85923938762538 0.070423483273368\n",
      "0.9304949151348 0.072055547729957\n",
      "1.0032857275973 0.073493363183635\n",
      "1.0774155938651 0.074733053535825\n",
      "1.152684672936 0.075771276798764\n",
      "1.2288900526899 0.076605234104784\n",
      "1.3058262969046 0.077232677251471\n",
      "1.3832859990757 0.077651914762365\n",
      "1.4610603415481 0.077861816446831\n",
      "1.5389396584519 0.077861816446831\n",
      "1.6167140009243 0.077651914762365\n",
      "1.6941737030954 0.077232677251471\n",
      "1.7711099473101 0.076605234104784\n",
      "1.847315327064 0.075771276798764\n",
      "1.9225844061349 0.074733053535825\n",
      "1.9967142724027 0.073493363183635\n",
      "2.0695050848652 0.072055547729957\n",
      "2.1407606123746 0.070423483273368\n",
      "2.2102887626426 0.068601569574172\n",
      "2.2779021000879 0.066594718193681\n",
      "2.3434183511309 0.064408339253903\n",
      "2.4066608955728 0.062048326853377\n",
      "2.4674592427342 0.059521043178571\n",
      "2.525649491072 0.056833301353865\n",
      "2.5810747700336 0.053992347076627\n",
      "2.6335856629599 0.05100583908742\n",
      "2.6830406098984 0.047881828528944\n",
      "2.7293062892432 0.044628737251183\n",
      "2.7722579771789 0.041255335124887\n",
      "2.8117798839703 0.037770716432282\n",
      "2.8477654662151 0.034184275415997\n",
      "2.8801177142664 0.030505681094186\n",
      "2.9087494141746 0.026744851521311\n",
      "2.93358338376 0.022911927895176\n",
      "2.9545526831476 0.019017249715218\n",
      "2.9716008026289 0.0150713357734\n",
      "2.9846818428333 0.011084896745019\n",
      "2.9937607876783 0.00706909489043\n",
      "2.9988151848412 0.0030402179533101\n",
      "3.0047392606354 0.01216087181324\n",
      "3.024956849287 0.02827637956172\n",
      "3.0612726286667 0.044339586980074\n",
      "3.1135967894844 0.0602853430936\n",
      "3.1817892674097 0.076068998860873\n",
      "3.26566646496 0.091647711580703\n",
      "3.3650023433015 0.10697940608524\n",
      "3.4795291429342 0.12202272437674\n",
      "3.6089381351397 0.13673710166399\n",
      "3.7528804641186 0.15108286572913\n",
      "3.9109680912844 0.16502134049955\n",
      "4.0827748430271 0.17851494900473\n",
      "4.2678375604064 0.19152731411578\n",
      "4.4656573481605 0.20402335634968\n",
      "4.6757009198656 0.21596938830651\n",
      "4.8974020357119 0.22733320541546\n",
      "5.1301630290631 0.23808417271428\n",
      "5.3733564177089 0.24819330741351\n",
      "5.6263265954763 0.25763335701561\n",
      "5.8883915996486 0.26637887277472\n",
      "6.1588449494298 0.27440627829669\n",
      "6.4369575505015 0.28169393309347\n",
      "6.7219796605392 0.28822219091983\n",
      "7.0131429103893 0.29397345273454\n",
      "7.3096623754604 0.2989322141433\n",
      "7.6107386917438 0.30308510719506\n",
      "7.9155602107594 0.30642093641913\n",
      "8.2233051876183 0.30893070900589\n",
      "8.5331439963028 0.31060765904946\n",
      "8.8442413661925 0.31144726578732\n",
      "9.1557586338075 0.31144726578732\n",
      "9.4668560036972 0.31060765904946\n",
      "9.7766948123817 0.30893070900589\n",
      "10.084439789241 0.30642093641913\n",
      "10.389261308256 0.30308510719506\n",
      "10.69033762454 0.2989322141433\n",
      "10.986857089611 0.29397345273454\n",
      "11.278020339461 0.28822219091983\n",
      "11.563042449498 0.28169393309347\n",
      "11.84115505057 0.27440627829669\n",
      "12.111608400351 0.26637887277472\n",
      "12.373673404524 0.25763335701561\n",
      "12.626643582291 0.24819330741351\n",
      "12.869836970937 0.23808417271428\n",
      "13.102597964288 0.22733320541546\n",
      "13.324299080134 0.21596938830651\n",
      "13.53434265184 0.20402335634968\n",
      "13.732162439594 0.19152731411578\n",
      "13.917225156973 0.17851494900473\n",
      "14.089031908716 0.16502134049955\n",
      "14.247119535881 0.15108286572913\n",
      "14.39106186486 0.13673710166399\n",
      "14.520470857066 0.12202272437674\n",
      "14.634997656699 0.10697940608524\n",
      "14.73433353504 0.091647711580703\n",
      "14.81821073259 0.076068998860873\n",
      "14.886403210516 0.0602853430936\n",
      "14.938727371333 0.044339586980074\n",
      "14.975043150713 0.02827637956172\n",
      "14.995260739365 0.01216087181324\n"
     ]
    }
   ],
   "source": [
    "# load_mesh CHECK\n",
    "\n",
    "k_array, k_weights = potential.load_mesh()\n",
    "for ik, iw in zip(k_array, k_weights):\n",
    "    print(ik, iw)"
   ]
  },
  {
   "cell_type": "code",
   "execution_count": 6,
   "id": "f7837d4b",
   "metadata": {},
   "outputs": [
    {
     "name": "stdout",
     "output_type": "stream",
     "text": [
      "[[-1.86572309e+00 -1.86566176e+00 -1.86528212e+00 ...  2.91027908e-16\n",
      "   2.91027908e-16  2.91027908e-16]\n",
      " [-1.86566176e+00 -1.86558459e+00 -1.86520998e+00 ...  2.91027908e-16\n",
      "   2.91027908e-16  2.91027908e-16]\n",
      " [-1.86528212e+00 -1.86520998e+00 -1.86483099e+00 ...  2.91027908e-16\n",
      "   2.91027908e-16  2.91027908e-16]\n",
      " ...\n",
      " [ 2.91027908e-16  2.91027908e-16  2.91027908e-16 ... -7.81280657e-04\n",
      "  -7.77639041e-04 -7.74863845e-04]\n",
      " [ 2.91027908e-16  2.91027908e-16  2.91027908e-16 ... -7.77639041e-04\n",
      "  -7.75762925e-04 -7.73965968e-04]\n",
      " [ 2.91027908e-16  2.91027908e-16  2.91027908e-16 ... -7.74863845e-04\n",
      "  -7.73965968e-04 -7.72713349e-04]]\n"
     ]
    }
   ],
   "source": [
    "# load_potential CHECK\n",
    "\n",
    "V_matrix = potential.load_potential()\n",
    "print(V_matrix)"
   ]
  },
  {
   "cell_type": "code",
   "execution_count": 7,
   "id": "4bfe0cfb",
   "metadata": {},
   "outputs": [
    {
     "name": "stdout",
     "output_type": "stream",
     "text": [
      "5.821504525738868e-05 327.8662206263744 0.0\n"
     ]
    }
   ],
   "source": [
    "# load_kinetic_energy CHECK\n",
    "\n",
    "T_matrix = potential.load_kinetic_energy()\n",
    "print(T_matrix[0,0], T_matrix[50,50], T_matrix[0,50])"
   ]
  },
  {
   "cell_type": "code",
   "execution_count": 8,
   "id": "e3ff7df9",
   "metadata": {},
   "outputs": [
    {
     "name": "stdout",
     "output_type": "stream",
     "text": [
      "[[ 5.80048285e-05 -1.68795825e-06 -5.18840648e-06 ...  1.57892383e-18\n",
      "   1.26395537e-18  8.30019192e-19]\n",
      " [-1.68795825e-06  1.60078111e-03 -4.16606370e-05 ...  1.26785588e-17\n",
      "   1.01494019e-17  6.66494920e-18]\n",
      " [-5.18840648e-06 -4.16606370e-05  9.60271156e-03 ...  3.89789886e-17\n",
      "   3.12033431e-17  2.04907342e-17]\n",
      " ...\n",
      " [ 1.57892383e-18  1.26785588e-17  3.89789886e-17 ...  9.25447232e+03\n",
      "  -1.62622870e-01 -1.06410714e-01]\n",
      " [ 1.26395537e-18  1.01494019e-17  3.12033431e-17 ... -1.62622870e-01\n",
      "   9.29959714e+03 -8.50848787e-02]\n",
      " [ 8.30019192e-19  6.66494920e-18  2.04907342e-17 ... -1.06410714e-01\n",
      "  -8.50848787e-02  9.32479903e+03]]\n"
     ]
    }
   ],
   "source": [
    "# load_hamiltonian CHECK\n",
    "\n",
    "H_matrix = potential.load_hamiltonian()\n",
    "print(H_matrix)"
   ]
  },
  {
   "cell_type": "code",
   "execution_count": 9,
   "id": "898a5861",
   "metadata": {},
   "outputs": [
    {
     "name": "stdout",
     "output_type": "stream",
     "text": [
      "_____________________________________________________________________________________\n",
      "Done evolving to final \\lambda = 2.00 fm^-1 after 0.0523 minutes\n",
      "_____________________________________________________________________________________\n",
      "\n",
      "Specifications:\n",
      "\n",
      "kvnn = 111, channel = 1S0\n",
      "kmax = 15.0, kmid = 3.0, ntot = 120\n",
      "method = srg, generator = {generator}\n"
     ]
    }
   ],
   "source": [
    "# run_srg (Wegner) CHECK\n",
    "\n",
    "generator = 'Wegner'\n",
    "lambda_array = np.array([6.0, 3.0, 2.0])\n",
    "\n",
    "d = potential.run_srg(generator, lambda_array)"
   ]
  },
  {
   "cell_type": "code",
   "execution_count": 10,
   "id": "969c8c42",
   "metadata": {},
   "outputs": [
    {
     "name": "stdout",
     "output_type": "stream",
     "text": [
      "_____________________________________________________________________________________\n",
      "Done evolving to final \\lambda = 2.00 fm^-1 after 0.0476 minutes\n",
      "_____________________________________________________________________________________\n",
      "\n",
      "Specifications:\n",
      "\n",
      "kvnn = 111, channel = 1S0\n",
      "kmax = 15.0, kmid = 3.0, ntot = 120\n",
      "method = srg, generator = {generator}\n"
     ]
    }
   ],
   "source": [
    "# run_srg (T) CHECK\n",
    "\n",
    "generator = 'T'\n",
    "\n",
    "d = potential.run_srg(generator, lambda_array)"
   ]
  },
  {
   "cell_type": "code",
   "execution_count": 11,
   "id": "f2c65186",
   "metadata": {},
   "outputs": [
    {
     "name": "stdout",
     "output_type": "stream",
     "text": [
      "_____________________________________________________________________________________\n",
      "Done evolving to final \\lambda = 1.00 fm^-1 after 1.1990 minutes\n",
      "_____________________________________________________________________________________\n",
      "\n",
      "Specifications:\n",
      "\n",
      "kvnn = 111, channel = 1S0\n",
      "kmax = 15.0, kmid = 3.0, ntot = 120\n",
      "method = srg, generator = {generator}\n"
     ]
    }
   ],
   "source": [
    "# run_srg (Block-diagonal) CHECK\n",
    "\n",
    "generator = 'Wegner'\n",
    "lambda_bd_array = np.array([6.0, 3.0, 2.0])\n",
    "lambda_array = np.array([1.0])\n",
    "\n",
    "d = potential.run_srg(generator, lambda_array, lambda_bd_array)"
   ]
  },
  {
   "cell_type": "code",
   "execution_count": null,
   "id": "2434b826",
   "metadata": {},
   "outputs": [],
   "source": []
  },
  {
   "cell_type": "code",
   "execution_count": null,
   "id": "9d36d9d5",
   "metadata": {},
   "outputs": [],
   "source": []
  },
  {
   "cell_type": "code",
   "execution_count": null,
   "id": "a70e4a77",
   "metadata": {},
   "outputs": [],
   "source": []
  },
  {
   "cell_type": "code",
   "execution_count": 12,
   "id": "c6413914",
   "metadata": {},
   "outputs": [],
   "source": [
    "# Test figure_graphics.py"
   ]
  },
  {
   "cell_type": "code",
   "execution_count": 13,
   "id": "e1be1eb0",
   "metadata": {},
   "outputs": [],
   "source": [
    "# Test figure_labels.py"
   ]
  },
  {
   "cell_type": "code",
   "execution_count": 14,
   "id": "5d1ae9c9",
   "metadata": {},
   "outputs": [],
   "source": [
    "# Test fourier_transform.py"
   ]
  },
  {
   "cell_type": "code",
   "execution_count": 15,
   "id": "075edcd9",
   "metadata": {},
   "outputs": [],
   "source": [
    "# Test integration.py"
   ]
  },
  {
   "cell_type": "code",
   "execution_count": 16,
   "id": "b29dcbe5",
   "metadata": {},
   "outputs": [],
   "source": [
    "# Test long_distance_operators.py"
   ]
  },
  {
   "cell_type": "code",
   "execution_count": 17,
   "id": "cb1f9dbe",
   "metadata": {},
   "outputs": [],
   "source": [
    "# Test momentum_projection_operator.py"
   ]
  },
  {
   "cell_type": "code",
   "execution_count": 18,
   "id": "70934e18",
   "metadata": {},
   "outputs": [],
   "source": [
    "# Test phase_shifts.py"
   ]
  },
  {
   "cell_type": "code",
   "execution_count": 19,
   "id": "6d25d9f5",
   "metadata": {},
   "outputs": [],
   "source": [
    "# Test sdt.py"
   ]
  },
  {
   "cell_type": "code",
   "execution_count": 20,
   "id": "a93c567b",
   "metadata": {},
   "outputs": [],
   "source": [
    "# Test srg.py"
   ]
  },
  {
   "cell_type": "code",
   "execution_count": 21,
   "id": "923c45f2",
   "metadata": {},
   "outputs": [],
   "source": [
    "# Test tools.py"
   ]
  },
  {
   "cell_type": "code",
   "execution_count": 22,
   "id": "40b1b913",
   "metadata": {},
   "outputs": [],
   "source": [
    "# Test wave_function.py"
   ]
  }
 ],
 "metadata": {
  "kernelspec": {
   "display_name": "Python 3",
   "language": "python",
   "name": "python3"
  },
  "language_info": {
   "codemirror_mode": {
    "name": "ipython",
    "version": 3
   },
   "file_extension": ".py",
   "mimetype": "text/x-python",
   "name": "python",
   "nbconvert_exporter": "python",
   "pygments_lexer": "ipython3",
   "version": "3.8.5"
  }
 },
 "nbformat": 4,
 "nbformat_minor": 5
}

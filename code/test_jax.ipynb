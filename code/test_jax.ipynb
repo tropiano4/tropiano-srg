{
 "cells": [
  {
   "cell_type": "markdown",
   "id": "357a90e8",
   "metadata": {},
   "source": [
    "# Testing JAX\n",
    "\n",
    "__Author:__ A. J. Tropiano [atropiano@anl.gov]<br/>\n",
    "__Date:__ May 3, 2023\n",
    "\n",
    "In this notebook, we test how to use `jax.numpy`, vectorize functions using `jax.vmap`, and possibly speed-up functions using `jax.jit`.\n",
    "\n",
    "_Last update:_ May 16, 2023"
   ]
  },
  {
   "cell_type": "code",
   "execution_count": 1,
   "id": "6fda7c55",
   "metadata": {},
   "outputs": [],
   "source": [
    "# Python imports\n",
    "from functools import partial\n",
    "from jax import config, jit, vmap\n",
    "import jax.numpy as jnp\n",
    "from jax.scipy.special import sph_harm as sph_harm_jax\n",
    "import numpy as np\n",
    "from scipy.special import sph_harm, spherical_jn\n",
    "from sympy.physics.quantum.cg import CG\n",
    "import timeit"
   ]
  },
  {
   "cell_type": "code",
   "execution_count": 2,
   "id": "e53d6b33",
   "metadata": {},
   "outputs": [],
   "source": [
    "# Imports from scripts\n",
    "# ..."
   ]
  },
  {
   "cell_type": "code",
   "execution_count": 3,
   "id": "4e0d086f",
   "metadata": {},
   "outputs": [],
   "source": [
    "# Enable double-precision with JAX arrays\n",
    "config.update(\"jax_enable_x64\", True)"
   ]
  },
  {
   "cell_type": "markdown",
   "id": "33b14b3f",
   "metadata": {
    "code_folding": [
     0
    ]
   },
   "source": [
    "## Function that depends on scalar and array parameters"
   ]
  },
  {
   "cell_type": "code",
   "execution_count": 4,
   "id": "9c6949b1",
   "metadata": {
    "code_folding": [
     0
    ],
    "scrolled": false
   },
   "outputs": [],
   "source": [
    "def compute_cg_array(j_max):\n",
    "    \n",
    "    j_array = np.arange(0, j_max+1/2, 1/2)\n",
    "    N_j = j_array.size\n",
    "    m_array = np.concatenate((j_array, -j_array[1:]))\n",
    "    N_m = m_array.size\n",
    "    \n",
    "    cg_array = np.zeros((N_j, N_j, N_j, N_m, N_m, N_m))\n",
    "    \n",
    "    for i, j_1 in enumerate(j_array):\n",
    "        m_1_array = np.arange(-j_1, j_1+1)\n",
    "        for j, j_2 in enumerate(j_array):\n",
    "            m_2_array = np.arange(-j_2, j_2+1)\n",
    "            j_3_array = np.arange(np.abs(j_1-j_2), j_1+j_2+1)\n",
    "            for k, j_3 in enumerate(j_array):\n",
    "                m_3_array = np.arange(-j_3, j_3+1)\n",
    "                for l, m_1 in enumerate(m_array):\n",
    "                    for m, m_2 in enumerate(m_array):\n",
    "                        for n, m_3 in enumerate(m_array):\n",
    "                            \n",
    "                            selection_rules = (\n",
    "                                np.any(j_3 == j_3_array)\n",
    "                                and np.any(m_1 == m_1_array)\n",
    "                                and np.any(m_2 == m_2_array)\n",
    "                                and np.any(m_3 == m_3_array)\n",
    "                                and m_1 + m_2 == m_3\n",
    "                            )\n",
    "\n",
    "                            if selection_rules:\n",
    "\n",
    "                                cg_array[i, j, k, l, m, n] = float(\n",
    "                                    CG(j_1,m_1,j_2,m_2,j_3,m_3).doit()\n",
    "                                )\n",
    "    \n",
    "    return jnp.array(cg_array, dtype=jnp.float64), N_j"
   ]
  },
  {
   "cell_type": "code",
   "execution_count": 5,
   "id": "57718d7c",
   "metadata": {
    "code_folding": [
     0
    ]
   },
   "outputs": [],
   "source": [
    "def cg_mapping(j, m, N_j):\n",
    "    \"\"\"Return the indices of the input angular momentum and projection for the\n",
    "    array of Clebsch-Gordan coefficients.\n",
    "    \"\"\"\n",
    "    \n",
    "    j_index = jnp.array(j / 0.5, dtype=int)\n",
    "    m_index = jnp.array(jnp.abs(m/0.5) + jnp.heaviside(-m, 0) * (N_j-1),\n",
    "                        dtype=int)\n",
    "\n",
    "    return j_index, m_index"
   ]
  },
  {
   "cell_type": "code",
   "execution_count": 6,
   "id": "b29db981",
   "metadata": {
    "code_folding": [
     0
    ]
   },
   "outputs": [],
   "source": [
    "def clebsch_gordan_coefficient(j1, m1, j2, m2, j3, m3, cg_array, N_j):\n",
    "    \"\"\"Clebsch-Gordan coefficient < j1 m1 j2 m2 | j3 m3 >.\"\"\"\n",
    "    \n",
    "    ij, im = cg_mapping(j1, m1, N_j)\n",
    "    jj, jm = cg_mapping(j2, m2, N_j)\n",
    "    kj, km = cg_mapping(j3, m3, N_j)\n",
    "    \n",
    "    return cg_array[ij, jj, kj, im, jm, km]"
   ]
  },
  {
   "cell_type": "code",
   "execution_count": 7,
   "id": "93aa2599",
   "metadata": {
    "code_folding": []
   },
   "outputs": [],
   "source": [
    "@partial(jit, static_argnums=(7,))\n",
    "def clebsch_gordan_coefficient_vmap(j1, m1, j2, m2, j3, m3, cg_array, N_j):\n",
    "    return vmap(\n",
    "        clebsch_gordan_coefficient, in_axes=(0, 0, 0, 0, 0, 0, None, None),\n",
    "        out_axes=(0)\n",
    "    )(j1, m1, j2, m2, j3, m3, cg_array, N_j)"
   ]
  },
  {
   "cell_type": "code",
   "execution_count": 8,
   "id": "30a6e5b0",
   "metadata": {
    "code_folding": []
   },
   "outputs": [],
   "source": [
    "cg_array, N_j = compute_cg_array(1)"
   ]
  },
  {
   "cell_type": "code",
   "execution_count": 9,
   "id": "365fca1e",
   "metadata": {},
   "outputs": [],
   "source": [
    "# Spin arrays\n",
    "s_array = jnp.repeat(1/2, 10)\n",
    "m1_array = jnp.array([1/2, -1/2, 1/2, -1/2, 1/2, -1/2, 1/2, -1/2, 1/2, -1/2])\n",
    "m2_array = jnp.array([1/2, 1/2, 1/2, 1/2, 1/2, -1/2, -1/2, -1/2, -1/2, -1/2])\n",
    "S_array = jnp.array([0, 0, 0, 0, 0, 1, 1, 1, 1, 1])\n",
    "M_array = jnp.array([0, 0, 0, 0, 0, 1, 0, 1, 0, 1])"
   ]
  },
  {
   "cell_type": "code",
   "execution_count": 10,
   "id": "a1f0b293",
   "metadata": {
    "scrolled": false
   },
   "outputs": [
    {
     "name": "stdout",
     "output_type": "stream",
     "text": [
      "3.4 µs ± 62.9 ns per loop (mean ± std. dev. of 7 runs, 100,000 loops each)\n"
     ]
    }
   ],
   "source": [
    "%timeit cgs = clebsch_gordan_coefficient_vmap(s_array, m1_array, s_array, m2_array, S_array, M_array, cg_array, N_j)"
   ]
  },
  {
   "cell_type": "markdown",
   "id": "9de63ec9",
   "metadata": {},
   "source": [
    "## Function that depends on several functions that could be vectorized"
   ]
  },
  {
   "cell_type": "code",
   "execution_count": 11,
   "id": "daca0cf9",
   "metadata": {
    "code_folding": [
     0
    ]
   },
   "outputs": [],
   "source": [
    "def kronecker_delta(x, y):\n",
    "    \"\"\"Kronecker \\delta function: \\delta_{x,y}.\"\"\"\n",
    "    \n",
    "    return jnp.array(x == y, dtype=int)"
   ]
  },
  {
   "cell_type": "markdown",
   "id": "2a3027cc",
   "metadata": {},
   "source": [
    "### Sub-functions are vectorized"
   ]
  },
  {
   "cell_type": "code",
   "execution_count": 12,
   "id": "9990a40e",
   "metadata": {},
   "outputs": [],
   "source": [
    "@jit\n",
    "def kronecker_delta_vmap(x, y):\n",
    "    return vmap(kronecker_delta)(x, y)"
   ]
  },
  {
   "cell_type": "code",
   "execution_count": 13,
   "id": "ea817b22",
   "metadata": {
    "code_folding": []
   },
   "outputs": [],
   "source": [
    "def spinor_sph_harm(theta, phi, l, j, m_j, m_t, sigma, tau, cg_array, N_j):\n",
    "    \n",
    "    s = jnp.repeat(1/2, sigma.size)\n",
    "    m_s = sigma\n",
    "    \n",
    "    m_l = m_j - m_s\n",
    "    \n",
    "    # Calls clebsch_gordan_coefficient_vmap\n",
    "    cg = clebsch_gordan_coefficient_vmap(\n",
    "        l, m_l, s, m_s, j, m_j, cg_array, N_j).block_until_ready()\n",
    "    \n",
    "    # Isospinor indexed by \\tau \\chi_{m_t}(\\tau)\n",
    "    chi_tau = kronecker_delta_vmap(tau, m_t).block_until_ready()\n",
    "    \n",
    "    # Calls sph_harm or sph_harm_jax (which is already vectorized)\n",
    "    # NumPy\n",
    "    Y_lmj = jnp.where(\n",
    "        jnp.abs(m_l) <= l,\n",
    "        cg * chi_tau * sph_harm(m_l, l, phi, theta), 0+0j\n",
    "    )\n",
    "\n",
    "    return Y_lmj"
   ]
  },
  {
   "cell_type": "code",
   "execution_count": 14,
   "id": "bc0efa5c",
   "metadata": {},
   "outputs": [],
   "source": [
    "cg_array, N_j = compute_cg_array(3)"
   ]
  },
  {
   "cell_type": "code",
   "execution_count": 15,
   "id": "38db718b",
   "metadata": {},
   "outputs": [],
   "source": [
    "theta = jnp.linspace(0.0, jnp.pi, 100)\n",
    "phi = jnp.linspace(0.0, 2*jnp.pi, 100)\n",
    "l = jnp.repeat(jnp.array([0, 1]), 50)\n",
    "j = jnp.repeat(jnp.array([1/2, 1/2, 3/2, 1/2]), 25)\n",
    "m_j = jnp.repeat(\n",
    "    jnp.array([1/2, -1/2, 1/2, -1/2, 3/2, 1/2, -1/2, -3/2, 1/2, -1/2]), 10\n",
    ")\n",
    "m_t = jnp.repeat(1/2, 100)\n",
    "sigma = jnp.repeat(jnp.array([1/2, -1/2]), 50)\n",
    "tau = jnp.repeat(jnp.array([1/2, -1/2]), 50)"
   ]
  },
  {
   "cell_type": "code",
   "execution_count": 16,
   "id": "271a63bf",
   "metadata": {},
   "outputs": [
    {
     "name": "stdout",
     "output_type": "stream",
     "text": [
      "248 µs ± 7.45 µs per loop (mean ± std. dev. of 7 runs, 1,000 loops each)\n"
     ]
    }
   ],
   "source": [
    "%timeit Y_lmj = spinor_sph_harm(theta, phi, l, j, m_j, m_t, sigma, tau, cg_array, N_j)"
   ]
  },
  {
   "cell_type": "markdown",
   "id": "772acf44",
   "metadata": {},
   "source": [
    "### Main function is vectorized"
   ]
  },
  {
   "cell_type": "markdown",
   "id": "a36a7bfe",
   "metadata": {},
   "source": [
    "_Can't get this to work._"
   ]
  },
  {
   "cell_type": "code",
   "execution_count": 17,
   "id": "1d08f54e",
   "metadata": {
    "code_folding": [
     0
    ]
   },
   "outputs": [],
   "source": [
    "# def spinor_sph_harm_2(theta, phi, l, m_l, sigma, j, m_j, m_t, tau, cg_array, N_j, l_max):\n",
    "    \n",
    "#     s = jnp.repeat(1/2, sigma.size)\n",
    "    \n",
    "#     # Calls clebsch_gordan_coefficient_vmap\n",
    "#     cg = clebsch_gordan_coefficient(l, m_l, s, sigma, j, m_j, cg_array, N_j)\n",
    "    \n",
    "#     # Isospinor indexed by \\tau \\chi_{m_t}(\\tau)\n",
    "#     chi_tau = kronecker_delta(tau, m_t)\n",
    "    \n",
    "#     # Calls sph_harm (which is already vectorized)\n",
    "#     Y_lm = sph_harm_jax(m_l, l, phi, theta, n_max=l_max)\n",
    "#     Y_lmj = jnp.where(jnp.abs(m_l) <= l, cg * chi_tau * Y_lm, 0+0j)\n",
    "\n",
    "#     return Y_lmj"
   ]
  },
  {
   "cell_type": "code",
   "execution_count": 18,
   "id": "58060b2e",
   "metadata": {
    "code_folding": [
     1
    ]
   },
   "outputs": [],
   "source": [
    "# @partial(jit, static_argnums=(10,11,))\n",
    "# def spinor_sph_harm_vmap(theta, phi, l, m_l, sigma, j, m_j, m_t, tau, cg_array, N_j, l_max):\n",
    "    \n",
    "#     return vmap(\n",
    "#         spinor_sph_harm_2, in_axes=(0, 0, 0, 0, 0, 0, 0, 0, 0, None, None, None),\n",
    "#         out_axes=(0)\n",
    "#     )(theta, phi, l, m_l, sigma, j, m_j, m_t, tau, cg_array, N_j, l_max)"
   ]
  },
  {
   "cell_type": "code",
   "execution_count": 19,
   "id": "b619c7c9",
   "metadata": {},
   "outputs": [],
   "source": [
    "# m_l = m_j - sigma"
   ]
  },
  {
   "cell_type": "code",
   "execution_count": 20,
   "id": "154d6c2e",
   "metadata": {},
   "outputs": [],
   "source": [
    "# %timeit Y_lmj = spinor_sph_harm_vmap(theta, phi, l, m_l, sigma, j, m_j, m_t, tau, cg_array, N_j, 1).block_until_ready()"
   ]
  },
  {
   "cell_type": "markdown",
   "id": "a34208b7",
   "metadata": {},
   "source": [
    "## Function with scalar input $x$ which outputs quantum number arrays"
   ]
  },
  {
   "cell_type": "code",
   "execution_count": 21,
   "id": "59bb72ee",
   "metadata": {},
   "outputs": [],
   "source": [
    "delta_U_quantum_numbers = np.loadtxt('O16_quantum_numbers.txt')\n",
    "delU_Ntot = delta_U_quantum_numbers.shape[0]\n",
    "x_array = np.linspace(0.01, 1.0, 100)"
   ]
  },
  {
   "cell_type": "code",
   "execution_count": 22,
   "id": "59ab2072",
   "metadata": {},
   "outputs": [
    {
     "name": "stdout",
     "output_type": "stream",
     "text": [
      "127 µs ± 2.08 µs per loop (mean ± std. dev. of 7 runs, 10,000 loops each)\n"
     ]
    }
   ],
   "source": [
    "# Looping\n",
    "def get_quantum_numbers_looping(x_array):\n",
    "    \n",
    "    quantum_numbers = np.zeros((x_array.size, 28))\n",
    "    \n",
    "    for i, x in enumerate(x_array):\n",
    "    \n",
    "        # Index for combination of s.p. and partial wave channel quantum numbers\n",
    "        index = np.floor(x * (delU_Ntot-1)).astype(int)\n",
    "\n",
    "        quantum_numbers[i] = delta_U_quantum_numbers[index]\n",
    "        \n",
    "    return quantum_numbers\n",
    "\n",
    "%timeit quantum_numbers_1 = get_quantum_numbers_looping(x_array)"
   ]
  },
  {
   "cell_type": "code",
   "execution_count": 23,
   "id": "586cdf6f",
   "metadata": {},
   "outputs": [
    {
     "name": "stdout",
     "output_type": "stream",
     "text": [
      "21 µs ± 84.4 ns per loop (mean ± std. dev. of 7 runs, 10,000 loops each)\n"
     ]
    }
   ],
   "source": [
    "# NumPy\n",
    "def get_quantum_numbers(x):\n",
    "    \n",
    "    index = np.floor(x * (delU_Ntot-1)).astype(int)\n",
    "    return delta_U_quantum_numbers[index]\n",
    "\n",
    "get_quantum_numbers_numpy = np.vectorize(get_quantum_numbers,\n",
    "                                         signature='(n)->(n,28)')\n",
    "\n",
    "%timeit quantum_numbers_2 = get_quantum_numbers_numpy(x_array)"
   ]
  },
  {
   "cell_type": "code",
   "execution_count": 24,
   "id": "3f5af921",
   "metadata": {},
   "outputs": [
    {
     "name": "stdout",
     "output_type": "stream",
     "text": [
      "2.77 µs ± 19 ns per loop (mean ± std. dev. of 7 runs, 100,000 loops each)\n"
     ]
    }
   ],
   "source": [
    "# JAX\n",
    "delta_U_quantum_numbers = jnp.array(np.loadtxt('O16_quantum_numbers.txt'))\n",
    "delU_Ntot = delta_U_quantum_numbers.shape[0]\n",
    "x_array = jnp.linspace(0.01, 1.0, 100)\n",
    "\n",
    "def get_quantum_numbers_jax(x):\n",
    "    \n",
    "    index = jnp.floor(x * (delU_Ntot-1)).astype(int)\n",
    "    return delta_U_quantum_numbers[index]\n",
    "\n",
    "@jit\n",
    "def get_quantum_numbers_jax_vmap(x_array):\n",
    "    return vmap(get_quantum_numbers_jax)(x_array)\n",
    "\n",
    "%timeit quantum_numbers_3 = get_quantum_numbers_jax_vmap(x_array).block_until_ready()"
   ]
  },
  {
   "cell_type": "markdown",
   "id": "5cdd354f",
   "metadata": {},
   "source": [
    "## Function that calls an interpolating function"
   ]
  },
  {
   "cell_type": "code",
   "execution_count": 25,
   "id": "6ff76865",
   "metadata": {},
   "outputs": [],
   "source": [
    "# Functions rely on this function\n",
    "def phi_func(k):\n",
    "    return np.exp(-k**2)/4"
   ]
  },
  {
   "cell_type": "code",
   "execution_count": 26,
   "id": "9c02325b",
   "metadata": {},
   "outputs": [],
   "source": [
    "k_array = np.linspace(0, 15, 100)"
   ]
  },
  {
   "cell_type": "code",
   "execution_count": 27,
   "id": "b3d5b641",
   "metadata": {},
   "outputs": [],
   "source": [
    "def spinor_sph_harm_python(theta, phi, l, j, m_j, m_t, sigma, tau, cg_array,\n",
    "                           N_j):\n",
    "    \n",
    "    s = np.repeat(1/2, sigma.size)\n",
    "    m_s = sigma\n",
    "    \n",
    "    m_l = m_j - m_s\n",
    "    \n",
    "    cg = clebsch_gordan_coefficient(l, m_l, s, m_s, j, m_j, cg_array, N_j)\n",
    "    \n",
    "    chi_tau = kronecker_delta(tau, m_t)\n",
    "    \n",
    "    Y_lmj = np.where(\n",
    "        np.abs(m_l) <= l, cg * chi_tau * sph_harm(m_l, l, phi, theta), 0+0j\n",
    "    )\n",
    "    \n",
    "    return Y_lmj"
   ]
  },
  {
   "cell_type": "code",
   "execution_count": 28,
   "id": "65bf3134",
   "metadata": {},
   "outputs": [
    {
     "name": "stdout",
     "output_type": "stream",
     "text": [
      "1.71 ms ± 19.1 µs per loop (mean ± std. dev. of 7 runs, 1,000 loops each)\n"
     ]
    }
   ],
   "source": [
    "# Python vectorized functions\n",
    "def psi(k, theta, phi, l, j, m_j, m_t, sigma, tau, cg_array, N_j, sp_wf):\n",
    "    \n",
    "    # Call pure Python function that already exists\n",
    "    phi_array = sp_wf(k)\n",
    "    \n",
    "    Y_jml = spinor_sph_harm_python(theta, phi, l, j, m_j, m_t, sigma, tau,\n",
    "                                   cg_array, N_j)\n",
    "    \n",
    "    return phi_array * Y_jml\n",
    "\n",
    "%timeit psi(k_array, theta, phi, l, j, m_j, m_t, sigma, tau, cg_array, N_j, phi_func)"
   ]
  },
  {
   "cell_type": "code",
   "execution_count": 29,
   "id": "ebb52d42",
   "metadata": {},
   "outputs": [
    {
     "name": "stdout",
     "output_type": "stream",
     "text": [
      "247 µs ± 1.94 µs per loop (mean ± std. dev. of 7 runs, 1,000 loops each)\n"
     ]
    }
   ],
   "source": [
    "# JAX vectorized functions with call to phi_func\n",
    "def psi_jax(k, theta, phi, l, j, m_j, m_t, sigma, tau, cg_array, N_j, sp_wf):\n",
    "    \n",
    "    phi_array = sp_wf(k)\n",
    "    \n",
    "    Y_jml = spinor_sph_harm(theta, phi, l, j, m_j, m_t, sigma, tau, cg_array,\n",
    "                            N_j)\n",
    "    \n",
    "    return phi_array * Y_jml\n",
    "\n",
    "%timeit psi_jax(k_array, theta, phi, l, j, m_j, m_t, sigma, tau, cg_array, N_j, phi_func)"
   ]
  },
  {
   "cell_type": "markdown",
   "id": "8c30bf8a",
   "metadata": {},
   "source": [
    "## Which case is the most expensive within the integrand function?"
   ]
  },
  {
   "cell_type": "code",
   "execution_count": null,
   "id": "dd412cd2",
   "metadata": {},
   "outputs": [],
   "source": [
    "# CHECK INTEGRAND FUNCTION - WHAT TAKES THE LONGEST"
   ]
  },
  {
   "cell_type": "code",
   "execution_count": null,
   "id": "27e14406",
   "metadata": {},
   "outputs": [],
   "source": []
  },
  {
   "cell_type": "code",
   "execution_count": null,
   "id": "cf15a7ed",
   "metadata": {},
   "outputs": [],
   "source": []
  },
  {
   "cell_type": "code",
   "execution_count": null,
   "id": "dc62b6f4",
   "metadata": {},
   "outputs": [],
   "source": []
  },
  {
   "cell_type": "code",
   "execution_count": null,
   "id": "acd1b056",
   "metadata": {},
   "outputs": [],
   "source": []
  },
  {
   "cell_type": "code",
   "execution_count": null,
   "id": "e6fb989b",
   "metadata": {},
   "outputs": [],
   "source": []
  },
  {
   "cell_type": "code",
   "execution_count": null,
   "id": "9f51be31",
   "metadata": {},
   "outputs": [],
   "source": []
  },
  {
   "cell_type": "code",
   "execution_count": null,
   "id": "9e79e304",
   "metadata": {},
   "outputs": [],
   "source": []
  }
 ],
 "metadata": {
  "kernelspec": {
   "display_name": "Python 3 (ipykernel)",
   "language": "python",
   "name": "python3"
  },
  "language_info": {
   "codemirror_mode": {
    "name": "ipython",
    "version": 3
   },
   "file_extension": ".py",
   "mimetype": "text/x-python",
   "name": "python",
   "nbconvert_exporter": "python",
   "pygments_lexer": "ipython3",
   "version": "3.9.13"
  }
 },
 "nbformat": 4,
 "nbformat_minor": 5
}

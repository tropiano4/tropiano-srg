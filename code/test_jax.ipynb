{
 "cells": [
  {
   "cell_type": "markdown",
   "id": "357a90e8",
   "metadata": {},
   "source": [
    "# Testing JAX\n",
    "\n",
    "__Author:__ A. J. Tropiano [atropiano@anl.gov]<br/>\n",
    "__Date:__ May 3, 2023\n",
    "\n",
    "In this notebook, we test how to use `jax.numpy`, vectorize functions using `jax.vmap`, and possibly speed-up functions using `jax.jit`.\n",
    "\n",
    "_Last update:_ May 22, 2023"
   ]
  },
  {
   "cell_type": "code",
   "execution_count": 1,
   "id": "6fda7c55",
   "metadata": {},
   "outputs": [],
   "source": [
    "# Python imports\n",
    "from functools import partial\n",
    "from jax import config, jit, lax, vmap\n",
    "import jax.numpy as jnp\n",
    "from jax.scipy.special import sph_harm as sph_harm_jax\n",
    "import numpy as np\n",
    "from scipy.interpolate import interp1d, RectBivariateSpline\n",
    "from scipy.special import sph_harm, spherical_jn\n",
    "from sympy.physics.quantum.cg import CG\n",
    "import timeit"
   ]
  },
  {
   "cell_type": "code",
   "execution_count": 2,
   "id": "e53d6b33",
   "metadata": {},
   "outputs": [],
   "source": [
    "# Imports from scripts\n",
    "from scripts.integration import momentum_mesh, unattach_weights_from_matrix\n",
    "from scripts.potentials import Potential\n",
    "from scripts.srg import load_srg_transformation\n",
    "from scripts.tools import coupled_channel\n",
    "from scripts.woodsaxon import ws"
   ]
  },
  {
   "cell_type": "code",
   "execution_count": 3,
   "id": "4e0d086f",
   "metadata": {},
   "outputs": [],
   "source": [
    "# Enable double-precision with JAX arrays\n",
    "config.update(\"jax_enable_x64\", True)"
   ]
  },
  {
   "cell_type": "markdown",
   "id": "33b14b3f",
   "metadata": {
    "code_folding": [
     0
    ]
   },
   "source": [
    "## Function that depends on scalar and array parameters"
   ]
  },
  {
   "cell_type": "code",
   "execution_count": 4,
   "id": "9c6949b1",
   "metadata": {
    "code_folding": [
     0
    ],
    "scrolled": false
   },
   "outputs": [],
   "source": [
    "def compute_cg_array(j_max):\n",
    "    \n",
    "    j_array = np.arange(0, j_max+1/2, 1/2)\n",
    "    N_j = j_array.size\n",
    "    m_array = np.concatenate((j_array, -j_array[1:]))\n",
    "    N_m = m_array.size\n",
    "    \n",
    "    cg_array = np.zeros((N_j, N_j, N_j, N_m, N_m, N_m))\n",
    "    \n",
    "    for i, j_1 in enumerate(j_array):\n",
    "        m_1_array = np.arange(-j_1, j_1+1)\n",
    "        for j, j_2 in enumerate(j_array):\n",
    "            m_2_array = np.arange(-j_2, j_2+1)\n",
    "            j_3_array = np.arange(np.abs(j_1-j_2), j_1+j_2+1)\n",
    "            for k, j_3 in enumerate(j_array):\n",
    "                m_3_array = np.arange(-j_3, j_3+1)\n",
    "                for l, m_1 in enumerate(m_array):\n",
    "                    for m, m_2 in enumerate(m_array):\n",
    "                        for n, m_3 in enumerate(m_array):\n",
    "                            \n",
    "                            selection_rules = (\n",
    "                                np.any(j_3 == j_3_array)\n",
    "                                and np.any(m_1 == m_1_array)\n",
    "                                and np.any(m_2 == m_2_array)\n",
    "                                and np.any(m_3 == m_3_array)\n",
    "                                and m_1 + m_2 == m_3\n",
    "                            )\n",
    "\n",
    "                            if selection_rules:\n",
    "\n",
    "                                cg_array[i, j, k, l, m, n] = float(\n",
    "                                    CG(j_1,m_1,j_2,m_2,j_3,m_3).doit()\n",
    "                                )\n",
    "    \n",
    "    return jnp.array(cg_array, dtype=jnp.float64), N_j"
   ]
  },
  {
   "cell_type": "code",
   "execution_count": 5,
   "id": "57718d7c",
   "metadata": {
    "code_folding": [
     0
    ]
   },
   "outputs": [],
   "source": [
    "def cg_mapping(j, m, N_j):\n",
    "    \"\"\"Return the indices of the input angular momentum and projection for the\n",
    "    array of Clebsch-Gordan coefficients.\n",
    "    \"\"\"\n",
    "    \n",
    "    j_index = jnp.array(j / 0.5, dtype=int)\n",
    "    m_index = jnp.array(jnp.abs(m/0.5) + jnp.heaviside(-m, 0) * (N_j-1),\n",
    "                        dtype=int)\n",
    "\n",
    "    return j_index, m_index"
   ]
  },
  {
   "cell_type": "code",
   "execution_count": 6,
   "id": "b29db981",
   "metadata": {
    "code_folding": [
     0
    ]
   },
   "outputs": [],
   "source": [
    "def clebsch_gordan_coefficient(j1, m1, j2, m2, j3, m3, cg_array, N_j):\n",
    "    \"\"\"Clebsch-Gordan coefficient < j1 m1 j2 m2 | j3 m3 >.\"\"\"\n",
    "    \n",
    "    ij, im = cg_mapping(j1, m1, N_j)\n",
    "    jj, jm = cg_mapping(j2, m2, N_j)\n",
    "    kj, km = cg_mapping(j3, m3, N_j)\n",
    "    \n",
    "    return cg_array[ij, jj, kj, im, jm, km]"
   ]
  },
  {
   "cell_type": "code",
   "execution_count": 7,
   "id": "93aa2599",
   "metadata": {
    "code_folding": []
   },
   "outputs": [],
   "source": [
    "@partial(jit, static_argnums=(7,))\n",
    "def clebsch_gordan_coefficient_vmap(j1, m1, j2, m2, j3, m3, cg_array, N_j):\n",
    "    return vmap(\n",
    "        clebsch_gordan_coefficient, in_axes=(0, 0, 0, 0, 0, 0, None, None),\n",
    "        out_axes=(0)\n",
    "    )(j1, m1, j2, m2, j3, m3, cg_array, N_j)"
   ]
  },
  {
   "cell_type": "code",
   "execution_count": 8,
   "id": "30a6e5b0",
   "metadata": {
    "code_folding": []
   },
   "outputs": [],
   "source": [
    "cg_array, N_j = compute_cg_array(1)"
   ]
  },
  {
   "cell_type": "code",
   "execution_count": 9,
   "id": "365fca1e",
   "metadata": {},
   "outputs": [],
   "source": [
    "# Spin arrays\n",
    "s_array = jnp.repeat(1/2, 10)\n",
    "m1_array = jnp.array([1/2, -1/2, 1/2, -1/2, 1/2, -1/2, 1/2, -1/2, 1/2, -1/2])\n",
    "m2_array = jnp.array([1/2, 1/2, 1/2, 1/2, 1/2, -1/2, -1/2, -1/2, -1/2, -1/2])\n",
    "S_array = jnp.array([0, 0, 0, 0, 0, 1, 1, 1, 1, 1])\n",
    "M_array = jnp.array([0, 0, 0, 0, 0, 1, 0, 1, 0, 1])"
   ]
  },
  {
   "cell_type": "code",
   "execution_count": 10,
   "id": "a1f0b293",
   "metadata": {
    "scrolled": false
   },
   "outputs": [
    {
     "name": "stdout",
     "output_type": "stream",
     "text": [
      "3.33 µs ± 19.9 ns per loop (mean ± std. dev. of 7 runs, 100,000 loops each)\n"
     ]
    }
   ],
   "source": [
    "%timeit cgs = clebsch_gordan_coefficient_vmap(s_array, m1_array, s_array, m2_array, S_array, M_array, cg_array, N_j)"
   ]
  },
  {
   "cell_type": "markdown",
   "id": "9de63ec9",
   "metadata": {},
   "source": [
    "## Function that depends on several functions that could be vectorized"
   ]
  },
  {
   "cell_type": "code",
   "execution_count": 11,
   "id": "daca0cf9",
   "metadata": {
    "code_folding": []
   },
   "outputs": [],
   "source": [
    "def kronecker_delta(x, y):\n",
    "    \"\"\"Kronecker \\delta function: \\delta_{x,y}.\"\"\"\n",
    "    \n",
    "    return jnp.array(x == y, dtype=int)"
   ]
  },
  {
   "cell_type": "markdown",
   "id": "2a3027cc",
   "metadata": {},
   "source": [
    "### Sub-functions are vectorized"
   ]
  },
  {
   "cell_type": "code",
   "execution_count": 12,
   "id": "9990a40e",
   "metadata": {},
   "outputs": [],
   "source": [
    "@jit\n",
    "def kronecker_delta_vmap(x, y):\n",
    "    return vmap(kronecker_delta)(x, y)"
   ]
  },
  {
   "cell_type": "code",
   "execution_count": 13,
   "id": "ea817b22",
   "metadata": {
    "code_folding": []
   },
   "outputs": [],
   "source": [
    "def spinor_sph_harm_1(theta, phi, l, s, j, m_j, m_t, sigma, tau, cg_array, N_j):\n",
    "    \n",
    "    m_s = sigma\n",
    "    \n",
    "    m_l = m_j - m_s\n",
    "    \n",
    "    # Calls clebsch_gordan_coefficient_vmap\n",
    "    cg = clebsch_gordan_coefficient_vmap(\n",
    "        l, m_l, s, m_s, j, m_j, cg_array, N_j).block_until_ready()\n",
    "#     print('cg:')\n",
    "#     %timeit cg = clebsch_gordan_coefficient_vmap(l, m_l, s, m_s, j, m_j, cg_array, N_j).block_until_ready()\n",
    "    \n",
    "    # Isospinor indexed by \\tau \\chi_{m_t}(\\tau)\n",
    "    chi_tau = kronecker_delta_vmap(tau, m_t).block_until_ready()\n",
    "#     print('chi_tau:')\n",
    "#     %timeit chi_tau = kronecker_delta_vmap(tau, m_t).block_until_ready()\n",
    "    \n",
    "    # Calls sph_harm or sph_harm_jax (which is already vectorized)\n",
    "    # NumPy\n",
    "#     Y_lmj = jnp.where(\n",
    "#         jnp.abs(m_l) <= l,\n",
    "#         cg * chi_tau * sph_harm(m_l, l, phi, theta), 0+0j\n",
    "#     )\n",
    "#     print('Y_lmj:')\n",
    "#     %timeit Y_lmj = jnp.where(jnp.abs(m_l) <= l, cg * chi_tau * sph_harm(m_l, l, phi, theta), 0+0j)\n",
    "    Y_lm = np.where(np.abs(m_l) <= l, sph_harm(m_l, l, phi, theta), 0+0j)\n",
    "#     print('Y_lm:')\n",
    "#     %timeit Y_lm = np.where(np.abs(m_l) <= l, sph_harm(m_l, l, phi, theta), 0+0j)\n",
    "\n",
    "    return cg * chi_tau * Y_lm"
   ]
  },
  {
   "cell_type": "code",
   "execution_count": 14,
   "id": "bc0efa5c",
   "metadata": {},
   "outputs": [],
   "source": [
    "cg_array, N_j = compute_cg_array(3)"
   ]
  },
  {
   "cell_type": "code",
   "execution_count": 15,
   "id": "38db718b",
   "metadata": {},
   "outputs": [],
   "source": [
    "theta = jnp.linspace(0.0, jnp.pi, 100)\n",
    "phi = jnp.linspace(0.0, 2*jnp.pi, 100)\n",
    "l = jnp.repeat(jnp.array([0, 1]), 50)\n",
    "s = jnp.repeat(1/2, 100)\n",
    "j = jnp.repeat(jnp.array([1/2, 1/2, 3/2, 1/2]), 25)\n",
    "m_j = jnp.repeat(\n",
    "    jnp.array([1/2, -1/2, 1/2, -1/2, 3/2, 1/2, -1/2, -3/2, 1/2, -1/2]), 10\n",
    ")\n",
    "m_t = jnp.repeat(1/2, 100)\n",
    "sigma = jnp.repeat(jnp.array([1/2, -1/2]), 50)\n",
    "tau = jnp.repeat(jnp.array([1/2, -1/2]), 50)"
   ]
  },
  {
   "cell_type": "code",
   "execution_count": 16,
   "id": "271a63bf",
   "metadata": {},
   "outputs": [
    {
     "name": "stdout",
     "output_type": "stream",
     "text": [
      "49.8 µs ± 590 ns per loop (mean ± std. dev. of 7 runs, 10,000 loops each)\n"
     ]
    }
   ],
   "source": [
    "%timeit Y_lmj = spinor_sph_harm_1(theta, phi, l, s, j, m_j, m_t, sigma, tau, cg_array, N_j)\n",
    "# Y_lmj = spinor_sph_harm_1(theta, phi, l, s, j, m_j, m_t, sigma, tau, cg_array, N_j)"
   ]
  },
  {
   "cell_type": "markdown",
   "id": "772acf44",
   "metadata": {},
   "source": [
    "### Main function is vectorized"
   ]
  },
  {
   "cell_type": "markdown",
   "id": "a36a7bfe",
   "metadata": {},
   "source": [
    "_Can't get this to work._"
   ]
  },
  {
   "cell_type": "code",
   "execution_count": 17,
   "id": "1d08f54e",
   "metadata": {
    "code_folding": [
     0
    ]
   },
   "outputs": [],
   "source": [
    "# def spinor_sph_harm_2(theta, phi, l, m_l, sigma, j, m_j, m_t, tau, cg_array, N_j, l_max):\n",
    "    \n",
    "#     s = jnp.repeat(1/2, sigma.size)\n",
    "    \n",
    "#     # Calls clebsch_gordan_coefficient_vmap\n",
    "#     cg = clebsch_gordan_coefficient(l, m_l, s, sigma, j, m_j, cg_array, N_j)\n",
    "    \n",
    "#     # Isospinor indexed by \\tau \\chi_{m_t}(\\tau)\n",
    "#     chi_tau = kronecker_delta(tau, m_t)\n",
    "    \n",
    "#     # Calls sph_harm (which is already vectorized)\n",
    "#     Y_lm = sph_harm_jax(m_l, l, phi, theta, n_max=l_max)\n",
    "#     Y_lmj = jnp.where(jnp.abs(m_l) <= l, cg * chi_tau * Y_lm, 0+0j)\n",
    "\n",
    "#     return Y_lmj"
   ]
  },
  {
   "cell_type": "code",
   "execution_count": 18,
   "id": "58060b2e",
   "metadata": {
    "code_folding": [
     1
    ]
   },
   "outputs": [],
   "source": [
    "# @partial(jit, static_argnums=(10,11,))\n",
    "# def spinor_sph_harm_vmap(theta, phi, l, m_l, sigma, j, m_j, m_t, tau, cg_array, N_j, l_max):\n",
    "    \n",
    "#     return vmap(\n",
    "#         spinor_sph_harm_2, in_axes=(0, 0, 0, 0, 0, 0, 0, 0, 0, None, None, None),\n",
    "#         out_axes=(0)\n",
    "#     )(theta, phi, l, m_l, sigma, j, m_j, m_t, tau, cg_array, N_j, l_max)"
   ]
  },
  {
   "cell_type": "code",
   "execution_count": 19,
   "id": "b619c7c9",
   "metadata": {},
   "outputs": [],
   "source": [
    "# m_l = m_j - sigma"
   ]
  },
  {
   "cell_type": "code",
   "execution_count": 20,
   "id": "154d6c2e",
   "metadata": {},
   "outputs": [],
   "source": [
    "# %timeit Y_lmj = spinor_sph_harm_vmap(theta, phi, l, m_l, sigma, j, m_j, m_t, tau, cg_array, N_j, 1).block_until_ready()"
   ]
  },
  {
   "cell_type": "markdown",
   "id": "a34208b7",
   "metadata": {},
   "source": [
    "## Function with scalar input $x$ which outputs quantum number arrays"
   ]
  },
  {
   "cell_type": "code",
   "execution_count": 21,
   "id": "59bb72ee",
   "metadata": {},
   "outputs": [],
   "source": [
    "delta_U_quantum_numbers = np.loadtxt('O16_quantum_numbers.txt')\n",
    "delU_Ntot = delta_U_quantum_numbers.shape[0]\n",
    "x_array = np.linspace(0.01, 1.0, 100)"
   ]
  },
  {
   "cell_type": "code",
   "execution_count": 22,
   "id": "59ab2072",
   "metadata": {
    "code_folding": []
   },
   "outputs": [
    {
     "name": "stdout",
     "output_type": "stream",
     "text": [
      "124 µs ± 982 ns per loop (mean ± std. dev. of 7 runs, 10,000 loops each)\n"
     ]
    }
   ],
   "source": [
    "# Looping\n",
    "def get_quantum_numbers_looping(x_array):\n",
    "    quantum_numbers = np.zeros((x_array.size, 28))\n",
    "    for i, x in enumerate(x_array):\n",
    "        # Index for combination of s.p. and partial wave channel quantum numbers\n",
    "        index = np.floor(x * (delU_Ntot-1)).astype(int)\n",
    "        quantum_numbers[i] = delta_U_quantum_numbers[index]    \n",
    "    return quantum_numbers\n",
    "\n",
    "%timeit quantum_numbers_1 = get_quantum_numbers_looping(x_array)"
   ]
  },
  {
   "cell_type": "code",
   "execution_count": 23,
   "id": "586cdf6f",
   "metadata": {
    "code_folding": []
   },
   "outputs": [
    {
     "name": "stdout",
     "output_type": "stream",
     "text": [
      "2.7 µs ± 6.07 ns per loop (mean ± std. dev. of 7 runs, 100,000 loops each)\n"
     ]
    }
   ],
   "source": [
    "# NumPy\n",
    "def get_quantum_numbers_python(x):\n",
    "    index = np.floor(x * (delU_Ntot-1)).astype(int)\n",
    "    return delta_U_quantum_numbers[index]\n",
    "\n",
    "%timeit quantum_numbers_2 = get_quantum_numbers_python(x_array)"
   ]
  },
  {
   "cell_type": "code",
   "execution_count": 24,
   "id": "3f5af921",
   "metadata": {
    "code_folding": []
   },
   "outputs": [
    {
     "name": "stdout",
     "output_type": "stream",
     "text": [
      "2.81 µs ± 37.6 ns per loop (mean ± std. dev. of 7 runs, 100,000 loops each)\n"
     ]
    }
   ],
   "source": [
    "# JAX\n",
    "delta_U_quantum_numbers = jnp.array(np.loadtxt('O16_quantum_numbers.txt'))\n",
    "delU_Ntot = delta_U_quantum_numbers.shape[0]\n",
    "x_array = jnp.linspace(0.01, 1.0, 100)\n",
    "\n",
    "def get_quantum_numbers_jax(x):\n",
    "    index = jnp.floor(x * (delU_Ntot-1)).astype(int)\n",
    "    return delta_U_quantum_numbers[index]\n",
    "\n",
    "@jit\n",
    "def get_quantum_numbers_jax_vmap(x_array):\n",
    "    return vmap(get_quantum_numbers_jax)(x_array)\n",
    "\n",
    "%timeit quantum_numbers_3 = get_quantum_numbers_jax_vmap(x_array).block_until_ready()"
   ]
  },
  {
   "cell_type": "markdown",
   "id": "5cdd354f",
   "metadata": {},
   "source": [
    "## Function that calls an interpolating function"
   ]
  },
  {
   "cell_type": "code",
   "execution_count": 25,
   "id": "6ff76865",
   "metadata": {},
   "outputs": [],
   "source": [
    "# Functions rely on this function\n",
    "def phi_func(k):\n",
    "    return np.exp(-k**2)/4"
   ]
  },
  {
   "cell_type": "code",
   "execution_count": 26,
   "id": "9c02325b",
   "metadata": {},
   "outputs": [],
   "source": [
    "k_array = np.linspace(0, 15, 100)"
   ]
  },
  {
   "cell_type": "code",
   "execution_count": 27,
   "id": "b3d5b641",
   "metadata": {},
   "outputs": [],
   "source": [
    "def spinor_sph_harm_python(theta, phi, l, s, j, m_j, m_t, sigma, tau, cg_array,\n",
    "                           N_j):\n",
    "    \n",
    "    m_s = sigma\n",
    "    \n",
    "    m_l = m_j - m_s\n",
    "    \n",
    "    cg = clebsch_gordan_coefficient(l, m_l, s, m_s, j, m_j, cg_array, N_j)\n",
    "    \n",
    "    chi_tau = kronecker_delta(tau, m_t)\n",
    "    \n",
    "    Y_lmj = np.where(\n",
    "        np.abs(m_l) <= l, cg * chi_tau * sph_harm(m_l, l, phi, theta), 0+0j\n",
    "    )\n",
    "    \n",
    "    return Y_lmj"
   ]
  },
  {
   "cell_type": "code",
   "execution_count": 28,
   "id": "65bf3134",
   "metadata": {},
   "outputs": [
    {
     "name": "stdout",
     "output_type": "stream",
     "text": [
      "1.65 ms ± 3.64 µs per loop (mean ± std. dev. of 7 runs, 1,000 loops each)\n"
     ]
    }
   ],
   "source": [
    "# Python vectorized functions\n",
    "def psi_python(k, theta, phi, l, s, j, m_j, m_t, sigma, tau, cg_array, N_j,\n",
    "               sp_wf):\n",
    "    \n",
    "    # Call pure Python function that already exists\n",
    "    phi_array = sp_wf(k)\n",
    "    \n",
    "    Y_jml = spinor_sph_harm_python(theta, phi, l, s, j, m_j, m_t, sigma, tau,\n",
    "                                   cg_array, N_j)\n",
    "    \n",
    "    return phi_array * Y_jml\n",
    "\n",
    "%timeit psi_python(k_array, theta, phi, l, s, j, m_j, m_t, sigma, tau, cg_array, N_j, phi_func)"
   ]
  },
  {
   "cell_type": "code",
   "execution_count": 29,
   "id": "ebb52d42",
   "metadata": {},
   "outputs": [
    {
     "name": "stdout",
     "output_type": "stream",
     "text": [
      "54.5 µs ± 702 ns per loop (mean ± std. dev. of 7 runs, 10,000 loops each)\n"
     ]
    }
   ],
   "source": [
    "# JAX vectorized functions with call to phi_func\n",
    "def psi_jax(k, theta, phi, l, s, j, m_j, m_t, sigma, tau, cg_array, N_j, sp_wf):\n",
    "    \n",
    "    phi_array = sp_wf(k)\n",
    "    \n",
    "    Y_jml = spinor_sph_harm_1(theta, phi, l, s, j, m_j, m_t, sigma, tau, cg_array,\n",
    "                              N_j)  # 43.9 microseconds\n",
    "    \n",
    "    return phi_array * Y_jml\n",
    "\n",
    "%timeit psi_jax(k_array, theta, phi, l, s, j, m_j, m_t, sigma, tau, cg_array, N_j, phi_func)"
   ]
  },
  {
   "cell_type": "markdown",
   "id": "8c30bf8a",
   "metadata": {},
   "source": [
    "## Which case is the most expensive within the integrand function?"
   ]
  },
  {
   "cell_type": "code",
   "execution_count": 30,
   "id": "2ca2a6e5",
   "metadata": {
    "code_folding": [
     0
    ]
   },
   "outputs": [],
   "source": [
    "class SingleParticleState:\n",
    "    \"\"\"\n",
    "    Single-particle state class. Packs together the following single-particle\n",
    "    quantum numbers into one object.\n",
    "    \n",
    "    Parameters\n",
    "    ----------\n",
    "    n : int\n",
    "        Principal quantum number n = 1, 2, ...\n",
    "    l : int\n",
    "        Orbital angular momentum l = 0, 1, ...\n",
    "    j : float\n",
    "        Total angular momentum j = 1/2, 3/2, ...\n",
    "    m_j : float\n",
    "        Total angular momentum projection m_j = -j, -j+1, ..., j.\n",
    "    m_t : float\n",
    "        Isospin projection m_t = 1/2 or -1/2.\n",
    "    \n",
    "    \"\"\"\n",
    "    \n",
    "    \n",
    "    def __init__(self, n, l, j, m_j, m_t):\n",
    "        \n",
    "        # Check if m_j is valid\n",
    "        if abs(m_j) > j:\n",
    "            raise RuntimeError(\"m_j is not valid.\")\n",
    "            \n",
    "        # Check that |m_t| = 1/2\n",
    "        if abs(m_t) != 1/2:\n",
    "            raise RuntimeError(\"m_t is not valid.\")\n",
    "            \n",
    "        self.n = n\n",
    "        self.l = l\n",
    "        self.j = j\n",
    "        self.m_j = m_j\n",
    "        self.m_t = m_t\n",
    "        \n",
    "        if m_t == 1/2:\n",
    "            self.nucleon = 'proton'\n",
    "        elif m_t == -1/2:\n",
    "            self.nucleon = 'neutron'\n",
    "        \n",
    "        \n",
    "    def __eq__(self, sp_state):\n",
    "\n",
    "        if (\n",
    "            self.n == sp_state.n and self.l == sp_state.l\n",
    "            and self.j == sp_state.j and self.m_j == sp_state.m_j\n",
    "            and self.m_t == sp_state.m_t\n",
    "        ):\n",
    "            \n",
    "            return True\n",
    "        \n",
    "        else:\n",
    "            \n",
    "            return False\n",
    "        \n",
    "        \n",
    "    def __str__(self):\n",
    "        \n",
    "        # Spectroscopic notation of orbital angular momentum\n",
    "        l_str = convert_l_to_string(self.l)  # E.g., 's', 'p', 'd', ...\n",
    "        \n",
    "        # Display j subscript as a fraction\n",
    "        numerator = 2*int(self.j) + 1\n",
    "        denominator = 2\n",
    "\n",
    "        return fr\"${self.n}{l_str}_{{{numerator}/{denominator}}}$\""
   ]
  },
  {
   "cell_type": "code",
   "execution_count": 31,
   "id": "9b56a51e",
   "metadata": {
    "code_folding": [
     0
    ]
   },
   "outputs": [],
   "source": [
    "class PartialWaveChannel:\n",
    "    \"\"\"\n",
    "    Partial wave channel class. Packs together the quantum numbers of a partial\n",
    "    wave channel into one object.\n",
    "    \n",
    "    Parameters\n",
    "    ----------\n",
    "    channel : str\n",
    "        Name of the channel (e.g., '1S0').\n",
    "    \n",
    "    \"\"\"\n",
    "\n",
    "    \n",
    "    def __init__(self, channel):\n",
    "    \n",
    "        # Set instance attributes\n",
    "        self.channel = channel\n",
    "        self.L, self.Lp = self.get_orbital_angular_momentum()\n",
    "        self.J = self.get_angular_momentum()\n",
    "        self.S = self.get_spin()\n",
    "        self.T = self.get_isospin(self.L, self.S)\n",
    "\n",
    "        \n",
    "    def __eq__(self, channel):\n",
    "\n",
    "        if (\n",
    "            self.L == channel.L and self.Lp == channel.Lp\n",
    "            and self.J == channel.J and self.S == channel.S\n",
    "            and self.T == channel.T\n",
    "        ):\n",
    "            \n",
    "            return True\n",
    "        \n",
    "        else:\n",
    "            \n",
    "            return False\n",
    "    \n",
    "    \n",
    "    def get_orbital_angular_momentum(self):\n",
    "        \"\"\"Gets the total orbital angular momentum L and L'.\"\"\"\n",
    "        \n",
    "        if self.channel[1] == 'S':\n",
    "            L = 0\n",
    "        elif self.channel[1] == 'P':\n",
    "            L = 1\n",
    "        elif self.channel[1] == 'D':\n",
    "            L = 2\n",
    "        elif self.channel[1] == 'F':\n",
    "            L = 3\n",
    "        elif self.channel[1] == 'G':\n",
    "            L = 4\n",
    "        elif self.channel[1] == 'H':\n",
    "            L = 5\n",
    "        else:\n",
    "            raise RuntimeError(\"Channel L exceeds the range of the function.\")\n",
    "            \n",
    "        # Coupled-channel\n",
    "        if coupled_channel(self.channel[:3]):\n",
    "            \n",
    "            if self.channel[5] == 'S':\n",
    "                Lp = 0\n",
    "            elif self.channel[5] == 'P':\n",
    "                Lp = 1\n",
    "            elif self.channel[5] == 'D':\n",
    "                Lp = 2\n",
    "            elif self.channel[5] == 'F':\n",
    "                Lp = 3\n",
    "            elif self.channel[5] == 'G':\n",
    "                Lp = 4\n",
    "            elif self.channel[5] == 'H':\n",
    "                Lp = 5\n",
    "            else:\n",
    "                raise RuntimeError(\n",
    "                    \"Channel L' exceeds the range of the function.\")\n",
    "        \n",
    "        # L = L' if the channel is not coupled\n",
    "        else:\n",
    "            \n",
    "            Lp = L\n",
    "            \n",
    "        return L, Lp\n",
    "    \n",
    "    \n",
    "    def get_angular_momentum(self):\n",
    "        \"\"\"Total angular momentum J = 0, 1, 2, ...\"\"\"\n",
    "        \n",
    "        J = int(self.channel[2])\n",
    "        \n",
    "        return J\n",
    "    \n",
    "    \n",
    "    def get_spin(self):\n",
    "        \"\"\"Total spin S = 0 or 1.\"\"\"\n",
    "        \n",
    "        S = int((int(self.channel[0])-1)/2)\n",
    "        \n",
    "        return S\n",
    "    \n",
    "    \n",
    "    def get_isospin(self, L, S):\n",
    "        \"\"\"Total isospin according to antisymmetry.\"\"\"\n",
    "    \n",
    "        # Make sure [1-(-1)^(L+S+T)] is not zero\n",
    "        if (1 - (-1) ** (L+S)) == 0:\n",
    "            T = 1\n",
    "        else:\n",
    "            T = 0\n",
    "        \n",
    "        return T"
   ]
  },
  {
   "cell_type": "code",
   "execution_count": 32,
   "id": "5204bbe0",
   "metadata": {
    "code_folding": [
     0
    ]
   },
   "outputs": [],
   "source": [
    "class WoodsSaxon:\n",
    "    \"\"\"\n",
    "    Woods-Saxon orbitals class. Handles the wave functions associated with the\n",
    "    Woods-Saxon potential from the subroutine in woodsaxon.f90. Outputs wave\n",
    "    functions in coordinate and momentum space.\n",
    "    \n",
    "    Parameters\n",
    "    ----------\n",
    "    nucleus_name : str\n",
    "        Name of the nucleus (e.g., 'O16', 'Ca40', etc.)\n",
    "    Z : int\n",
    "        Proton number of the nucleus.\n",
    "    N : int\n",
    "        Neutron number of the nucleus.\n",
    "    run_woodsaxon : bool, optional\n",
    "        Option to run the Woods-Saxon subroutine to generate orbital files.\n",
    "    n_max : int, optional\n",
    "        Maximum principal quantum number where n = 1, 2, ..., n_max.\n",
    "    l_max : int, optional\n",
    "        Maximum orbital angular momentum where l = 0, 1, ..., l_max.\n",
    "    rmax : float, optional\n",
    "        Maximum r for orbital tables.\n",
    "    ntab : int, optional\n",
    "        Number of points for orbital tables.\n",
    "        \n",
    "    \"\"\"\n",
    "    \n",
    "    \n",
    "    def __init__(\n",
    "        self, nucleus_name, Z, N, run_woodsaxon=True, n_max=0, l_max=0, rmax=40,\n",
    "        ntab=2000\n",
    "    ):\n",
    "        \n",
    "        # Set instance attributes\n",
    "        self.woods_saxon_directory = f\"../data/woods_saxon/{nucleus_name}/\"\n",
    "        self.dr = rmax / ntab\n",
    "        self.r_array = np.arange(self.dr, rmax + self.dr, self.dr)\n",
    "\n",
    "        # Generate orbitals?\n",
    "        if run_woodsaxon:\n",
    "            \n",
    "            self.run_woods_saxon_code(nucleus_name, Z, N, n_max, l_max, rmax,\n",
    "                                      ntab)\n",
    "\n",
    "            # Move output files to relevant directory\n",
    "            shutil.move(\"ws_log\", self.woods_saxon_directory + \"ws_log\")\n",
    "            shutil.move(\"ws_pot\", self.woods_saxon_directory + \"ws_pot\")\n",
    "            shutil.move(\"ws_rho\", self.woods_saxon_directory + \"ws_rho\")\n",
    "                \n",
    "        # Order single-particle states with lowest energy first\n",
    "        self.order_sp_states(Z, N)\n",
    "        \n",
    "        # Organize wave functions in dictionary with the file name as the key\n",
    "        self.sp_wfs = {}\n",
    "        for sp_state in self.sp_states:\n",
    "            # Wave functions are independent of m_j, so fix m_j=j\n",
    "            if sp_state.m_j == sp_state.j:\n",
    "                file_name = get_orbital_file_name(sp_state.n, sp_state.l,\n",
    "                                                  sp_state.j, sp_state.m_t)\n",
    "                if run_woodsaxon:\n",
    "                    shutil.move(file_name,\n",
    "                                self.woods_saxon_directory + file_name)\n",
    "                data = np.loadtxt(self.woods_saxon_directory + file_name)\n",
    "                # Use file name as the key\n",
    "                self.sp_wfs[file_name] = data[:, 1]\n",
    "\n",
    "            \n",
    "    def run_woods_saxon_code(\n",
    "            self, nucleus_name, Z, N, n_max, l_max, rmax, ntab\n",
    "    ):\n",
    "        \"\"\"Run Woods-Saxon code to generate data.\"\"\"\n",
    "        \n",
    "        # Total number of nucleons\n",
    "        A = Z + N\n",
    "        \n",
    "        # Type of orbitals: 1 - nucleons with no Coulomb\n",
    "        #                   2 - distinguish protons and neutrons\n",
    "        ntau = 2\n",
    "        \n",
    "        # Orbitals to consider (note, we track 2*j not j)\n",
    "        norb, lorb, jorb = [], [], []\n",
    "        for n in range(1, n_max+1):\n",
    "            for l in range(0, l_max+1):\n",
    "                norb.append(n)\n",
    "                lorb.append(l)\n",
    "                jorb.append(int(2*(l+1/2)))\n",
    "                if int(2*(l-1/2)) > 0:  # Don't append negative j\n",
    "                    norb.append(n)\n",
    "                    lorb.append(l)\n",
    "                    jorb.append(int(2*(l-1/2)))\n",
    "        nrad = len(jorb)\n",
    "        orbws = np.zeros(shape=(2,nrad,ntab), order='F')\n",
    "    \n",
    "        # Divide orbital by r? -> get R(r); false: get u(r)=r R(r)\n",
    "        rdiv = False\n",
    "        dens = True\n",
    "    \n",
    "        # Set parameters of the Woods-Saxon potential\n",
    "        prm = np.zeros(shape=(2,9), order='F')\n",
    "    \n",
    "        # Starting with vws (p & n)\n",
    "        if nucleus_name == 'He4':\n",
    "            prm[:,0] = 76.8412\n",
    "        elif nucleus_name == 'O16':\n",
    "            prm[:,0] = 58.0611\n",
    "        elif nucleus_name == 'Ca40':\n",
    "            prm[:,0] = 54.3051\n",
    "        elif nucleus_name == 'Ca48':\n",
    "            prm[0,0] = 59.4522\n",
    "            prm[1,0] = 46.9322\n",
    "    \n",
    "        # Not sure about these (better way to load these parameters?)\n",
    "        prm[:,1] = 1.275\n",
    "        prm[:,2] = 0.7\n",
    "        prm[:,3] = 0.\n",
    "        prm[:,4] = 1.\n",
    "        prm[:,5] = 36\n",
    "        prm[:,6] = 1.32\n",
    "        prm[:,7] = 0.7\n",
    "        prm[:,8] = 1.275\n",
    "        \n",
    "        # Print summary, potentials, and densities\n",
    "        prnt = True\n",
    "        prntorb = True\n",
    "\n",
    "        # Run Fortran subroutine\n",
    "        ws(ntau, A, Z, rmax, orbws, norb, lorb, jorb, prm, rdiv, prnt, prntorb,\n",
    "           dens)\n",
    "        \n",
    "        \n",
    "    def order_sp_states(self, Z, N):\n",
    "        \"\"\"Keep track of all s.p. states and occupied s.p. states\"\"\"\n",
    "\n",
    "        self.sp_states = []\n",
    "        self.occ_states = []\n",
    "        proton_count = 0\n",
    "        neutron_count = 0\n",
    "        \n",
    "        # File with details of the orbitals\n",
    "        ws_file = self.woods_saxon_directory + \"ws_log\"\n",
    "    \n",
    "        # Order single-particle states using the ws_log file\n",
    "        with open(ws_file, 'r') as f:\n",
    "            for line in f:\n",
    "                unit = line.strip().split()\n",
    "                \n",
    "                # Protons\n",
    "                if len(unit) > 0 and unit[0] == '1':\n",
    "\n",
    "                    j = int(unit[3])/2\n",
    "                    for m_j in np.arange(-j, j+1, 1):\n",
    "                        sp_state = SingleParticleState(\n",
    "                            int(unit[1])+1, int(unit[2]), j, m_j, 1/2\n",
    "                        )  # n, l, j, m_j, m_t\n",
    "                    \n",
    "                        self.sp_states.append(sp_state)\n",
    "                    \n",
    "                        if proton_count < Z:\n",
    "                            self.occ_states.append(sp_state)\n",
    "                            # Add up filled proton states\n",
    "                            proton_count += 1\n",
    "                    \n",
    "                \n",
    "                # Neutrons\n",
    "                elif len(unit) > 0 and unit[0] == '2':\n",
    "\n",
    "                    j = int(unit[3])/2\n",
    "                    for m_j in np.arange(-j, j+1, 1):\n",
    "                        sp_state = SingleParticleState(\n",
    "                            int(unit[1])+1, int(unit[2]), j, m_j, -1/2\n",
    "                        )  # n, l, j, m_j, m_t\n",
    "                    \n",
    "                        self.sp_states.append(sp_state)\n",
    "                    \n",
    "                        if neutron_count < N:\n",
    "                            self.occ_states.append(sp_state)\n",
    "                            # Add up filled neutron states\n",
    "                            neutron_count += 1\n",
    "                        \n",
    "                        \n",
    "    def get_wf_rspace(self, sp_state, print_normalization=False):\n",
    "        \"\"\"Single-particle wave function in coordinate space.\"\"\"\n",
    "        \n",
    "        # Orbital file name is the key\n",
    "        u_array = self.sp_wfs[get_orbital_file_name(sp_state.n, sp_state.l,\n",
    "                                                    sp_state.j, sp_state.m_t)]\n",
    "\n",
    "        # Normalization: \\int dr |u(r)|^2 = 1\n",
    "        if print_normalization:\n",
    "            normalization = np.sum(self.dr*u_array**2)\n",
    "            print(f\"Coordinate space normalization = {normalization}.\")\n",
    "\n",
    "        return self.r_array, u_array\n",
    "    \n",
    "    \n",
    "    def fourier_transformation(self, l, k_array):\n",
    "        \"\"\"Fourier transformation matrix for given orbital angular momentum.\"\"\"\n",
    "        \n",
    "        # r_array column vectors and k_array row vectors where both grids are\n",
    "        # n x m matrices\n",
    "        r_cols, k_rows = np.meshgrid(self.r_array, k_array)\n",
    "        \n",
    "        # Transformation matrix with shape n x m, where m is the length of\n",
    "        # r_array and n is the length of the k_array\n",
    "        M = 1j**(-l) * np.sqrt(2/np.pi) * self.dr * r_cols * spherical_jn(\n",
    "            l, k_rows*r_cols\n",
    "        )\n",
    "        \n",
    "        return M\n",
    "    \n",
    "    \n",
    "    def get_wf_kspace(\n",
    "            self, sp_state, kmax, kmid, ntot, print_normalization=False,\n",
    "            interpolate=False,\n",
    "            \n",
    "    ):\n",
    "        \"\"\"Single-particle wave function in momentum space.\"\"\"\n",
    "    \n",
    "        # Set momentum mesh with more points at low momentum\n",
    "        k_array, k_weights = momentum_mesh(kmax, kmid, ntot)\n",
    "    \n",
    "        # Get coordinate-space s.p. wave function\n",
    "        _, u_array = self.get_wf_rspace(sp_state)\n",
    "\n",
    "        # Fourier-transform the wave function to momentum space\n",
    "        phi_array = self.fourier_transformation(sp_state.l, k_array) @ u_array\n",
    "    \n",
    "        # Normalization: \\int dk k^2 |\\phi(k)|^2 = 1\n",
    "        if print_normalization:\n",
    "            normalization = np.sum(k_weights*k_array**2*abs(phi_array)**2)\n",
    "            print(f\"Momentum space normalization = {normalization}.\")\n",
    "            \n",
    "        # Interpolate and return function?\n",
    "        if interpolate:\n",
    "            phi_func = interp1d(k_array, phi_array, kind='linear',\n",
    "                                bounds_error=False, fill_value='extrapolate')\n",
    "            return phi_func\n",
    "        \n",
    "        # Otherwise return momentum, weights, and \\phi(k)\n",
    "        else:\n",
    "            return k_array, k_weights, phi_array"
   ]
  },
  {
   "cell_type": "code",
   "execution_count": 33,
   "id": "a406c399",
   "metadata": {
    "code_folding": [
     1
    ]
   },
   "outputs": [],
   "source": [
    "@jit   \n",
    "def build_vector(k, theta, phi):\n",
    "    \"\"\"\n",
    "    Build a vector from input spherical coordinates.\n",
    "\n",
    "    Parameters\n",
    "    ----------\n",
    "    k : array_like\n",
    "        Magnitude of the vector.\n",
    "    theta : array_like\n",
    "        Polar angle of the vector in the range [0, \\pi].\n",
    "    phi : array_like\n",
    "        Azimuthal angle of the vector in the range [0, 2\\pi].\n",
    "\n",
    "    Returns\n",
    "    -------\n",
    "    k_vector : array_like\n",
    "        Output vector with shape (3,1) or (3,N) where N is the size of each\n",
    "        input.\n",
    "\n",
    "    \"\"\"\n",
    "\n",
    "    k_vector = jnp.array([k * jnp.sin(theta) * jnp.cos(phi),\n",
    "                          k * jnp.sin(theta) * jnp.sin(phi),\n",
    "                          k * jnp.cos(theta)], dtype=jnp.float64)\n",
    "\n",
    "    return k_vector"
   ]
  },
  {
   "cell_type": "code",
   "execution_count": 34,
   "id": "1f12207a",
   "metadata": {
    "code_folding": [
     1
    ]
   },
   "outputs": [],
   "source": [
    "@jit\n",
    "def get_vector_components(k_vector):\n",
    "    \"\"\"\n",
    "    Get the spherical coordinates from an input vector.\n",
    "\n",
    "    Parameters\n",
    "    ----------\n",
    "    k_vector : array_like\n",
    "        Output vector with shape (3,1) or (3,N) where N is the size of each\n",
    "        input.\n",
    "\n",
    "    Returns\n",
    "    -------\n",
    "    k : array_like\n",
    "        Magnitude of the vector.\n",
    "    theta : array_like\n",
    "        Polar angle of the vector in the range [0, \\pi].\n",
    "    phi : array_like\n",
    "        Azimuthal angle of the vector in the range [0, 2\\pi].\n",
    "\n",
    "    \"\"\"\n",
    "\n",
    "    k = jnp.linalg.norm(k_vector, axis=0)\n",
    "    theta = jnp.arccos(k_vector[2]/k)\n",
    "    phi = jnp.arctan2(k_vector[1], k_vector[0])\n",
    "\n",
    "    return k, theta, phi"
   ]
  },
  {
   "cell_type": "code",
   "execution_count": 35,
   "id": "70248710",
   "metadata": {
    "code_folding": []
   },
   "outputs": [],
   "source": [
    "def get_orbital_file_name(n, l, j, m_t):\n",
    "    \"\"\"Returns the file name of the orbital.\"\"\"\n",
    "        \n",
    "    # Proton\n",
    "    if m_t == 1/2:\n",
    "        file_name = f\"p.n{int(n-1)}.l{int(l)}.j{int(2*j)}.orb\"\n",
    "    # Neutron\n",
    "    elif m_t == -1/2:\n",
    "        file_name = f\"n.n{int(n-1)}.l{int(l)}.j{int(2*j)}.orb\"\n",
    "        \n",
    "    return file_name"
   ]
  },
  {
   "cell_type": "code",
   "execution_count": 36,
   "id": "6b17d837",
   "metadata": {
    "code_folding": [
     0
    ]
   },
   "outputs": [],
   "source": [
    "def get_sp_wave_functions(sp_basis, kmax, kmid, ntot):\n",
    "    \"\"\"Set interpolating functions for s.p. wave functions \\phi.\"\"\"\n",
    "    \n",
    "    occ_states = sp_basis.occ_states\n",
    "\n",
    "    phi_functions = {}\n",
    "    for sp_state in occ_states: \n",
    "        file_name = get_orbital_file_name(sp_state.n, sp_state.l, sp_state.j,\n",
    "                                          sp_state.m_t)\n",
    "        phi_functions[file_name] = sp_basis.get_wf_kspace(\n",
    "            sp_state, kmax, kmid, ntot, interpolate=True)\n",
    "            \n",
    "    return phi_functions"
   ]
  },
  {
   "cell_type": "code",
   "execution_count": 37,
   "id": "91e5f61b",
   "metadata": {
    "code_folding": []
   },
   "outputs": [],
   "source": [
    "def get_phi_function(n, l, j, m_t, k, phi_functions):   \n",
    "    return phi_functions[get_orbital_file_name(n, l, j, m_t)](k)"
   ]
  },
  {
   "cell_type": "code",
   "execution_count": 39,
   "id": "00b2944f",
   "metadata": {
    "code_folding": []
   },
   "outputs": [],
   "source": [
    "def get_quantum_numbers(x, quantum_numbers, n):\n",
    "    \n",
    "    # index = jnp.floor(x * n).astype(int)\n",
    "    index = np.floor(x * n).astype(int)\n",
    "    return quantum_numbers[index]"
   ]
  },
  {
   "cell_type": "code",
   "execution_count": 40,
   "id": "c2eef3eb",
   "metadata": {
    "code_folding": []
   },
   "outputs": [],
   "source": [
    "@partial(jit, static_argnames=['n'])\n",
    "def get_quantum_numbers_vmap(x_array, quantum_numbers, n):\n",
    "    return vmap(get_quantum_numbers, in_axes=(0, None, None), out_axes=(0))(\n",
    "        x_array, quantum_numbers, n)"
   ]
  },
  {
   "cell_type": "code",
   "execution_count": 41,
   "id": "07e1e7a9",
   "metadata": {
    "code_folding": []
   },
   "outputs": [],
   "source": [
    "def psi(n, l, s, j, m_j, m_t, k, theta, phi, sigma, tau, cg_array, N_j, phi_vect,\n",
    "        phi_functions):\n",
    "    \n",
    "    # Calculate \\phi_\\alpha(q)\n",
    "    phi_sp_wf = phi_vect(n, l, j, m_t, k, phi_functions)\n",
    "#     print('phi_sp_wf:')\n",
    "#     %timeit phi_sp_wf = phi_vect(n, l, j, m_t, k, phi_functions)\n",
    "    \n",
    "    # Calculate spinor spherical harmonic\n",
    "    Y_jml = spinor_sph_harm(theta, phi, l, s, j, m_j, sigma, cg_array, N_j)\n",
    "#     print('Y_jml:')\n",
    "#     %timeit Y_jml = spinor_sph_harm(theta, phi, l, s, j, m_j, sigma, cg_array, N_j)\n",
    "    \n",
    "    # Isospinor indexed by \\tau \\chi_{m_t}(\\tau)\n",
    "    chi_tau = kronecker_delta_vmap(tau, m_t).block_until_ready()\n",
    "#     print('chi_tau:')\n",
    "#     %timeit chi_tau = kronecker_delta_vmap(tau, m_t).block_until_ready()\n",
    "\n",
    "    return phi_sp_wf * Y_jml * chi_tau"
   ]
  },
  {
   "cell_type": "code",
   "execution_count": 42,
   "id": "ec8047da",
   "metadata": {
    "code_folding": []
   },
   "outputs": [],
   "source": [
    "def spinor_sph_harm(theta, phi, l, s, j, m_j, sigma, cg_array, N_j):\n",
    "    \n",
    "    m_s = sigma\n",
    "    \n",
    "    m_l = m_j - m_s\n",
    "    \n",
    "    # Calls clebsch_gordan_coefficient_vmap\n",
    "    cg = clebsch_gordan_coefficient_vmap(l, m_l, s, m_s, j, m_j, cg_array,\n",
    "                                         N_j).block_until_ready()\n",
    "    \n",
    "    # Calls sph_harm (which is already vectorized)\n",
    "    Y_lm = np.where(np.abs(m_l) <= l, sph_harm(m_l, l, phi, theta), 0+0j)\n",
    "\n",
    "    return cg * Y_lm"
   ]
  },
  {
   "cell_type": "code",
   "execution_count": 43,
   "id": "6b48c2f6",
   "metadata": {
    "code_folding": [
     0
    ]
   },
   "outputs": [],
   "source": [
    "def interpolate_delta_U(channel, potential, generator, lamb,\n",
    "                        hermitian_conjugate=False):\n",
    "    \"\"\"Interpolate \\delta U(k, k') for the given channel.\"\"\"\n",
    "\n",
    "    # Get momentum mesh\n",
    "    kmax, kmid, ntot = potential.kmax, potential.kmid, potential.ntot\n",
    "    k_array, k_weights = momentum_mesh(kmax, kmid, ntot)\n",
    "    \n",
    "    U_matrix_weights = load_srg_transformation(potential, generator, lamb)\n",
    "\n",
    "    # Calculate \\delta U = U - I\n",
    "    I_matrix_weights = np.eye(len(U_matrix_weights))\n",
    "    if hermitian_conjugate:\n",
    "        delU_matrix_weights = (U_matrix_weights - I_matrix_weights).T\n",
    "    else:\n",
    "        delU_matrix_weights = U_matrix_weights - I_matrix_weights\n",
    "\n",
    "    # Get specific sub-block if coupled-channel\n",
    "    if channel in ['3S1-3D1', '3P2-3F2', '3D3-3G3']:\n",
    "        delU_matrix = unattach_weights_from_matrix(\n",
    "            k_array, k_weights, delU_matrix_weights[:ntot,ntot:]\n",
    "        )\n",
    "    elif channel in ['3D1-3S1', '3F2-3P2', '3G3-3D3']:\n",
    "        delU_matrix = unattach_weights_from_matrix(\n",
    "            k_array, k_weights, delU_matrix_weights[ntot:,:ntot]\n",
    "        )\n",
    "    elif channel in ['3D1-3D1', '3F2-3F2', '3G3-3G3']:\n",
    "        delU_matrix = unattach_weights_from_matrix(\n",
    "            k_array, k_weights, delU_matrix_weights[ntot:,ntot:]\n",
    "        )\n",
    "    else:\n",
    "        delU_matrix = unattach_weights_from_matrix(\n",
    "            k_array, k_weights, delU_matrix_weights[:ntot,:ntot]\n",
    "        )\n",
    "        \n",
    "    # Interpolate \\delta U(k, k')\n",
    "    delU_func = RectBivariateSpline(k_array, k_array, delU_matrix)\n",
    "\n",
    "    return delU_func"
   ]
  },
  {
   "cell_type": "code",
   "execution_count": 44,
   "id": "b766d7c0",
   "metadata": {
    "code_folding": [
     0
    ]
   },
   "outputs": [],
   "source": [
    "def get_delta_U_functions(channels, kvnn, kmax, kmid, ntot, generator, lamb):\n",
    "    \"\"\"Get \\delta U and \\delta U^\\dagger functions.\"\"\"\n",
    "\n",
    "    delta_U_functions = {}\n",
    "    delta_U_dagger_functions = {}\n",
    "    for channel in channels:\n",
    "        \n",
    "        # Set channel argument to be compatible with potential functions\n",
    "        if channel[:3] == '3D1':\n",
    "            channel_arg = '3S1'\n",
    "        elif channel[:3] == '3F2':\n",
    "            channel_arg = '3P2'\n",
    "        elif channel[:3] == '3G3':\n",
    "            channel_arg == '3D3'\n",
    "        else:\n",
    "            channel_arg = channel[:3]\n",
    "        potential = Potential(kvnn, channel_arg, kmax, kmid, ntot)\n",
    "        \n",
    "        pwc = PartialWaveChannel(channel)\n",
    "        key = (pwc.L, pwc.Lp, pwc.J, pwc.S, pwc.T)\n",
    "        \n",
    "        delta_U_functions[key] = interpolate_delta_U(channel, potential,\n",
    "                                                     generator, lamb)\n",
    "        delta_U_dagger_functions[key] = interpolate_delta_U(\n",
    "            channel, potential, generator, lamb, hermitian_conjugate=True\n",
    "        )\n",
    "        \n",
    "    return delta_U_functions, delta_U_dagger_functions"
   ]
  },
  {
   "cell_type": "code",
   "execution_count": 45,
   "id": "dd412cd2",
   "metadata": {
    "code_folding": []
   },
   "outputs": [],
   "source": [
    "class DeltaUIntegrand:\n",
    "    \"\"\"Evaluate the integrand of the \\delta U + \\delta U^\\dagger terms.\"\"\"\n",
    "    \n",
    "    \n",
    "    def __init__(self, q, tau, cg_array, N_j, delta_U_quantum_numbers,\n",
    "                 phi_functions, delta_U_functions, delta_U_dagger_functions):\n",
    "        \n",
    "        # Set instance attributes\n",
    "        self.q = q\n",
    "        self.tau = tau\n",
    "        self.cg_array = cg_array\n",
    "        self.N_j = N_j\n",
    "        self.delta_U_quantum_numbers = delta_U_quantum_numbers\n",
    "        self.delU_Ntot = len(delta_U_quantum_numbers)\n",
    "        self.phi_functions = phi_functions\n",
    "        self.woods_saxon = woods_saxon\n",
    "        self.delta_U_functions = delta_U_functions\n",
    "        self.delta_U_dagger_functions = delta_U_dagger_functions\n",
    "        \n",
    "        # Vectorize functions\n",
    "        self.vectorized_phi = np.vectorize(get_phi_function,\n",
    "                                           excluded=['phi_functions'])\n",
    "        self.vectorized_get_delta_U = np.vectorize(self.get_delta_U)\n",
    "        self.vectorized_get_delta_U_dag = np.vectorize(self.get_delta_U_dag)\n",
    "        \n",
    "\n",
    "    def __call__(self, x_array):\n",
    "        \"\"\"Evaluate the integrand at several points simultaneously.\"\"\"\n",
    "        \n",
    "        # Relative momenta k\n",
    "        k = x_array[:,0]\n",
    "        theta_k = x_array[:,1]\n",
    "        phi_k = x_array[:,2]\n",
    "        k_vector = build_vector(k, theta_k, phi_k)\n",
    "#         print('k_vector:')\n",
    "#         %timeit k_vector = build_vector(k, theta_k, phi_k)\n",
    "            \n",
    "        # C.o.M. momenta K\n",
    "        K = x_array[:,3]\n",
    "        theta_K = x_array[:,4]\n",
    "        phi_K = x_array[:,5]\n",
    "        K_vector = build_vector(K, theta_K, phi_K)\n",
    "#         print('K_vector')\n",
    "#         %timeit K_vector = build_vector(K, theta_K, phi_K)\n",
    "        \n",
    "        # Choose z-axis to be along q_vector\n",
    "        q_vector = np.zeros_like(k_vector)\n",
    "        q_vector[-1, :] = self.q\n",
    "        q = np.repeat(self.q, k.size)\n",
    "        theta_q = np.zeros_like(q)\n",
    "        phi_q = np.zeros_like(q)\n",
    "        \n",
    "        # Calculate vector q-K/2\n",
    "        qK_vector = q_vector - K_vector/2\n",
    "        qK, theta_qK, phi_qK = get_vector_components(qK_vector)\n",
    "#         print('q-K/2 vector:')\n",
    "#         %timeit qK, theta_qK, phi_qK = get_vector_components(qK_vector)\n",
    "        \n",
    "        # Calculate vector K/2+k\n",
    "        k1_vector = K_vector/2 + k_vector\n",
    "        k1, theta_k1, phi_k1 = get_vector_components(k1_vector)\n",
    "#         print('k1_vector:')\n",
    "#         %timeit k1, theta_k1, phi_k1 = get_vector_components(k1_vector)\n",
    "        \n",
    "        # Calculate vector K/2-k\n",
    "        k2_vector = K_vector/2 - k_vector\n",
    "        k2, theta_k2, phi_k2 = get_vector_components(k2_vector)\n",
    "#         print('k2_vector:')\n",
    "#         %timeit k2, theta_k2, phi_k2 = get_vector_components(k2_vector)\n",
    "        \n",
    "        # Calculate vector K-q\n",
    "        Kq_vector = K_vector-q_vector\n",
    "        Kq, theta_Kq, phi_Kq = get_vector_components(Kq_vector)\n",
    "#         print('K-q vector:')\n",
    "#         %timeit Kq, theta_Kq, phi_Kq = get_vector_components(Kq_vector)\n",
    "            \n",
    "        # Calculate the Jacobian determinant\n",
    "        jacobian = k**2 * np.sin(theta_k) * K**2 * np.sin(theta_K)\n",
    "        \n",
    "        # Samples of quantum number sets\n",
    "        # quantum_number_array = get_quantum_numbers_vmap(\n",
    "        #     x_array[:,6], self.delta_U_quantum_numbers, self.delU_Ntot)\n",
    "        # print('quantum numbers:')\n",
    "        # %timeit quantum_number_array = get_quantum_numbers_vmap(x_array[:,6], self.delta_U_quantum_numbers, self.delU_Ntot)\n",
    "        quantum_number_array = get_quantum_numbers(\n",
    "            x_array[:,6], self.delta_U_quantum_numbers, self.delU_Ntot)\n",
    "#         print('quantum numbers:')\n",
    "#         %timeit quantum_number_array = get_quantum_numbers(x_array[:,6], self.delta_U_quantum_numbers, self.delU_Ntot)\n",
    "        \n",
    "        # Unpack quantum numbers\n",
    "        sigma_1 = quantum_number_array[:, 0]\n",
    "        sigma_2 = quantum_number_array[:, 1]\n",
    "        sigma = quantum_number_array[:, 2]\n",
    "        sigmap = quantum_number_array[:, 3]\n",
    "        tau_1 = quantum_number_array[:, 4]\n",
    "        tau_2 = quantum_number_array[:, 5]\n",
    "        taup = quantum_number_array[:, 6]\n",
    "        \n",
    "        s = np.repeat(1/2, sigma_1.size)\n",
    "        t = s\n",
    "        tau_array = np.repeat(self.tau, taup.size)\n",
    "        \n",
    "        n_alpha = quantum_number_array[:, 7]\n",
    "        l_alpha = quantum_number_array[:, 8]\n",
    "        j_alpha = quantum_number_array[:, 9]\n",
    "        m_j_alpha = quantum_number_array[:, 10]\n",
    "        m_t_alpha = quantum_number_array[:, 11]\n",
    "        \n",
    "        n_beta = quantum_number_array[:, 12]\n",
    "        l_beta = quantum_number_array[:, 13]\n",
    "        j_beta = quantum_number_array[:, 14]\n",
    "        m_j_beta = quantum_number_array[:, 15]\n",
    "        m_t_beta = quantum_number_array[:, 16]\n",
    "        \n",
    "        S = quantum_number_array[:, 17]\n",
    "        M_S = quantum_number_array[:, 18]\n",
    "        M_Sp = quantum_number_array[:, 19]                                  \n",
    "        L = quantum_number_array[:, 20]\n",
    "        M_L = quantum_number_array[:, 21]\n",
    "        Lp = quantum_number_array[:, 22]\n",
    "        M_Lp = quantum_number_array[:, 23]\n",
    "        J = quantum_number_array[:, 24]\n",
    "        M_J = quantum_number_array[:, 25]                             \n",
    "        T = quantum_number_array[:, 26]\n",
    "        M_T = quantum_number_array[:, 27]\n",
    "        \n",
    "        # < \\sigma_1 \\sigma_2 | S M_S >\n",
    "        spin_12_cg = clebsch_gordan_coefficient_vmap(\n",
    "            s, sigma_1, s, sigma_2, S, M_S, self.cg_array, self.N_j)\n",
    "#         print('spin_12_cg:')\n",
    "#         %timeit spin_12_cg = clebsch_gordan_coefficient_vmap(s, sigma_1, s, sigma_2, S, M_S, self.cg_array, self.N_j)\n",
    "            \n",
    "        # < S M_S' | \\sigma \\sigma' >\n",
    "        spin_ssp_cg = clebsch_gordan_coefficient_vmap(\n",
    "            s, sigma, s, sigmap, S, M_Sp, self.cg_array, self.N_j)\n",
    "#         print('spin_ssp_cg:')\n",
    "#         %timeit spin_ssp_cg = clebsch_gordan_coefficient_vmap(s, sigma, s, sigmap, S, M_Sp, self.cg_array, self.N_j)\n",
    "            \n",
    "        # < \\tau_1 \\tau_2 | T M_T >\n",
    "        isospin_12_cg = clebsch_gordan_coefficient_vmap(\n",
    "            t, tau_1, t, tau_2, T, M_T, self.cg_array, self.N_j)\n",
    "#         print('isospin_12_cg:')\n",
    "#         %timeit isospin_12_cg = clebsch_gordan_coefficient_vmap(t, tau_1, t, tau_2, T, M_T, self.cg_array, self.N_j)\n",
    "            \n",
    "        # < T M_T | \\tau \\tau' >\n",
    "        isospin_ttp_cg = clebsch_gordan_coefficient_vmap(\n",
    "            t, tau_array, t, taup, T, M_T, self.cg_array, self.N_j)\n",
    "#         print('isospin_ttp_cg:')\n",
    "#         %timeit isospin_ttp_cg = clebsch_gordan_coefficient_vmap(t, tau_array, t, taup, T, M_T, self.cg_array, self.N_j)\n",
    "            \n",
    "        # < L M_L S M_S | J M_J >\n",
    "        lsj_cg = clebsch_gordan_coefficient_vmap(L, M_L, S, M_S, J, M_J,\n",
    "                                                 self.cg_array, self.N_j)\n",
    "#         print('lsj_cg:')\n",
    "#         %timeit lsj_cg = clebsch_gordan_coefficient_vmap(L, M_L, S, M_S, J, M_J, self.cg_array, self.N_j)\n",
    "            \n",
    "        # < J M_J | L' M_L' S M_S' >\n",
    "        lpsj_cg = clebsch_gordan_coefficient_vmap(Lp, M_Lp, S, M_Sp, J, M_J,\n",
    "                                                  self.cg_array, self.N_j)\n",
    "#         print('lpsj_cg:')\n",
    "#         %timeit lpsj_cg = clebsch_gordan_coefficient_vmap(Lp, M_Lp, S, M_Sp, J, M_J, self.cg_array, self.N_j)\n",
    "            \n",
    "        # 1 - (-1)^(L+S+T) factor\n",
    "        # lst_factor = 1 - (-1) ** (L+S+T)\n",
    "        # print('lst_factor:')\n",
    "        # %timeit lst_factor = 1 - (-1) ** (L+S+T)\n",
    "        lst_factor = 2\n",
    "            \n",
    "        # 1 - (-1)^(L'+S+T) factor\n",
    "        # lpst_factor = 1 - (-1) ** (Lp+S+T)\n",
    "        # print('lpst_factor:')\n",
    "        # %timeit lpst_factor = 1 - (-1) ** (Lp+S+T)\n",
    "        lpst_factor = 2\n",
    "            \n",
    "        # Spherical harmonics\n",
    "        Y_L_k = sph_harm(M_L, L, phi_k, theta_k)\n",
    "#         print('Y_L_k:')\n",
    "#         %timeit Y_L_k = sph_harm(M_L, L, phi_k, theta_k)\n",
    "        Y_Lp_qK = sph_harm(M_Lp, Lp, phi_qK, theta_qK)\n",
    "#         print('Y_Lp_qK:')\n",
    "#         %timeit Y_Lp_qK = sph_harm(M_Lp, Lp, phi_qK, theta_qK)\n",
    "            \n",
    "        # < k (L S) J T | \\delta U | |q-K/2| (L' S) J T >\n",
    "        delta_U_partial_wave = self.vectorized_get_delta_U(k, qK, L, Lp, J, S,\n",
    "                                                           T)\n",
    "#         print('delta_U_partial_wave:')\n",
    "#         %timeit delta_U_partial_wave = self.vectorized_get_delta_U(k, qK, L, Lp, J, S, T)\n",
    "            \n",
    "        # < |q-K/2| (L' S) J T | \\delta U^\\dagger | k (L S) J T >\n",
    "        delta_U_dag_partial_wave = self.vectorized_get_delta_U_dag(qK, k, Lp, L,\n",
    "                                                                   J, S, T)\n",
    "#         print('delta_U_dag_partial_wave:')\n",
    "#         %timeit delta_U_dag_partial_wave = self.vectorized_get_delta_U_dag(qK, k, Lp, L, J, S, T)\n",
    "\n",
    "        # \\psi_\\alpha(K/2+k; \\sigma_1, \\tau_1)\n",
    "        psi_alpha_1 = psi(\n",
    "            n_alpha, l_alpha, s, j_alpha, m_j_alpha, m_t_alpha,\n",
    "            k1, theta_k1, phi_k1, sigma_1, tau_1,\n",
    "            self.cg_array, self.N_j, self.vectorized_phi, self.phi_functions\n",
    "        )\n",
    "        print('psi_alpha_1:')\n",
    "        %timeit psi_alpha_1 = psi(n_alpha, l_alpha, s, j_alpha, m_j_alpha, m_t_alpha, k1, theta_k1, phi_k1, sigma_1, tau_1, self.cg_array, self.N_j, self.vectorized_phi, self.phi_functions)\n",
    "            \n",
    "        # \\psi_\\beta(K/2-k; \\sigma_2, \\tau_2)\n",
    "        psi_beta_2 = psi(\n",
    "            n_beta, l_beta, s, j_beta, m_j_beta, m_t_beta,\n",
    "            k2, theta_k2, phi_k2, sigma_2, tau_2,\n",
    "            self.cg_array, self.N_j, self.vectorized_phi, self.phi_functions\n",
    "        )\n",
    "        print('psi_beta_2:')\n",
    "        %timeit psi_beta_2 = psi(n_beta, l_beta, s, j_beta, m_j_beta, m_t_beta, k2, theta_k2, phi_k2, sigma_2, tau_2, self.cg_array, self.N_j, self.vectorized_phi, self.phi_functions)\n",
    "        \n",
    "        # \\psi_\\alpha(q; \\sigma, \\tau)\n",
    "        psi_alpha_q = psi(\n",
    "            n_alpha, l_alpha, s, j_alpha, m_j_alpha, m_t_alpha,\n",
    "            q, theta_q, phi_q, sigma, tau_array,\n",
    "            self.cg_array, self.N_j, self.vectorized_phi, self.phi_functions\n",
    "        )\n",
    "        print('psi_alpha_q:')\n",
    "        %timeit psi_alpha_q = psi(n_alpha, l_alpha, s, j_alpha, m_j_alpha, m_t_alpha, q, theta_q, phi_q, sigma, tau_array, self.cg_array, self.N_j, self.vectorized_phi, self.phi_functions)      \n",
    "            \n",
    "        # \\psi_\\beta(K-q; \\sigma', \\tau')\n",
    "        psi_beta_Kq = psi(\n",
    "            n_beta, l_beta, s, j_beta, m_j_beta, m_t_beta,\n",
    "            Kq, theta_Kq, phi_Kq, sigmap, taup,\n",
    "            self.cg_array, self.N_j, self.vectorized_phi, self.phi_functions\n",
    "        )\n",
    "        print('psi_beta_Kq:')\n",
    "        %timeit psi_beta_Kq = psi(n_beta, l_beta, s, j_beta, m_j_beta, m_t_beta, Kq, theta_Kq, phi_Kq, sigmap, taup, self.cg_array, self.N_j, self.vectorized_phi, self.phi_functions)\n",
    "            \n",
    "        # \\psi_\\beta(q; \\sigma, \\tau)\n",
    "        psi_beta_q = psi(\n",
    "            n_beta, l_beta, s, j_beta, m_j_beta, m_t_beta,\n",
    "            q, theta_q, phi_q, sigma, tau_array,\n",
    "            self.cg_array, self.N_j, self.vectorized_phi, self.phi_functions\n",
    "        )\n",
    "        print('psi_beta_q:')\n",
    "        %timeit psi_beta_q = psi(n_beta, l_beta, s, j_beta, m_j_beta, m_t_beta, q, theta_q, phi_q, sigma, tau_array, self.cg_array, self.N_j, self.vectorized_phi, self.phi_functions)\n",
    "            \n",
    "        # \\psi_\\alpha(K-q; \\sigma', \\tau')\n",
    "        psi_alpha_Kq = psi(\n",
    "            n_alpha, l_alpha, s, j_alpha, m_j_alpha, m_t_alpha,\n",
    "            Kq, theta_Kq, phi_Kq, sigmap, taup,\n",
    "            self.cg_array, self.N_j, self.vectorized_phi, self.phi_functions\n",
    "        )\n",
    "        print('psi_alpha_Kq:')\n",
    "        %timeit psi_alpha_Kq = psi(n_alpha, l_alpha, s, j_alpha, m_j_alpha, m_t_alpha, Kq, theta_Kq, phi_Kq, sigmap, taup, self.cg_array, self.N_j, self.vectorized_phi, self.phi_functions)\n",
    "            \n",
    "        # \\delta U term\n",
    "        delta_U_term = (\n",
    "            spin_12_cg * spin_ssp_cg * isospin_12_cg * isospin_ttp_cg\n",
    "            * lsj_cg * lpsj_cg * lst_factor * lpst_factor\n",
    "            * Y_L_k * np.conj(Y_Lp_qK) * delta_U_partial_wave\n",
    "            * np.conj(psi_alpha_1) * np.conj(psi_beta_2) * (\n",
    "                psi_beta_Kq * psi_alpha_q - psi_alpha_Kq * psi_beta_q\n",
    "            )\n",
    "        )\n",
    "            \n",
    "        # \\delta U^\\dagger term\n",
    "        delta_U_dag_term = (\n",
    "            spin_ssp_cg * spin_12_cg * isospin_ttp_cg * isospin_12_cg\n",
    "            * lpsj_cg * lsj_cg * lst_factor * lpst_factor\n",
    "            * Y_Lp_qK * np.conj(Y_L_k) * delta_U_dag_partial_wave\n",
    "            * psi_alpha_1 * psi_beta_2 * (\n",
    "                np.conj(psi_beta_Kq) * np.conj(psi_alpha_q)\n",
    "                - np.conj(psi_alpha_Kq) * np.conj(psi_beta_q)\n",
    "            )\n",
    "        )\n",
    "            \n",
    "        # Add together for full integrand\n",
    "        integrand = 1/2 * 1/2 * 2/np.pi * jacobian * self.delU_Ntot * (\n",
    "            delta_U_term + delta_U_dag_term\n",
    "        )\n",
    "        \n",
    "        return integrand.real\n",
    "        \n",
    "    \n",
    "    def get_delta_U(self, k, kp, L, Lp, J, S, T):\n",
    "        \"\"\"Gets the partial wave matrix element of \\delta U.\"\"\"\n",
    "        \n",
    "        key = (L, Lp, J, S, T)\n",
    "        return self.delta_U_functions[key].ev(k, kp)\n",
    "    \n",
    "    \n",
    "    def get_delta_U_dag(self, k, kp, L, Lp, J, S, T):\n",
    "        \"\"\"Gets the partial wave matrix element of \\delta U^\\dagger.\"\"\"\n",
    "        \n",
    "        key = (L, Lp, J, S, T)\n",
    "        return self.delta_U_dagger_functions[key].ev(k, kp)"
   ]
  },
  {
   "cell_type": "code",
   "execution_count": 46,
   "id": "27e14406",
   "metadata": {},
   "outputs": [],
   "source": [
    "# Set random point in q for \\tau = +1/2\n",
    "q = 0.5\n",
    "tau = 1/2"
   ]
  },
  {
   "cell_type": "code",
   "execution_count": 47,
   "id": "b3ef8f56",
   "metadata": {},
   "outputs": [],
   "source": [
    "# Larger CG table\n",
    "cg_array, N_j = compute_cg_array(3)"
   ]
  },
  {
   "cell_type": "code",
   "execution_count": 48,
   "id": "8e33e10d",
   "metadata": {},
   "outputs": [],
   "source": [
    "# Load \\delta U quantum numbers\n",
    "# delta_U_quantum_numbers = jnp.array(np.loadtxt('O16_quantum_numbers.txt'))\n",
    "delta_U_quantum_numbers = np.loadtxt('O16_quantum_numbers.txt')"
   ]
  },
  {
   "cell_type": "code",
   "execution_count": 49,
   "id": "e8ea401a",
   "metadata": {},
   "outputs": [],
   "source": [
    "# Set-up single-particle states\n",
    "woods_saxon = WoodsSaxon('O16', 8, 8, run_woodsaxon=False)\n",
    "phi_functions = get_sp_wave_functions(woods_saxon, 10.0, 2.0, 120)"
   ]
  },
  {
   "cell_type": "code",
   "execution_count": 50,
   "id": "13aaf57f",
   "metadata": {},
   "outputs": [],
   "source": [
    "# Partial wave channels for expansion of plane-wave \\delta U matrix elements\n",
    "channels = ('1S0', '3S1-3S1', '3S1-3D1', '3D1-3S1', '3D1-3D1')\n",
    "\n",
    "# Set-up \\delta U and \\delta U^\\dagger functions\n",
    "delta_U_functions, delta_U_dagger_functions = get_delta_U_functions(\n",
    "    channels, 6, 15.0, 3.0, 120, 'Wegner', 1.5\n",
    ")"
   ]
  },
  {
   "cell_type": "code",
   "execution_count": 51,
   "id": "a1abea7b",
   "metadata": {},
   "outputs": [],
   "source": [
    "integrand = DeltaUIntegrand(\n",
    "    q, tau, cg_array, N_j, delta_U_quantum_numbers, phi_functions,\n",
    "    delta_U_functions, delta_U_dagger_functions\n",
    ")"
   ]
  },
  {
   "cell_type": "code",
   "execution_count": 52,
   "id": "cf15a7ed",
   "metadata": {},
   "outputs": [],
   "source": [
    "# Integration samples\n",
    "N_samples = 10\n",
    "k_points = np.linspace(0.1, 5.5, N_samples)\n",
    "theta_points = np.linspace(np.pi/10, np.pi, N_samples)\n",
    "phi_points = np.linspace(np.pi/10, np.pi, N_samples)\n",
    "K_points = np.linspace(0.01, 2.0, N_samples)\n",
    "qn_points = np.linspace(0.0001, 0.999, N_samples)\n",
    "\n",
    "x_array = np.vstack((k_points, theta_points, phi_points, K_points, theta_points,\n",
    "                     phi_points, qn_points)).T"
   ]
  },
  {
   "cell_type": "code",
   "execution_count": 53,
   "id": "dc62b6f4",
   "metadata": {},
   "outputs": [
    {
     "ename": "TracerArrayConversionError",
     "evalue": "The numpy.ndarray conversion method __array__() was called on the JAX Tracer object Traced<ShapedArray(float64[])>with<BatchTrace(level=2/0)> with\n  val = Traced<ShapedArray(float64[10])>with<DynamicJaxprTrace(level=1/0)>\n  batch_dim = 0\nThis BatchTracer with object id 10943993232 was created on line:\n  /var/folders/4c/p53tldwd6f76zfs85vnyk3qr0000gn/T/ipykernel_33458/2547853263.py:35 (compute_phi_vmap)\nSee https://jax.readthedocs.io/en/latest/errors.html#jax.errors.TracerArrayConversionError",
     "output_type": "error",
     "traceback": [
      "\u001b[0;31m---------------------------------------------------------------------------\u001b[0m",
      "\u001b[0;31mTracerArrayConversionError\u001b[0m                Traceback (most recent call last)",
      "Cell \u001b[0;32mIn[53], line 1\u001b[0m\n\u001b[0;32m----> 1\u001b[0m a \u001b[38;5;241m=\u001b[39m \u001b[43mintegrand\u001b[49m\u001b[43m(\u001b[49m\u001b[43mx_array\u001b[49m\u001b[43m)\u001b[49m\n\u001b[1;32m      2\u001b[0m \u001b[38;5;28mprint\u001b[39m(a)\n",
      "Cell \u001b[0;32mIn[45], line 203\u001b[0m, in \u001b[0;36mDeltaUIntegrand.__call__\u001b[0;34m(self, x_array)\u001b[0m\n\u001b[1;32m    190\u001b[0m         delta_U_dag_partial_wave \u001b[38;5;241m=\u001b[39m \u001b[38;5;28mself\u001b[39m\u001b[38;5;241m.\u001b[39mvectorized_get_delta_U_dag(qK, k, Lp, L,\n\u001b[1;32m    191\u001b[0m                                                                    J, S, T)\n\u001b[1;32m    192\u001b[0m \u001b[38;5;66;03m#         print('delta_U_dag_partial_wave:')\u001b[39;00m\n\u001b[1;32m    193\u001b[0m \u001b[38;5;66;03m#         %timeit delta_U_dag_partial_wave = self.vectorized_get_delta_U_dag(qK, k, Lp, L, J, S, T)\u001b[39;00m\n\u001b[1;32m    194\u001b[0m \n\u001b[0;32m   (...)\u001b[0m\n\u001b[1;32m    201\u001b[0m \u001b[38;5;66;03m#         print('psi_alpha_1:')\u001b[39;00m\n\u001b[1;32m    202\u001b[0m \u001b[38;5;66;03m#         %timeit psi_alpha_1 = psi(n_alpha, l_alpha, s, j_alpha, m_j_alpha, m_t_alpha, k1, theta_k1, phi_k1, sigma_1, tau_1, self.cg_array, self.N_j, self.vectorized_phi, self.phi_functions)\u001b[39;00m\n\u001b[0;32m--> 203\u001b[0m         psi_alpha_1 \u001b[38;5;241m=\u001b[39m \u001b[43mpsi_2\u001b[49m\u001b[43m(\u001b[49m\n\u001b[1;32m    204\u001b[0m \u001b[43m            \u001b[49m\u001b[43mn_alpha\u001b[49m\u001b[43m,\u001b[49m\u001b[43m \u001b[49m\u001b[43ml_alpha\u001b[49m\u001b[43m,\u001b[49m\u001b[43m \u001b[49m\u001b[43ms\u001b[49m\u001b[43m,\u001b[49m\u001b[43m \u001b[49m\u001b[43mj_alpha\u001b[49m\u001b[43m,\u001b[49m\u001b[43m \u001b[49m\u001b[43mm_j_alpha\u001b[49m\u001b[43m,\u001b[49m\u001b[43m \u001b[49m\u001b[43mm_t_alpha\u001b[49m\u001b[43m,\u001b[49m\n\u001b[1;32m    205\u001b[0m \u001b[43m            \u001b[49m\u001b[43mk1\u001b[49m\u001b[43m,\u001b[49m\u001b[43m \u001b[49m\u001b[43mtheta_k1\u001b[49m\u001b[43m,\u001b[49m\u001b[43m \u001b[49m\u001b[43mphi_k1\u001b[49m\u001b[43m,\u001b[49m\u001b[43m \u001b[49m\u001b[43msigma_1\u001b[49m\u001b[43m,\u001b[49m\u001b[43m \u001b[49m\u001b[43mtau_1\u001b[49m\u001b[43m,\u001b[49m\n\u001b[1;32m    206\u001b[0m \u001b[43m            \u001b[49m\u001b[38;5;28;43mself\u001b[39;49m\u001b[38;5;241;43m.\u001b[39;49m\u001b[43mcg_array\u001b[49m\u001b[43m,\u001b[49m\u001b[43m \u001b[49m\u001b[38;5;28;43mself\u001b[39;49m\u001b[38;5;241;43m.\u001b[39;49m\u001b[43mN_j\u001b[49m\n\u001b[1;32m    207\u001b[0m \u001b[43m        \u001b[49m\u001b[43m)\u001b[49m\n\u001b[1;32m    209\u001b[0m         \u001b[38;5;66;03m# \\psi_\\beta(K/2-k; \\sigma_2, \\tau_2)\u001b[39;00m\n\u001b[1;32m    210\u001b[0m \u001b[38;5;66;03m#         psi_beta_2 = psi(\u001b[39;00m\n\u001b[1;32m    211\u001b[0m \u001b[38;5;66;03m#             n_beta, l_beta, s, j_beta, m_j_beta, m_t_beta,\u001b[39;00m\n\u001b[0;32m   (...)\u001b[0m\n\u001b[1;32m    215\u001b[0m \u001b[38;5;66;03m#         print('psi_beta_2:')\u001b[39;00m\n\u001b[1;32m    216\u001b[0m \u001b[38;5;66;03m#         %timeit psi_beta_2 = psi(n_beta, l_beta, s, j_beta, m_j_beta, m_t_beta, k2, theta_k2, phi_k2, sigma_2, tau_2, self.cg_array, self.N_j, self.vectorized_phi, self.phi_functions)\u001b[39;00m\n\u001b[1;32m    217\u001b[0m         psi_beta_2 \u001b[38;5;241m=\u001b[39m psi_2(\n\u001b[1;32m    218\u001b[0m             n_beta, l_beta, s, j_beta, m_j_beta, m_t_beta,\n\u001b[1;32m    219\u001b[0m             k2, theta_k2, phi_k2, sigma_2, tau_2,\n\u001b[1;32m    220\u001b[0m             \u001b[38;5;28mself\u001b[39m\u001b[38;5;241m.\u001b[39mcg_array, \u001b[38;5;28mself\u001b[39m\u001b[38;5;241m.\u001b[39mN_j\n\u001b[1;32m    221\u001b[0m         )\n",
      "Cell \u001b[0;32mIn[38], line 41\u001b[0m, in \u001b[0;36mpsi_2\u001b[0;34m(n, l, s, j, m_j, m_t, k, theta, phi, sigma, tau, cg_array, N_j)\u001b[0m\n\u001b[1;32m     38\u001b[0m \u001b[38;5;28;01mdef\u001b[39;00m \u001b[38;5;21mpsi_2\u001b[39m(n, l, s, j, m_j, m_t, k, theta, phi, sigma, tau, cg_array, N_j):\n\u001b[1;32m     39\u001b[0m     \n\u001b[1;32m     40\u001b[0m     \u001b[38;5;66;03m# Calculate \\phi_\\alpha(q)\u001b[39;00m\n\u001b[0;32m---> 41\u001b[0m     phi_sp_wf \u001b[38;5;241m=\u001b[39m \u001b[43mcompute_phi_vmap\u001b[49m\u001b[43m(\u001b[49m\u001b[43mn\u001b[49m\u001b[43m,\u001b[49m\u001b[43m \u001b[49m\u001b[43ml\u001b[49m\u001b[43m,\u001b[49m\u001b[43m \u001b[49m\u001b[43mj\u001b[49m\u001b[43m,\u001b[49m\u001b[43m \u001b[49m\u001b[43mm_t\u001b[49m\u001b[43m,\u001b[49m\u001b[43m \u001b[49m\u001b[43mk\u001b[49m\u001b[43m)\u001b[49m\u001b[38;5;241m.\u001b[39mblock_until_ready()\n\u001b[1;32m     42\u001b[0m     \u001b[38;5;28mprint\u001b[39m(\u001b[38;5;124m'\u001b[39m\u001b[38;5;124mphi_sp_wf:\u001b[39m\u001b[38;5;124m'\u001b[39m)\n\u001b[1;32m     43\u001b[0m     get_ipython()\u001b[38;5;241m.\u001b[39mrun_line_magic(\u001b[38;5;124m'\u001b[39m\u001b[38;5;124mtimeit\u001b[39m\u001b[38;5;124m'\u001b[39m, \u001b[38;5;124m'\u001b[39m\u001b[38;5;124mphi_sp_wf = compute_phi_vmap(n, l, j, m_t, k).block_until_ready()\u001b[39m\u001b[38;5;124m'\u001b[39m)\n",
      "    \u001b[0;31m[... skipping hidden 12 frame]\u001b[0m\n",
      "Cell \u001b[0;32mIn[38], line 35\u001b[0m, in \u001b[0;36mcompute_phi_vmap\u001b[0;34m(n, l, j, m_t, k)\u001b[0m\n\u001b[1;32m     33\u001b[0m \u001b[38;5;129m@jit\u001b[39m\n\u001b[1;32m     34\u001b[0m \u001b[38;5;28;01mdef\u001b[39;00m \u001b[38;5;21mcompute_phi_vmap\u001b[39m(n, l, j, m_t, k):\n\u001b[0;32m---> 35\u001b[0m     \u001b[38;5;28;01mreturn\u001b[39;00m \u001b[43mvmap\u001b[49m\u001b[43m(\u001b[49m\u001b[43mcompute_phi\u001b[49m\u001b[43m)\u001b[49m\u001b[43m(\u001b[49m\u001b[43mn\u001b[49m\u001b[43m,\u001b[49m\u001b[43m \u001b[49m\u001b[43ml\u001b[49m\u001b[43m,\u001b[49m\u001b[43m \u001b[49m\u001b[43mj\u001b[49m\u001b[43m,\u001b[49m\u001b[43m \u001b[49m\u001b[43mm_t\u001b[49m\u001b[43m,\u001b[49m\u001b[43m \u001b[49m\u001b[43mk\u001b[49m\u001b[43m)\u001b[49m\n",
      "    \u001b[0;31m[... skipping hidden 3 frame]\u001b[0m\n",
      "Cell \u001b[0;32mIn[38], line 30\u001b[0m, in \u001b[0;36mcompute_phi\u001b[0;34m(n, l, j, m_t, k)\u001b[0m\n\u001b[1;32m     28\u001b[0m \u001b[38;5;28;01mdef\u001b[39;00m \u001b[38;5;21mcompute_phi\u001b[39m(n, l, j, m_t, k):\n\u001b[1;32m     29\u001b[0m     r_array, u_array \u001b[38;5;241m=\u001b[39m get_orbital(n, l, j, m_t)\n\u001b[0;32m---> 30\u001b[0m     phi \u001b[38;5;241m=\u001b[39m \u001b[43mfourier_transform\u001b[49m\u001b[43m(\u001b[49m\u001b[43ml\u001b[49m\u001b[43m,\u001b[49m\u001b[43m \u001b[49m\u001b[43mk\u001b[49m\u001b[43m,\u001b[49m\u001b[43m \u001b[49m\u001b[43mr_array\u001b[49m\u001b[43m,\u001b[49m\u001b[43m \u001b[49m\u001b[43mu_array\u001b[49m\u001b[43m)\u001b[49m\n\u001b[1;32m     31\u001b[0m     \u001b[38;5;28;01mreturn\u001b[39;00m phi\n",
      "Cell \u001b[0;32mIn[38], line 19\u001b[0m, in \u001b[0;36mfourier_transform\u001b[0;34m(l, k, r_array, u_array)\u001b[0m\n\u001b[1;32m     16\u001b[0m \u001b[38;5;124;03m\"\"\"Fourier transformation matrix for given orbital angular momentum.\"\"\"\u001b[39;00m\n\u001b[1;32m     17\u001b[0m dr \u001b[38;5;241m=\u001b[39m \u001b[38;5;241m2e-2\u001b[39m\n\u001b[1;32m     18\u001b[0m \u001b[38;5;28;01mreturn\u001b[39;00m \u001b[38;5;241m1\u001b[39mj\u001b[38;5;241m*\u001b[39m\u001b[38;5;241m*\u001b[39m(\u001b[38;5;241m-\u001b[39ml) \u001b[38;5;241m*\u001b[39m np\u001b[38;5;241m.\u001b[39msqrt(\u001b[38;5;241m2\u001b[39m\u001b[38;5;241m/\u001b[39mnp\u001b[38;5;241m.\u001b[39mpi) \u001b[38;5;241m*\u001b[39m dr \u001b[38;5;241m*\u001b[39m np\u001b[38;5;241m.\u001b[39msum(\n\u001b[0;32m---> 19\u001b[0m     r_array \u001b[38;5;241m*\u001b[39m \u001b[43mspherical_jn\u001b[49m\u001b[43m(\u001b[49m\u001b[43ml\u001b[49m\u001b[43m,\u001b[49m\u001b[43m \u001b[49m\u001b[43mk\u001b[49m\u001b[38;5;241;43m*\u001b[39;49m\u001b[43mr_array\u001b[49m\u001b[43m)\u001b[49m \u001b[38;5;241m*\u001b[39m u_array)\n",
      "File \u001b[0;32m~/opt/anaconda3/lib/python3.9/site-packages/scipy/special/_spherical_bessel.py:90\u001b[0m, in \u001b[0;36mspherical_jn\u001b[0;34m(n, z, derivative)\u001b[0m\n\u001b[1;32m     88\u001b[0m     \u001b[38;5;28;01mreturn\u001b[39;00m _spherical_jn_d(n, z)\n\u001b[1;32m     89\u001b[0m \u001b[38;5;28;01melse\u001b[39;00m:\n\u001b[0;32m---> 90\u001b[0m     \u001b[38;5;28;01mreturn\u001b[39;00m \u001b[43m_spherical_jn\u001b[49m\u001b[43m(\u001b[49m\u001b[43mn\u001b[49m\u001b[43m,\u001b[49m\u001b[43m \u001b[49m\u001b[43mz\u001b[49m\u001b[43m)\u001b[49m\n",
      "File \u001b[0;32m~/opt/anaconda3/lib/python3.9/site-packages/jax/_src/core.py:576\u001b[0m, in \u001b[0;36mTracer.__array__\u001b[0;34m(self, *args, **kw)\u001b[0m\n\u001b[1;32m    575\u001b[0m \u001b[38;5;28;01mdef\u001b[39;00m \u001b[38;5;21m__array__\u001b[39m(\u001b[38;5;28mself\u001b[39m, \u001b[38;5;241m*\u001b[39margs, \u001b[38;5;241m*\u001b[39m\u001b[38;5;241m*\u001b[39mkw):\n\u001b[0;32m--> 576\u001b[0m   \u001b[38;5;28;01mraise\u001b[39;00m TracerArrayConversionError(\u001b[38;5;28mself\u001b[39m)\n",
      "\u001b[0;31mTracerArrayConversionError\u001b[0m: The numpy.ndarray conversion method __array__() was called on the JAX Tracer object Traced<ShapedArray(float64[])>with<BatchTrace(level=2/0)> with\n  val = Traced<ShapedArray(float64[10])>with<DynamicJaxprTrace(level=1/0)>\n  batch_dim = 0\nThis BatchTracer with object id 10943993232 was created on line:\n  /var/folders/4c/p53tldwd6f76zfs85vnyk3qr0000gn/T/ipykernel_33458/2547853263.py:35 (compute_phi_vmap)\nSee https://jax.readthedocs.io/en/latest/errors.html#jax.errors.TracerArrayConversionError"
     ]
    }
   ],
   "source": [
    "a = integrand(x_array)\n",
    "print(a)"
   ]
  },
  {
   "cell_type": "code",
   "execution_count": null,
   "id": "9f51be31",
   "metadata": {},
   "outputs": [],
   "source": []
  },
  {
   "cell_type": "code",
   "execution_count": null,
   "id": "d1e3f073",
   "metadata": {},
   "outputs": [],
   "source": []
  },
  {
   "cell_type": "code",
   "execution_count": null,
   "id": "628691a4",
   "metadata": {},
   "outputs": [],
   "source": []
  },
  {
   "cell_type": "code",
   "execution_count": null,
   "id": "2b17c732",
   "metadata": {},
   "outputs": [],
   "source": []
  },
  {
   "cell_type": "code",
   "execution_count": null,
   "id": "59ea0b4d",
   "metadata": {},
   "outputs": [],
   "source": []
  },
  {
   "cell_type": "code",
   "execution_count": null,
   "id": "db491ef4",
   "metadata": {},
   "outputs": [],
   "source": []
  }
 ],
 "metadata": {
  "kernelspec": {
   "display_name": "Python 3 (ipykernel)",
   "language": "python",
   "name": "python3"
  },
  "language_info": {
   "codemirror_mode": {
    "name": "ipython",
    "version": 3
   },
   "file_extension": ".py",
   "mimetype": "text/x-python",
   "name": "python",
   "nbconvert_exporter": "python",
   "pygments_lexer": "ipython3",
   "version": "3.9.13"
  }
 },
 "nbformat": 4,
 "nbformat_minor": 5
}

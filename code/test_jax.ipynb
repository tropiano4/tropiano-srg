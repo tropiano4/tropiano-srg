{
 "cells": [
  {
   "cell_type": "markdown",
   "id": "357a90e8",
   "metadata": {},
   "source": [
    "# Testing JAX\n",
    "\n",
    "__Author:__ A. J. Tropiano [atropiano@anl.gov]<br/>\n",
    "__Date:__ May 3, 2023\n",
    "\n",
    "In this notebook, we test how to use `jax.numpy`, vectorize functions using `jax.vmap`, and possibly speed-up functions using `jax.jit`.\n",
    "\n",
    "_Last update:_ May 8, 2023"
   ]
  },
  {
   "cell_type": "code",
   "execution_count": 1,
   "id": "6fda7c55",
   "metadata": {},
   "outputs": [],
   "source": [
    "# Python imports\n",
    "from jax import device_put, jit, vmap\n",
    "import jax.numpy as jnp\n",
    "from jax.scipy.special import sph_harm as sph_harm_jax\n",
    "import numpy as np\n",
    "import numpy.linalg as la\n",
    "from scipy.interpolate import interp1d, RectBivariateSpline\n",
    "from scipy.special import sph_harm, spherical_jn\n",
    "from sympy.physics.quantum.cg import CG\n",
    "import timeit"
   ]
  },
  {
   "cell_type": "code",
   "execution_count": 2,
   "id": "e53d6b33",
   "metadata": {},
   "outputs": [],
   "source": [
    "# Imports from scripts\n",
    "from scripts.integration import momentum_mesh, unattach_weights_from_matrix\n",
    "from scripts.srg import SRG"
   ]
  },
  {
   "cell_type": "markdown",
   "id": "020b5980",
   "metadata": {},
   "source": [
    "## Calculating arrays of Clebsch-Gordan coefficients"
   ]
  },
  {
   "cell_type": "code",
   "execution_count": 3,
   "id": "f77a6d02",
   "metadata": {
    "code_folding": [
     0
    ]
   },
   "outputs": [],
   "source": [
    "def compute_clebsch_gordan_table(j_max):\n",
    "    \"\"\"\n",
    "    Calculate Clebsch-Gordan coefficients for combinations of j and m_j up\n",
    "    to j_max.\n",
    "        \n",
    "    Parameters\n",
    "    ----------\n",
    "    j_max : int\n",
    "        Maximum j value for j_1, j_2, and j_3. This also constrains m_j.\n",
    "        \n",
    "    Returns\n",
    "    -------\n",
    "    cg_table : dict\n",
    "        Table of Clebsch-Gordan coefficients <j_1 m_j_1 j_2 m_j_2|j_3 m_j_3>\n",
    "        for each combination of angular momenta.\n",
    "            \n",
    "    \"\"\"\n",
    "        \n",
    "    j_array = np.arange(0, j_max+1/2, 1/2)\n",
    "    \n",
    "    cg_table = {}        \n",
    "    for j_1 in j_array:\n",
    "        for j_2 in j_array:\n",
    "            j_3_array = np.arange(abs(j_1-j_2), j_1+j_2+1/2)\n",
    "            for j_3 in j_3_array:\n",
    "                for m_1 in np.arange(-j_1, j_1+1, 1):\n",
    "                    for m_2 in np.arange(-j_2, j_2+1, 1):\n",
    "                        m_3 = m_1 + m_2\n",
    "                        if abs(m_3) <= j_3:\n",
    "                            cg_table[(j_1,m_1,j_2,m_2,j_3,m_3)] = float(\n",
    "                                CG(j_1,m_1,j_2,m_2,j_3,m_3).doit()\n",
    "                            )\n",
    "                                    \n",
    "    return cg_table      "
   ]
  },
  {
   "cell_type": "code",
   "execution_count": 4,
   "id": "6e5abeb8",
   "metadata": {},
   "outputs": [],
   "source": [
    "# Calculate the table of CG coefficients\n",
    "cg_table = compute_clebsch_gordan_table(3)"
   ]
  },
  {
   "cell_type": "code",
   "execution_count": 5,
   "id": "55e599d5",
   "metadata": {
    "code_folding": [
     0
    ]
   },
   "outputs": [],
   "source": [
    "def get_cg_coefficient(j1, m1, j2, m2, j3, m3, cg_table):\n",
    "    \"\"\"Clebsch-Gordan coefficient < j1 m1 j2 m2 | j3 m3 >.\"\"\"\n",
    "        \n",
    "    try:\n",
    "            \n",
    "        return cg_table[(j1, m1, j2, m2, j3, m3)]\n",
    "                \n",
    "    except KeyError:\n",
    "            \n",
    "        return 0"
   ]
  },
  {
   "cell_type": "code",
   "execution_count": 6,
   "id": "db861f2b",
   "metadata": {
    "code_folding": [
     0
    ]
   },
   "outputs": [],
   "source": [
    "def cgs_by_looping(j1, m1, j2, m2, j3, m3, cg_table):\n",
    "    \"\"\"Get array of CG's by looping.\"\"\"\n",
    "    \n",
    "    N_batch = len(j1)\n",
    "    cg_array = np.zeros(N_batch)\n",
    "    for i in range(N_batch):\n",
    "        cg_array[i] = get_cg_coefficient(j1[i], m1[i], j2[i], m2[i], j3[i],\n",
    "                                         m3[i], cg_table)\n",
    "        \n",
    "    return cg_array"
   ]
  },
  {
   "cell_type": "code",
   "execution_count": 7,
   "id": "72186b7d",
   "metadata": {
    "code_folding": [
     0
    ]
   },
   "outputs": [],
   "source": [
    "def compute_clebsch_gordan_array(j_max):\n",
    "    \n",
    "    j_array = np.arange(0, j_max+1/2, 1/2)\n",
    "    N_j = j_array.size\n",
    "    m_array = np.concatenate((j_array, -j_array[1:]))\n",
    "    N_m = m_array.size\n",
    "    \n",
    "    cg_array = np.zeros((N_j, N_j, N_j, N_m, N_m, N_m))\n",
    "    \n",
    "    for i, j_1 in enumerate(j_array):\n",
    "        m_1_array = np.arange(-j_1, j_1+1)\n",
    "        for j, j_2 in enumerate(j_array):\n",
    "            m_2_array = np.arange(-j_2, j_2+1)\n",
    "            j_3_array = np.arange(np.abs(j_1-j_2), j_1+j_2+1/2)\n",
    "            for k, j_3 in enumerate(j_array):\n",
    "                m_3_array = np.arange(-j_3, j_3+1)\n",
    "                for l, m_1 in enumerate(m_array):\n",
    "                    for m, m_2 in enumerate(m_array):\n",
    "                        for n, m_3 in enumerate(m_array):\n",
    "                            \n",
    "                            selection_rules = (\n",
    "                                np.any(j_3 == j_3_array)\n",
    "                                and np.any(m_1 == m_1_array)\n",
    "                                and np.any(m_2 == m_2_array)\n",
    "                                and np.any(m_3 == m_3_array)\n",
    "                            )\n",
    "\n",
    "                            if selection_rules:\n",
    "\n",
    "                                cg_array[i, j, k, l, m, n] = float(\n",
    "                                    CG(j_1,m_1,j_2,m_2,j_3,m_3).doit()\n",
    "                                )\n",
    "    \n",
    "    return jnp.array(cg_array), N_j"
   ]
  },
  {
   "cell_type": "code",
   "execution_count": 8,
   "id": "9c6949b1",
   "metadata": {
    "scrolled": false
   },
   "outputs": [],
   "source": [
    "# Calculate the array of CG coefficients\n",
    "cg_array, N_j = compute_clebsch_gordan_array(3)"
   ]
  },
  {
   "cell_type": "code",
   "execution_count": 9,
   "id": "b29db981",
   "metadata": {
    "code_folding": [
     0
    ]
   },
   "outputs": [],
   "source": [
    "def cg_mapping(j, m, N_j):\n",
    "    \"\"\"Return the indices of the input angular momentum and projection for the\n",
    "    array of Clebsch-Gordan coefficients.\n",
    "    \"\"\"\n",
    "    \n",
    "    j_index = jnp.array(j / 0.5, dtype=int)\n",
    "    m_index = jnp.array(jnp.abs(-1.5/0.5) - (jnp.sign(-1.5)-1) * N_j/2 - 1,\n",
    "                        dtype=int)\n",
    "\n",
    "    return j_index, m_index"
   ]
  },
  {
   "cell_type": "code",
   "execution_count": 10,
   "id": "93aa2599",
   "metadata": {
    "code_folding": [
     1
    ]
   },
   "outputs": [],
   "source": [
    "# HARD-CODING N_J AND CG_ARRAY CURRENTLY\n",
    "def get_cg_coefficient_jax(j1, m1, j2, m2, j3, m3):\n",
    "    \"\"\"Clebsch-Gordan coefficient < j1 m1 j2 m2 | j3 m3 >.\"\"\"\n",
    "    \n",
    "    N_j = 7\n",
    "    \n",
    "    ij, im = cg_mapping(j1, m1, N_j)\n",
    "    jj, jm = cg_mapping(j2, m2, N_j)\n",
    "    kj, km = cg_mapping(j3, m3, N_j)\n",
    "    \n",
    "    return cg_array[ij, jj, kj, im, jm, km]"
   ]
  },
  {
   "cell_type": "code",
   "execution_count": 11,
   "id": "30a6e5b0",
   "metadata": {},
   "outputs": [],
   "source": [
    "# Vectorize CG function using NumPy\n",
    "cg_func_vect = np.vectorize(get_cg_coefficient, otypes=[float])"
   ]
  },
  {
   "cell_type": "code",
   "execution_count": 12,
   "id": "8f63640a",
   "metadata": {},
   "outputs": [],
   "source": [
    "# Vectorize CG function using JAX\n",
    "@jit\n",
    "def cg_func_vect_jax(j1, m1, j2, m2, j3, m3):\n",
    "    return vmap(get_cg_coefficient_jax)(j1, m1, j2, m2, j3, m3)"
   ]
  },
  {
   "cell_type": "code",
   "execution_count": 13,
   "id": "303945a5",
   "metadata": {},
   "outputs": [],
   "source": [
    "# Batch of spin values\n",
    "N_batch = 100\n",
    "random_numbers = np.random.random((N_batch, 2))\n",
    "spin_samples = np.zeros((N_batch, 4))\n",
    "for i in range(N_batch):\n",
    "    for j in range(2):\n",
    "        if random_numbers[i, j] > 0.5:\n",
    "            spin_samples[i, 2*j+1] = 1/2\n",
    "        else:\n",
    "            spin_samples[i, 2*j+1] = -1/2  \n",
    "spin_samples[:, 0], spin_samples[:, 2] = 1/2, 1/2"
   ]
  },
  {
   "cell_type": "code",
   "execution_count": 14,
   "id": "97c73522",
   "metadata": {},
   "outputs": [],
   "source": [
    "# Coupling two spin-1/2 particles\n",
    "s1 = spin_samples[:, 0]\n",
    "sigma_1 = spin_samples[:, 1]\n",
    "s2 = spin_samples[:, 2]\n",
    "sigma_2 = spin_samples[:, 3]\n",
    "# S, M_S = 1, 0  # Taking S = 1, M_S = 0\n",
    "S, M_S = np.repeat(1, N_batch), np.repeat(0, N_batch)"
   ]
  },
  {
   "cell_type": "code",
   "execution_count": 15,
   "id": "58060b2e",
   "metadata": {},
   "outputs": [],
   "source": [
    "# JAX arrays\n",
    "s1_jax = jnp.array(s1)\n",
    "s2_jax = jnp.array(s2)\n",
    "sigma_1_jax = jnp.array(sigma_1)\n",
    "sigma_2_jax = jnp.array(sigma_2)\n",
    "S_jax = jnp.array(S)\n",
    "M_S_jax = jnp.array(M_S)"
   ]
  },
  {
   "cell_type": "code",
   "execution_count": 16,
   "id": "154d6c2e",
   "metadata": {},
   "outputs": [
    {
     "name": "stdout",
     "output_type": "stream",
     "text": [
      "53.3 µs ± 356 ns per loop (mean ± std. dev. of 7 runs, 10,000 loops each)\n",
      "44.6 µs ± 64.9 ns per loop (mean ± std. dev. of 7 runs, 10,000 loops each)\n",
      "4.87 µs ± 15.8 ns per loop (mean ± std. dev. of 7 runs, 100,000 loops each)\n",
      "3.25 µs ± 19.5 ns per loop (mean ± std. dev. of 7 runs, 100,000 loops each)\n"
     ]
    }
   ],
   "source": [
    "# Comparison\n",
    "\n",
    "# Looping\n",
    "%timeit cg_array_1 = cgs_by_looping(s1, sigma_1, s2, sigma_2, S, M_S, cg_table)\n",
    "\n",
    "# numpy.vectorize\n",
    "%timeit cg_array_2 = cg_func_vect(s1, sigma_1, s2, sigma_2, S, M_S, cg_table)\n",
    "\n",
    "# JAX with NumPy arrays\n",
    "%timeit cg_array_3 = cg_func_vect_jax(s1, sigma_1, s2, sigma_2, S, M_S).block_until_ready()\n",
    "\n",
    "# JAX with JAX arrays\n",
    "%timeit cg_array_3 = cg_func_vect_jax(s1_jax, sigma_1_jax, s2_jax, sigma_2_jax, S_jax, M_S_jax).block_until_ready()"
   ]
  },
  {
   "cell_type": "markdown",
   "id": "538792f4",
   "metadata": {},
   "source": [
    "## Calculating spherical harmonics given arrays of $l$, $m_l$, $\\theta$, and $\\phi$"
   ]
  },
  {
   "cell_type": "code",
   "execution_count": 17,
   "id": "6699aa14",
   "metadata": {
    "code_folding": [
     0
    ]
   },
   "outputs": [],
   "source": [
    "def ylms_by_looping(l_array, m_array, theta_array, phi_array):\n",
    "    \n",
    "    N_batch = len(l_array)\n",
    "    ylm_array = np.zeros(N_batch, dtype='complex')\n",
    "    for i in range(N_batch):\n",
    "        ylm_array[i] = sph_harm(m_array[i], l_array[i], phi_array[i],\n",
    "                                theta_array[i])\n",
    "    return ylm_array"
   ]
  },
  {
   "cell_type": "code",
   "execution_count": 18,
   "id": "32a884b7",
   "metadata": {},
   "outputs": [],
   "source": [
    "# Batch of l, m_l, \\theta, and \\phi values\n",
    "l_array = np.array([0, 1, 0, 1, 0, 0, 2, 1, 1, 2, 0, 1, 0, 1, 0, 0, 2, 1, 1, 2])\n",
    "m_array = np.concatenate((l_array[:10], -l_array[10:]))\n",
    "theta_array = np.linspace(0.0, np.pi, 20)\n",
    "phi_array = np.linspace(0.0, 2*np.pi, 20)"
   ]
  },
  {
   "cell_type": "code",
   "execution_count": 19,
   "id": "de4f31bc",
   "metadata": {},
   "outputs": [],
   "source": [
    "# JAX arrays\n",
    "l_array_jax = jnp.array(l_array)\n",
    "m_array_jax = jnp.array(m_array)\n",
    "theta_array_jax = jnp.array(theta_array)\n",
    "phi_array_jax = jnp.array(phi_array)"
   ]
  },
  {
   "cell_type": "code",
   "execution_count": 20,
   "id": "c2de223d",
   "metadata": {},
   "outputs": [
    {
     "name": "stdout",
     "output_type": "stream",
     "text": [
      "31.7 µs ± 163 ns per loop (mean ± std. dev. of 7 runs, 10,000 loops each)\n",
      "903 ns ± 2.86 ns per loop (mean ± std. dev. of 7 runs, 1,000,000 loops each)\n",
      "The slowest run took 7.61 times longer than the fastest. This could mean that an intermediate result is being cached.\n",
      "25.5 µs ± 27.1 µs per loop (mean ± std. dev. of 7 runs, 1 loop each)\n",
      "16.1 µs ± 171 ns per loop (mean ± std. dev. of 7 runs, 100,000 loops each)\n"
     ]
    }
   ],
   "source": [
    "# Comparison of the two\n",
    "\n",
    "# Looping\n",
    "%timeit ylm_array_1 = ylms_by_looping(l_array, m_array, theta_array, phi_array)\n",
    "\n",
    "# Vectorized\n",
    "%timeit ylm_array_2 = sph_harm(m_array, l_array, phi_array, theta_array)\n",
    "\n",
    "# JAX with NumPy arrays\n",
    "%timeit ylm_array_3 = sph_harm_jax(m_array, l_array, phi_array, theta_array).block_until_ready()\n",
    "\n",
    "# JAX with JAX arrays\n",
    "%timeit ylm_array_4 = sph_harm_jax(m_array_jax, l_array_jax, phi_array_jax, theta_array_jax).block_until_ready()"
   ]
  },
  {
   "cell_type": "markdown",
   "id": "f8f2f4f6",
   "metadata": {},
   "source": [
    "## Vectorizing $\\psi_\\alpha(\\mathbf{q};\\sigma)$"
   ]
  },
  {
   "cell_type": "code",
   "execution_count": 21,
   "id": "a92b8bf5",
   "metadata": {
    "code_folding": [
     0
    ]
   },
   "outputs": [],
   "source": [
    "class SingleParticleState:\n",
    "    \"\"\"\n",
    "    Single-particle state class. Packs together the following single-particle\n",
    "    quantum numbers into one object.\n",
    "    \n",
    "    Parameters\n",
    "    ----------\n",
    "    n : int\n",
    "        Principal quantum number n = 1, 2, ...\n",
    "    l : int\n",
    "        Orbital angular momentum l = 0, 1, ...\n",
    "    j : float\n",
    "        Total angular momentum j = 1/2, 3/2, ...\n",
    "    m_j : float\n",
    "        Total angular momentum projection m_j = -j, -j+1, ..., j.\n",
    "    m_t : float\n",
    "        Isospin projection m_t = 1/2 or -1/2.\n",
    "    \n",
    "    \"\"\"\n",
    "    \n",
    "    \n",
    "    def __init__(self, n, l, j, m_j, m_t):\n",
    "        \n",
    "        # Check if m_j is valid\n",
    "        if abs(m_j) > j:\n",
    "            raise RuntimeError(\"m_j is not valid.\")\n",
    "            \n",
    "        # Check that |m_t| = 1/2\n",
    "        if abs(m_t) != 1/2:\n",
    "            raise RuntimeError(\"m_t is not valid.\")\n",
    "            \n",
    "        self.n = n\n",
    "        self.l = l\n",
    "        self.j = j\n",
    "        self.m_j = m_j\n",
    "        self.m_t = m_t\n",
    "        \n",
    "        if m_t == 1/2:\n",
    "            self.nucleon = 'proton'\n",
    "        elif m_t == -1/2:\n",
    "            self.nucleon = 'neutron'\n",
    "        \n",
    "        \n",
    "    def __eq__(self, sp_state):\n",
    "\n",
    "        if (\n",
    "            self.n == sp_state.n and self.l == sp_state.l\n",
    "            and self.j == sp_state.j and self.m_j == sp_state.m_j\n",
    "            and self.m_t == sp_state.m_t\n",
    "        ):\n",
    "            \n",
    "            return True\n",
    "        \n",
    "        else:\n",
    "            \n",
    "            return False\n",
    "        \n",
    "        \n",
    "    def __str__(self):\n",
    "        \n",
    "        # Spectroscopic notation of orbital angular momentum\n",
    "        l_str = convert_l_to_string(self.l)  # E.g., 's', 'p', 'd', ...\n",
    "        \n",
    "        # Display j subscript as a fraction\n",
    "        numerator = 2*int(self.j) + 1\n",
    "        denominator = 2\n",
    "\n",
    "        return fr\"${self.n}{l_str}_{{{numerator}/{denominator}}}$\""
   ]
  },
  {
   "cell_type": "code",
   "execution_count": 22,
   "id": "b9f71c42",
   "metadata": {
    "code_folding": [
     0
    ]
   },
   "outputs": [],
   "source": [
    "class WoodsSaxon:\n",
    "    \"\"\"\n",
    "    Woods-Saxon orbitals class. Handles the wave functions associated with the\n",
    "    Woods-Saxon potential from the subroutine in woodsaxon.f90. Outputs wave\n",
    "    functions in coordinate and momentum space.\n",
    "    \n",
    "    Parameters\n",
    "    ----------\n",
    "    nucleus_name : str\n",
    "        Name of the nucleus (e.g., 'O16', 'Ca40', etc.)\n",
    "    Z : int\n",
    "        Proton number of the nucleus.\n",
    "    N : int\n",
    "        Neutron number of the nucleus.\n",
    "    run_woodsaxon : bool, optional\n",
    "        Option to run the Woods-Saxon subroutine to generate orbital files.\n",
    "    n_max : int, optional\n",
    "        Maximum principal quantum number where n = 1, 2, ..., n_max.\n",
    "    l_max : int, optional\n",
    "        Maximum orbital angular momentum where l = 0, 1, ..., l_max.\n",
    "    rmax : float, optional\n",
    "        Maximum r for orbital tables.\n",
    "    ntab : int, optional\n",
    "        Number of points for orbital tables.\n",
    "        \n",
    "    \"\"\"\n",
    "    \n",
    "    \n",
    "    def __init__(\n",
    "        self, nucleus_name, Z, N, run_woodsaxon=True, n_max=0, l_max=0, rmax=40,\n",
    "        ntab=2000\n",
    "    ):\n",
    "        \n",
    "        # Set instance attributes\n",
    "        self.woods_saxon_directory = f\"../data/woods_saxon/{nucleus_name}/\"\n",
    "        self.dr = rmax / ntab\n",
    "        self.r_array = np.arange(self.dr, rmax + self.dr, self.dr)\n",
    "\n",
    "        # Generate orbitals?\n",
    "        if run_woodsaxon:\n",
    "            \n",
    "            self.run_woods_saxon_code(nucleus_name, Z, N, n_max, l_max, rmax,\n",
    "                                      ntab)\n",
    "\n",
    "            # Move output files to relevant directory\n",
    "            shutil.move(\"ws_log\", self.woods_saxon_directory + \"ws_log\")\n",
    "            shutil.move(\"ws_pot\", self.woods_saxon_directory + \"ws_pot\")\n",
    "            shutil.move(\"ws_rho\", self.woods_saxon_directory + \"ws_rho\")\n",
    "                \n",
    "        # Order single-particle states with lowest energy first\n",
    "        self.order_sp_states(Z, N)\n",
    "        \n",
    "        # Organize wave functions in dictionary with the file name as the key\n",
    "        self.sp_wfs = {}\n",
    "        for sp_state in self.sp_states:\n",
    "            # Wave functions are independent of m_j, so fix m_j=j\n",
    "            if sp_state.m_j == sp_state.j:\n",
    "                file_name = get_orbital_file_name(sp_state.n, sp_state.l,\n",
    "                                                  sp_state.j, sp_state.m_t)\n",
    "                if run_woodsaxon:\n",
    "                    shutil.move(file_name,\n",
    "                                self.woods_saxon_directory + file_name)\n",
    "                data = np.loadtxt(self.woods_saxon_directory + file_name)\n",
    "                # Use file name as the key\n",
    "                self.sp_wfs[file_name] = data[:, 1]\n",
    "\n",
    "            \n",
    "    def run_woods_saxon_code(\n",
    "            self, nucleus_name, Z, N, n_max, l_max, rmax, ntab\n",
    "    ):\n",
    "        \"\"\"Run Woods-Saxon code to generate data.\"\"\"\n",
    "        \n",
    "        # Total number of nucleons\n",
    "        A = Z + N\n",
    "        \n",
    "        # Type of orbitals: 1 - nucleons with no Coulomb\n",
    "        #                   2 - distinguish protons and neutrons\n",
    "        ntau = 2\n",
    "        \n",
    "        # Orbitals to consider (note, we track 2*j not j)\n",
    "        norb, lorb, jorb = [], [], []\n",
    "        for n in range(1, n_max+1):\n",
    "            for l in range(0, l_max+1):\n",
    "                norb.append(n)\n",
    "                lorb.append(l)\n",
    "                jorb.append(int(2*(l+1/2)))\n",
    "                if int(2*(l-1/2)) > 0:  # Don't append negative j\n",
    "                    norb.append(n)\n",
    "                    lorb.append(l)\n",
    "                    jorb.append(int(2*(l-1/2)))\n",
    "        nrad = len(jorb)\n",
    "        orbws = np.zeros(shape=(2,nrad,ntab), order='F')\n",
    "    \n",
    "        # Divide orbital by r? -> get R(r); false: get u(r)=r R(r)\n",
    "        rdiv = False\n",
    "        dens = True\n",
    "    \n",
    "        # Set parameters of the Woods-Saxon potential\n",
    "        prm = np.zeros(shape=(2,9), order='F')\n",
    "    \n",
    "        # Starting with vws (p & n)\n",
    "        if nucleus_name == 'He4':\n",
    "            prm[:,0] = 76.8412\n",
    "        elif nucleus_name == 'O16':\n",
    "            prm[:,0] = 58.0611\n",
    "        elif nucleus_name == 'Ca40':\n",
    "            prm[:,0] = 54.3051\n",
    "        elif nucleus_name == 'Ca48':\n",
    "            prm[0,0] = 59.4522\n",
    "            prm[1,0] = 46.9322\n",
    "    \n",
    "        # Not sure about these (better way to load these parameters?)\n",
    "        prm[:,1] = 1.275\n",
    "        prm[:,2] = 0.7\n",
    "        prm[:,3] = 0.\n",
    "        prm[:,4] = 1.\n",
    "        prm[:,5] = 36\n",
    "        prm[:,6] = 1.32\n",
    "        prm[:,7] = 0.7\n",
    "        prm[:,8] = 1.275\n",
    "        \n",
    "        # Print summary, potentials, and densities\n",
    "        prnt = True\n",
    "        prntorb = True\n",
    "\n",
    "        # Run Fortran subroutine\n",
    "        ws(ntau, A, Z, rmax, orbws, norb, lorb, jorb, prm, rdiv, prnt, prntorb,\n",
    "           dens)\n",
    "        \n",
    "        \n",
    "    def order_sp_states(self, Z, N):\n",
    "        \"\"\"Keep track of all s.p. states and occupied s.p. states\"\"\"\n",
    "\n",
    "        self.sp_states = []\n",
    "        self.occ_states = []\n",
    "        proton_count = 0\n",
    "        neutron_count = 0\n",
    "        \n",
    "        # File with details of the orbitals\n",
    "        ws_file = self.woods_saxon_directory + \"ws_log\"\n",
    "    \n",
    "        # Order single-particle states using the ws_log file\n",
    "        with open(ws_file, 'r') as f:\n",
    "            for line in f:\n",
    "                unit = line.strip().split()\n",
    "                \n",
    "                # Protons\n",
    "                if len(unit) > 0 and unit[0] == '1':\n",
    "\n",
    "                    j = int(unit[3])/2\n",
    "                    for m_j in np.arange(-j, j+1, 1):\n",
    "                        sp_state = SingleParticleState(\n",
    "                            int(unit[1])+1, int(unit[2]), j, m_j, 1/2\n",
    "                        )  # n, l, j, m_j, m_t\n",
    "                    \n",
    "                        self.sp_states.append(sp_state)\n",
    "                    \n",
    "                        if proton_count < Z:\n",
    "                            self.occ_states.append(sp_state)\n",
    "                            # Add up filled proton states\n",
    "                            proton_count += 1\n",
    "                    \n",
    "                \n",
    "                # Neutrons\n",
    "                elif len(unit) > 0 and unit[0] == '2':\n",
    "\n",
    "                    j = int(unit[3])/2\n",
    "                    for m_j in np.arange(-j, j+1, 1):\n",
    "                        sp_state = SingleParticleState(\n",
    "                            int(unit[1])+1, int(unit[2]), j, m_j, -1/2\n",
    "                        )  # n, l, j, m_j, m_t\n",
    "                    \n",
    "                        self.sp_states.append(sp_state)\n",
    "                    \n",
    "                        if neutron_count < N:\n",
    "                            self.occ_states.append(sp_state)\n",
    "                            # Add up filled neutron states\n",
    "                            neutron_count += 1\n",
    "                        \n",
    "                        \n",
    "    def get_wf_rspace(self, sp_state, print_normalization=False):\n",
    "        \"\"\"Single-particle wave function in coordinate space.\"\"\"\n",
    "        \n",
    "        # Orbital file name is the key\n",
    "        u_array = self.sp_wfs[get_orbital_file_name(sp_state.n, sp_state.l,\n",
    "                                                    sp_state.j, sp_state.m_t)]\n",
    "\n",
    "        # Normalization: \\int dr |u(r)|^2 = 1\n",
    "        if print_normalization:\n",
    "            normalization = np.sum(self.dr*u_array**2)\n",
    "            print(f\"Coordinate space normalization = {normalization}.\")\n",
    "\n",
    "        return self.r_array, u_array\n",
    "    \n",
    "    \n",
    "    def fourier_transformation(self, l, k_array):\n",
    "        \"\"\"Fourier transformation matrix for given orbital angular momentum.\"\"\"\n",
    "        \n",
    "        # r_array column vectors and k_array row vectors where both grids are\n",
    "        # n x m matrices\n",
    "        r_cols, k_rows = np.meshgrid(self.r_array, k_array)\n",
    "        \n",
    "        # Transformation matrix with shape n x m, where m is the length of\n",
    "        # r_array and n is the length of the k_array\n",
    "        M = 1j**(-l) * np.sqrt(2/np.pi) * self.dr * r_cols * spherical_jn(\n",
    "            l, k_rows*r_cols\n",
    "        )\n",
    "        \n",
    "        return M\n",
    "    \n",
    "    \n",
    "    def get_wf_kspace(\n",
    "            self, sp_state, kmax, kmid, ntot, print_normalization=False,\n",
    "            interpolate=False,\n",
    "            \n",
    "    ):\n",
    "        \"\"\"Single-particle wave function in momentum space.\"\"\"\n",
    "    \n",
    "        # Set momentum mesh with more points at low momentum\n",
    "        k_array, k_weights = momentum_mesh(kmax, kmid, ntot)\n",
    "    \n",
    "        # Get coordinate-space s.p. wave function\n",
    "        _, u_array = self.get_wf_rspace(sp_state)\n",
    "\n",
    "        # Fourier-transform the wave function to momentum space\n",
    "        phi_array = self.fourier_transformation(sp_state.l, k_array) @ u_array\n",
    "    \n",
    "        # Normalization: \\int dk k^2 |\\phi(k)|^2 = 1\n",
    "        if print_normalization:\n",
    "            normalization = np.sum(k_weights*k_array**2*abs(phi_array)**2)\n",
    "            print(f\"Momentum space normalization = {normalization}.\")\n",
    "            \n",
    "        # Interpolate and return function?\n",
    "        if interpolate:\n",
    "            phi_func = interp1d(k_array, phi_array, kind='linear',\n",
    "                                bounds_error=False, fill_value='extrapolate')\n",
    "            return phi_func\n",
    "        \n",
    "        # Otherwise return momentum, weights, and \\phi(k)\n",
    "        else:\n",
    "            return k_array, k_weights, phi_array"
   ]
  },
  {
   "cell_type": "code",
   "execution_count": 23,
   "id": "60f44b80",
   "metadata": {},
   "outputs": [],
   "source": [
    "def kronecker_delta(x, y):\n",
    "    \"\"\"Kronecker \\delta function: \\delta_{x,y}.\"\"\"\n",
    "    \n",
    "    return int(x == y)\n",
    "\n",
    "def get_orbital_file_name(n, l, j, m_t):\n",
    "    \"\"\"Returns the file name of the orbital.\"\"\"\n",
    "        \n",
    "    # Proton\n",
    "    if m_t == 1/2:\n",
    "        file_name = f\"p.n{int(n-1)}.l{int(l)}.j{int(2*j)}.orb\"\n",
    "    # Neutron\n",
    "    elif m_t == -1/2:\n",
    "        file_name = f\"n.n{int(n-1)}.l{int(l)}.j{int(2*j)}.orb\"\n",
    "        \n",
    "    return file_name\n",
    "\n",
    "def get_sp_wave_functions(sp_basis, kmax, kmid, ntot):\n",
    "    \"\"\"Set interpolating functions for s.p. wave functions \\phi.\"\"\"\n",
    "    \n",
    "    occ_states = sp_basis.occ_states\n",
    "\n",
    "    phi_functions = {}\n",
    "    for sp_state in occ_states: \n",
    "        file_name = get_orbital_file_name(sp_state.n, sp_state.l, sp_state.j,\n",
    "                                          sp_state.m_t)\n",
    "        phi_functions[file_name] = sp_basis.get_wf_kspace(\n",
    "            sp_state, kmax, kmid, ntot, interpolate=True)\n",
    "            \n",
    "    return phi_functions"
   ]
  },
  {
   "cell_type": "code",
   "execution_count": 24,
   "id": "d24c2005",
   "metadata": {},
   "outputs": [],
   "source": [
    "# Get radial s.p. wave functions for O16\n",
    "woods_saxon = WoodsSaxon('O16', 8, 8, run_woodsaxon=False)\n",
    "phi_functions = get_sp_wave_functions(woods_saxon, 10.0, 2.0, 120)"
   ]
  },
  {
   "cell_type": "code",
   "execution_count": 25,
   "id": "466cbb95",
   "metadata": {},
   "outputs": [],
   "source": [
    "def psi(n, l, j, m_j, m_t, k, theta, phi, sigma, tau, cg_table, phi_functions):\n",
    "    \"\"\"Single-particle wave function.\"\"\"\n",
    "\n",
    "    # Calculate \\phi_\\alpha(q)\n",
    "    phi_sp_wf = phi_functions[get_orbital_file_name(n, l, j, m_t)](k)\n",
    "    \n",
    "    # Calculate spinor spherical harmonic\n",
    "    Y_jml = spinor_spherical_harmonic(l, j, m_j, theta, phi, sigma, cg_table)\n",
    "    \n",
    "    # Isospinor indexed by \\tau \\chi_{m_t}(\\tau)\n",
    "    chi_tau = kronecker_delta(tau, m_t)\n",
    "\n",
    "    return phi_sp_wf * Y_jml * chi_tau\n",
    "\n",
    "def spinor_spherical_harmonic(l, j, m_j, theta, phi, sigma, cg_table):\n",
    "    \"\"\"Spinor spherical harmonic for a s.p. state described by the quantum\n",
    "    numbers j, m_j, l, and s=1/2.\n",
    "    \"\"\"\n",
    "    \n",
    "    Y_ljm = 0+0j\n",
    "\n",
    "    # Spinor indexed by \\sigma \\eta_{m_s}^(\\sigma) = \\delta_{m_s, \\sigma}\n",
    "    m_s = sigma\n",
    "    \n",
    "    # m_l must be fixed since m_j and m_s are determined\n",
    "    m_l = m_j - m_s\n",
    "    \n",
    "    # Check that |m_l| <= l\n",
    "    if np.abs(m_l) <= l:\n",
    "        \n",
    "        # Clebsch-Gordan coefficient for l-s coupling\n",
    "        cg = cg_table[(l, m_l, 1/2, m_s, j, m_j)]\n",
    "        \n",
    "        # Spherical harmonic\n",
    "        Y_lm = sph_harm(m_l, l, phi, theta)\n",
    "        \n",
    "        Y_ljm = cg * Y_lm\n",
    "\n",
    "    return Y_ljm"
   ]
  },
  {
   "cell_type": "code",
   "execution_count": 26,
   "id": "c6186f59",
   "metadata": {},
   "outputs": [],
   "source": [
    "def psis_by_looping(\n",
    "    k_array, theta_array, phi_array, n_array, l_array, j_array, m_j_array,\n",
    "    m_t_array, sigma_array, tau_array, cg_table, phi_functions\n",
    "):\n",
    "    \n",
    "    N_batch = len(k_array)\n",
    "    psi_array = np.zeros(N_batch, dtype='complex')\n",
    "    for i in range(N_batch):\n",
    "        \n",
    "        n = n_array[i]\n",
    "        l = l_array[i]\n",
    "        j = j_array[i]\n",
    "        m_j = m_j_array[i]\n",
    "        m_t = m_t_array[i]\n",
    "        k = k_array[i]\n",
    "        theta = theta_array[i]\n",
    "        phi = phi_array[i]\n",
    "        sigma = sigma_array[i]\n",
    "        tau = tau_array[i]\n",
    "        \n",
    "        psi_array[i] = psi(n, l, j, m_j, m_t, k, theta, phi, sigma, tau,\n",
    "                           cg_table, phi_functions)\n",
    "        \n",
    "    return psi_array"
   ]
  },
  {
   "cell_type": "code",
   "execution_count": 27,
   "id": "4b2835dd",
   "metadata": {},
   "outputs": [],
   "source": [
    "psi_func_vect = np.vectorize(psi, otypes=[complex])"
   ]
  },
  {
   "cell_type": "code",
   "execution_count": 28,
   "id": "2906eb00",
   "metadata": {},
   "outputs": [],
   "source": [
    "# Vectorize Kronecker \\delta function using JAX\n",
    "def kronecker_delta_jax(x, y):\n",
    "    \"\"\"Kronecker \\delta function: \\delta_{x,y}.\"\"\"\n",
    "    \n",
    "    return jnp.array(x == y, dtype=int)\n",
    "\n",
    "@jit\n",
    "def vectorized_kronecker_delta(x, y):\n",
    "    return vmap(kronecker_delta_jax)(x, y)"
   ]
  },
  {
   "cell_type": "code",
   "execution_count": 29,
   "id": "4aab2236",
   "metadata": {},
   "outputs": [],
   "source": [
    "def get_phi_function(n, l, j, m_t, k):\n",
    "    return phi_functions[get_orbital_file_name(n, l, j, m_t)](k)\n",
    "\n",
    "vectorized_phi_function = np.vectorize(get_phi_function)"
   ]
  },
  {
   "cell_type": "code",
   "execution_count": 60,
   "id": "14fbf82c",
   "metadata": {},
   "outputs": [],
   "source": [
    "def psi_jax(n, l, j, m_j, m_t, k, theta, phi, sigma, tau):\n",
    "    \"\"\"Single-particle wave function.\"\"\"\n",
    "    \n",
    "    # Calculate \\phi_\\alpha(q)\n",
    "    phi_sp_wf = vectorized_phi_function(n, l, j, m_t, k)\n",
    "    \n",
    "    # Calculate spinor spherical harmonic\n",
    "    Y_jml = spinor_spherical_harmonic_jax(l, j, m_j, theta, phi, sigma)\n",
    "    # Y_jml = vectorized_spinor_spherical_harmonic(l, j, m_j, theta, phi, sigma).block_until_ready()\n",
    "    \n",
    "    # Isospinor indexed by \\tau \\chi_{m_t}(\\tau)\n",
    "    chi_tau = vectorized_kronecker_delta(tau, m_t).block_until_ready()\n",
    "\n",
    "    return phi_sp_wf * Y_jml * chi_tau\n",
    "\n",
    "# HARD-CODING CG_ARRAY CURRENTLY\n",
    "def spinor_spherical_harmonic_jax(l, j, m_j, theta, phi, sigma):\n",
    "    \"\"\"Spinor spherical harmonic for a s.p. state described by the quantum\n",
    "    numbers j, m_j, l, and s=1/2.\n",
    "    \"\"\"\n",
    "\n",
    "    # Spinor indexed by \\sigma \\eta_{m_s}^(\\sigma) = \\delta_{m_s, \\sigma}\n",
    "    m_s = sigma\n",
    "    \n",
    "    # m_l must be fixed since m_j and m_s are determined\n",
    "    m_l = m_j - m_s\n",
    "\n",
    "    # Clebsch-Gordan coefficient for l-s coupling\n",
    "    cg = cg_func_vect_jax(l, m_l, np.repeat(1/2, m_s.size), m_s, j, m_j).block_until_ready()\n",
    "    # cg = get_cg_coefficient_jax(l, m_l, np.repeat(1/2, m_s.size), m_s, j, m_j)\n",
    "    \n",
    "    # Check that |m_l| <= l\n",
    "#     Y_lm = sph_harm_jax(m_l, l, phi, theta, n_max=1)\n",
    "#     Y_ljm = jnp.where(\n",
    "#         jnp.abs(m_l) <= l, cg * Y_lm, 0+0j\n",
    "#     )\n",
    "#     Y_ljm = jnp.where(\n",
    "#         jnp.abs(m_l) <= l, cg * sph_harm_jax(m_l, l, phi, theta), 0+0j\n",
    "#     )\n",
    "#     Y_ljm = jnp.where(\n",
    "#         jnp.abs(m_l) <= l, cg * sph_harm_jax(m_l, l, phi, theta, n_max=jnp.amax(l)), 0+0j\n",
    "#     )\n",
    "#     Y_ljm = jnp.where(\n",
    "#         jnp.abs(m_l) <= l, cg * sph_harm_jax(m_l, l, phi, theta, n_max=2), 0+0j\n",
    "#     )\n",
    "#     Y_ljm = jnp.where(\n",
    "#         np.abs(m_l) <= l, cg * sph_harm(m_l, l, phi, theta), 0+0j\n",
    "#     )\n",
    "    # THE SPH_HARM_JAX FUNCTION ISN'T WORKING!\n",
    "    Y_ljm = np.where(np.abs(m_l) <= l, cg * sph_harm(m_l, l, phi, theta), 0+0j)\n",
    "\n",
    "    return Y_ljm\n",
    "\n",
    "@jit\n",
    "def vectorized_spinor_spherical_harmonic(l, j, m_j, theta, phi, sigma):\n",
    "    return vmap(spinor_spherical_harmonic_jax)(l, j, m_j, theta, phi, sigma)"
   ]
  },
  {
   "cell_type": "code",
   "execution_count": 61,
   "id": "164eadf5",
   "metadata": {},
   "outputs": [],
   "source": [
    "# Batch of momenta samples\n",
    "N_batch = 100\n",
    "k_array = np.random.random(N_batch) * 10  # 10 fm^-1 max\n",
    "theta_array = np.random.random(N_batch) * np.pi  # \\pi max\n",
    "phi_array = np.random.random(N_batch) * 2*np.pi  # 2\\pi max"
   ]
  },
  {
   "cell_type": "code",
   "execution_count": 62,
   "id": "e7ce61c9",
   "metadata": {},
   "outputs": [],
   "source": [
    "# Batch of s.p. states\n",
    "n_array = np.zeros(N_batch, dtype=int)\n",
    "l_array = np.zeros(N_batch, dtype=int)\n",
    "j_array = np.zeros(N_batch, dtype=float)\n",
    "m_j_array = np.zeros(N_batch, dtype=float)\n",
    "m_t_array = np.zeros(N_batch, dtype=float)\n",
    "\n",
    "N_mod = len(woods_saxon.occ_states)\n",
    "\n",
    "for i in range(N_batch):\n",
    "\n",
    "    sp_state = woods_saxon.occ_states[i % N_mod]\n",
    "    n_array[i] = sp_state.n\n",
    "    l_array[i] = sp_state.l\n",
    "    j_array[i] = sp_state.j\n",
    "    m_j_array[i] = sp_state.m_j\n",
    "    m_t_array[i] = sp_state.m_t"
   ]
  },
  {
   "cell_type": "code",
   "execution_count": 63,
   "id": "65f21d19",
   "metadata": {},
   "outputs": [],
   "source": [
    "# Batch of \\sigma values\n",
    "random_numbers = np.random.random(N_batch)\n",
    "sigma_array = np.zeros((N_batch, 2))\n",
    "for i in range(N_batch):\n",
    "    if random_numbers[i] > 0.5:\n",
    "        sigma_array[i, 1] = 1/2\n",
    "    else:\n",
    "        sigma_array[i, 1] = -1/2\n",
    "sigma_array[:, 0] = 1/2"
   ]
  },
  {
   "cell_type": "code",
   "execution_count": 64,
   "id": "ebbce1f9",
   "metadata": {},
   "outputs": [],
   "source": [
    "# Batch of \\tau values\n",
    "random_numbers = np.random.random(N_batch)\n",
    "tau_array = np.zeros((N_batch, 2))\n",
    "for i in range(N_batch):\n",
    "    if random_numbers[i] > 0.5:\n",
    "        tau_array[i, 1] = 1/2\n",
    "    else:\n",
    "        tau_array[i, 1] = -1/2\n",
    "tau_array[:, 0] = 1/2"
   ]
  },
  {
   "cell_type": "code",
   "execution_count": 65,
   "id": "c141fccc",
   "metadata": {},
   "outputs": [
    {
     "name": "stdout",
     "output_type": "stream",
     "text": [
      "1.73 ms ± 18.3 µs per loop (mean ± std. dev. of 7 runs, 1,000 loops each)\n",
      "1.58 ms ± 17.6 µs per loop (mean ± std. dev. of 7 runs, 1,000 loops each)\n",
      "1.36 ms ± 21.2 µs per loop (mean ± std. dev. of 7 runs, 1,000 loops each)\n"
     ]
    }
   ],
   "source": [
    "# Compare the cost of looping over N points in\n",
    "# (n, l, j, m_j, m_t, k, theta, phi, \\sigma, \\tau) space to a vectorized func\n",
    "\n",
    "# Looping\n",
    "%timeit psi_array_1 = psis_by_looping(k_array, theta_array, phi_array, n_array, l_array, j_array, m_j_array, m_t_array, sigma_array[:, -1], tau_array[:, -1], cg_table, phi_functions)\n",
    "\n",
    "# numpy.vectorize\n",
    "%timeit psi_array_2 = psi_func_vect(n_array, l_array, j_array, m_j_array, m_t_array, k_array, theta_array, phi_array, sigma_array[:, -1], tau_array[:, -1], cg_table, phi_functions)\n",
    "\n",
    "# JAX with Python sph_harm\n",
    "%timeit psi_array_3 = psi_jax(n_array, l_array, j_array, m_j_array, m_t_array, k_array, theta_array, phi_array, sigma_array[:, -1], tau_array[:, -1]).block_until_ready()"
   ]
  },
  {
   "cell_type": "code",
   "execution_count": null,
   "id": "d79d4a40",
   "metadata": {},
   "outputs": [],
   "source": []
  },
  {
   "cell_type": "code",
   "execution_count": null,
   "id": "66e3794e",
   "metadata": {},
   "outputs": [],
   "source": []
  },
  {
   "cell_type": "code",
   "execution_count": null,
   "id": "0aedf3c4",
   "metadata": {},
   "outputs": [],
   "source": []
  },
  {
   "cell_type": "code",
   "execution_count": null,
   "id": "1a36242f",
   "metadata": {},
   "outputs": [],
   "source": []
  },
  {
   "cell_type": "markdown",
   "id": "4d86f471",
   "metadata": {},
   "source": [
    "## Does JAX work with SciPy 2D interpolation?"
   ]
  },
  {
   "cell_type": "markdown",
   "id": "4196127c",
   "metadata": {},
   "source": [
    "JAX does not support SciPy's 2D interpolation functions yet."
   ]
  },
  {
   "cell_type": "code",
   "execution_count": null,
   "id": "28d11c5a",
   "metadata": {
    "code_folding": [
     0
    ]
   },
   "outputs": [],
   "source": [
    "def get_delta_U():\n",
    "    \n",
    "    # Get momentum mesh\n",
    "    k_array, k_weights = momentum_mesh(15.0, 3.0, 120)\n",
    "    \n",
    "    srg = SRG(6, '1S0', 15.0, 3.0, 120, 'Wegner')\n",
    "    U_matrix_weights = srg.load_srg_transformation(1.35)\n",
    "\n",
    "    # Calculate \\delta U = U - I\n",
    "    I_matrix_weights = np.eye(len(U_matrix_weights))\n",
    "    delU_matrix_weights = U_matrix_weights - I_matrix_weights\n",
    "\n",
    "    delU_matrix = unattach_weights_from_matrix(k_array, k_weights,\n",
    "                                               delU_matrix_weights[:120,:120])\n",
    "        \n",
    "    # Interpolate \\delta U(k, k')\n",
    "    delU_func = RectBivariateSpline(k_array, k_array, delU_matrix)\n",
    "\n",
    "    return delU_func"
   ]
  },
  {
   "cell_type": "code",
   "execution_count": null,
   "id": "bdcd8b1d",
   "metadata": {
    "code_folding": [
     2
    ]
   },
   "outputs": [],
   "source": [
    "# Vectorize this function with JAX\n",
    "@jit\n",
    "def get_delta_U_vectorized(k, kp, delU_func):\n",
    "    \n",
    "    return vmap(delU_func)(k, kp)"
   ]
  },
  {
   "cell_type": "code",
   "execution_count": null,
   "id": "d36fea4f",
   "metadata": {},
   "outputs": [],
   "source": [
    "# delU_func = get_delta_U()\n",
    "# a = delU_func.ev(1.0, 1.0)\n",
    "# b = get_delta_U_vectorized(1.0, 1.0, delU_func)"
   ]
  },
  {
   "cell_type": "code",
   "execution_count": null,
   "id": "33c60f98",
   "metadata": {},
   "outputs": [],
   "source": []
  },
  {
   "cell_type": "code",
   "execution_count": null,
   "id": "f2965a95",
   "metadata": {},
   "outputs": [],
   "source": []
  },
  {
   "cell_type": "code",
   "execution_count": null,
   "id": "a1e2cf1c",
   "metadata": {},
   "outputs": [],
   "source": []
  },
  {
   "cell_type": "code",
   "execution_count": null,
   "id": "28258fce",
   "metadata": {},
   "outputs": [],
   "source": []
  },
  {
   "cell_type": "code",
   "execution_count": null,
   "id": "93597947",
   "metadata": {},
   "outputs": [],
   "source": []
  },
  {
   "cell_type": "code",
   "execution_count": null,
   "id": "ff4652bb",
   "metadata": {},
   "outputs": [],
   "source": []
  },
  {
   "cell_type": "code",
   "execution_count": null,
   "id": "8c750ca1",
   "metadata": {},
   "outputs": [],
   "source": []
  }
 ],
 "metadata": {
  "kernelspec": {
   "display_name": "Python 3 (ipykernel)",
   "language": "python",
   "name": "python3"
  },
  "language_info": {
   "codemirror_mode": {
    "name": "ipython",
    "version": 3
   },
   "file_extension": ".py",
   "mimetype": "text/x-python",
   "name": "python",
   "nbconvert_exporter": "python",
   "pygments_lexer": "ipython3",
   "version": "3.9.13"
  }
 },
 "nbformat": 4,
 "nbformat_minor": 5
}

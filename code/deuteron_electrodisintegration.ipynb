{
 "cells": [
  {
   "cell_type": "markdown",
   "id": "eec50298",
   "metadata": {},
   "source": [
    "# Deuteron electrodisintegration\n",
    "\n",
    "_Last update:_ January 3, 2025"
   ]
  },
  {
   "cell_type": "code",
   "execution_count": 1,
   "id": "3e5905e8",
   "metadata": {},
   "outputs": [],
   "source": [
    "# Python imports\n",
    "from matplotlib.offsetbox import AnchoredText\n",
    "import matplotlib.pyplot as plt\n",
    "%matplotlib inline\n",
    "import numpy as np\n",
    "from numpy.linalg import norm, solve\n",
    "from scipy.interpolate import InterpolatedUnivariateSpline, RectBivariateSpline\n",
    "from scipy.special import lpmv, sph_harm\n",
    "from sympy.physics.quantum.cg import CG"
   ]
  },
  {
   "cell_type": "code",
   "execution_count": 2,
   "id": "1bf650e0",
   "metadata": {},
   "outputs": [],
   "source": [
    "# Imports from scripts\n",
    "from scripts.figures import set_rc_parameters, label_ticks\n",
    "from scripts.integration import (\n",
    "    gaussian_quadrature_mesh, unattach_weights_from_vector\n",
    ")\n",
    "from scripts.potentials import Potential\n",
    "from scripts.tools import (\n",
    "    build_coupled_channel_matrix, coupled_channel,\n",
    "    decompose_coupled_channel_matrix\n",
    ")\n",
    "from scripts.wave_function import wave_function"
   ]
  },
  {
   "cell_type": "markdown",
   "id": "7d9454d2",
   "metadata": {},
   "source": [
    "### Set-up"
   ]
  },
  {
   "cell_type": "code",
   "execution_count": 3,
   "id": "7e2a748f",
   "metadata": {},
   "outputs": [],
   "source": [
    "# Run this cell to turn on customized matplotlib graphics\n",
    "set_rc_parameters()"
   ]
  },
  {
   "cell_type": "markdown",
   "id": "379dcb06",
   "metadata": {},
   "source": [
    "## Classes"
   ]
  },
  {
   "cell_type": "code",
   "execution_count": 4,
   "id": "08985555",
   "metadata": {
    "code_folding": [
     0
    ]
   },
   "outputs": [],
   "source": [
    "class PartialWaveChannel:\n",
    "    \"\"\"\n",
    "    Partial wave channel class. Packs together the quantum numbers of a partial\n",
    "    wave channel into one object.\n",
    "    \n",
    "    Parameters\n",
    "    ----------\n",
    "    channel : str\n",
    "        Name of the channel (e.g., '1S0').\n",
    "    \n",
    "    \"\"\"\n",
    "\n",
    "    \n",
    "    def __init__(self, channel):\n",
    "    \n",
    "        # Set instance attributes\n",
    "        self.channel = channel\n",
    "        self.L, self.Lp = self.get_orbital_angular_momentum()\n",
    "        self.J = self.get_angular_momentum()\n",
    "        self.S = self.get_spin()\n",
    "        self.T = self.get_isospin(self.L, self.S)\n",
    "\n",
    "        \n",
    "    def __eq__(self, channel):\n",
    "\n",
    "        if (\n",
    "            self.L == channel.L and self.Lp == channel.Lp\n",
    "            and self.J == channel.J and self.S == channel.S\n",
    "            and self.T == channel.T\n",
    "        ):\n",
    "            \n",
    "            return True\n",
    "        \n",
    "        else:\n",
    "            \n",
    "            return False\n",
    "    \n",
    "    \n",
    "    def get_orbital_angular_momentum(self):\n",
    "        \"\"\"Gets the total orbital angular momentum L and L'.\"\"\"\n",
    "        \n",
    "        if self.channel[1] == 'S':\n",
    "            L = 0\n",
    "        elif self.channel[1] == 'P':\n",
    "            L = 1\n",
    "        elif self.channel[1] == 'D':\n",
    "            L = 2\n",
    "        elif self.channel[1] == 'F':\n",
    "            L = 3\n",
    "        elif self.channel[1] == 'G':\n",
    "            L = 4\n",
    "        elif self.channel[1] == 'H':\n",
    "            L = 5\n",
    "        else:\n",
    "            raise RuntimeError(\"Channel L exceeds the range of the function.\")\n",
    "            \n",
    "        # Coupled-channel\n",
    "        if coupled_channel(self.channel[:3]):\n",
    "            \n",
    "            if self.channel[5] == 'S':\n",
    "                Lp = 0\n",
    "            elif self.channel[5] == 'P':\n",
    "                Lp = 1\n",
    "            elif self.channel[5] == 'D':\n",
    "                Lp = 2\n",
    "            elif self.channel[5] == 'F':\n",
    "                Lp = 3\n",
    "            elif self.channel[5] == 'G':\n",
    "                Lp = 4\n",
    "            elif self.channel[5] == 'H':\n",
    "                Lp = 5\n",
    "            else:\n",
    "                raise RuntimeError(\n",
    "                    \"Channel L' exceeds the range of the function.\")\n",
    "        \n",
    "        # L = L' if the channel is not coupled\n",
    "        else:\n",
    "            \n",
    "            Lp = L\n",
    "            \n",
    "        return L, Lp\n",
    "    \n",
    "    \n",
    "    def get_angular_momentum(self):\n",
    "        \"\"\"Total angular momentum J = 0, 1, 2, ...\"\"\"\n",
    "        \n",
    "        J = int(self.channel[2])\n",
    "        \n",
    "        return J\n",
    "    \n",
    "    \n",
    "    def get_spin(self):\n",
    "        \"\"\"Total spin S = 0 or 1.\"\"\"\n",
    "        \n",
    "        S = int((int(self.channel[0])-1)/2)\n",
    "        \n",
    "        return S\n",
    "    \n",
    "    \n",
    "    def get_isospin(self, L, S):\n",
    "        \"\"\"Total isospin according to antisymmetry.\"\"\"\n",
    "    \n",
    "        # Make sure [1-(-1)^(L+S+T)] is not zero\n",
    "        if (1 - (-1) ** (L+S)) == 0:\n",
    "            T = 1\n",
    "        else:\n",
    "            T = 0\n",
    "        \n",
    "        return T"
   ]
  },
  {
   "cell_type": "code",
   "execution_count": 5,
   "id": "7566f09d",
   "metadata": {
    "code_folding": []
   },
   "outputs": [],
   "source": [
    "class TMatrix(Potential):\n",
    "    \n",
    "    def __init__(self, kvnn, channel_full, kmax, kmid, ntot):\n",
    "        \n",
    "        # Set channel argument to be compatible with potential functions\n",
    "        channel_short = coupled_channel_shorthand(channel_full)\n",
    "        \n",
    "        # Initialize Potential class\n",
    "        super().__init__(kvnn, channel_short, kmax, kmid, ntot)\n",
    "        \n",
    "        # Get potential in units fm\n",
    "        V_matrix = self.load_potential()\n",
    "        \n",
    "        # Load momenta and weights in fm^-1\n",
    "        self.k_array, self.k_weights = self.load_mesh()\n",
    "        \n",
    "        # Maximum momentum value in fm^-1\n",
    "        self.k_max = round(max(self.k_array))\n",
    "        \n",
    "        # Number of points in momentum mesh\n",
    "        self.ntot = ntot\n",
    "        \n",
    "        # Interpolate potential\n",
    "        if self.coupled_channel_bool:\n",
    "            \n",
    "            # Get V sub-blocks\n",
    "            V11, V12, V21, V22 = decompose_coupled_channel_matrix(V_matrix)\n",
    "        \n",
    "            # Interpolate each sub-block separately\n",
    "            self.V11_func = RectBivariateSpline(self.k_array, self.k_array, V11)\n",
    "            self.V12_func = RectBivariateSpline(self.k_array, self.k_array, V12)\n",
    "            self.V21_func = RectBivariateSpline(self.k_array, self.k_array, V21)\n",
    "            self.V22_func = RectBivariateSpline(self.k_array, self.k_array, V22)\n",
    "            \n",
    "        else:\n",
    "            \n",
    "            self.V_func = RectBivariateSpline(self.k_array, self.k_array,\n",
    "                                              V_matrix)\n",
    "\n",
    "#         # Interpolate T-matrix (potentially sub-block if coupled channel)\n",
    "#         if channel_full in ['3S1-3D1', '3P2-3F2', '3D3-3G3']:\n",
    "            \n",
    "#             self.interpolate(q_array, T_matrix[:self.ntot,self.ntot:])\n",
    "                \n",
    "#         elif channel_full in ['3D1-3S1', '3F2-3P2', '3G3-3D3']:\n",
    "            \n",
    "#             self.interpolate(q_array, T_matrix[self.ntot:,:self.ntot])\n",
    "                \n",
    "#         elif channel_full in ['3D1-3D1', '3F2-3F2', '3G3-3G3']:\n",
    "            \n",
    "#             self.interpolate(q_array, T_matrix[self.ntot:,self.ntot:])\n",
    "        \n",
    "#         # This works on single channel as well\n",
    "#         else:\n",
    "            \n",
    "#             self.interpolate(q_array, T_matrix[:self.ntot,:self.ntot])\n",
    "        \n",
    "    def evaluate(self, k0):\n",
    "        \"\"\"Evaluate the T-matrix with scattering energy E = (\\hbar*k0)^2 / M.\"\"\"\n",
    "\n",
    "        # Build D_vector\n",
    "        # First ntot elements of D_vector [fm^-1]\n",
    "        D_vector = (2.0/np.pi * (self.k_weights * self.k_array ** 2)\n",
    "                    / (self.k_array ** 2 - k0 ** 2))\n",
    "        # ntot+1 element of D_vector [fm^-1]\n",
    "        D_last = (\n",
    "            -2.0/np.pi * k0 ** 2\n",
    "            * (np.sum(self.k_weights / (self.k_array ** 2 - k0 ** 2))\n",
    "               + np.log((self.k_max + k0) / (self.k_max - k0)) / (2.0 * k0))\n",
    "        ) - 1j * k0\n",
    "        # Append ntot+1 element to D_vector\n",
    "        D_vector = np.append(D_vector, D_last) # Length is now ntot+1\n",
    "        \n",
    "        # k0 can be appended to end of k_array regardless of its value\n",
    "        k_full = np.append(self.k_array, k0)\n",
    "        \n",
    "        # Create meshes for interpolation\n",
    "        k_grid, k_grid = np.meshgrid(k_full, k_full)\n",
    "        \n",
    "        if self.coupled_channel_bool:\n",
    "            \n",
    "            # Append k0 points by using the interpolated potential\n",
    "            V11_matrix = self.V11_func.ev(k_grid, k_grid)\n",
    "            V12_matrix = self.V12_func.ev(k_grid, k_grid)\n",
    "            V21_matrix = self.V21_func.ev(k_grid, k_grid)\n",
    "            V22_matrix = self.V22_func.ev(k_grid, k_grid)\n",
    "            \n",
    "            # Build coupled-channel matrix\n",
    "            V_matrix = build_coupled_channel_matrix(V11_matrix, V12_matrix,\n",
    "                                                    V21_matrix, V22_matrix)\n",
    "\n",
    "            # Build F matrix where F_ij = delta_ij + D_j V_ij\n",
    "            F_matrix = (\n",
    "                np.identity(2 * (self.ntot + 1))\n",
    "                + np.tile(D_vector, (2 * (self.ntot + 1), 2)) * V_matrix\n",
    "            )\n",
    "            \n",
    "        else:\n",
    "            \n",
    "            # Append k0 points by using the interpolated potential\n",
    "            V_matrix = self.V_func.ev(k_grid, k_grid)\n",
    "            \n",
    "            # Build F matrix where F_ij = delta_ij + D_j V_ij\n",
    "            F_matrix = (\n",
    "                np.identity(self.ntot + 1)\n",
    "                + np.tile(D_vector, (self.ntot + 1, 1)) * V_matrix\n",
    "            )\n",
    "            \n",
    "        # Calculate T-matrix in fm\n",
    "        T_matrix = solve(F_matrix, V_matrix)\n",
    "        \n",
    "        return T_matrix"
   ]
  },
  {
   "cell_type": "code",
   "execution_count": 6,
   "id": "c737e4ca",
   "metadata": {
    "code_folding": [
     0
    ]
   },
   "outputs": [],
   "source": [
    "class DeuteronElectrodisintegration:\n",
    "    \"\"\"Class that calculates the longitudinal structure function for deuteron\n",
    "    electrodisintegration.\n",
    "    \"\"\"\n",
    "    \n",
    "    def __init__(\n",
    "            self, channels, kvnn=6, kmax=30.0, kmid=4.0, ntot=120,\n",
    "            form_factor_test=False\n",
    "    ):\n",
    "        \n",
    "        # Make sure all constants are in units fm^-1\n",
    "        self.hbar_c = 197.32696  # \\hbar c [MeV fm]\n",
    "        M_n = 939.56563 / self.hbar_c  # Neutron mass [fm^-1]\n",
    "        M_p = 938.27231 / self.hbar_c  # Proton mass [fm^-1]\n",
    "        self.M = (M_p + M_n) / 2  # Nucleon mass [fm^-1]\n",
    "        self.B_d = 2.224 / self.hbar_c  # Binding energy of deuteron [fm^-1]\n",
    "        self.M_d = 2 * self.M - self.B_d  # Deuteron mass [fm^-1]\n",
    "        self.alpha = 1 / 137.03599  # Fine structure constant\n",
    "        \n",
    "        # Set table of Clebsch-Gordan coefficients with j_max = 2\n",
    "        self.cg_table = compute_clebsch_gordan_table(2)\n",
    "        \n",
    "        # Interpolate deuteron wave function and set as instance attribute\n",
    "        self.set_deuteron_wf(kvnn, kmax, kmid, ntot)\n",
    "        \n",
    "        # Set potential as instance attribute\n",
    "        self.kvnn, self.kmax, self.kmid, self.ntot = kvnn, kmax, kmid, ntot\n",
    "        \n",
    "#         ### TESTING GEp(Q2=0)\n",
    "#         print(f'Form factors at Q2=0: {GEp(0.0)}, {GEn(0.0)}')\n",
    "        \n",
    "        # Option to set form factors to 1 (GEp) and 0 (GEn)\n",
    "        self.form_factor_test = form_factor_test\n",
    "        \n",
    "        ### TESTING SUSHANT'S FORM FACTORS\n",
    "        self.ff = FormFactors()\n",
    "        \n",
    "        # Set cos(\\theta) integration mesh\n",
    "        self.theta_array, self.theta_weights = gaussian_quadrature_mesh(np.pi,\n",
    "                                                                        15)\n",
    "        \n",
    "        # Pre-compute nested sums in FSI term\n",
    "        self.fsi_quantum_numbers = self.fsi_sum(channels)\n",
    "\n",
    "    def set_deuteron_wf(self, kvnn, kmax, kmid, ntot):\n",
    "        \"\"\"Set deuteron S- and D-wave functions as instance attributes.\"\"\"\n",
    "\n",
    "        # Set-up potential in 3S1-3D1 coupled channel\n",
    "        potential = Potential(kvnn, '3S1', kmax, kmid, ntot)\n",
    "        \n",
    "        # Hamiltonian in MeV\n",
    "        H_matrix = potential.load_hamiltonian()\n",
    "        \n",
    "        # Momentum mesh in fm^-1\n",
    "        self.k_array, self.k_weights = potential.load_mesh()\n",
    "        \n",
    "        # Load deuteron wave function [unitless]\n",
    "        psi_d_unitless = wave_function(H_matrix)\n",
    "        # Convert to units fm^3/2\n",
    "        psi_d_units = unattach_weights_from_vector(\n",
    "            self.k_array, self.k_weights, psi_d_unitless, coupled_channel=True)\n",
    "        # Split into S- and D-waves\n",
    "        psi_0_array = psi_d_units[:ntot]  # S-wave [fm^3/2]\n",
    "        psi_2_array = psi_d_units[ntot:]  # D-wave [fm^3/2]\n",
    "        \n",
    "        # Interpolate and set functions as instance attributes\n",
    "        self.psi_0_func = InterpolatedUnivariateSpline(self.k_array,\n",
    "                                                       psi_0_array)\n",
    "        self.psi_2_func = InterpolatedUnivariateSpline(self.k_array,\n",
    "                                                       psi_2_array)\n",
    "        \n",
    "        ### TESTING NORMALIZATION OF \\PSI\n",
    "        self.norm = 2/np.pi * np.sum(\n",
    "            self.k_weights * self.k_array ** 2\n",
    "            * (psi_0_array ** 2 + psi_2_array ** 2)\n",
    "        )\n",
    "\n",
    "    def omega(self, Ep_ifm, q):\n",
    "        \"\"\"Energy of virtual photon \\omega in CoM frame [fm^-1].\"\"\"\n",
    "\n",
    "        return Ep_ifm + 2 * self.M - np.sqrt(self.M_d ** 2 + q ** 2)\n",
    "\n",
    "    def Q2(self, omega, q):\n",
    "        \"\"\"Four-momentum transfer squared Q^2 = -q^2 [GeV^2].\"\"\"\n",
    "        \n",
    "        # Q^2 in fm^-2\n",
    "        Q2 = q ** 2 - omega ** 2\n",
    "        \n",
    "        # Convert Q^2 to GeV^2\n",
    "        return Q2 * (self.hbar_c / 1000) ** 2  \n",
    "    \n",
    "    def p_prime(self, Ep_ifm):\n",
    "        \"\"\"Magnitude of proton momentum p' in CM frame [fm^-1].\"\"\"\n",
    "        \n",
    "        return np.sqrt(self.M * Ep_ifm + Ep_ifm ** 2 / 4)\n",
    "    \n",
    "    def E_prime(self, pp):\n",
    "        \"\"\"E' from p' [MeV].\"\"\"\n",
    "        \n",
    "        Ep_ifm = 2 * np.sqrt(self.M ** 2 + pp ** 2) - 2 * self.M\n",
    "        \n",
    "        # Return in units MeV\n",
    "        return Ep_ifm * self.hbar_c\n",
    "    \n",
    "    def nucleon_energy(self, pp):\n",
    "        \"\"\"Energy of the proton (neutron) [fm^-1] using E'^2 = p'^2 + M^2.\"\"\"\n",
    "\n",
    "        return np.sqrt(self.M ** 2 + pp ** 2)\n",
    "    \n",
    "    def deuteron_energy(self, q):\n",
    "        \"\"\"Energy of the deuteron [fm^-1] using E_d^2 = q^2 + M_d^2.\"\"\"\n",
    "\n",
    "        return np.sqrt(self.M_d ** 2 + q ** 2)\n",
    "\n",
    "    def longitudinal_sf(self, Ep, thetap, q, fsi=False):\n",
    "        \"\"\"Longitudinal structure function f_L [fm] where the arguments are E'\n",
    "        [MeV], \\theta' [deg], and q [fm^-1].\n",
    "        \"\"\"\n",
    "        \n",
    "        # Start at zero and sum S_f, m_S_f, and m_J_d\n",
    "        f_L = 0.0\n",
    "        \n",
    "        # Convert E' to fm^-1\n",
    "        Ep_ifm = Ep / self.hbar_c\n",
    "        \n",
    "        # Convert \\theta' to radians\n",
    "        thetap_radians = np.radians(thetap)\n",
    "\n",
    "#         pp = np.sqrt((self.omega(Ep_ifm, q) - self.B_d) * self.M\n",
    "#                      + q ** 2 * self.M / (2 * self.M_d))  # fm^-1\n",
    "        # Kinematic variables p' [fm^-1], E_N [fm^-1], and E_d [fm^-1]\n",
    "        pp = self.p_prime(Ep_ifm)\n",
    "        self.E_N = self.nucleon_energy(pp)\n",
    "        self.E_d = self.deuteron_energy(q)\n",
    "\n",
    "        # Kinematic factor has units fm^-1\n",
    "        kinematic_factor = -np.pi * np.sqrt(2 * self.alpha * pp * self.E_N\n",
    "                                            * self.E_d / self.M_d)\n",
    "\n",
    "        # Sum over S_f, m_S_f, and m_J_d\n",
    "        S_f_array = np.array([0, 1])\n",
    "        m_J_d_array = np.array([-1, 0, 1])\n",
    "        for S_f in S_f_array:\n",
    "            m_S_f_array = np.arange(-S_f, S_f + 1, 1)\n",
    "            for m_S_f in m_S_f_array:\n",
    "                for m_J_d in m_J_d_array:\n",
    "                    \n",
    "                    # Equation 2\n",
    "                    # Overlap has units fm^3/2\n",
    "                    overlap_ia = self.overlap_ia(Ep_ifm, pp, thetap_radians, q,\n",
    "                                                 S_f, m_S_f, m_J_d)\n",
    "                    if fsi:\n",
    "                        overlap = overlap_ia + self.overlap_fsi(\n",
    "                            Ep_ifm, pp, thetap_radians, q, S_f, m_S_f, m_J_d\n",
    "                        )\n",
    "                    else:\n",
    "                        overlap = overlap_ia\n",
    "\n",
    "                    # Amplitude of the longitudinal structure function\n",
    "                    T = kinematic_factor * overlap  # fm^1/2\n",
    "                    \n",
    "                    # Add magnitude of amplitude squared to structure function\n",
    "                    f_L += np.abs(T) ** 2\n",
    "                    \n",
    "        return f_L\n",
    "\n",
    "    def overlap_ia(\n",
    "            self, Ep_ifm, pp, thetap_radians, q, S_f, m_S_f, m_J_d, test=False\n",
    "    ):\n",
    "        \"\"\"Overlap matrix element [fm^3/2] in the impulse approximation.\"\"\"\n",
    "        \n",
    "        # Start at zero and sum over L_d\n",
    "        overlap = 0 + 0j\n",
    "        \n",
    "        # Deuteron orbital angular momentum projection m_L_d = m_J_d - m_S_f\n",
    "        m_L_d = m_J_d - m_S_f\n",
    "        \n",
    "        # Call electric form factors\n",
    "        if self.form_factor_test:\n",
    "            gep = 1.0\n",
    "            gen = 0.0\n",
    "        else:\n",
    "            omega = self.omega(Ep_ifm, q)  # fm^-1\n",
    "            Q2 = self.Q2(omega, q)  # GeV^2\n",
    "#             gep = GEp(Q2)\n",
    "#             gen = GEn(Q2)\n",
    "\n",
    "            ### TESTING SUSHANT'S FORM FACTORS\n",
    "            gep = self.ff.GEp(Q2)\n",
    "            gen = self.ff.GEn(Q2)\n",
    "        \n",
    "        # Dot product p'_vector \\dot q_vector\n",
    "        pqx = pp * q * np.cos(thetap_radians)\n",
    "        \n",
    "        # Magnitude of momenta |p'_vector +/- q_vector / 2|\n",
    "        pq_minus = np.sqrt(pp ** 2 + q ** 2 / 4 - pqx)\n",
    "        pq_plus = np.sqrt(pp ** 2 + q ** 2 / 4 + pqx)\n",
    "        \n",
    "        # Angles between the unit vector z^\\hat and p'_vector -/+ q_vector / 2\n",
    "        theta_minus = np.arccos((pp * np.cos(thetap_radians) - q / 2)\n",
    "                                / pq_minus)\n",
    "        theta_plus = np.arccos((pp * np.cos(thetap_radians) + q / 2)\n",
    "                               / pq_plus)\n",
    "        \n",
    "        ### TESTING: Check \\Omega_(p +/- q/2) at extremes of \\theta'\n",
    "        if test:\n",
    "            print(f\"\\Omega_(p +/- q/2) at theta' = {thetap_radians:.3f}:\")\n",
    "            print(f\"theta_minus = {theta_minus:.3f}, \"\n",
    "                  f\"theta_plus = {theta_plus:.3f}\")\n",
    "        \n",
    "        # No dependence on \\phi' -> Set to zero!\n",
    "        phip = np.zeros_like(theta_minus)\n",
    "        \n",
    "        # Sum over deuteron orbital angular momentum L_d\n",
    "        L_d_array = np.array([0, 2])\n",
    "        for L_d in L_d_array:\n",
    "            \n",
    "            # Make sure |m_L_d| <= L_d\n",
    "            if np.abs(m_L_d) <= L_d:\n",
    "            \n",
    "                # Clebsch-Gordan coefficient\n",
    "                cg = self.cg_table[(L_d, m_L_d, 1, m_S_f, 1, m_J_d)]\n",
    "                \n",
    "                # Spherical harmonics\n",
    "                Ylm_minus = sph_harm(m_L_d, L_d, phip, theta_minus)\n",
    "                Ylm_plus = sph_harm(m_L_d, L_d, phip, theta_plus)\n",
    "                \n",
    "                # Deuteron wave function in fm^3/2\n",
    "                if L_d == 0:\n",
    "                    psi_minus = self.psi_0_func(pq_minus)\n",
    "                    psi_plus = self.psi_0_func(pq_plus)\n",
    "                elif L_d == 2:\n",
    "                    psi_minus = self.psi_2_func(pq_minus)\n",
    "                    psi_plus = self.psi_2_func(pq_plus)\n",
    "\n",
    "                overlap += np.sqrt(2 / np.pi) * cg * (\n",
    "                    gep * psi_minus * Ylm_minus + gen * psi_plus * Ylm_plus\n",
    "                )\n",
    "                \n",
    "        return overlap\n",
    "    \n",
    "    def fsi_sum(self, channels):\n",
    "        \"\"\"Store all non-zero combinations of quantum numbers for nested sums\n",
    "        in the FSI term.\n",
    "        \"\"\"\n",
    "        \n",
    "        # Store combinations of quantum numbers in dictionary with S_f, m_S_f,\n",
    "        # and m_J_d serving as the key\n",
    "        fsi_quantum_numbers = {}\n",
    "        \n",
    "        S_f_array = np.array([0, 1])\n",
    "        m_J_d_array = np.array([-1, 0, 1])\n",
    "        m_s_array = np.array([-1, 0, 1])\n",
    "        L_d_array = np.array([0, 2])\n",
    "        \n",
    "        # Sum over S_f, m_S_f, and m_J_d\n",
    "        for S_f in S_f_array:\n",
    "            m_S_f_array = np.arange(-S_f, S_f + 1, 1)\n",
    "            for m_S_f in m_S_f_array:\n",
    "                for m_J_d in m_J_d_array:\n",
    "        \n",
    "                    key = (S_f, m_S_f, m_J_d)\n",
    "                    quantum_numbers = []\n",
    "                    m_L_1 = m_J_d - m_S_f\n",
    "        \n",
    "                    # Looping over S = 1 partial wave channels for T-matrix\n",
    "                    for channel in channels:\n",
    "\n",
    "                        # Get quantum numbers of channel\n",
    "                        pwc = PartialWaveChannel(channel)\n",
    "                        L_2, L_1, J_1, T_1 = pwc.L, pwc.Lp, pwc.J, pwc.T\n",
    "\n",
    "                        # Make sure quantum numbers are physical\n",
    "                        is_physical = (\n",
    "                            np.abs(m_L_1) <= L_1 and np.abs(m_J_d) <= J_1\n",
    "                            and np.abs(L_1 - 1) <= J_1 <= L_1 + 1\n",
    "                        )\n",
    "                        if is_physical:\n",
    "        \n",
    "                            # T_1 and L_1 factor\n",
    "                            factor_T1_L1 = 1 + (-1) ** T_1 * (-1) ** L_1\n",
    "\n",
    "                            # CG < L_1 m_L_1 S=1 m_S_f | J_1 m_J_d >\n",
    "                            cg_J1_L1 = self.cg_table[(L_1, m_L_1, 1, m_S_f, J_1,\n",
    "                                                      m_J_d)]\n",
    "                \n",
    "                            # Loop over m_s\n",
    "                            for m_s in m_s_array:\n",
    "                    \n",
    "                                m_L_2d = m_J_d - m_s\n",
    "                        \n",
    "                                # Loop over L_d\n",
    "                                for L_d in L_d_array:\n",
    "                                    \n",
    "                                    # Make sure quantum numbers are physical\n",
    "                                    is_physical = (\n",
    "                                        np.abs(m_L_2d) <= L_2\n",
    "                                        and np.abs(m_L_2d) <= L_d\n",
    "                                        and np.abs(L_2 - 1) <= J_1 <= L_2 + 1\n",
    "                                    )\n",
    "                                    if is_physical:\n",
    "                        \n",
    "                                        # CG < J_1 m_J_d | L_2 m_L_2d S=1 m_s >\n",
    "                                        cg_J1_L2 = self.cg_table[(\n",
    "                                            L_2, m_L_2d, 1, m_s, J_1, m_J_d\n",
    "                                        )]\n",
    "                        \n",
    "                                        # CG < L_d m_L_2d S=1 m_s | J=1 m_J_d >\n",
    "                                        cg_Jd_Ld = self.cg_table[(\n",
    "                                            L_d, m_L_2d, 1, m_s, 1, m_J_d\n",
    "                                        )]\n",
    "                        \n",
    "                                        factor = (factor_T1_L1 * cg_J1_L1\n",
    "                                                  * cg_J1_L2 * cg_Jd_Ld)\n",
    "                        \n",
    "                                        # Append combination of quantum numbers\n",
    "                                        if factor != 0:\n",
    "                            \n",
    "                                            quantum_numbers.append(\n",
    "                                                (channel, L_2, L_1, J_1, T_1,\n",
    "                                                 m_s, L_d)\n",
    "                                            )\n",
    "                    \n",
    "                    # Add set of quantum numbers to dictionary\n",
    "                    fsi_quantum_numbers[key] = quantum_numbers\n",
    "\n",
    "        return fsi_quantum_numbers\n",
    "\n",
    "    # For now assume E', p', \\theta', and q are all scalars NOT arrays\n",
    "    def overlap_fsi(\n",
    "            self, Ep_ifm, pp, thetap_radians, q, S_f, m_S_f, m_J_d\n",
    "    ):\n",
    "        \"\"\"Final state interaction overlap matrix element [fm^3/2].\"\"\"\n",
    "        \n",
    "        # Start at zero and sum over quantum numbers\n",
    "        overlap = 0 + 0j\n",
    "        \n",
    "        # Meshgrids over k_2 and \\theta\n",
    "        k2_grid, theta_grid = np.meshgrid(self.k_array, self.theta_array,\n",
    "                                          indexing='ij')\n",
    "        dk2_grid, dtheta_grid = np.meshgrid(self.k_weights, self.theta_weights,\n",
    "                                            indexing='ij')\n",
    "        jacobian = dk2_grid * k2_grid ** 2 * np.sin(theta_grid) * dtheta_grid\n",
    "        \n",
    "        # No dependence on \\phi' -> Set to zero!\n",
    "        phip = 0.0\n",
    "        \n",
    "        # Dot product k2_vector \\dot q_vector\n",
    "        k2qx_grid = k2_grid * q * np.cos(theta_grid)\n",
    "        \n",
    "        # Magnitude of momenta |k2_vector - q_vector / 2|\n",
    "        k2q_minus_grid = np.sqrt(k2_grid ** 2 + q ** 2 / 4 - k2qx_grid)\n",
    "        \n",
    "        # Angle between the unit vector z^\\hat and k2_vector - q_vector / 2\n",
    "        theta_minus_grid = np.arccos((k2_grid * np.cos(theta_grid) - q / 2)\n",
    "                                     / k2q_minus_grid)\n",
    "        \n",
    "        # Denominator of Green's function\n",
    "        eps = 1e-4\n",
    "        greens = 1 / (pp ** 2 - k2_grid ** 2 - 1j * eps)\n",
    "        \n",
    "        # Call electric form factors\n",
    "        if self.form_factor_test:\n",
    "            gep = 1.0\n",
    "            gen = 0.0\n",
    "        else:\n",
    "            omega = self.omega(Ep_ifm, q)  # fm^-1\n",
    "            Q2 = self.Q2(omega, q)  # GeV^2\n",
    "            gep = self.ff.GEp(Q2)\n",
    "            gen = self.ff.GEn(Q2)\n",
    "        \n",
    "        # Loop over quantum numbers\n",
    "        m_L_1 = m_J_d - m_S_f\n",
    "        for quantum_numbers in self.fsi_quantum_numbers[(S_f, m_S_f, m_J_d)]:\n",
    "            \n",
    "            # Unpack quantum numbers\n",
    "            channel, L_2, L_1, J_1, T_1, m_s, L_d = quantum_numbers\n",
    "\n",
    "            # Call T-matrix for given partial wave channel\n",
    "            tmatrix_func = TMatrix(Ep_ifm * self.hbar_c, self.kvnn, channel,\n",
    "                                   self.kmax, self.kmid, self.ntot)\n",
    "            T_matrix = tmatrix_func(k2_grid, pp)\n",
    "            \n",
    "            # 1 + (-1)^T_1 (-1)^L_1 factor\n",
    "            factor_T1_L1 = 1 + (-1) ** T_1 * (-1) ** L_1\n",
    "            \n",
    "            # Clebsch-Gordan coefficients\n",
    "            m_L_2d = m_J_d - m_s\n",
    "            # < L_1 m_L_1 S=1 m_S_f | J_1 m_J_d >\n",
    "            cg_J1_L1 = self.cg_table[(L_1, m_L_1, 1, m_S_f, J_1, m_J_d)]\n",
    "            # < J_1 m_J_d | L_2 m_J_d - m_s S=1 m_s >\n",
    "            cg_J1_L2 = self.cg_table[(L_2, m_L_2d, 1, m_s, J_1, m_J_d)]\n",
    "            # < L_d m_J_d - m_s S=1 m_s | J=1 m_J_d >\n",
    "            cg_Jd_Ld = self.cg_table[(L_d, m_L_2d, 1, m_s, 1, m_J_d)]\n",
    "            \n",
    "            # Spherical harmonic\n",
    "            Y_L_1 = sph_harm(m_L_1, L_1, phip, thetap_radians)\n",
    "            \n",
    "            # Legendre polynomials\n",
    "            P_L_2 = lpmv(m_J_d - m_s, L_2, np.cos(theta_grid))\n",
    "            P_L_d = lpmv(m_J_d - m_s, L_d, np.cos(theta_minus_grid))\n",
    "        \n",
    "            # Deuteron wave function in fm^3/2\n",
    "            if L_d == 0:\n",
    "                psi = self.psi_0_func(k2q_minus_grid)\n",
    "            elif L_d == 2:\n",
    "                psi = self.psi_2_func(k2q_minus_grid)\n",
    "        \n",
    "            # Integrate over k_2 and cos(\\theta)\n",
    "            integrand = greens * np.conj(T_matrix) * P_L_2 * P_L_d * psi\n",
    "            integral = np.sum(jacobian * integrand, axis=(0,1))\n",
    "            \n",
    "            overlap += (\n",
    "                (gep + (-1)**T_1 * gen) * factor_T1_L1 * Y_L_1 * cg_J1_L1\n",
    "                * cg_J1_L2 * cg_Jd_Ld * integral\n",
    "            )\n",
    "        \n",
    "        # Factor of 2 for < J_0 > = 2 < J_0^- > (Eq. 20 in More 2015)\n",
    "        # No \\hbar*c division since M is in units fm^-1!\n",
    "        return 2 * np.sqrt(2/np.pi) * self.M * overlap"
   ]
  },
  {
   "cell_type": "code",
   "execution_count": 7,
   "id": "9065a664",
   "metadata": {},
   "outputs": [],
   "source": [
    "# Speed-ups for FSI term\n",
    "\n",
    "# Pre-compute nested loop of quantum numbers and make one array\n",
    "# Pre-compute T-matrix for possible channels\n",
    "# Loop over set of quantum numbers (and corresponding T-matrices OR vmap)\n",
    "# vmap over E', \\theta', and q (will require JAX on everything)\n",
    "# is_physical function!\n",
    "\n",
    "# JAX\n",
    "# 1. Clesbch-Gordan look-up using JAX arrays.\n",
    "# 2. Special functions in JAX (Spherical harmonics, Legendre polynomials, etc.)\n",
    "# 3. Interpolating functions in JAX. Use lambda as intermediate step."
   ]
  },
  {
   "cell_type": "markdown",
   "id": "a8208de5",
   "metadata": {},
   "source": [
    "## Functions"
   ]
  },
  {
   "cell_type": "code",
   "execution_count": 8,
   "id": "0487e431",
   "metadata": {
    "code_folding": [
     0
    ]
   },
   "outputs": [],
   "source": [
    "def compute_clebsch_gordan_table(j_max):\n",
    "    \"\"\"\n",
    "    Calculate Clebsch-Gordan coefficients for combinations of j and m_j up\n",
    "    to j_max.\n",
    "    \n",
    "    Parameters\n",
    "    ----------\n",
    "    j_max : int\n",
    "        Maximum j value for j_1, j_2, and j_3. This also constrains m_j.\n",
    "    \n",
    "    Returns\n",
    "    -------\n",
    "    cg_table : dict\n",
    "        Table of Clebsch-Gordan coefficients <j_1 m_j_1 j_2 m_j_2|j_3 m_j_3>\n",
    "        for each combination of angular momenta.\n",
    "        \n",
    "    \"\"\"\n",
    "        \n",
    "    cg_table = {}\n",
    "        \n",
    "    j_array = np.arange(0, j_max+1/2, 1/2)\n",
    "    \n",
    "    for j_1 in j_array:\n",
    "        for j_2 in j_array:\n",
    "            j_3_array = np.arange(abs(j_1-j_2), j_1+j_2+1)\n",
    "            for j_3 in j_3_array:\n",
    "                for m_1 in np.arange(-j_1, j_1+1, 1):\n",
    "                    for m_2 in np.arange(-j_2, j_2+1, 1):\n",
    "                        \n",
    "                        m_3 = m_1 + m_2\n",
    "                        \n",
    "                        if abs(m_3) <= j_3:\n",
    "                            cg_table[(j_1, m_1, j_2, m_2, j_3, m_3)] = float(\n",
    "                                CG(j_1, m_1, j_2, m_2, j_3, m_3).doit()\n",
    "                            )\n",
    "                            \n",
    "    # print(f\"Done calculating Clebsch-Gordan table up to j_max = {j_max}.\")\n",
    "                                \n",
    "    return cg_table"
   ]
  },
  {
   "cell_type": "code",
   "execution_count": 9,
   "id": "c90b6f04",
   "metadata": {
    "code_folding": [
     0
    ]
   },
   "outputs": [],
   "source": [
    "def coupled_channel_shorthand(channel_full):\n",
    "    \"\"\"Convert partial wave channel string (e.g., 3D1-3S1) to shorthand\n",
    "    notation (e.g., 3S1).\n",
    "    \"\"\"\n",
    "    \n",
    "    if channel_full[:3] == '3D1':\n",
    "        channel_short = '3S1'\n",
    "    elif channel_full[:3] == '3F2':\n",
    "        channel_short = '3P2'\n",
    "    elif channel_full[:3] == '3G3':\n",
    "        channel_short == '3D3'\n",
    "    else:\n",
    "        channel_short = channel_full[:3]\n",
    "        \n",
    "    return channel_short"
   ]
  },
  {
   "cell_type": "code",
   "execution_count": 10,
   "id": "8ff1485d",
   "metadata": {
    "code_folding": [
     0
    ]
   },
   "outputs": [],
   "source": [
    "def GEp(Q2):\n",
    "    \"\"\"Proton electric form factor. Arrington, Melnitchouk, Tjon (2007) fit\n",
    "    Phys. Rev. C 76, 035205 (2007).\n",
    "    \"\"\"\n",
    "\n",
    "    M = 0.939\n",
    "    mu_p = 2.793\n",
    "    tau = Q2 / (4.0 * M ** 2)\n",
    "    \n",
    "    a1 = 3.439\n",
    "    a2 = -1.602\n",
    "    a3 = 0.068 \n",
    "    b1 = 15.055\n",
    "    b2 = 48.061\n",
    "    b3 = 99.304\n",
    "    b4 = 0.012\n",
    "    b5 = 8.650\n",
    "    \n",
    "    GEp = ((1.0 + a1 * tau + a2 * tau ** 2 + a3 * tau ** 3)\n",
    "           / (1.0 + b1 * tau + b2 * tau ** 2 + b3 * tau ** 3 + b4 * tau ** 4\n",
    "              + b5 * tau ** 5))\n",
    "    \n",
    "    return GEp"
   ]
  },
  {
   "cell_type": "code",
   "execution_count": 11,
   "id": "7a6b8ecd",
   "metadata": {
    "code_folding": [
     0
    ]
   },
   "outputs": [],
   "source": [
    "def GMp(Q2):\n",
    "    \"\"\"Proton magnetic form factor. Arrington, Melnitchouk, Tjon (2007) fit\n",
    "    Phys. Rev. C 76, 035205 (2007).\n",
    "    \"\"\"\n",
    "\n",
    "    M = 0.939\n",
    "    mu_p = 2.793\n",
    "    tau = Q2 / (4.0 * M ** 2)\n",
    "    \n",
    "    a1 = -1.465\n",
    "    a2 = 1.260\n",
    "    a3 = 0.262\n",
    "    b1 = 9.627\n",
    "    b2 = 0.0\n",
    "    b3 = 0.0\n",
    "    b4 = 11.179\n",
    "    b5 = 13.245\n",
    "\n",
    "    GMp = (mu_p * (1.0 + a1 * tau + a2 * tau ** 2 + a3 * tau ** 3)\n",
    "           / (1.0 + b1 * tau + b2 * tau ** 2 + b3 * tau ** 3 + b4 * tau ** 4\n",
    "              + b5 * tau ** 5))\n",
    "    \n",
    "    return GMp"
   ]
  },
  {
   "cell_type": "code",
   "execution_count": 12,
   "id": "5bb1cc93",
   "metadata": {
    "code_folding": [
     0
    ]
   },
   "outputs": [],
   "source": [
    "def GEn(Q2):\n",
    "    \"\"\"Neutron electric form factor. Bosted, Phys. Rev. C 51 (1995) 409.\"\"\"\n",
    "\n",
    "    M = 0.939  # GeV\n",
    "    mu_n = -1.913\n",
    "    tau = Q2 / (4.0 * M ** 2)\n",
    "    a = 1.25\n",
    "    b = 18.3\n",
    "    GD = 1.0 / (1.0 + Q2 / 0.71) ** 2\n",
    "    GEn = -a * mu_n * tau * GD / (1.0 + b * tau)\n",
    "    \n",
    "    return GEn"
   ]
  },
  {
   "cell_type": "code",
   "execution_count": 13,
   "id": "5cdc41e6",
   "metadata": {
    "code_folding": [
     0
    ]
   },
   "outputs": [],
   "source": [
    "def GMn(Q2):\n",
    "    \"\"\"Neutron magnetic form factor. Bosted, Phys. Rev. C 51 (1995) 409.\"\"\"\n",
    "\n",
    "    M = 0.939\n",
    "    mu_n = -1.913\n",
    "    Q = np.sqrt(Q2)\n",
    "    \n",
    "    GMn = mu_n / (1.0 - 1.74 * Q + 9.29 * Q2 - 7.63 * Q ** 3 + 4.63 * Q ** 4)\n",
    "    \n",
    "    return GMn"
   ]
  },
  {
   "cell_type": "code",
   "execution_count": 14,
   "id": "eda6a79b",
   "metadata": {
    "code_folding": [
     0
    ]
   },
   "outputs": [],
   "source": [
    "class FormFactors:\n",
    "    \"\"\"Form factors from Sushant's data files.\"\"\"\n",
    "    \n",
    "    def __init__(self):\n",
    "        \"\"\"Interpolate data files.\"\"\"\n",
    "        \n",
    "        gep_data = np.loadtxt(\"gep.dat\")\n",
    "        gen_data = np.loadtxt(\"gen.dat\")\n",
    "        \n",
    "        Q2_gep_GeV = gep_data[:, 0]\n",
    "        gep_array = gep_data[:, 1]\n",
    "        Q2_gen_GeV = gen_data[:, 0]\n",
    "        gen_array = gen_data[:, 1]\n",
    "        \n",
    "        self.gep_func = InterpolatedUnivariateSpline(Q2_gep_GeV, gep_array)\n",
    "        self.gen_func = InterpolatedUnivariateSpline(Q2_gen_GeV, gen_array)\n",
    "        \n",
    "    def GEp(self, Q2):\n",
    "        \"\"\"Electric proton form factor w.r.t. Q^2 in GeV^2.\"\"\"\n",
    "        \n",
    "        # return self.gep_func(Q2)\n",
    "        return self.gep_func(Q2) * self.GD(Q2)\n",
    "    \n",
    "    def GEn(self, Q2):\n",
    "        \"\"\"Electric neutron form factor w.r.t. Q^2 in GeV^2.\"\"\"\n",
    "        \n",
    "        return self.gen_func(Q2)\n",
    "        # return self.gen_func(Q2) * self.GD(Q2)\n",
    "    \n",
    "    def GD(self, Q2):\n",
    "        \"\"\"Dipole form factor w.r.t. Q^2 in GeV^2.\"\"\"\n",
    "        \n",
    "        mD2 = 0.71  # GeV^2\n",
    "        \n",
    "        return (1 + Q2 / mD2) ** -2"
   ]
  },
  {
   "cell_type": "code",
   "execution_count": 15,
   "id": "6810153a",
   "metadata": {
    "code_folding": [
     0
    ]
   },
   "outputs": [],
   "source": [
    "def plot_fL_wrt_Ep(Ep_array, thetap, channels, x_limits=None, y_limits=None):\n",
    "    \"\"\"Plot the longitudinal structure function with respect to E' where\n",
    "    \\omega = 0.\n",
    "    \"\"\"\n",
    "    \n",
    "    # AV18\n",
    "    de = DeuteronElectrodisintegration(channels)\n",
    "    \n",
    "    # Quasifree ridge where \\omega = 0 (q in units fm^-1)\n",
    "    q_array = np.sqrt((Ep_array / de.hbar_c + 2 * de.M) ** 2 - de.M_d ** 2)\n",
    "    \n",
    "    # Longitudinal structure function\n",
    "    f_L_array = de.longitudinal_sf(Ep_array, thetap, q_array)\n",
    "    \n",
    "    plt.close('all')\n",
    "    f, ax = plt.subplots(figsize=(4, 3))\n",
    "    ax.plot(Ep_array, f_L_array, label='Impulse approximation')\n",
    "    \n",
    "#     ### TESTING FSI\n",
    "#     f_L_fsi_array = np.zeros_like(f_L_array)\n",
    "#     for i, q in enumerate(q_array):\n",
    "#         Ep = Ep_array[i]\n",
    "#         f_L_fsi_array[i] = de.longitudinal_sf(Ep, thetap, q, fsi=True)\n",
    "#         percent = (i+1) / len(q_array) * 100\n",
    "#         print(f\"{percent:.1f}% done.\")\n",
    "#     ax.plot(Ep_array, f_L_fsi_array, label='FSI included')\n",
    "    \n",
    "    ax.set_xlim(x_limits)\n",
    "    ax.set_ylim(y_limits)\n",
    "    ax.legend(fontsize=12, loc='upper right')\n",
    "    \n",
    "#     ### TESTING\n",
    "#     ax.set_xticks(np.arange(10, 120, 10))\n",
    "#     ax.set_yticks(np.arange(1,7,1))\n",
    "    print(f_L_array[0])\n",
    "    \n",
    "    ax.set_title(rf\"$\\theta' = {thetap:.1f}$ [deg]\")\n",
    "    ax.set_xlabel(r\"$E'$ [MeV]\", fontsize=16)\n",
    "    ax.set_ylabel(r\"$f_L$ [fm]\", fontsize=16);"
   ]
  },
  {
   "cell_type": "code",
   "execution_count": 16,
   "id": "f7f081c9",
   "metadata": {
    "code_folding": [
     2
    ]
   },
   "outputs": [],
   "source": [
    "def plot_fL_wrt_thetap(\n",
    "        Ep, thetap_array, q, channels, x_limits=None, y_limits=None\n",
    "):\n",
    "    \"\"\"Plot the longitudinal structure function with respect to E'.\"\"\"\n",
    "    \n",
    "    # AV18\n",
    "    de = DeuteronElectrodisintegration(channels)\n",
    "\n",
    "    # Longitudinal structure function\n",
    "    f_L_array = de.longitudinal_sf(Ep, thetap_array, q)\n",
    "    \n",
    "    ### TESTING\n",
    "    print(f_L_array[0], f_L_array[-1])\n",
    "\n",
    "    plt.close('all')\n",
    "    f, ax = plt.subplots(figsize=(4, 3))\n",
    "    ax.plot(thetap_array, f_L_array, label='Impulse approximation')\n",
    "    ax.set_xlim(x_limits)\n",
    "    ax.set_ylim(y_limits)\n",
    "    ax.legend(fontsize=12, loc='upper right')\n",
    "    ax.set_title(rf\"$E'={Ep:d}$ [MeV], $\\mathbf{{q}}^2={q**2:.1f}$ [fm$^{{-2}}$]\")\n",
    "    ax.set_xlabel(r\"$\\theta'$ [deg]\", fontsize=16)\n",
    "    ax.set_ylabel(r\"$f_L$ [fm]\", fontsize=16);"
   ]
  },
  {
   "cell_type": "code",
   "execution_count": 17,
   "id": "8bcba38d",
   "metadata": {
    "code_folding": [
     0
    ]
   },
   "outputs": [],
   "source": [
    "def plot_fL_wrt_q(pp, thetap, q_array, channels, x_limits=None, y_limits=None):\n",
    "    \"\"\"Plot the longitudinal structure function with respect to q where form\n",
    "    factors are set to 1.\n",
    "    \"\"\"\n",
    "\n",
    "    # AV18\n",
    "    de = DeuteronElectrodisintegration(channels, form_factor_test=True)\n",
    "\n",
    "    # Longitudinal structure function\n",
    "    Ep = de.E_prime(pp)\n",
    "    f_L_array = de.longitudinal_sf(Ep, thetap, q_array)\n",
    "    \n",
    "    ### TESTING\n",
    "    print(f_L_array[0])\n",
    "\n",
    "    plt.close('all')\n",
    "    f, ax = plt.subplots(figsize=(4, 3))\n",
    "    ax.semilogy(thetap_array, f_L_array, label='Impulse approximation')\n",
    "    ax.set_xlim(x_limits)\n",
    "    ax.set_ylim(y_limits)\n",
    "    ax.legend(fontsize=12, loc='upper right')\n",
    "    ax.set_title(rf\"$p'={pp:.1f}$ [fm$^{{-1}}$], $\\theta'={thetap:.1f}$ [deg]\")\n",
    "    ax.set_xlabel(r\"$q$ [fm$^{{-1}}$]\", fontsize=16)\n",
    "    ax.set_ylabel(r\"$f_L$ [fm]\", fontsize=16);"
   ]
  },
  {
   "cell_type": "code",
   "execution_count": 18,
   "id": "61fd766b",
   "metadata": {
    "code_folding": [
     3
    ]
   },
   "outputs": [],
   "source": [
    "def test_Q2(\n",
    "        Ep_array, q2_array, colorbar_limits=(0.0,3.5), x_limits=(0,100),\n",
    "        y_limits=(0,220), levels_number=61\n",
    "):\n",
    "    \"\"\"Plot Q^2 as a function of E' and q_vector^2 in units GeV^2.\"\"\"\n",
    "    \n",
    "    de = DeuteronElectrodisintegration(('1S0', '3S1-3S1'))\n",
    "    \n",
    "    # Get meshgrids with q^2 in fm^-2 and E' in MeV\n",
    "    q2_grid, Ep_MeV_grid = np.meshgrid(q2_array, Ep_array, indexing='ij')\n",
    "    q_grid = np.sqrt(q2_grid)\n",
    "    # Convert E' to fm^-1\n",
    "    Ep_grid = Ep_MeV_grid / de.hbar_c\n",
    "    \n",
    "    # Compute \\omega in fm^-1\n",
    "    omega_grid = de.omega(Ep_grid, q_grid)\n",
    "\n",
    "    # Compute Q^2 in GeV^2\n",
    "    Q2_grid = de.Q2(omega_grid, q_grid)\n",
    "    \n",
    "    plt.close('all')\n",
    "    f, ax = plt.subplots(figsize=(4,4))\n",
    "    \n",
    "    # Set contour levels\n",
    "    levels = np.linspace(colorbar_limits[0], colorbar_limits[1],\n",
    "                         levels_number)\n",
    "    \n",
    "    # Plot with respect to q^2 [fm^-1] and E' [MeV]\n",
    "    c = ax.contourf(q2_grid, Ep_MeV_grid, Q2_grid, levels, cmap='turbo',\n",
    "                    extend='both')\n",
    "\n",
    "    ax.set_xlim(x_limits)\n",
    "    ax.set_ylim(y_limits)\n",
    "    ax.set_xlabel(\"$\\mathbf{q}_{cm}^2$ [fm\" + r\"$^{-2}$\" + \"]\", fontsize=16)\n",
    "    ax.set_ylabel(\"$E_{np}$ [MeV]\", fontsize=16)\n",
    "    \n",
    "    # --- Colorbar --- #\n",
    "    # Colorbar location (left, bottom, width, height)\n",
    "    cbar_ax = f.add_axes((1.0, 0.15, 0.1, 0.7))\n",
    "    # Set colorbar ticks and tick labels\n",
    "    levels_ticks = np.linspace(colorbar_limits[0], colorbar_limits[1], 7)\n",
    "    levels_ticks_strings = label_ticks(levels_ticks)  # Make these strings\n",
    "    # Set colorbar\n",
    "    cbar = f.colorbar(c, cax=cbar_ax, ticks=levels_ticks)\n",
    "    cbar.ax.set_yticklabels(levels_ticks_strings)\n",
    "    cbar.ax.set_title(r\"$Q^2$ [GeV$^2$]\", fontsize=16, pad=15)"
   ]
  },
  {
   "cell_type": "code",
   "execution_count": 42,
   "id": "6a8f2754",
   "metadata": {},
   "outputs": [],
   "source": [
    "def test_phase_shifts(e_array, channel):\n",
    "    \"\"\"Check phase shifts of T-matrix.\"\"\"\n",
    "    \n",
    "    delta_array = np.zeros_like(e_array, dtype=complex)\n",
    "    S_array = np.zeros_like(delta_array)\n",
    "    \n",
    "    tmatrix = TMatrix(6, channel, 30.0, 4.0, 120)\n",
    "    \n",
    "    # h-bar^2 / M [MeV fm^2]\n",
    "    hbar_sq_over_m = 41.47\n",
    "    \n",
    "    for i, ie in enumerate(e_array):\n",
    "        \n",
    "        # Convert energy E_lab [MeV] to relative momentum [fm^-1]\n",
    "        k0 = np.sqrt(ie / 2.0 / hbar_sq_over_m)\n",
    "        \n",
    "        T_matrix = tmatrix.evaluate(k0)\n",
    "        \n",
    "        # delta_array[i] = np.angle(T_matrix[-1, -1], deg=True)\n",
    "        # delta_array[i] = np.angle(-k0 * T_matrix[-1, -1], deg=True)\n",
    "        delta_array[i] = np.log(1 - 2j * k0 * T_matrix[-1, -1]) / (2j)\n",
    "        \n",
    "        S_array[i] = 1 - 2j * k0 * T_matrix[-1, -1]\n",
    "        \n",
    "    print(np.abs(S_array))\n",
    "    print(np.angle(S_array, deg=True))\n",
    "        \n",
    "    # return delta_array\n",
    "    return np.angle(delta_array, deg=True)"
   ]
  },
  {
   "cell_type": "code",
   "execution_count": 39,
   "id": "3e6b77ba",
   "metadata": {},
   "outputs": [
    {
     "name": "stdout",
     "output_type": "stream",
     "text": [
      "30.96375653207352 30.96375653207352\n"
     ]
    }
   ],
   "source": [
    "x, y = 0.5, 0.3\n",
    "a = x + 1j*y\n",
    "delta_1 = np.angle(a, deg=True)\n",
    "delta_2 = np.degrees(np.arctan2(y,x))\n",
    "print(delta_1, delta_2)"
   ]
  },
  {
   "cell_type": "markdown",
   "id": "daded843",
   "metadata": {},
   "source": [
    "### Testing $T$-matrix class"
   ]
  },
  {
   "cell_type": "code",
   "execution_count": 20,
   "id": "de9afc61",
   "metadata": {},
   "outputs": [
    {
     "name": "stdout",
     "output_type": "stream",
     "text": [
      "[[-0.25336759+0.01390954j -0.25336759+0.01390954j -0.25336759+0.01390954j\n",
      "  ... -0.25336759+0.01390954j -0.25336759+0.01390954j\n",
      "  -0.25336759+0.01390954j]\n",
      " [-0.25326825+0.01390408j -0.25326825+0.01390408j -0.25326825+0.01390408j\n",
      "  ... -0.25326825+0.01390408j -0.25326825+0.01390408j\n",
      "  -0.25326825+0.01390408j]\n",
      " [-0.2527538 +0.01387584j -0.2527538 +0.01387584j -0.2527538 +0.01387584j\n",
      "  ... -0.2527538 +0.01387584j -0.2527538 +0.01387584j\n",
      "  -0.2527538 +0.01387584j]\n",
      " ...\n",
      " [ 0.00294696-0.00016178j  0.00294696-0.00016178j  0.00294696-0.00016178j\n",
      "  ...  0.00294696-0.00016178j  0.00294696-0.00016178j\n",
      "   0.00294696-0.00016178j]\n",
      " [ 0.00293984-0.00016139j  0.00293984-0.00016139j  0.00293984-0.00016139j\n",
      "  ...  0.00293984-0.00016139j  0.00293984-0.00016139j\n",
      "   0.00293984-0.00016139j]\n",
      " [-0.10946736+0.00600961j -0.10946736+0.00600961j -0.10946736+0.00600961j\n",
      "  ... -0.10946736+0.00600961j -0.10946736+0.00600961j\n",
      "  -0.10946736+0.00600961j]]\n",
      "(121, 121)\n"
     ]
    }
   ],
   "source": [
    "tmatrix = TMatrix(6, '1S0', 30.0, 4.0, 120)\n",
    "k0 = 0.5\n",
    "T_matrix = tmatrix.evaluate(k0)\n",
    "print(T_matrix)\n",
    "print(T_matrix.shape)"
   ]
  },
  {
   "cell_type": "code",
   "execution_count": 43,
   "id": "c2e6bcb0",
   "metadata": {},
   "outputs": [
    {
     "name": "stdout",
     "output_type": "stream",
     "text": [
      "[1.00003889 1.00042648 1.00080541 1.00117587 1.00153806 1.00189218\n",
      " 1.00223841 1.00257694 1.00290794 1.00323158 1.00354803 1.00385745\n",
      " 1.00415999 1.00445581 1.00474505 1.00502786 1.00530438 1.00557474\n",
      " 1.00583907 1.0060975  1.00635016 1.00659716 1.00683862 1.00707467\n",
      " 1.00730541 1.00753094 1.00775138 1.00796683 1.00817739 1.00838316\n",
      " 1.00858422 1.00878067 1.00897261 1.00916012 1.00934329 1.0095222\n",
      " 1.00969693 1.00986756 1.01003417 1.01019685 1.01035565 1.01051066\n",
      " 1.01066195 1.01080958 1.01095362 1.01109413 1.0112312  1.01136486\n",
      " 1.01149519 1.01162225 1.01174609 1.01186678 1.01198436 1.0120989\n",
      " 1.01221045 1.01231905 1.01242477 1.01252765 1.01262775 1.0127251\n",
      " 1.01281976 1.01291178 1.0130012  1.01308807 1.01317242 1.0132543\n",
      " 1.01333376 1.01341083 1.01348556 1.01355798 1.01362813 1.01369605\n",
      " 1.01376178 1.01382536 1.01388681 1.01394618 1.0140035  1.0140588\n",
      " 1.01411212 1.01416348 1.01421292 1.01426048 1.01430618 1.01435004\n",
      " 1.01439212 1.01443242 1.01447098 1.01450784 1.014543   1.01457651\n",
      " 1.01460839 1.01463867 1.01466737 1.01469451 1.01472013 1.01474425\n",
      " 1.01476688 1.01478806 1.0148078  1.01482614]\n",
      "[0.35730234 1.18287842 1.62511352 1.96309473 2.24458912 2.48898322\n",
      " 2.70647582 2.90323511 3.08333779 3.24965025 3.40428227 3.54884329\n",
      " 3.68459646 3.81255528 3.93354845 4.04826443 4.15728305 4.26109842\n",
      " 4.36013596 4.45476534 4.54531075 4.63205838 4.71526233 4.79514947\n",
      " 4.87192348 4.94576805 5.01684959 5.08531944 5.15131576 5.21496512\n",
      " 5.27638378 5.33567892 5.39294957 5.44828762 5.50177854 5.55350191\n",
      " 5.60353193 5.65193796 5.69878491 5.74413369 5.78804148 5.83056209\n",
      " 5.87174624 5.91164176 5.95029385 5.98774526 6.0240365  6.05920596\n",
      " 6.09329008 6.1263235  6.15833917 6.18936844 6.21944124 6.24858618\n",
      " 6.27683061 6.30420062 6.3307212  6.35641624 6.38130864 6.40542033\n",
      " 6.42877234 6.45138486 6.47327727 6.49446818 6.5149755  6.53481645\n",
      " 6.55400759 6.57256487 6.59050367 6.60783881 6.62458455 6.64075469\n",
      " 6.65636252 6.6714209  6.68594221 6.69993846 6.71342124 6.72640176\n",
      " 6.73889086 6.75089908 6.76243662 6.7735134  6.78413901 6.79432276\n",
      " 6.80407368 6.81340052 6.82231178 6.83081572 6.83892035 6.84663345\n",
      " 6.85396258 6.86091509 6.86749812 6.87371862 6.87958335 6.88509888\n",
      " 6.8902716  6.89510775 6.89961338 6.90379439]\n",
      "[-0.35731045 -1.18317273 -1.62587717 -1.96444161 -2.24660364 -2.49173161\n",
      " -2.71001148 -2.90760173 -3.08857135 -3.25578043 -3.4113335  -3.55683552\n",
      " -3.6935458  -3.82247455 -3.94444753 -4.06015064 -4.17016144 -4.27497202\n",
      " -4.375006   -4.47063142 -4.56217104 -4.64990975 -4.73410047 -4.81496904\n",
      " -4.89271818 -4.96753073 -5.03957232 -5.10899361 -5.17593212 -5.24051384\n",
      " -5.30285456 -5.36306096 -5.42123168 -5.47745824 -5.53182579 -5.58441361\n",
      " -5.63529566 -5.68454107 -5.73221455 -5.77837684 -5.82308498 -5.86639266\n",
      " -5.90835048 -5.9490062  -5.98840495 -6.02658942 -6.06360009 -6.09947532\n",
      " -6.13425154 -6.16796341 -6.20064385 -6.23232427 -6.26303462 -6.29280355\n",
      " -6.32165844 -6.34962548 -6.37672968 -6.40299504 -6.4284445  -6.45310008\n",
      " -6.47698291 -6.50011326 -6.5225106  -6.54419365 -6.56518042 -6.58548822\n",
      " -6.60513372 -6.624133   -6.64250154 -6.66025425 -6.67740555 -6.69396932\n",
      " -6.70995899 -6.72538753 -6.74026746 -6.75461089 -6.76842954 -6.78173474\n",
      " -6.79453747 -6.80684837 -6.8186778  -6.83003578 -6.84093204 -6.85137601\n",
      " -6.86137685 -6.87094345 -6.88008442 -6.88880816 -6.89712279 -6.90503622\n",
      " -6.91255615 -6.91969005 -6.92644519 -6.93282863 -6.93884727 -6.94450779\n",
      " -6.94981671 -6.95478039 -6.95940499 -6.96369656]\n"
     ]
    }
   ],
   "source": [
    "e_array = np.linspace(0.01, 10.0, 100)\n",
    "delta_array = test_phase_shifts(e_array, '1S0')\n",
    "print(delta_array)"
   ]
  },
  {
   "cell_type": "markdown",
   "id": "314ab708",
   "metadata": {},
   "source": [
    "### Test $Q^2$"
   ]
  },
  {
   "cell_type": "code",
   "execution_count": 22,
   "id": "26071418",
   "metadata": {},
   "outputs": [
    {
     "data": {
      "image/png": "[encoded data removed]",
      "text/plain": [
       "<Figure size 600x600 with 2 Axes>"
      ]
     },
     "metadata": {},
     "output_type": "display_data"
    }
   ],
   "source": [
    "Ep_array = np.linspace(0.0, 220.0, 100)\n",
    "q2_array = np.linspace(0.0, 100.0, 100)\n",
    "\n",
    "test_Q2(Ep_array, q2_array)"
   ]
  },
  {
   "cell_type": "markdown",
   "id": "1f937961",
   "metadata": {},
   "source": [
    "## Testing unevolved impulse approximation"
   ]
  },
  {
   "cell_type": "code",
   "execution_count": 23,
   "id": "0d66f4b4",
   "metadata": {},
   "outputs": [],
   "source": [
    "channels = ('1S0', '3S1-3S1', '3S1-3D1', '3D1-3S1', '3D1-3D1')"
   ]
  },
  {
   "cell_type": "code",
   "execution_count": 24,
   "id": "42679ca5",
   "metadata": {
    "scrolled": false
   },
   "outputs": [
    {
     "name": "stdout",
     "output_type": "stream",
     "text": [
      "6.805206057495117\n"
     ]
    },
    {
     "data": {
      "image/png": "[encoded data removed]",
      "text/plain": [
       "<Figure size 600x450 with 1 Axes>"
      ]
     },
     "metadata": {},
     "output_type": "display_data"
    }
   ],
   "source": [
    "# Quasifree ridge where \\omega = 0\n",
    "Ep_array = np.linspace(10, 110, 100)\n",
    "thetap = 15.0\n",
    "plot_fL_wrt_Ep(Ep_array, thetap, channels, x_limits=(10,115), y_limits=(0,6))\n",
    "# plot_fL_wrt_Ep(Ep_array, thetap, x_limits=(10,115), y_limits=(0,8))"
   ]
  },
  {
   "cell_type": "code",
   "execution_count": 25,
   "id": "7097bcef",
   "metadata": {},
   "outputs": [
    {
     "name": "stdout",
     "output_type": "stream",
     "text": [
      "9.699601793093308 0.15294739109682806\n"
     ]
    },
    {
     "data": {
      "image/png": "[encoded data removed]",
      "text/plain": [
       "<Figure size 600x450 with 1 Axes>"
      ]
     },
     "metadata": {},
     "output_type": "display_data"
    }
   ],
   "source": [
    "Ep = 100\n",
    "q = np.sqrt(10)\n",
    "thetap_array = np.linspace(0.01, 179.9, 100)\n",
    "plot_fL_wrt_thetap(Ep, thetap_array, q, channels, x_limits=(0,180),\n",
    "                   y_limits=(0,8))"
   ]
  },
  {
   "cell_type": "code",
   "execution_count": 26,
   "id": "bf9f3045",
   "metadata": {},
   "outputs": [
    {
     "name": "stdout",
     "output_type": "stream",
     "text": [
      "0.15917413078230402 0.0020128184260121704\n"
     ]
    },
    {
     "data": {
      "image/png": "[encoded data removed]",
      "text/plain": [
       "<Figure size 600x450 with 1 Axes>"
      ]
     },
     "metadata": {},
     "output_type": "display_data"
    }
   ],
   "source": [
    "Ep = 10\n",
    "q = 2\n",
    "thetap_array = np.linspace(0.01, 179.9, 100)\n",
    "plot_fL_wrt_thetap(Ep, thetap_array, q, channels, x_limits=(0,180),\n",
    "                   y_limits=(0,0.15))"
   ]
  },
  {
   "cell_type": "code",
   "execution_count": 27,
   "id": "2743de16",
   "metadata": {},
   "outputs": [
    {
     "name": "stdout",
     "output_type": "stream",
     "text": [
      "1.3213992344650711\n",
      "1.3661410976187758\n",
      "1.2288128588220961\n",
      "1.2920029616337583\n"
     ]
    }
   ],
   "source": [
    "# Off by a constant?\n",
    "print(6.805206057495117 / 5.15)\n",
    "print(9.699601793093308 / 7.1)\n",
    "print(0.15917413078230402 / 0.1295348837209302)\n",
    "# print(np.sqrt(np.pi/2))\n",
    "\n",
    "# Point at \\theta'=180 in E'=100 MeV plot\n",
    "print(0.15294739109682806 / 0.11838006230529352)"
   ]
  },
  {
   "cell_type": "code",
   "execution_count": 28,
   "id": "430f765a",
   "metadata": {},
   "outputs": [
    {
     "name": "stdout",
     "output_type": "stream",
     "text": [
      "2.499366705376403\n"
     ]
    },
    {
     "data": {
      "image/png": "[encoded data removed]",
      "text/plain": [
       "<Figure size 600x450 with 1 Axes>"
      ]
     },
     "metadata": {},
     "output_type": "display_data"
    }
   ],
   "source": [
    "pp = 0.1\n",
    "thetap = 90.0\n",
    "q_array = np.linspace(0, 12, 100)\n",
    "\n",
    "# # x and y limits in More (2017) Fig. 20\n",
    "# xlim = (0, 12)\n",
    "# ylim = (1e-7, 1e0)\n",
    "\n",
    "xlim = (0, 12)\n",
    "ylim = (1e-7, 1e1)\n",
    "plot_fL_wrt_q(pp, thetap, q_array, channels, x_limits=xlim, y_limits=ylim)"
   ]
  },
  {
   "cell_type": "markdown",
   "id": "b370f195",
   "metadata": {},
   "source": [
    "### Double-check extreme angles $\\theta'=0,\\pi$ and $p'=q=1$"
   ]
  },
  {
   "cell_type": "markdown",
   "id": "b24b1d39",
   "metadata": {},
   "source": [
    "At $\\theta'=0$ expect $\\theta_{\\pm}=0$"
   ]
  },
  {
   "cell_type": "code",
   "execution_count": 29,
   "id": "e3cf2291",
   "metadata": {},
   "outputs": [
    {
     "name": "stdout",
     "output_type": "stream",
     "text": [
      "\\Omega_(p +/- q/2) at theta' = 0.000:\n",
      "theta_minus = 0.000, theta_plus = 0.000\n"
     ]
    }
   ],
   "source": [
    "de = DeuteronElectrodisintegration(channels, form_factor_test=True)\n",
    "Ep_ifm, S_f, m_S_f, m_J_d = 0, 1, 0, 0  # Doesn't matter\n",
    "pp, thetap, q = 1, 0, 1\n",
    "overlap = de.overlap_ia(Ep_ifm, pp, thetap, q, S_f, m_S_f, m_J_d, test=True)"
   ]
  },
  {
   "cell_type": "markdown",
   "id": "97bffc70",
   "metadata": {},
   "source": [
    "At $\\theta'=\\pi$ expect $\\theta_{\\pm}=\\pi$"
   ]
  },
  {
   "cell_type": "code",
   "execution_count": 30,
   "id": "6cc0b45d",
   "metadata": {},
   "outputs": [
    {
     "name": "stdout",
     "output_type": "stream",
     "text": [
      "\\Omega_(p +/- q/2) at theta' = 3.142:\n",
      "theta_minus = 3.142, theta_plus = 3.142\n"
     ]
    }
   ],
   "source": [
    "de = DeuteronElectrodisintegration(channels, form_factor_test=True)\n",
    "Ep_ifm, S_f, m_S_f, m_J_d = 0, 1, 0, 0  # Doesn't matter\n",
    "pp, thetap, q = 1, np.pi, 1\n",
    "overlap = de.overlap_ia(Ep_ifm, pp, thetap, q, S_f, m_S_f, m_J_d, test=True)"
   ]
  },
  {
   "cell_type": "markdown",
   "id": "2cbc8b19",
   "metadata": {},
   "source": [
    "### Double-check deuteron wave function"
   ]
  },
  {
   "cell_type": "code",
   "execution_count": 31,
   "id": "22e3c8d2",
   "metadata": {},
   "outputs": [
    {
     "name": "stdout",
     "output_type": "stream",
     "text": [
      "p' = 1.5733807719336366 fm^-1\n",
      "p' + q/2 = 3.1545196020178263 fm^-1\n"
     ]
    }
   ],
   "source": [
    "de = DeuteronElectrodisintegration(channels)\n",
    "Ep = 100\n",
    "q2 = 10\n",
    "q = np.sqrt(10)\n",
    "Ep_ifm = Ep / de.hbar_c\n",
    "pp = de.p_prime(Ep_ifm)\n",
    "print(f\"p' = {pp} fm^-1\")\n",
    "pq = pp + q/2\n",
    "print(f\"p' + q/2 = {pq} fm^-1\")"
   ]
  },
  {
   "cell_type": "code",
   "execution_count": 32,
   "id": "63406cd5",
   "metadata": {},
   "outputs": [
    {
     "name": "stdout",
     "output_type": "stream",
     "text": [
      "Deuteron normalization = 0.999999999999999\n"
     ]
    }
   ],
   "source": [
    "q_array = np.linspace(0.0,10.0,200)\n",
    "psi_0_array = de.psi_0_func(q_array)\n",
    "psi_2_array = de.psi_2_func(q_array)\n",
    "\n",
    "print(f\"Deuteron normalization = {de.norm}\")"
   ]
  },
  {
   "cell_type": "code",
   "execution_count": 33,
   "id": "37b2d1e5",
   "metadata": {},
   "outputs": [
    {
     "data": {
      "image/png": "[encoded data removed]",
      "text/plain": [
       "<Figure size 600x450 with 1 Axes>"
      ]
     },
     "metadata": {},
     "output_type": "display_data"
    }
   ],
   "source": [
    "plt.close('all')\n",
    "f, ax = plt.subplots(figsize=(4, 3))\n",
    "ax.semilogy(q_array, np.abs(psi_0_array), label='S-wave')\n",
    "ax.semilogy(q_array, np.abs(psi_2_array), label='D-wave')\n",
    "ax.set_xlim(0,5)\n",
    "ax.set_ylim(1e-5,2e1)\n",
    "ax.legend(loc='upper right')\n",
    "ax.set_xlabel(r\"$k$ [fm$^{-1}$]\", fontsize=16)\n",
    "ax.set_ylabel(r\"$|\\psi_d(k)|$ [fm$^{3/2}$]\", fontsize=16);"
   ]
  },
  {
   "cell_type": "markdown",
   "id": "d0c3e86b",
   "metadata": {},
   "source": [
    "### Double-check form factors"
   ]
  },
  {
   "cell_type": "code",
   "execution_count": 34,
   "id": "ba84b5ab",
   "metadata": {},
   "outputs": [],
   "source": [
    "Q2_array = np.arange(0.0, 2.0, 0.1)\n",
    "\n",
    "# My form factors\n",
    "GEp_at_array = GEp(Q2_array)\n",
    "GEn_at_array = GEn(Q2_array)\n",
    "\n",
    "# Sushant's form factors\n",
    "ff = FormFactors()\n",
    "GEp_sm_array = ff.GEp(Q2_array)\n",
    "GEn_sm_array = ff.GEn(Q2_array)"
   ]
  },
  {
   "cell_type": "code",
   "execution_count": 35,
   "id": "d7b7a4f7",
   "metadata": {},
   "outputs": [
    {
     "data": {
      "image/png": "[encoded data removed]",
      "text/plain": [
       "<Figure size 600x450 with 1 Axes>"
      ]
     },
     "metadata": {},
     "output_type": "display_data"
    }
   ],
   "source": [
    "plt.close('all')\n",
    "f, ax = plt.subplots(figsize=(4, 3))\n",
    "ax.plot(Q2_array, GEp_at_array, label=\"AT\")\n",
    "ax.plot(Q2_array, GEp_sm_array, label=\"SM\", ls='dashdot')\n",
    "ax.set_xlim(0,2)\n",
    "ax.set_ylim(0.0,1.05)\n",
    "ax.legend(loc='upper right')\n",
    "ax.set_xlabel(r\"$Q^2$ [GeV$^{2}$]\", fontsize=16)\n",
    "ax.set_ylabel(r\"$G_E^p(Q^2)$\", fontsize=16);"
   ]
  },
  {
   "cell_type": "code",
   "execution_count": 36,
   "id": "f55e9425",
   "metadata": {},
   "outputs": [
    {
     "data": {
      "image/png": "[encoded data removed]",
      "text/plain": [
       "<Figure size 600x450 with 1 Axes>"
      ]
     },
     "metadata": {},
     "output_type": "display_data"
    }
   ],
   "source": [
    "plt.close('all')\n",
    "f, ax = plt.subplots(figsize=(4, 3))\n",
    "ax.plot(Q2_array, GEn_at_array, label=\"AT\")\n",
    "ax.plot(Q2_array, GEn_sm_array, label=\"SM\", ls='dashdot')\n",
    "ax.set_xlim(0,2)\n",
    "ax.set_ylim(0.0,0.12)\n",
    "ax.legend(loc='upper right')\n",
    "ax.set_xlabel(r\"$Q^2$ [GeV$^{2}$]\", fontsize=16)\n",
    "ax.set_ylabel(r\"$G_E^n(Q^2)$\", fontsize=16);"
   ]
  },
  {
   "cell_type": "code",
   "execution_count": 37,
   "id": "e0b25e41",
   "metadata": {},
   "outputs": [],
   "source": [
    "Q2_ratio_array = np.arange(0.0, 5.0, 0.1)\n",
    "\n",
    "# My form factors\n",
    "GEp_at_array = GEp(Q2_ratio_array)\n",
    "\n",
    "# Sushant's form factors\n",
    "GEp_sm_array = ff.GEp(Q2_ratio_array)\n",
    "\n",
    "GD_array = ff.GD(Q2_ratio_array)\n",
    "ratio_at = GEp_at_array / GD_array\n",
    "ratio_sm = GEp_sm_array / GD_array"
   ]
  },
  {
   "cell_type": "code",
   "execution_count": 38,
   "id": "58d6d96b",
   "metadata": {},
   "outputs": [
    {
     "data": {
      "image/png": "[encoded data removed]",
      "text/plain": [
       "<Figure size 600x450 with 1 Axes>"
      ]
     },
     "metadata": {},
     "output_type": "display_data"
    }
   ],
   "source": [
    "plt.close('all')\n",
    "f, ax = plt.subplots(figsize=(4, 3))\n",
    "ax.semilogx(Q2_ratio_array, ratio_at, label=\"AT\")\n",
    "ax.semilogx(Q2_ratio_array, ratio_sm, label=\"SM\", ls='dashdot')\n",
    "ax.set_xlim(0.001,4.9)\n",
    "ax.set_ylim(0.3,1.2)\n",
    "ax.legend(loc='lower left')\n",
    "ax.set_xlabel(r\"$Q^2$ [GeV$^{2}$]\", fontsize=16)\n",
    "ax.set_ylabel(r\"$G_E^p/ G_D$\", fontsize=16);"
   ]
  },
  {
   "cell_type": "code",
   "execution_count": null,
   "id": "06a623f0",
   "metadata": {},
   "outputs": [],
   "source": []
  },
  {
   "cell_type": "code",
   "execution_count": null,
   "id": "d298a8a5",
   "metadata": {},
   "outputs": [],
   "source": []
  },
  {
   "cell_type": "code",
   "execution_count": null,
   "id": "7d16d000",
   "metadata": {},
   "outputs": [],
   "source": []
  }
 ],
 "metadata": {
  "kernelspec": {
   "display_name": "Python 3 (ipykernel)",
   "language": "python",
   "name": "python3"
  },
  "language_info": {
   "codemirror_mode": {
    "name": "ipython",
    "version": 3
   },
   "file_extension": ".py",
   "mimetype": "text/x-python",
   "name": "python",
   "nbconvert_exporter": "python",
   "pygments_lexer": "ipython3",
   "version": "3.9.16"
  }
 },
 "nbformat": 4,
 "nbformat_minor": 5
}

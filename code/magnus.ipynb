{
 "cells": [
  {
   "cell_type": "markdown",
   "id": "b6a3bd8b",
   "metadata": {},
   "source": [
    "# The Magnus expansion\n",
    "\n",
    "__A. J. Tropiano [tropiano.4@osu.edu]__<br/>\n",
    "__January 7, 2020__\n",
    "\n",
    "Brief description here.\n",
    "\n",
    "_Last update: March 25, 2022_"
   ]
  },
  {
   "cell_type": "code",
   "execution_count": null,
   "id": "5c56eeb1",
   "metadata": {},
   "outputs": [],
   "source": [
    "# Python imports"
   ]
  },
  {
   "cell_type": "code",
   "execution_count": null,
   "id": "c4270891",
   "metadata": {},
   "outputs": [],
   "source": [
    "# Imports from A.T. codes"
   ]
  },
  {
   "cell_type": "code",
   "execution_count": null,
   "id": "e7609bc6",
   "metadata": {},
   "outputs": [],
   "source": []
  },
  {
   "cell_type": "code",
   "execution_count": null,
   "id": "b08e4ea0",
   "metadata": {},
   "outputs": [],
   "source": []
  },
  {
   "cell_type": "code",
   "execution_count": null,
   "id": "71ce519b",
   "metadata": {},
   "outputs": [],
   "source": []
  },
  {
   "cell_type": "code",
   "execution_count": null,
   "id": "561d75b0",
   "metadata": {},
   "outputs": [],
   "source": []
  },
  {
   "cell_type": "code",
   "execution_count": null,
   "id": "13514469",
   "metadata": {},
   "outputs": [],
   "source": []
  },
  {
   "cell_type": "code",
   "execution_count": null,
   "id": "f17aaa0a",
   "metadata": {},
   "outputs": [],
   "source": []
  }
 ],
 "metadata": {
  "kernelspec": {
   "display_name": "Python 3 (ipykernel)",
   "language": "python",
   "name": "python3"
  },
  "language_info": {
   "codemirror_mode": {
    "name": "ipython",
    "version": 3
   },
   "file_extension": ".py",
   "mimetype": "text/x-python",
   "name": "python",
   "nbconvert_exporter": "python",
   "pygments_lexer": "ipython3",
   "version": "3.9.7"
  }
 },
 "nbformat": 4,
 "nbformat_minor": 5
}

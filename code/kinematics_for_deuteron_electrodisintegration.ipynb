{
 "cells": [
  {
   "cell_type": "markdown",
   "metadata": {},
   "source": [
    "# Kinematics for deuteron electrodisintegration"
   ]
  },
  {
   "cell_type": "markdown",
   "metadata": {},
   "source": [
    "This notebook is based on the Mathematica notebook `kinematics_for_deuteron_electrodisintegration.ipynb` from July, 2017, written by Dick Furnstahl.  **(Note: LaTeX macros are defined in this cell.)**\n",
    "$$\n",
    "\\newcommand{\\omegacm}{\\omega_{\\rm cm}}\n",
    "\\newcommand{\\omegalab}{\\omega_{\\rm lab}}\n",
    "\\newcommand{\\qcm}{{\\bf q}_{\\rm cm}}\n",
    "\\newcommand{\\qlab}{{\\bf q}_{\\rm lab}}\n",
    "\\newcommand{\\xd}{x_d}\n",
    "\\newcommand{\\Md}{M_d}\n",
    "\\newcommand{\\Mnp}{M_{np}}\n",
    "\\newcommand{\\Enp}{E_{np}}\n",
    "\\newcommand{\\pvec}{{\\bf p}}\n",
    "\\newcommand{\\pprime}{\\pvec'}\n",
    "\\newcommand{\\pplab}{\\pvec_{p}}\n",
    "\\newcommand{\\pnlab}{\\pvec_{n}}\n",
    "\\newcommand{\\Eplab}{E_{p,{\\rm lab}}}\n",
    "\\newcommand{\\Enlab}{E_{n,{\\rm lab}}}\n",
    "\\newcommand{\\qvec}{{\\bf q}}\n",
    "\\newcommand{\\pmiss}{\\pvec_m}\n",
    "\\newcommand{\\Edcm}{E_{d,{\\rm cm}}}\n",
    "\\newcommand{\\Edlab}{\\Md}\n",
    "\\newcommand{\\Pd}{P_d}\n",
    "\\newcommand{\\Lraspace}{\\quad\\Longrightarrow\\quad}\n",
    "$$"
   ]
  },
  {
   "cell_type": "markdown",
   "metadata": {
    "heading_collapsed": true
   },
   "source": [
    "## Overview and summary points"
   ]
  },
  {
   "cell_type": "markdown",
   "metadata": {
    "heading_collapsed": true,
    "hidden": true
   },
   "source": [
    "### Abstract and revision history\n",
    "\n",
    "In this notebook we explore the kinematics of deuteron electrodisintegration experiments.  There are various choices of independent variables and two different reference frames, so we have introduced functions to convert between them.  Where possible, the results are checked with alternative formulas.  We also verify that the expected quasi-free ridge conditions are obtained and that physical constraints satisfied (e.g., $Q^2>0$, $0 \\leq \\xd \\leq 2$, $\\omega_{\\rm lab}$).\n",
    "\n",
    "Last revised:  31-Dec-2019 by Dick Furnstahl (furnstahl.1@osu.edu)\n",
    "\n",
    "To do:\n",
    "* Reconcile missing mass expressions."
   ]
  },
  {
   "cell_type": "markdown",
   "metadata": {
    "heading_collapsed": true,
    "hidden": true
   },
   "source": [
    "### Kinematics in the SRC (and other) literature"
   ]
  },
  {
   "cell_type": "markdown",
   "metadata": {
    "hidden": true
   },
   "source": [
    "* In *Modern studies of the deuteron: from the lab frame to the light front* by Boeglin and Sargsian, arXiv:1501.05377.  Quantities are given, presumably in the lab frame:  final four-momenta of the proton and neutron are\n",
    "\n",
    "$$\n",
    "   p^\\mu_p = (E_p, \\pplab)  \\qquad  p^\\mu_n = (E_n, \\pnlab)\n",
    "$$\n",
    "\n",
    "and missing momentum \n",
    "\n",
    "$$\n",
    "     \\pmiss = \\qlab - \\pplab = \\pnlab\n",
    "$$\n",
    "\n",
    "The claim is that $|\\pmiss| > 300\\,\\mbox{MeV}/c$ is needed to probe the high-momentum NN component of the deuteron, together with\n",
    "\n",
    "$$\n",
    "  |\\pplab| \\sim |\\qlab| \\sim \\mbox{few GeV}/c \n",
    "  \\quad \\mbox{and} \\quad\n",
    "  |\\pnlab| = |\\qlab - \\pplab| = |\\pmiss| \\sim \\mbox{few hundred MeV}/c\n",
    "  \\quad \\mbox{and} \\quad\n",
    "  Q^2 > 1\\,\\mbox{GeV}^2 \\;.\n",
    "$$\n",
    "\n",
    "* In *Large $Q^2$ electrodisintegration of the deuteron in the virtual nucleon approximation* by Misak Sargsian (SRG_electron_scattering/deuteron_electrodisintegration/papers/PhysRevC.82.014612_Sargasian.pdf) there is a discussion of the kinematics \"which we consider most efficient in probing the pn system at small separations.\"  The conditions listed are <br> \n",
    "&nbsp;    i) $Q^2>= 1\\,\\mbox{GeV}^2$;  <br>\n",
    "&nbsp;    ii) ${\\bf p}_f \\approx {\\bf q}$; <br>\n",
    "&nbsp;    iii) $p_f \\gg p_r \\geq 300\\,\\mbox{MeV}/c$. <br>\n",
    "Here $p_f$ is the four-momentum of the struck proton and $p_r$ is the four-momentum of the recoil neutron.  The frame is not specified, but it must be the lab frame.  So these seem consistent with the numbers given in arXiv:1501.05377, with $p_f \\rightarrow |\\pvec_p|$ and $p_r \\rightarrow |\\pvec_n|$.\n",
    "    * How do these conditions translate to the CoM frame?  \\[Side note: the Delta is said to be important at higher $Q^2$.\\]  The condition on $Q^2$ is the same, of course, as it is a Lorentz invariant.  We'll have to implement the Lorentz boost to check the others quantitatively.  \n",
    "    * Assuming a one-body current and neglecting FSI, to get  $p_r\\geq  300\\,\\mbox{MeV}/c$ for the spectator nucleon in the lab frame, the initial relative momentum must be this order, meaning greater than $1.5\\,\\mbox{fm}^{-1}$.  This is consistent with originating as a SRC.\n",
    "\n",
    "\n",
    "* In *Experimental Study of Exclusive $^2\\mbox{H}(e,e'p)n$ Reaction Mechanisms at High $Q^2$*, Egiyan et al. report on experiments with $1.75 < Q^2 < 5.5\\,\\mbox{GeV}^2$.  So \"high $Q^2$\" would seem to start at least by $Q^2 = 1.8\\,\\mbox{GeV}^2$.\n",
    "\n",
    "\n",
    "* From Nadia Fomin talk at MIT in December, 2016 entitled *Inclusive + Semi-Inclusive Scattering Experiment*, plateaus for nuclear ratios of inclusive scattering seem to need $x > 1.5$ and $Q^2> 1.4\\, \\mbox{GeV}^2$.  These conditions also show up in Or Hen's thesis.  I think it is a consensus among the JLab experimentalists.\n",
    "\n",
    "* In *Comparing proton momentum distributions in $A=2$ and $3$ nuclei via $^2$H, $^3$H, and $^3$He $(e,e'p)$ measurements* by the JLab Hall A Tritium Collaboration in PLB **797**, 134890 (2019), says they are studying the nucleon momentum distributions using Quasi-Elastic (QE) electron scattering.  Interestingly, they say: \"Constraining the short-ranged part of the nuclear interaction requires studying nucleon momentum distributions at high-momentum.  However, previous attempts to extract these were largely unsuccessful, due to the fact that nucleon momentum distributions are not direct observables, and typical experimental extractions suffer from large reaction mechanism effects.  These introduce significant model-dependent corrections that mask the underlying characteristics of the momentum distribution, especially at high-momentum.\" Then the claim is that nuclear reaction theory is advanced to identify observables with increased sensitivity to nucleon momentum densities at high momentum.\n",
    "<br><br>\n",
    "The kinematics of $\\omegalab$ and $\\qlab$ are \"appropriate\" for elastic scattering from a moving bound nucleon.  What does this translate into?  I think that the final proton is on-shell after absorbing this four-momentum.\n",
    "<br><br>\n",
    "They  say they constrain the angle between $\\pvec_{\\rm recoil} = -\\pmiss$ and $\\qvec$ to be $\\theta_{rq}\\leq 40^\\circ$.  (Note that they seem to use the opposite sign for the missing momentum.) Deuterium measurements are in the region $40 \\leq |\\pmiss| \\leq 300\\,\\mbox{MeV}/c$, so these don't seem to be in the region required by theorists!  They have four-momentum transfer $Q^2 = 2.0\\, (\\mbox{GeV}/c)^2$ and $x_B = 1.4$ and energy transfer $\\omega = 0.78\\,\\mbox{GeV}$. The knocked out protons were at $(\\theta_p, p_p) = (48.82^\\circ, 1.481\\,\\mbox{GeV/c})$ and $(58.50^\\circ, 1.246\\,\\mbox{GeV/c})$.\n",
    "\n",
    "\n",
    "* I suspect that the theorists in all cases want significantly higher $Q^2$ than $1.4\\,\\mbox{GeV}^2$, but this is also motivation for new JLab experiments. :)"
   ]
  },
  {
   "cell_type": "markdown",
   "metadata": {
    "heading_collapsed": true
   },
   "source": [
    "## Python imports"
   ]
  },
  {
   "cell_type": "code",
   "execution_count": 1,
   "metadata": {
    "hidden": true
   },
   "outputs": [],
   "source": [
    "import numpy as np\n",
    "\n",
    "%matplotlib inline\n",
    "import matplotlib as mpl\n",
    "import matplotlib.pyplot as plt\n",
    "import seaborn as sns"
   ]
  },
  {
   "cell_type": "markdown",
   "metadata": {
    "heading_collapsed": true
   },
   "source": [
    "## Masses and constants"
   ]
  },
  {
   "cell_type": "code",
   "execution_count": 2,
   "metadata": {
    "hidden": true
   },
   "outputs": [],
   "source": [
    "hbarc = 197.326             # in MeV-fm for conversions\n",
    "Mp = 938.272; Mn = 939.565  # proton and neutron masses in MeV\n",
    "M_np = (Mp + Mn)/2           # average nucleon mass in MeV --> about 939 MeV\n",
    "Bd = 2.224  # binding energy of deuteron in MeV\n",
    "Md = Mp + Mn - Bd  # rest mass of deuteron in MeV"
   ]
  },
  {
   "cell_type": "markdown",
   "metadata": {
    "heading_collapsed": true
   },
   "source": [
    "## Bjorken x\n"
   ]
  },
  {
   "cell_type": "markdown",
   "metadata": {
    "hidden": true
   },
   "source": [
    "We define Bjorken $x_A$ for an $A$-body nuclear target as\n",
    "$$\n",
    "  x_A = \\frac{Q^2}{2q\\cdot P_A} A \\;,\n",
    "  \\Lraspace \n",
    "  x_p = \\frac{Q^2}{2q\\cdot P_p} \\quad\\mbox{and}\\quad \\xd = \\frac{Q^2}{2q\\cdot \\Pd} \\;,\n",
    "$$\n",
    "\n",
    "where $q^\\mu$ is the virtual photon four-momentum, $Q^2 = -q^2$, and $P_A$ is the four-momentum of the target nucleus.  The initial total invariant mass squared must be great than or equal to the target mass squared, with equality in the case of elastic scattering (in which case the final invariant mass squared is $M_A^2$).  So \n",
    "\n",
    "$$(P_A + q)^2 \\geq M_A^2 \\;,$$ \n",
    "\n",
    "which gives \n",
    "\n",
    "$$2q\\cdot P_A \\geq Q^2\\;, \\quad \\mbox{or} \\quad x_A \\leq A \\;.$$ \n",
    "\n",
    "Thus for a proton target, $0 \\leq x_p \\leq 1$, while for a deuteron target, $0 \\leq x_d \\leq 2$."
   ]
  },
  {
   "cell_type": "markdown",
   "metadata": {
    "heading_collapsed": true
   },
   "source": [
    "## Center of mass kinematics"
   ]
  },
  {
   "cell_type": "markdown",
   "metadata": {
    "hidden": true
   },
   "source": [
    "The basic picture in the CoM frame is that before the photon is absorbed, its four-momentum is $(\\omegacm, \\qcm)$ while the deuteron has four-momentum \n",
    "\n",
    "$$ (\\Pd)_{\\rm cm} = (\\Edcm, -\\qcm) \\quad\\mbox{with}\\quad \\Edcm = (\\Md^2 + \\qcm^2)^{1/2}$$ \n",
    "\n",
    "because the total three-momentum is zero and the deuteron is on-shell.  \n",
    "\n",
    "* Note that $\\omegacm$ can be positive or negative: it is $\\omegalab > 0$ that is required because the scattered electron loses energy in the lab frame; after boosting, $\\omegacm < 0$ is possible.  \n",
    "\n",
    "* The final state is (on-shell) neutron and proton only; the proton four-momentum is $(\\Mnp + \\Enp/2, \\pprime)$ while the neutron four-momentum is $(\\Mnp + \\Enp/2, -\\pprime)$, where we use the average nucleon mass everywhere. \n",
    "\n",
    "* We use $E' \\equiv \\Enp$ in the scale-dependence paper for the total final energy in the cm frame. \n"
   ]
  },
  {
   "cell_type": "markdown",
   "metadata": {
    "hidden": true
   },
   "source": [
    "Conservation of energy says \n",
    "\n",
    "$$\n",
    " \\omegacm + (\\Md^2 + \\qcm^2)^{1/2} = 2 \\Mnp + \\Enp  \\;,\n",
    "$$\n",
    "\n",
    "where $\\Enp$ is the total neutron-proton final energy, which is related to the final relative momentum $\\pprime$ by the on-shell condition.\n",
    "\n",
    "$$\n",
    " (\\Mnp + \\Enp/2)^2 - \\pprime^2 = \\Mnp^2 \\;.\n",
    "$$\n",
    "\n",
    "Solving these for $\\omegacm$ and $\\pprime$ expresses them as functions of $\\Enp$ and $\\qcm^2$, which we take as our basic variables:\n",
    "\n",
    "$$  \\begin{align*}\n",
    "  \\omegacm &= 2 \\Mnp + \\Enp - (\\Md^2 + \\qcm^2)^{1/2} \\\\\n",
    "  \\pprime^2 &= (\\Mnp + \\Enp/2)^2 - \\Mnp^2 = \\Mnp \\Enp + \\Enp^2/4 \n",
    "\\end{align*} $$\n",
    "\n",
    "* $Q^2 = \\qcm^2 - \\omegacm^2$ follows directly. \n",
    "* Note that the scattering angle $\\theta'$ between the direction of $\\pprime$ and $\\qcm$ does not play a role in these relations but we will need it for the missing mass. Come back to this below."
   ]
  },
  {
   "cell_type": "markdown",
   "metadata": {
    "hidden": true
   },
   "source": [
    "Be careful of the units in what follows, as we have some quantities in MeV and some in $\\mbox{fm}^-1$."
   ]
  },
  {
   "cell_type": "code",
   "execution_count": 3,
   "metadata": {
    "hidden": true
   },
   "outputs": [],
   "source": [
    "def omega_cm(E_np, qcm_sq):\n",
    "    \"\"\"\n",
    "    Center-of-mass virtual photon energy in MeV.  Note the conversion of \n",
    "     qcm^2 to MeV.\n",
    "    \"\"\"\n",
    "    return E_np + 2 * M_np - np.sqrt(Md**2 + qcm_sq * hbarc**2)\n",
    "\n",
    "def qcm(qcm_sq):\n",
    "    \"\"\"Convert qcm^2 to qcm, in fm^{-1}.\"\"\"\n",
    "    return np.sqrt(qcm_sq)\n",
    "\n",
    "def Qsq_cm(E_np, qcm_sq):\n",
    "    \"\"\"\n",
    "    Qsq from com frame variables, in GeV^2.\n",
    "    \"\"\"\n",
    "    return ( qcm_sq * hbarc**2 - omega_cm(E_np, qcm_sq)**2 ) / 1000**2\n",
    "\n",
    "def qcm_sq_MeV(qcm_sq):\n",
    "    \"\"\"\n",
    "    Explicit function for qcd^2 in MeV^2\n",
    "    \"\"\"\n",
    "    return qcm_sq * hbarc**2\n",
    "    \n",
    "def p_prime(E_np):\n",
    "    \"\"\" \n",
    "    Final magnitude of nucleon momentum p' in CM frame in fm^{-1}\n",
    "    \"\"\"\n",
    "    return np.sqrt(M_np * E_np + E_np**2 / 4) / hbarc\n",
    "\n",
    "def p_prime_nonrel(E_np):\n",
    "    \"\"\"\n",
    "    nonrelativistic calculation of p' in CM frame in fm^{-1}\n",
    "    \"\"\"\n",
    "    return np.sqrt(M_np * E_np) / hbarc\n",
    "    \n",
    "def E_prime(p_prime):\n",
    "    \"\"\"\n",
    "    E_np in MeV from p' in fm^{-1}\n",
    "    \"\"\"\n",
    "    return 2 * np.sqrt(M_np**2 + (p_prime * hbarc)**2) - 2*M_np \n",
    "\n",
    "def Ed_cm(qcm_sq):\n",
    "    \"\"\"\n",
    "    deuteron energy in CM frame in MeV\n",
    "    \"\"\"\n",
    "    return np.sqrt(Md**2 + qcm_sq_MeV(qcm_sq))"
   ]
  },
  {
   "cell_type": "markdown",
   "metadata": {
    "heading_collapsed": true,
    "hidden": true
   },
   "source": [
    "### Converting between lab and cm kinematics\n",
    "\n",
    "One way to proceed is to perform an explicit Lorentz boost. Boosting from cm frame to lab frame is easy using the deuteron to express $\\beta$ and $\\gamma$ because its transformation is simple: at rest in lab frame, on-shell and moving in $-\\hat z$ direction with 3-momentum magnitude $|\\qcm|$ in cm frame, so its energy is $\\Edcm = \\sqrt{\\Md^2 + \\qcm^2}$ and ${\\bf P}_{d,{\\rm cm}} = -|\\qcm|\\hat z$.  This means $\\gamma = \\Edcm/\\Md$ and $|\\beta| = |\\qcm|/\\Edcm$.  For a generic four-momentum $P^\\mu = (E, {\\bf P})$, the transformations are: \n",
    "\n",
    "$$ \\begin{align*}\n",
    "  E_{\\rm lab} &= \\frac{\\Edcm}{\\Md} E_{\\rm cm} + \\frac{|\\qcm|}{\\Md} P_{z,{\\rm cm}} \\;, \\\\\n",
    "  P_{z, {\\rm lab}} &= \\frac{\\Edcm}{\\Md} P_{z, {\\rm cm}} + \\frac{|\\qcm|}{\\Md} E_{\\rm cm} \\;, \\\\\n",
    "  P_{x, {\\rm lab}} &= P_{x, {\\rm cm}} \\;,\\\\\n",
    "  P_{y, {\\rm lab}} &= P_{y, {\\rm cm}} \n",
    "\\end{align*} $$\n",
    "\n",
    "In terms of lab quantities, we can take $|\\beta| = |\\qlab|/(\\Md + \\omegalab)$ and $\\gamma = 1/\\sqrt{1-\\beta^2}$.\n",
    "\n"
   ]
  },
  {
   "cell_type": "markdown",
   "metadata": {
    "hidden": true
   },
   "source": [
    "An alternative is to equate Lorentz invariants in the two frames together with four-momentum conservation in each frame individually.\n",
    "\n",
    "$$\n",
    "  (q\\cdot\\Pd)_{\\rm cm} = (q\\cdot\\Pd)_{\\rm lab}\n",
    "  \\Longrightarrow\n",
    "  \\omegacm \\Edcm + \\qcm^2 = \\omegalab \\Md\n",
    "$$ \n",
    "\n",
    "or\n",
    "\n",
    "$$\n",
    "  \\omegalab = \\frac{1}{\\Md}(\\omegacm \\Edcm + \\qcm^2) \n",
    "             = \\frac{\\Edcm}{\\Md}\\left(\\omegacm + \\frac{\\qcm^2}{\\Edcm}\\right)\n",
    "             = \\frac{\\Edcm}{\\Md} \\omegacm + \\frac{\\qcm^2}{\\Md}\n",
    "$$\n",
    "\n",
    "with $\\Edcm = (\\Md^2 + \\qcm^2)^{1/2}$ given earlier.  This is manifestly the same result as from applying the boost formula, because $P_{z,{\\rm cm}} = +|\\qcm|$.\n",
    "\n",
    "\n",
    "\n",
    "\n",
    "To find $\\qlab^2$, we can equate the expressions for $Q^2$:\n",
    "\n",
    "$$\n",
    "Q^2 = \\qlab^2 - \\omegalab^2 = \\qcm^2 - \\omegacm^2\n",
    "$$\n",
    "\n",
    "or\n",
    "\n",
    "$$ \n",
    "  \\qlab^2 = \\qcm^2 - \\omegacm^2 + \\omegalab^2 \n",
    "    = \\frac{\\qcm^2}{\\Md^2}(2\\Mnp + \\Enp)^2\n",
    "  \\;, \n",
    "$$\n",
    "\n",
    "where the second equality follows by substituting expressions for $\\omegacm$ and $\\omegalab$ given previously and simplifying.  From the boost formula we have\n",
    "\n",
    "$$\n",
    "  |\\qlab| = \\frac{\\Edcm}{\\Md} |\\qcm| + \\frac{|\\qcm|}{\\Md} \\omegacm \n",
    "          = \\frac{|\\qcm|}{\\Md} (\\Edcm + \\omegacm)\n",
    "          = \\frac{|\\qcm|}{\\Md} (2\\Mnp + \\Enp)\n",
    "$$\n",
    "\n",
    "where the last equality is from energy conservation in the cm frame.  Again, the expressions are manifestly equal."
   ]
  },
  {
   "cell_type": "markdown",
   "metadata": {
    "hidden": true
   },
   "source": [
    "Ok, how about the proton and neutron four-momenta?\n",
    "\n",
    "$$ \\begin{align*}\n",
    "  E_{p,{\\rm lab}} &= \\frac{\\Edcm}{\\Md} (\\Mnp + \\Enp/2) + \\frac{|\\qcm|}{\\Md} p' \\cos\\theta' \\\\\n",
    "  p_{p,{\\rm lab}} \\cos\\theta_p &= \\frac{\\Edcm}{\\Md} p' \\cos\\theta'  + \\frac{|\\qcm|}{\\Md} (\\Mnp + \\Enp/2) \\\\\n",
    "  p_{p,{\\rm lab}} \\sin\\theta_p &= p' \\sin\\theta' \n",
    "\\end{align*} $$\n",
    "\n",
    "\n",
    "$$ \\begin{align*}\n",
    "  E_{n,{\\rm lab}} &= \\frac{\\Edcm}{\\Md} (\\Mnp + \\Enp/2) - \\frac{|\\qcm|}{\\Md} p' \\cos\\theta' \\\\\n",
    "  p_{n,{\\rm lab}} \\cos\\theta_n &= -\\frac{\\Edcm}{\\Md} p' \\cos\\theta'  + \\frac{|\\qcm|}{\\Md} (\\Mnp + \\Enp/2) \\\\\n",
    "  p_{n,{\\rm lab}} \\sin\\theta_n &= -p' \\sin\\theta' \n",
    "\\end{align*} $$\n",
    "\n",
    "Let's check the sum of $z$-component and orthogonal 3-momenta against total 3-momentum conservation:  $p_{p,{\\rm lab}} \\cos\\theta_p + p_{n,{\\rm lab}} \\cos\\theta_n$ should equal $|\\qlab|$ and it does; $p_{p,{\\rm lab}} \\sin\\theta_p + p_{n,{\\rm lab}} \\sin\\theta_n$ should equal zero and it does."
   ]
  },
  {
   "cell_type": "markdown",
   "metadata": {
    "heading_collapsed": true,
    "hidden": true
   },
   "source": [
    "### Lab quantities in terms of CM quantities\n",
    "\n",
    "Python definitions following the equations in the last section."
   ]
  },
  {
   "cell_type": "code",
   "execution_count": 4,
   "metadata": {
    "hidden": true
   },
   "outputs": [],
   "source": [
    "def omega_lab(E_np, qcm_sq):\n",
    "    \"\"\"\n",
    "    Lab frame virtual photon energy in MeV.  Note the use of q_cm^2 in MeV.\n",
    "    \"\"\"\n",
    "    return (Ed_cm(qcm_sq) / Md) * \\\n",
    "           ( omega_cm(E_np, qcm_sq) + qcm_sq_MeV(qcm_sq) / Ed_cm(qcm_sq) )\n",
    "\n",
    "def q_lab_sq(E_np, qcm_sq):\n",
    "    \"\"\"\n",
    "    Lab frame virtual photon momentum in fm^{-1}.\n",
    "    \"\"\"\n",
    "    return ( qcm(qcm_sq) * (E_np + 2 * M_np) / Md )**2\n",
    "\n",
    "def q_lab_sq_alt(E_np, qcm_sq):\n",
    "    \"\"\"\n",
    "    Alternative expression for lab frame virtual photon momentum in fm^{-1}.\n",
    "    \"\"\"\n",
    "    return qcm(qcm_sq)**2 - omega_cm(E_np, qcm_sq)**2 / hbarc**2 + \\\n",
    "           omega_lab(E_np, qcm_sq)**2 / hbarc**2 \n",
    "\n",
    "def Qsq_lab(E_np, qcm_sq):\n",
    "    \"\"\"\n",
    "    Q_sq from lab frame variables in GeV^2.\n",
    "    \"\"\"\n",
    "    return ( q_lab_sq(E_np, qcm_sq) * hbarc**2 - \\\n",
    "             omega_lab(E_np, qcm_sq)**2 ) / 1000**2\n"
   ]
  },
  {
   "cell_type": "markdown",
   "metadata": {
    "hidden": true
   },
   "source": [
    "### Bjorken x for the deuteron target calculated in the CM and lab frames\n",
    "\n",
    "Here we find $\\xd$ as a function of $\\Enp$ and $\\qcm^2$, our working kinematic variables.  \n",
    "The first calculation is directly from the formula discussed earlier, evaluated with quantities in the CM frame."
   ]
  },
  {
   "cell_type": "code",
   "execution_count": 5,
   "metadata": {
    "hidden": true
   },
   "outputs": [],
   "source": [
    "def x_deuteron_cm(E_np, qcm_sq):\n",
    "    \"\"\"\n",
    "    Bjorken x for the deuteron using cm quantities.\n",
    "    \"\"\"\n",
    "    return ( qcm_sq_MeV(qcm_sq) - omega_cm(E_np, qcm_sq)**2 ) / \\\n",
    "            ( omega_cm(E_np, qcm_sq) * Ed_cm(qcm_sq) + qcm_sq_MeV(qcm_sq) )"
   ]
  },
  {
   "cell_type": "code",
   "execution_count": 6,
   "metadata": {
    "hidden": true
   },
   "outputs": [],
   "source": [
    "def x_deuteron_cm_check(E_np, qcm_sq):\n",
    "    \"\"\"\n",
    "    Alternative CM calculation as a check\n",
    "    \"\"\"\n",
    "    return 2 - ( 4 * M_np**2 + 4 * (p_prime(E_np) * hbarc)**2 - Md**2 ) /  \\\n",
    "               ( omega_cm(E_np, qcm_sq) * Ed_cm(qcm_sq) + qcm_sq_MeV(qcm_sq) )"
   ]
  },
  {
   "cell_type": "code",
   "execution_count": 7,
   "metadata": {
    "hidden": true
   },
   "outputs": [],
   "source": [
    "def x_deuteron_lab(E_np, qcm_sq):\n",
    "    \"\"\"\n",
    "    Bjorken x for the deuteron using lab quantities.\n",
    "    \"\"\"\n",
    "    return ( q_lab_sq(E_np, qcm_sq) * hbarc**2 - \\\n",
    "             omega_lab(E_np, qcm_sq)**2 ) / (omega_lab(E_np, qcm_sq) * Md) "
   ]
  },
  {
   "cell_type": "markdown",
   "metadata": {
    "heading_collapsed": true,
    "hidden": true
   },
   "source": [
    "### Missing mass"
   ]
  },
  {
   "cell_type": "markdown",
   "metadata": {
    "hidden": true
   },
   "source": [
    "Now we need $\\pmiss$ in terms of $\\Enp$, $\\qcm^2$ and $\\theta'$.\n",
    "\n",
    "The missing mass is defined by (note opposite sign definitions are sometimes used) $\\pmiss = \\qlab - \\pplab$, so \n",
    "\n",
    "$$\n",
    "\\pmiss^2 = \\qlab^2 - 2 \\qlab\\cdot\\pplab + \\pplab^2\n",
    "\\quad\\mbox{or}\\quad\n",
    " \\qlab\\cdot\\pplab = \\frac12 (\\qlab^2 + \\pplab^2 - \\pmiss^2)\n",
    "$$\n",
    "\n",
    "and we don't need to introduce a lab frame angle (although later we may decide we want to!). The definition and momentum conservation also means that $\\pmiss = \\pnlab$, so the on-shell condition for the final neutron says that $\\Enlab = \\sqrt{\\Mnp^2 + \\pmiss^2}$. \n",
    "\n",
    "**(Note that we define the proton and neutron energies in the lab frame to include the rest mass, in contrast to the definition for $E' = \\Enp$ in the cm frame.)**\n",
    "\n",
    "Energy conservation in the lab frame says:\n",
    "$$\n",
    "  \\omegalab + M_d = \\Eplab + \\Enlab\n",
    "  \\quad\\mbox{or}\\quad \\Eplab = \\omegalab + M_d - \\sqrt{\\Mnp^2 + \\pmiss^2}\n",
    "  \\;.\n",
    "$$\n",
    "\n",
    "We also have that the total four-momentum squared for the final proton and neutron is the same in each frame, which says that\n",
    "\n",
    "$$\n",
    "  (\\Eplab + \\Enlab)^2 - \\qlab^2 = \\Enp^2 \n",
    "     \\quad\\mbox{or}\\quad\n",
    "  \\Eplab + \\Enlab = (\\Enp^2 + \\qlab^2)^{1/2}\n",
    "$$\n",
    "\n",
    "but this doesn't give us independent information.\n",
    "\n",
    "We can calculate $p_p \\cdot q$ in both frames and equate:\n",
    "\n",
    "$$ \\begin{align*}\n",
    "  (p_p\\cdot q)_{\\rm cm} &= (\\Mnp + \\frac{1}{2}\\Enp)\\omegacm - \\pprime \\cdot \\qcm\n",
    "    = \\omegacm (\\Mnp + \\frac12 E') - |\\pprime||\\qcm| \\cos\\theta' \\\\\n",
    " (p_p\\cdot q)_{\\rm lab} &= \\Eplab \\omegalab - \\pplab \\cdot \\qlab \n",
    "   = \\Eplab \\omegalab - \\frac12 (\\qlab^2 + \\pplab^2 - \\pmiss^2)\n",
    "\\end{align*} $$\n",
    "\n",
    "Substituting,\n",
    "\n",
    "$$ \\begin{align*}\n",
    " \\omegacm (\\Mnp + \\frac12 E') - |\\pprime||\\qcm| \\cos\\theta' &=\n",
    "   \\Eplab \\omegalab - \\frac12 (\\qlab^2 + \\Eplab^2 - \\Mnp^2 - \\pmiss^2) \\\\\n",
    "   &= \\Eplab \\omegalab - \\frac12 (\\qlab^2 + \\Eplab^2 - (\\omegalab + \\Md - \\Eplab)^2) \\\\\n",
    "   &= \\Eplab \\omegalab - \\frac12 (\\qlab^2 + \\Eplab^2 - (\\omegalab + \\Md)^2 + 2(\\omegalab+\\Md)\\Eplab - \\Eplab^2) \\\\\n",
    "   &= \\frac12(\\omegalab + \\Md)^2 - \\frac12\\qlab^2 - \\Md \\Eplab \\\\\n",
    "   &= \\frac12(\\omegalab + \\Md)^2 - \\frac12\\qlab^2 - \\Md (\\omegalab + \\Md - \\Enlab)\n",
    "\\end{align*} $$\n",
    "\n",
    "which gives a relation between $\\Enlab$ and $\\cos\\theta'$ that can be solved for $\\pmiss^2$:\n",
    "\n",
    "$$\\begin{align*}\n",
    " \\pmiss^2 &= \\frac{1}{\\Md^2}\\left(\n",
    "   \\omegacm (\\Mnp + \\frac12 E') - |\\pprime||\\qcm| \\cos\\theta'\n",
    "  - \\frac12(\\omegalab + \\Md)^2 + \\frac12\\qlab^2 + \\Md (\\omegalab + \\Md)\n",
    " \\right)^2 - \\Mnp^2 \\\\\n",
    "  &= \\frac{1}{\\Md^2}\\left(\n",
    "   \\omegacm (\\Mnp + \\frac12 E') - |\\pprime||\\qcm| \\cos\\theta'\n",
    "  + \\frac12 Q^2 + \\frac12 \\Md^2 \n",
    " \\right)^2 - \\Mnp^2 \\\\\n",
    "\\end{align*}$$"
   ]
  },
  {
   "cell_type": "markdown",
   "metadata": {
    "hidden": true
   },
   "source": [
    "An alternative expression derived using the boosted neutron expressions above is\n",
    "\n",
    "$$\\begin{align*}\n",
    "  \\pmiss^2 &= (p_{n,{\\rm lab}} \\cos\\theta_n)^2 + (p_{n,{\\rm lab}} \\sin\\theta_n)^2 \\\\\n",
    "           &= \\left(-\\frac{\\Edcm}{\\Md} p' \\cos\\theta'  + \\frac{|\\qcm|}{\\Md} (\\Mnp + \\Enp/2)\\right)^2\n",
    "               + (-p' \\sin\\theta')^2 \\\\\n",
    "           &= \\frac{\\Edcm^2}{\\Md^2}p'{}^2 \\cos^2\\theta' + p'{}^2 \\sin^2\\theta'\n",
    "              -2 \\frac{\\Edcm}{\\Md} p' \\cos\\theta' \\frac{|\\qcm|}{\\Md} (\\Mnp + \\Enp/2)\n",
    "              + \\frac{\\qcm^2}{\\Md^2}(\\Mnp + \\Enp/2)^2 \\\\\n",
    "           &= p'{}^2 + \\frac{\\qcm^2}{\\Md^2} p'{}^2 \\cos^2\\theta'\n",
    "              -2 \\frac{\\Edcm}{\\Md} p' \\cos\\theta' \\frac{|\\qcm|}{\\Md} (\\Mnp + \\Enp/2)\n",
    "              + \\frac{\\qcm^2}{\\Md^2}(\\Mnp + \\Enp/2)^2\n",
    "\\end{align*}$$\n",
    "\n",
    "**This expression seems to behave more like we expect intuitively (and also doesn't make $\\pmiss^2 < 0$!). Try to find the error in the previous expression.**"
   ]
  },
  {
   "cell_type": "code",
   "execution_count": 112,
   "metadata": {
    "hidden": true
   },
   "outputs": [],
   "source": [
    "# Missing mass definitios\n",
    "\n",
    "def p_missing(E_np, qcm_sq, theta_p):\n",
    "    \"\"\"\n",
    "    Missing mass in MeV\n",
    "    \"\"\"\n",
    "    t = omega_lab(E_np, qcm_sq) + Md  # since it occurs twice\n",
    "    q_cm = np.sqrt(qcm_sq) * hbarc\n",
    "    p_p = p_prime(E_np) * hbarc\n",
    "    hc2 = hbarc ** 2\n",
    "#     p_missing_sq = ( omega_cm(E_np, qcm_sq) * (M_np + E_np / 2) \\\n",
    "#                      - p_p * q_cm * np.cos(theta_p) \\\n",
    "#                      - t**2 / 2  + q_lab_sq(E_np, qcm_sq) * hc2 / 2 + Md * t\n",
    "#                    )**2 / Md**2 - M_np**2\n",
    "#     p_missing_sq = ( omega_cm(E_np, qcm_sq) * (M_np + E_np / 2) \\\n",
    "#                      - p_p * q_cm * np.cos(theta_p) \\\n",
    "#                      + (Qsq_lab(E_np, qcm_sq)*1000**2 + Md**2) / 2 \\\n",
    "#                    )**2 / Md**2 - M_np**2\n",
    "    p_missing_sq = p_p**2 + ( q_cm**2 * p_p**2 * np.cos(theta_p)**2 \\\n",
    "                     - 2 * Ed_cm(qcm_sq) * q_cm * (M_np + E_np / 2) \\\n",
    "                         * p_p * np.cos(theta_p) \\\n",
    "                     + q_cm**2 * (M_np + E_np / 2)**2\n",
    "                   ) / Md**2\n",
    "    return np.sqrt(p_missing_sq)\n",
    "                 "
   ]
  },
  {
   "cell_type": "markdown",
   "metadata": {
    "heading_collapsed": true,
    "hidden": true
   },
   "source": [
    "### Calculate and print out various kinematic variables"
   ]
  },
  {
   "cell_type": "code",
   "execution_count": 83,
   "metadata": {
    "hidden": true
   },
   "outputs": [],
   "source": [
    "def cm_Kinematics(E_np, qcm_sq):\n",
    "    \"\"\"\n",
    "    Print all the relevant variables \n",
    "    \"\"\"\n",
    "    print(f\"E_np = E' = {E_np:.1f} MeV;   qcm_sq = {qcm_sq:.1f} fm^{-2}\")\n",
    "    print(f\"p' = {p_prime(E_np) * hbarc:.5f} MeV =  \", \n",
    "          f\"[nonrel: {p_prime_nonrel(E_np) * hbarc:.5f}]\")\n",
    "    print(f\"omega_cm = {omega_cm(E_np, qcm_sq):.5f} MeV;  \",\n",
    "          f\"omega_lab = {omega_lab(E_np, qcm_sq):.5f} MeV\")\n",
    "    print(f\"q_cm = {qcm(qcm_sq) * hbarc:.5f} MeV;  \",\n",
    "          f\"q_lab = {np.sqrt(q_lab_sq(E_np, qcm_sq)) * hbarc:.5f} MeV;  \",\n",
    "          f\"q_lab_alt = {np.sqrt(q_lab_sq_alt(E_np, qcm_sq)) * hbarc:.5f} MeV\")\n",
    "    print(f\"(Q^2)_com = {Qsq_cm(E_np, qcm_sq):.6f} GeV^2;  \",\n",
    "          f\"(x_d)_com = {x_deuteron_cm(E_np, qcm_sq):.6f}  \",\n",
    "          f\"check: (x_d)_com = {x_deuteron_cm_check(E_np, qcm_sq):.6f}\" )\n",
    "    print(f\"(Q^2)_lab = {Qsq_lab(E_np, qcm_sq):.6f} GeV^2;  \",\n",
    "          f\"(x_d)_lab = {x_deuteron_lab(E_np, qcm_sq):.6f}\")    "
   ]
  },
  {
   "cell_type": "markdown",
   "metadata": {
    "heading_collapsed": true
   },
   "source": [
    "## Kinematics used in \"Deuteron electrodisintegration with unitarily evolved potentials\""
   ]
  },
  {
   "cell_type": "markdown",
   "metadata": {
    "hidden": true
   },
   "source": [
    "Four points in the $(\\qcm^2, \\Enp)$ plane were marked 1, 2, 3, 3', 4.  The first point was close to bing on the quasifree ridge, so we expect $\\omegacm$ to be almost zero.  For all points we should find $Q^2>0$ and $\\omegacm \\ge 0$."
   ]
  },
  {
   "cell_type": "code",
   "execution_count": 84,
   "metadata": {
    "hidden": true,
    "scrolled": true
   },
   "outputs": [
    {
     "name": "stdout",
     "output_type": "stream",
     "text": [
      "E_np = E' = 100.0 MeV;   qcm_sq = 10.0 fm^-2\n",
      "p' = 310.47037 MeV =   [nonrel: 306.41777]\n",
      "omega_cm = 1.14794 MeV;   omega_lab = 208.80887 MeV\n",
      "q_cm = 623.99960 MeV;   q_lab = 658.00861 MeV;   q_lab_alt = 658.00861 MeV\n",
      "(Q^2)_com = 0.389374 GeV^2;   (x_d)_com = 0.994203   check: (x_d)_com = 0.994203\n",
      "(Q^2)_lab = 0.389374 GeV^2;   (x_d)_lab = 0.994203\n"
     ]
    }
   ],
   "source": [
    "cm_Kinematics(100, 10)  # Point 1 from first paper "
   ]
  },
  {
   "cell_type": "markdown",
   "metadata": {
    "hidden": true
   },
   "source": [
    "This is the point on the quasi-free ridge (more-or-less), which is confirmed by $x_d \\approx 1$."
   ]
  },
  {
   "cell_type": "code",
   "execution_count": 10,
   "metadata": {
    "hidden": true
   },
   "outputs": [
    {
     "name": "stdout",
     "output_type": "stream",
     "text": [
      "E_np = E' = 10.0;   qcm_sq = 4.0\n",
      "p' = 0.49171 fm^(-1)  [nonrel: 0.49105]\n",
      "omega_cm = -28.84616 MeV;   omega_lab = 53.56183 MeV\n",
      "q_cm = 2.00000 fm^(-1);   q_lab = 2.01303 fm^(-1);   q_lab_alt = 2.01303 fm^(-1)\n",
      "(Q^2)_com = 0.154918 GeV^2;   (x_d)_com = 1.542068   check: (x_d)_com = 1.542068\n",
      "(Q^2)_lab = 0.154918 GeV^2;   (x_d)_lab = 1.542068\n"
     ]
    }
   ],
   "source": [
    "cm_Kinematics(10, 4)  # Point 2 from first paper "
   ]
  },
  {
   "cell_type": "markdown",
   "metadata": {
    "hidden": true
   },
   "source": [
    "Note that $x_d > 1.5$, so it is not surprising that our two-body current is relevant.  $Q^2$ is low by JLab standards."
   ]
  },
  {
   "cell_type": "code",
   "execution_count": 11,
   "metadata": {
    "hidden": true
   },
   "outputs": [
    {
     "name": "stdout",
     "output_type": "stream",
     "text": [
      "E_np = E' = 30.0;   qcm_sq = 16.0\n",
      "p' = 0.85392 fm^(-1)  [nonrel: 0.85053]\n",
      "omega_cm = -127.08927 MeV;   omega_lab = 194.27436 MeV\n",
      "q_cm = 4.00000 fm^(-1);   q_lab = 4.06872 fm^(-1);   q_lab_alt = 4.06872 fm^(-1)\n",
      "(Q^2)_com = 0.606849 GeV^2;   (x_d)_com = 1.665413   check: (x_d)_com = 1.665413\n",
      "(Q^2)_lab = 0.606849 GeV^2;   (x_d)_lab = 1.665413\n"
     ]
    }
   ],
   "source": [
    "cm_Kinematics(30, 16)  # Point 3 from first paper "
   ]
  },
  {
   "cell_type": "markdown",
   "metadata": {
    "hidden": true
   },
   "source": [
    "Note that $x_d > 1.5$, so it is not surprising that our two-body current is relevant. \n",
    "<br>\n",
    "How does this kinematic point compare to those discussed in SRC papers?  $Q^2$ is below what they want (which is $1.4\\,\\mbox{GeV}^2$)."
   ]
  },
  {
   "cell_type": "code",
   "execution_count": 12,
   "metadata": {
    "hidden": true
   },
   "outputs": [
    {
     "name": "stdout",
     "output_type": "stream",
     "text": [
      "E_np = E' = 30.0;   qcm_sq = 25.0\n",
      "p' = 0.85392 fm^(-1)  [nonrel: 0.85053]\n",
      "omega_cm = -211.44658 MeV;   omega_lab = 280.08096 MeV\n",
      "q_cm = 5.00000 fm^(-1);   q_lab = 5.08590 fm^(-1);   q_lab_alt = 5.08590 fm^(-1)\n",
      "(Q^2)_com = 0.928729 GeV^2;   (x_d)_com = 1.767918   check: (x_d)_com = 1.767918\n",
      "(Q^2)_lab = 0.928729 GeV^2;   (x_d)_lab = 1.767918\n"
     ]
    }
   ],
   "source": [
    "cm_Kinematics(30, 25)  # Point 3' from first paper "
   ]
  },
  {
   "cell_type": "markdown",
   "metadata": {
    "hidden": true
   },
   "source": [
    "Note that $x_d > 1.5$, so it is not surprising that our two-body current is relevant.\n",
    "<br>\n",
    "How does this kinematic point compare to those discussed in SRC papers?  $Q^2$ is below what they want (which is $1.4\\,\\mbox{GeV}^2$, but getting there!"
   ]
  },
  {
   "cell_type": "code",
   "execution_count": 13,
   "metadata": {
    "hidden": true
   },
   "outputs": [
    {
     "name": "stdout",
     "output_type": "stream",
     "text": [
      "E_np = E' = 100.0;   qcm_sq = 0.5\n",
      "p' = 1.57339 fm^(-1)  [nonrel: 1.55285]\n",
      "omega_cm = 97.04118 MeV;   omega_lab = 107.68929 MeV\n",
      "q_cm = 0.70711 fm^(-1);   q_lab = 0.74565 fm^(-1);   q_lab_alt = 0.74565 fm^(-1)\n",
      "(Q^2)_com = 0.010052 GeV^2;   (x_d)_com = 0.049765   check: (x_d)_com = 0.049765\n",
      "(Q^2)_lab = 0.010052 GeV^2;   (x_d)_lab = 0.049765\n"
     ]
    }
   ],
   "source": [
    "cm_Kinematics(100, 0.5)  # Point 4 from first paper "
   ]
  },
  {
   "cell_type": "markdown",
   "metadata": {
    "hidden": true
   },
   "source": [
    "Note that $Q^2$ is almost zero here, which would correspond to a real photon (deuteron photodisintegration)."
   ]
  },
  {
   "cell_type": "markdown",
   "metadata": {},
   "source": [
    "## Kinematics used in \"Scale dependence of deuteron electrodisintegration\""
   ]
  },
  {
   "cell_type": "markdown",
   "metadata": {
    "heading_collapsed": true
   },
   "source": [
    "### Final state interaction investigation\n",
    "\n",
    "There are four figures with $\\Enp = 100\\,$MeV."
   ]
  },
  {
   "cell_type": "code",
   "execution_count": 14,
   "metadata": {
    "hidden": true
   },
   "outputs": [
    {
     "name": "stdout",
     "output_type": "stream",
     "text": [
      "E_np = E' = 100.0;   qcm_sq = 49.0\n",
      "p' = 1.57339 fm^(-1)  [nonrel: 1.55285]\n",
      "omega_cm = -351.51143 MeV;   omega_lab = 580.68875 MeV\n",
      "q_cm = 7.00000 fm^(-1);   q_lab = 7.38151 fm^(-1);   q_lab_alt = 7.38151 fm^(-1)\n",
      "(Q^2)_com = 1.784380 GeV^2;   (x_d)_com = 1.638327   check: (x_d)_com = 1.638327\n",
      "(Q^2)_lab = 1.784380 GeV^2;   (x_d)_lab = 1.638327\n"
     ]
    }
   ],
   "source": [
    "cm_Kinematics(100, 49)  # Figure 10 "
   ]
  },
  {
   "cell_type": "markdown",
   "metadata": {
    "hidden": true
   },
   "source": [
    "Not super-high $Q^2$ but pretty respectable; this seems to be in the regime of SRC experiments (greater than $1.4\\,\\mbox{GeV}^2$).  So I think we can claim this is consistent with the kinematics of interest for SRC (even if our calculation may not be consistent!).  Note that the nonrelativistic approximation for $\\pprime$ is off by less than 2\\%."
   ]
  },
  {
   "cell_type": "code",
   "execution_count": 15,
   "metadata": {
    "hidden": true
   },
   "outputs": [
    {
     "name": "stdout",
     "output_type": "stream",
     "text": [
      "E_np = E' = 100.0;   qcm_sq = 36.0\n",
      "p' = 1.57339 fm^(-1)  [nonrel: 1.55285]\n",
      "omega_cm = -240.19725 MeV;   omega_lab = 463.30777 MeV\n",
      "q_cm = 6.00000 fm^(-1);   q_lab = 6.32701 fm^(-1);   q_lab_alt = 6.32701 fm^(-1)\n",
      "(Q^2)_com = 1.344057 GeV^2;   (x_d)_com = 1.546696   check: (x_d)_com = 1.546696\n",
      "(Q^2)_lab = 1.344057 GeV^2;   (x_d)_lab = 1.546696\n"
     ]
    }
   ],
   "source": [
    "cm_Kinematics(100, 36)  # Figure 11"
   ]
  },
  {
   "cell_type": "code",
   "execution_count": 16,
   "metadata": {
    "hidden": true
   },
   "outputs": [
    {
     "name": "stdout",
     "output_type": "stream",
     "text": [
      "E_np = E' = 100.0;   qcm_sq = 10.0\n",
      "p' = 1.57339 fm^(-1)  [nonrel: 1.55285]\n",
      "omega_cm = 1.14794 MeV;   omega_lab = 208.80887 MeV\n",
      "q_cm = 3.16228 fm^(-1);   q_lab = 3.33463 fm^(-1);   q_lab_alt = 3.33463 fm^(-1)\n",
      "(Q^2)_com = 0.389374 GeV^2;   (x_d)_com = 0.994203   check: (x_d)_com = 0.994203\n",
      "(Q^2)_lab = 0.389374 GeV^2;   (x_d)_lab = 0.994203\n"
     ]
    }
   ],
   "source": [
    "cm_Kinematics(100, 10)  # Figure 12"
   ]
  },
  {
   "cell_type": "markdown",
   "metadata": {
    "hidden": true
   },
   "source": [
    "This one is essentially on the quasifree ridge, with $x_d \\approx 1$ and $\\omegacm$ (relatively) small."
   ]
  },
  {
   "cell_type": "code",
   "execution_count": 17,
   "metadata": {
    "hidden": true
   },
   "outputs": [
    {
     "name": "stdout",
     "output_type": "stream",
     "text": [
      "E_np = E' = 100.0;   qcm_sq = 1.0\n",
      "p' = 1.57339 fm^(-1)  [nonrel: 1.55285]\n",
      "omega_cm = 91.87261 MeV;   omega_lab = 113.13956 MeV\n",
      "q_cm = 1.00000 fm^(-1);   q_lab = 1.05450 fm^(-1);   q_lab_alt = 1.05450 fm^(-1)\n",
      "(Q^2)_com = 0.030497 GeV^2;   (x_d)_com = 0.143714   check: (x_d)_com = 0.143714\n",
      "(Q^2)_lab = 0.030497 GeV^2;   (x_d)_lab = 0.143714\n"
     ]
    }
   ],
   "source": [
    "cm_Kinematics(100, 1)  # Figure 13"
   ]
  },
  {
   "cell_type": "markdown",
   "metadata": {
    "hidden": true
   },
   "source": [
    "Note that $Q^2$ is almost zero here, which would correspond to a real photon (deuteron photodisintegration)."
   ]
  },
  {
   "cell_type": "markdown",
   "metadata": {
    "heading_collapsed": true
   },
   "source": [
    "### Kinematics for current evolution near threshold"
   ]
  },
  {
   "cell_type": "code",
   "execution_count": 18,
   "metadata": {
    "hidden": true,
    "scrolled": true
   },
   "outputs": [
    {
     "name": "stdout",
     "output_type": "stream",
     "text": [
      "E_np = E' = 20.0;   qcm_sq = 36.0\n",
      "p' = 0.69630 fm^(-1)  [nonrel: 0.69446]\n",
      "omega_cm = -320.19725 MeV;   omega_lab = 368.70257 MeV\n",
      "q_cm = 6.00000 fm^(-1);   q_lab = 6.07109 fm^(-1);   q_lab_alt = 6.07109 fm^(-1)\n",
      "(Q^2)_com = 1.299226 GeV^2;   (x_d)_com = 1.878733   check: (x_d)_com = 1.878733\n",
      "(Q^2)_lab = 1.299226 GeV^2;   (x_d)_lab = 1.878733\n"
     ]
    }
   ],
   "source": [
    "cm_Kinematics(20, 36)  # Figure 14"
   ]
  },
  {
   "cell_type": "markdown",
   "metadata": {
    "hidden": true
   },
   "source": [
    "This is very close to the start of the region where SRC physics is supposed to be manifested clearly, even though it seems like pretty low-energy kinematics for the neutron and proton.  But the photon three-momentum is large, so with a one-body current the recoil and spectator nucleons must have had a large relative momentum initially.  "
   ]
  },
  {
   "cell_type": "markdown",
   "metadata": {
    "heading_collapsed": true
   },
   "source": [
    "### Kinematics for heatmap plots"
   ]
  },
  {
   "cell_type": "markdown",
   "metadata": {
    "hidden": true
   },
   "source": [
    "Figure 8 has $\\qcm^2 = 36\\,\\mbox{fm}^{-2}$ but lets us pick $\\pprime$ to consider.  Here we compare $|\\pprime| = \\{1,2,3,4,5,6\\}\\,\\mbox{fm}^{-1}$."
   ]
  },
  {
   "cell_type": "code",
   "execution_count": 19,
   "metadata": {
    "hidden": true
   },
   "outputs": [
    {
     "name": "stdout",
     "output_type": "stream",
     "text": [
      "------------------------------------------------\n",
      "E_np = E' = 41.0;   qcm_sq = 36.0\n",
      "p' = 1.00000 fm^(-1)  [nonrel: 0.99458]\n",
      "omega_cm = -299.17469 MeV;   omega_lab = 393.56311 MeV\n",
      "q_cm = 6.00000 fm^(-1);   q_lab = 6.13834 fm^(-1);   q_lab_alt = 6.13834 fm^(-1)\n",
      "(Q^2)_com = 1.312246 GeV^2;   (x_d)_com = 1.777697   check: (x_d)_com = 1.777697\n",
      "(Q^2)_lab = 1.312246 GeV^2;   (x_d)_lab = 1.777697\n",
      "------------------------------------------------\n",
      "E_np = E' = 159.1;   qcm_sq = 36.0\n",
      "p' = 2.00000 fm^(-1)  [nonrel: 1.95893]\n",
      "omega_cm = -181.05791 MeV;   omega_lab = 533.24388 MeV\n",
      "q_cm = 6.00000 fm^(-1);   q_lab = 6.51619 fm^(-1);   q_lab_alt = 6.51619 fm^(-1)\n",
      "(Q^2)_com = 1.368970 GeV^2;   (x_d)_com = 1.368752   check: (x_d)_com = 1.368752\n",
      "(Q^2)_lab = 1.368970 GeV^2;   (x_d)_lab = 1.368752\n",
      "------------------------------------------------\n",
      "E_np = E' = 342.1;   qcm_sq = 36.0\n",
      "p' = 3.00000 fm^(-1)  [nonrel: 2.87205]\n",
      "omega_cm = 1.88098 MeV;   omega_lab = 749.58100 MeV\n",
      "q_cm = 6.00000 fm^(-1);   q_lab = 7.10141 fm^(-1);   q_lab_alt = 7.10141 fm^(-1)\n",
      "(Q^2)_com = 1.401748 GeV^2;   (x_d)_com = 0.997030   check: (x_d)_com = 0.997030\n",
      "(Q^2)_lab = 1.401748 GeV^2;   (x_d)_lab = 0.997030\n",
      "------------------------------------------------\n",
      "E_np = E' = 575.4;   qcm_sq = 36.0\n",
      "p' = 4.00000 fm^(-1)  [nonrel: 3.72484]\n",
      "omega_cm = 235.18303 MeV;   omega_lab = 1025.47584 MeV\n",
      "q_cm = 6.00000 fm^(-1);   q_lab = 7.84773 fm^(-1);   q_lab_alt = 7.84773 fm^(-1)\n",
      "(Q^2)_com = 1.346441 GeV^2;   (x_d)_com = 0.700033   check: (x_d)_com = 0.700033\n",
      "(Q^2)_lab = 1.346441 GeV^2;   (x_d)_lab = 0.700033\n",
      "------------------------------------------------\n",
      "E_np = E' = 846.1;   qcm_sq = 36.0\n",
      "p' = 5.00000 fm^(-1)  [nonrel: 4.51700]\n",
      "omega_cm = 505.93837 MeV;   omega_lab = 1345.66163 MeV\n",
      "q_cm = 6.00000 fm^(-1);   q_lab = 8.71386 fm^(-1);   q_lab_alt = 8.71386 fm^(-1)\n",
      "(Q^2)_com = 1.145778 GeV^2;   (x_d)_com = 0.453964   check: (x_d)_com = 0.453964\n",
      "(Q^2)_lab = 1.145778 GeV^2;   (x_d)_lab = 0.453964\n",
      "------------------------------------------------\n",
      "E_np = E' = 1144.3;   qcm_sq = 36.0\n",
      "p' = 6.00000 fm^(-1)  [nonrel: 5.25289]\n",
      "omega_cm = 804.09729 MeV;   omega_lab = 1698.25392 MeV\n",
      "q_cm = 6.00000 fm^(-1);   q_lab = 9.66766 fm^(-1);   q_lab_alt = 9.66766 fm^(-1)\n",
      "(Q^2)_com = 0.755179 GeV^2;   (x_d)_com = 0.237085   check: (x_d)_com = 0.237085\n",
      "(Q^2)_lab = 0.755179 GeV^2;   (x_d)_lab = 0.237085\n",
      "------------------------------------------------\n"
     ]
    }
   ],
   "source": [
    "for p_p in range(1, 7):  # Figure 8 explorations\n",
    "    print('------------------------------------------------')\n",
    "    cm_Kinematics(E_prime(p_p), 36) \n",
    "print('------------------------------------------------')    "
   ]
  },
  {
   "cell_type": "markdown",
   "metadata": {
    "heading_collapsed": true
   },
   "source": [
    "### Kinematics for other calculations"
   ]
  },
  {
   "cell_type": "code",
   "execution_count": 20,
   "metadata": {
    "hidden": true
   },
   "outputs": [
    {
     "name": "stdout",
     "output_type": "stream",
     "text": [
      "E_np = E' = 120.0;   qcm_sq = 40.0\n",
      "p' = 1.72802 fm^(-1)  [nonrel: 1.70106]\n",
      "omega_cm = -255.03364 MeV;   omega_lab = 524.06557 MeV\n",
      "q_cm = 6.32456 fm^(-1);   q_lab = 6.73669 fm^(-1);   q_lab_alt = 6.73669 fm^(-1)\n",
      "(Q^2)_com = 1.492460 GeV^2;   (x_d)_com = 1.518357   check: (x_d)_com = 1.518357\n",
      "(Q^2)_lab = 1.492460 GeV^2;   (x_d)_lab = 1.518357\n"
     ]
    }
   ],
   "source": [
    "cm_Kinematics(120, 40)  # From a Sushant figure with BD contribution"
   ]
  },
  {
   "cell_type": "code",
   "execution_count": 21,
   "metadata": {
    "hidden": true
   },
   "outputs": [
    {
     "name": "stdout",
     "output_type": "stream",
     "text": [
      "E_np = E' = 100.0;   qcm_sq = 100.0\n",
      "p' = 1.57339 fm^(-1)  [nonrel: 1.55285]\n",
      "omega_cm = -744.60293 MeV;   omega_lab = 995.20439 MeV\n",
      "q_cm = 10.00000 fm^(-1);   q_lab = 10.54502 fm^(-1);   q_lab_alt = 10.54502 fm^(-1)\n",
      "(Q^2)_com = 3.339322 GeV^2;   (x_d)_com = 1.788969   check: (x_d)_com = 1.788969\n",
      "(Q^2)_lab = 3.339322 GeV^2;   (x_d)_lab = 1.788969\n"
     ]
    }
   ],
   "source": [
    "cm_Kinematics(100, 100)  # cranking up Q^2 with x_d > 1.5"
   ]
  },
  {
   "cell_type": "code",
   "execution_count": 22,
   "metadata": {
    "hidden": true
   },
   "outputs": [
    {
     "name": "stdout",
     "output_type": "stream",
     "text": [
      "E_np = E' = 50.0;   qcm_sq = 100.0\n",
      "p' = 1.10532 fm^(-1)  [nonrel: 1.09803]\n",
      "omega_cm = -794.60293 MeV;   omega_lab = 922.62972 MeV\n",
      "q_cm = 10.00000 fm^(-1);   q_lab = 10.27844 fm^(-1);   q_lab_alt = 10.27844 fm^(-1)\n",
      "(Q^2)_com = 3.262361 GeV^2;   (x_d)_com = 1.885217   check: (x_d)_com = 1.885217\n",
      "(Q^2)_lab = 3.262361 GeV^2;   (x_d)_lab = 1.885217\n"
     ]
    }
   ],
   "source": [
    "cm_Kinematics(50, 100)  # cranking up Q^2 with x_d > 1.5"
   ]
  },
  {
   "cell_type": "code",
   "execution_count": 23,
   "metadata": {
    "hidden": true
   },
   "outputs": [
    {
     "name": "stdout",
     "output_type": "stream",
     "text": [
      "E_np = E' = 200.0;   qcm_sq = 100.0\n",
      "p' = 2.25378 fm^(-1)  [nonrel: 2.19606]\n",
      "omega_cm = -644.60293 MeV;   omega_lab = 1140.35373 MeV\n",
      "q_cm = 10.00000 fm^(-1);   q_lab = 11.07818 fm^(-1);   q_lab_alt = 11.07818 fm^(-1)\n",
      "(Q^2)_com = 3.478242 GeV^2;   (x_d)_com = 1.626211   check: (x_d)_com = 1.626211\n",
      "(Q^2)_lab = 3.478242 GeV^2;   (x_d)_lab = 1.626211\n"
     ]
    }
   ],
   "source": [
    "cm_Kinematics(200, 100)  # cranking up Q^2 with x_d > 1.5"
   ]
  },
  {
   "cell_type": "code",
   "execution_count": 24,
   "metadata": {
    "hidden": true
   },
   "outputs": [
    {
     "name": "stdout",
     "output_type": "stream",
     "text": [
      "E_np = E' = 300.0;   qcm_sq = 100.0\n",
      "p' = 2.79497 fm^(-1)  [nonrel: 2.68962]\n",
      "omega_cm = -544.60293 MeV;   omega_lab = 1285.50307 MeV\n",
      "q_cm = 10.00000 fm^(-1);   q_lab = 11.61133 fm^(-1);   q_lab_alt = 11.61133 fm^(-1)\n",
      "(Q^2)_com = 3.597163 GeV^2;   (x_d)_com = 1.491914   check: (x_d)_com = 1.491914\n",
      "(Q^2)_lab = 3.597163 GeV^2;   (x_d)_lab = 1.491914\n"
     ]
    }
   ],
   "source": [
    "cm_Kinematics(300, 100)  # cranking up Q^2 with x_d > 1.5 (or x = 1.5)"
   ]
  },
  {
   "cell_type": "code",
   "execution_count": 25,
   "metadata": {
    "hidden": true,
    "scrolled": true
   },
   "outputs": [
    {
     "name": "stdout",
     "output_type": "stream",
     "text": [
      "E_np = E' = 500.0;   qcm_sq = 60.0\n",
      "p' = 3.69619 fm^(-1)  [nonrel: 3.47228]\n",
      "omega_cm = -41.70369 MeV;   omega_lab = 1191.79663 MeV\n",
      "q_cm = 7.74597 fm^(-1);   q_lab = 9.82007 fm^(-1);   q_lab_alt = 9.82007 fm^(-1)\n",
      "(Q^2)_com = 2.334514 GeV^2;   (x_d)_com = 1.044362   check: (x_d)_com = 1.044362\n",
      "(Q^2)_lab = 2.334514 GeV^2;   (x_d)_lab = 1.044362\n"
     ]
    }
   ],
   "source": [
    "cm_Kinematics(500, 60)  # cranking up Q^2 with x_d > 1.5 (but not here)"
   ]
  },
  {
   "cell_type": "markdown",
   "metadata": {
    "heading_collapsed": true
   },
   "source": [
    "### Exploring missing mass as a function of $\\theta'$"
   ]
  },
  {
   "cell_type": "code",
   "execution_count": 113,
   "metadata": {
    "hidden": true
   },
   "outputs": [],
   "source": [
    "def p_miss_Kinematics(E_np, qcm_sq):\n",
    "    \"\"\"\n",
    "    Print out cm_Kinematics and then the missing mass (in MeV).\n",
    "    \"\"\"\n",
    "    theta_ps = [0., np.pi/2., np.pi]\n",
    "    cm_Kinematics(E_np, qcm_sq)\n",
    "    for theta_p in theta_ps:\n",
    "        print(f'p missing({theta_p*180/np.pi:.0f} deg) = ' \\\n",
    "               f'{p_missing(E_np, qcm_sq, theta_p):.1f} MeV')"
   ]
  },
  {
   "cell_type": "code",
   "execution_count": 114,
   "metadata": {
    "hidden": true
   },
   "outputs": [
    {
     "name": "stdout",
     "output_type": "stream",
     "text": [
      "E_np = E' = 10.0 MeV;   qcm_sq = 0.0 fm^-2\n",
      "p' = 97.02672 MeV =   [nonrel: 96.89781]\n",
      "omega_cm = 12.17210 MeV;   omega_lab = 12.27624 MeV\n",
      "q_cm = 13.95306 MeV;   q_lab = 14.04399 MeV;   q_lab_alt = 14.04399 MeV\n",
      "(Q^2)_com = 0.000047 GeV^2;   (x_d)_com = 0.002021   check: (x_d)_com = 0.002021\n",
      "(Q^2)_lab = 0.000047 GeV^2;   (x_d)_lab = 0.002021\n",
      "p missing(0 deg) = 90.0 MeV\n",
      "p missing(90 deg) = 97.3 MeV\n",
      "p missing(180 deg) = 104.1 MeV\n"
     ]
    }
   ],
   "source": [
    "p_miss_Kinematics(10, .005)"
   ]
  },
  {
   "cell_type": "code",
   "execution_count": 115,
   "metadata": {
    "hidden": true,
    "scrolled": false
   },
   "outputs": [
    {
     "name": "stdout",
     "output_type": "stream",
     "text": [
      "E_np = E' = 20.0 MeV;   qcm_sq = 36.0 fm^-2\n",
      "p' = 137.39858 MeV =   [nonrel: 137.03419]\n",
      "omega_cm = -320.19725 MeV;   omega_lab = 368.70257 MeV\n",
      "q_cm = 1183.95600 MeV;   q_lab = 1197.98461 MeV;   q_lab_alt = 1197.98461 MeV\n",
      "(Q^2)_com = 1.299226 GeV^2;   (x_d)_com = 1.878733   check: (x_d)_com = 1.878733\n",
      "(Q^2)_lab = 1.299226 GeV^2;   (x_d)_lab = 1.878733\n",
      "p missing(0 deg) = 436.5 MeV\n",
      "p missing(90 deg) = 614.5 MeV\n",
      "p missing(180 deg) = 761.5 MeV\n"
     ]
    }
   ],
   "source": [
    "p_miss_Kinematics(20, 36) # Figure 14"
   ]
  },
  {
   "cell_type": "code",
   "execution_count": 116,
   "metadata": {
    "hidden": true
   },
   "outputs": [
    {
     "name": "stdout",
     "output_type": "stream",
     "text": [
      "E_np = E' = 100.0 MeV;   qcm_sq = 10.0 fm^-2\n",
      "p' = 310.47037 MeV =   [nonrel: 306.41777]\n",
      "omega_cm = 1.14794 MeV;   omega_lab = 208.80887 MeV\n",
      "q_cm = 623.99960 MeV;   q_lab = 658.00861 MeV;   q_lab_alt = 658.00861 MeV\n",
      "(Q^2)_com = 0.389374 GeV^2;   (x_d)_com = 0.994203   check: (x_d)_com = 0.994203\n",
      "(Q^2)_lab = 0.389374 GeV^2;   (x_d)_lab = 0.994203\n",
      "p missing(0 deg) = 1.8 MeV\n",
      "p missing(90 deg) = 452.4 MeV\n",
      "p missing(180 deg) = 656.2 MeV\n"
     ]
    }
   ],
   "source": [
    "p_miss_Kinematics(100, 10)  # quasi-elastic kinematics so p_miss should be zero at theta' = 0\n"
   ]
  },
  {
   "cell_type": "code",
   "execution_count": 117,
   "metadata": {
    "hidden": true
   },
   "outputs": [
    {
     "name": "stdout",
     "output_type": "stream",
     "text": [
      "E_np = E' = 10.0 MeV;   qcm_sq = 4.0 fm^-2\n",
      "p' = 97.02672 MeV =   [nonrel: 96.89781]\n",
      "omega_cm = -28.84616 MeV;   omega_lab = 53.56183 MeV\n",
      "q_cm = 394.65200 MeV;   q_lab = 397.22408 MeV;   q_lab_alt = 397.22408 MeV\n",
      "(Q^2)_com = 0.154918 GeV^2;   (x_d)_com = 1.542068   check: (x_d)_com = 1.542068\n",
      "(Q^2)_lab = 0.154918 GeV^2;   (x_d)_lab = 1.542068\n",
      "p missing(0 deg) = 99.5 MeV\n",
      "p missing(90 deg) = 221.0 MeV\n",
      "p missing(180 deg) = 297.8 MeV\n"
     ]
    }
   ],
   "source": [
    "p_miss_Kinematics(10, 4)"
   ]
  },
  {
   "cell_type": "code",
   "execution_count": 118,
   "metadata": {
    "hidden": true,
    "scrolled": true
   },
   "outputs": [
    {
     "name": "stdout",
     "output_type": "stream",
     "text": [
      "E_np = E' = 100.0 MeV;   qcm_sq = 49.0 fm^-2\n",
      "p' = 310.47037 MeV =   [nonrel: 306.41777]\n",
      "omega_cm = -351.51143 MeV;   omega_lab = 580.68875 MeV\n",
      "q_cm = 1381.28200 MeV;   q_lab = 1456.56415 MeV;   q_lab_alt = 1456.56415 MeV\n",
      "(Q^2)_com = 1.784380 GeV^2;   (x_d)_com = 1.638327   check: (x_d)_com = 1.638327\n",
      "(Q^2)_lab = 1.784380 GeV^2;   (x_d)_lab = 1.638327\n",
      "p missing(0 deg) = 342.7 MeV\n",
      "p missing(90 deg) = 791.7 MeV\n",
      "p missing(180 deg) = 1113.9 MeV\n"
     ]
    }
   ],
   "source": [
    "p_miss_Kinematics(100, 49)"
   ]
  },
  {
   "cell_type": "code",
   "execution_count": 119,
   "metadata": {
    "hidden": true,
    "scrolled": true
   },
   "outputs": [
    {
     "name": "stdout",
     "output_type": "stream",
     "text": [
      "E_np = E' = 300.0 MeV;   qcm_sq = 100.0 fm^-2\n",
      "p' = 551.52112 MeV =   [nonrel: 530.73115]\n",
      "omega_cm = -544.60293 MeV;   omega_lab = 1285.50307 MeV\n",
      "q_cm = 1973.26000 MeV;   q_lab = 2291.21820 MeV;   q_lab_alt = 2291.21820 MeV\n",
      "(Q^2)_com = 3.597163 GeV^2;   (x_d)_com = 1.491914   check: (x_d)_com = 1.491914\n",
      "(Q^2)_lab = 3.597163 GeV^2;   (x_d)_lab = 1.491914\n",
      "p missing(0 deg) = 345.1 MeV\n",
      "p missing(90 deg) = 1271.5 MeV\n",
      "p missing(180 deg) = 1946.1 MeV\n"
     ]
    }
   ],
   "source": [
    "p_miss_Kinematics(300, 100)"
   ]
  },
  {
   "cell_type": "markdown",
   "metadata": {
    "heading_collapsed": true
   },
   "source": [
    "## Exploring the $Q^2, x_d$ kinematics in the $\\Enp$-$\\qcm^2$ plane"
   ]
  },
  {
   "cell_type": "code",
   "execution_count": 26,
   "metadata": {
    "hidden": true
   },
   "outputs": [],
   "source": [
    "x = np.linspace(0, 200, 200)\n",
    "y = np.linspace(0, 100, 200)\n",
    "X, Y = np.meshgrid(x, y)\n",
    "Z1 = Qsq_lab(X, Y)\n",
    "Z2 = x_deuteron_lab(X, Y)"
   ]
  },
  {
   "cell_type": "code",
   "execution_count": 27,
   "metadata": {
    "hidden": true
   },
   "outputs": [],
   "source": [
    "mpl.rcParams['text.usetex'] = True\n",
    "mpl.rcParams['figure.dpi'] = 150\n",
    "mpl.rcParams['font.family'] = 'serif'\n",
    "mpl.rc('savefig', transparent=False, bbox='tight', pad_inches=0.05, format='pdf')"
   ]
  },
  {
   "cell_type": "code",
   "execution_count": 28,
   "metadata": {
    "hidden": true
   },
   "outputs": [
    {
     "data": {
      "image/png": "[encoded data removed]",
      "text/plain": [
       "<Figure size 750x600 with 2 Axes>"
      ]
     },
     "metadata": {
      "needs_background": "light"
     },
     "output_type": "display_data"
    }
   ],
   "source": [
    "fig, ax = plt.subplots(figsize=(5,4))\n",
    "\n",
    "CS = ax.contourf(Y, X, Z1, levels=np.linspace(0, 4, 11), cmap='jet', \n",
    "                 antialiased=True)\n",
    "ax.set_title(r'$Q^2$ [GeV$^2$]')\n",
    "ax.set_xlabel(r'${\\bf q}_{\\rm cm}^2$ [fm$^{-2}$]')\n",
    "ax.set_ylabel(r'$E_{np}$ [MeV]')\n",
    "cb = fig.colorbar(CS, shrink=1, extend='neither')\n",
    "cb.set_label(r'$Q^2$ [GeV$^2$]', rotation=0, labelpad=10)\n",
    "\n",
    "\n",
    "fig.tight_layout()"
   ]
  },
  {
   "cell_type": "code",
   "execution_count": 29,
   "metadata": {
    "hidden": true
   },
   "outputs": [
    {
     "data": {
      "image/png": "[encoded data removed]",
      "text/plain": [
       "<Figure size 750x600 with 2 Axes>"
      ]
     },
     "metadata": {
      "needs_background": "light"
     },
     "output_type": "display_data"
    }
   ],
   "source": [
    "fig, ax = plt.subplots(figsize=(5,4))\n",
    "\n",
    "CS = ax.contourf(Y, X, Z2, levels=np.linspace(0, 2, 11), cmap='jet', \n",
    "                 antialiased=True)\n",
    "ax.set_title(r'Bjorken $x_d$')\n",
    "ax.set_xlabel(r'${\\bf q}_{\\rm cm}^2$ [fm$^{-2}$]')\n",
    "ax.set_ylabel(r'$E_{np}$ [MeV]')\n",
    "cb = fig.colorbar(CS, shrink=1, extend='neither')\n",
    "cb.set_label(r'$x_d$', rotation=0, labelpad=-1)\n",
    "\n",
    "fig.tight_layout()"
   ]
  },
  {
   "cell_type": "code",
   "execution_count": null,
   "metadata": {
    "hidden": true
   },
   "outputs": [],
   "source": []
  },
  {
   "cell_type": "code",
   "execution_count": null,
   "metadata": {
    "hidden": true
   },
   "outputs": [],
   "source": []
  }
 ],
 "metadata": {
  "kernelspec": {
   "display_name": "Python 3 (ipykernel)",
   "language": "python",
   "name": "python3"
  },
  "language_info": {
   "codemirror_mode": {
    "name": "ipython",
    "version": 3
   },
   "file_extension": ".py",
   "mimetype": "text/x-python",
   "name": "python",
   "nbconvert_exporter": "python",
   "pygments_lexer": "ipython3",
   "version": "3.9.16"
  }
 },
 "nbformat": 4,
 "nbformat_minor": 2
}

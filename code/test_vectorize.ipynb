{
 "cells": [
  {
   "cell_type": "markdown",
   "id": "524b23ba",
   "metadata": {},
   "source": [
    "# Testing integration with `vegas`\n",
    "\n",
    "__Author:__ A. J. Tropiano [atropiano@anl.gov]<br/>\n",
    "__Date:__ April 13, 2023\n",
    "\n",
    "In this notebook, we test how to vectorize Python functions. We will compare brute force looping to `numpy.vectorize`, and potential speed-ups using Jax or Numba.\n",
    "\n",
    "_Last update:_ April 13, 2023"
   ]
  },
  {
   "cell_type": "code",
   "execution_count": null,
   "id": "ee229ef1",
   "metadata": {},
   "outputs": [],
   "source": [
    "# Python imports\n",
    "import numpy as np\n",
    "from scipy.special import sph_harm\n",
    "from sympy.physics.quantum.cg import CG"
   ]
  },
  {
   "cell_type": "markdown",
   "id": "60d7cd3d",
   "metadata": {},
   "source": [
    "## Calculating arrays of Clebsch-Gordan coefficients"
   ]
  },
  {
   "cell_type": "code",
   "execution_count": null,
   "id": "16293f72",
   "metadata": {
    "code_folding": [
     0
    ]
   },
   "outputs": [],
   "source": [
    "def compute_clebsch_gordan_table(j_max):\n",
    "    \"\"\"\n",
    "    Calculate Clebsch-Gordan coefficients for combinations of j and m_j up\n",
    "    to j_max.\n",
    "    \n",
    "    Parameters\n",
    "    ----------\n",
    "    j_max : int\n",
    "        Maximum j value for j_1, j_2, and j_3. This also constrains m_j.\n",
    "    \n",
    "    Returns\n",
    "    -------\n",
    "    cg_table : dict\n",
    "        Table of Clebsch-Gordan coefficients <j_1 m_j_1 j_2 m_j_2|j_3 m_j_3>\n",
    "        for each combination of angular momenta.\n",
    "        \n",
    "    \"\"\"\n",
    "        \n",
    "    cg_table = {}\n",
    "        \n",
    "    j_array = np.arange(0, j_max+1/2, 1/2)\n",
    "    \n",
    "    for j_1 in j_array:\n",
    "        for j_2 in j_array:\n",
    "            j_3_array = np.arange(abs(j_1-j_2), j_1+j_2+1/2)\n",
    "            for j_3 in j_3_array:\n",
    "                for m_1 in np.arange(-j_1, j_1+1, 1):\n",
    "                    for m_2 in np.arange(-j_2, j_2+1, 1):\n",
    "                        m_3 = m_1 + m_2\n",
    "                        if abs(m_3) <= j_3:\n",
    "                            cg_table[(j_1,m_1,j_2,m_2,j_3,m_3)] = float(\n",
    "                                CG(j_1,m_1,j_2,m_2,j_3,m_3).doit()\n",
    "                            )\n",
    "                                \n",
    "    return cg_table"
   ]
  },
  {
   "cell_type": "code",
   "execution_count": null,
   "id": "810d3386",
   "metadata": {},
   "outputs": [],
   "source": [
    "# Get CG table for fast look-up\n",
    "cg_table = compute_clebsch_gordan_table(3)"
   ]
  },
  {
   "cell_type": "code",
   "execution_count": null,
   "id": "77632219",
   "metadata": {},
   "outputs": [],
   "source": [
    "# Batch of spin values\n",
    "# ..."
   ]
  },
  {
   "cell_type": "code",
   "execution_count": null,
   "id": "d364fcf7",
   "metadata": {},
   "outputs": [],
   "source": [
    "# Get array of CG's by brute force looping"
   ]
  },
  {
   "cell_type": "code",
   "execution_count": null,
   "id": "3dc1260b",
   "metadata": {},
   "outputs": [],
   "source": [
    "# Get array of CG's using numpy.vectorize"
   ]
  },
  {
   "cell_type": "code",
   "execution_count": null,
   "id": "84e965a9",
   "metadata": {},
   "outputs": [],
   "source": [
    "# Get array of CG's using jax.numpy.vectorize"
   ]
  },
  {
   "cell_type": "code",
   "execution_count": null,
   "id": "55917119",
   "metadata": {},
   "outputs": [],
   "source": [
    "# Comparison of the three\n",
    "# ..."
   ]
  },
  {
   "cell_type": "markdown",
   "id": "01d4c2de",
   "metadata": {},
   "source": [
    "## Calculating spherical harmonics given arrays of $l$, $m_l$, $\\theta$, and $\\phi$"
   ]
  },
  {
   "cell_type": "code",
   "execution_count": null,
   "id": "78e5f4f5",
   "metadata": {},
   "outputs": [],
   "source": [
    "# Brute force looping"
   ]
  },
  {
   "cell_type": "code",
   "execution_count": null,
   "id": "40b1befe",
   "metadata": {},
   "outputs": [],
   "source": [
    "# numpy.vectorize"
   ]
  },
  {
   "cell_type": "code",
   "execution_count": null,
   "id": "02ebb485",
   "metadata": {},
   "outputs": [],
   "source": [
    "# jax"
   ]
  },
  {
   "cell_type": "code",
   "execution_count": null,
   "id": "71ecd56c",
   "metadata": {},
   "outputs": [],
   "source": [
    "# Comparison of the three\n",
    "# ..."
   ]
  },
  {
   "cell_type": "markdown",
   "id": "f0ff6680",
   "metadata": {},
   "source": [
    "## Vectorizing $\\psi_\\alpha(\\mathbf{q};\\sigma)$"
   ]
  },
  {
   "cell_type": "code",
   "execution_count": null,
   "id": "2b3e7ae6",
   "metadata": {
    "code_folding": [
     0
    ]
   },
   "outputs": [],
   "source": [
    "def psi(sp_state, q_vector, sigma, cg_table, phi_functions):\n",
    "    \"\"\"Single-particle wave function including the Clebsch-Gordan coefficient \n",
    "    and spherical harmonic.\n",
    "    \"\"\"\n",
    "        \n",
    "    # Unpack q_vector into magnitude and angles\n",
    "    q, theta, phi = get_vector_components(q_vector)\n",
    "        \n",
    "    # Calculate \\phi_\\alpha(q)\n",
    "    phi_sp_wf = phi_functions[get_orbital_file_name(sp_state)](q)\n",
    "    \n",
    "    # m_l is determined by m_j and \\sigma\n",
    "    m_l = sp_state.m_j - sigma\n",
    "        \n",
    "    # Check that m_l is allowed\n",
    "    if abs(m_l) > sp_state.l:\n",
    "        return 0\n",
    "        \n",
    "    # Clebsch-Gordan coefficient\n",
    "    cg = cg_table[(sp_state.l, m_l, 1/2, sigma, sp_state.j, sp_state.m_j)]\n",
    "        \n",
    "    # Spherical harmonic\n",
    "    Y_lm = sph_harm(m_l, sp_state.l, phi, theta)\n",
    "\n",
    "    return phi_sp_wf * cg * Y_lm"
   ]
  },
  {
   "cell_type": "code",
   "execution_count": null,
   "id": "72fb1a58",
   "metadata": {},
   "outputs": [],
   "source": [
    "# Compare the cost of looping over N points in (sp_state, q, theta, phi) space\n",
    "# to a vectorized version of this function\n",
    "\n",
    "# Note: cg_table and phi_functions might need to be attributes of a class"
   ]
  },
  {
   "cell_type": "code",
   "execution_count": null,
   "id": "40bc28c7",
   "metadata": {},
   "outputs": [],
   "source": []
  },
  {
   "cell_type": "code",
   "execution_count": null,
   "id": "9eb893b7",
   "metadata": {},
   "outputs": [],
   "source": []
  },
  {
   "cell_type": "code",
   "execution_count": null,
   "id": "5512bdb2",
   "metadata": {},
   "outputs": [],
   "source": []
  },
  {
   "cell_type": "code",
   "execution_count": null,
   "id": "cfae5caf",
   "metadata": {},
   "outputs": [],
   "source": []
  },
  {
   "cell_type": "markdown",
   "id": "124eec98",
   "metadata": {},
   "source": []
  }
 ],
 "metadata": {
  "kernelspec": {
   "display_name": "Python 3 (ipykernel)",
   "language": "python",
   "name": "python3"
  },
  "language_info": {
   "codemirror_mode": {
    "name": "ipython",
    "version": 3
   },
   "file_extension": ".py",
   "mimetype": "text/x-python",
   "name": "python",
   "nbconvert_exporter": "python",
   "pygments_lexer": "ipython3",
   "version": "3.9.13"
  }
 },
 "nbformat": 4,
 "nbformat_minor": 5
}

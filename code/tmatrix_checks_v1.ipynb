{
 "cells": [
  {
   "cell_type": "code",
   "execution_count": 1,
   "id": "21a76c90",
   "metadata": {},
   "outputs": [],
   "source": [
    "# Python imports\n",
    "from matplotlib.offsetbox import AnchoredText\n",
    "import matplotlib.pyplot as plt\n",
    "%matplotlib inline\n",
    "import numpy as np\n",
    "from numpy.linalg import solve\n",
    "from scipy.interpolate import RectBivariateSpline"
   ]
  },
  {
   "cell_type": "code",
   "execution_count": 2,
   "id": "75366332",
   "metadata": {},
   "outputs": [],
   "source": [
    "# Imports from scripts\n",
    "from scripts.figures import set_rc_parameters, label_channel\n",
    "from scripts.potentials import Potential\n",
    "from scripts.tools import (\n",
    "    build_coupled_channel_matrix, decompose_coupled_channel_matrix\n",
    ")"
   ]
  },
  {
   "cell_type": "code",
   "execution_count": 3,
   "id": "a4e2d19b",
   "metadata": {},
   "outputs": [],
   "source": [
    "# Run this cell to turn on customized matplotlib graphics\n",
    "set_rc_parameters()"
   ]
  },
  {
   "cell_type": "code",
   "execution_count": 4,
   "id": "fec35b40",
   "metadata": {
    "code_folding": []
   },
   "outputs": [],
   "source": [
    "class TMatrix(Potential):\n",
    "    \"\"\"Class that computes the half off-shell T-matrix.\"\"\"\n",
    "    \n",
    "    def __init__(self, kvnn, channel, kmax, kmid, ntot):\n",
    "        \n",
    "        # Set channel argument to be compatible with potential functions\n",
    "        self.tmatrix_channel = channel\n",
    "        potential_channel = coupled_channel_shorthand(channel)\n",
    "        \n",
    "        # Initialize Potential class\n",
    "        super().__init__(kvnn, potential_channel, kmax, kmid, ntot)\n",
    "        \n",
    "        # Get potential in units fm\n",
    "        V_matrix = self.load_potential()\n",
    "\n",
    "        # Load momenta and weights in fm^-1\n",
    "        self.k_array, self.k_weights = self.load_mesh()\n",
    "        \n",
    "        # Maximum momentum value in fm^-1\n",
    "        self.k_max = round(max(self.k_array))\n",
    "        \n",
    "        # Number of points in momentum mesh\n",
    "        self.ntot = ntot\n",
    "        \n",
    "        # Interpolate potential\n",
    "        if self.coupled_channel_bool:\n",
    "            \n",
    "            # Get V sub-blocks\n",
    "            V11, V12, V21, V22 = decompose_coupled_channel_matrix(V_matrix)\n",
    "        \n",
    "            # Interpolate each sub-block separately\n",
    "            self.V11_func = RectBivariateSpline(self.k_array, self.k_array, V11)\n",
    "            self.V12_func = RectBivariateSpline(self.k_array, self.k_array, V12)\n",
    "            self.V21_func = RectBivariateSpline(self.k_array, self.k_array, V21)\n",
    "            self.V22_func = RectBivariateSpline(self.k_array, self.k_array, V22)\n",
    "            \n",
    "        else:\n",
    "            \n",
    "            self.V_func = RectBivariateSpline(self.k_array, self.k_array,\n",
    "                                              V_matrix)\n",
    "\n",
    "    def evaluate(self, pp):\n",
    "        \"\"\"Compute the T-matrix in units [fm] where we use the mesh k_i and\n",
    "        p' with E' = p'^2 / M.\n",
    "        \"\"\"\n",
    "        \n",
    "        # First ntot elements of D_vector [fm^-1]\n",
    "        D_vector = (2.0/np.pi * (self.k_weights * self.k_array ** 2)\n",
    "                    / (self.k_array ** 2 - pp ** 2))\n",
    "        # ntot+1 element of D_vector [fm^-1]\n",
    "#         D_last = (\n",
    "#             -2.0/np.pi * pp ** 2\n",
    "#             * (np.sum(self.k_weights / (self.k_array ** 2 - pp ** 2))\n",
    "#                + np.log((self.k_max + pp) / (self.k_max - pp)) / (2.0 * pp))\n",
    "#         ) + 1j * pp\n",
    "        ### TESTING\n",
    "        D_last = (\n",
    "            -2.0/np.pi * pp ** 2\n",
    "            * (np.sum(self.k_weights / (self.k_array ** 2 - pp ** 2))\n",
    "               + np.log((self.k_max + pp) / (self.k_max - pp)) / (2.0 * pp))\n",
    "        ) - 1j * pp\n",
    "        # Append ntot+1 element to D_vector\n",
    "        D_vector = np.append(D_vector, D_last)  # Length is now ntot+1\n",
    "        \n",
    "        # p' can be appended to end of k_array regardless of its value\n",
    "        k_full = np.append(self.k_array, pp)\n",
    "        \n",
    "        # Create meshes for interpolation\n",
    "        k_grid, kp_grid = np.meshgrid(k_full, k_full, indexing='ij')\n",
    "        \n",
    "        if self.coupled_channel_bool:\n",
    "            \n",
    "            # Append p' points by using the interpolated potential\n",
    "            V11_matrix = self.V11_func.ev(k_grid, kp_grid)\n",
    "            V12_matrix = self.V12_func.ev(k_grid, kp_grid)\n",
    "            V21_matrix = self.V21_func.ev(k_grid, kp_grid)\n",
    "            V22_matrix = self.V22_func.ev(k_grid, kp_grid)\n",
    "            \n",
    "            # Build coupled-channel matrix\n",
    "            V_matrix = build_coupled_channel_matrix(V11_matrix, V12_matrix,\n",
    "                                                    V21_matrix, V22_matrix)\n",
    "\n",
    "            # Build F matrix where F_ij = delta_ij + D_j V_ij\n",
    "            F_matrix = (\n",
    "                np.identity(2 * (self.ntot + 1))\n",
    "                + np.tile(D_vector, (2 * (self.ntot + 1), 2)) * V_matrix\n",
    "            )\n",
    "            \n",
    "        else:\n",
    "            \n",
    "            # Append p' points by using the interpolated potential\n",
    "            V_matrix = self.V_func.ev(k_grid, kp_grid)\n",
    "            \n",
    "            # Build F matrix where F_ij = delta_ij + D_j V_ij\n",
    "            F_matrix = (\n",
    "                np.identity(self.ntot + 1)\n",
    "                + np.tile(D_vector, (self.ntot + 1, 1)) * V_matrix\n",
    "            )\n",
    "\n",
    "        # Calculate T-matrix in fm\n",
    "        T_matrix = solve(F_matrix, V_matrix)\n",
    "\n",
    "        # Shape is (ntot+1, ntot+1) or (2*ntot+2, 2*ntot+2)\n",
    "        return T_matrix\n",
    "    \n",
    "    def half_offshell(self, T_matrix):\n",
    "        \"\"\"Returns the half off-shell T-matrix T_{L, L'}(k_i, p') given a\n",
    "        sub-block of the coupled-channel. Works for non-coupled-channels too.\n",
    "        \"\"\"\n",
    "        \n",
    "        if self.tmatrix_channel in ['3S1-3D1', '3P2-3F2', '3D3-3G3']:\n",
    "            \n",
    "            k_i_start, k_i_end = 0, self.ntot\n",
    "            pp_index = 2 * self.ntot + 1\n",
    "            \n",
    "        elif self.tmatrix_channel in ['3D1-3S1', '3F2-3P2', '3G3-3D3']:\n",
    "            \n",
    "            k_i_start, k_i_end = self.ntot + 1, 2 * self.ntot + 1\n",
    "            pp_index = self.ntot\n",
    "            \n",
    "        elif self.tmatrix_channel in ['3D1-3D1', '3F2-3F2', '3G3-3G3']:\n",
    "            \n",
    "            k_i_start, k_i_end = self.ntot + 1, 2 * self.ntot + 1\n",
    "            pp_index = 2 * self.ntot + 1\n",
    "        \n",
    "        else:\n",
    "            \n",
    "            k_i_start, k_i_end = 0, self.ntot\n",
    "            pp_index = self.ntot\n",
    "            \n",
    "        # Array with shape (ntot, 1)\n",
    "        return T_matrix[k_i_start:k_i_end, pp_index]\n",
    "    \n",
    "    def onshell(self, T_matrix):\n",
    "        \"\"\"Returns the on-shell T-matrix T_{L, L'}(p', p') given a sub-block of\n",
    "        the coupled-channel. Works for non-coupled-channels too.\n",
    "        \"\"\"\n",
    "        \n",
    "        if self.tmatrix_channel in ['3S1-3D1', '3P2-3F2', '3D3-3G3']:\n",
    "            \n",
    "            ipp_index = self.ntot\n",
    "            jpp_index = 2 * self.ntot + 1\n",
    "            \n",
    "        elif self.tmatrix_channel in ['3D1-3S1', '3F2-3P2', '3G3-3D3']:\n",
    "            \n",
    "            ipp_index = 2 * self.ntot + 1\n",
    "            jpp_index = self.ntot\n",
    "            \n",
    "        elif self.tmatrix_channel in ['3D1-3D1', '3F2-3F2', '3G3-3G3']:\n",
    "            \n",
    "            ipp_index = 2 * self.ntot + 1\n",
    "            jpp_index = 2 * self.ntot + 1\n",
    "        \n",
    "        else:\n",
    "            \n",
    "            ipp_index = self.ntot\n",
    "            jpp_index = self.ntot\n",
    "            \n",
    "        # Scalar\n",
    "        return T_matrix[ipp_index, jpp_index]\n",
    "        \n",
    "    def test_phase_shifts(self, k0):\n",
    "        \"\"\"Get phase shift from the T-matrix with scattering energy\n",
    "            E = (\\hbar*k0)^2 / M.\n",
    "        Note, this won't work for coupled-channels yet.\n",
    "        \"\"\"\n",
    "\n",
    "        # Build D_vector\n",
    "        # First ntot elements of D_vector [fm^-1]\n",
    "        D_vector = (2.0/np.pi * (self.k_weights * self.k_array ** 2)\n",
    "                    / (self.k_array ** 2 - k0 ** 2))\n",
    "        # ntot+1 element of D_vector [fm^-1]\n",
    "        D_last = (\n",
    "            -2.0/np.pi * k0 ** 2\n",
    "            * (np.sum(self.k_weights / (self.k_array ** 2 - k0 ** 2))\n",
    "               + np.log((self.k_max + k0) / (self.k_max - k0)) / (2.0 * k0))\n",
    "        ) + 1j * k0\n",
    "        ### TESTING\n",
    "#         D_last = (\n",
    "#             -2.0/np.pi * k0 ** 2\n",
    "#             * (np.sum(self.k_weights / (self.k_array ** 2 - k0 ** 2))\n",
    "#                + np.log((self.k_max + k0) / (self.k_max - k0)) / (2.0 * k0))\n",
    "#         ) - 1j * k0\n",
    "        # Append ntot+1 element to D_vector\n",
    "        D_vector = np.append(D_vector, D_last)  # Length is now ntot+1\n",
    "        \n",
    "        # k0 can be appended to end of k_array regardless of its value\n",
    "        k_full = np.append(self.k_array, k0)\n",
    "        \n",
    "        # Create meshes for interpolation\n",
    "        k_grid, kp_grid = np.meshgrid(k_full, k_full, indexing='ij')\n",
    "        \n",
    "        # Append k0 points by using the interpolated potential\n",
    "        V_matrix = self.V_func.ev(k_grid, kp_grid)\n",
    "            \n",
    "        # Build F matrix where F_ij = delta_ij + D_j V_ij\n",
    "        F_matrix = (\n",
    "            np.identity(self.ntot + 1)\n",
    "            + np.tile(D_vector, (self.ntot + 1, 1)) * V_matrix\n",
    "        )\n",
    "            \n",
    "        # Calculate T-matrix in fm\n",
    "        T_matrix = solve(F_matrix, V_matrix)\n",
    "        \n",
    "        # Phase shift \\delta in degrees\n",
    "        delta = np.angle(-k0 * T_matrix[-1, -1], deg=True)\n",
    "        \n",
    "        return delta"
   ]
  },
  {
   "cell_type": "code",
   "execution_count": 5,
   "id": "490de504",
   "metadata": {
    "code_folding": [
     0
    ]
   },
   "outputs": [],
   "source": [
    "def coupled_channel_shorthand(channel_full):\n",
    "    \"\"\"Convert partial wave channel string (e.g., 3D1-3S1) to shorthand\n",
    "    notation (e.g., 3S1).\n",
    "    \"\"\"\n",
    "    \n",
    "    if channel_full[:3] == '3D1':\n",
    "        channel_short = '3S1'\n",
    "    elif channel_full[:3] == '3F2':\n",
    "        channel_short = '3P2'\n",
    "    elif channel_full[:3] == '3G3':\n",
    "        channel_short == '3D3'\n",
    "    else:\n",
    "        channel_short = channel_full[:3]\n",
    "        \n",
    "    return channel_short"
   ]
  },
  {
   "cell_type": "code",
   "execution_count": 6,
   "id": "14f35e63",
   "metadata": {
    "code_folding": [
     0
    ]
   },
   "outputs": [],
   "source": [
    "def compute_phase_shifts(e_array, kvnn, channel, kmax=30.0, kmid=4.0, ntot=120):\n",
    "    \"\"\"Check phase shifts of T-matrix.\"\"\"\n",
    "    \n",
    "    delta_array = np.zeros_like(e_array)\n",
    "    \n",
    "    tmatrix = TMatrix(kvnn, channel, kmax, kmid, ntot)\n",
    "    \n",
    "    for i, ie in enumerate(e_array):\n",
    "        \n",
    "        # Convert energy E_lab [MeV] to relative momentum [fm^-1]\n",
    "        k0 = np.sqrt(ie / 2.0 / Potential.hbar_sq_over_m)\n",
    "        \n",
    "        delta_array[i] = tmatrix.test_phase_shifts(k0)\n",
    "\n",
    "    return delta_array"
   ]
  },
  {
   "cell_type": "code",
   "execution_count": 7,
   "id": "8d633635",
   "metadata": {
    "code_folding": [
     0
    ]
   },
   "outputs": [],
   "source": [
    "def compare_phase_shifts(channel, x_limits=(0,100), y_limits=None):\n",
    "    \"\"\"Compare phase shifts to PWA93 data from NN-online.\"\"\"\n",
    "    \n",
    "    # Get PWA93 data\n",
    "    filename = f\"pwa93_{channel}np.txt\"\n",
    "    data = np.loadtxt(\"../data/phase_shifts/\" + filename)\n",
    "    elab_pwa93_array = data[:, 0]\n",
    "    delta_pwa93_array = data[:, 1]\n",
    "    \n",
    "    # Compare to T-matrix phase shifts from AV18\n",
    "    kvnn = 6\n",
    "    elab_av18_array = np.linspace(0.001, 100.0, 100)\n",
    "    delta_av18_array = compute_phase_shifts(elab_av18_array, kvnn, channel)\n",
    "    \n",
    "    # Compare phase shifts\n",
    "    plt.close('all')\n",
    "    f, ax = plt.subplots(figsize=(4, 3))\n",
    "    ax.plot(elab_av18_array, delta_av18_array, label='AV18')\n",
    "    ax.plot(elab_pwa93_array, delta_pwa93_array, label='PWA93', ls='dashdot')\n",
    "    ax.set_xlim(x_limits)\n",
    "    ax.set_ylim(y_limits)\n",
    "    ax.legend(fontsize=12)\n",
    "    ax.set_xlabel(r\"E$_{\\rm{lab}}$ [MeV]\", fontsize=16)\n",
    "    ax.set_ylabel(r\"$\\delta$ [deg]\", fontsize=16)\n",
    "    title = label_channel(channel, label_coupled_channel=False)\n",
    "    ax.set_title(title, fontsize=16);"
   ]
  },
  {
   "cell_type": "code",
   "execution_count": 8,
   "id": "151ab8a7",
   "metadata": {
    "code_folding": [
     0
    ]
   },
   "outputs": [],
   "source": [
    "def get_S_matrix_from_phase_shifts(elab_array, delta_array):\n",
    "    \"\"\"Compute the S-matrix using S(E) = exp(2i * \\delta(E)).\"\"\"\n",
    "    \n",
    "    # Convert phase shifts to radians\n",
    "    delta_radians_array = np.radians(delta_array)\n",
    "    \n",
    "    return np.exp(2j * delta_radians_array)"
   ]
  },
  {
   "cell_type": "code",
   "execution_count": 9,
   "id": "f8ca8ab5",
   "metadata": {
    "code_folding": [
     0
    ]
   },
   "outputs": [],
   "source": [
    "def get_S_matrix_from_tmatrix(elab, T_onshell):\n",
    "    \"\"\"Compute the S-matrix using S_l(E) = 1 + 2i * k * T_l(k,k;E).\"\"\"\n",
    "    \n",
    "    # Convert energy E_lab [MeV] to relative momentum [fm^-1]\n",
    "    k0 = np.sqrt(elab / 2.0 / Potential.hbar_sq_over_m)\n",
    "\n",
    "#     return 1 + 2j * k0 * T_onshell\n",
    "    ### TESTING\n",
    "    return 1 - 2j * k0 * T_onshell"
   ]
  },
  {
   "cell_type": "code",
   "execution_count": 10,
   "id": "2a338c61",
   "metadata": {
    "code_folding": [
     0
    ]
   },
   "outputs": [],
   "source": [
    "def check_S_matrix(channel, x_limits=None, y_limits=(0.99,1.01)):\n",
    "    \"\"\"Check that |S_l(E)| = 1.\"\"\"\n",
    "    \n",
    "    # Lab energy [MeV]\n",
    "    elab_array = np.linspace(0.001, 20.0, 100)\n",
    "    \n",
    "    # Do AV18\n",
    "    kvnn, kmax, kmid, ntot = 6, 30.0, 4.0, 120\n",
    "    \n",
    "    # Get S-matrix from scattering phase shifts\n",
    "    delta_deg_array = compute_phase_shifts(elab_array, kvnn, channel)\n",
    "    S_phase_array = get_S_matrix_from_phase_shifts(elab_array, delta_deg_array)\n",
    "    \n",
    "    # Get S-matrix from T-matrix\n",
    "    tmatrix = TMatrix(kvnn, channel, kmax, kmid, ntot)\n",
    "    S_tmatrix_array = np.zeros_like(elab_array, dtype=complex)\n",
    "    for i, ie in enumerate(elab_array):\n",
    "        # Convert energy E_lab [MeV] to relative momentum [fm^-1]\n",
    "        k0 = np.sqrt(ie / 2.0 / Potential.hbar_sq_over_m)\n",
    "        T_matrix = tmatrix.evaluate(k0)\n",
    "        T_onshell = tmatrix.onshell(T_matrix)\n",
    "        S_tmatrix_array[i] = get_S_matrix_from_tmatrix(ie, T_onshell)\n",
    "        \n",
    "    # Plot |S_l(E)| as a function of energy\n",
    "    plt.close('all')\n",
    "    f, ax = plt.subplots(figsize=(4, 3))\n",
    "    ax.plot(elab_array, np.abs(S_phase_array), label=r\"$e^{2i \\delta}$\")\n",
    "    ax.plot(elab_array, np.abs(S_tmatrix_array), label=r\"$1-2i k T_l$\",\n",
    "            ls='dashdot')\n",
    "    ax.axhline(y=1.0, color='black', ls='dotted')\n",
    "    ax.set_xlim(x_limits)\n",
    "    ax.set_ylim(y_limits)\n",
    "    ax.legend(fontsize=12)\n",
    "    ax.set_xlabel(r\"E$_{\\rm{lab}}$ [MeV]\", fontsize=16)\n",
    "    ax.set_ylabel(r\"$|S(E)|$\", fontsize=16)\n",
    "    title = label_channel(channel, label_coupled_channel=False)\n",
    "    ax.set_title(title, fontsize=16);"
   ]
  },
  {
   "cell_type": "code",
   "execution_count": 11,
   "id": "3279db4d",
   "metadata": {
    "code_folding": [
     0
    ]
   },
   "outputs": [],
   "source": [
    "def check_unitarity(channel, x_limits=None, y_limits=None):\n",
    "    \"\"\"Check the condition that T_l(E) - T_l(E)^* = 2i k |T_l(E)|^2.\"\"\"\n",
    "    \n",
    "    # Lab energy [MeV]\n",
    "    elab_array = np.linspace(0.001, 20.0, 100)\n",
    "    \n",
    "    # Do AV18\n",
    "    kvnn, kmax, kmid, ntot = 6, 30.0, 4.0, 120\n",
    "    \n",
    "    # Evaluate on-shell T-matrix\n",
    "    tmatrix = TMatrix(kvnn, channel, kmax, kmid, ntot)\n",
    "    imag_array = np.zeros_like(elab_array)\n",
    "    abs_array = np.zeros_like(elab_array)\n",
    "    for i, ie in enumerate(elab_array):\n",
    "        \n",
    "        # Convert energy E_lab [MeV] to relative momentum [fm^-1]\n",
    "        k0 = np.sqrt(ie / 2.0 / Potential.hbar_sq_over_m)\n",
    "        T_matrix = tmatrix.evaluate(k0)\n",
    "        T_onshell = tmatrix.onshell(T_matrix)\n",
    "        \n",
    "        imag_array[i] = np.imag(T_onshell)\n",
    "        abs_array[i] = k0 * np.abs(T_onshell) ** 2\n",
    "        \n",
    "    # Print values\n",
    "    header = f\"E [MeV] \\t Im[T(E)] [fm] \\t k |T(E)|^2 [fm]\\n\"\n",
    "    print(header)\n",
    "    for ie, iimag, iabs in zip(elab_array, imag_array, abs_array):\n",
    "        \n",
    "        line = f\"{ie:^10.2f}{iimag:^25.3e}{iabs:^25.3e}\"\n",
    "        print(line)"
   ]
  },
  {
   "cell_type": "code",
   "execution_count": 12,
   "id": "36166a4b",
   "metadata": {
    "code_folding": [
     0
    ]
   },
   "outputs": [],
   "source": [
    "def check_symmetry(k0):\n",
    "    \"\"\"Check that T_{LL'}(k,k') = T_{L'L}(k',k) in 3S1-3D1 coupled-channel.\"\"\"\n",
    "    \n",
    "    kvnn, kmax, kmid, ntot = 6, 30.0, 4.0, 120\n",
    "    \n",
    "    tmatrix_3S1_3D1 = TMatrix(kvnn, '3S1-3D1', kmax, kmid, ntot)\n",
    "    tmatrix_3D1_3S1 = TMatrix(kvnn, '3D1-3S1', kmax, kmid, ntot)\n",
    "    \n",
    "    T_02_matrix = tmatrix_3S1_3D1.evaluate(k0)\n",
    "    T_20_matrix = tmatrix_3D1_3S1.evaluate(k0)\n",
    "    \n",
    "    diff_matrix = T_02_matrix - T_20_matrix.T\n",
    "    \n",
    "    print(diff_matrix)"
   ]
  },
  {
   "cell_type": "markdown",
   "id": "a24c49a6",
   "metadata": {},
   "source": [
    "## Checking phase shifts"
   ]
  },
  {
   "cell_type": "code",
   "execution_count": 13,
   "id": "e96c3ef7",
   "metadata": {},
   "outputs": [
    {
     "data": {
      "image/png": "[encoded data removed]",
      "text/plain": [
       "<Figure size 600x450 with 1 Axes>"
      ]
     },
     "metadata": {},
     "output_type": "display_data"
    }
   ],
   "source": [
    "# 1S0 phase shifts with T-matrix\n",
    "compare_phase_shifts('1S0')"
   ]
  },
  {
   "cell_type": "code",
   "execution_count": 14,
   "id": "20cb0637",
   "metadata": {},
   "outputs": [
    {
     "data": {
      "image/png": "[encoded data removed]",
      "text/plain": [
       "<Figure size 600x450 with 1 Axes>"
      ]
     },
     "metadata": {},
     "output_type": "display_data"
    }
   ],
   "source": [
    "# 3P0 phase shifts with T-matrix\n",
    "compare_phase_shifts('3P0')"
   ]
  },
  {
   "cell_type": "markdown",
   "id": "3e5ecac8",
   "metadata": {},
   "source": [
    "## $S-$matrix $S_l = 1 - 2 i k T_l$"
   ]
  },
  {
   "cell_type": "code",
   "execution_count": 15,
   "id": "7e88b04c",
   "metadata": {},
   "outputs": [
    {
     "data": {
      "image/png": "[encoded data removed]",
      "text/plain": [
       "<Figure size 600x450 with 1 Axes>"
      ]
     },
     "metadata": {},
     "output_type": "display_data"
    }
   ],
   "source": [
    "# ylim = (0.99, 1.01)\n",
    "ylim = None\n",
    "check_S_matrix('1S0', y_limits=ylim)"
   ]
  },
  {
   "cell_type": "markdown",
   "id": "03a20674",
   "metadata": {},
   "source": [
    "## $\\text{Im}[T(k_0, k_0; E_0)] = k_0 \\lvert T(k_0, k_0; E_0) \\rvert^2$"
   ]
  },
  {
   "cell_type": "code",
   "execution_count": 16,
   "id": "3ab1da27",
   "metadata": {},
   "outputs": [
    {
     "name": "stdout",
     "output_type": "stream",
     "text": [
      "E [MeV] \t Im[T(E)] [fm] \t k |T(E)|^2 [fm]\n",
      "\n",
      "   0.00           1.941e+00                1.941e+00        \n",
      "   0.20           1.096e+01                1.096e+01        \n",
      "   0.41           9.630e+00                9.630e+00        \n",
      "   0.61           8.537e+00                8.537e+00        \n",
      "   0.81           7.712e+00                7.712e+00        \n",
      "   1.01           7.071e+00                7.071e+00        \n",
      "   1.21           6.558e+00                6.558e+00        \n",
      "   1.42           6.135e+00                6.135e+00        \n",
      "   1.62           5.780e+00                5.780e+00        \n",
      "   1.82           5.475e+00                5.475e+00        \n",
      "   2.02           5.210e+00                5.210e+00        \n",
      "   2.22           4.978e+00                4.978e+00        \n",
      "   2.43           4.771e+00                4.771e+00        \n",
      "   2.63           4.585e+00                4.585e+00        \n",
      "   2.83           4.418e+00                4.418e+00        \n",
      "   3.03           4.265e+00                4.265e+00        \n",
      "   3.23           4.126e+00                4.126e+00        \n",
      "   3.44           3.997e+00                3.997e+00        \n",
      "   3.64           3.879e+00                3.879e+00        \n",
      "   3.84           3.769e+00                3.769e+00        \n",
      "   4.04           3.667e+00                3.667e+00        \n",
      "   4.24           3.571e+00                3.571e+00        \n",
      "   4.45           3.482e+00                3.482e+00        \n",
      "   4.65           3.398e+00                3.398e+00        \n",
      "   4.85           3.318e+00                3.318e+00        \n",
      "   5.05           3.243e+00                3.243e+00        \n",
      "   5.25           3.172e+00                3.172e+00        \n",
      "   5.46           3.105e+00                3.105e+00        \n",
      "   5.66           3.041e+00                3.041e+00        \n",
      "   5.86           2.981e+00                2.981e+00        \n",
      "   6.06           2.923e+00                2.923e+00        \n",
      "   6.26           2.867e+00                2.867e+00        \n",
      "   6.47           2.814e+00                2.814e+00        \n",
      "   6.67           2.764e+00                2.764e+00        \n",
      "   6.87           2.715e+00                2.715e+00        \n",
      "   7.07           2.668e+00                2.668e+00        \n",
      "   7.27           2.624e+00                2.624e+00        \n",
      "   7.48           2.580e+00                2.580e+00        \n",
      "   7.68           2.539e+00                2.539e+00        \n",
      "   7.88           2.499e+00                2.499e+00        \n",
      "   8.08           2.460e+00                2.460e+00        \n",
      "   8.28           2.423e+00                2.423e+00        \n",
      "   8.49           2.387e+00                2.387e+00        \n",
      "   8.69           2.352e+00                2.352e+00        \n",
      "   8.89           2.318e+00                2.318e+00        \n",
      "   9.09           2.285e+00                2.285e+00        \n",
      "   9.29           2.254e+00                2.254e+00        \n",
      "   9.50           2.223e+00                2.223e+00        \n",
      "   9.70           2.193e+00                2.193e+00        \n",
      "   9.90           2.164e+00                2.164e+00        \n",
      "  10.10           2.136e+00                2.136e+00        \n",
      "  10.30           2.109e+00                2.109e+00        \n",
      "  10.51           2.082e+00                2.082e+00        \n",
      "  10.71           2.056e+00                2.056e+00        \n",
      "  10.91           2.031e+00                2.031e+00        \n",
      "  11.11           2.006e+00                2.006e+00        \n",
      "  11.31           1.982e+00                1.982e+00        \n",
      "  11.52           1.959e+00                1.959e+00        \n",
      "  11.72           1.936e+00                1.936e+00        \n",
      "  11.92           1.914e+00                1.914e+00        \n",
      "  12.12           1.892e+00                1.892e+00        \n",
      "  12.32           1.871e+00                1.871e+00        \n",
      "  12.53           1.850e+00                1.850e+00        \n",
      "  12.73           1.830e+00                1.830e+00        \n",
      "  12.93           1.810e+00                1.810e+00        \n",
      "  13.13           1.790e+00                1.790e+00        \n",
      "  13.33           1.771e+00                1.771e+00        \n",
      "  13.54           1.753e+00                1.753e+00        \n",
      "  13.74           1.735e+00                1.735e+00        \n",
      "  13.94           1.717e+00                1.717e+00        \n",
      "  14.14           1.699e+00                1.699e+00        \n",
      "  14.34           1.682e+00                1.682e+00        \n",
      "  14.55           1.665e+00                1.665e+00        \n",
      "  14.75           1.649e+00                1.649e+00        \n",
      "  14.95           1.633e+00                1.633e+00        \n",
      "  15.15           1.617e+00                1.617e+00        \n",
      "  15.35           1.602e+00                1.602e+00        \n",
      "  15.56           1.586e+00                1.586e+00        \n",
      "  15.76           1.571e+00                1.571e+00        \n",
      "  15.96           1.557e+00                1.557e+00        \n",
      "  16.16           1.542e+00                1.542e+00        \n",
      "  16.36           1.528e+00                1.528e+00        \n",
      "  16.57           1.514e+00                1.514e+00        \n",
      "  16.77           1.500e+00                1.500e+00        \n",
      "  16.97           1.487e+00                1.487e+00        \n",
      "  17.17           1.474e+00                1.474e+00        \n",
      "  17.37           1.461e+00                1.461e+00        \n",
      "  17.58           1.448e+00                1.448e+00        \n",
      "  17.78           1.435e+00                1.435e+00        \n",
      "  17.98           1.423e+00                1.423e+00        \n",
      "  18.18           1.411e+00                1.411e+00        \n",
      "  18.38           1.399e+00                1.399e+00        \n",
      "  18.59           1.387e+00                1.387e+00        \n",
      "  18.79           1.375e+00                1.375e+00        \n",
      "  18.99           1.364e+00                1.364e+00        \n",
      "  19.19           1.353e+00                1.353e+00        \n",
      "  19.39           1.342e+00                1.342e+00        \n",
      "  19.60           1.331e+00                1.331e+00        \n",
      "  19.80           1.320e+00                1.320e+00        \n",
      "  20.00           1.309e+00                1.309e+00        \n"
     ]
    }
   ],
   "source": [
    "check_unitarity('1S0')"
   ]
  },
  {
   "cell_type": "markdown",
   "id": "11d6f3f7",
   "metadata": {},
   "source": [
    "## $T_{L,L'}(k, k'; E_0) = T_{L',L}(k', k; E_0)$"
   ]
  },
  {
   "cell_type": "code",
   "execution_count": 17,
   "id": "ef65d4aa",
   "metadata": {},
   "outputs": [
    {
     "name": "stdout",
     "output_type": "stream",
     "text": [
      "[[ 0.00000000e+00+0.00000000e+00j -2.22044605e-16+2.22044605e-15j\n",
      "   6.66133815e-16-8.88178420e-16j ... -2.61101215e-19-7.86046575e-19j\n",
      "  -3.03237795e-19-1.08420217e-19j  2.22044605e-16-7.14706072e-16j]\n",
      " [ 2.22044605e-16-2.22044605e-15j  0.00000000e+00+0.00000000e+00j\n",
      "   4.44089210e-16+4.44089210e-16j ...  9.90929287e-19-6.77626358e-19j\n",
      "  -1.82959117e-19-8.13151629e-20j  5.82867088e-16-6.66133815e-16j]\n",
      " [-6.66133815e-16+8.88178420e-16j -4.44089210e-16-4.44089210e-16j\n",
      "   0.00000000e+00+0.00000000e+00j ...  2.86211109e-19-9.75781955e-19j\n",
      "   3.21025487e-19-1.35525272e-19j  7.49400542e-16-6.52256027e-16j]\n",
      " ...\n",
      " [ 2.61101215e-19+7.86046575e-19j -9.90929287e-19+6.77626358e-19j\n",
      "  -2.86211109e-19+9.75781955e-19j ...  0.00000000e+00+0.00000000e+00j\n",
      "   1.73472348e-18+5.12851980e-23j -9.82558219e-20-2.96461532e-20j]\n",
      " [ 3.03237795e-19+1.08420217e-19j  1.82959117e-19+8.13151629e-20j\n",
      "  -3.21025487e-19+1.35525272e-19j ... -1.73472348e-18-5.12851980e-23j\n",
      "   0.00000000e+00+0.00000000e+00j -1.01643954e-19-4.06575815e-20j]\n",
      " [-2.22044605e-16+7.14706072e-16j -5.82867088e-16+6.66133815e-16j\n",
      "  -7.49400542e-16+6.52256027e-16j ...  9.82558219e-20+2.96461532e-20j\n",
      "   1.01643954e-19+4.06575815e-20j  0.00000000e+00+0.00000000e+00j]]\n"
     ]
    }
   ],
   "source": [
    "k0 = 0.5\n",
    "check_symmetry(k0)"
   ]
  },
  {
   "cell_type": "code",
   "execution_count": 18,
   "id": "205c9779",
   "metadata": {},
   "outputs": [
    {
     "name": "stdout",
     "output_type": "stream",
     "text": [
      "[[ 0.00000000e+00+0.00000000e+00j -2.22044605e-15-8.88178420e-16j\n",
      "   1.77635684e-15+8.88178420e-16j ... -2.47841840e-18+2.43945489e-19j\n",
      "  -2.46063071e-19-4.06575815e-19j -2.22044605e-15-5.55111512e-17j]\n",
      " [ 2.22044605e-15+8.88178420e-16j  0.00000000e+00+0.00000000e+00j\n",
      "  -1.33226763e-15+3.33066907e-15j ... -2.15993402e-18+5.48877350e-19j\n",
      "  -4.06575815e-19-3.59141970e-19j -2.77555756e-15-1.94289029e-16j]\n",
      " [-1.77635684e-15-8.88178420e-16j  1.33226763e-15-3.33066907e-15j\n",
      "   0.00000000e+00+0.00000000e+00j ... -1.97019864e-18+3.93023288e-19j\n",
      "  -4.54009660e-19-3.38813179e-19j -2.33146835e-15-1.38777878e-16j]\n",
      " ...\n",
      " [ 2.47841840e-18-2.43945489e-19j  2.15993402e-18-5.48877350e-19j\n",
      "   1.97019864e-18-3.93023288e-19j ...  0.00000000e+00+0.00000000e+00j\n",
      "   1.73472348e-18-7.77549776e-23j  6.77626358e-21+1.52465931e-20j]\n",
      " [ 2.46063071e-19+4.06575815e-19j  4.06575815e-19+3.59141970e-19j\n",
      "   4.54009660e-19+3.38813179e-19j ... -1.73472348e-18+7.77549776e-23j\n",
      "   0.00000000e+00+0.00000000e+00j -9.14795583e-20+0.00000000e+00j]\n",
      " [ 2.22044605e-15+5.55111512e-17j  2.77555756e-15+1.94289029e-16j\n",
      "   2.33146835e-15+1.38777878e-16j ... -6.77626358e-21-1.52465931e-20j\n",
      "   9.14795583e-20+0.00000000e+00j  0.00000000e+00+0.00000000e+00j]]\n"
     ]
    }
   ],
   "source": [
    "k0 = 1.5\n",
    "check_symmetry(k0)"
   ]
  }
 ],
 "metadata": {
  "kernelspec": {
   "display_name": "Python 3 (ipykernel)",
   "language": "python",
   "name": "python3"
  },
  "language_info": {
   "codemirror_mode": {
    "name": "ipython",
    "version": 3
   },
   "file_extension": ".py",
   "mimetype": "text/x-python",
   "name": "python",
   "nbconvert_exporter": "python",
   "pygments_lexer": "ipython3",
   "version": "3.9.16"
  }
 },
 "nbformat": 4,
 "nbformat_minor": 5
}

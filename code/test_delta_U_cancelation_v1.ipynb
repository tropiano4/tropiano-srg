{
 "cells": [
  {
   "cell_type": "markdown",
   "id": "a95aac84",
   "metadata": {},
   "source": [
    "# Testing cancelation of SRG transformations in momentum distributions\n",
    "\n",
    "__Author:__ A. J. Tropiano [atropiano@anl.gov]<br/>\n",
    "__Date:__ February 9, 2023\n",
    "\n",
    "The SRG transformations are unitary and therefore satisfy the condition<br>\n",
    "\n",
    "$$\n",
    "\\begin{align}\n",
    "U^\\dagger U &= I + \\frac{1}{4} \\sum_{\\mathbf{k}, \\mathbf{k'}, \\mathbf{K}} \\bigl[\n",
    "    \\delta U(\\mathbf{k},\\mathbf{k'}) + \\delta U^\\dagger(\\mathbf{k},\\mathbf{k'})\n",
    "    + \\frac{1}{2} \\sum_{\\mathbf{k''}} \\delta U(\\mathbf{k},\\mathbf{k''}) \\delta U^\\dagger(\\mathbf{k''},\\mathbf{k'})\n",
    "\\bigr]\n",
    "a^\\dagger_{\\frac{\\mathbf{K}}{2}+\\mathbf{k}} a^\\dagger_{\\frac{\\mathbf{K}}{2}-\\mathbf{k}}\n",
    "a_{\\frac{\\mathbf{K}}{2}-\\mathbf{k'}} a_{\\frac{\\mathbf{K}}{2}+\\mathbf{k'}} \\\\\n",
    "&= I\n",
    ".\n",
    "\\end{align}\n",
    "$$<br>\n",
    "\n",
    "This implies that<br>\n",
    "\n",
    "$$\n",
    "\\delta U(\\mathbf{k},\\mathbf{k'}) + \\delta U^\\dagger(\\mathbf{k},\\mathbf{k'}) \n",
    "+ \\frac{1}{2} \\sum_{\\mathbf{k''}} \\delta U(\\mathbf{k},\\mathbf{k''}) \\delta U^\\dagger(\\mathbf{k''},\\mathbf{k'})\n",
    "= 0\n",
    ".\n",
    "$$<br>\n",
    "\n",
    "In partial waves this looks like<br>\n",
    "\n",
    "$$\n",
    "\\delta U_{LL'}(k,k') + \\delta U^\\dagger_{LL'}(k,k') + \\frac{2}{\\pi} \\sum_{L''} \\int dk'' k''^2\n",
    "    \\delta U_{LL''}(k,k'') \\delta U^\\dagger_{L''L'}(k'',k')\n",
    "= 0\n",
    ",\n",
    "$$<br>\n",
    "given partial wave channel quantum numbers $J$, $S$, and $T$.<br>\n",
    "\n",
    "_Last update:_ March 20, 2023"
   ]
  },
  {
   "cell_type": "code",
   "execution_count": 1,
   "id": "7a2f5509",
   "metadata": {},
   "outputs": [],
   "source": [
    "# Python imports\n",
    "import matplotlib.pyplot as plt\n",
    "%matplotlib inline\n",
    "import numpy as np\n",
    "import numpy.linalg as la\n",
    "from scipy.interpolate import RectBivariateSpline, RegularGridInterpolator"
   ]
  },
  {
   "cell_type": "code",
   "execution_count": 2,
   "id": "b02384fc",
   "metadata": {},
   "outputs": [],
   "source": [
    "# Imports from scripts\n",
    "from scripts.figures import interpolate_matrix, label_ticks, set_rc_parameters\n",
    "from scripts.integration import (\n",
    "    gaussian_quadrature_mesh, momentum_mesh, unattach_weights_from_matrix\n",
    ")\n",
    "from scripts.momentum_projection_operator import momentum_projection_operator\n",
    "from scripts.potentials import Potential\n",
    "from scripts.srg import get_transformation\n",
    "from scripts.tools import coupled_channel, replace_periods"
   ]
  },
  {
   "cell_type": "code",
   "execution_count": 3,
   "id": "cad91ba4",
   "metadata": {},
   "outputs": [],
   "source": [
    "# Run this cell to turn on customized matplotlib graphics\n",
    "set_rc_parameters()"
   ]
  },
  {
   "cell_type": "markdown",
   "id": "e21b46ea",
   "metadata": {},
   "source": [
    "## Check cancelation of matrix elements in partial wave basis"
   ]
  },
  {
   "cell_type": "code",
   "execution_count": 4,
   "id": "0df6191f",
   "metadata": {
    "code_folding": [
     3
    ]
   },
   "outputs": [],
   "source": [
    "def load_H_evolved(\n",
    "        kvnn, channel, generator, lamb, kmax=15.0, kmid=3.0, ntot=120,\n",
    "        solver='ode', method='BDF', atol=1e-10, rtol=1e-10, wrt='s'\n",
    "):\n",
    "    \"\"\"Load evolved Hamiltonian.\"\"\"\n",
    "    \n",
    "    if solver == 'U':\n",
    "        \n",
    "        H_file_name = (\n",
    "            f\"H_evolved_kvnn_{kvnn}_{channel}_{generator}_lamb_{lamb}_kmax\"\n",
    "            f\"_{kmax}_kmid_{kmid}_ntot_{ntot}_{solver}_{method}_wrt_{wrt}\"\n",
    "        )\n",
    "            \n",
    "        H_evolved = np.loadtxt(\"./test_srg/\" + replace_periods(H_file_name)\n",
    "                               + \".txt\")\n",
    "                \n",
    "        U_file_name = (\n",
    "            f\"U_kvnn_{kvnn}_{channel}_{generator}_lamb_{lamb}_kmax_{kmax}\"\n",
    "            f\"_kmid_{kmid}_ntot_{ntot}_{solver}_{method}_wrt_{wrt}\"\n",
    "        )\n",
    "            \n",
    "        U_evolved = np.loadtxt(\"./test_srg/\" + replace_periods(U_file_name)\n",
    "                               + \".txt\")\n",
    "        \n",
    "        return H_evolved, U_evolved\n",
    "        \n",
    "    else:\n",
    "        \n",
    "        file_name = (\n",
    "            f\"H_evolved_kvnn_{kvnn}_{channel}_{generator}_lamb_{lamb}_kmax\"\n",
    "            f\"_{kmax}_kmid_{kmid}_ntot_{ntot}_{solver}_{method}_wrt_{wrt}\"\n",
    "        )\n",
    "        H_evolved = np.loadtxt(\"./test_srg/\" + replace_periods(file_name)\n",
    "                               + \".txt\")\n",
    "    \n",
    "        return H_evolved"
   ]
  },
  {
   "cell_type": "code",
   "execution_count": 5,
   "id": "fef82d1f",
   "metadata": {
    "code_folding": [
     0
    ]
   },
   "outputs": [],
   "source": [
    "def load_H_no_coupling(kvnn, channel, generator, lamb, kmax, kmid, ntot):\n",
    "    \"\"\"Loads the evolved Hamiltonian assuming there are no coupled channels.\"\"\"\n",
    "    \n",
    "    file_name = (\n",
    "        f\"H_evolved_kvnn_{kvnn}_{channel}_no_coupling_{generator}_lamb_{lamb}\"\n",
    "        f\"_kmax_{kmax}_kmid_{kmid}_ntot_{ntot}_ode_BDF_wrt_lambda\"\n",
    "    )\n",
    "    \n",
    "    H_evolved = np.loadtxt(\"./test_srg/\" + replace_periods(file_name) + \".txt\")\n",
    "    \n",
    "    return H_evolved"
   ]
  },
  {
   "cell_type": "code",
   "execution_count": 6,
   "id": "346a92ad",
   "metadata": {},
   "outputs": [],
   "source": [
    "# kvnn = 6\n",
    "kvnn = 111  # SMS N4LO 450 MeV\n",
    "channel = '3S1'\n",
    "# channel = '3P1'\n",
    "# channel = '1P1'\n",
    "kmax, kmid, ntot = 15.0, 3.0, 120\n",
    "# kmax, kmid, ntot = 30.0, 4.0, 120  # Different mesh for AV18\n",
    "generator, lamb = 'Wegner', 1.35\n",
    "# generator, lamb = 'Wegner', 2.0\n",
    "# generator, lamb = 'Wegner', 3.0\n",
    "\n",
    "potential = Potential(kvnn, channel, kmax, kmid, ntot)\n",
    "k_array, k_weights = potential.load_mesh()"
   ]
  },
  {
   "cell_type": "code",
   "execution_count": 7,
   "id": "d39f7943",
   "metadata": {},
   "outputs": [],
   "source": [
    "# Initial and evolved Hamiltonians with integration factors attached [MeV]\n",
    "H_initial = potential.load_hamiltonian()\n",
    "\n",
    "# Get H_evolved from current version generated by srg.py\n",
    "H_evolved = potential.load_hamiltonian('srg', generator, lamb)\n",
    "\n",
    "# # scipy.integrate.ode with BDF solving w.r.t. \\lambda\n",
    "# H_evolved = load_H_evolved(\n",
    "#     kvnn, channel, generator, lamb, kmax, kmid, ntot, solver='ode',\n",
    "#     method='BDF', atol=1e-10, rtol=1e-10, wrt='lambda'\n",
    "# )\n",
    "\n",
    "# # scipy.integrate.solve_ivp with LSODA solving w.r.t. s\n",
    "# H_evolved = load_H_evolved(\n",
    "#     kvnn, channel, generator, lamb, kmax, kmid, ntot, solver='solve_ivp',\n",
    "#     method='LSODA', atol=1e-10, rtol=1e-10, wrt='s'\n",
    "# )\n",
    "\n",
    "# SRG transformation with integration factors attached [unitless]\n",
    "U_matrix = get_transformation(H_initial, H_evolved)"
   ]
  },
  {
   "cell_type": "code",
   "execution_count": 8,
   "id": "e260641a",
   "metadata": {},
   "outputs": [],
   "source": [
    "# # Initial and evolved Hamiltonians with integration factors attached [MeV]\n",
    "# H_initial = potential.load_hamiltonian()\n",
    "\n",
    "# # Load saved file\n",
    "# H_evolved, U_matrix = load_H_evolved(\n",
    "#     kvnn, channel, generator, lamb, kmax, kmid, ntot, solver='U', method='BDF',\n",
    "#     atol=1e-10, rtol=1e-10, wrt='lambda'\n",
    "# )"
   ]
  },
  {
   "cell_type": "code",
   "execution_count": 9,
   "id": "d4194154",
   "metadata": {},
   "outputs": [],
   "source": [
    "# # Initial and evolved Hamiltonians with integration factors attached [MeV]\n",
    "# H_initial = potential.load_hamiltonian()[:ntot, :ntot]  # No coupling to 3D1\n",
    "\n",
    "# # Load 3S1-3S1 evolved with no coupling to 3D1\n",
    "# H_evolved = load_H_no_coupling(kvnn, channel, generator, lamb, kmax, kmid,\n",
    "#                                ntot)[:ntot, :ntot]\n",
    "\n",
    "# # SRG transformation with integration factors attached [unitless]\n",
    "# U_matrix = get_transformation(H_initial, H_evolved)\n",
    "# print(U_matrix.shape)"
   ]
  },
  {
   "cell_type": "code",
   "execution_count": 10,
   "id": "897ce601",
   "metadata": {},
   "outputs": [],
   "source": [
    "# # Initial and evolved Hamiltonians with integration factors attached [MeV]\n",
    "# H_initial = potential.load_hamiltonian()[ntot:, ntot:]  # No coupling to 3S1\n",
    "\n",
    "# # Load 3D1-3D1 evolved with no coupling to 3S1\n",
    "# H_evolved = load_H_no_coupling(kvnn, channel, generator, lamb, kmax, kmid,\n",
    "#                                ntot)[ntot:, ntot:]\n",
    "\n",
    "# # SRG transformation with integration factors attached [unitless]\n",
    "# U_matrix = get_transformation(H_initial, H_evolved)\n",
    "# print(U_matrix.shape)"
   ]
  },
  {
   "cell_type": "code",
   "execution_count": 11,
   "id": "03e88149",
   "metadata": {},
   "outputs": [],
   "source": [
    "# Identity matrix\n",
    "I_matrix = np.eye(len(U_matrix))\n",
    "\n",
    "# \\delta U and \\delta U^\\dagger matrices\n",
    "delta_U = U_matrix - I_matrix\n",
    "delta_U_dag = (U_matrix - I_matrix).T"
   ]
  },
  {
   "cell_type": "code",
   "execution_count": 12,
   "id": "c6ad72e1",
   "metadata": {},
   "outputs": [],
   "source": [
    "# \\delta U 3S1-3S1 sub-block\n",
    "delta_U_3S1_3S1 = delta_U[:ntot, :ntot]\n",
    "\n",
    "# \\delta U^\\dagger 3S1-3S1 sub-block\n",
    "delta_U_dag_3S1_3S1 = delta_U_dag[:ntot, :ntot]\n",
    "\n",
    "# \\delta U 3S1-3D1 sub-block\n",
    "delta_U_3S1_3D1 = delta_U[:ntot, ntot:]\n",
    "\n",
    "# \\delta U^\\dagger 3D1-3S1 sub-block\n",
    "delta_U_dag_3D1_3S1 = delta_U_dag[ntot:, :ntot]"
   ]
  },
  {
   "cell_type": "code",
   "execution_count": 13,
   "id": "33592d6f",
   "metadata": {},
   "outputs": [],
   "source": [
    "# \\sum_k'' \\delta U_{3S1-3S1}(k,k'') \\delta U^\\dagger_{3S1-3S1}(k'',k')\n",
    "delta_U2_3S1_3S1 = delta_U_3S1_3S1 @ delta_U_dag_3S1_3S1\n",
    "\n",
    "# \\sum_k'' \\delta U_{3S1-3D1}(k,k'') \\delta U^\\dagger_{3D1-3S1}(k'',k')\n",
    "delta_U2_3S1_3D1 = delta_U_3S1_3D1 @ delta_U_dag_3D1_3S1"
   ]
  },
  {
   "cell_type": "code",
   "execution_count": 14,
   "id": "56fb2f0a",
   "metadata": {},
   "outputs": [
    {
     "name": "stdout",
     "output_type": "stream",
     "text": [
      "[[-2.79802564e-16  7.66991394e-18 -2.88182446e-18 ... -1.30341624e-19\n",
      "  -1.25590534e-19 -3.23531975e-19]\n",
      " [ 7.66991394e-18 -6.21918443e-16 -4.15872689e-16 ... -6.43304530e-17\n",
      "   6.07885680e-18 -4.21104907e-18]\n",
      " [-2.88182446e-18 -4.15872689e-16 -2.16541051e-15 ... -2.13957710e-17\n",
      "   1.46829136e-17 -7.76393172e-17]\n",
      " ...\n",
      " [-1.30341624e-19 -6.43304530e-17 -2.13957710e-17 ...  2.33658443e-15\n",
      "   4.05396745e-16 -2.94347337e-16]\n",
      " [-1.25590534e-19  6.07885680e-18  1.46829136e-17 ...  4.05396745e-16\n",
      "   6.47583793e-16  8.09868530e-16]\n",
      " [-3.23531975e-19 -4.21104907e-18 -7.76393172e-17 ... -2.94347337e-16\n",
      "   8.09868530e-16  1.77546915e-15]]\n",
      "Norm of matrix with integration weights = 0.00000.\n",
      "\n",
      "Norm of matrix without integration weights = 0.00000.\n",
      "\n"
     ]
    }
   ],
   "source": [
    "# Coupled channel\n",
    "matrix = delta_U_3S1_3S1 + delta_U_dag_3S1_3S1 + (delta_U2_3S1_3S1\n",
    "                                                  + delta_U2_3S1_3D1)\n",
    "\n",
    "print(matrix)\n",
    "print(f\"Norm of matrix with integration weights = {la.norm(matrix):.5f}.\\n\")\n",
    "matrix_no_weights = unattach_weights_from_matrix(k_array, k_weights, matrix)\n",
    "print(\"Norm of matrix without integration weights = \"\n",
    "      f\"{la.norm(matrix_no_weights):.5f}.\\n\")"
   ]
  },
  {
   "cell_type": "code",
   "execution_count": 15,
   "id": "aeeec2e7",
   "metadata": {},
   "outputs": [],
   "source": [
    "# # No coupling\n",
    "# matrix = delta_U + delta_U_dag + delta_U @ delta_U_dag\n",
    "\n",
    "# print(matrix)\n",
    "# print(f\"Norm of matrix with integration weights = {la.norm(matrix):.5f}.\\n\")\n",
    "# matrix_no_weights = unattach_weights_from_matrix(k_array, k_weights, matrix)\n",
    "# print(\"Norm of matrix without integration weights = \"\n",
    "#       f\"{la.norm(matrix_no_weights):.5f}.\\n\")"
   ]
  },
  {
   "cell_type": "code",
   "execution_count": 16,
   "id": "ac1caf12",
   "metadata": {
    "code_folding": [
     4
    ]
   },
   "outputs": [],
   "source": [
    "def plot_delU_sum(\n",
    "        k_array, matrix_no_weights, levels_number=61,\n",
    "        colorbar_limits=(-1.0,1.0), color_map='turbo', axes_limits=(0.0,4.0),\n",
    "        xlabel_size=16, ylabel_size=16\n",
    "):\n",
    "    \n",
    "    # --- Figure set-up --- #\n",
    "    plt.close('all')\n",
    "    f, ax = plt.subplots(figsize=(4,4))\n",
    "    \n",
    "    # Set contour levels\n",
    "    levels = np.linspace(colorbar_limits[0], colorbar_limits[1],\n",
    "                         levels_number)\n",
    "    \n",
    "    # We don't need the second output since it'll be the same as the first\n",
    "    k_max = axes_limits[1] + 0.2  # Add a little extra to prevent white edges\n",
    "    k_array_dense, _, matrix_dense = interpolate_matrix(\n",
    "        k_array, k_array, matrix_no_weights, k_max, k_max)\n",
    "\n",
    "    # --- Plot --- #\n",
    "    c = ax.contourf(k_array_dense, k_array_dense, matrix_dense, levels,\n",
    "                    cmap=color_map, extend='both')\n",
    "\n",
    "    # --- Axes limits --- #\n",
    "    ax.set_xlim(axes_limits)\n",
    "    ax.set_ylim(axes_limits)\n",
    "\n",
    "    # --- Axes labels --- #\n",
    "    ax.set_xlabel(\"$k'$ [fm\" + r\"$^{-1}$\" + \"]\", fontsize=xlabel_size)\n",
    "    ax.set_ylabel(\"$k$ [fm\" + r\"$^{-1}$\" + \"]\", fontsize=ylabel_size)\n",
    "    \n",
    "    # --- Adjust axes --- #\n",
    "    # Switch x-axis label from bottom to top\n",
    "    ax.xaxis.set_label_position('top')\n",
    "    ax.tick_params(labeltop=True, labelbottom=False)\n",
    "    # Invert y-axis\n",
    "    ax.invert_yaxis()\n",
    "    \n",
    "    # --- Colorbar --- #\n",
    "    # Colorbar location (left, bottom, width, height)\n",
    "    cbar_ax = f.add_axes((1.0, 0.15, 0.1, 0.7))\n",
    "    # Set colorbar ticks and tick labels\n",
    "    levels_ticks = np.linspace(colorbar_limits[0], colorbar_limits[1], 9)\n",
    "    levels_ticks_strings = label_ticks(levels_ticks)  # Make these strings\n",
    "    # Set colorbar\n",
    "    cbar = f.colorbar(c, cax=cbar_ax, ticks=levels_ticks)\n",
    "    cbar.ax.set_yticklabels(levels_ticks_strings)\n",
    "    cbar.ax.set_title(r\"[fm$^3$]\", fontsize=16, pad=15)"
   ]
  },
  {
   "cell_type": "code",
   "execution_count": 17,
   "id": "624e7d85",
   "metadata": {},
   "outputs": [
    {
     "data": {
      "image/png": "[encoded data removed]",
      "text/plain": [
       "<Figure size 600x600 with 2 Axes>"
      ]
     },
     "metadata": {},
     "output_type": "display_data"
    }
   ],
   "source": [
    "plot_delU_sum(\n",
    "    k_array, matrix_no_weights, colorbar_limits=(-0.001,0.001),\n",
    "    axes_limits=(0.0,15.0), xlabel_size=16, ylabel_size=16\n",
    ")"
   ]
  },
  {
   "cell_type": "markdown",
   "id": "af5b8e51",
   "metadata": {},
   "source": [
    "The above plot shows\n",
    "$$\n",
    "\\delta U_{LL'}(k,k') + \\delta U^\\dagger_{LL'}(k,k') + \\frac{2}{\\pi} \\sum_{L''} \\int dk'' k''^2\n",
    "    \\delta U_{LL''}(k,k'') \\delta U^\\dagger_{L''L'}(k'',k')\n",
    "$$\n",
    "where integration factors have been divided out."
   ]
  },
  {
   "cell_type": "code",
   "execution_count": 18,
   "id": "61a4745d",
   "metadata": {},
   "outputs": [],
   "source": [
    "# delta_U_3S1_3S1_no_weights = unattach_weights_from_matrix(k_array, k_weights,\n",
    "#                                                           delta_U_3S1_3S1)\n",
    "# delta_U_dag_3S1_3S1_no_weights = unattach_weights_from_matrix(\n",
    "#     k_array, k_weights, delta_U_dag_3S1_3S1\n",
    "# )\n",
    "# delta_U_linear = delta_U_3S1_3S1_no_weights + delta_U_dag_3S1_3S1_no_weights"
   ]
  },
  {
   "cell_type": "code",
   "execution_count": 19,
   "id": "051851ed",
   "metadata": {},
   "outputs": [],
   "source": [
    "# plot_delU_sum(\n",
    "#     k_array, delta_U_3S1_3S1_no_weights, colorbar_limits=(-0.5,0.5),\n",
    "#     axes_limits=(0.0,4.0), xlabel_size=16, ylabel_size=16\n",
    "# )"
   ]
  },
  {
   "cell_type": "code",
   "execution_count": 20,
   "id": "ba38163a",
   "metadata": {},
   "outputs": [],
   "source": [
    "# plot_delU_sum(\n",
    "#     k_array, delta_U_dag_3S1_3S1_no_weights, colorbar_limits=(-0.5,0.5),\n",
    "#     axes_limits=(0.0,4.0), xlabel_size=16, ylabel_size=16\n",
    "# )"
   ]
  },
  {
   "cell_type": "code",
   "execution_count": 21,
   "id": "8c0f5d7f",
   "metadata": {},
   "outputs": [],
   "source": [
    "# plot_delU_sum(\n",
    "#     k_array, delta_U_linear, colorbar_limits=(-0.5,0.5), axes_limits=(0.0,4.0),\n",
    "#     xlabel_size=16, ylabel_size=16\n",
    "# )"
   ]
  },
  {
   "cell_type": "code",
   "execution_count": 22,
   "id": "6b1f7aca",
   "metadata": {},
   "outputs": [],
   "source": [
    "# delta_U2_no_weights = unattach_weights_from_matrix(\n",
    "#     k_array, k_array, 1/2*(delta_U2_3S1_3S1 + delta_U2_3S1_3D1)\n",
    "# )\n",
    "\n",
    "# plot_delU_sum(\n",
    "#     k_array, delta_U2_no_weights, colorbar_limits=(-0.1,0.1),\n",
    "#     axes_limits=(0.0,4.0), xlabel_size=16, ylabel_size=16\n",
    "# )"
   ]
  },
  {
   "cell_type": "code",
   "execution_count": 23,
   "id": "c669245f",
   "metadata": {},
   "outputs": [],
   "source": [
    "# print((I_matrix+delta_U) @ (I_matrix+delta_U).T)"
   ]
  },
  {
   "cell_type": "code",
   "execution_count": 24,
   "id": "cdd53137",
   "metadata": {},
   "outputs": [],
   "source": [
    "# print(I_matrix @ I_matrix + delta_U @ I_matrix + I_matrix @ delta_U_dag + delta_U @ delta_U_dag)"
   ]
  },
  {
   "cell_type": "code",
   "execution_count": 25,
   "id": "2eb1c372",
   "metadata": {},
   "outputs": [],
   "source": [
    "# print(delta_U @ I_matrix + I_matrix @ delta_U_dag + delta_U @ delta_U_dag)"
   ]
  },
  {
   "cell_type": "markdown",
   "id": "3501090f",
   "metadata": {},
   "source": [
    "## Check that normalization of momentum projection operator is conserved"
   ]
  },
  {
   "cell_type": "code",
   "execution_count": 26,
   "id": "aaeecc35",
   "metadata": {},
   "outputs": [
    {
     "name": "stdout",
     "output_type": "stream",
     "text": [
      "Unevolved norm = 2.847882658769522\n",
      "Evolved norm = 2.847882658769497\n"
     ]
    }
   ],
   "source": [
    "q = 2.0\n",
    "mpo_initial = momentum_projection_operator(\n",
    "    q, k_array, k_weights, coupled=potential.coupled_channel_bool\n",
    ")\n",
    "\n",
    "print(f\"Unevolved norm = {la.norm(mpo_initial)}\")\n",
    "\n",
    "I_matrix = np.eye(len(mpo_initial))\n",
    "\n",
    "mpo_I_matrix = I_matrix @ mpo_initial @ I_matrix\n",
    "mpo_delU_matrix = delta_U @ mpo_initial @ I_matrix\n",
    "mpo_delUdag_matrix = I_matrix @ mpo_initial @ delta_U_dag\n",
    "mpo_delU2_matrix = delta_U @ mpo_initial @ delta_U_dag\n",
    "\n",
    "mpo_evolved = (mpo_I_matrix + mpo_delU_matrix + mpo_delUdag_matrix\n",
    "               + mpo_delU2_matrix)\n",
    "\n",
    "print(f\"Evolved norm = {la.norm(mpo_evolved)}\")"
   ]
  },
  {
   "cell_type": "markdown",
   "id": "4717d3cc",
   "metadata": {},
   "source": [
    "## Cancelation after interpolating $\\delta U$ functions"
   ]
  },
  {
   "cell_type": "code",
   "execution_count": 27,
   "id": "c3775c67",
   "metadata": {
    "code_folding": [
     0
    ]
   },
   "outputs": [],
   "source": [
    "# # Check that \\delta U_{3S1-3S1} * \\delta U^\\dagger_{3S1-3S1} is equal to\n",
    "# # \\delta U_{3S1-3S1}^2\n",
    "\n",
    "# delU_3S1_3S1 = unattach_weights_from_matrix(k_array, k_weights, delta_U_3S1_3S1)\n",
    "\n",
    "# delUdag_3S1_3S1 = unattach_weights_from_matrix(k_array, k_weights,\n",
    "#                                                delta_U_dag_3S1_3S1)\n",
    "\n",
    "# product = np.zeros_like(delU_3S1_3S1)\n",
    "# for i in range(ntot):\n",
    "#     for j in range(ntot):\n",
    "#         product[i,j] = delU_3S1_3S1[i,j] * delUdag_3S1_3S1[j,i]\n",
    "\n",
    "# print(delU_3S1_3S1**2-product)"
   ]
  },
  {
   "cell_type": "code",
   "execution_count": 28,
   "id": "dade4aaa",
   "metadata": {
    "code_folding": [
     0
    ]
   },
   "outputs": [],
   "source": [
    "# # Do the same test for the 3S1-3D1 block\n",
    "# delU_3S1_3D1 = unattach_weights_from_matrix(k_array, k_weights, delta_U_3S1_3D1)\n",
    "# delUdag_3D1_3S1 = unattach_weights_from_matrix(k_array, k_weights,\n",
    "#                                                delta_U_dag_3D1_3S1)\n",
    "\n",
    "# product = np.zeros_like(delU_3S1_3D1)\n",
    "# for i in range(ntot):\n",
    "#     for j in range(ntot):\n",
    "#         product[i,j] = delU_3S1_3D1[i,j] * delUdag_3D1_3S1[j,i]\n",
    "        \n",
    "# print(delU_3S1_3D1**2-product)"
   ]
  },
  {
   "cell_type": "code",
   "execution_count": 29,
   "id": "18d89a1b",
   "metadata": {
    "code_folding": [
     4
    ]
   },
   "outputs": [],
   "source": [
    "# COPIED FROM compare_to_lda.ipynb\n",
    "def interpolate_delta_U(\n",
    "        potential, channel, generator='Wegner', lamb=1.35,\n",
    "        hermitian_conjugate=False, order=3\n",
    "):\n",
    "    \"\"\"Function that returns interpolated \\delta U(k, k'),\n",
    "    \\delta U^\\dagger(k, k') or \\delta U^2(k, k') given the partial wave channel.\n",
    "    \"\"\"\n",
    "    \n",
    "    kmax, kmid, ntot = potential.kmax, potential.kmid, potential.ntot\n",
    "    \n",
    "    # Get momentum mesh\n",
    "    # k_array, k_weights = potential.load_mesh()\n",
    "    # ntot = potential.ntot\n",
    "    k_array, k_weights = momentum_mesh(kmax, kmid, ntot)\n",
    "\n",
    "    # Initial Hamiltonian\n",
    "    H_initial = potential.load_hamiltonian()\n",
    "    \n",
    "#     # Evolved Hamiltonian\n",
    "#     H_evolved = potential.load_hamiltonian('srg', generator, lamb)\n",
    "\n",
    "    # scipy.integrate.solve_ivp with LSODA solving w.r.t. s\n",
    "    if channel[:3] == '3S1' or channel[:3] == '3D1':\n",
    "#         H_evolved = load_H_evolved(\n",
    "#             potential.kvnn, '3S1', generator, lamb, kmax, kmid, ntot,\n",
    "#             solver='solve_ivp', method='LSODA', atol=1e-10, rtol=1e-10, wrt='s'\n",
    "#         )\n",
    "        H_evolved, U_matrix_weights = load_H_evolved(\n",
    "            potential.kvnn, '3S1', generator, lamb, kmax, kmid, ntot,\n",
    "            solver='U', method='BDF', atol=1e-10, rtol=1e-10, wrt='lambda'\n",
    "        )\n",
    "    else:\n",
    "#         H_evolved = load_H_evolved(\n",
    "#             potential.kvnn, channel, generator, lamb, kmax, kmid, ntot,\n",
    "#             solver='solve_ivp', method='LSODA', atol=1e-10, rtol=1e-10, wrt='s'\n",
    "#         )\n",
    "        H_evolved, U_matrix_weights = load_H_evolved(\n",
    "            potential.kvnn, channel, generator, lamb, kmax, kmid, ntot,\n",
    "            solver='U', method='BDF', atol=1e-10, rtol=1e-10, wrt='lambda'\n",
    "        )\n",
    "    \n",
    "#     # Get SRG transformation from Hamiltonians\n",
    "#     U_matrix_weights = get_transformation(H_initial, H_evolved)\n",
    "    \n",
    "    # Calculate \\delta U = U - I\n",
    "    I_matrix_weights = np.eye(len(H_initial), len(H_initial))\n",
    "    if hermitian_conjugate:\n",
    "        delU_matrix_weights = (U_matrix_weights - I_matrix_weights).T\n",
    "    else:\n",
    "        delU_matrix_weights = U_matrix_weights - I_matrix_weights\n",
    "\n",
    "    # Get specific sub-block if coupled-channel\n",
    "    if channel in ['3S1-3D1', '3P2-3F2', '3D3-3G3']:\n",
    "        delU_matrix = unattach_weights_from_matrix(\n",
    "            k_array, k_weights, delU_matrix_weights[:ntot,ntot:])\n",
    "    elif channel in ['3D1-3S1', '3F2-3P2', '3G3-3D3']:\n",
    "        delU_matrix = unattach_weights_from_matrix(\n",
    "            k_array, k_weights, delU_matrix_weights[ntot:,:ntot])\n",
    "    elif channel in ['3D1-3D1', '3F2-3F2', '3G3-3G3']:\n",
    "        delU_matrix = unattach_weights_from_matrix(\n",
    "            k_array, k_weights, delU_matrix_weights[ntot:,ntot:])\n",
    "    else:\n",
    "        delU_matrix = unattach_weights_from_matrix(\n",
    "            k_array, k_weights, delU_matrix_weights[:ntot,:ntot])\n",
    "        \n",
    "    # Interpolate \\delta U(k, k') or \\delta U^\\dagger(k, k')\n",
    "    delU_func = RectBivariateSpline(k_array, k_array, delU_matrix, kx=order,\n",
    "                                    ky=order)\n",
    "#     delU_func = RegularGridInterpolator((k_array, k_array), delU_matrix,\n",
    "#                                         method='nearest')\n",
    "    \n",
    "    return delU_func"
   ]
  },
  {
   "cell_type": "code",
   "execution_count": 30,
   "id": "6ca0dbe5",
   "metadata": {
    "code_folding": [
     3
    ]
   },
   "outputs": [],
   "source": [
    "# COPIED FROM compare_to_lda.ipynb\n",
    "def get_delta_U_functions(\n",
    "    potential, channel, generator='Wegner', lamb=1.35, order=3\n",
    "):\n",
    "    \n",
    "    if channel == '3S1':\n",
    "        channels = ('3S1-3S1', '3S1-3D1', '3D1-3S1')\n",
    "    else:\n",
    "        channels = [channel]\n",
    "\n",
    "    delta_U_functions = {}\n",
    "    delta_U_dagger_functions = {}\n",
    "    for ichannel in channels:\n",
    "        delta_U_functions[ichannel] = interpolate_delta_U(\n",
    "            potential, ichannel, generator, lamb, order=order)\n",
    "        delta_U_dagger_functions[ichannel] = interpolate_delta_U(\n",
    "            potential, ichannel, generator, lamb, hermitian_conjugate=True,\n",
    "            order=order\n",
    "        )\n",
    "\n",
    "    return delta_U_functions, delta_U_dagger_functions"
   ]
  },
  {
   "cell_type": "code",
   "execution_count": 31,
   "id": "ce513c0c",
   "metadata": {},
   "outputs": [],
   "source": [
    "# Create a Gaussian quadrature array from max/min of the default array, but with\n",
    "# no kmid, and less points.\n",
    "k_array_new, k_weights_new = gaussian_quadrature_mesh(k_array[-1], 100)\n",
    "# k_array_new, k_weights_new = gaussian_quadrature_mesh(k_array[-1], 500,\n",
    "#                                                       xmin=k_array[0])\n",
    "# k_array_new, k_weights_new = k_array, k_weights\n",
    "\n",
    "k_2d_grid, kp_2d_grid = np.meshgrid(k_array_new, k_array_new, indexing='ij')\n",
    "k_3d_grid, kpp_3d_grid, kp_3d_grid = np.meshgrid(k_array_new, k_array_new,\n",
    "                                                 k_array_new, indexing='ij')\n",
    "_, dkpp_3d_grid, _ = np.meshgrid(\n",
    "    k_array_new, 2/np.pi*k_weights_new * k_array_new**2, k_array_new,\n",
    "    indexing='ij'\n",
    ")"
   ]
  },
  {
   "cell_type": "code",
   "execution_count": 32,
   "id": "528a6928",
   "metadata": {},
   "outputs": [],
   "source": [
    "# Call interpolated functions and create new arrays\n",
    "\n",
    "# delta_U_functions, delta_U_dagger_functions = get_delta_U_functions(\n",
    "#     potential, channel, generator, lamb, order=1)  # Linear\n",
    "delta_U_functions, delta_U_dagger_functions = get_delta_U_functions(\n",
    "    potential, channel, generator, lamb, order=3)  # Cubic\n",
    "# delta_U_functions, delta_U_dagger_functions = get_delta_U_functions(\n",
    "#     potential, channel, generator, lamb, order=5)  # Quintic\n",
    "\n",
    "# Use this code for RectBivariateSpline\n",
    "deltaU_3S1_3S1 = delta_U_functions['3S1-3S1'].ev(k_2d_grid, kp_2d_grid)\n",
    "deltaUdag_3S1_3S1 = delta_U_dagger_functions['3S1-3S1'].ev(k_2d_grid, kp_2d_grid)\n",
    "\n",
    "deltaU2 = np.sum(\n",
    "    (\n",
    "        delta_U_functions['3S1-3S1'].ev(k_3d_grid, kpp_3d_grid)\n",
    "        * delta_U_dagger_functions['3S1-3S1'].ev(kpp_3d_grid, kp_3d_grid)\n",
    "        + delta_U_functions['3S1-3D1'].ev(k_3d_grid, kpp_3d_grid)\n",
    "        * delta_U_dagger_functions['3D1-3S1'].ev(kpp_3d_grid, kp_3d_grid)\n",
    "    ) * dkpp_3d_grid,\n",
    "    axis=1\n",
    ")\n",
    "\n",
    "# # Use this code for RegularGridInterpolator\n",
    "# deltaU_3S1_3S1 = delta_U_functions['3S1-3S1']((k_2d_grid, kp_2d_grid))\n",
    "# deltaUdag_3S1_3S1 = delta_U_dagger_functions['3S1-3S1']((k_2d_grid, kp_2d_grid))\n",
    "\n",
    "# deltaU2 = np.sum(\n",
    "#     (\n",
    "#         delta_U_functions['3S1-3S1']((k_3d_grid, kpp_3d_grid))\n",
    "#         * delta_U_dagger_functions['3S1-3S1']((kpp_3d_grid, kp_3d_grid))\n",
    "#         + delta_U_functions['3S1-3D1']((k_3d_grid, kpp_3d_grid))\n",
    "#         * delta_U_dagger_functions['3D1-3S1']((kpp_3d_grid, kp_3d_grid))\n",
    "#     ) * dkpp_3d_grid,\n",
    "#     axis=1\n",
    "# )"
   ]
  },
  {
   "cell_type": "code",
   "execution_count": 33,
   "id": "8b85eca7",
   "metadata": {},
   "outputs": [
    {
     "name": "stdout",
     "output_type": "stream",
     "text": [
      "[[ 3.03991126e-06 -4.35173526e-06 -3.54289065e-06 ...  2.39211281e-12\n",
      "   3.04213866e-12  5.52815564e-12]\n",
      " [-4.35173526e-06 -2.79890449e-06 -3.61260928e-06 ...  2.03528884e-12\n",
      "   2.86429298e-12  5.47361156e-12]\n",
      " [-3.54289065e-06 -3.61260928e-06 -3.56676917e-06 ...  3.43300845e-13\n",
      "   2.02093383e-12  5.21487275e-12]\n",
      " ...\n",
      " [ 2.39211281e-12  2.03528884e-12  3.43300845e-13 ... -5.46929552e-08\n",
      "  -2.49205811e-08 -5.25114744e-09]\n",
      " [ 3.04213866e-12  2.86429298e-12  2.02093383e-12 ... -2.49205811e-08\n",
      "  -9.06657562e-09  1.13405244e-09]\n",
      " [ 5.52815564e-12  5.47361156e-12  5.21487275e-12 ... -5.25114744e-09\n",
      "   1.13405244e-09  4.69128424e-09]]\n",
      "Norm of matrix without integration weights = 0.00006.\n",
      "\n"
     ]
    }
   ],
   "source": [
    "# Repeat the steps from above\n",
    "matrix_no_weights = deltaU_3S1_3S1 + deltaUdag_3S1_3S1 + deltaU2\n",
    "print(matrix_no_weights)\n",
    "print(\"Norm of matrix without integration weights = \"\n",
    "      f\"{la.norm(matrix_no_weights):.5f}.\\n\")"
   ]
  },
  {
   "cell_type": "code",
   "execution_count": 34,
   "id": "f12056f7",
   "metadata": {},
   "outputs": [
    {
     "data": {
      "image/png": "[encoded data removed]",
      "text/plain": [
       "<Figure size 600x600 with 2 Axes>"
      ]
     },
     "metadata": {},
     "output_type": "display_data"
    }
   ],
   "source": [
    "plot_delU_sum(\n",
    "    k_array_new, matrix_no_weights, colorbar_limits=(-0.01,0.01),\n",
    "    axes_limits=(0.0,15.0), xlabel_size=16, ylabel_size=16\n",
    ")"
   ]
  },
  {
   "cell_type": "markdown",
   "id": "960f8cc2",
   "metadata": {},
   "source": [
    "Normalization of cancelation matrix (matrix that should be entirely zero):<br>\n",
    "* Linear `RectBivariateSpline`: 0.04434\n",
    "* Cubic `RectBivariateSpline`: 0.01108\n",
    "* Quintic `RectBivariateSpline`: 0.13699\n",
    "* Nearest `RegularGridInterpolator`: 0.14537"
   ]
  },
  {
   "cell_type": "markdown",
   "id": "07354362",
   "metadata": {},
   "source": [
    "## Repeating the same tests as above but for $^{1}S_0$"
   ]
  },
  {
   "cell_type": "code",
   "execution_count": 35,
   "id": "6fa98e95",
   "metadata": {},
   "outputs": [],
   "source": [
    "channel = '1S0'\n",
    "\n",
    "potential = Potential(kvnn, channel, kmax, kmid, ntot)\n",
    "k_array, k_weights = potential.load_mesh()"
   ]
  },
  {
   "cell_type": "code",
   "execution_count": 36,
   "id": "244d1de7",
   "metadata": {},
   "outputs": [],
   "source": [
    "# Initial and evolved Hamiltonians with integration factors attached [MeV]\n",
    "H_initial = potential.load_hamiltonian()"
   ]
  },
  {
   "cell_type": "code",
   "execution_count": 37,
   "id": "92a5d038",
   "metadata": {},
   "outputs": [],
   "source": [
    "H_evolved = potential.load_hamiltonian('srg', generator, lamb)\n",
    "\n",
    "# # scipy.integrate.ode with BDF solving w.r.t. \\lambda\n",
    "# H_evolved = load_H_evolved(\n",
    "#     kvnn, channel, generator, lamb, kmax, kmid, ntot, solver='ode',\n",
    "#     method='BDF', atol=1e-10, rtol=1e-10, wrt='lambda'\n",
    "# )\n",
    "\n",
    "# # scipy.integrate.solve_ivp with LSODA solving w.r.t. s\n",
    "# H_evolved = load_H_evolved(\n",
    "#     kvnn, channel, generator, lamb, kmax, kmid, ntot, solver='solve_ivp',\n",
    "#     method='LSODA', atol=1e-10, rtol=1e-10, wrt='s'\n",
    "# )\n",
    "\n",
    "# SRG transformation with integration factors attached [unitless]\n",
    "U_matrix = get_transformation(H_initial, H_evolved)\n",
    "\n",
    "# # Load saved file\n",
    "# H_evolved, U_matrix = load_H_evolved(\n",
    "#     kvnn, channel, generator, lamb, kmax, kmid, ntot, solver='U', method='BDF',\n",
    "#     atol=1e-10, rtol=1e-10, wrt='lambda'\n",
    "# )\n",
    "\n",
    "# Identity matrix\n",
    "I_matrix = np.eye(len(U_matrix), len(U_matrix))"
   ]
  },
  {
   "cell_type": "code",
   "execution_count": 38,
   "id": "11bf93d8",
   "metadata": {},
   "outputs": [],
   "source": [
    "# \\delta U and \\delta U^\\dagger matrices\n",
    "delta_U = U_matrix - I_matrix\n",
    "delta_U_dag = (U_matrix - I_matrix).T"
   ]
  },
  {
   "cell_type": "code",
   "execution_count": 39,
   "id": "ecebaabd",
   "metadata": {},
   "outputs": [],
   "source": [
    "# \\sum_k'' \\delta U(k,k'') \\delta U^\\dagger(k'',k')\n",
    "delta_U2 = delta_U @ delta_U_dag"
   ]
  },
  {
   "cell_type": "code",
   "execution_count": 40,
   "id": "c8f8bbb5",
   "metadata": {},
   "outputs": [
    {
     "name": "stdout",
     "output_type": "stream",
     "text": [
      "[[-5.85073934e-14 -1.47934454e-14 -4.54741400e-14 ... -1.07531488e-17\n",
      "  -2.72150882e-17 -2.62165504e-17]\n",
      " [-1.47934454e-14  9.04793833e-14 -3.65140962e-13 ... -8.70353557e-17\n",
      "  -2.18777729e-16 -2.10517427e-16]\n",
      " [-4.54741400e-14 -3.65140962e-13 -1.30117130e-12 ... -2.78463763e-16\n",
      "  -6.76475897e-16 -6.47244664e-16]\n",
      " ...\n",
      " [-1.07531488e-17 -8.70353557e-17 -2.78463763e-16 ... -1.05529993e-10\n",
      "  -3.98927302e-11 -5.17464062e-12]\n",
      " [-2.72150882e-17 -2.18777729e-16 -6.76475897e-16 ... -3.98927302e-11\n",
      "  -4.49849920e-11 -2.43605193e-11]\n",
      " [-2.62165504e-17 -2.10517427e-16 -6.47244664e-16 ... -5.17464062e-12\n",
      "  -2.43605193e-11 -1.80004196e-11]]\n",
      "Norm of matrix with integration weights = 0.00000.\n",
      "\n",
      "Norm of matrix without integration weights = 0.00002.\n",
      "\n"
     ]
    }
   ],
   "source": [
    "matrix = delta_U + delta_U_dag + delta_U2\n",
    "print(matrix)\n",
    "print(f\"Norm of matrix with integration weights = {la.norm(matrix):.5f}.\\n\")\n",
    "matrix_no_weights = unattach_weights_from_matrix(k_array, k_weights, matrix)\n",
    "print(\"Norm of matrix without integration weights = \"\n",
    "      f\"{la.norm(matrix_no_weights):.5f}.\\n\")"
   ]
  },
  {
   "cell_type": "code",
   "execution_count": 41,
   "id": "47c6b6cc",
   "metadata": {},
   "outputs": [],
   "source": [
    "# Create a Gaussian quadrature array from max/min of the default array, but with\n",
    "# no kmid, and less points\n",
    "k_array_new, k_weights_new = gaussian_quadrature_mesh(k_array[-1], 100)\n",
    "\n",
    "k_2d_grid, kp_2d_grid = np.meshgrid(k_array_new, k_array_new, indexing='ij')\n",
    "k_3d_grid, kpp_3d_grid, kp_3d_grid = np.meshgrid(k_array_new, k_array_new,\n",
    "                                                 k_array_new, indexing='ij')\n",
    "_, dkpp_3d_grid, _ = np.meshgrid(\n",
    "    k_array_new, 2/np.pi*k_weights_new * k_array_new**2, k_array_new,\n",
    "    indexing='ij'\n",
    ")"
   ]
  },
  {
   "cell_type": "code",
   "execution_count": 42,
   "id": "f4f204f4",
   "metadata": {},
   "outputs": [],
   "source": [
    "# Call interpolated functions and create new arrays\n",
    "\n",
    "delta_U_functions, delta_U_dagger_functions = get_delta_U_functions(\n",
    "    potential, channel, generator, lamb, order=3)  # Cubic\n",
    "\n",
    "# Use this code for RectBivariateSpline\n",
    "deltaU_1S0 = delta_U_functions['1S0'].ev(k_2d_grid, kp_2d_grid)\n",
    "deltaUdag_1S0 = delta_U_dagger_functions['1S0'].ev(k_2d_grid, kp_2d_grid)\n",
    "\n",
    "deltaU2_1S0 = np.sum((delta_U_functions['1S0'].ev(k_3d_grid, kpp_3d_grid)\n",
    "    * delta_U_dagger_functions['1S0'].ev(kpp_3d_grid, kp_3d_grid))\n",
    "    * dkpp_3d_grid, axis=1\n",
    ")\n",
    "\n",
    "# # Use this code for RegularGridInterpolator\n",
    "# deltaU_1S0 = delta_U_functions['1S0']((k_2d_grid, kp_2d_grid))\n",
    "# deltaUdag_1S0 = delta_U_dagger_functions['1S0']((k_2d_grid, kp_2d_grid))\n",
    "\n",
    "# deltaU2_1S0 = np.sum((delta_U_functions['1S0']((k_3d_grid, kpp_3d_grid))\n",
    "#     * delta_U_dagger_functions['1S0']((kpp_3d_grid, kp_3d_grid)))\n",
    "#     * dkpp_3d_grid, axis=1\n",
    "# )"
   ]
  },
  {
   "cell_type": "code",
   "execution_count": 43,
   "id": "d1de7f62",
   "metadata": {},
   "outputs": [
    {
     "name": "stdout",
     "output_type": "stream",
     "text": [
      "[[-1.11901043e-05  1.46495361e-06 -7.72243403e-07 ...  2.74504944e-12\n",
      "   9.54313650e-14 -3.39537755e-12]\n",
      " [ 1.46495361e-06 -6.74927423e-07 -6.81732603e-07 ...  2.85408970e-12\n",
      "   1.49169952e-13 -3.37956497e-12]\n",
      " [-7.72243403e-07 -6.81732603e-07 -6.68389797e-07 ...  3.37201676e-12\n",
      "   4.04420585e-13 -3.30449062e-12]\n",
      " ...\n",
      " [ 2.74504944e-12  2.85408970e-12  3.37201676e-12 ... -2.00843803e-08\n",
      "  -9.14082300e-09 -1.93712987e-09]\n",
      " [ 9.54313650e-14  1.49169952e-13  4.04420585e-13 ... -9.14082300e-09\n",
      "  -3.33688634e-09  3.86168415e-10]\n",
      " [-3.39537755e-12 -3.37956497e-12 -3.30449062e-12 ... -1.93712987e-09\n",
      "   3.86168415e-10  1.67987675e-09]]\n",
      "Norm of matrix without integration weights = 0.00004.\n",
      "\n"
     ]
    }
   ],
   "source": [
    "# Repeat the steps from above\n",
    "matrix_no_weights = deltaU_1S0 + deltaUdag_1S0 + deltaU2_1S0\n",
    "print(matrix_no_weights)\n",
    "print(\"Norm of matrix without integration weights = \"\n",
    "      f\"{la.norm(matrix_no_weights):.5f}.\\n\")"
   ]
  },
  {
   "cell_type": "code",
   "execution_count": 44,
   "id": "1c605ebb",
   "metadata": {},
   "outputs": [
    {
     "data": {
      "image/png": "[encoded data removed]",
      "text/plain": [
       "<Figure size 600x600 with 2 Axes>"
      ]
     },
     "metadata": {},
     "output_type": "display_data"
    }
   ],
   "source": [
    "plot_delU_sum(\n",
    "    k_array_new, matrix_no_weights, colorbar_limits=(-0.01,0.01),\n",
    "    axes_limits=(0.0,15.0), xlabel_size=16, ylabel_size=16\n",
    ")"
   ]
  },
  {
   "cell_type": "code",
   "execution_count": 45,
   "id": "8b2b933f",
   "metadata": {},
   "outputs": [],
   "source": [
    "# Is the U(k, k') defined on the new k_array even unitary?\n",
    "from scripts.integration import attach_weights_to_matrix\n",
    "\n",
    "delU_matrix_weights_new = attach_weights_to_matrix(k_array_new, k_weights_new,\n",
    "                                                   deltaU_1S0)\n",
    "\n",
    "ntot_new = len(k_array_new)\n",
    "I_matrix = np.eye(ntot_new, ntot_new)\n",
    "U = I_matrix + delU_matrix_weights_new\n",
    "zero_matrix = I_matrix - U @ U.T"
   ]
  },
  {
   "cell_type": "code",
   "execution_count": 46,
   "id": "a54a96c8",
   "metadata": {},
   "outputs": [
    {
     "name": "stdout",
     "output_type": "stream",
     "text": [
      "[[ 1.80522264e-13 -1.90164277e-13  3.08588995e-13 ... -5.91056134e-16\n",
      "  -1.64165936e-17  3.83142341e-16]\n",
      " [-1.90164277e-13  7.03659353e-13  2.18907366e-12 ... -4.93817252e-15\n",
      "  -2.06202223e-16  3.06445296e-15]\n",
      " [ 3.08588995e-13  2.18907366e-12  6.60660415e-12 ... -1.79601322e-14\n",
      "  -1.72094270e-15  9.22396925e-15]\n",
      " ...\n",
      " [-5.91056134e-16 -4.93817252e-15 -1.79601322e-14 ...  5.76408756e-08\n",
      "   2.09590111e-08  2.91356285e-09]\n",
      " [-1.64165936e-17 -2.06202223e-16 -1.72094270e-15 ...  2.09590111e-08\n",
      "   6.11280082e-09 -4.64040361e-10]\n",
      " [ 3.83142341e-16  3.06445296e-15  9.22396925e-15 ...  2.91356285e-09\n",
      "  -4.64040361e-10 -1.32414812e-09]]\n",
      "6.370638201863122e-06\n",
      "1.0\n",
      "0.9999981095032453\n"
     ]
    }
   ],
   "source": [
    "print(zero_matrix)\n",
    "print(la.norm(I_matrix - U @ U.T)/np.sqrt(ntot_new))\n",
    "print(la.norm(I_matrix)/np.sqrt(ntot_new))\n",
    "print(la.norm(U @ U.T)/np.sqrt(ntot_new))"
   ]
  },
  {
   "cell_type": "markdown",
   "id": "982af2f9",
   "metadata": {},
   "source": [
    "## Testing cancelation of matrix elements with spherical harmonics included"
   ]
  },
  {
   "cell_type": "markdown",
   "id": "c6385886",
   "metadata": {},
   "source": [
    "$$\n",
    "0 = \\delta U_{L L'}(k, k') + \\delta U^{\\dagger}_{L L'}(k, k')\n",
    "    + \\frac{2}{\\pi} \\sum_{L'' M_L''} \\frac{1}{2L''+1} \\int dq q^2 \\int d\\Omega_{\\mathbf{q}}\n",
    "        \\delta U_{L L''}(k, q)\n",
    "        Y^*_{L'' M_L''}(\\Omega_{\\mathbf{q}}) Y_{L'' M_L''}(\\Omega_{\\mathbf{q}})\n",
    "        \\delta U^{\\dagger}_{L'' L'}(q, k')\n",
    "$$"
   ]
  },
  {
   "cell_type": "markdown",
   "id": "bd4219a8",
   "metadata": {},
   "source": [
    "_Note, this only works when you average over $M_L''$ as opposed to summing with no factor of $\\frac{1}{2L''+1}$._"
   ]
  },
  {
   "cell_type": "code",
   "execution_count": 47,
   "id": "5bd0012c",
   "metadata": {},
   "outputs": [],
   "source": [
    "from scipy.special import sph_harm"
   ]
  },
  {
   "cell_type": "code",
   "execution_count": 48,
   "id": "91ec5480",
   "metadata": {
    "code_folding": [
     0
    ]
   },
   "outputs": [],
   "source": [
    "def get_channel_quantum_numbers(channel):\n",
    "    \"\"\"Gets the quantum numbers of a partial wave channel.\"\"\"\n",
    "    \n",
    "    # Total orbital angular momentum L' = 0, 1, 2, ...\n",
    "    if channel[1] == 'S':\n",
    "        Lp = 0\n",
    "    elif channel[1] == 'P':\n",
    "        Lp = 1\n",
    "    elif channel[1] == 'D':\n",
    "        Lp = 2\n",
    "    elif channel[1] == 'F':\n",
    "        Lp = 3\n",
    "    elif channel[1] == 'G':\n",
    "        Lp = 4\n",
    "    elif channel[1] == 'H':\n",
    "        Lp = 5\n",
    "    else:\n",
    "        raise RuntimeError(\"Channel L' exceeds the range of the function.\")\n",
    "    \n",
    "    # Total orbital angular momentum L = 0, 1, 2, ...\n",
    "    if coupled_channel(channel[:3]):\n",
    "        \n",
    "        if channel[5] == 'S':\n",
    "            L = 0\n",
    "        elif channel[5] == 'P':\n",
    "            L = 1\n",
    "        elif channel[5] == 'D':\n",
    "            L = 2\n",
    "        elif channel[5] == 'F':\n",
    "            L = 3\n",
    "        elif channel[5] == 'G':\n",
    "            L = 4\n",
    "        elif channel[5] == 'H':\n",
    "            L = 5\n",
    "        else:\n",
    "            raise RuntimeError(\"Channel L exceeds the range of the function.\")\n",
    "        \n",
    "    # L = L' if the channel is not coupled\n",
    "    else:\n",
    "        \n",
    "        L = Lp\n",
    "        \n",
    "    # Total spin S = 0 or 1\n",
    "    S = int((int(channel[0])-1)/2)\n",
    "    \n",
    "    # Total angular momentum J = 0, 1, 2, ...\n",
    "    J = int(channel[2])\n",
    "            \n",
    "    return Lp, L, S, J"
   ]
  },
  {
   "cell_type": "code",
   "execution_count": 49,
   "id": "9fd5cbbb",
   "metadata": {},
   "outputs": [],
   "source": [
    "kvnn = 111  # SMS N4LO 450 MeV\n",
    "kmax, kmid, ntot = 15.0, 3.0, 120\n",
    "generator, lamb = 'Wegner', 1.35"
   ]
  },
  {
   "cell_type": "code",
   "execution_count": 50,
   "id": "bd4262f3",
   "metadata": {},
   "outputs": [],
   "source": [
    "channel = '1S0'\n",
    "# channel = '3S1-3S1'\n",
    "# channel = '3D1-3D1'"
   ]
  },
  {
   "cell_type": "code",
   "execution_count": 51,
   "id": "b741c8c1",
   "metadata": {},
   "outputs": [],
   "source": [
    "# Set channel argument to be compatible with potential functions\n",
    "if channel[:3] in ['3S1', '3D1']:  # 3S1-3D1\n",
    "    channel_arg = '3S1'\n",
    "else:  # 1S0\n",
    "    channel_arg = channel[:3]\n",
    "\n",
    "potential = Potential(kvnn, channel_arg, kmax, kmid, ntot)\n",
    "k_array, k_weights = potential.load_mesh()"
   ]
  },
  {
   "cell_type": "code",
   "execution_count": 52,
   "id": "011e5f97",
   "metadata": {},
   "outputs": [],
   "source": [
    "# Initial and evolved Hamiltonians with integration factors attached [MeV]\n",
    "\n",
    "# No coupling to 3D1\n",
    "if channel == '3S1-3S1':\n",
    "    \n",
    "    H_initial = potential.load_hamiltonian()[:ntot, :ntot]\n",
    "    H_evolved = load_H_no_coupling(kvnn, channel_arg, generator, lamb, kmax,\n",
    "                                   kmid, ntot)[:ntot, :ntot]\n",
    "\n",
    "# No coupling to 3S1\n",
    "elif channel == '3D1-3D1':\n",
    "    \n",
    "    H_initial = potential.load_hamiltonian()[ntot:, ntot:]\n",
    "    H_evolved = load_H_no_coupling(kvnn, channel_arg, generator, lamb, kmax,\n",
    "                                   kmid, ntot)[ntot:, ntot:]\n",
    "\n",
    "# 1S0    \n",
    "else:\n",
    "    \n",
    "    H_initial = potential.load_hamiltonian()\n",
    "    H_evolved = load_H_no_coupling(kvnn, channel_arg, generator, lamb, kmax,\n",
    "                                   kmid, ntot)"
   ]
  },
  {
   "cell_type": "code",
   "execution_count": 53,
   "id": "76c0c449",
   "metadata": {},
   "outputs": [],
   "source": [
    "# SRG transformation with integration factors attached [unitless]\n",
    "U_matrix = get_transformation(H_initial, H_evolved)\n",
    "\n",
    "# Identity matrix\n",
    "I_matrix = np.eye(len(U_matrix), len(U_matrix))\n",
    "\n",
    "# \\delta U and \\delta U^\\dagger matrices [unitless]\n",
    "delta_U_weights = U_matrix - I_matrix\n",
    "delta_U_dag_weights = (U_matrix - I_matrix).T\n",
    "\n",
    "# Remove integration factors from \\delta U's [fm^3]\n",
    "delta_U = unattach_weights_from_matrix(k_array, k_weights, delta_U_weights)\n",
    "delta_U_dag = unattach_weights_from_matrix(k_array, k_weights,\n",
    "                                           delta_U_dag_weights)"
   ]
  },
  {
   "cell_type": "code",
   "execution_count": 54,
   "id": "a2d33dbf",
   "metadata": {},
   "outputs": [],
   "source": [
    "# Interpolate delta U's\n",
    "delta_U_func = RectBivariateSpline(k_array, k_array, delta_U)\n",
    "delta_U_dag_func = RectBivariateSpline(k_array, k_array, delta_U_dag)"
   ]
  },
  {
   "cell_type": "code",
   "execution_count": 55,
   "id": "ba85ea74",
   "metadata": {},
   "outputs": [],
   "source": [
    "# Create arrays for angular integrations\n",
    "theta_array, theta_weights = gaussian_quadrature_mesh(np.pi, 9)\n",
    "phi_array, phi_weights = gaussian_quadrature_mesh(2*np.pi, 13)"
   ]
  },
  {
   "cell_type": "code",
   "execution_count": 56,
   "id": "04829cdd",
   "metadata": {},
   "outputs": [],
   "source": [
    "# Create 5-D meshgrids for integration\n",
    "k_grid, kp_grid, q_grid, theta_q_grid, phi_q_grid = np.meshgrid(\n",
    "    k_array, k_array, k_array, theta_array, phi_array, indexing='ij')\n",
    "_, _, dq_grid, dtheta_q_grid, dphi_q_grid = np.meshgrid(\n",
    "    k_weights, k_weights, k_weights, theta_weights, phi_weights, indexing='ij')"
   ]
  },
  {
   "cell_type": "code",
   "execution_count": 57,
   "id": "23212a6b",
   "metadata": {},
   "outputs": [],
   "source": [
    "# Evaluate integrand\n",
    "\n",
    "jacobian = (dq_grid * q_grid ** 2 * dtheta_q_grid * np.sin(theta_q_grid)\n",
    "            * dphi_q_grid)\n",
    "delU_5D_array = delta_U_func.ev(k_grid, q_grid)\n",
    "delUdag_5D_array = delta_U_dag_func.ev(q_grid, kp_grid)\n",
    "\n",
    "# Get orbital angular momentum\n",
    "L, Lp, _, _ = get_channel_quantum_numbers(channel)\n",
    "\n",
    "# Loop over M_L'' where L'' will be the same as L and L' for uncoupled channel\n",
    "integrand = np.zeros_like(jacobian, dtype='complex')\n",
    "for M_Lpp in np.arange(-L, L+1, 1):\n",
    "    \n",
    "    # Y_{L M_L''}(\\Omega_q)\n",
    "    Y_L_q_grid = sph_harm(M_Lpp, L, phi_q_grid, theta_q_grid)\n",
    "\n",
    "    integrand += (jacobian * delU_5D_array * delUdag_5D_array\n",
    "                  * np.conj(Y_L_q_grid) * Y_L_q_grid)\n",
    "\n",
    "# Integrate over \\phi_q, \\theta_q, and q leaving k and k' dependence\n",
    "delta_U2 = 2/np.pi * np.sum(\n",
    "    np.sum(np.sum(integrand, axis=-1), axis=-1), axis=-1\n",
    ")"
   ]
  },
  {
   "cell_type": "code",
   "execution_count": 58,
   "id": "6995da2d",
   "metadata": {},
   "outputs": [
    {
     "name": "stdout",
     "output_type": "stream",
     "text": [
      "[[ 3.50544494e-07+0.j  5.01153216e-11+0.j -8.75155365e-11+0.j ...\n",
      "   4.95774492e-16+0.j  1.71833776e-14+0.j  9.34232570e-15+0.j]\n",
      " [ 5.01153147e-11+0.j  5.31406721e-09+0.j  6.76304658e-10+0.j ...\n",
      "   9.55458697e-14+0.j  6.20374618e-16+0.j -1.95550803e-13+0.j]\n",
      " [-8.75155087e-11+0.j  6.76304714e-10+0.j  2.67067167e-10+0.j ...\n",
      "   7.78969869e-15+0.j  3.14459658e-14+0.j -2.37384241e-14+0.j]\n",
      " ...\n",
      " [ 4.95774492e-16+0.j  9.55458697e-14+0.j  7.78969869e-15+0.j ...\n",
      "  -1.32322640e-16+0.j -2.19544587e-17+0.j  1.55458710e-16+0.j]\n",
      " [ 1.71833776e-14+0.j  6.20374618e-16+0.j  3.14459658e-14+0.j ...\n",
      "  -2.19546705e-17+0.j  1.15080014e-16+0.j -1.62048202e-16+0.j]\n",
      " [ 9.34232570e-15+0.j -1.95550803e-13+0.j -2.37384241e-14+0.j ...\n",
      "   1.55458498e-16+0.j -1.62048414e-16+0.j  1.23991605e-15+0.j]]\n",
      "Norm of matrix without integration weights = 0.00000.\n",
      "\n"
     ]
    }
   ],
   "source": [
    "# zero_matrix = delta_U + delta_U_dag + delta_U2  # fm^3\n",
    "zero_matrix = delta_U + delta_U_dag + delta_U2 / (2*L+1)  # fm^3\n",
    "print(zero_matrix)\n",
    "print(\"Norm of matrix without integration weights = \"\n",
    "      f\"{la.norm(zero_matrix):.5f}.\\n\")"
   ]
  },
  {
   "cell_type": "code",
   "execution_count": 59,
   "id": "ce18f37e",
   "metadata": {},
   "outputs": [
    {
     "data": {
      "image/png": "[encoded data removed]",
      "text/plain": [
       "<Figure size 600x600 with 2 Axes>"
      ]
     },
     "metadata": {},
     "output_type": "display_data"
    }
   ],
   "source": [
    "plot_delU_sum(k_array, zero_matrix.real, colorbar_limits=(-1e-3,1e-3))"
   ]
  },
  {
   "cell_type": "code",
   "execution_count": 60,
   "id": "31c7cb82",
   "metadata": {},
   "outputs": [
    {
     "data": {
      "image/png": "[encoded data removed]",
      "text/plain": [
       "<Figure size 600x600 with 2 Axes>"
      ]
     },
     "metadata": {},
     "output_type": "display_data"
    }
   ],
   "source": [
    "plot_delU_sum(k_array, zero_matrix.imag, colorbar_limits=(-1e-3,1e-3))"
   ]
  },
  {
   "cell_type": "markdown",
   "id": "9ebfc694",
   "metadata": {},
   "source": [
    "Try fixing $M_L''$."
   ]
  },
  {
   "cell_type": "code",
   "execution_count": 61,
   "id": "0ebca493",
   "metadata": {},
   "outputs": [],
   "source": [
    "# Evaluate integrand\n",
    "\n",
    "jacobian = (dq_grid * q_grid ** 2 * dtheta_q_grid * np.sin(theta_q_grid)\n",
    "            * dphi_q_grid)\n",
    "delU_5D_array = delta_U_func.ev(k_grid, q_grid)\n",
    "delUdag_5D_array = delta_U_dag_func.ev(q_grid, kp_grid)\n",
    "\n",
    "# Get orbital angular momentum\n",
    "L, Lp, _, _ = get_channel_quantum_numbers(channel)\n",
    "\n",
    "# Fix M_L'' = L\n",
    "Y_L_q_grid = sph_harm(L, L, phi_q_grid, theta_q_grid)\n",
    "\n",
    "integrand = (jacobian * delU_5D_array * delUdag_5D_array\n",
    "             * np.conj(Y_L_q_grid) * Y_L_q_grid)\n",
    "\n",
    "# Integrate over \\phi_q, \\theta_q, and q leaving k and k' dependence\n",
    "delta_U2 = 2/np.pi * np.sum(\n",
    "    np.sum(np.sum(integrand, axis=-1), axis=-1), axis=-1\n",
    ")"
   ]
  },
  {
   "cell_type": "code",
   "execution_count": 62,
   "id": "48c09b1b",
   "metadata": {},
   "outputs": [
    {
     "name": "stdout",
     "output_type": "stream",
     "text": [
      "[[ 3.50544494e-07+0.j  5.01153216e-11+0.j -8.75155365e-11+0.j ...\n",
      "   4.95774492e-16+0.j  1.71833776e-14+0.j  9.34232570e-15+0.j]\n",
      " [ 5.01153147e-11+0.j  5.31406721e-09+0.j  6.76304658e-10+0.j ...\n",
      "   9.55458697e-14+0.j  6.20374618e-16+0.j -1.95550803e-13+0.j]\n",
      " [-8.75155087e-11+0.j  6.76304714e-10+0.j  2.67067167e-10+0.j ...\n",
      "   7.78969869e-15+0.j  3.14459658e-14+0.j -2.37384241e-14+0.j]\n",
      " ...\n",
      " [ 4.95774492e-16+0.j  9.55458697e-14+0.j  7.78969869e-15+0.j ...\n",
      "  -1.32322640e-16+0.j -2.19544587e-17+0.j  1.55458710e-16+0.j]\n",
      " [ 1.71833776e-14+0.j  6.20374618e-16+0.j  3.14459658e-14+0.j ...\n",
      "  -2.19546705e-17+0.j  1.15080014e-16+0.j -1.62048202e-16+0.j]\n",
      " [ 9.34232570e-15+0.j -1.95550803e-13+0.j -2.37384241e-14+0.j ...\n",
      "   1.55458498e-16+0.j -1.62048414e-16+0.j  1.23991605e-15+0.j]]\n",
      "Norm of matrix without integration weights = 0.00000.\n",
      "\n"
     ]
    }
   ],
   "source": [
    "zero_matrix = delta_U + delta_U_dag + delta_U2  # fm^3\n",
    "print(zero_matrix)\n",
    "print(\"Norm of matrix without integration weights = \"\n",
    "      f\"{la.norm(zero_matrix):.5f}.\\n\")"
   ]
  },
  {
   "cell_type": "code",
   "execution_count": 63,
   "id": "6db74c54",
   "metadata": {},
   "outputs": [
    {
     "data": {
      "image/png": "[encoded data removed]",
      "text/plain": [
       "<Figure size 600x600 with 2 Axes>"
      ]
     },
     "metadata": {},
     "output_type": "display_data"
    }
   ],
   "source": [
    "plot_delU_sum(k_array, zero_matrix.real, colorbar_limits=(-1e-3,1e-3))"
   ]
  },
  {
   "cell_type": "markdown",
   "id": "30072028",
   "metadata": {},
   "source": [
    "## Test cancelation of matrix elements in plane wave basis"
   ]
  },
  {
   "cell_type": "markdown",
   "id": "7eb210c7",
   "metadata": {},
   "source": [
    "The plane-wave matrix elements of $\\delta U$ can be expressed in terms of the partial wave matrix elements (with many sums and Clesbch-Gordan coefficients):\n",
    "\n",
    "$$\n",
    "\\begin{align}\n",
    "\\delta U(\\mathbf{k},\\mathbf{k'}) &\\equiv \\langle \\mathbf{k} \\sigma_1 \\tau_1 \\sigma_2 \\tau_2 \\vert \\delta U \\vert \\mathbf{k'} \\sigma_3 \\tau_3 \\sigma_4 \\tau_4 \\rangle \\\\\n",
    "&= \\frac{1}{2} \\frac{2}{\\pi} \\sum_{S M_S} \\sum_{T M_T} \\sum_{L M_L} \\sum_{L' M_L'} \\sum_{J M_J}\n",
    "    \\langle \\sigma_1 \\sigma_2 \\vert S M_S \\rangle \\langle S M_S \\vert \\sigma_3 \\sigma_4 \\rangle\n",
    "    \\langle \\tau_1 \\tau_2 \\vert T M_T \\rangle \\langle T M_T \\vert \\tau_3 \\tau_4 \\rangle\n",
    "    \\langle L M_L S M_S \\vert J M_J \\rangle \\\\\n",
    "    &\\qquad\\times \\langle J M_J \\vert L M_L S M_S \\rangle\n",
    "    \\bigl( 1-(-1)^{L+S+T} \\bigr) \\bigl( 1-(-1)^{L'+S+T} \\bigr)\n",
    "    Y_{L M_L}(\\Omega_{\\mathbf{k}}) Y^*_{L' M_L'}(\\Omega_{\\mathbf{k'}})\n",
    "    \\langle k J (L S) T \\vert \\delta U \\vert k' J (L' S) T \\rangle\n",
    "\\end{align}\n",
    "$$"
   ]
  },
  {
   "cell_type": "markdown",
   "id": "d82a93a1",
   "metadata": {},
   "source": [
    "$$\n",
    "\\begin{align}\n",
    "0 &= \\delta U(\\mathbf{k},\\mathbf{k'}) + \\delta U^\\dagger(\\mathbf{k},\\mathbf{k'}) \n",
    "    + \\frac{1}{2} \\sum_{\\mathbf{q}} \\delta U(\\mathbf{k},\\mathbf{q}) \\delta U^\\dagger(\\mathbf{q},\\mathbf{k'}) \\\\\n",
    "&= \\Bigl[\n",
    "    \\frac{1}{2} \\frac{2}{\\pi} \\sum_{S M_S} \\sum_{T M_T} \\sum_{L M_L} \\sum_{L' M_L'} \\sum_{J M_J}\n",
    "    \\langle \\sigma_1 \\sigma_2 \\vert S M_S \\rangle \\langle S M_S \\vert \\sigma_3 \\sigma_4 \\rangle\n",
    "    \\langle \\tau_1 \\tau_2 \\vert T M_T \\rangle \\langle T M_T \\vert \\tau_3 \\tau_4 \\rangle\n",
    "    \\langle L M_L S M_S \\vert J M_J \\rangle \\langle J M_J \\vert L M_L S M_S \\rangle \\\\\n",
    "    &\\qquad\\times \\bigl( 1-(-1)^{L+S+T} \\bigr) \\bigl( 1-(-1)^{L'+S+T} \\bigr)\n",
    "    Y_{L M_L}(\\Omega_{\\mathbf{k}}) Y^*_{L' M_L'}(\\Omega_{\\mathbf{k'}})\n",
    "    \\bigl(\n",
    "        \\langle k J (L S) T \\vert \\delta U \\vert k' J (L' S) T \\rangle\n",
    "        + \\langle k J (L S) T \\vert \\delta U^\\dagger \\vert k' J (L' S) T \\rangle\n",
    "    \\bigr) \\\\\n",
    "    &\\quad+ (\\frac{1}{2} \\frac{2}{\\pi})^2 \\sum_{\\sigma \\sigma'} \\sum_{\\tau \\tau'}\n",
    "    \\sum_{S M_S} \\sum_{T M_T} \\sum_{L M_L} \\sum_{L'' M_L''} \\sum_{J M_J}\n",
    "    \\sum_{S' M_S'} \\sum_{T' M_T'} \\sum_{L''' M_L'''} \\sum_{L' M_L'} \\sum_{J' M_J'}\n",
    "    \\int_0^\\infty dq q^2 \\int d\\Omega_{\\mathbf{q}} \\\\\n",
    "        &\\qquad\\times \\langle \\sigma_1 \\sigma_2 \\vert S M_S \\rangle \\langle S M_S \\vert \\sigma \\sigma' \\rangle\n",
    "        \\langle \\sigma \\sigma' \\vert S' M_S' \\rangle \\langle S' M_S' \\vert \\sigma_3 \\sigma_4 \\rangle\n",
    "        \\langle \\tau_1 \\tau_2 \\vert T M_T \\rangle \\langle T M_T \\vert \\tau \\tau' \\rangle\n",
    "        \\langle \\tau \\tau' \\vert T' M_T' \\rangle \\langle T' M_T' \\vert \\tau_3 \\tau_4 \\rangle \\\\\n",
    "        &\\qquad\\times \\langle L M_L S M_S \\vert J M_J \\rangle \\langle J M_J \\vert L'' M_L'' S M_S \\rangle\n",
    "        \\langle L''' M_L''' S' M_S' \\vert J' M_J' \\rangle \\langle J' M_J' \\vert L' M_L' S' M_S' \\rangle \\\\\n",
    "        &\\qquad\\times \\bigl( 1-(-1)^{L+S+T} \\bigr) \\bigl( 1-(-1)^{L''+S+T} \\bigr)\n",
    "        \\bigl( 1-(-1)^{L'''+S'+T'} \\bigr) \\bigl( 1-(-1)^{L'+S'+T'} \\bigr)\n",
    "        Y_{L M_L}(\\Omega_{\\mathbf{k}}) Y^*_{L'' M_L''}(\\Omega_{\\mathbf{q}})\n",
    "        Y_{L''' M_L'''}(\\Omega_{\\mathbf{q}}) Y^*_{L' M_L'}(\\Omega_{\\mathbf{k'}}) \\\\\n",
    "        &\\qquad\\times \\langle k J (L S) T \\vert \\delta U \\vert q J (L'' S) T \\rangle\n",
    "        \\langle q J' (L''' S') T' \\vert \\delta U \\vert k' J' (L' S') T' \\rangle\n",
    "\\Bigr].\n",
    "\\end{align}\n",
    "$$\n",
    "To test the cancelation, we will fix the single-particle momenta $\\mathbf{k}$ and $\\mathbf{k'}$, the spin projections $\\sigma_i$, and the isospin projections $\\tau_i$.\n",
    "In this way, we will output a number (that should be zero)."
   ]
  },
  {
   "cell_type": "code",
   "execution_count": 64,
   "id": "a21fa58f",
   "metadata": {},
   "outputs": [],
   "source": [
    "from sympy.physics.quantum.cg import CG"
   ]
  },
  {
   "cell_type": "code",
   "execution_count": 65,
   "id": "e359da60",
   "metadata": {
    "code_folding": [
     0
    ]
   },
   "outputs": [],
   "source": [
    "def compute_clebsch_gordan_table(j_max):\n",
    "    \"\"\"\n",
    "    Calculate Clebsch-Gordan coefficients for all combinations of j and m_j up\n",
    "    to j_max.\n",
    "    \n",
    "    Parameters\n",
    "    ----------\n",
    "    j_max : int\n",
    "        Maximum j value for j_1, j_2, and j_3. This also constrains m_j.\n",
    "    \n",
    "    Returns\n",
    "    -------\n",
    "    cg_table : dict\n",
    "        Table of Clebsch-Gordan coefficients <j_1 m_j_1 j_2 m_j_2|j_3 m_j_3>\n",
    "        for each combination of angular momenta.\n",
    "        \n",
    "    \"\"\"\n",
    "        \n",
    "    cg_table = {}\n",
    "        \n",
    "    j_array = np.arange(0, j_max+1/2, 1/2)\n",
    "\n",
    "    for j_1 in j_array:\n",
    "        for m_1 in np.arange(-j_1, j_1+1, 1):\n",
    "            for j_2 in j_array:\n",
    "                for m_2 in np.arange(-j_2, j_2+1, 1):\n",
    "                    for j_3 in j_array:\n",
    "                        for m_3 in np.arange(-j_3, j_3+1, 1):\n",
    "                            cg_table[(j_1,m_1,j_2,m_2,j_3,m_3)] = float(\n",
    "                                CG(j_1,m_1,j_2,m_2,j_3,m_3).doit()\n",
    "                            )\n",
    "                                \n",
    "    return cg_table"
   ]
  },
  {
   "cell_type": "code",
   "execution_count": 66,
   "id": "fd8d263c",
   "metadata": {
    "code_folding": [
     0
    ]
   },
   "outputs": [],
   "source": [
    "def get_total_isospin(L, S):\n",
    "    \"\"\"Total isospin according to antisymmetry.\"\"\"\n",
    "    \n",
    "    # Make sure [1-(-1)^(L+S+T)] is not zero\n",
    "    if (1-(-1)**(L+S)) == 0:\n",
    "        T = 1\n",
    "    else:\n",
    "        T = 0\n",
    "        \n",
    "    return T"
   ]
  },
  {
   "cell_type": "code",
   "execution_count": 67,
   "id": "e34bbdff",
   "metadata": {
    "code_folding": []
   },
   "outputs": [],
   "source": [
    "# MAKE THIS A FUNCTION OF k, \\theta_k, \\phi_k, k', \\theta_k', \\phi_k'\n",
    "# SHOULD RETURN A NUMBER!\n",
    "def delta_U_matrix_elements(\n",
    "        k_grid, theta_k_grid, phi_k_grid, kp_grid, theta_kp_grid, phi_kp_grid,\n",
    "        sigma_1, sigma_2, sigma_3, sigma_4, tau_1, tau_2, tau_3, tau_4,\n",
    "        cg_table, channel, delta_U_func=None, delta_U_dag_func=None\n",
    "):\n",
    "    \"\"\"Matrix element of \\delta U or \\delta U^\\dagger in the plane-wave basis.\n",
    "    \"\"\"\n",
    "    \n",
    "    # Get channel quantum numbers\n",
    "    L, Lp, S, J = get_channel_quantum_numbers(channel)\n",
    "    T = get_total_isospin(L, S)\n",
    "    \n",
    "    if delta_U_func is not None:\n",
    "        delta_U_partial_wave = delta_U_func.ev(k_grid, kp_grid)\n",
    "    elif delta_U_dag_func is not None:\n",
    "        delta_U_partial_wave = delta_U_dag_func.ev(k_grid, kp_grid)\n",
    "    else:\n",
    "        raise RuntimeError(\"Need to input a \\delta U function!\")\n",
    "    \n",
    "    # L S T factor\n",
    "    lst_factor = 1-(-1)**(L+S+T)\n",
    "    # L' S T factor\n",
    "    lpst_factor = 1-(-1)**(Lp+S+T)\n",
    "    \n",
    "    # Restrict quantum numbers when possible\n",
    "    M_S = sigma_1 + sigma_2\n",
    "    if M_S != sigma_3 + sigma_4 or abs(M_S) > S:\n",
    "        return 0\n",
    "    spin_12_cg = cg_table[(1/2, sigma_1, 1/2, sigma_2, S, M_S)]\n",
    "    spin_34_cg = cg_table[(1/2, sigma_3, 1/2, sigma_4, S, M_S)]\n",
    "    \n",
    "    M_T = tau_1 + tau_2\n",
    "    if M_T != tau_3 + tau_4 or abs(M_T) > T:\n",
    "        return 0\n",
    "    isospin_12_cg = cg_table[(1/2, tau_1, 1/2, tau_2, T, M_T)]\n",
    "    isospin_34_cg = cg_table[(1/2, tau_3, 1/2, tau_4, T, M_T)]\n",
    "    \n",
    "    # Loop over M_L and M_L'\n",
    "    delta_U_plane_wave = np.zeros_like(k_grid, dtype='complex')\n",
    "    for M_L in np.arange(-L, L+1, 1):\n",
    "        \n",
    "        M_J = M_L + M_S\n",
    "        \n",
    "        if abs(M_J) > J:\n",
    "            \n",
    "            return 0\n",
    "        \n",
    "        else:\n",
    "            \n",
    "            lsj_cg = cg_table[(L, M_L, S, M_S, J, M_J)]\n",
    "            Y_L_k = sph_harm(M_L, L, phi_k_grid, theta_k_grid)\n",
    "            \n",
    "            for M_Lp in np.arange(-Lp, Lp+1, 1):\n",
    "                \n",
    "                if M_Lp + M_S != M_J:\n",
    "                    \n",
    "                    return 0\n",
    "                \n",
    "                else:\n",
    "                    \n",
    "                    lpsj_cg = cg_table[(Lp, M_Lp, S, M_S, J, M_J)]\n",
    "                    Y_Lp_kp = sph_harm(M_Lp, Lp, phi_kp_grid, theta_kp_grid)\n",
    "                    \n",
    "                    delta_U_plane_wave += (\n",
    "                        1/2 * np.pi/2 * spin_12_cg * spin_34_cg\n",
    "                        * isospin_12_cg * isospin_34_cg * lsj_cg * lpsj_cg\n",
    "                        * Y_L_k * np.conj(Y_Lp_kp) * lst_factor * lpst_factor\n",
    "                        * delta_U_partial_wave\n",
    "                    )\n",
    "    \n",
    "    # Return 6-D array\n",
    "    return delta_U_plane_wave"
   ]
  },
  {
   "cell_type": "code",
   "execution_count": 68,
   "id": "177bf494",
   "metadata": {
    "code_folding": [
     5
    ]
   },
   "outputs": [],
   "source": [
    "# MAKE THIS A FUNCTION OF k, \\theta_k, \\phi_k, k', \\theta_k', \\phi_k'\n",
    "# BUILD q_grid, theta_q_grid, and phi_q_grid INSIDE FUNCTION\n",
    "# SHOULD RETURN A NUMBER!\n",
    "def delta_U2_matrix_element(\n",
    "        k_grid, theta_k_grid, phi_k_grid, kp_grid, theta_kp_grid, phi_kp_grid,\n",
    "        q_grid, theta_q_grid, phi_q_grid, dq_grid, dtheta_q_grid, dphi_q_grid,\n",
    "        sigma_1, sigma_2, sigma_3, sigma_4, tau_1, tau_2, tau_3, tau_4,\n",
    "        cg_table, channel, delta_U_func, delta_U_dag_func\n",
    "):\n",
    "    \"\"\"Matrix element of \\delta U \\delta U^\\dagger in the plane-wave basis.\"\"\"\n",
    "    \n",
    "    # Jacobian for q_vector integration\n",
    "    jacobian = (dq_grid * q_grid ** 2 * np.sin(theta_q_grid) * dtheta_q_grid\n",
    "                * dphi_q_grid)\n",
    "    \n",
    "    # Sum over \\sigma, \\sigma', \\tau, and \\tau'\n",
    "    integrand = np.zeros_like(k_grid, dtype='complex')\n",
    "    spins = [1/2, -1/2]\n",
    "    for sigma in spins:\n",
    "        for sigmap in spins:\n",
    "            for tau in spins:\n",
    "                for taup in spins:\n",
    "                    \n",
    "                    delta_U_plane_wave = delta_U_matrix_elements(\n",
    "                        k_grid, theta_k_grid, phi_k_grid, q_grid, theta_q_grid,\n",
    "                        phi_q_grid, sigma_1, sigma_2, sigma, sigmap, tau_1,\n",
    "                        tau_2, tau, taup, cg_table, channel,\n",
    "                        delta_U_func=delta_U_func\n",
    "                    )\n",
    "                    \n",
    "                    delta_U_dag_plane_wave = delta_U_matrix_elements(\n",
    "                        q_grid, theta_q_grid, phi_q_grid, kp_grid,\n",
    "                        theta_kp_grid, phi_kp_grid, sigma, sigmap, sigma_3,\n",
    "                        sigma_4, tau, tau, tau_3, tau_4, cg_table, channel,\n",
    "                        delta_U_dag_func=delta_U_dag_func\n",
    "                    )\n",
    "                    \n",
    "                    integrand += (jacobian * delta_U_plane_wave\n",
    "                                  * delta_U_dag_plane_wave)\n",
    "    \n",
    "    # Integrate over q_vector and return 6-D array\n",
    "    return np.sum(np.sum(np.sum(integrand, axis=-1), axis=-1), axis=-1)"
   ]
  },
  {
   "cell_type": "code",
   "execution_count": 69,
   "id": "d98ae03d",
   "metadata": {},
   "outputs": [],
   "source": [
    "# SET k, \\theta_k, \\phi_k, k', \\theta_k', \\phi_k' INSTEAD OF THIS!\n",
    "theta_array, theta_weights = gaussian_quadrature_mesh(np.pi, 5)\n",
    "phi_array, phi_weights = gaussian_quadrature_mesh(2*np.pi, 5)\n",
    "k_array, k_weights = gaussian_quadrature_mesh(5.0, 17)\n",
    "\n",
    "# Set momenta\n",
    "k, kp = 0.2, 0.2\n",
    "# k, kp = 0.2, 2.5\n",
    "# k, kp = 0.2, 4.5\n",
    "# k, kp = 2.5, 2.5\n",
    "# k, kp = 4.5, 4.5\n",
    "\n",
    "# Set \\theta\n",
    "theta_k, theta_kp = 0.0, 0.0\n",
    "# theta_k, theta_kp = 0.0, np.pi/4\n",
    "# theta_k, theta_kp = 0.0, np.pi/2\n",
    "# theta_k, theta_kp = 0.0, np.pi\n",
    "# theta_k, theta_kp = np.pi/4, np.pi/4\n",
    "# theta_k, theta_kp = np.pi/4, np.pi/2\n",
    "# ...\n",
    "\n",
    "# Set \\phi\n",
    "phi_k, phi_kp = 0.0, 0.0\n",
    "# phi_k, phi_kp = 0.0, np.pi/4\n",
    "# phi_k, phi_kp = np.pi/4, 5*np.pi/4"
   ]
  },
  {
   "cell_type": "code",
   "execution_count": 70,
   "id": "9e5f6bcc",
   "metadata": {},
   "outputs": [],
   "source": [
    "cg_table = compute_clebsch_gordan_table(4)"
   ]
  },
  {
   "cell_type": "code",
   "execution_count": 71,
   "id": "a608bf1e",
   "metadata": {},
   "outputs": [],
   "source": [
    "# Set spins, isospins, and channel\n",
    "sigma_1, sigma_2, sigma_3, sigma_4 = 1/2, -1/2, 1/2, -1/2\n",
    "tau_1, tau_2, tau_3, tau_4 = 1/2, -1/2, 1/2, -1/2\n",
    "\n",
    "# YOU NEED TO SET ARGUMENTS IN\n",
    "# \"Testing cancelation of matrix elements with spherical harmonics included\"\n",
    "# FROM ABOVE!"
   ]
  },
  {
   "cell_type": "code",
   "execution_count": 72,
   "id": "844db51c",
   "metadata": {},
   "outputs": [],
   "source": [
    "# NO NEED FOR INTEGRATION FACTORS\n",
    "# Create 6-D meshgrids for \\delta U linear terms\n",
    "(k_grid_6d, theta_k_grid_6d, phi_k_grid_6d, kp_grid_6d, theta_kp_grid_6d,\n",
    " phi_kp_grid_6d) = np.meshgrid(k_array, theta_array, phi_array, k_array,\n",
    "                               theta_array, phi_array, indexing='ij')\n",
    "(_, dtheta_k_grid_6d, dphi_k_grid_6d, _, dtheta_kp_grid_6d, dphi_kp_grid_6d) = (\n",
    "    np.meshgrid(k_weights, theta_weights, phi_weights, k_weights, theta_weights,\n",
    "                phi_weights, indexing='ij')\n",
    ")\n",
    "\n",
    "jacobian_6d = (np.sin(theta_k_grid_6d) * dtheta_k_grid_6d * dphi_k_grid_6d\n",
    "               * np.sin(theta_kp_grid_6d) * dtheta_kp_grid_6d * dphi_kp_grid_6d)"
   ]
  },
  {
   "cell_type": "code",
   "execution_count": 73,
   "id": "10d8d289",
   "metadata": {},
   "outputs": [],
   "source": [
    "# EVALUATE MATRIX ELEMENTS WHICH ARE NUMBERS NOT 6-D ARRAYS\n",
    "# Evaluate \\delta U and \\delta U^\\dagger 6-D arrays\n",
    "delta_U_6d = delta_U_matrix_elements(\n",
    "    k_grid_6d, theta_k_grid_6d, phi_k_grid_6d, kp_grid_6d, theta_kp_grid_6d,\n",
    "    phi_kp_grid_6d, sigma_1, sigma_2, sigma_3, sigma_4, tau_1, tau_2, tau_3,\n",
    "    tau_4, cg_table, channel, delta_U_func=delta_U_func\n",
    ")\n",
    "\n",
    "delta_U_dag_6d = delta_U_matrix_elements(\n",
    "    k_grid_6d, theta_k_grid_6d, phi_k_grid_6d, kp_grid_6d, theta_kp_grid_6d,\n",
    "    phi_kp_grid_6d, sigma_1, sigma_2, sigma_3, sigma_4, tau_1, tau_2, tau_3,\n",
    "    tau_4, cg_table, channel, delta_U_dag_func=delta_U_dag_func\n",
    ")"
   ]
  },
  {
   "cell_type": "code",
   "execution_count": 74,
   "id": "ae15fe8e",
   "metadata": {},
   "outputs": [],
   "source": [
    "# THIS SHOULD BE IN THE FUNCTION AS 3-D ARRAYS\n",
    "# Create 9-D meshgrids for \\delta U^2 terms\n",
    "(k_grid_9d, theta_k_grid_9d, phi_k_grid_9d, kp_grid_9d, theta_kp_grid_9d,\n",
    " phi_kp_grid_9d, q_grid_9d, theta_q_grid_9d, phi_q_grid_9d) = np.meshgrid(\n",
    "    k_array, theta_array, phi_array, k_array, theta_array, phi_array,\n",
    "    k_array, theta_array, phi_array, indexing='ij'\n",
    ")\n",
    "\n",
    "_, _, _, _, _, _, dq_grid_9d, dtheta_q_grid_9d, dphi_q_grid_9d = np.meshgrid(\n",
    "    k_array, theta_array, phi_array, k_array, theta_array, phi_array, k_weights,\n",
    "    theta_weights, phi_weights, indexing='ij'\n",
    ")"
   ]
  },
  {
   "cell_type": "code",
   "execution_count": 75,
   "id": "40ea81dd",
   "metadata": {},
   "outputs": [],
   "source": [
    "# EVALUATE MATRIX ELEMENT WHICH IS A NUMBER AFTER INTEGRATING IN FUNCTION\n",
    "delta_U2_6d = delta_U2_matrix_element(\n",
    "    k_grid_9d, theta_k_grid_9d, phi_k_grid_9d, kp_grid_9d, theta_kp_grid_9d,\n",
    "    phi_kp_grid_9d, q_grid_9d, theta_q_grid_9d, phi_q_grid_9d, dq_grid_9d,\n",
    "    dtheta_q_grid_9d, dphi_q_grid_9d, sigma_1, sigma_2, sigma_3, sigma_4, tau_1,\n",
    "    tau_2, tau_3, tau_4, cg_table, channel, delta_U_func, delta_U_dag_func\n",
    ")"
   ]
  },
  {
   "cell_type": "code",
   "execution_count": null,
   "id": "4bdb854b",
   "metadata": {},
   "outputs": [],
   "source": [
    "# CREATE MAIN FUNCTION THAT RUNS THE PREVIOUS CELLS GIVEN PLANE-WAVE ARGUMENTS\n",
    "# RETURNS A NUMBER (SHOULD BE ZERO)"
   ]
  },
  {
   "cell_type": "code",
   "execution_count": 76,
   "id": "e9eb6bb5",
   "metadata": {},
   "outputs": [
    {
     "name": "stdout",
     "output_type": "stream",
     "text": [
      "(17, 5, 5, 17, 5, 5)\n"
     ]
    }
   ],
   "source": [
    "# SHOULD BE A NUMBER NOT 6-D ARRAY\n",
    "zero_matrix_6d = delta_U_6d + delta_U_dag_6d + delta_U2_6d\n",
    "print(zero_matrix_6d.shape)"
   ]
  },
  {
   "cell_type": "code",
   "execution_count": 77,
   "id": "bd73bf7c",
   "metadata": {},
   "outputs": [
    {
     "name": "stdout",
     "output_type": "stream",
     "text": [
      "[[-1.66601084e+00+0.j -1.64688334e+00+0.j -1.55091885e+00+0.j\n",
      "  -1.28197159e+00+0.j -7.44650320e-01+0.j -4.37468593e-02+0.j\n",
      "   2.40982282e-01+0.j -1.27880257e-01+0.j -3.73350788e-01+0.j\n",
      "  -2.85624450e-01+0.j -1.37278798e-01+0.j -6.14423178e-02+0.j\n",
      "  -3.60816414e-02+0.j -2.56821968e-02+0.j -1.91946561e-02+0.j\n",
      "  -1.50244026e-02+0.j -1.28457693e-02+0.j]\n",
      " [-1.64688334e+00+0.j -1.62817304e+00+0.j -1.53425389e+00+0.j\n",
      "  -1.27072309e+00+0.j -7.42889266e-01+0.j -5.12278354e-02+0.j\n",
      "   2.33392453e-01+0.j -1.29566474e-01+0.j -3.71877857e-01+0.j\n",
      "  -2.83298216e-01+0.j -1.35174775e-01+0.j -5.99529404e-02+0.j\n",
      "  -3.51305392e-02+0.j -2.50747153e-02+0.j -1.87817393e-02+0.j\n",
      "  -1.47150314e-02+0.j -1.25843842e-02+0.j]\n",
      " [-1.55091885e+00+0.j -1.53425389e+00+0.j -1.45039269e+00+0.j\n",
      "  -1.21355919e+00+0.j -7.32727975e-01+0.j -8.73912269e-02+0.j\n",
      "   1.95909873e-01+0.j -1.37893132e-01+0.j -3.64429059e-01+0.j\n",
      "  -2.71596439e-01+0.j -1.24610349e-01+0.j -5.24831198e-02+0.j\n",
      "  -3.03626974e-02+0.j -2.20295802e-02+0.j -1.67115753e-02+0.j\n",
      "  -1.31636746e-02+0.j -1.12734580e-02+0.j]\n",
      " [-1.28197159e+00+0.j -1.27072309e+00+0.j -1.21355919e+00+0.j\n",
      "  -1.04800420e+00+0.j -6.94353569e-01+0.j -1.78319371e-01+0.j\n",
      "   9.56599260e-02+0.j -1.59688956e-01+0.j -3.42748740e-01+0.j\n",
      "  -2.38608249e-01+0.j -9.51716445e-02+0.j -3.17730879e-02+0.j\n",
      "  -1.71589213e-02+0.j -1.35919664e-02+0.j -1.09707230e-02+0.j\n",
      "  -8.85890541e-03+0.j -7.63465743e-03+0.j]\n",
      " [-7.44650320e-01+0.j -7.42889266e-01+0.j -7.32727975e-01+0.j\n",
      "  -6.94353569e-01+0.j -5.74825776e-01+0.j -3.14544913e-01+0.j\n",
      "  -8.46361478e-02+0.j -1.97283338e-01+0.j -2.95238130e-01+0.j\n",
      "  -1.70507003e-01+0.j -3.57930114e-02+0.j  9.53712399e-03+0.j\n",
      "   9.09737494e-03+0.j  3.19945818e-03+0.j  4.73761155e-04+0.j\n",
      "  -2.64395308e-04+0.j -3.63240690e-04+0.j]\n",
      " [-4.37468593e-02+0.j -5.12278354e-02+0.j -8.73912269e-02+0.j\n",
      "  -1.78319371e-01+0.j -3.14544913e-01+0.j -3.80488044e-01+0.j\n",
      "  -2.76477140e-01+0.j -2.38043283e-01+0.j -2.19210881e-01+0.j\n",
      "  -6.69529851e-02+0.j  5.20441459e-02+0.j  6.94655525e-02+0.j\n",
      "   4.68514879e-02+0.j  2.73167875e-02+0.j  1.69533486e-02+0.j\n",
      "   1.21536626e-02+0.j  1.01694153e-02+0.j]\n",
      " [ 2.40982282e-01+0.j  2.33392453e-01+0.j  1.95909873e-01+0.j\n",
      "   9.56599260e-02+0.j -8.46361478e-02+0.j -2.76477140e-01+0.j\n",
      "  -3.24253707e-01+0.j -2.72915445e-01+0.j -1.65792076e-01+0.j\n",
      "   2.49396088e-02+0.j  1.31084791e-01+0.j  1.21354256e-01+0.j\n",
      "   7.85408420e-02+0.j  4.73314580e-02+0.j  3.06728506e-02+0.j\n",
      "   2.25849892e-02+0.j  1.90842859e-02+0.j]\n",
      " [-1.27880257e-01+0.j -1.29566474e-01+0.j -1.37893132e-01+0.j\n",
      "  -1.59688956e-01+0.j -1.97283338e-01+0.j -2.38043283e-01+0.j\n",
      "  -2.72915445e-01+0.j -3.37631629e-01+0.j -2.71419126e-01+0.j\n",
      "   5.90126953e-03+0.j  1.44023587e-01+0.j  1.28178637e-01+0.j\n",
      "   8.05170413e-02+0.j  4.79154745e-02+0.j  3.10620457e-02+0.j\n",
      "   2.30184308e-02+0.j  1.95644947e-02+0.j]\n",
      " [-3.73350788e-01+0.j -3.71877857e-01+0.j -3.64429059e-01+0.j\n",
      "  -3.42748740e-01+0.j -2.95238130e-01+0.j -2.19210881e-01+0.j\n",
      "  -1.65792076e-01+0.j -2.71419126e-01+0.j -4.78217562e-01+0.j\n",
      "  -2.44756598e-01+0.j  4.91708437e-02+0.j  7.72139803e-02+0.j\n",
      "   4.68149103e-02+0.j  2.55339799e-02+0.j  1.55606798e-02+0.j\n",
      "   1.13081081e-02+0.j  9.63629202e-03+0.j]\n",
      " [-2.85624450e-01+0.j -2.83298216e-01+0.j -2.71596439e-01+0.j\n",
      "  -2.38608249e-01+0.j -1.70507003e-01+0.j -6.69529851e-02+0.j\n",
      "   2.49396088e-02+0.j  5.90126953e-03+0.j -2.44756598e-01+0.j\n",
      "  -4.74586162e-01+0.j -1.76277688e-01+0.j -1.44794316e-02+0.j\n",
      "  -5.19143534e-03+0.j -7.53245739e-03+0.j -7.26611477e-03+0.j\n",
      "  -6.17293194e-03+0.j -5.39056130e-03+0.j]\n",
      " [-1.37278798e-01+0.j -1.35174775e-01+0.j -1.24610349e-01+0.j\n",
      "  -9.51716445e-02+0.j -3.57930114e-02+0.j  5.20441459e-02+0.j\n",
      "   1.31084791e-01+0.j  1.44023587e-01+0.j  4.91708437e-02+0.j\n",
      "  -1.76277688e-01+0.j -2.81950421e-01+0.j -1.07259467e-01+0.j\n",
      "  -4.34948903e-02+0.j -2.91728808e-02+0.j -2.16886698e-02+0.j\n",
      "  -1.72332322e-02+0.j -1.50029895e-02+0.j]\n",
      " [-6.14423178e-02+0.j -5.99529404e-02+0.j -5.24831198e-02+0.j\n",
      "  -3.17730879e-02+0.j  9.53712399e-03+0.j  6.94655525e-02+0.j\n",
      "   1.21354256e-01+0.j  1.28178637e-01+0.j  7.72139803e-02+0.j\n",
      "  -1.44794316e-02+0.j -1.07259467e-01+0.j -1.01032271e-01+0.j\n",
      "  -4.61918173e-02+0.j -2.71516935e-02+0.j -1.92446307e-02+0.j\n",
      "  -1.50768818e-02+0.j -1.31185008e-02+0.j]\n",
      " [-3.60816414e-02+0.j -3.51305392e-02+0.j -3.03626974e-02+0.j\n",
      "  -1.71589213e-02+0.j  9.09737494e-03+0.j  4.68514879e-02+0.j\n",
      "   7.85408420e-02+0.j  8.05170413e-02+0.j  4.68149103e-02+0.j\n",
      "  -5.19143534e-03+0.j -4.34948903e-02+0.j -4.61918173e-02+0.j\n",
      "  -2.83842118e-02+0.j -1.65271775e-02+0.j -1.08989582e-02+0.j\n",
      "  -8.09855522e-03+0.j -6.87172869e-03+0.j]\n",
      " [-2.56821968e-02+0.j -2.50747153e-02+0.j -2.20295802e-02+0.j\n",
      "  -1.35919664e-02+0.j  3.19945818e-03+0.j  2.73167875e-02+0.j\n",
      "   4.73314580e-02+0.j  4.79154745e-02+0.j  2.55339799e-02+0.j\n",
      "  -7.53245739e-03+0.j -2.91728808e-02+0.j -2.71516935e-02+0.j\n",
      "  -1.65271775e-02+0.j -1.17031463e-02+0.j -7.96730512e-03+0.j\n",
      "  -4.62637936e-03+0.j -3.21227723e-03+0.j]\n",
      " [-1.91946561e-02+0.j -1.87817393e-02+0.j -1.67115753e-02+0.j\n",
      "  -1.09707230e-02+0.j  4.73761155e-04+0.j  1.69533486e-02+0.j\n",
      "   3.06728506e-02+0.j  3.10620457e-02+0.j  1.55606798e-02+0.j\n",
      "  -7.26611477e-03+0.j -2.16886698e-02+0.j -1.92446307e-02+0.j\n",
      "  -1.08989582e-02+0.j -7.96730512e-03+0.j -9.08250143e-03+0.j\n",
      "  -7.02233546e-03+0.j -4.93223668e-03+0.j]\n",
      " [-1.50244026e-02+0.j -1.47150314e-02+0.j -1.31636746e-02+0.j\n",
      "  -8.85890541e-03+0.j -2.64395308e-04+0.j  1.21536626e-02+0.j\n",
      "   2.25849892e-02+0.j  2.30184308e-02+0.j  1.13081081e-02+0.j\n",
      "  -6.17293194e-03+0.j -1.72332322e-02+0.j -1.50768818e-02+0.j\n",
      "  -8.09855522e-03+0.j -4.62637936e-03+0.j -7.02233546e-03+0.j\n",
      "  -8.70102484e-03+0.j -7.87789480e-03+0.j]\n",
      " [-1.28457693e-02+0.j -1.25843842e-02+0.j -1.12734580e-02+0.j\n",
      "  -7.63465743e-03+0.j -3.63240690e-04+0.j  1.01694153e-02+0.j\n",
      "   1.90842859e-02+0.j  1.95644947e-02+0.j  9.63629202e-03+0.j\n",
      "  -5.39056130e-03+0.j -1.50029895e-02+0.j -1.31185008e-02+0.j\n",
      "  -6.87172869e-03+0.j -3.21227723e-03+0.j -4.93223668e-03+0.j\n",
      "  -7.87789480e-03+0.j -8.30959818e-03+0.j]]\n",
      "Norm of matrix without integration weights = 6.52580.\n",
      "\n"
     ]
    }
   ],
   "source": [
    "# CAN PROBABLY DELETE THIS\n",
    "# Integrate over \\Omega_k and \\Omega_k'\n",
    "integrand = zero_matrix_6d * jacobian_6d\n",
    "\n",
    "# If this seems tricky, print .shape of each and it will make sense\n",
    "zero_matrix_4d = np.sum(np.sum(zero_matrix_6d, axis=-1), axis=-1)  # \\Omega_k'\n",
    "zero_matrix_2d = np.sum(np.sum(zero_matrix_4d, axis=-2), axis=-2)  # \\Omega_k\n",
    "\n",
    "# print(zero_matrix_2d)\n",
    "print(\"Norm of matrix without integration weights = \"\n",
    "      f\"{la.norm(zero_matrix_2d):.5f}.\\n\")"
   ]
  },
  {
   "cell_type": "code",
   "execution_count": 82,
   "id": "1e1b5993",
   "metadata": {},
   "outputs": [
    {
     "data": {
      "image/png": "[encoded data removed]",
      "text/plain": [
       "<Figure size 600x600 with 2 Axes>"
      ]
     },
     "metadata": {},
     "output_type": "display_data"
    }
   ],
   "source": [
    "# CAN PROBABLY DELETE THIS\n",
    "plot_delU_sum(k_array, zero_matrix_2d.real, colorbar_limits=(-1e0,1e0))"
   ]
  },
  {
   "cell_type": "code",
   "execution_count": null,
   "id": "5544fe7f",
   "metadata": {},
   "outputs": [],
   "source": []
  }
 ],
 "metadata": {
  "kernelspec": {
   "display_name": "Python 3 (ipykernel)",
   "language": "python",
   "name": "python3"
  },
  "language_info": {
   "codemirror_mode": {
    "name": "ipython",
    "version": 3
   },
   "file_extension": ".py",
   "mimetype": "text/x-python",
   "name": "python",
   "nbconvert_exporter": "python",
   "pygments_lexer": "ipython3",
   "version": "3.9.13"
  }
 },
 "nbformat": 4,
 "nbformat_minor": 5
}

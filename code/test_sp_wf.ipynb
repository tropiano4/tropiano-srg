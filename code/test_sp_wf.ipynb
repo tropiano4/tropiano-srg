{
 "cells": [
  {
   "cell_type": "markdown",
   "id": "4e804c04",
   "metadata": {},
   "source": [
    "# Testing single-particle wave functions\n",
    "\n",
    "__Author:__ A. J. Tropiano [atropiano@anl.gov]<br/>\n",
    "__Date:__ November 17, 2022\n",
    "\n",
    "This notebook serves as a testbed for single-particle wave functions from a Wood-Saxon potential, and the SLy4 Skyrme functional using the `HFBRAD` code. The single-particle wave functions are inputs to the spectroscopic overlap $\\langle \\Psi_\\alpha^{A-1} \\lvert a_{\\mathbf{q}} \\rvert \\Psi_0^A \\rangle$.\n",
    "\n",
    "_Last update:_ November 17, 2022"
   ]
  },
  {
   "cell_type": "markdown",
   "id": "a9806bcc",
   "metadata": {},
   "source": [
    "### Run `f2py` on the Wood-Saxon subroutine"
   ]
  },
  {
   "cell_type": "code",
   "execution_count": null,
   "id": "1b15ccf9",
   "metadata": {},
   "outputs": [],
   "source": [
    "# %%bash\n",
    "# cd scripts\n",
    "# python -m numpy.f2py -c woodsaxon.f90 -m woodsaxon\n",
    "# cd ../"
   ]
  },
  {
   "cell_type": "markdown",
   "id": "ad224803",
   "metadata": {},
   "source": [
    "__To-do list:__\n",
    "* Compare the Wood-Saxon coordinate-space wave functions to the SLy4 ones, focusing on He4 $1s_{1/2}$ first.\n",
    "* Fourier transform and repeat the previous step.\n",
    "* Generate additional states. (How should I decide on additional states? Can I sort by energy?)\n",
    "* Simplify single-particle notation in this notebook. Make Python functions/classes that sort through the data and return single-particle functions simply."
   ]
  },
  {
   "cell_type": "markdown",
   "id": "d1d66fa5",
   "metadata": {},
   "source": [
    "__Questions about Wood-Saxon code:__\n",
    "* What is `nrad`?\n",
    "* What is the formatting of `norb`, `lorb`, and `jorb` arrays?\n",
    "* Where can I find the parameters for the potential `prm` and what are the \"best\" settings?"
   ]
  },
  {
   "cell_type": "code",
   "execution_count": null,
   "id": "0ce2161c",
   "metadata": {},
   "outputs": [],
   "source": []
  },
  {
   "cell_type": "code",
   "execution_count": null,
   "id": "339b90d0",
   "metadata": {},
   "outputs": [],
   "source": []
  },
  {
   "cell_type": "code",
   "execution_count": null,
   "id": "b6f85052",
   "metadata": {},
   "outputs": [],
   "source": []
  },
  {
   "cell_type": "code",
   "execution_count": null,
   "id": "a3d24c36",
   "metadata": {},
   "outputs": [],
   "source": []
  },
  {
   "cell_type": "code",
   "execution_count": null,
   "id": "437364eb",
   "metadata": {},
   "outputs": [],
   "source": []
  },
  {
   "cell_type": "code",
   "execution_count": null,
   "id": "decae7c7",
   "metadata": {},
   "outputs": [],
   "source": []
  }
 ],
 "metadata": {
  "kernelspec": {
   "display_name": "Python 3 (ipykernel)",
   "language": "python",
   "name": "python3"
  },
  "language_info": {
   "codemirror_mode": {
    "name": "ipython",
    "version": 3
   },
   "file_extension": ".py",
   "mimetype": "text/x-python",
   "name": "python",
   "nbconvert_exporter": "python",
   "pygments_lexer": "ipython3",
   "version": "3.9.13"
  }
 },
 "nbformat": 4,
 "nbformat_minor": 5
}

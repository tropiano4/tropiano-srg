{
 "cells": [
  {
   "cell_type": "markdown",
   "id": "503b0d8c",
   "metadata": {},
   "source": [
    "# Testing momentum distributions using single-particle wave functions\n",
    "\n",
    "__Author:__ A. J. Tropiano [atropiano@anl.gov]<br/>\n",
    "__Date:__ January 23, 2023\n",
    "\n",
    "This notebook serves as a testbed for calculating momentum distributions using mean field approximations for initial and final states and applying SRG transformations to the operator. This differs from the previous momentum distribution calculations by directly utilizing single-particle wave functions instead of a local density approximation. In this version, we test several `vegas` options to speed-up the code.\n",
    "\n",
    "_Last update:_ May 8, 2023"
   ]
  },
  {
   "cell_type": "code",
   "execution_count": 1,
   "id": "1deed0dd",
   "metadata": {},
   "outputs": [],
   "source": [
    "# Python imports\n",
    "from matplotlib.offsetbox import AnchoredText\n",
    "import matplotlib.pyplot as plt\n",
    "%matplotlib inline\n",
    "import numpy as np"
   ]
  },
  {
   "cell_type": "code",
   "execution_count": 2,
   "id": "317ad41d",
   "metadata": {},
   "outputs": [],
   "source": [
    "# Imports from scripts\n",
    "from scripts.figures import label_lambda, label_nucleus, set_rc_parameters\n",
    "from scripts.momentum_distributions import MomentumDistribution\n",
    "from scripts.tools import replace_periods"
   ]
  },
  {
   "cell_type": "markdown",
   "id": "2b6510f6",
   "metadata": {},
   "source": [
    "## Set-up"
   ]
  },
  {
   "cell_type": "code",
   "execution_count": 3,
   "id": "32659afd",
   "metadata": {},
   "outputs": [],
   "source": [
    "# Run this cell to turn on customized matplotlib graphics\n",
    "set_rc_parameters()"
   ]
  },
  {
   "cell_type": "code",
   "execution_count": 4,
   "id": "76a08062",
   "metadata": {},
   "outputs": [],
   "source": [
    "# Save figures in the following directory\n",
    "figures_directory = '../figures/momentum_distributions/'\n",
    "vmc_directory = '../data/vmc/momentum_distributions/'"
   ]
  },
  {
   "cell_type": "markdown",
   "id": "4bfc913e",
   "metadata": {},
   "source": [
    "## Momentum distributions"
   ]
  },
  {
   "cell_type": "code",
   "execution_count": 5,
   "id": "47036167",
   "metadata": {
    "code_folding": [
     0
    ]
   },
   "outputs": [],
   "source": [
    "def load_momentum_distribution(nucleus_name, nucleon, lamb):\n",
    "    \"\"\"Load and return the momentum distribution along with the isolated\n",
    "    contributions.\n",
    "    \"\"\"\n",
    "    \n",
    "    file_name = replace_periods(\n",
    "        f\"{nucleus_name}_{nucleon}_momentum_distribution_{lamb}\"\n",
    "    )\n",
    "    \n",
    "    data = np.loadtxt(file_name + '.txt')\n",
    "    \n",
    "    q_array = data[:, 0]\n",
    "    q_weights = data[:, 1]\n",
    "    n_array = data[:, 2]\n",
    "    n_errors = data[:, 3]\n",
    "    I_array = data[:, 4]\n",
    "    delta_U_array = data[:, 5]\n",
    "    delta_U_errors = data[:, 6]\n",
    "    delta_U2_array = data[:, 7]\n",
    "    delta_U2_errors = data[:, 8]\n",
    "\n",
    "#     data = np.loadtxt(file_name + '.txt', dtype='complex')\n",
    "    \n",
    "#     q_array = data[:, 0].real\n",
    "#     q_weights = data[:, 1].real\n",
    "#     n_array = data[:, 2].real\n",
    "#     n_errors = data[:, 3].real\n",
    "#     I_array = data[:, 4].real\n",
    "#     delta_U_array = data[:, 5]\n",
    "#     delta_U_errors = data[:, 6].real\n",
    "#     delta_U2_array = data[:, 7]\n",
    "#     delta_U2_errors = data[:, 8].real\n",
    "    \n",
    "    return (q_array, q_weights, n_array, n_errors, I_array, delta_U_array,\n",
    "            delta_U_errors, delta_U2_array, delta_U2_errors)"
   ]
  },
  {
   "cell_type": "code",
   "execution_count": 6,
   "id": "110cf2e8",
   "metadata": {
    "code_folding": [
     4
    ]
   },
   "outputs": [],
   "source": [
    "def proton_momentum_distribution(\n",
    "        nucleus_name, Z, N, kvnn, lamb, error_bars=False, x_limits=(0.0,10.0),\n",
    "        y_limits=(9e-6,1e3), y_scale='log', print_normalization=False,\n",
    "        show_vmc=False, save=False\n",
    "):\n",
    "    \"\"\"Plots nuclear proton momentum distributions with several built-in\n",
    "    options.\n",
    "    \"\"\"\n",
    "    \n",
    "    # Initialize figure\n",
    "    plt.close('all')\n",
    "    f, ax = plt.subplots(figsize=(4, 4))\n",
    "\n",
    "    # Normalization factor to compare to VMC data\n",
    "    factor = (2*np.pi)**3\n",
    "    \n",
    "    if y_scale == 'log':\n",
    "        ax.set_yscale('log')\n",
    "    else:\n",
    "        ax.set_yscale('linear')\n",
    "        \n",
    "    # Compare to VMC calculation?\n",
    "    if show_vmc:\n",
    "        \n",
    "        file_name = f\"{nucleus_name}_single_nucleon.txt\"\n",
    "        data = np.loadtxt(vmc_directory + file_name)\n",
    "        q_array_vmc = data[:,0]\n",
    "        n_array_vmc = data[:,1]\n",
    "        n_errors_vmc = data[:,2]\n",
    "        \n",
    "        if y_scale == 'linear':\n",
    "            \n",
    "            ax.errorbar(\n",
    "                q_array_vmc, n_array_vmc*q_array_vmc**2, yerr=n_errors_vmc,\n",
    "                color='black', label='VMC', linestyle='', marker='.'\n",
    "            )\n",
    "            \n",
    "        else:\n",
    "            \n",
    "            ax.errorbar(\n",
    "                q_array_vmc, n_array_vmc, yerr=n_errors_vmc, color='black',\n",
    "                label='VMC', linestyle='', marker='.'\n",
    "            )\n",
    "\n",
    "    # Load data from file\n",
    "    q_array, q_weights, n_array, n_errors, n_ipm_array, _, _, _, _ = (\n",
    "        load_momentum_distribution(nucleus_name, 'proton', lamb)\n",
    "    )\n",
    "\n",
    "    if y_scale == 'linear':\n",
    "        \n",
    "        if error_bars:\n",
    "            \n",
    "            ax.errorbar(\n",
    "                q_array, n_array*factor*q_array**2, yerr=n_errors, color='blue',\n",
    "                label='SRG', linestyle='solid', linewidth=2.0\n",
    "            )\n",
    "    \n",
    "        else:\n",
    "            \n",
    "            ax.plot(q_array, n_array*factor*q_array**2, label='SRG',\n",
    "                    linewidth=2.0)\n",
    "            \n",
    "        ax.plot(q_array, n_ipm_array*factor*q_array**2, label='IPM',\n",
    "                linestyle='dotted', linewidth=2.0)\n",
    "\n",
    "    else:\n",
    "        \n",
    "        if error_bars:\n",
    "            \n",
    "            ax.errorbar(q_array, n_array*factor, yerr=n_errors, color='blue',\n",
    "                        label='SRG', linestyle='solid', linewidth=2.0)\n",
    "    \n",
    "        else:\n",
    "            \n",
    "            ax.plot(q_array, n_array*factor, label='SRG', linewidth=2.0)\n",
    "            \n",
    "        ax.plot(q_array, n_ipm_array*factor, label='IPM', linestyle='dotted',\n",
    "                linewidth=2.0)\n",
    "\n",
    "    # Print normalization?\n",
    "    if print_normalization:\n",
    "        \n",
    "        srg_norm = (4*np.pi)/(2*np.pi)**3 * np.sum(\n",
    "            q_weights * q_array**2 * n_array*factor\n",
    "        )\n",
    "        print(f\"SRG normalization = {srg_norm}.\")\n",
    "        \n",
    "        ipm_norm = (4*np.pi)/(2*np.pi)**3 * np.sum(\n",
    "            q_weights * q_array**2 * n_ipm_array*factor\n",
    "        )\n",
    "        print(f\"IPM normalization = {ipm_norm}.\")\n",
    "        \n",
    "        if show_vmc:\n",
    "            \n",
    "            dq = q_array_vmc[2] - q_array_vmc[1]\n",
    "            vmc_norm = (\n",
    "                (4*np.pi)/(2*np.pi)**3*np.sum(dq*q_array_vmc**2*n_array_vmc)\n",
    "            )\n",
    "            print(f\"VMC normalization = {vmc_norm}.\")\n",
    "    \n",
    "    # Set axes limits\n",
    "    ax.set_xlim(x_limits)\n",
    "    ax.set_ylim(y_limits)\n",
    "\n",
    "    # Set axes labels\n",
    "    ax.set_xlabel(r\"$q$ [fm\" + r'$^{-1}$' + ']', fontsize=16)\n",
    "    ax.set_ylabel(r\"$n_{p}(q)$ [fm\" + r'$^3$' + ']', fontsize=16)\n",
    "\n",
    "    # Set legend\n",
    "    ax.legend(loc='upper right', fontsize=14, frameon=False)\n",
    "\n",
    "    # Add nucleus and \\lambda label\n",
    "    label = label_nucleus(nucleus_name) + \", \" + label_lambda(lamb)\n",
    "    ax.set_title(label, fontsize=14)\n",
    "#     ax.add_artist(\n",
    "#         AnchoredText(label, loc='center right', prop=dict(size=18),\n",
    "#                      frameon=False)\n",
    "#     )\n",
    "    \n",
    "    # Save?\n",
    "    if save:\n",
    "        file_name = replace_periods(\n",
    "            f\"{nucleus_name}_proton_momentum_distribution_kvnn_{kvnn}\"\n",
    "            f\"_lamb_{lamb}_{y_scale}_scale\"\n",
    "        )\n",
    "        f.savefig(figures_directory + file_name + '.png')"
   ]
  },
  {
   "cell_type": "code",
   "execution_count": 7,
   "id": "e78b3070",
   "metadata": {
    "code_folding": [
     4
    ]
   },
   "outputs": [],
   "source": [
    "def momentum_distribution_contributions(\n",
    "        nucleus_name, Z, N, kvnn, lamb, error_bars=False, x_limits=(0.0,10.0),\n",
    "        y_limits=(9e-6,1e3), y_scale='log', print_normalization=False,\n",
    "        show_vmc=False, save=False\n",
    "):\n",
    "    \"\"\"Plots nuclear proton momentum distributions showing I,\n",
    "    \\delta U + \\delta U^\\dagger, and \\delta U \\delta U^\\dagger contributions.\n",
    "    \"\"\"\n",
    "    \n",
    "    # Initialize figure\n",
    "    plt.close('all')\n",
    "    f, ax = plt.subplots(figsize=(4, 4))\n",
    "\n",
    "    # Normalization factor to compare to VMC data\n",
    "    factor = (2*np.pi)**3\n",
    "    \n",
    "    if y_scale == 'log':\n",
    "        ax.set_yscale('log')\n",
    "    else:\n",
    "        ax.set_yscale('linear')\n",
    "        \n",
    "    # Compare to VMC calculation?\n",
    "    if show_vmc:\n",
    "        \n",
    "        file_name = f\"{nucleus_name}_single_nucleon.txt\"\n",
    "        data = np.loadtxt(vmc_directory + file_name)\n",
    "        q_array_vmc = data[:,0]\n",
    "        n_array_vmc = data[:,1]\n",
    "        n_errors_vmc = data[:,2]\n",
    "        \n",
    "        if y_scale == 'linear':\n",
    "            \n",
    "            ax.errorbar(\n",
    "                q_array_vmc, n_array_vmc*q_array_vmc**2, yerr=n_errors_vmc,\n",
    "                color='black', label='VMC', linestyle='', marker='.'\n",
    "            )\n",
    "            \n",
    "        else:\n",
    "            \n",
    "            ax.errorbar(\n",
    "                q_array_vmc, n_array_vmc, yerr=n_errors_vmc, color='black',\n",
    "                label='VMC', linestyle='', marker='.'\n",
    "            )\n",
    "\n",
    "    \n",
    "    # Load data from file\n",
    "    (q_array, q_weights, n_array, n_errors, n_I_array, n_delU_array,\n",
    "     n_delU_errors, n_delU2_array, n_delU2_errors) = (\n",
    "        load_momentum_distribution(nucleus_name, 'proton', lamb)\n",
    "    )\n",
    "\n",
    "    if y_scale == 'linear':\n",
    "        \n",
    "        ax.plot(q_array, n_I_array*factor*q_array**2, color='blue', label='I', \n",
    "                linestyle='dotted', linewidth=2.0, zorder=2)\n",
    "        \n",
    "        if error_bars:\n",
    "        \n",
    "            ax.errorbar(\n",
    "                q_array, n_array*factor*q_array**2, yerr=n_errors,\n",
    "                color='black', label='Total', linestyle='solid', linewidth=2.0,\n",
    "                zorder=1\n",
    "            )\n",
    "            ax.errorbar(\n",
    "                q_array, abs(n_delU_array)*factor*q_array**2,\n",
    "                yerr=n_delU_errors, color='green',\n",
    "                label=r'$|\\delta U+\\delta U^\\dagger|$', linestyle='dashed',\n",
    "                linewidth=2.0, zorder=3\n",
    "            )\n",
    "            ax.plot(\n",
    "                q_array, abs(n_delU2_array)*factor*q_array**2,\n",
    "                yerr=n_delU2_errors, color='red',\n",
    "                label=r'$\\delta U \\delta U^\\dagger$', linestyle='dashdot',\n",
    "                linewidth=2.0, zorder=4\n",
    "            )\n",
    "\n",
    "        else:\n",
    "            \n",
    "            ax.plot(\n",
    "                q_array, n_array*factor*q_array**2, color='black',\n",
    "                label='Total', linewidth=2.0, zorder=1\n",
    "            )\n",
    "            ax.plot(\n",
    "                q_array, abs(n_delU_array)*factor*q_array**2, color='green',\n",
    "                label=r'$|\\delta U+\\delta U^\\dagger|$', linestyle='dashed',\n",
    "                linewidth=2.0, zorder=3\n",
    "            )\n",
    "            ax.plot(\n",
    "                q_array, abs(n_delU2_array)*factor*q_array**2, color='red',\n",
    "                label=r'$\\delta U \\delta U^\\dagger$', linestyle='dashdot',\n",
    "                linewidth=2.0, zorder=4\n",
    "            )\n",
    "\n",
    "    else:\n",
    "        \n",
    "        ax.plot(q_array, n_I_array*factor, color='blue', label='I', \n",
    "                linestyle='dotted', linewidth=2.0, zorder=2)\n",
    "        \n",
    "        if error_bars:\n",
    "        \n",
    "            ax.errorbar(\n",
    "                q_array, n_array*factor, yerr=n_errors, color='black',\n",
    "                label='Total', linestyle='solid', linewidth=2.0, zorder=1\n",
    "            )\n",
    "            ax.errorbar(\n",
    "                q_array, abs(n_delU_array)*factor, yerr=n_delU_errors,\n",
    "                color='green', label=r'$|\\delta U+\\delta U^\\dagger|$',\n",
    "                linestyle='dashed', linewidth=2.0, zorder=3\n",
    "            )\n",
    "            ax.plot(\n",
    "                q_array, abs(n_delU2_array)*factor, yerr=n_delU2_errors,\n",
    "                color='red', label=r'$\\delta U \\delta U^\\dagger$',\n",
    "                linestyle='dashdot', linewidth=2.0, zorder=4\n",
    "            )\n",
    "\n",
    "        else:\n",
    "            \n",
    "            ax.plot(q_array, n_array*factor, color='black', label='Total',\n",
    "                    linewidth=2.0, zorder=1)\n",
    "            ax.plot(\n",
    "                q_array, abs(n_delU_array)*factor, color='green',\n",
    "                label=r'$|\\delta U+\\delta U^\\dagger|$', linestyle='dashed',\n",
    "                linewidth=2.0, zorder=3\n",
    "            )\n",
    "            ax.plot(q_array, abs(n_delU2_array)*factor, color='red',\n",
    "                    label=r'$\\delta U \\delta U^\\dagger$', linestyle='dashdot',\n",
    "                    linewidth=2.0, zorder=4\n",
    "            )\n",
    "\n",
    "    # Print normalization?\n",
    "    if print_normalization:\n",
    "\n",
    "        total_norm = (4*np.pi)/(2*np.pi)**3 * np.sum(\n",
    "            q_weights * q_array**2 * n_array*factor\n",
    "        )\n",
    "        print(f\"Total normalization = {total_norm}.\")\n",
    "        \n",
    "        I_norm = (4*np.pi)/(2*np.pi)**3 * np.sum(\n",
    "            q_weights * q_array**2 * n_I_array*factor\n",
    "        )\n",
    "        print(f\"I normalization = {I_norm}.\")\n",
    "        \n",
    "        delU_norm = (4*np.pi)/(2*np.pi)**3 * np.sum(\n",
    "            q_weights * q_array**2 * n_delU_array * factor\n",
    "        )\n",
    "        print(f\"\\delta U + \\delta U^\\dagger normalization = {delU_norm}.\")\n",
    "        \n",
    "        delU2_norm = (4*np.pi)/(2*np.pi)**3 * np.sum(\n",
    "            q_weights * q_array**2 * n_delU2_array * factor\n",
    "        )\n",
    "        print(f\"\\delta U \\delta U^\\dagger normalization = {delU2_norm}.\")\n",
    "        \n",
    "        relative_error = abs(delU_norm+delU2_norm) / delU2_norm * 100\n",
    "        print(f\"Relative error = {relative_error}%.\")\n",
    "        \n",
    "        if show_vmc:\n",
    "            dq = q_array_vmc[2] - q_array_vmc[1]\n",
    "            vmc_norm = (\n",
    "                (4*np.pi)/(2*np.pi)**3*np.sum(dq*q_array_vmc**2*n_array_vmc)\n",
    "            )\n",
    "            print(f\"VMC normalization = {vmc_norm}.\")\n",
    "    \n",
    "    # Set axes limits\n",
    "    ax.set_xlim(x_limits)\n",
    "    ax.set_ylim(y_limits)\n",
    "\n",
    "    # Set axes labels\n",
    "    ax.set_xlabel(r\"$q$ [fm\" + r'$^{-1}$' + ']', fontsize=16)\n",
    "    ax.set_ylabel(r\"$n_{p}(q)$ [fm\" + r'$^3$' + ']', fontsize=16)\n",
    "\n",
    "    # Set legend\n",
    "    ax.legend(loc='upper right', fontsize=14, frameon=False)\n",
    "\n",
    "    # Add nucleus label\n",
    "    label = label_nucleus(nucleus_name) + \", \" + label_lambda(lamb)\n",
    "    ax.set_title(label, fontsize=14)\n",
    "#     ax.add_artist(\n",
    "#         AnchoredText(label, loc='center right', prop=dict(size=18),\n",
    "#                      frameon=False)\n",
    "#     )\n",
    "    \n",
    "    # Save?\n",
    "    if save:\n",
    "        file_name = replace_periods(\n",
    "            f\"{nucleus_name}_momentum_distribution_contributions_kvnn_{kvnn}\"\n",
    "            f\"_lamb_{lamb}_{y_scale}_scale\"\n",
    "        )\n",
    "        f.savefig(figures_directory + file_name + \".png\")"
   ]
  },
  {
   "cell_type": "code",
   "execution_count": 8,
   "id": "854f594b",
   "metadata": {
    "code_folding": [
     4
    ]
   },
   "outputs": [],
   "source": [
    "def compare_to_lda(\n",
    "        nucleus_name, Z, N, kvnn, lamb, x_limits=(0.0,10.0),\n",
    "        y_limits=(9e-6,1e3), print_normalization=False,\n",
    "        save=False\n",
    "):\n",
    "    \"\"\"Compares nuclear proton momentum distributions to LDA versions.\"\"\"\n",
    "    \n",
    "    # Initialize figure\n",
    "    plt.close('all')\n",
    "    f, ax = plt.subplots(figsize=(4, 4))\n",
    "    ax.set_yscale('log')\n",
    "\n",
    "    # Normalization factor to compare to VMC data\n",
    "    factor = (2*np.pi)**3\n",
    "    \n",
    "    # Load data from file\n",
    "    (q_array, q_weights, n_array, n_errors, n_I_array, n_delU_array,\n",
    "     n_delU_errors, n_delU2_array, n_delU2_errors) = (\n",
    "        load_momentum_distribution(nucleus_name, 'proton', lamb)\n",
    "    )\n",
    "    \n",
    "    # Get LDA data\n",
    "    md = MomentumDistribution(kvnn, 15.0, 3.0, 120)\n",
    "    n_total_func, n_I_func, n_delU_func, n_delU2_func = (\n",
    "        md.get_single_nucleon_momentum_distribution(\n",
    "            'proton', nucleus_name, 'SLy4', ('1S0', '3S1'), 'Wegner', lamb,\n",
    "            contributions=True, interpolate=True\n",
    "        )\n",
    "    )\n",
    "    n_delU_array_lda = n_delU_func(q_array)\n",
    "    n_delU2_array_lda = n_delU2_func(q_array)\n",
    "\n",
    "    ax.plot(q_array, n_I_array*factor, color='blue', label='I', \n",
    "            linestyle='dotted', linewidth=2.0, zorder=2)\n",
    "\n",
    "    ax.plot(q_array, n_array*factor, color='black', label='Total',\n",
    "            linewidth=2.0, zorder=1)\n",
    "            \n",
    "    # LDA \\delta U + \\delta U^\\dagger and \\delta U^2 terms\n",
    "    ax.plot(\n",
    "        q_array, abs(n_delU_array_lda), color='purple',\n",
    "        label=r'$|\\delta U+\\delta U^\\dagger|$ (LDA)', linestyle='dashed',\n",
    "        linewidth=1.0, zorder=3\n",
    "    )\n",
    "    ax.plot(q_array, n_delU2_array_lda, color='orange',\n",
    "            label=r'$\\delta U \\delta U^\\dagger$ (LDA)', linestyle='dashdot',\n",
    "            linewidth=1.0, zorder=4\n",
    "    )\n",
    "            \n",
    "    ax.plot(\n",
    "        q_array, abs(n_delU_array)*factor, color='green',\n",
    "        label=r'$|\\delta U+\\delta U^\\dagger|$', linestyle='dashed',\n",
    "        linewidth=2.0, zorder=5\n",
    "    )\n",
    "    \n",
    "    ax.plot(\n",
    "        q_array, abs(n_delU2_array)*factor, color='red',\n",
    "        label=r'$\\delta U \\delta U^\\dagger$', linestyle='dashdot',\n",
    "        linewidth=2.0, zorder=6\n",
    "    )\n",
    "\n",
    "    # Print normalization?\n",
    "    if print_normalization:\n",
    "\n",
    "        total_norm = (4*np.pi)/(2*np.pi)**3 * np.sum(\n",
    "            q_weights * q_array**2 * n_array*factor\n",
    "        )\n",
    "        print(f\"Total normalization = {total_norm}.\\n\")\n",
    "        \n",
    "        I_norm = (4*np.pi)/(2*np.pi)**3 * np.sum(\n",
    "            q_weights * q_array**2 * n_I_array*factor\n",
    "        )\n",
    "        print(f\"I normalization = {I_norm}.\")\n",
    "        \n",
    "        delU_norm = (4*np.pi)/(2*np.pi)**3 * np.sum(\n",
    "            q_weights * q_array**2 * n_delU_array * factor\n",
    "        )\n",
    "        print(f\"\\delta U + \\delta U^\\dagger normalization = {delU_norm}.\")\n",
    "        \n",
    "        delU2_norm = (4*np.pi)/(2*np.pi)**3 * np.sum(\n",
    "            q_weights * q_array**2 * n_delU2_array * factor\n",
    "        )\n",
    "        print(f\"\\delta U \\delta U^\\dagger normalization = {delU2_norm}.\\n\")\n",
    "        \n",
    "        # LDA normalizations\n",
    "        delU_norm_lda = (4*np.pi)/(2*np.pi)**3 * np.sum(\n",
    "            q_weights * q_array**2 * n_delU_array_lda\n",
    "        )\n",
    "        print(\n",
    "            f\"LDA \\delta U + \\delta U^\\dagger normalization = {delU_norm_lda}.\"\n",
    "        )\n",
    "        \n",
    "        delU2_norm_lda = (4*np.pi)/(2*np.pi)**3 * np.sum(\n",
    "            q_weights * q_array**2 * n_delU2_array_lda\n",
    "        )\n",
    "        print(\n",
    "            f\"LDA \\delta U \\delta U^\\dagger normalization = {delU2_norm_lda}.\\n\"\n",
    "        )\n",
    "        \n",
    "        cancelation = abs(delU_norm+delU2_norm)\n",
    "        cancelation_lda = abs(delU_norm_lda+delU2_norm_lda)\n",
    "        print(\n",
    "            f\"\\delta U + \\delta U^\\dagger + \\sum \\delta U^2 = {cancelation}.\"\n",
    "        )\n",
    "        print(\n",
    "            \"LDA \\delta U + \\delta U^\\dagger + \\sum \\delta U^2 =\"\n",
    "            f\" {cancelation_lda}.\"\n",
    "        )\n",
    "    \n",
    "    # Set axes limits\n",
    "    ax.set_xlim(x_limits)\n",
    "    ax.set_ylim(y_limits)\n",
    "\n",
    "    # Set axes labels\n",
    "    ax.set_xlabel(r\"$q$ [fm\" + r'$^{-1}$' + ']', fontsize=16)\n",
    "    ax.set_ylabel(r\"$n_{p}(q)$ [fm\" + r'$^3$' + ']', fontsize=16)\n",
    "\n",
    "    # Set legend\n",
    "    ax.legend(loc='upper right', fontsize=10, frameon=False)\n",
    "\n",
    "    # Add nucleus label\n",
    "    label = label_nucleus(nucleus_name) + \", \" + label_lambda(lamb)\n",
    "    ax.set_title(label, fontsize=14)\n",
    "#     ax.add_artist(\n",
    "#         AnchoredText(label, loc='center right', prop=dict(size=18),\n",
    "#                      frameon=False)\n",
    "#     )\n",
    "    \n",
    "    # Save?\n",
    "    if save:\n",
    "        file_name = f\"{nucleus_name}_compare_to_lda_kvnn_{kvnn}_lamb_{lamb}\"\n",
    "        f.savefig(figures_directory + file_name + \".png\")"
   ]
  },
  {
   "cell_type": "code",
   "execution_count": 9,
   "id": "c37149dd",
   "metadata": {},
   "outputs": [],
   "source": [
    "# Set proton isospin and AV18 as the potential\n",
    "tau = 1/2\n",
    "kvnn = 6"
   ]
  },
  {
   "cell_type": "markdown",
   "id": "95ccf7ad",
   "metadata": {},
   "source": [
    "### Testing $^{4}$He"
   ]
  },
  {
   "cell_type": "code",
   "execution_count": null,
   "id": "90f20378",
   "metadata": {},
   "outputs": [],
   "source": [
    "nucleus_name, Z, N = 'He4', 2, 2"
   ]
  },
  {
   "cell_type": "code",
   "execution_count": null,
   "id": "7fe8e0ea",
   "metadata": {
    "code_folding": []
   },
   "outputs": [],
   "source": [
    "proton_momentum_distribution(nucleus_name, Z, N, kvnn, 1.35, x_limits=(0.0,8.0),\n",
    "                             print_normalization=True, show_vmc=True, save=True)"
   ]
  },
  {
   "cell_type": "code",
   "execution_count": null,
   "id": "42f7c9be",
   "metadata": {},
   "outputs": [],
   "source": [
    "proton_momentum_distribution(nucleus_name, Z, N, kvnn, 1.5, x_limits=(0.0,8.0),\n",
    "                             print_normalization=True, show_vmc=True, save=True)"
   ]
  },
  {
   "cell_type": "code",
   "execution_count": null,
   "id": "3978ab0f",
   "metadata": {},
   "outputs": [],
   "source": [
    "proton_momentum_distribution(nucleus_name, Z, N, kvnn, 1.7, x_limits=(0.0,8.0),\n",
    "                             print_normalization=True, show_vmc=True, save=True)"
   ]
  },
  {
   "cell_type": "code",
   "execution_count": null,
   "id": "d0546d09",
   "metadata": {},
   "outputs": [],
   "source": [
    "proton_momentum_distribution(\n",
    "    nucleus_name, Z, N, kvnn, 1.35, print_normalization=True, show_vmc=True,\n",
    "    y_scale='linear', x_limits=(0.0,2.0), y_limits=(-0.1,50), save=True\n",
    ")"
   ]
  },
  {
   "cell_type": "code",
   "execution_count": null,
   "id": "8115421a",
   "metadata": {},
   "outputs": [],
   "source": [
    "proton_momentum_distribution(\n",
    "    nucleus_name, Z, N, kvnn, 1.5, print_normalization=True, show_vmc=True,\n",
    "    y_scale='linear', x_limits=(0.0,2.0), y_limits=(-0.1,50), save=True\n",
    ")"
   ]
  },
  {
   "cell_type": "code",
   "execution_count": null,
   "id": "81c09091",
   "metadata": {},
   "outputs": [],
   "source": [
    "proton_momentum_distribution(\n",
    "    nucleus_name, Z, N, kvnn, 1.7, print_normalization=True, show_vmc=True,\n",
    "    y_scale='linear', x_limits=(0.0,2.0), y_limits=(-0.1,50), save=True\n",
    ")"
   ]
  },
  {
   "cell_type": "code",
   "execution_count": null,
   "id": "d251954a",
   "metadata": {
    "code_folding": [],
    "scrolled": false
   },
   "outputs": [],
   "source": [
    "momentum_distribution_contributions(\n",
    "    nucleus_name, Z, N, kvnn, 1.35, x_limits=(0.0,8.0),\n",
    "    print_normalization=True, show_vmc=False, save=True\n",
    ")"
   ]
  },
  {
   "cell_type": "code",
   "execution_count": null,
   "id": "df92939b",
   "metadata": {},
   "outputs": [],
   "source": [
    "compare_to_lda(\n",
    "        nucleus_name, Z, N, kvnn, 1.35, x_limits=(0.0,8.0),\n",
    "        print_normalization=True, save=False\n",
    ")"
   ]
  },
  {
   "cell_type": "markdown",
   "id": "a829bced",
   "metadata": {},
   "source": [
    "### Testing $^{16}$O"
   ]
  },
  {
   "cell_type": "code",
   "execution_count": null,
   "id": "da396fe3",
   "metadata": {},
   "outputs": [],
   "source": [
    "nucleus_name, Z, N = 'O16', 8, 8"
   ]
  },
  {
   "cell_type": "code",
   "execution_count": null,
   "id": "f89623a0",
   "metadata": {
    "code_folding": []
   },
   "outputs": [],
   "source": [
    "# \\lambda = 1.35 fm^-1\n",
    "proton_momentum_distribution(\n",
    "    nucleus_name, Z, N, kvnn, 1.35, print_normalization=True, show_vmc=True,\n",
    "    x_limits=(0.0,10.0), y_limits=(9e-6,1e3), save=True\n",
    ")"
   ]
  },
  {
   "cell_type": "code",
   "execution_count": null,
   "id": "b4dea116",
   "metadata": {},
   "outputs": [],
   "source": [
    "# \\lambda = 1.5 fm^-1\n",
    "proton_momentum_distribution(\n",
    "    nucleus_name, Z, N, kvnn, 1.5, print_normalization=True, show_vmc=True,\n",
    "    x_limits=(0.0,10.0), y_limits=(9e-6,1e3), save=True\n",
    ")"
   ]
  },
  {
   "cell_type": "code",
   "execution_count": null,
   "id": "2d938b7b",
   "metadata": {},
   "outputs": [],
   "source": [
    "# \\lambda = 1.7 fm^-1\n",
    "proton_momentum_distribution(\n",
    "    nucleus_name, Z, N, kvnn, 1.7, print_normalization=True, show_vmc=True,\n",
    "    x_limits=(0.0,10.0), y_limits=(9e-6,1e3), save=True\n",
    ")"
   ]
  },
  {
   "cell_type": "code",
   "execution_count": null,
   "id": "dbf51244",
   "metadata": {},
   "outputs": [],
   "source": [
    "proton_momentum_distribution(\n",
    "    nucleus_name, Z, N, kvnn, 1.35, print_normalization=True, show_vmc=True,\n",
    "    y_scale='linear', x_limits=(0.0,2.0), y_limits=(-0.1,210.0), save=True\n",
    ")"
   ]
  },
  {
   "cell_type": "code",
   "execution_count": null,
   "id": "a0b306f2",
   "metadata": {},
   "outputs": [],
   "source": [
    "proton_momentum_distribution(\n",
    "    nucleus_name, Z, N, kvnn, 1.5, print_normalization=True, show_vmc=True,\n",
    "    y_scale='linear', x_limits=(0.0,2.0), y_limits=(-0.1,210.0), save=True\n",
    ")"
   ]
  },
  {
   "cell_type": "code",
   "execution_count": null,
   "id": "45421ee6",
   "metadata": {},
   "outputs": [],
   "source": [
    "proton_momentum_distribution(\n",
    "    nucleus_name, Z, N, kvnn, 1.7, print_normalization=True, show_vmc=True,\n",
    "    y_scale='linear', x_limits=(0.0,2.0), y_limits=(-0.1,210.0), save=True\n",
    ")"
   ]
  },
  {
   "cell_type": "code",
   "execution_count": null,
   "id": "25fef916",
   "metadata": {},
   "outputs": [],
   "source": [
    "momentum_distribution_contributions(\n",
    "    nucleus_name, Z, N, kvnn, 1.35, print_normalization=True, show_vmc=False,\n",
    "    x_limits=(0.0,10.0), y_limits=(1e-6,1e3), save=True\n",
    ")"
   ]
  },
  {
   "cell_type": "code",
   "execution_count": null,
   "id": "bbb446f3",
   "metadata": {},
   "outputs": [],
   "source": [
    "# Compare to LDA on log scale\n",
    "compare_to_lda(\n",
    "    nucleus_name, Z, N, kvnn, 1.35, x_limits=(0.0,10.0),\n",
    "    y_limits=(1e-6,1e3), print_normalization=True, save=False\n",
    ")"
   ]
  },
  {
   "cell_type": "markdown",
   "id": "686de202",
   "metadata": {},
   "source": [
    "### Testing $^{40}$Ca"
   ]
  },
  {
   "cell_type": "code",
   "execution_count": 10,
   "id": "0e37f0b4",
   "metadata": {},
   "outputs": [],
   "source": [
    "nucleus_name, Z, N = 'Ca40', 20, 20"
   ]
  },
  {
   "cell_type": "code",
   "execution_count": 17,
   "id": "25ff2a26",
   "metadata": {},
   "outputs": [
    {
     "name": "stdout",
     "output_type": "stream",
     "text": [
      "SRG normalization = 19.940357548606382.\n",
      "IPM normalization = 19.97802151163345.\n",
      "VMC normalization = 19.982418663293537.\n"
     ]
    },
    {
     "data": {
      "image/png": "[encoded data removed]",
      "text/plain": [
       "<Figure size 600x600 with 1 Axes>"
      ]
     },
     "metadata": {},
     "output_type": "display_data"
    }
   ],
   "source": [
    "# \\lambda = 1.5 fm^-1\n",
    "proton_momentum_distribution(\n",
    "    nucleus_name, Z, N, kvnn, 1.5, print_normalization=True, show_vmc=True,\n",
    "    x_limits=(0.0,10.0), y_limits=(1e-6,8e3), save=True\n",
    ")"
   ]
  },
  {
   "cell_type": "code",
   "execution_count": 21,
   "id": "2c8696ed",
   "metadata": {},
   "outputs": [
    {
     "name": "stdout",
     "output_type": "stream",
     "text": [
      "SRG normalization = 19.940357548606382.\n",
      "IPM normalization = 19.97802151163345.\n",
      "VMC normalization = 19.982418663293537.\n"
     ]
    },
    {
     "data": {
      "image/png": "[encoded data removed]",
      "text/plain": [
       "<Figure size 600x600 with 1 Axes>"
      ]
     },
     "metadata": {},
     "output_type": "display_data"
    }
   ],
   "source": [
    "proton_momentum_distribution(\n",
    "    nucleus_name, Z, N, kvnn, 1.5, print_normalization=True, show_vmc=True,\n",
    "    y_scale='linear', x_limits=(0.0,2.0), y_limits=(-0.1,550.0), save=True\n",
    ")"
   ]
  },
  {
   "cell_type": "code",
   "execution_count": null,
   "id": "803a4669",
   "metadata": {},
   "outputs": [],
   "source": [
    "momentum_distribution_contributions(\n",
    "    nucleus_name, Z, N, kvnn, 1.5, print_normalization=True, show_vmc=False,\n",
    "    x_limits=(0.0,10.0), y_limits=(1e-6,1e3), save=True\n",
    ")"
   ]
  },
  {
   "cell_type": "code",
   "execution_count": null,
   "id": "dfcfcd1e",
   "metadata": {},
   "outputs": [],
   "source": []
  },
  {
   "cell_type": "code",
   "execution_count": null,
   "id": "78f94d90",
   "metadata": {},
   "outputs": [],
   "source": []
  }
 ],
 "metadata": {
  "kernelspec": {
   "display_name": "Python 3 (ipykernel)",
   "language": "python",
   "name": "python3"
  },
  "language_info": {
   "codemirror_mode": {
    "name": "ipython",
    "version": 3
   },
   "file_extension": ".py",
   "mimetype": "text/x-python",
   "name": "python",
   "nbconvert_exporter": "python",
   "pygments_lexer": "ipython3",
   "version": "3.9.13"
  }
 },
 "nbformat": 4,
 "nbformat_minor": 5
}

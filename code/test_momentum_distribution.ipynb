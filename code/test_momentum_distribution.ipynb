{
 "cells": [
  {
   "cell_type": "markdown",
   "id": "503b0d8c",
   "metadata": {},
   "source": [
    "# Testing momentum distributions using single-particle wave functions\n",
    "\n",
    "__Author:__ A. J. Tropiano [atropiano@anl.gov]<br/>\n",
    "__Date:__ January 23, 2023\n",
    "\n",
    "This notebook serves as a testbed for calculating momentum distributions using mean field approximations for initial and final states and applying SRG transformations to the operator. This differs from the previous momentum distribution calculations by directly utilizing single-particle wave functions instead of a local density approximation. In this version, we test several `vegas` options to speed-up the code.\n",
    "\n",
    "_Last update:_ May 24, 2023"
   ]
  },
  {
   "cell_type": "code",
   "execution_count": 1,
   "id": "1deed0dd",
   "metadata": {},
   "outputs": [],
   "source": [
    "# Python imports\n",
    "from matplotlib.offsetbox import AnchoredText\n",
    "import matplotlib.pyplot as plt\n",
    "%matplotlib inline\n",
    "import numpy as np"
   ]
  },
  {
   "cell_type": "code",
   "execution_count": 2,
   "id": "317ad41d",
   "metadata": {},
   "outputs": [],
   "source": [
    "# Imports from scripts\n",
    "from scripts.figures import label_lambda, label_nucleus, set_rc_parameters\n",
    "from scripts.momentum_distributions import MomentumDistribution\n",
    "from scripts.tools import replace_periods"
   ]
  },
  {
   "cell_type": "markdown",
   "id": "2b6510f6",
   "metadata": {},
   "source": [
    "## Set-up"
   ]
  },
  {
   "cell_type": "code",
   "execution_count": 3,
   "id": "32659afd",
   "metadata": {},
   "outputs": [],
   "source": [
    "# Run this cell to turn on customized matplotlib graphics\n",
    "set_rc_parameters()"
   ]
  },
  {
   "cell_type": "code",
   "execution_count": 4,
   "id": "76a08062",
   "metadata": {},
   "outputs": [],
   "source": [
    "# Save figures in the following directory\n",
    "figures_directory = '../figures/momentum_distributions/'\n",
    "vmc_directory = '../data/vmc/momentum_distributions/'"
   ]
  },
  {
   "cell_type": "markdown",
   "id": "4bfc913e",
   "metadata": {},
   "source": [
    "## Momentum distributions"
   ]
  },
  {
   "cell_type": "code",
   "execution_count": 5,
   "id": "47036167",
   "metadata": {
    "code_folding": [
     0
    ]
   },
   "outputs": [],
   "source": [
    "def load_momentum_distribution(nucleus_name, nucleon, lamb):\n",
    "    \"\"\"Load and return the momentum distribution along with the isolated\n",
    "    contributions.\n",
    "    \"\"\"\n",
    "    \n",
    "    file_name = replace_periods(\n",
    "        f\"{nucleus_name}_{nucleon}_momentum_distribution_{lamb}\"\n",
    "    )\n",
    "    \n",
    "    data = np.loadtxt(file_name + '.txt')\n",
    "    \n",
    "    q_array = data[:, 0]\n",
    "    q_weights = data[:, 1]\n",
    "    n_array = data[:, 2]\n",
    "    n_errors = data[:, 3]\n",
    "    I_array = data[:, 4]\n",
    "    delta_U_array = data[:, 5]\n",
    "    delta_U_errors = data[:, 6]\n",
    "    delta_U2_array = data[:, 7]\n",
    "    delta_U2_errors = data[:, 8]\n",
    "    \n",
    "    return (q_array, q_weights, n_array, n_errors, I_array, delta_U_array,\n",
    "            delta_U_errors, delta_U2_array, delta_U2_errors)"
   ]
  },
  {
   "cell_type": "code",
   "execution_count": 6,
   "id": "110cf2e8",
   "metadata": {
    "code_folding": []
   },
   "outputs": [],
   "source": [
    "def proton_momentum_distribution(\n",
    "        nucleus_name, Z, N, kvnn, lamb, error_bars=False, x_limits=(0.0,10.0),\n",
    "        y_limits=(9e-6,1e3), y_scale='log', print_normalization=False,\n",
    "        show_vmc=False, save=False\n",
    "):\n",
    "    \"\"\"Plots nuclear proton momentum distributions with several built-in\n",
    "    options.\n",
    "    \"\"\"\n",
    "    \n",
    "    # Initialize figure\n",
    "    plt.close('all')\n",
    "    f, ax = plt.subplots(figsize=(4, 4))\n",
    "\n",
    "    # Normalization factor to compare to VMC data\n",
    "    factor = (2*np.pi)**3\n",
    "    \n",
    "    if y_scale == 'log':\n",
    "        ax.set_yscale('log')\n",
    "    else:\n",
    "        ax.set_yscale('linear')\n",
    "        \n",
    "    # Compare to VMC calculation?\n",
    "    if show_vmc:\n",
    "        \n",
    "        file_name = f\"{nucleus_name}_single_nucleon.txt\"\n",
    "        data = np.loadtxt(vmc_directory + file_name)\n",
    "        q_array_vmc = data[:,0]\n",
    "        n_array_vmc = data[:,1]\n",
    "        n_errors_vmc = data[:,2]\n",
    "        \n",
    "        if y_scale == 'linear':\n",
    "            \n",
    "            ax.errorbar(\n",
    "                q_array_vmc, n_array_vmc*q_array_vmc**2, yerr=n_errors_vmc,\n",
    "                color='black', label='VMC', linestyle='', marker='.'\n",
    "            )\n",
    "            \n",
    "        else:\n",
    "            \n",
    "            ax.errorbar(\n",
    "                q_array_vmc, n_array_vmc, yerr=n_errors_vmc, color='black',\n",
    "                label='VMC', linestyle='', marker='.'\n",
    "            )\n",
    "\n",
    "    # Load data from file\n",
    "    q_array, q_weights, n_array, n_errors, n_ipm_array, _, _, _, _ = (\n",
    "        load_momentum_distribution(nucleus_name, 'proton', lamb)\n",
    "    )\n",
    "\n",
    "    if y_scale == 'linear':\n",
    "        \n",
    "        if error_bars:\n",
    "            \n",
    "            ax.errorbar(\n",
    "                q_array, n_array*factor*q_array**2, yerr=n_errors, color='blue',\n",
    "                label='SRG', linestyle='solid', linewidth=2.0\n",
    "            )\n",
    "    \n",
    "        else:\n",
    "            \n",
    "            ax.plot(q_array, n_array*factor*q_array**2, label='SRG',\n",
    "                    linewidth=2.0)\n",
    "            \n",
    "        ax.plot(q_array, n_ipm_array*factor*q_array**2, label='IPM',\n",
    "                linestyle='dotted', linewidth=2.0)\n",
    "\n",
    "    else:\n",
    "        \n",
    "        if error_bars:\n",
    "            \n",
    "            ax.errorbar(q_array, n_array*factor, yerr=n_errors, color='blue',\n",
    "                        label='SRG', linestyle='solid', linewidth=2.0)\n",
    "    \n",
    "        else:\n",
    "            \n",
    "            ax.plot(q_array, n_array*factor, label='SRG', linewidth=2.0)\n",
    "            \n",
    "        ax.plot(q_array, n_ipm_array*factor, label='IPM', linestyle='dotted',\n",
    "                linewidth=2.0)\n",
    "\n",
    "    # Print normalization?\n",
    "    if print_normalization:\n",
    "        \n",
    "        srg_norm = (4*np.pi)/(2*np.pi)**3 * np.sum(\n",
    "            q_weights * q_array**2 * n_array*factor\n",
    "        )\n",
    "        print(f\"SRG normalization = {srg_norm}.\")\n",
    "        \n",
    "        ipm_norm = (4*np.pi)/(2*np.pi)**3 * np.sum(\n",
    "            q_weights * q_array**2 * n_ipm_array*factor\n",
    "        )\n",
    "        print(f\"IPM normalization = {ipm_norm}.\")\n",
    "        \n",
    "        if show_vmc:\n",
    "            \n",
    "            dq = q_array_vmc[2] - q_array_vmc[1]\n",
    "            vmc_norm = (\n",
    "                (4*np.pi)/(2*np.pi)**3*np.sum(dq*q_array_vmc**2*n_array_vmc)\n",
    "            )\n",
    "            print(f\"VMC normalization = {vmc_norm}.\")\n",
    "    \n",
    "    # Set axes limits\n",
    "    ax.set_xlim(x_limits)\n",
    "    ax.set_ylim(y_limits)\n",
    "\n",
    "    # Set axes labels\n",
    "    ax.set_xlabel(r\"$q$ [fm\" + r'$^{-1}$' + ']', fontsize=16)\n",
    "    ax.set_ylabel(r\"$n_{p}(q)$ [fm\" + r'$^3$' + ']', fontsize=16)\n",
    "\n",
    "    # Set legend\n",
    "    ax.legend(loc='upper right', fontsize=14, frameon=False)\n",
    "\n",
    "    # Add nucleus and \\lambda label\n",
    "    label = label_nucleus(nucleus_name) + \", \" + label_lambda(lamb)\n",
    "    ax.set_title(label, fontsize=14)\n",
    "#     ax.add_artist(\n",
    "#         AnchoredText(label, loc='center right', prop=dict(size=18),\n",
    "#                      frameon=False)\n",
    "#     )\n",
    "    \n",
    "    # Save?\n",
    "    if save:\n",
    "        file_name = replace_periods(\n",
    "            f\"{nucleus_name}_proton_momentum_distribution_kvnn_{kvnn}\"\n",
    "            f\"_lamb_{lamb}_{y_scale}_scale\"\n",
    "        )\n",
    "        f.savefig(figures_directory + file_name + '.png')"
   ]
  },
  {
   "cell_type": "code",
   "execution_count": 7,
   "id": "e78b3070",
   "metadata": {
    "code_folding": [
     4
    ]
   },
   "outputs": [],
   "source": [
    "def momentum_distribution_contributions(\n",
    "        nucleus_name, Z, N, kvnn, lamb, error_bars=False, x_limits=(0.0,10.0),\n",
    "        y_limits=(9e-6,1e3), y_scale='log', print_normalization=False,\n",
    "        show_vmc=False, save=False\n",
    "):\n",
    "    \"\"\"Plots nuclear proton momentum distributions showing I,\n",
    "    \\delta U + \\delta U^\\dagger, and \\delta U \\delta U^\\dagger contributions.\n",
    "    \"\"\"\n",
    "    \n",
    "    # Initialize figure\n",
    "    plt.close('all')\n",
    "    f, ax = plt.subplots(figsize=(4, 4))\n",
    "\n",
    "    # Normalization factor to compare to VMC data\n",
    "    factor = (2*np.pi)**3\n",
    "    \n",
    "    if y_scale == 'log':\n",
    "        ax.set_yscale('log')\n",
    "    else:\n",
    "        ax.set_yscale('linear')\n",
    "        \n",
    "    # Compare to VMC calculation?\n",
    "    if show_vmc:\n",
    "        \n",
    "        file_name = f\"{nucleus_name}_single_nucleon.txt\"\n",
    "        data = np.loadtxt(vmc_directory + file_name)\n",
    "        q_array_vmc = data[:,0]\n",
    "        n_array_vmc = data[:,1]\n",
    "        n_errors_vmc = data[:,2]\n",
    "        \n",
    "        if y_scale == 'linear':\n",
    "            \n",
    "            ax.errorbar(\n",
    "                q_array_vmc, n_array_vmc*q_array_vmc**2, yerr=n_errors_vmc,\n",
    "                color='black', label='VMC', linestyle='', marker='.'\n",
    "            )\n",
    "            \n",
    "        else:\n",
    "            \n",
    "            ax.errorbar(\n",
    "                q_array_vmc, n_array_vmc, yerr=n_errors_vmc, color='black',\n",
    "                label='VMC', linestyle='', marker='.'\n",
    "            )\n",
    "\n",
    "    \n",
    "    # Load data from file\n",
    "    (q_array, q_weights, n_array, n_errors, n_I_array, n_delU_array,\n",
    "     n_delU_errors, n_delU2_array, n_delU2_errors) = (\n",
    "        load_momentum_distribution(nucleus_name, 'proton', lamb)\n",
    "    )\n",
    "\n",
    "    if y_scale == 'linear':\n",
    "        \n",
    "        ax.plot(q_array, n_I_array*factor*q_array**2, color='blue', label='I', \n",
    "                linestyle='dotted', linewidth=2.0, zorder=2)\n",
    "        \n",
    "        if error_bars:\n",
    "        \n",
    "            ax.errorbar(\n",
    "                q_array, n_array*factor*q_array**2, yerr=n_errors,\n",
    "                color='black', label='Total', linestyle='solid', linewidth=2.0,\n",
    "                zorder=1\n",
    "            )\n",
    "            ax.errorbar(\n",
    "                q_array, abs(n_delU_array)*factor*q_array**2,\n",
    "                yerr=n_delU_errors, color='green',\n",
    "                label=r'$|\\delta U+\\delta U^\\dagger|$', linestyle='dashed',\n",
    "                linewidth=2.0, zorder=3\n",
    "            )\n",
    "            ax.plot(\n",
    "                q_array, abs(n_delU2_array)*factor*q_array**2,\n",
    "                yerr=n_delU2_errors, color='red',\n",
    "                label=r'$\\delta U \\delta U^\\dagger$', linestyle='dashdot',\n",
    "                linewidth=2.0, zorder=4\n",
    "            )\n",
    "\n",
    "        else:\n",
    "            \n",
    "            ax.plot(\n",
    "                q_array, n_array*factor*q_array**2, color='black',\n",
    "                label='Total', linewidth=2.0, zorder=1\n",
    "            )\n",
    "            ax.plot(\n",
    "                q_array, abs(n_delU_array)*factor*q_array**2, color='green',\n",
    "                label=r'$|\\delta U+\\delta U^\\dagger|$', linestyle='dashed',\n",
    "                linewidth=2.0, zorder=3\n",
    "            )\n",
    "            ax.plot(\n",
    "                q_array, abs(n_delU2_array)*factor*q_array**2, color='red',\n",
    "                label=r'$\\delta U \\delta U^\\dagger$', linestyle='dashdot',\n",
    "                linewidth=2.0, zorder=4\n",
    "            )\n",
    "\n",
    "    else:\n",
    "        \n",
    "        ax.plot(q_array, n_I_array*factor, color='blue', label='I', \n",
    "                linestyle='dotted', linewidth=2.0, zorder=2)\n",
    "        \n",
    "        if error_bars:\n",
    "        \n",
    "            ax.errorbar(\n",
    "                q_array, n_array*factor, yerr=n_errors, color='black',\n",
    "                label='Total', linestyle='solid', linewidth=2.0, zorder=1\n",
    "            )\n",
    "            ax.errorbar(\n",
    "                q_array, abs(n_delU_array)*factor, yerr=n_delU_errors,\n",
    "                color='green', label=r'$|\\delta U+\\delta U^\\dagger|$',\n",
    "                linestyle='dashed', linewidth=2.0, zorder=3\n",
    "            )\n",
    "            ax.plot(\n",
    "                q_array, abs(n_delU2_array)*factor, yerr=n_delU2_errors,\n",
    "                color='red', label=r'$\\delta U \\delta U^\\dagger$',\n",
    "                linestyle='dashdot', linewidth=2.0, zorder=4\n",
    "            )\n",
    "\n",
    "        else:\n",
    "            \n",
    "            ax.plot(q_array, n_array*factor, color='black', label='Total',\n",
    "                    linewidth=2.0, zorder=1)\n",
    "            ax.plot(\n",
    "                q_array, abs(n_delU_array)*factor, color='green',\n",
    "                label=r'$|\\delta U+\\delta U^\\dagger|$', linestyle='dashed',\n",
    "                linewidth=2.0, zorder=3\n",
    "            )\n",
    "            ax.plot(q_array, abs(n_delU2_array)*factor, color='red',\n",
    "                    label=r'$\\delta U \\delta U^\\dagger$', linestyle='dashdot',\n",
    "                    linewidth=2.0, zorder=4\n",
    "            )\n",
    "\n",
    "    # Print normalization?\n",
    "    if print_normalization:\n",
    "\n",
    "        total_norm = (4*np.pi)/(2*np.pi)**3 * np.sum(\n",
    "            q_weights * q_array**2 * n_array*factor\n",
    "        )\n",
    "        print(f\"Total normalization = {total_norm}.\")\n",
    "        \n",
    "        I_norm = (4*np.pi)/(2*np.pi)**3 * np.sum(\n",
    "            q_weights * q_array**2 * n_I_array*factor\n",
    "        )\n",
    "        print(f\"I normalization = {I_norm}.\")\n",
    "        \n",
    "        delU_norm = (4*np.pi)/(2*np.pi)**3 * np.sum(\n",
    "            q_weights * q_array**2 * n_delU_array * factor\n",
    "        )\n",
    "        print(f\"\\delta U + \\delta U^\\dagger normalization = {delU_norm}.\")\n",
    "        \n",
    "        delU2_norm = (4*np.pi)/(2*np.pi)**3 * np.sum(\n",
    "            q_weights * q_array**2 * n_delU2_array * factor\n",
    "        )\n",
    "        print(f\"\\delta U \\delta U^\\dagger normalization = {delU2_norm}.\")\n",
    "        \n",
    "        relative_error = abs(delU_norm+delU2_norm) / delU2_norm * 100\n",
    "        print(f\"Relative error = {relative_error}%.\")\n",
    "        \n",
    "        if show_vmc:\n",
    "            dq = q_array_vmc[2] - q_array_vmc[1]\n",
    "            vmc_norm = (\n",
    "                (4*np.pi)/(2*np.pi)**3*np.sum(dq*q_array_vmc**2*n_array_vmc)\n",
    "            )\n",
    "            print(f\"VMC normalization = {vmc_norm}.\")\n",
    "    \n",
    "    # Set axes limits\n",
    "    ax.set_xlim(x_limits)\n",
    "    ax.set_ylim(y_limits)\n",
    "\n",
    "    # Set axes labels\n",
    "    ax.set_xlabel(r\"$q$ [fm\" + r'$^{-1}$' + ']', fontsize=16)\n",
    "    ax.set_ylabel(r\"$n_{p}(q)$ [fm\" + r'$^3$' + ']', fontsize=16)\n",
    "\n",
    "    # Set legend\n",
    "    ax.legend(loc='upper right', fontsize=14, frameon=False)\n",
    "\n",
    "    # Add nucleus label\n",
    "    label = label_nucleus(nucleus_name) + \", \" + label_lambda(lamb)\n",
    "    ax.set_title(label, fontsize=14)\n",
    "#     ax.add_artist(\n",
    "#         AnchoredText(label, loc='center right', prop=dict(size=18),\n",
    "#                      frameon=False)\n",
    "#     )\n",
    "    \n",
    "    # Save?\n",
    "    if save:\n",
    "        file_name = replace_periods(\n",
    "            f\"{nucleus_name}_momentum_distribution_contributions_kvnn_{kvnn}\"\n",
    "            f\"_lamb_{lamb}_{y_scale}_scale\"\n",
    "        )\n",
    "        f.savefig(figures_directory + file_name + \".png\")"
   ]
  },
  {
   "cell_type": "code",
   "execution_count": 8,
   "id": "854f594b",
   "metadata": {
    "code_folding": [
     4
    ]
   },
   "outputs": [],
   "source": [
    "def compare_to_lda(\n",
    "        nucleus_name, Z, N, kvnn, lamb, x_limits=(0.0,10.0),\n",
    "        y_limits=(9e-6,1e3), print_normalization=False,\n",
    "        save=False\n",
    "):\n",
    "    \"\"\"Compares nuclear proton momentum distributions to LDA versions.\"\"\"\n",
    "    \n",
    "    # Initialize figure\n",
    "    plt.close('all')\n",
    "    f, ax = plt.subplots(figsize=(4, 4))\n",
    "    ax.set_yscale('log')\n",
    "\n",
    "    # Normalization factor to compare to VMC data\n",
    "    factor = (2*np.pi)**3\n",
    "    \n",
    "    # Load data from file\n",
    "    (q_array, q_weights, n_array, n_errors, n_I_array, n_delU_array,\n",
    "     n_delU_errors, n_delU2_array, n_delU2_errors) = (\n",
    "        load_momentum_distribution(nucleus_name, 'proton', lamb)\n",
    "    )\n",
    "    \n",
    "    # Get LDA data\n",
    "    md = MomentumDistribution(kvnn, 15.0, 3.0, 120)\n",
    "    n_total_func, n_I_func, n_delU_func, n_delU2_func = (\n",
    "        md.get_single_nucleon_momentum_distribution(\n",
    "            'proton', nucleus_name, 'SLy4', ('1S0', '3S1'), 'Wegner', lamb,\n",
    "            contributions=True, interpolate=True\n",
    "        )\n",
    "    )\n",
    "    n_delU_array_lda = n_delU_func(q_array)\n",
    "    n_delU2_array_lda = n_delU2_func(q_array)\n",
    "\n",
    "    ax.plot(q_array, n_I_array*factor, color='blue', label='I', \n",
    "            linestyle='dotted', linewidth=2.0, zorder=2)\n",
    "\n",
    "    ax.plot(q_array, n_array*factor, color='black', label='Total',\n",
    "            linewidth=2.0, zorder=1)\n",
    "            \n",
    "    # LDA \\delta U + \\delta U^\\dagger and \\delta U^2 terms\n",
    "    ax.plot(\n",
    "        q_array, abs(n_delU_array_lda), color='purple',\n",
    "        label=r'$|\\delta U+\\delta U^\\dagger|$ (LDA)', linestyle='dashed',\n",
    "        linewidth=1.0, zorder=3\n",
    "    )\n",
    "    ax.plot(q_array, n_delU2_array_lda, color='orange',\n",
    "            label=r'$\\delta U \\delta U^\\dagger$ (LDA)', linestyle='dashdot',\n",
    "            linewidth=1.0, zorder=4\n",
    "    )\n",
    "            \n",
    "    ax.plot(\n",
    "        q_array, abs(n_delU_array)*factor, color='green',\n",
    "        label=r'$|\\delta U+\\delta U^\\dagger|$', linestyle='dashed',\n",
    "        linewidth=2.0, zorder=5\n",
    "    )\n",
    "    \n",
    "    ax.plot(\n",
    "        q_array, abs(n_delU2_array)*factor, color='red',\n",
    "        label=r'$\\delta U \\delta U^\\dagger$', linestyle='dashdot',\n",
    "        linewidth=2.0, zorder=6\n",
    "    )\n",
    "\n",
    "    # Print normalization?\n",
    "    if print_normalization:\n",
    "\n",
    "        total_norm = (4*np.pi)/(2*np.pi)**3 * np.sum(\n",
    "            q_weights * q_array**2 * n_array*factor\n",
    "        )\n",
    "        print(f\"Total normalization = {total_norm}.\\n\")\n",
    "        \n",
    "        I_norm = (4*np.pi)/(2*np.pi)**3 * np.sum(\n",
    "            q_weights * q_array**2 * n_I_array*factor\n",
    "        )\n",
    "        print(f\"I normalization = {I_norm}.\")\n",
    "        \n",
    "        delU_norm = (4*np.pi)/(2*np.pi)**3 * np.sum(\n",
    "            q_weights * q_array**2 * n_delU_array * factor\n",
    "        )\n",
    "        print(f\"\\delta U + \\delta U^\\dagger normalization = {delU_norm}.\")\n",
    "        \n",
    "        delU2_norm = (4*np.pi)/(2*np.pi)**3 * np.sum(\n",
    "            q_weights * q_array**2 * n_delU2_array * factor\n",
    "        )\n",
    "        print(f\"\\delta U \\delta U^\\dagger normalization = {delU2_norm}.\\n\")\n",
    "        \n",
    "        # LDA normalizations\n",
    "        delU_norm_lda = (4*np.pi)/(2*np.pi)**3 * np.sum(\n",
    "            q_weights * q_array**2 * n_delU_array_lda\n",
    "        )\n",
    "        print(\n",
    "            f\"LDA \\delta U + \\delta U^\\dagger normalization = {delU_norm_lda}.\"\n",
    "        )\n",
    "        \n",
    "        delU2_norm_lda = (4*np.pi)/(2*np.pi)**3 * np.sum(\n",
    "            q_weights * q_array**2 * n_delU2_array_lda\n",
    "        )\n",
    "        print(\n",
    "            f\"LDA \\delta U \\delta U^\\dagger normalization = {delU2_norm_lda}.\\n\"\n",
    "        )\n",
    "        \n",
    "        cancelation = abs(delU_norm+delU2_norm)\n",
    "        cancelation_lda = abs(delU_norm_lda+delU2_norm_lda)\n",
    "        print(\n",
    "            f\"\\delta U + \\delta U^\\dagger + \\sum \\delta U^2 = {cancelation}.\"\n",
    "        )\n",
    "        print(\n",
    "            \"LDA \\delta U + \\delta U^\\dagger + \\sum \\delta U^2 =\"\n",
    "            f\" {cancelation_lda}.\"\n",
    "        )\n",
    "    \n",
    "    # Set axes limits\n",
    "    ax.set_xlim(x_limits)\n",
    "    ax.set_ylim(y_limits)\n",
    "\n",
    "    # Set axes labels\n",
    "    ax.set_xlabel(r\"$q$ [fm\" + r'$^{-1}$' + ']', fontsize=16)\n",
    "    ax.set_ylabel(r\"$n_{p}(q)$ [fm\" + r'$^3$' + ']', fontsize=16)\n",
    "\n",
    "    # Set legend\n",
    "    ax.legend(loc='upper right', fontsize=10, frameon=False)\n",
    "\n",
    "    # Add nucleus label\n",
    "    label = label_nucleus(nucleus_name) + \", \" + label_lambda(lamb)\n",
    "    ax.set_title(label, fontsize=14)\n",
    "#     ax.add_artist(\n",
    "#         AnchoredText(label, loc='center right', prop=dict(size=18),\n",
    "#                      frameon=False)\n",
    "#     )\n",
    "    \n",
    "    # Save?\n",
    "    if save:\n",
    "        file_name = f\"{nucleus_name}_compare_to_lda_kvnn_{kvnn}_lamb_{lamb}\"\n",
    "        f.savefig(figures_directory + file_name + \".png\")"
   ]
  },
  {
   "cell_type": "code",
   "execution_count": 9,
   "id": "c37149dd",
   "metadata": {},
   "outputs": [],
   "source": [
    "# Set proton isospin and AV18 as the potential\n",
    "tau = 1/2\n",
    "kvnn = 6"
   ]
  },
  {
   "cell_type": "markdown",
   "id": "95ccf7ad",
   "metadata": {},
   "source": [
    "### Testing $^{4}$He"
   ]
  },
  {
   "cell_type": "code",
   "execution_count": 10,
   "id": "90f20378",
   "metadata": {},
   "outputs": [],
   "source": [
    "nucleus_name, Z, N = 'He4', 2, 2"
   ]
  },
  {
   "cell_type": "code",
   "execution_count": 11,
   "id": "7fe8e0ea",
   "metadata": {
    "code_folding": []
   },
   "outputs": [],
   "source": [
    "# proton_momentum_distribution(\n",
    "#     nucleus_name, Z, N, kvnn, 1.35, x_limits=(0.0,6.0), y_limits=(1e-4,1e3),\n",
    "#     print_normalization=True, show_vmc=True, save=True\n",
    "# )"
   ]
  },
  {
   "cell_type": "code",
   "execution_count": 12,
   "id": "42f7c9be",
   "metadata": {
    "code_folding": []
   },
   "outputs": [
    {
     "ename": "OSError",
     "evalue": "He4_proton_momentum_distribution_1p5.txt not found.",
     "output_type": "error",
     "traceback": [
      "\u001b[0;31m---------------------------------------------------------------------------\u001b[0m",
      "\u001b[0;31mOSError\u001b[0m                                   Traceback (most recent call last)",
      "Cell \u001b[0;32mIn[12], line 1\u001b[0m\n\u001b[0;32m----> 1\u001b[0m \u001b[43mproton_momentum_distribution\u001b[49m\u001b[43m(\u001b[49m\n\u001b[1;32m      2\u001b[0m \u001b[43m    \u001b[49m\u001b[43mnucleus_name\u001b[49m\u001b[43m,\u001b[49m\u001b[43m \u001b[49m\u001b[43mZ\u001b[49m\u001b[43m,\u001b[49m\u001b[43m \u001b[49m\u001b[43mN\u001b[49m\u001b[43m,\u001b[49m\u001b[43m \u001b[49m\u001b[43mkvnn\u001b[49m\u001b[43m,\u001b[49m\u001b[43m \u001b[49m\u001b[38;5;241;43m1.5\u001b[39;49m\u001b[43m,\u001b[49m\u001b[43m \u001b[49m\u001b[43mx_limits\u001b[49m\u001b[38;5;241;43m=\u001b[39;49m\u001b[43m(\u001b[49m\u001b[38;5;241;43m0.0\u001b[39;49m\u001b[43m,\u001b[49m\u001b[38;5;241;43m6.0\u001b[39;49m\u001b[43m)\u001b[49m\u001b[43m,\u001b[49m\u001b[43m \u001b[49m\u001b[43my_limits\u001b[49m\u001b[38;5;241;43m=\u001b[39;49m\u001b[43m(\u001b[49m\u001b[38;5;241;43m1e-4\u001b[39;49m\u001b[43m,\u001b[49m\u001b[38;5;241;43m1e3\u001b[39;49m\u001b[43m)\u001b[49m\u001b[43m,\u001b[49m\n\u001b[1;32m      3\u001b[0m \u001b[43m    \u001b[49m\u001b[43mprint_normalization\u001b[49m\u001b[38;5;241;43m=\u001b[39;49m\u001b[38;5;28;43;01mTrue\u001b[39;49;00m\u001b[43m,\u001b[49m\u001b[43m \u001b[49m\u001b[43mshow_vmc\u001b[49m\u001b[38;5;241;43m=\u001b[39;49m\u001b[38;5;28;43;01mTrue\u001b[39;49;00m\u001b[43m,\u001b[49m\u001b[43m \u001b[49m\u001b[43msave\u001b[49m\u001b[38;5;241;43m=\u001b[39;49m\u001b[38;5;28;43;01mTrue\u001b[39;49;00m\n\u001b[1;32m      4\u001b[0m \u001b[43m)\u001b[49m\n",
      "Cell \u001b[0;32mIn[6], line 47\u001b[0m, in \u001b[0;36mproton_momentum_distribution\u001b[0;34m(nucleus_name, Z, N, kvnn, lamb, error_bars, x_limits, y_limits, y_scale, print_normalization, show_vmc, save)\u001b[0m\n\u001b[1;32m     40\u001b[0m         ax\u001b[38;5;241m.\u001b[39merrorbar(\n\u001b[1;32m     41\u001b[0m             q_array_vmc, n_array_vmc, yerr\u001b[38;5;241m=\u001b[39mn_errors_vmc, color\u001b[38;5;241m=\u001b[39m\u001b[38;5;124m'\u001b[39m\u001b[38;5;124mblack\u001b[39m\u001b[38;5;124m'\u001b[39m,\n\u001b[1;32m     42\u001b[0m             label\u001b[38;5;241m=\u001b[39m\u001b[38;5;124m'\u001b[39m\u001b[38;5;124mVMC\u001b[39m\u001b[38;5;124m'\u001b[39m, linestyle\u001b[38;5;241m=\u001b[39m\u001b[38;5;124m'\u001b[39m\u001b[38;5;124m'\u001b[39m, marker\u001b[38;5;241m=\u001b[39m\u001b[38;5;124m'\u001b[39m\u001b[38;5;124m.\u001b[39m\u001b[38;5;124m'\u001b[39m\n\u001b[1;32m     43\u001b[0m         )\n\u001b[1;32m     45\u001b[0m \u001b[38;5;66;03m# Load data from file\u001b[39;00m\n\u001b[1;32m     46\u001b[0m q_array, q_weights, n_array, n_errors, n_ipm_array, _, _, _, _ \u001b[38;5;241m=\u001b[39m (\n\u001b[0;32m---> 47\u001b[0m     \u001b[43mload_momentum_distribution\u001b[49m\u001b[43m(\u001b[49m\u001b[43mnucleus_name\u001b[49m\u001b[43m,\u001b[49m\u001b[43m \u001b[49m\u001b[38;5;124;43m'\u001b[39;49m\u001b[38;5;124;43mproton\u001b[39;49m\u001b[38;5;124;43m'\u001b[39;49m\u001b[43m,\u001b[49m\u001b[43m \u001b[49m\u001b[43mlamb\u001b[49m\u001b[43m)\u001b[49m\n\u001b[1;32m     48\u001b[0m )\n\u001b[1;32m     50\u001b[0m \u001b[38;5;28;01mif\u001b[39;00m y_scale \u001b[38;5;241m==\u001b[39m \u001b[38;5;124m'\u001b[39m\u001b[38;5;124mlinear\u001b[39m\u001b[38;5;124m'\u001b[39m:\n\u001b[1;32m     52\u001b[0m     \u001b[38;5;28;01mif\u001b[39;00m error_bars:\n",
      "Cell \u001b[0;32mIn[5], line 10\u001b[0m, in \u001b[0;36mload_momentum_distribution\u001b[0;34m(nucleus_name, nucleon, lamb)\u001b[0m\n\u001b[1;32m      2\u001b[0m \u001b[38;5;124;03m\"\"\"Load and return the momentum distribution along with the isolated\u001b[39;00m\n\u001b[1;32m      3\u001b[0m \u001b[38;5;124;03mcontributions.\u001b[39;00m\n\u001b[1;32m      4\u001b[0m \u001b[38;5;124;03m\"\"\"\u001b[39;00m\n\u001b[1;32m      6\u001b[0m file_name \u001b[38;5;241m=\u001b[39m replace_periods(\n\u001b[1;32m      7\u001b[0m     \u001b[38;5;124mf\u001b[39m\u001b[38;5;124m\"\u001b[39m\u001b[38;5;132;01m{\u001b[39;00mnucleus_name\u001b[38;5;132;01m}\u001b[39;00m\u001b[38;5;124m_\u001b[39m\u001b[38;5;132;01m{\u001b[39;00mnucleon\u001b[38;5;132;01m}\u001b[39;00m\u001b[38;5;124m_momentum_distribution_\u001b[39m\u001b[38;5;132;01m{\u001b[39;00mlamb\u001b[38;5;132;01m}\u001b[39;00m\u001b[38;5;124m\"\u001b[39m\n\u001b[1;32m      8\u001b[0m )\n\u001b[0;32m---> 10\u001b[0m data \u001b[38;5;241m=\u001b[39m \u001b[43mnp\u001b[49m\u001b[38;5;241;43m.\u001b[39;49m\u001b[43mloadtxt\u001b[49m\u001b[43m(\u001b[49m\u001b[43mfile_name\u001b[49m\u001b[43m \u001b[49m\u001b[38;5;241;43m+\u001b[39;49m\u001b[43m \u001b[49m\u001b[38;5;124;43m'\u001b[39;49m\u001b[38;5;124;43m.txt\u001b[39;49m\u001b[38;5;124;43m'\u001b[39;49m\u001b[43m)\u001b[49m\n\u001b[1;32m     12\u001b[0m q_array \u001b[38;5;241m=\u001b[39m data[:, \u001b[38;5;241m0\u001b[39m]\n\u001b[1;32m     13\u001b[0m q_weights \u001b[38;5;241m=\u001b[39m data[:, \u001b[38;5;241m1\u001b[39m]\n",
      "File \u001b[0;32m~/opt/anaconda3/lib/python3.9/site-packages/numpy/lib/npyio.py:1067\u001b[0m, in \u001b[0;36mloadtxt\u001b[0;34m(fname, dtype, comments, delimiter, converters, skiprows, usecols, unpack, ndmin, encoding, max_rows, like)\u001b[0m\n\u001b[1;32m   1065\u001b[0m     fname \u001b[38;5;241m=\u001b[39m os_fspath(fname)\n\u001b[1;32m   1066\u001b[0m \u001b[38;5;28;01mif\u001b[39;00m _is_string_like(fname):\n\u001b[0;32m-> 1067\u001b[0m     fh \u001b[38;5;241m=\u001b[39m \u001b[43mnp\u001b[49m\u001b[38;5;241;43m.\u001b[39;49m\u001b[43mlib\u001b[49m\u001b[38;5;241;43m.\u001b[39;49m\u001b[43m_datasource\u001b[49m\u001b[38;5;241;43m.\u001b[39;49m\u001b[43mopen\u001b[49m\u001b[43m(\u001b[49m\u001b[43mfname\u001b[49m\u001b[43m,\u001b[49m\u001b[43m \u001b[49m\u001b[38;5;124;43m'\u001b[39;49m\u001b[38;5;124;43mrt\u001b[39;49m\u001b[38;5;124;43m'\u001b[39;49m\u001b[43m,\u001b[49m\u001b[43m \u001b[49m\u001b[43mencoding\u001b[49m\u001b[38;5;241;43m=\u001b[39;49m\u001b[43mencoding\u001b[49m\u001b[43m)\u001b[49m\n\u001b[1;32m   1068\u001b[0m     fencoding \u001b[38;5;241m=\u001b[39m \u001b[38;5;28mgetattr\u001b[39m(fh, \u001b[38;5;124m'\u001b[39m\u001b[38;5;124mencoding\u001b[39m\u001b[38;5;124m'\u001b[39m, \u001b[38;5;124m'\u001b[39m\u001b[38;5;124mlatin1\u001b[39m\u001b[38;5;124m'\u001b[39m)\n\u001b[1;32m   1069\u001b[0m     fh \u001b[38;5;241m=\u001b[39m \u001b[38;5;28miter\u001b[39m(fh)\n",
      "File \u001b[0;32m~/opt/anaconda3/lib/python3.9/site-packages/numpy/lib/_datasource.py:193\u001b[0m, in \u001b[0;36mopen\u001b[0;34m(path, mode, destpath, encoding, newline)\u001b[0m\n\u001b[1;32m    156\u001b[0m \u001b[38;5;124;03m\"\"\"\u001b[39;00m\n\u001b[1;32m    157\u001b[0m \u001b[38;5;124;03mOpen `path` with `mode` and return the file object.\u001b[39;00m\n\u001b[1;32m    158\u001b[0m \n\u001b[0;32m   (...)\u001b[0m\n\u001b[1;32m    189\u001b[0m \n\u001b[1;32m    190\u001b[0m \u001b[38;5;124;03m\"\"\"\u001b[39;00m\n\u001b[1;32m    192\u001b[0m ds \u001b[38;5;241m=\u001b[39m DataSource(destpath)\n\u001b[0;32m--> 193\u001b[0m \u001b[38;5;28;01mreturn\u001b[39;00m \u001b[43mds\u001b[49m\u001b[38;5;241;43m.\u001b[39;49m\u001b[43mopen\u001b[49m\u001b[43m(\u001b[49m\u001b[43mpath\u001b[49m\u001b[43m,\u001b[49m\u001b[43m \u001b[49m\u001b[43mmode\u001b[49m\u001b[43m,\u001b[49m\u001b[43m \u001b[49m\u001b[43mencoding\u001b[49m\u001b[38;5;241;43m=\u001b[39;49m\u001b[43mencoding\u001b[49m\u001b[43m,\u001b[49m\u001b[43m \u001b[49m\u001b[43mnewline\u001b[49m\u001b[38;5;241;43m=\u001b[39;49m\u001b[43mnewline\u001b[49m\u001b[43m)\u001b[49m\n",
      "File \u001b[0;32m~/opt/anaconda3/lib/python3.9/site-packages/numpy/lib/_datasource.py:533\u001b[0m, in \u001b[0;36mDataSource.open\u001b[0;34m(self, path, mode, encoding, newline)\u001b[0m\n\u001b[1;32m    530\u001b[0m     \u001b[38;5;28;01mreturn\u001b[39;00m _file_openers[ext](found, mode\u001b[38;5;241m=\u001b[39mmode,\n\u001b[1;32m    531\u001b[0m                               encoding\u001b[38;5;241m=\u001b[39mencoding, newline\u001b[38;5;241m=\u001b[39mnewline)\n\u001b[1;32m    532\u001b[0m \u001b[38;5;28;01melse\u001b[39;00m:\n\u001b[0;32m--> 533\u001b[0m     \u001b[38;5;28;01mraise\u001b[39;00m \u001b[38;5;167;01mIOError\u001b[39;00m(\u001b[38;5;124m\"\u001b[39m\u001b[38;5;132;01m%s\u001b[39;00m\u001b[38;5;124m not found.\u001b[39m\u001b[38;5;124m\"\u001b[39m \u001b[38;5;241m%\u001b[39m path)\n",
      "\u001b[0;31mOSError\u001b[0m: He4_proton_momentum_distribution_1p5.txt not found."
     ]
    },
    {
     "data": {
      "image/png": "[encoded data removed]",
      "text/plain": [
       "<Figure size 600x600 with 1 Axes>"
      ]
     },
     "metadata": {},
     "output_type": "display_data"
    }
   ],
   "source": [
    "proton_momentum_distribution(\n",
    "    nucleus_name, Z, N, kvnn, 1.5, x_limits=(0.0,6.0), y_limits=(1e-4,1e3),\n",
    "    print_normalization=True, show_vmc=True, save=True\n",
    ")"
   ]
  },
  {
   "cell_type": "code",
   "execution_count": null,
   "id": "3978ab0f",
   "metadata": {},
   "outputs": [],
   "source": [
    "# proton_momentum_distribution(\n",
    "#     nucleus_name, Z, N, kvnn, 1.7, x_limits=(0.0,6.0), y_limits=(1e-4,1e3),\n",
    "#     print_normalization=True, show_vmc=True, save=True\n",
    "# )"
   ]
  },
  {
   "cell_type": "code",
   "execution_count": null,
   "id": "d0546d09",
   "metadata": {},
   "outputs": [],
   "source": [
    "# proton_momentum_distribution(\n",
    "#     nucleus_name, Z, N, kvnn, 1.5, print_normalization=True, show_vmc=True,\n",
    "#     y_scale='linear', x_limits=(0.0,2.0), y_limits=(-0.1,50), save=True\n",
    "# )"
   ]
  },
  {
   "cell_type": "code",
   "execution_count": null,
   "id": "aa17136b",
   "metadata": {},
   "outputs": [],
   "source": [
    "# momentum_distribution_contributions(\n",
    "#     nucleus_name, Z, N, kvnn, 1.35, x_limits=(0.0,6.0), y_limits=(1e-4,1e3),\n",
    "#     print_normalization=True, show_vmc=False, save=True\n",
    "# )"
   ]
  },
  {
   "cell_type": "code",
   "execution_count": null,
   "id": "d251954a",
   "metadata": {
    "code_folding": [],
    "scrolled": false
   },
   "outputs": [],
   "source": [
    "momentum_distribution_contributions(\n",
    "    nucleus_name, Z, N, kvnn, 1.5, x_limits=(0.0,6.0), y_limits=(1e-4,1e3),\n",
    "    print_normalization=True, show_vmc=False, save=True\n",
    ")"
   ]
  },
  {
   "cell_type": "code",
   "execution_count": null,
   "id": "df92939b",
   "metadata": {},
   "outputs": [],
   "source": [
    "# compare_to_lda(\n",
    "#         nucleus_name, Z, N, kvnn, 1.35, x_limits=(0.0,10.0), y_limits=(1e-4,1e3),\n",
    "#         print_normalization=True, save=False\n",
    "# )"
   ]
  },
  {
   "cell_type": "markdown",
   "id": "a829bced",
   "metadata": {},
   "source": [
    "### Testing $^{16}$O"
   ]
  },
  {
   "cell_type": "code",
   "execution_count": null,
   "id": "da396fe3",
   "metadata": {},
   "outputs": [],
   "source": [
    "nucleus_name, Z, N = 'O16', 8, 8"
   ]
  },
  {
   "cell_type": "code",
   "execution_count": null,
   "id": "f89623a0",
   "metadata": {
    "code_folding": []
   },
   "outputs": [],
   "source": [
    "# # \\lambda = 1.35 fm^-1\n",
    "# proton_momentum_distribution(\n",
    "#     nucleus_name, Z, N, kvnn, 1.35, print_normalization=True, show_vmc=True,\n",
    "#     x_limits=(0.0,6.0), y_limits=(5e-4,3e3), save=True\n",
    "# )"
   ]
  },
  {
   "cell_type": "code",
   "execution_count": null,
   "id": "b4dea116",
   "metadata": {},
   "outputs": [],
   "source": [
    "# \\lambda = 1.5 fm^-1\n",
    "proton_momentum_distribution(\n",
    "    nucleus_name, Z, N, kvnn, 1.5, print_normalization=True, show_vmc=True,\n",
    "    x_limits=(0.0,6.0), y_limits=(5e-4,3e3), save=True\n",
    ")"
   ]
  },
  {
   "cell_type": "code",
   "execution_count": null,
   "id": "2d938b7b",
   "metadata": {},
   "outputs": [],
   "source": [
    "# # \\lambda = 1.7 fm^-1\n",
    "# proton_momentum_distribution(\n",
    "#     nucleus_name, Z, N, kvnn, 1.7, print_normalization=True, show_vmc=True,\n",
    "#     x_limits=(0.0,6.0), y_limits=(5e-4,3e3), save=True\n",
    "# )"
   ]
  },
  {
   "cell_type": "code",
   "execution_count": null,
   "id": "a0b306f2",
   "metadata": {},
   "outputs": [],
   "source": [
    "# proton_momentum_distribution(\n",
    "#     nucleus_name, Z, N, kvnn, 1.5, print_normalization=True, show_vmc=True,\n",
    "#     y_scale='linear', x_limits=(0.0,2.0), y_limits=(-0.1,210.0), save=True\n",
    "# )"
   ]
  },
  {
   "cell_type": "code",
   "execution_count": null,
   "id": "b99eccef",
   "metadata": {},
   "outputs": [],
   "source": [
    "# momentum_distribution_contributions(\n",
    "#     nucleus_name, Z, N, kvnn, 1.35, print_normalization=True, show_vmc=False,\n",
    "#     x_limits=(0.0,6.0), y_limits=(5e-4,3e3), save=True\n",
    "# )"
   ]
  },
  {
   "cell_type": "code",
   "execution_count": null,
   "id": "25fef916",
   "metadata": {},
   "outputs": [],
   "source": [
    "momentum_distribution_contributions(\n",
    "    nucleus_name, Z, N, kvnn, 1.5, print_normalization=True, show_vmc=False,\n",
    "    x_limits=(0.0,6.0), y_limits=(5e-4,1e3), save=True\n",
    ")"
   ]
  },
  {
   "cell_type": "code",
   "execution_count": null,
   "id": "bbb446f3",
   "metadata": {},
   "outputs": [],
   "source": [
    "# # Compare to LDA on log scale\n",
    "# compare_to_lda(\n",
    "#     nucleus_name, Z, N, kvnn, 1.35, x_limits=(0.0,10.0), y_limits=(1e-4,3e3),\n",
    "#     print_normalization=True, save=False\n",
    "# )"
   ]
  },
  {
   "cell_type": "markdown",
   "id": "07d28589",
   "metadata": {},
   "source": [
    "### Testing $^{40}$Ca"
   ]
  },
  {
   "cell_type": "code",
   "execution_count": null,
   "id": "98cefc42",
   "metadata": {},
   "outputs": [],
   "source": [
    "nucleus_name, Z, N = 'Ca40', 20, 20"
   ]
  },
  {
   "cell_type": "code",
   "execution_count": null,
   "id": "25ff2a26",
   "metadata": {},
   "outputs": [],
   "source": [
    "# \\lambda = 1.5 fm^-1\n",
    "proton_momentum_distribution(\n",
    "    nucleus_name, Z, N, kvnn, 1.5, print_normalization=True, show_vmc=True,\n",
    "    x_limits=(0.0,6.0), y_limits=(1e-3,8e3), save=True\n",
    ")"
   ]
  },
  {
   "cell_type": "code",
   "execution_count": null,
   "id": "2c8696ed",
   "metadata": {},
   "outputs": [],
   "source": [
    "# proton_momentum_distribution(\n",
    "#     nucleus_name, Z, N, kvnn, 1.5, print_normalization=True, show_vmc=True,\n",
    "#     y_scale='linear', x_limits=(0.0,2.0), y_limits=(-0.1,550.0), save=True\n",
    "# )"
   ]
  },
  {
   "cell_type": "code",
   "execution_count": null,
   "id": "803a4669",
   "metadata": {},
   "outputs": [],
   "source": [
    "momentum_distribution_contributions(\n",
    "    nucleus_name, Z, N, kvnn, 1.5, print_normalization=True, show_vmc=False,\n",
    "    x_limits=(0.0,6.0), y_limits=(1e-3,8e3), save=True\n",
    ")"
   ]
  },
  {
   "cell_type": "markdown",
   "id": "3339131b",
   "metadata": {},
   "source": [
    "### Check LDA result on $k_{\\rm{max}}=30$ fm$^{-1}$"
   ]
  },
  {
   "cell_type": "code",
   "execution_count": null,
   "id": "78f94d90",
   "metadata": {},
   "outputs": [],
   "source": [
    "# from scripts.snmd import SingleNucleon\n",
    "# from scripts.integration import momentum_mesh"
   ]
  },
  {
   "cell_type": "code",
   "execution_count": null,
   "id": "f830390c",
   "metadata": {},
   "outputs": [],
   "source": [
    "# # Calculate LDA on AV18 with kmax=30\n",
    "# snmd = SingleNucleon(6, 30.0, 4.0, 120, ('1S0', '3S1'), 'Wegner', 1.5)\n",
    "# q_array, q_weights = momentum_mesh(30.0, 4.0, 120)"
   ]
  },
  {
   "cell_type": "code",
   "execution_count": null,
   "id": "99170c01",
   "metadata": {},
   "outputs": [],
   "source": [
    "# n_p_array = snmd.compute_momentum_distribution(q_array, 'proton', 'He4', 2, 2,\n",
    "#                                                density='Gogny', save=False)"
   ]
  },
  {
   "cell_type": "code",
   "execution_count": null,
   "id": "85ce7068",
   "metadata": {},
   "outputs": [],
   "source": [
    "# x_limits=(0.0,6.0)\n",
    "# y_limits=(1e-4,1e3)\n",
    "\n",
    "# plt.semilogy(q_array, n_p_array, linewidth=2.0)\n",
    "\n",
    "# plt.xlim(x_limits)\n",
    "# plt.ylim(y_limits)\n",
    "\n",
    "# plt.show()"
   ]
  },
  {
   "cell_type": "code",
   "execution_count": null,
   "id": "0047def6",
   "metadata": {},
   "outputs": [],
   "source": []
  },
  {
   "cell_type": "code",
   "execution_count": null,
   "id": "94a112e0",
   "metadata": {},
   "outputs": [],
   "source": []
  },
  {
   "cell_type": "code",
   "execution_count": null,
   "id": "fca4e420",
   "metadata": {},
   "outputs": [],
   "source": []
  }
 ],
 "metadata": {
  "kernelspec": {
   "display_name": "Python 3 (ipykernel)",
   "language": "python",
   "name": "python3"
  },
  "language_info": {
   "codemirror_mode": {
    "name": "ipython",
    "version": 3
   },
   "file_extension": ".py",
   "mimetype": "text/x-python",
   "name": "python",
   "nbconvert_exporter": "python",
   "pygments_lexer": "ipython3",
   "version": "3.9.13"
  }
 },
 "nbformat": 4,
 "nbformat_minor": 5
}

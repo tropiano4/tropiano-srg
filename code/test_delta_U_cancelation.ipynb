{
 "cells": [
  {
   "cell_type": "markdown",
   "id": "a95aac84",
   "metadata": {},
   "source": [
    "# Testing cancelation of SRG transformations in momentum distributions\n",
    "\n",
    "__Author:__ A. J. Tropiano [atropiano@anl.gov]<br/>\n",
    "__Date:__ February 9, 2023\n",
    "\n",
    "The SRG transformations are unitary and therefore satisfy the condition<br>\n",
    "\n",
    "$$\n",
    "\\begin{align}\n",
    "U^\\dagger U &= I + \\frac{1}{4} \\sum_{\\mathbf{k}, \\mathbf{k'}, \\mathbf{K}} \\bigl[\n",
    "    \\delta U(\\mathbf{k},\\mathbf{k'}) + \\delta U^\\dagger(\\mathbf{k},\\mathbf{k'})\n",
    "    + \\frac{1}{2} \\sum_{\\mathbf{k''}} \\delta U(\\mathbf{k},\\mathbf{k''}) \\delta U^\\dagger(\\mathbf{k''},\\mathbf{k'})\n",
    "\\bigr]\n",
    "a^\\dagger_{\\frac{\\mathbf{K}}{2}+\\mathbf{k}} a^\\dagger_{\\frac{\\mathbf{K}}{2}-\\mathbf{k}}\n",
    "a_{\\frac{\\mathbf{K}}{2}-\\mathbf{k'}} a_{\\frac{\\mathbf{K}}{2}+\\mathbf{k'}} \\\\\n",
    "&= I\n",
    ".\n",
    "\\end{align}\n",
    "$$<br>\n",
    "\n",
    "This implies that<br>\n",
    "\n",
    "$$\n",
    "\\delta U(\\mathbf{k},\\mathbf{k'}) + \\delta U^\\dagger(\\mathbf{k},\\mathbf{k'}) \n",
    "+ \\frac{1}{2} \\sum_{\\mathbf{k''}} \\delta U(\\mathbf{k},\\mathbf{k''}) \\delta U^\\dagger(\\mathbf{k''},\\mathbf{k'})\n",
    "= 0\n",
    ".\n",
    "$$<br>\n",
    "\n",
    "In partial waves this looks like<br>\n",
    "\n",
    "$$\n",
    "\\delta U_{LL'}(k,k') + \\delta U^\\dagger_{LL'}(k,k') + \\frac{2}{\\pi} \\sum_{L''} \\int dk'' k''^2\n",
    "    \\delta U_{LL''}(k,k'') \\delta U^\\dagger_{L''L'}(k'',k')\n",
    "= 0\n",
    ",\n",
    "$$<br>\n",
    "given partial wave channel quantum numbers $J$, $S$, and $T$.<br>\n",
    "\n",
    "_Last update:_ March 8, 2023"
   ]
  },
  {
   "cell_type": "code",
   "execution_count": 1,
   "id": "7a2f5509",
   "metadata": {},
   "outputs": [],
   "source": [
    "# Python imports\n",
    "import matplotlib.pyplot as plt\n",
    "%matplotlib inline\n",
    "import numpy as np\n",
    "import numpy.linalg as la\n",
    "from scipy.interpolate import RectBivariateSpline, RegularGridInterpolator"
   ]
  },
  {
   "cell_type": "code",
   "execution_count": 2,
   "id": "b02384fc",
   "metadata": {},
   "outputs": [],
   "source": [
    "# Imports from scripts\n",
    "from scripts.figures import interpolate_matrix, label_ticks, set_rc_parameters\n",
    "from scripts.integration import (\n",
    "    gaussian_quadrature_mesh, momentum_mesh, unattach_weights_from_matrix\n",
    ")\n",
    "from scripts.momentum_projection_operator import momentum_projection_operator\n",
    "from scripts.potentials import Potential\n",
    "from scripts.srg import get_transformation\n",
    "from scripts.tools import replace_periods"
   ]
  },
  {
   "cell_type": "code",
   "execution_count": 3,
   "id": "cad91ba4",
   "metadata": {},
   "outputs": [],
   "source": [
    "# Run this cell to turn on customized matplotlib graphics\n",
    "set_rc_parameters()"
   ]
  },
  {
   "cell_type": "markdown",
   "id": "e21b46ea",
   "metadata": {},
   "source": [
    "## Check cancelation of matrix elements"
   ]
  },
  {
   "cell_type": "code",
   "execution_count": 4,
   "id": "0df6191f",
   "metadata": {
    "code_folding": [
     3
    ]
   },
   "outputs": [],
   "source": [
    "def load_H_evolved(\n",
    "        kvnn, channel, generator, lamb, kmax=15.0, kmid=3.0, ntot=120,\n",
    "        solver='ode', method='BDF', atol=1e-10, rtol=1e-10, wrt='s'\n",
    "):\n",
    "    \"\"\"Load evolved Hamiltonian.\"\"\"\n",
    "    \n",
    "    if solver == 'U':\n",
    "        \n",
    "        H_file_name = (\n",
    "            f\"H_evolved_kvnn_{kvnn}_{channel}_{generator}_lamb_{lamb}_kmax\"\n",
    "            f\"_{kmax}_kmid_{kmid}_ntot_{ntot}_{solver}_{method}_wrt_{wrt}\"\n",
    "        )\n",
    "            \n",
    "        H_evolved = np.loadtxt(\"./test_srg/\" + replace_periods(H_file_name)\n",
    "                               + \".txt\")\n",
    "                \n",
    "        U_file_name = (\n",
    "            f\"U_kvnn_{kvnn}_{channel}_{generator}_lamb_{lamb}_kmax_{kmax}\"\n",
    "            f\"_kmid_{kmid}_ntot_{ntot}_{solver}_{method}_wrt_{wrt}\"\n",
    "        )\n",
    "            \n",
    "        U_evolved = np.loadtxt(\"./test_srg/\" + replace_periods(U_file_name)\n",
    "                               + \".txt\")\n",
    "        \n",
    "        return H_evolved, U_evolved\n",
    "        \n",
    "    else:\n",
    "        \n",
    "        file_name = (\n",
    "            f\"H_evolved_kvnn_{kvnn}_{channel}_{generator}_lamb_{lamb}_kmax\"\n",
    "            f\"_{kmax}_kmid_{kmid}_ntot_{ntot}_{solver}_{method}_wrt_{wrt}\"\n",
    "        )\n",
    "        H_evolved = np.loadtxt(\"./test_srg/\" + replace_periods(file_name)\n",
    "                               + \".txt\")\n",
    "    \n",
    "        return H_evolved"
   ]
  },
  {
   "cell_type": "code",
   "execution_count": 5,
   "id": "346a92ad",
   "metadata": {},
   "outputs": [],
   "source": [
    "kvnn = 6\n",
    "# kvnn = 111  # SMS N4LO 450 MeV\n",
    "channel = '3S1'\n",
    "# channel = '3P1'\n",
    "# channel = '1P1'\n",
    "kmax, kmid, ntot = 15.0, 3.0, 120\n",
    "# kmax, kmid, ntot = 30.0, 4.0, 120  # Different mesh for AV18\n",
    "generator, lamb = 'Wegner', 1.35\n",
    "# generator, lamb = 'Wegner', 2.0\n",
    "\n",
    "potential = Potential(kvnn, channel, kmax, kmid, ntot)\n",
    "k_array, k_weights = potential.load_mesh()"
   ]
  },
  {
   "cell_type": "code",
   "execution_count": 6,
   "id": "2aa575d8",
   "metadata": {},
   "outputs": [],
   "source": [
    "# Initial and evolved Hamiltonians with integration factors attached [MeV]\n",
    "H_initial = potential.load_hamiltonian()"
   ]
  },
  {
   "cell_type": "code",
   "execution_count": 7,
   "id": "d39f7943",
   "metadata": {},
   "outputs": [],
   "source": [
    "# # Get H_evolved from current version generated by srg.py\n",
    "# H_evolved = potential.load_hamiltonian('srg', generator, lamb)\n",
    "\n",
    "# # scipy.integrate.ode with BDF solving w.r.t. \\lambda\n",
    "# H_evolved = load_H_evolved(\n",
    "#     kvnn, channel, generator, lamb, kmax, kmid, ntot, solver='ode',\n",
    "#     method='BDF', atol=1e-10, rtol=1e-10, wrt='lambda'\n",
    "# )\n",
    "\n",
    "# # scipy.integrate.solve_ivp with LSODA solving w.r.t. s\n",
    "# H_evolved = load_H_evolved(\n",
    "#     kvnn, channel, generator, lamb, kmax, kmid, ntot, solver='solve_ivp',\n",
    "#     method='LSODA', atol=1e-10, rtol=1e-10, wrt='s'\n",
    "# )\n",
    "\n",
    "# Load saved file\n",
    "H_evolved, U_matrix = load_H_evolved(\n",
    "    kvnn, channel, generator, lamb, kmax, kmid, ntot, solver='U', method='BDF',\n",
    "    atol=1e-10, rtol=1e-10, wrt='lambda'\n",
    ")\n",
    "\n",
    "# # SRG transformation with integration factors attached [unitless]\n",
    "# U_matrix = get_transformation(H_initial, H_evolved)\n",
    "\n",
    "# Identity matrix\n",
    "I_matrix = np.eye(len(U_matrix), len(U_matrix))"
   ]
  },
  {
   "cell_type": "code",
   "execution_count": 8,
   "id": "03e88149",
   "metadata": {},
   "outputs": [],
   "source": [
    "# \\delta U and \\delta U^\\dagger matrices\n",
    "delta_U = U_matrix - I_matrix\n",
    "delta_U_dag = (U_matrix - I_matrix).T"
   ]
  },
  {
   "cell_type": "code",
   "execution_count": 9,
   "id": "c6ad72e1",
   "metadata": {},
   "outputs": [],
   "source": [
    "# \\delta U 3S1-3S1 sub-block\n",
    "delta_U_3S1_3S1 = delta_U[:ntot, :ntot]\n",
    "\n",
    "# \\delta U^\\dagger 3S1-3S1 sub-block\n",
    "delta_U_dag_3S1_3S1 = delta_U_dag[:ntot, :ntot]\n",
    "\n",
    "# \\delta U 3S1-3D1 sub-block\n",
    "delta_U_3S1_3D1 = delta_U[:ntot, ntot:]\n",
    "\n",
    "# \\delta U^\\dagger 3D1-3S1 sub-block\n",
    "delta_U_dag_3D1_3S1 = delta_U_dag[ntot:, :ntot]"
   ]
  },
  {
   "cell_type": "code",
   "execution_count": 10,
   "id": "33592d6f",
   "metadata": {},
   "outputs": [],
   "source": [
    "# \\sum_k'' \\delta U_{3S1-3S1}(k,k'') \\delta U^\\dagger_{3S1-3S1}(k'',k')\n",
    "delta_U2_3S1_3S1 = delta_U_3S1_3S1 @ delta_U_dag_3S1_3S1\n",
    "\n",
    "# \\sum_k'' \\delta U_{3S1-3D1}(k,k'') \\delta U^\\dagger_{3D1-3S1}(k'',k')\n",
    "delta_U2_3S1_3D1 = delta_U_3S1_3D1 @ delta_U_dag_3D1_3S1"
   ]
  },
  {
   "cell_type": "code",
   "execution_count": 11,
   "id": "56fb2f0a",
   "metadata": {},
   "outputs": [
    {
     "name": "stdout",
     "output_type": "stream",
     "text": [
      "[[ 5.46737857e-15 -1.24598849e-15 -3.83205581e-15 ... -1.89105711e-15\n",
      "  -1.34543328e-15 -4.11296826e-16]\n",
      " [-1.24598849e-15 -7.51640893e-15 -3.07732543e-14 ... -1.51783372e-14\n",
      "  -1.08027549e-14 -3.30227952e-15]\n",
      " [-3.83205581e-15 -3.07732543e-14 -4.64132197e-14 ... -4.65602695e-14\n",
      "  -3.31980597e-14 -1.01472417e-14]\n",
      " ...\n",
      " [-1.89105711e-15 -1.51783372e-14 -4.65602695e-14 ... -2.53973428e-08\n",
      "  -2.88195255e-08 -1.75963354e-08]\n",
      " [-1.34543328e-15 -1.08027549e-14 -3.31980597e-14 ... -2.88195255e-08\n",
      "  -3.71369376e-08 -2.34160754e-08]\n",
      " [-4.11296826e-16 -3.30227952e-15 -1.01472417e-14 ... -1.75963354e-08\n",
      "  -2.34160754e-08 -1.49363669e-08]]\n",
      "Norm of matrix with integration weights = 0.00000.\n",
      "\n",
      "Norm of matrix without integration weights = 0.00000.\n",
      "\n"
     ]
    }
   ],
   "source": [
    "matrix = delta_U_3S1_3S1 + delta_U_dag_3S1_3S1 + (delta_U2_3S1_3S1\n",
    "                                                  + delta_U2_3S1_3D1)\n",
    "print(matrix)\n",
    "print(f\"Norm of matrix with integration weights = {la.norm(matrix):.5f}.\\n\")\n",
    "matrix_no_weights = unattach_weights_from_matrix(k_array, k_weights, matrix)\n",
    "print(\"Norm of matrix without integration weights = \"\n",
    "      f\"{la.norm(matrix_no_weights):.5f}.\\n\")"
   ]
  },
  {
   "cell_type": "code",
   "execution_count": 12,
   "id": "ac1caf12",
   "metadata": {
    "code_folding": [
     4
    ]
   },
   "outputs": [],
   "source": [
    "def plot_delU_sum(\n",
    "        k_array, matrix_no_weights, levels_number=61,\n",
    "        colorbar_limits=(-1.0,1.0), color_map='turbo', axes_limits=(0.0,4.0),\n",
    "        xlabel_size=16, ylabel_size=16\n",
    "):\n",
    "    \n",
    "    # --- Figure set-up --- #\n",
    "    plt.close('all')\n",
    "    f, ax = plt.subplots(figsize=(4,4))\n",
    "    \n",
    "    # Set contour levels\n",
    "    levels = np.linspace(colorbar_limits[0], colorbar_limits[1],\n",
    "                         levels_number)\n",
    "    \n",
    "    # We don't need the second output since it'll be the same as the first\n",
    "    k_max = axes_limits[1] + 0.2  # Add a little extra to prevent white edges\n",
    "    k_array_dense, _, matrix_dense = interpolate_matrix(\n",
    "        k_array, k_array, matrix_no_weights, k_max, k_max)\n",
    "\n",
    "    # --- Plot --- #\n",
    "    c = ax.contourf(k_array_dense, k_array_dense, matrix_dense, levels,\n",
    "                    cmap=color_map, extend='both')\n",
    "\n",
    "    # --- Axes limits --- #\n",
    "    ax.set_xlim(axes_limits)\n",
    "    ax.set_ylim(axes_limits)\n",
    "\n",
    "    # --- Axes labels --- #\n",
    "    ax.set_xlabel(\"$k'$ [fm\" + r\"$^{-1}$\" + \"]\", fontsize=xlabel_size)\n",
    "    ax.set_ylabel(\"$k$ [fm\" + r\"$^{-1}$\" + \"]\", fontsize=ylabel_size)\n",
    "    \n",
    "    # --- Adjust axes --- #\n",
    "    # Switch x-axis label from bottom to top\n",
    "    ax.xaxis.set_label_position('top')\n",
    "    ax.tick_params(labeltop=True, labelbottom=False)\n",
    "    # Invert y-axis\n",
    "    ax.invert_yaxis()\n",
    "    \n",
    "    # --- Colorbar --- #\n",
    "    # Colorbar location (left, bottom, width, height)\n",
    "    cbar_ax = f.add_axes((1.0, 0.15, 0.1, 0.7))\n",
    "    # Set colorbar ticks and tick labels\n",
    "    levels_ticks = np.linspace(colorbar_limits[0], colorbar_limits[1], 9)\n",
    "    levels_ticks_strings = label_ticks(levels_ticks)  # Make these strings\n",
    "    # Set colorbar\n",
    "    cbar = f.colorbar(c, cax=cbar_ax, ticks=levels_ticks)\n",
    "    cbar.ax.set_yticklabels(levels_ticks_strings)\n",
    "    cbar.ax.set_title(r\"[fm$^3$]\", fontsize=16, pad=15)"
   ]
  },
  {
   "cell_type": "code",
   "execution_count": 13,
   "id": "624e7d85",
   "metadata": {},
   "outputs": [
    {
     "data": {
      "image/png": "[encoded data removed]",
      "text/plain": [
       "<Figure size 600x600 with 2 Axes>"
      ]
     },
     "metadata": {},
     "output_type": "display_data"
    }
   ],
   "source": [
    "plot_delU_sum(\n",
    "    k_array, matrix_no_weights, colorbar_limits=(-0.001,0.001),\n",
    "    axes_limits=(0.0,15.0), xlabel_size=16, ylabel_size=16\n",
    ")"
   ]
  },
  {
   "cell_type": "markdown",
   "id": "af5b8e51",
   "metadata": {},
   "source": [
    "The above plot shows\n",
    "$$\n",
    "\\delta U(\\mathbf{k},\\mathbf{k'}) + \\delta U^\\dagger(\\mathbf{k},\\mathbf{k'}) \n",
    "+ \\frac{1}{2} \\sum_{\\mathbf{k''}} \\delta U(\\mathbf{k},\\mathbf{k''}) \\delta U^\\dagger(\\mathbf{k''},\\mathbf{k'})\n",
    "$$\n",
    "where integration factors have been divided out."
   ]
  },
  {
   "cell_type": "code",
   "execution_count": 14,
   "id": "61a4745d",
   "metadata": {},
   "outputs": [],
   "source": [
    "# delta_U_3S1_3S1_no_weights = unattach_weights_from_matrix(k_array, k_weights,\n",
    "#                                                           delta_U_3S1_3S1)\n",
    "# delta_U_dag_3S1_3S1_no_weights = unattach_weights_from_matrix(\n",
    "#     k_array, k_weights, delta_U_dag_3S1_3S1\n",
    "# )\n",
    "# delta_U_linear = delta_U_3S1_3S1_no_weights + delta_U_dag_3S1_3S1_no_weights"
   ]
  },
  {
   "cell_type": "code",
   "execution_count": 15,
   "id": "051851ed",
   "metadata": {},
   "outputs": [],
   "source": [
    "# plot_delU_sum(\n",
    "#     k_array, delta_U_3S1_3S1_no_weights, colorbar_limits=(-0.5,0.5),\n",
    "#     axes_limits=(0.0,4.0), xlabel_size=16, ylabel_size=16\n",
    "# )"
   ]
  },
  {
   "cell_type": "code",
   "execution_count": 16,
   "id": "ba38163a",
   "metadata": {},
   "outputs": [],
   "source": [
    "# plot_delU_sum(\n",
    "#     k_array, delta_U_dag_3S1_3S1_no_weights, colorbar_limits=(-0.5,0.5),\n",
    "#     axes_limits=(0.0,4.0), xlabel_size=16, ylabel_size=16\n",
    "# )"
   ]
  },
  {
   "cell_type": "code",
   "execution_count": 17,
   "id": "8c0f5d7f",
   "metadata": {},
   "outputs": [],
   "source": [
    "# plot_delU_sum(\n",
    "#     k_array, delta_U_linear, colorbar_limits=(-0.5,0.5), axes_limits=(0.0,4.0),\n",
    "#     xlabel_size=16, ylabel_size=16\n",
    "# )"
   ]
  },
  {
   "cell_type": "code",
   "execution_count": 18,
   "id": "6b1f7aca",
   "metadata": {},
   "outputs": [],
   "source": [
    "# delta_U2_no_weights = unattach_weights_from_matrix(\n",
    "#     k_array, k_array, 1/2*(delta_U2_3S1_3S1 + delta_U2_3S1_3D1)\n",
    "# )\n",
    "\n",
    "# plot_delU_sum(\n",
    "#     k_array, delta_U2_no_weights, colorbar_limits=(-0.1,0.1),\n",
    "#     axes_limits=(0.0,4.0), xlabel_size=16, ylabel_size=16\n",
    "# )"
   ]
  },
  {
   "cell_type": "code",
   "execution_count": 19,
   "id": "c669245f",
   "metadata": {},
   "outputs": [],
   "source": [
    "# print((I_matrix+delta_U) @ (I_matrix+delta_U).T)"
   ]
  },
  {
   "cell_type": "code",
   "execution_count": 20,
   "id": "cdd53137",
   "metadata": {},
   "outputs": [],
   "source": [
    "# print(I_matrix @ I_matrix + delta_U @ I_matrix + I_matrix @ delta_U_dag + delta_U @ delta_U_dag)"
   ]
  },
  {
   "cell_type": "code",
   "execution_count": 21,
   "id": "2eb1c372",
   "metadata": {},
   "outputs": [],
   "source": [
    "# print(delta_U @ I_matrix + I_matrix @ delta_U_dag + delta_U @ delta_U_dag)"
   ]
  },
  {
   "cell_type": "markdown",
   "id": "3501090f",
   "metadata": {},
   "source": [
    "## Check that normalization of momentum projection operator is conserved"
   ]
  },
  {
   "cell_type": "code",
   "execution_count": 22,
   "id": "aaeecc35",
   "metadata": {},
   "outputs": [
    {
     "name": "stdout",
     "output_type": "stream",
     "text": [
      "Unevolved norm = 2.847882658769522\n",
      "Evolved norm = 2.8478826478270873\n"
     ]
    }
   ],
   "source": [
    "q = 2.0\n",
    "mpo_initial = momentum_projection_operator(\n",
    "    q, k_array, k_weights, coupled=potential.coupled_channel_bool\n",
    ")\n",
    "\n",
    "print(f\"Unevolved norm = {la.norm(mpo_initial)}\")\n",
    "\n",
    "mpo_I_matrix = I_matrix @ mpo_initial @ I_matrix\n",
    "mpo_delU_matrix = delta_U @ mpo_initial @ I_matrix\n",
    "mpo_delUdag_matrix = I_matrix @ mpo_initial @ delta_U_dag\n",
    "mpo_delU2_matrix = delta_U @ mpo_initial @ delta_U_dag\n",
    "\n",
    "mpo_evolved = (mpo_I_matrix + mpo_delU_matrix + mpo_delUdag_matrix\n",
    "               + mpo_delU2_matrix)\n",
    "\n",
    "print(f\"Evolved norm = {la.norm(mpo_evolved)}\")"
   ]
  },
  {
   "cell_type": "markdown",
   "id": "4717d3cc",
   "metadata": {},
   "source": [
    "## Cancelation after interpolating $\\delta U$ functions"
   ]
  },
  {
   "cell_type": "code",
   "execution_count": 23,
   "id": "c3775c67",
   "metadata": {
    "code_folding": [
     0
    ]
   },
   "outputs": [],
   "source": [
    "# # Check that \\delta U_{3S1-3S1} * \\delta U^\\dagger_{3S1-3S1} is equal to\n",
    "# # \\delta U_{3S1-3S1}^2\n",
    "\n",
    "# delU_3S1_3S1 = unattach_weights_from_matrix(k_array, k_weights, delta_U_3S1_3S1)\n",
    "\n",
    "# delUdag_3S1_3S1 = unattach_weights_from_matrix(k_array, k_weights,\n",
    "#                                                delta_U_dag_3S1_3S1)\n",
    "\n",
    "# product = np.zeros_like(delU_3S1_3S1)\n",
    "# for i in range(ntot):\n",
    "#     for j in range(ntot):\n",
    "#         product[i,j] = delU_3S1_3S1[i,j] * delUdag_3S1_3S1[j,i]\n",
    "\n",
    "# print(delU_3S1_3S1**2-product)"
   ]
  },
  {
   "cell_type": "code",
   "execution_count": 24,
   "id": "dade4aaa",
   "metadata": {
    "code_folding": [
     0
    ]
   },
   "outputs": [],
   "source": [
    "# # Do the same test for the 3S1-3D1 block\n",
    "# delU_3S1_3D1 = unattach_weights_from_matrix(k_array, k_weights, delta_U_3S1_3D1)\n",
    "# delUdag_3D1_3S1 = unattach_weights_from_matrix(k_array, k_weights,\n",
    "#                                                delta_U_dag_3D1_3S1)\n",
    "\n",
    "# product = np.zeros_like(delU_3S1_3D1)\n",
    "# for i in range(ntot):\n",
    "#     for j in range(ntot):\n",
    "#         product[i,j] = delU_3S1_3D1[i,j] * delUdag_3D1_3S1[j,i]\n",
    "        \n",
    "# print(delU_3S1_3D1**2-product)"
   ]
  },
  {
   "cell_type": "code",
   "execution_count": 25,
   "id": "18d89a1b",
   "metadata": {
    "code_folding": [
     4
    ]
   },
   "outputs": [],
   "source": [
    "# COPIED FROM compare_to_lda.ipynb\n",
    "def interpolate_delta_U(\n",
    "        potential, channel, generator='Wegner', lamb=1.35,\n",
    "        hermitian_conjugate=False, order=3\n",
    "):\n",
    "    \"\"\"Function that returns interpolated \\delta U(k, k'),\n",
    "    \\delta U^\\dagger(k, k') or \\delta U^2(k, k') given the partial wave channel.\n",
    "    \"\"\"\n",
    "    \n",
    "    kmax, kmid, ntot = potential.kmax, potential.kmid, potential.ntot\n",
    "    \n",
    "    # Get momentum mesh\n",
    "    # k_array, k_weights = potential.load_mesh()\n",
    "    # ntot = potential.ntot\n",
    "    k_array, k_weights = momentum_mesh(kmax, kmid, ntot)\n",
    "\n",
    "    # Initial Hamiltonian\n",
    "    H_initial = potential.load_hamiltonian()\n",
    "    \n",
    "#     # Evolved Hamiltonian\n",
    "#     H_evolved = potential.load_hamiltonian('srg', generator, lamb)\n",
    "\n",
    "    # scipy.integrate.solve_ivp with LSODA solving w.r.t. s\n",
    "    if channel[:3] == '3S1' or channel[:3] == '3D1':\n",
    "#         H_evolved = load_H_evolved(\n",
    "#             potential.kvnn, '3S1', generator, lamb, kmax, kmid, ntot,\n",
    "#             solver='solve_ivp', method='LSODA', atol=1e-10, rtol=1e-10, wrt='s'\n",
    "#         )\n",
    "        H_evolved, U_matrix_weights = load_H_evolved(\n",
    "            potential.kvnn, '3S1', generator, lamb, kmax, kmid, ntot,\n",
    "            solver='U', method='BDF', atol=1e-10, rtol=1e-10, wrt='lambda'\n",
    "        )\n",
    "    else:\n",
    "#         H_evolved = load_H_evolved(\n",
    "#             potential.kvnn, channel, generator, lamb, kmax, kmid, ntot,\n",
    "#             solver='solve_ivp', method='LSODA', atol=1e-10, rtol=1e-10, wrt='s'\n",
    "#         )\n",
    "        H_evolved, U_matrix_weights = load_H_evolved(\n",
    "            potential.kvnn, channel, generator, lamb, kmax, kmid, ntot,\n",
    "            solver='U', method='BDF', atol=1e-10, rtol=1e-10, wrt='lambda'\n",
    "        )\n",
    "    \n",
    "#     # Get SRG transformation from Hamiltonians\n",
    "#     U_matrix_weights = get_transformation(H_initial, H_evolved)\n",
    "    \n",
    "    # Calculate \\delta U = U - I\n",
    "    I_matrix_weights = np.eye(len(H_initial), len(H_initial))\n",
    "    if hermitian_conjugate:\n",
    "        delU_matrix_weights = (U_matrix_weights - I_matrix_weights).T\n",
    "    else:\n",
    "        delU_matrix_weights = U_matrix_weights - I_matrix_weights\n",
    "\n",
    "    # Get specific sub-block if coupled-channel\n",
    "    if channel in ['3S1-3D1', '3P2-3F2', '3D3-3G3']:\n",
    "        delU_matrix = unattach_weights_from_matrix(\n",
    "            k_array, k_weights, delU_matrix_weights[:ntot,ntot:])\n",
    "    elif channel in ['3D1-3S1', '3F2-3P2', '3G3-3D3']:\n",
    "        delU_matrix = unattach_weights_from_matrix(\n",
    "            k_array, k_weights, delU_matrix_weights[ntot:,:ntot])\n",
    "    elif channel in ['3D1-3D1', '3F2-3F2', '3G3-3G3']:\n",
    "        delU_matrix = unattach_weights_from_matrix(\n",
    "            k_array, k_weights, delU_matrix_weights[ntot:,ntot:])\n",
    "    else:\n",
    "        delU_matrix = unattach_weights_from_matrix(\n",
    "            k_array, k_weights, delU_matrix_weights[:ntot,:ntot])\n",
    "        \n",
    "    # Interpolate \\delta U(k, k') or \\delta U^\\dagger(k, k')\n",
    "    delU_func = RectBivariateSpline(k_array, k_array, delU_matrix, kx=order,\n",
    "                                    ky=order)\n",
    "#     delU_func = RegularGridInterpolator((k_array, k_array), delU_matrix,\n",
    "#                                         method='nearest')\n",
    "    \n",
    "    return delU_func"
   ]
  },
  {
   "cell_type": "code",
   "execution_count": 26,
   "id": "6ca0dbe5",
   "metadata": {
    "code_folding": [
     1
    ]
   },
   "outputs": [],
   "source": [
    "# COPIED FROM compare_to_lda.ipynb\n",
    "def get_delta_U_functions(potential, channel, order=3):\n",
    "    \n",
    "    if channel == '3S1':\n",
    "        channels = ('3S1-3S1', '3S1-3D1', '3D1-3S1')\n",
    "    else:\n",
    "        channels = [channel]\n",
    "\n",
    "    delta_U_functions = {}\n",
    "    delta_U_dagger_functions = {}\n",
    "    for ichannel in channels:\n",
    "        delta_U_functions[ichannel] = interpolate_delta_U(potential, ichannel,\n",
    "                                                          order=order)\n",
    "        delta_U_dagger_functions[ichannel] = interpolate_delta_U(\n",
    "            potential, ichannel, hermitian_conjugate=True, order=order\n",
    "        )\n",
    "\n",
    "    return delta_U_functions, delta_U_dagger_functions"
   ]
  },
  {
   "cell_type": "code",
   "execution_count": 27,
   "id": "ce513c0c",
   "metadata": {},
   "outputs": [],
   "source": [
    "# Create a Gaussian quadrature array from max/min of the default array, but with\n",
    "# no kmid, and less points.\n",
    "k_array_new, k_weights_new = gaussian_quadrature_mesh(k_array[-1], 100)\n",
    "# k_array_new, k_weights_new = gaussian_quadrature_mesh(k_array[-1], 500,\n",
    "#                                                       xmin=k_array[0])\n",
    "# k_array_new, k_weights_new = k_array, k_weights\n",
    "\n",
    "k_2d_grid, kp_2d_grid = np.meshgrid(k_array_new, k_array_new, indexing='ij')\n",
    "k_3d_grid, kpp_3d_grid, kp_3d_grid = np.meshgrid(k_array_new, k_array_new,\n",
    "                                                 k_array_new, indexing='ij')\n",
    "_, dkpp_3d_grid, _ = np.meshgrid(\n",
    "    k_array_new, 2/np.pi*k_weights_new * k_array_new**2, k_array_new,\n",
    "    indexing='ij'\n",
    ")"
   ]
  },
  {
   "cell_type": "code",
   "execution_count": 28,
   "id": "528a6928",
   "metadata": {},
   "outputs": [],
   "source": [
    "# Call interpolated functions and create new arrays\n",
    "\n",
    "# delta_U_functions, delta_U_dagger_functions = get_delta_U_functions(\n",
    "#     potential, channel, order=1)  # Linear\n",
    "delta_U_functions, delta_U_dagger_functions = get_delta_U_functions(\n",
    "    potential, channel, order=3)  # Cubic\n",
    "# delta_U_functions, delta_U_dagger_functions = get_delta_U_functions(\n",
    "#     potential, channel, order=5)  # Quintic\n",
    "\n",
    "# Use this code for RectBivariateSpline\n",
    "deltaU_3S1_3S1 = delta_U_functions['3S1-3S1'].ev(k_2d_grid, kp_2d_grid)\n",
    "deltaUdag_3S1_3S1 = delta_U_dagger_functions['3S1-3S1'].ev(k_2d_grid, kp_2d_grid)\n",
    "\n",
    "deltaU2 = np.sum(\n",
    "    (\n",
    "        delta_U_functions['3S1-3S1'].ev(k_3d_grid, kpp_3d_grid)\n",
    "        * delta_U_dagger_functions['3S1-3S1'].ev(kpp_3d_grid, kp_3d_grid)\n",
    "        + delta_U_functions['3S1-3D1'].ev(k_3d_grid, kpp_3d_grid)\n",
    "        * delta_U_dagger_functions['3D1-3S1'].ev(kpp_3d_grid, kp_3d_grid)\n",
    "    ) * dkpp_3d_grid,\n",
    "    axis=1\n",
    ")\n",
    "\n",
    "# # Use this code for RegularGridInterpolator\n",
    "# deltaU_3S1_3S1 = delta_U_functions['3S1-3S1']((k_2d_grid, kp_2d_grid))\n",
    "# deltaUdag_3S1_3S1 = delta_U_dagger_functions['3S1-3S1']((k_2d_grid, kp_2d_grid))\n",
    "\n",
    "# deltaU2 = np.sum(\n",
    "#     (\n",
    "#         delta_U_functions['3S1-3S1']((k_3d_grid, kpp_3d_grid))\n",
    "#         * delta_U_dagger_functions['3S1-3S1']((kpp_3d_grid, kp_3d_grid))\n",
    "#         + delta_U_functions['3S1-3D1']((k_3d_grid, kpp_3d_grid))\n",
    "#         * delta_U_dagger_functions['3D1-3S1']((kpp_3d_grid, kp_3d_grid))\n",
    "#     ) * dkpp_3d_grid,\n",
    "#     axis=1\n",
    "# )"
   ]
  },
  {
   "cell_type": "code",
   "execution_count": 29,
   "id": "8b85eca7",
   "metadata": {},
   "outputs": [
    {
     "name": "stdout",
     "output_type": "stream",
     "text": [
      "[[ 1.08593044e-06 -1.61019898e-07  3.41134028e-08 ...  5.44200751e-09\n",
      "  -5.03618908e-11 -1.91465043e-09]\n",
      " [-1.61019898e-07  7.52695315e-08  2.45301079e-08 ...  5.38905107e-09\n",
      "  -8.51811544e-11 -1.94383738e-09]\n",
      " [ 3.41134028e-08  2.45301078e-08  3.18947728e-08 ...  5.33979203e-09\n",
      "  -1.15953756e-10 -1.96916858e-09]\n",
      " ...\n",
      " [ 5.44200751e-09  5.38905107e-09  5.33979203e-09 ... -6.67902733e-04\n",
      "  -3.85785012e-04 -3.11901368e-04]\n",
      " [-5.03618908e-11 -8.51811544e-11 -1.15953756e-10 ... -3.85785012e-04\n",
      "  -2.06247049e-04 -1.62381140e-04]\n",
      " [-1.91465043e-09 -1.94383738e-09 -1.96916858e-09 ... -3.11901368e-04\n",
      "  -1.62381140e-04 -1.26622409e-04]]\n",
      "Norm of matrix without integration weights = 0.00826.\n",
      "\n"
     ]
    }
   ],
   "source": [
    "# Repeat the steps from above\n",
    "matrix_no_weights = deltaU_3S1_3S1 + deltaUdag_3S1_3S1 + deltaU2\n",
    "print(matrix_no_weights)\n",
    "print(\"Norm of matrix without integration weights = \"\n",
    "      f\"{la.norm(matrix_no_weights):.5f}.\\n\")"
   ]
  },
  {
   "cell_type": "code",
   "execution_count": 30,
   "id": "f12056f7",
   "metadata": {},
   "outputs": [
    {
     "data": {
      "image/png": "[encoded data removed]",
      "text/plain": [
       "<Figure size 600x600 with 2 Axes>"
      ]
     },
     "metadata": {},
     "output_type": "display_data"
    }
   ],
   "source": [
    "plot_delU_sum(\n",
    "    k_array_new, matrix_no_weights, colorbar_limits=(-0.01,0.01),\n",
    "    axes_limits=(0.0,15.0), xlabel_size=16, ylabel_size=16\n",
    ")"
   ]
  },
  {
   "cell_type": "markdown",
   "id": "960f8cc2",
   "metadata": {},
   "source": [
    "Normalization of cancelation matrix (matrix that should be entirely zero):<br>\n",
    "* Linear `RectBivariateSpline`: 0.04434\n",
    "* Cubic `RectBivariateSpline`: 0.01108\n",
    "* Quintic `RectBivariateSpline`: 0.13699\n",
    "* Nearest `RegularGridInterpolator`: 0.14537"
   ]
  },
  {
   "cell_type": "markdown",
   "id": "07354362",
   "metadata": {},
   "source": [
    "## Repeating the same tests as above but for $^{1}S_0$"
   ]
  },
  {
   "cell_type": "code",
   "execution_count": 31,
   "id": "6fa98e95",
   "metadata": {},
   "outputs": [],
   "source": [
    "kvnn = 6\n",
    "channel = '1S0'\n",
    "kmax, kmid, ntot = 15.0, 3.0, 120\n",
    "generator, lamb = 'Wegner', 1.35\n",
    "\n",
    "potential = Potential(kvnn, channel, kmax, kmid, ntot)\n",
    "k_array, k_weights = potential.load_mesh()"
   ]
  },
  {
   "cell_type": "code",
   "execution_count": 32,
   "id": "244d1de7",
   "metadata": {},
   "outputs": [],
   "source": [
    "# Initial and evolved Hamiltonians with integration factors attached [MeV]\n",
    "H_initial = potential.load_hamiltonian()"
   ]
  },
  {
   "cell_type": "code",
   "execution_count": 33,
   "id": "92a5d038",
   "metadata": {},
   "outputs": [],
   "source": [
    "# H_evolved = potential.load_hamiltonian('srg', generator, lamb)\n",
    "\n",
    "# # scipy.integrate.ode with BDF solving w.r.t. \\lambda\n",
    "# H_evolved = load_H_evolved(\n",
    "#     kvnn, channel, generator, lamb, kmax, kmid, ntot, solver='ode',\n",
    "#     method='BDF', atol=1e-10, rtol=1e-10, wrt='lambda'\n",
    "# )\n",
    "\n",
    "# scipy.integrate.solve_ivp with LSODA solving w.r.t. s\n",
    "H_evolved = load_H_evolved(\n",
    "    kvnn, channel, generator, lamb, kmax, kmid, ntot, solver='solve_ivp',\n",
    "    method='LSODA', atol=1e-10, rtol=1e-10, wrt='s'\n",
    ")\n",
    "\n",
    "# SRG transformation with integration factors attached [unitless]\n",
    "U_matrix = get_transformation(H_initial, H_evolved)\n",
    "\n",
    "# Identity matrix\n",
    "I_matrix = np.eye(len(U_matrix), len(U_matrix))"
   ]
  },
  {
   "cell_type": "code",
   "execution_count": 34,
   "id": "11bf93d8",
   "metadata": {},
   "outputs": [],
   "source": [
    "# \\delta U and \\delta U^\\dagger matrices\n",
    "delta_U = U_matrix - I_matrix\n",
    "delta_U_dag = (U_matrix - I_matrix).T"
   ]
  },
  {
   "cell_type": "code",
   "execution_count": 35,
   "id": "ecebaabd",
   "metadata": {},
   "outputs": [],
   "source": [
    "# \\sum_k'' \\delta U(k,k'') \\delta U^\\dagger(k'',k')\n",
    "delta_U2 = delta_U @ delta_U_dag"
   ]
  },
  {
   "cell_type": "code",
   "execution_count": 36,
   "id": "c8f8bbb5",
   "metadata": {},
   "outputs": [
    {
     "name": "stdout",
     "output_type": "stream",
     "text": [
      "[[-7.42127379e-16  1.25087805e-17 -4.25782121e-18 ...  1.14142653e-18\n",
      "  -2.90783102e-18 -2.84908962e-18]\n",
      " [ 1.25087805e-17 -2.78983351e-15 -1.33749912e-15 ...  2.89028023e-17\n",
      "   1.74785884e-16  1.22751671e-16]\n",
      " [-4.25782121e-18 -1.33749912e-15 -6.22568369e-16 ... -1.04943676e-17\n",
      "   1.16396091e-17  8.45876218e-17]\n",
      " ...\n",
      " [ 1.14142653e-18  2.89028023e-17 -1.04943676e-17 ...  2.77555756e-16\n",
      "  -4.71844785e-16 -8.60422844e-16]\n",
      " [-2.90783102e-18  1.74785884e-16  1.16396091e-17 ... -4.71844785e-16\n",
      "   3.33066907e-16  1.66533454e-16]\n",
      " [-2.84908962e-18  1.22751671e-16  8.45876218e-17 ... -8.60422844e-16\n",
      "   1.66533454e-16  2.91433544e-16]]\n",
      "Norm of matrix with integration weights = 0.00000.\n",
      "\n",
      "Norm of matrix without integration weights = 0.00000.\n",
      "\n"
     ]
    }
   ],
   "source": [
    "matrix = delta_U + delta_U_dag + delta_U2\n",
    "print(matrix)\n",
    "print(f\"Norm of matrix with integration weights = {la.norm(matrix):.5f}.\\n\")\n",
    "matrix_no_weights = unattach_weights_from_matrix(k_array, k_weights, matrix)\n",
    "print(\"Norm of matrix without integration weights = \"\n",
    "      f\"{la.norm(matrix_no_weights):.5f}.\\n\")"
   ]
  },
  {
   "cell_type": "code",
   "execution_count": 37,
   "id": "47c6b6cc",
   "metadata": {},
   "outputs": [],
   "source": [
    "# Create a Gaussian quadrature array from max/min of the default array, but with\n",
    "# no kmid, and less points\n",
    "k_array_new, k_weights_new = gaussian_quadrature_mesh(k_array[-1], 100)\n",
    "\n",
    "k_2d_grid, kp_2d_grid = np.meshgrid(k_array_new, k_array_new, indexing='ij')\n",
    "k_3d_grid, kpp_3d_grid, kp_3d_grid = np.meshgrid(k_array_new, k_array_new,\n",
    "                                                 k_array_new, indexing='ij')\n",
    "_, dkpp_3d_grid, _ = np.meshgrid(\n",
    "    k_array_new, 2/np.pi*k_weights_new * k_array_new**2, k_array_new,\n",
    "    indexing='ij'\n",
    ")"
   ]
  },
  {
   "cell_type": "code",
   "execution_count": 38,
   "id": "f4f204f4",
   "metadata": {},
   "outputs": [],
   "source": [
    "# Call interpolated functions and create new arrays\n",
    "\n",
    "delta_U_functions, delta_U_dagger_functions = get_delta_U_functions(\n",
    "    potential, channel, order=3)  # Cubic\n",
    "\n",
    "# Use this code for RectBivariateSpline\n",
    "deltaU_1S0 = delta_U_functions['1S0'].ev(k_2d_grid, kp_2d_grid)\n",
    "deltaUdag_1S0 = delta_U_dagger_functions['1S0'].ev(k_2d_grid, kp_2d_grid)\n",
    "\n",
    "deltaU2_1S0 = np.sum((delta_U_functions['1S0'].ev(k_3d_grid, kpp_3d_grid)\n",
    "    * delta_U_dagger_functions['1S0'].ev(kpp_3d_grid, kp_3d_grid))\n",
    "    * dkpp_3d_grid, axis=1\n",
    ")\n",
    "\n",
    "# # Use this code for RegularGridInterpolator\n",
    "# deltaU_1S0 = delta_U_functions['1S0']((k_2d_grid, kp_2d_grid))\n",
    "# deltaUdag_1S0 = delta_U_dagger_functions['1S0']((k_2d_grid, kp_2d_grid))\n",
    "\n",
    "# deltaU2_1S0 = np.sum((delta_U_functions['1S0']((k_3d_grid, kpp_3d_grid))\n",
    "#     * delta_U_dagger_functions['1S0']((kpp_3d_grid, kp_3d_grid)))\n",
    "#     * dkpp_3d_grid, axis=1\n",
    "# )"
   ]
  },
  {
   "cell_type": "code",
   "execution_count": 39,
   "id": "d1de7f62",
   "metadata": {},
   "outputs": [
    {
     "name": "stdout",
     "output_type": "stream",
     "text": [
      "[[ 9.07315786e-06 -1.60612652e-06  7.97534395e-08 ... -1.97987203e-08\n",
      "   2.20768220e-08 -1.87005944e-08]\n",
      " [-1.60612652e-06  2.88701771e-07 -6.76220253e-09 ... -1.98017687e-08\n",
      "   2.20783601e-08 -1.87033618e-08]\n",
      " [ 7.97534395e-08 -6.76220253e-09  1.06565501e-08 ... -1.97834574e-08\n",
      "   2.20562802e-08 -1.86859668e-08]\n",
      " ...\n",
      " [-1.97987203e-08 -1.98017687e-08 -1.97834574e-08 ...  9.72026453e-04\n",
      "   9.89155983e-04  8.45412395e-04]\n",
      " [ 2.20768220e-08  2.20783601e-08  2.20562802e-08 ...  9.89155983e-04\n",
      "   8.96507356e-04  8.44851590e-04]\n",
      " [-1.87005944e-08 -1.87033618e-08 -1.86859668e-08 ...  8.45412395e-04\n",
      "   8.44851590e-04  7.19202904e-04]]\n",
      "Norm of matrix without integration weights = 0.01003.\n",
      "\n"
     ]
    }
   ],
   "source": [
    "# Repeat the steps from above\n",
    "matrix_no_weights = deltaU_1S0 + deltaUdag_1S0 + deltaU2_1S0\n",
    "print(matrix_no_weights)\n",
    "print(\"Norm of matrix without integration weights = \"\n",
    "      f\"{la.norm(matrix_no_weights):.5f}.\\n\")"
   ]
  },
  {
   "cell_type": "code",
   "execution_count": 40,
   "id": "1c605ebb",
   "metadata": {},
   "outputs": [
    {
     "data": {
      "image/png": "[encoded data removed]",
      "text/plain": [
       "<Figure size 600x600 with 2 Axes>"
      ]
     },
     "metadata": {},
     "output_type": "display_data"
    }
   ],
   "source": [
    "plot_delU_sum(\n",
    "    k_array_new, matrix_no_weights, colorbar_limits=(-0.01,0.01),\n",
    "    axes_limits=(0.0,15.0), xlabel_size=16, ylabel_size=16\n",
    ")"
   ]
  },
  {
   "cell_type": "markdown",
   "id": "7ee6abe9",
   "metadata": {},
   "source": [
    "Normalization of cancelation matrix (matrix that should be entirely zero):<br>\n",
    "* Nearest `RegularGridInterpolator`: 0.15482"
   ]
  },
  {
   "cell_type": "code",
   "execution_count": 41,
   "id": "8b2b933f",
   "metadata": {},
   "outputs": [],
   "source": [
    "# Is the U(k, k') defined on the new k_array even unitary?\n",
    "from scripts.integration import attach_weights_to_matrix\n",
    "\n",
    "delU_matrix_weights_new = attach_weights_to_matrix(k_array_new, k_weights_new,\n",
    "                                                   deltaU_1S0)\n",
    "\n",
    "ntot_new = len(k_array_new)\n",
    "I_matrix = np.eye(ntot_new, ntot_new)\n",
    "U = I_matrix + delU_matrix_weights_new\n",
    "zero_matrix = I_matrix - U @ U.T"
   ]
  },
  {
   "cell_type": "code",
   "execution_count": 42,
   "id": "a54a96c8",
   "metadata": {},
   "outputs": [
    {
     "name": "stdout",
     "output_type": "stream",
     "text": [
      "[[-1.46549439e-13  2.08489802e-13 -3.18695293e-14 ...  4.26300339e-12\n",
      "  -3.79776832e-12  2.11021879e-12]\n",
      " [ 2.08489802e-13 -3.01314529e-13  2.17137327e-14 ...  3.42612043e-11\n",
      "  -3.05195978e-11  1.69594528e-11]\n",
      " [-3.18695293e-14  2.17137327e-14 -1.05471187e-13 ...  1.05371217e-10\n",
      "  -9.38567318e-11  5.21589567e-11]\n",
      " ...\n",
      " [ 4.26300339e-12  3.42612043e-11  1.05371217e-10 ... -2.78965321e-03\n",
      "  -2.26803770e-03 -1.27155240e-03]\n",
      " [-3.79776832e-12 -3.05195978e-11 -9.38567318e-11 ... -2.26803770e-03\n",
      "  -1.64230078e-03 -1.01521829e-03]\n",
      " [ 2.11021879e-12  1.69594528e-11  5.21589567e-11 ... -1.27155240e-03\n",
      "  -1.01521829e-03 -5.66905412e-04]]\n",
      "0.006465598713160874\n",
      "1.0\n",
      "0.9972400832488584\n"
     ]
    }
   ],
   "source": [
    "print(zero_matrix)\n",
    "print(la.norm(I_matrix - U @ U.T)/np.sqrt(ntot_new))\n",
    "print(la.norm(I_matrix)/np.sqrt(ntot_new))\n",
    "print(la.norm(U @ U.T)/np.sqrt(ntot_new))"
   ]
  },
  {
   "cell_type": "code",
   "execution_count": null,
   "id": "0d2bfa74",
   "metadata": {},
   "outputs": [],
   "source": []
  },
  {
   "cell_type": "code",
   "execution_count": null,
   "id": "d0dc7ab8",
   "metadata": {},
   "outputs": [],
   "source": []
  },
  {
   "cell_type": "code",
   "execution_count": null,
   "id": "011e5f97",
   "metadata": {},
   "outputs": [],
   "source": []
  },
  {
   "cell_type": "code",
   "execution_count": null,
   "id": "76c0c449",
   "metadata": {},
   "outputs": [],
   "source": []
  },
  {
   "cell_type": "code",
   "execution_count": null,
   "id": "a2d33dbf",
   "metadata": {},
   "outputs": [],
   "source": []
  }
 ],
 "metadata": {
  "kernelspec": {
   "display_name": "Python 3 (ipykernel)",
   "language": "python",
   "name": "python3"
  },
  "language_info": {
   "codemirror_mode": {
    "name": "ipython",
    "version": 3
   },
   "file_extension": ".py",
   "mimetype": "text/x-python",
   "name": "python",
   "nbconvert_exporter": "python",
   "pygments_lexer": "ipython3",
   "version": "3.9.13"
  }
 },
 "nbformat": 4,
 "nbformat_minor": 5
}

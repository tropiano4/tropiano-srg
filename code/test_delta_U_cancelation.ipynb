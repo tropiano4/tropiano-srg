{
 "cells": [
  {
   "cell_type": "markdown",
   "id": "a95aac84",
   "metadata": {},
   "source": [
    "# Testing cancelation of SRG transformations in momentum distributions\n",
    "\n",
    "__Author:__ A. J. Tropiano [atropiano@anl.gov]<br/>\n",
    "__Date:__ February 9, 2023\n",
    "\n",
    "The SRG transformations are unitary and therefore satisfy the condition<br>\n",
    "\n",
    "$$\n",
    "\\begin{align}\n",
    "U^\\dagger U &= I + \\frac{1}{4} \\sum_{\\mathbf{k}, \\mathbf{k'}, \\mathbf{K}} \\bigl[\n",
    "    \\delta U(\\mathbf{k},\\mathbf{k'}) + \\delta U^\\dagger(\\mathbf{k},\\mathbf{k'})\n",
    "    + \\frac{1}{2} \\sum_{\\mathbf{k''}} \\delta U(\\mathbf{k},\\mathbf{k''}) \\delta U^\\dagger(\\mathbf{k''},\\mathbf{k'})\n",
    "\\bigr]\n",
    "a^\\dagger_{\\frac{\\mathbf{K}}{2}+\\mathbf{k}} a^\\dagger_{\\frac{\\mathbf{K}}{2}-\\mathbf{k}}\n",
    "a_{\\frac{\\mathbf{K}}{2}-\\mathbf{k'}} a_{\\frac{\\mathbf{K}}{2}+\\mathbf{k'}} \\\\\n",
    "&= I\n",
    ".\n",
    "\\end{align}\n",
    "$$<br>\n",
    "\n",
    "This implies that<br>\n",
    "\n",
    "$$\n",
    "\\delta U(\\mathbf{k},\\mathbf{k'}) + \\delta U^\\dagger(\\mathbf{k},\\mathbf{k'}) \n",
    "+ \\frac{1}{2} \\sum_{\\mathbf{k''}} \\delta U(\\mathbf{k},\\mathbf{k''}) \\delta U^\\dagger(\\mathbf{k''},\\mathbf{k'})\n",
    "= 0\n",
    ".\n",
    "$$<br>\n",
    "\n",
    "In partial waves this looks like<br>\n",
    "\n",
    "$$\n",
    "\\delta U_{LL'}(k,k') + \\delta U^\\dagger_{LL'}(k,k') + \\frac{2}{\\pi} \\sum_{L''} \\int dk'' k''^2\n",
    "    \\delta U_{LL''}(k,k'') \\delta U^\\dagger_{L''L'}(k'',k')\n",
    "= 0\n",
    ",\n",
    "$$<br>\n",
    "given partial wave channel quantum numbers $J$, $S$, and $T$.<br>\n",
    "\n",
    "_Last update:_ February 22, 2023"
   ]
  },
  {
   "cell_type": "code",
   "execution_count": 1,
   "id": "7a2f5509",
   "metadata": {},
   "outputs": [],
   "source": [
    "# Python imports\n",
    "import matplotlib.pyplot as plt\n",
    "%matplotlib inline\n",
    "import numpy as np\n",
    "import numpy.linalg as la\n",
    "from scipy.interpolate import RectBivariateSpline"
   ]
  },
  {
   "cell_type": "code",
   "execution_count": 2,
   "id": "b02384fc",
   "metadata": {},
   "outputs": [],
   "source": [
    "# Imports from scripts\n",
    "from scripts.figures import interpolate_matrix, label_ticks, set_rc_parameters\n",
    "from scripts.integration import unattach_weights_from_matrix\n",
    "from scripts.momentum_projection_operator import momentum_projection_operator\n",
    "from scripts.potentials import Potential\n",
    "from scripts.srg import get_transformation"
   ]
  },
  {
   "cell_type": "code",
   "execution_count": 3,
   "id": "4a3e8bda",
   "metadata": {},
   "outputs": [],
   "source": [
    "import test_momentum_distribution_script as tmds"
   ]
  },
  {
   "cell_type": "code",
   "execution_count": 4,
   "id": "cad91ba4",
   "metadata": {},
   "outputs": [],
   "source": [
    "# Run this cell to turn on customized matplotlib graphics\n",
    "set_rc_parameters()"
   ]
  },
  {
   "cell_type": "markdown",
   "id": "e21b46ea",
   "metadata": {},
   "source": [
    "## Check partial wave basis first"
   ]
  },
  {
   "cell_type": "code",
   "execution_count": 5,
   "id": "346a92ad",
   "metadata": {},
   "outputs": [],
   "source": [
    "kvnn = 6\n",
    "channel = '3S1'\n",
    "# channel = '3P1'\n",
    "# channel = '1P1'\n",
    "kmax, kmid, ntot = 15.0, 3.0, 120\n",
    "generator, lamb = 'Wegner', 1.35\n",
    "\n",
    "potential = Potential(kvnn, channel, kmax, kmid, ntot)\n",
    "k_array, k_weights = potential.load_mesh()"
   ]
  },
  {
   "cell_type": "code",
   "execution_count": 6,
   "id": "2aa575d8",
   "metadata": {},
   "outputs": [],
   "source": [
    "# Initial and evolved Hamiltonians with integration factors attached [MeV]\n",
    "H_initial = potential.load_hamiltonian()\n",
    "H_evolved = potential.load_hamiltonian('srg', generator, lamb)\n",
    "\n",
    "# SRG transformation with integration factors attached [unitless]\n",
    "U_matrix = get_transformation(H_initial, H_evolved)\n",
    "\n",
    "# Identity matrix\n",
    "I_matrix = np.eye(len(U_matrix), len(U_matrix))"
   ]
  },
  {
   "cell_type": "code",
   "execution_count": 7,
   "id": "03e88149",
   "metadata": {},
   "outputs": [],
   "source": [
    "# \\delta U and \\delta U^\\dagger matrices\n",
    "delta_U = U_matrix - I_matrix\n",
    "delta_U_dag = (U_matrix - I_matrix).T"
   ]
  },
  {
   "cell_type": "code",
   "execution_count": 8,
   "id": "c6ad72e1",
   "metadata": {},
   "outputs": [],
   "source": [
    "# \\delta U 3S1-3S1 sub-block\n",
    "delta_U_3S1_3S1 = delta_U[:ntot, :ntot]\n",
    "\n",
    "# \\delta U^\\dagger 3S1-3S1 sub-block\n",
    "delta_U_dag_3S1_3S1 = delta_U_dag[:ntot, :ntot]\n",
    "\n",
    "# \\delta U 3S1-3D1 sub-block\n",
    "delta_U_3S1_3D1 = delta_U[:ntot, ntot:]\n",
    "\n",
    "# \\delta U^\\dagger 3D1-3S1 sub-block\n",
    "delta_U_dag_3D1_3S1 = delta_U_dag[ntot:, :ntot]"
   ]
  },
  {
   "cell_type": "code",
   "execution_count": 9,
   "id": "33592d6f",
   "metadata": {},
   "outputs": [],
   "source": [
    "# \\sum_k'' \\delta U_{3S1-3S1}(k,k'') \\delta U^\\dagger_{3S1-3S1}(k'',k')\n",
    "delta_U2_3S1_3S1 = delta_U_3S1_3S1 @ delta_U_dag_3S1_3S1\n",
    "\n",
    "# \\sum_k'' \\delta U_{3S1-3D1}(k,k'') \\delta U^\\dagger_{3D1-3S1}(k'',k')\n",
    "delta_U2_3S1_3D1 = delta_U_3S1_3D1 @ delta_U_dag_3D1_3S1"
   ]
  },
  {
   "cell_type": "code",
   "execution_count": 10,
   "id": "56fb2f0a",
   "metadata": {},
   "outputs": [
    {
     "name": "stdout",
     "output_type": "stream",
     "text": [
      "[[ 1.37124797e-16 -6.72870069e-19 -2.36931990e-18 ...  2.61876283e-19\n",
      "  -1.68191875e-19 -2.78987341e-19]\n",
      " [-6.72870069e-19 -3.18412258e-16 -5.60478790e-17 ...  9.08208115e-17\n",
      "   1.39631340e-16 -2.41429877e-16]\n",
      " [-2.36931990e-18 -5.60478790e-17 -2.62526099e-15 ... -8.27006309e-17\n",
      "   4.38564212e-17  6.62542554e-18]\n",
      " ...\n",
      " [ 2.61876283e-19  9.08208115e-17 -8.27006309e-17 ...  9.99200722e-16\n",
      "  -2.22044605e-16 -9.57567359e-16]\n",
      " [-1.68191875e-19  1.39631340e-16  4.38564212e-17 ... -2.22044605e-16\n",
      "  -5.55111512e-16 -1.76247905e-15]\n",
      " [-2.78987341e-19 -2.41429877e-16  6.62542554e-18 ... -9.57567359e-16\n",
      "  -1.76247905e-15  9.71445147e-17]]\n",
      "Norm of matrix with integration weights = 0.00000.\n",
      "\n"
     ]
    }
   ],
   "source": [
    "matrix = delta_U_3S1_3S1 + delta_U_dag_3S1_3S1 + (delta_U2_3S1_3S1\n",
    "                                                  + delta_U2_3S1_3D1)\n",
    "print(matrix)\n",
    "print(f\"Norm of matrix with integration weights = {la.norm(matrix):.5f}.\\n\")\n",
    "matrix_no_weights = unattach_weights_from_matrix(k_array, k_weights, matrix)"
   ]
  },
  {
   "cell_type": "code",
   "execution_count": 11,
   "id": "ac1caf12",
   "metadata": {
    "code_folding": [
     4
    ]
   },
   "outputs": [],
   "source": [
    "def plot_delU_sum(\n",
    "        k_array, matrix_no_weights, levels_number=61,\n",
    "        colorbar_limits=(-1.0,1.0), color_map='turbo', axes_limits=(0.0,4.0),\n",
    "        xlabel_size=16, ylabel_size=16\n",
    "):\n",
    "    \n",
    "    # --- Figure set-up --- #\n",
    "    plt.close('all')\n",
    "    f, ax = plt.subplots(figsize=(4,4))\n",
    "    \n",
    "    # Set contour levels\n",
    "    levels = np.linspace(colorbar_limits[0], colorbar_limits[1],\n",
    "                         levels_number)\n",
    "    \n",
    "    # We don't need the second output since it'll be the same as the first\n",
    "    k_max = axes_limits[1] + 0.2  # Add a little extra to prevent white edges\n",
    "    k_array_dense, _, matrix_dense = interpolate_matrix(\n",
    "        k_array, k_array, matrix_no_weights, k_max, k_max)\n",
    "\n",
    "    # --- Plot --- #\n",
    "    c = ax.contourf(k_array_dense, k_array_dense, matrix_dense, levels,\n",
    "                    cmap=color_map, extend='both')\n",
    "\n",
    "    # --- Axes limits --- #\n",
    "    ax.set_xlim(axes_limits)\n",
    "    ax.set_ylim(axes_limits)\n",
    "\n",
    "    # --- Axes labels --- #\n",
    "    ax.set_xlabel(\"$k'$ [fm\" + r\"$^{-1}$\" + \"]\", fontsize=xlabel_size)\n",
    "    ax.set_ylabel(\"$k$ [fm\" + r\"$^{-1}$\" + \"]\", fontsize=ylabel_size)\n",
    "    \n",
    "    # --- Adjust axes --- #\n",
    "    # Switch x-axis label from bottom to top\n",
    "    ax.xaxis.set_label_position('top')\n",
    "    ax.tick_params(labeltop=True, labelbottom=False)\n",
    "    # Invert y-axis\n",
    "    ax.invert_yaxis()\n",
    "    \n",
    "    # --- Colorbar --- #\n",
    "    # Colorbar location (left, bottom, width, height)\n",
    "    cbar_ax = f.add_axes((1.0, 0.15, 0.1, 0.7))\n",
    "    # Set colorbar ticks and tick labels\n",
    "    levels_ticks = np.linspace(colorbar_limits[0], colorbar_limits[1], 9)\n",
    "    levels_ticks_strings = label_ticks(levels_ticks)  # Make these strings\n",
    "    # Set colorbar\n",
    "    cbar = f.colorbar(c, cax=cbar_ax, ticks=levels_ticks)\n",
    "    cbar.ax.set_yticklabels(levels_ticks_strings)\n",
    "    cbar.ax.set_title(r\"[fm$^3$]\", fontsize=16, pad=15)"
   ]
  },
  {
   "cell_type": "code",
   "execution_count": 12,
   "id": "624e7d85",
   "metadata": {},
   "outputs": [
    {
     "data": {
      "image/png": "[encoded data removed]",
      "text/plain": [
       "<Figure size 600x600 with 2 Axes>"
      ]
     },
     "metadata": {},
     "output_type": "display_data"
    }
   ],
   "source": [
    "plot_delU_sum(\n",
    "    k_array, matrix_no_weights, colorbar_limits=(-0.001,0.001),\n",
    "    axes_limits=(0.0,4.0), xlabel_size=16, ylabel_size=16\n",
    ")"
   ]
  },
  {
   "cell_type": "markdown",
   "id": "af5b8e51",
   "metadata": {},
   "source": [
    "The above plot shows\n",
    "$$\n",
    "\\delta U(\\mathbf{k},\\mathbf{k'}) + \\delta U^\\dagger(\\mathbf{k},\\mathbf{k'}) \n",
    "+ \\frac{1}{2} \\sum_{\\mathbf{k''}} \\delta U(\\mathbf{k},\\mathbf{k''}) \\delta U^\\dagger(\\mathbf{k''},\\mathbf{k'})\n",
    "$$\n",
    "where integration factors have been divided out."
   ]
  },
  {
   "cell_type": "code",
   "execution_count": 13,
   "id": "61a4745d",
   "metadata": {},
   "outputs": [],
   "source": [
    "# delta_U_3S1_3S1_no_weights = unattach_weights_from_matrix(k_array, k_weights,\n",
    "#                                                           delta_U_3S1_3S1)\n",
    "# delta_U_dag_3S1_3S1_no_weights = unattach_weights_from_matrix(\n",
    "#     k_array, k_weights, delta_U_dag_3S1_3S1\n",
    "# )\n",
    "# delta_U_linear = delta_U_3S1_3S1_no_weights + delta_U_dag_3S1_3S1_no_weights"
   ]
  },
  {
   "cell_type": "code",
   "execution_count": 14,
   "id": "051851ed",
   "metadata": {},
   "outputs": [],
   "source": [
    "# plot_delU_sum(\n",
    "#     k_array, delta_U_3S1_3S1_no_weights, colorbar_limits=(-0.5,0.5),\n",
    "#     axes_limits=(0.0,4.0), xlabel_size=16, ylabel_size=16\n",
    "# )"
   ]
  },
  {
   "cell_type": "code",
   "execution_count": 15,
   "id": "ba38163a",
   "metadata": {},
   "outputs": [],
   "source": [
    "# plot_delU_sum(\n",
    "#     k_array, delta_U_dag_3S1_3S1_no_weights, colorbar_limits=(-0.5,0.5),\n",
    "#     axes_limits=(0.0,4.0), xlabel_size=16, ylabel_size=16\n",
    "# )"
   ]
  },
  {
   "cell_type": "code",
   "execution_count": 16,
   "id": "8c0f5d7f",
   "metadata": {},
   "outputs": [],
   "source": [
    "# plot_delU_sum(\n",
    "#     k_array, delta_U_linear, colorbar_limits=(-0.5,0.5), axes_limits=(0.0,4.0),\n",
    "#     xlabel_size=16, ylabel_size=16\n",
    "# )"
   ]
  },
  {
   "cell_type": "code",
   "execution_count": 17,
   "id": "6b1f7aca",
   "metadata": {},
   "outputs": [],
   "source": [
    "# delta_U2_no_weights = unattach_weights_from_matrix(\n",
    "#     k_array, k_array, 1/2*(delta_U2_3S1_3S1 + delta_U2_3S1_3D1)\n",
    "# )\n",
    "\n",
    "# plot_delU_sum(\n",
    "#     k_array, delta_U2_no_weights, colorbar_limits=(-0.1,0.1),\n",
    "#     axes_limits=(0.0,4.0), xlabel_size=16, ylabel_size=16\n",
    "# )"
   ]
  },
  {
   "cell_type": "code",
   "execution_count": 18,
   "id": "c669245f",
   "metadata": {},
   "outputs": [],
   "source": [
    "# print((I_matrix+delta_U) @ (I_matrix+delta_U).T)"
   ]
  },
  {
   "cell_type": "code",
   "execution_count": 19,
   "id": "cdd53137",
   "metadata": {},
   "outputs": [],
   "source": [
    "# print(I_matrix @ I_matrix + delta_U @ I_matrix + I_matrix @ delta_U_dag + delta_U @ delta_U_dag)"
   ]
  },
  {
   "cell_type": "code",
   "execution_count": 20,
   "id": "2eb1c372",
   "metadata": {},
   "outputs": [
    {
     "name": "stdout",
     "output_type": "stream",
     "text": [
      "[[ 1.37124797e-16 -6.72870069e-19 -2.36931990e-18 ...  1.12941917e-18\n",
      "  -2.11705297e-19  4.52533970e-20]\n",
      " [-6.72870069e-19 -3.18412258e-16 -5.60478790e-17 ...  1.83677877e-16\n",
      "  -2.33320255e-17  6.40432347e-18]\n",
      " [-2.36931990e-18 -5.60478790e-17 -2.62526099e-15 ... -4.88261555e-18\n",
      "  -1.20545441e-16  9.75995302e-17]\n",
      " ...\n",
      " [ 1.12941917e-18  1.83677877e-16 -4.88261555e-18 ...  8.32667268e-17\n",
      "  -3.33066907e-16 -5.30825384e-16]\n",
      " [-2.11705297e-19 -2.33320255e-17 -1.20545441e-16 ... -3.33066907e-16\n",
      "   2.56739074e-16 -5.96744876e-16]\n",
      " [ 4.52533970e-20  6.40432347e-18  9.75995302e-17 ... -5.30825384e-16\n",
      "  -5.96744876e-16 -1.42247325e-16]]\n"
     ]
    }
   ],
   "source": [
    "print(delta_U @ I_matrix + I_matrix @ delta_U_dag + delta_U @ delta_U_dag)"
   ]
  },
  {
   "cell_type": "markdown",
   "id": "3501090f",
   "metadata": {},
   "source": [
    "## Check that normalization of momentum projection operator is conserved"
   ]
  },
  {
   "cell_type": "code",
   "execution_count": 21,
   "id": "aaeecc35",
   "metadata": {},
   "outputs": [
    {
     "name": "stdout",
     "output_type": "stream",
     "text": [
      "Unevolved norm = 2.847882658769522\n",
      "Evolved norm = 2.8478826587695085\n"
     ]
    }
   ],
   "source": [
    "q = 2.0\n",
    "mpo_initial = momentum_projection_operator(\n",
    "    q, k_array, k_weights, coupled=potential.coupled_channel_bool\n",
    ")\n",
    "\n",
    "print(f\"Unevolved norm = {la.norm(mpo_initial)}\")\n",
    "\n",
    "mpo_I_matrix = I_matrix @ mpo_initial @ I_matrix\n",
    "mpo_delU_matrix = delta_U @ mpo_initial @ I_matrix\n",
    "mpo_delUdag_matrix = I_matrix @ mpo_initial @ delta_U_dag\n",
    "mpo_delU2_matrix = delta_U @ mpo_initial @ delta_U_dag\n",
    "\n",
    "mpo_evolved = (mpo_I_matrix + mpo_delU_matrix + mpo_delUdag_matrix\n",
    "               + mpo_delU2_matrix)\n",
    "\n",
    "print(f\"Evolved norm = {la.norm(mpo_evolved)}\")"
   ]
  },
  {
   "cell_type": "markdown",
   "id": "d8193591",
   "metadata": {},
   "source": [
    "## Cancelation after interpolating $\\delta U$ functions"
   ]
  },
  {
   "cell_type": "code",
   "execution_count": 24,
   "id": "c3775c67",
   "metadata": {},
   "outputs": [
    {
     "name": "stdout",
     "output_type": "stream",
     "text": [
      "[[ 0.00000000e+00  2.27373675e-13  0.00000000e+00 ...  4.03896783e-28\n",
      "   0.00000000e+00  4.03896783e-28]\n",
      " [ 0.00000000e+00  0.00000000e+00  0.00000000e+00 ...  0.00000000e+00\n",
      "  -4.03896783e-28 -4.03896783e-28]\n",
      " [ 0.00000000e+00  0.00000000e+00  0.00000000e+00 ...  4.03896783e-28\n",
      "   0.00000000e+00 -4.03896783e-28]\n",
      " ...\n",
      " [ 0.00000000e+00 -2.06795153e-25  0.00000000e+00 ...  0.00000000e+00\n",
      "   4.33680869e-19  0.00000000e+00]\n",
      " [ 1.03397577e-25  0.00000000e+00  0.00000000e+00 ...  0.00000000e+00\n",
      "   0.00000000e+00  0.00000000e+00]\n",
      " [ 1.03397577e-25  0.00000000e+00  0.00000000e+00 ...  1.08420217e-19\n",
      "   0.00000000e+00  0.00000000e+00]]\n"
     ]
    }
   ],
   "source": [
    "# Check that \\delta U_{3S1-3S1} * \\delta U^\\dagger_{3S1-3S1} is equal to\n",
    "# \\delta U_{3S1-3S1}^2\n",
    "\n",
    "delU_3S1_3S1 = unattach_weights_from_matrix(k_array, k_weights, delta_U_3S1_3S1)\n",
    "\n",
    "delUdag_3S1_3S1 = unattach_weights_from_matrix(k_array, k_weights,\n",
    "                                               delta_U_dag_3S1_3S1)\n",
    "# product = delU_3S1_3S1 * delUdag_3S1_3S1\n",
    "\n",
    "# product_weights = (delta_U @ delta_U_dag)[:ntot,:ntot]\n",
    "# product = unattach_weights_from_matrix(k_array, k_weights, product_weights)\n",
    "\n",
    "# product = unattach_weights_from_matrix(k_array, k_weights, delta_U2_3S1_3S1)\n",
    "\n",
    "product = np.zeros_like(delU_3S1_3S1)\n",
    "for i in range(ntot):\n",
    "    for j in range(ntot):\n",
    "        product[i,j] = delU_3S1_3S1[i,j] * delUdag_3S1_3S1[j,i]\n",
    "\n",
    "print(delU_3S1_3S1**2-product)"
   ]
  },
  {
   "cell_type": "code",
   "execution_count": 25,
   "id": "dade4aaa",
   "metadata": {},
   "outputs": [
    {
     "name": "stdout",
     "output_type": "stream",
     "text": [
      "[[ 0.00000000e+00  0.00000000e+00  0.00000000e+00 ... -1.29246971e-26\n",
      "   0.00000000e+00 -1.29246971e-26]\n",
      " [ 0.00000000e+00  0.00000000e+00  2.64697796e-23 ...  0.00000000e+00\n",
      "   0.00000000e+00  0.00000000e+00]\n",
      " [ 0.00000000e+00  0.00000000e+00  0.00000000e+00 ...  0.00000000e+00\n",
      "   0.00000000e+00  0.00000000e+00]\n",
      " ...\n",
      " [ 0.00000000e+00  0.00000000e+00 -1.50463277e-36 ...  0.00000000e+00\n",
      "  -2.71050543e-20  2.71050543e-20]\n",
      " [ 0.00000000e+00  0.00000000e+00  0.00000000e+00 ...  0.00000000e+00\n",
      "   0.00000000e+00  0.00000000e+00]\n",
      " [ 0.00000000e+00  9.40395481e-38  3.00926554e-36 ... -2.71050543e-20\n",
      "   3.38813179e-21  0.00000000e+00]]\n"
     ]
    }
   ],
   "source": [
    "# Do the same test for the 3S1-3D1 block\n",
    "delU_3S1_3D1 = unattach_weights_from_matrix(k_array, k_weights, delta_U_3S1_3D1)\n",
    "delUdag_3D1_3S1 = unattach_weights_from_matrix(k_array, k_weights,\n",
    "                                               delta_U_dag_3D1_3S1)\n",
    "# print(delU_3S1_3D1*delUdag_3D1_3S1)\n",
    "# print(delU_3S1_3D1**2)\n",
    "\n",
    "product = np.zeros_like(delU_3S1_3D1)\n",
    "for i in range(ntot):\n",
    "    for j in range(ntot):\n",
    "        product[i,j] = delU_3S1_3D1[i,j] * delUdag_3D1_3S1[j,i]\n",
    "        \n",
    "print(delU_3S1_3D1**2-product)"
   ]
  },
  {
   "cell_type": "code",
   "execution_count": null,
   "id": "f2b81c9d",
   "metadata": {},
   "outputs": [],
   "source": []
  },
  {
   "cell_type": "code",
   "execution_count": null,
   "id": "4a5f7fa8",
   "metadata": {},
   "outputs": [],
   "source": []
  }
 ],
 "metadata": {
  "kernelspec": {
   "display_name": "Python 3 (ipykernel)",
   "language": "python",
   "name": "python3"
  },
  "language_info": {
   "codemirror_mode": {
    "name": "ipython",
    "version": 3
   },
   "file_extension": ".py",
   "mimetype": "text/x-python",
   "name": "python",
   "nbconvert_exporter": "python",
   "pygments_lexer": "ipython3",
   "version": "3.9.13"
  }
 },
 "nbformat": 4,
 "nbformat_minor": 5
}

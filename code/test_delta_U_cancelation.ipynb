{
 "cells": [
  {
   "cell_type": "markdown",
   "id": "a95aac84",
   "metadata": {},
   "source": [
    "# Testing unitarity of SRG transformations in momentum distributions\n",
    "\n",
    "__Author:__ A. J. Tropiano [atropiano@anl.gov]<br/>\n",
    "__Date:__ February 9, 2023\n",
    "\n",
    "The SRG transformations are unitary and therefore satisfy the condition<br>\n",
    "\n",
    "$$\n",
    "\\begin{align}\n",
    "U^\\dagger U &= I + \\frac{1}{4} \\sum_{\\mathbf{k}, \\mathbf{k'}, \\mathbf{K}} \\bigl[\n",
    "    \\delta U(\\mathbf{k},\\mathbf{k'}) + \\delta U^\\dagger(\\mathbf{k},\\mathbf{k'})\n",
    "    + \\frac{1}{2} \\sum_{\\mathbf{k''}} \\delta U(\\mathbf{k},\\mathbf{k''}) \\delta U^\\dagger(\\mathbf{k''},\\mathbf{k'})\n",
    "\\bigr]\n",
    "a^\\dagger_{\\frac{\\mathbf{K}}{2}+\\mathbf{k}} a^\\dagger_{\\frac{\\mathbf{K}}{2}-\\mathbf{k}}\n",
    "a_{\\frac{\\mathbf{K}}{2}-\\mathbf{k'}} a_{\\frac{\\mathbf{K}}{2}+\\mathbf{k'}} \\\\\n",
    "&= I\n",
    ".\n",
    "\\end{align}\n",
    "$$\n",
    "\n",
    "This implies that<br>\n",
    "\n",
    "$$\n",
    "\\delta U(\\mathbf{k},\\mathbf{k'}) + \\delta U^\\dagger(\\mathbf{k},\\mathbf{k'}) \n",
    "+ \\frac{1}{2} \\sum_{\\mathbf{k''}} \\delta U(\\mathbf{k},\\mathbf{k''}) \\delta U^\\dagger(\\mathbf{k''},\\mathbf{k'})\n",
    "= 0\n",
    ".\n",
    "$$\n",
    "\n",
    "_Last update:_ February 9, 2023"
   ]
  },
  {
   "cell_type": "code",
   "execution_count": 1,
   "id": "7a2f5509",
   "metadata": {},
   "outputs": [],
   "source": [
    "# Python imports\n",
    "import numpy as np\n",
    "import numpy.linalg as la"
   ]
  },
  {
   "cell_type": "code",
   "execution_count": 2,
   "id": "b02384fc",
   "metadata": {},
   "outputs": [],
   "source": [
    "# Imports from scripts\n",
    "from scripts.integration import unattach_weights_from_matrix\n",
    "from scripts.momentum_projection_operator import momentum_projection_operator\n",
    "from scripts.potentials import Potential\n",
    "from scripts.srg import get_transformation"
   ]
  },
  {
   "cell_type": "code",
   "execution_count": 3,
   "id": "4a3e8bda",
   "metadata": {},
   "outputs": [],
   "source": [
    "import test_momentum_distribution_script as tmds"
   ]
  },
  {
   "cell_type": "markdown",
   "id": "e21b46ea",
   "metadata": {},
   "source": [
    "## Check partial wave basis first"
   ]
  },
  {
   "cell_type": "code",
   "execution_count": 4,
   "id": "346a92ad",
   "metadata": {},
   "outputs": [],
   "source": [
    "kvnn = 6\n",
    "channel = '3S1'\n",
    "kmax, kmid, ntot = 15.0, 3.0, 120\n",
    "generator, lamb = 'Wegner', 1.35\n",
    "\n",
    "potential = Potential(kvnn, channel, kmax, kmid, ntot)\n",
    "k_array, k_weights = potential.load_mesh()"
   ]
  },
  {
   "cell_type": "code",
   "execution_count": 5,
   "id": "2aa575d8",
   "metadata": {},
   "outputs": [],
   "source": [
    "H_initial = potential.load_hamiltonian()  # MeV\n",
    "H_evolved = potential.load_hamiltonian('srg', generator, lamb)  # MeV\n",
    "U_matrix = get_transformation(H_initial, H_evolved)  # Unitless\n",
    "I_matrix = np.eye(len(U_matrix), len(U_matrix))"
   ]
  },
  {
   "cell_type": "code",
   "execution_count": 6,
   "id": "03e88149",
   "metadata": {},
   "outputs": [],
   "source": [
    "delta_U = U_matrix - I_matrix\n",
    "delta_U_dag = (U_matrix - I_matrix).T"
   ]
  },
  {
   "cell_type": "code",
   "execution_count": 7,
   "id": "c6ad72e1",
   "metadata": {},
   "outputs": [],
   "source": [
    "delta_U_3S1_3S1 = delta_U[:ntot, :ntot]\n",
    "delta_U_dag_3S1_3S1 = delta_U_dag[:ntot, :ntot]\n",
    "delta_U_3S1_3D1 = delta_U[:ntot, ntot:]\n",
    "delta_U_dag_3D1_3S1 = delta_U_dag[ntot:, :ntot]"
   ]
  },
  {
   "cell_type": "code",
   "execution_count": 8,
   "id": "56fb2f0a",
   "metadata": {},
   "outputs": [
    {
     "name": "stdout",
     "output_type": "stream",
     "text": [
      "[[-2.10389182e-01 -2.10275551e-01 -2.10207154e-01 ...  1.56883280e-05\n",
      "   1.12674699e-05  1.11755458e-05]\n",
      " [-2.10275551e-01 -2.10282806e-01 -2.10226941e-01 ...  1.56881934e-05\n",
      "   1.12677014e-05  1.11758152e-05]\n",
      " [-2.10207154e-01 -2.10226941e-01 -2.10213508e-01 ...  1.56877496e-05\n",
      "   1.12695544e-05  1.11778520e-05]\n",
      " ...\n",
      " [ 1.56883280e-05  1.56881934e-05  1.56877496e-05 ... -1.95424400e-02\n",
      "  -1.57116646e-02 -1.27308744e-02]\n",
      " [ 1.12674699e-05  1.12677014e-05  1.12695544e-05 ... -1.57116646e-02\n",
      "  -2.46548914e-02 -2.26798500e-02]\n",
      " [ 1.11755458e-05  1.11758152e-05  1.11778520e-05 ... -1.27308744e-02\n",
      "  -2.26798500e-02 -2.12059156e-02]]\n",
      "Norm = 4.69298\n"
     ]
    }
   ],
   "source": [
    "matrix = delta_U_3S1_3S1 + delta_U_dag_3S1_3S1 + 1/2 * (\n",
    "    delta_U_3S1_3S1 @ delta_U_dag_3S1_3S1\n",
    "    + delta_U_3S1_3D1 @ delta_U_dag_3D1_3S1\n",
    ")\n",
    "print(matrix)\n",
    "print(f\"Norm = {la.norm(matrix):.5f}\")\n",
    "# matrix_no_weights = unattach_weights_from_matrix(k_array, k_weights, matrix)\n",
    "# print(matrix_no_weights)\n",
    "# print(f\"Norm = {la.norm(matrix_no_weights):.5f}\")"
   ]
  },
  {
   "cell_type": "markdown",
   "id": "3501090f",
   "metadata": {},
   "source": [
    "## Check that normalization of momentum projection operator is conserved"
   ]
  },
  {
   "cell_type": "code",
   "execution_count": 9,
   "id": "aaeecc35",
   "metadata": {},
   "outputs": [
    {
     "name": "stdout",
     "output_type": "stream",
     "text": [
      "Norm = 2.847882658769522\n",
      "Norm = 2.8478826587695085\n"
     ]
    }
   ],
   "source": [
    "q = 2.0\n",
    "mpo_initial = momentum_projection_operator(q, k_array, k_weights, coupled=True)\n",
    "\n",
    "print(f\"Norm = {la.norm(mpo_initial)}\")\n",
    "\n",
    "mpo_I_matrix = I_matrix @ mpo_initial @ I_matrix\n",
    "mpo_delU_matrix = delta_U @ mpo_initial @ I_matrix\n",
    "mpo_delUdag_matrix = I_matrix @ mpo_initial @ delta_U_dag\n",
    "mpo_delU2_matrix = delta_U @ mpo_initial @ delta_U_dag\n",
    "\n",
    "mpo_evolved = (mpo_I_matrix + mpo_delU_matrix + mpo_delUdag_matrix\n",
    "               + mpo_delU2_matrix)\n",
    "\n",
    "print(f\"Norm = {la.norm(mpo_evolved)}\")"
   ]
  },
  {
   "cell_type": "code",
   "execution_count": null,
   "id": "85641064",
   "metadata": {},
   "outputs": [],
   "source": []
  },
  {
   "cell_type": "code",
   "execution_count": null,
   "id": "c3775c67",
   "metadata": {},
   "outputs": [],
   "source": []
  },
  {
   "cell_type": "code",
   "execution_count": null,
   "id": "dade4aaa",
   "metadata": {},
   "outputs": [],
   "source": []
  }
 ],
 "metadata": {
  "kernelspec": {
   "display_name": "Python 3 (ipykernel)",
   "language": "python",
   "name": "python3"
  },
  "language_info": {
   "codemirror_mode": {
    "name": "ipython",
    "version": 3
   },
   "file_extension": ".py",
   "mimetype": "text/x-python",
   "name": "python",
   "nbconvert_exporter": "python",
   "pygments_lexer": "ipython3",
   "version": "3.9.13"
  }
 },
 "nbformat": 4,
 "nbformat_minor": 5
}

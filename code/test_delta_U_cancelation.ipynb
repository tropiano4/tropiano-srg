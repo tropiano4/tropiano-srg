{
 "cells": [
  {
   "cell_type": "markdown",
   "id": "a95aac84",
   "metadata": {},
   "source": [
    "# Testing cancelation of SRG transformations in momentum distributions\n",
    "\n",
    "__Author:__ A. J. Tropiano [atropiano@anl.gov]<br/>\n",
    "__Date:__ February 9, 2023\n",
    "\n",
    "The SRG transformations are unitary and therefore satisfy the condition<br>\n",
    "\n",
    "$$\n",
    "\\begin{align}\n",
    "U^\\dagger U &= I + \\frac{1}{4} \\sum_{\\mathbf{k}, \\mathbf{k'}, \\mathbf{K}} \\bigl[\n",
    "    \\delta U(\\mathbf{k},\\mathbf{k'}) + \\delta U^\\dagger(\\mathbf{k},\\mathbf{k'})\n",
    "    + \\frac{1}{2} \\sum_{\\mathbf{k''}} \\delta U(\\mathbf{k},\\mathbf{k''}) \\delta U^\\dagger(\\mathbf{k''},\\mathbf{k'})\n",
    "\\bigr]\n",
    "a^\\dagger_{\\frac{\\mathbf{K}}{2}+\\mathbf{k}} a^\\dagger_{\\frac{\\mathbf{K}}{2}-\\mathbf{k}}\n",
    "a_{\\frac{\\mathbf{K}}{2}-\\mathbf{k'}} a_{\\frac{\\mathbf{K}}{2}+\\mathbf{k'}} \\\\\n",
    "&= I\n",
    ".\n",
    "\\end{align}\n",
    "$$<br>\n",
    "\n",
    "This implies that<br>\n",
    "\n",
    "$$\n",
    "\\delta U(\\mathbf{k},\\mathbf{k'}) + \\delta U^\\dagger(\\mathbf{k},\\mathbf{k'}) \n",
    "+ \\frac{1}{2} \\sum_{\\mathbf{k''}} \\delta U(\\mathbf{k},\\mathbf{k''}) \\delta U^\\dagger(\\mathbf{k''},\\mathbf{k'})\n",
    "= 0\n",
    ".\n",
    "$$<br>\n",
    "\n",
    "In partial waves this looks like<br>\n",
    "\n",
    "$$\n",
    "\\delta U_{LL'}(k,k') + \\delta U^\\dagger_{LL'}(k,k') + \\frac{2}{\\pi} \\sum_{L''} \\int dk'' k''^2\n",
    "    \\delta U_{LL''}(k,k'') \\delta U^\\dagger_{L''L'}(k'',k')\n",
    "= 0\n",
    ",\n",
    "$$<br>\n",
    "given partial wave channel quantum numbers $J$, $S$, and $T$.<br>\n",
    "\n",
    "_Last update:_ March 22, 2023"
   ]
  },
  {
   "cell_type": "code",
   "execution_count": 1,
   "id": "7a2f5509",
   "metadata": {},
   "outputs": [],
   "source": [
    "# Python imports\n",
    "import matplotlib.pyplot as plt\n",
    "%matplotlib inline\n",
    "import numpy as np\n",
    "import numpy.linalg as la\n",
    "from scipy.interpolate import RectBivariateSpline\n",
    "from scipy.special import sph_harm\n",
    "from sympy.physics.quantum.cg import CG"
   ]
  },
  {
   "cell_type": "code",
   "execution_count": 2,
   "id": "b02384fc",
   "metadata": {},
   "outputs": [],
   "source": [
    "# Imports from scripts\n",
    "from scripts.figures import interpolate_matrix, label_ticks, set_rc_parameters\n",
    "from scripts.integration import (\n",
    "    gaussian_quadrature_mesh, momentum_mesh, unattach_weights_from_matrix,\n",
    "    attach_weights_to_matrix\n",
    ")\n",
    "from scripts.potentials import Potential\n",
    "from scripts.srg import get_transformation\n",
    "from scripts.tools import coupled_channel, replace_periods"
   ]
  },
  {
   "cell_type": "code",
   "execution_count": 3,
   "id": "3e666f7f",
   "metadata": {},
   "outputs": [],
   "source": [
    "# Run this cell to turn on customized matplotlib graphics\n",
    "set_rc_parameters()"
   ]
  },
  {
   "cell_type": "code",
   "execution_count": 4,
   "id": "0d2350da",
   "metadata": {
    "code_folding": [
     3
    ]
   },
   "outputs": [],
   "source": [
    "def load_H_evolved(\n",
    "        kvnn, channel, generator, lamb, kmax=15.0, kmid=3.0, ntot=120,\n",
    "        solver='U', method='BDF', atol=1e-10, rtol=1e-10, wrt='lambda'\n",
    "):\n",
    "    \"\"\"Load evolved Hamiltonian.\"\"\"\n",
    "    \n",
    "    if solver == 'U':\n",
    "        \n",
    "        H_file_name = (\n",
    "            f\"H_evolved_kvnn_{kvnn}_{channel}_{generator}_lamb_{lamb}_kmax\"\n",
    "            f\"_{kmax}_kmid_{kmid}_ntot_{ntot}_{solver}_{method}_wrt_{wrt}\"\n",
    "        )\n",
    "            \n",
    "        H_evolved = np.loadtxt(\"./test_srg/\" + replace_periods(H_file_name)\n",
    "                               + \".txt\")\n",
    "                \n",
    "        U_file_name = (\n",
    "            f\"U_kvnn_{kvnn}_{channel}_{generator}_lamb_{lamb}_kmax_{kmax}\"\n",
    "            f\"_kmid_{kmid}_ntot_{ntot}_{solver}_{method}_wrt_{wrt}\"\n",
    "        )\n",
    "            \n",
    "        U_evolved = np.loadtxt(\"./test_srg/\" + replace_periods(U_file_name)\n",
    "                               + \".txt\")\n",
    "        \n",
    "        return H_evolved, U_evolved\n",
    "        \n",
    "    else:\n",
    "        \n",
    "        file_name = (\n",
    "            f\"H_evolved_kvnn_{kvnn}_{channel}_{generator}_lamb_{lamb}_kmax\"\n",
    "            f\"_{kmax}_kmid_{kmid}_ntot_{ntot}_{solver}_{method}_wrt_{wrt}\"\n",
    "        )\n",
    "        H_evolved = np.loadtxt(\"./test_srg/\" + replace_periods(file_name)\n",
    "                               + \".txt\")\n",
    "    \n",
    "        return H_evolved"
   ]
  },
  {
   "cell_type": "markdown",
   "id": "e21b46ea",
   "metadata": {},
   "source": [
    "## Check cancelation of matrix elements in partial-wave basis"
   ]
  },
  {
   "cell_type": "code",
   "execution_count": 5,
   "id": "392ab9c4",
   "metadata": {
    "code_folding": [
     0
    ]
   },
   "outputs": [],
   "source": [
    "def partial_wave_cancelation(kvnn, channel, kmax, kmid, ntot, generator, lamb):\n",
    "    \"\"\"Check the cancelation of the \\delta U's (see the last equation above).\"\"\"\n",
    "    \n",
    "    potential = Potential(kvnn, channel, kmax, kmid, ntot)\n",
    "    k_array, k_weights = potential.load_mesh()\n",
    "\n",
    "    # SRG transformation matrix with integration weights attached\n",
    "    _, U_matrix = load_H_evolved(kvnn, channel, generator, lamb, kmax,\n",
    "                                          kmid, ntot)\n",
    "    \n",
    "    # Identity matrix\n",
    "    I_matrix = np.eye(len(U_matrix))\n",
    "\n",
    "    # \\delta U and \\delta U^\\dagger matrices\n",
    "    delta_U = U_matrix - I_matrix\n",
    "    delta_U_dag = (U_matrix - I_matrix).T\n",
    "    \n",
    "    if potential.coupled_channel_bool:\n",
    "        \n",
    "        matrix = (\n",
    "            delta_U[:ntot, :ntot] + delta_U_dag[:ntot, :ntot]\n",
    "            + delta_U[:ntot, :ntot] @ delta_U_dag[:ntot, :ntot]\n",
    "            + delta_U[:ntot, ntot:] @ delta_U_dag[ntot:, :ntot]\n",
    "        )\n",
    "        \n",
    "    else:\n",
    "        \n",
    "        matrix = delta_U + delta_U_dag + delta_U @ delta_U_dag\n",
    "    \n",
    "    # Matrix with integration weights\n",
    "    print(matrix)\n",
    "    print(f\"Norm of matrix with integration weights = {la.norm(matrix):.5f}.\\n\")\n",
    "    \n",
    "    # Matrix without integration weights\n",
    "    matrix_no_weights = unattach_weights_from_matrix(k_array, k_weights, matrix)\n",
    "    print(\"Norm of matrix without integration weights = \"\n",
    "          f\"{la.norm(matrix_no_weights):.5f}.\\n\")\n",
    "    \n",
    "    return k_array, matrix_no_weights"
   ]
  },
  {
   "cell_type": "code",
   "execution_count": 6,
   "id": "346a92ad",
   "metadata": {
    "code_folding": [
     4
    ]
   },
   "outputs": [],
   "source": [
    "def plot_delU_sum(\n",
    "        k_array, matrix_no_weights, levels_number=61,\n",
    "        colorbar_limits=(-1.0,1.0), color_map='turbo', axes_limits=(0.0,4.0),\n",
    "        xlabel_size=16, ylabel_size=16\n",
    "):\n",
    "    \n",
    "    # --- Figure set-up --- #\n",
    "    plt.close('all')\n",
    "    f, ax = plt.subplots(figsize=(4,4))\n",
    "    \n",
    "    # Set contour levels\n",
    "    levels = np.linspace(colorbar_limits[0], colorbar_limits[1],\n",
    "                         levels_number)\n",
    "    \n",
    "    # We don't need the second output since it'll be the same as the first\n",
    "    k_max = axes_limits[1] + 0.2  # Add a little extra to prevent white edges\n",
    "    k_array_dense, _, matrix_dense = interpolate_matrix(\n",
    "        k_array, k_array, matrix_no_weights, k_max, k_max)\n",
    "\n",
    "    # --- Plot --- #\n",
    "    c = ax.contourf(k_array_dense, k_array_dense, matrix_dense, levels,\n",
    "                    cmap=color_map, extend='both')\n",
    "\n",
    "    # --- Axes limits --- #\n",
    "    ax.set_xlim(axes_limits)\n",
    "    ax.set_ylim(axes_limits)\n",
    "\n",
    "    # --- Axes labels --- #\n",
    "    ax.set_xlabel(\"$k'$ [fm\" + r\"$^{-1}$\" + \"]\", fontsize=xlabel_size)\n",
    "    ax.set_ylabel(\"$k$ [fm\" + r\"$^{-1}$\" + \"]\", fontsize=ylabel_size)\n",
    "    \n",
    "    # --- Adjust axes --- #\n",
    "    # Switch x-axis label from bottom to top\n",
    "    ax.xaxis.set_label_position('top')\n",
    "    ax.tick_params(labeltop=True, labelbottom=False)\n",
    "    # Invert y-axis\n",
    "    ax.invert_yaxis()\n",
    "    \n",
    "    # --- Colorbar --- #\n",
    "    # Colorbar location (left, bottom, width, height)\n",
    "    cbar_ax = f.add_axes((1.0, 0.15, 0.1, 0.7))\n",
    "    # Set colorbar ticks and tick labels\n",
    "    levels_ticks = np.linspace(colorbar_limits[0], colorbar_limits[1], 9)\n",
    "    levels_ticks_strings = label_ticks(levels_ticks)  # Make these strings\n",
    "    # Set colorbar\n",
    "    cbar = f.colorbar(c, cax=cbar_ax, ticks=levels_ticks)\n",
    "    cbar.ax.set_yticklabels(levels_ticks_strings)\n",
    "    cbar.ax.set_title(r\"[fm$^3$]\", fontsize=16, pad=15)"
   ]
  },
  {
   "cell_type": "code",
   "execution_count": 7,
   "id": "d39f7943",
   "metadata": {},
   "outputs": [],
   "source": [
    "# Default settings for SMS N4LO 450 MeV\n",
    "kvnn = 111\n",
    "kmax, kmid, ntot = 15.0, 3.0, 120\n",
    "generator = 'Wegner'"
   ]
  },
  {
   "cell_type": "code",
   "execution_count": 8,
   "id": "e260641a",
   "metadata": {},
   "outputs": [
    {
     "name": "stdout",
     "output_type": "stream",
     "text": [
      "[[-5.85073934e-14 -1.47934454e-14 -4.54741400e-14 ... -1.07531488e-17\n",
      "  -2.72150882e-17 -2.62165504e-17]\n",
      " [-1.47934454e-14  9.04793833e-14 -3.65140962e-13 ... -8.70353557e-17\n",
      "  -2.18777729e-16 -2.10517427e-16]\n",
      " [-4.54741400e-14 -3.65140962e-13 -1.30117130e-12 ... -2.78463763e-16\n",
      "  -6.76475897e-16 -6.47244664e-16]\n",
      " ...\n",
      " [-1.07531488e-17 -8.70353557e-17 -2.78463763e-16 ... -1.05529993e-10\n",
      "  -3.98927302e-11 -5.17464062e-12]\n",
      " [-2.72150882e-17 -2.18777729e-16 -6.76475897e-16 ... -3.98927302e-11\n",
      "  -4.49849920e-11 -2.43605193e-11]\n",
      " [-2.62165504e-17 -2.10517427e-16 -6.47244664e-16 ... -5.17464062e-12\n",
      "  -2.43605193e-11 -1.80004196e-11]]\n",
      "Norm of matrix with integration weights = 0.00000.\n",
      "\n",
      "Norm of matrix without integration weights = 0.00002.\n",
      "\n"
     ]
    },
    {
     "data": {
      "image/png": "[encoded data removed]",
      "text/plain": [
       "<Figure size 600x600 with 2 Axes>"
      ]
     },
     "metadata": {},
     "output_type": "display_data"
    }
   ],
   "source": [
    "# SMS N4LO 450 MeV in the 1S0 channel at \\lambda = 1.35 fm^-1\n",
    "k_array, matrix_no_weights = partial_wave_cancelation(kvnn, '1S0', kmax, kmid,\n",
    "                                                      ntot, generator, 1.35)\n",
    "plot_delU_sum(k_array, matrix_no_weights)"
   ]
  },
  {
   "cell_type": "code",
   "execution_count": 9,
   "id": "d4194154",
   "metadata": {},
   "outputs": [
    {
     "name": "stdout",
     "output_type": "stream",
     "text": [
      "[[ 2.39504565e-14 -8.04208777e-14 -2.47211746e-13 ... -7.03471939e-17\n",
      "  -3.32534278e-17 -1.04516238e-18]\n",
      " [-8.04208777e-14 -3.27197848e-13 -1.98502574e-12 ... -5.61857075e-16\n",
      "  -2.65606797e-16 -8.38382483e-18]\n",
      " [-2.47211746e-13 -1.98502574e-12 -6.11075097e-12 ... -1.67997753e-15\n",
      "  -7.94407144e-16 -2.56372480e-17]\n",
      " ...\n",
      " [-7.03471939e-17 -5.61857075e-16 -1.67997753e-15 ... -3.24692270e-10\n",
      "  -1.25501071e-10 -1.81403450e-11]\n",
      " [-3.32534278e-17 -2.65606797e-16 -7.94407144e-16 ... -1.25501071e-10\n",
      "  -1.40201236e-10 -7.62303845e-11]\n",
      " [-1.04516238e-18 -8.38382483e-18 -2.56372480e-17 ... -1.81403450e-11\n",
      "  -7.62303845e-11 -5.63908143e-11]]\n",
      "Norm of matrix with integration weights = 0.00000.\n",
      "\n",
      "Norm of matrix without integration weights = 0.00007.\n",
      "\n"
     ]
    },
    {
     "data": {
      "image/png": "[encoded data removed]",
      "text/plain": [
       "<Figure size 600x600 with 2 Axes>"
      ]
     },
     "metadata": {},
     "output_type": "display_data"
    }
   ],
   "source": [
    "# SMS N4LO 450 MeV in the 3S1-3D1 channel at \\lambda = 1.35 fm^-1\n",
    "k_array, matrix_no_weights = partial_wave_cancelation(kvnn, '3S1', kmax, kmid,\n",
    "                                                      ntot, generator, 1.35)\n",
    "plot_delU_sum(k_array, matrix_no_weights)"
   ]
  },
  {
   "cell_type": "markdown",
   "id": "ce1c3eb5",
   "metadata": {},
   "source": [
    "## Check cancelation of matrix elements in plane-wave basis"
   ]
  },
  {
   "cell_type": "markdown",
   "id": "738183d5",
   "metadata": {},
   "source": [
    "The plane-wave matrix elements of $\\delta U$ can be expressed in terms of the partial wave matrix elements (with many sums and Clesbch-Gordan coefficients):</br>\n",
    "\n",
    "$$\n",
    "\\begin{align}\n",
    "\\delta U(\\mathbf{k},\\mathbf{k'}) &\\equiv \\langle \\mathbf{k} \\sigma_1 \\tau_1 \\sigma_2 \\tau_2 \\vert \\delta U \\vert \\mathbf{k'} \\sigma_3 \\tau_3 \\sigma_4 \\tau_4 \\rangle \\\\\n",
    "&= \\frac{1}{2} \\frac{2}{\\pi} \\sum_{S M_S M_S'} \\sum_{T M_T} \\sum_{L M_L} \\sum_{L' M_L'} \\sum_{J M_J}\n",
    "    \\langle \\sigma_1 \\sigma_2 \\vert S M_S \\rangle \\langle S M_S' \\vert \\sigma_3 \\sigma_4 \\rangle\n",
    "    \\langle \\tau_1 \\tau_2 \\vert T M_T \\rangle \\langle T M_T \\vert \\tau_3 \\tau_4 \\rangle\n",
    "    \\langle L M_L S M_S \\vert J M_J \\rangle \\\\\n",
    "    &\\qquad\\times \\langle J M_J \\vert L' M_L' S M_S' \\rangle\n",
    "    \\bigl( 1-(-1)^{L+S+T} \\bigr) \\bigl( 1-(-1)^{L'+S+T} \\bigr)\n",
    "    Y_{L M_L}(\\Omega_{\\mathbf{k}}) Y^*_{L' M_L'}(\\Omega_{\\mathbf{k'}})\n",
    "    \\langle k J (L S) T \\vert \\delta U \\vert k' J (L' S) T \\rangle\n",
    "\\end{align}\n",
    "$$"
   ]
  },
  {
   "cell_type": "markdown",
   "id": "00252de0",
   "metadata": {},
   "source": [
    "The plane-wave cancelation equation (second equation) from the notebook header can be written in terms of the partial-wave matrix elements:</br>\n",
    "\n",
    "$$\n",
    "\\begin{align}\n",
    "0 &= \\delta U(\\mathbf{k},\\mathbf{k'}) + \\delta U^\\dagger(\\mathbf{k},\\mathbf{k'}) \n",
    "    + \\frac{1}{2} \\sum_{\\mathbf{q}} \\delta U(\\mathbf{k},\\mathbf{q}) \\delta U^\\dagger(\\mathbf{q},\\mathbf{k'}) \\\\\n",
    "&= \\Bigl[\n",
    "    \\frac{1}{2} \\frac{2}{\\pi} \\sum_{S M_S M_S'} \\sum_{T M_T} \\sum_{L M_L} \\sum_{L' M_L'} \\sum_{J M_J}\n",
    "    \\langle \\sigma_1 \\sigma_2 \\vert S M_S \\rangle \\langle S M_S' \\vert \\sigma_3 \\sigma_4 \\rangle\n",
    "    \\langle \\tau_1 \\tau_2 \\vert T M_T \\rangle \\langle T M_T \\vert \\tau_3 \\tau_4 \\rangle\n",
    "    \\langle L M_L S M_S \\vert J M_J \\rangle \\langle J M_J \\vert L' M_L' S M_S' \\rangle \\\\\n",
    "    &\\qquad\\times \\bigl( 1-(-1)^{L+S+T} \\bigr) \\bigl( 1-(-1)^{L'+S+T} \\bigr)\n",
    "    Y_{L M_L}(\\Omega_{\\mathbf{k}}) Y^*_{L' M_L'}(\\Omega_{\\mathbf{k'}})\n",
    "    \\bigl(\n",
    "        \\langle k J (L S) T \\vert \\delta U \\vert k' J (L' S) T \\rangle\n",
    "        + \\langle k J (L S) T \\vert \\delta U^\\dagger \\vert k' J (L' S) T \\rangle\n",
    "    \\bigr) \\\\\n",
    "    &\\quad+ \\frac{1}{2} (\\frac{1}{2} \\frac{2}{\\pi})^2 \\sum_{\\sigma \\sigma'} \\sum_{\\tau \\tau'}\n",
    "    \\sum_{S M_S M_S''} \\sum_{T M_T} \\sum_{L M_L} \\sum_{L'' M_L''} \\sum_{J M_J}\n",
    "    \\sum_{S' M_S' M_S'''} \\sum_{T' M_T'} \\sum_{L''' M_L'''} \\sum_{L' M_L'} \\sum_{J' M_J'}\n",
    "    \\int_0^\\infty dq q^2 \\int d\\Omega_{\\mathbf{q}} \\\\\n",
    "        &\\qquad\\times \\langle \\sigma_1 \\sigma_2 \\vert S M_S \\rangle \\langle S M_S'' \\vert \\sigma \\sigma' \\rangle\n",
    "        \\langle \\sigma \\sigma' \\vert S' M_S' \\rangle \\langle S' M_S''' \\vert \\sigma_3 \\sigma_4 \\rangle\n",
    "        \\langle \\tau_1 \\tau_2 \\vert T M_T \\rangle \\langle T M_T \\vert \\tau \\tau' \\rangle\n",
    "        \\langle \\tau \\tau' \\vert T' M_T' \\rangle \\langle T' M_T' \\vert \\tau_3 \\tau_4 \\rangle \\\\\n",
    "        &\\qquad\\times \\langle L M_L S M_S \\vert J M_J \\rangle \\langle J M_J \\vert L'' M_L'' S M_S'' \\rangle\n",
    "        \\langle L''' M_L''' S' M_S''' \\vert J' M_J' \\rangle \\langle J' M_J' \\vert L' M_L' S' M_S' \\rangle \\\\\n",
    "        &\\qquad\\times \\bigl( 1-(-1)^{L+S+T} \\bigr) \\bigl( 1-(-1)^{L''+S+T} \\bigr)\n",
    "        \\bigl( 1-(-1)^{L'''+S'+T'} \\bigr) \\bigl( 1-(-1)^{L'+S'+T'} \\bigr)\n",
    "        Y_{L M_L}(\\Omega_{\\mathbf{k}}) Y^*_{L'' M_L''}(\\Omega_{\\mathbf{q}})\n",
    "        Y_{L''' M_L'''}(\\Omega_{\\mathbf{q}}) Y^*_{L' M_L'}(\\Omega_{\\mathbf{k'}}) \\\\\n",
    "        &\\qquad\\times \\langle k J (L S) T \\vert \\delta U \\vert q J (L'' S) T \\rangle\n",
    "        \\langle q J' (L''' S') T' \\vert \\delta U \\vert k' J' (L' S') T' \\rangle\n",
    "\\Bigr].\n",
    "\\end{align}\n",
    "$$</br>\n",
    "\n",
    "To test the cancelation, we will fix the single-particle momenta $\\mathbf{k}$ and $\\mathbf{k'}$, the spin projections $\\sigma_i$, and the isospin projections $\\tau_i$.\n",
    "In this way, we will output a number (that should be zero)."
   ]
  },
  {
   "cell_type": "code",
   "execution_count": 10,
   "id": "a95f849c",
   "metadata": {
    "code_folding": [
     0
    ]
   },
   "outputs": [],
   "source": [
    "def compute_clebsch_gordan_table(j_max):\n",
    "    \"\"\"\n",
    "    Calculate Clebsch-Gordan coefficients for all combinations of j and m_j up\n",
    "    to j_max.\n",
    "    \n",
    "    Parameters\n",
    "    ----------\n",
    "    j_max : int\n",
    "        Maximum j value for j_1, j_2, and j_3. This also constrains m_j.\n",
    "    \n",
    "    Returns\n",
    "    -------\n",
    "    cg_table : dict\n",
    "        Table of Clebsch-Gordan coefficients <j_1 m_j_1 j_2 m_j_2|j_3 m_j_3>\n",
    "        for each combination of angular momenta.\n",
    "        \n",
    "    \"\"\"\n",
    "        \n",
    "    cg_table = {}\n",
    "        \n",
    "    j_array = np.arange(0, j_max+1/2, 1/2)\n",
    "\n",
    "    for j_1 in j_array:\n",
    "        for m_1 in np.arange(-j_1, j_1+1, 1):\n",
    "            for j_2 in j_array:\n",
    "                for m_2 in np.arange(-j_2, j_2+1, 1):\n",
    "                    for j_3 in j_array:\n",
    "                        for m_3 in np.arange(-j_3, j_3+1, 1):\n",
    "                            cg_table[(j_1,m_1,j_2,m_2,j_3,m_3)] = float(\n",
    "                                CG(j_1,m_1,j_2,m_2,j_3,m_3).doit()\n",
    "                            )\n",
    "                                \n",
    "    return cg_table"
   ]
  },
  {
   "cell_type": "code",
   "execution_count": 11,
   "id": "897ce601",
   "metadata": {
    "code_folding": [
     0
    ]
   },
   "outputs": [],
   "source": [
    "def get_channel_quantum_numbers(channel):\n",
    "    \"\"\"Gets the quantum numbers of a partial wave channel.\"\"\"\n",
    "    \n",
    "    # Total orbital angular momentum L' = 0, 1, 2, ...\n",
    "    if channel[1] == 'S':\n",
    "        Lp = 0\n",
    "    elif channel[1] == 'P':\n",
    "        Lp = 1\n",
    "    elif channel[1] == 'D':\n",
    "        Lp = 2\n",
    "    elif channel[1] == 'F':\n",
    "        Lp = 3\n",
    "    elif channel[1] == 'G':\n",
    "        Lp = 4\n",
    "    elif channel[1] == 'H':\n",
    "        Lp = 5\n",
    "    else:\n",
    "        raise RuntimeError(\"Channel L' exceeds the range of the function.\")\n",
    "    \n",
    "    # Total orbital angular momentum L = 0, 1, 2, ...\n",
    "    if coupled_channel(channel[:3]):\n",
    "        \n",
    "        if channel[5] == 'S':\n",
    "            L = 0\n",
    "        elif channel[5] == 'P':\n",
    "            L = 1\n",
    "        elif channel[5] == 'D':\n",
    "            L = 2\n",
    "        elif channel[5] == 'F':\n",
    "            L = 3\n",
    "        elif channel[5] == 'G':\n",
    "            L = 4\n",
    "        elif channel[5] == 'H':\n",
    "            L = 5\n",
    "        else:\n",
    "            raise RuntimeError(\"Channel L exceeds the range of the function.\")\n",
    "        \n",
    "    # L = L' if the channel is not coupled\n",
    "    else:\n",
    "        \n",
    "        L = Lp\n",
    "        \n",
    "    # Total spin S = 0 or 1\n",
    "    S = int((int(channel[0])-1)/2)\n",
    "    \n",
    "    # Total angular momentum J = 0, 1, 2, ...\n",
    "    J = int(channel[2])\n",
    "            \n",
    "    return Lp, L, S, J"
   ]
  },
  {
   "cell_type": "code",
   "execution_count": 12,
   "id": "03e88149",
   "metadata": {
    "code_folding": [
     0
    ]
   },
   "outputs": [],
   "source": [
    "def get_total_isospin(L, S):\n",
    "    \"\"\"Total isospin according to antisymmetry.\"\"\"\n",
    "    \n",
    "    # Make sure [1-(-1)^(L+S+T)] is not zero\n",
    "    if (1-(-1)**(L+S)) == 0:\n",
    "        T = 1\n",
    "    else:\n",
    "        T = 0\n",
    "        \n",
    "    return T"
   ]
  },
  {
   "cell_type": "code",
   "execution_count": 13,
   "id": "c6ad72e1",
   "metadata": {
    "code_folding": [
     4
    ]
   },
   "outputs": [],
   "source": [
    "def delta_U_matrix_elements(\n",
    "        k, theta_k, phi_k, kp, theta_kp, phi_kp, sigma_1, sigma_2, sigma_3,\n",
    "        sigma_4, tau_1, tau_2, tau_3, tau_4, cg_table, channel_full,\n",
    "        delta_U_func=None, delta_U_dag_func=None\n",
    "):\n",
    "    \"\"\"Matrix element of \\delta U or \\delta U^\\dagger in the plane-wave basis.\n",
    "    \"\"\"\n",
    "    \n",
    "    if channel_full[:3] == '3S1' or channel_full[:3] == '3D1':\n",
    "        channel = '3S1'\n",
    "    else:\n",
    "        channel = channel_full\n",
    "    \n",
    "    # Get channel quantum numbers\n",
    "    L, Lp, S, J = get_channel_quantum_numbers(channel_full)\n",
    "    T = get_total_isospin(L, S)\n",
    "    \n",
    "    if delta_U_func is not None:\n",
    "        delta_U_partial_wave = delta_U_func.ev(k, kp)\n",
    "    elif delta_U_dag_func is not None:\n",
    "        delta_U_partial_wave = delta_U_dag_func.ev(k, kp)\n",
    "    else:\n",
    "        raise RuntimeError(\"Need to input a \\delta U function!\")\n",
    "    \n",
    "    # L S T factor\n",
    "    lst_factor = 1-(-1)**(L+S+T)\n",
    "    # L' S T factor\n",
    "    lpst_factor = 1-(-1)**(Lp+S+T)\n",
    "    \n",
    "    # Restrict quantum numbers when possible\n",
    "    M_S = sigma_1 + sigma_2\n",
    "    if abs(M_S) > S:\n",
    "        return 0\n",
    "    \n",
    "    M_Sp = sigma_3 + sigma_4\n",
    "    # Not diagonal in M_S and M_S'\n",
    "    if abs(M_Sp) > S:\n",
    "        return 0\n",
    "    \n",
    "#     # Diagonal in M_S\n",
    "#     if abs(M_Sp) > S or M_Sp != M_S:\n",
    "#         return 0\n",
    "    \n",
    "    spin_12_cg = cg_table[(1/2, sigma_1, 1/2, sigma_2, S, M_S)]\n",
    "    spin_34_cg = cg_table[(1/2, sigma_3, 1/2, sigma_4, S, M_Sp)]\n",
    "    \n",
    "    M_T = tau_1 + tau_2\n",
    "    if (M_T != tau_3 + tau_4) or abs(M_T) > T:\n",
    "        return 0\n",
    "    isospin_12_cg = cg_table[(1/2, tau_1, 1/2, tau_2, T, M_T)]\n",
    "    isospin_34_cg = cg_table[(1/2, tau_3, 1/2, tau_4, T, M_T)]\n",
    "    \n",
    "    # Loop over M_L and M_L'\n",
    "    delta_U_plane_wave = np.zeros_like(delta_U_partial_wave, dtype='complex')\n",
    "    for M_L in np.arange(-L, L+1, 1):\n",
    "        \n",
    "        M_J = M_L + M_S\n",
    "        \n",
    "        if abs(M_J) > J:\n",
    "            lsj_cg = 0\n",
    "        \n",
    "        else:\n",
    "            \n",
    "            lsj_cg = cg_table[(L, M_L, S, M_S, J, M_J)]\n",
    "            Y_L_k = sph_harm(M_L, L, phi_k, theta_k)\n",
    "#             # TESTING\n",
    "#             Y_L_k = 1/np.sqrt(4*np.pi)\n",
    "            \n",
    "            for M_Lp in np.arange(-Lp, Lp+1, 1):\n",
    "                \n",
    "                if M_Lp + M_Sp != M_J:\n",
    "                    lpsj_cg = 0\n",
    "                \n",
    "                else:\n",
    "                    \n",
    "                    lpsj_cg = cg_table[(Lp, M_Lp, S, M_Sp, J, M_J)]\n",
    "                    Y_Lp_kp = sph_harm(M_Lp, Lp, phi_kp, theta_kp)\n",
    "#                     # TESTING\n",
    "#                     Y_Lp_kp = 1/np.sqrt(4*np.pi)\n",
    "                    \n",
    "                    delta_U_plane_wave += (\n",
    "                        1/2 * 2/np.pi * spin_12_cg * spin_34_cg\n",
    "                        * isospin_12_cg * isospin_34_cg * lsj_cg * lpsj_cg\n",
    "                        * Y_L_k * np.conj(Y_Lp_kp) * lst_factor * lpst_factor\n",
    "                        * delta_U_partial_wave\n",
    "                    )\n",
    "\n",
    "    # Return plane-wave matrix element of \\delta U\n",
    "    return delta_U_plane_wave"
   ]
  },
  {
   "cell_type": "code",
   "execution_count": 14,
   "id": "33592d6f",
   "metadata": {
    "code_folding": [
     4
    ]
   },
   "outputs": [],
   "source": [
    "def delta_U2_matrix_element(\n",
    "        k, theta_k, phi_k, kp, theta_kp, phi_kp, sigma_1, sigma_2, sigma_3,\n",
    "        sigma_4, tau_1, tau_2, tau_3, tau_4, cg_table, channel_1_full,\n",
    "        channel_2_full, delta_U_func, delta_U_dag_func\n",
    "):\n",
    "    \"\"\"Matrix element of \\delta U \\delta U^\\dagger in the plane-wave basis.\"\"\"\n",
    "    \n",
    "    # Set q, \\theta_q, and \\phi_q arrays\n",
    "    theta_q_array, theta_q_weights = gaussian_quadrature_mesh(np.pi, 11)\n",
    "    phi_q_array, phi_q_weights = gaussian_quadrature_mesh(2*np.pi, 19)\n",
    "    q_array, q_weights = momentum_mesh(15.0, 3.0, 120)\n",
    "    \n",
    "    # Make meshgrids for integration\n",
    "    q_grid, theta_q_grid, phi_q_grid = np.meshgrid(q_array, theta_q_array,\n",
    "                                                   phi_q_array, indexing='ij')\n",
    "    dq_grid, dtheta_q_grid, dphi_q_grid = np.meshgrid(\n",
    "        q_weights, theta_q_weights, phi_q_weights, indexing='ij'\n",
    "    )\n",
    "    \n",
    "    # Jacobian for q_vector integration\n",
    "    jacobian = (dq_grid * q_grid ** 2 * dtheta_q_grid * np.sin(theta_q_grid)\n",
    "                * dphi_q_grid)\n",
    "    \n",
    "    # Sum over \\sigma, \\sigma', \\tau, and \\tau'\n",
    "    integrand = np.zeros_like(jacobian, dtype='complex')\n",
    "    spins = [1/2, -1/2]\n",
    "    for sigma in spins:\n",
    "        for sigmap in spins:\n",
    "            for tau in spins:\n",
    "                for taup in spins:\n",
    "\n",
    "                    # \\delta U(k, q)\n",
    "                    delta_U_plane_wave = delta_U_matrix_elements(\n",
    "                        k, theta_k, phi_k, q_grid, theta_q_grid,\n",
    "                        phi_q_grid, sigma_1, sigma_2, sigma, sigmap, tau_1,\n",
    "                        tau_2, tau, taup, cg_table, channel_1_full,\n",
    "                        delta_U_func=delta_U_func\n",
    "                    )\n",
    "                    \n",
    "                    # \\delta U^\\dagger(q, k')\n",
    "                    delta_U_dag_plane_wave = delta_U_matrix_elements(\n",
    "                        q_grid, theta_q_grid, phi_q_grid, kp, theta_kp, phi_kp,\n",
    "                        sigma, sigmap, sigma_3, sigma_4, tau, taup, tau_3,\n",
    "                        tau_4, cg_table, channel_2_full,\n",
    "                        delta_U_dag_func=delta_U_dag_func\n",
    "                    )\n",
    "                    \n",
    "                    integrand += (jacobian * delta_U_plane_wave\n",
    "                                  * delta_U_dag_plane_wave)\n",
    "    \n",
    "    # Integrate over q_vector and return plane-wave matrix element of \\delta U^2\n",
    "    return 1/2 * np.sum(np.sum(np.sum(integrand, axis=-1), axis=-1), axis=-1)"
   ]
  },
  {
   "cell_type": "code",
   "execution_count": 15,
   "id": "56fb2f0a",
   "metadata": {
    "code_folding": [
     4
    ]
   },
   "outputs": [],
   "source": [
    "def plane_wave_cancelation(\n",
    "        k, theta_k, phi_k, kp, theta_kp, phi_kp, sigma_1, sigma_2, sigma_3,\n",
    "        sigma_4, tau_1, tau_2, tau_3, tau_4, cg_table, kvnn, channel, kmax=15.0,\n",
    "        kmid=3.0, ntot=120, generator='Wegner', lamb=1.35\n",
    "):\n",
    "    \"\"\"Check the cancelation of the \\delta U's (see the second equation above).\n",
    "    \"\"\"\n",
    "    \n",
    "    potential = Potential(kvnn, channel, kmax, kmid, ntot)\n",
    "    k_array, k_weights = potential.load_mesh()\n",
    "    cc = potential.coupled_channel_bool\n",
    "    \n",
    "    # SRG transformation matrix with integration weights attached\n",
    "    _, U_matrix = load_H_evolved(kvnn, channel, generator, lamb, kmax, kmid,\n",
    "                                 ntot)\n",
    "    \n",
    "    # Identity matrix\n",
    "    I_matrix = np.eye(len(U_matrix))\n",
    "\n",
    "    # \\delta U and \\delta U^\\dagger matrices [unitless]\n",
    "    delta_U_weights = U_matrix - I_matrix\n",
    "    delta_U_dag_weights = (U_matrix - I_matrix).T\n",
    "    \n",
    "    # Remove integration factors from \\delta U's [fm^3]\n",
    "    delta_U = unattach_weights_from_matrix(k_array, k_weights, delta_U_weights,\n",
    "                                           coupled_channel=cc)\n",
    "    delta_U_dag = unattach_weights_from_matrix(\n",
    "        k_array, k_weights, delta_U_dag_weights, coupled_channel=cc\n",
    "    )\n",
    "    \n",
    "    # Coupled-channel?\n",
    "    if cc:\n",
    "        \n",
    "        # Interpolate delta U's\n",
    "        delta_U_3S1_3S1_func = RectBivariateSpline(k_array, k_array,\n",
    "                                                   delta_U[:ntot, :ntot])\n",
    "        delta_U_dag_3S1_3S1_func = RectBivariateSpline(\n",
    "            k_array, k_array, delta_U_dag[:ntot, :ntot]\n",
    "        )\n",
    "        delta_U_3S1_3D1_func = RectBivariateSpline(k_array, k_array,\n",
    "                                                   delta_U[:ntot, ntot:])\n",
    "        delta_U_dag_3D1_3S1_func = RectBivariateSpline(\n",
    "            k_array, k_array, delta_U_dag[ntot:, :ntot]\n",
    "        )\n",
    "\n",
    "        delta_U_pw = delta_U_matrix_elements(\n",
    "            k, theta_k, phi_k, kp, theta_kp, phi_kp, sigma_1, sigma_2, sigma_3,\n",
    "            sigma_4, tau_1, tau_2, tau_3, tau_4, cg_table, '3S1-3S1',\n",
    "            delta_U_func=delta_U_3S1_3S1_func\n",
    "        )\n",
    "        \n",
    "        delta_U_dag_pw = delta_U_matrix_elements(\n",
    "            k, theta_k, phi_k, kp, theta_kp, phi_kp, sigma_1, sigma_2, sigma_3,\n",
    "            sigma_4, tau_1, tau_2, tau_3, tau_4, cg_table, '3S1-3S1',\n",
    "            delta_U_dag_func=delta_U_dag_3S1_3S1_func\n",
    "        )\n",
    "        \n",
    "        # 3S1-3S1 3S1-3S1\n",
    "        delta_U2_3S1_3S1_pw = delta_U2_matrix_element(\n",
    "            k, theta_k, phi_k, kp, theta_kp, phi_kp, sigma_1, sigma_2, sigma_3,\n",
    "            sigma_4, tau_1, tau_2, tau_3, tau_4, cg_table, '3S1-3S1', '3S1-3S1',\n",
    "            delta_U_3S1_3S1_func, delta_U_dag_3S1_3S1_func\n",
    "        )\n",
    "        # 3S1-3D1 3D1-3S1\n",
    "        delta_U2_3S1_3D1_pw = delta_U2_matrix_element(\n",
    "            k, theta_k, phi_k, kp, theta_kp, phi_kp, sigma_1, sigma_2, sigma_3,\n",
    "            sigma_4, tau_1, tau_2, tau_3, tau_4, cg_table, '3S1-3D1', '3D1-3S1',\n",
    "            delta_U_3S1_3D1_func, delta_U_dag_3D1_3S1_func\n",
    "        )\n",
    "        delta_U2_pw = delta_U2_3S1_3S1_pw + delta_U2_3S1_3D1_pw\n",
    "        \n",
    "    else:\n",
    "        \n",
    "        # Interpolate delta U's\n",
    "        delta_U_func = RectBivariateSpline(k_array, k_array, delta_U)\n",
    "        delta_U_dag_func = RectBivariateSpline(k_array, k_array, delta_U_dag)\n",
    "\n",
    "        delta_U_pw = delta_U_matrix_elements(\n",
    "            k, theta_k, phi_k, kp, theta_kp, phi_kp, sigma_1, sigma_2, sigma_3,\n",
    "            sigma_4, tau_1, tau_2, tau_3, tau_4, cg_table, channel,\n",
    "            delta_U_func=delta_U_func\n",
    "        )\n",
    "        \n",
    "        delta_U_dag_pw = delta_U_matrix_elements(\n",
    "            k, theta_k, phi_k, kp, theta_kp, phi_kp, sigma_1, sigma_2, sigma_3,\n",
    "            sigma_4, tau_1, tau_2, tau_3, tau_4, cg_table, channel,\n",
    "            delta_U_dag_func=delta_U_dag_func\n",
    "        )\n",
    "        \n",
    "        delta_U2_pw = delta_U2_matrix_element(\n",
    "            k, theta_k, phi_k, kp, theta_kp, phi_kp, sigma_1, sigma_2, sigma_3,\n",
    "            sigma_4, tau_1, tau_2, tau_3, tau_4, cg_table, channel, channel,\n",
    "            delta_U_func, delta_U_dag_func\n",
    "        )\n",
    "    \n",
    "    print(f\"\\delta U(k,k') = {delta_U_pw}\")\n",
    "    print(f\"\\delta U^\\dagger(k,k') = {delta_U_dag_pw}\")\n",
    "    print(f\"\\delta U(k,k') \\delta U^\\dagger(k,k') = {delta_U2_pw}\")\n",
    "    \n",
    "    return delta_U_pw + delta_U_dag_pw + delta_U2_pw"
   ]
  },
  {
   "cell_type": "code",
   "execution_count": 16,
   "id": "0d8568ef",
   "metadata": {},
   "outputs": [],
   "source": [
    "# Setting spins and isospins to be compatible for 1S0 and 3S1-3D1 channels\n",
    "sigma_1, sigma_2, sigma_3, sigma_4 = 1/2, -1/2, 1/2, -1/2\n",
    "tau_1, tau_2, tau_3, tau_4 = 1/2, -1/2, 1/2, -1/2"
   ]
  },
  {
   "cell_type": "code",
   "execution_count": 17,
   "id": "1f8a3605",
   "metadata": {},
   "outputs": [],
   "source": [
    "# Get Clebsch-Gordan table\n",
    "cg_table = compute_clebsch_gordan_table(2)"
   ]
  },
  {
   "cell_type": "markdown",
   "id": "206037bf",
   "metadata": {},
   "source": [
    "SMS N$^4$LO 450 MeV in the $^{1}$S$_0$ channel at $\\lambda = 1.35$ fm$^{-1}$"
   ]
  },
  {
   "cell_type": "code",
   "execution_count": 18,
   "id": "624e7d85",
   "metadata": {},
   "outputs": [
    {
     "name": "stdout",
     "output_type": "stream",
     "text": [
      "\\delta U(k,k') = (-0.0005079620057090318+0j)\n",
      "\\delta U^\\dagger(k,k') = (-0.0005079620057090319+0j)\n",
      "\\delta U(k,k') \\delta U^\\dagger(k,k') = (0.0010159079089130598+0j)\n"
     ]
    },
    {
     "data": {
      "text/plain": [
       "(-1.610250500386906e-08+0j)"
      ]
     },
     "execution_count": 18,
     "metadata": {},
     "output_type": "execute_result"
    }
   ],
   "source": [
    "# k = k' = 0.2, \\theta_k = \\theta_k' = 0, \\phi_k = \\phi_k' = 0\n",
    "plane_wave_cancelation(\n",
    "    0.2, 0.0, 0.0, 0.2, 0.0, 0.0, sigma_1, sigma_2, sigma_3, sigma_4, tau_1,\n",
    "    tau_2, tau_3, tau_4, cg_table, 111, '1S0'\n",
    ")"
   ]
  },
  {
   "cell_type": "code",
   "execution_count": 19,
   "id": "051851ed",
   "metadata": {},
   "outputs": [
    {
     "name": "stdout",
     "output_type": "stream",
     "text": [
      "\\delta U(k,k') = (-0.0004562128316819128+0j)\n",
      "\\delta U^\\dagger(k,k') = (0.0002873143787932186+0j)\n",
      "\\delta U(k,k') \\delta U^\\dagger(k,k') = (0.0001688983537514943+0j)\n"
     ]
    },
    {
     "data": {
      "text/plain": [
       "(-9.913719991412259e-11+0j)"
      ]
     },
     "execution_count": 19,
     "metadata": {},
     "output_type": "execute_result"
    }
   ],
   "source": [
    "# k = 0.2, k' = 3.0, \\theta_k = \\theta_k' = 0, \\phi_k = \\phi_k' = 0\n",
    "plane_wave_cancelation(\n",
    "    0.2, 0.0, 0.0, 3.0, 0.0, 0.0, sigma_1, sigma_2, sigma_3, sigma_4, tau_1,\n",
    "    tau_2, tau_3, tau_4, cg_table, 111, '1S0'\n",
    ")"
   ]
  },
  {
   "cell_type": "markdown",
   "id": "e31fb7a9",
   "metadata": {},
   "source": [
    "SMS N$^4$LO 450 MeV in the $^{3}$S$_1$-$^{3}$D$_1$ channel at $\\lambda = 1.35$ fm$^{-1}$"
   ]
  },
  {
   "cell_type": "code",
   "execution_count": 20,
   "id": "6b1f7aca",
   "metadata": {
    "scrolled": false
   },
   "outputs": [
    {
     "name": "stdout",
     "output_type": "stream",
     "text": [
      "\\delta U(k,k') = (-0.003922237905051091+0j)\n",
      "\\delta U^\\dagger(k,k') = (-0.003922237905051092+0j)\n",
      "\\delta U(k,k') \\delta U^\\dagger(k,k') = (0.004337106704421011+0j)\n"
     ]
    },
    {
     "data": {
      "text/plain": [
       "(-0.003507369105681172+0j)"
      ]
     },
     "execution_count": 20,
     "metadata": {},
     "output_type": "execute_result"
    }
   ],
   "source": [
    "# k = k' = 0.2, \\theta_k = \\theta_k' = 0, \\phi_k = \\phi_k' = 0\n",
    "plane_wave_cancelation(\n",
    "    0.2, 0.0, 0.0, 0.2, 0.0, 0.0, sigma_1, sigma_2, sigma_3, sigma_4, tau_1,\n",
    "    tau_2, tau_3, tau_4, cg_table, 111, '3S1'\n",
    ")"
   ]
  },
  {
   "cell_type": "code",
   "execution_count": 21,
   "id": "c669245f",
   "metadata": {},
   "outputs": [
    {
     "name": "stdout",
     "output_type": "stream",
     "text": [
      "\\delta U(k,k') = (-0.00020483086070834656+0j)\n",
      "\\delta U^\\dagger(k,k') = (1.6894144586100608e-05+0j)\n",
      "\\delta U(k,k') \\delta U^\\dagger(k,k') = (0.00016365522630039646+0j)\n"
     ]
    },
    {
     "data": {
      "text/plain": [
       "(-2.4281489821849497e-05+0j)"
      ]
     },
     "execution_count": 21,
     "metadata": {},
     "output_type": "execute_result"
    }
   ],
   "source": [
    "# k = 0.2, k' = 3.0, \\theta_k = \\theta_k' = 0, \\phi_k = \\phi_k' = 0\n",
    "plane_wave_cancelation(\n",
    "    0.2, 0.0, 0.0, 3.0, 0.0, 0.0, sigma_1, sigma_2, sigma_3, sigma_4, tau_1,\n",
    "    tau_2, tau_3, tau_4, cg_table, 111, '3S1'\n",
    ")"
   ]
  },
  {
   "cell_type": "code",
   "execution_count": 22,
   "id": "cdd53137",
   "metadata": {},
   "outputs": [
    {
     "name": "stdout",
     "output_type": "stream",
     "text": [
      "\\delta U(k,k') = (-0.00020483086070834656+0j)\n",
      "\\delta U^\\dagger(k,k') = (1.6894144586100608e-05+0j)\n",
      "\\delta U(k,k') \\delta U^\\dagger(k,k') = (0.00016365522630039646+0j)\n"
     ]
    },
    {
     "data": {
      "text/plain": [
       "(-2.4281489821849497e-05+0j)"
      ]
     },
     "execution_count": 22,
     "metadata": {},
     "output_type": "execute_result"
    }
   ],
   "source": [
    "# k = 0.2, k' = 3.0, \\theta_k = \\pi/4, \\theta_k' = 3*\\pi/4, \\phi_k = 3*\\pi/2, \\phi_k' = \\pi/4\n",
    "plane_wave_cancelation(\n",
    "    0.2, np.pi/4, 3*np.pi/4, 3.0, 3*np.pi/2, np.pi/4, sigma_1, sigma_2, sigma_3,\n",
    "    sigma_4, tau_1, tau_2, tau_3, tau_4, cg_table, 111, '3S1'\n",
    ")"
   ]
  },
  {
   "cell_type": "code",
   "execution_count": null,
   "id": "5bd0012c",
   "metadata": {},
   "outputs": [],
   "source": []
  },
  {
   "cell_type": "code",
   "execution_count": null,
   "id": "91ec5480",
   "metadata": {
    "code_folding": [
     0
    ]
   },
   "outputs": [],
   "source": []
  },
  {
   "cell_type": "code",
   "execution_count": null,
   "id": "fd8d263c",
   "metadata": {
    "code_folding": [
     0
    ]
   },
   "outputs": [],
   "source": []
  },
  {
   "cell_type": "code",
   "execution_count": null,
   "id": "5544fe7f",
   "metadata": {},
   "outputs": [],
   "source": []
  },
  {
   "cell_type": "code",
   "execution_count": null,
   "id": "44f13a97",
   "metadata": {},
   "outputs": [],
   "source": []
  },
  {
   "cell_type": "code",
   "execution_count": null,
   "id": "dd993aad",
   "metadata": {},
   "outputs": [],
   "source": []
  },
  {
   "cell_type": "code",
   "execution_count": null,
   "id": "a75e972e",
   "metadata": {},
   "outputs": [],
   "source": []
  },
  {
   "cell_type": "code",
   "execution_count": null,
   "id": "000ffed9",
   "metadata": {},
   "outputs": [],
   "source": []
  }
 ],
 "metadata": {
  "kernelspec": {
   "display_name": "Python 3 (ipykernel)",
   "language": "python",
   "name": "python3"
  },
  "language_info": {
   "codemirror_mode": {
    "name": "ipython",
    "version": 3
   },
   "file_extension": ".py",
   "mimetype": "text/x-python",
   "name": "python",
   "nbconvert_exporter": "python",
   "pygments_lexer": "ipython3",
   "version": "3.9.13"
  }
 },
 "nbformat": 4,
 "nbformat_minor": 5
}

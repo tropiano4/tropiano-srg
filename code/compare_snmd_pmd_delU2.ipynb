{
 "cells": [
  {
   "cell_type": "markdown",
   "id": "a520d5c5",
   "metadata": {},
   "source": [
    "# Compare the single-nucleon and pair $\\delta U \\delta U^\\dagger$ terms\n",
    "\n",
    "__Author:__ A. J. Tropiano [atropiano@anl.gov]<br/>\n",
    "__Date:__ September 11, 2023\n",
    "\n",
    "Check if the slope is about the same in the $\\delta U \\delta U^\\dagger$ terms (taking $S$-wave channels only) using `vegas` integration\n",
    "\n",
    "_Last update:_ September 11, 2023"
   ]
  },
  {
   "cell_type": "markdown",
   "id": "01964acc",
   "metadata": {},
   "source": [
    "$$\n",
    "n^{\\tau}(\\mathbf{q}) \\sim \\int^{2\\lambda}_0 d\\mathbf{K} \\int^{\\lambda}_0 d\\mathbf{k} \\int^{\\lambda}_0 d\\mathbf{k'}\n",
    "    \\delta U(k,\\lvert \\mathbf{q}-\\mathbf{K}/2 \\rvert) \\delta U^\\dagger(\\lvert \\mathbf{q}-\\mathbf{K}/2 \\rvert, k')\n",
    "$$"
   ]
  },
  {
   "cell_type": "markdown",
   "id": "3eae1b4e",
   "metadata": {},
   "source": [
    "$$\n",
    "n^{\\tau \\tau'}(\\mathbf{q}) \\sim \\int^{2\\lambda}_0 d\\mathbf{Q} \\int^{\\lambda}_0 d\\mathbf{k} \\int^{\\lambda}_0 d\\mathbf{k'} \\delta U(k,q) \\delta U^\\dagger(q, k')\n",
    "$$"
   ]
  },
  {
   "cell_type": "code",
   "execution_count": 1,
   "id": "6e298280",
   "metadata": {},
   "outputs": [],
   "source": [
    "# Python imports\n",
    "from matplotlib.offsetbox import AnchoredText\n",
    "import matplotlib.pyplot as plt\n",
    "%matplotlib inline\n",
    "from numba import njit\n",
    "import numpy as np\n",
    "from numpy.linalg import norm\n",
    "from scipy.interpolate import RectBivariateSpline\n",
    "import time\n",
    "import vegas"
   ]
  },
  {
   "cell_type": "code",
   "execution_count": 2,
   "id": "955aec48",
   "metadata": {},
   "outputs": [],
   "source": [
    "# Imports from scripts\n",
    "from scripts.figures import set_rc_parameters\n",
    "from scripts.integration import (gaussian_quadrature_mesh, momentum_mesh,\n",
    "                                 unattach_weights_from_matrix)\n",
    "from scripts.potentials import Potential\n",
    "from scripts.srg import load_srg_transformation"
   ]
  },
  {
   "cell_type": "code",
   "execution_count": 3,
   "id": "6e01df99",
   "metadata": {},
   "outputs": [],
   "source": [
    "# Run this cell to turn on customized matplotlib graphics\n",
    "set_rc_parameters()"
   ]
  },
  {
   "cell_type": "code",
   "execution_count": 4,
   "id": "3f70756b",
   "metadata": {
    "code_folding": [
     1
    ]
   },
   "outputs": [],
   "source": [
    "@njit\n",
    "def build_vector(k, theta, phi):\n",
    "    \"\"\"\n",
    "    Build a vector from input spherical coordinates.\n",
    "\n",
    "    Parameters\n",
    "    ----------\n",
    "    k : float\n",
    "        Magnitude of the vector.\n",
    "    theta : float\n",
    "        Polar angle of the vector in the range [0, \\pi].\n",
    "    phi : float\n",
    "        Azimuthal angle of the vector in the range [0, 2\\pi].\n",
    "\n",
    "    Returns\n",
    "    -------\n",
    "    k_vector : 1-D ndarray\n",
    "        Output vector with shape (3,1).\n",
    "\n",
    "    \"\"\"\n",
    "\n",
    "    k_vector = np.array([k * np.sin(theta) * np.cos(phi),\n",
    "                         k * np.sin(theta) * np.sin(phi),\n",
    "                         k * np.cos(theta)])\n",
    "\n",
    "    return k_vector"
   ]
  },
  {
   "cell_type": "code",
   "execution_count": 5,
   "id": "64473d37",
   "metadata": {
    "code_folding": [
     1
    ]
   },
   "outputs": [],
   "source": [
    "@njit\n",
    "def get_vector_components(k_vector):\n",
    "    \"\"\"\n",
    "    Get the spherical coordinates from an input vector.\n",
    "\n",
    "    Parameters\n",
    "    ----------\n",
    "    k_vector : 1-D ndarray\n",
    "        Input vector with shape (3,1).\n",
    "\n",
    "    Returns\n",
    "    -------\n",
    "    k : float\n",
    "        Magnitude of the vector.\n",
    "    theta : float\n",
    "        Polar angle of the vector in the range [0, \\pi].\n",
    "    phi : float\n",
    "        Azimuthal angle of the vector in the range [0, 2\\pi].\n",
    "\n",
    "    \"\"\"\n",
    "\n",
    "    k = norm(k_vector)\n",
    "    theta = np.arccos(k_vector[2]/k)\n",
    "    phi = np.arctan2(k_vector[1], k_vector[0])\n",
    "\n",
    "    return k, theta, phi"
   ]
  },
  {
   "cell_type": "code",
   "execution_count": 6,
   "id": "1020a03e",
   "metadata": {
    "code_folding": [
     0
    ]
   },
   "outputs": [],
   "source": [
    "class DeltaUMatrixElement:\n",
    "    \"\"\"DOCSTRING\"\"\"\n",
    "    \n",
    "    def __init__(self, kvnn, kmax, kmid, ntot, generator, lamb):\n",
    "\n",
    "        # Set \\delta U and \\delta U^\\dagger functions\n",
    "        self.get_delta_U_functions(kvnn, kmax, kmid, ntot, generator, lamb)\n",
    "    \n",
    "    \n",
    "    def __call__(self, k, theta_k, phi_k, kp, theta_kp, phi_kp, hc=False):\n",
    "        \"\"\"Sum over partial waves to evaluate \\delta U matrix element in\n",
    "        plane-wave basis.\n",
    "        \"\"\"\n",
    "        \n",
    "        matrix_element = 0\n",
    "        for channel in ['1S0', '3S1-3S1', '3S1-3D1', '3D1-3S1', '3D1-3D1']:\n",
    "            \n",
    "            # \\delta U^\\dagger in partial-wave basis\n",
    "            if hc:\n",
    "                delta_U_partial_wave = self.delUdag_functions[channel].ev(k, kp)\n",
    "            # \\delta U in partial-wave basis\n",
    "            else:\n",
    "                delta_U_partial_wave = self.delU_functions[channel].ev(k, kp)\n",
    "            \n",
    "            matrix_element += delta_U_partial_wave\n",
    "    \n",
    "        return matrix_element\n",
    "    \n",
    "    \n",
    "    def interpolate_delta_U(self, channel, potential, generator, lamb,\n",
    "                            hc=False):\n",
    "        \"\"\"Interpolate \\delta U(k, k') for the given channel.\"\"\"\n",
    "\n",
    "        # Get momentum mesh\n",
    "        kmax, kmid, ntot = potential.kmax, potential.kmid, potential.ntot\n",
    "        k_array, k_weights = momentum_mesh(kmax, kmid, ntot)\n",
    "    \n",
    "        # Get SRG transformation with integration weights [unitless]\n",
    "        U_matrix_weights = load_srg_transformation(potential, generator, lamb)\n",
    "\n",
    "        # Calculate \\delta U = U - I\n",
    "        I_matrix_weights = np.eye(len(U_matrix_weights))\n",
    "        if hc:  # Hermitian conjugate\n",
    "            delU_matrix_weights = (U_matrix_weights - I_matrix_weights).T\n",
    "        else:\n",
    "            delU_matrix_weights = U_matrix_weights - I_matrix_weights\n",
    "\n",
    "        # Get specific sub-block if coupled-channel and unattach weights\n",
    "        if channel in ['3S1-3D1', '3P2-3F2', '3D3-3G3']:\n",
    "            delU_matrix = unattach_weights_from_matrix(\n",
    "                k_array, k_weights, delU_matrix_weights[:ntot,ntot:]\n",
    "            )\n",
    "        elif channel in ['3D1-3S1', '3F2-3P2', '3G3-3D3']:\n",
    "            delU_matrix = unattach_weights_from_matrix(\n",
    "                k_array, k_weights, delU_matrix_weights[ntot:,:ntot]\n",
    "            )\n",
    "        elif channel in ['3D1-3D1', '3F2-3F2', '3G3-3G3']:\n",
    "            delU_matrix = unattach_weights_from_matrix(\n",
    "                k_array, k_weights, delU_matrix_weights[ntot:,ntot:]\n",
    "            )\n",
    "        else:\n",
    "            delU_matrix = unattach_weights_from_matrix(\n",
    "                k_array, k_weights, delU_matrix_weights[:ntot,:ntot]\n",
    "            )\n",
    "        \n",
    "        # Interpolate \\delta U(k, k')\n",
    "        delU_func = RectBivariateSpline(k_array, k_array, delU_matrix)\n",
    "\n",
    "        return delU_func\n",
    "        \n",
    "    \n",
    "    def get_delta_U_functions(self, kvnn, kmax, kmid, ntot, generator, lamb):\n",
    "        \"\"\"Get \\delta U and \\delta U^\\dagger functions.\"\"\"\n",
    "        \n",
    "        self.delU_functions = {}\n",
    "        self.delUdag_functions = {}\n",
    "        \n",
    "        for channel in ['1S0', '3S1-3S1', '3S1-3D1', '3D1-3S1', '3D1-3D1']:\n",
    "            \n",
    "            if channel[:3] == '1S0':\n",
    "                channel_arg = channel\n",
    "            else:\n",
    "                channel_arg = '3S1'\n",
    "                \n",
    "            # Potential in 1S0 partial wave channel\n",
    "            potential = Potential(kvnn, channel_arg, kmax, kmid, ntot)\n",
    "\n",
    "            # Set \\delta U and \\delta U^\\dagger functions\n",
    "            self.delU_functions[channel] = self.interpolate_delta_U(\n",
    "                channel, potential, generator, lamb)\n",
    "            self.delUdag_functions[channel] = self.interpolate_delta_U(\n",
    "                channel, potential, generator, lamb, hc=True)"
   ]
  },
  {
   "cell_type": "code",
   "execution_count": 7,
   "id": "f9b60a77",
   "metadata": {
    "code_folding": [
     0
    ]
   },
   "outputs": [],
   "source": [
    "class SingleNucleonIntegrand:\n",
    "    \"\"\"Evaluates the integrand of the single-nucleon distribution.\"\"\"\n",
    "    \n",
    "    \n",
    "    def __init__(self, q, delta_U_matrix_element):\n",
    "        \n",
    "        # Set instance attributes\n",
    "        self.q = q\n",
    "        self.delta_U_matrix_element = delta_U_matrix_element\n",
    "\n",
    "        \n",
    "    def __call__(self, x_array):\n",
    "        \n",
    "        # Choose z-axis to be along q_vector\n",
    "        q_vector = np.array([0, 0, self.q])\n",
    "        \n",
    "        # Relative momenta k\n",
    "        k, theta_k, phi_k = x_array[0:3]\n",
    "        \n",
    "        # Relative momenta k'\n",
    "        kp, theta_kp, phi_kp = x_array[3:6]\n",
    "        \n",
    "        # C.o.M. momenta K\n",
    "        K, theta_K, phi_K = x_array[6:9]\n",
    "        K_vector = build_vector(K, theta_K, phi_K)\n",
    "\n",
    "        # Calculate vector q - K/2\n",
    "        qK_vector = q_vector - K_vector/2\n",
    "        qK, theta_qK, phi_qK = get_vector_components(qK_vector)\n",
    "\n",
    "        # Calculate the Jacobian determinant\n",
    "        jacobian = (k ** 2 * np.sin(theta_k) * kp ** 2 * np.sin(theta_kp)\n",
    "                    * K ** 2 * np.sin(theta_K))\n",
    "        \n",
    "        # Matrix elements of \\delta U and \\delta U^\\dagger\n",
    "        delta_U = self.delta_U_matrix_element(k, theta_k, phi_k, qK, theta_qK,\n",
    "                                              phi_qK, hc=False)\n",
    "        delta_U_dag = self.delta_U_matrix_element(qK, theta_qK, phi_qK, kp,\n",
    "                                                  theta_kp, phi_kp, hc=True)\n",
    "        \n",
    "        return jacobian * delta_U * delta_U_dag"
   ]
  },
  {
   "cell_type": "code",
   "execution_count": 8,
   "id": "695a3f74",
   "metadata": {
    "code_folding": [
     0
    ]
   },
   "outputs": [],
   "source": [
    "class PairIntegrand:\n",
    "    \"\"\"Evaluates the integrand of the pair distribution.\"\"\"\n",
    "    \n",
    "    \n",
    "    def __init__(self, q, delta_U_matrix_element):\n",
    "        \n",
    "        # Set instance attributes\n",
    "        self.q = q\n",
    "        self.delta_U_matrix_element = delta_U_matrix_element\n",
    "\n",
    "        \n",
    "    def __call__(self, x_array):\n",
    "        \n",
    "        # Choose z-axis to be along q_vector\n",
    "        q_vector = np.array([0, 0, self.q])\n",
    "        \n",
    "        # Relative momenta k\n",
    "        k, theta_k, phi_k = x_array[0:3]\n",
    "        \n",
    "        # Relative momenta k'\n",
    "        kp, theta_kp, phi_kp = x_array[3:6]\n",
    "\n",
    "        # Calculate the Jacobian determinant\n",
    "        jacobian = k ** 2 * np.sin(theta_k) * kp ** 2 * np.sin(theta_kp)\n",
    "        \n",
    "        # Matrix elements of \\delta U and \\delta U^\\dagger\n",
    "        delta_U = self.delta_U_matrix_element(k, theta_k, phi_k, self.q, 0, 0,\n",
    "                                              hc=False)\n",
    "        delta_U_dag = self.delta_U_matrix_element(self.q, 0, 0, kp, theta_kp,\n",
    "                                                  phi_kp, hc=True)\n",
    "        \n",
    "        return jacobian * delta_U * delta_U_dag"
   ]
  },
  {
   "cell_type": "code",
   "execution_count": 9,
   "id": "02d75960",
   "metadata": {
    "code_folding": [
     0
    ]
   },
   "outputs": [],
   "source": [
    "def compute_single_nucleon(q_array, delta_U_matrix_element, neval):\n",
    "    \"\"\"Compute the single-nucleon.\"\"\"\n",
    "\n",
    "    # Relative momenta from 0 to 10 fm^-1\n",
    "    # k_limits = [0, 10]\n",
    "    k_limits = [0, 1.5]\n",
    "    # C.o.M. momenta up to 3 fm^-1\n",
    "    K_limits = [0, 3]\n",
    "    # Polar angle from 0 to \\pi\n",
    "    theta_limits = [0, np.pi]\n",
    "    # Azimuthal angle from 0 to 2\\pi\n",
    "    phi_limits = [0, 2*np.pi]\n",
    "\n",
    "    # Set-up integrator with multiple processors\n",
    "    integ = vegas.Integrator([\n",
    "        k_limits, theta_limits, phi_limits,\n",
    "        k_limits, theta_limits, phi_limits,\n",
    "        K_limits, theta_limits, phi_limits,\n",
    "    ], nproc=1)\n",
    "\n",
    "    # Evaluate the \\delta U + \\delta U^\\dagger term for each q\n",
    "    delta_U2_array = np.zeros_like(q_array)\n",
    "    delta_U2_errors = np.zeros_like(q_array)\n",
    "    for i, q in enumerate(q_array):\n",
    "\n",
    "        integrand = SingleNucleonIntegrand(q, delta_U_matrix_element)\n",
    "        \n",
    "        # Train the integrator\n",
    "        integ(integrand, nitn=5, neval=neval)\n",
    "    \n",
    "        # Final result\n",
    "        result = integ(integrand, nitn=10, neval=neval)\n",
    "        \n",
    "        delta_U2_array[i] = result.mean\n",
    "        delta_U2_errors[i] = result.sdev\n",
    "\n",
    "    return delta_U2_array, delta_U2_errors"
   ]
  },
  {
   "cell_type": "code",
   "execution_count": 10,
   "id": "dce7bd34",
   "metadata": {
    "code_folding": [
     0
    ]
   },
   "outputs": [],
   "source": [
    "def compute_pair(q_array, delta_U_matrix_element, neval):\n",
    "    \"\"\"Compute the single-nucleon.\"\"\"\n",
    "\n",
    "    # Relative momenta from 0 to 10 fm^-1\n",
    "    # k_limits = [0, 10]\n",
    "    k_limits = [0, 1.5]\n",
    "    # Polar angle from 0 to \\pi\n",
    "    theta_limits = [0, np.pi]\n",
    "    # Azimuthal angle from 0 to 2\\pi\n",
    "    phi_limits = [0, 2*np.pi]\n",
    "\n",
    "    # Set-up integrator with multiple processors\n",
    "    # IN A JUPYTER NOTEBOOK YOU HAVE TO USE nproc=1!\n",
    "    integ = vegas.Integrator([\n",
    "        k_limits, theta_limits, phi_limits,\n",
    "        k_limits, theta_limits, phi_limits,\n",
    "    ], nproc=1)\n",
    "\n",
    "    # Evaluate the \\delta U + \\delta U^\\dagger term for each q\n",
    "    delta_U2_array = np.zeros_like(q_array)\n",
    "    delta_U2_errors = np.zeros_like(q_array)\n",
    "    for i, q in enumerate(q_array):\n",
    "\n",
    "        integrand = PairIntegrand(q, delta_U_matrix_element)\n",
    "        \n",
    "        # Train the integrator\n",
    "        integ(integrand, nitn=5, neval=neval)\n",
    "    \n",
    "        # Final result\n",
    "        result = integ(integrand, nitn=10, neval=neval)\n",
    "        \n",
    "        delta_U2_array[i] = result.mean\n",
    "        delta_U2_errors[i] = result.sdev\n",
    "\n",
    "    return delta_U2_array, delta_U2_errors"
   ]
  },
  {
   "cell_type": "code",
   "execution_count": 11,
   "id": "05b0464e",
   "metadata": {
    "code_folding": [
     0
    ]
   },
   "outputs": [],
   "source": [
    "def main(kvnn, q_array, kmax=15.0, kmid=3.0, ntot=120, generator='Wegner',\n",
    "         lamb=1.5, neval=1e3):\n",
    "    \"\"\"Compare the single-nucleon and pair distributions.\"\"\"\n",
    "    \n",
    "    # Initialize \\delta U matrix element class\n",
    "    delta_U_matrix_element = DeltaUMatrixElement(kvnn, kmax, kmid, ntot,\n",
    "                                                 generator, lamb)\n",
    "    \n",
    "    # Compute single-nucleon\n",
    "    t0 = time.time()\n",
    "    snmd_delU2_array, snmd_delU2_errors = compute_single_nucleon(\n",
    "        q_array, delta_U_matrix_element, neval) \n",
    "    t1 = time.time()\n",
    "    mins = (t1-t0)/60\n",
    "    print(f\"Done with single-nucleon after {mins:.5f} minutes.\")\n",
    "    \n",
    "    # Compute pair\n",
    "    t0 = time.time()\n",
    "    pmd_delU2_array, pmd_delU2_errors = compute_pair(\n",
    "        q_array, delta_U_matrix_element, neval)\n",
    "    t1 = time.time()\n",
    "    mins = (t1-t0)/60\n",
    "    print(f\"Done with pair after {mins:.5f} minutes.\")\n",
    "    \n",
    "    # Multiply pair by integration volume of Q_vector\n",
    "    Q_array, Q_weights = gaussian_quadrature_mesh(3.0, 50)\n",
    "    factor = 4*np.pi * np.sum(Q_array ** 2 * Q_weights)\n",
    "    pmd_delU2_array *= factor\n",
    "    pmd_delU2_errors *= factor\n",
    "    \n",
    "    return (snmd_delU2_array, snmd_delU2_errors, pmd_delU2_array,\n",
    "            pmd_delU2_errors)"
   ]
  },
  {
   "cell_type": "code",
   "execution_count": 12,
   "id": "a79eea42",
   "metadata": {},
   "outputs": [
    {
     "name": "stdout",
     "output_type": "stream",
     "text": [
      "Done with single-nucleon after 0.41318 minutes.\n",
      "Done with pair after 0.33928 minutes.\n"
     ]
    }
   ],
   "source": [
    "kvnn = 6\n",
    "# Set points in q\n",
    "qmax, qmid, ntot_q, nmod_q = 10.0, 2.0, 80, 40\n",
    "q_array, _ = momentum_mesh(qmax, qmid, ntot_q, nmod=nmod_q)\n",
    "\n",
    "snmd_delU2_array, snmd_delU2_errors, pmd_delU2_array, pmd_delU2_errors = main(\n",
    "    kvnn, q_array)"
   ]
  },
  {
   "cell_type": "code",
   "execution_count": 13,
   "id": "d064afd4",
   "metadata": {},
   "outputs": [
    {
     "data": {
      "image/png": "[encoded data removed]",
      "text/plain": [
       "<Figure size 600x600 with 1 Axes>"
      ]
     },
     "metadata": {},
     "output_type": "display_data"
    }
   ],
   "source": [
    "# Plot\n",
    "y_limits = (1e-4, 1e5)\n",
    "plt.close('all')\n",
    "f, ax = plt.subplots(figsize=(4, 4))\n",
    "ax.set_yscale('log')\n",
    "ax.errorbar(q_array, snmd_delU2_array, yerr=snmd_delU2_errors,\n",
    "            label='Single-nucleon', linestyle='', marker='o', markersize=1.5)\n",
    "ax.errorbar(q_array, pmd_delU2_array, yerr=pmd_delU2_errors, label='Pair',\n",
    "            linestyle='', marker='o', markersize=1.5)\n",
    "ax.fill_betweenx(y_limits, 0.0, 1.5, alpha=0.3, edgecolor='xkcd:grey',\n",
    "                 facecolor='xkcd:grey')\n",
    "ax.set_xlim(0, 10)\n",
    "ax.set_ylim(y_limits)\n",
    "ax.set_xlabel(r\"$q$ [fm\" + r'$^{-1}$' + ']', fontsize=16)\n",
    "ax.set_ylabel(r\"Integral [fm\" + r'$^{-3}$' + ']', fontsize=16)\n",
    "ax.legend(loc='upper right', fontsize=14, frameon=False)\n",
    "plt.show()"
   ]
  },
  {
   "cell_type": "code",
   "execution_count": null,
   "id": "78f5396d",
   "metadata": {},
   "outputs": [],
   "source": []
  },
  {
   "cell_type": "code",
   "execution_count": null,
   "id": "300f2572",
   "metadata": {},
   "outputs": [],
   "source": []
  }
 ],
 "metadata": {
  "kernelspec": {
   "display_name": "Python 3 (ipykernel)",
   "language": "python",
   "name": "python3"
  },
  "language_info": {
   "codemirror_mode": {
    "name": "ipython",
    "version": 3
   },
   "file_extension": ".py",
   "mimetype": "text/x-python",
   "name": "python",
   "nbconvert_exporter": "python",
   "pygments_lexer": "ipython3",
   "version": "3.9.13"
  }
 },
 "nbformat": 4,
 "nbformat_minor": 5
}

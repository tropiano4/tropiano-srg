{
 "cells": [
  {
   "cell_type": "markdown",
   "id": "ae862f05",
   "metadata": {},
   "source": [
    "# SRC physics\n",
    "\n",
    "__Author:__ A. J. Tropiano [tropiano.4@osu.edu]<br/>\n",
    "__Date:__ April 9, 2021\n",
    "\n",
    "Generates SRC physics figures, based on this paper: A. J. Tropiano, S. K. Bogner, and R. J. Furnstahl, [Phys. Rev. C __104__, 034311 (2021)](https://journals.aps.org/prc/abstract/10.1103/PhysRevC.104.034311).\n",
    "\n",
    "_Last update:_ June 22, 2022"
   ]
  },
  {
   "cell_type": "markdown",
   "id": "f6f2f3ff",
   "metadata": {},
   "source": [
    "__To-do list:__\n",
    "* Get exact deuteron stuff from tropiano-srg-old dmd.py file.\n",
    "* Make $a_2$ function within a script or a method of momentum distributions.\n",
    "  Likewise for the Levinger constant.\n",
    "* Finish functions.\n",
    "* Add markdown to cells in section.\n",
    "* Call functions to generate plots and test.\n",
    "* Add docstrings to functions."
   ]
  },
  {
   "cell_type": "code",
   "execution_count": 2,
   "id": "5d8ebaec",
   "metadata": {},
   "outputs": [],
   "source": [
    "# Python imports\n",
    "from matplotlib.offsetbox import AnchoredText\n",
    "import matplotlib.pyplot as plt\n",
    "%matplotlib inline\n",
    "import numpy as np"
   ]
  },
  {
   "cell_type": "code",
   "execution_count": null,
   "id": "44c39cf4",
   "metadata": {},
   "outputs": [],
   "source": [
    "# Imports from A.T. codes\n",
    "from scripts.figures import set_rc_parameters, line_styles, xkcd_colors\n",
    "from scripts.tools import replace_periods"
   ]
  },
  {
   "cell_type": "markdown",
   "id": "c902e187",
   "metadata": {},
   "source": [
    "## Set-up"
   ]
  },
  {
   "cell_type": "code",
   "execution_count": null,
   "id": "ef1e0677",
   "metadata": {},
   "outputs": [],
   "source": [
    "# Run this cell to turn on customized matplotlib graphics\n",
    "set_rc_parameters()"
   ]
  },
  {
   "cell_type": "code",
   "execution_count": null,
   "id": "cb47dec4",
   "metadata": {},
   "outputs": [],
   "source": [
    "# Save figures in the following directory\n",
    "figures_directory = '../figures/src/'"
   ]
  },
  {
   "cell_type": "markdown",
   "id": "fd685b80",
   "metadata": {},
   "source": [
    "## Plotting functions"
   ]
  },
  {
   "cell_type": "code",
   "execution_count": null,
   "id": "f457d894",
   "metadata": {},
   "outputs": [],
   "source": []
  },
  {
   "cell_type": "code",
   "execution_count": null,
   "id": "4c9fac5a",
   "metadata": {},
   "outputs": [],
   "source": []
  },
  {
   "cell_type": "code",
   "execution_count": null,
   "id": "ca4b83c9",
   "metadata": {},
   "outputs": [],
   "source": []
  },
  {
   "cell_type": "code",
   "execution_count": null,
   "id": "6b3aee61",
   "metadata": {},
   "outputs": [],
   "source": []
  },
  {
   "cell_type": "code",
   "execution_count": null,
   "id": "2b719ea7",
   "metadata": {},
   "outputs": [],
   "source": []
  },
  {
   "cell_type": "code",
   "execution_count": null,
   "id": "0a768e62",
   "metadata": {},
   "outputs": [],
   "source": []
  },
  {
   "cell_type": "markdown",
   "id": "e5c1f9b3",
   "metadata": {},
   "source": [
    "## $^3\\rm{S}_1$ to $^1\\rm{S}_0$ ratio of SRG transformations"
   ]
  },
  {
   "cell_type": "code",
   "execution_count": null,
   "id": "72cae21c",
   "metadata": {},
   "outputs": [],
   "source": []
  },
  {
   "cell_type": "code",
   "execution_count": null,
   "id": "d6dc9c5d",
   "metadata": {},
   "outputs": [],
   "source": []
  },
  {
   "cell_type": "markdown",
   "id": "53d22cbf",
   "metadata": {},
   "source": [
    "## Deuteron bar chart"
   ]
  },
  {
   "cell_type": "code",
   "execution_count": null,
   "id": "c536f3f5",
   "metadata": {},
   "outputs": [],
   "source": []
  },
  {
   "cell_type": "code",
   "execution_count": null,
   "id": "f3062be1",
   "metadata": {},
   "outputs": [],
   "source": []
  },
  {
   "cell_type": "markdown",
   "id": "cfafdead",
   "metadata": {},
   "source": [
    "## Deuteron momentum distribution"
   ]
  },
  {
   "cell_type": "code",
   "execution_count": null,
   "id": "53f4aa33",
   "metadata": {},
   "outputs": [],
   "source": []
  },
  {
   "cell_type": "code",
   "execution_count": null,
   "id": "ee267fe7",
   "metadata": {},
   "outputs": [],
   "source": []
  },
  {
   "cell_type": "markdown",
   "id": "259ba1e4",
   "metadata": {},
   "source": [
    "## Proton momentum distributions"
   ]
  },
  {
   "cell_type": "code",
   "execution_count": null,
   "id": "da36cf51",
   "metadata": {},
   "outputs": [],
   "source": []
  },
  {
   "cell_type": "code",
   "execution_count": null,
   "id": "87a98f72",
   "metadata": {},
   "outputs": [],
   "source": []
  },
  {
   "cell_type": "markdown",
   "id": "27068430",
   "metadata": {},
   "source": [
    "## Pair momentum distribution ratios"
   ]
  },
  {
   "cell_type": "code",
   "execution_count": null,
   "id": "5d655a0e",
   "metadata": {},
   "outputs": [],
   "source": []
  },
  {
   "cell_type": "code",
   "execution_count": null,
   "id": "cc43a0cc",
   "metadata": {},
   "outputs": [],
   "source": []
  },
  {
   "cell_type": "code",
   "execution_count": null,
   "id": "4bffcc26",
   "metadata": {},
   "outputs": [],
   "source": []
  },
  {
   "cell_type": "markdown",
   "id": "1be4826c",
   "metadata": {},
   "source": [
    "## SRC scaling factors $a_2$"
   ]
  },
  {
   "cell_type": "code",
   "execution_count": null,
   "id": "6e9bbb99",
   "metadata": {},
   "outputs": [],
   "source": []
  },
  {
   "cell_type": "code",
   "execution_count": null,
   "id": "81986c27",
   "metadata": {},
   "outputs": [],
   "source": []
  }
 ],
 "metadata": {
  "kernelspec": {
   "display_name": "Python 3 (ipykernel)",
   "language": "python",
   "name": "python3"
  },
  "language_info": {
   "codemirror_mode": {
    "name": "ipython",
    "version": 3
   },
   "file_extension": ".py",
   "mimetype": "text/x-python",
   "name": "python",
   "nbconvert_exporter": "python",
   "pygments_lexer": "ipython3",
   "version": "3.9.7"
  }
 },
 "nbformat": 4,
 "nbformat_minor": 5
}

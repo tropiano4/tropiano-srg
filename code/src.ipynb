{
 "cells": [
  {
   "cell_type": "markdown",
   "id": "ae862f05",
   "metadata": {},
   "source": [
    "# SRC physics\n",
    "\n",
    "__Author:__ A. J. Tropiano [tropiano.4@osu.edu]<br/>\n",
    "__Date:__ April 9, 2021\n",
    "\n",
    "Generates SRC physics figures, based on this paper: A. J. Tropiano, S. K. Bogner, and R. J. Furnstahl, [Phys. Rev. C __104__, 034311 (2021)](https://journals.aps.org/prc/abstract/10.1103/PhysRevC.104.034311).\n",
    "\n",
    "_Last update:_ July 25, 2022"
   ]
  },
  {
   "cell_type": "markdown",
   "id": "f6f2f3ff",
   "metadata": {},
   "source": [
    "__To-do list:__\n",
    "* Get exact deuteron stuff from tropiano-srg-old dmd.py file.\n",
    "* Finish functions.\n",
    "* Add markdown to cells in section.\n",
    "* Add docstrings to functions."
   ]
  },
  {
   "cell_type": "code",
   "execution_count": 2,
   "id": "5d8ebaec",
   "metadata": {},
   "outputs": [],
   "source": [
    "# Python imports\n",
    "from itertools import chain\n",
    "from matplotlib.offsetbox import AnchoredText\n",
    "import matplotlib.pyplot as plt\n",
    "%matplotlib inline\n",
    "import numpy as np"
   ]
  },
  {
   "cell_type": "code",
   "execution_count": null,
   "id": "44c39cf4",
   "metadata": {},
   "outputs": [],
   "source": [
    "# Imports from A.T. codes\n",
    "from scripts.figures import set_rc_parameters, line_styles, xkcd_colors\n",
    "from scripts.tools import replace_periods"
   ]
  },
  {
   "cell_type": "markdown",
   "id": "c902e187",
   "metadata": {},
   "source": [
    "## Set-up"
   ]
  },
  {
   "cell_type": "code",
   "execution_count": null,
   "id": "ef1e0677",
   "metadata": {},
   "outputs": [],
   "source": [
    "# Run this cell to turn on customized matplotlib graphics\n",
    "set_rc_parameters()"
   ]
  },
  {
   "cell_type": "code",
   "execution_count": null,
   "id": "cb47dec4",
   "metadata": {},
   "outputs": [],
   "source": [
    "# Save figures in the following directory\n",
    "figures_directory = '../figures/src/'"
   ]
  },
  {
   "cell_type": "markdown",
   "id": "fd685b80",
   "metadata": {},
   "source": [
    "## Plotting functions"
   ]
  },
  {
   "cell_type": "code",
   "execution_count": null,
   "id": "ebe9a072",
   "metadata": {},
   "outputs": [],
   "source": [
    "def srg_transformation_ratio():\n",
    "    \"\"\"\n",
    "    \"\"\"\n",
    "    return None"
   ]
  },
  {
   "cell_type": "code",
   "execution_count": null,
   "id": "1b734f37",
   "metadata": {
    "code_folding": [
     0
    ]
   },
   "outputs": [],
   "source": [
    "def interleave(*iters):\n",
    "    \"\"\"\n",
    "    Take a set of lists of the same length and interleave them (for deuteron bar chart figures).\n",
    "    \"\"\"\n",
    "    return list(chain(*zip(*iters)))"
   ]
  },
  {
   "cell_type": "code",
   "execution_count": null,
   "id": "d27786e8",
   "metadata": {
    "code_folding": [
     2
    ]
   },
   "outputs": [],
   "source": [
    "# temp.\n",
    "\n",
    "    def n_lambda_exact(self, q, contributions='total'):\n",
    "        \"\"\"\n",
    "        Computes the exact deuteron momentum distribution using the wave\n",
    "        function from the input Hamiltonian. Note, set interp = False to use\n",
    "        this function.\n",
    "\n",
    "        Parameters\n",
    "        ----------\n",
    "        q : float\n",
    "            Momentum value [fm^-1].\n",
    "        contributions : str, optional\n",
    "            Option to return different contributions to the momentum\n",
    "            distribution.\n",
    "            1. Default is 'total' which only returns the total momentum\n",
    "               distribution.\n",
    "            2. Specify 'q_contributions' for I, \\delta U, and \n",
    "               \\delta U \\delta U^\\dagger along with the total.\n",
    "            3. Specify 'partial_wave_ratio' for the ratio of 3S1-3S1 to full\n",
    "               3S1-3D1 along with the absolute total.\n",
    "\n",
    "        Returns\n",
    "        -------\n",
    "        output : float or tuple\n",
    "            Pair momentum distribution [fm^3] evaluated at momentum q\n",
    "            [fm^-1]. (Note, this function will return a tuple of floats if\n",
    "            contributions is not 'total'.)\n",
    "\n",
    "        \"\"\"\n",
    "\n",
    "        # Load deuteron wave function and delta_U_matrix (both unitless)\n",
    "        psi_vector = self.psi\n",
    "        delta_U_matrix = self.delta_U_matrix\n",
    "        \n",
    "        # Load bare momentum projection operator [fm^3]\n",
    "        bare_operator = momentum_projection_operator(q, self.k_array,\n",
    "                        self.k_weights, '3S1', smeared=False)\n",
    "        \n",
    "        # Term 1: 1 * n(q) * 1\n",
    "        term_1 = psi_vector.T @ bare_operator @ psi_vector\n",
    "        \n",
    "        # Term 2: \\deltaU * n(q) * 1\n",
    "        term_deltaU = psi_vector.T @ delta_U_matrix @ bare_operator @ \\\n",
    "                      psi_vector\n",
    "        \n",
    "        # Term 3: 1 * n(q) * \\deltaU^\\dagger = Term 2\n",
    "        term_deltaU *= 2\n",
    "        \n",
    "        # High-q term: \\deltaU * n(q) * \\deltaU^\\dagger\n",
    "        term_deltaU2 = psi_vector.T @ delta_U_matrix @ bare_operator @ \\\n",
    "                        delta_U_matrix.T @ psi_vector\n",
    "                       \n",
    "        if contributions == 'partial_wave_ratio':\n",
    "            \n",
    "            # Length of q_array\n",
    "            ntot = self.ntot\n",
    "            \n",
    "            # 3S1-3S1 only\n",
    "            numerator = abs( psi_vector.T[:ntot] @ ( \\\n",
    "                                 delta_U_matrix[:ntot, :ntot] @ \\\n",
    "                                 bare_operator[:ntot, :ntot] @ \\\n",
    "                                 delta_U_matrix.T[:ntot, :ntot] +\n",
    "                                 delta_U_matrix[:ntot, ntot:] @ \\\n",
    "                                 bare_operator[ntot:, ntot:] @ \\\n",
    "                                 delta_U_matrix.T[ntot:, :ntot] ) @ \\\n",
    "                             psi_vector[:ntot] )\n",
    "                        \n",
    "            # Full 3S1-3D1 taking absolute values \n",
    "            denominator = numerator + \\\n",
    "                          abs( psi_vector.T[:ntot] @ ( \\\n",
    "                                   delta_U_matrix[:ntot, :ntot] @ \\\n",
    "                                   bare_operator[:ntot, :ntot] @ \\\n",
    "                                   delta_U_matrix.T[:ntot, ntot:] +\n",
    "                                   delta_U_matrix[:ntot, ntot:] @ \\\n",
    "                                   bare_operator[ntot:, ntot:] @ \\\n",
    "                                   delta_U_matrix.T[ntot:, ntot:] ) @ \\\n",
    "                               psi_vector[ntot:] ) + \\\n",
    "                          abs( psi_vector.T[ntot:] @ ( \\\n",
    "                                   delta_U_matrix[ntot:, :ntot] @ \\\n",
    "                                   bare_operator[:ntot, :ntot] @ \\\n",
    "                                   delta_U_matrix.T[:ntot, :ntot] +\n",
    "                                   delta_U_matrix[ntot:, ntot:] @ \\\n",
    "                                   bare_operator[ntot:, ntot:] @ \\\n",
    "                                   delta_U_matrix.T[ntot:, :ntot] ) @ \\\n",
    "                               psi_vector[:ntot] ) + \\\n",
    "                          abs( psi_vector.T[ntot:] @ ( \\\n",
    "                                   delta_U_matrix[ntot:, :ntot] @ \\\n",
    "                                   bare_operator[:ntot, :ntot] @ \\\n",
    "                                   delta_U_matrix.T[:ntot, ntot:] +\n",
    "                                   delta_U_matrix[ntot:, ntot:] @ \\\n",
    "                                   bare_operator[ntot:, ntot:] @ \\\n",
    "                                   delta_U_matrix.T[ntot:, ntot:] ) @ \\\n",
    "                               psi_vector[ntot:] )\n",
    "                                   \n",
    "        # Add up each term for total\n",
    "        total = term_1 + term_deltaU + term_deltaU2\n",
    "\n",
    "        # Return contributions and total or just total\n",
    "        if contributions == 'q_contributions':\n",
    "            return total, term_1, term_deltaU, term_deltaU2\n",
    "        elif contributions == 'partial_wave_ratio':\n",
    "            return total, numerator/denominator\n",
    "        else: # Default\n",
    "            return total"
   ]
  },
  {
   "cell_type": "code",
   "execution_count": null,
   "id": "62372bfe",
   "metadata": {},
   "outputs": [],
   "source": [
    "def deuteron_channel_contributions():\n",
    "    \"\"\"\n",
    "    \"\"\"\n",
    "    return None"
   ]
  },
  {
   "cell_type": "code",
   "execution_count": null,
   "id": "4c9fac5a",
   "metadata": {},
   "outputs": [],
   "source": [
    "def deuteron_momentum_distribution_contributions():\n",
    "    \"\"\"\n",
    "    \"\"\"\n",
    "    return None"
   ]
  },
  {
   "cell_type": "code",
   "execution_count": null,
   "id": "ca4b83c9",
   "metadata": {},
   "outputs": [],
   "source": [
    "def factorization_ratios():\n",
    "    \"\"\"\n",
    "    \"\"\"\n",
    "    return None"
   ]
  },
  {
   "cell_type": "code",
   "execution_count": null,
   "id": "6b3aee61",
   "metadata": {},
   "outputs": [],
   "source": [
    "def plot_snmd():\n",
    "    \"\"\"\n",
    "    \"\"\"\n",
    "    return None"
   ]
  },
  {
   "cell_type": "code",
   "execution_count": null,
   "id": "16b2aaea",
   "metadata": {},
   "outputs": [],
   "source": [
    "def plot_multiple_snmd():\n",
    "    \"\"\"\n",
    "    \"\"\"\n",
    "    return None"
   ]
  },
  {
   "cell_type": "code",
   "execution_count": null,
   "id": "2b719ea7",
   "metadata": {},
   "outputs": [],
   "source": [
    "def plot_snmd_tails():\n",
    "    \"\"\"\n",
    "    \"\"\"\n",
    "    return None"
   ]
  },
  {
   "cell_type": "code",
   "execution_count": null,
   "id": "ed640765",
   "metadata": {},
   "outputs": [],
   "source": [
    "def snmd_partial_wave_contributions():\n",
    "    \"\"\"\n",
    "    \"\"\"\n",
    "    return None"
   ]
  },
  {
   "cell_type": "code",
   "execution_count": null,
   "id": "0a768e62",
   "metadata": {},
   "outputs": [],
   "source": [
    "def proton_over_neutron_pmd_ratios():\n",
    "    \"\"\"\n",
    "    \"\"\"\n",
    "    return None"
   ]
  },
  {
   "cell_type": "code",
   "execution_count": null,
   "id": "26953bc1",
   "metadata": {},
   "outputs": [],
   "source": [
    "def pp_over_pn_pmd_ratios():\n",
    "    \"\"\"\n",
    "    \"\"\"\n",
    "    return None"
   ]
  },
  {
   "cell_type": "code",
   "execution_count": null,
   "id": "a7f16c98",
   "metadata": {},
   "outputs": [],
   "source": [
    "def plot_src_scaling_factors():\n",
    "    \"\"\"\n",
    "    \"\"\"\n",
    "    return None"
   ]
  },
  {
   "cell_type": "markdown",
   "id": "e5c1f9b3",
   "metadata": {},
   "source": [
    "## $^3\\rm{S}_1$ to $^1\\rm{S}_0$ ratio of SRG transformations"
   ]
  },
  {
   "cell_type": "code",
   "execution_count": null,
   "id": "72cae21c",
   "metadata": {},
   "outputs": [],
   "source": []
  },
  {
   "cell_type": "code",
   "execution_count": null,
   "id": "d6dc9c5d",
   "metadata": {},
   "outputs": [],
   "source": []
  },
  {
   "cell_type": "markdown",
   "id": "53d22cbf",
   "metadata": {},
   "source": [
    "## Deuteron bar chart"
   ]
  },
  {
   "cell_type": "code",
   "execution_count": null,
   "id": "c536f3f5",
   "metadata": {},
   "outputs": [],
   "source": []
  },
  {
   "cell_type": "code",
   "execution_count": null,
   "id": "f3062be1",
   "metadata": {},
   "outputs": [],
   "source": []
  },
  {
   "cell_type": "markdown",
   "id": "cfafdead",
   "metadata": {},
   "source": [
    "## Deuteron momentum distribution"
   ]
  },
  {
   "cell_type": "code",
   "execution_count": null,
   "id": "53f4aa33",
   "metadata": {},
   "outputs": [],
   "source": []
  },
  {
   "cell_type": "code",
   "execution_count": null,
   "id": "ee267fe7",
   "metadata": {},
   "outputs": [],
   "source": []
  },
  {
   "cell_type": "markdown",
   "id": "259ba1e4",
   "metadata": {},
   "source": [
    "## Proton momentum distributions"
   ]
  },
  {
   "cell_type": "code",
   "execution_count": null,
   "id": "da36cf51",
   "metadata": {},
   "outputs": [],
   "source": []
  },
  {
   "cell_type": "code",
   "execution_count": null,
   "id": "87a98f72",
   "metadata": {},
   "outputs": [],
   "source": []
  },
  {
   "cell_type": "markdown",
   "id": "27068430",
   "metadata": {},
   "source": [
    "## Pair momentum distribution ratios"
   ]
  },
  {
   "cell_type": "code",
   "execution_count": null,
   "id": "5d655a0e",
   "metadata": {},
   "outputs": [],
   "source": []
  },
  {
   "cell_type": "code",
   "execution_count": null,
   "id": "cc43a0cc",
   "metadata": {},
   "outputs": [],
   "source": []
  },
  {
   "cell_type": "code",
   "execution_count": null,
   "id": "4bffcc26",
   "metadata": {},
   "outputs": [],
   "source": []
  },
  {
   "cell_type": "markdown",
   "id": "1be4826c",
   "metadata": {},
   "source": [
    "## SRC scaling factors $a_2$"
   ]
  },
  {
   "cell_type": "code",
   "execution_count": null,
   "id": "6e9bbb99",
   "metadata": {},
   "outputs": [],
   "source": []
  },
  {
   "cell_type": "code",
   "execution_count": null,
   "id": "81986c27",
   "metadata": {},
   "outputs": [],
   "source": []
  }
 ],
 "metadata": {
  "kernelspec": {
   "display_name": "Python 3 (ipykernel)",
   "language": "python",
   "name": "python3"
  },
  "language_info": {
   "codemirror_mode": {
    "name": "ipython",
    "version": 3
   },
   "file_extension": ".py",
   "mimetype": "text/x-python",
   "name": "python",
   "nbconvert_exporter": "python",
   "pygments_lexer": "ipython3",
   "version": "3.9.7"
  }
 },
 "nbformat": 4,
 "nbformat_minor": 5
}

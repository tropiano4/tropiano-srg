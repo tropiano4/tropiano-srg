{
 "cells": [
  {
   "cell_type": "markdown",
   "id": "ae862f05",
   "metadata": {},
   "source": [
    "# SRC physics\n",
    "\n",
    "__Author:__ A. J. Tropiano [tropiano.4@osu.edu]<br/>\n",
    "__Date:__ April 9, 2021\n",
    "\n",
    "Generates SRC physics figures based on this paper: A. J. Tropiano, S. K. Bogner, and R. J. Furnstahl, [Phys. Rev. C __104__, 034311 (2021)](https://journals.aps.org/prc/abstract/10.1103/PhysRevC.104.034311).\n",
    "\n",
    "_Last update:_ July 26, 2022"
   ]
  },
  {
   "cell_type": "markdown",
   "id": "f6f2f3ff",
   "metadata": {},
   "source": [
    "__To-do list:__\n",
    "* Finish functions:\n",
    "7. Data\n",
    "8. Plot/initial and final features\n",
    "9. Axes limits\n",
    "10. Axes labels\n",
    "11. Partial wave contributions table\n",
    "12. Bar chart figure\n",
    "* Add markdown to cells in section.\n",
    "* Add docstrings to functions.\n",
    "* Check imports."
   ]
  },
  {
   "cell_type": "code",
   "execution_count": 2,
   "id": "5d8ebaec",
   "metadata": {},
   "outputs": [],
   "source": [
    "# Python imports\n",
    "from itertools import chain\n",
    "from matplotlib.offsetbox import AnchoredText\n",
    "import matplotlib.pyplot as plt\n",
    "%matplotlib inline\n",
    "import numpy as np"
   ]
  },
  {
   "cell_type": "code",
   "execution_count": null,
   "id": "44c39cf4",
   "metadata": {},
   "outputs": [],
   "source": [
    "# Imports from A.T. codes\n",
    "from scripts.figures import (\n",
    "    set_rc_parameters, line_styles, xkcd_colors, label_lambda\n",
    ")\n",
    "from scripts.tools import replace_periods"
   ]
  },
  {
   "cell_type": "markdown",
   "id": "c902e187",
   "metadata": {},
   "source": [
    "## Set-up"
   ]
  },
  {
   "cell_type": "code",
   "execution_count": null,
   "id": "ef1e0677",
   "metadata": {},
   "outputs": [],
   "source": [
    "# Run this cell to turn on customized matplotlib graphics\n",
    "set_rc_parameters()"
   ]
  },
  {
   "cell_type": "code",
   "execution_count": null,
   "id": "cb47dec4",
   "metadata": {},
   "outputs": [],
   "source": [
    "# Save figures in the following directory\n",
    "figures_directory = '../figures/src/'"
   ]
  },
  {
   "cell_type": "markdown",
   "id": "fd685b80",
   "metadata": {},
   "source": [
    "## Plotting functions"
   ]
  },
  {
   "cell_type": "code",
   "execution_count": null,
   "id": "ebe9a072",
   "metadata": {
    "code_folding": [
     0
    ]
   },
   "outputs": [],
   "source": [
    "def srg_transformation_ratio(\n",
    "        k_0, kvnns, lamb, kmax=15.0, kmid=3.0, ntot=120, x_limits=(0,4),\n",
    "        y_limits=(1e0,1e3), xlabel_size=16, ylabel_size=16, ratio_label=True,\n",
    "        save=False):\n",
    "    \"\"\"\n",
    "    \"\"\"\n",
    "    \n",
    "    # --- Figure set-up --- #\n",
    "    plt.close('all')\n",
    "    f, ax = plt.subplots(figsize=(4,4))\n",
    "    \n",
    "    # --- Legend --- #\n",
    "    ax.legend(loc='lower left', fontsize=13, frameon=True)\n",
    "    \n",
    "    # --- Additional labels --- #\n",
    "    if ratio_label:  # Label 3S1/1S0\n",
    "        ax.add_artist(\n",
    "            AnchoredText(r'$\\frac{^3{\\rm S}_1}{^{1}{\\rm S}_0}$',\n",
    "                         loc='upper right', prop=dict(size=24), frameon=False)\n",
    "        )\n",
    "\n",
    "    # --- Save file --- #\n",
    "    if save:\n",
    "        file_name = f'srg_transformation_ratio_k_0_{k_0}_kvnns'\n",
    "        for ikvnn in kvnns:\n",
    "            file_name += f'_{ikvnn}'\n",
    "        file_name += f'_lamb_{lamb}_kmax_{kmax}_kmid_{kmid}_ntot_{ntot}'\n",
    "        file_name = replace_periods(file_name) + '.png'\n",
    "        f.savefig(figures_directory + file_name)"
   ]
  },
  {
   "cell_type": "code",
   "execution_count": null,
   "id": "1b734f37",
   "metadata": {
    "code_folding": [
     0
    ]
   },
   "outputs": [],
   "source": [
    "def interleave(*iters):\n",
    "    \"\"\"\n",
    "    Take a set of lists of the same length and interleave them.\n",
    "    \"\"\"\n",
    "    return list(chain(*zip(*iters)))"
   ]
  },
  {
   "cell_type": "code",
   "execution_count": null,
   "id": "d27786e8",
   "metadata": {
    "code_folding": [
     2
    ]
   },
   "outputs": [],
   "source": [
    "# temp.\n",
    "\n",
    "    def n_lambda_exact(self, q, contributions='total'):\n",
    "        \"\"\"\n",
    "        Computes the exact deuteron momentum distribution using the wave\n",
    "        function from the input Hamiltonian. Note, set interp = False to use\n",
    "        this function.\n",
    "\n",
    "        Parameters\n",
    "        ----------\n",
    "        q : float\n",
    "            Momentum value [fm^-1].\n",
    "        contributions : str, optional\n",
    "            Option to return different contributions to the momentum\n",
    "            distribution.\n",
    "            1. Default is 'total' which only returns the total momentum\n",
    "               distribution.\n",
    "            2. Specify 'q_contributions' for I, \\delta U, and \n",
    "               \\delta U \\delta U^\\dagger along with the total.\n",
    "            3. Specify 'partial_wave_ratio' for the ratio of 3S1-3S1 to full\n",
    "               3S1-3D1 along with the absolute total.\n",
    "\n",
    "        Returns\n",
    "        -------\n",
    "        output : float or tuple\n",
    "            Pair momentum distribution [fm^3] evaluated at momentum q\n",
    "            [fm^-1]. (Note, this function will return a tuple of floats if\n",
    "            contributions is not 'total'.)\n",
    "\n",
    "        \"\"\"\n",
    "\n",
    "        # Load deuteron wave function and delta_U_matrix (both unitless)\n",
    "        psi_vector = self.psi\n",
    "        delta_U_matrix = self.delta_U_matrix\n",
    "        \n",
    "        # Load bare momentum projection operator [fm^3]\n",
    "        bare_operator = momentum_projection_operator(q, self.k_array,\n",
    "                        self.k_weights, '3S1', smeared=False)\n",
    "        \n",
    "        # Term 1: 1 * n(q) * 1\n",
    "        term_1 = psi_vector.T @ bare_operator @ psi_vector\n",
    "        \n",
    "        # Term 2: \\deltaU * n(q) * 1\n",
    "        term_deltaU = psi_vector.T @ delta_U_matrix @ bare_operator @ \\\n",
    "                      psi_vector\n",
    "        \n",
    "        # Term 3: 1 * n(q) * \\deltaU^\\dagger = Term 2\n",
    "        term_deltaU *= 2\n",
    "        \n",
    "        # High-q term: \\deltaU * n(q) * \\deltaU^\\dagger\n",
    "        term_deltaU2 = psi_vector.T @ delta_U_matrix @ bare_operator @ \\\n",
    "                        delta_U_matrix.T @ psi_vector\n",
    "                       \n",
    "        if contributions == 'partial_wave_ratio':\n",
    "            \n",
    "            # Length of q_array\n",
    "            ntot = self.ntot\n",
    "            \n",
    "            # 3S1-3S1 only\n",
    "            numerator = abs( psi_vector.T[:ntot] @ ( \\\n",
    "                                 delta_U_matrix[:ntot, :ntot] @ \\\n",
    "                                 bare_operator[:ntot, :ntot] @ \\\n",
    "                                 delta_U_matrix.T[:ntot, :ntot] +\n",
    "                                 delta_U_matrix[:ntot, ntot:] @ \\\n",
    "                                 bare_operator[ntot:, ntot:] @ \\\n",
    "                                 delta_U_matrix.T[ntot:, :ntot] ) @ \\\n",
    "                             psi_vector[:ntot] )\n",
    "                        \n",
    "            # Full 3S1-3D1 taking absolute values \n",
    "            denominator = numerator + \\\n",
    "                          abs( psi_vector.T[:ntot] @ ( \\\n",
    "                                   delta_U_matrix[:ntot, :ntot] @ \\\n",
    "                                   bare_operator[:ntot, :ntot] @ \\\n",
    "                                   delta_U_matrix.T[:ntot, ntot:] +\n",
    "                                   delta_U_matrix[:ntot, ntot:] @ \\\n",
    "                                   bare_operator[ntot:, ntot:] @ \\\n",
    "                                   delta_U_matrix.T[ntot:, ntot:] ) @ \\\n",
    "                               psi_vector[ntot:] ) + \\\n",
    "                          abs( psi_vector.T[ntot:] @ ( \\\n",
    "                                   delta_U_matrix[ntot:, :ntot] @ \\\n",
    "                                   bare_operator[:ntot, :ntot] @ \\\n",
    "                                   delta_U_matrix.T[:ntot, :ntot] +\n",
    "                                   delta_U_matrix[ntot:, ntot:] @ \\\n",
    "                                   bare_operator[ntot:, ntot:] @ \\\n",
    "                                   delta_U_matrix.T[ntot:, :ntot] ) @ \\\n",
    "                               psi_vector[:ntot] ) + \\\n",
    "                          abs( psi_vector.T[ntot:] @ ( \\\n",
    "                                   delta_U_matrix[ntot:, :ntot] @ \\\n",
    "                                   bare_operator[:ntot, :ntot] @ \\\n",
    "                                   delta_U_matrix.T[:ntot, ntot:] +\n",
    "                                   delta_U_matrix[ntot:, ntot:] @ \\\n",
    "                                   bare_operator[ntot:, ntot:] @ \\\n",
    "                                   delta_U_matrix.T[ntot:, ntot:] ) @ \\\n",
    "                               psi_vector[ntot:] )\n",
    "                                   \n",
    "        # Add up each term for total\n",
    "        total = term_1 + term_deltaU + term_deltaU2\n",
    "\n",
    "        # Return contributions and total or just total\n",
    "        if contributions == 'q_contributions':\n",
    "            return total, term_1, term_deltaU, term_deltaU2\n",
    "        elif contributions == 'partial_wave_ratio':\n",
    "            return total, numerator/denominator\n",
    "        else: # Default\n",
    "            return total"
   ]
  },
  {
   "cell_type": "code",
   "execution_count": null,
   "id": "62372bfe",
   "metadata": {
    "code_folding": [
     0
    ]
   },
   "outputs": [],
   "source": [
    "def deuteron_channel_contributions_bar_chart():\n",
    "    \"\"\"\n",
    "    \"\"\"\n",
    "    return None"
   ]
  },
  {
   "cell_type": "code",
   "execution_count": null,
   "id": "4c9fac5a",
   "metadata": {
    "code_folding": [
     0
    ]
   },
   "outputs": [],
   "source": [
    "def deuteron_momentum_distribution_contributions(\n",
    "        kvnn, lamb, kmax=15.0, kmid=3.0, ntot=120, number_of_curves=4,\n",
    "        x_limits=(0, 4), y_limits=(1e-5, 1e3), xlabel_size=16, ylabel_size=16,\n",
    "        save=False):\n",
    "    \"\"\"\n",
    "    \"\"\"\n",
    "    \n",
    "    # --- Figure set-up --- #\n",
    "    plt.close('all')\n",
    "    f, ax = plt.subplots(figsize=(4,4))\n",
    "    \n",
    "    # --- Legend --- #\n",
    "    ax.legend(loc='upper right', fontsize=14, frameon=False)\n",
    "    \n",
    "    # --- Save file --- #\n",
    "    if save:\n",
    "        file_name = ('deuteron_momentum_distribution_contributions_kvnn_'\n",
    "                     f'{kvnn}_lamb_{lamb}_kmax_{kmax}_kmid_{kmid}_ntot_{ntot}'\n",
    "                     f'number_of_curves_{number_of_curves}')\n",
    "        file_name = replace_periods(file_name) + '.png'\n",
    "        f.savefig(figures_directory + file_name)"
   ]
  },
  {
   "cell_type": "code",
   "execution_count": null,
   "id": "ca4b83c9",
   "metadata": {
    "code_folding": [
     0
    ]
   },
   "outputs": [],
   "source": [
    "def factorization_ratios(\n",
    "        k_0, k_i_values, kvnn, channel, lamb, kmax=15.0, kmid=3.0, ntot=120,\n",
    "        x_limits=(0, 5), y_limits=(1e-1, 1e1), xlabel_size=16, ylabel_size=16,\n",
    "        k0_lamb_label=True, save=False):\n",
    "    \"\"\"\n",
    "    \"\"\"\n",
    "    \n",
    "    # --- Figure set-up --- #\n",
    "    plt.close('all')\n",
    "    f, ax = plt.subplots(figsize=(4,4))\n",
    "    \n",
    "    # --- Legend --- #\n",
    "    ax.legend(loc='upper right', fontsize=11, frameon=False)\n",
    "    \n",
    "    # --- Additional labels --- #\n",
    "    if k0_lamb_label:  # Label k_0 and \\lambda\n",
    "        k_0_label = rf'$k_0={k_0}$' + ' fm' + r'$^{-1}$'\n",
    "        lambda_label = label_lambda(lamb)\n",
    "        ax.add_artist(\n",
    "            AnchoredText(k_0_label + '\\n' + lambda_label, loc='lower right',\n",
    "                         prop=dict(size=11), frameon=False)\n",
    "        )\n",
    "\n",
    "    # --- Save file --- #\n",
    "    if save:\n",
    "        file_name = f'delU_factorization_ratios_k0_{k_0}_ki'\n",
    "        for k_i in k_i_values:\n",
    "            file_name += f'_{k_i}'\n",
    "        file_name += (f'_{kvnn}_{channel}_lamb_{lamb}_kmax_{kmax}_kmid_{kmid}'\n",
    "                      f'_ntot_{ntot}')\n",
    "        file_name = replace_periods(file_name) + '.png'\n",
    "        f.savefig(figures_directory + file_name)"
   ]
  },
  {
   "cell_type": "code",
   "execution_count": null,
   "id": "6b3aee61",
   "metadata": {
    "code_folding": [
     0
    ]
   },
   "outputs": [],
   "source": [
    "def plot_snmd(\n",
    "        nucleon, nucleus_name, kvnn, channels=('1S0','3S1'), kmax=15.0,\n",
    "        kmid=3.0, ntot=120, generator='Wegner', lamb=1.35, density='SLy4',\n",
    "        x_limits=(0,6), y_limits=(4e-4,3e2), xlabel_size=16, ylabel_size=16,\n",
    "        show_low_q=False, save=False):\n",
    "    \"\"\"\n",
    "    \"\"\"\n",
    "    \n",
    "    # --- Figure set-up --- #\n",
    "    plt.close('all')\n",
    "    f, ax = plt.subplots(figsize=(4,4))\n",
    "    \n",
    "    # --- Plot final features --- #\n",
    "    \n",
    "    # --- Legend --- #\n",
    "    ax.legend(loc='upper right', fontsize=16, frameon=False)\n",
    "    \n",
    "    # --- Save file --- #\n",
    "    if save:\n",
    "        file_name = (f'{nucleon}_momentum_distribution_{nucleus_name}'\n",
    "                     f'_kvnn_{kvnn}')\n",
    "        for ichannel in channels:\n",
    "            file_name += f'_{ichannel}'\n",
    "        file_name += (f'_kmax_{kmax}_kmid_{kmid}_ntot_{ntot}_{generator}_lamb'\n",
    "                      f'_{lamb}_{density}')\n",
    "        file_name = replace_periods(file_name) + '.png'\n",
    "        f.savefig(figures_directory + file_name)"
   ]
  },
  {
   "cell_type": "code",
   "execution_count": null,
   "id": "16b2aaea",
   "metadata": {
    "code_folding": [
     0
    ]
   },
   "outputs": [],
   "source": [
    "def plot_multiple_snmd(\n",
    "        nucleon, nuclei, kvnn, channels=('1S0','3S1'), kmax=15.0, kmid=3.0,\n",
    "        ntot=120, generator='Wegner', lamb=1.35, density='SLy4',\n",
    "        x_limits=(2,6), y_limits=(4e-4,3e2), xlabel_size=16, ylabel_size=16,\n",
    "        show_low_q=False, save=False):\n",
    "    \"\"\"\n",
    "    \"\"\"\n",
    "    \n",
    "    # --- Figure set-up --- #\n",
    "    plt.close('all')\n",
    "    col_number = len(nuclei)\n",
    "    f, axs = plt.subplots(1, col_number, sharex=True, sharey=True,\n",
    "                          figsize=(4*col_number,4))\n",
    "    \n",
    "    # --- Plot final features --- #\n",
    "    \n",
    "    # --- Adjust axes --- #\n",
    "    # Amount of white space in-between sub-plots\n",
    "    f.subplots_adjust(wspace=0.05)\n",
    "    \n",
    "    # --- Legend --- #\n",
    "    ax.legend(loc='upper right', fontsize=14, frameon=False)\n",
    "    \n",
    "    # --- Save file --- #\n",
    "    if save:\n",
    "        file_name = f'{nucleon}_momentum_distributions'\n",
    "        for inucleus in nuclei:\n",
    "            file_name += f'_{inucleus[0]}'\n",
    "        file_name += f'_kvnn_{kvnn}'\n",
    "        for ichannel in channels:\n",
    "            file_name += f'_{ichannel}'\n",
    "        file_name += (f'_kmax_{kmax}_kmid_{kmid}_ntot_{ntot}_{generator}_lamb'\n",
    "                      f'_{lamb}_{density}')\n",
    "        file_name = replace_periods(file_name) + '.png'\n",
    "        f.savefig(figures_directory + file_name)"
   ]
  },
  {
   "cell_type": "code",
   "execution_count": null,
   "id": "2b719ea7",
   "metadata": {
    "code_folding": [
     0
    ]
   },
   "outputs": [],
   "source": [
    "def plot_snmd_tails(\n",
    "        nucleon, nuclei, kvnn, channels=('1S0','3S1'), kmax=15.0, kmid=3.0,\n",
    "        ntot=120, generator='Wegner', lamb=1.35, density='SLy4',\n",
    "        x_limits=(1.5,6.0), y_limits=(1e-3,1e0), xlabel_size=16,\n",
    "        ylabel_size=16, save=False):\n",
    "    \"\"\"\n",
    "    \"\"\"\n",
    "    \n",
    "    # --- Figure set-up --- #\n",
    "    plt.close('all')\n",
    "    f, ax = plt.subplots(figsize=(4,4))\n",
    "    \n",
    "    # --- Legend --- #\n",
    "    ax.legend(loc='upper right', fontsize=13, frameon=False)\n",
    "    \n",
    "    # --- Save file --- #\n",
    "    if save:\n",
    "        file_name = f'{nucleon}_momentum_distribution_tails'\n",
    "        for inucleus in nuclei:\n",
    "            file_name += f'_{inucleus[0]}'\n",
    "        file_name += f'_kvnn_{kvnn}'\n",
    "        for ichannel in channels:\n",
    "            file_name += f'_{ichannel}'\n",
    "        file_name += (f'_kmax_{kmax}_kmid_{kmid}_ntot_{ntot}_{generator}_lamb'\n",
    "                      f'_{lamb}_{density}')\n",
    "        file_name = replace_periods(file_name) + '.png'\n",
    "        f.savefig(figures_directory + file_name)"
   ]
  },
  {
   "cell_type": "code",
   "execution_count": null,
   "id": "ed640765",
   "metadata": {
    "code_folding": [
     0
    ]
   },
   "outputs": [],
   "source": [
    "def snmd_partial_wave_contributions(\n",
    "        nucleon, nuclei, kvnn, channels=('1S0','3S1'), kmax=15.0, kmid=3.0,\n",
    "        ntot=120, generator='Wegner', lamb=1.35, density='SLy4'):\n",
    "    \"\"\"\n",
    "    \"\"\"\n",
    "    return None"
   ]
  },
  {
   "cell_type": "code",
   "execution_count": null,
   "id": "0a768e62",
   "metadata": {
    "code_folding": [
     0
    ]
   },
   "outputs": [],
   "source": [
    "def proton_over_neutron_pmd_ratios(\n",
    "        nuclei, kvnn, channels=('1S0','3S1'), kmax=15.0, kmid=3.0,\n",
    "        ntot=120, generator='Wegner', lamb=1.35, density='SLy4',\n",
    "        x_limits=(1.5,4), y_limits=(0.82,1.15), xlabel_size=16,\n",
    "        ylabel_size=16, ratio_label=True, save=False):\n",
    "    \"\"\"\n",
    "    \"\"\"\n",
    "    \n",
    "    # --- Figure set-up --- #\n",
    "    plt.close('all')\n",
    "    f, ax = plt.subplots(figsize=(4,4))\n",
    "    \n",
    "    # --- Legend --- #\n",
    "    ax.legend(loc='upper right', fontsize=12, frameon=False, ncol=2)\n",
    "    \n",
    "    # --- Additional labels --- #\n",
    "    if ratio_label:  # Label (pp+pn)/(nn+np)\n",
    "        ax.add_artist(\n",
    "            AnchoredText(r'$\\frac{pp+pn}{nn+np}$', loc='lower left',\n",
    "                         prop=dict(size=24), frameon=False)\n",
    "        )\n",
    "    \n",
    "    # --- Save file --- #\n",
    "    if save:\n",
    "        file_name = 'proton_over_neutron_pmd_ratios'\n",
    "        for inucleus in nuclei:\n",
    "            file_name += f'_{inucleus[0]}'\n",
    "        file_name += f'_kvnn_{kvnn}'\n",
    "        for ichannel in channels:\n",
    "            file_name += f'_{ichannel}'\n",
    "        file_name += (f'_kmax_{kmax}_kmid_{kmid}_ntot_{ntot}_{generator}_lamb'\n",
    "                      f'_{lamb}_{density}')\n",
    "        file_name = replace_periods(file_name) + '.png'\n",
    "        f.savefig(figures_directory + file_name)"
   ]
  },
  {
   "cell_type": "code",
   "execution_count": null,
   "id": "26953bc1",
   "metadata": {
    "code_folding": [
     0
    ]
   },
   "outputs": [],
   "source": [
    "def pp_over_pn_pmd_ratios(\n",
    "        nuclei, kvnn, channels=('1S0','3S1'), kmax=15.0, kmid=3.0,\n",
    "        ntot=120, generator='Wegner', lamb=1.35, density='SLy4',\n",
    "        x_limits=(1.5,4), y_limits=(-0.01,0.25), xlabel_size=16,\n",
    "        ylabel_size=16, ratio_label=True, save=False):\n",
    "    \"\"\"\n",
    "    \"\"\"\n",
    "    \n",
    "    # --- Figure set-up --- #\n",
    "    plt.close('all')\n",
    "    f, ax = plt.subplots(figsize=(4,4))\n",
    "    \n",
    "    # --- Legend --- #\n",
    "    ax.legend(loc='upper left', fontsize=14, frameon=False)\n",
    "    \n",
    "    # --- Additional labels --- #\n",
    "    if ratio_label:  # Label pp/(pn+np)\n",
    "        ax.add_artist(\n",
    "            AnchoredText(r'$\\frac{pp}{pn+np}$', loc='upper right',\n",
    "                         prop=dict(size=25), frameon=False)\n",
    "        )\n",
    "    \n",
    "    # --- Save file --- #\n",
    "    if save:\n",
    "        file_name = 'pp_over_pn_pmd_ratios'\n",
    "        for inucleus in nuclei:\n",
    "            file_name += f'_{inucleus[0]}'\n",
    "        file_name += f'_kvnn_{kvnn}'\n",
    "        for ichannel in channels:\n",
    "            file_name += f'_{ichannel}'\n",
    "        file_name += (f'_kmax_{kmax}_kmid_{kmid}_ntot_{ntot}_{generator}_lamb'\n",
    "                      f'_{lamb}_{density}')\n",
    "        file_name = replace_periods(file_name) + '.png'\n",
    "        f.savefig(figures_directory + file_name)"
   ]
  },
  {
   "cell_type": "code",
   "execution_count": null,
   "id": "a7f16c98",
   "metadata": {
    "code_folding": [
     0
    ]
   },
   "outputs": [],
   "source": [
    "def plot_src_scaling_factors(\n",
    "        kvnn, lamb, channels=('1S0','3S1'), kmax=15.0, kmid=3.0, ntot=120,\n",
    "        generator='Wegner', x_limits=(3e0,3e2),\n",
    "        y_limits=(0.0, 6.5), xlabel_size=16, ylabel_size=16,\n",
    "        lambda_label=True, save=False):\n",
    "    \"\"\"\n",
    "    Note, this function automatically uses SLy4 and Gogny densities.\n",
    "    \"\"\"\n",
    "    \n",
    "    # --- Figure set-up --- #\n",
    "    plt.close('all')\n",
    "    f, ax = plt.subplots(figsize=(4,4))\n",
    "    \n",
    "    # --- Legend --- #\n",
    "    ax.legend(loc='lower right', fontsize=16, frameon=False)\n",
    "    \n",
    "    # --- Additional labels --- #\n",
    "    if lambda_label:  # Label \\lambda\n",
    "        ax.add_artist(\n",
    "            AnchoredText(label_lambda(lamb), loc='upper left',\n",
    "                         prop=dict(size=18), frameon=False)\n",
    "        )\n",
    "    \n",
    "    # --- Save file --- #\n",
    "    if save:\n",
    "        file_name = f'src_scaling_factors_kvnn_{kvnn}_lamb_{lamb}'\n",
    "        for ichannel in channels:\n",
    "            file_name += f'_{ichannel}'\n",
    "        file_name += (f'_kmax_{kmax}_kmid_{kmid}_ntot_{ntot}_{generator}'\n",
    "                      '_densities_SLy4_Gogny')\n",
    "        file_name = replace_periods(file_name) + '.png'\n",
    "        f.savefig(figures_directory + file_name)"
   ]
  },
  {
   "cell_type": "markdown",
   "id": "e5c1f9b3",
   "metadata": {},
   "source": [
    "## $^3\\rm{S}_1$ to $^1\\rm{S}_0$ ratio of SRG transformations"
   ]
  },
  {
   "cell_type": "code",
   "execution_count": null,
   "id": "72cae21c",
   "metadata": {},
   "outputs": [],
   "source": []
  },
  {
   "cell_type": "code",
   "execution_count": null,
   "id": "d6dc9c5d",
   "metadata": {},
   "outputs": [],
   "source": []
  },
  {
   "cell_type": "markdown",
   "id": "53d22cbf",
   "metadata": {},
   "source": [
    "## Deuteron bar chart"
   ]
  },
  {
   "cell_type": "code",
   "execution_count": null,
   "id": "c536f3f5",
   "metadata": {},
   "outputs": [],
   "source": []
  },
  {
   "cell_type": "code",
   "execution_count": null,
   "id": "f3062be1",
   "metadata": {},
   "outputs": [],
   "source": []
  },
  {
   "cell_type": "markdown",
   "id": "cfafdead",
   "metadata": {},
   "source": [
    "## Deuteron momentum distribution"
   ]
  },
  {
   "cell_type": "code",
   "execution_count": null,
   "id": "53f4aa33",
   "metadata": {},
   "outputs": [],
   "source": []
  },
  {
   "cell_type": "code",
   "execution_count": null,
   "id": "ee267fe7",
   "metadata": {},
   "outputs": [],
   "source": []
  },
  {
   "cell_type": "markdown",
   "id": "259ba1e4",
   "metadata": {},
   "source": [
    "## Proton momentum distributions"
   ]
  },
  {
   "cell_type": "code",
   "execution_count": null,
   "id": "da36cf51",
   "metadata": {},
   "outputs": [],
   "source": []
  },
  {
   "cell_type": "code",
   "execution_count": null,
   "id": "87a98f72",
   "metadata": {},
   "outputs": [],
   "source": []
  },
  {
   "cell_type": "markdown",
   "id": "27068430",
   "metadata": {},
   "source": [
    "## Pair momentum distribution ratios"
   ]
  },
  {
   "cell_type": "code",
   "execution_count": null,
   "id": "5d655a0e",
   "metadata": {},
   "outputs": [],
   "source": []
  },
  {
   "cell_type": "code",
   "execution_count": null,
   "id": "cc43a0cc",
   "metadata": {},
   "outputs": [],
   "source": []
  },
  {
   "cell_type": "code",
   "execution_count": null,
   "id": "4bffcc26",
   "metadata": {},
   "outputs": [],
   "source": []
  },
  {
   "cell_type": "markdown",
   "id": "1be4826c",
   "metadata": {},
   "source": [
    "## SRC scaling factors $a_2$"
   ]
  },
  {
   "cell_type": "code",
   "execution_count": null,
   "id": "6e9bbb99",
   "metadata": {},
   "outputs": [],
   "source": []
  },
  {
   "cell_type": "code",
   "execution_count": null,
   "id": "81986c27",
   "metadata": {},
   "outputs": [],
   "source": []
  }
 ],
 "metadata": {
  "kernelspec": {
   "display_name": "Python 3 (ipykernel)",
   "language": "python",
   "name": "python3"
  },
  "language_info": {
   "codemirror_mode": {
    "name": "ipython",
    "version": 3
   },
   "file_extension": ".py",
   "mimetype": "text/x-python",
   "name": "python",
   "nbconvert_exporter": "python",
   "pygments_lexer": "ipython3",
   "version": "3.9.7"
  }
 },
 "nbformat": 4,
 "nbformat_minor": 5
}

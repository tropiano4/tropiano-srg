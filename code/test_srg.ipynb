{
 "cells": [
  {
   "cell_type": "markdown",
   "id": "d759fa66",
   "metadata": {},
   "source": [
    "# Testing implementation and accuracy of solving SRG flow equations\n",
    "\n",
    "__Author:__ A. J. Tropiano [atropiano@anl.gov]<br/>\n",
    "__Date:__ March 1, 2023\n",
    "\n",
    "The goal of this notebook is to test our implementation of the SRG. We explore different ODE solvers, error tolerances, and different implementations (e.g., solving directly for $U(s)$, or solving with respect to $\\lambda$ instead of $s$.)<br>\n",
    "\n",
    "_Last update:_ March 29, 2023"
   ]
  },
  {
   "cell_type": "code",
   "execution_count": 1,
   "id": "baa19e5f",
   "metadata": {},
   "outputs": [],
   "source": [
    "# Python imports\n",
    "from matplotlib.offsetbox import AnchoredText\n",
    "import matplotlib.pyplot as plt\n",
    "%matplotlib inline\n",
    "import numpy as np\n",
    "import numpy.linalg as la\n",
    "from scipy.integrate import ode, solve_ivp\n",
    "import time"
   ]
  },
  {
   "cell_type": "code",
   "execution_count": 2,
   "id": "f72990f8",
   "metadata": {},
   "outputs": [],
   "source": [
    "# Imports from scripts\n",
    "from scripts.figures import interpolate_matrix, label_lambda, set_rc_parameters\n",
    "from scripts.potentials import Potential\n",
    "from scripts.tools import replace_periods"
   ]
  },
  {
   "cell_type": "code",
   "execution_count": 3,
   "id": "ddac854a",
   "metadata": {},
   "outputs": [],
   "source": [
    "# Run this cell to turn on customized matplotlib graphics\n",
    "set_rc_parameters()"
   ]
  },
  {
   "cell_type": "markdown",
   "id": "15534b6d",
   "metadata": {},
   "source": [
    "## Set-up"
   ]
  },
  {
   "cell_type": "code",
   "execution_count": 4,
   "id": "a50094b2",
   "metadata": {
    "code_folding": [
     0
    ]
   },
   "outputs": [],
   "source": [
    "def rms_error_eigenvalues(eigenvalues_initial, eigenvalues_evolved):\n",
    "    \"\"\"Calculate the root-mean-square error of the evolved and initial\n",
    "    eigenvalues.\n",
    "    \"\"\"\n",
    "    \n",
    "    # Number of eigenvalues\n",
    "    N = len(eigenvalues_initial)\n",
    "    \n",
    "    return np.sqrt(np.sum((eigenvalues_evolved - eigenvalues_initial) ** 2) / N)"
   ]
  },
  {
   "cell_type": "code",
   "execution_count": 5,
   "id": "aa35055c",
   "metadata": {
    "code_folding": [
     0
    ]
   },
   "outputs": [],
   "source": [
    "def unattach_weights(k_array, k_weights, matrix_weights):\n",
    "    \"\"\"Unattach the integration weights from a matrix.\"\"\"\n",
    "\n",
    "    # Double the length of the factor_array if coupled-channel\n",
    "    if len(matrix_weights) == 2*len(k_array):\n",
    "        factor_array = np.concatenate((\n",
    "            np.sqrt(2 / np.pi * k_weights) * k_array,\n",
    "            np.sqrt(2 / np.pi * k_weights) * k_array\n",
    "        ))\n",
    "    elif len(matrix_weights) == len(k_array):\n",
    "        factor_array = np.sqrt(2 / np.pi * k_weights) * k_array\n",
    "    else:\n",
    "        raise RuntimeError(\"Length of matrix_weights is not compatible with \"\n",
    "                           \"length of k_array.\")\n",
    "    \n",
    "    # Create meshgrids to divide out factor of 2/\\pi * k_i k_j \\sqrt(w_i * w_j)\n",
    "    row, col = np.meshgrid(factor_array, factor_array, indexing='ij')\n",
    "\n",
    "    return matrix_weights / row / col"
   ]
  },
  {
   "cell_type": "code",
   "execution_count": 6,
   "id": "22274fb9",
   "metadata": {
    "code_folding": [
     5
    ]
   },
   "outputs": [],
   "source": [
    "def plot_contour(\n",
    "        k_array, matrix_no_weights, channel, levels_number=61,\n",
    "        colorbar_limits=(-1.0,1.0), color_map='turbo', axes_limits=(0.0,10.0),\n",
    "        xlabel_size=16, ylabel_size=16, label=None,\n",
    "        label_location='upper right', label_size=16\n",
    "):\n",
    "    \n",
    "    # --- Figure set-up --- #\n",
    "    plt.close('all')\n",
    "    f, ax = plt.subplots(figsize=(4,4))\n",
    "    \n",
    "    # Set contour levels\n",
    "    levels = np.linspace(colorbar_limits[0], colorbar_limits[1],\n",
    "                         levels_number)\n",
    "\n",
    "    # --- Plot --- #\n",
    "    if channel == '3S1-3D1':\n",
    "        c = ax.contourf(k_array, k_array, matrix_no_weights[:ntot, ntot:],\n",
    "                        levels, cmap=color_map, extend='both')\n",
    "    elif channel == '3D1-3S1':\n",
    "        c = ax.contourf(k_array, k_array, matrix_no_weights[ntot:, :ntot],\n",
    "                        levels, cmap=color_map, extend='both')\n",
    "    elif channel == '3D1-3D1':\n",
    "        c = ax.contourf(k_array, k_array, matrix_no_weights[ntot:, ntot:],\n",
    "                        levels, cmap=color_map, extend='both')\n",
    "    else:\n",
    "        c = ax.contourf(k_array, k_array, matrix_no_weights[:ntot, :ntot],\n",
    "                        levels, cmap=color_map, extend='both')\n",
    "\n",
    "    # --- Axes limits --- #\n",
    "    ax.set_xlim(axes_limits)\n",
    "    ax.set_ylim(axes_limits)\n",
    "\n",
    "    # --- Axes labels --- #\n",
    "    ax.set_xlabel(\"$k'$ [fm\" + r\"$^{-1}$\" + \"]\", fontsize=xlabel_size)\n",
    "    ax.set_ylabel(\"$k$ [fm\" + r\"$^{-1}$\" + \"]\", fontsize=ylabel_size)\n",
    "    \n",
    "    # --- Adjust axes --- #\n",
    "    # Switch x-axis label from bottom to top\n",
    "    ax.xaxis.set_label_position('top')\n",
    "    ax.tick_params(labeltop=True, labelbottom=False)\n",
    "    # Invert y-axis\n",
    "    ax.invert_yaxis()\n",
    "    \n",
    "    # --- Colorbar --- #\n",
    "    # Colorbar location (left, bottom, width, height)\n",
    "    cbar_ax = f.add_axes((1.0, 0.15, 0.1, 0.7))\n",
    "    # Set colorbar ticks\n",
    "    levels_ticks = np.linspace(colorbar_limits[0], colorbar_limits[1], 9)\n",
    "    # Set colorbar\n",
    "    cbar = f.colorbar(c, cax=cbar_ax, ticks=levels_ticks, format='%.2e')\n",
    "    \n",
    "    # --- Label contour plot --- #\n",
    "    if label is not None:\n",
    "        ax.add_artist(\n",
    "            AnchoredText(label, loc=label_location, prop=dict(size=label_size))\n",
    "        )"
   ]
  },
  {
   "cell_type": "code",
   "execution_count": 7,
   "id": "9b5e7fff",
   "metadata": {
    "code_folding": [
     3
    ]
   },
   "outputs": [],
   "source": [
    "def run_srg(\n",
    "        kvnn, channel, generator, lambda_array, kmax=15.0, kmid=3.0, ntot=120,\n",
    "        solver='ode', method='BDF', atol=1e-10, rtol=1e-10, wrt='s', save=True\n",
    "):\n",
    "    \n",
    "    potential = Potential(kvnn, channel, kmax, kmid, ntot)\n",
    "    H_initial_weights = potential.load_hamiltonian()\n",
    "    \n",
    "    if solver == 'ode':\n",
    "    \n",
    "        # This will only evolve w.r.t. \\lambda and using BDF\n",
    "        d = srg_evolve_wrt_lambda(\n",
    "            H_initial_weights, lambda_array, lambda_initial=20.0, atol=atol,\n",
    "            rtol=rtol\n",
    "        )\n",
    "        \n",
    "    elif solver == 'solve_ivp':\n",
    "        \n",
    "        # Evolve w.r.t. to s\n",
    "        if wrt == 's':\n",
    "        \n",
    "            d = srg_evolve_solve_ivp(\n",
    "                H_initial_weights, lambda_array, method=method, atol=1e-10,\n",
    "                rtol=1e-10, wrt='s'\n",
    "            )\n",
    "        \n",
    "        # Evolve w.r.t. to \\lambda\n",
    "        else:\n",
    "            \n",
    "            d = srg_evolve_solve_ivp(\n",
    "                H_initial_weights, lambda_array, method=method, atol=1e-10,\n",
    "                rtol=1e-10, wrt='lambda'\n",
    "            )\n",
    "            \n",
    "    elif solver == 'U':\n",
    "        \n",
    "        d = srg_evolve_U_lambda(\n",
    "            H_initial_weights, lambda_array, lambda_initial=20.0, atol=1e-10,\n",
    "            rtol=1e-10\n",
    "        )\n",
    "            \n",
    "    else:\n",
    "        \n",
    "        raise RuntimeError(\"Input either 'ode' or 'solve_ivp' as the solver.\")\n",
    "    \n",
    "    # Save each matrix in /test_srg using np.savetxt\n",
    "    if save:\n",
    "        \n",
    "        for ilamb in lambda_array:\n",
    "            \n",
    "            if solver == 'U':\n",
    "                \n",
    "                file_name = (\n",
    "                    f\"H_evolved_kvnn_{kvnn}_{channel}_{generator}_lamb_{ilamb}\"\n",
    "                    f\"_kmax_{kmax}_kmid_{kmid}_ntot_{ntot}_{solver}_{method}\"\n",
    "                    f\"_wrt_{wrt}\"\n",
    "                )\n",
    "            \n",
    "                np.savetxt(\"./test_srg/\" + replace_periods(file_name) + \".txt\",\n",
    "                           d[ilamb]['H'])\n",
    "                \n",
    "                file_name = (\n",
    "                    f\"U_kvnn_{kvnn}_{channel}_{generator}_lamb_{ilamb}\"\n",
    "                    f\"_kmax_{kmax}_kmid_{kmid}_ntot_{ntot}_{solver}_{method}\"\n",
    "                    f\"_wrt_{wrt}\"\n",
    "                )\n",
    "            \n",
    "                np.savetxt(\"./test_srg/\" + replace_periods(file_name) + \".txt\",\n",
    "                           d[ilamb]['U'])\n",
    "                \n",
    "            else:\n",
    "                \n",
    "                file_name = (\n",
    "                    f\"H_evolved_kvnn_{kvnn}_{channel}_{generator}_lamb_{ilamb}\"\n",
    "                    f\"_kmax_{kmax}_kmid_{kmid}_ntot_{ntot}_{solver}_{method}\"\n",
    "                    f\"_wrt_{wrt}\"\n",
    "                )\n",
    "            \n",
    "                np.savetxt(\"./test_srg/\" + replace_periods(file_name) + \".txt\",\n",
    "                           d[ilamb])\n",
    "    \n",
    "    return d"
   ]
  },
  {
   "cell_type": "code",
   "execution_count": 8,
   "id": "663f95d8",
   "metadata": {
    "code_folding": [
     3
    ]
   },
   "outputs": [],
   "source": [
    "def load_H_evolved(\n",
    "        kvnn, channel, generator, lamb, kmax=15.0, kmid=3.0, ntot=120,\n",
    "        solver='ode', method='BDF', atol=1e-10, rtol=1e-10, wrt='s'\n",
    "):\n",
    "    \"\"\"Load evolved Hamiltonian.\"\"\"\n",
    "    \n",
    "    if solver == 'U':\n",
    "        \n",
    "        H_file_name = (\n",
    "            f\"H_evolved_kvnn_{kvnn}_{channel}_{generator}_lamb_{lamb}_kmax\"\n",
    "            f\"_{kmax}_kmid_{kmid}_ntot_{ntot}_{solver}_{method}_wrt_{wrt}\"\n",
    "        )\n",
    "            \n",
    "        H_evolved = np.loadtxt(\"./test_srg/\" + replace_periods(H_file_name)\n",
    "                               + \".txt\")\n",
    "                \n",
    "        U_file_name = (\n",
    "            f\"U_kvnn_{kvnn}_{channel}_{generator}_lamb_{lamb}_kmax_{kmax}\"\n",
    "            f\"_kmid_{kmid}_ntot_{ntot}_{solver}_{method}_wrt_{wrt}\"\n",
    "        )\n",
    "            \n",
    "        U_evolved = np.loadtxt(\"./test_srg/\" + replace_periods(U_file_name)\n",
    "                               + \".txt\")\n",
    "        \n",
    "        return H_evolved, U_evolved\n",
    "        \n",
    "    else:\n",
    "        \n",
    "        file_name = (\n",
    "            f\"H_evolved_kvnn_{kvnn}_{channel}_{generator}_lamb_{lamb}_kmax\"\n",
    "            f\"_{kmax}_kmid_{kmid}_ntot_{ntot}_{solver}_{method}_wrt_{wrt}\"\n",
    "        )\n",
    "        H_evolved = np.loadtxt(\"./test_srg/\" + replace_periods(file_name)\n",
    "                               + \".txt\")\n",
    "    \n",
    "        return H_evolved"
   ]
  },
  {
   "cell_type": "code",
   "execution_count": 9,
   "id": "deb322dc",
   "metadata": {},
   "outputs": [],
   "source": [
    "# kvnn = 6  # AV18\n",
    "kvnn = 111  # SMS N4LO 450 MeV\n",
    "# channel = '1S0'\n",
    "channel = '3S1'\n",
    "kmax, kmid, ntot = 15.0, 3.0, 120\n",
    "# kmax, kmid, ntot = 30.0, 4.0, 120  # Different mesh for AV18\n",
    "generator = 'Wegner'\n",
    "lamb = 1.35\n",
    "# lamb = 2.0\n",
    "# lamb = 3.0\n",
    "\n",
    "potential = Potential(kvnn, channel, kmax, kmid, ntot)"
   ]
  },
  {
   "cell_type": "code",
   "execution_count": 10,
   "id": "03827f27",
   "metadata": {},
   "outputs": [],
   "source": [
    "# Initial Hamiltonian with integration factors attached [MeV]\n",
    "H_initial_weights = potential.load_hamiltonian()\n",
    "eigenvalues_init, _ = la.eigh(H_initial_weights)"
   ]
  },
  {
   "cell_type": "code",
   "execution_count": 11,
   "id": "758b05de",
   "metadata": {},
   "outputs": [],
   "source": [
    "# Get momentum mesh\n",
    "k_array, k_weights = potential.load_mesh()"
   ]
  },
  {
   "cell_type": "markdown",
   "id": "8461e10d",
   "metadata": {},
   "source": [
    "## Test calculation of the SRG transformation using eigenvectors"
   ]
  },
  {
   "cell_type": "markdown",
   "id": "14dac515",
   "metadata": {},
   "source": [
    "$$\n",
    "U(\\lambda) = \\sum_\\alpha \\lvert \\psi_\\alpha(\\lambda \\rangle \\langle \\psi_\\alpha(\\infty) \\rvert\n",
    "$$"
   ]
  },
  {
   "cell_type": "code",
   "execution_count": 12,
   "id": "294ecd30",
   "metadata": {
    "code_folding": [
     0
    ]
   },
   "outputs": [],
   "source": [
    "def get_transformation(H_initial, H_evolved):\n",
    "    \"\"\"\n",
    "    SRG unitary transformation built out of eigenvectors of the initial and \n",
    "    evolved Hamiltonians.\n",
    "    \n",
    "    Parameters\n",
    "    ----------\n",
    "    H_initial : 2-D ndarray\n",
    "        Initial Hamiltonian matrix [MeV].\n",
    "    H_evolved : 2-D ndarray\n",
    "        Evolved Hamiltonian matrix [MeV].\n",
    "        \n",
    "    Returns\n",
    "    -------\n",
    "    U_matrix : 2-D ndarray\n",
    "        SRG unitary transformation matrix.\n",
    "        \n",
    "    \"\"\"\n",
    "\n",
    "    Ntot = len(H_initial)\n",
    "\n",
    "    # Get the eigenvectors of the initial and SRG-evolved Hamiltonians\n",
    "    _, vecs_initial = la.eigh(H_initial)\n",
    "    _, vecs_evolved = la.eigh(H_evolved)\n",
    "\n",
    "    # Initialize unitary transformation U with same size as Hamiltonians\n",
    "    U_matrix = np.zeros((Ntot, Ntot))\n",
    "\n",
    "    # Transformation is given by summing over the outer product of evolved and\n",
    "    # initial eigenvectors\n",
    "    for alpha in range(Ntot):\n",
    "\n",
    "        # Individual eigenvectors (these are already sorted correctly from \n",
    "        # numpy.linalg.eigh)\n",
    "        psi_alpha_initial = vecs_initial[:, alpha]\n",
    "        psi_alpha_evolved = vecs_evolved[:, alpha]\n",
    "\n",
    "        # Make sure the phases match\n",
    "        if psi_alpha_initial.T @ psi_alpha_evolved < 0:\n",
    "            psi_alpha_evolved = -psi_alpha_evolved\n",
    "\n",
    "        # Outer product of eigenvectors\n",
    "        U_matrix += np.outer(psi_alpha_evolved, psi_alpha_initial)\n",
    "\n",
    "    return U_matrix"
   ]
  },
  {
   "cell_type": "code",
   "execution_count": 13,
   "id": "234d7ee1",
   "metadata": {
    "code_folding": []
   },
   "outputs": [],
   "source": [
    "# Evolved Hamiltonians with integration factors attached [MeV]\n",
    "H_evolved_weights = potential.load_hamiltonian('srg', generator, lamb)\n",
    "\n",
    "# SRG transformation with integration factors attached [unitless]\n",
    "U_matrix_weights = get_transformation(H_initial_weights, H_evolved_weights)"
   ]
  },
  {
   "cell_type": "markdown",
   "id": "57214a23",
   "metadata": {},
   "source": [
    "Check that $U(\\lambda) H(\\infty) U^\\dagger(\\lambda) = H(\\lambda)$ where $U(\\lambda)$ is calculated using the eigenvectors of $H(\\infty)$ and $H(\\lambda)$."
   ]
  },
  {
   "cell_type": "code",
   "execution_count": 14,
   "id": "8a519a97",
   "metadata": {
    "code_folding": []
   },
   "outputs": [
    {
     "name": "stdout",
     "output_type": "stream",
     "text": [
      "[[-5.38679014e-12 -3.74794197e-11 -1.15033979e-10 ... -9.31030824e-16\n",
      "  -4.83799804e-16  1.36893505e-15]\n",
      " [-3.74794197e-11 -3.49970299e-10 -9.23306661e-10 ...  2.23922290e-13\n",
      "   6.31912442e-13 -1.54776707e-13]\n",
      " [-1.15033979e-10 -9.23306661e-10 -3.26931959e-09 ... -7.88243538e-13\n",
      "   1.80652538e-12  1.27213973e-13]\n",
      " ...\n",
      " [-9.31030821e-16  2.23922290e-13 -7.88243538e-13 ... -2.59460649e-08\n",
      "   2.79989296e-11  6.82185124e-11]\n",
      " [-4.83799806e-16  6.31912442e-13  1.80652538e-12 ...  2.79991169e-11\n",
      "  -1.69857231e-08  2.82952869e-10]\n",
      " [ 1.36893505e-15 -1.54776707e-13  1.27213973e-13 ...  6.82192219e-11\n",
      "   2.82952925e-10  2.10275175e-09]]\n",
      "7.765984893937921e-06\n"
     ]
    }
   ],
   "source": [
    "H_evolved_weights_2 = U_matrix_weights @ H_initial_weights @ U_matrix_weights.T\n",
    "zero_matrix_weights = H_evolved_weights_2-H_evolved_weights\n",
    "print(zero_matrix_weights)\n",
    "print(la.norm(zero_matrix_weights))"
   ]
  },
  {
   "cell_type": "code",
   "execution_count": 15,
   "id": "51c1d18b",
   "metadata": {
    "code_folding": []
   },
   "outputs": [],
   "source": [
    "# Remove integration weights from zero_matrix\n",
    "zero_matrix_no_weights = unattach_weights(k_array, k_weights,\n",
    "                                          zero_matrix_weights)"
   ]
  },
  {
   "cell_type": "code",
   "execution_count": 16,
   "id": "1ffb9451",
   "metadata": {
    "code_folding": []
   },
   "outputs": [
    {
     "data": {
      "image/png": "[encoded data removed]",
      "text/plain": [
       "<Figure size 600x600 with 2 Axes>"
      ]
     },
     "metadata": {},
     "output_type": "display_data"
    }
   ],
   "source": [
    "# Plot zero_matrix\n",
    "contour_label = r\"$U(\\lambda) H(\\infty) U^\\dagger(\\lambda) - H(\\lambda)$\"\n",
    "plot_contour(\n",
    "    k_array, zero_matrix_no_weights, channel, colorbar_limits=(-1e-4,1e-4),\n",
    "    axes_limits=(0, 15), label=contour_label, label_size=13\n",
    ")"
   ]
  },
  {
   "cell_type": "markdown",
   "id": "dcdba5ab",
   "metadata": {},
   "source": [
    "Compare the eigenvalues of $H(\\lambda)$, $U(\\lambda) H(\\infty) U^\\dagger(\\lambda)$, and $H(\\infty)$."
   ]
  },
  {
   "cell_type": "code",
   "execution_count": 17,
   "id": "d5d54f07",
   "metadata": {
    "code_folding": []
   },
   "outputs": [
    {
     "name": "stdout",
     "output_type": "stream",
     "text": [
      "RMS error with H(\\lambda) = 5.0129233958688e-07.\n",
      "RMS error with U H(\\infty) U^\\dagger = 4.963430856430246e-12.\n"
     ]
    }
   ],
   "source": [
    "eigenvalues_1, _ = la.eigh(H_evolved_weights)\n",
    "eigenvalues_2, _ = la.eigh(H_evolved_weights_2)\n",
    "eigenvalues_init, _ = la.eigh(H_initial_weights)\n",
    "\n",
    "err_1 = rms_error_eigenvalues(eigenvalues_init, eigenvalues_1)\n",
    "err_2 = rms_error_eigenvalues(eigenvalues_init, eigenvalues_2)\n",
    "\n",
    "print(f\"RMS error with H(\\lambda) = {err_1}.\")\n",
    "print(f\"RMS error with U H(\\infty) U^\\dagger = {err_2}.\")"
   ]
  },
  {
   "cell_type": "markdown",
   "id": "c88769ad",
   "metadata": {},
   "source": [
    "## Solving for $H(s)$"
   ]
  },
  {
   "cell_type": "markdown",
   "id": "b75a475e",
   "metadata": {},
   "source": [
    "$$\n",
    "\\frac{dH}{ds} = \\bigl[[H_D(s), H(s)], H(s) \\bigr]\n",
    "$$"
   ]
  },
  {
   "cell_type": "markdown",
   "id": "43bea542",
   "metadata": {},
   "source": [
    "### Using `scipy.integrate.ode`"
   ]
  },
  {
   "cell_type": "code",
   "execution_count": null,
   "id": "7a8845e2",
   "metadata": {
    "code_folding": [
     0
    ]
   },
   "outputs": [],
   "source": [
    "def matrix_to_vector(M):\n",
    "    \"\"\"\n",
    "    Takes the upper triangle of the matrix M (including the diagonal) and\n",
    "    reshapes it into a vector v.\n",
    "        \n",
    "    Parameters\n",
    "    ----------\n",
    "    M : 2-D ndarray\n",
    "        Input matrix of shape (N, N).\n",
    "            \n",
    "    Returns\n",
    "    -------\n",
    "    v : 1-D ndarray\n",
    "        Output vector of shape (N*(N+1)/2,).\n",
    "            \n",
    "    \"\"\"\n",
    "\n",
    "    # Length of matrix\n",
    "    N = len(M)\n",
    "    # Length of vectorized matrix\n",
    "    n = int(N * (N + 1) / 2)\n",
    "\n",
    "    # Initialize vectorized matrix\n",
    "    v = np.zeros(n)\n",
    "\n",
    "    # Algorithm for reshaping M to the vector v\n",
    "    i = 0\n",
    "    j = N\n",
    "    for k in range(N):\n",
    "        v[i:j] = M[k][k:]\n",
    "        i = j\n",
    "        j += N - k - 1\n",
    "\n",
    "    return v"
   ]
  },
  {
   "cell_type": "code",
   "execution_count": null,
   "id": "513434be",
   "metadata": {
    "code_folding": [
     0
    ]
   },
   "outputs": [],
   "source": [
    "def vector_to_matrix(v):\n",
    "    \"\"\"\n",
    "    Takes the vector of an upper triangle matrix v and returns the full matrix\n",
    "    M. Use only for symmetric matrices.\n",
    "        \n",
    "    Parameters\n",
    "    ----------\n",
    "    v : 1-D ndarray\n",
    "        Input vector of shape (N*(N+1)/2,).\n",
    "        \n",
    "    Returns\n",
    "    -------\n",
    "    output : 2-D ndarray\n",
    "        Output matrix of shape (N, N).\n",
    "            \n",
    "    \"\"\"\n",
    "    \n",
    "    # Dimension of matrix is found by solving for the positive solution to\n",
    "    # n = N(N+1)/2, where n is the length of the vector\n",
    "    N = int((-1 + np.sqrt(1 + 8 * len(v))) / 2)\n",
    "\n",
    "    # Initialize matrix\n",
    "    M = np.zeros((N, N))\n",
    "\n",
    "    # Build the upper half of matrix with the diagonal included\n",
    "\n",
    "    # Algorithm for reshaping v to the matrix M\n",
    "    i = 0\n",
    "    j = N\n",
    "    for k in range(N):\n",
    "        M[k, k:] = v[i:j]\n",
    "        i = j\n",
    "        j += N - k - 1\n",
    "\n",
    "    # Now reflect the upper half to lower half to build full matrix\n",
    "    # M.T - np.diag(np.diag(M)) is the lower half of M excluding diagonal\n",
    "    return M + (M.T - np.diag(np.diag(M)))"
   ]
  },
  {
   "cell_type": "code",
   "execution_count": null,
   "id": "c692f5e3",
   "metadata": {
    "code_folding": [
     0
    ]
   },
   "outputs": [],
   "source": [
    "def commutator(A, B):\n",
    "    \"\"\"Commutator of square matrices A and B.\"\"\"\n",
    "\n",
    "    return A @ B - B @ A"
   ]
  },
  {
   "cell_type": "code",
   "execution_count": null,
   "id": "91505f85",
   "metadata": {
    "code_folding": [
     0
    ]
   },
   "outputs": [],
   "source": [
    "def eta(H_matrix):\n",
    "    \"\"\"Wegner generator \\eta = [H_D, H].\"\"\"\n",
    "\n",
    "    # G = H_D (diagonal of the evolving Hamiltonian)\n",
    "    G_matrix = np.diag(np.diag(H_matrix))\n",
    "\n",
    "    # \\eta = [G, H]\n",
    "    return commutator(G_matrix, H_matrix)"
   ]
  },
  {
   "cell_type": "code",
   "execution_count": null,
   "id": "5a7d3ce6",
   "metadata": {
    "code_folding": [
     0
    ]
   },
   "outputs": [],
   "source": [
    "def H_deriv(lamb, H_vector):\n",
    "    \"\"\"Right-hand side of the SRG flow equation.\"\"\"\n",
    "\n",
    "    # Matrix form of the evolving Hamiltonian\n",
    "    H_matrix = vector_to_matrix(H_vector)\n",
    "\n",
    "    # Get SRG generator \\eta = [G, H]\n",
    "    eta_matrix = eta(H_matrix)\n",
    "\n",
    "    # RHS of the flow equation in matrix form\n",
    "    dH_matrix = -4.0 / lamb ** 5 * commutator(eta_matrix, H_matrix)\n",
    "\n",
    "    # Returns vector form of RHS of flow equation\n",
    "    dH_vector = matrix_to_vector(dH_matrix)\n",
    "\n",
    "    return dH_vector"
   ]
  },
  {
   "cell_type": "code",
   "execution_count": null,
   "id": "c71a6131",
   "metadata": {
    "code_folding": [
     0
    ]
   },
   "outputs": [],
   "source": [
    "def select_step_size(solver_lambda, lambda_final):\n",
    "    \"\"\"Select ODE solver step-size depending on the extent of evolution. We\n",
    "    can take bigger steps at large values of \\lambda.\n",
    "    \"\"\"\n",
    "\n",
    "    if solver_lambda >= 6.0:\n",
    "        dlamb = 1.0\n",
    "    elif 2.5 <= solver_lambda < 6.0:\n",
    "        dlamb = 0.5\n",
    "    elif 1.5 <= solver_lambda < 2.5:\n",
    "        dlamb = 0.1\n",
    "    else:\n",
    "        dlamb = 0.05\n",
    "\n",
    "#     # This if statement prevents the solver from over-shooting \\lambda and\n",
    "#     # takes a step in \\lambda equal to the exact amount necessary to reach \n",
    "#     # lambda_final\n",
    "#     if solver_lambda - dlamb < lambda_final:\n",
    "#         dlamb = solver_lambda - lambda_final\n",
    "\n",
    "    return dlamb"
   ]
  },
  {
   "cell_type": "code",
   "execution_count": null,
   "id": "d6653678",
   "metadata": {
    "code_folding": [
     0
    ]
   },
   "outputs": [],
   "source": [
    "def get_ode_solver(lambda_initial, H_initial, atol, rtol):\n",
    "    \"\"\"Sets up the ODE solver.\"\"\"\n",
    "\n",
    "    # Solving for H(s)\n",
    "    solver = ode(H_deriv)\n",
    "\n",
    "    # Initial Hamiltonian as a vector\n",
    "    H_initial = matrix_to_vector(H_initial)\n",
    "\n",
    "    # Set initial conditions\n",
    "    solver.set_initial_value(H_initial, lambda_initial)\n",
    "\n",
    "    # Following the example in Hergert:2016iju with modifications to nsteps and\n",
    "    # error tolerances\n",
    "    solver.set_integrator('vode', method='bdf', order=5, atol=atol, rtol=rtol,\n",
    "                          nsteps=5000000)\n",
    "\n",
    "    return solver"
   ]
  },
  {
   "cell_type": "code",
   "execution_count": null,
   "id": "5cb29acd",
   "metadata": {
    "code_folding": [
     2
    ]
   },
   "outputs": [],
   "source": [
    "def srg_evolve_wrt_lambda(\n",
    "        H_initial_MeV, lambda_array, lambda_initial=20.0, atol=1e-6, rtol=1e-6\n",
    "):\n",
    "    \"\"\"SRG evolve the Hamiltonian with respect to \\lambda.\"\"\"\n",
    "    \n",
    "    # Convert Hamiltonian from MeV to units [fm^-2]\n",
    "    H_initial = H_initial_MeV / 41.47\n",
    "\n",
    "    # Set-up ODE solver\n",
    "    solver = get_ode_solver(lambda_initial, H_initial, atol, rtol)\n",
    "    \n",
    "    # Start time\n",
    "    t0 = time.time()\n",
    "    \n",
    "    # Evolve the Hamiltonian to each value of \\lambda and store in dictionary\n",
    "    d = {}\n",
    "#     # TESTING\n",
    "#     lambdas = []\n",
    "    for lamb in lambda_array:\n",
    "\n",
    "        # Solve ODE up to lamb and store in dictionary\n",
    "        while solver.successful() and round(solver.t, 2) > lamb:\n",
    "            \n",
    "            # Get ODE solver step-size in \\lambda\n",
    "            dlamb = select_step_size(solver.t, lamb)\n",
    "            \n",
    "#             # TESTING\n",
    "#             lambdas.append(solver.t - dlamb)\n",
    "            \n",
    "            # Integrate to next step in lambda\n",
    "            solution_vector = solver.integrate(solver.t - dlamb)\n",
    "\n",
    "        # Store evolved Hamiltonian matrix [MeV] in dictionary\n",
    "        d[lamb] = vector_to_matrix(solution_vector) * 41.47\n",
    "\n",
    "    # End time\n",
    "    t1 = time.time()\n",
    "\n",
    "    # Print details\n",
    "    mins = round((t1 - t0) / 60.0, 4)  # Minutes elapsed evolving H(\\lambda)\n",
    "    print(f\"Done evolving to \\lambda = {lamb} fm^-1 after {mins:.4f} minutes.\")\n",
    "    \n",
    "#     # TESTING\n",
    "#     print(lambdas)\n",
    "#     print(len(lambdas))\n",
    "\n",
    "    return d"
   ]
  },
  {
   "cell_type": "markdown",
   "id": "d6921862",
   "metadata": {},
   "source": [
    "First solve with respect to $\\lambda$ using `scipy.integrate.ode` as is done in the current code. Compare the eigenvalues of $H(\\lambda)$ and $H(\\infty)$ in each test run."
   ]
  },
  {
   "cell_type": "code",
   "execution_count": null,
   "id": "e36d8c94",
   "metadata": {
    "scrolled": false
   },
   "outputs": [],
   "source": [
    "lambda_array = np.array([6.0, 3.0, 2.0, 1.5, 1.35])"
   ]
  },
  {
   "cell_type": "code",
   "execution_count": null,
   "id": "b4850190",
   "metadata": {},
   "outputs": [],
   "source": [
    "# Default case (focus on last \\lambda for now)\n",
    "d = srg_evolve_wrt_lambda(H_initial_weights, lambda_array, lambda_initial=20.0)\n",
    "\n",
    "eigenvalues_evol, _ = la.eigh(d[lamb])\n",
    "err = rms_error_eigenvalues(eigenvalues_init, eigenvalues_evol)\n",
    "\n",
    "print(f\"RMS error in eigenvalues = {err}.\")"
   ]
  },
  {
   "cell_type": "code",
   "execution_count": null,
   "id": "971d30ab",
   "metadata": {},
   "outputs": [],
   "source": [
    "# Set more stringent error tolerances\n",
    "\n",
    "# # Run SRG code\n",
    "# d = run_srg(\n",
    "#     kvnn, channel, generator, lambda_array, kmax, kmid, ntot, solver='ode',\n",
    "#     method='BDF', atol=1e-10, rtol=1e-10, wrt='lambda', save=True\n",
    "# )\n",
    "# H_evolved = d[lamb]\n",
    "\n",
    "# Load saved file\n",
    "H_evolved = load_H_evolved(\n",
    "    kvnn, channel, generator, lamb, kmax, kmid, ntot, solver='ode',\n",
    "    method='BDF', atol=1e-10, rtol=1e-10, wrt='lambda'\n",
    ")\n",
    "\n",
    "eigenvalues_evol, _ = la.eigh(H_evolved)\n",
    "err = rms_error_eigenvalues(eigenvalues_init, eigenvalues_evol)\n",
    "\n",
    "print(f\"RMS error in eigenvalues = {err}.\")"
   ]
  },
  {
   "cell_type": "markdown",
   "id": "581b5d0b",
   "metadata": {},
   "source": [
    "Repeat test on $U(\\lambda)$ from before but with `atol`=$10^{-10}$ and `rtol`=$10^{-10}$."
   ]
  },
  {
   "cell_type": "code",
   "execution_count": null,
   "id": "cc39df5e",
   "metadata": {
    "code_folding": []
   },
   "outputs": [],
   "source": [
    "# SRG transformation with integration factors attached [unitless]\n",
    "U_matrix_weights = get_transformation(H_initial_weights, H_evolved)\n",
    "\n",
    "H_evolved_weights_2 = U_matrix_weights @ H_initial_weights @ U_matrix_weights.T\n",
    "zero_matrix_weights = H_evolved_weights_2-H_evolved\n",
    "print(zero_matrix_weights)\n",
    "print(la.norm(zero_matrix_weights))\n",
    "\n",
    "# Remove integration weights from zero_matrix\n",
    "zero_matrix_no_weights = unattach_weights(k_array, k_weights,\n",
    "                                          zero_matrix_weights)\n",
    "\n",
    "# Plot zero_matrix\n",
    "contour_label = r\"$U(\\lambda) H(\\infty) U^\\dagger(\\lambda) - H(\\lambda)$\"\n",
    "plot_contour(\n",
    "    k_array, zero_matrix_no_weights, channel, colorbar_limits=(-1e-4,1e-4),\n",
    "    axes_limits=(0, 15), label=contour_label, label_size=13\n",
    ")"
   ]
  },
  {
   "cell_type": "markdown",
   "id": "0c7d4804",
   "metadata": {},
   "source": [
    "### Using `scipy.integrate.solve_ivp`"
   ]
  },
  {
   "cell_type": "code",
   "execution_count": null,
   "id": "35c7da3c",
   "metadata": {
    "code_folding": [
     0
    ]
   },
   "outputs": [],
   "source": [
    "def H_deriv_s(s, H_vector):\n",
    "    \"\"\"Right-hand side of the SRG flow equation.\"\"\"\n",
    "\n",
    "    # Matrix form of the evolving Hamiltonian\n",
    "    H_matrix = vector_to_matrix(H_vector)\n",
    "\n",
    "    # Get SRG generator \\eta = [G, H]\n",
    "    eta_matrix = eta(H_matrix)\n",
    "\n",
    "    # RHS of the flow equation in matrix form\n",
    "    dH_matrix = commutator(eta_matrix, H_matrix)\n",
    "\n",
    "    # Returns vector form of RHS of flow equation\n",
    "    dH_vector = matrix_to_vector(dH_matrix)\n",
    "\n",
    "    return dH_vector"
   ]
  },
  {
   "cell_type": "code",
   "execution_count": null,
   "id": "f69c13fd",
   "metadata": {
    "code_folding": [
     3
    ]
   },
   "outputs": [],
   "source": [
    "def srg_evolve_solve_ivp(\n",
    "        H_initial_MeV, lambda_array, method='BDF', atol=1e-10, rtol=1e-10,\n",
    "        wrt='s'\n",
    "):\n",
    "    \"\"\"SRG evolve the Hamiltonian with respect to s.\"\"\"\n",
    "    \n",
    "    # Convert Hamiltonian from MeV to units [fm^-2]\n",
    "    H_initial_matrix = H_initial_MeV / 41.47\n",
    "\n",
    "    # Reshape H_initial into vector\n",
    "    H_initial_vector = matrix_to_vector(H_initial_matrix)\n",
    "    \n",
    "    # Start time\n",
    "    t0 = time.time()\n",
    "    \n",
    "    # Solve w.r.t. s\n",
    "    if wrt == 's':\n",
    "        \n",
    "        # Evaluate at the following s points\n",
    "        s_array = lambda_array ** (-4)\n",
    "        s_limits = [0.0, s_array[-1]]\n",
    "    \n",
    "        result = solve_ivp(H_deriv_s, s_limits, H_initial_vector, method=method,\n",
    "                           t_eval=s_array, atol=atol, rtol=rtol)\n",
    "    \n",
    "    # Solve w.r.t. \\lambda\n",
    "    else:\n",
    "    \n",
    "        # Set initial \\lambda to 20 fm^-1 (this is sufficiently large)\n",
    "        lamb_limits = [20.0, lambda_array[-1]]\n",
    "    \n",
    "        result = solve_ivp(\n",
    "            H_deriv, lamb_limits, H_initial_vector, method=method,\n",
    "            t_eval=lambda_array, atol=atol, rtol=rtol\n",
    "        )\n",
    "    \n",
    "#         result = solve_ivp(\n",
    "#             H_deriv, lamb_limits, H_initial_vector, method=method,\n",
    "#             t_eval=None, atol=atol, rtol=rtol\n",
    "#         )\n",
    "    \n",
    "    # End time\n",
    "    t1 = time.time()\n",
    "    \n",
    "    # Print details\n",
    "    mins = round((t1 - t0) / 60.0, 4)  # Minutes elapsed evolving H(s)\n",
    "    print(f\"Done evolving to \\lambda = {lambda_array[-1]} fm^-1 after \"\n",
    "          f\"{mins:.4f} minutes.\")\n",
    "    \n",
    "    # Store evolved Hamiltonian matrix [MeV] in dictionary\n",
    "    d = {}\n",
    "    for i, lamb in enumerate(lambda_array):\n",
    "        d[lamb] = vector_to_matrix(result.y[:, i]) * 41.47\n",
    "        \n",
    "#     # TESTING\n",
    "#     print(result.t)\n",
    "#     print(len(result.t))\n",
    "\n",
    "    return d"
   ]
  },
  {
   "cell_type": "code",
   "execution_count": null,
   "id": "9e938922",
   "metadata": {
    "code_folding": []
   },
   "outputs": [],
   "source": [
    "# Use solve_ivp w.r.t. s using BDF\n",
    "\n",
    "# # Run SRG code\n",
    "# d = run_srg(\n",
    "#     kvnn, channel, generator, lambda_array, kmax, kmid, ntot,\n",
    "#     solver='solve_ivp', method='BDF', atol=1e-10, rtol=1e-10, wrt='s',\n",
    "#     save=True\n",
    "# )\n",
    "# H_evolved = d[lamb]\n",
    "\n",
    "# Load saved file\n",
    "H_evolved = load_H_evolved(\n",
    "    kvnn, channel, generator, lamb, kmax, kmid, ntot, solver='solve_ivp',\n",
    "    method='BDF', atol=1e-10, rtol=1e-10, wrt='s',\n",
    ")\n",
    "\n",
    "eigenvalues_evol, _ = la.eigh(H_evolved)\n",
    "err = rms_error_eigenvalues(eigenvalues_init, eigenvalues_evol)\n",
    "\n",
    "print(f\"RMS error in eigenvalues = {err}.\")"
   ]
  },
  {
   "cell_type": "code",
   "execution_count": null,
   "id": "d33ebf78",
   "metadata": {},
   "outputs": [],
   "source": [
    "# Use solve_ivp w.r.t. s using LSODA\n",
    "\n",
    "# # Run SRG code\n",
    "# d = run_srg(\n",
    "#     kvnn, channel, generator, lambda_array, kmax, kmid, ntot,\n",
    "#     solver='solve_ivp', method='LSODA', atol=1e-10, rtol=1e-10, wrt='s',\n",
    "#     save=True\n",
    "# )\n",
    "# H_evolved = d[lamb]\n",
    "\n",
    "# Load saved file\n",
    "H_evolved = load_H_evolved(\n",
    "    kvnn, channel, generator, lamb, kmax, kmid, ntot, solver='solve_ivp',\n",
    "    method='LSODA', atol=1e-10, rtol=1e-10, wrt='s',\n",
    ")\n",
    "\n",
    "eigenvalues_evol, _ = la.eigh(H_evolved)\n",
    "err = rms_error_eigenvalues(eigenvalues_init, eigenvalues_evol)\n",
    "\n",
    "print(f\"RMS error in eigenvalues = {err}.\")"
   ]
  },
  {
   "cell_type": "code",
   "execution_count": null,
   "id": "7a2cdc7e",
   "metadata": {
    "code_folding": []
   },
   "outputs": [],
   "source": [
    "# Use solve_ivp w.r.t. \\lambda using LSODA\n",
    "\n",
    "# # Run SRG code\n",
    "# d = run_srg(\n",
    "#     kvnn, channel, generator, lambda_array, kmax, kmid, ntot,\n",
    "#     solver='solve_ivp', method='LSODA', atol=1e-10, rtol=1e-10, wrt='lambda',\n",
    "#     save=True\n",
    "# )\n",
    "# H_evolved = d[lamb]\n",
    "\n",
    "# Load saved file\n",
    "H_evolved = load_H_evolved(\n",
    "    kvnn, channel, generator, lamb, kmax, kmid, ntot, solver='solve_ivp',\n",
    "    method='LSODA', atol=1e-10, rtol=1e-10, wrt='lambda',\n",
    ")\n",
    "\n",
    "eigenvalues_evol, _ = la.eigh(H_evolved)\n",
    "err = rms_error_eigenvalues(eigenvalues_init, eigenvalues_evol)\n",
    "\n",
    "print(f\"RMS error in eigenvalues = {err}.\")"
   ]
  },
  {
   "cell_type": "markdown",
   "id": "8df65462",
   "metadata": {},
   "source": [
    "## Solve for $U(s)$ directly"
   ]
  },
  {
   "cell_type": "markdown",
   "id": "60c7cec7",
   "metadata": {},
   "source": [
    "$$\n",
    "\\frac{dU}{ds} = \\eta(s) U(s)\n",
    "$$"
   ]
  },
  {
   "cell_type": "code",
   "execution_count": null,
   "id": "6a8f815a",
   "metadata": {
    "code_folding": [
     0
    ]
   },
   "outputs": [],
   "source": [
    "def U_deriv_s(s, U_vector, H_initial):\n",
    "    \"\"\"Right-hand side of dU/ds = \\eta(s) U(s).\"\"\"\n",
    "    \n",
    "    # Dimension of the Hamiltonian\n",
    "    Ntot = len(H_initial)\n",
    "    \n",
    "    # Change U_vector into matrix form\n",
    "    U_matrix = np.reshape(U_vector, (Ntot, Ntot))\n",
    "    \n",
    "    # Compute H(s) = U(s) H(\\infty) U^\\dagger(s)\n",
    "    H_evolved = U_matrix @ H_initial @ U_matrix.T\n",
    "    \n",
    "    # Compute \\eta(s) = [H_D(s), H(s)]\n",
    "    eta_matrix = eta(H_evolved)\n",
    "    \n",
    "    # Compute RHS dU/ds = \\eta(s) U(s)\n",
    "    dU_matrix = eta_matrix @ U_matrix\n",
    "    \n",
    "    # Return vector of the RHS\n",
    "    return np.reshape(dU_matrix, -1)"
   ]
  },
  {
   "cell_type": "code",
   "execution_count": null,
   "id": "6588bc83",
   "metadata": {
    "code_folding": [
     0
    ]
   },
   "outputs": [],
   "source": [
    "def U_deriv_lambda(lamb, U_vector, H_initial):\n",
    "    \"\"\"RHS of dU/d\\lambda = -4/\\lambda^5 \\eta(\\lambda) U(\\lambda).\"\"\"\n",
    "    \n",
    "    # Dimension of the Hamiltonian\n",
    "    Ntot = len(H_initial)\n",
    "    \n",
    "    # Change U_vector into matrix form\n",
    "    U_matrix = np.reshape(U_vector, (Ntot, Ntot))\n",
    "    \n",
    "    # Compute H(\\lambda) = U(\\lambda) H(\\infty) U^\\dagger(\\lambda)\n",
    "    H_evolved = U_matrix @ H_initial @ U_matrix.T\n",
    "    \n",
    "    # Compute \\eta(\\lambda) = [H_D(\\lambda), H(\\lambda)]\n",
    "    eta_matrix = eta(H_evolved)\n",
    "    \n",
    "    # Compute RHS dU/d\\lambda = -4/\\lambda^5 \\eta(\\lambda) U(\\lambda)\n",
    "    dU_matrix = -4.0 / lamb ** 5 * eta_matrix @ U_matrix\n",
    "    \n",
    "    # Return vector of the RHS\n",
    "    return np.reshape(dU_matrix, -1)"
   ]
  },
  {
   "cell_type": "code",
   "execution_count": null,
   "id": "69720db0",
   "metadata": {
    "code_folding": [
     0
    ]
   },
   "outputs": [],
   "source": [
    "def get_ode_solver_U(lambda_initial, H_initial, atol, rtol):\n",
    "    \"\"\"Sets up the ODE solver.\"\"\"\n",
    "\n",
    "    # Solving for U(s)\n",
    "    solver = ode(U_deriv_lambda)\n",
    "    solver.set_f_params(H_initial)\n",
    "    \n",
    "    Ntot = len(H_initial)\n",
    "    # Initial SRG transformation as a matrix\n",
    "    U_initial = np.eye(Ntot)\n",
    "\n",
    "    # Initial SRG transformation as a vector\n",
    "    U_initial_vector  = np.reshape(U_initial, -1)\n",
    "\n",
    "    # Set initial conditions\n",
    "    solver.set_initial_value(U_initial_vector, lambda_initial)\n",
    "\n",
    "    # Following the example in Hergert:2016iju with modifications to nsteps and\n",
    "    # error tolerances\n",
    "    solver.set_integrator('vode', method='bdf', order=5, atol=atol, rtol=rtol,\n",
    "                          nsteps=5000000)\n",
    "\n",
    "    return solver"
   ]
  },
  {
   "cell_type": "code",
   "execution_count": null,
   "id": "a37c6a5f",
   "metadata": {
    "code_folding": [
     2
    ]
   },
   "outputs": [],
   "source": [
    "def srg_evolve_U_lambda(\n",
    "        H_initial_MeV, lambda_array, lambda_initial=20.0, atol=1e-10, rtol=1e-10\n",
    "):\n",
    "    \"\"\"SRG evolve the SRG transformation with respect to \\lambda.\"\"\"\n",
    "    \n",
    "    # Convert Hamiltonian from MeV to units [fm^-2]\n",
    "    H_initial = H_initial_MeV / 41.47\n",
    "    Ntot = len(H_initial)\n",
    "\n",
    "    # Set-up ODE solver\n",
    "    solver = get_ode_solver_U(lambda_initial, H_initial, atol, rtol)\n",
    "    \n",
    "    # Start time\n",
    "    t0 = time.time()\n",
    "    \n",
    "    # Evolve the SRG transformation to each value of \\lambda and store in\n",
    "    # dictionary\n",
    "    d = {}\n",
    "    for lamb in lambda_array:\n",
    "        \n",
    "        d[lamb] = {}\n",
    "\n",
    "        # Solve ODE up to lamb and store in dictionary\n",
    "        while solver.successful() and round(solver.t, 2) > lamb:\n",
    "            \n",
    "            # Get ODE solver step-size in \\lambda\n",
    "            dlamb = select_step_size(solver.t, lamb)\n",
    "            \n",
    "            # Integrate to next step in lambda\n",
    "            solution_vector = solver.integrate(solver.t - dlamb)\n",
    "\n",
    "        # Get SRG transformation matrix\n",
    "        U_matrix = np.reshape(solution_vector, (Ntot, Ntot))\n",
    "        d[lamb]['U'] = U_matrix\n",
    "        # Store evolved Hamiltonian matrix [MeV] in dictionary\n",
    "        d[lamb]['H'] = U_matrix @ H_initial @ U_matrix.T * 41.47\n",
    "\n",
    "    # End time\n",
    "    t1 = time.time()\n",
    "\n",
    "    # Print details\n",
    "    mins = round((t1 - t0) / 60.0, 4)  # Minutes elapsed evolving H(\\lambda)\n",
    "    print(f\"Done evolving to \\lambda = {lamb} fm^-1 after {mins:.4f} minutes.\")\n",
    "    \n",
    "    return d"
   ]
  },
  {
   "cell_type": "code",
   "execution_count": null,
   "id": "43dc3693",
   "metadata": {},
   "outputs": [],
   "source": [
    "# Use ode w.r.t. \\lambda using BDF to solve for U(\\lambda)\n",
    "\n",
    "# # Run SRG code\n",
    "# d = run_srg(\n",
    "#     kvnn, channel, generator, lambda_array, kmax, kmid, ntot, solver='U',\n",
    "#     method='BDF', atol=1e-10, rtol=1e-10, wrt='lambda', save=True\n",
    "# )\n",
    "# H_evolved = d[lamb]\n",
    "\n",
    "# Load saved file\n",
    "H_evolved, U_evolved = load_H_evolved(\n",
    "    kvnn, channel, generator, lamb, kmax, kmid, ntot, solver='U', method='BDF',\n",
    "    atol=1e-10, rtol=1e-10, wrt='lambda'\n",
    ")\n",
    "\n",
    "eigenvalues_evol, _ = la.eigh(H_evolved)\n",
    "err = rms_error_eigenvalues(eigenvalues_init, eigenvalues_evol)\n",
    "\n",
    "print(f\"RMS error in eigenvalues = {err}.\")"
   ]
  },
  {
   "cell_type": "markdown",
   "id": "45dabcca",
   "metadata": {},
   "source": [
    "## Diagonal and far-off-diagonal slices of $V(\\infty)$ and $V(\\lambda)$"
   ]
  },
  {
   "cell_type": "code",
   "execution_count": null,
   "id": "6ce53935",
   "metadata": {
    "code_folding": [
     4
    ]
   },
   "outputs": [],
   "source": [
    "def plot_potentials(\n",
    "        kvnn, channel, kmax, kmid, ntot, generator, lambda_array,\n",
    "        x_limits=(0.0,15.0), y_limits=(-4.0,2.0), xlabel_size=16,\n",
    "        ylabel_size=16\n",
    "):\n",
    "    \"\"\"Plot diagonal slices of V(\\infty) and V(\\lambda).\"\"\"\n",
    "    \n",
    "    if channel in ['3S1-3S1', '3S1-3D1', '3D1-3S1', '3D1-3D1']:\n",
    "        channel_arg = '3S1'\n",
    "    elif channel in ['3P2-3P2', '3P2-3F2', '3F2-3P2', '3F2-3F2']:\n",
    "        channel_arg = '3P2'\n",
    "    else:\n",
    "        channel_arg = channel\n",
    "    \n",
    "    # --- Figure set-up --- #\n",
    "    plt.close('all')\n",
    "    row_number = 1\n",
    "    col_number = 2\n",
    "    f, axs = plt.subplots(row_number, col_number, sharex=True, sharey=True,\n",
    "                          figsize=(8, 4))\n",
    "    \n",
    "    # --- Get data --- #  \n",
    "    # Initialize potential object and get its momentum mesh\n",
    "    potential = Potential(kvnn, channel_arg, kmax, kmid, ntot)\n",
    "    k_array, _ = potential.load_mesh()  # fm^-1\n",
    "    \n",
    "    V_initial = potential.load_potential()  # fm\n",
    "    T_matrix = potential.load_kinetic_energy()  # MeV\n",
    "    \n",
    "    # Get specific sub-block if coupled-channel\n",
    "    if channel in ['3S1-3D1', '3P2-3F2', '3D3-3G3']:\n",
    "        V_initial = V_initial[:ntot,ntot:]\n",
    "    elif channel in ['3D1-3S1', '3F2-3P2', '3G3-3D3']:\n",
    "        V_initial = V_initial[ntot:,:ntot]\n",
    "    elif channel in ['3D1-3D1', '3F2-3F2', '3G3-3G3']:\n",
    "        V_initial = V_initial[ntot:,ntot:]\n",
    "    else:\n",
    "        V_initial = V_initial[:ntot,:ntot]\n",
    "        \n",
    "    # Index of off-diagonal k value in k_array\n",
    "    # Add a curve for each \\lambda\n",
    "    for i, lamb in enumerate(lambda_array):\n",
    "        \n",
    "        # SRG-evolved with block-diagonal generator\n",
    "        # V_matrix = potential.load_potential('srg', generator, lamb)\n",
    "#         H_evolved = load_H_evolved(\n",
    "#             kvnn, channel_arg, generator, lamb, kmax, kmid, ntot, solver='ode',\n",
    "#             method='BDF', atol=1e-10, rtol=1e-10, wrt='lambda'\n",
    "#         )\n",
    "        _, U_evolved = load_H_evolved(\n",
    "            kvnn, channel_arg, generator, lamb, kmax, kmid, ntot, solver='U',\n",
    "            method='BDF', atol=1e-10, rtol=1e-10, wrt='lambda'\n",
    "        )\n",
    "        H_evolved = U_evolved @ potential.load_hamiltonian() @ U_evolved.T\n",
    "        V_evolved_MeV = H_evolved - T_matrix  # MeV\n",
    "        V_evolved = potential.convert_V_to_fm(V_evolved_MeV)  # MeV -> fm\n",
    "            \n",
    "        # Get specific sub-block if coupled-channel\n",
    "        if channel in ['3S1-3D1', '3P2-3F2', '3D3-3G3']:\n",
    "            V_matrix = V_evolved[:ntot,ntot:]\n",
    "        elif channel in ['3D1-3S1', '3F2-3P2', '3G3-3D3']:\n",
    "            V_matrix = V_evolved[ntot:,:ntot]\n",
    "        elif channel in ['3D1-3D1', '3F2-3F2', '3G3-3G3']:\n",
    "            V_matrix = V_evolved[ntot:,ntot:]\n",
    "        else:\n",
    "            V_matrix = V_evolved[:ntot,:ntot]\n",
    "        \n",
    "        # --- Plot --- #\n",
    "        lambda_label = label_lambda(lamb, generator)\n",
    "        \n",
    "        # Plot diagonal matrix elements on left column\n",
    "        axs[0].plot(k_array, np.diag(V_matrix), label=lambda_label,\n",
    "                    linewidth=2.0)\n",
    "        \n",
    "        # Plot off-diagonal matrix elements on right column\n",
    "        axs[1].plot(k_array, V_matrix[:, 0], label=lambda_label, linewidth=2.0)\n",
    "        \n",
    "        print(f\"V(kmax, kmax) at \\lambda = {lamb} = {np.diag(V_matrix)[-1]}.\")\n",
    "    print(f\"V(kmax, kmax) unevolved = {np.diag(V_initial)[-1]}.\")\n",
    "        \n",
    "    # Plot initial potential\n",
    "    lambda_label = label_lambda(np.inf, generator)\n",
    "    axs[0].plot(k_array, np.diag(V_initial), 'k:', label=lambda_label,\n",
    "                linewidth=2.0)\n",
    "    axs[1].plot(k_array, V_initial[:, 0], 'k:', label=lambda_label,\n",
    "                linewidth=2.0)\n",
    "\n",
    "    # --- Axes limits --- #\n",
    "    axs[0].set_xlim(x_limits)\n",
    "    axs[0].set_ylim(y_limits)\n",
    "    axs[1].set_xlim(x_limits)\n",
    "    axs[1].set_ylim(y_limits)\n",
    "                    \n",
    "    # --- Axes labels --- #\n",
    "    # Label x-axis on bottom row\n",
    "    axs[0].set_xlabel(\"$k$ [fm\" + r\"$^{-1}$\" + \"]\", fontsize=xlabel_size)\n",
    "    axs[1].set_xlabel(\"$k$ [fm\" + r\"$^{-1}$\" + \"]\", fontsize=xlabel_size)\n",
    "                    \n",
    "    # Label y-axis on left column\n",
    "    axs[0].set_ylabel(r\"$V(k,k)$ [fm]\", fontsize=ylabel_size)\n",
    "    axs[1].set_ylabel(rf\"$V(k,{k_array[0]:.5f})$ [fm]\", fontsize=ylabel_size)\n",
    "\n",
    "    # --- Adjust axes --- #                      \n",
    "    # Amount of white space in-between sub-plots\n",
    "    f.subplots_adjust(hspace=0.05, wspace=0.18)\n",
    "\n",
    "    # --- Legends --- #\n",
    "    # Label kvnns on top row\n",
    "    # axs[0].legend(loc='lower right', fontsize=14, frameon=False)\n",
    "    # Label generators on bottom row\n",
    "    # axs[1].legend(loc='lower right', fontsize=12, frameon=False)\n",
    "    axs[1].legend(fontsize=12, frameon=False)\n",
    "\n",
    "    # --- Additional labels --- #\n",
    "    # Label partial wave channel in last sub-plot\n",
    "    axs[0].set_title(channel)\n",
    "    axs[1].set_title(channel)"
   ]
  },
  {
   "cell_type": "markdown",
   "id": "c8cd85f1",
   "metadata": {},
   "source": [
    "### Set-up"
   ]
  },
  {
   "cell_type": "code",
   "execution_count": null,
   "id": "b3310407",
   "metadata": {},
   "outputs": [],
   "source": [
    "lambda_array = np.array([6.0, 3.0, 2.0, 1.35])"
   ]
  },
  {
   "cell_type": "code",
   "execution_count": null,
   "id": "750b879f",
   "metadata": {},
   "outputs": [],
   "source": [
    "# 1S0\n",
    "plot_potentials(kvnn, '1S0', kmax, kmid, ntot, generator, lambda_array,\n",
    "                x_limits=(0, kmax), y_limits=(-2.3, 1.3))"
   ]
  },
  {
   "cell_type": "code",
   "execution_count": null,
   "id": "c1d5beb7",
   "metadata": {},
   "outputs": [],
   "source": [
    "# 3S1-3S1\n",
    "plot_potentials(kvnn, '3S1-3S1', kmax, kmid, ntot, generator, lambda_array,\n",
    "                x_limits=(0, kmax), y_limits=(-3.4, 1.3))"
   ]
  },
  {
   "cell_type": "code",
   "execution_count": null,
   "id": "086a0b66",
   "metadata": {},
   "outputs": [],
   "source": [
    "# 3S1-3D1\n",
    "plot_potentials(kvnn, '3S1-3D1', kmax, kmid, ntot, generator, lambda_array,\n",
    "                x_limits=(0, kmax), y_limits=(-0.4, 0.1))"
   ]
  },
  {
   "cell_type": "code",
   "execution_count": null,
   "id": "9ea5aa2b",
   "metadata": {},
   "outputs": [],
   "source": [
    "# 3D1-3D1\n",
    "plot_potentials(kvnn, '3D1-3D1', kmax, kmid, ntot, generator, lambda_array,\n",
    "                x_limits=(0, kmax), y_limits=(-0.1, 0.3))"
   ]
  },
  {
   "cell_type": "code",
   "execution_count": null,
   "id": "eb47f689",
   "metadata": {},
   "outputs": [],
   "source": [
    "# # 3P2-3P2\n",
    "# plot_potentials(kvnn, '3P2-3P2', kmax, kmid, ntot, generator, lambda_array,\n",
    "#                 x_limits=(0, kmax), y_limits=(-0.2, 0.15))"
   ]
  },
  {
   "cell_type": "code",
   "execution_count": null,
   "id": "79f0c02a",
   "metadata": {},
   "outputs": [],
   "source": []
  },
  {
   "cell_type": "markdown",
   "id": "09653f5c",
   "metadata": {},
   "source": [
    "## Testing updated `srg.py`"
   ]
  },
  {
   "cell_type": "code",
   "execution_count": 18,
   "id": "4eaa38b4",
   "metadata": {},
   "outputs": [],
   "source": [
    "from scripts.srg import SRG, compute_srg_transformation"
   ]
  },
  {
   "cell_type": "code",
   "execution_count": 19,
   "id": "4c30360a",
   "metadata": {},
   "outputs": [],
   "source": [
    "lambda_array = np.array([6.0, 4.0, 3.0, 2.5, 2.0, 1.5, 1.35])\n",
    "lamb = lambda_array[-1]"
   ]
  },
  {
   "cell_type": "code",
   "execution_count": 20,
   "id": "2ec004c0",
   "metadata": {},
   "outputs": [],
   "source": [
    "# SMS N4LO 450 MeV 1S0 initial\n",
    "srg_1S0 = SRG(111, '1S0', 15.0, 3.0, 120, 'Wegner')\n",
    "H_initial_1S0 = srg_1S0.load_hamiltonian()\n",
    "eigenvalues_initial_1S0, _ = la.eigh(H_initial_1S0)"
   ]
  },
  {
   "cell_type": "code",
   "execution_count": 21,
   "id": "28007127",
   "metadata": {},
   "outputs": [],
   "source": [
    "# SMS N4LO 450 MeV 3S1-3D1 initial\n",
    "srg_3S1 = SRG(111, '3S1', 15.0, 3.0, 120, 'Wegner')\n",
    "H_initial_3S1 = srg_3S1.load_hamiltonian()\n",
    "eigenvalues_initial_3S1, _ = la.eigh(H_initial_3S1)"
   ]
  },
  {
   "cell_type": "code",
   "execution_count": 22,
   "id": "5e2d4672",
   "metadata": {},
   "outputs": [
    {
     "name": "stdout",
     "output_type": "stream",
     "text": [
      "_____________________________________________________________________________________\n",
      "Done evolving to final \\lambda = 1.35 fm^-1 after 0.9752 minutes.\n",
      "_____________________________________________________________________________________\n",
      "\n",
      "Specifications:\n",
      "\n",
      "kvnn = 111, channel = 1S0\n",
      "kmax = 15.0, kmid = 3.0, ntot = 120\n",
      "method = SRG, generator = Wegner\n"
     ]
    },
    {
     "data": {
      "text/plain": [
       "1.2266153133151528e-07"
      ]
     },
     "execution_count": 22,
     "metadata": {},
     "output_type": "execute_result"
    }
   ],
   "source": [
    "# SRG-evolving H(\\lambda) for SMS N4LO 450 MeV 1S0\n",
    "d = srg_1S0.srg_evolve(lambda_array, method='hamiltonian', save=True)\n",
    "eigenvalues_evolved_1S0, _ = la.eigh(d[lamb]*41.47)\n",
    "rms_error_eigenvalues(eigenvalues_initial_1S0, eigenvalues_evolved_1S0)"
   ]
  },
  {
   "cell_type": "code",
   "execution_count": 23,
   "id": "f776b3ae",
   "metadata": {},
   "outputs": [
    {
     "name": "stdout",
     "output_type": "stream",
     "text": [
      "_____________________________________________________________________________________\n",
      "Done evolving to final \\lambda = 1.35 fm^-1 after 3.5312 minutes.\n",
      "_____________________________________________________________________________________\n",
      "\n",
      "Specifications:\n",
      "\n",
      "kvnn = 111, channel = 3S1\n",
      "kmax = 15.0, kmid = 3.0, ntot = 120\n",
      "method = SRG, generator = Wegner\n"
     ]
    },
    {
     "data": {
      "text/plain": [
       "4.5518884150467e-07"
      ]
     },
     "execution_count": 23,
     "metadata": {},
     "output_type": "execute_result"
    }
   ],
   "source": [
    "# SRG-evolving H(\\lambda) for SMS N4LO 450 MeV 3S1-3D1\n",
    "d = srg_3S1.srg_evolve(lambda_array, method='hamiltonian', save=True)\n",
    "U_matrix_1 = compute_srg_transformation(H_initial_3S1, d[lamb]*41.47)\n",
    "eigenvalues_evolved_3S1, _ = la.eigh(d[lamb]*41.47)\n",
    "rms_error_eigenvalues(eigenvalues_initial_3S1, eigenvalues_evolved_3S1)"
   ]
  },
  {
   "cell_type": "code",
   "execution_count": 24,
   "id": "fe2587fb",
   "metadata": {},
   "outputs": [
    {
     "name": "stdout",
     "output_type": "stream",
     "text": [
      "_____________________________________________________________________________________\n",
      "Done evolving to final \\lambda = 1.35 fm^-1 after 0.9519 minutes.\n",
      "_____________________________________________________________________________________\n",
      "\n",
      "Specifications:\n",
      "\n",
      "kvnn = 111, channel = 1S0\n",
      "kmax = 15.0, kmid = 3.0, ntot = 120\n",
      "method = SRG, generator = Wegner\n"
     ]
    },
    {
     "data": {
      "text/plain": [
       "5.015779000768689e-06"
      ]
     },
     "execution_count": 24,
     "metadata": {},
     "output_type": "execute_result"
    }
   ],
   "source": [
    "# SRG-evolving U(\\lambda) for SMS N4LO 450 MeV 1S0\n",
    "d = srg_1S0.srg_evolve(lambda_array, method='srg_transformation', save=True)\n",
    "eigenvalues_evolved_1S0, _ = la.eigh(d[lamb] @ H_initial_1S0 @ d[lamb].T)\n",
    "rms_error_eigenvalues(eigenvalues_initial_1S0, eigenvalues_evolved_1S0)"
   ]
  },
  {
   "cell_type": "code",
   "execution_count": 25,
   "id": "b8ceef7d",
   "metadata": {},
   "outputs": [
    {
     "name": "stdout",
     "output_type": "stream",
     "text": [
      "_____________________________________________________________________________________\n",
      "Done evolving to final \\lambda = 1.35 fm^-1 after 3.0569 minutes.\n",
      "_____________________________________________________________________________________\n",
      "\n",
      "Specifications:\n",
      "\n",
      "kvnn = 111, channel = 3S1\n",
      "kmax = 15.0, kmid = 3.0, ntot = 120\n",
      "method = SRG, generator = Wegner\n"
     ]
    },
    {
     "data": {
      "text/plain": [
       "5.868937597956269e-06"
      ]
     },
     "execution_count": 25,
     "metadata": {},
     "output_type": "execute_result"
    }
   ],
   "source": [
    "# SRG-evolving U(\\lambda) for SMS N4LO 450 MeV 3S1-3D1\n",
    "d = srg_3S1.srg_evolve(lambda_array, method='srg_transformation', save=True)\n",
    "U_matrix_2 = srg_3S1.load_srg_transformation(lamb)\n",
    "eigenvalues_evolved_3S1, _ = la.eigh(d[lamb] @ H_initial_3S1 @ d[lamb].T)\n",
    "rms_error_eigenvalues(eigenvalues_initial_3S1, eigenvalues_evolved_3S1)"
   ]
  },
  {
   "cell_type": "code",
   "execution_count": 26,
   "id": "14df8909",
   "metadata": {},
   "outputs": [
    {
     "name": "stdout",
     "output_type": "stream",
     "text": [
      "_____________________________________________________________________________________\n",
      "Done evolving to final \\lambda = 1.35 fm^-1 after 9.9463 minutes.\n",
      "_____________________________________________________________________________________\n",
      "\n",
      "Specifications:\n",
      "\n",
      "kvnn = 111, channel = 1S0\n",
      "kmax = 15.0, kmid = 3.0, ntot = 120\n",
      "method = SRG, generator = Block-diag\n",
      "Final \\Lambda_BD = 1.35 fm^-1\n"
     ]
    },
    {
     "data": {
      "text/plain": [
       "3.185278278378581e-06"
      ]
     },
     "execution_count": 26,
     "metadata": {},
     "output_type": "execute_result"
    }
   ],
   "source": [
    "# Testing block-diagonal evolution\n",
    "srg_1S0_BD = SRG(111, '1S0', 15.0, 3.0, 120, 'Block-diag')\n",
    "d = srg_1S0_BD.srg_evolve(lambda_array, lambda_array,\n",
    "                          method='srg_transformation', save=True)\n",
    "eigenvalues_evolved_1S0, _ = la.eigh(\n",
    "    d[3.0][lamb] @ H_initial_1S0 @ d[3.0][lamb].T\n",
    ")\n",
    "rms_error_eigenvalues(eigenvalues_initial_1S0, eigenvalues_evolved_1S0)"
   ]
  },
  {
   "cell_type": "code",
   "execution_count": 27,
   "id": "9b3950bc",
   "metadata": {},
   "outputs": [
    {
     "name": "stdout",
     "output_type": "stream",
     "text": [
      "[[-4.43429404e-10  3.75737805e-09  1.85284574e-09 ... -3.86597872e-15\n",
      "  -6.05172614e-15 -4.81271538e-12]\n",
      " [-3.75742189e-09 -2.84283103e-08  1.79457644e-08 ... -3.06657256e-14\n",
      "  -4.82870051e-14 -3.83217951e-11]\n",
      " [-1.85302229e-09 -1.79472508e-08  3.13606590e-08 ... -9.06272503e-14\n",
      "  -1.41800782e-13 -1.12786559e-10]\n",
      " ...\n",
      " [ 9.96878691e-16  7.82004196e-15  2.32416501e-14 ... -1.68104414e-08\n",
      "   1.09635925e-09  6.11515564e-10]\n",
      " [ 4.89657067e-15  3.89076423e-14  1.14664091e-13 ... -9.34662945e-10\n",
      "  -2.18111484e-09  6.47948304e-10]\n",
      " [ 4.81235612e-12  3.83189840e-11  1.12777584e-10 ... -6.15662384e-10\n",
      "  -5.54172801e-10 -2.63194496e-08]]\n"
     ]
    }
   ],
   "source": [
    "print(U_matrix_1-U_matrix_2)"
   ]
  },
  {
   "cell_type": "code",
   "execution_count": null,
   "id": "6b0e0b8d",
   "metadata": {},
   "outputs": [],
   "source": []
  },
  {
   "cell_type": "code",
   "execution_count": null,
   "id": "30fcaf1a",
   "metadata": {},
   "outputs": [],
   "source": []
  },
  {
   "cell_type": "code",
   "execution_count": null,
   "id": "07624e59",
   "metadata": {},
   "outputs": [],
   "source": []
  },
  {
   "cell_type": "code",
   "execution_count": null,
   "id": "39a4069f",
   "metadata": {},
   "outputs": [],
   "source": []
  },
  {
   "cell_type": "code",
   "execution_count": null,
   "id": "521f4494",
   "metadata": {},
   "outputs": [],
   "source": []
  },
  {
   "cell_type": "code",
   "execution_count": null,
   "id": "7716c07c",
   "metadata": {},
   "outputs": [],
   "source": []
  },
  {
   "cell_type": "code",
   "execution_count": null,
   "id": "96202644",
   "metadata": {},
   "outputs": [],
   "source": []
  },
  {
   "cell_type": "code",
   "execution_count": null,
   "id": "48e0550e",
   "metadata": {},
   "outputs": [],
   "source": []
  },
  {
   "cell_type": "code",
   "execution_count": null,
   "id": "eff7c4ac",
   "metadata": {},
   "outputs": [],
   "source": []
  }
 ],
 "metadata": {
  "kernelspec": {
   "display_name": "Python 3 (ipykernel)",
   "language": "python",
   "name": "python3"
  },
  "language_info": {
   "codemirror_mode": {
    "name": "ipython",
    "version": 3
   },
   "file_extension": ".py",
   "mimetype": "text/x-python",
   "name": "python",
   "nbconvert_exporter": "python",
   "pygments_lexer": "ipython3",
   "version": "3.9.13"
  }
 },
 "nbformat": 4,
 "nbformat_minor": 5
}

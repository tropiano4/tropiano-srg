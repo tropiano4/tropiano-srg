{
 "cells": [
  {
   "cell_type": "markdown",
   "id": "d759fa66",
   "metadata": {},
   "source": [
    "# Testing implementation and accuracy of solving SRG flow equations\n",
    "\n",
    "__Author:__ A. J. Tropiano [atropiano@anl.gov]<br/>\n",
    "__Date:__ March 1, 2023\n",
    "\n",
    "The goal of this notebook is to test our implementation of the SRG. We explore different ODE solvers, error tolerances, and different implementations (e.g., solving directly for $U(s)$, or solving with respect to $\\lambda$ instead of $s$.)<br>\n",
    "\n",
    "_Last update:_ March 2, 2023"
   ]
  },
  {
   "cell_type": "code",
   "execution_count": 1,
   "id": "baa19e5f",
   "metadata": {},
   "outputs": [],
   "source": [
    "# Python imports\n",
    "from matplotlib.offsetbox import AnchoredText\n",
    "import matplotlib.pyplot as plt\n",
    "%matplotlib inline\n",
    "import numpy as np\n",
    "import numpy.linalg as la\n",
    "from scipy.integrate import ode, solve_ivp\n",
    "import time"
   ]
  },
  {
   "cell_type": "code",
   "execution_count": 2,
   "id": "f72990f8",
   "metadata": {},
   "outputs": [],
   "source": [
    "# Imports from scripts\n",
    "from scripts.figures import interpolate_matrix, set_rc_parameters\n",
    "from scripts.potentials import Potential"
   ]
  },
  {
   "cell_type": "code",
   "execution_count": 3,
   "id": "ddac854a",
   "metadata": {},
   "outputs": [],
   "source": [
    "# Run this cell to turn on customized matplotlib graphics\n",
    "set_rc_parameters()"
   ]
  },
  {
   "cell_type": "markdown",
   "id": "15534b6d",
   "metadata": {},
   "source": [
    "## Set-up"
   ]
  },
  {
   "cell_type": "code",
   "execution_count": 4,
   "id": "a50094b2",
   "metadata": {
    "code_folding": [
     0
    ]
   },
   "outputs": [],
   "source": [
    "def rms_error_eigenvalues(eigenvalues_initial, eigenvalues_evolved):\n",
    "    \"\"\"Calculate the root-mean-square error of the evolved and initial\n",
    "    eigenvalues.\n",
    "    \"\"\"\n",
    "    \n",
    "    # Number of eigenvalues\n",
    "    N = len(eigenvalues_initial)\n",
    "    \n",
    "    return np.sqrt(np.sum((eigenvalues_evolved - eigenvalues_initial) ** 2) / N)"
   ]
  },
  {
   "cell_type": "code",
   "execution_count": 5,
   "id": "aa35055c",
   "metadata": {
    "code_folding": [
     0
    ]
   },
   "outputs": [],
   "source": [
    "def unattach_weights(k_array, k_weights, matrix_weights):\n",
    "    \"\"\"Unattach the integration weights from a matrix.\"\"\"\n",
    "\n",
    "    # Double the length of the factor_array if coupled-channel\n",
    "    if len(matrix_weights) == 2*len(k_array):\n",
    "        factor_array = np.concatenate((\n",
    "            np.sqrt(2 / np.pi * k_weights) * k_array,\n",
    "            np.sqrt(2 / np.pi * k_weights) * k_array\n",
    "        ))\n",
    "    elif len(matrix_weights) == len(k_array):\n",
    "        factor_array = np.sqrt(2 / np.pi * k_weights) * k_array\n",
    "    else:\n",
    "        raise RuntimeError(\"Length of matrix_weights is not compatible with \"\n",
    "                           \"length of k_array.\")\n",
    "    \n",
    "    # Create meshgrids to divide out factor of 2/\\pi * k_i k_j \\sqrt(w_i * w_j)\n",
    "    row, col = np.meshgrid(factor_array, factor_array, indexing='ij')\n",
    "\n",
    "    return matrix_weights / row / col"
   ]
  },
  {
   "cell_type": "code",
   "execution_count": 6,
   "id": "22274fb9",
   "metadata": {
    "code_folding": [
     5
    ]
   },
   "outputs": [],
   "source": [
    "def plot_contour(\n",
    "        k_array, matrix_no_weights, channel, levels_number=61,\n",
    "        colorbar_limits=(-1.0,1.0), color_map='turbo', axes_limits=(0.0,10.0),\n",
    "        xlabel_size=16, ylabel_size=16, label=None,\n",
    "        label_location='upper right', label_size=16\n",
    "):\n",
    "    \n",
    "    # --- Figure set-up --- #\n",
    "    plt.close('all')\n",
    "    f, ax = plt.subplots(figsize=(4,4))\n",
    "    \n",
    "    # Set contour levels\n",
    "    levels = np.linspace(colorbar_limits[0], colorbar_limits[1],\n",
    "                         levels_number)\n",
    "\n",
    "    # --- Plot --- #\n",
    "    if channel == '3S1-3D1':\n",
    "        c = ax.contourf(k_array, k_array, matrix_no_weights[:ntot, ntot:],\n",
    "                        levels, cmap=color_map, extend='both')\n",
    "    elif channel == '3D1-3S1':\n",
    "        c = ax.contourf(k_array, k_array, matrix_no_weights[ntot:, :ntot],\n",
    "                        levels, cmap=color_map, extend='both')\n",
    "    elif channel == '3D1-3D1':\n",
    "        c = ax.contourf(k_array, k_array, matrix_no_weights[ntot:, ntot:],\n",
    "                        levels, cmap=color_map, extend='both')\n",
    "    else:\n",
    "        c = ax.contourf(k_array, k_array, matrix_no_weights[:ntot, :ntot],\n",
    "                        levels, cmap=color_map, extend='both')\n",
    "\n",
    "    # --- Axes limits --- #\n",
    "    ax.set_xlim(axes_limits)\n",
    "    ax.set_ylim(axes_limits)\n",
    "\n",
    "    # --- Axes labels --- #\n",
    "    ax.set_xlabel(\"$k'$ [fm\" + r\"$^{-1}$\" + \"]\", fontsize=xlabel_size)\n",
    "    ax.set_ylabel(\"$k$ [fm\" + r\"$^{-1}$\" + \"]\", fontsize=ylabel_size)\n",
    "    \n",
    "    # --- Adjust axes --- #\n",
    "    # Switch x-axis label from bottom to top\n",
    "    ax.xaxis.set_label_position('top')\n",
    "    ax.tick_params(labeltop=True, labelbottom=False)\n",
    "    # Invert y-axis\n",
    "    ax.invert_yaxis()\n",
    "    \n",
    "    # --- Colorbar --- #\n",
    "    # Colorbar location (left, bottom, width, height)\n",
    "    cbar_ax = f.add_axes((1.0, 0.15, 0.1, 0.7))\n",
    "    # Set colorbar ticks\n",
    "    levels_ticks = np.linspace(colorbar_limits[0], colorbar_limits[1], 9)\n",
    "    # Set colorbar\n",
    "    cbar = f.colorbar(c, cax=cbar_ax, ticks=levels_ticks, format='%.2e')\n",
    "    \n",
    "    # --- Label contour plot --- #\n",
    "    if label is not None:\n",
    "        ax.add_artist(\n",
    "            AnchoredText(label, loc=label_location, prop=dict(size=label_size))\n",
    "        )"
   ]
  },
  {
   "cell_type": "code",
   "execution_count": 7,
   "id": "deb322dc",
   "metadata": {},
   "outputs": [],
   "source": [
    "kvnn = 6  # AV18\n",
    "# kvnn = 111  # SMS N4LO 450 MeV\n",
    "# channel = '1S0'\n",
    "channel = '3S1'\n",
    "kmax, kmid, ntot = 15.0, 3.0, 120\n",
    "# kmax, kmid, ntot = 30.0, 4.0, 120  # Different mesh for AV18\n",
    "generator = 'Wegner'\n",
    "lamb = 1.35\n",
    "# lamb = 2.0\n",
    "# lamb = 3.0\n",
    "\n",
    "potential = Potential(kvnn, channel, kmax, kmid, ntot)"
   ]
  },
  {
   "cell_type": "code",
   "execution_count": 8,
   "id": "03827f27",
   "metadata": {},
   "outputs": [],
   "source": [
    "# Initial Hamiltonian with integration factors attached [MeV]\n",
    "H_initial_weights = potential.load_hamiltonian()"
   ]
  },
  {
   "cell_type": "code",
   "execution_count": 9,
   "id": "758b05de",
   "metadata": {},
   "outputs": [],
   "source": [
    "# Get momentum mesh\n",
    "k_array, k_weights = potential.load_mesh()"
   ]
  },
  {
   "cell_type": "markdown",
   "id": "8461e10d",
   "metadata": {},
   "source": [
    "## Test calculation of the SRG transformation using eigenvectors"
   ]
  },
  {
   "cell_type": "markdown",
   "id": "14dac515",
   "metadata": {},
   "source": [
    "$$\n",
    "U(\\lambda) = \\sum_\\alpha \\lvert \\psi_\\alpha(\\lambda \\rangle \\langle \\psi_\\alpha(\\infty) \\rvert\n",
    "$$"
   ]
  },
  {
   "cell_type": "code",
   "execution_count": 10,
   "id": "294ecd30",
   "metadata": {
    "code_folding": [
     1
    ]
   },
   "outputs": [],
   "source": [
    "def get_transformation(H_initial, H_evolved):\n",
    "    \"\"\"\n",
    "    SRG unitary transformation built out of eigenvectors of the initial and \n",
    "    evolved Hamiltonians.\n",
    "    \n",
    "    Parameters\n",
    "    ----------\n",
    "    H_initial : 2-D ndarray\n",
    "        Initial Hamiltonian matrix [MeV].\n",
    "    H_evolved : 2-D ndarray\n",
    "        Evolved Hamiltonian matrix [MeV].\n",
    "        \n",
    "    Returns\n",
    "    -------\n",
    "    U_matrix : 2-D ndarray\n",
    "        SRG unitary transformation matrix.\n",
    "        \n",
    "    \"\"\"\n",
    "\n",
    "    Ntot = len(H_initial)\n",
    "\n",
    "    # Get the eigenvectors of the initial and SRG-evolved Hamiltonians\n",
    "    _, vecs_initial = la.eigh(H_initial)\n",
    "    _, vecs_evolved = la.eigh(H_evolved)\n",
    "\n",
    "    # Initialize unitary transformation U with same size as Hamiltonians\n",
    "    U_matrix = np.zeros((Ntot, Ntot))\n",
    "\n",
    "    # Transformation is given by summing over the outer product of evolved and\n",
    "    # initial eigenvectors\n",
    "    for alpha in range(Ntot):\n",
    "\n",
    "        # Individual eigenvectors (these are already sorted correctly from \n",
    "        # numpy.linalg.eigh)\n",
    "        psi_alpha_initial = vecs_initial[:, alpha]\n",
    "        psi_alpha_evolved = vecs_evolved[:, alpha]\n",
    "\n",
    "        # Make sure the phases match\n",
    "        if psi_alpha_initial.T @ psi_alpha_evolved < 0:\n",
    "            psi_alpha_evolved = -psi_alpha_evolved\n",
    "\n",
    "        # Outer product of eigenvectors\n",
    "        U_matrix += np.outer(psi_alpha_evolved, psi_alpha_initial)\n",
    "\n",
    "    return U_matrix"
   ]
  },
  {
   "cell_type": "code",
   "execution_count": 11,
   "id": "234d7ee1",
   "metadata": {},
   "outputs": [],
   "source": [
    "# Evolved Hamiltonians with integration factors attached [MeV]\n",
    "H_evolved_weights = potential.load_hamiltonian('srg', generator, lamb)\n",
    "\n",
    "# SRG transformation with integration factors attached [unitless]\n",
    "U_matrix_weights = get_transformation(H_initial_weights, H_evolved_weights)"
   ]
  },
  {
   "cell_type": "markdown",
   "id": "57214a23",
   "metadata": {},
   "source": [
    "Check that $U(\\lambda) H(\\infty) U^\\dagger(\\lambda) = H(\\lambda)$ where $U(\\lambda)$ is calculated using the eigenvectors of $H(\\infty)$ and $H(\\lambda)$."
   ]
  },
  {
   "cell_type": "code",
   "execution_count": 12,
   "id": "8a519a97",
   "metadata": {},
   "outputs": [
    {
     "name": "stdout",
     "output_type": "stream",
     "text": [
      "[[-1.10731001e-09 -7.74232372e-09 -2.37686399e-08 ...  5.05802913e-14\n",
      "   1.10967489e-13  1.18354527e-13]\n",
      " [-7.74232372e-09 -7.15595786e-08 -1.90808288e-07 ...  1.57260257e-12\n",
      "   1.30191152e-12  1.28877772e-12]\n",
      " [-2.37686399e-08 -1.90808288e-07 -6.74286463e-07 ...  1.44239829e-12\n",
      "   2.29178915e-12  3.02730182e-12]\n",
      " ...\n",
      " [ 5.05801567e-14  1.57260500e-12  1.44239960e-12 ...  7.95743554e-04\n",
      "   2.02186489e-04  2.39342791e-04]\n",
      " [ 1.10967503e-13  1.30191189e-12  2.29178885e-12 ...  2.02186489e-04\n",
      "   1.16867064e-03  6.08212738e-04]\n",
      " [ 1.18354555e-13  1.28877760e-12  3.02730254e-12 ...  2.39342791e-04\n",
      "   6.08212738e-04  1.27740385e-03]]\n",
      "0.017949958227287715\n"
     ]
    }
   ],
   "source": [
    "H_evolved_weights_2 = U_matrix_weights @ H_initial_weights @ U_matrix_weights.T\n",
    "zero_matrix_weights = H_evolved_weights_2-H_evolved_weights\n",
    "print(zero_matrix_weights)\n",
    "print(la.norm(zero_matrix_weights))"
   ]
  },
  {
   "cell_type": "code",
   "execution_count": 13,
   "id": "51c1d18b",
   "metadata": {},
   "outputs": [],
   "source": [
    "# Remove integration weights from zero_matrix\n",
    "zero_matrix_no_weights = unattach_weights(k_array, k_weights,\n",
    "                                          zero_matrix_weights)"
   ]
  },
  {
   "cell_type": "code",
   "execution_count": 14,
   "id": "1ffb9451",
   "metadata": {},
   "outputs": [
    {
     "data": {
      "image/png": "[encoded data removed]",
      "text/plain": [
       "<Figure size 600x600 with 2 Axes>"
      ]
     },
     "metadata": {},
     "output_type": "display_data"
    }
   ],
   "source": [
    "# Plot zero_matrix\n",
    "contour_label = r\"$U(\\lambda) H(\\infty) U^\\dagger(\\lambda) - H(\\lambda)$\"\n",
    "plot_contour(\n",
    "    k_array, zero_matrix_no_weights, channel, colorbar_limits=(-1e-4,1e-4),\n",
    "    axes_limits=(0, 15), label=contour_label, label_size=13\n",
    ")"
   ]
  },
  {
   "cell_type": "markdown",
   "id": "dcdba5ab",
   "metadata": {},
   "source": [
    "Compare the eigenvalues of $H(\\lambda)$, $U(\\lambda) H(\\infty) U^\\dagger(\\lambda)$, and $H(\\infty)$."
   ]
  },
  {
   "cell_type": "code",
   "execution_count": 15,
   "id": "d5d54f07",
   "metadata": {},
   "outputs": [
    {
     "name": "stdout",
     "output_type": "stream",
     "text": [
      "RMS error with H(\\lambda) = 0.0011586648223844852.\n",
      "RMS error with U H(\\infty) U^\\dagger = 5.808172208757572e-12.\n"
     ]
    }
   ],
   "source": [
    "eigenvalues_1, _ = la.eigh(H_evolved_weights)\n",
    "eigenvalues_2, _ = la.eigh(H_evolved_weights_2)\n",
    "eigenvalues_init, _ = la.eigh(H_initial_weights)\n",
    "\n",
    "err_1 = rms_error_eigenvalues(eigenvalues_init, eigenvalues_1)\n",
    "err_2 = rms_error_eigenvalues(eigenvalues_init, eigenvalues_2)\n",
    "\n",
    "print(f\"RMS error with H(\\lambda) = {err_1}.\")\n",
    "print(f\"RMS error with U H(\\infty) U^\\dagger = {err_2}.\")"
   ]
  },
  {
   "cell_type": "markdown",
   "id": "c88769ad",
   "metadata": {},
   "source": [
    "## Solving the SRG flow equation"
   ]
  },
  {
   "cell_type": "markdown",
   "id": "b75a475e",
   "metadata": {},
   "source": [
    "$$\n",
    "\\frac{dH}{ds} = \\bigl[[H_D(s), H(s)], H(s) \\bigr]\n",
    "$$"
   ]
  },
  {
   "cell_type": "code",
   "execution_count": 16,
   "id": "7a8845e2",
   "metadata": {
    "code_folding": [
     0
    ]
   },
   "outputs": [],
   "source": [
    "def matrix_to_vector(M):\n",
    "    \"\"\"\n",
    "    Takes the upper triangle of the matrix M (including the diagonal) and\n",
    "    reshapes it into a vector v.\n",
    "        \n",
    "    Parameters\n",
    "    ----------\n",
    "    M : 2-D ndarray\n",
    "        Input matrix of shape (N, N).\n",
    "            \n",
    "    Returns\n",
    "    -------\n",
    "    v : 1-D ndarray\n",
    "        Output vector of shape (N*(N+1)/2,).\n",
    "            \n",
    "    \"\"\"\n",
    "\n",
    "    # Length of matrix\n",
    "    N = len(M)\n",
    "    # Length of vectorized matrix\n",
    "    n = int(N * (N + 1) / 2)\n",
    "\n",
    "    # Initialize vectorized matrix\n",
    "    v = np.zeros(n)\n",
    "\n",
    "    # Algorithm for reshaping M to the vector v\n",
    "    i = 0\n",
    "    j = N\n",
    "    for k in range(N):\n",
    "        v[i:j] = M[k][k:]\n",
    "        i = j\n",
    "        j += N - k - 1\n",
    "\n",
    "    return v"
   ]
  },
  {
   "cell_type": "code",
   "execution_count": 17,
   "id": "513434be",
   "metadata": {
    "code_folding": [
     0
    ]
   },
   "outputs": [],
   "source": [
    "def vector_to_matrix(v):\n",
    "    \"\"\"\n",
    "    Takes the vector of an upper triangle matrix v and returns the full matrix\n",
    "    M. Use only for symmetric matrices.\n",
    "        \n",
    "    Parameters\n",
    "    ----------\n",
    "    v : 1-D ndarray\n",
    "        Input vector of shape (N*(N+1)/2,).\n",
    "        \n",
    "    Returns\n",
    "    -------\n",
    "    output : 2-D ndarray\n",
    "        Output matrix of shape (N, N).\n",
    "            \n",
    "    \"\"\"\n",
    "    \n",
    "    # Dimension of matrix is found by solving for the positive solution to\n",
    "    # n = N(N+1)/2, where n is the length of the vector\n",
    "    N = int((-1 + np.sqrt(1 + 8 * len(v))) / 2)\n",
    "\n",
    "    # Initialize matrix\n",
    "    M = np.zeros((N, N))\n",
    "\n",
    "    # Build the upper half of matrix with the diagonal included\n",
    "\n",
    "    # Algorithm for reshaping v to the matrix M\n",
    "    i = 0\n",
    "    j = N\n",
    "    for k in range(N):\n",
    "        M[k, k:] = v[i:j]\n",
    "        i = j\n",
    "        j += N - k - 1\n",
    "\n",
    "    # Now reflect the upper half to lower half to build full matrix\n",
    "    # M.T - np.diag(np.diag(M)) is the lower half of M excluding diagonal\n",
    "    return M + (M.T - np.diag(np.diag(M)))"
   ]
  },
  {
   "cell_type": "code",
   "execution_count": 18,
   "id": "c692f5e3",
   "metadata": {
    "code_folding": [
     0
    ]
   },
   "outputs": [],
   "source": [
    "def commutator(A, B):\n",
    "    \"\"\"Commutator of square matrices A and B.\"\"\"\n",
    "\n",
    "    return A @ B - B @ A"
   ]
  },
  {
   "cell_type": "code",
   "execution_count": 19,
   "id": "91505f85",
   "metadata": {
    "code_folding": [
     0
    ]
   },
   "outputs": [],
   "source": [
    "def eta(H_matrix):\n",
    "    \"\"\"Wegner generator \\eta = [H_D, H].\"\"\"\n",
    "\n",
    "    # G = H_D (diagonal of the evolving Hamiltonian)\n",
    "    G_matrix = np.diag(np.diag(H_matrix))\n",
    "\n",
    "    # \\eta = [G, H]\n",
    "    return commutator(G_matrix, H_matrix)"
   ]
  },
  {
   "cell_type": "code",
   "execution_count": 20,
   "id": "5a7d3ce6",
   "metadata": {
    "code_folding": [
     0
    ]
   },
   "outputs": [],
   "source": [
    "def H_deriv(lamb, H_vector):\n",
    "    \"\"\"Right-hand side of the SRG flow equation.\"\"\"\n",
    "\n",
    "    # Matrix form of the evolving Hamiltonian\n",
    "    H_matrix = vector_to_matrix(H_vector)\n",
    "\n",
    "    # Get SRG generator \\eta = [G, H]\n",
    "    eta_matrix = eta(H_matrix)\n",
    "\n",
    "    # RHS of the flow equation in matrix form\n",
    "    dH_matrix = -4.0 / lamb ** 5 * commutator(eta_matrix, H_matrix)\n",
    "\n",
    "    # Returns vector form of RHS of flow equation\n",
    "    dH_vector = matrix_to_vector(dH_matrix)\n",
    "\n",
    "    return dH_vector"
   ]
  },
  {
   "cell_type": "code",
   "execution_count": 21,
   "id": "c71a6131",
   "metadata": {
    "code_folding": [
     0
    ]
   },
   "outputs": [],
   "source": [
    "def select_step_size(solver_lambda, lambda_final):\n",
    "    \"\"\"Select ODE solver step-size depending on the extent of evolution. We\n",
    "    can take bigger steps at large values of \\lambda.\n",
    "    \"\"\"\n",
    "\n",
    "    if solver_lambda >= 6.0:\n",
    "        dlamb = 1.0\n",
    "    elif 2.5 <= solver_lambda < 6.0:\n",
    "        dlamb = 0.5\n",
    "    else:\n",
    "        dlamb = 0.1\n",
    "\n",
    "    # This if statement prevents the solver from over-shooting \\lambda and\n",
    "    # takes a step in \\lambda equal to the exact amount necessary to reach \n",
    "    # lambda_final\n",
    "    if solver_lambda - dlamb < lambda_final:\n",
    "        dlamb = solver_lambda - lambda_final\n",
    "\n",
    "    return dlamb"
   ]
  },
  {
   "cell_type": "code",
   "execution_count": 22,
   "id": "d6653678",
   "metadata": {
    "code_folding": [
     0
    ]
   },
   "outputs": [],
   "source": [
    "def get_ode_solver(lambda_initial, H_initial, atol, rtol):\n",
    "    \"\"\"Sets up the ODE solver.\"\"\"\n",
    "\n",
    "    # Solving for H(s)\n",
    "    solver = ode(H_deriv)\n",
    "\n",
    "    # Initial Hamiltonian as a vector\n",
    "    H_initial = matrix_to_vector(H_initial)\n",
    "\n",
    "    # Set initial conditions\n",
    "    solver.set_initial_value(H_initial, lambda_initial)\n",
    "\n",
    "    # Following the example in Hergert:2016iju with modifications to nsteps and\n",
    "    # error tolerances\n",
    "    solver.set_integrator('vode', method='bdf', order=5, atol=atol, rtol=rtol,\n",
    "                          nsteps=5000000)\n",
    "\n",
    "    return solver"
   ]
  },
  {
   "cell_type": "code",
   "execution_count": 23,
   "id": "5cb29acd",
   "metadata": {
    "code_folding": []
   },
   "outputs": [],
   "source": [
    "def srg_evolve_wrt_lambda(\n",
    "        H_initial_MeV, lambda_array, lambda_initial=20.0, atol=1e-6, rtol=1e-6\n",
    "):\n",
    "    \"\"\"SRG evolve the Hamiltonian with respect to \\lambda.\"\"\"\n",
    "    \n",
    "    # Convert Hamiltonian from MeV to units [fm^-2]\n",
    "    H_initial = H_initial_MeV / 41.47\n",
    "\n",
    "    # Set-up ODE solver\n",
    "    solver = get_ode_solver(lambda_initial, H_initial, atol, rtol)\n",
    "    \n",
    "    # Start time\n",
    "    t0 = time.time()\n",
    "    \n",
    "    # Evolve the Hamiltonian to each value of \\lambda and store in dictionary\n",
    "    d = {}\n",
    "    for lamb in lambda_array:\n",
    "\n",
    "        # Solve ODE up to lamb and store in dictionary\n",
    "        while solver.successful() and solver.t > lamb:\n",
    "            \n",
    "            # Get ODE solver step-size in \\lambda\n",
    "            dlamb = select_step_size(solver.t, lamb)\n",
    "\n",
    "            # Integrate to next step in lambda\n",
    "            solution_vector = solver.integrate(solver.t - dlamb)\n",
    "\n",
    "        # Store evolved Hamiltonian matrix [MeV] in dictionary\n",
    "        d[lamb] = vector_to_matrix(solution_vector) * 41.47\n",
    "\n",
    "    # End time\n",
    "    t1 = time.time()\n",
    "\n",
    "    # Print details\n",
    "    mins = round((t1 - t0) / 60.0, 4)  # Minutes elapsed evolving H(\\lambda)\n",
    "    print(f\"Done evolving to \\lambda = {lamb} fm^-1 after {mins:.4f} minutes.\")\n",
    "\n",
    "    return d"
   ]
  },
  {
   "cell_type": "markdown",
   "id": "d6921862",
   "metadata": {},
   "source": [
    "First solve with respect to $\\lambda$ using `scipy.integrate.ode` as is done in the current code. Compare the eigenvalues of $H(\\lambda)$ and $H(\\infty)$ in each test run."
   ]
  },
  {
   "cell_type": "code",
   "execution_count": 24,
   "id": "e36d8c94",
   "metadata": {},
   "outputs": [
    {
     "name": "stdout",
     "output_type": "stream",
     "text": [
      "Done evolving to \\lambda = 1.35 fm^-1 after 1.4176 minutes.\n"
     ]
    }
   ],
   "source": [
    "lambda_array = np.array([6.0, 3.0, 2.5, 2.0, 1.5, 1.35])\n",
    "d = srg_evolve_wrt_lambda(H_initial_weights, lambda_array, lambda_initial=20.0)"
   ]
  },
  {
   "cell_type": "code",
   "execution_count": 25,
   "id": "b4850190",
   "metadata": {},
   "outputs": [
    {
     "name": "stdout",
     "output_type": "stream",
     "text": [
      "RMS error in eigenvalues = 0.0011579950507712238.\n"
     ]
    }
   ],
   "source": [
    "# Default case (focus on last \\lambda for now)\n",
    "eigenvalues_evol, _ = la.eigh(d[lamb])\n",
    "eigenvalues_init, _ = la.eigh(H_initial_weights)\n",
    "\n",
    "err = rms_error_eigenvalues(eigenvalues_init, eigenvalues_evol)\n",
    "\n",
    "print(f\"RMS error in eigenvalues = {err}.\")"
   ]
  },
  {
   "cell_type": "code",
   "execution_count": 26,
   "id": "971d30ab",
   "metadata": {},
   "outputs": [
    {
     "name": "stdout",
     "output_type": "stream",
     "text": [
      "Done evolving to \\lambda = 1.35 fm^-1 after 2.0782 minutes.\n",
      "RMS error in eigenvalues = 2.1887220006949626e-07.\n"
     ]
    }
   ],
   "source": [
    "# Set more stringent error tolerances\n",
    "d = srg_evolve_wrt_lambda(H_initial_weights, lambda_array, lambda_initial=20.0,\n",
    "                          atol=1e-10, rtol=1e-10)\n",
    "\n",
    "eigenvalues_evol, _ = la.eigh(d[lamb])\n",
    "\n",
    "err = rms_error_eigenvalues(eigenvalues_init, eigenvalues_evol)\n",
    "\n",
    "print(f\"RMS error in eigenvalues = {err}.\")"
   ]
  },
  {
   "cell_type": "markdown",
   "id": "581b5d0b",
   "metadata": {},
   "source": [
    "Repeat test on $U(\\lambda)$ from before but with `atol`=$10^{-10}$ and `rtol`=$10^{-10}$."
   ]
  },
  {
   "cell_type": "code",
   "execution_count": 27,
   "id": "cc39df5e",
   "metadata": {},
   "outputs": [
    {
     "name": "stdout",
     "output_type": "stream",
     "text": [
      "[[-9.93017043e-14 -6.90426906e-13 -2.12033079e-12 ...  7.41819303e-15\n",
      "   1.78349275e-15  3.50237095e-16]\n",
      " [-6.90426907e-13 -6.41022543e-12 -1.67618179e-11 ...  2.77699374e-13\n",
      "   1.78907527e-12 -6.17117369e-13]\n",
      " [-2.12033078e-12 -1.67618179e-11 -6.04718099e-11 ... -1.96213462e-12\n",
      "   7.16069412e-13 -3.95241001e-13]\n",
      " ...\n",
      " [ 7.41799177e-15  2.77700045e-13 -1.96213592e-12 ...  1.29370164e-07\n",
      "   4.32452723e-08  4.38281189e-08]\n",
      " [ 1.78355914e-15  1.78907475e-12  7.16068272e-13 ...  4.32452865e-08\n",
      "   2.11508450e-07  1.09794721e-07]\n",
      " [ 3.50279222e-16 -6.17117380e-13 -3.95239801e-13 ...  4.38281829e-08\n",
      "   1.09794732e-07  2.35251719e-07]]\n",
      "3.3907702711566385e-06\n"
     ]
    },
    {
     "data": {
      "image/png": "[encoded data removed]",
      "text/plain": [
       "<Figure size 600x600 with 2 Axes>"
      ]
     },
     "metadata": {},
     "output_type": "display_data"
    }
   ],
   "source": [
    "# SRG transformation with integration factors attached [unitless]\n",
    "H_evolved_weights = d[1.35]\n",
    "U_matrix_weights = get_transformation(H_initial_weights, H_evolved_weights)\n",
    "\n",
    "H_evolved_weights_2 = U_matrix_weights @ H_initial_weights @ U_matrix_weights.T\n",
    "zero_matrix_weights = H_evolved_weights_2-H_evolved_weights\n",
    "print(zero_matrix_weights)\n",
    "print(la.norm(zero_matrix_weights))\n",
    "\n",
    "# Remove integration weights from zero_matrix\n",
    "zero_matrix_no_weights = unattach_weights(k_array, k_weights,\n",
    "                                          zero_matrix_weights)\n",
    "\n",
    "# Plot zero_matrix\n",
    "contour_label = r\"$U(\\lambda) H(\\infty) U^\\dagger(\\lambda) - H(\\lambda)$\"\n",
    "plot_contour(\n",
    "    k_array, zero_matrix_no_weights, channel, colorbar_limits=(-1e-4,1e-4),\n",
    "    axes_limits=(0, 15), label=contour_label, label_size=13\n",
    ")"
   ]
  },
  {
   "cell_type": "markdown",
   "id": "c093ac4b",
   "metadata": {},
   "source": [
    "Solving with respect to $s$ using `scipy.integrate.solve_ivp`."
   ]
  },
  {
   "cell_type": "code",
   "execution_count": 28,
   "id": "35c7da3c",
   "metadata": {
    "code_folding": [
     0
    ]
   },
   "outputs": [],
   "source": [
    "def H_deriv_s(s, H_vector):\n",
    "    \"\"\"Right-hand side of the SRG flow equation.\"\"\"\n",
    "\n",
    "    # Matrix form of the evolving Hamiltonian\n",
    "    H_matrix = vector_to_matrix(H_vector)\n",
    "\n",
    "    # Get SRG generator \\eta = [G, H]\n",
    "    eta_matrix = eta(H_matrix)\n",
    "\n",
    "    # RHS of the flow equation in matrix form\n",
    "    dH_matrix = commutator(eta_matrix, H_matrix)\n",
    "\n",
    "    # Returns vector form of RHS of flow equation\n",
    "    dH_vector = matrix_to_vector(dH_matrix)\n",
    "\n",
    "    return dH_vector"
   ]
  },
  {
   "cell_type": "code",
   "execution_count": 29,
   "id": "f69c13fd",
   "metadata": {},
   "outputs": [],
   "source": [
    "def srg_evolve_wrt_s(H_initial_MeV, lambda_array, atol=1e-10, rtol=1e-10):\n",
    "    \"\"\"SRG evolve the Hamiltonian with respect to s.\"\"\"\n",
    "    \n",
    "    # Convert Hamiltonian from MeV to units [fm^-2]\n",
    "    H_initial_matrix = H_initial_MeV / 41.47\n",
    "\n",
    "    # Reshape H_initial into vector\n",
    "    H_initial_vector = matrix_to_vector(H_initial_matrix)\n",
    "    \n",
    "    # Evaluate at the following s points\n",
    "    s_array = lambda_array ** (-4)\n",
    "    s_limits = [0.0, s_array[-1]]\n",
    "    \n",
    "    # Start time\n",
    "    t0 = time.time()\n",
    "    result = solve_ivp(H_deriv_s, s_limits, H_initial_vector, method='BDF',\n",
    "                       t_eval=s_array, atol=atol, rtol=rtol)\n",
    "    # End time\n",
    "    t1 = time.time()\n",
    "    \n",
    "    # Print details\n",
    "    mins = round((t1 - t0) / 60.0, 4)  # Minutes elapsed evolving H(s)\n",
    "    print(f\"Done evolving to s = {s_array[-1]} fm^4 after {mins:.4f} minutes.\")\n",
    "    \n",
    "    # Store evolved Hamiltonian matrix [MeV] in dictionary\n",
    "    d = {}\n",
    "    for i, lamb in enumerate(lambda_array):\n",
    "        d[lamb] = vector_to_matrix(result.y[:, i]) * 41.47\n",
    "\n",
    "    return d"
   ]
  },
  {
   "cell_type": "code",
   "execution_count": 30,
   "id": "9e938922",
   "metadata": {},
   "outputs": [
    {
     "name": "stdout",
     "output_type": "stream",
     "text": [
      "Done evolving to s = 0.30106822770542724 fm^4 after 135.4456 minutes.\n",
      "RMS error in eigenvalues = 1.4983596831345067e-07.\n"
     ]
    }
   ],
   "source": [
    "# Use solve_ivp w.r.t. s and stringent error tolerances\n",
    "d = srg_evolve_wrt_s(H_initial_weights, lambda_array)\n",
    "\n",
    "eigenvalues_evol, _ = la.eigh(d[lamb])\n",
    "\n",
    "err = rms_error_eigenvalues(eigenvalues_init, eigenvalues_evol)\n",
    "\n",
    "print(f\"RMS error in eigenvalues = {err}.\")"
   ]
  },
  {
   "cell_type": "code",
   "execution_count": null,
   "id": "4f082388",
   "metadata": {},
   "outputs": [],
   "source": [
    "# Set t_eval = None and try again (if it takes longer than 10 minutes than don't\n",
    "# worry about it)"
   ]
  },
  {
   "cell_type": "code",
   "execution_count": null,
   "id": "e34e7980",
   "metadata": {},
   "outputs": [],
   "source": [
    "# Try method=\"LSODA\""
   ]
  },
  {
   "cell_type": "code",
   "execution_count": null,
   "id": "8ba63039",
   "metadata": {},
   "outputs": [],
   "source": [
    "# Try solving w.r.t. \\lambda but with solve_ivp"
   ]
  },
  {
   "cell_type": "code",
   "execution_count": null,
   "id": "d33ebf78",
   "metadata": {},
   "outputs": [],
   "source": []
  },
  {
   "cell_type": "markdown",
   "id": "8df65462",
   "metadata": {},
   "source": [
    "## Solve for $U(s)$ directly"
   ]
  },
  {
   "cell_type": "markdown",
   "id": "60c7cec7",
   "metadata": {},
   "source": [
    "$$\n",
    "\\frac{dU}{ds} = \\eta(s) U(s)\n",
    "$$"
   ]
  },
  {
   "cell_type": "code",
   "execution_count": null,
   "id": "6a8f815a",
   "metadata": {},
   "outputs": [],
   "source": []
  }
 ],
 "metadata": {
  "kernelspec": {
   "display_name": "Python 3 (ipykernel)",
   "language": "python",
   "name": "python3"
  },
  "language_info": {
   "codemirror_mode": {
    "name": "ipython",
    "version": 3
   },
   "file_extension": ".py",
   "mimetype": "text/x-python",
   "name": "python",
   "nbconvert_exporter": "python",
   "pygments_lexer": "ipython3",
   "version": "3.9.13"
  }
 },
 "nbformat": 4,
 "nbformat_minor": 5
}

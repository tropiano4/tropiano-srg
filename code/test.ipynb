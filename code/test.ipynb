{
 "cells": [
  {
   "cell_type": "markdown",
   "id": "dc98d802",
   "metadata": {},
   "source": [
    "# Test notebook\n",
    "\n",
    "__Author:__ A. J. Tropiano [tropiano.4@osu.edu]<br/>\n",
    "__Date:__ March 17, 2022\n",
    "\n",
    "The purpose of this notebook is for testing out code and/or scripts.\n",
    "\n",
    "_Last update:_ June 2, 2022"
   ]
  },
  {
   "cell_type": "code",
   "execution_count": 1,
   "id": "b4cd323a",
   "metadata": {},
   "outputs": [],
   "source": [
    "# Python imports\n",
    "from matplotlib.offsetbox import AnchoredText\n",
    "import matplotlib.pyplot as plt\n",
    "%matplotlib inline\n",
    "import numpy as np\n",
    "import time"
   ]
  },
  {
   "cell_type": "code",
   "execution_count": 2,
   "id": "f7d111bc",
   "metadata": {},
   "outputs": [],
   "source": [
    "# Imports from A.T. codes\n",
    "from scripts.potentials import Potential"
   ]
  },
  {
   "cell_type": "markdown",
   "id": "3f7999df",
   "metadata": {},
   "source": [
    "Testing how NumPy's `savetxt` function works."
   ]
  },
  {
   "cell_type": "code",
   "execution_count": 3,
   "id": "06f8e654",
   "metadata": {},
   "outputs": [],
   "source": [
    "# Get two arbitrary arrays\n",
    "x_array = np.arange(0.0, 10.1, 0.1)\n",
    "y_array = x_array**2"
   ]
  },
  {
   "cell_type": "code",
   "execution_count": 4,
   "id": "3fe32457",
   "metadata": {},
   "outputs": [
    {
     "name": "stdout",
     "output_type": "stream",
     "text": [
      "2\n",
      "2\n",
      "101\n"
     ]
    }
   ],
   "source": [
    "X = np.asarray((x_array, y_array)).T\n",
    "print(X.ndim)\n",
    "print(X.shape[1])\n",
    "print(X.shape[0])"
   ]
  },
  {
   "cell_type": "code",
   "execution_count": 5,
   "id": "d722ba1f",
   "metadata": {},
   "outputs": [],
   "source": [
    "file_name = 'test_file.txt'\n",
    "header = '{:<4s}\\t{:<8s}'.format('x', 'x^2')\n",
    "np.savetxt(file_name, X, fmt=('%-4f', '%-8e'), delimiter='\\t', header=header)"
   ]
  },
  {
   "cell_type": "code",
   "execution_count": null,
   "id": "e02f8396",
   "metadata": {},
   "outputs": [],
   "source": []
  },
  {
   "cell_type": "code",
   "execution_count": null,
   "id": "c2a6d5df",
   "metadata": {},
   "outputs": [],
   "source": []
  },
  {
   "cell_type": "code",
   "execution_count": null,
   "id": "2f2c868f",
   "metadata": {},
   "outputs": [],
   "source": []
  },
  {
   "cell_type": "code",
   "execution_count": null,
   "id": "70934e18",
   "metadata": {},
   "outputs": [],
   "source": []
  },
  {
   "cell_type": "code",
   "execution_count": null,
   "id": "6d25d9f5",
   "metadata": {},
   "outputs": [],
   "source": []
  },
  {
   "cell_type": "code",
   "execution_count": null,
   "id": "a93c567b",
   "metadata": {},
   "outputs": [],
   "source": []
  },
  {
   "cell_type": "code",
   "execution_count": null,
   "id": "923c45f2",
   "metadata": {},
   "outputs": [],
   "source": []
  },
  {
   "cell_type": "code",
   "execution_count": null,
   "id": "40b1b913",
   "metadata": {},
   "outputs": [],
   "source": []
  }
 ],
 "metadata": {
  "kernelspec": {
   "display_name": "Python 3 (ipykernel)",
   "language": "python",
   "name": "python3"
  },
  "language_info": {
   "codemirror_mode": {
    "name": "ipython",
    "version": 3
   },
   "file_extension": ".py",
   "mimetype": "text/x-python",
   "name": "python",
   "nbconvert_exporter": "python",
   "pygments_lexer": "ipython3",
   "version": "3.9.7"
  }
 },
 "nbformat": 4,
 "nbformat_minor": 5
}

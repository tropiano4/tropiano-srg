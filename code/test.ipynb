{
 "cells": [
  {
   "cell_type": "markdown",
   "id": "dc98d802",
   "metadata": {},
   "source": [
    "# Test notebook\n",
    "\n",
    "__Author:__ A. J. Tropiano [tropiano.4@osu.edu]<br/>\n",
    "__Date:__ March 17, 2022\n",
    "\n",
    "The purpose of this notebook is for testing out code and/or scripts.\n",
    "\n",
    "_Last update:_ June 13, 2022"
   ]
  },
  {
   "cell_type": "code",
   "execution_count": 1,
   "id": "b4cd323a",
   "metadata": {},
   "outputs": [],
   "source": [
    "# Python imports\n",
    "from matplotlib.offsetbox import AnchoredText\n",
    "import matplotlib.pyplot as plt\n",
    "%matplotlib inline\n",
    "import numpy as np\n",
    "import time"
   ]
  },
  {
   "cell_type": "code",
   "execution_count": 2,
   "id": "f7d111bc",
   "metadata": {},
   "outputs": [],
   "source": [
    "# Imports from A.T. codes\n",
    "from scripts.potentials import Potential\n",
    "from scripts.momentum_distributions import MomentumDistribution\n",
    "from scripts.integration import momentum_mesh"
   ]
  },
  {
   "cell_type": "markdown",
   "id": "3f7999df",
   "metadata": {},
   "source": [
    "Testing how NumPy's `savetxt` function works."
   ]
  },
  {
   "cell_type": "code",
   "execution_count": 3,
   "id": "06f8e654",
   "metadata": {},
   "outputs": [],
   "source": [
    "# # Get two arbitrary arrays\n",
    "# x_array = np.arange(0.0, 10.1, 0.1)\n",
    "# y_array = x_array**2"
   ]
  },
  {
   "cell_type": "code",
   "execution_count": 4,
   "id": "3fe32457",
   "metadata": {},
   "outputs": [],
   "source": [
    "# X = np.asarray((x_array, y_array)).T\n",
    "# print(X.ndim)\n",
    "# print(X.shape[1])\n",
    "# print(X.shape[0])"
   ]
  },
  {
   "cell_type": "code",
   "execution_count": 5,
   "id": "d722ba1f",
   "metadata": {},
   "outputs": [],
   "source": [
    "# file_name = 'test_file.txt'\n",
    "# header = '{:<4s}\\t{:<8s}'.format('x', 'x^2')\n",
    "# np.savetxt(file_name, X, fmt=('%-4f', '%-8e'), delimiter='\\t', header=header)"
   ]
  },
  {
   "cell_type": "markdown",
   "id": "9e271394",
   "metadata": {},
   "source": [
    "Showing contributions to proton momentum distribution and normalizations."
   ]
  },
  {
   "cell_type": "code",
   "execution_count": 6,
   "id": "5229178e",
   "metadata": {},
   "outputs": [],
   "source": [
    "kvnn = 6\n",
    "kmax, kmid, ntot = 15.0, 3.0, 120"
   ]
  },
  {
   "cell_type": "code",
   "execution_count": 7,
   "id": "2a3f54d6",
   "metadata": {},
   "outputs": [],
   "source": [
    "# nucleus\n",
    "nucleus_name = 'C12'\n",
    "Z = 6\n",
    "density = 'Gogny'"
   ]
  },
  {
   "cell_type": "code",
   "execution_count": 8,
   "id": "e02f8396",
   "metadata": {},
   "outputs": [],
   "source": [
    "md = MomentumDistribution(kvnn, kmax, kmid, ntot)\n",
    "\n",
    "n_functions = md.get_single_nucleon_momentum_distribution(\n",
    "    'proton', nucleus_name, density, ('1S0', '3S1'), 'Wegner', 1.35,\n",
    "    contributions=True, interpolate=True)\n",
    "\n",
    "n_total_func, n_I_func, n_delU_func, n_delU2_func = n_functions"
   ]
  },
  {
   "cell_type": "code",
   "execution_count": 9,
   "id": "0f5d05cf",
   "metadata": {},
   "outputs": [],
   "source": [
    "q_array, q_weights = momentum_mesh(kmax, kmid, ntot)\n",
    "n_total_array = n_total_func(q_array)\n",
    "n_I_array = n_I_func(q_array)\n",
    "n_delU_array = n_delU_func(q_array)\n",
    "n_delU2_array = n_delU2_func(q_array)"
   ]
  },
  {
   "cell_type": "code",
   "execution_count": 10,
   "id": "6836506d",
   "metadata": {},
   "outputs": [
    {
     "name": "stdout",
     "output_type": "stream",
     "text": [
      "total = 0.9961983861261559\n"
     ]
    }
   ],
   "source": [
    "total_norm = 4*np.pi/(Z*(2*np.pi)**3)*np.sum(q_weights*q_array**2\n",
    "                                             *n_total_array)\n",
    "print(f'total = {total_norm}')"
   ]
  },
  {
   "cell_type": "code",
   "execution_count": 11,
   "id": "651dd90d",
   "metadata": {},
   "outputs": [
    {
     "name": "stdout",
     "output_type": "stream",
     "text": [
      "I term = 0.9949355420154008\n"
     ]
    }
   ],
   "source": [
    "I_norm = 4*np.pi/(Z*(2*np.pi)**3)*np.sum(q_weights*q_array**2*n_I_array)\n",
    "print(f'I term = {I_norm}')"
   ]
  },
  {
   "cell_type": "code",
   "execution_count": 12,
   "id": "c182ca64",
   "metadata": {},
   "outputs": [
    {
     "name": "stdout",
     "output_type": "stream",
     "text": [
      "I+\\delta U = 0.8491084219476669\n"
     ]
    }
   ],
   "source": [
    "I_delU_norm = 4*np.pi/(Z*(2*np.pi)**3)*np.sum(q_weights*q_array**2\n",
    "                                              *(n_I_array+n_delU_array))\n",
    "print(f'I+\\delta U = {I_delU_norm}')"
   ]
  },
  {
   "cell_type": "code",
   "execution_count": 13,
   "id": "c2a6d5df",
   "metadata": {},
   "outputs": [
    {
     "data": {
      "image/png": "[encoded data removed]",
      "text/plain": [
       "<Figure size 432x288 with 1 Axes>"
      ]
     },
     "metadata": {
      "needs_background": "light"
     },
     "output_type": "display_data"
    }
   ],
   "source": [
    "plt.semilogy(q_array, n_total_array, 'k-', label='total')\n",
    "plt.semilogy(q_array, n_I_array, 'b:', label=r'$I$ term')\n",
    "plt.semilogy(q_array, abs(n_delU_array), 'g--', label=r'$|\\delta U|$ term')\n",
    "plt.semilogy(q_array, n_delU2_array, 'r-.', label=r'$\\delta U^2$ term')\n",
    "plt.xlabel(r'$q [fm^{-1}]$')\n",
    "plt.ylabel(r'$n_p(q) [fm^3]$')\n",
    "plt.legend()\n",
    "plt.xlim(0,5)\n",
    "plt.ylim(3e-2, 4e3);"
   ]
  },
  {
   "cell_type": "code",
   "execution_count": null,
   "id": "2f2c868f",
   "metadata": {},
   "outputs": [],
   "source": []
  },
  {
   "cell_type": "code",
   "execution_count": null,
   "id": "70934e18",
   "metadata": {},
   "outputs": [],
   "source": []
  },
  {
   "cell_type": "code",
   "execution_count": null,
   "id": "6d25d9f5",
   "metadata": {},
   "outputs": [],
   "source": []
  },
  {
   "cell_type": "code",
   "execution_count": null,
   "id": "a93c567b",
   "metadata": {},
   "outputs": [],
   "source": []
  },
  {
   "cell_type": "code",
   "execution_count": null,
   "id": "923c45f2",
   "metadata": {},
   "outputs": [],
   "source": []
  },
  {
   "cell_type": "code",
   "execution_count": null,
   "id": "40b1b913",
   "metadata": {},
   "outputs": [],
   "source": []
  }
 ],
 "metadata": {
  "kernelspec": {
   "display_name": "Python 3 (ipykernel)",
   "language": "python",
   "name": "python3"
  },
  "language_info": {
   "codemirror_mode": {
    "name": "ipython",
    "version": 3
   },
   "file_extension": ".py",
   "mimetype": "text/x-python",
   "name": "python",
   "nbconvert_exporter": "python",
   "pygments_lexer": "ipython3",
   "version": "3.9.7"
  }
 },
 "nbformat": 4,
 "nbformat_minor": 5
}

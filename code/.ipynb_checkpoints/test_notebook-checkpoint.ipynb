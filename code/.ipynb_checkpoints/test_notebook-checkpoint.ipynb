{
 "cells": [
  {
   "cell_type": "markdown",
   "id": "dc98d802",
   "metadata": {},
   "source": [
    "# Test notebook\n",
    "\n",
    "__A. J. Tropiano [tropiano.4@osu.edu]__<br/>\n",
    "__March 17, 2022__\n",
    "\n",
    "The purpose of this notebook is for testing out code and/or scripts.\n",
    "\n",
    "_Last update: April 23, 2022_"
   ]
  },
  {
   "cell_type": "code",
   "execution_count": 1,
   "id": "b4cd323a",
   "metadata": {},
   "outputs": [],
   "source": [
    "# Python imports\n",
    "from matplotlib.offsetbox import AnchoredText\n",
    "import matplotlib.pyplot as plt\n",
    "%matplotlib inline\n",
    "import numpy as np\n",
    "import time"
   ]
  },
  {
   "cell_type": "code",
   "execution_count": 2,
   "id": "f7d111bc",
   "metadata": {},
   "outputs": [],
   "source": [
    "# Imports from A.T. codes\n",
    "import densities\n",
    "from dmd import Deuteron\n",
    "from momentum_distributions import MomentumDistribution\n",
    "from potentials import Potential\n",
    "# You could import modules but I want a list of scripts here\n",
    "# Check these off the list as you go through Jupyter notebooks generating\n",
    "# figures\n",
    "import modules.a2\n",
    "import modules.figures\n",
    "import modules.fourier_transform\n",
    "from modules.integration import gaussian_quadrature_mesh\n",
    "import modules.labels\n",
    "import modules.long_distance_operators\n",
    "from magnus import Magnus, MagnusSplit\n",
    "import modules.momentum_projection_operator\n",
    "import modules.phase_shifts\n",
    "import modules.sdt\n",
    "from pmd import Pair\n",
    "from snmd import SingleNucleon\n",
    "from srg import SRG, get_transformation\n",
    "import modules.tools\n",
    "import modules.wave_function\n",
    "# add missing ones"
   ]
  },
  {
   "cell_type": "markdown",
   "id": "7c626522",
   "metadata": {},
   "source": [
    "For now let's illustrate the overhaul by testing scripts and showing how to use them."
   ]
  },
  {
   "cell_type": "markdown",
   "id": "1404e7e5",
   "metadata": {},
   "source": [
    "### Testing momentum distributions code"
   ]
  },
  {
   "cell_type": "code",
   "execution_count": 3,
   "id": "840d418e",
   "metadata": {
    "code_folding": [
     0
    ]
   },
   "outputs": [],
   "source": [
    "# # Test default interaction and SRG evolution\n",
    "\n",
    "# kvnn = 6\n",
    "# kmax, kmid, ntot = 15.0, 3.0, 120\n",
    "# channels = ('1S0', '3S1')\n",
    "# generator = 'Wegner'\n",
    "# lamb = 1.35"
   ]
  },
  {
   "cell_type": "code",
   "execution_count": 4,
   "id": "0c4015bb",
   "metadata": {
    "code_folding": [
     0
    ]
   },
   "outputs": [],
   "source": [
    "# # Get momentum values (channel argument doesn't matter here)\n",
    "# potential = Potential(kvnn, '1S0', kmax, kmid, ntot)\n",
    "# q_array, _ = potential.load_mesh()\n",
    "\n",
    "# # Set C.o.M. momentum too\n",
    "# Q_max = 2.0\n",
    "# ntot_Q = 40\n",
    "# Q_array, _ = gaussian_quadrature_mesh(Q_max, ntot_Q)"
   ]
  },
  {
   "cell_type": "code",
   "execution_count": 5,
   "id": "81e9192b",
   "metadata": {
    "code_folding": [
     0
    ]
   },
   "outputs": [],
   "source": [
    "# # Do Ca48 with SLy4 densities\n",
    "\n",
    "# nucleus_name = 'Ca48'\n",
    "# Z, N = 20, 28\n",
    "# density = 'SLY4'"
   ]
  },
  {
   "cell_type": "code",
   "execution_count": 6,
   "id": "842db164",
   "metadata": {
    "code_folding": [
     0
    ]
   },
   "outputs": [],
   "source": [
    "# # Generate new files and compare to old ones\n",
    "# # Single-nucleon matches old data exactly\n",
    "\n",
    "# snmd = SingleNucleon(kvnn, kmax, kmid, ntot, channels, generator, lamb)\n",
    "\n",
    "# for nucleon in ('proton', 'neutron'):\n",
    "    \n",
    "#     t0 = time.time()\n",
    "    \n",
    "#     n_array = snmd.compute_momentum_distribution(\n",
    "#         q_array, nucleon, nucleus_name, Z, N, density, save=True)\n",
    "    \n",
    "#     t1 = time.time()\n",
    "#     mins = (t1-t0)/60\n",
    "#     print(f'Done with {nucleon} after {mins:.2f} minutes.')"
   ]
  },
  {
   "cell_type": "code",
   "execution_count": 7,
   "id": "63b77892",
   "metadata": {
    "code_folding": [
     0
    ]
   },
   "outputs": [],
   "source": [
    "# # Pair matches old data exactly\n",
    "\n",
    "# pmd = Pair(kvnn, kmax, kmid, ntot, channels, generator, lamb)\n",
    "\n",
    "# for pair in ('pn', 'pp', 'nn'):\n",
    "    \n",
    "#     t0 = time.time()\n",
    "            \n",
    "#     # Q > 0\n",
    "#     n_array = pmd.compute_momentum_distribution(\n",
    "#         q_array, Q_array, pair, nucleus_name, Z, N, density, save=True)\n",
    "    \n",
    "#     # Q = 0\n",
    "#     n_Q0_array = pmd.compute_momentum_distribution_Q0(\n",
    "#         q_array, pair, nucleus_name, Z, N, density, save=True)\n",
    "\n",
    "#     t1 = time.time()\n",
    "#     mins = (t1-t0)/60\n",
    "#     print(f'Done with {pair} after {mins:.2f} minutes.')"
   ]
  },
  {
   "cell_type": "code",
   "execution_count": 8,
   "id": "69008c94",
   "metadata": {
    "code_folding": [
     0
    ]
   },
   "outputs": [],
   "source": [
    "# # Deuteron matches old data exactly\n",
    "\n",
    "# dmd = Deuteron(kvnn, kmax, kmid, ntot, generator, lamb)\n",
    "    \n",
    "# t0 = time.time()\n",
    "        \n",
    "# n_array = dmd.compute_momentum_distribution(q_array, save=True)\n",
    "            \n",
    "# t1 = time.time()\n",
    "# mins = (t1-t0)/60\n",
    "        \n",
    "# print(f'Done after {mins:.2f} minutes.')"
   ]
  },
  {
   "cell_type": "markdown",
   "id": "0cece211",
   "metadata": {},
   "source": [
    "### Generate momentum distribution data"
   ]
  },
  {
   "cell_type": "code",
   "execution_count": 9,
   "id": "7b7512d7",
   "metadata": {
    "code_folding": [
     0
    ]
   },
   "outputs": [],
   "source": [
    "# kvnns = (2, 3, 4, 5, 6, 7, 79, 110, 111, 112, 113, 222, 224)\n",
    "# # Note: Each kvnn + Gogny run takes about 2.7 hours\n",
    "# kmax, kmid, ntot = 15.0, 3.0, 120\n",
    "# channels = ('1S0', '3S1')\n",
    "# generator = 'Wegner'\n",
    "# lamb = 1.35\n",
    "# density = 'Gogny'\n",
    "# nuclei_gogny = (\n",
    "#     ('He4', 2, 2), ('Li7', 3, 4), ('Be9', 4, 5), ('C12', 6, 6), ('O16', 8, 8),\n",
    "#     ('Al27', 13, 14), ('Ca40', 20, 20), ('Ca48', 20, 28), ('Ti48', 22, 26),\n",
    "#     ('Fe56', 26, 30), ('Cu63', 29, 34), ('Ag107', 47, 60), ('Sn118', 50, 68),\n",
    "#     ('Ce140', 58, 82), ('Ta181', 73, 108), ('Au197', 79, 118),\n",
    "#     ('Pb208', 82, 126), ('U238', 92, 146)\n",
    "# )\n",
    "\n",
    "# potential = Potential(6, '1S0', kmax, kmid, ntot)\n",
    "# q_array, _ = potential.load_mesh()  # This will be the same in every case\n",
    "\n",
    "# # Set C.o.M. momentum too\n",
    "# Q_max = 2.0\n",
    "# ntot_Q = 40\n",
    "# Q_array, _ = gaussian_quadrature_mesh(Q_max, ntot_Q)\n",
    "\n",
    "# # Generate files\n",
    "# for kvnn in kvnns:\n",
    "    \n",
    "#     print(f'Starting kvnn = {kvnn}.')\n",
    "#     t0_kvnn = time.time()\n",
    "\n",
    "#     dmd = Deuteron(kvnn, kmax, kmid, ntot, generator, lamb)\n",
    "#     snmd = SingleNucleon(kvnn, kmax, kmid, ntot, channels, generator, lamb)\n",
    "#     pmd = Pair(kvnn, kmax, kmid, ntot, channels, generator, lamb)\n",
    "\n",
    "#     # Deuteron first\n",
    "#     t0_d = time.time()\n",
    "#     n_array = dmd.compute_momentum_distribution(q_array, save=True)   \n",
    "#     t1_d = time.time()\n",
    "#     mins = (t1_d-t0_d)/60\n",
    "#     print(f'Done with deuteron after {mins:.2f} minutes.')\n",
    "    \n",
    "#     for nucleus in nuclei_gogny:\n",
    "        \n",
    "#         nucleus_name = nucleus[0]\n",
    "#         Z = nucleus[1]\n",
    "#         N = nucleus[2]\n",
    "        \n",
    "#         t0_nucleus = time.time()\n",
    "        \n",
    "#         # Single-nucleon\n",
    "#         for nucleon in ('proton', 'neutron'):\n",
    "            \n",
    "#             n_array = snmd.compute_momentum_distribution(\n",
    "#                 q_array, nucleon, nucleus_name, Z, N, density, save=True)\n",
    "        \n",
    "#         # Pair\n",
    "#         for pair in ('pn', 'pp', 'nn'):\n",
    "        \n",
    "#             # Q > 0\n",
    "#             n_array = pmd.compute_momentum_distribution(\n",
    "#                 q_array, Q_array, pair, nucleus_name, Z, N, density,\n",
    "#                 save=True)\n",
    "#             # Q = 0\n",
    "#             n_Q0_array = pmd.compute_momentum_distribution_Q0(\n",
    "#                     q_array, pair, nucleus_name, Z, N, density, save=True)\n",
    "\n",
    "#         t1_nucleus = time.time()\n",
    "#         mins = (t1_nucleus-t0_nucleus)/60\n",
    "#         print(f'Done with {nucleus_name} after {mins:.2f} minutes.')\n",
    "        \n",
    "#     t1_kvnn = time.time()\n",
    "#     hours = (t1_kvnn-t0_kvnn)/3600\n",
    "#     print(f'Done with kvnn = {kvnn} after {hours:.2f} hours.\\n')"
   ]
  },
  {
   "cell_type": "code",
   "execution_count": 10,
   "id": "c6413914",
   "metadata": {
    "code_folding": []
   },
   "outputs": [
    {
     "name": "stdout",
     "output_type": "stream",
     "text": [
      "Starting density = SLy4.\n",
      "Done with He4 after 8.06 minutes.\n",
      "Done with C12 after 8.08 minutes.\n",
      "Done with O16 after 8.38 minutes.\n",
      "Done with Ca40 after 8.52 minutes.\n"
     ]
    },
    {
     "ename": "KeyboardInterrupt",
     "evalue": "",
     "output_type": "error",
     "traceback": [
      "\u001b[0;31m---------------------------------------------------------------------------\u001b[0m",
      "\u001b[0;31mKeyboardInterrupt\u001b[0m                         Traceback (most recent call last)",
      "\u001b[0;32m/var/folders/4c/p53tldwd6f76zfs85vnyk3qr0000gn/T/ipykernel_1390/185075314.py\u001b[0m in \u001b[0;36m<module>\u001b[0;34m\u001b[0m\n\u001b[1;32m     53\u001b[0m \u001b[0;34m\u001b[0m\u001b[0m\n\u001b[1;32m     54\u001b[0m             \u001b[0;31m# Q > 0\u001b[0m\u001b[0;34m\u001b[0m\u001b[0;34m\u001b[0m\u001b[0m\n\u001b[0;32m---> 55\u001b[0;31m             n_array = pmd.compute_momentum_distribution(\n\u001b[0m\u001b[1;32m     56\u001b[0m                 \u001b[0mq_array\u001b[0m\u001b[0;34m,\u001b[0m \u001b[0mQ_array\u001b[0m\u001b[0;34m,\u001b[0m \u001b[0mpair\u001b[0m\u001b[0;34m,\u001b[0m \u001b[0mnucleus_name\u001b[0m\u001b[0;34m,\u001b[0m \u001b[0mZ\u001b[0m\u001b[0;34m,\u001b[0m \u001b[0mN\u001b[0m\u001b[0;34m,\u001b[0m \u001b[0mdensity\u001b[0m\u001b[0;34m,\u001b[0m\u001b[0;34m\u001b[0m\u001b[0;34m\u001b[0m\u001b[0m\n\u001b[1;32m     57\u001b[0m                 save=True)\n",
      "\u001b[0;32m~/Documents/GitHub/tropiano-srg/code/pmd.py\u001b[0m in \u001b[0;36mcompute_momentum_distribution\u001b[0;34m(self, q_array, Q_array, pair, nucleus_name, Z, N, density, save)\u001b[0m\n\u001b[1;32m    452\u001b[0m \u001b[0;34m\u001b[0m\u001b[0m\n\u001b[1;32m    453\u001b[0m         \u001b[0;31m# Get each contribution with respect to q and Q (ntot_q, ntot_Q)\u001b[0m\u001b[0;34m\u001b[0m\u001b[0;34m\u001b[0m\u001b[0m\n\u001b[0;32m--> 454\u001b[0;31m         n_I = self.get_I_term(q_array, Q_array, R_array, dR, kF1_array,\n\u001b[0m\u001b[1;32m    455\u001b[0m                               kF2_array)\n\u001b[1;32m    456\u001b[0m         n_deltaU = self.get_deltaU_term(q_array, Q_array, R_array, dR,\n",
      "\u001b[0;32m~/Documents/GitHub/tropiano-srg/code/pmd.py\u001b[0m in \u001b[0;36mget_I_term\u001b[0;34m(self, q_array, Q_array, R_array, dR, kF1_array, kF2_array)\u001b[0m\n\u001b[1;32m    197\u001b[0m \u001b[0;34m\u001b[0m\u001b[0m\n\u001b[1;32m    198\u001b[0m         \u001b[0;31m# Evaluate angle-average over Heaviside step functions in I term\u001b[0m\u001b[0;34m\u001b[0m\u001b[0;34m\u001b[0m\u001b[0m\n\u001b[0;32m--> 199\u001b[0;31m         \u001b[0mangle_avg_grid\u001b[0m \u001b[0;34m=\u001b[0m \u001b[0mself\u001b[0m\u001b[0;34m.\u001b[0m\u001b[0mangle_avg\u001b[0m\u001b[0;34m(\u001b[0m\u001b[0mq_grid\u001b[0m\u001b[0;34m,\u001b[0m \u001b[0mQ_grid\u001b[0m\u001b[0;34m,\u001b[0m \u001b[0mkF1_grid\u001b[0m\u001b[0;34m,\u001b[0m \u001b[0mkF2_grid\u001b[0m\u001b[0;34m)\u001b[0m\u001b[0;34m\u001b[0m\u001b[0;34m\u001b[0m\u001b[0m\n\u001b[0m\u001b[1;32m    200\u001b[0m \u001b[0;34m\u001b[0m\u001b[0m\n\u001b[1;32m    201\u001b[0m         \u001b[0;31m# Calculate R' integrand (ntot_q, ntot_Q, ntot_R, ntot_R)\u001b[0m\u001b[0;34m\u001b[0m\u001b[0;34m\u001b[0m\u001b[0m\n",
      "\u001b[0;32m~/Documents/GitHub/tropiano-srg/code/pmd.py\u001b[0m in \u001b[0;36mangle_avg\u001b[0;34m(self, q_grid, Q_grid, kF1_grid, kF2_grid)\u001b[0m\n\u001b[1;32m    134\u001b[0m         \u001b[0;31m# Case 3: 2q+Q < 2kF2 and -4 < (4q^2 - 4kF1^2 + Q^2)/(qQ) < 4\u001b[0m\u001b[0;34m\u001b[0m\u001b[0;34m\u001b[0m\u001b[0m\n\u001b[1;32m    135\u001b[0m         mask_3 = ((2*q_grid+Q_grid <= 2*kF2_grid)\n\u001b[0;32m--> 136\u001b[0;31m                   * (-4 < (4*q_grid**2-4*kF1_grid**2+Q_grid**2)\n\u001b[0m\u001b[1;32m    137\u001b[0m                      / (q_grid*Q_grid))\n\u001b[1;32m    138\u001b[0m                   * ((4*q_grid**2-4*kF1_grid**2+Q_grid**2)\n",
      "\u001b[0;31mKeyboardInterrupt\u001b[0m: "
     ]
    }
   ],
   "source": [
    "# Do additional two densities (SLy4 and VMC) for AV18\n",
    "\n",
    "kvnn = 6\n",
    "kmax, kmid, ntot = 15.0, 3.0, 120\n",
    "channels = ('1S0', '3S1')\n",
    "generator = 'Wegner'\n",
    "lamb = 1.35\n",
    "density_list = ['VMC', 'SLy4']\n",
    "nuclei_vmc = (('He4', 2, 2), ('He8', 2, 6), ('Be9', 4, 5))\n",
    "nuclei_sly4 = (\n",
    "    ('He4', 2, 2), ('C12', 6, 6), ('O16', 8, 8), ('Ca40', 20, 20),\n",
    "    ('Ca48', 20, 28), ('Fe56', 26, 30), ('Pb208', 82, 126)\n",
    ")\n",
    "\n",
    "potential = Potential(6, '1S0', kmax, kmid, ntot)\n",
    "q_array, _ = potential.load_mesh()  # This will be the same in every case\n",
    "\n",
    "# Set C.o.M. momentum too\n",
    "Q_max = 2.0\n",
    "ntot_Q = 40\n",
    "Q_array, _ = gaussian_quadrature_mesh(Q_max, ntot_Q)\n",
    "\n",
    "# Generate files\n",
    "for density in density_list:\n",
    "    \n",
    "    print(f'Starting density = {density}.')\n",
    "    t0_density = time.time()\n",
    "\n",
    "    snmd = SingleNucleon(kvnn, kmax, kmid, ntot, channels, generator, lamb)\n",
    "    pmd = Pair(kvnn, kmax, kmid, ntot, channels, generator, lamb)\n",
    "    \n",
    "    if density == 'SLy4':\n",
    "        nuclei = nuclei_sly4\n",
    "    elif density == 'VMC':\n",
    "        nuclei = nuclei_vmc\n",
    "        \n",
    "    for nucleus in nuclei:\n",
    "        \n",
    "        nucleus_name = nucleus[0]\n",
    "        Z = nucleus[1]\n",
    "        N = nucleus[2]\n",
    "        \n",
    "        t0_nucleus = time.time()\n",
    "        \n",
    "        # Single-nucleon\n",
    "        for nucleon in ('proton', 'neutron'):\n",
    "            \n",
    "            n_array = snmd.compute_momentum_distribution(\n",
    "                q_array, nucleon, nucleus_name, Z, N, density, save=True)\n",
    "        \n",
    "        # Pair\n",
    "        for pair in ('pn', 'pp', 'nn'):\n",
    "        \n",
    "            # Q > 0\n",
    "            n_array = pmd.compute_momentum_distribution(\n",
    "                q_array, Q_array, pair, nucleus_name, Z, N, density,\n",
    "                save=True)\n",
    "            # Q = 0\n",
    "            n_Q0_array = pmd.compute_momentum_distribution_Q0(\n",
    "                    q_array, pair, nucleus_name, Z, N, density, save=True)\n",
    "\n",
    "        t1_nucleus = time.time()\n",
    "        mins = (t1_nucleus-t0_nucleus)/60\n",
    "        print(f'Done with {nucleus_name} after {mins:.2f} minutes.')\n",
    "        \n",
    "    t1_density = time.time()\n",
    "    hours = (t1_density-t0_density)/3600\n",
    "    print(f'Done with density = {density} after {hours:.2f} hours.\\n')"
   ]
  },
  {
   "cell_type": "code",
   "execution_count": null,
   "id": "476bd13f",
   "metadata": {},
   "outputs": [],
   "source": [
    "# Do other iterations of channels with AV18 and SLy4\n",
    "# Single channel contributions just do SLy4 nuclear proton distributions\n",
    "\n",
    "kvnn = 6\n",
    "kmax, kmid, ntot = 15.0, 3.0, 120\n",
    "channels_total = ('1S0', '3S1', '3P0', '1P1', '3P1')\n",
    "generator = 'Wegner'\n",
    "lamb = 1.35\n",
    "density = 'SLy4'\n",
    "nuclei_sly4 = (\n",
    "    ('He4', 2, 2), ('C12', 6, 6), ('O16', 8, 8), ('Ca40', 20, 20),\n",
    "    ('Ca48', 20, 28), ('Fe56', 26, 30), ('Pb208', 82, 126)\n",
    ")\n",
    "\n",
    "potential = Potential(6, '1S0', kmax, kmid, ntot)\n",
    "q_array, _ = potential.load_mesh()  # This will be the same in every case\n",
    "\n",
    "# Set C.o.M. momentum too\n",
    "Q_max = 2.0\n",
    "ntot_Q = 40\n",
    "Q_array, _ = gaussian_quadrature_mesh(Q_max, ntot_Q)\n",
    "\n",
    "# First do all partial wave channels combined\n",
    "print('Starting all partial wave channels.')\n",
    "t0_all = time.time()\n",
    "\n",
    "snmd = SingleNucleon(kvnn, kmax, kmid, ntot, channels_total, generator, lamb)\n",
    "pmd = Pair(kvnn, kmax, kmid, ntot, channels_total, generator, lamb)\n",
    "\n",
    "for nucleus in nuclei_sly4:\n",
    "    \n",
    "    nucleus_name = nucleus[0]\n",
    "    Z = nucleus[1]\n",
    "    N = nucleus[2]\n",
    "    \n",
    "    t0_nucleus = time.time()\n",
    "        \n",
    "    # Single-nucleon\n",
    "    for nucleon in ('proton', 'neutron'):\n",
    "            \n",
    "        n_array = snmd.compute_momentum_distribution(\n",
    "            q_array, nucleon, nucleus_name, Z, N, density, save=True)\n",
    "        \n",
    "    # Pair\n",
    "    for pair in ('pn', 'pp', 'nn'):\n",
    "        \n",
    "        # Q > 0\n",
    "        n_array = pmd.compute_momentum_distribution(\n",
    "            q_array, Q_array, pair, nucleus_name, Z, N, density, save=True)\n",
    "        # Q = 0\n",
    "        n_Q0_array = pmd.compute_momentum_distribution_Q0(\n",
    "            q_array, pair, nucleus_name, Z, N, density, save=True)\n",
    "\n",
    "    t1_nucleus = time.time()\n",
    "    mins = (t1_nucleus-t0_nucleus)/60\n",
    "    print(f'Done with {nucleus_name} after {mins:.2f} minutes.')\n",
    "    \n",
    "t1_all = time.time()\n",
    "mins = (t1_all-t0_all)/60\n",
    "print(f'Done with all partial wave channels after {mins:.2f} minutes.\\n')\n",
    "\n",
    "# Loop over single partial wave contributions doing only proton distributions\n",
    "for channel in channels_total:\n",
    "    \n",
    "    channels = [channel]\n",
    "    \n",
    "    print(f'Starting {channel} channel.')\n",
    "    t0_channel = time.time()\n",
    "\n",
    "    snmd = SingleNucleon(kvnn, kmax, kmid, ntot, channels, generator, lamb)\n",
    "\n",
    "    for nucleus in nuclei_sly4:\n",
    "        \n",
    "        nucleus_name = nucleus[0]\n",
    "        Z = nucleus[1]\n",
    "        N = nucleus[2]\n",
    "    \n",
    "        t0_nucleus = time.time()\n",
    " \n",
    "        n_array = snmd.compute_momentum_distribution(\n",
    "            q_array, 'proton', nucleus_name, Z, N, density, save=True)\n",
    "\n",
    "        t1_nucleus = time.time()\n",
    "        mins = (t1_nucleus-t0_nucleus)/60\n",
    "        print(f'Done with {nucleus_name} after {mins:.2f} minutes.')\n",
    "    \n",
    "    t1_channel = time.time()\n",
    "    mins = (t1_channel-t0_channel)/60\n",
    "    print(f'Done with {channel} channel after {mins:.2f} minutes.\\n')"
   ]
  },
  {
   "cell_type": "code",
   "execution_count": null,
   "id": "9f43e6f9",
   "metadata": {},
   "outputs": [],
   "source": [
    "# Do inverse-SRG with \\delta \\lambda = (6, 5.5, ..., 3.5, 3.0) for kvnn and\n",
    "# kvnn_inv pairs of (111, 6), (111, 113), (113, 6), (222, 6)"
   ]
  },
  {
   "cell_type": "code",
   "execution_count": null,
   "id": "e1be1eb0",
   "metadata": {},
   "outputs": [],
   "source": [
    "# Do block-diagonal and \\lambda dependence for AV18 with Gogny density\n",
    "# Don't repeat \\lambda = 1.35 for band-diagonal"
   ]
  },
  {
   "cell_type": "code",
   "execution_count": null,
   "id": "5d1ae9c9",
   "metadata": {},
   "outputs": [],
   "source": []
  },
  {
   "cell_type": "code",
   "execution_count": null,
   "id": "075edcd9",
   "metadata": {},
   "outputs": [],
   "source": []
  },
  {
   "cell_type": "code",
   "execution_count": null,
   "id": "b29dcbe5",
   "metadata": {},
   "outputs": [],
   "source": []
  },
  {
   "cell_type": "code",
   "execution_count": null,
   "id": "cb1f9dbe",
   "metadata": {},
   "outputs": [],
   "source": []
  },
  {
   "cell_type": "code",
   "execution_count": null,
   "id": "70934e18",
   "metadata": {},
   "outputs": [],
   "source": []
  },
  {
   "cell_type": "code",
   "execution_count": null,
   "id": "6d25d9f5",
   "metadata": {},
   "outputs": [],
   "source": []
  },
  {
   "cell_type": "code",
   "execution_count": null,
   "id": "a93c567b",
   "metadata": {},
   "outputs": [],
   "source": []
  },
  {
   "cell_type": "code",
   "execution_count": null,
   "id": "923c45f2",
   "metadata": {},
   "outputs": [],
   "source": []
  },
  {
   "cell_type": "code",
   "execution_count": null,
   "id": "40b1b913",
   "metadata": {},
   "outputs": [],
   "source": []
  }
 ],
 "metadata": {
  "kernelspec": {
   "display_name": "Python 3 (ipykernel)",
   "language": "python",
   "name": "python3"
  },
  "language_info": {
   "codemirror_mode": {
    "name": "ipython",
    "version": 3
   },
   "file_extension": ".py",
   "mimetype": "text/x-python",
   "name": "python",
   "nbconvert_exporter": "python",
   "pygments_lexer": "ipython3",
   "version": "3.9.7"
  }
 },
 "nbformat": 4,
 "nbformat_minor": 5
}

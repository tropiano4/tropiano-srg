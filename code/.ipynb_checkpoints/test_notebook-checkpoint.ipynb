{
 "cells": [
  {
   "cell_type": "markdown",
   "id": "dc98d802",
   "metadata": {},
   "source": [
    "# Test notebook\n",
    "\n",
    "__A. J. Tropiano [tropiano.4@osu.edu]__<br/>\n",
    "__March 17, 2022__\n",
    "\n",
    "The purpose of this notebook is for testing out code and/or scripts.\n",
    "\n",
    "_Last update: April 20, 2022_"
   ]
  },
  {
   "cell_type": "code",
   "execution_count": 1,
   "id": "b4cd323a",
   "metadata": {},
   "outputs": [],
   "source": [
    "# Python imports\n",
    "from matplotlib.offsetbox import AnchoredText\n",
    "import matplotlib.pyplot as plt\n",
    "%matplotlib inline\n",
    "import numpy as np\n",
    "import time"
   ]
  },
  {
   "cell_type": "code",
   "execution_count": 2,
   "id": "f7d111bc",
   "metadata": {},
   "outputs": [],
   "source": [
    "# Imports from A.T. codes\n",
    "import densities\n",
    "from dmd import Deuteron\n",
    "from momentum_distributions import MomentumDistribution\n",
    "from potentials import Potential\n",
    "# You could import modules but I want a list of scripts here\n",
    "# Check these off the list as you go through Jupyter notebooks generating\n",
    "# figures\n",
    "import modules.a2\n",
    "import modules.figures\n",
    "import modules.fourier_transform\n",
    "from modules.integration import gaussian_quadrature_mesh\n",
    "import modules.labels\n",
    "import modules.long_distance_operators\n",
    "from magnus import Magnus, MagnusSplit\n",
    "import modules.momentum_projection_operator\n",
    "import modules.phase_shifts\n",
    "import modules.sdt\n",
    "from pmd import Pair\n",
    "from snmd import SingleNucleon\n",
    "from srg import SRG, get_transformation\n",
    "import modules.tools\n",
    "import modules.wave_function\n",
    "# add missing ones"
   ]
  },
  {
   "cell_type": "markdown",
   "id": "7c626522",
   "metadata": {},
   "source": [
    "For now let's illustrate the overhaul by testing scripts and showing how to use them."
   ]
  },
  {
   "cell_type": "markdown",
   "id": "1404e7e5",
   "metadata": {},
   "source": [
    "### Testing momentum distributions code"
   ]
  },
  {
   "cell_type": "code",
   "execution_count": 3,
   "id": "840d418e",
   "metadata": {
    "code_folding": [
     0
    ]
   },
   "outputs": [],
   "source": [
    "# # Test default interaction and SRG evolution\n",
    "\n",
    "# kvnn = 6\n",
    "# kmax, kmid, ntot = 15.0, 3.0, 120\n",
    "# channels = ('1S0', '3S1')\n",
    "# generator = 'Wegner'\n",
    "# lamb = 1.35"
   ]
  },
  {
   "cell_type": "code",
   "execution_count": 4,
   "id": "0c4015bb",
   "metadata": {
    "code_folding": [
     0
    ]
   },
   "outputs": [],
   "source": [
    "# # Get momentum values (channel argument doesn't matter here)\n",
    "# potential = Potential(kvnn, '1S0', kmax, kmid, ntot)\n",
    "# q_array, _ = potential.load_mesh()\n",
    "\n",
    "# # Set C.o.M. momentum too\n",
    "# Q_max = 2.0\n",
    "# ntot_Q = 40\n",
    "# Q_array, _ = gaussian_quadrature_mesh(Q_max, ntot_Q)"
   ]
  },
  {
   "cell_type": "code",
   "execution_count": 5,
   "id": "81e9192b",
   "metadata": {
    "code_folding": [
     0
    ]
   },
   "outputs": [],
   "source": [
    "# # Do Ca48 with SLy4 densities\n",
    "\n",
    "# nucleus_name = 'Ca48'\n",
    "# Z, N = 20, 28\n",
    "# density = 'SLY4'"
   ]
  },
  {
   "cell_type": "code",
   "execution_count": 6,
   "id": "842db164",
   "metadata": {
    "code_folding": [
     0
    ]
   },
   "outputs": [],
   "source": [
    "# # Generate new files and compare to old ones\n",
    "# # Single-nucleon matches old data exactly\n",
    "\n",
    "# snmd = SingleNucleon(kvnn, kmax, kmid, ntot, channels, generator, lamb)\n",
    "\n",
    "# for nucleon in ('proton', 'neutron'):\n",
    "    \n",
    "#     t0 = time.time()\n",
    "    \n",
    "#     n_array = snmd.compute_momentum_distribution(\n",
    "#         q_array, nucleon, nucleus_name, Z, N, density, save=True)\n",
    "    \n",
    "#     t1 = time.time()\n",
    "#     mins = (t1-t0)/60\n",
    "#     print(f'Done with {nucleon} after {mins:.2f} minutes.')"
   ]
  },
  {
   "cell_type": "code",
   "execution_count": 7,
   "id": "63b77892",
   "metadata": {
    "code_folding": [
     0
    ]
   },
   "outputs": [],
   "source": [
    "# # Pair matches old data exactly\n",
    "\n",
    "# pmd = Pair(kvnn, kmax, kmid, ntot, channels, generator, lamb)\n",
    "\n",
    "# for pair in ('pn', 'pp', 'nn'):\n",
    "    \n",
    "#     t0 = time.time()\n",
    "            \n",
    "#     # Q > 0\n",
    "#     n_array = pmd.compute_momentum_distribution(\n",
    "#         q_array, Q_array, pair, nucleus_name, Z, N, density, save=True)\n",
    "    \n",
    "#     # Q = 0\n",
    "#     n_Q0_array = pmd.compute_momentum_distribution_Q0(\n",
    "#         q_array, pair, nucleus_name, Z, N, density, save=True)\n",
    "\n",
    "#     t1 = time.time()\n",
    "#     mins = (t1-t0)/60\n",
    "#     print(f'Done with {pair} after {mins:.2f} minutes.')"
   ]
  },
  {
   "cell_type": "code",
   "execution_count": 8,
   "id": "69008c94",
   "metadata": {
    "code_folding": [
     0
    ]
   },
   "outputs": [],
   "source": [
    "# # Deuteron matches old data exactly\n",
    "\n",
    "# dmd = Deuteron(kvnn, kmax, kmid, ntot, generator, lamb)\n",
    "    \n",
    "# t0 = time.time()\n",
    "        \n",
    "# n_array = dmd.compute_momentum_distribution(q_array, save=True)\n",
    "            \n",
    "# t1 = time.time()\n",
    "# mins = (t1-t0)/60\n",
    "        \n",
    "# print(f'Done after {mins:.2f} minutes.')"
   ]
  },
  {
   "cell_type": "markdown",
   "id": "0cece211",
   "metadata": {},
   "source": [
    "### Generate momentum distribution data"
   ]
  },
  {
   "cell_type": "code",
   "execution_count": 9,
   "id": "7b7512d7",
   "metadata": {},
   "outputs": [
    {
     "name": "stdout",
     "output_type": "stream",
     "text": [
      "Starting kvnn = 6.\n",
      "Done with deuteron after 0.86 minutes.\n",
      "Done with He4 after 8.44 minutes.\n",
      "Done with Li7 after 8.36 minutes.\n",
      "Done with Be9 after 8.32 minutes.\n",
      "Done with C12 after 8.50 minutes.\n",
      "Done with O16 after 8.37 minutes.\n",
      "Done with Al27 after 8.36 minutes.\n",
      "Done with Ca40 after 8.54 minutes.\n",
      "Done with Ca48 after 8.48 minutes.\n",
      "Done with Ti48 after 8.55 minutes.\n",
      "Done with Fe56 after 8.52 minutes.\n",
      "Done with Cu63 after 8.59 minutes.\n",
      "Done with Ag107 after 8.45 minutes.\n",
      "Done with Sn118 after 8.42 minutes.\n",
      "Done with Ce140 after 8.56 minutes.\n",
      "Done with Ta181 after 8.51 minutes.\n",
      "Done with Au197 after 8.70 minutes.\n",
      "Done with Pb208 after 8.61 minutes.\n",
      "Done with U238 after 8.73 minutes.\n",
      "Done with kvnn = 6 after 153.97 minutes.\n",
      "\n",
      "Starting kvnn = 7.\n",
      "Done with deuteron after 0.87 minutes.\n",
      "Done with He4 after 8.57 minutes.\n",
      "Done with Li7 after 8.50 minutes.\n",
      "Done with Be9 after 8.46 minutes.\n",
      "Done with C12 after 8.42 minutes.\n",
      "Done with O16 after 8.39 minutes.\n",
      "Done with Al27 after 8.39 minutes.\n",
      "Done with Ca40 after 8.53 minutes.\n",
      "Done with Ca48 after 8.34 minutes.\n",
      "Done with Ti48 after 8.50 minutes.\n",
      "Done with Fe56 after 8.54 minutes.\n",
      "Done with Cu63 after 8.43 minutes.\n",
      "Done with Ag107 after 8.30 minutes.\n",
      "Done with Sn118 after 8.44 minutes.\n",
      "Done with Ce140 after 8.41 minutes.\n",
      "Done with Ta181 after 8.45 minutes.\n",
      "Done with Au197 after 8.45 minutes.\n",
      "Done with Pb208 after 8.50 minutes.\n",
      "Done with U238 after 8.62 minutes.\n",
      "Done with kvnn = 7 after 153.12 minutes.\n",
      "\n",
      "Starting kvnn = 79.\n"
     ]
    },
    {
     "ename": "OSError",
     "evalue": "../potentials/vsrg_macos/vsrg_kvnn_79_lam12.0_kmax15_kmid3_ntot120/vsrg_3S1_kvnn_79_lam12.0_reg_0_3_0_mesh.out not found.",
     "output_type": "error",
     "traceback": [
      "\u001b[0;31m---------------------------------------------------------------------------\u001b[0m",
      "\u001b[0;31mOSError\u001b[0m                                   Traceback (most recent call last)",
      "\u001b[0;32m/var/folders/4c/p53tldwd6f76zfs85vnyk3qr0000gn/T/ipykernel_7367/228614783.py\u001b[0m in \u001b[0;36m<module>\u001b[0;34m\u001b[0m\n\u001b[1;32m     30\u001b[0m     \u001b[0mt0_kvnn\u001b[0m \u001b[0;34m=\u001b[0m \u001b[0mtime\u001b[0m\u001b[0;34m.\u001b[0m\u001b[0mtime\u001b[0m\u001b[0;34m(\u001b[0m\u001b[0;34m)\u001b[0m\u001b[0;34m\u001b[0m\u001b[0;34m\u001b[0m\u001b[0m\n\u001b[1;32m     31\u001b[0m \u001b[0;34m\u001b[0m\u001b[0m\n\u001b[0;32m---> 32\u001b[0;31m     \u001b[0mdmd\u001b[0m \u001b[0;34m=\u001b[0m \u001b[0mDeuteron\u001b[0m\u001b[0;34m(\u001b[0m\u001b[0mkvnn\u001b[0m\u001b[0;34m,\u001b[0m \u001b[0mkmax\u001b[0m\u001b[0;34m,\u001b[0m \u001b[0mkmid\u001b[0m\u001b[0;34m,\u001b[0m \u001b[0mntot\u001b[0m\u001b[0;34m,\u001b[0m \u001b[0mgenerator\u001b[0m\u001b[0;34m,\u001b[0m \u001b[0mlamb\u001b[0m\u001b[0;34m)\u001b[0m\u001b[0;34m\u001b[0m\u001b[0;34m\u001b[0m\u001b[0m\n\u001b[0m\u001b[1;32m     33\u001b[0m     \u001b[0msnmd\u001b[0m \u001b[0;34m=\u001b[0m \u001b[0mSingleNucleon\u001b[0m\u001b[0;34m(\u001b[0m\u001b[0mkvnn\u001b[0m\u001b[0;34m,\u001b[0m \u001b[0mkmax\u001b[0m\u001b[0;34m,\u001b[0m \u001b[0mkmid\u001b[0m\u001b[0;34m,\u001b[0m \u001b[0mntot\u001b[0m\u001b[0;34m,\u001b[0m \u001b[0mchannels\u001b[0m\u001b[0;34m,\u001b[0m \u001b[0mgenerator\u001b[0m\u001b[0;34m,\u001b[0m \u001b[0mlamb\u001b[0m\u001b[0;34m)\u001b[0m\u001b[0;34m\u001b[0m\u001b[0;34m\u001b[0m\u001b[0m\n\u001b[1;32m     34\u001b[0m     \u001b[0mpmd\u001b[0m \u001b[0;34m=\u001b[0m \u001b[0mPair\u001b[0m\u001b[0;34m(\u001b[0m\u001b[0mkvnn\u001b[0m\u001b[0;34m,\u001b[0m \u001b[0mkmax\u001b[0m\u001b[0;34m,\u001b[0m \u001b[0mkmid\u001b[0m\u001b[0;34m,\u001b[0m \u001b[0mntot\u001b[0m\u001b[0;34m,\u001b[0m \u001b[0mchannels\u001b[0m\u001b[0;34m,\u001b[0m \u001b[0mgenerator\u001b[0m\u001b[0;34m,\u001b[0m \u001b[0mlamb\u001b[0m\u001b[0;34m)\u001b[0m\u001b[0;34m\u001b[0m\u001b[0;34m\u001b[0m\u001b[0m\n",
      "\u001b[0;32m~/Documents/GitHub/tropiano-srg/code/dmd.py\u001b[0m in \u001b[0;36m__init__\u001b[0;34m(self, kvnn, kmax, kmid, ntot, generator, lamb, lambda_initial, kvnn_inv, delta_lambda)\u001b[0m\n\u001b[1;32m     84\u001b[0m \u001b[0;34m\u001b[0m\u001b[0m\n\u001b[1;32m     85\u001b[0m         \u001b[0;31m# Set-up calculation\u001b[0m\u001b[0;34m\u001b[0m\u001b[0;34m\u001b[0m\u001b[0m\n\u001b[0;32m---> 86\u001b[0;31m         self.save_deuteron_deltaU_funcs(generator, lamb, lambda_initial,\n\u001b[0m\u001b[1;32m     87\u001b[0m                                         kvnn_inv, delta_lambda)\n\u001b[1;32m     88\u001b[0m \u001b[0;34m\u001b[0m\u001b[0m\n",
      "\u001b[0;32m~/Documents/GitHub/tropiano-srg/code/momentum_distributions.py\u001b[0m in \u001b[0;36msave_deuteron_deltaU_funcs\u001b[0;34m(self, generator, lamb, lambda_initial, kvnn_inv, delta_lambda)\u001b[0m\n\u001b[1;32m    341\u001b[0m \u001b[0;34m\u001b[0m\u001b[0m\n\u001b[1;32m    342\u001b[0m         \u001b[0;31m# Get momentum mesh (channel argument doesn't matter here)\u001b[0m\u001b[0;34m\u001b[0m\u001b[0;34m\u001b[0m\u001b[0m\n\u001b[0;32m--> 343\u001b[0;31m         k_array, k_weights = Potential(\n\u001b[0m\u001b[1;32m    344\u001b[0m             self.kvnn, channel, self.kmax, self.kmid, self.ntot).load_mesh()\n\u001b[1;32m    345\u001b[0m \u001b[0;34m\u001b[0m\u001b[0m\n",
      "\u001b[0;32m~/Documents/GitHub/tropiano-srg/code/potentials.py\u001b[0m in \u001b[0;36mload_mesh\u001b[0;34m(self)\u001b[0m\n\u001b[1;32m    179\u001b[0m         \u001b[0;31m# Load mesh file\u001b[0m\u001b[0;34m\u001b[0m\u001b[0;34m\u001b[0m\u001b[0m\n\u001b[1;32m    180\u001b[0m         \u001b[0mmesh_file\u001b[0m \u001b[0;34m=\u001b[0m \u001b[0mself\u001b[0m\u001b[0;34m.\u001b[0m\u001b[0mget_file_name\u001b[0m\u001b[0;34m(\u001b[0m\u001b[0;34m'mesh'\u001b[0m\u001b[0;34m)\u001b[0m\u001b[0;34m\u001b[0m\u001b[0;34m\u001b[0m\u001b[0m\n\u001b[0;32m--> 181\u001b[0;31m         \u001b[0mdata\u001b[0m \u001b[0;34m=\u001b[0m \u001b[0mnp\u001b[0m\u001b[0;34m.\u001b[0m\u001b[0mloadtxt\u001b[0m\u001b[0;34m(\u001b[0m\u001b[0mself\u001b[0m\u001b[0;34m.\u001b[0m\u001b[0mpotential_directory\u001b[0m \u001b[0;34m+\u001b[0m \u001b[0mmesh_file\u001b[0m\u001b[0;34m)\u001b[0m\u001b[0;34m\u001b[0m\u001b[0;34m\u001b[0m\u001b[0m\n\u001b[0m\u001b[1;32m    182\u001b[0m \u001b[0;34m\u001b[0m\u001b[0m\n\u001b[1;32m    183\u001b[0m         \u001b[0;31m# Momentum is the first column and weights are the second\u001b[0m\u001b[0;34m\u001b[0m\u001b[0;34m\u001b[0m\u001b[0m\n",
      "\u001b[0;32m~/opt/anaconda3/lib/python3.9/site-packages/numpy/lib/npyio.py\u001b[0m in \u001b[0;36mloadtxt\u001b[0;34m(fname, dtype, comments, delimiter, converters, skiprows, usecols, unpack, ndmin, encoding, max_rows, like)\u001b[0m\n\u001b[1;32m   1063\u001b[0m             \u001b[0mfname\u001b[0m \u001b[0;34m=\u001b[0m \u001b[0mos_fspath\u001b[0m\u001b[0;34m(\u001b[0m\u001b[0mfname\u001b[0m\u001b[0;34m)\u001b[0m\u001b[0;34m\u001b[0m\u001b[0;34m\u001b[0m\u001b[0m\n\u001b[1;32m   1064\u001b[0m         \u001b[0;32mif\u001b[0m \u001b[0m_is_string_like\u001b[0m\u001b[0;34m(\u001b[0m\u001b[0mfname\u001b[0m\u001b[0;34m)\u001b[0m\u001b[0;34m:\u001b[0m\u001b[0;34m\u001b[0m\u001b[0;34m\u001b[0m\u001b[0m\n\u001b[0;32m-> 1065\u001b[0;31m             \u001b[0mfh\u001b[0m \u001b[0;34m=\u001b[0m \u001b[0mnp\u001b[0m\u001b[0;34m.\u001b[0m\u001b[0mlib\u001b[0m\u001b[0;34m.\u001b[0m\u001b[0m_datasource\u001b[0m\u001b[0;34m.\u001b[0m\u001b[0mopen\u001b[0m\u001b[0;34m(\u001b[0m\u001b[0mfname\u001b[0m\u001b[0;34m,\u001b[0m \u001b[0;34m'rt'\u001b[0m\u001b[0;34m,\u001b[0m \u001b[0mencoding\u001b[0m\u001b[0;34m=\u001b[0m\u001b[0mencoding\u001b[0m\u001b[0;34m)\u001b[0m\u001b[0;34m\u001b[0m\u001b[0;34m\u001b[0m\u001b[0m\n\u001b[0m\u001b[1;32m   1066\u001b[0m             \u001b[0mfencoding\u001b[0m \u001b[0;34m=\u001b[0m \u001b[0mgetattr\u001b[0m\u001b[0;34m(\u001b[0m\u001b[0mfh\u001b[0m\u001b[0;34m,\u001b[0m \u001b[0;34m'encoding'\u001b[0m\u001b[0;34m,\u001b[0m \u001b[0;34m'latin1'\u001b[0m\u001b[0;34m)\u001b[0m\u001b[0;34m\u001b[0m\u001b[0;34m\u001b[0m\u001b[0m\n\u001b[1;32m   1067\u001b[0m             \u001b[0mfh\u001b[0m \u001b[0;34m=\u001b[0m \u001b[0miter\u001b[0m\u001b[0;34m(\u001b[0m\u001b[0mfh\u001b[0m\u001b[0;34m)\u001b[0m\u001b[0;34m\u001b[0m\u001b[0;34m\u001b[0m\u001b[0m\n",
      "\u001b[0;32m~/opt/anaconda3/lib/python3.9/site-packages/numpy/lib/_datasource.py\u001b[0m in \u001b[0;36mopen\u001b[0;34m(path, mode, destpath, encoding, newline)\u001b[0m\n\u001b[1;32m    192\u001b[0m \u001b[0;34m\u001b[0m\u001b[0m\n\u001b[1;32m    193\u001b[0m     \u001b[0mds\u001b[0m \u001b[0;34m=\u001b[0m \u001b[0mDataSource\u001b[0m\u001b[0;34m(\u001b[0m\u001b[0mdestpath\u001b[0m\u001b[0;34m)\u001b[0m\u001b[0;34m\u001b[0m\u001b[0;34m\u001b[0m\u001b[0m\n\u001b[0;32m--> 194\u001b[0;31m     \u001b[0;32mreturn\u001b[0m \u001b[0mds\u001b[0m\u001b[0;34m.\u001b[0m\u001b[0mopen\u001b[0m\u001b[0;34m(\u001b[0m\u001b[0mpath\u001b[0m\u001b[0;34m,\u001b[0m \u001b[0mmode\u001b[0m\u001b[0;34m,\u001b[0m \u001b[0mencoding\u001b[0m\u001b[0;34m=\u001b[0m\u001b[0mencoding\u001b[0m\u001b[0;34m,\u001b[0m \u001b[0mnewline\u001b[0m\u001b[0;34m=\u001b[0m\u001b[0mnewline\u001b[0m\u001b[0;34m)\u001b[0m\u001b[0;34m\u001b[0m\u001b[0;34m\u001b[0m\u001b[0m\n\u001b[0m\u001b[1;32m    195\u001b[0m \u001b[0;34m\u001b[0m\u001b[0m\n\u001b[1;32m    196\u001b[0m \u001b[0;34m\u001b[0m\u001b[0m\n",
      "\u001b[0;32m~/opt/anaconda3/lib/python3.9/site-packages/numpy/lib/_datasource.py\u001b[0m in \u001b[0;36mopen\u001b[0;34m(self, path, mode, encoding, newline)\u001b[0m\n\u001b[1;32m    529\u001b[0m                                       encoding=encoding, newline=newline)\n\u001b[1;32m    530\u001b[0m         \u001b[0;32melse\u001b[0m\u001b[0;34m:\u001b[0m\u001b[0;34m\u001b[0m\u001b[0;34m\u001b[0m\u001b[0m\n\u001b[0;32m--> 531\u001b[0;31m             \u001b[0;32mraise\u001b[0m \u001b[0mIOError\u001b[0m\u001b[0;34m(\u001b[0m\u001b[0;34m\"%s not found.\"\u001b[0m \u001b[0;34m%\u001b[0m \u001b[0mpath\u001b[0m\u001b[0;34m)\u001b[0m\u001b[0;34m\u001b[0m\u001b[0;34m\u001b[0m\u001b[0m\n\u001b[0m\u001b[1;32m    532\u001b[0m \u001b[0;34m\u001b[0m\u001b[0m\n\u001b[1;32m    533\u001b[0m \u001b[0;34m\u001b[0m\u001b[0m\n",
      "\u001b[0;31mOSError\u001b[0m: ../potentials/vsrg_macos/vsrg_kvnn_79_lam12.0_kmax15_kmid3_ntot120/vsrg_3S1_kvnn_79_lam12.0_reg_0_3_0_mesh.out not found."
     ]
    }
   ],
   "source": [
    "# kvnns = (2, 3, 4, 5, 6, 7, 79, 110, 111, 112, 113, 222, 224)\n",
    "# Note: Each kvnn + Gogny run takes about 2.7 hours\n",
    "kvnns = (110, 111, 112, 113, 222, 224)\n",
    "kmax, kmid, ntot = 15.0, 3.0, 120\n",
    "channels = ('1S0', '3S1')\n",
    "generator = 'Wegner'\n",
    "lamb = 1.35\n",
    "density = 'Gogny'\n",
    "nuclei_gogny = (\n",
    "    ('He4', 2, 2), ('Li7', 3, 4), ('Be9', 4, 5), ('C12', 6, 6), ('O16', 8, 8),\n",
    "    ('Al27', 13, 14), ('Ca40', 20, 20), ('Ca48', 20, 28), ('Ti48', 22, 26),\n",
    "    ('Fe56', 26, 30), ('Cu63', 29, 34), ('Ag107', 47, 60), ('Sn118', 50, 68),\n",
    "    ('Ce140', 58, 82), ('Ta181', 73, 108), ('Au197', 79, 118),\n",
    "    ('Pb208', 82, 126), ('U238', 92, 146)\n",
    ")\n",
    "\n",
    "potential = Potential(6, '1S0', kmax, kmid, ntot)\n",
    "q_array, _ = potential.load_mesh()  # This will be the same in every case\n",
    "\n",
    "# Set C.o.M. momentum too\n",
    "Q_max = 2.0\n",
    "ntot_Q = 40\n",
    "Q_array, _ = gaussian_quadrature_mesh(Q_max, ntot_Q)\n",
    "\n",
    "# Generate files\n",
    "for kvnn in kvnns:\n",
    "    \n",
    "    print(f'Starting kvnn = {kvnn}.')\n",
    "    t0_kvnn = time.time()\n",
    "\n",
    "    dmd = Deuteron(kvnn, kmax, kmid, ntot, generator, lamb)\n",
    "    snmd = SingleNucleon(kvnn, kmax, kmid, ntot, channels, generator, lamb)\n",
    "    pmd = Pair(kvnn, kmax, kmid, ntot, channels, generator, lamb)\n",
    "\n",
    "    # Deuteron first\n",
    "    t0_d = time.time()\n",
    "    n_array = dmd.compute_momentum_distribution(q_array, save=True)   \n",
    "    t1_d = time.time()\n",
    "    mins = (t1_d-t0_d)/60\n",
    "    print(f'Done with deuteron after {mins:.2f} minutes.')\n",
    "    \n",
    "    for nucleus in nuclei_gogny:\n",
    "        \n",
    "        nucleus_name = nucleus[0]\n",
    "        Z = nucleus[1]\n",
    "        N = nucleus[2]\n",
    "        \n",
    "        t0_nucleus = time.time()\n",
    "        \n",
    "        # Single-nucleon\n",
    "        for nucleon in ('proton', 'neutron'):\n",
    "            \n",
    "            n_array = snmd.compute_momentum_distribution(\n",
    "                q_array, nucleon, nucleus_name, Z, N, density, save=True)\n",
    "        \n",
    "        # Pair\n",
    "        for pair in ('pn', 'pp', 'nn'):\n",
    "        \n",
    "            # Q > 0\n",
    "            n_array = pmd.compute_momentum_distribution(\n",
    "                q_array, Q_array, pair, nucleus_name, Z, N, density,\n",
    "                save=True)\n",
    "            # Q = 0\n",
    "            n_Q0_array = pmd.compute_momentum_distribution_Q0(\n",
    "                    q_array, pair, nucleus_name, Z, N, density, save=True)\n",
    "\n",
    "        t1_nucleus = time.time()\n",
    "        mins = (t1_nucleus-t0_nucleus)/60\n",
    "        print(f'Done with {nucleus_name} after {mins:.2f} minutes.')\n",
    "        \n",
    "    t1_kvnn = time.time()\n",
    "    mins = (t1_kvnn-t0_kvnn)/60\n",
    "    print(f'Done with kvnn = {kvnn} after {mins:.2f} minutes.\\n')"
   ]
  },
  {
   "cell_type": "code",
   "execution_count": null,
   "id": "c6413914",
   "metadata": {},
   "outputs": [],
   "source": [
    "# Do additional two densities (SLy4 and VMC) for AV18"
   ]
  },
  {
   "cell_type": "code",
   "execution_count": null,
   "id": "476bd13f",
   "metadata": {},
   "outputs": [],
   "source": [
    "# Do other iterations of channels with AV18 and SLY4"
   ]
  },
  {
   "cell_type": "code",
   "execution_count": null,
   "id": "9f43e6f9",
   "metadata": {},
   "outputs": [],
   "source": [
    "# Do inverse-SRG with \\delta \\lambda = (6, 5.5, ..., 3.5, 3.0) for kvnn and\n",
    "# kvnn_inv pairs of (111, 6), (111, 113), (113, 6), (222, 6)"
   ]
  },
  {
   "cell_type": "code",
   "execution_count": null,
   "id": "e1be1eb0",
   "metadata": {},
   "outputs": [],
   "source": [
    "# Do block-diagonal and \\lambda dependence for AV18 with Gogny density\n",
    "# Don't repeat \\lambda = 1.35 for band-diagonal"
   ]
  },
  {
   "cell_type": "code",
   "execution_count": null,
   "id": "5d1ae9c9",
   "metadata": {},
   "outputs": [],
   "source": []
  },
  {
   "cell_type": "code",
   "execution_count": null,
   "id": "075edcd9",
   "metadata": {},
   "outputs": [],
   "source": []
  },
  {
   "cell_type": "code",
   "execution_count": null,
   "id": "b29dcbe5",
   "metadata": {},
   "outputs": [],
   "source": []
  },
  {
   "cell_type": "code",
   "execution_count": null,
   "id": "cb1f9dbe",
   "metadata": {},
   "outputs": [],
   "source": []
  },
  {
   "cell_type": "code",
   "execution_count": null,
   "id": "70934e18",
   "metadata": {},
   "outputs": [],
   "source": []
  },
  {
   "cell_type": "code",
   "execution_count": null,
   "id": "6d25d9f5",
   "metadata": {},
   "outputs": [],
   "source": []
  },
  {
   "cell_type": "code",
   "execution_count": null,
   "id": "a93c567b",
   "metadata": {},
   "outputs": [],
   "source": []
  },
  {
   "cell_type": "code",
   "execution_count": null,
   "id": "923c45f2",
   "metadata": {},
   "outputs": [],
   "source": []
  },
  {
   "cell_type": "code",
   "execution_count": null,
   "id": "40b1b913",
   "metadata": {},
   "outputs": [],
   "source": []
  }
 ],
 "metadata": {
  "kernelspec": {
   "display_name": "Python 3 (ipykernel)",
   "language": "python",
   "name": "python3"
  },
  "language_info": {
   "codemirror_mode": {
    "name": "ipython",
    "version": 3
   },
   "file_extension": ".py",
   "mimetype": "text/x-python",
   "name": "python",
   "nbconvert_exporter": "python",
   "pygments_lexer": "ipython3",
   "version": "3.9.7"
  }
 },
 "nbformat": 4,
 "nbformat_minor": 5
}

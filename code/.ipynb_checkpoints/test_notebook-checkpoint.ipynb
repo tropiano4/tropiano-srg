{
 "cells": [
  {
   "cell_type": "markdown",
   "id": "dc98d802",
   "metadata": {},
   "source": [
    "# Test notebook\n",
    "\n",
    "__A. J. Tropiano [tropiano.4@osu.edu]__<br/>\n",
    "__March 17, 2022__\n",
    "\n",
    "The purpose of this notebook is for testing out code and/or scripts.\n",
    "\n",
    "_Last update: April 8, 2022_"
   ]
  },
  {
   "cell_type": "code",
   "execution_count": 1,
   "id": "b4cd323a",
   "metadata": {},
   "outputs": [],
   "source": [
    "# Python imports\n",
    "from matplotlib.offsetbox import AnchoredText\n",
    "import matplotlib.pyplot as plt\n",
    "%matplotlib inline\n",
    "import numpy as np\n",
    "import time"
   ]
  },
  {
   "cell_type": "code",
   "execution_count": 2,
   "id": "f7d111bc",
   "metadata": {},
   "outputs": [
    {
     "ename": "ModuleNotFoundError",
     "evalue": "No module named 'modules.srg'",
     "output_type": "error",
     "traceback": [
      "\u001b[1;31m---------------------------------------------------------------------------\u001b[0m",
      "\u001b[1;31mModuleNotFoundError\u001b[0m                       Traceback (most recent call last)",
      "\u001b[1;32m<ipython-input-2-c73c0affc699>\u001b[0m in \u001b[0;36m<module>\u001b[1;34m\u001b[0m\n\u001b[0;32m      1\u001b[0m \u001b[1;31m# Imports from A.T. codes\u001b[0m\u001b[1;33m\u001b[0m\u001b[1;33m\u001b[0m\u001b[1;33m\u001b[0m\u001b[0m\n\u001b[0;32m      2\u001b[0m \u001b[1;32mimport\u001b[0m \u001b[0mdensities\u001b[0m\u001b[1;33m\u001b[0m\u001b[1;33m\u001b[0m\u001b[0m\n\u001b[1;32m----> 3\u001b[1;33m \u001b[1;32mfrom\u001b[0m \u001b[0mmomentum_distributions\u001b[0m \u001b[1;32mimport\u001b[0m \u001b[0mMomentumDistributions\u001b[0m\u001b[1;33m\u001b[0m\u001b[1;33m\u001b[0m\u001b[0m\n\u001b[0m\u001b[0;32m      4\u001b[0m \u001b[1;32mfrom\u001b[0m \u001b[0mpotentials\u001b[0m \u001b[1;32mimport\u001b[0m \u001b[0mPotential\u001b[0m\u001b[1;33m\u001b[0m\u001b[1;33m\u001b[0m\u001b[0m\n\u001b[0;32m      5\u001b[0m \u001b[1;31m# You could import modules but I want a list of scripts here\u001b[0m\u001b[1;33m\u001b[0m\u001b[1;33m\u001b[0m\u001b[1;33m\u001b[0m\u001b[0m\n",
      "\u001b[1;32m~\\OneDrive\\Documents\\GitHub\\tropiano-srg\\code\\momentum_distributions.py\u001b[0m in \u001b[0;36m<module>\u001b[1;34m\u001b[0m\n\u001b[0;32m     26\u001b[0m \u001b[1;33m\u001b[0m\u001b[0m\n\u001b[0;32m     27\u001b[0m \u001b[1;31m# Imports from A.T. codes\u001b[0m\u001b[1;33m\u001b[0m\u001b[1;33m\u001b[0m\u001b[1;33m\u001b[0m\u001b[0m\n\u001b[1;32m---> 28\u001b[1;33m \u001b[1;32mfrom\u001b[0m \u001b[0mmodules\u001b[0m\u001b[1;33m.\u001b[0m\u001b[0msrg\u001b[0m \u001b[1;32mimport\u001b[0m \u001b[0mget_transformation\u001b[0m\u001b[1;33m\u001b[0m\u001b[1;33m\u001b[0m\u001b[0m\n\u001b[0m\u001b[0;32m     29\u001b[0m \u001b[1;32mfrom\u001b[0m \u001b[0mmodules\u001b[0m\u001b[1;33m.\u001b[0m\u001b[0mtools\u001b[0m \u001b[1;32mimport\u001b[0m \u001b[0mchannel_L_value\u001b[0m\u001b[1;33m,\u001b[0m \u001b[0mcoupled_channel\u001b[0m\u001b[1;33m\u001b[0m\u001b[1;33m\u001b[0m\u001b[0m\n\u001b[0;32m     30\u001b[0m \u001b[1;32mfrom\u001b[0m \u001b[0mvnn\u001b[0m \u001b[1;32mimport\u001b[0m \u001b[0mPotential\u001b[0m\u001b[1;33m\u001b[0m\u001b[1;33m\u001b[0m\u001b[0m\n",
      "\u001b[1;31mModuleNotFoundError\u001b[0m: No module named 'modules.srg'"
     ]
    }
   ],
   "source": [
    "# Imports from A.T. codes\n",
    "import densities\n",
    "from momentum_distributions import MomentumDistribution\n",
    "from potentials import Potential\n",
    "# You could import modules but I want a list of scripts here\n",
    "# Check these off the list as you go through Jupyter notebooks generating\n",
    "# figures\n",
    "# import dmd, snmd, pmd\n",
    "import modules.a2\n",
    "import modules.figures\n",
    "import modules.fourier_transform\n",
    "import modules.integration\n",
    "import modules.labels\n",
    "import modules.long_distance_operators\n",
    "from magnus import Magnus_split\n",
    "import modules.momentum_projection_operator\n",
    "import modules.phase_shifts\n",
    "import modules.sdt\n",
    "from srg import get_transformation\n",
    "import modules.tools\n",
    "import modules.wave_function\n",
    "# add missing ones"
   ]
  },
  {
   "cell_type": "markdown",
   "id": "7c626522",
   "metadata": {},
   "source": [
    "For now let's illustrate the overhaul by testing scripts and showing how to use them."
   ]
  },
  {
   "cell_type": "markdown",
   "id": "20e60b5a",
   "metadata": {},
   "source": [
    "### Test `vnn.py`"
   ]
  },
  {
   "cell_type": "code",
   "execution_count": null,
   "id": "78f20e3e",
   "metadata": {
    "code_folding": []
   },
   "outputs": [],
   "source": [
    "kvnn = 900\n",
    "channel = '3S1'\n",
    "kmax, kmid, ntot = 30.0, 4.0, 120"
   ]
  },
  {
   "cell_type": "code",
   "execution_count": null,
   "id": "9461e005",
   "metadata": {
    "code_folding": []
   },
   "outputs": [],
   "source": [
    "# For comparing to old code\n",
    "from os import getcwd, chdir\n",
    "\n",
    "cwd = getcwd()\n",
    "old_code_dir = '../../../tropiano-srg-old'\n",
    "\n",
    "chdir(old_code_dir)\n",
    "\n",
    "from run_srg import run_srg as rs_old\n",
    "from potentials.vsrg_macos import vnn as vnn_old\n",
    "from snmd import single_nucleon_momentum_distributions\n",
    "from pmd import pair_momentum_distributions\n",
    "from dmd import deuteron_momentum_distributions\n",
    "\n",
    "chdir(cwd)"
   ]
  },
  {
   "cell_type": "code",
   "execution_count": null,
   "id": "883584d1",
   "metadata": {
    "code_folding": [
     0
    ]
   },
   "outputs": [],
   "source": [
    "# # __init__ (check)\n",
    "\n",
    "# potential = Potential(kvnn, channel, kmax, kmid, ntot)\n",
    "# print(potential.kvnn, potential.coupled_channel_bool, \n",
    "#       potential.potential_directory)"
   ]
  },
  {
   "cell_type": "code",
   "execution_count": null,
   "id": "5fd02f11",
   "metadata": {
    "code_folding": [
     0
    ],
    "scrolled": true
   },
   "outputs": [],
   "source": [
    "# # load_mesh (check)\n",
    "\n",
    "# k_array, k_weights = potential.load_mesh()\n",
    "# for ik, iw in zip(k_array, k_weights):\n",
    "#     print(ik, iw)"
   ]
  },
  {
   "cell_type": "code",
   "execution_count": null,
   "id": "f7837d4b",
   "metadata": {
    "code_folding": [
     0
    ]
   },
   "outputs": [],
   "source": [
    "# # load_potential (check)\n",
    "\n",
    "# V_matrix = potential.load_potential()\n",
    "# print(V_matrix)"
   ]
  },
  {
   "cell_type": "code",
   "execution_count": null,
   "id": "e3ff7df9",
   "metadata": {
    "code_folding": [
     0
    ]
   },
   "outputs": [],
   "source": [
    "# # load_hamiltonian (check)\n",
    "\n",
    "# H_matrix = potential.load_hamiltonian()\n",
    "# print(H_matrix)"
   ]
  },
  {
   "cell_type": "code",
   "execution_count": null,
   "id": "09af4339",
   "metadata": {
    "code_folding": [
     0
    ]
   },
   "outputs": [],
   "source": [
    "# # Compare to Hamiltonian using vnn.py from tropiano-srg-old (check)\n",
    "\n",
    "# chdir(old_code_dir)\n",
    "\n",
    "# H_matrix_old = vnn_old.load_hamiltonian(kvnn, channel, kmax, kmid, ntot)\n",
    "# print(H_matrix_old)\n",
    "\n",
    "# chdir(cwd)"
   ]
  },
  {
   "cell_type": "markdown",
   "id": "70e9d728",
   "metadata": {},
   "source": [
    "### Test `srg.py`"
   ]
  },
  {
   "cell_type": "code",
   "execution_count": null,
   "id": "898a5861",
   "metadata": {
    "code_folding": []
   },
   "outputs": [],
   "source": [
    "# run_srg for Wegner (check)\n",
    "\n",
    "generator = 'Wegner'\n",
    "srg = SRG(kvnn, channel, kmax, kmid, ntot, generator)\n",
    "lambda_array = np.array([6.0, 3.0])\n",
    "d = srg.srg_evolve(lambda_array)\n",
    "print(d[3.0])"
   ]
  },
  {
   "cell_type": "code",
   "execution_count": null,
   "id": "b2e02d91",
   "metadata": {
    "code_folding": []
   },
   "outputs": [],
   "source": [
    "chdir(old_code_dir)\n",
    "\n",
    "d_old = rs_old(kvnn, channel, kmax, kmid, ntot, generator, lambda_array,\n",
    "               save=False)\n",
    "print(d_old[3.0])\n",
    "\n",
    "chdir(cwd)"
   ]
  },
  {
   "cell_type": "code",
   "execution_count": null,
   "id": "969c8c42",
   "metadata": {
    "code_folding": [
     0
    ]
   },
   "outputs": [],
   "source": [
    "# # run_srg for T (check)\n",
    "\n",
    "# generator = 'T'\n",
    "\n",
    "# d = potential.run_srg(generator, lambda_array, save=False)\n",
    "# print(d[3.0])"
   ]
  },
  {
   "cell_type": "code",
   "execution_count": null,
   "id": "653f190d",
   "metadata": {
    "code_folding": [
     0
    ]
   },
   "outputs": [],
   "source": [
    "# chdir(old_code_dir)\n",
    "\n",
    "# d_old = rs_old(kvnn, channel, kmax, kmid, ntot, generator, lambda_array,\n",
    "#                save=False)\n",
    "# print(d_old[3.0])\n",
    "\n",
    "# chdir(cwd)"
   ]
  },
  {
   "cell_type": "code",
   "execution_count": null,
   "id": "f2c65186",
   "metadata": {
    "code_folding": [
     0
    ]
   },
   "outputs": [],
   "source": [
    "# # run_srg for Block-diag (check)\n",
    "\n",
    "# generator = 'Block-diag'\n",
    "# lambda_bd_array = np.array([6.0, 3.0])\n",
    "# lambda_array = np.array([1.0])\n",
    "\n",
    "# d = potential.run_srg(generator, lambda_array, lambda_bd_array, save=False)\n",
    "# print(d[3.0][1.0])"
   ]
  },
  {
   "cell_type": "code",
   "execution_count": null,
   "id": "bba5f45a",
   "metadata": {
    "code_folding": [
     0
    ]
   },
   "outputs": [],
   "source": [
    "# chdir(old_code_dir)\n",
    "\n",
    "# d_old = rs_old(kvnn, channel, kmax, kmid, ntot, generator, lambda_array,\n",
    "#                lambda_bd=lambda_bd_array[-1], save=False)\n",
    "# print(d_old[1.0])\n",
    "\n",
    "# chdir(cwd)"
   ]
  },
  {
   "cell_type": "code",
   "execution_count": null,
   "id": "2151b92d",
   "metadata": {
    "code_folding": [
     0
    ]
   },
   "outputs": [],
   "source": [
    "# # compare evolved Hamiltonian using get_transformation (check)\n",
    "\n",
    "# H_initial = potential.load_hamiltonian()\n",
    "# H_evolved = potential.load_hamiltonian('srg', 'Wegner', 3.0)\n",
    "# U_matrix = get_transformation(H_initial, H_evolved)\n",
    "# print(U_matrix @ H_initial @ U_matrix.T / potential.hbar_sq_over_m)"
   ]
  },
  {
   "cell_type": "markdown",
   "id": "90963b23",
   "metadata": {},
   "source": [
    "### Test `magnus.py`"
   ]
  },
  {
   "cell_type": "code",
   "execution_count": null,
   "id": "56df3791",
   "metadata": {
    "code_folding": []
   },
   "outputs": [],
   "source": [
    "# Might be smart to test a really soft potential here for speed\n",
    "kvnn = 111\n",
    "channel = '1S0'\n",
    "kmax, kmid, ntot = 10.0, 2.0, 120"
   ]
  },
  {
   "cell_type": "code",
   "execution_count": null,
   "id": "f8ea1e1d",
   "metadata": {
    "code_folding": []
   },
   "outputs": [],
   "source": [
    "# Do default Magnus arguments\n",
    "k_max = 6\n",
    "ds = 1e-5"
   ]
  },
  {
   "cell_type": "code",
   "execution_count": null,
   "id": "a70e4a77",
   "metadata": {
    "code_folding": []
   },
   "outputs": [],
   "source": [
    "# run_magnus for Wegner (check)\n",
    "\n",
    "generator = 'Wegner'\n",
    "lambda_array = np.array([6.0, 3.0])\n",
    "magnus = Magnus(kvnn, channel, kmax, kmid, ntot, generator)\n",
    "d = magnus.magnus_evolve(lambda_array, k_max=k_max, ds=ds)\n",
    "print(d[3.0])\n",
    "\n",
    "# run_srg for Wegner\n",
    "srg = SRG(kvnn, channel, kmax, kmid, ntot, generator)\n",
    "d = srg.srg_evolve(lambda_array)\n",
    "print(d[3.0])"
   ]
  },
  {
   "cell_type": "code",
   "execution_count": null,
   "id": "9ca21eb8",
   "metadata": {
    "code_folding": [
     0
    ]
   },
   "outputs": [],
   "source": [
    "# # run_magnus for T (check)\n",
    "\n",
    "# generator = 'T'\n",
    "# lambda_array = np.array([6.0, 3.0])\n",
    "\n",
    "# d = potential.run_magnus(generator, lambda_array, k_max=k_max, ds=ds,\n",
    "#                          save=False)\n",
    "# print(d[3.0])\n",
    "\n",
    "# # run_srg for Wegner\n",
    "# d = potential.run_srg(generator, lambda_array, save=False)\n",
    "# print(d[3.0])"
   ]
  },
  {
   "cell_type": "code",
   "execution_count": null,
   "id": "e901eb7a",
   "metadata": {
    "code_folding": [
     0
    ]
   },
   "outputs": [],
   "source": [
    "# # run_magnus for Block-diag\n",
    "\n",
    "# generator = 'Block-diag'\n",
    "# lambda_bd_array = np.array([6.0, 3.0])\n",
    "# lambda_array = np.array([3.0])\n",
    "\n",
    "# d = potential.run_magnus(generator, lambda_array, lambda_bd_array, \n",
    "#                          k_max=k_max, ds=ds, save=False)\n",
    "# print(d[3.0][3.0])\n",
    "\n",
    "# # run_srg for Block-diag (check)\n",
    "# d = potential.run_srg(generator, lambda_array, lambda_bd_array, save=False)\n",
    "# print(d[3.0][3.0])"
   ]
  },
  {
   "cell_type": "code",
   "execution_count": null,
   "id": "a7eb375e",
   "metadata": {
    "code_folding": []
   },
   "outputs": [],
   "source": [
    "# Test that Magnus_split at least works (check)\n",
    "\n",
    "generator = 'Wegner'\n",
    "lambda_array = np.array([6.0, 3.0])\n",
    "k_max = 6\n",
    "ds = 1e-5\n",
    "\n",
    "magnus_split = Magnus_split(kvnn, channel, kmax, kmid, ntot, generator)\n",
    "d = magnus_split.magnus_split_evolve(lambda_array, k_max=k_max, ds=ds)\n",
    "print(d[3.0])"
   ]
  },
  {
   "cell_type": "markdown",
   "id": "1404e7e5",
   "metadata": {},
   "source": [
    "### Testing momentum distributions code"
   ]
  },
  {
   "cell_type": "code",
   "execution_count": null,
   "id": "840d418e",
   "metadata": {
    "code_folding": [
     0
    ]
   },
   "outputs": [],
   "source": [
    "# # kvnn = 6\n",
    "# # kmax, kmid, ntot = 15.0, 3.0, 120\n",
    "# kvnn = 111\n",
    "# kmax, kmid, ntot = 10.0, 2.0, 120\n",
    "# channels = ('1S0', '3S1')\n",
    "# generator = 'Wegner'\n",
    "# lamb = 1.5"
   ]
  },
  {
   "cell_type": "code",
   "execution_count": null,
   "id": "aefe0f04",
   "metadata": {
    "code_folding": [
     0
    ]
   },
   "outputs": [],
   "source": [
    "# # This works comparing to old snmd.py and pmd.py\n",
    "# md = MomentumDistributions(kvnn, kmax, kmid, ntot)\n",
    "# md.save_deltaU_funcs(channels, generator, lamb)"
   ]
  },
  {
   "cell_type": "code",
   "execution_count": null,
   "id": "1cf5f721",
   "metadata": {
    "code_folding": [
     0
    ]
   },
   "outputs": [],
   "source": [
    "# chdir(old_code_dir)\n",
    "# snmd = single_nucleon_momentum_distributions(kvnn, channels, lamb, kmax, kmid,\n",
    "#                                              ntot)\n",
    "# chdir(cwd)"
   ]
  },
  {
   "cell_type": "code",
   "execution_count": null,
   "id": "8abf074f",
   "metadata": {
    "code_folding": []
   },
   "outputs": [],
   "source": [
    "# md.save_deuteron_deltaU_funcs(generator, lamb)"
   ]
  },
  {
   "cell_type": "code",
   "execution_count": null,
   "id": "af779295",
   "metadata": {
    "code_folding": [
     0
    ]
   },
   "outputs": [],
   "source": [
    "# chdir(old_code_dir)\n",
    "# dmd = deuteron_momentum_distributions(kvnn, lamb, kmax, kmid, ntot)\n",
    "# chdir(cwd)"
   ]
  },
  {
   "cell_type": "code",
   "execution_count": null,
   "id": "bd124244",
   "metadata": {},
   "outputs": [],
   "source": []
  },
  {
   "cell_type": "code",
   "execution_count": null,
   "id": "7f5f28c2",
   "metadata": {},
   "outputs": [],
   "source": []
  },
  {
   "cell_type": "code",
   "execution_count": null,
   "id": "134cb837",
   "metadata": {},
   "outputs": [],
   "source": []
  },
  {
   "cell_type": "code",
   "execution_count": null,
   "id": "c6413914",
   "metadata": {},
   "outputs": [],
   "source": [
    "# Test figure_graphics.py"
   ]
  },
  {
   "cell_type": "code",
   "execution_count": null,
   "id": "e1be1eb0",
   "metadata": {},
   "outputs": [],
   "source": [
    "# Test figure_labels.py"
   ]
  },
  {
   "cell_type": "code",
   "execution_count": null,
   "id": "5d1ae9c9",
   "metadata": {},
   "outputs": [],
   "source": [
    "# Test fourier_transform.py"
   ]
  },
  {
   "cell_type": "code",
   "execution_count": null,
   "id": "075edcd9",
   "metadata": {},
   "outputs": [],
   "source": [
    "# Test integration.py"
   ]
  },
  {
   "cell_type": "code",
   "execution_count": null,
   "id": "b29dcbe5",
   "metadata": {},
   "outputs": [],
   "source": [
    "# Test long_distance_operators.py"
   ]
  },
  {
   "cell_type": "code",
   "execution_count": null,
   "id": "cb1f9dbe",
   "metadata": {},
   "outputs": [],
   "source": [
    "# Test momentum_projection_operator.py"
   ]
  },
  {
   "cell_type": "code",
   "execution_count": null,
   "id": "70934e18",
   "metadata": {},
   "outputs": [],
   "source": [
    "# Test phase_shifts.py"
   ]
  },
  {
   "cell_type": "code",
   "execution_count": null,
   "id": "6d25d9f5",
   "metadata": {},
   "outputs": [],
   "source": [
    "# Test sdt.py"
   ]
  },
  {
   "cell_type": "code",
   "execution_count": null,
   "id": "a93c567b",
   "metadata": {},
   "outputs": [],
   "source": [
    "# Test srg.py"
   ]
  },
  {
   "cell_type": "code",
   "execution_count": null,
   "id": "923c45f2",
   "metadata": {},
   "outputs": [],
   "source": [
    "# Test tools.py"
   ]
  },
  {
   "cell_type": "code",
   "execution_count": null,
   "id": "40b1b913",
   "metadata": {},
   "outputs": [],
   "source": [
    "# Test wave_function.py"
   ]
  }
 ],
 "metadata": {
  "kernelspec": {
   "display_name": "Python 3",
   "language": "python",
   "name": "python3"
  },
  "language_info": {
   "codemirror_mode": {
    "name": "ipython",
    "version": 3
   },
   "file_extension": ".py",
   "mimetype": "text/x-python",
   "name": "python",
   "nbconvert_exporter": "python",
   "pygments_lexer": "ipython3",
   "version": "3.8.5"
  }
 },
 "nbformat": 4,
 "nbformat_minor": 5
}

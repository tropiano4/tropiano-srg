{
 "cells": [
  {
   "cell_type": "markdown",
   "id": "2bc2f60e",
   "metadata": {},
   "source": [
    "# Testing integration with `vegas`\n",
    "\n",
    "__Author:__ A. J. Tropiano [atropiano@anl.gov]<br/>\n",
    "__Date:__ October 11, 2022\n",
    "\n",
    "Trying to do a spectroscopic overlap calculation evaluating the integrals in the $\\delta U^\\dagger$ term with Monte Carlo integration using `vegas`. Currently attempting to do all the sums in the expression by looping (excluding as many terms equal to zero as possible), and use `vegas` only for integration over momenta.\n",
    "\n",
    "_Last update:_ June 1, 2023"
   ]
  },
  {
   "cell_type": "markdown",
   "id": "ad1aeb32",
   "metadata": {},
   "source": [
    "### Install `vegas`"
   ]
  },
  {
   "cell_type": "code",
   "execution_count": 1,
   "id": "963dfe26",
   "metadata": {},
   "outputs": [],
   "source": [
    "# %%bash\n",
    "# pip install vegas"
   ]
  },
  {
   "cell_type": "code",
   "execution_count": 2,
   "id": "5bbd3924",
   "metadata": {},
   "outputs": [],
   "source": [
    "# Python imports\n",
    "import functools\n",
    "# from numba import njit, vectorize, guvectorize, float64\n",
    "import numpy as np\n",
    "import numpy.linalg as la\n",
    "import pandas as pd\n",
    "from scipy.interpolate import interp1d, RectBivariateSpline\n",
    "from scipy.special import spherical_jn, sph_harm\n",
    "import shutil\n",
    "from sympy.physics.quantum.cg import CG\n",
    "import time\n",
    "import vegas"
   ]
  },
  {
   "cell_type": "code",
   "execution_count": 3,
   "id": "c856abbf",
   "metadata": {},
   "outputs": [],
   "source": [
    "# Imports from scripts\n",
    "# ..."
   ]
  },
  {
   "cell_type": "markdown",
   "id": "31aef1fa",
   "metadata": {},
   "source": [
    "## Example from tutorial [online](https://vegas.readthedocs.io/en/latest/tutorial.html)"
   ]
  },
  {
   "cell_type": "code",
   "execution_count": 4,
   "id": "3b0bb01f",
   "metadata": {},
   "outputs": [],
   "source": [
    "def f(x):\n",
    "    dx2 = 0\n",
    "    for d in range(4):\n",
    "        dx2 += (x[d] - 0.5) ** 2\n",
    "    return np.exp(-dx2 * 100.) * 1013.2118364296088"
   ]
  },
  {
   "cell_type": "code",
   "execution_count": 5,
   "id": "431c90b6",
   "metadata": {},
   "outputs": [
    {
     "name": "stdout",
     "output_type": "stream",
     "text": [
      "CPU times: user 180 ms, sys: 861 µs, total: 181 ms\n",
      "Wall time: 181 ms\n",
      "itn   integral        wgt average     chi2/dof        Q\n",
      "-------------------------------------------------------\n",
      "  1   1.0018(32)      1.0018(32)          0.00     1.00\n",
      "  2   1.0016(23)      1.0017(19)          0.00     0.95\n",
      "  3   0.9998(20)      1.0008(14)          0.23     0.79\n",
      "  4   1.0030(17)      1.0017(11)          0.49     0.69\n",
      "  5   0.9996(16)      1.00106(88)         0.67     0.61\n",
      "  6   0.9970(16)      1.00008(77)         1.58     0.16\n",
      "  7   0.9992(13)      0.99987(66)         1.37     0.22\n",
      "  8   1.0030(11)      1.00066(57)         1.97     0.06\n",
      "  9   0.9969(13)      1.00004(52)         2.61     0.01\n",
      " 10   0.9993(12)      0.99992(48)         2.35     0.01\n",
      "\n",
      "result = 0.99992(48)    Q = 0.01\n"
     ]
    }
   ],
   "source": [
    "integ = vegas.Integrator([[-1, 1], [0, 1], [0, 1], [0, 1]])\n",
    "integ(f, nitn=10, neval=1e3)\n",
    "%time result = integ(f, nitn=10, neval=1e4)\n",
    "print(result.summary())\n",
    "print('result = %s    Q = %.2f' % (result, result.Q))"
   ]
  },
  {
   "cell_type": "markdown",
   "id": "3ee32d07",
   "metadata": {},
   "source": [
    "## Integrand depends on other parameters"
   ]
  },
  {
   "cell_type": "markdown",
   "id": "e957dc6c",
   "metadata": {},
   "source": [
    "Here we use `functools.partial` to input parameters into the integrand function.\n",
    "This will be useful for practical purposes where the integrand depends on things other than integration variables."
   ]
  },
  {
   "cell_type": "code",
   "execution_count": 6,
   "id": "81cff038",
   "metadata": {},
   "outputs": [],
   "source": [
    "def g(y, x):\n",
    "    dx2 = 0\n",
    "    for d in range(4):\n",
    "        dx2 += (x[d] - y) ** 2\n",
    "    return np.exp(-dx2 * 100.) * 1013.2118364296088"
   ]
  },
  {
   "cell_type": "code",
   "execution_count": 7,
   "id": "a204c199",
   "metadata": {},
   "outputs": [
    {
     "name": "stdout",
     "output_type": "stream",
     "text": [
      "2.900337707812307e-17 2.900337707812307e-17\n"
     ]
    }
   ],
   "source": [
    "# Results here should be the same!\n",
    "x = np.array((0.1, 0.2, 0.3, 0.1))\n",
    "print(f(x), g(0.5, x))"
   ]
  },
  {
   "cell_type": "code",
   "execution_count": 8,
   "id": "1ecc6b25",
   "metadata": {},
   "outputs": [
    {
     "name": "stdout",
     "output_type": "stream",
     "text": [
      "CPU times: user 182 ms, sys: 648 µs, total: 183 ms\n",
      "Wall time: 183 ms\n",
      "itn   integral        wgt average     chi2/dof        Q\n",
      "-------------------------------------------------------\n",
      "  1   0.9960(35)      0.9960(35)          0.00     1.00\n",
      "  2   1.0006(24)      0.9991(20)          1.19     0.27\n",
      "  3   1.0000(20)      0.9996(14)          0.66     0.52\n",
      "  4   0.9990(17)      0.9993(11)          0.46     0.71\n",
      "  5   0.9985(16)      0.99907(90)         0.39     0.82\n",
      "  6   1.0006(14)      0.99952(76)         0.48     0.79\n",
      "  7   1.0002(13)      0.99968(66)         0.43     0.86\n",
      "  8   0.9998(12)      0.99972(57)         0.37     0.92\n",
      "  9   1.0014(11)      1.00008(51)         0.55     0.82\n",
      " 10   0.9979(12)      0.99976(47)         0.79     0.63\n",
      "\n",
      "result = 0.99976(47)    Q = 0.63\n"
     ]
    }
   ],
   "source": [
    "integ = vegas.Integrator([[-1, 1], [0, 1], [0, 1], [0, 1]])\n",
    "y = 0.5\n",
    "integrand = functools.partial(g, y)\n",
    "integ(integrand, nitn=10, neval=1e3)\n",
    "%time result = integ(integrand, nitn=10, neval=1e4)\n",
    "print(result.summary())\n",
    "print('result = %s    Q = %.2f' % (result, result.Q))"
   ]
  },
  {
   "cell_type": "markdown",
   "id": "0d70fd49",
   "metadata": {},
   "source": [
    "## Batch integrand"
   ]
  },
  {
   "cell_type": "markdown",
   "id": "606ec56c",
   "metadata": {},
   "source": [
    "Function `f_batch(x)` accepts an array of integration points `x[i, d]` where `i=0...` labels the integration point and `d=0...` the direction and returns an array of integrand values corresponding to those points.\n",
    "The decorator `vegas.batchintegrand()` tells `vegas` that it should send integration points to `f(x)` in batches."
   ]
  },
  {
   "cell_type": "code",
   "execution_count": 9,
   "id": "aa4ffde5",
   "metadata": {},
   "outputs": [
    {
     "name": "stdout",
     "output_type": "stream",
     "text": [
      "CPU times: user 3.69 s, sys: 15.3 ms, total: 3.71 s\n",
      "Wall time: 3.71 s\n",
      "itn   integral        wgt average     chi2/dof        Q\n",
      "-------------------------------------------------------\n",
      "  1   0.99978(36)     0.99978(36)         0.00     1.00\n",
      "  2   0.99873(32)     0.99921(24)         4.80     0.03\n",
      "  3   1.00057(29)     0.99976(18)         9.00     0.00\n",
      "  4   0.99991(26)     0.99981(15)         6.07     0.00\n",
      "  5   1.00001(24)     0.99986(13)         4.68     0.00\n",
      "  6   1.00036(22)     0.99999(11)         4.47     0.00\n",
      "  7   0.99990(21)     0.999967(98)        3.75     0.00\n",
      "  8   0.99985(20)     0.999945(89)        3.26     0.00\n",
      "  9   1.00016(19)     0.999982(81)        2.98     0.00\n",
      " 10   0.99983(19)     0.999959(74)        2.71     0.00\n",
      "\n",
      "result = 0.999959(74)    Q = 0.00\n"
     ]
    }
   ],
   "source": [
    "def f(x):\n",
    "    \"\"\"Example integrand which returns a float given an integration point x with\n",
    "    shape (4,).\n",
    "    \"\"\"\n",
    "    dim = len(x)\n",
    "    norm = 1013.2118364296088 ** (dim / 4.)\n",
    "    dx2 = 0.0\n",
    "    for d in range(dim):\n",
    "        dx2 += (x[d] - 0.5) ** 2\n",
    "    return np.exp(-100. * dx2) * norm\n",
    "\n",
    "# integ = vegas.Integrator(4 * [[0, 1]])\n",
    "integ = vegas.Integrator([[0,1],[0,1],[0,1],[0,1]])\n",
    "\n",
    "integ(f, nitn=10, neval=2e5)\n",
    "%time result = integ(f, nitn=10, neval=2e5)\n",
    "print(result.summary())\n",
    "print('result = %s    Q = %.2f' % (result, result.Q))"
   ]
  },
  {
   "cell_type": "code",
   "execution_count": 10,
   "id": "22c62873",
   "metadata": {},
   "outputs": [
    {
     "name": "stdout",
     "output_type": "stream",
     "text": [
      "CPU times: user 159 ms, sys: 5.31 ms, total: 164 ms\n",
      "Wall time: 164 ms\n",
      "itn   integral        wgt average     chi2/dof        Q\n",
      "-------------------------------------------------------\n",
      "  1   1.00002(36)     1.00002(36)         0.00     1.00\n",
      "  2   0.99975(32)     0.99987(24)         0.31     0.58\n",
      "  3   0.99977(29)     0.99983(18)         0.19     0.83\n",
      "  4   1.00042(26)     1.00003(15)         1.26     0.29\n",
      "  5   0.99993(24)     1.00000(13)         0.97     0.42\n",
      "  6   0.99987(22)     0.99997(11)         0.83     0.53\n",
      "  7   1.00004(21)     0.999981(98)        0.71     0.65\n",
      "  8   0.99988(20)     0.999962(88)        0.63     0.73\n",
      "  9   0.99977(20)     0.999930(81)        0.65     0.73\n",
      " 10   0.99974(20)     0.999902(75)        0.67     0.73\n",
      "\n",
      "result = 0.999902(75)    Q = 0.73\n"
     ]
    }
   ],
   "source": [
    "@vegas.batchintegrand\n",
    "def f_batch(x):\n",
    "    \"\"\"Example integrand which evaluates multiple points simultaneously. Here x\n",
    "    is several integration points with shape (N,4), where N is the number of\n",
    "    integration points and 4 is the dimension of the integral (meaning there are\n",
    "    four integration varibles).\n",
    "    \"\"\"\n",
    "    # evaluate integrand at multiple points simultaneously\n",
    "    dim = x.shape[1]\n",
    "    norm = 1013.2118364296088 ** (dim / 4.)\n",
    "    dx2 = 0.0\n",
    "    for d in range(dim):\n",
    "        dx2 += (x[:, d] - 0.5) ** 2\n",
    "    return np.exp(-100. * dx2) * norm\n",
    "\n",
    "integ = vegas.Integrator(4 * [[0, 1]])\n",
    "\n",
    "integ(f_batch, nitn=10, neval=2e5)\n",
    "%time result = integ(f_batch, nitn=10, neval=2e5)\n",
    "print(result.summary())\n",
    "print('result = %s    Q = %.2f' % (result, result.Q))"
   ]
  },
  {
   "cell_type": "code",
   "execution_count": 11,
   "id": "22f95f4d",
   "metadata": {},
   "outputs": [
    {
     "name": "stdout",
     "output_type": "stream",
     "text": [
      "CPU times: user 159 ms, sys: 3.73 ms, total: 162 ms\n",
      "Wall time: 162 ms\n",
      "itn   integral        wgt average     chi2/dof        Q\n",
      "-------------------------------------------------------\n",
      "  1   0.99994(36)     0.99994(36)         0.00     1.00\n",
      "  2   0.99984(32)     0.99989(24)         0.05     0.82\n",
      "  3   0.99973(29)     0.99982(19)         0.11     0.90\n",
      "  4   1.00022(27)     0.99995(15)         0.56     0.64\n",
      "  5   0.99995(24)     0.99995(13)         0.42     0.79\n",
      "  6   1.00001(22)     0.99997(11)         0.35     0.88\n",
      "  7   1.00002(21)     0.999979(99)        0.30     0.94\n",
      "  8   0.99984(20)     0.999952(89)        0.31     0.95\n",
      "  9   0.99988(20)     0.999940(81)        0.28     0.97\n",
      " 10   0.99993(19)     0.999939(75)        0.25     0.99\n",
      "\n",
      "result = 0.999939(75)    Q = 0.99\n"
     ]
    }
   ],
   "source": [
    "@vegas.batchintegrand\n",
    "class f_batch_class:\n",
    "    def __init__(self, dim, y):\n",
    "        self.dim = dim\n",
    "        self.norm = 1013.2118364296088 ** (dim / 4.)\n",
    "        self.y = y\n",
    "\n",
    "    def __call__(self, x):\n",
    "        # evaluate integrand at multiple points simultaneously\n",
    "        dx2 = 0.0\n",
    "        for d in range(self.dim):\n",
    "            dx2 += (x[:, d] - self.y) ** 2\n",
    "        return np.exp(-100. * dx2) * self.norm\n",
    "\n",
    "f = f_batch_class(dim=4, y=0.5)\n",
    "integ = vegas.Integrator(f.dim * [[0, 1]])\n",
    "\n",
    "integ(f, nitn=10, neval=2e5)\n",
    "%time result = integ(f, nitn=10, neval=2e5)\n",
    "print(result.summary())\n",
    "print('result = %s    Q = %.2f' % (result, result.Q))"
   ]
  },
  {
   "cell_type": "markdown",
   "id": "b7e01c29",
   "metadata": {},
   "source": [
    "## Sums with `vegas`"
   ]
  },
  {
   "cell_type": "markdown",
   "id": "fd2a9871",
   "metadata": {},
   "source": [
    "$$\n",
    "\\sum_{i=0}^{N-1} f(i) = N \\int_0^1 dx f(\\mathrm{floor}(xN))\n",
    "$$"
   ]
  },
  {
   "cell_type": "code",
   "execution_count": 12,
   "id": "e5ff280c",
   "metadata": {},
   "outputs": [],
   "source": [
    "def ridge(x):\n",
    "    \"\"\"Integrand: ridge of N Gaussians spread evenly along the diagonal\"\"\"\n",
    "    N = 10000\n",
    "    dim = 4\n",
    "    x0 = 0.4 + 0.2 * np.floor(x[-1] * N) / (N - 1.)\n",
    "    dx2 = 0.0\n",
    "    for xd in x[:-1]:\n",
    "        dx2 += (xd - x0) ** 2\n",
    "    return np.exp(-100. * dx2) *  (100. / np.pi) ** (dim / 2.)"
   ]
  },
  {
   "cell_type": "code",
   "execution_count": 13,
   "id": "081a058e",
   "metadata": {},
   "outputs": [],
   "source": [
    "def main():\n",
    "    integ = vegas.Integrator(5 * [[0, 1]])\n",
    "    # adapt\n",
    "    integ(ridge, nitn=10, neval=5e4)\n",
    "    # final results\n",
    "    result = integ(ridge, nitn=10, neval=5e4)\n",
    "    print('result = %s    Q = %.2f' % (result, result.Q))"
   ]
  },
  {
   "cell_type": "code",
   "execution_count": 14,
   "id": "9ddff200",
   "metadata": {},
   "outputs": [
    {
     "name": "stdout",
     "output_type": "stream",
     "text": [
      "result = 1.00057(83)    Q = 0.55\n"
     ]
    }
   ],
   "source": [
    "main()"
   ]
  },
  {
   "cell_type": "markdown",
   "id": "54bd9ffe",
   "metadata": {},
   "source": [
    "## Integrand depends on vector parameter"
   ]
  },
  {
   "cell_type": "code",
   "execution_count": 79,
   "id": "c5c32a22",
   "metadata": {},
   "outputs": [],
   "source": [
    "def ridge2(y_vector, x):\n",
    "    \"\"\"Integrand: ridge of N Gaussians spread evenly along the diagonal\"\"\"\n",
    "    N = 10000\n",
    "    dim = 4\n",
    "    x0 = 0.4 + 0.2 * np.floor(x[-1] * N) / (N - 1.)\n",
    "    dx2 = 0.0\n",
    "    for xd in x[:-1]:\n",
    "        dx2 += (xd - x0) ** 2\n",
    "    return np.exp(-y_vector * dx2) *  (100. / np.pi) ** (dim / 2.)"
   ]
  },
  {
   "cell_type": "code",
   "execution_count": 80,
   "id": "4dc7f70e",
   "metadata": {},
   "outputs": [],
   "source": [
    "def main2(y_vector):\n",
    "    integ = vegas.Integrator(5 * [[0, 1]])\n",
    "    \n",
    "    integrand = functools.partial(ridge2, y_vector)\n",
    "    # adapt\n",
    "    integ(integrand, nitn=5, neval=5e4)\n",
    "    # final results\n",
    "    result = integ(integrand, nitn=10, neval=5e4)\n",
    "    print('result = %s    Q = %.2f' % (result, result.Q))\n",
    "    return result"
   ]
  },
  {
   "cell_type": "code",
   "execution_count": 81,
   "id": "da5dd6aa",
   "metadata": {},
   "outputs": [
    {
     "name": "stdout",
     "output_type": "stream",
     "text": [
      "result = [1.00029(92) 0.96140(90) 0.92473(88) 0.89011(87) 1.04158(94)]    Q = 0.00\n"
     ]
    }
   ],
   "source": [
    "y_vector = np.array([100, 102, 104, 106, 98])\n",
    "r = main2(y_vector)"
   ]
  },
  {
   "cell_type": "code",
   "execution_count": 83,
   "id": "a92f20f3",
   "metadata": {},
   "outputs": [
    {
     "name": "stdout",
     "output_type": "stream",
     "text": [
      "itn   integral        wgt average     chi2/dof        Q\n",
      "-------------------------------------------------------\n",
      "  1   1.0052(38)      1.0078(38)          0.00     1.00\n",
      "  2   0.9958(34)      1.0007(25)           nan      nan\n",
      "  3   1.0029(32)      1.0019(20)           nan      nan\n",
      "  4   1.0025(30)      1.0009(16)         12.18     0.00\n",
      "  5   1.0068(29)      1.0042(14)           nan      nan\n",
      "  6   0.9987(28)      1.0005(13)         42.21     0.00\n",
      "  7   1.0022(28)      1.0026(12)           nan      nan\n",
      "  8   0.9970(27)      1.0019(11)           nan      nan\n",
      "  9   1.0012(27)      1.00377(99)          nan      nan\n",
      " 10   0.9987(26)      1.00029(92)        14.96     0.00\n",
      "\n",
      "  index           value\n",
      "-----------------------\n",
      "      0    1.00029 (92)\n",
      "      1    0.96140 (90)\n",
      "      2    0.92473 (88)\n",
      "      3    0.89011 (87)\n",
      "      4    1.04158 (94)\n",
      " 1.0002870338637397 0.0009215565657804109\n"
     ]
    }
   ],
   "source": [
    "print(r.summary(extended=True), r[0].mean, r[0].sdev)"
   ]
  },
  {
   "cell_type": "code",
   "execution_count": null,
   "id": "199b8da8",
   "metadata": {},
   "outputs": [],
   "source": []
  },
  {
   "cell_type": "code",
   "execution_count": null,
   "id": "a12153d7",
   "metadata": {},
   "outputs": [],
   "source": []
  }
 ],
 "metadata": {
  "kernelspec": {
   "display_name": "Python 3 (ipykernel)",
   "language": "python",
   "name": "python3"
  },
  "language_info": {
   "codemirror_mode": {
    "name": "ipython",
    "version": 3
   },
   "file_extension": ".py",
   "mimetype": "text/x-python",
   "name": "python",
   "nbconvert_exporter": "python",
   "pygments_lexer": "ipython3",
   "version": "3.9.13"
  }
 },
 "nbformat": 4,
 "nbformat_minor": 5
}

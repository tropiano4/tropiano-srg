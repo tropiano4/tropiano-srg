{
 "cells": [
  {
   "cell_type": "markdown",
   "id": "2bc2f60e",
   "metadata": {},
   "source": [
    "# Testing integration with `vegas`\n",
    "\n",
    "__Author:__ A. J. Tropiano [atropiano@anl.gov]<br/>\n",
    "__Date:__ October 11, 2022\n",
    "\n",
    "Trying to do a spectroscopic overlap calculation evaluating the integrals in the $\\delta U^\\dagger$ term with Monte Carlo integration using `vegas`. Currently attempting to do all the sums in the expression by looping (excluding as many terms equal to zero as possible), and use MC only for integration over momenta.\n",
    "\n",
    "_Last update:_ October 25, 2022"
   ]
  },
  {
   "cell_type": "code",
   "execution_count": 1,
   "id": "5bbd3924",
   "metadata": {},
   "outputs": [],
   "source": [
    "import numpy as np\n",
    "import numpy.linalg as la\n",
    "from sympy.physics.quantum.cg import CG\n",
    "import vegas"
   ]
  },
  {
   "cell_type": "markdown",
   "id": "31aef1fa",
   "metadata": {},
   "source": [
    "Testing `vegas` with example from tutorial [online](https://vegas.readthedocs.io/en/latest/tutorial.html)"
   ]
  },
  {
   "cell_type": "code",
   "execution_count": 2,
   "id": "be9a0232",
   "metadata": {
    "code_folding": [
     0
    ]
   },
   "outputs": [],
   "source": [
    "def f(x):\n",
    "    dx2 = 0\n",
    "    for d in range(4):\n",
    "        dx2 += (x[d] - 0.5) ** 2\n",
    "    return np.exp(-dx2 * 100.) * 1013.2118364296088"
   ]
  },
  {
   "cell_type": "code",
   "execution_count": 3,
   "id": "431c90b6",
   "metadata": {},
   "outputs": [
    {
     "name": "stdout",
     "output_type": "stream",
     "text": [
      "itn   integral        wgt average     chi2/dof        Q\n",
      "-------------------------------------------------------\n",
      "  1   0.62(30)        0.62(30)            0.00     1.00\n",
      "  2   1.02(15)        0.94(13)            1.48     0.22\n",
      "  3   1.00(18)        0.96(11)            0.78     0.46\n",
      "  4   1.024(61)       1.008(53)           0.61     0.61\n",
      "  5   0.937(35)       0.959(30)           0.76     0.55\n",
      "  6   1.007(25)       0.987(19)           0.91     0.47\n",
      "  7   1.019(19)       1.003(13)           1.00     0.42\n",
      "  8   1.051(14)       1.0259(97)          1.73     0.10\n",
      "  9   1.025(12)       1.0255(76)          1.52     0.15\n",
      " 10   0.985(12)       1.0140(64)          2.26     0.02\n",
      "\n",
      "result = 1.0140(64)    Q = 0.02\n"
     ]
    }
   ],
   "source": [
    "integ = vegas.Integrator([[-1, 1], [0, 1], [0, 1], [0, 1]])\n",
    "\n",
    "result = integ(f, nitn=10, neval=1000)\n",
    "print(result.summary())\n",
    "print('result = %s    Q = %.2f' % (result, result.Q))"
   ]
  },
  {
   "cell_type": "markdown",
   "id": "2505bbab",
   "metadata": {},
   "source": [
    "Testing integral from degenerate electron gas in Fetter and Walecka section 1.3"
   ]
  },
  {
   "cell_type": "code",
   "execution_count": 4,
   "id": "dfa1dcf6",
   "metadata": {
    "code_folding": []
   },
   "outputs": [],
   "source": [
    "def heaviside(x):\n",
    "    if x >= 0:\n",
    "        return 1\n",
    "    else:\n",
    "        return 0"
   ]
  },
  {
   "cell_type": "code",
   "execution_count": 5,
   "id": "36a5ef57",
   "metadata": {
    "code_folding": []
   },
   "outputs": [],
   "source": [
    "def g(Q_vector, kF=1):\n",
    "    q_vector = np.repeat(kF/np.sqrt(3),3)\n",
    "    integrand = (heaviside(kF-la.norm(Q_vector+q_vector/2))\n",
    "                 * heaviside(kF-la.norm(Q_vector-q_vector/2)))\n",
    "                    \n",
    "    return integrand"
   ]
  },
  {
   "cell_type": "code",
   "execution_count": 8,
   "id": "1004b224",
   "metadata": {},
   "outputs": [
    {
     "name": "stdout",
     "output_type": "stream",
     "text": [
      "itn   integral        wgt average     chi2/dof        Q\n",
      "-------------------------------------------------------\n",
      "  1   1.27(11)        1.27(11)            0.00     1.00\n",
      "  2   1.07(14)        1.197(89)           1.17     0.28\n",
      "  3   1.29(11)        1.236(69)           0.82     0.44\n",
      "  4   1.454(87)       1.321(54)           1.85     0.14\n",
      "  5   1.262(39)       1.282(31)           1.58     0.18\n",
      "  6   1.315(26)       1.302(20)           1.39     0.22\n",
      "  7   1.298(18)       1.300(13)           1.16     0.32\n",
      "  8   1.322(23)       1.305(11)           1.10     0.36\n",
      "  9   1.309(15)       1.3066(91)          0.97     0.46\n",
      " 10   1.334(18)       1.3125(81)          1.08     0.37\n",
      " 11   1.323(12)       1.3159(68)          1.03     0.42\n",
      " 12   1.321(10)       1.3174(56)          0.95     0.49\n",
      " 13   1.2845(88)      1.3079(47)          1.69     0.06\n",
      " 14   1.2874(78)      1.3023(40)          1.95     0.02\n",
      " 15   1.3048(74)      1.3029(36)          1.82     0.03\n",
      " 16   1.47(17)        1.3030(35)          1.76     0.03\n",
      " 17   1.2906(71)      1.3005(32)          1.80     0.02\n",
      " 18   1.2909(65)      1.2987(29)          1.80     0.02\n",
      " 19   1.2844(62)      1.2961(26)          1.95     0.01\n",
      " 20   1.2873(58)      1.2947(24)          1.95     0.01\n",
      "\n",
      "result = 1.2947(24)    Q = 0.01\n",
      "True result = 1.3089969389957472\n"
     ]
    }
   ],
   "source": [
    "integ = vegas.Integrator([[-3,3],[-3,3],[-3,3]])\n",
    "\n",
    "mc_func = lambda Q_vector : g(Q_vector, kF=1.0)\n",
    "result = integ(mc_func, nitn=20, neval=10000)\n",
    "print(result.summary())\n",
    "print('result = %s    Q = %.2f' % (result, result.Q))\n",
    "print(f'True result = {5*np.pi/12}')"
   ]
  },
  {
   "cell_type": "code",
   "execution_count": 9,
   "id": "9ddd9b07",
   "metadata": {},
   "outputs": [
    {
     "name": "stdout",
     "output_type": "stream",
     "text": [
      "1.2947(24)\n",
      "1.2946725794990612\n",
      "0.0023672833821018935\n"
     ]
    }
   ],
   "source": [
    "print(result)\n",
    "print(result.mean)\n",
    "print(result.sdev)"
   ]
  },
  {
   "cell_type": "code",
   "execution_count": null,
   "id": "90599e0c",
   "metadata": {},
   "outputs": [],
   "source": []
  },
  {
   "cell_type": "code",
   "execution_count": null,
   "id": "ed55231e",
   "metadata": {},
   "outputs": [],
   "source": []
  },
  {
   "cell_type": "code",
   "execution_count": null,
   "id": "e82e86b9",
   "metadata": {},
   "outputs": [],
   "source": []
  }
 ],
 "metadata": {
  "kernelspec": {
   "display_name": "Python 3 (ipykernel)",
   "language": "python",
   "name": "python3"
  },
  "language_info": {
   "codemirror_mode": {
    "name": "ipython",
    "version": 3
   },
   "file_extension": ".py",
   "mimetype": "text/x-python",
   "name": "python",
   "nbconvert_exporter": "python",
   "pygments_lexer": "ipython3",
   "version": "3.9.7"
  }
 },
 "nbformat": 4,
 "nbformat_minor": 5
}

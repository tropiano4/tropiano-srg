{
 "cells": [
  {
   "cell_type": "markdown",
   "id": "2bc2f60e",
   "metadata": {},
   "source": [
    "# Testing integration with `vegas`\n",
    "\n",
    "__Author:__ A. J. Tropiano [atropiano@anl.gov]<br/>\n",
    "__Date:__ October 11, 2022\n",
    "\n",
    "Trying to do a spectroscopic overlap calculation evaluating the integrals in the $\\delta U^\\dagger$ term with Monte Carlo integration using `vegas`. Currently attempting to do all the sums in the expression by looping (excluding as many terms equal to zero as possible), and use `vegas` only for integration over momenta.\n",
    "\n",
    "_Last update:_ April 5, 2023"
   ]
  },
  {
   "cell_type": "markdown",
   "id": "ad1aeb32",
   "metadata": {},
   "source": [
    "### Install `vegas`"
   ]
  },
  {
   "cell_type": "code",
   "execution_count": 1,
   "id": "963dfe26",
   "metadata": {},
   "outputs": [],
   "source": [
    "# %%bash\n",
    "# pip install vegas"
   ]
  },
  {
   "cell_type": "code",
   "execution_count": 2,
   "id": "5bbd3924",
   "metadata": {},
   "outputs": [],
   "source": [
    "# Python imports\n",
    "import functools\n",
    "# from numba import njit, vectorize, guvectorize, float64\n",
    "import numpy as np\n",
    "import numpy.linalg as la\n",
    "import pandas as pd\n",
    "from scipy.interpolate import interp1d, RectBivariateSpline\n",
    "from scipy.special import spherical_jn, sph_harm\n",
    "import shutil\n",
    "from sympy.physics.quantum.cg import CG\n",
    "import time\n",
    "import vegas"
   ]
  },
  {
   "cell_type": "code",
   "execution_count": 3,
   "id": "c856abbf",
   "metadata": {},
   "outputs": [],
   "source": [
    "# Imports from scripts\n",
    "# ..."
   ]
  },
  {
   "cell_type": "markdown",
   "id": "31aef1fa",
   "metadata": {},
   "source": [
    "## Example from tutorial [online](https://vegas.readthedocs.io/en/latest/tutorial.html)"
   ]
  },
  {
   "cell_type": "code",
   "execution_count": 4,
   "id": "3b0bb01f",
   "metadata": {},
   "outputs": [],
   "source": [
    "def f(x):\n",
    "    dx2 = 0\n",
    "    for d in range(4):\n",
    "        dx2 += (x[d] - 0.5) ** 2\n",
    "    return np.exp(-dx2 * 100.) * 1013.2118364296088"
   ]
  },
  {
   "cell_type": "code",
   "execution_count": 5,
   "id": "431c90b6",
   "metadata": {},
   "outputs": [
    {
     "name": "stdout",
     "output_type": "stream",
     "text": [
      "CPU times: user 181 ms, sys: 607 µs, total: 182 ms\n",
      "Wall time: 182 ms\n",
      "itn   integral        wgt average     chi2/dof        Q\n",
      "-------------------------------------------------------\n",
      "  1   0.9947(33)      0.9947(33)          0.00     1.00\n",
      "  2   1.0044(24)      1.0011(19)          5.61     0.02\n",
      "  3   1.0015(20)      1.0013(14)          2.82     0.06\n",
      "  4   0.9993(18)      1.0005(11)          2.14     0.09\n",
      "  5   0.9986(16)      0.99994(91)         1.83     0.12\n",
      "  6   1.0004(14)      1.00007(77)         1.48     0.19\n",
      "  7   0.9990(13)      0.99980(66)         1.31     0.25\n",
      "  8   0.9996(13)      0.99976(59)         1.13     0.34\n",
      "  9   0.9995(12)      0.99972(53)         0.99     0.44\n",
      " 10   0.9997(12)      0.99971(49)         0.88     0.54\n",
      "\n",
      "result = 0.99971(49)    Q = 0.54\n"
     ]
    }
   ],
   "source": [
    "integ = vegas.Integrator([[-1, 1], [0, 1], [0, 1], [0, 1]])\n",
    "integ(f, nitn=10, neval=1e3)\n",
    "%time result = integ(f, nitn=10, neval=1e4)\n",
    "print(result.summary())\n",
    "print('result = %s    Q = %.2f' % (result, result.Q))"
   ]
  },
  {
   "cell_type": "code",
   "execution_count": 6,
   "id": "a22af11d",
   "metadata": {},
   "outputs": [
    {
     "data": {
      "text/plain": [
       "0.00048742789438680016"
      ]
     },
     "execution_count": 6,
     "metadata": {},
     "output_type": "execute_result"
    }
   ],
   "source": [
    "result.sdev"
   ]
  },
  {
   "cell_type": "markdown",
   "id": "3ee32d07",
   "metadata": {},
   "source": [
    "## Integrand depends on other parameters"
   ]
  },
  {
   "cell_type": "markdown",
   "id": "e957dc6c",
   "metadata": {},
   "source": [
    "Here we use `functools.partial` to input parameters into the integrand function.\n",
    "This will be useful for practical purposes where the integrand depends on things other than integration variables."
   ]
  },
  {
   "cell_type": "code",
   "execution_count": 7,
   "id": "81cff038",
   "metadata": {},
   "outputs": [],
   "source": [
    "def g(y, x):\n",
    "    dx2 = 0\n",
    "    for d in range(4):\n",
    "        dx2 += (x[d] - y) ** 2\n",
    "    return np.exp(-dx2 * 100.) * 1013.2118364296088"
   ]
  },
  {
   "cell_type": "code",
   "execution_count": 8,
   "id": "a204c199",
   "metadata": {},
   "outputs": [
    {
     "name": "stdout",
     "output_type": "stream",
     "text": [
      "2.900337707812307e-17 2.900337707812307e-17\n"
     ]
    }
   ],
   "source": [
    "# Results here should be the same!\n",
    "x = np.array((0.1, 0.2, 0.3, 0.1))\n",
    "print(f(x), g(0.5, x))"
   ]
  },
  {
   "cell_type": "code",
   "execution_count": 9,
   "id": "1ecc6b25",
   "metadata": {},
   "outputs": [
    {
     "name": "stdout",
     "output_type": "stream",
     "text": [
      "CPU times: user 184 ms, sys: 1.31 ms, total: 185 ms\n",
      "Wall time: 185 ms\n",
      "itn   integral        wgt average     chi2/dof        Q\n",
      "-------------------------------------------------------\n",
      "  1   0.9988(32)      0.9988(32)          0.00     1.00\n",
      "  2   1.0050(24)      1.0028(19)          2.29     0.13\n",
      "  3   0.9976(20)      1.0003(14)          2.86     0.06\n",
      "  4   0.9996(18)      1.0000(11)          1.94     0.12\n",
      "  5   1.0006(16)      1.00021(90)         1.47     0.21\n",
      "  6   1.0011(14)      1.00048(76)         1.24     0.29\n",
      "  7   0.9988(14)      1.00011(67)         1.22     0.29\n",
      "  8   1.0000(12)      1.00008(59)         1.05     0.40\n",
      "  9   1.0002(11)      1.00011(52)         0.92     0.50\n",
      " 10   0.9990(12)      0.99992(48)         0.91     0.52\n",
      "\n",
      "result = 0.99992(48)    Q = 0.52\n"
     ]
    }
   ],
   "source": [
    "integ = vegas.Integrator([[-1, 1], [0, 1], [0, 1], [0, 1]])\n",
    "y = 0.5\n",
    "integrand = functools.partial(g, y)\n",
    "integ(integrand, nitn=10, neval=1e3)\n",
    "%time result = integ(integrand, nitn=10, neval=1e4)\n",
    "print(result.summary())\n",
    "print('result = %s    Q = %.2f' % (result, result.Q))"
   ]
  },
  {
   "cell_type": "markdown",
   "id": "0d70fd49",
   "metadata": {},
   "source": [
    "## Batch integrand"
   ]
  },
  {
   "cell_type": "markdown",
   "id": "606ec56c",
   "metadata": {},
   "source": [
    "Function `f_batch(x)` accepts an array of integration points `x[i, d]` where `i=0...` labels the integration point and `d=0...` the direction and returns an array of integrand values corresponding to those points.\n",
    "The decorator `vegas.batchintegrand()` tells `vegas` that it should send integration points to `f(x)` in batches."
   ]
  },
  {
   "cell_type": "code",
   "execution_count": 10,
   "id": "aa4ffde5",
   "metadata": {},
   "outputs": [
    {
     "name": "stdout",
     "output_type": "stream",
     "text": [
      "CPU times: user 3.66 s, sys: 15.4 ms, total: 3.68 s\n",
      "Wall time: 3.68 s\n",
      "itn   integral        wgt average     chi2/dof        Q\n",
      "-------------------------------------------------------\n",
      "  1   0.99947(36)     0.99947(36)         0.00     1.00\n",
      "  2   0.99991(32)     0.99971(24)         0.82     0.37\n",
      "  3   0.99975(29)     0.99973(19)         0.41     0.66\n",
      "  4   0.99968(27)     0.99971(15)         0.28     0.84\n",
      "  5   1.00008(24)     0.99982(13)         0.61     0.66\n",
      "  6   1.00005(22)     0.99988(11)         0.65     0.66\n",
      "  7   0.99995(21)     0.999892(99)        0.56     0.76\n",
      "  8   0.99968(20)     0.999851(89)        0.61     0.75\n",
      "  9   0.99999(20)     0.999875(81)        0.59     0.79\n",
      " 10   1.00009(19)     0.999907(75)        0.64     0.76\n",
      "\n",
      "result = 0.999907(75)    Q = 0.76\n"
     ]
    }
   ],
   "source": [
    "def f(x):\n",
    "    \"\"\"Example integrand which returns a float given an integration point x with\n",
    "    shape (4,).\n",
    "    \"\"\"\n",
    "    dim = len(x)\n",
    "    norm = 1013.2118364296088 ** (dim / 4.)\n",
    "    dx2 = 0.0\n",
    "    for d in range(dim):\n",
    "        dx2 += (x[d] - 0.5) ** 2\n",
    "    return np.exp(-100. * dx2) * norm\n",
    "\n",
    "# integ = vegas.Integrator(4 * [[0, 1]])\n",
    "integ = vegas.Integrator([[0,1],[0,1],[0,1],[0,1]])\n",
    "\n",
    "integ(f, nitn=10, neval=2e5)\n",
    "%time result = integ(f, nitn=10, neval=2e5)\n",
    "print(result.summary())\n",
    "print('result = %s    Q = %.2f' % (result, result.Q))"
   ]
  },
  {
   "cell_type": "code",
   "execution_count": 11,
   "id": "22c62873",
   "metadata": {},
   "outputs": [
    {
     "name": "stdout",
     "output_type": "stream",
     "text": [
      "CPU times: user 158 ms, sys: 5.6 ms, total: 163 ms\n",
      "Wall time: 163 ms\n",
      "itn   integral        wgt average     chi2/dof        Q\n",
      "-------------------------------------------------------\n",
      "  1   1.00067(36)     1.00067(36)         0.00     1.00\n",
      "  2   1.00014(32)     1.00038(24)         1.19     0.27\n",
      "  3   0.99980(29)     1.00015(19)         1.75     0.17\n",
      "  4   0.99979(27)     1.00003(15)         1.59     0.19\n",
      "  5   0.99996(24)     1.00001(13)         1.21     0.31\n",
      "  6   0.99995(23)     1.00000(11)         0.98     0.43\n",
      "  7   0.99999(21)     0.999994(99)        0.81     0.56\n",
      "  8   1.00006(20)     1.000007(89)        0.71     0.66\n",
      "  9   1.00001(20)     1.000007(81)        0.62     0.76\n",
      " 10   1.00006(19)     1.000016(75)        0.56     0.83\n",
      "\n",
      "result = 1.000016(75)    Q = 0.83\n"
     ]
    }
   ],
   "source": [
    "@vegas.batchintegrand\n",
    "def f_batch(x):\n",
    "    \"\"\"Example integrand which evaluates multiple points simultaneously. Here x\n",
    "    is several integration points with shape (N,4), where N is the number of\n",
    "    integration points and 4 is the dimension of the integral (meaning there are\n",
    "    four integration varibles).\n",
    "    \"\"\"\n",
    "    # evaluate integrand at multiple points simultaneously\n",
    "    dim = x.shape[1]\n",
    "    norm = 1013.2118364296088 ** (dim / 4.)\n",
    "    dx2 = 0.0\n",
    "    for d in range(dim):\n",
    "        dx2 += (x[:, d] - 0.5) ** 2\n",
    "    return np.exp(-100. * dx2) * norm\n",
    "\n",
    "integ = vegas.Integrator(4 * [[0, 1]])\n",
    "\n",
    "integ(f_batch, nitn=10, neval=2e5)\n",
    "%time result = integ(f_batch, nitn=10, neval=2e5)\n",
    "print(result.summary())\n",
    "print('result = %s    Q = %.2f' % (result, result.Q))"
   ]
  },
  {
   "cell_type": "code",
   "execution_count": 12,
   "id": "22f95f4d",
   "metadata": {},
   "outputs": [
    {
     "name": "stdout",
     "output_type": "stream",
     "text": [
      "CPU times: user 157 ms, sys: 3.86 ms, total: 161 ms\n",
      "Wall time: 161 ms\n",
      "itn   integral        wgt average     chi2/dof        Q\n",
      "-------------------------------------------------------\n",
      "  1   1.00037(35)     1.00037(35)         0.00     1.00\n",
      "  2   0.99993(32)     1.00013(24)         0.83     0.36\n",
      "  3   1.00013(29)     1.00013(18)         0.42     0.66\n",
      "  4   1.00030(27)     1.00019(15)         0.36     0.78\n",
      "  5   0.99926(24)     0.99993(13)         2.89     0.02\n",
      "  6   1.00012(23)     0.99997(11)         2.42     0.03\n",
      "  7   1.00011(21)     1.000005(99)        2.08     0.05\n",
      "  8   1.00030(20)     1.000062(89)        2.03     0.05\n",
      "  9   0.99993(20)     1.000040(81)        1.82     0.07\n",
      " 10   1.00004(20)     1.000040(75)        1.62     0.10\n",
      "\n",
      "result = 1.000040(75)    Q = 0.10\n"
     ]
    }
   ],
   "source": [
    "@vegas.batchintegrand\n",
    "class f_batch_class:\n",
    "    def __init__(self, dim, y):\n",
    "        self.dim = dim\n",
    "        self.norm = 1013.2118364296088 ** (dim / 4.)\n",
    "        self.y = y\n",
    "\n",
    "    def __call__(self, x):\n",
    "        # evaluate integrand at multiple points simultaneously\n",
    "        dx2 = 0.0\n",
    "        for d in range(self.dim):\n",
    "            dx2 += (x[:, d] - self.y) ** 2\n",
    "        return np.exp(-100. * dx2) * self.norm\n",
    "\n",
    "f = f_batch_class(dim=4, y=0.5)\n",
    "integ = vegas.Integrator(f.dim * [[0, 1]])\n",
    "\n",
    "integ(f, nitn=10, neval=2e5)\n",
    "%time result = integ(f, nitn=10, neval=2e5)\n",
    "print(result.summary())\n",
    "print('result = %s    Q = %.2f' % (result, result.Q))"
   ]
  },
  {
   "cell_type": "markdown",
   "id": "b7e01c29",
   "metadata": {},
   "source": [
    "## Sums with `vegas`"
   ]
  },
  {
   "cell_type": "markdown",
   "id": "fd2a9871",
   "metadata": {},
   "source": [
    "$$\n",
    "\\sum_{i=0}^{N-1} f(i) = N \\int_0^1 dx f(\\mathrm{floor}(xN))\n",
    "$$"
   ]
  },
  {
   "cell_type": "code",
   "execution_count": 20,
   "id": "e5ff280c",
   "metadata": {},
   "outputs": [],
   "source": [
    "def ridge(x):\n",
    "    \"\"\"Integrand: ridge of N Gaussians spread evenly along the diagonal\"\"\"\n",
    "    N = 10000\n",
    "    dim = 4\n",
    "    x0 = 0.4 + 0.2 * np.floor(x[-1] * N) / (N - 1.)\n",
    "    dx2 = 0.0\n",
    "    for xd in x[:-1]:\n",
    "        dx2 += (xd - x0) ** 2\n",
    "    return np.exp(-100. * dx2) *  (100. / np.pi) ** (dim / 2.)"
   ]
  },
  {
   "cell_type": "code",
   "execution_count": 21,
   "id": "081a058e",
   "metadata": {},
   "outputs": [],
   "source": [
    "def main():\n",
    "    integ = vegas.Integrator(5 * [[0, 1]])\n",
    "    # adapt\n",
    "    integ(ridge, nitn=10, neval=5e4)\n",
    "    # final results\n",
    "    result = integ(ridge, nitn=10, neval=5e4)\n",
    "    print('result = %s    Q = %.2f' % (result, result.Q))"
   ]
  },
  {
   "cell_type": "code",
   "execution_count": 22,
   "id": "9ddff200",
   "metadata": {},
   "outputs": [
    {
     "name": "stdout",
     "output_type": "stream",
     "text": [
      "result = 0.99968(83)    Q = 0.36\n"
     ]
    }
   ],
   "source": [
    "main()"
   ]
  },
  {
   "cell_type": "code",
   "execution_count": null,
   "id": "1a28beb8",
   "metadata": {},
   "outputs": [],
   "source": []
  },
  {
   "cell_type": "code",
   "execution_count": null,
   "id": "c5c32a22",
   "metadata": {},
   "outputs": [],
   "source": []
  }
 ],
 "metadata": {
  "kernelspec": {
   "display_name": "Python 3 (ipykernel)",
   "language": "python",
   "name": "python3"
  },
  "language_info": {
   "codemirror_mode": {
    "name": "ipython",
    "version": 3
   },
   "file_extension": ".py",
   "mimetype": "text/x-python",
   "name": "python",
   "nbconvert_exporter": "python",
   "pygments_lexer": "ipython3",
   "version": "3.9.13"
  }
 },
 "nbformat": 4,
 "nbformat_minor": 5
}

{
 "cells": [
  {
   "cell_type": "markdown",
   "id": "2bc2f60e",
   "metadata": {},
   "source": [
    "# Testing integration with `vegas`\n",
    "\n",
    "__Author:__ A. J. Tropiano [atropiano@anl.gov]<br/>\n",
    "__Date:__ October 11, 2022\n",
    "\n",
    "Trying to do a spectroscopic overlap calculation evaluating the integrals in the $\\delta U^\\dagger$ term with Monte Carlo integration using `vegas`. Currently attempting to do all the sums in the expression by looping (excluding as many terms equal to zero as possible), and use MC only for integration over momenta.\n",
    "\n",
    "_Last update:_ November 17, 2022"
   ]
  },
  {
   "cell_type": "markdown",
   "id": "ad1aeb32",
   "metadata": {},
   "source": [
    "### Install `vegas`"
   ]
  },
  {
   "cell_type": "code",
   "execution_count": null,
   "id": "963dfe26",
   "metadata": {},
   "outputs": [],
   "source": [
    "# %%bash\n",
    "# pip install vegas"
   ]
  },
  {
   "cell_type": "markdown",
   "id": "783eabe5",
   "metadata": {},
   "source": [
    "__To-do list:__\n",
    "* Error with complex numbers with `vegas` (check analytically first). For generalization of code, my plan is to split the integrand of $\\delta U^\\dagger_{\\alpha \\beta \\gamma \\delta}$ into real and imaginary components, then feed these into `vegas` individually. Combine the mean values to set the specified matrix element (which is a complex number). The spectroscopic overlap to compare with VMC will be positive real. (Seems to work for $^{4}$He.)\n",
    "* Test sensitivity to `vegas` settings. The default is (`nitn=10`, `neval=1e4`). _Work in progress._<br/>\n",
    "i. (`nitn=10`, `neval=1e3`) : $\\sim1-2\\%$<br/>\n",
    "ii. (`nitn=20`, `neval=1e5`) : most accurate but very slow<br/>\n",
    "iii. (`nitn=20`, `neval=1e3`) : $\\sim1-2\\%$"
   ]
  },
  {
   "cell_type": "code",
   "execution_count": 1,
   "id": "5bbd3924",
   "metadata": {},
   "outputs": [],
   "source": [
    "import numpy as np\n",
    "import numpy.linalg as la\n",
    "from sympy.physics.quantum.cg import CG\n",
    "import vegas"
   ]
  },
  {
   "cell_type": "markdown",
   "id": "31aef1fa",
   "metadata": {},
   "source": [
    "## Example from tutorial [online](https://vegas.readthedocs.io/en/latest/tutorial.html)"
   ]
  },
  {
   "cell_type": "code",
   "execution_count": 2,
   "id": "be9a0232",
   "metadata": {
    "code_folding": [
     0
    ]
   },
   "outputs": [],
   "source": [
    "def f(x):\n",
    "    dx2 = 0\n",
    "    for d in range(4):\n",
    "        dx2 += (x[d] - 0.5) ** 2\n",
    "    return np.exp(-dx2 * 100.) * 1013.2118364296088"
   ]
  },
  {
   "cell_type": "code",
   "execution_count": 3,
   "id": "431c90b6",
   "metadata": {},
   "outputs": [
    {
     "name": "stdout",
     "output_type": "stream",
     "text": [
      "itn   integral        wgt average     chi2/dof        Q\n",
      "-------------------------------------------------------\n",
      "  1   0.62(30)        0.62(30)            0.00     1.00\n",
      "  2   1.02(15)        0.94(13)            1.48     0.22\n",
      "  3   1.00(18)        0.96(11)            0.78     0.46\n",
      "  4   1.024(61)       1.008(53)           0.61     0.61\n",
      "  5   0.937(35)       0.959(30)           0.76     0.55\n",
      "  6   1.007(25)       0.987(19)           0.91     0.47\n",
      "  7   1.019(19)       1.003(13)           1.00     0.42\n",
      "  8   1.051(14)       1.0259(97)          1.73     0.10\n",
      "  9   1.025(12)       1.0255(76)          1.52     0.15\n",
      " 10   0.985(12)       1.0140(64)          2.26     0.02\n",
      "\n",
      "result = 1.0140(64)    Q = 0.02\n"
     ]
    }
   ],
   "source": [
    "integ = vegas.Integrator([[-1, 1], [0, 1], [0, 1], [0, 1]])\n",
    "\n",
    "result = integ(f, nitn=10, neval=1000)\n",
    "print(result.summary())\n",
    "print('result = %s    Q = %.2f' % (result, result.Q))"
   ]
  },
  {
   "cell_type": "markdown",
   "id": "cc9701fd",
   "metadata": {},
   "source": [
    "## Evaluation of $\\delta U^\\dagger_{\\alpha \\beta \\gamma \\delta}$"
   ]
  },
  {
   "cell_type": "code",
   "execution_count": null,
   "id": "ed55231e",
   "metadata": {},
   "outputs": [],
   "source": [
    "# many functions and classes go here"
   ]
  },
  {
   "cell_type": "code",
   "execution_count": null,
   "id": "e82e86b9",
   "metadata": {},
   "outputs": [],
   "source": [
    "# tests"
   ]
  },
  {
   "cell_type": "code",
   "execution_count": null,
   "id": "9acab223",
   "metadata": {},
   "outputs": [],
   "source": [
    "# conclusions"
   ]
  },
  {
   "cell_type": "markdown",
   "id": "6b4a4bd1",
   "metadata": {},
   "source": [
    "## Visualization of $\\delta U^\\dagger_{\\alpha \\beta \\gamma \\delta}$"
   ]
  },
  {
   "cell_type": "code",
   "execution_count": null,
   "id": "9d016e85",
   "metadata": {},
   "outputs": [],
   "source": []
  },
  {
   "cell_type": "code",
   "execution_count": null,
   "id": "7994847e",
   "metadata": {},
   "outputs": [],
   "source": []
  },
  {
   "cell_type": "code",
   "execution_count": null,
   "id": "0ce2f7fc",
   "metadata": {},
   "outputs": [],
   "source": []
  }
 ],
 "metadata": {
  "kernelspec": {
   "display_name": "Python 3 (ipykernel)",
   "language": "python",
   "name": "python3"
  },
  "language_info": {
   "codemirror_mode": {
    "name": "ipython",
    "version": 3
   },
   "file_extension": ".py",
   "mimetype": "text/x-python",
   "name": "python",
   "nbconvert_exporter": "python",
   "pygments_lexer": "ipython3",
   "version": "3.9.13"
  }
 },
 "nbformat": 4,
 "nbformat_minor": 5
}

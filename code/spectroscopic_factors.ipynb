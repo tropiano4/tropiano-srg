{
 "cells": [
  {
   "cell_type": "markdown",
   "id": "b1040938",
   "metadata": {
    "pycharm": {
     "name": "#%% md\n"
    }
   },
   "source": [
    "# Spectroscopic factors\n",
    "\n",
    "__Author:__ A. J. Tropiano [atropiano@anl.gov]<br/>\n",
    "__Date:__ October 8, 2021\n",
    "\n",
    "This notebook serves as a testbed for calculating spectroscopic overlaps using mean field approximations for initial and final states and applying SRG transformations to the operator. The normalization of spectroscopic overlaps give relative spectroscopic factors. The first step is to compute the overlap of $^4\\rm{He}$ with $^3\\rm{H}$ and compare to [VMC calculations](https://www.phy.anl.gov/theory/research/overlaps/).\n",
    "\n",
    "_Last update:_ October 30, 2022"
   ]
  },
  {
   "cell_type": "markdown",
   "id": "ec71f667",
   "metadata": {
    "pycharm": {
     "name": "#%% md\n"
    }
   },
   "source": [
    "__To-do list:__\n",
    "* Check if you need the $(-i)^l$ factor in the Hankel transformation function. The factor may cancel out in all relevant formulas (like the overlap wave function).\n",
    "* Correct $\\delta U^\\dagger_{\\beta \\gamma \\alpha \\gamma}$ term. It does not include $\\beta > 1s_{1/2}$ currently. The other two $\\alpha$ and $\\gamma$ are fine.\n",
    "* Idea: Try calculating matrix elements $\\delta U^\\dagger_{\\beta \\gamma \\alpha \\gamma}$ (or more generally $\\delta U^\\dagger_{\\alpha \\beta \\gamma \\delta}$) outside of $\\mathbf{q}$ dependence by considering all possible combinations of single-particle quantum numbers. This would rely on Monte Carlo integration and saves all matrix elements. Then directly calculate the spectroscopic overlap by looping over $\\mathbf{q}$, the remaining quantum numbers ($\\beta$, $\\gamma \\le \\rm{F}$, $m_{l_\\beta}$), and calculating the product of the Clebsch-Gordan coefficient, spherical harmonic, $\\phi_{\\beta}(q)$, and $\\delta U^\\dagger_{\\beta \\gamma \\alpha \\gamma}$.\n",
    "* Bug test the alternative approach."
   ]
  },
  {
   "cell_type": "code",
   "execution_count": 1,
   "id": "a353a2d6",
   "metadata": {
    "pycharm": {
     "name": "#%%\n"
    }
   },
   "outputs": [],
   "source": [
    "# Python imports\n",
    "from matplotlib.offsetbox import AnchoredText\n",
    "import matplotlib.pyplot as plt\n",
    "%matplotlib inline\n",
    "import numpy as np\n",
    "import numpy.linalg as la\n",
    "from numpy.polynomial.legendre import leggauss\n",
    "from scipy.interpolate import interp1d, RectBivariateSpline\n",
    "from scipy.special import spherical_jn, sph_harm\n",
    "from sympy.physics.quantum.cg import CG\n",
    "import time\n",
    "import vegas"
   ]
  },
  {
   "cell_type": "code",
   "execution_count": 2,
   "id": "a47d30f7",
   "metadata": {
    "pycharm": {
     "name": "#%%\n"
    }
   },
   "outputs": [],
   "source": [
    "# Imports from A.T. codes\n",
    "from scripts.figures import set_rc_parameters, label_nucleus, label_sp_state\n",
    "from scripts.integration import (\n",
    "    gaussian_quadrature_mesh, momentum_mesh, unattach_weights_from_matrix\n",
    ")\n",
    "from scripts.potentials import Potential\n",
    "from scripts.srg import get_transformation\n",
    "from scripts.tools import find_index, replace_periods"
   ]
  },
  {
   "cell_type": "markdown",
   "id": "fa49d48d",
   "metadata": {
    "pycharm": {
     "name": "#%% md\n"
    }
   },
   "source": [
    "## Set-up"
   ]
  },
  {
   "cell_type": "code",
   "execution_count": 3,
   "id": "129e9aea",
   "metadata": {
    "pycharm": {
     "name": "#%%\n"
    }
   },
   "outputs": [],
   "source": [
    "# Run this cell to turn on customized matplotlib graphics\n",
    "set_rc_parameters()"
   ]
  },
  {
   "cell_type": "code",
   "execution_count": 4,
   "id": "ef9eb828",
   "metadata": {
    "pycharm": {
     "name": "#%%\n"
    }
   },
   "outputs": [],
   "source": [
    "# Save figures in the following directory\n",
    "figures_directory = '../figures/spectroscopic_factors/'\n",
    "\n",
    "# Load s.p. wave functions from the following directory\n",
    "hfbrad_directory = '../data/dft/SLy4/'"
   ]
  },
  {
   "cell_type": "markdown",
   "id": "b3f8759b",
   "metadata": {
    "pycharm": {
     "name": "#%%\n"
    }
   },
   "source": [
    "## Functions"
   ]
  },
  {
   "cell_type": "markdown",
   "id": "05f91d23",
   "metadata": {
    "pycharm": {
     "name": "#%% md\n"
    }
   },
   "source": [
    "Move some of these functions into scripts at a later date."
   ]
  },
  {
   "cell_type": "code",
   "execution_count": 5,
   "id": "9d4da0e4",
   "metadata": {
    "code_folding": [
     0
    ],
    "pycharm": {
     "name": "#%%\n"
    }
   },
   "outputs": [],
   "source": [
    "def convert_l_to_string(l):\n",
    "    \"\"\"\n",
    "    Returns the spectroscopic notation of the orbital angular momentum value\n",
    "    l (e.g., l = 2 returns 'd').\n",
    "\n",
    "    Parameters\n",
    "    ----------\n",
    "    l : int\n",
    "        Orbital angular momentum of the single-particle (s.p.) state.\n",
    "\n",
    "    Returns\n",
    "    -------\n",
    "    output : str\n",
    "        Spectroscopic notation of s.p. state orbital angular momentum.\n",
    "\n",
    "    \"\"\"\n",
    "\n",
    "    if l == 0:\n",
    "        return 's'\n",
    "    elif l == 1:\n",
    "        return 'p'\n",
    "    elif l == 2:\n",
    "        return 'd'\n",
    "    elif l == 3:\n",
    "        return 'f'\n",
    "    elif l == 4:\n",
    "        return 'g'\n",
    "    elif l == 5:\n",
    "        return 'h'\n",
    "    elif l == 6:\n",
    "        return 'i'\n",
    "    else:\n",
    "        raise RuntimeError(\n",
    "            \"Input l value is outside the range of this function.\"\n",
    "        )"
   ]
  },
  {
   "cell_type": "code",
   "execution_count": 6,
   "id": "3540f8ec",
   "metadata": {
    "code_folding": [
     0
    ]
   },
   "outputs": [],
   "source": [
    "def convert_l_to_int(sp_state):\n",
    "    \"\"\"\n",
    "    Returns the orbital angular momentum given the s.p. state in spectroscopic \n",
    "    notation (e.g., '1d1p5' returns 2).\n",
    "\n",
    "    Parameters\n",
    "    ----------\n",
    "    sp_state : str\n",
    "        Spectroscopic notation of s.p. state (e.g., '1s0p5').\n",
    "\n",
    "    Returns\n",
    "    -------\n",
    "    output : int\n",
    "        Orbital angular momentum of the single-particle (s.p.) state.\n",
    "\n",
    "    \"\"\"\n",
    "    \n",
    "    if sp_state[1] == 's':\n",
    "        return 0\n",
    "    elif sp_state[1] == 'p':\n",
    "        return 1       \n",
    "    elif sp_state[1] == 'd':\n",
    "        return 2\n",
    "    elif sp_state[1] == 'f':\n",
    "        return 3\n",
    "    elif sp_state[1] == 'g':\n",
    "        return 4\n",
    "    elif sp_state[1] == 'h':\n",
    "        return 5\n",
    "    elif sp_state[1] == 'i':\n",
    "        return 6\n",
    "    else:\n",
    "        raise RuntimeError(\n",
    "            \"Input s.p. state is outside the range of this function.\"\n",
    "        )"
   ]
  },
  {
   "cell_type": "code",
   "execution_count": 7,
   "id": "a2296aa8",
   "metadata": {
    "code_folding": [
     0
    ],
    "pycharm": {
     "name": "#%%\n"
    }
   },
   "outputs": [],
   "source": [
    "def sp_states(nucleus_name, Z, N, print_info=False):\n",
    "    \"\"\"\n",
    "    Return all the occupied single-particle states of the given nucleus.\n",
    "    \n",
    "    Parameters\n",
    "    ----------\n",
    "    nucleus_name : str\n",
    "        Name of the nucleus (e.g., 'Ca40').\n",
    "    Z : int\n",
    "        Proton number.\n",
    "    N : int\n",
    "        Neutron number.\n",
    "    print_statement : bool, optional\n",
    "        Option to print information for each s.p. state in nucleus.\n",
    "    \n",
    "    Returns\n",
    "    -------\n",
    "    output : dict\n",
    "        Dictionary with two keys: 'proton' and 'neutron'. Each corresponds to\n",
    "        a list of all the occupied s.p. states, which are strings (e.g., '1s0p5'\n",
    "        means 1s with j=1/2).\n",
    "    \n",
    "    Notes\n",
    "    -----\n",
    "    Currently we're assuming the SLy4 interaction.\n",
    "    \n",
    "    \"\"\"\n",
    "\n",
    "    # Go to HFBRAD directory\n",
    "    densities_directory = f'../data/dft/SLy4/{nucleus_name}/'\n",
    "    file_name = f'hfb_{N}_{Z}.spe'\n",
    "    \n",
    "    # Open file and add each occupied s.p. state to list\n",
    "    neutron_states = []\n",
    "    proton_states = []\n",
    "    \n",
    "    f = open(densities_directory + file_name, 'r')\n",
    "    \n",
    "    for line in f:\n",
    "        \n",
    "        unit = line.strip().split()  # Split up row into list\n",
    "        \n",
    "        # Make sure you're going through the correct data\n",
    "        if (len(unit) == 12) and (unit[0] in ('1', '2')):\n",
    "            \n",
    "            # Only do occupied states:\n",
    "            if float(unit[6]) == 1:\n",
    "            \n",
    "                # Integer specifying neutron or proton\n",
    "                nucleon_number = unit[0]\n",
    "        \n",
    "                # j value\n",
    "                j = int(unit[1])/2\n",
    "        \n",
    "                # Orbital angular momentum (int)\n",
    "                l = int(unit[2])\n",
    "                # Orbital angular momentum (str)\n",
    "                l_str = convert_l_to_string(l)\n",
    "        \n",
    "                # Is this correct? (# of nodes)\n",
    "                n = unit[11]\n",
    "            \n",
    "                # Convert s.p. state to string and append to list\n",
    "                state_str = f'{n}{l_str}{j:.1f}'\n",
    "            \n",
    "                # Add string to neutron or proton list with periods replaced\n",
    "                # by 'p'\n",
    "                if nucleon_number == '1': # Neutron\n",
    "                    neutron_states.append(replace_periods(state_str))\n",
    "                elif nucleon_number == '2': # Proton\n",
    "                    proton_states.append(replace_periods(state_str))\n",
    "            \n",
    "                # Print information for each state?\n",
    "                if print_info:\n",
    "                \n",
    "                    info = (f\"Nuc={nucleon_number}, N={unit[4]},\"\n",
    "                            f\" state={state_str}\")\n",
    "                    print(info)\n",
    "                \n",
    "    f.close()\n",
    "    \n",
    "    return {'neutron' : neutron_states, 'proton' : proton_states}"
   ]
  },
  {
   "cell_type": "code",
   "execution_count": 8,
   "id": "11523afc",
   "metadata": {
    "code_folding": [
     0
    ],
    "pycharm": {
     "name": "#%%\n"
    }
   },
   "outputs": [],
   "source": [
    "def get_phi_rspace(nucleus_name, Z, N, nucleon, sp_state,\n",
    "                   print_normalization=False):\n",
    "    \"\"\"Returns the single-particle wave function in coordinate space.\"\"\"\n",
    "    \n",
    "    if nucleon == 'proton':\n",
    "        nuc_int = 1\n",
    "    elif nucleon == 'neutron':\n",
    "        nuc_int = 0\n",
    "    \n",
    "    file_name = f'{nucleon}_{sp_state}_{N}_{Z}.gfx'\n",
    "    \n",
    "    data = np.loadtxt(hfbrad_directory + f\"{nucleus_name}/wfs/{file_name}\")\n",
    "\n",
    "    r_array = data[:, 0]  # Units fm\n",
    "    dr = r_array[1] - r_array[0]  # Linear spacing between r points\n",
    "    phi_array = data[:, 2]  # Units fm^-1/2\n",
    "    \n",
    "    # These are normalized as \\int dr |u(r)|^2 = 1\n",
    "    if print_normalization:\n",
    "        print(f\"Normalization = {np.sum(dr*phi_array**2)}.\")\n",
    "    \n",
    "    return r_array, phi_array"
   ]
  },
  {
   "cell_type": "code",
   "execution_count": 9,
   "id": "cf121a9a",
   "metadata": {
    "code_folding": [
     0
    ],
    "pycharm": {
     "name": "#%%\n"
    }
   },
   "outputs": [],
   "source": [
    "def plot_sp_wfs_rspace(nucleus_name, Z, N, x_limits=(0.0,10.0),\n",
    "                       y_limits=(0.0,0.8), save=False):\n",
    "    \"\"\"Plot the s.p. wave functions of a nucleus in coordinate space.\"\"\"\n",
    "\n",
    "    # Initialize figure\n",
    "    plt.close('all')\n",
    "    f, ax = plt.subplots(figsize=(4, 4))\n",
    "    \n",
    "    # Get the data\n",
    "    d = sp_states(nucleus_name, Z, N)\n",
    "    \n",
    "    # Plot just the proton wave functions\n",
    "    for i, sp_state in enumerate(d['proton']):\n",
    "        \n",
    "        r_array, phi_array = get_phi_rspace(nucleus_name, Z, N, 'proton',\n",
    "                                            sp_state)\n",
    "        \n",
    "        ax.plot(r_array, phi_array, label=label_sp_state(sp_state),\n",
    "                linewidth=2.0)\n",
    "        \n",
    "    # Set axes limits\n",
    "    ax.set_xlim(x_limits)\n",
    "    ax.set_ylim(y_limits)\n",
    "\n",
    "    # Set axes labels\n",
    "    ax.set_xlabel(r\"$r$ [fm]\", fontsize=16)\n",
    "    ax.set_ylabel(r\"$u(r)$ [fm\" + r'$^{-1/2}$' + ']', fontsize=16)\n",
    "\n",
    "    # Set legend\n",
    "    ax.legend(loc='upper right', fontsize=14, frameon=False)\n",
    "\n",
    "    # Add nucleus label\n",
    "    ax.add_artist(\n",
    "        AnchoredText(label_nucleus(nucleus_name), loc='center right',\n",
    "                     prop=dict(size=18), frameon=False)\n",
    "    )\n",
    "    \n",
    "    # Save?\n",
    "    if save:\n",
    "        file_name = f'{nucleus_name}_sp_wfs_rspace_SLy4.png'\n",
    "        f.savefig(figures_directory + file_name)"
   ]
  },
  {
   "cell_type": "code",
   "execution_count": 10,
   "id": "6eb73793",
   "metadata": {
    "code_folding": [
     0
    ],
    "pycharm": {
     "name": "#%%\n"
    }
   },
   "outputs": [],
   "source": [
    "def hankel_transformation(l, k_array, r_array, dr):\n",
    "    \"\"\"\n",
    "    <k|r> transformation matrix for given orbital angular momentum l. If\n",
    "    len(r_array) = m and len(k_array) = n, then this function returns an \n",
    "    n x m matrix.\n",
    "    \n",
    "    Parameters\n",
    "    ----------\n",
    "    l : int\n",
    "        Orbital angular momentum.\n",
    "    k_array : 1-D ndarray\n",
    "        Momentum array [fm^-1].\n",
    "    r_array : 1-D ndarray\n",
    "        Coordinates array [fm].\n",
    "    dr : float\n",
    "        Coordinates step-size (weight) [fm].\n",
    "        \n",
    "    Returns\n",
    "    -------\n",
    "    M : 2-D ndarray\n",
    "        Hankel transformation matrix [fm^3\\2].\n",
    "        \n",
    "    Notes\n",
    "    -----\n",
    "    There is a \"missing\" factor of r in the transformation matrix since the\n",
    "    radial wave functions are already multiplied by r, meaning the\n",
    "    normalization is \\int dr |u(r)|^2 = 1 without the r^2.\n",
    "\n",
    "    \"\"\"\n",
    "    \n",
    "    # r_array column vectors and k_array row vectors where both grids are\n",
    "    # n x m matrices\n",
    "    r_cols, k_rows = np.meshgrid(r_array, k_array)\n",
    "        \n",
    "    # M = (-1j)**l * np.sqrt(2/np.pi) * dr * r_cols * spherical_jn(l, k_rows * r_cols)\n",
    "    M = np.sqrt(2/np.pi) * dr * r_cols * spherical_jn(l, k_rows * r_cols)\n",
    "\n",
    "    return M"
   ]
  },
  {
   "cell_type": "code",
   "execution_count": 11,
   "id": "8bfb9ed4",
   "metadata": {
    "code_folding": [
     0
    ],
    "pycharm": {
     "name": "#%%\n"
    }
   },
   "outputs": [],
   "source": [
    "def get_phi_kspace(nucleus_name, Z, N, nucleon, sp_state,\n",
    "                   print_normalization=False):\n",
    "    \"\"\"Returns the single-particle wave function in momentum space.\"\"\"\n",
    "    \n",
    "    # Set momentum mesh\n",
    "    k_array, k_weights = momentum_mesh(15.0, 3.0, 120)\n",
    "    \n",
    "    # Get coordinate-space s.p. wave function\n",
    "    r_array, phi_r_array = get_phi_rspace(nucleus_name, Z, N, nucleon, sp_state)\n",
    "    dr = r_array[2] - r_array[1]  # Assuming linear spacing in coordinates\n",
    "    \n",
    "    # Fourier-transform the wave function to momentum space\n",
    "    l = convert_l_to_int(sp_state)\n",
    "    phi_k_array = hankel_transformation(l, k_array, r_array, dr) @ phi_r_array\n",
    "    \n",
    "    # These are normalized as \\int dk k^2 |\\phi(k)|^2 = 1\n",
    "    if print_normalization:\n",
    "        print(f\"Normalization = {np.sum(k_weights*k_array**2*phi_k_array**2)}.\")\n",
    "\n",
    "    return k_array, k_weights, phi_k_array"
   ]
  },
  {
   "cell_type": "code",
   "execution_count": 12,
   "id": "6d1e005a",
   "metadata": {
    "code_folding": [
     0
    ],
    "pycharm": {
     "name": "#%%\n"
    }
   },
   "outputs": [],
   "source": [
    "def plot_sp_wfs_kspace(nucleus_name, Z, N, x_limits=(0.0,5.0),\n",
    "                       y_limits=(-0.1,4.0), save=False):\n",
    "    \"\"\"Plot the s.p. wave functions of a nucleus in momentum space.\"\"\"\n",
    "\n",
    "    # Initialize figure\n",
    "    plt.close('all')\n",
    "    f, ax = plt.subplots(figsize=(4, 4))\n",
    "    \n",
    "    # Get the data\n",
    "    d = sp_states(nucleus_name, Z, N)\n",
    "    \n",
    "    # Plot just the proton wave functions\n",
    "    for i, sp_state in enumerate(d['proton']):\n",
    "        \n",
    "        k_array, _, phi_array = get_phi_kspace(nucleus_name, Z, N, 'proton',\n",
    "                                               sp_state)\n",
    "        \n",
    "        ax.plot(k_array, phi_array, label=label_sp_state(sp_state),\n",
    "                linewidth=2.0)\n",
    "        \n",
    "    # Add horizontal line at y=0\n",
    "    ax.axhline(0.0, color='gray', alpha=0.4, zorder=1)\n",
    "        \n",
    "    # Set axes limits\n",
    "    ax.set_xlim(x_limits)\n",
    "    ax.set_ylim(y_limits)\n",
    "\n",
    "    # Set axes labels\n",
    "    ax.set_xlabel(r\"$k$ [fm\" + r'$^{-1}$' + ']', fontsize=16)\n",
    "    ax.set_ylabel(r\"$\\phi(k)$ [fm\" + r'$^{3/2}$' + ']', fontsize=16)\n",
    "\n",
    "    # Set legend\n",
    "    ax.legend(loc='upper right', fontsize=14, frameon=False)\n",
    "\n",
    "    # Add nucleus label\n",
    "    ax.add_artist(\n",
    "        AnchoredText(label_nucleus(nucleus_name), loc='center right',\n",
    "                     prop=dict(size=18), frameon=False)\n",
    "    )\n",
    "    \n",
    "    # Save?\n",
    "    if save:\n",
    "        file_name = f'{nucleus_name}_sp_wfs_kspace_SLy4.png'\n",
    "        f.savefig(figures_directory + file_name)"
   ]
  },
  {
   "cell_type": "markdown",
   "id": "5601ae8f",
   "metadata": {
    "pycharm": {
     "name": "#%% md\n"
    }
   },
   "source": [
    "## Single-particle wave functions in coordinate space"
   ]
  },
  {
   "cell_type": "code",
   "execution_count": 13,
   "id": "6123d6e2",
   "metadata": {
    "pycharm": {
     "name": "#%%\n"
    }
   },
   "outputs": [],
   "source": [
    "nucleus_name, Z, N = 'He4', 2, 2"
   ]
  },
  {
   "cell_type": "code",
   "execution_count": 14,
   "id": "c0f8e2de",
   "metadata": {
    "pycharm": {
     "name": "#%%\n"
    }
   },
   "outputs": [
    {
     "name": "stdout",
     "output_type": "stream",
     "text": [
      "Normalization = 1.0000000007365384.\n"
     ]
    }
   ],
   "source": [
    "phi_r_array = get_phi_rspace(nucleus_name, Z, N, 'proton', '1s0p5',\n",
    "                             print_normalization=True)"
   ]
  },
  {
   "cell_type": "code",
   "execution_count": 15,
   "id": "2ed179b7",
   "metadata": {
    "pycharm": {
     "name": "#%%\n"
    }
   },
   "outputs": [
    {
     "data": {
      "image/png": "[encoded data removed]",
      "text/plain": [
       "<Figure size 600x600 with 1 Axes>"
      ]
     },
     "metadata": {},
     "output_type": "display_data"
    }
   ],
   "source": [
    "plot_sp_wfs_rspace(nucleus_name, Z, N, save=True)"
   ]
  },
  {
   "cell_type": "code",
   "execution_count": 16,
   "id": "c82ccf73",
   "metadata": {
    "pycharm": {
     "name": "#%%\n"
    }
   },
   "outputs": [
    {
     "data": {
      "image/png": "[encoded data removed]",
      "text/plain": [
       "<Figure size 600x600 with 1 Axes>"
      ]
     },
     "metadata": {},
     "output_type": "display_data"
    }
   ],
   "source": [
    "plot_sp_wfs_rspace('O16', 8, 8, save=True)"
   ]
  },
  {
   "cell_type": "markdown",
   "id": "3a911247",
   "metadata": {
    "pycharm": {
     "name": "#%% md\n"
    }
   },
   "source": [
    "## Single-particle wave functions in momentum space"
   ]
  },
  {
   "cell_type": "code",
   "execution_count": 17,
   "id": "38fee969",
   "metadata": {
    "code_folding": [],
    "pycharm": {
     "name": "#%%\n"
    }
   },
   "outputs": [
    {
     "name": "stdout",
     "output_type": "stream",
     "text": [
      "Normalization = 1.0000000007365952.\n"
     ]
    }
   ],
   "source": [
    "k_array, k_weights, phi_k_array = get_phi_kspace(\n",
    "    nucleus_name, Z, N, 'proton', '1s0p5', print_normalization=True\n",
    ")"
   ]
  },
  {
   "cell_type": "code",
   "execution_count": 18,
   "id": "3f8ccd8d",
   "metadata": {
    "pycharm": {
     "name": "#%%\n"
    }
   },
   "outputs": [
    {
     "data": {
      "image/png": "[encoded data removed]",
      "text/plain": [
       "<Figure size 600x600 with 1 Axes>"
      ]
     },
     "metadata": {},
     "output_type": "display_data"
    }
   ],
   "source": [
    "plot_sp_wfs_kspace(nucleus_name, Z, N, y_limits=(-0.1,3.5), save=True)"
   ]
  },
  {
   "cell_type": "markdown",
   "id": "e9d3088d",
   "metadata": {},
   "source": [
    "## Spectroscopic overlaps"
   ]
  },
  {
   "cell_type": "code",
   "execution_count": 19,
   "id": "97f2cc70",
   "metadata": {
    "code_folding": [
     0
    ]
   },
   "outputs": [],
   "source": [
    "def get_vmc_data(print_normalization=False):\n",
    "    \"\"\"Loads the VMC spectroscopic overlap.\"\"\"\n",
    "    \n",
    "    file_name = \"he4_overlap.txt\"\n",
    "    \n",
    "    f = open(file_name, 'r')\n",
    "    data_list = []\n",
    "    \n",
    "    for line in f:\n",
    "        \n",
    "        unit = line.strip().split()\n",
    "        if unit[0] == \"#\":\n",
    "            pass\n",
    "        else:\n",
    "            data_list.append([\n",
    "                float(unit[0]), float(unit[1]),\n",
    "                float(unit[2].strip('(').strip(')'))\n",
    "            ])\n",
    "            \n",
    "    # Convert to NumPy array\n",
    "    data = np.array(data_list)\n",
    "    \n",
    "    if print_normalization:\n",
    "        q_array = data[:,0]\n",
    "        dq = q_array[2]-q_array[1]\n",
    "        overlap_array = data[:,1]\n",
    "        print(1/(2*np.pi)**3*np.sum(dq*q_array**2*overlap_array**2))\n",
    "    \n",
    "    return data"
   ]
  },
  {
   "cell_type": "code",
   "execution_count": 20,
   "id": "65cd9ff1",
   "metadata": {},
   "outputs": [
    {
     "name": "stdout",
     "output_type": "stream",
     "text": [
      "1.6221510359897304\n"
     ]
    }
   ],
   "source": [
    "data = get_vmc_data(print_normalization=True)"
   ]
  },
  {
   "cell_type": "markdown",
   "id": "05a00a2f",
   "metadata": {},
   "source": [
    "__First approach:__ The following calculation is based on equation (23) in the Overleaf notes."
   ]
  },
  {
   "cell_type": "code",
   "execution_count": 21,
   "id": "e666cbab",
   "metadata": {
    "code_folding": [
     0
    ]
   },
   "outputs": [],
   "source": [
    "def interpolate_phi_kspace(nucleon):\n",
    "    \"\"\"Interpolate s.p. wave functions \\phi(k).\"\"\"\n",
    "    \n",
    "    k_array, _, phi_array = get_phi_kspace('He4', 2, 2, nucleon, '1s0p5')\n",
    "\n",
    "    # Interpolate s.p. wave functions\n",
    "    phi_func = interp1d(k_array, phi_array, kind='linear', bounds_error=False,\n",
    "                        fill_value='extrapolate')\n",
    "\n",
    "    return phi_func"
   ]
  },
  {
   "cell_type": "code",
   "execution_count": 22,
   "id": "a3f57c74",
   "metadata": {
    "code_folding": [
     1
    ]
   },
   "outputs": [],
   "source": [
    "# Note, this needs to be updated to do coupled-channels (not just 3S1-3S1)\n",
    "def interpolate_deltaU_dagger(kvnn, channel, lamb, kmax, kmid, ntot, generator):\n",
    "    \"\"\"Interpolate \\delta U^\\dagger(k',k).\"\"\"\n",
    "\n",
    "    # Set potential\n",
    "    potential = Potential(kvnn, channel, kmax, kmid, ntot)\n",
    "    \n",
    "    # Get momentum mesh\n",
    "    k_array, k_weights = potential.load_mesh()\n",
    "    \n",
    "    # Initial and evolved Hamiltonians\n",
    "    H_initial = potential.load_hamiltonian()\n",
    "    if generator == 'Block-diag':\n",
    "        H_evolved = potential.load_hamiltonian('srg', generator, 1.0,\n",
    "                                               lambda_bd=lamb)\n",
    "    else:\n",
    "        H_evolved = potential.load_hamiltonian('srg', generator, lamb)\n",
    "    \n",
    "    # Get SRG transformation from Hamiltonians\n",
    "    U_matrix_weights = get_transformation(H_initial, H_evolved)[:ntot,:ntot]\n",
    "\n",
    "    # Calculate \\delta U^\\dagger = (U - I)^\\dagger\n",
    "    I_matrix_weights = np.eye(ntot, ntot)\n",
    "    delUdag_matrix_weights = (U_matrix_weights - I_matrix_weights).T\n",
    "    delUdag_matrix = unattach_weights_from_matrix(k_array, k_weights,\n",
    "                                                  delUdag_matrix_weights)\n",
    "    \n",
    "    # Interpolate \\delta U^\\dagger(k,k')\n",
    "    delUdag_func = RectBivariateSpline(k_array, k_array, delUdag_matrix, kx=1,\n",
    "                                       ky=1)\n",
    "\n",
    "    return delUdag_func"
   ]
  },
  {
   "cell_type": "code",
   "execution_count": 23,
   "id": "04393ef8",
   "metadata": {
    "code_folding": [
     0
    ]
   },
   "outputs": [],
   "source": [
    "def compute_deltaU_dagger_term(kvnn, lamb, kmax=15.0, kmid=3.0, ntot=120,\n",
    "                               generator='Wegner'):\n",
    "    \"\"\"Compute the \\delta U^\\dagger term in the spectroscopic overlap.\"\"\"\n",
    "    \n",
    "    # Initialize momentum and angle meshes\n",
    "    k_array, k_weights = momentum_mesh(10.0, 2.0, 120)  # Relative momenta\n",
    "    K_array, K_weights = gaussian_quadrature_mesh(2.0, 40)  # CoM momenta\n",
    "    x_array, x_weights = leggauss(7)  # Angles between K and k' (or K and k)\n",
    "    \n",
    "    # Get meshgrids for (k', k, K, x)\n",
    "    kp_grid, k_grid, K_grid, x_grid = np.meshgrid(k_array, k_array, K_array,\n",
    "                                                  x_array, indexing='ij')\n",
    "    _, _, _, dx_grid = np.meshgrid(k_weights, k_weights, K_weights, x_weights,\n",
    "                                   indexing='ij')\n",
    "    \n",
    "    # Get s.p. wave functions\n",
    "    phi_p_func = interpolate_phi_kspace('proton')\n",
    "    phi_n_func = interpolate_phi_kspace('neutron')\n",
    "    \n",
    "    # Evaluate product of s.p. wave functions and attach weights dx (or dy)\n",
    "    # These are 4-D arrays (k', k, K, x)\n",
    "    pp_kp_K_y_grid = (\n",
    "        phi_p_func(\n",
    "            np.sqrt(K_grid**2/4 + kp_grid**2 + kp_grid*K_grid*x_grid)\n",
    "        )\n",
    "        * phi_p_func(\n",
    "            np.sqrt(K_grid**2/4 + kp_grid**2 - kp_grid*K_grid*x_grid)\n",
    "        )\n",
    "    ) * dx_grid\n",
    "    pn_kp_K_y_grid = (\n",
    "        phi_p_func(\n",
    "            np.sqrt(K_grid**2/4 + kp_grid**2 + kp_grid*K_grid*x_grid)\n",
    "        )\n",
    "        * phi_n_func(\n",
    "            np.sqrt(K_grid**2/4 + kp_grid**2 - kp_grid*K_grid*x_grid)\n",
    "        )\n",
    "    ) * dx_grid\n",
    "    pp_k_K_x_grid = (\n",
    "        phi_p_func(\n",
    "            np.sqrt(K_grid**2/4 + k_grid**2 + k_grid*K_grid*x_grid)\n",
    "        )\n",
    "        * phi_p_func(\n",
    "            np.sqrt(K_grid**2/4 + k_grid**2 - k_grid*K_grid*x_grid)\n",
    "        )\n",
    "    ) * dx_grid\n",
    "    pn_k_K_x_grid = (\n",
    "        phi_p_func(\n",
    "            np.sqrt(K_grid**2/4 + k_grid**2 + k_grid*K_grid*x_grid)\n",
    "        )\n",
    "        * phi_n_func(\n",
    "            np.sqrt(K_grid**2/4 + k_grid**2 - k_grid*K_grid*x_grid)\n",
    "        )\n",
    "    ) * dx_grid\n",
    "    \n",
    "    # Perform angle-averaging integrals (x and y) -> 3-D arrays (k', k, K)\n",
    "    pp_kp_K_grid = 0.5 * np.sum(pp_kp_K_y_grid, axis=-1)\n",
    "    pn_kp_K_grid = 0.5 * np.sum(pn_kp_K_y_grid, axis=-1)\n",
    "    pp_k_K_grid = 0.5 * np.sum(pp_k_K_x_grid, axis=-1)\n",
    "    pn_k_K_grid = 0.5 * np.sum(pn_k_K_x_grid, axis=-1)\n",
    "    \n",
    "    # Evaluate product of s.p. wave functions and attach dK K^2\n",
    "    _, _, dK_grid = np.meshgrid(k_weights, k_weights, K_array**2 * K_weights,\n",
    "                                indexing='ij')\n",
    "    pppp_kp_k_K_grid = pp_kp_K_grid * pp_k_K_grid * dK_grid\n",
    "    pnpn_kp_k_K_grid = pn_kp_K_grid * pn_k_K_grid * dK_grid\n",
    "    \n",
    "    # Integrate over K -> 2-D arrays (k', k)\n",
    "    pppp_kp_k_grid = np.sum(pppp_kp_k_K_grid, axis=-1)\n",
    "    pnpn_kp_k_grid = np.sum(pnpn_kp_k_K_grid, axis=-1)\n",
    "    \n",
    "    # Get \\delta U^\\dagger(k',k) and evaluate integrand with dk' k'^2 dk k^2\n",
    "    delUdag_1S0_func = interpolate_deltaU_dagger(kvnn, '1S0', lamb, kmax,\n",
    "                                                 kmid, ntot, generator)\n",
    "    delUdag_1S0_grid = delUdag_1S0_func(k_array, k_array)\n",
    "    delUdag_3S1_func = interpolate_deltaU_dagger(kvnn, '3S1', lamb, kmax,\n",
    "                                                 kmid, ntot, generator)\n",
    "    delUdag_3S1_grid = delUdag_3S1_func(k_array, k_array)\n",
    "    \n",
    "    dkp_grid, dk_grid = np.meshgrid(k_array**2 * k_weights,\n",
    "                                    k_array**2 * k_weights, indexing='ij')\n",
    "    \n",
    "    integrand = (\n",
    "        (pppp_kp_k_grid * delUdag_1S0_grid + 0.5 * pnpn_kp_k_grid \n",
    "         * (delUdag_1S0_grid+3*delUdag_3S1_grid))\n",
    "    ) * dkp_grid * dk_grid\n",
    "    \n",
    "    # Integrate over k and kp -> reduced to a number at this point\n",
    "    return np.sum(np.sum(integrand, axis=-1), axis=-1)"
   ]
  },
  {
   "cell_type": "code",
   "execution_count": 24,
   "id": "5a61df7f",
   "metadata": {},
   "outputs": [
    {
     "data": {
      "text/plain": [
       "-0.06668886494761395"
      ]
     },
     "execution_count": 24,
     "metadata": {},
     "output_type": "execute_result"
    }
   ],
   "source": [
    "compute_deltaU_dagger_term(6, 1.35)"
   ]
  },
  {
   "cell_type": "code",
   "execution_count": 25,
   "id": "fa95b387",
   "metadata": {},
   "outputs": [
    {
     "data": {
      "text/plain": [
       "-0.03213484766019262"
      ]
     },
     "execution_count": 25,
     "metadata": {},
     "output_type": "execute_result"
    }
   ],
   "source": [
    "compute_deltaU_dagger_term(6, 2.0)"
   ]
  },
  {
   "cell_type": "code",
   "execution_count": 26,
   "id": "8a89971c",
   "metadata": {
    "code_folding": [
     0
    ]
   },
   "outputs": [],
   "source": [
    "def spectroscopic_overlap(kvnn, lamb, kmax=15.0, kmid=3.0, ntot=120,\n",
    "                          generator='Wegner', sanity_check=False):\n",
    "    \"\"\"Compute the spectroscopic overlap.\"\"\"\n",
    "    \n",
    "    # Give an option to set \\delta U^\\dagger term to zero for sanity check\n",
    "    if sanity_check:\n",
    "        delUdag_term = 0.0\n",
    "    else:\n",
    "        delUdag_term = compute_deltaU_dagger_term(kvnn, lamb, kmax, kmid, ntot,\n",
    "                                                  generator)\n",
    "        \n",
    "    # Get s.p. wave function for 1s_1/2 proton in He4\n",
    "    q_array, q_weights, phi_array = get_phi_kspace('He4', 2, 2, 'proton',\n",
    "                                                   '1s0p5')\n",
    "    \n",
    "    # Y_00(\\qhat) is simple\n",
    "    Y_00 = 1/np.sqrt(4*np.pi)\n",
    "    \n",
    "    # Sum I and \\delta U^\\dagger terms and tack on \\phi(q) Y_00(\\qhat)\n",
    "    return q_array, q_weights, Y_00 * phi_array * (1 + delUdag_term)"
   ]
  },
  {
   "cell_type": "code",
   "execution_count": 27,
   "id": "b4c0d872",
   "metadata": {
    "code_folding": [
     0
    ]
   },
   "outputs": [],
   "source": [
    "def spectroscopic_factor(kvnn, lamb, kmax=15.0, kmid=3.0, ntot=120,\n",
    "                         generator='Wegner', sanity_check=False):\n",
    "    \"\"\"Compute the normalization of the spectroscopic overlap.\"\"\"\n",
    "    \n",
    "    # Get the spectroscopic overlap and momenta (with weights)\n",
    "    q_array, q_weights, overlap_array = spectroscopic_overlap(\n",
    "        kvnn, lamb, kmax, kmid, ntot, generator, sanity_check\n",
    "    )\n",
    "    \n",
    "    return 4 * np.pi * np.sum(q_weights * q_array**2 * abs(overlap_array)**2)"
   ]
  },
  {
   "cell_type": "code",
   "execution_count": 28,
   "id": "8340b238",
   "metadata": {},
   "outputs": [
    {
     "data": {
      "text/plain": [
       "2.0000000014731905"
      ]
     },
     "execution_count": 28,
     "metadata": {},
     "output_type": "execute_result"
    }
   ],
   "source": [
    "2*spectroscopic_factor(6, 1.35, sanity_check=True)"
   ]
  },
  {
   "cell_type": "code",
   "execution_count": 29,
   "id": "3c81eb0d",
   "metadata": {},
   "outputs": [
    {
     "data": {
      "text/plain": [
       "1.742139350908798"
      ]
     },
     "execution_count": 29,
     "metadata": {},
     "output_type": "execute_result"
    }
   ],
   "source": [
    "2*spectroscopic_factor(6, 1.35)"
   ]
  },
  {
   "cell_type": "code",
   "execution_count": 30,
   "id": "a0c9aa2f",
   "metadata": {},
   "outputs": [
    {
     "data": {
      "text/plain": [
       "1.8735259076075474"
      ]
     },
     "execution_count": 30,
     "metadata": {},
     "output_type": "execute_result"
    }
   ],
   "source": [
    "2*spectroscopic_factor(6, 2.0)"
   ]
  },
  {
   "cell_type": "code",
   "execution_count": 31,
   "id": "86eb8c2c",
   "metadata": {
    "code_folding": [
     0
    ]
   },
   "outputs": [],
   "source": [
    "def plot_spectroscopic_overlap(\n",
    "        q_array, q_weights, overlap_array, x_limits=(0.0,10.0),\n",
    "        y_limits=(1e-5,1e2), y_scale='log', show_vmc=False, save=False):\n",
    "    \"\"\"Plot the spectrosopic overlap as a function of momentum q.\"\"\"\n",
    "\n",
    "    # Initialize figure\n",
    "    plt.close('all')\n",
    "    f, ax = plt.subplots(figsize=(4, 4))\n",
    "\n",
    "    factor = np.sqrt(4 * np.pi * 2 * (2*np.pi)**3)\n",
    "    \n",
    "    # Plot just the proton overlap\n",
    "    if y_scale == 'log':\n",
    "        ax.set_yscale('log')\n",
    "    else:\n",
    "        ax.set_yscale('linear')\n",
    "    \n",
    "    # Compare to VMC calculation?\n",
    "    if show_vmc:\n",
    "        data = get_vmc_data()\n",
    "        q_array_vmc = data[:,0]\n",
    "        overlap_array_vmc = data[:,1]\n",
    "        ax.plot(q_array_vmc, abs(overlap_array_vmc), label='VMC', linewidth=2.0)\n",
    "    \n",
    "    # Take absolute value\n",
    "    ax.plot(q_array, abs(overlap_array)*factor, label=label_sp_state('1s0p5'),\n",
    "            linewidth=2.0)\n",
    "    \n",
    "    # TESTING\n",
    "    print(1/(2*np.pi)**3*np.sum(q_weights*q_array**2*overlap_array**2*factor**2))\n",
    "\n",
    "    # Set axes limits\n",
    "    ax.set_xlim(x_limits)\n",
    "    ax.set_ylim(y_limits)\n",
    "\n",
    "    # Set axes labels\n",
    "    ax.set_xlabel(r\"$q$ [fm\" + r'$^{-1}$' + ']', fontsize=16)\n",
    "    ax.set_ylabel(r\"$A(q)$ [fm\" + r'$^{3/2}$' + ']', fontsize=16)\n",
    "\n",
    "    # Set legend\n",
    "    ax.legend(loc='upper right', fontsize=14, frameon=False)\n",
    "\n",
    "    # Add nucleus label\n",
    "    ax.add_artist(\n",
    "        AnchoredText(label_nucleus(nucleus_name), loc='center right',\n",
    "                     prop=dict(size=18), frameon=False)\n",
    "    )\n",
    "    \n",
    "    # Save?\n",
    "    if save:\n",
    "        file_name = f'{nucleus_name}_overlap_{kvnn}_{lamb}_SLy4.png'\n",
    "        f.savefig(figures_directory + file_name)"
   ]
  },
  {
   "cell_type": "code",
   "execution_count": 32,
   "id": "ac74b9a0",
   "metadata": {},
   "outputs": [
    {
     "name": "stdout",
     "output_type": "stream",
     "text": [
      "1.742139350908798\n"
     ]
    },
    {
     "data": {
      "image/png": "[encoded data removed]",
      "text/plain": [
       "<Figure size 600x600 with 1 Axes>"
      ]
     },
     "metadata": {},
     "output_type": "display_data"
    }
   ],
   "source": [
    "q_array, q_weights, overlap_array = spectroscopic_overlap(6, 1.35)\n",
    "plot_spectroscopic_overlap(q_array, q_weights, overlap_array, show_vmc=True)"
   ]
  },
  {
   "cell_type": "markdown",
   "id": "322bb8de",
   "metadata": {},
   "source": [
    "__Second approach:__ Different calculation to get two-body operator using plane wave basis first, then switching to s.p. basis."
   ]
  },
  {
   "cell_type": "code",
   "execution_count": 33,
   "id": "3da83d87",
   "metadata": {
    "code_folding": [
     0
    ]
   },
   "outputs": [],
   "source": [
    "def spectroscopic_overlap_v2(kvnn, lamb, kmax=15.0, kmid=3.0, ntot=120,\n",
    "                             generator='Wegner', sanity_check=False):\n",
    "    \"\"\"Compute the spectroscopic overlap.\"\"\"\n",
    "    \n",
    "    # Initialize momentum and angle meshes\n",
    "    q_array, q_weights = momentum_mesh(10.0, 2.0, 120)  # s.p. momenta\n",
    "    k_array, k_weights = momentum_mesh(10.0, 2.0, 120)  # Relative momenta\n",
    "    K_array, K_weights = gaussian_quadrature_mesh(2.0, 40)  # CoM momenta\n",
    "    x_array, x_weights = leggauss(7)  # Angles between q and K (or K and k)\n",
    "    \n",
    "    # Get meshgrids for q, k, and K (weights too)\n",
    "    q_grid, k_grid, K_grid = np.meshgrid(q_array, k_array, K_array,\n",
    "                                         indexing='ij')\n",
    "    _, dk_grid, dK_grid = np.meshgrid(\n",
    "        q_array, k_array**2 * k_weights, K_array**2 * K_weights, indexing='ij'\n",
    "    )\n",
    "    \n",
    "    # Get s.p. wave functions\n",
    "    phi_p_func = interpolate_phi_kspace('proton')\n",
    "    phi_n_func = interpolate_phi_kspace('neutron')\n",
    "    \n",
    "    # Get \\delta U^\\dagger function and evaluate at (|\\qvec-\\Kvec/2|, k)\n",
    "    delUdag_1S0_func = interpolate_deltaU_dagger(kvnn, '1S0', lamb, kmax,\n",
    "                                                 kmid, ntot, generator)\n",
    "    delUdag_3S1_func = interpolate_deltaU_dagger(\n",
    "        kvnn, '3S1', lamb, kmax, kmid, ntot, generator\n",
    "    )\n",
    "    \n",
    "    # Initialize integrand\n",
    "    integrand_k_K = np.zeros_like(q_grid)\n",
    "    \n",
    "    # Do angle-averaging integrals\n",
    "    for x, dx in zip(x_array, x_weights):\n",
    "        \n",
    "        K_minus_q = np.sqrt(K_grid**2 + q_grid**2 - 2*K_grid*q_grid*x)\n",
    "        q_minus_K_over_two = np.sqrt(q_grid**2 + K_grid**2/4 + K_grid*q_grid*x)\n",
    "        \n",
    "        phi_p_K_minus_q = phi_p_func(K_minus_q)\n",
    "        phi_n_K_minus_q = phi_n_func(K_minus_q)\n",
    "        \n",
    "        delUdag_1S0_grid = delUdag_1S0_func.ev(q_minus_K_over_two, k_grid)\n",
    "        delUdag_3S1_grid = delUdag_3S1_func.ev(q_minus_K_over_two, k_grid)\n",
    "        \n",
    "        for y, dy in zip(x_array, x_weights):\n",
    "            \n",
    "            K_over_two_plus_k = np.sqrt(\n",
    "                K_grid**2/4 + k_grid**2 + K_grid*k_grid*y\n",
    "            )\n",
    "            K_over_two_minus_k = np.sqrt(\n",
    "                K_grid**2/4 + k_grid**2 - K_grid*k_grid*y\n",
    "            )\n",
    "            \n",
    "            phi_p_K_over_two_plus_k = phi_p_func(K_over_two_plus_k)\n",
    "            phi_p_K_over_two_minus_k = phi_p_func(K_over_two_minus_k)\n",
    "            phi_n_K_over_two_minus_k = phi_n_func(K_over_two_minus_k)\n",
    "            \n",
    "            integrand_k_K += dx/2 * dy/2 * phi_p_K_over_two_plus_k * (\n",
    "                phi_p_K_minus_q * phi_p_K_over_two_minus_k * delUdag_1S0_grid\n",
    "                + 0.5 * phi_n_K_minus_q * phi_n_K_over_two_minus_k\n",
    "                * (delUdag_1S0_grid + 3*delUdag_3S1_grid)\n",
    "            )\n",
    "            \n",
    "    # Integrate over K and k\n",
    "    deltaU_dag_term = np.sum(\n",
    "        np.sum(dk_grid * dK_grid * integrand_k_K, axis=-1), axis=-1\n",
    "    )\n",
    "\n",
    "    # Give an option to set \\delta U^\\dagger term to zero for sanity check\n",
    "    if sanity_check:\n",
    "        deltaU_dag_term = np.zeros_like(q_array)\n",
    "    \n",
    "    # Integrate over k and add to \\phi_p(q) for full spectroscopic overlap\n",
    "    return q_array, q_weights, 1/np.sqrt(4*np.pi) * (\n",
    "        phi_p_func(q_array) + 2*deltaU_dag_term\n",
    "    )"
   ]
  },
  {
   "cell_type": "code",
   "execution_count": 34,
   "id": "09b1b802",
   "metadata": {
    "code_folding": [
     0
    ]
   },
   "outputs": [],
   "source": [
    "def spectroscopic_factor_v2(kvnn, lamb, kmax=15.0, kmid=3.0, ntot=120,\n",
    "                            generator='Wegner', sanity_check=False):\n",
    "    \"\"\"Compute the normalization of the spectroscopic overlap.\"\"\"\n",
    "    \n",
    "    # Get the spectroscopic overlap and momenta (with weights)\n",
    "    q_array, q_weights, overlap_array = spectroscopic_overlap_v2(\n",
    "        kvnn, lamb, kmax, kmid, ntot, generator, sanity_check\n",
    "    )\n",
    "    \n",
    "    return 4 * np.pi * np.sum(q_weights * q_array**2 * abs(overlap_array)**2)"
   ]
  },
  {
   "cell_type": "code",
   "execution_count": 35,
   "id": "a6060f85",
   "metadata": {},
   "outputs": [
    {
     "data": {
      "text/plain": [
       "1.0015663675253905"
      ]
     },
     "execution_count": 35,
     "metadata": {},
     "output_type": "execute_result"
    }
   ],
   "source": [
    "spectroscopic_factor_v2(6, 1.35, sanity_check=True)"
   ]
  },
  {
   "cell_type": "code",
   "execution_count": 36,
   "id": "9734574a",
   "metadata": {},
   "outputs": [
    {
     "data": {
      "text/plain": [
       "1.1387345187432543"
      ]
     },
     "execution_count": 36,
     "metadata": {},
     "output_type": "execute_result"
    }
   ],
   "source": [
    "spectroscopic_factor_v2(6, 1.35)"
   ]
  },
  {
   "cell_type": "code",
   "execution_count": 37,
   "id": "09305821",
   "metadata": {},
   "outputs": [
    {
     "data": {
      "text/plain": [
       "0.9659994673596157"
      ]
     },
     "execution_count": 37,
     "metadata": {},
     "output_type": "execute_result"
    }
   ],
   "source": [
    "spectroscopic_factor_v2(6, 2.0)"
   ]
  },
  {
   "cell_type": "code",
   "execution_count": 38,
   "id": "bc5d4705",
   "metadata": {},
   "outputs": [
    {
     "name": "stdout",
     "output_type": "stream",
     "text": [
      "2.2774690374865085\n"
     ]
    },
    {
     "data": {
      "image/png": "[encoded data removed]",
      "text/plain": [
       "<Figure size 600x600 with 1 Axes>"
      ]
     },
     "metadata": {},
     "output_type": "display_data"
    }
   ],
   "source": [
    "# Plot spectroscopic overlap\n",
    "q_array, q_weights, overlap_array = spectroscopic_overlap_v2(6, 1.35)\n",
    "plot_spectroscopic_overlap(q_array, q_weights, overlap_array, show_vmc=True)"
   ]
  },
  {
   "cell_type": "markdown",
   "id": "718a6766",
   "metadata": {},
   "source": [
    "__Third approach:__ This is the same as the first approach but using Monte Carlo integration for the integrals over momenta."
   ]
  },
  {
   "cell_type": "markdown",
   "id": "e08fcfa6",
   "metadata": {},
   "source": [
    "_Observations:_\n",
    "* The spherical harmonics can be complex but it appears `vegas` only takes real-valued functions.\n",
    "* Looping over $\\theta_q$ and $\\phi_q$ slows down the calculation quite a bit. We can simplify for knocking out to $s$-wave states; however, this is not the most general way.\n",
    "* I think the CG function is slowing down the calculation quite a bit (see `test_vegas.ipynb`). How about building a dictionary for all combinations of $j_1$, $m_{j_1}$, $j_2$, $m_{j_2}$, $j_3$, and $m_{j_3}$? E.g., call `self.cg_table[(j_1, m_1, j_2, m_2, j_3, m_3)]`, which corresponds to `float(CG(j_1, m_1, j_2, m_2, j_3, m_3).doit())`."
   ]
  },
  {
   "cell_type": "code",
   "execution_count": 46,
   "id": "e943b521",
   "metadata": {
    "code_folding": [
     28,
     55,
     64
    ]
   },
   "outputs": [],
   "source": [
    "class SpectroscopicOverlap:\n",
    "    \n",
    "    # relies on a function outside the class...\n",
    "    def __init__(self, channels, kvnn, lamb, kmax=15.0, kmid=3.0, ntot=120,\n",
    "                 generator='Wegner'):\n",
    "        \n",
    "        self.channels = channels\n",
    "        \n",
    "        # Set arrays for quantum numbers\n",
    "        self.spins = np.array([1/2, -1/2])\n",
    "        self.isospins = self.spins\n",
    "        self.total_spins = np.array([1, 0, -1])\n",
    "        self.betas = ['1s0p5']  # This should go beyond F\n",
    "        self.gammas = ['1s0p5']\n",
    "        \n",
    "        # Set interpolating functions for s.p. wave functions \\phi\n",
    "        self.phi_p_func = interpolate_phi_kspace('proton')\n",
    "        self.phi_n_func = interpolate_phi_kspace('neutron')\n",
    "    \n",
    "        # Set interpolating functions for \\delta U^\\dagger\n",
    "        self.deltaU_dag_func_1S0 = interpolate_deltaU_dagger(\n",
    "            kvnn, '1S0', lamb, kmax, kmid, ntot, generator\n",
    "        )\n",
    "        self.deltaU_dag_func_3S1_3S1 = interpolate_deltaU_dagger(\n",
    "            kvnn, '3S1', lamb, kmax, kmid, ntot, generator\n",
    "        )\n",
    "        # self.deltaU_dag_func_3S1_3D1 = None\n",
    "        \n",
    "        # Calculate all possible Clebsch-Gordan coefficients\n",
    "        self.cg_table = self.get_cg_table()\n",
    "    \n",
    "    def get_channel_quantum_numbers(self, channel):\n",
    "    \n",
    "        S = int((int(channel[0])-1)/2)\n",
    "        J = int(channel[2])\n",
    "    \n",
    "        if channel[1] == 'S':\n",
    "            Lp = 0\n",
    "        elif channel[1] == 'P':\n",
    "            Lp = 1\n",
    "        else:\n",
    "            Lp = 2\n",
    "    \n",
    "        if len(channel) > 3:\n",
    "        \n",
    "            if channel[5] == 'S':\n",
    "                L = 0\n",
    "            elif channel[5] == 'P':\n",
    "                L = 1\n",
    "            else:\n",
    "                L = 2\n",
    "            \n",
    "        else:\n",
    "        \n",
    "            L = Lp\n",
    "            \n",
    "        return S, Lp, L, J\n",
    "    \n",
    "    def get_total_isospin(self, S, L):\n",
    "    \n",
    "        if (1-(-1)**(L+S)) == 0:\n",
    "            T = 1\n",
    "        else:\n",
    "            T = 0\n",
    "        \n",
    "        return T\n",
    "    \n",
    "    def get_sp_quantum_numbers(self, sp_state):\n",
    "    \n",
    "        n = int(sp_state[0])\n",
    "    \n",
    "        if sp_state[1] == 's':\n",
    "            l = 0\n",
    "        elif sp_state[1] == 'p':\n",
    "            l = 1\n",
    "        elif sp_state[1] == 'd':\n",
    "            l = 2\n",
    "        else:\n",
    "            l = 3\n",
    "        \n",
    "        j_str = sp_state[2:]\n",
    "        if j_str == '0p5':\n",
    "            j = 1/2\n",
    "        elif j_str == '1p5':\n",
    "            j = 3/2\n",
    "        else:\n",
    "            j = 5/2\n",
    "        \n",
    "        return n, l, j\n",
    "    \n",
    "    def get_cg_table(self):\n",
    "        \n",
    "        cg_table = {}\n",
    "        \n",
    "        # Get largest possible j value\n",
    "        j_max = 3\n",
    "        j_array = np.arange(0, j_max+1/2, 1/2)\n",
    "\n",
    "        for j_1 in j_array:\n",
    "            for m_1 in np.arange(-j_1, j_1+1, 1):\n",
    "                for j_2 in j_array:\n",
    "                    for m_2 in np.arange(-j_2, j_2+1, 1):\n",
    "                        for j_3 in j_array:\n",
    "                            for m_3 in np.arange(-j_3, j_3+1, 1):\n",
    "                                cg_table[(j_1,m_1,j_2,m_2,j_3,m_3)] = float(\n",
    "                                    CG(j_1,m_1,j_2,m_2,j_3,m_3).doit()\n",
    "                                )\n",
    "                                \n",
    "        return cg_table\n",
    "        \n",
    "    def delta_U_dagger_integrand(self, x):\n",
    "\n",
    "        # \\tau_\\beta is fixed to \\tau_\\alpha\n",
    "        tau_beta = self.tau_alpha\n",
    "        \n",
    "        k1, theta1, phi1 = x[:3]\n",
    "        k1_vector = np.array([k1*np.sin(theta1)*np.cos(phi1),\n",
    "                              k1*np.sin(theta1)*np.sin(phi1),\n",
    "                              k1*np.cos(theta1)])\n",
    "        \n",
    "        k2, theta2, phi2 = x[3:6]\n",
    "        k2_vector = np.array([k2*np.sin(theta2)*np.cos(phi2),\n",
    "                              k2*np.sin(theta2)*np.sin(phi2),\n",
    "                              k2*np.cos(theta2)])\n",
    "        \n",
    "        k3, theta3, phi3 = x[6:]\n",
    "        k3_vector = np.array([k3*np.sin(theta3)*np.cos(phi3),\n",
    "                              k3*np.sin(theta3)*np.sin(phi3),\n",
    "                              k3*np.cos(theta3)])\n",
    "        \n",
    "        # Calculate the Jacobian determinant\n",
    "        jacobian = (k1**2 * np.sin(theta1) * k2**2 * np.sin(theta2) * k3**2 \n",
    "                    * np.sin(theta3))\n",
    "        \n",
    "        # Compute k_4 vector and each of its components\n",
    "        k4_vector = k1_vector + k2_vector - k3_vector\n",
    "        k4 = la.norm(k4_vector)\n",
    "        theta4 = np.arccos(k4_vector[2]/k4)\n",
    "        phi4 = np.arctan2(k4_vector[1], k4_vector[0])\n",
    "        \n",
    "        # Compute k' vector and each of its components\n",
    "        kp_vector = (k1_vector-k2_vector)/2\n",
    "        kp = la.norm(kp_vector)\n",
    "        thetap = np.arccos(kp_vector[2]/kp)\n",
    "        phip = np.arctan2(kp_vector[1], kp_vector[0])\n",
    "        \n",
    "        # Compute k vector and each of its components\n",
    "        k_vector = (k3_vector-k4_vector)/2\n",
    "        k = la.norm(k_vector)\n",
    "        theta = np.arccos(k_vector[2]/k)\n",
    "        phi = np.arctan2(k_vector[1], k_vector[0])\n",
    "\n",
    "        # Compute \\phi_\\alpha(k3)\n",
    "        if self.tau_alpha == 1/2:\n",
    "            phi_alpha = self.phi_p_func(k3)\n",
    "        elif self.tau_alpha == -1/2:\n",
    "            phi_alpha = self.phi_n_func(k3)\n",
    "            \n",
    "        integrand = 0\n",
    "        # integrand = 0+0j\n",
    "\n",
    "        # Loop over channels\n",
    "        for channel in self.channels:\n",
    "    \n",
    "            # Determine L', L, S, J, T\n",
    "            S, Lp, L, J = self.get_channel_quantum_numbers(channel)\n",
    "            T = self.get_total_isospin(S, Lp)\n",
    "    \n",
    "            total_angular_momentum_projections = np.arange(-J, J+1, 1)\n",
    "            total_isospin_projections = np.intersect1d(\n",
    "                np.arange(-T, T+1, 1), self.tau_alpha - self.isospins\n",
    "            )\n",
    "    \n",
    "            # Compute 1-(-1)^(L'+S+T) and 1-(-1)^(L+S+T) factors\n",
    "            factor = (1-(-1)**(Lp+S+T)) * (1-(-1)**(L+S+T))\n",
    "    \n",
    "            # Compute \\delta U^\\dagger(k', k) (make a function for this)\n",
    "            if channel[:3] == '1S0':\n",
    "                delta_U_dagger = self.deltaU_dag_func_1S0.ev(kp, k)\n",
    "            elif channel[:3] == '3S1':\n",
    "                if channel[-3:] == '3S1':\n",
    "                    delta_U_dagger = self.deltaU_dag_func_3S1_3S1.ev(kp, k)\n",
    "                else:\n",
    "                    delta_U_dagger = self.deltaU_dag_func_3S1_3D1.ev(kp, k)\n",
    "            elif channel[:3] == '3D1':\n",
    "                if channel[-3:] == '3S1':\n",
    "                    delta_U_dagger = self.deltaU_dag_func_3D1_3S1.ev(kp, k)\n",
    "                else:\n",
    "                    delta_U_dagger = self.deltaU_dag_func_3D1_3D1.ev(kp, k)\n",
    "    \n",
    "            # Loop over M_T\n",
    "            for M_T in total_isospin_projections:\n",
    "    \n",
    "                # Determine \\tau_\\gamma (\\tau_\\alpha already known)\n",
    "                tau_gamma = M_T - tau_beta\n",
    "\n",
    "                # Compute < \\tau_\\beta \\tau_\\gamma | T M_T >\n",
    "#                 isospin_cg_beta_gamma = float(\n",
    "#                     CG(0.5, tau_beta, 0.5, tau_gamma, T, M_T).doit()\n",
    "#                 )\n",
    "                isospin_cg_beta_gamma = self.cg_table[(\n",
    "                    0.5, tau_beta, 0.5, tau_gamma, T, M_T\n",
    "                )]\n",
    "        \n",
    "                # Compute < T M_T | \\tau_\\alpha \\tau_\\gamma >\n",
    "#                 isospin_cg_alpha_gamma = float(\n",
    "#                     CG(0.5, self.tau_alpha, 0.5, tau_gamma, T, M_T).doit()\n",
    "#                 )\n",
    "                isospin_cg_alpha_gamma = self.cg_table[(\n",
    "                    0.5, self.tau_alpha, 0.5, tau_gamma, T, M_T\n",
    "                )]\n",
    "        \n",
    "                for beta in self.betas:\n",
    "\n",
    "                    # Determine n_\\beta, l_\\beta, j_\\beta\n",
    "                    n_beta, l_beta, j_beta = self.get_sp_quantum_numbers(beta)\n",
    "            \n",
    "                    # Compute \\phi_\\beta(k1), \\phi_\\beta(q)\n",
    "                    if tau_beta == 1/2:\n",
    "                        phi_beta_conj = self.phi_p_func(k1)\n",
    "                        phi_beta = self.phi_p_func(self.q)\n",
    "                    elif tau_beta == -1/2:\n",
    "                        phi_beta_conj = self.phi_n_func(k1)\n",
    "                        phi_beta = self.phi_n_func(self.q)\n",
    "            \n",
    "                    # Loop over \\gamma\n",
    "                    for gamma in self.gammas:\n",
    "            \n",
    "                        # Determine n_\\gamma, l_\\gamma, j_\\gamma\n",
    "                        n_gamma, l_gamma, j_gamma = self.get_sp_quantum_numbers(\n",
    "                            gamma\n",
    "                        )\n",
    "                \n",
    "                        # Compute \\phi_\\gamma(k2), \\phi_\\gamma(k4)\n",
    "                        if tau_gamma == 1/2:\n",
    "                            phi_gamma_conj = self.phi_p_func(k2)\n",
    "                            phi_gamma = self.phi_p_func(k4)\n",
    "                        elif tau_gamma == -1/2:\n",
    "                            phi_gamma_conj = self.phi_n_func(k2)\n",
    "                            phi_gamma = self.phi_n_func(k4)\n",
    "                \n",
    "                        # Loop over m_l_\\alpha\n",
    "                        m_l_alphas = np.intersect1d(\n",
    "                            np.arange(-self.l_alpha, self.l_alpha+1, 1),\n",
    "                            self.m_j_alpha - self.spins\n",
    "                        )\n",
    "                        for m_l_alpha in m_l_alphas:\n",
    "\n",
    "                            # Compute Y_{l_\\alpha m_l_\\alpha}(k3)\n",
    "                            Y_alpha = sph_harm(m_l_alpha, self.l_alpha, phi3,\n",
    "                                               theta3)\n",
    "                    \n",
    "                            # Determine \\sigma_\\alpha\n",
    "                            sigma_alpha = self.m_j_alpha - m_l_alpha\n",
    "                    \n",
    "                            # Compute < l_\\alpha m_l_\\alpha 1/2 \\sigma_\\alpha | j_\\alpha m_j_\\alpha >\n",
    "#                             alpha_cg = float(\n",
    "#                                 CG(self.l_alpha, m_l_alpha, 1/2, sigma_alpha,\n",
    "#                                    self.j_alpha, self.m_j_alpha).doit()\n",
    "#                             )\n",
    "                            alpha_cg = self.cg_table[(\n",
    "                                self.l_alpha, m_l_alpha, 1/2, sigma_alpha,\n",
    "                                self.j_alpha, self.m_j_alpha\n",
    "                            )]\n",
    "                    \n",
    "                            # Loop over m_j_\\beta\n",
    "                            for m_j_beta in np.arange(-j_beta, j_beta+1, 1):\n",
    "                \n",
    "                                # Loop over m_l_\\beta'\n",
    "                                m_l_betas = np.intersect1d(\n",
    "                                    np.arange(-l_beta, l_beta+1, 1),\n",
    "                                    m_j_beta - self.spins\n",
    "                                )\n",
    "                                for m_l_betap in m_l_betas:\n",
    "                    \n",
    "                                    # Compute Y_{l_\\beta m_l_\\beta'}(k1)\n",
    "                                    Y_betap = sph_harm(m_l_betap, l_beta, phi1,\n",
    "                                                       theta1)\n",
    "                        \n",
    "                                    # Determine \\sigma_\\beta'\n",
    "                                    sigma_betap = m_j_beta - m_l_betap\n",
    "                            \n",
    "                                    # Compute < j_\\beta m_j_\\beta | l_\\beta m_l_\\beta' 1/2 \\sigma_\\beta' >\n",
    "#                                     betap_cg = float(\n",
    "#                                         CG(l_beta, m_l_betap, 1/2, sigma_betap,\n",
    "#                                            j_beta, m_j_beta).doit()\n",
    "#                                     )\n",
    "                                    betap_cg = self.cg_table[(\n",
    "                                        l_beta, m_l_betap, 1/2, sigma_betap,\n",
    "                                        j_beta, m_j_beta\n",
    "                                    )]\n",
    "                \n",
    "                                    # Loop over m_l_\\beta\n",
    "                                    for m_l_beta in m_l_betas:\n",
    "                        \n",
    "                                        # Compute Y_{l_\\beta m_l_\\beta}(q)\n",
    "                                        Y_beta = sph_harm(\n",
    "                                            m_l_beta, l_beta, self.phi_q,\n",
    "                                            self.theta_q)\n",
    "                            \n",
    "                                        # Determine \\sigma_\\beta\n",
    "                                        sigma_beta = m_j_beta - m_l_beta\n",
    "                                \n",
    "                                        # Compute < l_\\beta m_l_\\beta 1/2 \\sigma_\\beta | j_\\beta m_j_\\beta >\n",
    "#                                         beta_cg = float(\n",
    "#                                             CG(\n",
    "#                                                 l_beta, m_l_beta, 1/2,\n",
    "#                                                 sigma_beta, j_beta,m_j_beta\n",
    "#                                             ).doit()\n",
    "#                                         )\n",
    "                                        beta_cg = self.cg_table[(\n",
    "                                            l_beta, m_l_beta, 1/2, sigma_beta,\n",
    "                                            j_beta, m_j_beta\n",
    "                                        )]\n",
    "                            \n",
    "                                        # Loop over m_j_\\gamma\n",
    "                                        for m_j_gamma in np.arange(-j_gamma, j_gamma+1, 1):\n",
    "                            \n",
    "                                            # Loop over m_l_\\gamma'\n",
    "                                            m_l_gammas = np.intersect1d(\n",
    "                                                np.arange(-l_gamma,l_gamma+1,1),\n",
    "                                                m_j_gamma - self.spins\n",
    "                                            )\n",
    "                                            for m_l_gammap in m_l_gammas:\n",
    "                                \n",
    "                                                # Compute Y_{l_\\gamma m_l_\\gamma'}(k2)\n",
    "                                                Y_gammap = sph_harm(\n",
    "                                                    m_l_gammap, l_gamma, phi2,\n",
    "                                                    theta2\n",
    "                                                )\n",
    "                                    \n",
    "                                                # Determine \\sigma_\\gamma'\n",
    "                                                sigma_gammap = m_j_gamma - m_l_gammap\n",
    "                                        \n",
    "                                                # Compute < j_\\gamma m_j_\\gamma | l_\\gamma m_l_\\gamma' 1/2 \\sigma_\\gamma' >\n",
    "#                                                 gammap_cg = float(\n",
    "#                                                     CG(l_gamma, m_l_gammap, 1/2,\n",
    "#                                                        sigma_gammap, j_gamma,\n",
    "#                                                        m_j_gamma).doit()\n",
    "#                                                 )\n",
    "                                                gammap_cg = self.cg_table[(\n",
    "                                                    l_gamma, m_l_gammap, 1/2,\n",
    "                                                    sigma_gammap, j_gamma,\n",
    "                                                    m_j_gamma\n",
    "                                                )]\n",
    "                                        \n",
    "                                                # Loop over m_l_\\gamma\n",
    "                                                for m_l_gamma in m_l_gammas:\n",
    "\n",
    "                                                    # Compute Y_{l_\\gamma m_l_\\gamma}(k4)\n",
    "                                                    Y_gamma = sph_harm(\n",
    "                                                        m_l_gamma, l_gamma,\n",
    "                                                        phi4, theta4\n",
    "                                                    )\n",
    "                                        \n",
    "                                                    # Determine \\sigma_\\gamma\n",
    "                                                    sigma_gamma = m_j_gamma - m_l_gamma\n",
    "                                        \n",
    "                                                    # Compute < l_\\gamma m_l_\\gamma 1/2 \\sigma_\\gamma | j_\\gamma m_j_\\gamma >\n",
    "#                                                     gamma_cg = float(\n",
    "#                                                         CG(l_gamma, m_l_gamma, 1/2, sigma_gamma, j_gamma, m_j_gamma).doit()\n",
    "#                                                     )\n",
    "                                                    gamma_cg = self.cg_table[(\n",
    "                                                        l_gamma, m_l_gamma, 1/2,\n",
    "                                                        sigma_gamma, j_gamma,\n",
    "                                                        m_j_gamma\n",
    "                                                    )]\n",
    "                                        \n",
    "                                                    # Loop over M_J and M_L\n",
    "                                                    for M_J in total_angular_momentum_projections:\n",
    "                                                        for M_L in np.arange(-L, L+1, 1):\n",
    "                                            \n",
    "                                                            # Determine M_L'\n",
    "                                                            M_Lp = M_L\n",
    "                                                \n",
    "                                                            # Compute Y_{L' M_L'}(k')\n",
    "                                                            Y_Lp = sph_harm(\n",
    "                                                                M_Lp, Lp, phip,\n",
    "                                                                thetap\n",
    "                                                            )\n",
    "                                                            # Compute Y_{L M_L}(k)\n",
    "                                                            Y_L = sph_harm(\n",
    "                                                                M_L, L, phi,\n",
    "                                                                theta\n",
    "                                                            )\n",
    "                                                \n",
    "                                                            # Determine M_S\n",
    "                                                            M_S = M_J - M_L\n",
    "                                                \n",
    "                                                            # Compute < \\sigma_\\beta' \\sigma_\\gamma' | S M_S >\n",
    "#                                                             spin_cg_betap_gammap = float(\n",
    "#                                                                 CG(1/2, sigma_betap, 1/2, sigma_gammap, S, M_S).doit()\n",
    "#                                                             )\n",
    "                                                            spin_cg_betap_gammap = self.cg_table[(\n",
    "                                                                1/2, sigma_betap, 1/2, sigma_gammap, S, M_S\n",
    "                                                            )]\n",
    "                                        \n",
    "                                                            # Compute < S M_S | \\sigma_\\alpha \\sigma_\\gamma >\n",
    "#                                                             spin_cg_alpha_gamma = float(\n",
    "#                                                                 CG(1/2, sigma_alpha, 1/2, sigma_gamma, S, M_S).doit()\n",
    "#                                                             )\n",
    "                                                            spin_cg_alpha_gamma = self.cg_table[(\n",
    "                                                                1/2, sigma_alpha, 1/2, sigma_gamma, S, M_S\n",
    "                                                            )]\n",
    "                                                            # Note, these last two CG's can be zero!\n",
    "                                                \n",
    "                                                            # Compute < L' M_L' S M_S | J M_J >\n",
    "#                                                             Lp_S_J_cg = float(\n",
    "#                                                                 CG(Lp, M_Lp, S, M_S, J, M_J).doit()\n",
    "#                                                             )\n",
    "                                                            Lp_S_J_cg = self.cg_table[(\n",
    "                                                                Lp, M_Lp, S, M_S, J, M_J\n",
    "                                                            )]\n",
    "                                \n",
    "                                                            # Calculate < J M_J | L M_L S M_S >\n",
    "#                                                             L_S_J_cg = float(\n",
    "#                                                                 CG(L, M_L, S, M_S, J, M_J).doit()\n",
    "#                                                             )\n",
    "                                                            L_S_J_cg = self.cg_table[(\n",
    "                                                                L, M_L, S, M_S, J, M_J\n",
    "                                                            )]\n",
    "\n",
    "                                                            # Add to integrand\n",
    "                                                            integrand += (\n",
    "                                                                jacobian\n",
    "                                                                * betap_cg\n",
    "                                                                * gammap_cg\n",
    "                                                                * alpha_cg\n",
    "                                                                * beta_cg\n",
    "                                                                * gamma_cg\n",
    "                                                                * spin_cg_betap_gammap\n",
    "                                                                * spin_cg_alpha_gamma\n",
    "                                                                * isospin_cg_beta_gamma\n",
    "                                                                * isospin_cg_alpha_gamma\n",
    "                                                                * Lp_S_J_cg\n",
    "                                                                * L_S_J_cg\n",
    "                                                                * factor\n",
    "                                                                * phi_beta_conj\n",
    "                                                                * phi_gamma_conj\n",
    "                                                                * phi_alpha\n",
    "                                                                * phi_beta\n",
    "                                                                * phi_gamma\n",
    "                                                                * Y_betap\n",
    "                                                                * Y_gammap\n",
    "                                                                * Y_alpha\n",
    "                                                                * Y_gamma\n",
    "                                                                * Y_beta\n",
    "                                                                * Y_Lp * Y_L\n",
    "                                                                * delta_U_dagger\n",
    "                                                            ) / np.sqrt(2)\n",
    "                              \n",
    "        return integrand\n",
    "    \n",
    "    def compute_I_term(self, q, theta_q, phi_q):\n",
    "        \n",
    "        # Compute \\phi_\\alpha(q)\n",
    "        if self.tau_alpha == 1/2:\n",
    "            phi_alpha = self.phi_p_func(q)\n",
    "        elif self.tau_alpha == -1/2:\n",
    "            phi_alpha = self.phi_n_func(q)\n",
    "        \n",
    "        # Loop over m_l_\\alpha\n",
    "        I_term = 0\n",
    "        m_l_alphas = np.intersect1d(\n",
    "            np.arange(-self.l_alpha, self.l_alpha+1, 1),\n",
    "            self.m_j_alpha - self.spins\n",
    "        )\n",
    "        for m_l_alpha in m_l_alphas:\n",
    "            \n",
    "            # Compute Y_{l_\\alpha m_l_\\alpha}(q)\n",
    "            Y_alpha = sph_harm(m_l_alpha, self.l_alpha, phi_q, theta_q)\n",
    "                    \n",
    "            # Determine \\sigma_\\alpha\n",
    "            sigma_alpha = self.m_j_alpha - m_l_alpha\n",
    "                    \n",
    "            # Compute < l_\\alpha m_l_\\alpha 1/2 \\sigma_\\alpha | j_\\alpha m_j_\\alpha >\n",
    "            alpha_cg = float(CG(self.l_alpha, m_l_alpha, 1/2, sigma_alpha,\n",
    "                                self.j_alpha, self.m_j_alpha).doit())\n",
    "            \n",
    "            I_term += alpha_cg * Y_alpha * phi_alpha\n",
    "            \n",
    "        return I_term\n",
    "    \n",
    "    def compute_delta_U_dagger_term(self, q, theta_q, phi_q):\n",
    "        \n",
    "        t0 = time.time()\n",
    "        \n",
    "        # Set q, theta_q, and phi_q as instance attributes\n",
    "        self.q = q\n",
    "        self.theta_q = theta_q\n",
    "        self.phi_q = phi_q\n",
    "        \n",
    "        # Compute integrations over k1, k2, and k3 vectors\n",
    "        k_limits = [0, 10]\n",
    "        theta_limits = [0, np.pi]\n",
    "        phi_limits = [0, 2*np.pi]\n",
    "        integ = vegas.Integrator([k_limits, theta_limits, phi_limits,\n",
    "                                  k_limits, theta_limits, phi_limits,\n",
    "                                  k_limits, theta_limits, phi_limits])\n",
    "\n",
    "        result = integ(self.delta_U_dagger_integrand, nitn=10, neval=1e4)\n",
    "        # result = integ(self.delta_U_dagger_integrand, nitn=10, neval=1e5)\n",
    "\n",
    "        t1 = time.time()\n",
    "        mins = (t1-t0)/60\n",
    "        \n",
    "        # TESTING\n",
    "        print(result.summary())\n",
    "        print(result)\n",
    "        print(result.mean)\n",
    "        print(result.sdev)\n",
    "        print(f\"Done with q = {q}, theta_q = {theta_q}, phi_q = {phi_q} after\"\n",
    "              f\" {mins:.2f} minutes.\")\n",
    "\n",
    "        delta_U_dagger_term = result.mean\n",
    "        \n",
    "        return delta_U_dagger_term\n",
    "                                                \n",
    "    def get_overlap(self, alpha, tau_alpha, q_array, sanity_check=False):\n",
    "        \n",
    "        # Set \\alpha quantum numbers as instance attributes\n",
    "        self.tau_alpha = tau_alpha\n",
    "        self.n_alpha, self.l_alpha, self.j_alpha = self.get_sp_quantum_numbers(\n",
    "            alpha\n",
    "        )\n",
    "        self.m_j_alpha = self.j_alpha\n",
    "        \n",
    "        # Set range of \\theta_q values from 0 to \\pi\n",
    "#         theta_q_array, theta_q_weights = gaussian_quadrature_mesh(np.pi, 5)\n",
    "        \n",
    "        # Set range of \\phi_q values from 0 to 2\\pi\n",
    "#         phi_q_array, phi_q_weights = gaussian_quadrature_mesh(2*np.pi, 7)\n",
    "        \n",
    "        # Get meshgrid for integration over angles\n",
    "#         _, dtheta_grid, dphi_grid = np.meshgrid(\n",
    "#             q_array, np.sin(theta_q_array) * theta_q_weights, phi_q_weights,\n",
    "#             indexing='ij'\n",
    "#         )\n",
    "        \n",
    "        # Compute I term and \\delta U^\\dagger term for each q, theta_q, and phi_q\n",
    "#         I_array = np.zeros_like(dtheta_grid, dtype=complex)\n",
    "#         delta_U_dagger_array = np.zeros_like(I_array, dtype=complex)\n",
    "#         I_array = np.zeros_like(dtheta_grid)\n",
    "#         delta_U_dagger_array = np.zeros_like(I_array)\n",
    "#         for i, q in enumerate(q_array):\n",
    "#             for j, theta_q in enumerate(theta_q_array):\n",
    "#                 for k, phi_q in enumerate(phi_q_array):\n",
    "                    \n",
    "#                     # I term\n",
    "#                     I_array[i,j,k] = self.compute_I_term(q, theta_q, phi_q)\n",
    "                    \n",
    "#                     if sanity_check:\n",
    "#                         delta_U_dagger_array[i,j,k] = 0\n",
    "#                     else:\n",
    "#                         # \\delta U^\\dagger term\n",
    "#                         delta_U_dagger_array[i,j,k] = (\n",
    "#                             self.compute_delta_U_dagger_term(q, theta_q, phi_q)\n",
    "#                         )\n",
    "        # TESTING\n",
    "        I_array = np.zeros_like(q_array)\n",
    "        delta_U_dagger_array = np.zeros_like(q_array)\n",
    "        for i, q in enumerate(q_array):\n",
    "                    \n",
    "            # I term\n",
    "            I_array[i] = self.compute_I_term(q, 0, 0)\n",
    "                    \n",
    "            if sanity_check:\n",
    "                delta_U_dagger_array[i] = 0\n",
    "            else:\n",
    "                # \\delta U^\\dagger term\n",
    "                delta_U_dagger_array[i] = (\n",
    "                    self.compute_delta_U_dagger_term(q, 0, 0)\n",
    "                )\n",
    "\n",
    "        # Integrate over angles (leaves a 1-D array)\n",
    "#         overlap_squared = np.sum(\n",
    "#             np.sum(\n",
    "#                 abs(I_array+delta_U_dagger_array)**2 * dtheta_grid * dphi_grid,\n",
    "#             axis=-1),\n",
    "#         axis=-1)\n",
    "        \n",
    "#         return overlap_squared\n",
    "\n",
    "        # TESTING\n",
    "        return 4*np.pi*abs(I_array+delta_U_dagger_array)**2"
   ]
  },
  {
   "cell_type": "code",
   "execution_count": 47,
   "id": "06151b3c",
   "metadata": {
    "code_folding": []
   },
   "outputs": [],
   "source": [
    "def compute_spectroscopic_factor(q_array, q_weights, overlap_array):\n",
    "    \n",
    "    return np.sum(q_weights * q_array**2 * overlap_array)"
   ]
  },
  {
   "cell_type": "code",
   "execution_count": 48,
   "id": "b16cf937",
   "metadata": {},
   "outputs": [],
   "source": [
    "alpha = '1s0p5'\n",
    "tau_alpha = 1/2\n",
    "\n",
    "# channels = (\n",
    "#     '1S0', '3S1-3S1', '3S1-3D1', '3D1-3S1', '3D1-3D1', '3P0', '3P1', '1P1'\n",
    "# )\n",
    "channels = ('1S0', '3S1-3S1')\n",
    "\n",
    "kvnn = 6\n",
    "lamb = 1.35\n",
    "\n",
    "# q_array, q_weights = momentum_mesh(10.0, 2.0, 120)\n",
    "# TESTING\n",
    "q_array, q_weights = gaussian_quadrature_mesh(10.0, 10)"
   ]
  },
  {
   "cell_type": "code",
   "execution_count": 49,
   "id": "c0b360e8",
   "metadata": {},
   "outputs": [],
   "source": [
    "so = SpectroscopicOverlap(channels, kvnn, lamb)"
   ]
  },
  {
   "cell_type": "code",
   "execution_count": 50,
   "id": "513259de",
   "metadata": {},
   "outputs": [],
   "source": [
    "# overlap_array = so.get_overlap(alpha, tau_alpha, q_array, sanity_check=True)"
   ]
  },
  {
   "cell_type": "code",
   "execution_count": 51,
   "id": "9bb583a0",
   "metadata": {},
   "outputs": [],
   "source": [
    "# compute_spectroscopic_factor(q_array, q_weights, overlap_array)"
   ]
  },
  {
   "cell_type": "code",
   "execution_count": 52,
   "id": "be3ac68f",
   "metadata": {},
   "outputs": [
    {
     "name": "stderr",
     "output_type": "stream",
     "text": [
      "/var/folders/4c/p53tldwd6f76zfs85vnyk3qr0000gn/T/ipykernel_8410/3317499658.py:513: ComplexWarning: Casting complex values to real discards the imaginary part\n",
      "  I_array[i] = self.compute_I_term(q, 0, 0)\n",
      "/var/folders/4c/p53tldwd6f76zfs85vnyk3qr0000gn/T/ipykernel_8410/3317499658.py:449: ComplexWarning: Casting complex values to real discards the imaginary part\n",
      "  result = integ(self.delta_U_dagger_integrand, nitn=10, neval=1e4)\n"
     ]
    },
    {
     "name": "stdout",
     "output_type": "stream",
     "text": [
      "itn   integral        wgt average     chi2/dof        Q\n",
      "-------------------------------------------------------\n",
      "  1   -1.4(1.7)       -1.4(1.7)           0.00     1.00\n",
      "  2   -1.12(29)       -1.13(29)           0.03     0.86\n",
      "  3   -0.07(66)       -0.96(27)           1.10     0.33\n",
      "  4   -1.04(19)       -1.01(15)           0.75     0.52\n",
      "  5   -0.99(27)       -1.01(13)           0.57     0.69\n",
      "  6   -1.28(11)       -1.173(83)          0.96     0.44\n",
      "  7   -1.238(73)      -1.210(55)          0.85     0.53\n",
      "  8   -1.227(75)      -1.216(44)          0.74     0.64\n",
      "  9   -1.362(53)      -1.276(34)          1.20     0.29\n",
      " 10   -1.346(51)      -1.298(28)          1.22     0.28\n",
      "\n",
      "-1.298(28)\n",
      "-1.2976255484789319\n",
      "0.028368320628364318\n",
      "Done with q = 0.13046735741414128, theta_q = 0, phi_q = 0 after 1.68 minutes.\n",
      "itn   integral        wgt average     chi2/dof        Q\n",
      "-------------------------------------------------------\n",
      "  1   0.07(41)        0.07(41)            0.00     1.00\n",
      "  2   -0.20(13)       -0.17(13)           0.40     0.53\n",
      "  3   -0.62(14)       -0.377(93)          3.12     0.04\n",
      "  4   -0.624(99)      -0.492(68)          3.18     0.02\n",
      "  5   -0.55(12)       -0.507(59)          2.43     0.05\n",
      "  6   -0.748(65)      -0.615(44)          3.45     0.00\n",
      "  7   -0.643(45)      -0.628(31)          2.91     0.01\n",
      "  8   -0.668(33)      -0.647(23)          2.60     0.01\n",
      "  9   -0.676(35)      -0.656(19)          2.34     0.02\n",
      " 10   -0.689(26)      -0.668(15)          2.20     0.02\n",
      "\n",
      "-0.668(15)\n",
      "-0.667814457168858\n",
      "0.015250882275877068\n",
      "Done with q = 0.6746831665550773, theta_q = 0, phi_q = 0 after 1.68 minutes.\n",
      "itn   integral        wgt average     chi2/dof        Q\n",
      "-------------------------------------------------------\n",
      "  1   0.023(49)       0.023(49)           0.00     1.00\n",
      "  2   -0.022(22)      -0.015(20)          0.73     0.39\n",
      "  3   -0.0544(80)     -0.0489(74)         2.05     0.13\n",
      "  4   -0.0474(54)     -0.0479(43)         1.38     0.25\n",
      "  5   -0.0500(45)     -0.0489(31)         1.06     0.37\n",
      "  6   -0.0585(36)     -0.0531(24)         1.66     0.14\n",
      "  7   -0.0493(30)     -0.0517(19)         1.54     0.16\n",
      "  8   -0.0512(23)     -0.0515(14)         1.33     0.23\n",
      "  9   -0.0496(23)     -0.0509(12)         1.22     0.28\n",
      " 10   -0.0492(20)     -0.0505(10)         1.15     0.33\n",
      "\n",
      "-0.0505(10)\n",
      "-0.0504606796659572\n",
      "0.0010365751612122266\n",
      "Done with q = 1.6029521585048778, theta_q = 0, phi_q = 0 after 1.68 minutes.\n",
      "itn   integral        wgt average     chi2/dof        Q\n",
      "-------------------------------------------------------\n",
      "  1   0.0022(21)      0.0022(21)          0.00     1.00\n",
      "  2   0.0005(26)      0.0015(16)          0.26     0.61\n",
      "  3   0.00136(60)     0.00138(56)         0.13     0.88\n",
      "  4   0.00234(46)     0.00196(35)         0.69     0.56\n",
      "  5   0.00317(28)     0.00270(22)         2.30     0.06\n",
      "  6   0.00273(28)     0.00271(17)         1.84     0.10\n",
      "  7   0.00302(19)     0.00286(13)         1.78     0.10\n",
      "  8   0.00278(13)     0.002817(92)        1.55     0.14\n",
      "  9   0.00285(12)     0.002830(72)        1.36     0.21\n",
      " 10   0.00286(14)     0.002836(64)        1.22     0.28\n",
      "\n",
      "0.002836(64)\n",
      "0.002836197186677926\n",
      "6.393535726038418e-05\n",
      "Done with q = 2.8330230293537637, theta_q = 0, phi_q = 0 after 1.69 minutes.\n",
      "itn   integral        wgt average     chi2/dof        Q\n",
      "-------------------------------------------------------\n",
      "  1   -0.00021(18)    -0.00021(18)        0.00     1.00\n",
      "  2   -0.000212(78)   -0.000211(71)       0.00     0.97\n",
      "  3   -0.000165(16)   -0.000167(16)       0.20     0.82\n",
      "  4   -0.000155(16)   -0.000162(11)       0.22     0.88\n",
      "  5   -0.000163(16)   -0.0001620(93)      0.17     0.96\n",
      "  6   -0.000148(16)   -0.0001585(80)      0.25     0.94\n",
      "  7   -0.000132(12)   -0.0001507(67)      0.75     0.61\n",
      "  8   -0.0001499(81)  -0.0001504(52)      0.64     0.72\n",
      "  9   -0.0001433(54)  -0.0001470(37)      0.67     0.72\n",
      " 10   -0.0001476(54)  -0.0001472(31)      0.60     0.80\n",
      "\n",
      "-0.0001472(31)\n",
      "-0.0001472183186861625\n",
      "3.0823784282266017e-06\n",
      "Done with q = 4.255628305091844, theta_q = 0, phi_q = 0 after 1.68 minutes.\n",
      "itn   integral        wgt average     chi2/dof        Q\n",
      "-------------------------------------------------------\n",
      "  1   5.7(3.1)e-06    5.7(3.1)e-06        0.00     1.00\n",
      "  2   4.9(1.7)e-06    5.1(1.5)e-06        0.04     0.84\n",
      "  3   5.1(1.4)e-06    5.1(1.0)e-06        0.02     0.98\n",
      "  4   6.67(83)e-06    6.03(64)e-06        0.51     0.67\n",
      "  5   6.41(56)e-06    6.25(42)e-06        0.44     0.78\n",
      "  6   6.39(45)e-06    6.31(31)e-06        0.36     0.88\n",
      "  7   7.02(39)e-06    6.59(24)e-06        0.64     0.70\n",
      "  8   6.37(37)e-06    6.52(20)e-06        0.58     0.77\n",
      "  9   6.53(26)e-06    6.52(16)e-06        0.51     0.85\n",
      " 10   6.57(32)e-06    6.53(14)e-06        0.46     0.90\n",
      "\n",
      "6.53(14)e-06\n",
      "6.533629967316734e-06\n",
      "1.4258985844014963e-07\n",
      "Done with q = 5.744371694908156, theta_q = 0, phi_q = 0 after 1.69 minutes.\n",
      "itn   integral        wgt average     chi2/dof        Q\n",
      "-------------------------------------------------------\n",
      "  1   -3.3(3.3)e-07   -3.3(3.3)e-07       0.00     1.00\n",
      "  2   -6.4(2.8)e-07   -5.2(2.1)e-07       0.51     0.47\n",
      "  3   -2.33(31)e-07   -2.39(31)e-07       1.12     0.33\n",
      "  4   -2.67(30)e-07   -2.54(21)e-07       0.88     0.45\n",
      "  5   -1.56(40)e-07   -2.32(19)e-07       1.83     0.12\n",
      "  6   -2.38(24)e-07   -2.34(15)e-07       1.47     0.20\n",
      "  7   -1.94(16)e-07   -2.16(11)e-07       1.78     0.10\n",
      "  8   -2.42(13)e-07   -2.275(83)e-07      1.88     0.07\n",
      "  9   -2.27(11)e-07   -2.271(66)e-07      1.64     0.11\n",
      " 10   -2.454(86)e-07  -2.339(52)e-07      1.78     0.07\n",
      "\n",
      "-2.339(52)e-07\n",
      "-2.339206654369235e-07\n",
      "5.2339938771318984e-09\n",
      "Done with q = 7.166976970646236, theta_q = 0, phi_q = 0 after 1.69 minutes.\n",
      "itn   integral        wgt average     chi2/dof        Q\n",
      "-------------------------------------------------------\n",
      "  1   4.0(1.9)e-08    4.0(1.9)e-08        0.00     1.00\n",
      "  2   9.8(3.6)e-08    5.2(1.7)e-08        1.98     0.16\n",
      "  3   6.3(1.9)e-08    5.7(1.3)e-08        1.08     0.34\n",
      "  4   5.00(91)e-08    5.26(74)e-08        0.80     0.50\n",
      "  5   5.31(63)e-08    5.29(48)e-08        0.60     0.66\n",
      "  6   5.59(55)e-08    5.42(36)e-08        0.51     0.77\n",
      "  7   5.20(30)e-08    5.29(23)e-08        0.46     0.84\n",
      "  8   5.30(28)e-08    5.29(18)e-08        0.40     0.91\n",
      "  9   5.24(22)e-08    5.27(14)e-08        0.35     0.95\n",
      " 10   5.50(23)e-08    5.33(12)e-08        0.40     0.94\n",
      "\n",
      "5.33(12)e-08\n",
      "5.331828686509177e-08\n",
      "1.1762462288503673e-09\n",
      "Done with q = 8.397047841495123, theta_q = 0, phi_q = 0 after 1.68 minutes.\n",
      "itn   integral        wgt average     chi2/dof        Q\n",
      "-------------------------------------------------------\n",
      "  1   -5.1(3.1)e-08   -5.1(3.1)e-08       0.00     1.00\n",
      "  2   -4.9(2.9)e-08   -5.0(2.1)e-08       0.00     0.96\n",
      "  3   -6.9(1.9)e-08   -6.1(1.4)e-08       0.22     0.80\n",
      "  4   -5.34(61)e-08   -5.46(56)e-08       0.23     0.88\n",
      "  5   -3.78(66)e-08   -4.76(43)e-08       1.11     0.35\n",
      "  6   -4.09(65)e-08   -4.56(36)e-08       1.03     0.40\n",
      "  7   -4.63(35)e-08   -4.59(25)e-08       0.87     0.52\n",
      "  8   -4.64(24)e-08   -4.62(17)e-08       0.74     0.63\n",
      "  9   -4.57(20)e-08   -4.60(13)e-08       0.66     0.73\n",
      " 10   -4.65(21)e-08   -4.61(11)e-08       0.59     0.81\n",
      "\n",
      "-4.61(11)e-08\n",
      "-4.610345439407911e-08\n",
      "1.1060684692149767e-09\n",
      "Done with q = 9.325316833444923, theta_q = 0, phi_q = 0 after 1.68 minutes.\n",
      "itn   integral        wgt average     chi2/dof        Q\n",
      "-------------------------------------------------------\n",
      "  1   -3.8(5.1)e-09   -3.8(5.1)e-09       0.00     1.00\n",
      "  2   1.57(89)e-08    1.0(4.4)e-09        3.58     0.06\n",
      "  3   7.17(83)e-09    6.97(81)e-09        2.71     0.07\n",
      "  4   6.43(92)e-09    6.73(61)e-09        1.87     0.13\n",
      "  5   5.7(1.1)e-09    6.48(53)e-09        1.58     0.18\n",
      "  6   6.53(49)e-09    6.51(36)e-09        1.27     0.27\n",
      "  7   6.79(45)e-09    6.62(28)e-09        1.10     0.36\n",
      "  8   6.29(26)e-09    6.44(19)e-09        1.04     0.40\n",
      "  9   6.42(31)e-09    6.43(16)e-09        0.91     0.50\n",
      " 10   6.67(24)e-09    6.51(14)e-09        0.89     0.54\n",
      "\n",
      "6.51(14)e-09\n",
      "6.5087829963603284e-09\n",
      "1.3526820290349474e-10\n",
      "Done with q = 9.86953264258586, theta_q = 0, phi_q = 0 after 1.68 minutes.\n"
     ]
    }
   ],
   "source": [
    "overlap_array = so.get_overlap(alpha, tau_alpha, q_array)"
   ]
  },
  {
   "cell_type": "code",
   "execution_count": null,
   "id": "3be72d37",
   "metadata": {},
   "outputs": [],
   "source": [
    "compute_spectroscopic_factor(q_array, q_weights, overlap_array)"
   ]
  },
  {
   "cell_type": "markdown",
   "id": "9518a753",
   "metadata": {},
   "source": [
    "## Bug testing"
   ]
  },
  {
   "cell_type": "code",
   "execution_count": null,
   "id": "2f7a7899",
   "metadata": {
    "code_folding": [
     0
    ]
   },
   "outputs": [],
   "source": [
    "class Debug:\n",
    "    \n",
    "    def __init__(\n",
    "            self, nucleus_name='He4', Z=2, N=2, sp_state='1s0p5', kvnn=6,\n",
    "            lamb=1.35, generator='Wegner', approach='1', kmax=15.0, kmid=3.0,\n",
    "            ntot=120):\n",
    "        \n",
    "        self.nucleus_name = nucleus_name\n",
    "        self.Z = Z\n",
    "        self.N = N\n",
    "        self.sp_state = sp_state\n",
    "        self.kvnn = kvnn\n",
    "        self.lamb = lamb\n",
    "        self.generator = generator\n",
    "        self.approach = approach\n",
    "        self.kmax = kmax\n",
    "        self.kmid = kmid\n",
    "        self.ntot = ntot\n",
    "        \n",
    "    def get_phi_kspace(\n",
    "            self, nucleon, kmax=15.0, kmid=3.0, ntot=120,\n",
    "            print_phi_r_array=False, print_phi_r_norm=False,\n",
    "            print_phi_k_array=False, print_phi_k_norm=False):\n",
    "\n",
    "        # Set momentum mesh\n",
    "        k_array, k_weights = momentum_mesh(kmax, kmid, ntot)\n",
    "    \n",
    "        # Get coordinate-space s.p. wave function\n",
    "        r_array, phi_r_array = get_phi_rspace(self.nucleus_name, self.Z, self.N,\n",
    "                                              nucleon, self.sp_state)\n",
    "        dr = r_array[2] - r_array[1]  # Assuming linear spacing in coordinates\n",
    "        \n",
    "        if print_phi_r_array:\n",
    "            for i,j in zip(r_array, phi_r_array):\n",
    "                print(i,j)\n",
    "                \n",
    "        if print_phi_r_norm:\n",
    "            phi_r_norm = np.sum(dr*phi_r_array**2)\n",
    "            print(f\"r-space normalization = {phi_r_norm}.\")\n",
    "    \n",
    "        # Fourier-transform the wave function to momentum space\n",
    "        l = convert_l_to_int(self.sp_state)\n",
    "        phi_k_array = (hankel_transformation(l, k_array, r_array, dr)\n",
    "                       @ phi_r_array)\n",
    "        \n",
    "        if print_phi_k_array:\n",
    "            for i,j in zip(k_array, phi_k_array):\n",
    "                print(i,j)\n",
    "    \n",
    "        # These are normalized as \\int dk k^2 |\\phi(k)|^2 = 1\n",
    "        if print_phi_k_norm:\n",
    "            phi_k_norm = np.sum(k_weights*k_array**2*phi_k_array**2)\n",
    "            print(f\"k-space normalization = {phi_k_norm}.\")\n",
    "            \n",
    "        return k_array, k_weights, phi_k_array\n",
    "    \n",
    "    def plot_phi_kspace(self, k_array, phi_k_array, x_limits=(0.0,5.0),\n",
    "                        y_limits=(-0.1,4.0)):\n",
    "    \n",
    "        # Initialize figure\n",
    "        plt.close('all')\n",
    "        f, ax = plt.subplots(figsize=(4, 4))\n",
    "    \n",
    "        ax.plot(k_array, phi_k_array, label=label_sp_state(self.sp_state),\n",
    "                linewidth=2.0)\n",
    "        \n",
    "        # Add horizontal line at y=0\n",
    "        ax.axhline(0.0, color='gray', alpha=0.4, zorder=1)\n",
    "        \n",
    "        # Set axes limits\n",
    "        ax.set_xlim(x_limits)\n",
    "        ax.set_ylim(y_limits)\n",
    "\n",
    "        # Set axes labels\n",
    "        ax.set_xlabel(r\"$k$ [fm\" + r'$^{-1}$' + ']', fontsize=16)\n",
    "        ax.set_ylabel(r\"$\\phi(k)$ [fm\" + r'$^{3/2}$' + ']', fontsize=16)\n",
    "\n",
    "        # Set legend\n",
    "        ax.legend(loc='upper right', fontsize=14, frameon=False)\n",
    "\n",
    "        # Add nucleus label\n",
    "        ax.add_artist(\n",
    "            AnchoredText(label_nucleus(nucleus_name), loc='center right',\n",
    "                         prop=dict(size=18), frameon=False)\n",
    "        )\n",
    "        \n",
    "    def interpolate_phi_kspace(\n",
    "            self, nucleon, kind='linear', bounds_error=False,\n",
    "            fill_value='extrapolate', compare=False, print_normalization=False):\n",
    "        \n",
    "        k_array, _, phi_array = self.get_phi_kspace(nucleon)\n",
    "\n",
    "        # Interpolate s.p. wave functions\n",
    "        phi_func = interp1d(k_array, phi_array, kind=kind,\n",
    "                            bounds_error=bounds_error, fill_value=fill_value)\n",
    "        \n",
    "        # Compare to phi_array using a different mesh\n",
    "        if compare:\n",
    "            k_array_new, k_weights_new = momentum_mesh(10.0, 2.0, 120)\n",
    "            phi_array_new = phi_func(k_array_new)\n",
    "            for i,j,k,l in zip(k_array_new, phi_array_new, k_array, phi_array):\n",
    "                print(i,j,k,l)\n",
    "                \n",
    "        if print_normalization:    \n",
    "            phi_k_norm = np.sum(k_weights_new*k_array_new**2*phi_array_new**2)\n",
    "            print(f\"Normalization on different mesh = {phi_k_norm}.\")\n",
    "\n",
    "        return phi_func\n",
    "    \n",
    "    # This needs to be capable of doing coupled channels correctly\n",
    "    def interpolate_deltaU_dagger(self, channel, kind='linear'):\n",
    "\n",
    "#         # TESTING\n",
    "#         if len(channel) > 3:\n",
    "#             channel_full = channel\n",
    "#             channel = '3S1'\n",
    "\n",
    "        # Set potential\n",
    "        potential = Potential(self.kvnn, channel, self.kmax, self.kmid,\n",
    "                              self.ntot)\n",
    "    \n",
    "        # Get momentum mesh\n",
    "        k_array, k_weights = potential.load_mesh()\n",
    "    \n",
    "        # Initial and evolved Hamiltonians\n",
    "        H_initial = potential.load_hamiltonian()\n",
    "        if self.generator == 'Block-diag':\n",
    "            H_evolved = potential.load_hamiltonian('srg', self.generator, 1.0,\n",
    "                                                   lambda_bd=self.lamb)\n",
    "        else:\n",
    "            H_evolved = potential.load_hamiltonian('srg', self.generator,\n",
    "                                                   self.lamb)\n",
    "    \n",
    "        # Get SRG transformation from Hamiltonians\n",
    "        U_matrix_weights = get_transformation(H_initial, H_evolved)[:self.ntot,\n",
    "                                                                    :self.ntot]\n",
    "    #     # TESTING\n",
    "    #     if channel_full == '3D1-3D1':\n",
    "    #         U_matrix_weights = get_transformation(\n",
    "    #             H_initial, H_evolved\n",
    "    #         )[ntot:2*ntot,ntot:2*ntot]\n",
    "    #     elif channel_full == '3S1-3D1':\n",
    "    #         U_matrix_weights = get_transformation(\n",
    "    #             H_initial, H_evolved\n",
    "    #         )[:ntot,ntot:2*ntot]\n",
    "    #     else:\n",
    "    #         U_matrix_weights = get_transformation(H_initial, H_evolved)[:ntot,:ntot]\n",
    "\n",
    "    #     # Coupled-channel?\n",
    "    #     cc_bool = coupled_channel(channel)\n",
    "\n",
    "        # Isolate 2-body term\n",
    "        I_matrix_weights = np.eye(self.ntot, self.ntot)\n",
    "    #     if cc_bool:\n",
    "    #         I_matrix_weights = np.eye(2 * ntot, 2 * ntot)\n",
    "    #     else:\n",
    "    #         I_matrix_weights = np.eye(ntot, ntot)\n",
    "        delUdag_matrix_weights = (U_matrix_weights - I_matrix_weights).T\n",
    "        delUdag_matrix = unattach_weights_from_matrix(k_array, k_weights,\n",
    "                                                      delUdag_matrix_weights)\n",
    "    \n",
    "        # Interpolate \\delta U^\\dagger(k,k')\n",
    "        if kind == 'linear':\n",
    "            delUdag_func = RectBivariateSpline(k_array, k_array, delUdag_matrix,\n",
    "                                               kx=1, ky=1)\n",
    "        elif kind == 'cubic':\n",
    "            delUdag_func = RectBivariateSpline(k_array, k_array, delUdag_matrix,\n",
    "                                               kx=3, ky=3)\n",
    "            \n",
    "        # You might want to check what these matrices look like on different\n",
    "        # meshes using the interpolating function\n",
    "\n",
    "        return delUdag_func\n",
    "    \n",
    "    def compute_deltaU_dagger_term(\n",
    "            self, kmax=10.0, kmid=2.0, ntot_k=120, Kmax=2.0, ntot_K=40,\n",
    "            ntot_x=7, phi_interp_kind='linear', bounds_error=False,\n",
    "            fill_value='extrapolate', print_max_mins=False,\n",
    "            absolute_value=False, deltaUdag_interp_kind='linear',\n",
    "            four_pi_factor=True):\n",
    "\n",
    "        # Initialize momentum and angle meshes\n",
    "        # Relative momenta\n",
    "        k_array, k_weights = momentum_mesh(kmax, kmid, ntot_k)\n",
    "        # CoM momenta\n",
    "        K_array, K_weights = gaussian_quadrature_mesh(Kmax, ntot_K)\n",
    "        # Angles between K and k' (or K and k)\n",
    "        x_array, x_weights = leggauss(ntot_x)\n",
    "    \n",
    "        # Get meshgrids for (k', k, K, x)\n",
    "        kp_grid, k_grid, K_grid, x_grid = np.meshgrid(k_array, k_array, K_array,\n",
    "                                                      x_array, indexing='ij')\n",
    "        _, _, _, dx_grid = np.meshgrid(k_weights, k_weights, K_weights,\n",
    "                                       x_weights, indexing='ij')\n",
    "    \n",
    "        # Get s.p. wave functions\n",
    "        phi_p_func = self.interpolate_phi_kspace(\n",
    "            'proton', kind=phi_interp_kind, bounds_error=bounds_error,\n",
    "            fill_value=fill_value\n",
    "        )\n",
    "        phi_n_func = self.interpolate_phi_kspace(\n",
    "            'neutron', kind=phi_interp_kind, bounds_error=bounds_error,\n",
    "            fill_value=fill_value\n",
    "        )\n",
    "        \n",
    "        if print_max_mins:\n",
    "            mx = np.amax(phi_p_func(\n",
    "                np.sqrt(K_grid**2/4 + kp_grid**2 + kp_grid*K_grid*x_grid)\n",
    "            ))\n",
    "            mn = np.amin(phi_p_func(\n",
    "                np.sqrt(K_grid**2/4 + kp_grid**2 + kp_grid*K_grid*x_grid)\n",
    "            ))\n",
    "            print(f\"Max of \\phi(|K/2+k'|) = {mx}.\")\n",
    "            print(f\"Min of \\phi(|K/2+k'|) = {mn}.\")\n",
    "        \n",
    "        if absolute_value:\n",
    "            phi_p_array_1 = abs(phi_p_func(\n",
    "                np.sqrt(K_grid**2/4 + kp_grid**2 + kp_grid*K_grid*x_grid)\n",
    "            ))\n",
    "            phi_p_array_2 = abs(phi_p_func(\n",
    "                np.sqrt(K_grid**2/4 + kp_grid**2 - kp_grid*K_grid*x_grid)\n",
    "            ))\n",
    "            phi_n_array_1 = abs(phi_n_func(\n",
    "                np.sqrt(K_grid**2/4 + kp_grid**2 - kp_grid*K_grid*x_grid)\n",
    "            ))\n",
    "            phi_p_array_3 = abs(phi_p_func(\n",
    "                np.sqrt(K_grid**2/4 + k_grid**2 + k_grid*K_grid*x_grid)\n",
    "            ))\n",
    "            phi_p_array_4 = abs(phi_p_func(\n",
    "                np.sqrt(K_grid**2/4 + k_grid**2 - k_grid*K_grid*x_grid)\n",
    "            ))\n",
    "            phi_n_array_2 = abs(phi_n_func(\n",
    "                np.sqrt(K_grid**2/4 + k_grid**2 - k_grid*K_grid*x_grid)\n",
    "            ))\n",
    "        else:\n",
    "            phi_p_array_1 = phi_p_func(\n",
    "                np.sqrt(K_grid**2/4 + kp_grid**2 + kp_grid*K_grid*x_grid)\n",
    "            )\n",
    "            phi_p_array_2 = phi_p_func(\n",
    "                np.sqrt(K_grid**2/4 + kp_grid**2 - kp_grid*K_grid*x_grid)\n",
    "            )\n",
    "            phi_n_array_1 = phi_n_func(\n",
    "                np.sqrt(K_grid**2/4 + kp_grid**2 - kp_grid*K_grid*x_grid)\n",
    "            )\n",
    "            phi_p_array_3 = phi_p_func(\n",
    "                np.sqrt(K_grid**2/4 + k_grid**2 + k_grid*K_grid*x_grid)\n",
    "            )\n",
    "            phi_p_array_4 = phi_p_func(\n",
    "                np.sqrt(K_grid**2/4 + k_grid**2 - k_grid*K_grid*x_grid)\n",
    "            )\n",
    "            phi_n_array_2 = phi_n_func(\n",
    "                np.sqrt(K_grid**2/4 + k_grid**2 - k_grid*K_grid*x_grid)\n",
    "            )\n",
    "            \n",
    "        # Evaluate product of s.p. wave functions and attach weights dx (or dy)\n",
    "        # These are 4-D arrays (k', k, K, x)\n",
    "        pp_kp_K_y_grid = phi_p_array_1 * phi_p_array_2 * dx_grid\n",
    "        pn_kp_K_y_grid = phi_p_array_1 * phi_n_array_1 * dx_grid\n",
    "        pp_k_K_x_grid = phi_p_array_3 * phi_p_array_4 * dx_grid\n",
    "        pn_k_K_x_grid = phi_p_array_3 * phi_n_array_2 * dx_grid\n",
    "            \n",
    "        # Perform angle-averaging integrals (x and y) -> 3-D arrays (k', k, K)\n",
    "        pp_kp_K_grid = 0.5 * np.sum(pp_kp_K_y_grid, axis=-1)\n",
    "        pn_kp_K_grid = 0.5 * np.sum(pn_kp_K_y_grid, axis=-1)\n",
    "        pp_k_K_grid = 0.5 * np.sum(pp_k_K_x_grid, axis=-1)\n",
    "        pn_k_K_grid = 0.5 * np.sum(pn_k_K_x_grid, axis=-1)\n",
    "    \n",
    "        # Evaluate product of s.p. wave functions and attach dK K^2\n",
    "        _, _, dK_grid = np.meshgrid(k_weights, k_weights, K_array**2*K_weights,\n",
    "                                    indexing='ij')\n",
    "        pppp_kp_k_K_grid = pp_kp_K_grid * pp_k_K_grid * dK_grid\n",
    "        pnpn_kp_k_K_grid = pn_kp_K_grid * pn_k_K_grid * dK_grid\n",
    "    \n",
    "        # Integrate over K -> 2-D arrays (k', k)\n",
    "        pppp_kp_k_grid = np.sum(pppp_kp_k_K_grid, axis=-1)\n",
    "        pnpn_kp_k_grid = np.sum(pnpn_kp_k_K_grid, axis=-1)\n",
    "    \n",
    "        # Get \\delta U^\\dagger(k',k) and evaluate integrand with dk' k'^2 dk k^2\n",
    "        delUdag_1S0_func = self.interpolate_deltaU_dagger(\n",
    "            '1S0', kind=deltaUdag_interp_kind\n",
    "        )\n",
    "        delUdag_1S0_grid = delUdag_1S0_func(k_array, k_array)\n",
    "        delUdag_3S1_func = self.interpolate_deltaU_dagger(\n",
    "            '3S1', kind=deltaUdag_interp_kind\n",
    "        )\n",
    "        delUdag_3S1_grid = delUdag_3S1_func(k_array, k_array)\n",
    "    \n",
    "        dkp_grid, dk_grid = np.meshgrid(k_array**2 * k_weights,\n",
    "                                        k_array**2 * k_weights, indexing='ij')\n",
    "    \n",
    "        integrand = (\n",
    "            (pppp_kp_k_grid * delUdag_1S0_grid + 0.5 * pnpn_kp_k_grid \n",
    "             * (delUdag_1S0_grid+3*delUdag_3S1_grid))\n",
    "        ) * dkp_grid * dk_grid\n",
    "    \n",
    "        # Integrate over k and kp -> reduced to a number at this point\n",
    "        if four_pi_factor:\n",
    "            factor = 4*np.pi\n",
    "        else:\n",
    "            factor = 1\n",
    "        return factor * np.sum(np.sum(integrand, axis=-1), axis=-1)\n",
    "    \n",
    "    def spectroscopic_overlap(\n",
    "            self, sanity_check=False, kmax=10.0, kmid=2.0, ntot_k=120, Kmax=2.0,\n",
    "            ntot_K=40, ntot_x=7, phi_interp_kind='linear', absolute_value=False,\n",
    "            deltaUdag_interp_kind='linear',\n",
    "            four_pi_factor=True):\n",
    "        \n",
    "        # Get s.p. wave function for 1s_1/2 proton in He4\n",
    "        q_array, q_weights, phi_array = self.get_phi_kspace(\n",
    "            'proton', kmax=self.kmax, kmid=self.kmid, ntot=self.ntot\n",
    "        )\n",
    "    \n",
    "        # Y_00(\\qhat) is simple\n",
    "        Y_00 = 1/np.sqrt(4*np.pi)\n",
    "        \n",
    "        I_array = Y_00 * phi_array\n",
    "        \n",
    "        if sanity_check:\n",
    "            \n",
    "            deltaU_dag_array = np.zeros_like(phi_array)\n",
    "            \n",
    "        else:\n",
    "        \n",
    "            if self.approach == '1':\n",
    "            \n",
    "                deltaU_dag_term = self.compute_deltaU_dagger_term(\n",
    "                    kmax, kmid, ntot_k, Kmax, ntot_K, ntot_x, phi_interp_kind,\n",
    "                    absolute_value=absolute_value,\n",
    "                    deltaUdag_interp_kind=deltaUdag_interp_kind,\n",
    "                    four_pi_factor=four_pi_factor\n",
    "                )\n",
    "                \n",
    "                deltaU_dag_array = Y_00 * phi_array * deltaU_dag_term\n",
    "                \n",
    "        return q_array, q_weights, I_array + deltaU_dag_array\n",
    "    \n",
    "    def spectroscopic_factor(\n",
    "            self, sanity_check=False, kmax=10.0, kmid=2.0, ntot_k=120, Kmax=2.0,\n",
    "            ntot_K=40, ntot_x=7, phi_interp_kind='linear', absolute_value=False,\n",
    "            deltaUdag_interp_kind='linear',\n",
    "            four_pi_factor=True):\n",
    "        \n",
    "        # Get the spectroscopic overlap and momenta (with weights)\n",
    "        q_array, q_weights, overlap_array = self.spectroscopic_overlap(\n",
    "            sanity_check, kmax, kmid, ntot_k, Kmax, ntot_K, ntot_x,\n",
    "            phi_interp_kind, absolute_value, deltaUdag_interp_kind,\n",
    "            four_pi_factor\n",
    "        )\n",
    "    \n",
    "        return 4*np.pi * np.sum(q_weights * q_array**2 * abs(overlap_array)**2)   "
   ]
  },
  {
   "cell_type": "code",
   "execution_count": null,
   "id": "a935aa2e",
   "metadata": {
    "code_folding": [
     0
    ]
   },
   "outputs": [],
   "source": [
    "def debug_spectroscopic_overlap_v2(kvnn, lamb, kmax=15.0, kmid=3.0, ntot=120,\n",
    "                                   generator='Wegner', sanity_check=False):\n",
    "    \n",
    "    # Initialize momentum and angle meshes\n",
    "    q_array, q_weights = momentum_mesh(10.0, 2.0, 120)  # s.p. momenta\n",
    "    k_array, k_weights = momentum_mesh(10.0, 2.0, 120)  # Relative momenta\n",
    "    K_array, K_weights = gaussian_quadrature_mesh(2.0, 40)  # CoM momenta\n",
    "    x_array, x_weights = leggauss(7)  # Angles between q and K (or K and k)\n",
    "    \n",
    "    # Get meshgrids for q, k, and K (weights too)\n",
    "    q_grid, k_grid, K_grid = np.meshgrid(q_array, k_array, K_array,\n",
    "                                         indexing='ij')\n",
    "    _, dk_grid, dK_grid = np.meshgrid(\n",
    "        q_array, k_array**2 * k_weights, K_array**2 * K_weights, indexing='ij'\n",
    "    )\n",
    "    \n",
    "    # Get s.p. wave functions\n",
    "    phi_p_func = interpolate_phi_kspace('proton')\n",
    "    phi_n_func = interpolate_phi_kspace('neutron')\n",
    "    \n",
    "    # Get \\delta U^\\dagger function and evaluate at (|\\qvec-\\Kvec/2|, k)\n",
    "    delUdag_1S0_func = interpolate_deltaU_dagger(kvnn, '1S0', lamb, kmax,\n",
    "                                                 kmid, ntot, generator)\n",
    "    delUdag_3S1_func = interpolate_deltaU_dagger(\n",
    "        kvnn, '3S1', lamb, kmax, kmid, ntot, generator\n",
    "    )\n",
    "#     # TESTING\n",
    "#     delUdag_3S1_3S1_func = interpolate_deltaU_dagger(\n",
    "#         kvnn, '3S1-3S1', lamb, kmax, kmid, ntot, generator\n",
    "#     )\n",
    "#     delUdag_3S1_3D1_func = interpolate_deltaU_dagger(\n",
    "#         kvnn, '3S1-3D1', lamb, kmax, kmid, ntot, generator\n",
    "#     )\n",
    "    \n",
    "    # Initialize integrand\n",
    "    integrand_k_K = np.zeros_like(q_grid)\n",
    "    \n",
    "    # Do angle-averaging integrals\n",
    "    for x, dx in zip(x_array, x_weights):\n",
    "        \n",
    "        K_minus_q = np.sqrt(K_grid**2 + q_grid**2 - 2*K_grid*q_grid*x)\n",
    "        q_minus_K_over_two = np.sqrt(q_grid**2 + K_grid**2/4 + K_grid*q_grid*x)\n",
    "        \n",
    "        phi_p_K_minus_q = phi_p_func(K_minus_q)\n",
    "        phi_n_K_minus_q = phi_n_func(K_minus_q)\n",
    "        \n",
    "        delUdag_1S0_grid = delUdag_1S0_func.ev(q_minus_K_over_two, k_grid)\n",
    "        delUdag_3S1_grid = delUdag_3S1_func.ev(q_minus_K_over_two, k_grid)\n",
    "#         # TESTING\n",
    "#         delUdag_3S1_3S1_grid = delUdag_3S1_3S1_func.ev(q_minus_K_over_two,\n",
    "#                                                        k_grid)\n",
    "#         delUdag_3S1_3D1_grid = delUdag_3S1_3D1_func.ev(q_minus_K_over_two,\n",
    "#                                                        k_grid)\n",
    "        \n",
    "        for y, dy in zip(x_array, x_weights):\n",
    "            \n",
    "            K_over_two_plus_k = np.sqrt(\n",
    "                K_grid**2/4 + k_grid**2 + K_grid*k_grid*y\n",
    "            )\n",
    "            K_over_two_minus_k = np.sqrt(\n",
    "                K_grid**2/4 + k_grid**2 - K_grid*k_grid*y\n",
    "            )\n",
    "            \n",
    "            phi_p_K_over_two_plus_k = phi_p_func(K_over_two_plus_k)\n",
    "            phi_p_K_over_two_minus_k = phi_p_func(K_over_two_minus_k)\n",
    "            phi_n_K_over_two_minus_k = phi_n_func(K_over_two_minus_k)\n",
    "            \n",
    "            integrand_k_K += dx/2 * dy/2 * phi_p_K_over_two_plus_k * (\n",
    "                phi_p_K_minus_q * phi_p_K_over_two_minus_k * delUdag_1S0_grid\n",
    "                + 0.5 * phi_n_K_minus_q * phi_n_K_over_two_minus_k\n",
    "                * (delUdag_1S0_grid + 3*delUdag_3S1_grid)\n",
    "            )\n",
    "#             # TESTING\n",
    "#             integrand_k_K += dx/2 * dy/2 * phi_p_K_over_two_plus_k * (\n",
    "#                 phi_p_K_minus_q * phi_p_K_over_two_minus_k * delUdag_1S0_grid\n",
    "#                 + 0.5 * phi_n_K_minus_q * phi_n_K_over_two_minus_k\n",
    "#                 * (\n",
    "#                     delUdag_1S0_grid + 3*delUdag_3S1_3S1_grid\n",
    "#                     + 3*delUdag_3S1_3D1_grid\n",
    "#                 )\n",
    "#             )\n",
    "            \n",
    "    # Integrate over K and k\n",
    "    deltaU_dag_term = np.sum(\n",
    "        np.sum(dk_grid * dK_grid * integrand_k_K, axis=-1), axis=-1\n",
    "    )\n",
    "\n",
    "    # Give an option to set \\delta U^\\dagger term to zero for sanity check\n",
    "    if sanity_check:\n",
    "        deltaU_dag_term = np.zeros_like(q_array)\n",
    "    \n",
    "    # Integrate over k and add to \\phi_p(q) for full spectroscopic overlap\n",
    "    return q_array, q_weights, 1/np.sqrt(4*np.pi) * (\n",
    "        phi_p_func(q_array) + 2*deltaU_dag_term\n",
    "    )"
   ]
  },
  {
   "cell_type": "code",
   "execution_count": null,
   "id": "b245de77",
   "metadata": {
    "code_folding": [
     0
    ]
   },
   "outputs": [],
   "source": [
    "def debug_plot_spectroscopic_overlap(\n",
    "        q_array, q_weights, overlap_array, plot_phi=False, x_limits=(0.0,10.0),\n",
    "        y_limits=(1e-5,1e2), y_scale='log', save=False):\n",
    "\n",
    "    # Initialize figure\n",
    "    plt.close('all')\n",
    "    f, ax = plt.subplots(figsize=(4, 4))\n",
    "    \n",
    "    # TESTING\n",
    "    # Try plotting \\sqrt((2j+1)*(4\\pi)) * overlap -> \\int dq q^2 |overlap|^2 = (2j+1)\n",
    "#     factor = np.sqrt(2 * 4 * np.pi)\n",
    "#     factor = np.sqrt(4 * np.pi * 2 * (2*np.pi)**3)\n",
    "#     factor = 1\n",
    "    factor = (2*np.pi)**3\n",
    "    \n",
    "    # Plot just the proton overlap\n",
    "    if y_scale == 'log':\n",
    "        ax.set_yscale('log')\n",
    "    else:\n",
    "        ax.set_yscale('linear')\n",
    "    \n",
    "    ax.plot(q_array, overlap_array*factor, label=label_sp_state('1s0p5'),\n",
    "            linewidth=2.0)\n",
    "    \n",
    "    if plot_phi:\n",
    "        k_array, _, phi_p_array = get_phi_kspace('He4', 2, 2, 'proton', '1s0p5')\n",
    "        ax.plot(k_array, phi_p_array*factor, label=r\"$\\phi$\", linewidth=2.0)\n",
    "    \n",
    "#     # TESTING\n",
    "#     print(np.sum(abs(overlap_array*factor)**2*q_weights*q_array**2)/(2*np.pi)**3)\n",
    "        \n",
    "    # Set axes limits\n",
    "    ax.set_xlim(x_limits)\n",
    "    ax.set_ylim(y_limits)\n",
    "\n",
    "    # Set axes labels\n",
    "    ax.set_xlabel(r\"$q$ [fm\" + r'$^{-1}$' + ']', fontsize=16)\n",
    "    ax.set_ylabel(r\"$A(q)$ [fm\" + r'$^{3/2}$' + ']', fontsize=16)\n",
    "\n",
    "    # Set legend\n",
    "    ax.legend(loc='upper right', fontsize=14, frameon=False)\n",
    "\n",
    "    # Add nucleus label\n",
    "    ax.add_artist(\n",
    "        AnchoredText(label_nucleus(nucleus_name), loc='center right',\n",
    "                     prop=dict(size=18), frameon=False)\n",
    "    )\n",
    "    \n",
    "    # Save?\n",
    "    if save:\n",
    "        file_name = f'{nucleus_name}_overlap_{kvnn}_{lamb}_SLy4.png'\n",
    "        f.savefig(figures_directory + file_name)"
   ]
  },
  {
   "cell_type": "code",
   "execution_count": null,
   "id": "4a146d63",
   "metadata": {},
   "outputs": [],
   "source": [
    "# db = Debug()"
   ]
  },
  {
   "cell_type": "code",
   "execution_count": null,
   "id": "d9b81f1f",
   "metadata": {
    "code_folding": [
     0
    ]
   },
   "outputs": [],
   "source": [
    "# # Test normalization of \\phi(k) for the standard mesh\n",
    "# k_array, k_weights, phi_k_array = db.get_phi_kspace(\n",
    "#     'proton', print_phi_r_norm=True, print_phi_k_norm=True\n",
    "# )"
   ]
  },
  {
   "cell_type": "code",
   "execution_count": null,
   "id": "4b7ea105",
   "metadata": {
    "code_folding": [
     0
    ]
   },
   "outputs": [],
   "source": [
    "# # Plot \\phi(k) for the standard mesh\n",
    "# db.plot_phi_kspace(k_array, phi_k_array, y_limits=(-0.1,3.5))"
   ]
  },
  {
   "cell_type": "code",
   "execution_count": null,
   "id": "7d2995ef",
   "metadata": {
    "code_folding": [
     0
    ]
   },
   "outputs": [],
   "source": [
    "# # Test normalization of \\phi(k) for another mesh\n",
    "# k_array, k_weights, phi_k_array = db.get_phi_kspace(\n",
    "#     'proton', kmax=10.0, kmid=2.0, ntot=120, print_phi_r_norm=True,\n",
    "#     print_phi_k_norm=True\n",
    "# )"
   ]
  },
  {
   "cell_type": "code",
   "execution_count": null,
   "id": "26d9393c",
   "metadata": {
    "code_folding": [
     0
    ]
   },
   "outputs": [],
   "source": [
    "# # Plot \\phi(k) for another mesh\n",
    "# db.plot_phi_kspace(k_array, phi_k_array, y_limits=(-0.1,3.5))"
   ]
  },
  {
   "cell_type": "code",
   "execution_count": null,
   "id": "1ea2c6c5",
   "metadata": {
    "code_folding": [
     0
    ]
   },
   "outputs": [],
   "source": [
    "# # Default interpolation of \\phi(k)\n",
    "# phi_func = db.interpolate_phi_kspace(\n",
    "#     'proton', kind='linear', bounds_error=False, fill_value='extrapolate',\n",
    "#     compare=True, print_normalization=True\n",
    "# )"
   ]
  },
  {
   "cell_type": "code",
   "execution_count": null,
   "id": "3d4b9131",
   "metadata": {
    "code_folding": [
     0
    ]
   },
   "outputs": [],
   "source": [
    "# phi_func = db.interpolate_phi_kspace(\n",
    "#     'proton', kind='cubic', bounds_error=False, fill_value='extrapolate',\n",
    "#     compare=True, print_normalization=True\n",
    "# )"
   ]
  },
  {
   "cell_type": "code",
   "execution_count": null,
   "id": "f4effed2",
   "metadata": {
    "code_folding": [
     0
    ]
   },
   "outputs": [],
   "source": [
    "# # This should give a ValueError since the new mesh goes to a lower value than\n",
    "# # the previous\n",
    "# phi_func = db.interpolate_phi_kspace(\n",
    "#     'proton', kind='linear', bounds_error=True, fill_value=np.nan,\n",
    "#     compare=True)"
   ]
  },
  {
   "cell_type": "code",
   "execution_count": null,
   "id": "0b02824d",
   "metadata": {
    "code_folding": [
     0
    ]
   },
   "outputs": [],
   "source": [
    "# phi_func = db.interpolate_phi_kspace(\n",
    "#     'proton', kind='linear', bounds_error=False, fill_value=0.0, compare=True,\n",
    "#     print_normalization=True\n",
    "# )"
   ]
  },
  {
   "cell_type": "code",
   "execution_count": null,
   "id": "cf284176",
   "metadata": {
    "code_folding": [
     0
    ]
   },
   "outputs": [],
   "source": [
    "# # Default case\n",
    "# db.compute_deltaU_dagger_term(print_max_mins=True, four_pi_factor=True)"
   ]
  },
  {
   "cell_type": "code",
   "execution_count": null,
   "id": "10e0f73e",
   "metadata": {
    "code_folding": [
     0
    ]
   },
   "outputs": [],
   "source": [
    "# # No factor of 4\\pi\n",
    "# db.compute_deltaU_dagger_term(four_pi_factor=False)"
   ]
  },
  {
   "cell_type": "code",
   "execution_count": null,
   "id": "d25f781a",
   "metadata": {
    "code_folding": [
     0
    ]
   },
   "outputs": [],
   "source": [
    "# # Prevent \\phi(k)'s' from being negative\n",
    "# db.compute_deltaU_dagger_term(absolute_value=True)"
   ]
  },
  {
   "cell_type": "code",
   "execution_count": null,
   "id": "7ecaeba2",
   "metadata": {
    "code_folding": [
     0
    ]
   },
   "outputs": [],
   "source": [
    "# # Different k mesh\n",
    "# db.compute_deltaU_dagger_term(kmax=8.0, kmid=2.0, ntot_k=120,\n",
    "#                               print_max_mins=True)"
   ]
  },
  {
   "cell_type": "code",
   "execution_count": null,
   "id": "01f83aa5",
   "metadata": {
    "code_folding": [
     0
    ]
   },
   "outputs": [],
   "source": [
    "# # Different K mesh\n",
    "# db.compute_deltaU_dagger_term(Kmax=3.0, ntot_K=60, print_max_mins=True)"
   ]
  },
  {
   "cell_type": "code",
   "execution_count": null,
   "id": "c4fdf838",
   "metadata": {
    "code_folding": [
     0
    ]
   },
   "outputs": [],
   "source": [
    "# # Different x mesh\n",
    "# db.compute_deltaU_dagger_term(ntot_x=11, print_max_mins=True)"
   ]
  },
  {
   "cell_type": "code",
   "execution_count": null,
   "id": "e23ea0f8",
   "metadata": {
    "code_folding": [
     0
    ]
   },
   "outputs": [],
   "source": [
    "# # Cubic interpolation for \\phi\n",
    "# db.compute_deltaU_dagger_term(print_max_mins=True, phi_interp_kind='cubic')"
   ]
  },
  {
   "cell_type": "code",
   "execution_count": null,
   "id": "dbde31eb",
   "metadata": {
    "code_folding": [
     0
    ]
   },
   "outputs": [],
   "source": [
    "# # Cubic interpolation for \\delta U^\\dagger\n",
    "# db.compute_deltaU_dagger_term(deltaUdag_interp_kind='cubic')"
   ]
  },
  {
   "cell_type": "code",
   "execution_count": null,
   "id": "82615a68",
   "metadata": {
    "code_folding": [
     0
    ]
   },
   "outputs": [],
   "source": [
    "# # Compute spectroscopic factor for default case\n",
    "# db.spectroscopic_factor()"
   ]
  },
  {
   "cell_type": "code",
   "execution_count": null,
   "id": "45000478",
   "metadata": {
    "code_folding": [
     0
    ]
   },
   "outputs": [],
   "source": [
    "# # Sanity check (no \\delta U^\\dagger term)\n",
    "# db.spectroscopic_factor(sanity_check=True)"
   ]
  },
  {
   "cell_type": "code",
   "execution_count": null,
   "id": "f5bc761e",
   "metadata": {
    "code_folding": [
     0
    ]
   },
   "outputs": [],
   "source": [
    "# # No factor 4\\pi\n",
    "# db.spectroscopic_factor(four_pi_factor=False)"
   ]
  },
  {
   "cell_type": "code",
   "execution_count": null,
   "id": "96cdbd34",
   "metadata": {
    "code_folding": [
     0
    ]
   },
   "outputs": [],
   "source": [
    "# # Prevent \\phi(k)'s' from being negative\n",
    "# db.spectroscopic_factor(absolute_value=True, four_pi_factor=False)"
   ]
  },
  {
   "cell_type": "code",
   "execution_count": null,
   "id": "52ed9ded",
   "metadata": {
    "code_folding": [
     0
    ]
   },
   "outputs": [],
   "source": [
    "# # Different k mesh\n",
    "# db.spectroscopic_factor(kmax=8.0, kmid=2.0, ntot_k=120, four_pi_factor=False)"
   ]
  },
  {
   "cell_type": "code",
   "execution_count": null,
   "id": "b275582a",
   "metadata": {
    "code_folding": [
     0
    ]
   },
   "outputs": [],
   "source": [
    "# # Different K mesh\n",
    "# db.spectroscopic_factor(Kmax=3.0, ntot_K=60, four_pi_factor=False)"
   ]
  },
  {
   "cell_type": "code",
   "execution_count": null,
   "id": "2f877aa0",
   "metadata": {
    "code_folding": [
     0
    ]
   },
   "outputs": [],
   "source": [
    "# # Different x mesh\n",
    "# db.spectroscopic_factor(ntot_x=11, four_pi_factor=False)"
   ]
  },
  {
   "cell_type": "code",
   "execution_count": null,
   "id": "27af6c4a",
   "metadata": {
    "code_folding": [
     0
    ]
   },
   "outputs": [],
   "source": [
    "# # Cubic interpolation for \\phi\n",
    "# db.spectroscopic_factor(phi_interp_kind='cubic', four_pi_factor=False)"
   ]
  },
  {
   "cell_type": "code",
   "execution_count": null,
   "id": "7620acd3",
   "metadata": {
    "code_folding": [
     0
    ]
   },
   "outputs": [],
   "source": [
    "# # Cubic interpolation for \\delta U^\\dagger\n",
    "# db.spectroscopic_factor(deltaUdag_interp_kind='cubic', four_pi_factor=False)"
   ]
  },
  {
   "cell_type": "code",
   "execution_count": null,
   "id": "8907586f",
   "metadata": {},
   "outputs": [],
   "source": []
  },
  {
   "cell_type": "code",
   "execution_count": null,
   "id": "4cd60c9d",
   "metadata": {},
   "outputs": [],
   "source": []
  }
 ],
 "metadata": {
  "kernelspec": {
   "display_name": "Python 3 (ipykernel)",
   "language": "python",
   "name": "python3"
  },
  "language_info": {
   "codemirror_mode": {
    "name": "ipython",
    "version": 3
   },
   "file_extension": ".py",
   "mimetype": "text/x-python",
   "name": "python",
   "nbconvert_exporter": "python",
   "pygments_lexer": "ipython3",
   "version": "3.9.7"
  }
 },
 "nbformat": 4,
 "nbformat_minor": 5
}

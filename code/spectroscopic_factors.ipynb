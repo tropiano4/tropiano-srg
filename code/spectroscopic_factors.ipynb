{
 "cells": [
  {
   "cell_type": "markdown",
   "id": "b1040938",
   "metadata": {
    "pycharm": {
     "name": "#%% md\n"
    }
   },
   "source": [
    "# Spectroscopic factors\n",
    "\n",
    "__Author:__ A. J. Tropiano [atropiano@anl.gov]<br/>\n",
    "__Date:__ October 8, 2021\n",
    "\n",
    "This notebook serves as a testbed for calculating spectroscopic overlaps using mean field approximations for initial and final states and applying SRG transformations to the operator. The normalization of spectroscopic overlaps give relative spectroscopic factors. The first step is to compute the overlap of $^4\\rm{He}$ with $^3\\rm{H}$ and compare to [VMC calculations](https://www.phy.anl.gov/theory/research/overlaps/).\n",
    "\n",
    "_Last update:_ September 13, 2022"
   ]
  },
  {
   "cell_type": "markdown",
   "id": "ec71f667",
   "metadata": {
    "pycharm": {
     "name": "#%% md\n"
    }
   },
   "source": [
    "__To-do list:__\n",
    "* Check if you need the $(-i)^l$ factor in the Hankel transformation function. The factor may cancel out in all relevant formulas (like the overlap wave function).\n",
    "* Negative $1s_{1/2}$ wave function in $k$-space?\n",
    "* Correct $\\delta U^\\dagger_{\\beta \\gamma \\alpha \\gamma}$ term. It does not include $\\beta > 1s_{1/2}$ currently. The other two $\\alpha$ and $\\gamma$ are fine."
   ]
  },
  {
   "cell_type": "code",
   "execution_count": 1,
   "id": "a353a2d6",
   "metadata": {
    "pycharm": {
     "name": "#%%\n"
    }
   },
   "outputs": [],
   "source": [
    "# Python imports\n",
    "from matplotlib.offsetbox import AnchoredText\n",
    "import matplotlib.pyplot as plt\n",
    "%matplotlib inline\n",
    "import numpy as np\n",
    "from numpy.polynomial.legendre import leggauss\n",
    "from scipy.interpolate import interp1d, RectBivariateSpline\n",
    "from scipy.special import spherical_jn"
   ]
  },
  {
   "cell_type": "code",
   "execution_count": 2,
   "id": "a47d30f7",
   "metadata": {
    "pycharm": {
     "name": "#%%\n"
    }
   },
   "outputs": [],
   "source": [
    "# Imports from A.T. codes\n",
    "from scripts.figures import set_rc_parameters, label_nucleus, label_sp_state\n",
    "from scripts.integration import (\n",
    "    gaussian_quadrature_mesh, momentum_mesh, unattach_weights_from_matrix\n",
    ")\n",
    "from scripts.potentials import Potential\n",
    "from scripts.srg import get_transformation\n",
    "from scripts.tools import replace_periods"
   ]
  },
  {
   "cell_type": "markdown",
   "id": "fa49d48d",
   "metadata": {
    "pycharm": {
     "name": "#%% md\n"
    }
   },
   "source": [
    "## Set-up"
   ]
  },
  {
   "cell_type": "code",
   "execution_count": 3,
   "id": "129e9aea",
   "metadata": {
    "pycharm": {
     "name": "#%%\n"
    }
   },
   "outputs": [],
   "source": [
    "# Run this cell to turn on customized matplotlib graphics\n",
    "set_rc_parameters()"
   ]
  },
  {
   "cell_type": "code",
   "execution_count": 4,
   "id": "ef9eb828",
   "metadata": {
    "pycharm": {
     "name": "#%%\n"
    }
   },
   "outputs": [],
   "source": [
    "# Save figures in the following directory\n",
    "figures_directory = '../figures/spectroscopic_factors/'\n",
    "\n",
    "# Load s.p. wave functions from the following directory\n",
    "hfbrad_directory = '../data/dft/SLy4/'"
   ]
  },
  {
   "cell_type": "markdown",
   "id": "b3f8759b",
   "metadata": {
    "pycharm": {
     "name": "#%%\n"
    }
   },
   "source": [
    "## Functions"
   ]
  },
  {
   "cell_type": "markdown",
   "id": "05f91d23",
   "metadata": {
    "pycharm": {
     "name": "#%% md\n"
    }
   },
   "source": [
    "Move some of these functions into scripts at a later date."
   ]
  },
  {
   "cell_type": "code",
   "execution_count": 5,
   "id": "9d4da0e4",
   "metadata": {
    "code_folding": [
     0
    ],
    "pycharm": {
     "name": "#%%\n"
    }
   },
   "outputs": [],
   "source": [
    "def convert_l_to_string(l):\n",
    "    \"\"\"\n",
    "    Returns the spectroscopic notation of the orbital angular momentum value\n",
    "    l (e.g., l = 2 returns 'd').\n",
    "\n",
    "    Parameters\n",
    "    ----------\n",
    "    l : int\n",
    "        Orbital angular momentum of the single-particle (s.p.) state.\n",
    "\n",
    "    Returns\n",
    "    -------\n",
    "    output : str\n",
    "        Spectroscopic notation of s.p. state orbital angular momentum.\n",
    "\n",
    "    \"\"\"\n",
    "\n",
    "    if l == 0:\n",
    "        return 's'\n",
    "    elif l == 1:\n",
    "        return 'p'\n",
    "    elif l == 2:\n",
    "        return 'd'\n",
    "    elif l == 3:\n",
    "        return 'f'\n",
    "    elif l == 4:\n",
    "        return 'g'\n",
    "    elif l == 5:\n",
    "        return 'h'\n",
    "    elif l == 6:\n",
    "        return 'i'\n",
    "    else:\n",
    "        raise RuntimeError(\n",
    "            \"Input l value is outside the range of this function.\"\n",
    "        )"
   ]
  },
  {
   "cell_type": "code",
   "execution_count": 6,
   "id": "3540f8ec",
   "metadata": {
    "code_folding": [
     0
    ]
   },
   "outputs": [],
   "source": [
    "def convert_l_to_int(sp_state):\n",
    "    \"\"\"\n",
    "    Returns the orbital angular momentum given the s.p. state in spectroscopic \n",
    "    notation (e.g., '1d1p5' returns 2).\n",
    "\n",
    "    Parameters\n",
    "    ----------\n",
    "    sp_state : str\n",
    "        Spectroscopic notation of s.p. state (e.g., '1s0p5').\n",
    "\n",
    "    Returns\n",
    "    -------\n",
    "    output : int\n",
    "        Orbital angular momentum of the single-particle (s.p.) state.\n",
    "\n",
    "    \"\"\"\n",
    "    \n",
    "    if sp_state[1] == 's':\n",
    "        return 0\n",
    "    elif sp_state[1] == 'p':\n",
    "        return 1       \n",
    "    elif sp_state[1] == 'd':\n",
    "        return 2\n",
    "    elif sp_state[1] == 'f':\n",
    "        return 3\n",
    "    elif sp_state[1] == 'g':\n",
    "        return 4\n",
    "    elif sp_state[1] == 'h':\n",
    "        return 5\n",
    "    elif sp_state[1] == 'i':\n",
    "        return 6\n",
    "    else:\n",
    "        raise RuntimeError(\n",
    "            \"Input s.p. state is outside the range of this function.\"\n",
    "        )"
   ]
  },
  {
   "cell_type": "code",
   "execution_count": 7,
   "id": "a2296aa8",
   "metadata": {
    "code_folding": [
     0
    ],
    "pycharm": {
     "name": "#%%\n"
    }
   },
   "outputs": [],
   "source": [
    "def sp_states(nucleus_name, Z, N, print_info=False):\n",
    "    \"\"\"\n",
    "    Return all the occupied single-particle states of the given nucleus.\n",
    "    \n",
    "    Parameters\n",
    "    ----------\n",
    "    nucleus_name : str\n",
    "        Name of the nucleus (e.g., 'Ca40').\n",
    "    Z : int\n",
    "        Proton number.\n",
    "    N : int\n",
    "        Neutron number.\n",
    "    print_statement : bool, optional\n",
    "        Option to print information for each s.p. state in nucleus.\n",
    "    \n",
    "    Returns\n",
    "    -------\n",
    "    output : dict\n",
    "        Dictionary with two keys: 'proton' and 'neutron'. Each corresponds to\n",
    "        a list of all the occupied s.p. states, which are strings (e.g., '1s0p5'\n",
    "        means 1s with j=1/2).\n",
    "    \n",
    "    Notes\n",
    "    -----\n",
    "    Currently we're assuming the SLy4 interaction.\n",
    "    \n",
    "    \"\"\"\n",
    "\n",
    "    # Go to HFBRAD directory\n",
    "    densities_directory = f'../data/dft/SLy4/{nucleus_name}/'\n",
    "    file_name = f'hfb_{N}_{Z}.spe'\n",
    "    \n",
    "    # Open file and add each occupied s.p. state to list\n",
    "    neutron_states = []\n",
    "    proton_states = []\n",
    "    \n",
    "    f = open(densities_directory + file_name, 'r')\n",
    "    \n",
    "    for line in f:\n",
    "        \n",
    "        unit = line.strip().split()  # Split up row into list\n",
    "        \n",
    "        # Make sure you're going through the correct data\n",
    "        if (len(unit) == 12) and (unit[0] in ('1', '2')):\n",
    "            \n",
    "            # Only do occupied states:\n",
    "            if float(unit[6]) == 1:\n",
    "            \n",
    "                # Integer specifying neutron or proton\n",
    "                nucleon_number = unit[0]\n",
    "        \n",
    "                # j value\n",
    "                j = int(unit[1])/2\n",
    "        \n",
    "                # Orbital angular momentum (int)\n",
    "                l = int(unit[2])\n",
    "                # Orbital angular momentum (str)\n",
    "                l_str = convert_l_to_string(l)\n",
    "        \n",
    "                # Is this correct? (# of nodes)\n",
    "                n = unit[11]\n",
    "            \n",
    "                # Convert s.p. state to string and append to list\n",
    "                state_str = f'{n}{l_str}{j:.1f}'\n",
    "            \n",
    "                # Add string to neutron or proton list with periods replaced\n",
    "                # by 'p'\n",
    "                if nucleon_number == '1': # Neutron\n",
    "                    neutron_states.append(replace_periods(state_str))\n",
    "                elif nucleon_number == '2': # Proton\n",
    "                    proton_states.append(replace_periods(state_str))\n",
    "            \n",
    "                # Print information for each state?\n",
    "                if print_info:\n",
    "                \n",
    "                    info = (f\"Nuc={nucleon_number}, N={unit[4]},\"\n",
    "                            f\" state={state_str}\")\n",
    "                    print(info)\n",
    "                \n",
    "    f.close()\n",
    "    \n",
    "    return {'neutron' : neutron_states, 'proton' : proton_states}"
   ]
  },
  {
   "cell_type": "code",
   "execution_count": 8,
   "id": "11523afc",
   "metadata": {
    "code_folding": [
     0
    ],
    "pycharm": {
     "name": "#%%\n"
    }
   },
   "outputs": [],
   "source": [
    "def get_phi_rspace(nucleus_name, Z, N, nucleon, sp_state,\n",
    "                   print_normalization=False):\n",
    "    \"\"\"Returns the single-particle wave function in coordinate space.\"\"\"\n",
    "    \n",
    "    if nucleon == 'proton':\n",
    "        nuc_int = 1\n",
    "    elif nucleon == 'neutron':\n",
    "        nuc_int = 0\n",
    "    \n",
    "    file_name = f'{nucleon}_{sp_state}_{N}_{Z}.gfx'\n",
    "    \n",
    "    data = np.loadtxt(hfbrad_directory + f\"{nucleus_name}/wfs/{file_name}\")\n",
    "\n",
    "    r_array = data[:, 0]  # Units fm\n",
    "    dr = r_array[1] - r_array[0]  # Linear spacing between r points\n",
    "    phi_array = data[:, 2]  # Units fm^-1/2\n",
    "    \n",
    "    # These are normalized as \\int dr |u(r)|^2 = 1\n",
    "    if print_normalization:\n",
    "        print(f\"Normalization = {np.sum(dr*phi_array**2)}.\")\n",
    "    \n",
    "    return r_array, phi_array"
   ]
  },
  {
   "cell_type": "code",
   "execution_count": 9,
   "id": "cf121a9a",
   "metadata": {
    "code_folding": [
     0
    ],
    "pycharm": {
     "name": "#%%\n"
    }
   },
   "outputs": [],
   "source": [
    "def plot_sp_wfs_rspace(nucleus_name, Z, N, x_limits=(0.0,10.0),\n",
    "                       y_limits=(0.0,0.8), save=False):\n",
    "    \"\"\"Plot the s.p. wave functions of a nucleus in coordinate space.\"\"\"\n",
    "\n",
    "    # Initialize figure\n",
    "    plt.close('all')\n",
    "    f, ax = plt.subplots(figsize=(4, 4))\n",
    "    \n",
    "    # Get the data\n",
    "    d = sp_states(nucleus_name, Z, N)\n",
    "    \n",
    "    # Plot just the proton wave functions\n",
    "    for i, sp_state in enumerate(d['proton']):\n",
    "        \n",
    "        r_array, phi_array = get_phi_rspace(nucleus_name, Z, N, 'proton',\n",
    "                                            sp_state)\n",
    "        \n",
    "        ax.plot(r_array, phi_array, label=label_sp_state(sp_state),\n",
    "                linewidth=2.0)\n",
    "        \n",
    "    # Set axes limits\n",
    "    ax.set_xlim(x_limits)\n",
    "    ax.set_ylim(y_limits)\n",
    "\n",
    "    # Set axes labels\n",
    "    ax.set_xlabel(r\"$r$ [fm]\", fontsize=16)\n",
    "    ax.set_ylabel(r\"$u(r)$ [fm\" + r'$^{-1/2}$' + ']', fontsize=16)\n",
    "\n",
    "    # Set legend\n",
    "    ax.legend(loc='upper right', fontsize=14, frameon=False)\n",
    "\n",
    "    # Add nucleus label\n",
    "    ax.add_artist(\n",
    "        AnchoredText(label_nucleus(nucleus_name), loc='center right',\n",
    "                     prop=dict(size=18), frameon=False)\n",
    "    )\n",
    "    \n",
    "    # Save?\n",
    "    if save:\n",
    "        file_name = f'{nucleus_name}_sp_wfs_rspace_SLy4.png'\n",
    "        f.savefig(figures_directory + file_name)"
   ]
  },
  {
   "cell_type": "code",
   "execution_count": 10,
   "id": "6eb73793",
   "metadata": {
    "code_folding": [
     0
    ],
    "pycharm": {
     "name": "#%%\n"
    }
   },
   "outputs": [],
   "source": [
    "def hankel_transformation(l, k_array, r_array, dr):\n",
    "    \"\"\"\n",
    "    <k|r> transformation matrix for given orbital angular momentum l. If\n",
    "    len(r_array) = m and len(k_array) = n, then this function returns an \n",
    "    n x m matrix.\n",
    "    \n",
    "    Parameters\n",
    "    ----------\n",
    "    l : int\n",
    "        Orbital angular momentum.\n",
    "    k_array : 1-D ndarray\n",
    "        Momentum array [fm^-1].\n",
    "    r_array : 1-D ndarray\n",
    "        Coordinates array [fm].\n",
    "    dr : float\n",
    "        Coordinates step-size (weight) [fm].\n",
    "        \n",
    "    Returns\n",
    "    -------\n",
    "    M : 2-D ndarray\n",
    "        Hankel transformation matrix [fm^3\\2].\n",
    "        \n",
    "    Notes\n",
    "    -----\n",
    "    There is a \"missing\" factor of r in the transformation matrix since the\n",
    "    radial wave functions are already multiplied by r, meaning the\n",
    "    normalization is \\int dr |u(r)|^2 = 1 without the r^2.\n",
    "\n",
    "    \"\"\"\n",
    "\n",
    "    # r_array column vectors and k_array row vectors where both grids are\n",
    "    # n x m matrices\n",
    "    r_cols, k_rows = np.meshgrid(r_array, k_array)\n",
    "        \n",
    "    # M = (-1j)**l * np.sqrt(2/np.pi) * dr * r_cols * spherical_jn(l, k_rows * r_cols)\n",
    "    M = np.sqrt(2/np.pi) * dr * r_cols * spherical_jn(l, k_rows * r_cols)\n",
    "\n",
    "    return M"
   ]
  },
  {
   "cell_type": "code",
   "execution_count": 11,
   "id": "8bfb9ed4",
   "metadata": {
    "code_folding": [
     0
    ],
    "pycharm": {
     "name": "#%%\n"
    }
   },
   "outputs": [],
   "source": [
    "def get_phi_kspace(nucleus_name, Z, N, nucleon, sp_state,\n",
    "                   print_normalization=False):\n",
    "    \"\"\"Returns the single-particle wave function in momentum space.\"\"\"\n",
    "    \n",
    "    # Set momentum mesh\n",
    "    k_array, k_weights = momentum_mesh(15.0, 3.0, 120)\n",
    "    \n",
    "    # Get coordinate-space s.p. wave function\n",
    "    r_array, phi_r_array = get_phi_rspace(nucleus_name, Z, N, nucleon, sp_state)\n",
    "    dr = r_array[2] - r_array[1]  # Assuming linear spacing in coordinates\n",
    "    \n",
    "    # Fourier-transform the wave function to momentum space\n",
    "    l = convert_l_to_int(sp_state)\n",
    "    phi_k_array = hankel_transformation(l, k_array, r_array, dr) @ phi_r_array\n",
    "    \n",
    "    # These are normalized as \\int dk k^2 |\\phi(k)|^2 = 1\n",
    "    if print_normalization:\n",
    "        print(f\"Normalization = {np.sum(k_weights*k_array**2*phi_k_array**2)}.\")\n",
    "\n",
    "    return k_array, k_weights, phi_k_array"
   ]
  },
  {
   "cell_type": "code",
   "execution_count": 12,
   "id": "6d1e005a",
   "metadata": {
    "code_folding": [
     0
    ],
    "pycharm": {
     "name": "#%%\n"
    }
   },
   "outputs": [],
   "source": [
    "def plot_sp_wfs_kspace(nucleus_name, Z, N, x_limits=(0.0,5.0),\n",
    "                       y_limits=(-0.1,4.0), save=False):\n",
    "    \"\"\"Plot the s.p. wave functions of a nucleus in momentum space.\"\"\"\n",
    "\n",
    "    # Initialize figure\n",
    "    plt.close('all')\n",
    "    f, ax = plt.subplots(figsize=(4, 4))\n",
    "    \n",
    "    # Get the data\n",
    "    d = sp_states(nucleus_name, Z, N)\n",
    "    \n",
    "    # Plot just the proton wave functions\n",
    "    for i, sp_state in enumerate(d['proton']):\n",
    "        \n",
    "        k_array, _, phi_array = get_phi_kspace(nucleus_name, Z, N, 'proton',\n",
    "                                               sp_state)\n",
    "        \n",
    "        ax.plot(k_array, phi_array, label=label_sp_state(sp_state),\n",
    "                linewidth=2.0)\n",
    "        \n",
    "#         # TESTING\n",
    "#         for i,j in zip(k_array, phi_array):\n",
    "#             print(i,j)\n",
    "        \n",
    "    # Add horizontal line at y=0\n",
    "    ax.axhline(0.0, color='gray', alpha=0.4, zorder=1)\n",
    "        \n",
    "    # Set axes limits\n",
    "    ax.set_xlim(x_limits)\n",
    "    ax.set_ylim(y_limits)\n",
    "\n",
    "    # Set axes labels\n",
    "    ax.set_xlabel(r\"$k$ [fm\" + r'$^{-1}$' + ']', fontsize=16)\n",
    "    ax.set_ylabel(r\"$\\phi(k)$ [fm\" + r'$^{3/2}$' + ']', fontsize=16)\n",
    "\n",
    "    # Set legend\n",
    "    ax.legend(loc='upper right', fontsize=14, frameon=False)\n",
    "\n",
    "    # Add nucleus label\n",
    "    ax.add_artist(\n",
    "        AnchoredText(label_nucleus(nucleus_name), loc='center right',\n",
    "                     prop=dict(size=18), frameon=False)\n",
    "    )\n",
    "    \n",
    "    # Save?\n",
    "    if save:\n",
    "        file_name = f'{nucleus_name}_sp_wfs_kspace_SLy4.png'\n",
    "        f.savefig(figures_directory + file_name)"
   ]
  },
  {
   "cell_type": "markdown",
   "id": "5601ae8f",
   "metadata": {
    "pycharm": {
     "name": "#%% md\n"
    }
   },
   "source": [
    "## Single-particle wave functions in coordinate space"
   ]
  },
  {
   "cell_type": "code",
   "execution_count": 13,
   "id": "6123d6e2",
   "metadata": {
    "pycharm": {
     "name": "#%%\n"
    }
   },
   "outputs": [],
   "source": [
    "nucleus_name, Z, N = 'He4', 2, 2"
   ]
  },
  {
   "cell_type": "code",
   "execution_count": 14,
   "id": "7aa78b23",
   "metadata": {
    "pycharm": {
     "name": "#%%\n"
    }
   },
   "outputs": [
    {
     "name": "stdout",
     "output_type": "stream",
     "text": [
      "Nuc=1, N=1, state=1s0.5\n",
      "Nuc=2, N=154, state=1s0.5\n"
     ]
    },
    {
     "data": {
      "text/plain": [
       "{'neutron': ['1s0p5'], 'proton': ['1s0p5']}"
      ]
     },
     "execution_count": 14,
     "metadata": {},
     "output_type": "execute_result"
    }
   ],
   "source": [
    "sp_states(nucleus_name, Z, N, print_info=True)"
   ]
  },
  {
   "cell_type": "code",
   "execution_count": 15,
   "id": "c0f8e2de",
   "metadata": {
    "pycharm": {
     "name": "#%%\n"
    }
   },
   "outputs": [
    {
     "name": "stdout",
     "output_type": "stream",
     "text": [
      "Normalization = 1.0000000007365384.\n"
     ]
    }
   ],
   "source": [
    "phi_r_array = get_phi_rspace(nucleus_name, Z, N, 'proton', '1s0p5',\n",
    "                             print_normalization=True)"
   ]
  },
  {
   "cell_type": "code",
   "execution_count": 16,
   "id": "2ed179b7",
   "metadata": {
    "pycharm": {
     "name": "#%%\n"
    }
   },
   "outputs": [
    {
     "data": {
      "image/png": "[encoded data removed]",
      "text/plain": [
       "<Figure size 600x600 with 1 Axes>"
      ]
     },
     "metadata": {},
     "output_type": "display_data"
    }
   ],
   "source": [
    "plot_sp_wfs_rspace(nucleus_name, Z, N, save=True)"
   ]
  },
  {
   "cell_type": "code",
   "execution_count": 17,
   "id": "c82ccf73",
   "metadata": {
    "pycharm": {
     "name": "#%%\n"
    }
   },
   "outputs": [
    {
     "data": {
      "image/png": "[encoded data removed]",
      "text/plain": [
       "<Figure size 600x600 with 1 Axes>"
      ]
     },
     "metadata": {},
     "output_type": "display_data"
    }
   ],
   "source": [
    "plot_sp_wfs_rspace('O16', 8, 8, save=True)"
   ]
  },
  {
   "cell_type": "markdown",
   "id": "3a911247",
   "metadata": {
    "pycharm": {
     "name": "#%% md\n"
    }
   },
   "source": [
    "## Single-particle wave functions in momentum space"
   ]
  },
  {
   "cell_type": "code",
   "execution_count": 18,
   "id": "38fee969",
   "metadata": {
    "code_folding": [],
    "pycharm": {
     "name": "#%%\n"
    }
   },
   "outputs": [
    {
     "name": "stdout",
     "output_type": "stream",
     "text": [
      "Normalization = 1.0000000007365952.\n"
     ]
    }
   ],
   "source": [
    "phi_k_array = get_phi_kspace(nucleus_name, Z, N, 'proton', '1s0p5',\n",
    "                             print_normalization=True)"
   ]
  },
  {
   "cell_type": "code",
   "execution_count": 19,
   "id": "3f8ccd8d",
   "metadata": {
    "pycharm": {
     "name": "#%%\n"
    }
   },
   "outputs": [
    {
     "data": {
      "image/png": "[encoded data removed]",
      "text/plain": [
       "<Figure size 600x600 with 1 Axes>"
      ]
     },
     "metadata": {},
     "output_type": "display_data"
    }
   ],
   "source": [
    "plot_sp_wfs_kspace(nucleus_name, Z, N, y_limits=(-0.1,3.5), save=True)"
   ]
  },
  {
   "cell_type": "markdown",
   "id": "c4c5849c",
   "metadata": {},
   "source": [
    "_Note, the $1s_{1/2}$ wave function is slightly negative at different points in $k$. Will that screw up calculations? Is something wrong with my Fourier transform?_"
   ]
  },
  {
   "cell_type": "markdown",
   "id": "e9d3088d",
   "metadata": {},
   "source": [
    "## Spectroscopic overlaps"
   ]
  },
  {
   "cell_type": "markdown",
   "id": "05a00a2f",
   "metadata": {},
   "source": [
    "The following calculation is based on equation (23) in the Overleaf notes."
   ]
  },
  {
   "cell_type": "code",
   "execution_count": 20,
   "id": "a3f57c74",
   "metadata": {
    "code_folding": [
     1
    ]
   },
   "outputs": [],
   "source": [
    "# Note, this needs to be updated to do coupled-channels (not just 3S1-3S1)\n",
    "def interpolate_deltaU_dagger(kvnn, channel, lamb, kmax, kmid, ntot, generator):\n",
    "    \"\"\"Interpolate \\delta U^\\dagger(k',k).\"\"\"\n",
    "    \n",
    "    # Set potential\n",
    "    potential = Potential(kvnn, channel, kmax, kmid, ntot)\n",
    "    \n",
    "    # Get momentum mesh\n",
    "    k_array, k_weights = potential.load_mesh()\n",
    "    \n",
    "    # Initial and evolved Hamiltonians\n",
    "    H_initial = potential.load_hamiltonian()\n",
    "    if generator == 'Block-diag':\n",
    "        H_evolved = potential.load_hamiltonian('srg', generator, 1.0,\n",
    "                                               lambda_bd=lamb)\n",
    "    else:\n",
    "        H_evolved = potential.load_hamiltonian('srg', generator, lamb)\n",
    "    \n",
    "    # Get SRG transformation from Hamiltonians\n",
    "#     U_matrix_weights = get_transformation(H_initial, H_evolved)\n",
    "    U_matrix_weights = get_transformation(H_initial, H_evolved)[:ntot,:ntot]\n",
    "\n",
    "#     # Coupled-channel?\n",
    "#     cc_bool = coupled_channel(channel)\n",
    "\n",
    "    # Isolate 2-body term\n",
    "#     if cc_bool:\n",
    "#         I_matrix_weights = np.eye(2 * ntot, 2 * ntot)\n",
    "#     else:\n",
    "#         I_matrix_weights = np.eye(ntot, ntot)\n",
    "    I_matrix_weights = np.eye(ntot, ntot)\n",
    "    delUdag_matrix_weights = (U_matrix_weights - I_matrix_weights).T\n",
    "    delUdag_matrix = unattach_weights_from_matrix(k_array, k_weights,\n",
    "                                                  delUdag_matrix_weights)\n",
    "    \n",
    "    \n",
    "    # Interpolate \\delta U^\\dagger(k,k')\n",
    "    delUdag_func = RectBivariateSpline(k_array, k_array, delUdag_matrix, kx=1,\n",
    "                                       ky=1)\n",
    "\n",
    "    return delUdag_func"
   ]
  },
  {
   "cell_type": "code",
   "execution_count": 21,
   "id": "625c03ca",
   "metadata": {
    "code_folding": [
     0
    ]
   },
   "outputs": [],
   "source": [
    "def interpolate_phi_kspace(nucleon):\n",
    "    \"\"\"Interpolate s.p. wave functions \\phi(k).\"\"\"\n",
    "    \n",
    "    k_array, _, phi_array = get_phi_kspace('He4', 2, 2, nucleon, '1s0p5')\n",
    "\n",
    "    # Interpolate s.p. wave functions\n",
    "    phi_func = interp1d(k_array, phi_array, kind='linear', bounds_error=False,\n",
    "                        fill_value='extrapolate')\n",
    "\n",
    "    return phi_func"
   ]
  },
  {
   "cell_type": "code",
   "execution_count": 22,
   "id": "04393ef8",
   "metadata": {
    "code_folding": [
     0
    ]
   },
   "outputs": [],
   "source": [
    "def compute_deltaU_dagger_term(kvnn, lamb, kmax=15.0, kmid=3.0, ntot=120,\n",
    "                               generator='Wegner'):\n",
    "    \"\"\"Compute the \\delta U^\\dagger term in the spectroscopic overlap.\"\"\"\n",
    "    \n",
    "    # Initialize momentum and angle meshes\n",
    "    k_array, k_weights = momentum_mesh(10.0, 2.0, 120)  # Relative momenta\n",
    "    K_array, K_weights = gaussian_quadrature_mesh(2.0, 40)  # CoM momenta\n",
    "    x_array, x_weights = leggauss(7)  # Angles between K and k' (or K and k)\n",
    "    \n",
    "    # Get meshgrids for (k', k, K, x)\n",
    "    kp_grid, k_grid, K_grid, x_grid = np.meshgrid(k_array, k_array, K_array,\n",
    "                                                  x_array, indexing='ij')\n",
    "    _, _, _, dx_grid = np.meshgrid(k_weights, k_weights, K_weights, x_weights,\n",
    "                                   indexing='ij')\n",
    "    \n",
    "    # Get s.p. wave functions\n",
    "    phi_p_func = interpolate_phi_kspace('proton')\n",
    "    phi_n_func = interpolate_phi_kspace('neutron')\n",
    "    \n",
    "    # Evaluate product of s.p. wave functions and attach weights dx (or dy)\n",
    "    # These are 4-D arrays (k', k, K, x)\n",
    "    pp_kp_K_y_grid = (\n",
    "        phi_p_func(\n",
    "            np.sqrt(K_grid**2/4 + kp_grid**2 + kp_grid*K_grid*x_grid)\n",
    "        )\n",
    "        * phi_p_func(\n",
    "            np.sqrt(K_grid**2/4 + kp_grid**2 - kp_grid*K_grid*x_grid)\n",
    "        )\n",
    "    ) * dx_grid\n",
    "    pn_kp_K_y_grid = (\n",
    "        phi_p_func(\n",
    "            np.sqrt(K_grid**2/4 + kp_grid**2 + kp_grid*K_grid*x_grid)\n",
    "        )\n",
    "        * phi_n_func(\n",
    "            np.sqrt(K_grid**2/4 + kp_grid**2 - kp_grid*K_grid*x_grid)\n",
    "        )\n",
    "    ) * dx_grid\n",
    "    pp_k_K_x_grid = (\n",
    "        phi_p_func(\n",
    "            np.sqrt(K_grid**2/4 + k_grid**2 + k_grid*K_grid*x_grid)\n",
    "        )\n",
    "        * phi_p_func(\n",
    "            np.sqrt(K_grid**2/4 + k_grid**2 - k_grid*K_grid*x_grid)\n",
    "        )\n",
    "    ) * dx_grid\n",
    "    pn_k_K_x_grid = (\n",
    "        phi_p_func(\n",
    "            np.sqrt(K_grid**2/4 + k_grid**2 + k_grid*K_grid*x_grid)\n",
    "        )\n",
    "        * phi_n_func(\n",
    "            np.sqrt(K_grid**2/4 + k_grid**2 - k_grid*K_grid*x_grid)\n",
    "        )\n",
    "    ) * dx_grid\n",
    "    \n",
    "    # Perform angle-averaging integrals (x and y) -> 3-D arrays (k', k, K)\n",
    "    pp_kp_K_grid = 0.5 * np.sum(pp_kp_K_y_grid, axis=-1)\n",
    "    pn_kp_K_grid = 0.5 * np.sum(pn_kp_K_y_grid, axis=-1)\n",
    "    pp_k_K_grid = 0.5 * np.sum(pp_k_K_x_grid, axis=-1)\n",
    "    pn_k_K_grid = 0.5 * np.sum(pn_k_K_x_grid, axis=-1)\n",
    "    \n",
    "    # Evaluate product of s.p. wave functions and attach dK K^2\n",
    "    _, _, dK_grid = np.meshgrid(k_weights, k_weights, K_array**2 * K_weights,\n",
    "                                indexing='ij')\n",
    "    pppp_kp_k_K_grid = pp_kp_K_grid * pp_k_K_grid * dK_grid\n",
    "    pnpn_kp_k_K_grid = pn_kp_K_grid * pn_k_K_grid * dK_grid\n",
    "    \n",
    "    # Integrate over K -> 2-D arrays (k', k)\n",
    "    pppp_kp_k_grid = np.sum(pppp_kp_k_K_grid, axis=-1)\n",
    "    pnpn_kp_k_grid = np.sum(pnpn_kp_k_K_grid, axis=-1)\n",
    "    \n",
    "    # Get \\delta U^\\dagger(k',k) and evaluate integrand with dk' k'^2 dk k^2\n",
    "    delUdag_1S0_func = interpolate_deltaU_dagger(kvnn, '1S0', lamb, kmax,\n",
    "                                                 kmid, ntot, generator)\n",
    "    delUdag_1S0_grid = delUdag_1S0_func(k_array, k_array)\n",
    "    delUdag_3S1_func = interpolate_deltaU_dagger(kvnn, '3S1', lamb, kmax,\n",
    "                                                 kmid, ntot, generator)\n",
    "    delUdag_3S1_grid = delUdag_3S1_func(k_array, k_array)\n",
    "    \n",
    "    dkp_grid, dk_grid = np.meshgrid(k_array**2 * k_weights,\n",
    "                                    k_array**2 * k_weights, indexing='ij')\n",
    "    \n",
    "    integrand = (\n",
    "        (pppp_kp_k_grid * delUdag_1S0_grid + 0.5 * pnpn_kp_k_grid \n",
    "         * (delUdag_1S0_grid+3*delUdag_3S1_grid))\n",
    "    ) * dkp_grid * dk_grid\n",
    "    \n",
    "    # Integrate over k and kp -> reduced to a number at this point\n",
    "    return 4 * np.pi * np.sum(np.sum(integrand, axis=-1), axis=-1)"
   ]
  },
  {
   "cell_type": "code",
   "execution_count": 23,
   "id": "5a61df7f",
   "metadata": {},
   "outputs": [
    {
     "data": {
      "text/plain": [
       "-0.8380369927826633"
      ]
     },
     "execution_count": 23,
     "metadata": {},
     "output_type": "execute_result"
    }
   ],
   "source": [
    "compute_deltaU_dagger_term(6, 1.35)"
   ]
  },
  {
   "cell_type": "code",
   "execution_count": 24,
   "id": "fa95b387",
   "metadata": {},
   "outputs": [
    {
     "data": {
      "text/plain": [
       "-0.40381840533395313"
      ]
     },
     "execution_count": 24,
     "metadata": {},
     "output_type": "execute_result"
    }
   ],
   "source": [
    "compute_deltaU_dagger_term(6, 2.0)"
   ]
  },
  {
   "cell_type": "code",
   "execution_count": 25,
   "id": "8a89971c",
   "metadata": {
    "code_folding": [
     0
    ]
   },
   "outputs": [],
   "source": [
    "def spectroscopic_overlap(kvnn, lamb, kmax=15.0, kmid=3.0, ntot=120,\n",
    "                          generator='Wegner', sanity_check=False):\n",
    "    \"\"\"Compute the spectroscopic overlap.\"\"\"\n",
    "    \n",
    "    # Give an option to set \\delta U^\\dagger term to zero for sanity check\n",
    "    if sanity_check:\n",
    "        delUdag_term = 0.0\n",
    "    else:\n",
    "        delUdag_term = compute_deltaU_dagger_term(kvnn, lamb, kmax, kmid, ntot,\n",
    "                                                  generator)\n",
    "        \n",
    "    # Get s.p. wave function for 1s_1/2 proton in He4\n",
    "    q_array, q_weights, phi_array = get_phi_kspace('He4', 2, 2, 'proton',\n",
    "                                                   '1s0p5')\n",
    "    \n",
    "    # Y_00(\\qhat) is simple\n",
    "    Y_00 = 1/np.sqrt(4*np.pi)\n",
    "    \n",
    "    # Sum I and \\delta U^\\dagger terms and tack on \\phi(q) Y_00(\\qhat)\n",
    "    return q_array, q_weights, Y_00 * phi_array * (1 + delUdag_term)"
   ]
  },
  {
   "cell_type": "code",
   "execution_count": 26,
   "id": "b4c0d872",
   "metadata": {
    "code_folding": [
     0
    ]
   },
   "outputs": [],
   "source": [
    "def spectroscopic_factor(kvnn, lamb, kmax=15.0, kmid=3.0, ntot=120,\n",
    "                         generator='Wegner', sanity_check=False):\n",
    "    \"\"\"Compute the normalization of the spectroscopic overlap.\"\"\"\n",
    "    \n",
    "    # Get the spectroscopic overlap and momenta (with weights)\n",
    "    q_array, q_weights, overlap_array = spectroscopic_overlap(\n",
    "        kvnn, lamb, kmax, kmid, ntot, generator, sanity_check\n",
    "    )\n",
    "    \n",
    "    return 4 * np.pi * np.sum(q_weights * q_array**2 * abs(overlap_array)**2)"
   ]
  },
  {
   "cell_type": "code",
   "execution_count": 27,
   "id": "8340b238",
   "metadata": {},
   "outputs": [
    {
     "data": {
      "text/plain": [
       "1.0000000007365952"
      ]
     },
     "execution_count": 27,
     "metadata": {},
     "output_type": "execute_result"
    }
   ],
   "source": [
    "spectroscopic_factor(6, 1.35, sanity_check=True)"
   ]
  },
  {
   "cell_type": "code",
   "execution_count": 28,
   "id": "3c81eb0d",
   "metadata": {},
   "outputs": [
    {
     "data": {
      "text/plain": [
       "0.026232015726205433"
      ]
     },
     "execution_count": 28,
     "metadata": {},
     "output_type": "execute_result"
    }
   ],
   "source": [
    "spectroscopic_factor(6, 1.35)"
   ]
  },
  {
   "cell_type": "code",
   "execution_count": 29,
   "id": "a0c9aa2f",
   "metadata": {},
   "outputs": [
    {
     "data": {
      "text/plain": [
       "0.35543249408036054"
      ]
     },
     "execution_count": 29,
     "metadata": {},
     "output_type": "execute_result"
    }
   ],
   "source": [
    "spectroscopic_factor(6, 2.0)"
   ]
  },
  {
   "cell_type": "code",
   "execution_count": 30,
   "id": "86eb8c2c",
   "metadata": {},
   "outputs": [],
   "source": [
    "def plot_spectroscopic_overlap(\n",
    "        kvnn, lamb, kmax=15.0, kmid=3.0, ntot=120, generator='Wegner',\n",
    "        sanity_check=False, x_limits=(0.0,10.0), y_limits=(1e-5,1e2),\n",
    "        save=False):\n",
    "    \"\"\"Plot the spectrosopic overlap as a function of momentum q.\"\"\"\n",
    "\n",
    "    # Initialize figure\n",
    "    plt.close('all')\n",
    "    f, ax = plt.subplots(figsize=(4, 4))\n",
    "    \n",
    "    # Get the data\n",
    "    q_array, q_weights, overlap_array = spectroscopic_overlap(\n",
    "        kvnn, lamb, kmax, kmid, ntot, generator, sanity_check\n",
    "    )\n",
    "    \n",
    "    # TESTING\n",
    "    # Try plotting \\sqrt((2j+1)*(4\\pi)) * overlap -> \\int dq q^2 |overlap|^2 = (2j+1)\n",
    "#     factor = np.sqrt(2 * 4 * np.pi)\n",
    "    factor = np.sqrt(4 * np.pi * 2 * (2*np.pi)**3)\n",
    "#     factor = 1\n",
    "    \n",
    "    # Plot just the proton overlap\n",
    "    ax.semilogy(q_array, overlap_array*factor, label=label_sp_state('1s0p5'),\n",
    "                linewidth=2.0)\n",
    "    \n",
    "    # TESTING\n",
    "    print(np.sum(abs(overlap_array*factor)**2*q_weights*q_array**2)/(2*np.pi)**3)\n",
    "        \n",
    "    # Set axes limits\n",
    "    ax.set_xlim(x_limits)\n",
    "    ax.set_ylim(y_limits)\n",
    "\n",
    "    # Set axes labels\n",
    "    ax.set_xlabel(r\"$q$ [fm\" + r'$^{-1}$' + ']', fontsize=16)\n",
    "    ax.set_ylabel(r\"$A(q)$ [fm\" + r'$^{3/2}$' + ']', fontsize=16)\n",
    "\n",
    "    # Set legend\n",
    "    ax.legend(loc='upper right', fontsize=14, frameon=False)\n",
    "\n",
    "    # Add nucleus label\n",
    "    ax.add_artist(\n",
    "        AnchoredText(label_nucleus(nucleus_name), loc='center right',\n",
    "                     prop=dict(size=18), frameon=False)\n",
    "    )\n",
    "    \n",
    "    # Save?\n",
    "    if save:\n",
    "        file_name = f'{nucleus_name}_overlap_{kvnn}_{lamb}_SLy4.png'\n",
    "        f.savefig(figures_directory + file_name)"
   ]
  },
  {
   "cell_type": "code",
   "execution_count": 31,
   "id": "3d419b82",
   "metadata": {},
   "outputs": [
    {
     "name": "stdout",
     "output_type": "stream",
     "text": [
      "0.052464031452410874\n"
     ]
    },
    {
     "data": {
      "image/png": "[encoded data removed]",
      "text/plain": [
       "<Figure size 600x600 with 1 Axes>"
      ]
     },
     "metadata": {},
     "output_type": "display_data"
    }
   ],
   "source": [
    "plot_spectroscopic_overlap(6, 1.35, save=True)"
   ]
  },
  {
   "cell_type": "code",
   "execution_count": 32,
   "id": "ac74b9a0",
   "metadata": {},
   "outputs": [
    {
     "name": "stdout",
     "output_type": "stream",
     "text": [
      "2.0000000014731905\n"
     ]
    },
    {
     "data": {
      "image/png": "[encoded data removed]",
      "text/plain": [
       "<Figure size 600x600 with 1 Axes>"
      ]
     },
     "metadata": {},
     "output_type": "display_data"
    }
   ],
   "source": [
    "plot_spectroscopic_overlap(6, 1.35, sanity_check=True)"
   ]
  },
  {
   "cell_type": "code",
   "execution_count": null,
   "id": "3da83d87",
   "metadata": {},
   "outputs": [],
   "source": []
  },
  {
   "cell_type": "code",
   "execution_count": null,
   "id": "09b1b802",
   "metadata": {},
   "outputs": [],
   "source": []
  },
  {
   "cell_type": "code",
   "execution_count": null,
   "id": "bc5d4705",
   "metadata": {},
   "outputs": [],
   "source": []
  },
  {
   "cell_type": "code",
   "execution_count": null,
   "id": "913c1da7",
   "metadata": {},
   "outputs": [],
   "source": []
  }
 ],
 "metadata": {
  "kernelspec": {
   "display_name": "Python 3 (ipykernel)",
   "language": "python",
   "name": "python3"
  },
  "language_info": {
   "codemirror_mode": {
    "name": "ipython",
    "version": 3
   },
   "file_extension": ".py",
   "mimetype": "text/x-python",
   "name": "python",
   "nbconvert_exporter": "python",
   "pygments_lexer": "ipython3",
   "version": "3.9.7"
  }
 },
 "nbformat": 4,
 "nbformat_minor": 5
}

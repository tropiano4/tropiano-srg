{
 "cells": [
  {
   "cell_type": "markdown",
   "id": "1660e557",
   "metadata": {},
   "source": [
    "# Test evolving the $^{3}S_1$ channel with no coupling to $^{3}D_1$\n",
    "\n",
    "__Author:__ A. J. Tropiano [atropiano@anl.gov]<br/>\n",
    "__Date:__ March 7, 2023\n",
    "\n",
    "This notebook tests the momentum distribution calculation in the $^{3}S_1$ channel with no coupling to $^{3}D_1$.\n",
    "\n",
    "_Last update:_ March 8, 2023"
   ]
  },
  {
   "cell_type": "code",
   "execution_count": 1,
   "id": "08731f16",
   "metadata": {},
   "outputs": [],
   "source": [
    "# Python imports\n",
    "import numpy as np\n",
    "from scipy.integrate import ode\n",
    "import time"
   ]
  },
  {
   "cell_type": "code",
   "execution_count": 25,
   "id": "d0d39761",
   "metadata": {},
   "outputs": [],
   "source": [
    "# Imports from scripts\n",
    "# from scripts.figures import set_rc_parameters\n",
    "from scripts.potentials import Potential\n",
    "from scripts.tools import replace_periods"
   ]
  },
  {
   "cell_type": "code",
   "execution_count": 3,
   "id": "da5e01b1",
   "metadata": {},
   "outputs": [],
   "source": [
    "# Run this cell to turn on customized matplotlib graphics\n",
    "# set_rc_parameters()"
   ]
  },
  {
   "cell_type": "markdown",
   "id": "0fa05238",
   "metadata": {},
   "source": [
    "## Set-up"
   ]
  },
  {
   "cell_type": "code",
   "execution_count": 4,
   "id": "c9067d64",
   "metadata": {},
   "outputs": [],
   "source": [
    "kvnn = 6  # AV18\n",
    "channel = '3S1'\n",
    "kmax, kmid, ntot = 15.0, 3.0, 120\n",
    "generator = 'Wegner'\n",
    "lamb = 1.35"
   ]
  },
  {
   "cell_type": "code",
   "execution_count": 5,
   "id": "ad681d6d",
   "metadata": {},
   "outputs": [],
   "source": [
    "potential = Potential(kvnn, channel, kmax, kmid, ntot)"
   ]
  },
  {
   "cell_type": "code",
   "execution_count": 6,
   "id": "8be55695",
   "metadata": {},
   "outputs": [],
   "source": [
    "# Initial Hamiltonian with integration factors attached [MeV]\n",
    "H_initial_weights = potential.load_hamiltonian()"
   ]
  },
  {
   "cell_type": "markdown",
   "id": "471af6b4",
   "metadata": {},
   "source": [
    "## Set $^{3}S_1-^{3}D_1$ and $^{3}D_1-^{3}S_1$ off-diagonal blocks to zero"
   ]
  },
  {
   "cell_type": "code",
   "execution_count": 7,
   "id": "84616e50",
   "metadata": {},
   "outputs": [],
   "source": [
    "H_initial_weights[:ntot, ntot:] = np.zeros((ntot, ntot))\n",
    "H_initial_weights[ntot:, :ntot] = np.zeros((ntot, ntot))"
   ]
  },
  {
   "cell_type": "markdown",
   "id": "f1780260",
   "metadata": {},
   "source": [
    "## SRG evolve the potential"
   ]
  },
  {
   "cell_type": "markdown",
   "id": "0a74a756",
   "metadata": {},
   "source": [
    "Using `scipy.integrate.ode` and solving for $H(\\lambda)$ w.r.t. $\\lambda$."
   ]
  },
  {
   "cell_type": "code",
   "execution_count": 8,
   "id": "c0614d96",
   "metadata": {
    "code_folding": [
     0
    ]
   },
   "outputs": [],
   "source": [
    "def matrix_to_vector(M):\n",
    "    \"\"\"\n",
    "    Takes the upper triangle of the matrix M (including the diagonal) and\n",
    "    reshapes it into a vector v.\n",
    "        \n",
    "    Parameters\n",
    "    ----------\n",
    "    M : 2-D ndarray\n",
    "        Input matrix of shape (N, N).\n",
    "            \n",
    "    Returns\n",
    "    -------\n",
    "    v : 1-D ndarray\n",
    "        Output vector of shape (N*(N+1)/2,).\n",
    "            \n",
    "    \"\"\"\n",
    "\n",
    "    # Length of matrix\n",
    "    N = len(M)\n",
    "    # Length of vectorized matrix\n",
    "    n = int(N * (N + 1) / 2)\n",
    "\n",
    "    # Initialize vectorized matrix\n",
    "    v = np.zeros(n)\n",
    "\n",
    "    # Algorithm for reshaping M to the vector v\n",
    "    i = 0\n",
    "    j = N\n",
    "    for k in range(N):\n",
    "        v[i:j] = M[k][k:]\n",
    "        i = j\n",
    "        j += N - k - 1\n",
    "\n",
    "    return v"
   ]
  },
  {
   "cell_type": "code",
   "execution_count": 9,
   "id": "dcc1fe51",
   "metadata": {
    "code_folding": [
     0
    ]
   },
   "outputs": [],
   "source": [
    "def vector_to_matrix(v):\n",
    "    \"\"\"\n",
    "    Takes the vector of an upper triangle matrix v and returns the full matrix\n",
    "    M. Use only for symmetric matrices.\n",
    "        \n",
    "    Parameters\n",
    "    ----------\n",
    "    v : 1-D ndarray\n",
    "        Input vector of shape (N*(N+1)/2,).\n",
    "        \n",
    "    Returns\n",
    "    -------\n",
    "    output : 2-D ndarray\n",
    "        Output matrix of shape (N, N).\n",
    "            \n",
    "    \"\"\"\n",
    "    \n",
    "    # Dimension of matrix is found by solving for the positive solution to\n",
    "    # n = N(N+1)/2, where n is the length of the vector\n",
    "    N = int((-1 + np.sqrt(1 + 8 * len(v))) / 2)\n",
    "\n",
    "    # Initialize matrix\n",
    "    M = np.zeros((N, N))\n",
    "\n",
    "    # Build the upper half of matrix with the diagonal included\n",
    "\n",
    "    # Algorithm for reshaping v to the matrix M\n",
    "    i = 0\n",
    "    j = N\n",
    "    for k in range(N):\n",
    "        M[k, k:] = v[i:j]\n",
    "        i = j\n",
    "        j += N - k - 1\n",
    "\n",
    "    # Now reflect the upper half to lower half to build full matrix\n",
    "    # M.T - np.diag(np.diag(M)) is the lower half of M excluding diagonal\n",
    "    return M + (M.T - np.diag(np.diag(M)))"
   ]
  },
  {
   "cell_type": "code",
   "execution_count": 10,
   "id": "dee75db5",
   "metadata": {
    "code_folding": [
     0
    ]
   },
   "outputs": [],
   "source": [
    "def commutator(A, B):\n",
    "    \"\"\"Commutator of square matrices A and B.\"\"\"\n",
    "\n",
    "    return A @ B - B @ A"
   ]
  },
  {
   "cell_type": "code",
   "execution_count": 11,
   "id": "a68502e8",
   "metadata": {
    "code_folding": [
     0
    ]
   },
   "outputs": [],
   "source": [
    "def eta(H_matrix):\n",
    "    \"\"\"Wegner generator \\eta = [H_D, H].\"\"\"\n",
    "\n",
    "    # G = H_D (diagonal of the evolving Hamiltonian)\n",
    "    G_matrix = np.diag(np.diag(H_matrix))\n",
    "\n",
    "    # \\eta = [G, H]\n",
    "    return commutator(G_matrix, H_matrix)"
   ]
  },
  {
   "cell_type": "code",
   "execution_count": 12,
   "id": "88710333",
   "metadata": {
    "code_folding": [
     0
    ]
   },
   "outputs": [],
   "source": [
    "def H_deriv(lamb, H_vector):\n",
    "    \"\"\"Right-hand side of the SRG flow equation.\"\"\"\n",
    "\n",
    "    # Matrix form of the evolving Hamiltonian\n",
    "    H_matrix = vector_to_matrix(H_vector)\n",
    "\n",
    "    # Get SRG generator \\eta = [G, H]\n",
    "    eta_matrix = eta(H_matrix)\n",
    "\n",
    "    # RHS of the flow equation in matrix form\n",
    "    dH_matrix = -4.0 / lamb ** 5 * commutator(eta_matrix, H_matrix)\n",
    "\n",
    "    # Returns vector form of RHS of flow equation\n",
    "    dH_vector = matrix_to_vector(dH_matrix)\n",
    "\n",
    "    return dH_vector"
   ]
  },
  {
   "cell_type": "code",
   "execution_count": 13,
   "id": "338b89f9",
   "metadata": {
    "code_folding": [
     0
    ]
   },
   "outputs": [],
   "source": [
    "def select_step_size(solver_lambda, lambda_final):\n",
    "    \"\"\"Select ODE solver step-size depending on the extent of evolution. We\n",
    "    can take bigger steps at large values of \\lambda.\n",
    "    \"\"\"\n",
    "\n",
    "    if solver_lambda >= 6.0:\n",
    "        dlamb = 1.0\n",
    "    elif 2.5 <= solver_lambda < 6.0:\n",
    "        dlamb = 0.5\n",
    "    elif 1.5 <= solver_lambda < 2.5:\n",
    "        dlamb = 0.1\n",
    "    else:\n",
    "        dlamb = 0.05\n",
    "\n",
    "    return dlamb"
   ]
  },
  {
   "cell_type": "code",
   "execution_count": 14,
   "id": "1df77b48",
   "metadata": {
    "code_folding": [
     0
    ]
   },
   "outputs": [],
   "source": [
    "def get_ode_solver(lambda_initial, H_initial, atol, rtol):\n",
    "    \"\"\"Sets up the ODE solver.\"\"\"\n",
    "\n",
    "    # Solving for H(s)\n",
    "    solver = ode(H_deriv)\n",
    "\n",
    "    # Initial Hamiltonian as a vector\n",
    "    H_initial = matrix_to_vector(H_initial)\n",
    "\n",
    "    # Set initial conditions\n",
    "    solver.set_initial_value(H_initial, lambda_initial)\n",
    "\n",
    "    # Following the example in Hergert:2016iju with modifications to nsteps and\n",
    "    # error tolerances\n",
    "    solver.set_integrator('vode', method='bdf', order=5, atol=atol, rtol=rtol,\n",
    "                          nsteps=5000000)\n",
    "\n",
    "    return solver"
   ]
  },
  {
   "cell_type": "code",
   "execution_count": 15,
   "id": "a13aa999",
   "metadata": {
    "code_folding": [
     2
    ]
   },
   "outputs": [],
   "source": [
    "def srg_evolve_wrt_lambda(\n",
    "        H_initial_MeV, lambda_array, lambda_initial=20.0, atol=1e-10, rtol=1e-10\n",
    "):\n",
    "    \"\"\"SRG evolve the Hamiltonian with respect to \\lambda.\"\"\"\n",
    "    \n",
    "    # Convert Hamiltonian from MeV to units [fm^-2]\n",
    "    H_initial = H_initial_MeV / 41.47\n",
    "\n",
    "    # Set-up ODE solver\n",
    "    solver = get_ode_solver(lambda_initial, H_initial, atol, rtol)\n",
    "    \n",
    "    # Start time\n",
    "    t0 = time.time()\n",
    "    \n",
    "    # Evolve the Hamiltonian to each value of \\lambda and store in dictionary\n",
    "    d = {}\n",
    "    for lamb in lambda_array:\n",
    "\n",
    "        # Solve ODE up to lamb and store in dictionary\n",
    "        while solver.successful() and round(solver.t, 2) > lamb:\n",
    "            \n",
    "            # Get ODE solver step-size in \\lambda\n",
    "            dlamb = select_step_size(solver.t, lamb)\n",
    "            \n",
    "            # Integrate to next step in lambda\n",
    "            solution_vector = solver.integrate(solver.t - dlamb)\n",
    "\n",
    "        # Store evolved Hamiltonian matrix [MeV] in dictionary\n",
    "        d[lamb] = vector_to_matrix(solution_vector) * 41.47\n",
    "\n",
    "    # End time\n",
    "    t1 = time.time()\n",
    "\n",
    "    # Print details\n",
    "    mins = round((t1 - t0) / 60.0, 4)  # Minutes elapsed evolving H(\\lambda)\n",
    "    print(f\"Done evolving to \\lambda = {lamb} fm^-1 after {mins:.4f} minutes.\")\n",
    "\n",
    "    return d"
   ]
  },
  {
   "cell_type": "code",
   "execution_count": 16,
   "id": "6ce47561",
   "metadata": {},
   "outputs": [
    {
     "name": "stdout",
     "output_type": "stream",
     "text": [
      "Done evolving to \\lambda = 1.35 fm^-1 after 1.9700 minutes.\n"
     ]
    }
   ],
   "source": [
    "lambda_array = np.array([6.0, 3.0, 2.0, 1.5, 1.35])\n",
    "d = srg_evolve_wrt_lambda(H_initial_weights, lambda_array, lambda_initial=20.0)"
   ]
  },
  {
   "cell_type": "code",
   "execution_count": 17,
   "id": "43884dfd",
   "metadata": {},
   "outputs": [],
   "source": [
    "# Get H(\\lambda=1.35)\n",
    "H_evolved_weights = d[1.35]"
   ]
  },
  {
   "cell_type": "markdown",
   "id": "b591ba82",
   "metadata": {},
   "source": [
    "## Save evolved Hamiltonian for `test_momentum_distribution_script.py`"
   ]
  },
  {
   "cell_type": "code",
   "execution_count": 26,
   "id": "0cd5e4f6",
   "metadata": {},
   "outputs": [],
   "source": [
    "def save_H_evolved(d, kvnn, kmax, kmid, ntot, generator):\n",
    "\n",
    "    for lamb in d:\n",
    "            \n",
    "        file_name = (\n",
    "            f\"H_evolved_kvnn_{kvnn}_3S1_3D1_no_coupling_{generator}_lamb_{lamb}\"\n",
    "            f\"_kmax_{kmax}_kmid_{kmid}_ntot_{ntot}_ode_BDF_wrt_lambda\"\n",
    "        )\n",
    "            \n",
    "        np.savetxt(\"./test_srg/\" + replace_periods(file_name) + \".txt\", d[lamb])"
   ]
  },
  {
   "cell_type": "code",
   "execution_count": 27,
   "id": "74239f10",
   "metadata": {},
   "outputs": [],
   "source": [
    "# Copy this into test_momentum_distribution_script.py and use in place of \n",
    "# potential.load_hamiltonian or load_H_evolved\n",
    "def load_H_3S1_no_coupling(\n",
    "    kvnn, generator, lamb, kmax=15.0, kmid=3.0, ntot=120\n",
    "):\n",
    "    \n",
    "    file_name = (\n",
    "        f\"H_evolved_kvnn_{kvnn}_3S1_3D1_no_coupling_{generator}_lamb_{lamb}\"\n",
    "        f\"_kmax_{kmax}_kmid_{kmid}_ntot_{ntot}_ode_BDF_wrt_lambda\"\n",
    "    )\n",
    "    \n",
    "    H_evolved = np.loadtxt(\"./test_srg/\" + replace_periods(file_name) + \".txt\")\n",
    "    \n",
    "    return H_evolved"
   ]
  },
  {
   "cell_type": "code",
   "execution_count": 28,
   "id": "37db9c8d",
   "metadata": {},
   "outputs": [],
   "source": [
    "save_H_evolved(d, kvnn, kmax, kmid, ntot, generator)"
   ]
  },
  {
   "cell_type": "code",
   "execution_count": null,
   "id": "5a6ecb74",
   "metadata": {},
   "outputs": [],
   "source": [
    "# Test the loading function\n",
    "H_temp = load_H_3S1_no_coupling(kvnn, generator, lamb)"
   ]
  }
 ],
 "metadata": {
  "kernelspec": {
   "display_name": "Python 3 (ipykernel)",
   "language": "python",
   "name": "python3"
  },
  "language_info": {
   "codemirror_mode": {
    "name": "ipython",
    "version": 3
   },
   "file_extension": ".py",
   "mimetype": "text/x-python",
   "name": "python",
   "nbconvert_exporter": "python",
   "pygments_lexer": "ipython3",
   "version": "3.9.13"
  }
 },
 "nbformat": 4,
 "nbformat_minor": 5
}

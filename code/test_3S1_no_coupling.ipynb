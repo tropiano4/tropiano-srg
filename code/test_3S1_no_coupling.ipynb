{
 "cells": [
  {
   "cell_type": "markdown",
   "id": "1660e557",
   "metadata": {},
   "source": [
    "# Test evolving the $^{3}S_1$ channel with no coupling to $^{3}D_1$\n",
    "\n",
    "__Author:__ A. J. Tropiano [atropiano@anl.gov]<br/>\n",
    "__Date:__ March 7, 2023\n",
    "\n",
    "This notebook tests the momentum distribution calculation in the $^{3}S_1$ channel with no coupling to $^{3}D_1$.\n",
    "\n",
    "_Last update:_ March 14, 2023"
   ]
  },
  {
   "cell_type": "code",
   "execution_count": 1,
   "id": "08731f16",
   "metadata": {},
   "outputs": [],
   "source": [
    "# Python imports\n",
    "import numpy as np\n",
    "from scipy.integrate import ode\n",
    "import time"
   ]
  },
  {
   "cell_type": "code",
   "execution_count": 2,
   "id": "d0d39761",
   "metadata": {},
   "outputs": [],
   "source": [
    "# Imports from scripts\n",
    "# from scripts.figures import set_rc_parameters\n",
    "from scripts.potentials import Potential\n",
    "from scripts.tools import replace_periods"
   ]
  },
  {
   "cell_type": "code",
   "execution_count": 3,
   "id": "da5e01b1",
   "metadata": {},
   "outputs": [],
   "source": [
    "# Run this cell to turn on customized matplotlib graphics\n",
    "# set_rc_parameters()"
   ]
  },
  {
   "cell_type": "markdown",
   "id": "0fa05238",
   "metadata": {},
   "source": [
    "## Set-up"
   ]
  },
  {
   "cell_type": "code",
   "execution_count": 4,
   "id": "c9067d64",
   "metadata": {},
   "outputs": [],
   "source": [
    "# kvnn = 6  # AV18\n",
    "kvnn = 111  # SMS N4LO 450 MeV\n",
    "# channel = '1S0'\n",
    "channel = '3S1'\n",
    "kmax, kmid, ntot = 15.0, 3.0, 120\n",
    "generator = 'Wegner'\n",
    "lamb = 1.35"
   ]
  },
  {
   "cell_type": "code",
   "execution_count": 5,
   "id": "ad681d6d",
   "metadata": {},
   "outputs": [],
   "source": [
    "potential = Potential(kvnn, channel, kmax, kmid, ntot)"
   ]
  },
  {
   "cell_type": "code",
   "execution_count": 6,
   "id": "8be55695",
   "metadata": {},
   "outputs": [],
   "source": [
    "# Initial Hamiltonian with integration factors attached [MeV]\n",
    "H_initial_weights = potential.load_hamiltonian()"
   ]
  },
  {
   "cell_type": "markdown",
   "id": "471af6b4",
   "metadata": {},
   "source": [
    "## Set $^{3}S_1-^{3}D_1$ and $^{3}D_1-^{3}S_1$ off-diagonal blocks to zero"
   ]
  },
  {
   "cell_type": "code",
   "execution_count": 7,
   "id": "84616e50",
   "metadata": {},
   "outputs": [],
   "source": [
    "if channel == '3S1':\n",
    "    H_initial_weights[:ntot, ntot:] = np.zeros((ntot, ntot))\n",
    "    H_initial_weights[ntot:, :ntot] = np.zeros((ntot, ntot))"
   ]
  },
  {
   "cell_type": "markdown",
   "id": "f1780260",
   "metadata": {},
   "source": [
    "## SRG evolve the potential"
   ]
  },
  {
   "cell_type": "markdown",
   "id": "0a74a756",
   "metadata": {},
   "source": [
    "Using `scipy.integrate.ode` and solving for $H(\\lambda)$."
   ]
  },
  {
   "cell_type": "code",
   "execution_count": 8,
   "id": "c0614d96",
   "metadata": {
    "code_folding": [
     0
    ]
   },
   "outputs": [],
   "source": [
    "def matrix_to_vector(M):\n",
    "    \"\"\"\n",
    "    Takes the upper triangle of the matrix M (including the diagonal) and\n",
    "    reshapes it into a vector v.\n",
    "        \n",
    "    Parameters\n",
    "    ----------\n",
    "    M : 2-D ndarray\n",
    "        Input matrix of shape (N, N).\n",
    "            \n",
    "    Returns\n",
    "    -------\n",
    "    v : 1-D ndarray\n",
    "        Output vector of shape (N*(N+1)/2,).\n",
    "            \n",
    "    \"\"\"\n",
    "\n",
    "    # Length of matrix\n",
    "    N = len(M)\n",
    "    # Length of vectorized matrix\n",
    "    n = int(N * (N + 1) / 2)\n",
    "\n",
    "    # Initialize vectorized matrix\n",
    "    v = np.zeros(n)\n",
    "\n",
    "    # Algorithm for reshaping M to the vector v\n",
    "    i = 0\n",
    "    j = N\n",
    "    for k in range(N):\n",
    "        v[i:j] = M[k][k:]\n",
    "        i = j\n",
    "        j += N - k - 1\n",
    "\n",
    "    return v"
   ]
  },
  {
   "cell_type": "code",
   "execution_count": 9,
   "id": "dcc1fe51",
   "metadata": {
    "code_folding": [
     0
    ]
   },
   "outputs": [],
   "source": [
    "def vector_to_matrix(v):\n",
    "    \"\"\"\n",
    "    Takes the vector of an upper triangle matrix v and returns the full matrix\n",
    "    M. Use only for symmetric matrices.\n",
    "        \n",
    "    Parameters\n",
    "    ----------\n",
    "    v : 1-D ndarray\n",
    "        Input vector of shape (N*(N+1)/2,).\n",
    "        \n",
    "    Returns\n",
    "    -------\n",
    "    output : 2-D ndarray\n",
    "        Output matrix of shape (N, N).\n",
    "            \n",
    "    \"\"\"\n",
    "    \n",
    "    # Dimension of matrix is found by solving for the positive solution to\n",
    "    # n = N(N+1)/2, where n is the length of the vector\n",
    "    N = int((-1 + np.sqrt(1 + 8 * len(v))) / 2)\n",
    "\n",
    "    # Initialize matrix\n",
    "    M = np.zeros((N, N))\n",
    "\n",
    "    # Build the upper half of matrix with the diagonal included\n",
    "\n",
    "    # Algorithm for reshaping v to the matrix M\n",
    "    i = 0\n",
    "    j = N\n",
    "    for k in range(N):\n",
    "        M[k, k:] = v[i:j]\n",
    "        i = j\n",
    "        j += N - k - 1\n",
    "\n",
    "    # Now reflect the upper half to lower half to build full matrix\n",
    "    # M.T - np.diag(np.diag(M)) is the lower half of M excluding diagonal\n",
    "    return M + (M.T - np.diag(np.diag(M)))"
   ]
  },
  {
   "cell_type": "code",
   "execution_count": 10,
   "id": "dee75db5",
   "metadata": {
    "code_folding": [
     0
    ]
   },
   "outputs": [],
   "source": [
    "def commutator(A, B):\n",
    "    \"\"\"Commutator of square matrices A and B.\"\"\"\n",
    "\n",
    "    return A @ B - B @ A"
   ]
  },
  {
   "cell_type": "code",
   "execution_count": 11,
   "id": "a68502e8",
   "metadata": {
    "code_folding": [
     0
    ]
   },
   "outputs": [],
   "source": [
    "def eta(H_matrix):\n",
    "    \"\"\"Wegner generator \\eta = [H_D, H].\"\"\"\n",
    "\n",
    "    # G = H_D (diagonal of the evolving Hamiltonian)\n",
    "    G_matrix = np.diag(np.diag(H_matrix))\n",
    "\n",
    "    # \\eta = [G, H]\n",
    "    return commutator(G_matrix, H_matrix)"
   ]
  },
  {
   "cell_type": "code",
   "execution_count": 12,
   "id": "88710333",
   "metadata": {
    "code_folding": [
     0
    ]
   },
   "outputs": [],
   "source": [
    "def H_deriv(lamb, H_vector):\n",
    "    \"\"\"Right-hand side of the SRG flow equation.\"\"\"\n",
    "\n",
    "    # Matrix form of the evolving Hamiltonian\n",
    "    H_matrix = vector_to_matrix(H_vector)\n",
    "\n",
    "    # Get SRG generator \\eta = [G, H]\n",
    "    eta_matrix = eta(H_matrix)\n",
    "\n",
    "    # RHS of the flow equation in matrix form\n",
    "    dH_matrix = -4.0 / lamb ** 5 * commutator(eta_matrix, H_matrix)\n",
    "\n",
    "    # Returns vector form of RHS of flow equation\n",
    "    dH_vector = matrix_to_vector(dH_matrix)\n",
    "\n",
    "    return dH_vector"
   ]
  },
  {
   "cell_type": "code",
   "execution_count": 13,
   "id": "338b89f9",
   "metadata": {
    "code_folding": [
     0
    ]
   },
   "outputs": [],
   "source": [
    "def select_step_size(solver_lambda, lambda_final):\n",
    "    \"\"\"Select ODE solver step-size depending on the extent of evolution. We\n",
    "    can take bigger steps at large values of \\lambda.\n",
    "    \"\"\"\n",
    "\n",
    "    if solver_lambda >= 6.0:\n",
    "        dlamb = 1.0\n",
    "    elif 2.5 <= solver_lambda < 6.0:\n",
    "        dlamb = 0.5\n",
    "    elif 1.5 <= solver_lambda < 2.5:\n",
    "        dlamb = 0.1\n",
    "    else:\n",
    "        dlamb = 0.05\n",
    "\n",
    "    return dlamb"
   ]
  },
  {
   "cell_type": "code",
   "execution_count": 14,
   "id": "1df77b48",
   "metadata": {
    "code_folding": [
     0
    ]
   },
   "outputs": [],
   "source": [
    "def get_ode_solver(lambda_initial, H_initial, atol, rtol):\n",
    "    \"\"\"Sets up the ODE solver.\"\"\"\n",
    "\n",
    "    # Solving for H(s)\n",
    "    solver = ode(H_deriv)\n",
    "\n",
    "    # Initial Hamiltonian as a vector\n",
    "    H_initial = matrix_to_vector(H_initial)\n",
    "\n",
    "    # Set initial conditions\n",
    "    solver.set_initial_value(H_initial, lambda_initial)\n",
    "\n",
    "    # Following the example in Hergert:2016iju with modifications to nsteps and\n",
    "    # error tolerances\n",
    "    solver.set_integrator('vode', method='bdf', order=5, atol=atol, rtol=rtol,\n",
    "                          nsteps=5000000)\n",
    "\n",
    "    return solver"
   ]
  },
  {
   "cell_type": "code",
   "execution_count": 15,
   "id": "a13aa999",
   "metadata": {
    "code_folding": [
     2
    ]
   },
   "outputs": [],
   "source": [
    "def srg_evolve_wrt_lambda(\n",
    "        H_initial_MeV, lambda_array, lambda_initial=20.0, atol=1e-10, rtol=1e-10\n",
    "):\n",
    "    \"\"\"SRG evolve the Hamiltonian with respect to \\lambda.\"\"\"\n",
    "    \n",
    "    # Convert Hamiltonian from MeV to units [fm^-2]\n",
    "    H_initial = H_initial_MeV / 41.47\n",
    "\n",
    "    # Set-up ODE solver\n",
    "    solver = get_ode_solver(lambda_initial, H_initial, atol, rtol)\n",
    "    \n",
    "    # Start time\n",
    "    t0 = time.time()\n",
    "    \n",
    "    # Evolve the Hamiltonian to each value of \\lambda and store in dictionary\n",
    "    d = {}\n",
    "    for lamb in lambda_array:\n",
    "\n",
    "        # Solve ODE up to lamb and store in dictionary\n",
    "        while solver.successful() and round(solver.t, 2) > lamb:\n",
    "            \n",
    "            # Get ODE solver step-size in \\lambda\n",
    "            dlamb = select_step_size(solver.t, lamb)\n",
    "            \n",
    "            # Integrate to next step in lambda\n",
    "            solution_vector = solver.integrate(solver.t - dlamb)\n",
    "\n",
    "        # Store evolved Hamiltonian matrix [MeV] in dictionary\n",
    "        d[lamb] = vector_to_matrix(solution_vector) * 41.47\n",
    "\n",
    "    # End time\n",
    "    t1 = time.time()\n",
    "\n",
    "    # Print details\n",
    "    mins = round((t1 - t0) / 60.0, 4)  # Minutes elapsed evolving H(\\lambda)\n",
    "    print(f\"Done evolving to \\lambda = {lamb} fm^-1 after {mins:.4f} minutes.\")\n",
    "\n",
    "    return d"
   ]
  },
  {
   "cell_type": "code",
   "execution_count": 16,
   "id": "6ce47561",
   "metadata": {},
   "outputs": [
    {
     "name": "stdout",
     "output_type": "stream",
     "text": [
      "Done evolving to \\lambda = 1.35 fm^-1 after 2.1610 minutes.\n"
     ]
    }
   ],
   "source": [
    "lambda_array = np.array([6.0, 3.0, 2.0, 1.5, 1.35])\n",
    "d = srg_evolve_wrt_lambda(H_initial_weights, lambda_array, lambda_initial=20.0)"
   ]
  },
  {
   "cell_type": "code",
   "execution_count": 17,
   "id": "43884dfd",
   "metadata": {},
   "outputs": [],
   "source": [
    "# Get H(\\lambda=1.35)\n",
    "H_evolved_weights = d[1.35]"
   ]
  },
  {
   "cell_type": "markdown",
   "id": "b591ba82",
   "metadata": {},
   "source": [
    "## Save evolved Hamiltonian for `test_momentum_distribution_script.py`"
   ]
  },
  {
   "cell_type": "code",
   "execution_count": 18,
   "id": "0cd5e4f6",
   "metadata": {
    "code_folding": [
     0
    ]
   },
   "outputs": [],
   "source": [
    "def save_H_evolved(d, kvnn, channel, kmax, kmid, ntot, generator):\n",
    "\n",
    "    for lamb in d:\n",
    "            \n",
    "        file_name = (\n",
    "            f\"H_evolved_kvnn_{kvnn}_{channel}_no_coupling_{generator}_lamb\"\n",
    "            f\"_{lamb}_kmax_{kmax}_kmid_{kmid}_ntot_{ntot}_ode_BDF_wrt_lambda\"\n",
    "        )\n",
    "            \n",
    "        np.savetxt(\"./test_srg/\" + replace_periods(file_name) + \".txt\", d[lamb])"
   ]
  },
  {
   "cell_type": "code",
   "execution_count": 19,
   "id": "74239f10",
   "metadata": {
    "code_folding": [
     0
    ]
   },
   "outputs": [],
   "source": [
    "def load_H_no_coupling(kvnn, channel, generator, lamb, kmax, kmid, ntot):\n",
    "    \"\"\"Loads the evolved Hamiltonian assuming there are no coupled channels.\"\"\"\n",
    "    \n",
    "    file_name = (\n",
    "        f\"H_evolved_kvnn_{kvnn}_{channel}_no_coupling_{generator}_lamb_{lamb}\"\n",
    "        f\"_kmax_{kmax}_kmid_{kmid}_ntot_{ntot}_ode_BDF_wrt_lambda\"\n",
    "    )\n",
    "    \n",
    "    H_evolved = np.loadtxt(\"./test_srg/\" + replace_periods(file_name) + \".txt\")\n",
    "    \n",
    "    return H_evolved"
   ]
  },
  {
   "cell_type": "code",
   "execution_count": 20,
   "id": "171cb56f",
   "metadata": {},
   "outputs": [],
   "source": [
    "save_H_evolved(d, kvnn, channel, kmax, kmid, ntot, generator)"
   ]
  },
  {
   "cell_type": "code",
   "execution_count": 21,
   "id": "6dc909d2",
   "metadata": {},
   "outputs": [],
   "source": [
    "# Test the loading function\n",
    "H_temp = load_H_no_coupling(kvnn, channel, generator, lamb, kmax, kmid, ntot)"
   ]
  },
  {
   "cell_type": "code",
   "execution_count": 22,
   "id": "aa7fc994",
   "metadata": {},
   "outputs": [
    {
     "data": {
      "text/plain": [
       "array([[ 5.80164057e-05, -1.59499112e-06, -4.90256750e-06, ...,\n",
       "        -4.10199762e-14, -1.93200285e-13,  1.56839585e-10],\n",
       "       [-1.59499112e-06,  1.60152762e-03, -3.93653508e-05, ...,\n",
       "        -3.26350563e-13, -1.53708090e-12,  1.24779904e-09],\n",
       "       [-4.90256750e-06, -3.93653508e-05,  9.60976870e-03, ...,\n",
       "        -9.56181386e-13, -4.50352566e-12,  3.65595271e-09],\n",
       "       ...,\n",
       "       [-4.10199762e-14, -3.26350563e-13, -9.56181386e-13, ...,\n",
       "         9.25451055e+03, -9.25068076e-02, -3.63951129e-02],\n",
       "       [-1.93200285e-13, -1.53708090e-12, -4.50352566e-12, ...,\n",
       "        -9.25068076e-02,  9.29962163e+03, -6.17799347e-02],\n",
       "       [ 1.56839585e-10,  1.24779904e-09,  3.65595271e-09, ...,\n",
       "        -3.63951129e-02, -6.17799347e-02,  9.32480957e+03]])"
      ]
     },
     "execution_count": 22,
     "metadata": {},
     "output_type": "execute_result"
    }
   ],
   "source": [
    "H_temp[:ntot,:ntot]"
   ]
  },
  {
   "cell_type": "code",
   "execution_count": 23,
   "id": "cfa255d9",
   "metadata": {},
   "outputs": [
    {
     "data": {
      "text/plain": [
       "array([[ 5.80373023e-05, -1.42719766e-06, -4.38676798e-06, ...,\n",
       "         1.57892383e-18,  1.26395537e-18,  8.30019192e-19],\n",
       "       [-1.42719766e-06,  1.60287495e-03, -3.52236461e-05, ...,\n",
       "         1.26785588e-17,  1.01494019e-17,  6.66494920e-18],\n",
       "       [-4.38676798e-06, -3.52236461e-05,  9.62250036e-03, ...,\n",
       "         3.89789886e-17,  3.12033431e-17,  2.04907342e-17],\n",
       "       ...,\n",
       "       [ 1.57892383e-18,  1.26785588e-17,  3.89789886e-17, ...,\n",
       "         9.25450931e+03, -1.33141418e-01, -8.71166415e-02],\n",
       "       [ 1.26395537e-18,  1.01494019e-17,  3.12033431e-17, ...,\n",
       "        -1.33141418e-01,  9.29962069e+03, -6.96606362e-02],\n",
       "       [ 8.30019192e-19,  6.66494920e-18,  2.04907342e-17, ...,\n",
       "        -8.71166415e-02, -6.96606362e-02,  9.32480915e+03]])"
      ]
     },
     "execution_count": 23,
     "metadata": {},
     "output_type": "execute_result"
    }
   ],
   "source": [
    "H_initial_weights[:ntot, :ntot]"
   ]
  },
  {
   "cell_type": "code",
   "execution_count": 24,
   "id": "b9a45490",
   "metadata": {},
   "outputs": [
    {
     "name": "stdout",
     "output_type": "stream",
     "text": [
      "5.7443500172e-05\t5.7443501374e-05\n",
      "1.5653905541e-03\t1.5653906279e-03\n",
      "9.2771773710e-03\t9.2771780512e-03\n",
      "3.1384386642e-02\t3.1384389630e-02\n",
      "7.9259461210e-02\t7.9259470005e-02\n",
      "1.6741330010e-01\t1.6741331991e-01\n",
      "3.1369755887e-01\t3.1369759546e-01\n",
      "5.3956652626e-01\t5.3956658442e-01\n",
      "8.7011523245e-01\t8.7011531511e-01\n",
      "1.3337752606e+00\t1.3337753687e+00\n",
      "1.9617731587e+00\t1.9617732920e+00\n",
      "2.7875137351e+00\t2.7875138925e+00\n",
      "3.8459802130e+00\t3.8459803928e+00\n",
      "5.1731699629e+00\t5.1731701631e+00\n",
      "6.8055517413e+00\t6.8055519593e+00\n",
      "8.7795257822e+00\t8.7795260149e+00\n",
      "1.1130875089e+01\t1.1130875333e+01\n",
      "1.3894205678e+01\t1.3894205928e+01\n",
      "1.7102381011e+01\t1.7102381262e+01\n",
      "2.0785960082e+01\t2.0785960326e+01\n",
      "2.4972649865e+01\t2.4972650092e+01\n",
      "2.9686782245e+01\t2.9686782444e+01\n",
      "3.4948824097e+01\t3.4948824253e+01\n",
      "4.0774927565e+01\t4.0774927662e+01\n",
      "4.7176526312e+01\t4.7176526333e+01\n",
      "5.4159982652e+01\t5.4159982582e+01\n",
      "6.1726289846e+01\t6.1726289680e+01\n",
      "6.9870833889e+01\t6.9870833633e+01\n",
      "7.8583218770e+01\t7.8583218445e+01\n",
      "8.7847159257e+01\t8.7847158895e+01\n",
      "9.7640444778e+01\t9.7640444423e+01\n",
      "1.0793497736e+02\t1.0793497705e+02\n",
      "1.1869688527e+02\t1.1869688505e+02\n",
      "1.2988671288e+02\t1.2988671276e+02\n",
      "1.4145968490e+02\t1.4145968491e+02\n",
      "1.5336604217e+02\t1.5336604229e+02\n",
      "1.6555144288e+02\t1.6555144311e+02\n",
      "1.7795742270e+02\t1.7795742301e+02\n",
      "1.9052190450e+02\t1.9052190488e+02\n",
      "2.0317974810e+02\t2.0317974852e+02\n",
      "2.1586332875e+02\t2.1586332919e+02\n",
      "2.2850313419e+02\t2.2850313464e+02\n",
      "2.4102836888e+02\t2.4102836931e+02\n",
      "2.5336755665e+02\t2.5336755706e+02\n",
      "2.6544913313e+02\t2.6544913350e+02\n",
      "2.7720202249e+02\t2.7720202281e+02\n",
      "2.8855619453e+02\t2.8855619480e+02\n",
      "2.9944320050e+02\t2.9944320072e+02\n",
      "3.0979668802e+02\t3.0979668819e+02\n",
      "3.1955289669e+02\t3.1955289681e+02\n",
      "3.2865113614e+02\t3.2865113622e+02\n",
      "3.3703424838e+02\t3.3703424843e+02\n",
      "3.4464905486e+02\t3.4464905489e+02\n",
      "3.5144678707e+02\t3.5144678708e+02\n",
      "3.5738349827e+02\t3.5738349827e+02\n",
      "3.6242045216e+02\t3.6242045215e+02\n",
      "3.6652448518e+02\t3.6652448517e+02\n",
      "3.6966835883e+02\t3.6966835882e+02\n",
      "3.7183134672e+02\t3.7183134671e+02\n",
      "3.7300152255e+02\t3.7300152255e+02\n",
      "3.7469389462e+02\t3.7469389461e+02\n",
      "3.8010466699e+02\t3.8010466693e+02\n",
      "3.8962240678e+02\t3.8962240666e+02\n",
      "4.0335941790e+02\t4.0335941768e+02\n",
      "4.2146852658e+02\t4.2146852622e+02\n",
      "4.4414022962e+02\t4.4414022909e+02\n",
      "4.7160104768e+02\t4.7160104700e+02\n",
      "5.0411593047e+02\t5.0411592968e+02\n",
      "5.4199527528e+02\t5.4199527448e+02\n",
      "5.8560348662e+02\t5.8560348590e+02\n",
      "6.3536200162e+02\t6.3536200108e+02\n",
      "6.9173977659e+02\t6.9173977624e+02\n",
      "7.5523078477e+02\t7.5523078458e+02\n",
      "8.2632629199e+02\t8.2632629191e+02\n",
      "9.0549191950e+02\t9.0549191947e+02\n",
      "9.9315474602e+02\t9.9315474600e+02\n",
      "1.0896994571e+03\t1.0896994570e+03\n",
      "1.1954692541e+03\t1.1954692541e+03\n",
      "1.3107671786e+03\t1.3107671786e+03\n",
      "1.4358551248e+03\t1.4358551248e+03\n",
      "1.5709497685e+03\t1.5709497685e+03\n",
      "1.7162161392e+03\t1.7162161392e+03\n",
      "1.8717601920e+03\t1.8717601920e+03\n",
      "2.0376216027e+03\t2.0376216027e+03\n",
      "2.2137674839e+03\t2.2137674839e+03\n",
      "2.4000872380e+03\t2.4000872380e+03\n",
      "2.5963885252e+03\t2.5963885252e+03\n",
      "2.8023942528e+03\t2.8023942528e+03\n",
      "3.0177405228e+03\t3.0177405228e+03\n",
      "3.2419755168e+03\t3.2419755168e+03\n",
      "3.4745593073e+03\t3.4745593073e+03\n",
      "3.7148646115e+03\t3.7148646115e+03\n",
      "3.9621784758e+03\t3.9621784758e+03\n",
      "4.2157048956e+03\t4.2157048956e+03\n",
      "4.4745683475e+03\t4.4745683475e+03\n",
      "4.7378182166e+03\t4.7378182166e+03\n",
      "5.0044340764e+03\t5.0044340764e+03\n",
      "5.2733317847e+03\t5.2733317847e+03\n",
      "5.5433703371e+03\t5.5433703371e+03\n",
      "5.8133594226e+03\t5.8133594226e+03\n",
      "6.0820676095e+03\t6.0820676095e+03\n",
      "6.3482310894e+03\t6.3482310894e+03\n",
      "6.6105628966e+03\t6.6105628966e+03\n",
      "6.8677625178e+03\t6.8677625178e+03\n",
      "7.1185257936e+03\t7.1185257936e+03\n",
      "7.3615550191e+03\t7.3615550191e+03\n",
      "7.5955691438e+03\t7.5955691438e+03\n",
      "7.8193139653e+03\t7.8193139653e+03\n",
      "8.0315722250e+03\t8.0315722250e+03\n",
      "8.2311735024e+03\t8.2311735024e+03\n",
      "8.4170038141e+03\t8.4170038141e+03\n",
      "8.5880148219e+03\t8.5880148219e+03\n",
      "8.7432325605e+03\t8.7432325605e+03\n",
      "8.8817655938e+03\t8.8817655938e+03\n",
      "9.0028125254e+03\t9.0028125254e+03\n",
      "9.1056687854e+03\t9.1056687854e+03\n",
      "9.1897326442e+03\t9.1897326442e+03\n",
      "9.2545104698e+03\t9.2545104698e+03\n",
      "9.2996216694e+03\t9.2996216693e+03\n",
      "9.3248097400e+03\t9.3248097400e+03\n"
     ]
    }
   ],
   "source": [
    "import numpy.linalg as la\n",
    "\n",
    "eig_init, _ = la.eigh(H_initial_weights[:ntot, :ntot])\n",
    "eig_evol, _ = la.eigh(H_temp[:ntot,:ntot])\n",
    "\n",
    "for i, j in zip(eig_init, eig_evol):\n",
    "    line = f\"{i:.10e}\\t{j:.10e}\"\n",
    "    print(line)"
   ]
  },
  {
   "cell_type": "code",
   "execution_count": null,
   "id": "1c141db6",
   "metadata": {},
   "outputs": [],
   "source": []
  }
 ],
 "metadata": {
  "kernelspec": {
   "display_name": "Python 3 (ipykernel)",
   "language": "python",
   "name": "python3"
  },
  "language_info": {
   "codemirror_mode": {
    "name": "ipython",
    "version": 3
   },
   "file_extension": ".py",
   "mimetype": "text/x-python",
   "name": "python",
   "nbconvert_exporter": "python",
   "pygments_lexer": "ipython3",
   "version": "3.9.13"
  }
 },
 "nbformat": 4,
 "nbformat_minor": 5
}

{
 "cells": [
  {
   "cell_type": "markdown",
   "id": "90384c7f",
   "metadata": {},
   "source": [
    "# Writing the pair momentum distribution in terms of single-nucleon momentum distributions\n",
    "\n",
    "__Author:__ A. J. Tropiano [atropiano@anl.gov]<br/>\n",
    "__Date:__ July 4, 2023\n",
    "\n",
    "We compute pair momentum distributions in terms of single-nucleon momentum distributions.\n",
    "\n",
    "_Last update:_ July 4, 2023"
   ]
  },
  {
   "cell_type": "code",
   "execution_count": null,
   "id": "d74fdd3d",
   "metadata": {},
   "outputs": [],
   "source": [
    "# Python imports\n",
    "from matplotlib.offsetbox import AnchoredText\n",
    "import matplotlib.pyplot as plt\n",
    "%matplotlib inline\n",
    "import numpy as np\n",
    "from numpy.polynomial.legendre import leggauss\n",
    "from scipy.interpolate import InterpolatedUnivariateSpline"
   ]
  },
  {
   "cell_type": "code",
   "execution_count": null,
   "id": "0b5f3da6",
   "metadata": {},
   "outputs": [],
   "source": [
    "# Imports from scripts\n",
    "from scripts.integration import gaussian_quadrature_mesh\n",
    "\n",
    "from test_momentum_distribution_script import load_momentum_distribution\n",
    "from test_pmd_script import compute_normalization as pmd_norm"
   ]
  },
  {
   "cell_type": "markdown",
   "id": "423979a2",
   "metadata": {},
   "source": [
    "## Set-up"
   ]
  },
  {
   "cell_type": "code",
   "execution_count": null,
   "id": "5021e39d",
   "metadata": {},
   "outputs": [],
   "source": [
    "# Run this cell to turn on customized matplotlib graphics\n",
    "set_rc_parameters()"
   ]
  },
  {
   "cell_type": "markdown",
   "id": "501e760c",
   "metadata": {},
   "source": [
    "## Derivation"
   ]
  },
  {
   "cell_type": "markdown",
   "id": "52dbd65a",
   "metadata": {},
   "source": [
    "_add derivation here_"
   ]
  },
  {
   "cell_type": "markdown",
   "id": "3d68cb57",
   "metadata": {},
   "source": [
    "## Testing"
   ]
  },
  {
   "cell_type": "code",
   "execution_count": null,
   "id": "e783e828",
   "metadata": {
    "code_folding": []
   },
   "outputs": [],
   "source": [
    "def n_pair(\n",
    "        nucleus_name, pair, kvnn, lamb, Q_max=5.0, ntot_Q=50,\n",
    "        print_normalization=False\n",
    "):\n",
    "    \"\"\"Pair momentum distribution in terms of single-nucleon momentum\n",
    "    distributions.\n",
    "    \"\"\"\n",
    "    \n",
    "    if pair == 'pp':\n",
    "        nucleon = 'proton'\n",
    "        nucleonp = 'proton'\n",
    "    elif pair == 'nn':\n",
    "        nucleon = 'neutron'\n",
    "        nucleonp = 'neutron'\n",
    "    elif pair == 'pn':\n",
    "        nucleon = 'proton'\n",
    "        nucleonp = 'neutron'\n",
    "    elif pair == 'np':\n",
    "        nucleon = 'neutron'\n",
    "        nucleonp = 'proton'\n",
    "\n",
    "    # C.o.M. momenta\n",
    "    Q_array, Q_weights = gaussian_quadrature_mesh(Q_max, ntot_Q)\n",
    "    \n",
    "    # Load single-nucleon momentum distributions\n",
    "    (q_array, q_weights, n_tau_array, _, _, _, _, _, _) = (\n",
    "        load_momentum_distribution(nucleus_name, nucleon, kvnn, lamb)\n",
    "    )\n",
    "    (q_array, q_weights, n_taup_array, _, _, _, _, _, _) = (\n",
    "        load_momentum_distribution(nucleus_name, nucleonp, kvnn, lamb)\n",
    "    )\n",
    "    \n",
    "    # Interpolate single-nucleon momentum distributions\n",
    "    n_tau_func = InterpolatedUnivariateSpline(q_array, n_tau_array)\n",
    "    n_taup_func = InterpolatedUnivariateSpline(q_array, n_taup_array)\n",
    "    \n",
    "    # Integration for angle between q_vector and Q_vector\n",
    "    x_array, x_weights = leggauss(15)\n",
    "    \n",
    "    # Get 3-D meshgrid and integrate evaluate n(q_vector, Q_vector)\n",
    "    q_grid, Q_grid, x_grid = np.meshgrid(q_array, Q_array, x_array,\n",
    "                                         indexing='ij')\n",
    "    _, _, dx_grid = np.meshgrid(q_array, Q_array, x_weights, indexing='ij')\n",
    "    \n",
    "    # |Q/2+q|\n",
    "    q1_grid = np.sqrt(Q_grid ** 2 / 4 + q_grid ** 2 + q_grid * Q_grid * x_grid)\n",
    "    q2_grid = np.sqrt(Q_grid ** 2 / 4 + q_grid ** 2 - q_grid * Q_grid * x_grid)\n",
    "    \n",
    "    # n^\\tau(|Q/2+q|)\n",
    "    n_tau_grid_x = n_tau_func(q1_grid)\n",
    "    # n^\\tau'(|Q/2-q|)\n",
    "    n_taup_grid_x = n_taup_func(q2_grid)\n",
    "    \n",
    "    # Average over x\n",
    "    n_tau_grid = np.sum(n_tau_grid_x * dx_grid, axis=-1) / 2\n",
    "    n_taup_grid = np.sum(n_taup_grid_x * dx_grid, axis=-1) / 2\n",
    "    \n",
    "    # Append q=0 term?\n",
    "    if tau == taup:\n",
    "        # TO-DO!\n",
    "        pass\n",
    "    \n",
    "    # 1/2 n^\\tau'(q,Q) n^\\tau(q,Q)\n",
    "    n_grid = 1/2 * n_tau_grid * n_taup_grid\n",
    "    \n",
    "    if print_normalization:\n",
    "        normalization = compute_normalization(q_array, q_weights, Q_array,\n",
    "                                              Q_weights, n_grid)\n",
    "        print(f\"Normalization = {normalization:.5f}.\")\n",
    "    \n",
    "    return q_array, q_weights, Q_array, Q_weights, n_grid"
   ]
  },
  {
   "cell_type": "code",
   "execution_count": null,
   "id": "20aa40ea",
   "metadata": {},
   "outputs": [],
   "source": [
    "# He4 pn\n",
    "n_pair('He4', 'pn', 6, 1.5, print_normalization=True)"
   ]
  }
 ],
 "metadata": {
  "kernelspec": {
   "display_name": "Python 3 (ipykernel)",
   "language": "python",
   "name": "python3"
  },
  "language_info": {
   "codemirror_mode": {
    "name": "ipython",
    "version": 3
   },
   "file_extension": ".py",
   "mimetype": "text/x-python",
   "name": "python",
   "nbconvert_exporter": "python",
   "pygments_lexer": "ipython3",
   "version": "3.9.13"
  }
 },
 "nbformat": 4,
 "nbformat_minor": 5
}

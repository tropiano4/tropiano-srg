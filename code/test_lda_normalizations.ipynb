{
 "cells": [
  {
   "cell_type": "markdown",
   "id": "f58af4f8",
   "metadata": {},
   "source": [
    "# Normalizations of LDA momentum distributions\n",
    "\n",
    "__Author:__ A. J. Tropiano [atropiano@anl.gov]<br/>\n",
    "__Date:__ February 6, 2023\n",
    "\n",
    "The point of this notebook is to compare the LDA momentum distribution calculation to the new version that uses single-particle wave functions explicitly. First we focus on the normalization.\n",
    "\n",
    "_Last update:_ February 6, 2023"
   ]
  },
  {
   "cell_type": "code",
   "execution_count": 1,
   "id": "6ecb35dc",
   "metadata": {},
   "outputs": [],
   "source": [
    "# Python imports\n",
    "import numpy as np"
   ]
  },
  {
   "cell_type": "code",
   "execution_count": 2,
   "id": "a09318b9",
   "metadata": {},
   "outputs": [],
   "source": [
    "# Imports from scripts\n",
    "from scripts.integration import momentum_mesh\n",
    "from scripts.momentum_distributions import MomentumDistribution"
   ]
  },
  {
   "cell_type": "code",
   "execution_count": 3,
   "id": "b7ec1d8e",
   "metadata": {},
   "outputs": [
    {
     "name": "stdout",
     "output_type": "stream",
     "text": [
      "LDA normalization for He4 proton distribution = 1.9681744317065994.\n",
      "Relative error = 1.5912784146700276%.\n"
     ]
    }
   ],
   "source": [
    "md = MomentumDistribution(6, 15.0, 3.0, 120)\n",
    "\n",
    "nucleon = 'proton'\n",
    "# nucleon = 'neutron'\n",
    "\n",
    "nucleus_name, Z, N = 'He4', 2, 2\n",
    "# nucleus_name, Z, N = 'O16', 8, 8\n",
    "# nucleus_name, Z, N = 'Ca48', 20, 28\n",
    "\n",
    "n_p_func = md.get_single_nucleon_momentum_distribution(\n",
    "    nucleon, nucleus_name, 'SLy4', ('1S0', '3S1'), 'Wegner', 1.35,\n",
    "    interpolate=True\n",
    ")\n",
    "# q_array, q_weights = gaussian_quadrature_mesh(8.0, 40)\n",
    "q_array, q_weights = momentum_mesh(15.0, 3.0, 120)\n",
    "n_array = n_p_func(q_array)\n",
    "norm = (4*np.pi)/(2*np.pi)**3 * np.sum(n_array * q_array**2 * q_weights)\n",
    "print(f\"LDA normalization for {nucleus_name} {nucleon} distribution = {norm}.\")\n",
    "if nucleon == 'proton':\n",
    "    print(f\"Relative error = {abs(norm-Z)/Z*100}%.\")\n",
    "else:\n",
    "    print(f\"Relative error = {abs(norm-N)/N*100}%.\")"
   ]
  },
  {
   "cell_type": "code",
   "execution_count": 7,
   "id": "a9cb2ff5",
   "metadata": {},
   "outputs": [
    {
     "name": "stdout",
     "output_type": "stream",
     "text": [
      "LDA normalization for I term = 1.9651801387917451.\n",
      "LDA normalization for \\delta U + \\delta U^\\dagger term = -0.2060648982637701.\n",
      "LDA normalization for \\delta U \\delta U^\\dagger term = 0.20902379810134347.\n"
     ]
    }
   ],
   "source": [
    "# He4 LDA isolating each contribution\n",
    "n_total_func, n_I_func, n_delU_func, n_delU2_func = (\n",
    "    md.get_single_nucleon_momentum_distribution(\n",
    "        nucleon, nucleus_name, 'SLy4', ('1S0', '3S1'), 'Wegner', 1.35,\n",
    "        contributions=True, interpolate=True\n",
    "    )\n",
    ")\n",
    "q_array, q_weights = momentum_mesh(15.0, 3.0, 120)\n",
    "n_I_array = n_I_func(q_array)\n",
    "n_delU_array = n_delU_func(q_array)\n",
    "n_delU2_array = n_delU2_func(q_array)\n",
    "factor = (4*np.pi)/(2*np.pi)**3\n",
    "norm_I =  factor * np.sum(n_I_array * q_array**2 * q_weights)\n",
    "norm_delU =  factor * np.sum(n_delU_array * q_array**2 * q_weights)\n",
    "norm_delU2 =  factor * np.sum(n_delU2_array * q_array**2 * q_weights)\n",
    "print(f\"LDA normalization for I term = {norm_I}.\")\n",
    "print(f\"LDA normalization for \\delta U + \\delta U^\\dagger term = {norm_delU}.\")\n",
    "print(f\"LDA normalization for \\delta U \\delta U^\\dagger term = {norm_delU2}.\")"
   ]
  },
  {
   "cell_type": "code",
   "execution_count": 5,
   "id": "4e70cdf1",
   "metadata": {},
   "outputs": [
    {
     "name": "stdout",
     "output_type": "stream",
     "text": [
      "LDA normalization for deuteron distribution = 0.9981785106022737.\n",
      "Relative error = 0.18214893977263058%.\n"
     ]
    }
   ],
   "source": [
    "# Deuteron LDA\n",
    "n_d_func = md.get_deuteron_momentum_distribution('Wegner', 1.35,\n",
    "                                                 interpolate=True)\n",
    "q_array, q_weights = momentum_mesh(15.0, 3.0, 120)\n",
    "n_array = n_d_func(q_array)\n",
    "norm = (4*np.pi)/(2*np.pi)**3 * np.sum(n_array * q_array**2 * q_weights)\n",
    "print(f\"LDA normalization for deuteron distribution = {norm}.\")\n",
    "print(f\"Relative error = {abs(norm-1)*100}%.\")"
   ]
  },
  {
   "cell_type": "code",
   "execution_count": 6,
   "id": "f62bc708",
   "metadata": {},
   "outputs": [
    {
     "name": "stdout",
     "output_type": "stream",
     "text": [
      "LDA normalization for I term = 0.9980210247858133.\n",
      "LDA normalization for \\delta U + \\delta U^\\dagger term = -0.04014013805008036.\n",
      "LDA normalization for \\delta U \\delta U^\\dagger term = 0.040297639608368886.\n"
     ]
    }
   ],
   "source": [
    "# Deuteron LDA isolating each contribution\n",
    "n_total_func, n_I_func, n_delU_func, n_delU2_func = (\n",
    "    md.get_deuteron_momentum_distribution('Wegner', 1.35, contributions=True,\n",
    "                                          interpolate=True)\n",
    ")\n",
    "q_array, q_weights = momentum_mesh(15.0, 3.0, 120)\n",
    "n_I_array = n_I_func(q_array)\n",
    "n_delU_array = n_delU_func(q_array)\n",
    "n_delU2_array = n_delU2_func(q_array)\n",
    "factor = (4*np.pi)/(2*np.pi)**3\n",
    "norm_I =  factor * np.sum(n_I_array * q_array**2 * q_weights)\n",
    "norm_delU =  factor * np.sum(n_delU_array * q_array**2 * q_weights)\n",
    "norm_delU2 =  factor * np.sum(n_delU2_array * q_array**2 * q_weights)\n",
    "print(f\"LDA normalization for I term = {norm_I}.\")\n",
    "print(f\"LDA normalization for \\delta U + \\delta U^\\dagger term = {norm_delU}.\")\n",
    "print(f\"LDA normalization for \\delta U \\delta U^\\dagger term = {norm_delU2}.\")"
   ]
  },
  {
   "cell_type": "code",
   "execution_count": null,
   "id": "3637bc18",
   "metadata": {},
   "outputs": [],
   "source": []
  },
  {
   "cell_type": "code",
   "execution_count": null,
   "id": "91b32b5c",
   "metadata": {},
   "outputs": [],
   "source": []
  },
  {
   "cell_type": "code",
   "execution_count": null,
   "id": "742ccdac",
   "metadata": {},
   "outputs": [],
   "source": []
  }
 ],
 "metadata": {
  "kernelspec": {
   "display_name": "Python 3 (ipykernel)",
   "language": "python",
   "name": "python3"
  },
  "language_info": {
   "codemirror_mode": {
    "name": "ipython",
    "version": 3
   },
   "file_extension": ".py",
   "mimetype": "text/x-python",
   "name": "python",
   "nbconvert_exporter": "python",
   "pygments_lexer": "ipython3",
   "version": "3.9.13"
  }
 },
 "nbformat": 4,
 "nbformat_minor": 5
}

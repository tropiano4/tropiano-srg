{
 "cells": [
  {
   "cell_type": "code",
   "execution_count": null,
   "metadata": {},
   "outputs": [],
   "source": [
    "# Created 05/13/19 by A.T. (tropiano.4@osu.edu)\n",
    "\n",
    "# This notebook makes a figure for a highlight for the NUCLEI 2019 collaboration meeting.\n",
    "\n",
    "from os import chdir, getcwd\n",
    "from matplotlib.offsetbox import AnchoredText\n",
    "import matplotlib.pyplot as plt\n",
    "%matplotlib inline\n",
    "import numpy as np\n",
    "from scipy.linalg import expm\n",
    "# Scripts made by A.T.\n",
    "from deuteron import Deuteron\n",
    "from Figures import figures_functions as ff\n",
    "from Potentials.vsrg_macos import load_save_potentials as lp\n",
    "from SRG_codes.srg_unitary_transformation import SRG_unitary_transformation"
   ]
  },
  {
   "cell_type": "markdown",
   "metadata": {},
   "source": [
    "__Function for plotting momentum projection operators evolving in $\\lambda$__"
   ]
  },
  {
   "cell_type": "code",
   "execution_count": null,
   "metadata": {},
   "outputs": [],
   "source": [
    "def momentum_projection_operator(q, kvnn, channel, kmax, kmid, ntot, method, generator, lambda_bd=0.00, \\\n",
    "                                 k_magnus=6, ds=1e-5):\n",
    "    '''Plots a 2 x 2 figure of the momentum projection operator evolving from 10.0 to 1.2 fm^-1.'''\n",
    "    \n",
    "    # Arguments\n",
    "    \n",
    "    # q (float): Momentum value in fm^-1\n",
    "    # kvnn (integer): This number specifies the potential\n",
    "    # channel (string): The partial wave channel ('1S0', '3S1', etc.)\n",
    "    # kmax (float): Maximum value in the momentum mesh\n",
    "    # kmid (float): Mid-point value in the momentum mesh\n",
    "    # ntot (integer): Number of momentum points in mesh\n",
    "    # method (string): The evolution method 'srg' or 'magnus'\n",
    "    # generator (string): SRG generator ('Wegner', 'T', 'Block-diag')\n",
    "    # lambda_bd (float): Lambda value for block-diagonal decoupling (e.g. 2.00 fm^-1)\n",
    "    # k_magnus (integer): Number of terms to include in Magnus sum (for Magnus only)\n",
    "    # ds (float): Step-size in the flow parameter s (for Magnus only)\n",
    "    \n",
    "    # Load initial Hamiltonian, momentum, and weights\n",
    "    H0_matrix = lp.load_hamiltonian(kvnn, channel, kmax, kmid, ntot)\n",
    "    k_array, k_weights = lp.load_momentum(kvnn, channel, kmax, kmid, ntot)\n",
    "    \n",
    "    # Pick the nearest value of q if q isn't exactly in k_array\n",
    "    if not( q in k_array ):\n",
    "        \n",
    "        k_difference_array = abs(k_array-q)\n",
    "        k_difference_min = min(k_diff_array)\n",
    "        q_index = list(k_difference_array).index(k_difference_min)\n",
    "        # Reset q to an actual value in k_array mesh (this is the closest value to entered q)\n",
    "        q = k_array[q_index]    \n",
    "    \n",
    "    # Initialize deuteron class \n",
    "    D = Deuteron(H_matrix, k_array, k_weights)\n",
    "    \n",
    "    # Loop over lambda values in lambdas and save to dictionary where key = lambda\n",
    "    lambdas = [10.0, 2.8, 2.0, 1.2]\n",
    "    d = {}\n",
    "    \n",
    "    for lamb in lambdas:\n",
    "        \n",
    "        # Load unitary transformation\n",
    "        # SRG calls function which builds U(s) out of un-evolved and evolved eigenvectors\n",
    "        if method == 'srg':\n",
    "            \n",
    "            # Must input evolved matrix\n",
    "            Hs_matrix = lp.load_hamiltonian(kvnn, channel, kmax, kmid, ntot, method, generator, lamb, lambda_bd)\n",
    "            Us_matrix = SRG_unitary_transformation(H0_matrix, Hs_matrix)\n",
    "            \n",
    "        # Magnus loads Omega(s) to compute U(s) = exp^Omega(s)\n",
    "        elif method == 'magnus':\n",
    "            \n",
    "            Os_matrix = lp.load_omega(kvnn, channel, kmax, kmid, ntot, generator, lamb, lambda_bd, k_magnus, ds)\n",
    "            Us_matrix = expm(Os_matrix)\n",
    "        \n",
    "        # Evolved momentum projection operator\n",
    "        momemtum_proj_operator = D.momentum_proj_operator(q, U=Us_matrix)\n",
    "        # Enter into dictionary\n",
    "        d[lamb] = momentum_proj_operator\n",
    "        \n",
    "    # Plot the 2 x 2 figure\n",
    "    \n",
    "    # ... \n",
    "            \n",
    "        "
   ]
  },
  {
   "cell_type": "markdown",
   "metadata": {},
   "source": [
    "__Run function in the cell below__"
   ]
  },
  {
   "cell_type": "code",
   "execution_count": null,
   "metadata": {},
   "outputs": [],
   "source": []
  }
 ],
 "metadata": {
  "kernelspec": {
   "display_name": "Python 3",
   "language": "python",
   "name": "python3"
  },
  "language_info": {
   "codemirror_mode": {
    "name": "ipython",
    "version": 3
   },
   "file_extension": ".py",
   "mimetype": "text/x-python",
   "name": "python",
   "nbconvert_exporter": "python",
   "pygments_lexer": "ipython3",
   "version": "3.7.1"
  }
 },
 "nbformat": 4,
 "nbformat_minor": 2
}

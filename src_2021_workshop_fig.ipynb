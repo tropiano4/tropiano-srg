{
 "cells": [
  {
   "cell_type": "markdown",
   "id": "prostate-training",
   "metadata": {},
   "source": [
    "__File: src_2021_workshop_fig.ipynb__\n",
    "\n",
    "__Author:   A. J. Tropiano (tropiano.4@osu.edu)__<br/>\n",
    "__Date:     Mar 17, 2021__\n",
    "\n",
    "Generating some figures for Scott's talk in the JLab SRC EMC workshop. Also use this for testing SRC functions and related things.\n",
    "\n",
    "__Revision history:<br/>__\n",
    "* ..."
   ]
  },
  {
   "cell_type": "code",
   "execution_count": null,
   "id": "considerable-pasta",
   "metadata": {},
   "outputs": [],
   "source": [
    "# import more things as you create functions\n",
    "\n",
    "import numpy as np\n",
    "# Scripts made by A.T.\n",
    "from Figures import figures_functions as ff\n",
    "from Potentials.vsrg_macos import vnn\n",
    "from SRG.srg_unitary_transformation import SRG_unitary_transformation"
   ]
  },
  {
   "cell_type": "code",
   "execution_count": null,
   "id": "crazy-entertainment",
   "metadata": {},
   "outputs": [],
   "source": [
    "# Strategy: let's import functions and classes from the various testing scripts. Once things are ironed out, you\n",
    "# can create official scripts with functions and classes, moving the test_scripts to Old_codes."
   ]
  },
  {
   "cell_type": "code",
   "execution_count": null,
   "id": "interracial-referral",
   "metadata": {},
   "outputs": [],
   "source": [
    "# a_2 scaling factor calculations\n",
    "\n",
    "# \\int_2^{\\infty} dq P^A(q) / \\int_2^{\\infty} dq P^d(q) vs A\n",
    "# print values as well"
   ]
  },
  {
   "cell_type": "code",
   "execution_count": null,
   "id": "contemporary-filter",
   "metadata": {},
   "outputs": [],
   "source": [
    "# decomposition of n_{\\lambda}^d(q) into 1, \\deltaU, \\deltaU \\deltaU^{\\dagger}"
   ]
  },
  {
   "cell_type": "code",
   "execution_count": null,
   "id": "valuable-narrative",
   "metadata": {},
   "outputs": [],
   "source": [
    "# 3S1 / 1S0 ratios of \\deltaU \\deltaU^{\\dagger} term as a function of q"
   ]
  },
  {
   "cell_type": "code",
   "execution_count": null,
   "id": "qualified-updating",
   "metadata": {},
   "outputs": [],
   "source": [
    "# pp / pn ratios of < n_{\\lambda}^A(q, Q=0) > as a function of q\n",
    "\n",
    "# gray out q < \\lambda region or don't plot it\n",
    "# alternatively, only show high-q contribution?"
   ]
  },
  {
   "cell_type": "code",
   "execution_count": null,
   "id": "caroline-pulse",
   "metadata": {},
   "outputs": [],
   "source": [
    "# bar chart showing contributions from 3S1-3S1, 3S1-3D1, 3D1-3D1 to deuteron in bare vs evolved\n",
    "\n",
    "# copy figure from src notebook"
   ]
  },
  {
   "cell_type": "code",
   "execution_count": null,
   "id": "unknown-increase",
   "metadata": {},
   "outputs": [],
   "source": [
    "# ratio of < n_{\\lambda}^d(q) > ( 3S1 only / (3S1+3D1) )"
   ]
  },
  {
   "cell_type": "code",
   "execution_count": null,
   "id": "unknown-allah",
   "metadata": {},
   "outputs": [],
   "source": [
    "# factorization of \\deltaU \\deltaU^{\\dagger}\n",
    "\n",
    "# do \\deltaU(k_i, q) \\deltaU^{\\dagger}(q, k_i) / \\deltaU(k_0, q) \\deltaU^{\\dagger}(q, k_0) similar to other ways\n",
    "# you've done this"
   ]
  }
 ],
 "metadata": {
  "kernelspec": {
   "display_name": "Python 3",
   "language": "python",
   "name": "python3"
  },
  "language_info": {
   "codemirror_mode": {
    "name": "ipython",
    "version": 3
   },
   "file_extension": ".py",
   "mimetype": "text/x-python",
   "name": "python",
   "nbconvert_exporter": "python",
   "pygments_lexer": "ipython3",
   "version": "3.8.3"
  }
 },
 "nbformat": 4,
 "nbformat_minor": 5
}

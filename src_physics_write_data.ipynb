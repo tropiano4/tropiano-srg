{
 "cells": [
  {
   "cell_type": "markdown",
   "id": "736fc206",
   "metadata": {},
   "source": [
    "__File: src_physics_write_data.ipynb__\n",
    "\n",
    "__Author:   A. J. Tropiano (tropiano.4@osu.edu)__<br/>\n",
    "__Date:     Apr 09, 2021__\n",
    "\n",
    "...\n",
    "\n",
    "__Revision history:<br/>__\n",
    "* XXX XX, XXXX - ..."
   ]
  },
  {
   "cell_type": "code",
   "execution_count": null,
   "id": "e5249ae7",
   "metadata": {},
   "outputs": [],
   "source": [
    "# imports will include things in your directories (this needs to run in your repository)"
   ]
  },
  {
   "cell_type": "code",
   "execution_count": null,
   "id": "dd4c4465",
   "metadata": {},
   "outputs": [],
   "source": [
    "# Write the data using separate notebook: write_src_physics_data.ipynb\n",
    "# The data will be in a subdirectory call SRC_data\n",
    "# Load data from this subdirectory and plot"
   ]
  },
  {
   "cell_type": "code",
   "execution_count": null,
   "id": "cb45b2b3",
   "metadata": {},
   "outputs": [],
   "source": []
  },
  {
   "cell_type": "code",
   "execution_count": null,
   "id": "8a6fdd9e",
   "metadata": {},
   "outputs": [],
   "source": []
  }
 ],
 "metadata": {
  "kernelspec": {
   "display_name": "Python 3",
   "language": "python",
   "name": "python3"
  },
  "language_info": {
   "codemirror_mode": {
    "name": "ipython",
    "version": 3
   },
   "file_extension": ".py",
   "mimetype": "text/x-python",
   "name": "python",
   "nbconvert_exporter": "python",
   "pygments_lexer": "ipython3",
   "version": "3.8.3"
  }
 },
 "nbformat": 4,
 "nbformat_minor": 5
}

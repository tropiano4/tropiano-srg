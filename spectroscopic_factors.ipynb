{
 "cells": [
  {
   "cell_type": "markdown",
   "id": "bef13231",
   "metadata": {},
   "source": [
    "__File: spectroscopic_factors.ipynb__\n",
    "\n",
    "__Author:   A. J. Tropiano (tropiano.4@osu.edu)__<br/>\n",
    "__Date:     Oct 8, 2021__\n",
    "\n",
    "Brief description here.\n",
    "\n",
    "__Revision history:<br/>__\n",
    "* xxx xx, xxxx - ..."
   ]
  },
  {
   "cell_type": "code",
   "execution_count": 1,
   "id": "9e6ab8d3",
   "metadata": {},
   "outputs": [],
   "source": [
    "# Imports"
   ]
  },
  {
   "cell_type": "markdown",
   "id": "8c66dfa2",
   "metadata": {},
   "source": [
    "# Set-up"
   ]
  },
  {
   "cell_type": "code",
   "execution_count": null,
   "id": "56e88b18",
   "metadata": {},
   "outputs": [],
   "source": [
    "# Graphics function"
   ]
  },
  {
   "cell_type": "code",
   "execution_count": null,
   "id": "348263b8",
   "metadata": {},
   "outputs": [],
   "source": [
    "# Run graphics function"
   ]
  },
  {
   "cell_type": "code",
   "execution_count": 2,
   "id": "40bc5cbe",
   "metadata": {},
   "outputs": [],
   "source": [
    "# Directories for figures/data/etc.\n",
    "# Specify nucleus"
   ]
  },
  {
   "cell_type": "markdown",
   "id": "216afe20",
   "metadata": {},
   "source": [
    "# Load coordinate-space single-particle wave functions"
   ]
  },
  {
   "cell_type": "code",
   "execution_count": null,
   "id": "cd4a8714",
   "metadata": {},
   "outputs": [],
   "source": []
  },
  {
   "cell_type": "markdown",
   "id": "2bc93402",
   "metadata": {},
   "source": [
    "# Plot coordinate-space single-particle wave functions"
   ]
  },
  {
   "cell_type": "code",
   "execution_count": 3,
   "id": "dad5d76c",
   "metadata": {},
   "outputs": [],
   "source": [
    "# Print normalizations too\n",
    "# Questions:\n",
    "# 1. What should I compare too?"
   ]
  },
  {
   "cell_type": "markdown",
   "id": "7b274766",
   "metadata": {},
   "source": [
    "# Transform to momentum-space"
   ]
  },
  {
   "cell_type": "code",
   "execution_count": 4,
   "id": "7edee60d",
   "metadata": {},
   "outputs": [],
   "source": [
    "# Hankel transformation function"
   ]
  },
  {
   "cell_type": "code",
   "execution_count": 5,
   "id": "b34cc04e",
   "metadata": {},
   "outputs": [],
   "source": [
    "# Apply to wave functions"
   ]
  },
  {
   "cell_type": "markdown",
   "id": "5a0e3d63",
   "metadata": {},
   "source": [
    "# Plot momentum-space wave functions"
   ]
  },
  {
   "cell_type": "code",
   "execution_count": 6,
   "id": "dccde797",
   "metadata": {},
   "outputs": [],
   "source": [
    "# Print normalizations too\n",
    "# Questions:\n",
    "# 1. What should I compare too?\n",
    "# 2. Think of other sanity checks.\n",
    "# 3. Shouldn't p be able to go negative? I'm using p the same as in k, k' for U(k,k')."
   ]
  },
  {
   "cell_type": "markdown",
   "id": "20c588dc",
   "metadata": {},
   "source": [
    "# Spectroscopic factors"
   ]
  },
  {
   "cell_type": "code",
   "execution_count": 7,
   "id": "3499aa3d",
   "metadata": {},
   "outputs": [],
   "source": [
    "# Add formulas here: initial and evolved"
   ]
  },
  {
   "cell_type": "code",
   "execution_count": null,
   "id": "36e71d63",
   "metadata": {},
   "outputs": [],
   "source": []
  },
  {
   "cell_type": "code",
   "execution_count": null,
   "id": "f522409b",
   "metadata": {},
   "outputs": [],
   "source": []
  }
 ],
 "metadata": {
  "kernelspec": {
   "display_name": "Python 3",
   "language": "python",
   "name": "python3"
  },
  "language_info": {
   "codemirror_mode": {
    "name": "ipython",
    "version": 3
   },
   "file_extension": ".py",
   "mimetype": "text/x-python",
   "name": "python",
   "nbconvert_exporter": "python",
   "pygments_lexer": "ipython3",
   "version": "3.8.3"
  }
 },
 "nbformat": 4,
 "nbformat_minor": 5
}

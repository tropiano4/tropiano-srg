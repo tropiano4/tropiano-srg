{
 "cells": [
  {
   "cell_type": "markdown",
   "metadata": {},
   "source": [
    "__File: toy_potential_phase_shifts.ipynb__\n",
    "\n",
    "__Author:   A. J. Tropiano (tropiano.4@osu.edu)__<br/>\n",
    "__Date:     Jun 17, 2020__\n",
    "\n",
    "This notebook tests Gauss-Legendre quadrature momentum mesh dependence by evaluating a toy potential's phase shifts at its eigenenergies."
   ]
  },
  {
   "cell_type": "code",
   "execution_count": 1,
   "metadata": {},
   "outputs": [],
   "source": [
    "from matplotlib.offsetbox import AnchoredText\n",
    "import matplotlib.pyplot as plt\n",
    "%matplotlib inline\n",
    "import numpy as np\n",
    "import numpy.linalg as la\n",
    "from numpy.polynomial.legendre import leggauss\n",
    "# Scripts made by A.T.\n",
    "from observables import phase_shifts"
   ]
  },
  {
   "cell_type": "code",
   "execution_count": 2,
   "metadata": {},
   "outputs": [],
   "source": [
    "# Construct Gauss-Legendre quadrature momentum mesh (units are fm^-1)\n",
    "\n",
    "# Minimum momentum value\n",
    "k_min = 0.0\n",
    "# Maximum momentum value\n",
    "k_max = 30.0\n",
    "# Number of nodes\n",
    "ntot = 20\n",
    "x_array, k_weights = leggauss(ntot)\n",
    "# Convert from interval [-1, 1] to [k_min, k_max] (meaning x_array -> k_array)\n",
    "k_array = 0.5 * (x_array + 1) * (k_max - k_min) + k_min"
   ]
  },
  {
   "cell_type": "code",
   "execution_count": 3,
   "metadata": {},
   "outputs": [],
   "source": [
    "# Calculate relative kinetic energy\n",
    "\n",
    "# h-bar^2 / M [MeV fm^2]\n",
    "hbar_sq_over_M = 41.47\n",
    "# Relative kinetic energy in units MeV\n",
    "T_matrix = hbar_sq_over_M * np.diag( k_array**2 )"
   ]
  },
  {
   "cell_type": "markdown",
   "metadata": {},
   "source": [
    "__Details of toy NN potential__:\n",
    "\n",
    "Toy potential for proton-neutron scattering for the $^1$S$_0$ partial wave. Fit to experimental phase shifts and is given in coordinate space by $V(r)=V_a e^{-a x} / x + V_b e^{-b x} / x + V_c e^{-c x} / x$, where $x = \\mu r$, $\\mu = 0.7$ fm$^{−1}$ (the inverse of the pion mass), $V_a = −10.463$ MeV and $a=1$, $V_b =−1650.6$ MeV and $b=4$ and $V_c = 6484.3$ MeV and $c=7$. In momentum space, $V_{\\eta} e^{-\\eta x} / x \\rightarrow V_{\\eta} / (4 \\mu k k') log[( (\\mu \\eta)^2 + (k+k')^2 ) / ( (\\mu \\eta)^2 + (k-k')^2 ) ]$. We skip to this step in what follows."
   ]
  },
  {
   "cell_type": "code",
   "execution_count": 4,
   "metadata": {},
   "outputs": [],
   "source": [
    "# Set up potential from PHY 989 project: 1S0 parameterization for NN scattering\n",
    "\n",
    "# Parameters\n",
    "mu = 0.7 # fm^-1\n",
    "V_a = -10.463 # MeV\n",
    "a = 1\n",
    "V_b = -1650.6 # MeV\n",
    "b = 4\n",
    "V_c = 6484.3 # MeV\n",
    "c = 7\n",
    "\n",
    "# Get rows and columns of momentum values\n",
    "row, col = np.meshgrid(k_array, k_array)\n",
    "\n",
    "# Construct momentum-space potential in units MeV fm^3\n",
    "V_matrix = V_a / (4 * mu * row * col) * np.log( ( (mu*a)**2 + (row+col)**2 ) / ( (mu*a)**2 + (row-col)**2 ) ) + \\\n",
    "           V_b / (4 * mu * row * col) * np.log( ( (mu*b)**2 + (row+col)**2 ) / ( (mu*b)**2 + (row-col)**2 ) ) + \\\n",
    "           V_c / (4 * mu * row * col) * np.log( ( (mu*c)**2 + (row+col)**2 ) / ( (mu*c)**2 + (row-col)**2 ) )"
   ]
  },
  {
   "cell_type": "code",
   "execution_count": 5,
   "metadata": {},
   "outputs": [
    {
     "name": "stdout",
     "output_type": "stream",
     "text": [
      "--- Eigenenergies [MeV] ---\n",
      "0.440\n",
      "12.259\n",
      "75.799\n",
      "265.125\n",
      "669.610\n",
      "1374.984\n",
      "2456.876\n",
      "3974.915\n",
      "5965.331\n",
      "8433.537\n",
      "11348.500\n",
      "14640.240\n",
      "18201.073\n",
      "21890.606\n",
      "25544.026\n",
      "28982.858\n",
      "32027.218\n",
      "34508.834\n",
      "36283.810\n",
      "37245.854\n"
     ]
    }
   ],
   "source": [
    "# Obtain Hamiltonian in units MeV and calculate eigenenergies\n",
    "\n",
    "# Convert potential to units MeV\n",
    "factor_array = np.sqrt( (2*k_weights) / np.pi ) * k_array # fm^-3/2\n",
    "factor_row, factor_col = np.meshgrid(factor_array, factor_array)\n",
    "\n",
    "# Add to T_rel to get Hamiltonian in units MeV\n",
    "H_matrix = T_matrix + factor_row * factor_col * V_matrix\n",
    "\n",
    "# Get eigenvalues\n",
    "eigenvalues, eigenvectors = la.eigh(H_matrix)\n",
    "print('--- Eigenenergies [MeV] ---')\n",
    "for eig in eigenvalues:\n",
    "    print('%.3f' % eig)"
   ]
  },
  {
   "cell_type": "code",
   "execution_count": 6,
   "metadata": {},
   "outputs": [
    {
     "name": "stderr",
     "output_type": "stream",
     "text": [
      "/Users/anthonytropiano/Documents/GitHub/LENT/observables.py:217: RuntimeWarning: invalid value encountered in log\n",
      "  ( k_max - k0 ) ) / ( 2.0*k0 ) )\n"
     ]
    }
   ],
   "source": [
    "# Calculate phase shifts of V(k,k') at eigenenergies\n",
    "# Function takes E_lab as argument -> multiply eigenenergies by 2 (then it will evaluate at E_lab = 2*E_i which\n",
    "# gives E_CoM = E_i)\n",
    "\n",
    "delta_array = phase_shifts(2*eigenvalues, V_matrix, k_array, k_weights)\n",
    "\n",
    "# # Manually correct shifts in \\pi\n",
    "# for i, delta in enumerate(delta_array):\n",
    "#     if e_array[i] < 50.0 and delta < 0.0:\n",
    "#         delta_array[i] = delta + 180.0\n",
    "\n",
    "# You will run into a problem where k0 = np.sqrt( E / hbar_sq_over_M ) > k_max of mesh\n",
    "# This gives a RuntimeWarning because the log function has a negative value - get rid of the NaN\n",
    "\n",
    "e_array = np.zeros(ntot)\n",
    "for i in range(ntot):\n",
    "    if np.isnan(delta_array[i]):\n",
    "        e_array = np.delete(eigenvalues, i)\n",
    "        delta_array = np.delete(delta_array, i)\n",
    "    else:\n",
    "        e_array = eigenvalues[i]"
   ]
  },
  {
   "cell_type": "code",
   "execution_count": 7,
   "metadata": {},
   "outputs": [
    {
     "data": {
      "image/png": "[encoded data removed]",
      "text/plain": [
       "<Figure size 288x288 with 1 Axes>"
      ]
     },
     "metadata": {
      "needs_background": "light"
     },
     "output_type": "display_data"
    }
   ],
   "source": [
    "# Plot phase shifts\n",
    "\n",
    "# Figure size\n",
    "width = 4\n",
    "height = 4\n",
    "figure_size = (width, height)\n",
    "    \n",
    "# x-axis limit\n",
    "xlim = [0.0, max(eigenvalues)]\n",
    "        \n",
    "# Axes labels and fontsize\n",
    "x_label = r'$E_n$' + ' [MeV]'\n",
    "x_label_size = 18\n",
    "y_label = r'$\\delta$' + ' [deg]'\n",
    "y_label_size = 20\n",
    "axes_tick_size = 14\n",
    "    \n",
    "# Curve width\n",
    "curve_width = 2.0\n",
    "\n",
    "# Curve color, styles, and labels\n",
    "curve_color = 'xkcd:black'\n",
    "curve_label = r'$^1$' + 'S' + r'$_0$'\n",
    "\n",
    "# Initialize figure\n",
    "plt.close('all')\n",
    "f, ax = plt.subplots(figsize=figure_size) \n",
    "        \n",
    "# Add curve to figure\n",
    "ax.scatter(e_array, delta_array, color=curve_color, label=curve_label, linewidth=curve_width)\n",
    "\n",
    "# Specify x-axis limit\n",
    "ax.set_xlim(xlim)\n",
    "    \n",
    "# Set axes labels\n",
    "ax.set_xlabel(x_label, fontsize=x_label_size)\n",
    "ax.set_ylabel(y_label, fontsize=y_label_size)\n",
    "    \n",
    "# Enlarge axes tick marks\n",
    "ax.tick_params(labelsize=axes_tick_size)\n",
    "\n",
    "# Add legend for channel\n",
    "legend_size = 20\n",
    "legend_location = 'lower right'\n",
    "ax.legend(loc=legend_location, frameon=False, fontsize=legend_size)\n",
    "\n",
    "# Save figure\n",
    "file_name = 'phase_shifts_toy_potential_%d_knodes_kmax%d.pdf' % (ntot, k_max)\n",
    "f.savefig(file_name, bbox_inches='tight')"
   ]
  },
  {
   "cell_type": "code",
   "execution_count": 10,
   "metadata": {},
   "outputs": [
    {
     "name": "stdout",
     "output_type": "stream",
     "text": [
      "[ 5.38085233e-02 -1.28982884e+00  6.48489335e-01  3.37679359e-01\n",
      " -4.47235317e+00 -1.25010952e+03  6.69995122e+00  2.25110469e+01\n",
      "  1.32485285e+01  1.29092866e+00 -1.32475548e+03 -2.89789259e+00\n",
      "  1.23422156e+02  2.65261106e+00 -1.76987772e+01  2.43292955e+00\n",
      " -9.97658135e+02 -4.19125382e+01  4.46684229e+01]\n"
     ]
    }
   ],
   "source": [
    "# Calculate p*cot(\\delta)\n",
    "\n",
    "p_array = np.sqrt(e_array / hbar_sq_over_M)\n",
    "pcot_array = p_array / np.tan(delta_array)\n",
    "print(pcot_array)"
   ]
  },
  {
   "cell_type": "code",
   "execution_count": null,
   "metadata": {},
   "outputs": [],
   "source": [
    "# # Plot p*cot(\\delta)\n",
    "\n",
    "# # Figure size\n",
    "# width = 4\n",
    "# height = 4\n",
    "# figure_size = (width, height)\n",
    "    \n",
    "# # x-axis limit\n",
    "# xlim = [0.0, max(eigenvalues)]\n",
    "        \n",
    "# # Axes labels and fontsize\n",
    "# x_label = r'$E_n$' + ' [MeV]'\n",
    "# x_label_size = 18\n",
    "# y_label = r'$\\delta$' + ' [deg]'\n",
    "# y_label_size = 20\n",
    "# axes_tick_size = 14\n",
    "    \n",
    "# # Curve width\n",
    "# curve_width = 2.0\n",
    "\n",
    "# # Curve color, styles, and labels\n",
    "# curve_color = 'xkcd:black'\n",
    "# curve_label = r'$^1$' + 'S' + r'$_0$'\n",
    "\n",
    "# # Initialize figure\n",
    "# plt.close('all')\n",
    "# f, ax = plt.subplots(figsize=figure_size) \n",
    "        \n",
    "# # Add curve to figure\n",
    "# ax.scatter(e_array, delta_array, color=curve_color, label=curve_label, linewidth=curve_width)\n",
    "\n",
    "# # Specify x-axis limit\n",
    "# ax.set_xlim(xlim)\n",
    "    \n",
    "# # Set axes labels\n",
    "# ax.set_xlabel(x_label, fontsize=x_label_size)\n",
    "# ax.set_ylabel(y_label, fontsize=y_label_size)\n",
    "    \n",
    "# # Enlarge axes tick marks\n",
    "# ax.tick_params(labelsize=axes_tick_size)\n",
    "\n",
    "# # Add legend for channel\n",
    "# legend_size = 20\n",
    "# legend_location = 'lower right'\n",
    "# ax.legend(loc=legend_location, frameon=False, fontsize=legend_size)"
   ]
  },
  {
   "cell_type": "code",
   "execution_count": null,
   "metadata": {},
   "outputs": [],
   "source": []
  }
 ],
 "metadata": {
  "kernelspec": {
   "display_name": "Python 3",
   "language": "python",
   "name": "python3"
  },
  "language_info": {
   "codemirror_mode": {
    "name": "ipython",
    "version": 3
   },
   "file_extension": ".py",
   "mimetype": "text/x-python",
   "name": "python",
   "nbconvert_exporter": "python",
   "pygments_lexer": "ipython3",
   "version": "3.7.4"
  }
 },
 "nbformat": 4,
 "nbformat_minor": 4
}

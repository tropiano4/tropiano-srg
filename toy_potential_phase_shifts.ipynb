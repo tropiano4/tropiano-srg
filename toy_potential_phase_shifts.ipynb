{
 "cells": [
  {
   "cell_type": "markdown",
   "metadata": {},
   "source": [
    "__File: toy_potential_phase_shifts.ipynb__\n",
    "\n",
    "__Author:   A. J. Tropiano (tropiano.4@osu.edu)__<br/>\n",
    "__Date:     Jun 17, 2020__\n",
    "\n",
    "This notebook tests Gauss-Legendre quadrature momentum mesh dependence by evaluating a toy potential's phase shifts at its eigenenergies."
   ]
  },
  {
   "cell_type": "code",
   "execution_count": 1,
   "metadata": {},
   "outputs": [],
   "source": [
    "from matplotlib.offsetbox import AnchoredText\n",
    "import matplotlib.pyplot as plt\n",
    "%matplotlib inline\n",
    "import numpy as np\n",
    "import numpy.linalg as la\n",
    "from numpy.polynomial.legendre import leggauss\n",
    "# Scripts made by A.T.\n",
    "from observables import phase_shifts\n",
    "from Potentials.vsrg_macos import load_save_potentials as lsp"
   ]
  },
  {
   "cell_type": "code",
   "execution_count": 2,
   "metadata": {},
   "outputs": [],
   "source": [
    "# Construct Gauss-Legendre quadrature momentum mesh (units are fm^-1)\n",
    "\n",
    "# Minimum momentum value\n",
    "k_min = 0.0\n",
    "# Maximum momentum value\n",
    "k_max = 30.0\n",
    "# Number of nodes\n",
    "ntot = 120\n",
    "x_array, k_weights = leggauss(ntot)\n",
    "# Convert from interval [-1, 1] to [k_min, k_max] (meaning x_array -> k_array)\n",
    "k_array = 0.5 * (x_array + 1) * (k_max - k_min) + k_min"
   ]
  },
  {
   "cell_type": "code",
   "execution_count": 3,
   "metadata": {},
   "outputs": [],
   "source": [
    "# Calculate relative kinetic energy\n",
    "\n",
    "# h-bar^2 / M [MeV fm^2]\n",
    "hbar_sq_over_M = 41.47\n",
    "# Relative kinetic energy in units MeV\n",
    "T_matrix = hbar_sq_over_M * np.diag( k_array**2 )"
   ]
  },
  {
   "cell_type": "markdown",
   "metadata": {},
   "source": [
    "__Details of toy NN potential__:\n",
    "\n",
    "Toy potential for proton-neutron scattering for the $^1$S$_0$ partial wave. Fit to experimental phase shifts and is given in coordinate space by $V(r)=V_a e^{-a x} / x + V_b e^{-b x} / x + V_c e^{-c x} / x$, where $x = \\mu r$, $\\mu = 0.7$ fm$^{−1}$ (the inverse of the pion mass), $V_a = −10.463$ MeV and $a=1$, $V_b =−1650.6$ MeV and $b=4$ and $V_c = 6484.3$ MeV and $c=7$. In momentum space, $V_{\\eta} e^{-\\eta x} / x \\rightarrow V_{\\eta} / (4 \\mu k k') log[( (\\mu \\eta)^2 + (k+k')^2 ) / ( (\\mu \\eta)^2 + (k-k')^2 ) ]$. We skip to this step in what follows."
   ]
  },
  {
   "cell_type": "code",
   "execution_count": 4,
   "metadata": {},
   "outputs": [],
   "source": [
    "# Set up potential from PHY 989 project: 1S0 parameterization for NN scattering\n",
    "\n",
    "# Parameters\n",
    "mu = 0.7 # fm^-1\n",
    "hbar_c = 197.32697 # MeV*fm\n",
    "V_a = -10.463 / hbar_c # fm^-1\n",
    "a = 1\n",
    "V_b = -1650.6 / hbar_c # fm^-1\n",
    "b = 4\n",
    "V_c = 6484.3 / hbar_c # fm^-1\n",
    "c = 7\n",
    "\n",
    "# Get rows and columns of momentum values\n",
    "row, col = np.meshgrid(k_array, k_array)\n",
    "\n",
    "# Construct momentum-space potential in units\n",
    "V_matrix = V_a / (4 * mu * row * col) * np.log( ( (mu*a)**2 + (row+col)**2 ) / ( (mu*a)**2 + (row-col)**2 ) ) + \\\n",
    "           V_b / (4 * mu * row * col) * np.log( ( (mu*b)**2 + (row+col)**2 ) / ( (mu*b)**2 + (row-col)**2 ) ) + \\\n",
    "           V_c / (4 * mu * row * col) * np.log( ( (mu*c)**2 + (row+col)**2 ) / ( (mu*c)**2 + (row-col)**2 ) )"
   ]
  },
  {
   "cell_type": "code",
   "execution_count": 5,
   "metadata": {
    "code_folding": [
     0
    ]
   },
   "outputs": [],
   "source": [
    "# # Obtain Hamiltonian in units MeV and calculate eigenenergies\n",
    "\n",
    "# # Convert potential to units MeV\n",
    "# factor_array = np.sqrt( (2*k_weights) / np.pi ) * k_array # fm^-3/2\n",
    "# factor_row, factor_col = np.meshgrid(factor_array, factor_array)\n",
    "\n",
    "# # Add to T_rel to get Hamiltonian in units MeV\n",
    "# H_matrix = T_matrix + factor_row * factor_col * V_matrix\n",
    "\n",
    "# # Get eigenvalues\n",
    "# eigenvalues, eigenvectors = la.eigh(H_matrix)\n",
    "# print('--- Eigenenergies [MeV] ---')\n",
    "# for eig in eigenvalues:\n",
    "#     print('%.3f' % eig)"
   ]
  },
  {
   "cell_type": "code",
   "execution_count": 6,
   "metadata": {
    "code_folding": [
     0
    ]
   },
   "outputs": [],
   "source": [
    "# # Load AV18 potential for comparison\n",
    "\n",
    "# k_array_alt, k_weights_alt = lsp.load_momentum(6, '1S0')\n",
    "# V_matrix_alt = lsp.load_potential(6, '1S0')"
   ]
  },
  {
   "cell_type": "code",
   "execution_count": 7,
   "metadata": {},
   "outputs": [],
   "source": [
    "# Calculate phase shifts of V(k,k') at eigenenergies\n",
    "# Function takes E_lab as argument -> multiply eigenenergies by 2 (then it will evaluate at E_lab = 2*E_i which\n",
    "# gives E_CoM = E_i)\n",
    "\n",
    "e_array = np.concatenate( (np.arange(0.1, 1.0, 0.1), np.arange(1.0, 100.0, 1.0)) )\n",
    "delta_array = phase_shifts(e_array, V_matrix, k_array, k_weights)\n",
    "# delta_array_alt = phase_shifts(e_array, V_matrix_alt, k_array_alt, k_weights_alt)\n",
    "#delta_array = phase_shifts(2*eigenvalues, V_matrix / hbar_sq_over_M, k_array, k_weights)\n",
    "\n",
    "# # Manually correct shifts in \\pi\n",
    "# for i, delta in enumerate(delta_array):\n",
    "#     if eigenvalues[i] < 1000.0 and delta < 0.0:\n",
    "#         delta_array[i] = delta + 180.0\n",
    "\n",
    "# You will run into a problem where k0 = np.sqrt( E / hbar_sq_over_M ) > k_max of mesh\n",
    "# This gives a RuntimeWarning because the log function has a negative value - get rid of the NaN\n",
    "\n",
    "# e_array = np.zeros(ntot)\n",
    "# for i in range(ntot):\n",
    "#     if np.isnan(delta_array[i]):\n",
    "#         e_array = np.delete(eigenvalues, i)\n",
    "#         delta_array = np.delete(delta_array, i)\n",
    "#     else:\n",
    "#         e_array = eigenvalues[i]"
   ]
  },
  {
   "cell_type": "code",
   "execution_count": 8,
   "metadata": {},
   "outputs": [
    {
     "data": {
      "image/png": "[encoded data removed]",
      "text/plain": [
       "<Figure size 288x288 with 1 Axes>"
      ]
     },
     "metadata": {
      "needs_background": "light"
     },
     "output_type": "display_data"
    }
   ],
   "source": [
    "# Plot phase shifts\n",
    "\n",
    "# Figure size\n",
    "width = 4\n",
    "height = 4\n",
    "figure_size = (width, height)\n",
    "    \n",
    "# x-axis limit\n",
    "#xlim = [0.0, max(eigenvalues)]\n",
    "        \n",
    "# Axes labels and fontsize\n",
    "#x_label = r'$E_n$' + ' [MeV]'\n",
    "x_label = r'$E_{\\rm lab}$' + ' [MeV]'\n",
    "x_label_size = 18\n",
    "y_label = r'$\\delta$' + ' [deg]'\n",
    "y_label_size = 20\n",
    "axes_tick_size = 14\n",
    "    \n",
    "# Curve width\n",
    "curve_width = 2.0\n",
    "\n",
    "# Curve color, styles, and labels\n",
    "curve_color = 'xkcd:black'\n",
    "curve_label = r'$^1$' + 'S' + r'$_0$'\n",
    "\n",
    "# Initialize figure\n",
    "plt.close('all')\n",
    "f, ax = plt.subplots(figsize=figure_size) \n",
    "        \n",
    "# Add curve to figure\n",
    "ax.plot(e_array, delta_array, color=curve_color, label=curve_label, linewidth=curve_width)\n",
    "# ax.plot(e_array, delta_array_alt, color='xkcd:red', label='AV18', linewidth=curve_width)\n",
    "# ax.plot(e_array, delta_array_alt-delta_array, color='xkcd:blue', label='Diff.', linewidth=curve_width)\n",
    "\n",
    "# Specify x-axis limit\n",
    "#ax.set_xlim(xlim)\n",
    "    \n",
    "# Set axes labels\n",
    "ax.set_xlabel(x_label, fontsize=x_label_size)\n",
    "ax.set_ylabel(y_label, fontsize=y_label_size)\n",
    "    \n",
    "# Enlarge axes tick marks\n",
    "ax.tick_params(labelsize=axes_tick_size)\n",
    "\n",
    "# Add legend for channel\n",
    "legend_size = 20\n",
    "legend_location = 'upper right'\n",
    "ax.legend(loc=legend_location, frameon=False, fontsize=legend_size)\n",
    "\n",
    "# Save figure\n",
    "file_name = 'phase_shifts_toy_potential_%d_knodes_kmax%d.pdf' % (ntot, k_max)\n",
    "f.savefig(file_name, bbox_inches='tight')"
   ]
  },
  {
   "cell_type": "code",
   "execution_count": 9,
   "metadata": {},
   "outputs": [],
   "source": [
    "# Calculate p*cot(\\delta)\n",
    "\n",
    "# p_array = np.sqrt(e_array / hbar_sq_over_M)\n",
    "# pcot_array = p_array / np.tan(delta_array)\n",
    "# print(pcot_array)"
   ]
  },
  {
   "cell_type": "code",
   "execution_count": 10,
   "metadata": {},
   "outputs": [],
   "source": [
    "# # Plot p*cot(\\delta)\n",
    "\n",
    "# # Figure size\n",
    "# width = 4\n",
    "# height = 4\n",
    "# figure_size = (width, height)\n",
    "    \n",
    "# # x-axis limit\n",
    "# xlim = [0.0, max(eigenvalues)]\n",
    "        \n",
    "# # Axes labels and fontsize\n",
    "# x_label = r'$E_n$' + ' [MeV]'\n",
    "# x_label_size = 18\n",
    "# y_label = r'$\\delta$' + ' [deg]'\n",
    "# y_label_size = 20\n",
    "# axes_tick_size = 14\n",
    "    \n",
    "# # Curve width\n",
    "# curve_width = 2.0\n",
    "\n",
    "# # Curve color, styles, and labels\n",
    "# curve_color = 'xkcd:black'\n",
    "# curve_label = r'$^1$' + 'S' + r'$_0$'\n",
    "\n",
    "# # Initialize figure\n",
    "# plt.close('all')\n",
    "# f, ax = plt.subplots(figsize=figure_size) \n",
    "        \n",
    "# # Add curve to figure\n",
    "# ax.scatter(e_array, delta_array, color=curve_color, label=curve_label, linewidth=curve_width)\n",
    "\n",
    "# # Specify x-axis limit\n",
    "# ax.set_xlim(xlim)\n",
    "    \n",
    "# # Set axes labels\n",
    "# ax.set_xlabel(x_label, fontsize=x_label_size)\n",
    "# ax.set_ylabel(y_label, fontsize=y_label_size)\n",
    "    \n",
    "# # Enlarge axes tick marks\n",
    "# ax.tick_params(labelsize=axes_tick_size)\n",
    "\n",
    "# # Add legend for channel\n",
    "# legend_size = 20\n",
    "# legend_location = 'lower right'\n",
    "# ax.legend(loc=legend_location, frameon=False, fontsize=legend_size)"
   ]
  },
  {
   "cell_type": "code",
   "execution_count": 11,
   "metadata": {},
   "outputs": [
    {
     "data": {
      "text/plain": [
       "array([-44.01935931, -53.87741619, -59.27558285, -62.82570585,\n",
       "       -65.39371029, -67.36495574, -68.94115926, -70.23968935,\n",
       "       -71.33415999, -72.27341845, -77.5774861 , -80.05708723,\n",
       "       -81.58330828, -82.65118308, -83.45671943, -84.09527513,\n",
       "       -84.61963583, -85.06174923, -85.44225549, -85.77515713,\n",
       "       -86.07033884, -86.33500959, -86.57457515, -86.79318919,\n",
       "       -86.99409316, -87.17985805, -87.35255363, -87.51386839,\n",
       "       -87.66519473, -87.80769693, -87.94236269, -88.07002937,\n",
       "       -88.19141174, -88.30712414, -88.41769795, -88.52359563,\n",
       "       -88.62522192, -88.72293198, -88.81703869, -88.90782663,\n",
       "       -88.99555019, -89.08043686, -89.16269068, -89.24249518,\n",
       "       -89.3200159 , -89.3954026 , -89.46879114, -89.5403051 ,\n",
       "       -89.61005719, -89.6781497 , -89.74467407, -89.80971947,\n",
       "       -89.87336895, -89.93569934, -89.99678176,  89.94331792,\n",
       "        89.88453862,  89.82682365,  89.77012037,  89.71437978,\n",
       "        89.65955629,  89.60560737,  89.55249337,  89.5001772 ,\n",
       "        89.44862421,  89.39780463,  89.34768914,  89.2982475 ,\n",
       "        89.24945093,  89.20127216,  89.15368527,  89.1066657 ,\n",
       "        89.06019016,  89.01423658,  88.96878404,  88.92381268,\n",
       "        88.87930373,  88.83523934,  88.79160263,  88.74837758,\n",
       "        88.70554899,  88.66310246,  88.62102432,  88.57930161,\n",
       "        88.53792279,  88.49687951,  88.45616048,  88.41575428,\n",
       "        88.3756498 ,  88.33583624,  88.29630314,  88.25704038,\n",
       "        88.21803816,  88.179287  ,  88.14077777,  88.10250164,\n",
       "        88.06445011,  88.02661498,  87.98898836,  87.95156264,\n",
       "        87.91433051,  87.87728494,  87.84041919,  87.80372676,\n",
       "        87.76720144,  87.73083725,  87.69462848,  87.65856965])"
      ]
     },
     "execution_count": 11,
     "metadata": {},
     "output_type": "execute_result"
    }
   ],
   "source": [
    "delta_array"
   ]
  },
  {
   "cell_type": "code",
   "execution_count": 12,
   "metadata": {},
   "outputs": [],
   "source": [
    "from observables import find_eps_index"
   ]
  },
  {
   "cell_type": "code",
   "execution_count": 13,
   "metadata": {},
   "outputs": [],
   "source": [
    "e_ind = find_eps_index(10.0, e_array)"
   ]
  },
  {
   "cell_type": "code",
   "execution_count": 14,
   "metadata": {},
   "outputs": [
    {
     "data": {
      "text/plain": [
       "18"
      ]
     },
     "execution_count": 14,
     "metadata": {},
     "output_type": "execute_result"
    }
   ],
   "source": [
    "e_ind"
   ]
  },
  {
   "cell_type": "code",
   "execution_count": 15,
   "metadata": {},
   "outputs": [
    {
     "data": {
      "text/plain": [
       "-85.44225548607936"
      ]
     },
     "execution_count": 15,
     "metadata": {},
     "output_type": "execute_result"
    }
   ],
   "source": [
    "e_array[e_ind]\n",
    "delta_array[e_ind]"
   ]
  },
  {
   "cell_type": "code",
   "execution_count": 16,
   "metadata": {},
   "outputs": [],
   "source": [
    "# Elab = 10 MeV,  delta = 57.47"
   ]
  }
 ],
 "metadata": {
  "kernelspec": {
   "display_name": "Python 3",
   "language": "python",
   "name": "python3"
  },
  "language_info": {
   "codemirror_mode": {
    "name": "ipython",
    "version": 3
   },
   "file_extension": ".py",
   "mimetype": "text/x-python",
   "name": "python",
   "nbconvert_exporter": "python",
   "pygments_lexer": "ipython3",
   "version": "3.7.4"
  }
 },
 "nbformat": 4,
 "nbformat_minor": 4
}

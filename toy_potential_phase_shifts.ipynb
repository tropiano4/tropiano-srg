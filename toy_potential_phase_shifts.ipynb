{
 "cells": [
  {
   "cell_type": "markdown",
   "metadata": {},
   "source": [
    "__File: toy_potential_phase_shifts.ipynb__\n",
    "\n",
    "__Author:   A. J. Tropiano (tropiano.4@osu.edu)__<br/>\n",
    "__Date:     Jun 17, 2020__\n",
    "\n",
    "This notebook looks at the effective range functions of various potentials evaluating the phase shifts at the eigen-energies."
   ]
  },
  {
   "cell_type": "code",
   "execution_count": 1,
   "metadata": {},
   "outputs": [],
   "source": [
    "from matplotlib.offsetbox import AnchoredText\n",
    "import matplotlib.pyplot as plt\n",
    "%matplotlib inline\n",
    "import numpy as np\n",
    "import numpy.linalg as la\n",
    "from numpy.polynomial.legendre import leggauss\n",
    "from scipy.interpolate import RectBivariateSpline"
   ]
  },
  {
   "cell_type": "markdown",
   "metadata": {},
   "source": [
    "__Details of toy NN potential__:\n",
    "\n",
    "Toy potential for proton-neutron scattering for the $^1$S$_0$ partial wave. Fit to experimental phase shifts and is given in coordinate space by $V(r)=V_a e^{-a x} / x + V_b e^{-b x} / x + V_c e^{-c x} / x$, where $x = \\mu r$, $\\mu = 0.7$ fm$^{−1}$ (the inverse of the pion mass), $V_a = −10.463$ MeV and $a=1$, $V_b =−1650.6$ MeV and $b=4$ and $V_c = 6484.3$ MeV and $c=7$. In momentum space, $V_{\\eta} e^{-\\eta x} / x \\rightarrow V_{\\eta} / (4 \\mu k k') log[( (\\mu \\eta)^2 + (k+k')^2 ) / ( (\\mu \\eta)^2 + (k-k')^2 ) ]$. We skip to this step in what follows."
   ]
  },
  {
   "cell_type": "code",
   "execution_count": 2,
   "metadata": {},
   "outputs": [],
   "source": [
    "# Constants and parameters\n",
    "\n",
    "hbar_sq_over_m = 41.47 # MeV fm^2\n",
    "theta_array = np.array( [0.01, 0.1, 1, 5, 10] )"
   ]
  },
  {
   "cell_type": "code",
   "execution_count": 3,
   "metadata": {
    "code_folding": [
     0
    ]
   },
   "outputs": [],
   "source": [
    "def V_func(k, kp):\n",
    "    \n",
    "    # Make sure V_\\eta constants are in units fm^-2\n",
    "\n",
    "    # Constants\n",
    "    mu = 0.7 # fm^-1\n",
    "\n",
    "    # Parameters\n",
    "    a = 1\n",
    "    V_a = -10.463 / hbar_sq_over_m\n",
    "    b = 4\n",
    "    V_b = -1650.6 / hbar_sq_over_m\n",
    "    c = 7\n",
    "    V_c = 6484.3 / hbar_sq_over_m\n",
    "\n",
    "    # Construct momentum-space potential in units fm\n",
    "    return ( V_a * np.log( ( (mu*a)**2 + (k+kp)**2 ) / ( (mu*a)**2 + (k-kp)**2 ) ) + \\\n",
    "             V_b * np.log( ( (mu*b)**2 + (k+kp)**2 ) / ( (mu*b)**2 + (k-kp)**2 ) ) + \\\n",
    "             V_c * np.log( ( (mu*c)**2 + (k+kp)**2 ) / ( (mu*c)**2 + (k-kp)**2 ) ) ) / (4 * mu * k * kp)"
   ]
  },
  {
   "cell_type": "code",
   "execution_count": 4,
   "metadata": {
    "code_folding": [
     0
    ]
   },
   "outputs": [],
   "source": [
    "def construct_momentum_mesh(k_max, k_mid, ntot, nmod):\n",
    "    \n",
    "    # Minimum momentum value\n",
    "    k_min = 0.0\n",
    "\n",
    "    x_array_1, x_weights_1 = leggauss(nmod) # Interval [-1,1]\n",
    "    x_array_2, x_weights_2 = leggauss(ntot-nmod)\n",
    "    \n",
    "    # Convert from interval [-1, 1] to [a, b] (meaning x_array -> k_array)\n",
    "    k_array_1 = 0.5 * (x_array_1 + 1) * (k_mid - k_min) + k_min\n",
    "    k_weights_1 = (k_mid - k_min) / 2 * x_weights_1\n",
    "    \n",
    "    k_array_2 = 0.5 * (x_array_2 + 1) * (k_max - k_mid) + k_mid\n",
    "    k_weights_2 = (k_max - k_mid) / 2 * x_weights_2\n",
    "    \n",
    "    k_array = np.concatenate( (k_array_1, k_array_2) )\n",
    "    k_weights = np.concatenate( (k_weights_1, k_weights_2) )\n",
    "    \n",
    "    return k_array, k_weights"
   ]
  },
  {
   "cell_type": "code",
   "execution_count": 5,
   "metadata": {
    "code_folding": [
     0
    ]
   },
   "outputs": [],
   "source": [
    "def phase_shifts(e_array, V_matrix, k_array, k_weights):\n",
    "    \"\"\"\n",
    "    Calculates NN phase shifts as a function of lab energy for a given \n",
    "    potential. Note, this function will not work for a coupled-channel\n",
    "    potential.\n",
    "    \n",
    "    Parameters\n",
    "    ----------\n",
    "    e_array : 1-D ndarray\n",
    "        Array of lab energies [MeV].\n",
    "    V_matrix : 2-D ndarray\n",
    "        Potential matrix [fm].\n",
    "    k_array : 1-D ndarray\n",
    "        Momentum array [fm^-1].\n",
    "    k_weights : 1-D ndarray\n",
    "        Momentum weights [fm^-1].\n",
    "    \n",
    "    Returns\n",
    "    -------\n",
    "    phase_shifts : 1-D ndarray\n",
    "        Array of phase shifts [deg] for each lab energy in e_array.\n",
    "    \n",
    "    \"\"\"\n",
    "    \n",
    "    # Set-up\n",
    "    \n",
    "    # h-bar^2 / M [MeV fm^2]\n",
    "    hbar_sq_over_m = 41.47\n",
    "    \n",
    "    # Length of the energy array\n",
    "    M = len(e_array)\n",
    "    \n",
    "    # Maximum momentum value in fm^-1\n",
    "    k_max = max(k_array)\n",
    "        \n",
    "    # Length of the momentum array\n",
    "    N = len(k_array)\n",
    "        \n",
    "    # Interpolate potential with RectBivariateSpline\n",
    "    V_func = RectBivariateSpline(k_array, k_array, V_matrix)\n",
    "    \n",
    "    # Initialize array for phase shifts\n",
    "    phase_shifts = np.zeros(M)\n",
    "\n",
    "    # Loop over each lab energy\n",
    "    for i in range(M):\n",
    "        \n",
    "        # Lab energy\n",
    "        e = e_array[i]\n",
    "        \n",
    "        # Momentum corresponding to center of mass energy E_lab / 2 where the \n",
    "        # factor of 41.47 converts from MeV to fm^-1\n",
    "        k0 = np.sqrt( e / 2.0 / hbar_sq_over_m )\n",
    "        \n",
    "        # Build D_vector\n",
    "        \n",
    "        # First N elements of D_vector\n",
    "        D_vector = 2.0/np.pi * ( k_weights * k_array**2 ) / \\\n",
    "                   ( k_array**2 - k0**2 )\n",
    "        # N+1 element of D_vector\n",
    "        D_last = -2.0/np.pi * k0**2 * ( np.sum( k_weights /\n",
    "                 ( k_array**2 - k0**2 ) ) + np.log( ( k_max + k0 ) / \\\n",
    "                 ( k_max - k0 ) ) / ( 2.0*k0 ) )\n",
    "        # Append N+1 element to D_vector\n",
    "        D_vector = np.append(D_vector, D_last) # Length is now N+1\n",
    "        \n",
    "        # Append k0 to k_array\n",
    "        k_full = np.append(k_array, k0)\n",
    "        \n",
    "        # Create meshes for interpolation\n",
    "        col, row = np.meshgrid(k_full, k_full)\n",
    "        \n",
    "        # Append k0 points by using the interpolated potential\n",
    "        V_matrix = V_func.ev(row, col)\n",
    "            \n",
    "        # Build F matrix, N+1 x N+1, unitless where F_ij = delta_ij + D_j V_ij\n",
    "        F_matrix = np.identity(N+1) + np.tile( D_vector, (N+1, 1) ) * V_matrix\n",
    "\n",
    "        # Calculate R matrix and define extremes of R_matrix\n",
    "        R_matrix = la.solve(F_matrix, V_matrix) # Units fm\n",
    "\n",
    "        phase_shifts[i] = np.arctan( -k0 * R_matrix[N, N] )\n",
    "\n",
    "    # Return phase shifts in degrees\n",
    "    return np.degrees(phase_shifts)"
   ]
  },
  {
   "cell_type": "code",
   "execution_count": 6,
   "metadata": {
    "code_folding": []
   },
   "outputs": [
    {
     "data": {
      "image/png": "[encoded data removed]",
      "text/plain": [
       "<Figure size 288x288 with 1 Axes>"
      ]
     },
     "metadata": {
      "needs_background": "light"
     },
     "output_type": "display_data"
    }
   ],
   "source": [
    "# --- Plot phase shifts for the three models with fine mesh --- #\n",
    "\n",
    "\n",
    "# Construct standard Gauss-Legendre quadrature momentum mesh (units are fm^-1)\n",
    "\n",
    "kmax = 30.0\n",
    "kmid = 4.0\n",
    "ntot = 120\n",
    "k_array, k_weights = construct_momentum_mesh(kmax, kmid, ntot, 54)\n",
    "krow, kcol = np.meshgrid(k_array, k_array)\n",
    "\n",
    "# Lab energy\n",
    "e_array = np.concatenate( (np.arange(0.1, 1.0, 0.1), np.arange(1.0, 100.0, 1.0)) )\n",
    "\n",
    "# Figure size\n",
    "width = 4\n",
    "height = 4\n",
    "figure_size = (width, height)\n",
    "\n",
    "# Axes labels and fontsize\n",
    "x_label = r'$E_{\\rm lab}$' + ' [MeV]'\n",
    "x_label_size = 18\n",
    "y_label = r'$\\delta$' + ' [deg]'\n",
    "y_label_size = 20\n",
    "axes_tick_size = 14\n",
    "\n",
    "# Initialize figure\n",
    "plt.close('all')\n",
    "f, ax = plt.subplots(figsize=figure_size) \n",
    "\n",
    "# Curve width\n",
    "curve_width = 2.0\n",
    "\n",
    "# Loop over \\theta values\n",
    "for i, theta in enumerate(theta_array):\n",
    "    \n",
    "    # Evaluate matrix on fine mesh\n",
    "    V_matrix = V_func(krow, kcol) * theta\n",
    "    \n",
    "    # Calculate phase shifts on fine mesh\n",
    "    delta_array = phase_shifts(e_array, V_matrix, k_array, k_weights)\n",
    "    \n",
    "    # Correct shifts in \\pi (the phase shifts at low E_lab seem to be shifted by -180 degrees for \\theta=10)\n",
    "    if theta == 10.0:\n",
    "        for j, delta in enumerate(delta_array):\n",
    "            if delta < 0.0 and e_array[j] < 50.0:\n",
    "                delta_array[j] = delta + 180.0\n",
    "    \n",
    "    # Curve color, styles, and labels\n",
    "    curve_label = r'$\\theta=%.2f$' % theta\n",
    "    \n",
    "    # Add curve to figure\n",
    "    ax.plot(e_array, delta_array, label=curve_label, linewidth=curve_width)\n",
    "    \n",
    "# Set axes labels\n",
    "ax.set_xlabel(x_label, fontsize=x_label_size)\n",
    "ax.set_ylabel(y_label, fontsize=y_label_size)\n",
    "    \n",
    "# Enlarge axes tick marks\n",
    "ax.tick_params(labelsize=axes_tick_size)\n",
    "\n",
    "# Add legend for channel\n",
    "legend_size = 14\n",
    "legend_location = 'upper right'\n",
    "ax.legend(loc=legend_location, frameon=False, fontsize=legend_size)\n",
    "\n",
    "# Save figure\n",
    "file_name = 'phase_shifts_toy_potentials_%d_knodes_kmax%d.pdf' % (ntot, kmax)\n",
    "f.savefig(file_name, bbox_inches='tight')"
   ]
  },
  {
   "cell_type": "markdown",
   "metadata": {},
   "source": [
    "__Calculate $L=0$ effective range expansion functions for the various models at eigen-energies__"
   ]
  },
  {
   "cell_type": "code",
   "execution_count": 7,
   "metadata": {},
   "outputs": [],
   "source": [
    "# New smaller mesh\n",
    "\n",
    "# Minimum momentum value\n",
    "k_min_small = 0.0\n",
    "# Maximum momentum value\n",
    "k_max_small = 5.0\n",
    "# Number of nodes\n",
    "ntot_small = 20 # Entire space\n",
    "x_array_small, x_weights_small = leggauss(ntot_small) # Interval [-1,1]\n",
    "# Convert from interval [-1, 1] to [k_min, k_max] (meaning x_array -> k_array)\n",
    "k_array_small = 0.5 * (x_array_small + 1) * (k_max_small - k_min_small) + k_min_small\n",
    "k_weights_small = (k_max_small - k_min_small) / 2 * x_weights_small\n",
    "\n",
    "krow_small, kcol_small = np.meshgrid(k_array_small, k_array_small)"
   ]
  },
  {
   "cell_type": "code",
   "execution_count": 9,
   "metadata": {},
   "outputs": [
    {
     "data": {
      "image/png": "[encoded data removed]",
      "text/plain": [
       "<Figure size 288x288 with 1 Axes>"
      ]
     },
     "metadata": {
      "needs_background": "light"
     },
     "output_type": "display_data"
    }
   ],
   "source": [
    "# --- Calculate p*cot(\\delta(E_i)) at eigen-energies E_i --- #\n",
    "\n",
    "\n",
    "# Relative kinetic energy in units MeV on small mesh\n",
    "T_matrix_MeV = hbar_sq_over_m * np.diag( k_array_small**2 )\n",
    "\n",
    "# Convert potential to MeV with these grids\n",
    "factor_array = np.sqrt( (2*k_weights_small)/np.pi ) * k_array_small # fm^-3/2\n",
    "frow, fcol = np.meshgrid(factor_array, factor_array)\n",
    "\n",
    "# Figure size\n",
    "width = 4\n",
    "height = 4\n",
    "figure_size = (width, height)\n",
    "    \n",
    "# x-axis limit\n",
    "xlim = [0.0, 250.0]\n",
    "        \n",
    "# Axes labels and fontsize\n",
    "x_label = r'$E_n$' + ' [MeV]'\n",
    "x_label_size = 18\n",
    "y_label = r'$p cot(\\delta)$' + ' [fm' + r'$^{-1}$' + ']'\n",
    "y_label_size = 20\n",
    "axes_tick_size = 14\n",
    "\n",
    "# Initialize figure\n",
    "plt.close('all')\n",
    "f, ax = plt.subplots(figsize=figure_size) \n",
    "\n",
    "# Loop over \\theta values\n",
    "for i, theta in enumerate(theta_array):\n",
    "    \n",
    "    V_matrix_small = V_func(krow_small, kcol_small) * theta\n",
    "    V_matrix_MeV_small = V_matrix_small * frow * fcol * hbar_sq_over_m # fm * fm-3 * MeV fm^2 = MeV\n",
    "\n",
    "    # Calculate Hamiltonian\n",
    "    H_matrix_MeV = T_matrix_MeV + V_matrix_MeV_small\n",
    "\n",
    "    # Get eigenvalues\n",
    "    eigenvalues, _ = la.eigh(H_matrix_MeV)\n",
    "\n",
    "    # Remove negative eigenvalues?\n",
    "    for eig in eigenvalues:\n",
    "        if eig < 0.0:\n",
    "            # Find the index of the eigenvalue\n",
    "            e_difference_array = np.fabs(eigenvalues - eig)\n",
    "            eig_index = e_difference_array.argmin()\n",
    "            eigenvalues = np.delete(eigenvalues, eig_index)\n",
    "    \n",
    "    # Now put V on a fine mesh\n",
    "    V_matrix_full = V_func(krow, kcol) * theta\n",
    "    \n",
    "    # Calculate phase shifts (eigenvalues must be entered in as lab frame)\n",
    "    delta_array = np.radians( phase_shifts(2*eigenvalues, V_matrix_full, k_array, k_weights) )\n",
    "    \n",
    "    # Correct shifts in \\pi (the phase shifts at low E_lab seem to be shifted by -180 degrees for \\theta=10)\n",
    "    if theta == 10.0:\n",
    "        for j, delta in enumerate(delta_array):\n",
    "            if delta < 0.0 and 2*eigenvalues[j] < 50.0:\n",
    "                delta_array[j] = delta + 180.0\n",
    "    \n",
    "    # Calculate p*cot(\\delta)\n",
    "    p_array = np.sqrt( eigenvalues / hbar_sq_over_m ) # fm^-1\n",
    "    pcot_array = p_array / np.tan(delta_array)\n",
    "    \n",
    "    # Curve color, styles, and labels\n",
    "    curve_label = r'$\\theta=%.2f$' % theta\n",
    "    \n",
    "    # Add curve to figure\n",
    "    ax.scatter(eigenvalues, pcot_array, label=curve_label, marker='.')\n",
    "    \n",
    "    # Add free energies as horizontal lines (cot(0)=\\infty)\n",
    "    free_energies, _ = la.eigh(T_matrix_MeV)\n",
    "    for eps in free_energies:\n",
    "        ax.axvline(x=eps, color='xkcd:gray', alpha=0.2)\n",
    "    \n",
    "# Specify x-axis limit\n",
    "ax.set_xlim(xlim)\n",
    "    \n",
    "# Set axes labels\n",
    "ax.set_xlabel(x_label, fontsize=x_label_size)\n",
    "ax.set_ylabel(y_label, fontsize=y_label_size)\n",
    "    \n",
    "# Enlarge axes tick marks\n",
    "ax.tick_params(labelsize=axes_tick_size)\n",
    "\n",
    "# Add legend for channel\n",
    "legend_size = 16\n",
    "legend_location = 'upper right'\n",
    "ax.legend(loc=legend_location, fontsize=legend_size)\n",
    "\n",
    "# Save figure\n",
    "file_name = 'ere_toy_potentials_%d_knodes_kmax%d.pdf' % (ntot_small, k_max_small)\n",
    "f.savefig(file_name, bbox_inches='tight')"
   ]
  },
  {
   "cell_type": "code",
   "execution_count": null,
   "metadata": {},
   "outputs": [],
   "source": []
  },
  {
   "cell_type": "code",
   "execution_count": null,
   "metadata": {
    "code_folding": []
   },
   "outputs": [],
   "source": []
  },
  {
   "cell_type": "code",
   "execution_count": null,
   "metadata": {
    "code_folding": []
   },
   "outputs": [],
   "source": []
  },
  {
   "cell_type": "code",
   "execution_count": null,
   "metadata": {
    "code_folding": []
   },
   "outputs": [],
   "source": []
  },
  {
   "cell_type": "code",
   "execution_count": null,
   "metadata": {},
   "outputs": [],
   "source": []
  }
 ],
 "metadata": {
  "kernelspec": {
   "display_name": "Python 3",
   "language": "python",
   "name": "python3"
  },
  "language_info": {
   "codemirror_mode": {
    "name": "ipython",
    "version": 3
   },
   "file_extension": ".py",
   "mimetype": "text/x-python",
   "name": "python",
   "nbconvert_exporter": "python",
   "pygments_lexer": "ipython3",
   "version": "3.7.4"
  }
 },
 "nbformat": 4,
 "nbformat_minor": 4
}

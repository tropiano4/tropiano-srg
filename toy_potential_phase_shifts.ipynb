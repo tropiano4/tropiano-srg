{
 "cells": [
  {
   "cell_type": "markdown",
   "metadata": {},
   "source": [
    "__File: toy_potential_phase_shifts.ipynb__\n",
    "\n",
    "__Author:   A. J. Tropiano (tropiano.4@osu.edu)__<br/>\n",
    "__Date:     Jun 17, 2020__\n",
    "\n",
    "This notebook looks at the effective range functions of various potentials evaluating the phase shifts at the eigen-energies."
   ]
  },
  {
   "cell_type": "code",
   "execution_count": 1,
   "metadata": {},
   "outputs": [],
   "source": [
    "from matplotlib.offsetbox import AnchoredText\n",
    "import matplotlib.pyplot as plt\n",
    "%matplotlib inline\n",
    "import numpy as np\n",
    "import numpy.linalg as la\n",
    "from numpy.polynomial.legendre import leggauss\n",
    "# Scripts made by A.T.\n",
    "import operators as op\n",
    "from Potentials.vsrg_macos import load_save_potentials as lsp"
   ]
  },
  {
   "cell_type": "code",
   "execution_count": 2,
   "metadata": {
    "code_folding": []
   },
   "outputs": [],
   "source": [
    "# Calculate phase shifts with the following function\n",
    "def phase_shifts(e_array, V_func, k_array, k_weights):\n",
    "    '''\n",
    "    Calculates NN phase shifts [deg] given array of energy values [MeV] (assumed to be in the lab frame). Input\n",
    "    V_matrix in units fm^-2.\n",
    "    '''\n",
    "        \n",
    "    N = len(k_array)\n",
    "    hbar_c = 197.32697 # MeV*fm\n",
    "    # Mass of nucleon in fm^-1\n",
    "    M = (938.272+939.565) / (2*hbar_c)\n",
    "        \n",
    "    l = len(e_array)\n",
    "    ps_array = np.zeros(l)\n",
    "    \n",
    "    V_matrix = np.zeros( (N+1, N+1) )\n",
    "    row, col = np.meshgrid(k_array, k_array)\n",
    "    V_matrix[:N, :N] = V_func(row, col)\n",
    "    \n",
    "    # Loop over energies\n",
    "    for i in range(l):\n",
    "        \n",
    "        ie = e_array[i] / hbar_c # fm^-1\n",
    "        \n",
    "        k0 = np.sqrt(ie*M/2.0) # Sqrt( E_lab/2 * M/(hbar c)^2 ) [fm^-1]\n",
    "\n",
    "        # Build u_j vector\n",
    "        k_vec = k_array\n",
    "        w_vec = k_weights\n",
    "        u_vec = 2.0/np.pi * ( w_vec*k_vec**2 ) / ( (k0**2-k_vec**2)/M )\n",
    "        # N+1 element of u_vec\n",
    "        u_last = -2.0/np.pi * np.sum( k0**2*w_vec / ( (k0**2-k_vec**2)/M ) )\n",
    "        u_vec = np.append(u_vec, u_last) # Length is N+1, units fm^-2\n",
    "        \n",
    "        # Append V(ki,k0),V(k0,kj),V(k0,k0) to V_ij\n",
    "        # V_matrix is hermitian\n",
    "        V_k0_vec = np.array( [ V_func(k_array[i], k0) for i in range(N) ] )\n",
    "        V_matrix[N, :N] = V_k0_vec\n",
    "        V_matrix[:N, N] = V_k0_vec\n",
    "        V_matrix[N, N] = V_func(k0, k0)\n",
    "        # V_matrix is N+1 x N+1, units fm^2\n",
    "        \n",
    "        # Build A matrix\n",
    "        A = np.diag( np.ones(N+1) ) - V_matrix * u_vec # N+1 x N+1, unitless\n",
    "         \n",
    "        # Calculate R matrix\n",
    "        R = la.inv(A) @ V_matrix # N+1 x N+1, units fm^2\n",
    "        \n",
    "        # Note: R[N,N] is the N+1,N+1 element of R\n",
    "        ps_array[i] = np.arctan( -M * k0 * R[N, N]) \n",
    "    \n",
    "    # Return phase shifts in [deg]\n",
    "    return ps_array * 180.0/np.pi"
   ]
  },
  {
   "cell_type": "markdown",
   "metadata": {},
   "source": [
    "__Details of toy NN potential__:\n",
    "\n",
    "Toy potential for proton-neutron scattering for the $^1$S$_0$ partial wave. Fit to experimental phase shifts and is given in coordinate space by $V(r)=V_a e^{-a x} / x + V_b e^{-b x} / x + V_c e^{-c x} / x$, where $x = \\mu r$, $\\mu = 0.7$ fm$^{−1}$ (the inverse of the pion mass), $V_a = −10.463$ MeV and $a=1$, $V_b =−1650.6$ MeV and $b=4$ and $V_c = 6484.3$ MeV and $c=7$. In momentum space, $V_{\\eta} e^{-\\eta x} / x \\rightarrow V_{\\eta} / (4 \\mu k k') log[( (\\mu \\eta)^2 + (k+k')^2 ) / ( (\\mu \\eta)^2 + (k-k')^2 ) ]$. We skip to this step in what follows."
   ]
  },
  {
   "cell_type": "code",
   "execution_count": 3,
   "metadata": {
    "code_folding": []
   },
   "outputs": [],
   "source": [
    "def V_func(k, kp):\n",
    "\n",
    "    # Parameters\n",
    "    mu = 0.7 # fm^-1\n",
    "    hbar_c = 197.32697 # MeV*fm\n",
    "    V_a = -10.463 / hbar_c # fm^-1\n",
    "    a = 1\n",
    "    V_b = -1650.6 / hbar_c # fm^-1\n",
    "    b = 4\n",
    "    V_c = 6484.3 / hbar_c # fm^-1\n",
    "    c = 7\n",
    "\n",
    "    # Get rows and columns of momentum values\n",
    "    row, col = np.meshgrid(k_array, k_array)\n",
    "\n",
    "    # Construct momentum-space potential in units fm^-2\n",
    "    return ( V_a * np.log( ( (mu*a)**2 + (k+kp)**2 ) / ( (mu*a)**2 + (k-kp)**2 ) ) + \\\n",
    "             V_b * np.log( ( (mu*b)**2 + (k+kp)**2 ) / ( (mu*b)**2 + (k-kp)**2 ) ) + \\\n",
    "             V_c * np.log( ( (mu*c)**2 + (k+kp)**2 ) / ( (mu*c)**2 + (k-kp)**2 ) ) ) / (4 * mu * k * kp)"
   ]
  },
  {
   "cell_type": "code",
   "execution_count": 4,
   "metadata": {},
   "outputs": [],
   "source": [
    "# Construct Gauss-Legendre quadrature momentum mesh (units are fm^-1)\n",
    "\n",
    "# Minimum momentum value\n",
    "k_min = 0.0\n",
    "# Maximum momentum value\n",
    "k_max = 30.0\n",
    "# Number of nodes\n",
    "ntot = 300\n",
    "x_array, k_weights = leggauss(ntot)\n",
    "# Convert from interval [-1, 1] to [k_min, k_max] (meaning x_array -> k_array)\n",
    "k_array = 0.5 * (x_array + 1) * (k_max - k_min) + k_min\n",
    "\n",
    "# k_max = 30.0\n",
    "# k_mid = 4.0\n",
    "# ntot = 120\n",
    "# k_array, k_weights = lsp.load_momentum(900, '3S1', k_max, k_mid, ntot)"
   ]
  },
  {
   "cell_type": "code",
   "execution_count": 5,
   "metadata": {},
   "outputs": [],
   "source": [
    "# Calculate relative kinetic energy\n",
    "\n",
    "# h-bar^2 / M [MeV fm^2]\n",
    "hbar_sq_over_M = 41.47\n",
    "# Relative kinetic energy in units MeV\n",
    "T_matrix = hbar_sq_over_M * np.diag( k_array**2 )"
   ]
  },
  {
   "cell_type": "code",
   "execution_count": 6,
   "metadata": {},
   "outputs": [],
   "source": [
    "# Construct potential as a matrix in units MeV\n",
    "\n",
    "# Rows and columns of momenta\n",
    "row, col = np.meshgrid(k_array, k_array)\n",
    "\n",
    "# Convert potential to units MeV\n",
    "factor_array = np.sqrt( (2*k_weights) / np.pi ) * k_array # fm^-3/2\n",
    "factor_row, factor_col = np.meshgrid(factor_array, factor_array)\n",
    "\n",
    "V_matrix = V_func(row, col) * factor_row * factor_col"
   ]
  },
  {
   "cell_type": "code",
   "execution_count": 7,
   "metadata": {
    "code_folding": [
     0
    ]
   },
   "outputs": [],
   "source": [
    "# # Obtain Hamiltonian in units MeV and calculate eigenenergies\n",
    "\n",
    "# # Add to T_rel to get Hamiltonian in units MeV\n",
    "# H_matrix = T_matrix + V_matrix\n",
    "\n",
    "# # Get eigenvalues\n",
    "# eigenvalues, eigenvectors = la.eigh(H_matrix)\n",
    "# print('--- Eigenenergies [MeV] ---')\n",
    "# for eig in eigenvalues:\n",
    "#     print('%.3f' % eig)"
   ]
  },
  {
   "cell_type": "code",
   "execution_count": 8,
   "metadata": {},
   "outputs": [],
   "source": [
    "# Calculate phase shifts of V(k,k') at eigenenergies\n",
    "# Function takes E_lab as argument -> multiply eigenenergies by 2 (then it will evaluate at E_lab = 2*E_i which\n",
    "# gives E_CoM = E_i)\n",
    "\n",
    "V_fnc = lambda k, kp: V_func(k, kp)\n",
    "\n",
    "e_array = np.concatenate( (np.arange(0.1, 1.0, 0.1), np.arange(1.0, 100.0, 1.0)) )\n",
    "delta_array = phase_shifts(e_array, V_fnc, k_array, k_weights)\n",
    "# delta_array_alt = phase_shifts(e_array, V_matrix_alt, k_array_alt, k_weights_alt)\n",
    "#delta_array = phase_shifts(2*eigenvalues, V_matrix / hbar_sq_over_M, k_array, k_weights)\n",
    "\n",
    "# # Manually correct shifts in \\pi\n",
    "# for i, delta in enumerate(delta_array):\n",
    "#     if eigenvalues[i] < 1000.0 and delta < 0.0:\n",
    "#         delta_array[i] = delta + 180.0\n",
    "\n",
    "# You will run into a problem where k0 = np.sqrt( E / hbar_sq_over_M ) > k_max of mesh\n",
    "# This gives a RuntimeWarning because the log function has a negative value - get rid of the NaN\n",
    "\n",
    "# e_array = np.zeros(ntot)\n",
    "# for i in range(ntot):\n",
    "#     if np.isnan(delta_array[i]):\n",
    "#         e_array = np.delete(eigenvalues, i)\n",
    "#         delta_array = np.delete(delta_array, i)\n",
    "#     else:\n",
    "#         e_array = eigenvalues[i]"
   ]
  },
  {
   "cell_type": "code",
   "execution_count": 9,
   "metadata": {},
   "outputs": [
    {
     "data": {
      "image/png": "[encoded data removed]",
      "text/plain": [
       "<Figure size 288x288 with 1 Axes>"
      ]
     },
     "metadata": {
      "needs_background": "light"
     },
     "output_type": "display_data"
    }
   ],
   "source": [
    "# Plot phase shifts\n",
    "\n",
    "# Figure size\n",
    "width = 4\n",
    "height = 4\n",
    "figure_size = (width, height)\n",
    "    \n",
    "# x-axis limit\n",
    "#xlim = [0.0, max(eigenvalues)]\n",
    "        \n",
    "# Axes labels and fontsize\n",
    "#x_label = r'$E_n$' + ' [MeV]'\n",
    "x_label = r'$E_{\\rm lab}$' + ' [MeV]'\n",
    "x_label_size = 18\n",
    "y_label = r'$\\delta$' + ' [deg]'\n",
    "y_label_size = 20\n",
    "axes_tick_size = 14\n",
    "    \n",
    "# Curve width\n",
    "curve_width = 2.0\n",
    "\n",
    "# Curve color, styles, and labels\n",
    "curve_color = 'xkcd:black'\n",
    "curve_label = r'$^1$' + 'S' + r'$_0$'\n",
    "\n",
    "# Initialize figure\n",
    "plt.close('all')\n",
    "f, ax = plt.subplots(figsize=figure_size) \n",
    "        \n",
    "# Add curve to figure\n",
    "ax.plot(e_array, delta_array, color=curve_color, label=curve_label, linewidth=curve_width)\n",
    "\n",
    "# Specify x-axis limit\n",
    "#ax.set_xlim(xlim)\n",
    "    \n",
    "# Set axes labels\n",
    "ax.set_xlabel(x_label, fontsize=x_label_size)\n",
    "ax.set_ylabel(y_label, fontsize=y_label_size)\n",
    "    \n",
    "# Enlarge axes tick marks\n",
    "ax.tick_params(labelsize=axes_tick_size)\n",
    "\n",
    "# Add legend for channel\n",
    "legend_size = 20\n",
    "legend_location = 'upper right'\n",
    "ax.legend(loc=legend_location, frameon=False, fontsize=legend_size)\n",
    "\n",
    "# Save figure\n",
    "file_name = 'phase_shifts_toy_potential_%d_knodes_kmax%d.pdf' % (ntot, k_max)\n",
    "f.savefig(file_name, bbox_inches='tight')"
   ]
  },
  {
   "cell_type": "code",
   "execution_count": 10,
   "metadata": {
    "code_folding": [
     0
    ]
   },
   "outputs": [],
   "source": [
    "# Calculate p*cot(\\delta)\n",
    "\n",
    "# p_array = np.sqrt(e_array / hbar_sq_over_M)\n",
    "# pcot_array = p_array / np.tan(delta_array)\n",
    "# print(pcot_array)"
   ]
  },
  {
   "cell_type": "code",
   "execution_count": 11,
   "metadata": {
    "code_folding": [
     0
    ]
   },
   "outputs": [],
   "source": [
    "# # Plot p*cot(\\delta)\n",
    "\n",
    "# # Figure size\n",
    "# width = 4\n",
    "# height = 4\n",
    "# figure_size = (width, height)\n",
    "    \n",
    "# # x-axis limit\n",
    "# xlim = [0.0, max(eigenvalues)]\n",
    "        \n",
    "# # Axes labels and fontsize\n",
    "# x_label = r'$E_n$' + ' [MeV]'\n",
    "# x_label_size = 18\n",
    "# y_label = r'$\\delta$' + ' [deg]'\n",
    "# y_label_size = 20\n",
    "# axes_tick_size = 14\n",
    "    \n",
    "# # Curve width\n",
    "# curve_width = 2.0\n",
    "\n",
    "# # Curve color, styles, and labels\n",
    "# curve_color = 'xkcd:black'\n",
    "# curve_label = r'$^1$' + 'S' + r'$_0$'\n",
    "\n",
    "# # Initialize figure\n",
    "# plt.close('all')\n",
    "# f, ax = plt.subplots(figsize=figure_size) \n",
    "        \n",
    "# # Add curve to figure\n",
    "# ax.scatter(e_array, delta_array, color=curve_color, label=curve_label, linewidth=curve_width)\n",
    "\n",
    "# # Specify x-axis limit\n",
    "# ax.set_xlim(xlim)\n",
    "    \n",
    "# # Set axes labels\n",
    "# ax.set_xlabel(x_label, fontsize=x_label_size)\n",
    "# ax.set_ylabel(y_label, fontsize=y_label_size)\n",
    "    \n",
    "# # Enlarge axes tick marks\n",
    "# ax.tick_params(labelsize=axes_tick_size)\n",
    "\n",
    "# # Add legend for channel\n",
    "# legend_size = 20\n",
    "# legend_location = 'lower right'\n",
    "# ax.legend(loc=legend_location, frameon=False, fontsize=legend_size)"
   ]
  },
  {
   "cell_type": "code",
   "execution_count": 12,
   "metadata": {},
   "outputs": [],
   "source": [
    "# Elab = 10 MeV,  delta = 57.47"
   ]
  },
  {
   "cell_type": "code",
   "execution_count": 13,
   "metadata": {},
   "outputs": [],
   "source": [
    "class phase_shifts(object):\n",
    "    \n",
    "    def __init__(self):\n",
    "        '''Define constants, load momentum and weights, and calculate V_ij'''\n",
    "        \n",
    "        # h-bar*c for conv. purposes\n",
    "        self.hc = 197.32697 # MeV*fm\n",
    "        # Mass of nucleon in fm^-1\n",
    "        self.m = (938.272+939.565)/2.0/self.hc\n",
    "        \n",
    "        # Load momentum, gp, and Gaussian weights, gw\n",
    "        gp, gw = lsp.load_momentum(900, '3S1')\n",
    "        self.gp = gp\n",
    "        self.gw = gw\n",
    "        \n",
    "        # Build V_ij mesh\n",
    "        N = len(gp)\n",
    "        self.dim = N\n",
    "        V_matrix = np.zeros([N+1,N+1])\n",
    "        \n",
    "        for i in range(N):\n",
    "            for j in range(N):\n",
    "                V_matrix[i,j] = self.V(gp[i],gp[j])\n",
    "        \n",
    "        self.V_matrix = V_matrix\n",
    "        \n",
    "    def V(self,k,kp):\n",
    "        '''Arguments are momenta k and k-prime (kp) in units of fm^-1'''\n",
    "    \n",
    "        # Units fm^-1\n",
    "        mu = 0.7 # Inverse of the pion mass\n",
    "        V_a = -10.463/self.hc\n",
    "        V_b = -1650.6/self.hc\n",
    "        V_c = 6484.3/self.hc\n",
    "        # Unitless\n",
    "        a = 1.0\n",
    "        b = 4.0\n",
    "        c = 7.0\n",
    "    \n",
    "        # Returns V(k,kp) in units fm^2\n",
    "        return 1.0/(4.0*mu*k*kp) * ( \\\n",
    "               V_a*np.log( ( (mu*a)**2+(k+kp)**2 ) / ( (mu*a)**2+(k-kp)**2 ) ) + \\\n",
    "               V_b*np.log( ( (mu*b)**2+(k+kp)**2 ) / ( (mu*b)**2+(k-kp)**2 ) ) + \\\n",
    "               V_c*np.log( ( (mu*c)**2+(k+kp)**2 ) / ( (mu*c)**2+(k-kp)**2 ) ) )  \n",
    "        \n",
    "    def delta(self,e):\n",
    "        '''Returns phase shift delta as a function of lab energy, e [MeV]'''\n",
    "        \n",
    "        N = self.dim\n",
    "        m = self.m # fm^-1\n",
    "        \n",
    "        e /= self.hc # Convert energy to fm^-1\n",
    "        k0 = np.sqrt(e*m/2.0) # fm^-1\n",
    "        \n",
    "        # Build u_j vector\n",
    "        k_vec = self.gp\n",
    "        w_vec = self.gw\n",
    "        u_vec = 2.0/np.pi * ( w_vec*k_vec**2 ) / ( (k0**2-k_vec**2)/m )\n",
    "        # N+1 element of u_vec\n",
    "        u_last = -2.0/np.pi*np.sum( k0**2*w_vec/ ( (k0**2-k_vec**2)/m ) )\n",
    "        u_vec = np.append(u_vec,u_last) # Length is N+1, units fm^-2\n",
    "        \n",
    "        # Append V(ki,k0),V(k0,kj),V(k0,k0) to V_ij\n",
    "        V_matrix = self.V_matrix\n",
    "        # V_matrix is hermitian\n",
    "        V_k0_vec = np.array([self.V(self.gp[i],k0) for i in range(N)])\n",
    "        V_matrix[N,:N] = V_k0_vec\n",
    "        V_matrix[:N,N] = V_k0_vec\n",
    "        V_matrix[N,N] = self.V(k0,k0)\n",
    "        # V_matrix is N+1 x N+1, units fm^2\n",
    "        \n",
    "        # Build A matrix\n",
    "        A = np.diag(np.ones(N+1))-V_matrix*u_vec # N+1 x N+1, unitless\n",
    "        \n",
    "        # Calculate R matrix\n",
    "        R = np.dot(la.inv(A),V_matrix) # N+1 x N+1, units fm^2\n",
    "        \n",
    "        # Return phase shift, delta, in degrees\n",
    "        # Note: R[N,N] is the N+1,N+1 element of R\n",
    "        return np.arctan(-m*k0*R[N,N])*180.0/np.pi"
   ]
  },
  {
   "cell_type": "code",
   "execution_count": 14,
   "metadata": {},
   "outputs": [
    {
     "data": {
      "image/png": "[encoded data removed]",
      "text/plain": [
       "<Figure size 432x288 with 1 Axes>"
      ]
     },
     "metadata": {
      "needs_background": "light"
     },
     "output_type": "display_data"
    }
   ],
   "source": [
    "e_array = np.append(np.linspace(0.1,5.0,10),np.linspace(5.5,100.0,90))\n",
    "ps = phase_shifts()\n",
    "p_array = np.array([ps.delta(ie) for ie in e_array])\n",
    "    \n",
    "plt.plot(e_array,p_array)\n",
    "plt.xlabel(r'$E_{lab}$ [MeV]')\n",
    "plt.ylabel(r'$\\delta$ [deg]')\n",
    "plt.show()"
   ]
  },
  {
   "cell_type": "code",
   "execution_count": null,
   "metadata": {},
   "outputs": [],
   "source": []
  },
  {
   "cell_type": "code",
   "execution_count": null,
   "metadata": {},
   "outputs": [],
   "source": []
  }
 ],
 "metadata": {
  "kernelspec": {
   "display_name": "Python 3",
   "language": "python",
   "name": "python3"
  },
  "language_info": {
   "codemirror_mode": {
    "name": "ipython",
    "version": 3
   },
   "file_extension": ".py",
   "mimetype": "text/x-python",
   "name": "python",
   "nbconvert_exporter": "python",
   "pygments_lexer": "ipython3",
   "version": "3.7.4"
  }
 },
 "nbformat": 4,
 "nbformat_minor": 4
}
